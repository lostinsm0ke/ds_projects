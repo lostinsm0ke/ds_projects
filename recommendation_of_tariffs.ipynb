{
 "cells": [
  {
   "cell_type": "markdown",
   "metadata": {},
   "source": [
    "# Рекомендация тарифов"
   ]
  },
  {
   "cell_type": "markdown",
   "metadata": {},
   "source": [
    "В вашем распоряжении данные о поведении клиентов, которые уже перешли на эти тарифы (из проекта курса «Статистический анализ данных»). Нужно построить модель для задачи классификации, которая выберет подходящий тариф. Предобработка данных не понадобится — вы её уже сделали.\n",
    "\n",
    "Постройте модель с максимально большим значением *accuracy*. Чтобы сдать проект успешно, нужно довести долю правильных ответов по крайней мере до 0.75. Проверьте *accuracy* на тестовой выборке самостоятельно."
   ]
  },
  {
   "cell_type": "markdown",
   "metadata": {},
   "source": [
    "## Откройте и изучите файл"
   ]
  },
  {
   "cell_type": "markdown",
   "metadata": {},
   "source": [
    "Импортируем все необходимые библиотеки для работы"
   ]
  },
  {
   "cell_type": "code",
   "execution_count": 1,
   "metadata": {},
   "outputs": [],
   "source": [
    "import pandas as pd\n",
    "import seaborn as sns\n",
    "import matplotlib.pyplot as plt\n",
    "import numpy as np\n",
    "from sklearn.model_selection import train_test_split\n",
    "from sklearn.tree import DecisionTreeClassifier\n",
    "from sklearn.ensemble import RandomForestClassifier\n",
    "from sklearn.linear_model import LogisticRegression\n",
    "from sklearn.metrics import accuracy_score"
   ]
  },
  {
   "cell_type": "markdown",
   "metadata": {},
   "source": [
    "Откроем и изучим датасет"
   ]
  },
  {
   "cell_type": "code",
   "execution_count": 2,
   "metadata": {},
   "outputs": [],
   "source": [
    "df = pd.read_csv(\"/datasets/users_behavior.csv\")"
   ]
  },
  {
   "cell_type": "code",
   "execution_count": 3,
   "metadata": {},
   "outputs": [
    {
     "name": "stdout",
     "output_type": "stream",
     "text": [
      "<class 'pandas.core.frame.DataFrame'>\n",
      "RangeIndex: 3214 entries, 0 to 3213\n",
      "Data columns (total 5 columns):\n",
      " #   Column    Non-Null Count  Dtype  \n",
      "---  ------    --------------  -----  \n",
      " 0   calls     3214 non-null   float64\n",
      " 1   minutes   3214 non-null   float64\n",
      " 2   messages  3214 non-null   float64\n",
      " 3   mb_used   3214 non-null   float64\n",
      " 4   is_ultra  3214 non-null   int64  \n",
      "dtypes: float64(4), int64(1)\n",
      "memory usage: 125.7 KB\n"
     ]
    }
   ],
   "source": [
    "df.info()"
   ]
  },
  {
   "cell_type": "code",
   "execution_count": 4,
   "metadata": {},
   "outputs": [
    {
     "data": {
      "text/html": [
       "<div>\n",
       "<style scoped>\n",
       "    .dataframe tbody tr th:only-of-type {\n",
       "        vertical-align: middle;\n",
       "    }\n",
       "\n",
       "    .dataframe tbody tr th {\n",
       "        vertical-align: top;\n",
       "    }\n",
       "\n",
       "    .dataframe thead th {\n",
       "        text-align: right;\n",
       "    }\n",
       "</style>\n",
       "<table border=\"1\" class=\"dataframe\">\n",
       "  <thead>\n",
       "    <tr style=\"text-align: right;\">\n",
       "      <th></th>\n",
       "      <th>calls</th>\n",
       "      <th>minutes</th>\n",
       "      <th>messages</th>\n",
       "      <th>mb_used</th>\n",
       "      <th>is_ultra</th>\n",
       "    </tr>\n",
       "  </thead>\n",
       "  <tbody>\n",
       "    <tr>\n",
       "      <th>0</th>\n",
       "      <td>40.0</td>\n",
       "      <td>311.90</td>\n",
       "      <td>83.0</td>\n",
       "      <td>19915.42</td>\n",
       "      <td>0</td>\n",
       "    </tr>\n",
       "    <tr>\n",
       "      <th>1</th>\n",
       "      <td>85.0</td>\n",
       "      <td>516.75</td>\n",
       "      <td>56.0</td>\n",
       "      <td>22696.96</td>\n",
       "      <td>0</td>\n",
       "    </tr>\n",
       "    <tr>\n",
       "      <th>2</th>\n",
       "      <td>77.0</td>\n",
       "      <td>467.66</td>\n",
       "      <td>86.0</td>\n",
       "      <td>21060.45</td>\n",
       "      <td>0</td>\n",
       "    </tr>\n",
       "    <tr>\n",
       "      <th>3</th>\n",
       "      <td>106.0</td>\n",
       "      <td>745.53</td>\n",
       "      <td>81.0</td>\n",
       "      <td>8437.39</td>\n",
       "      <td>1</td>\n",
       "    </tr>\n",
       "    <tr>\n",
       "      <th>4</th>\n",
       "      <td>66.0</td>\n",
       "      <td>418.74</td>\n",
       "      <td>1.0</td>\n",
       "      <td>14502.75</td>\n",
       "      <td>0</td>\n",
       "    </tr>\n",
       "    <tr>\n",
       "      <th>5</th>\n",
       "      <td>58.0</td>\n",
       "      <td>344.56</td>\n",
       "      <td>21.0</td>\n",
       "      <td>15823.37</td>\n",
       "      <td>0</td>\n",
       "    </tr>\n",
       "    <tr>\n",
       "      <th>6</th>\n",
       "      <td>57.0</td>\n",
       "      <td>431.64</td>\n",
       "      <td>20.0</td>\n",
       "      <td>3738.90</td>\n",
       "      <td>1</td>\n",
       "    </tr>\n",
       "    <tr>\n",
       "      <th>7</th>\n",
       "      <td>15.0</td>\n",
       "      <td>132.40</td>\n",
       "      <td>6.0</td>\n",
       "      <td>21911.60</td>\n",
       "      <td>0</td>\n",
       "    </tr>\n",
       "    <tr>\n",
       "      <th>8</th>\n",
       "      <td>7.0</td>\n",
       "      <td>43.39</td>\n",
       "      <td>3.0</td>\n",
       "      <td>2538.67</td>\n",
       "      <td>1</td>\n",
       "    </tr>\n",
       "    <tr>\n",
       "      <th>9</th>\n",
       "      <td>90.0</td>\n",
       "      <td>665.41</td>\n",
       "      <td>38.0</td>\n",
       "      <td>17358.61</td>\n",
       "      <td>0</td>\n",
       "    </tr>\n",
       "  </tbody>\n",
       "</table>\n",
       "</div>"
      ],
      "text/plain": [
       "   calls  minutes  messages   mb_used  is_ultra\n",
       "0   40.0   311.90      83.0  19915.42         0\n",
       "1   85.0   516.75      56.0  22696.96         0\n",
       "2   77.0   467.66      86.0  21060.45         0\n",
       "3  106.0   745.53      81.0   8437.39         1\n",
       "4   66.0   418.74       1.0  14502.75         0\n",
       "5   58.0   344.56      21.0  15823.37         0\n",
       "6   57.0   431.64      20.0   3738.90         1\n",
       "7   15.0   132.40       6.0  21911.60         0\n",
       "8    7.0    43.39       3.0   2538.67         1\n",
       "9   90.0   665.41      38.0  17358.61         0"
      ]
     },
     "execution_count": 4,
     "metadata": {},
     "output_type": "execute_result"
    }
   ],
   "source": [
    "df.head(10)"
   ]
  },
  {
   "cell_type": "markdown",
   "metadata": {},
   "source": [
    "Посмотрели на датасет ещё раз - предобработка действительно сделана."
   ]
  },
  {
   "cell_type": "markdown",
   "metadata": {},
   "source": [
    "## Разбейте данные на выборки"
   ]
  },
  {
   "cell_type": "markdown",
   "metadata": {},
   "source": [
    "Зададим *test_size = 0.25* и *random_state = 12345*"
   ]
  },
  {
   "cell_type": "code",
   "execution_count": 5,
   "metadata": {},
   "outputs": [],
   "source": [
    "df_train, df_test_valid = train_test_split(df, test_size=0.25, random_state=12345)"
   ]
  },
  {
   "cell_type": "code",
   "execution_count": 6,
   "metadata": {},
   "outputs": [],
   "source": [
    "df_test, df_valid = train_test_split(df_test_valid, test_size=0.1, random_state=12345)"
   ]
  },
  {
   "cell_type": "markdown",
   "metadata": {},
   "source": [
    "Разделим тренировочный датасет на фичи и таргеты"
   ]
  },
  {
   "cell_type": "code",
   "execution_count": 7,
   "metadata": {},
   "outputs": [],
   "source": [
    "features_train = df_train.drop('is_ultra', axis=1)\n",
    "target_train = df_train['is_ultra']"
   ]
  },
  {
   "cell_type": "markdown",
   "metadata": {},
   "source": [
    "Разделим валидационный датасет на фичи и таргеты"
   ]
  },
  {
   "cell_type": "code",
   "execution_count": 8,
   "metadata": {},
   "outputs": [],
   "source": [
    "features_valid = df_valid.drop('is_ultra', axis=1)\n",
    "target_valid = df_valid['is_ultra']"
   ]
  },
  {
   "cell_type": "markdown",
   "metadata": {},
   "source": [
    "Разделим тестовый датасет на фичи и таргеты"
   ]
  },
  {
   "cell_type": "code",
   "execution_count": 9,
   "metadata": {},
   "outputs": [],
   "source": [
    "features_test = df_test.drop('is_ultra', axis=1)\n",
    "target_test = df_test['is_ultra']"
   ]
  },
  {
   "cell_type": "markdown",
   "metadata": {},
   "source": [
    "## Исследуйте модели"
   ]
  },
  {
   "cell_type": "markdown",
   "metadata": {},
   "source": [
    "Первым делом изучим модель *Decision Tree* с гиперпараметрами *random_state = 12345* и *max_depth = 1...5*"
   ]
  },
  {
   "cell_type": "code",
   "execution_count": 10,
   "metadata": {},
   "outputs": [
    {
     "name": "stdout",
     "output_type": "stream",
     "text": [
      "Accuracy of 1 model is: 0.7654320987654321\n",
      "Accuracy of 2 model is: 0.7777777777777778\n",
      "Accuracy of 3 model is: 0.7777777777777778\n",
      "Accuracy of 4 model is: 0.7901234567901234\n",
      "Accuracy of 5 model is: 0.7901234567901234\n",
      "Best score is: 0.7901234567901234 for best model tree: DecisionTreeClassifier(max_depth=4, random_state=12345)\n"
     ]
    }
   ],
   "source": [
    "best_score = 0\n",
    "scores = []\n",
    "for depth in range(1, 6):\n",
    "    model_tree = DecisionTreeClassifier(random_state=12345, max_depth=depth)\n",
    "    model_tree.fit(features_train, target_train)\n",
    "    predictions = model_tree.predict(features_valid)\n",
    "    accuracy = accuracy_score(target_valid, predictions)\n",
    "    if accuracy > best_score:\n",
    "        best_score = accuracy\n",
    "        best_model_tree = model_tree\n",
    "    print(f\"Accuracy of {depth} model is:\", accuracy)\n",
    "print(\"Best score is:\", best_score, \"for best model tree:\", best_model_tree)"
   ]
  },
  {
   "cell_type": "markdown",
   "metadata": {},
   "source": [
    "**Вывод:** по результатам обучения, заметим, что модель решающего дерева показывает лучший *accuracy = 0.7901234567901234*. То есть наилучший результат мы можем достичь при заданных выборках с глубиной дерева равной 3."
   ]
  },
  {
   "cell_type": "markdown",
   "metadata": {},
   "source": [
    "Далее изучим работу *Random Forest* с гиперпараметрами *random_state = 4* и *n_estimators=3*"
   ]
  },
  {
   "cell_type": "code",
   "execution_count": 12,
   "metadata": {},
   "outputs": [
    {
     "name": "stdout",
     "output_type": "stream",
     "text": [
      "Accuracy of 1 model is: 0.7037037037037037\n",
      "Accuracy of 2 model is: 0.7777777777777778\n",
      "Accuracy of 3 model is: 0.7283950617283951\n",
      "Accuracy of 4 model is: 0.7777777777777778\n",
      "Accuracy of 5 model is: 0.7654320987654321\n",
      "Accuracy of 6 model is: 0.8148148148148148\n",
      "Accuracy of 7 model is: 0.8148148148148148\n",
      "Accuracy of 8 model is: 0.8395061728395061\n",
      "Accuracy of 9 model is: 0.8148148148148148\n",
      "Best score is: 0.8395061728395061 for best model forest: DecisionTreeClassifier(max_depth=4, random_state=12345)\n"
     ]
    }
   ],
   "source": [
    "best_score = 0\n",
    "for i in range(1, 10):\n",
    "    model_forest = RandomForestClassifier(random_state=4, n_estimators=i)\n",
    "    model_forest.fit(features_train, target_train)\n",
    "    predictions = model_forest.predict(features_valid)\n",
    "    accuracy = accuracy_score(target_valid, predictions)\n",
    "    print(f\"Accuracy of {i} model is:\", accuracy)\n",
    "    if accuracy > best_score:\n",
    "        best_score = accuracy\n",
    "        best_model_forest = model_forest\n",
    "print(\"Best score is:\", best_score, \"for best model forest:\", best_model_tree)"
   ]
  },
  {
   "cell_type": "markdown",
   "metadata": {},
   "source": [
    "**Вывод:** по результатам обучения, заметим, что модель случайного леса показывает лучший *accuracy = 0.8395061728395061*. То есть наилучший результат мы можем достичь при заданных выборках с количеством деревьев равными 4 и 6."
   ]
  },
  {
   "cell_type": "markdown",
   "metadata": {},
   "source": [
    "Проверим качество модели LogisticRegression с установленным гиперпараметром *random_state = 12345*"
   ]
  },
  {
   "cell_type": "code",
   "execution_count": 13,
   "metadata": {},
   "outputs": [
    {
     "name": "stdout",
     "output_type": "stream",
     "text": [
      "Accuracy of our model is: 0.7283950617283951\n",
      "Best score is: 0.7283950617283951 for best model logistic: DecisionTreeClassifier(max_depth=4, random_state=12345)\n"
     ]
    }
   ],
   "source": [
    "best_score = 0\n",
    "model_logistic = LogisticRegression(random_state=12345)\n",
    "model_logistic.fit(features_train, target_train)\n",
    "predictions = model_logistic.predict(features_valid)\n",
    "accuracy = accuracy_score(target_valid, predictions)\n",
    "print(f\"Accuracy of our model is:\", accuracy)\n",
    "if accuracy > best_score:\n",
    "        best_score = accuracy\n",
    "        best_model_logistic = model_logistic\n",
    "print(\"Best score is:\", best_score, \"for best model logistic:\", best_model_tree)"
   ]
  },
  {
   "cell_type": "markdown",
   "metadata": {},
   "source": [
    "**Вывод:** по результатам обучения, заметим, что модель случайного леса показывает лучший *accuracy = 0.7080745341614907*. То есть наилучший результат мы можем достичь при заданных выборках. "
   ]
  },
  {
   "cell_type": "markdown",
   "metadata": {},
   "source": [
    "## Проверьте модель на тестовой выборке"
   ]
  },
  {
   "cell_type": "markdown",
   "metadata": {},
   "source": [
    "Проверим *accuracy* дерева решений на тестовой выборке"
   ]
  },
  {
   "cell_type": "code",
   "execution_count": 14,
   "metadata": {},
   "outputs": [
    {
     "name": "stdout",
     "output_type": "stream",
     "text": [
      "Accuracy of our model is: 0.7800829875518672\n"
     ]
    }
   ],
   "source": [
    "predictions = best_model_tree.predict(features_test)\n",
    "accuracy = accuracy_score(target_test, predictions)\n",
    "print(\"Accuracy of our model is:\", accuracy)"
   ]
  },
  {
   "cell_type": "markdown",
   "metadata": {},
   "source": [
    "Проверим *accuracy* случайного леса на тестовой выборке"
   ]
  },
  {
   "cell_type": "code",
   "execution_count": 15,
   "metadata": {},
   "outputs": [
    {
     "name": "stdout",
     "output_type": "stream",
     "text": [
      "Accuracy of our model is: 0.7939142461964038\n"
     ]
    }
   ],
   "source": [
    "predictions = best_model_forest.predict(features_test)\n",
    "accuracy = accuracy_score(target_test, predictions)\n",
    "print(\"Accuracy of our model is:\", accuracy)"
   ]
  },
  {
   "cell_type": "markdown",
   "metadata": {},
   "source": [
    "Проверим *accuracy* логистической регресии на тестовой выборке"
   ]
  },
  {
   "cell_type": "code",
   "execution_count": 16,
   "metadata": {},
   "outputs": [
    {
     "name": "stdout",
     "output_type": "stream",
     "text": [
      "Accuracy of our model is: 0.7012448132780082\n"
     ]
    }
   ],
   "source": [
    "predictions = best_model_logistic.predict(features_test)\n",
    "accuracy = accuracy_score(target_test, predictions)\n",
    "print(\"Accuracy of our model is:\", accuracy)"
   ]
  },
  {
   "cell_type": "markdown",
   "metadata": {},
   "source": [
    "**Вывод:** Проверил качество моделей метрикой *accuracy*. Наилучший результат показал случайный лес. Далее шло дерево решений и устпающая моделька двум первым - логистическая регрессия."
   ]
  },
  {
   "cell_type": "markdown",
   "metadata": {},
   "source": [
    "## Чек-лист готовности проекта"
   ]
  },
  {
   "cell_type": "markdown",
   "metadata": {},
   "source": [
    "Поставьте 'x' в выполненных пунктах. Далее нажмите Shift+Enter."
   ]
  },
  {
   "cell_type": "markdown",
   "metadata": {},
   "source": [
    "- [x] Jupyter Notebook открыт\n",
    "- [x] Весь код исполняется без ошибок\n",
    "- [x] Ячейки с кодом расположены в порядке исполнения\n",
    "- [x] Выполнено задание 1: данные загружены и изучены\n",
    "- [x] Выполнено задание 2: данные разбиты на три выборки\n",
    "- [x] Выполнено задание 3: проведено исследование моделей\n",
    "    - [x] Рассмотрено больше одной модели\n",
    "    - [x] Рассмотрено хотя бы 3 значения гипепараметров для какой-нибудь модели\n",
    "    - [x] Написаны выводы по результатам исследования\n",
    "- [x] Выполнено задание 3: Проведено тестирование\n",
    "- [x] Удалось достичь accuracy не меньше 0.75\n"
   ]
  }
 ],
 "metadata": {
  "ExecuteTimeLog": [
   {
    "duration": 56,
    "start_time": "2022-12-01T16:50:30.787Z"
   },
   {
    "duration": 7,
    "start_time": "2022-12-01T16:50:43.092Z"
   },
   {
    "duration": 7,
    "start_time": "2022-12-01T16:50:46.683Z"
   },
   {
    "duration": 1286,
    "start_time": "2022-12-01T16:51:41.803Z"
   },
   {
    "duration": 64,
    "start_time": "2022-12-01T16:51:44.421Z"
   },
   {
    "duration": 121,
    "start_time": "2022-12-01T16:51:52.612Z"
   },
   {
    "duration": 3,
    "start_time": "2022-12-01T16:52:18.996Z"
   },
   {
    "duration": 28,
    "start_time": "2022-12-01T16:52:40.831Z"
   },
   {
    "duration": 13,
    "start_time": "2022-12-01T16:52:53.201Z"
   },
   {
    "duration": 195,
    "start_time": "2022-12-01T16:55:03.977Z"
   },
   {
    "duration": 29,
    "start_time": "2022-12-01T16:55:05.442Z"
   },
   {
    "duration": 11,
    "start_time": "2022-12-01T16:55:06.305Z"
   },
   {
    "duration": 16,
    "start_time": "2022-12-01T16:55:15.143Z"
   },
   {
    "duration": 20,
    "start_time": "2022-12-01T16:55:58.303Z"
   },
   {
    "duration": 18,
    "start_time": "2022-12-01T16:56:18.559Z"
   },
   {
    "duration": 10,
    "start_time": "2022-12-01T16:56:32.133Z"
   },
   {
    "duration": 8,
    "start_time": "2022-12-01T16:57:45.671Z"
   },
   {
    "duration": 8,
    "start_time": "2022-12-01T16:57:49.861Z"
   },
   {
    "duration": 54,
    "start_time": "2022-12-01T17:00:44.610Z"
   },
   {
    "duration": 3,
    "start_time": "2022-12-01T17:01:30.076Z"
   },
   {
    "duration": 31,
    "start_time": "2022-12-01T17:01:32.771Z"
   },
   {
    "duration": 13,
    "start_time": "2022-12-01T17:01:32.952Z"
   },
   {
    "duration": 10,
    "start_time": "2022-12-01T17:01:33.546Z"
   },
   {
    "duration": 15,
    "start_time": "2022-12-01T17:08:42.759Z"
   },
   {
    "duration": 42,
    "start_time": "2022-12-01T17:08:55.425Z"
   },
   {
    "duration": 13,
    "start_time": "2022-12-01T17:08:55.806Z"
   },
   {
    "duration": 14,
    "start_time": "2022-12-01T17:09:02.054Z"
   },
   {
    "duration": 4,
    "start_time": "2022-12-01T17:09:05.748Z"
   },
   {
    "duration": 3,
    "start_time": "2022-12-01T17:10:51.947Z"
   },
   {
    "duration": 27,
    "start_time": "2022-12-01T17:10:54.348Z"
   },
   {
    "duration": 14,
    "start_time": "2022-12-01T17:10:54.516Z"
   },
   {
    "duration": 10,
    "start_time": "2022-12-01T17:10:54.684Z"
   },
   {
    "duration": 4,
    "start_time": "2022-12-01T17:11:12.007Z"
   },
   {
    "duration": 3,
    "start_time": "2022-12-01T17:11:25.015Z"
   },
   {
    "duration": 6,
    "start_time": "2022-12-01T17:12:51.513Z"
   },
   {
    "duration": 3,
    "start_time": "2022-12-01T17:12:56.879Z"
   },
   {
    "duration": 18,
    "start_time": "2022-12-01T17:13:06.779Z"
   },
   {
    "duration": 7,
    "start_time": "2022-12-01T17:13:38.276Z"
   },
   {
    "duration": 3,
    "start_time": "2022-12-01T17:14:30.536Z"
   },
   {
    "duration": 4,
    "start_time": "2022-12-01T17:15:23.351Z"
   },
   {
    "duration": 5,
    "start_time": "2022-12-01T17:15:33.262Z"
   },
   {
    "duration": 5,
    "start_time": "2022-12-01T17:15:43.558Z"
   },
   {
    "duration": 1575,
    "start_time": "2022-12-01T19:51:56.877Z"
   },
   {
    "duration": 125,
    "start_time": "2022-12-01T19:51:59.510Z"
   },
   {
    "duration": 13,
    "start_time": "2022-12-01T19:51:59.708Z"
   },
   {
    "duration": 16,
    "start_time": "2022-12-01T19:52:00.289Z"
   },
   {
    "duration": 5,
    "start_time": "2022-12-01T19:52:02.282Z"
   },
   {
    "duration": 6,
    "start_time": "2022-12-01T19:52:02.859Z"
   },
   {
    "duration": 50,
    "start_time": "2022-12-01T19:52:04.250Z"
   },
   {
    "duration": 37,
    "start_time": "2022-12-01T19:53:27.438Z"
   },
   {
    "duration": 3,
    "start_time": "2022-12-01T19:53:42.470Z"
   },
   {
    "duration": 3,
    "start_time": "2022-12-01T19:53:42.716Z"
   },
   {
    "duration": 2,
    "start_time": "2022-12-01T19:53:53.290Z"
   },
   {
    "duration": 4,
    "start_time": "2022-12-01T19:53:53.545Z"
   },
   {
    "duration": 660,
    "start_time": "2022-12-03T02:06:25.270Z"
   },
   {
    "duration": 140,
    "start_time": "2022-12-03T02:06:27.289Z"
   },
   {
    "duration": 15,
    "start_time": "2022-12-03T02:06:28.714Z"
   },
   {
    "duration": 17,
    "start_time": "2022-12-03T02:06:30.714Z"
   },
   {
    "duration": 5,
    "start_time": "2022-12-03T02:06:33.968Z"
   },
   {
    "duration": 6,
    "start_time": "2022-12-03T02:06:34.547Z"
   },
   {
    "duration": 1522,
    "start_time": "2022-12-05T23:42:51.603Z"
   },
   {
    "duration": 136,
    "start_time": "2022-12-05T23:42:54.175Z"
   },
   {
    "duration": 11,
    "start_time": "2022-12-05T23:42:54.540Z"
   },
   {
    "duration": 12,
    "start_time": "2022-12-05T23:42:56.108Z"
   },
   {
    "duration": 3,
    "start_time": "2022-12-05T23:42:58.737Z"
   },
   {
    "duration": 5,
    "start_time": "2022-12-05T23:42:58.977Z"
   },
   {
    "duration": 5,
    "start_time": "2022-12-05T23:43:41.526Z"
   },
   {
    "duration": 33,
    "start_time": "2022-12-05T23:45:34.261Z"
   },
   {
    "duration": 3,
    "start_time": "2022-12-05T23:49:49.383Z"
   },
   {
    "duration": 147,
    "start_time": "2022-12-05T23:52:43.822Z"
   },
   {
    "duration": 24,
    "start_time": "2022-12-05T23:52:55.571Z"
   },
   {
    "duration": 30,
    "start_time": "2022-12-05T23:53:02.456Z"
   },
   {
    "duration": 32,
    "start_time": "2022-12-05T23:53:05.338Z"
   },
   {
    "duration": 26,
    "start_time": "2022-12-05T23:53:08.461Z"
   },
   {
    "duration": 45,
    "start_time": "2022-12-05T23:53:12.144Z"
   },
   {
    "duration": 59,
    "start_time": "2022-12-05T23:53:15.464Z"
   },
   {
    "duration": 547,
    "start_time": "2022-12-05T23:53:55.311Z"
   },
   {
    "duration": 253,
    "start_time": "2022-12-05T23:54:08.488Z"
   },
   {
    "duration": 47,
    "start_time": "2022-12-05T23:59:23.993Z"
   },
   {
    "duration": 4,
    "start_time": "2022-12-06T00:00:29.921Z"
   },
   {
    "duration": 255,
    "start_time": "2022-12-06T00:01:56.262Z"
   },
   {
    "duration": 160,
    "start_time": "2022-12-06T00:02:00.758Z"
   },
   {
    "duration": 1493,
    "start_time": "2022-12-06T03:46:42.786Z"
   },
   {
    "duration": 137,
    "start_time": "2022-12-06T03:46:44.281Z"
   },
   {
    "duration": 11,
    "start_time": "2022-12-06T03:46:44.427Z"
   },
   {
    "duration": 22,
    "start_time": "2022-12-06T03:46:44.439Z"
   },
   {
    "duration": 1497,
    "start_time": "2022-12-06T23:57:41.851Z"
   },
   {
    "duration": 74,
    "start_time": "2022-12-06T23:57:44.731Z"
   },
   {
    "duration": 11,
    "start_time": "2022-12-06T23:57:44.965Z"
   },
   {
    "duration": 16,
    "start_time": "2022-12-06T23:57:45.500Z"
   },
   {
    "duration": 3,
    "start_time": "2022-12-06T23:57:52.116Z"
   },
   {
    "duration": 5,
    "start_time": "2022-12-07T00:07:13.452Z"
   },
   {
    "duration": 5,
    "start_time": "2022-12-07T00:08:56.909Z"
   },
   {
    "duration": 14,
    "start_time": "2022-12-07T00:09:28.175Z"
   },
   {
    "duration": 3,
    "start_time": "2022-12-07T00:10:19.027Z"
   },
   {
    "duration": 13,
    "start_time": "2022-12-07T00:10:24.756Z"
   },
   {
    "duration": 3,
    "start_time": "2022-12-07T00:10:51.421Z"
   },
   {
    "duration": 5,
    "start_time": "2022-12-07T00:10:59.619Z"
   },
   {
    "duration": 3,
    "start_time": "2022-12-07T00:13:00.037Z"
   },
   {
    "duration": 4,
    "start_time": "2022-12-07T00:13:17.879Z"
   },
   {
    "duration": 4,
    "start_time": "2022-12-07T00:14:09.701Z"
   },
   {
    "duration": 103,
    "start_time": "2022-12-07T00:16:32.009Z"
   },
   {
    "duration": 15,
    "start_time": "2022-12-07T00:16:42.974Z"
   },
   {
    "duration": 33,
    "start_time": "2022-12-07T00:16:56.783Z"
   },
   {
    "duration": 254,
    "start_time": "2022-12-07T00:17:30.181Z"
   },
   {
    "duration": 156,
    "start_time": "2022-12-07T00:17:45.568Z"
   },
   {
    "duration": 258,
    "start_time": "2022-12-07T00:18:33.907Z"
   },
   {
    "duration": 33,
    "start_time": "2022-12-07T00:18:57.862Z"
   },
   {
    "duration": 25,
    "start_time": "2022-12-07T00:19:18.705Z"
   },
   {
    "duration": 1360,
    "start_time": "2022-12-07T00:19:31.729Z"
   },
   {
    "duration": 29,
    "start_time": "2022-12-07T00:19:33.091Z"
   },
   {
    "duration": 11,
    "start_time": "2022-12-07T00:19:33.122Z"
   },
   {
    "duration": 13,
    "start_time": "2022-12-07T00:19:33.135Z"
   },
   {
    "duration": 5,
    "start_time": "2022-12-07T00:19:33.150Z"
   },
   {
    "duration": 5,
    "start_time": "2022-12-07T00:19:33.157Z"
   },
   {
    "duration": 5,
    "start_time": "2022-12-07T00:19:33.163Z"
   },
   {
    "duration": 8,
    "start_time": "2022-12-07T00:19:33.170Z"
   },
   {
    "duration": 6,
    "start_time": "2022-12-07T00:19:33.179Z"
   },
   {
    "duration": 60,
    "start_time": "2022-12-07T00:19:33.187Z"
   },
   {
    "duration": 253,
    "start_time": "2022-12-07T00:19:33.248Z"
   },
   {
    "duration": 127,
    "start_time": "2022-12-07T00:19:33.503Z"
   },
   {
    "duration": 101,
    "start_time": "2022-12-07T00:20:55.127Z"
   },
   {
    "duration": 10,
    "start_time": "2022-12-07T00:21:04.965Z"
   },
   {
    "duration": 5,
    "start_time": "2022-12-07T00:21:13.211Z"
   },
   {
    "duration": 6,
    "start_time": "2022-12-07T00:24:38.269Z"
   },
   {
    "duration": 7,
    "start_time": "2022-12-07T00:24:54.752Z"
   },
   {
    "duration": 6,
    "start_time": "2022-12-07T00:25:37.163Z"
   },
   {
    "duration": 1777,
    "start_time": "2022-12-07T06:23:53.590Z"
   },
   {
    "duration": 30,
    "start_time": "2022-12-07T06:23:55.369Z"
   },
   {
    "duration": 19,
    "start_time": "2022-12-07T06:23:55.401Z"
   },
   {
    "duration": 34,
    "start_time": "2022-12-07T06:23:55.425Z"
   },
   {
    "duration": 24,
    "start_time": "2022-12-07T06:23:55.462Z"
   },
   {
    "duration": 8,
    "start_time": "2022-12-07T06:23:55.488Z"
   },
   {
    "duration": 6,
    "start_time": "2022-12-07T06:23:55.499Z"
   },
   {
    "duration": 8,
    "start_time": "2022-12-07T06:23:55.507Z"
   },
   {
    "duration": 10,
    "start_time": "2022-12-07T06:23:55.517Z"
   },
   {
    "duration": 66,
    "start_time": "2022-12-07T06:23:55.535Z"
   },
   {
    "duration": 300,
    "start_time": "2022-12-07T06:23:55.603Z"
   },
   {
    "duration": 762,
    "start_time": "2022-12-07T06:23:55.905Z"
   },
   {
    "duration": 10,
    "start_time": "2022-12-07T06:23:56.726Z"
   },
   {
    "duration": 91,
    "start_time": "2022-12-07T06:23:56.739Z"
   },
   {
    "duration": 34,
    "start_time": "2022-12-07T06:23:56.831Z"
   },
   {
    "duration": 7,
    "start_time": "2022-12-07T06:24:14.593Z"
   },
   {
    "duration": 4,
    "start_time": "2022-12-07T06:24:18.772Z"
   },
   {
    "duration": 3,
    "start_time": "2022-12-07T06:24:22.717Z"
   },
   {
    "duration": 14,
    "start_time": "2022-12-07T06:25:06.288Z"
   },
   {
    "duration": 20,
    "start_time": "2022-12-07T06:25:16.545Z"
   },
   {
    "duration": 1008,
    "start_time": "2022-12-07T06:33:10.096Z"
   },
   {
    "duration": 258,
    "start_time": "2022-12-07T06:35:25.233Z"
   },
   {
    "duration": 2367,
    "start_time": "2022-12-07T14:14:44.042Z"
   },
   {
    "duration": 103,
    "start_time": "2022-12-07T14:14:48.241Z"
   },
   {
    "duration": 21,
    "start_time": "2022-12-07T14:14:48.422Z"
   },
   {
    "duration": 23,
    "start_time": "2022-12-07T14:14:48.988Z"
   },
   {
    "duration": 7,
    "start_time": "2022-12-07T14:14:53.249Z"
   },
   {
    "duration": 5,
    "start_time": "2022-12-07T14:14:53.764Z"
   },
   {
    "duration": 6,
    "start_time": "2022-12-07T14:14:56.370Z"
   },
   {
    "duration": 8,
    "start_time": "2022-12-07T14:14:56.933Z"
   },
   {
    "duration": 6,
    "start_time": "2022-12-07T14:14:57.789Z"
   },
   {
    "duration": 50,
    "start_time": "2022-12-07T14:17:02.447Z"
   },
   {
    "duration": 433,
    "start_time": "2022-12-07T14:18:02.347Z"
   },
   {
    "duration": 290,
    "start_time": "2022-12-07T14:18:22.664Z"
   },
   {
    "duration": 8,
    "start_time": "2022-12-07T14:18:41.956Z"
   },
   {
    "duration": 19,
    "start_time": "2022-12-07T14:18:43.614Z"
   },
   {
    "duration": 9,
    "start_time": "2022-12-07T14:18:45.299Z"
   },
   {
    "duration": 1654,
    "start_time": "2022-12-07T21:04:00.496Z"
   },
   {
    "duration": 85,
    "start_time": "2022-12-07T21:04:02.152Z"
   },
   {
    "duration": 14,
    "start_time": "2022-12-07T21:04:02.650Z"
   },
   {
    "duration": 17,
    "start_time": "2022-12-07T21:04:03.133Z"
   },
   {
    "duration": 6,
    "start_time": "2022-12-07T21:04:04.780Z"
   },
   {
    "duration": 6,
    "start_time": "2022-12-07T21:04:05.040Z"
   },
   {
    "duration": 4,
    "start_time": "2022-12-07T21:04:05.907Z"
   },
   {
    "duration": 3,
    "start_time": "2022-12-07T21:04:06.542Z"
   },
   {
    "duration": 3,
    "start_time": "2022-12-07T21:04:06.963Z"
   },
   {
    "duration": 47,
    "start_time": "2022-12-07T21:04:10.472Z"
   },
   {
    "duration": 39,
    "start_time": "2022-12-07T21:04:23.991Z"
   },
   {
    "duration": 310,
    "start_time": "2022-12-07T21:04:25.502Z"
   },
   {
    "duration": 171,
    "start_time": "2022-12-07T21:04:27.181Z"
   },
   {
    "duration": 10,
    "start_time": "2022-12-07T21:04:35.148Z"
   },
   {
    "duration": 123,
    "start_time": "2022-12-07T21:05:17.887Z"
   },
   {
    "duration": 6,
    "start_time": "2022-12-07T21:05:26.245Z"
   },
   {
    "duration": 10,
    "start_time": "2022-12-07T21:05:32.026Z"
   },
   {
    "duration": 7,
    "start_time": "2022-12-07T21:05:34.175Z"
   },
   {
    "duration": 1905,
    "start_time": "2022-12-08T14:50:40.808Z"
   },
   {
    "duration": 78,
    "start_time": "2022-12-08T14:50:42.715Z"
   },
   {
    "duration": 16,
    "start_time": "2022-12-08T14:50:42.795Z"
   },
   {
    "duration": 33,
    "start_time": "2022-12-08T14:50:42.814Z"
   },
   {
    "duration": 6,
    "start_time": "2022-12-08T14:51:39.147Z"
   },
   {
    "duration": 5,
    "start_time": "2022-12-08T14:51:52.167Z"
   },
   {
    "duration": 5,
    "start_time": "2022-12-08T14:51:55.967Z"
   },
   {
    "duration": 4,
    "start_time": "2022-12-08T14:51:56.648Z"
   },
   {
    "duration": 4,
    "start_time": "2022-12-08T14:52:03.279Z"
   },
   {
    "duration": 48,
    "start_time": "2022-12-08T14:52:09.521Z"
   },
   {
    "duration": 360,
    "start_time": "2022-12-08T14:52:25.748Z"
   },
   {
    "duration": 297,
    "start_time": "2022-12-08T14:53:09.647Z"
   },
   {
    "duration": 281,
    "start_time": "2022-12-08T14:53:15.079Z"
   },
   {
    "duration": 328,
    "start_time": "2022-12-08T14:53:20.722Z"
   },
   {
    "duration": 312,
    "start_time": "2022-12-08T14:53:29.810Z"
   },
   {
    "duration": 297,
    "start_time": "2022-12-08T14:54:05.567Z"
   },
   {
    "duration": 8,
    "start_time": "2022-12-08T14:54:47.682Z"
   },
   {
    "duration": 42,
    "start_time": "2022-12-08T14:59:35.139Z"
   },
   {
    "duration": 49,
    "start_time": "2022-12-08T14:59:52.343Z"
   },
   {
    "duration": 46,
    "start_time": "2022-12-08T14:59:59.243Z"
   },
   {
    "duration": 43,
    "start_time": "2022-12-08T15:00:19.664Z"
   },
   {
    "duration": 50,
    "start_time": "2022-12-08T15:01:30.784Z"
   },
   {
    "duration": 51,
    "start_time": "2022-12-08T15:02:30.771Z"
   },
   {
    "duration": 286,
    "start_time": "2022-12-08T15:03:14.626Z"
   },
   {
    "duration": 42,
    "start_time": "2022-12-08T15:07:23.939Z"
   },
   {
    "duration": 5,
    "start_time": "2022-12-08T15:07:56.214Z"
   },
   {
    "duration": 167,
    "start_time": "2022-12-08T15:08:06.841Z"
   },
   {
    "duration": 55,
    "start_time": "2022-12-08T15:10:02.647Z"
   },
   {
    "duration": 5,
    "start_time": "2022-12-08T15:10:29.999Z"
   },
   {
    "duration": 53,
    "start_time": "2022-12-08T15:10:56.399Z"
   },
   {
    "duration": 51,
    "start_time": "2022-12-08T15:11:24.683Z"
   },
   {
    "duration": 25,
    "start_time": "2022-12-08T15:14:10.107Z"
   },
   {
    "duration": 375,
    "start_time": "2022-12-08T15:14:23.944Z"
   },
   {
    "duration": 278,
    "start_time": "2022-12-08T15:14:35.298Z"
   },
   {
    "duration": 42,
    "start_time": "2022-12-08T15:15:25.555Z"
   },
   {
    "duration": 38,
    "start_time": "2022-12-08T15:15:55.219Z"
   },
   {
    "duration": 37,
    "start_time": "2022-12-08T15:16:18.786Z"
   },
   {
    "duration": 42,
    "start_time": "2022-12-08T15:16:52.403Z"
   },
   {
    "duration": 47,
    "start_time": "2022-12-08T15:18:11.993Z"
   },
   {
    "duration": 52,
    "start_time": "2022-12-08T15:18:27.018Z"
   },
   {
    "duration": 40,
    "start_time": "2022-12-08T15:18:42.187Z"
   },
   {
    "duration": 49,
    "start_time": "2022-12-08T15:18:52.769Z"
   },
   {
    "duration": 39,
    "start_time": "2022-12-08T15:18:58.566Z"
   },
   {
    "duration": 46,
    "start_time": "2022-12-08T15:19:29.508Z"
   },
   {
    "duration": 50,
    "start_time": "2022-12-08T15:19:40.076Z"
   },
   {
    "duration": 315,
    "start_time": "2022-12-08T15:20:09.539Z"
   },
   {
    "duration": 295,
    "start_time": "2022-12-08T15:20:22.189Z"
   },
   {
    "duration": 138,
    "start_time": "2022-12-08T15:21:05.302Z"
   },
   {
    "duration": 162,
    "start_time": "2022-12-08T15:21:15.269Z"
   },
   {
    "duration": 7,
    "start_time": "2022-12-08T15:21:32.250Z"
   },
   {
    "duration": 12,
    "start_time": "2022-12-08T15:21:34.742Z"
   },
   {
    "duration": 8,
    "start_time": "2022-12-08T15:21:36.861Z"
   },
   {
    "duration": 7,
    "start_time": "2022-12-08T15:22:14.133Z"
   },
   {
    "duration": 8,
    "start_time": "2022-12-08T15:22:21.327Z"
   },
   {
    "duration": 15,
    "start_time": "2022-12-08T15:22:28.649Z"
   },
   {
    "duration": 314,
    "start_time": "2022-12-08T15:22:44.038Z"
   },
   {
    "duration": 50,
    "start_time": "2022-12-08T15:22:47.982Z"
   },
   {
    "duration": 7,
    "start_time": "2022-12-08T15:22:52.753Z"
   },
   {
    "duration": 9,
    "start_time": "2022-12-08T15:22:54.218Z"
   },
   {
    "duration": 7,
    "start_time": "2022-12-08T15:22:56.449Z"
   },
   {
    "duration": 1458,
    "start_time": "2022-12-08T15:27:26.112Z"
   },
   {
    "duration": 31,
    "start_time": "2022-12-08T15:27:27.572Z"
   },
   {
    "duration": 17,
    "start_time": "2022-12-08T15:27:27.606Z"
   },
   {
    "duration": 22,
    "start_time": "2022-12-08T15:27:27.625Z"
   },
   {
    "duration": 7,
    "start_time": "2022-12-08T15:27:27.649Z"
   },
   {
    "duration": 9,
    "start_time": "2022-12-08T15:27:27.658Z"
   },
   {
    "duration": 6,
    "start_time": "2022-12-08T15:27:27.669Z"
   },
   {
    "duration": 10,
    "start_time": "2022-12-08T15:27:27.677Z"
   },
   {
    "duration": 33,
    "start_time": "2022-12-08T15:27:27.689Z"
   },
   {
    "duration": 41,
    "start_time": "2022-12-08T15:27:27.725Z"
   },
   {
    "duration": 5,
    "start_time": "2022-12-08T15:27:27.768Z"
   },
   {
    "duration": 402,
    "start_time": "2022-12-08T15:27:27.775Z"
   },
   {
    "duration": 359,
    "start_time": "2022-12-08T15:27:28.179Z"
   },
   {
    "duration": 12,
    "start_time": "2022-12-08T15:27:28.621Z"
   },
   {
    "duration": 100,
    "start_time": "2022-12-08T15:27:28.635Z"
   },
   {
    "duration": 7,
    "start_time": "2022-12-08T15:27:28.738Z"
   }
  ],
  "kernelspec": {
   "display_name": "Python 3 (ipykernel)",
   "language": "python",
   "name": "python3"
  },
  "language_info": {
   "codemirror_mode": {
    "name": "ipython",
    "version": 3
   },
   "file_extension": ".py",
   "mimetype": "text/x-python",
   "name": "python",
   "nbconvert_exporter": "python",
   "pygments_lexer": "ipython3",
   "version": "3.10.0"
  },
  "toc": {
   "base_numbering": 1,
   "nav_menu": {},
   "number_sections": true,
   "sideBar": true,
   "skip_h1_title": true,
   "title_cell": "Table of Contents",
   "title_sidebar": "Contents",
   "toc_cell": false,
   "toc_position": {},
   "toc_section_display": true,
   "toc_window_display": false
  }
 },
 "nbformat": 4,
 "nbformat_minor": 2
}
