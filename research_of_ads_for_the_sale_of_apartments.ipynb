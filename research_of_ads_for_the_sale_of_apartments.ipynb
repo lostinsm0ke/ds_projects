{
 "cells": [
  {
   "cell_type": "markdown",
   "metadata": {
    "id": "DXAjMMWduqj6"
   },
   "source": [
    "# Исследование объявлений о продаже квартир\n",
    "\n",
    "В вашем распоряжении данные сервиса Яндекc Недвижимость — архив объявлений о продаже квартир в Санкт-Петербурге и соседних населённых пунктах за несколько лет. Нужно научиться определять рыночную стоимость объектов недвижимости. Ваша задача — установить параметры. Это позволит построить автоматизированную систему: она отследит аномалии и мошенническую деятельность. \n",
    "\n",
    "По каждой квартире на продажу доступны два вида данных. Первые вписаны пользователем, вторые получены автоматически на основе картографических данных. Например, расстояние до центра, аэропорта, ближайшего парка и водоёма. "
   ]
  },
  {
   "cell_type": "markdown",
   "metadata": {},
   "source": [
    "# # Предварительный план"
   ]
  },
  {
   "cell_type": "markdown",
   "metadata": {},
   "source": [
    "**1)** Изучить данные и общую информацию.\n",
    "\n",
    "**2)** Сделать предобработку данных:\n",
    "\n",
    "        - Изучить пропуски, сделать выводы;\n",
    "        - Заполнить пропуски там, где это уместно;\n",
    "        - Изменить типы данных там, где требуется.\n",
    "        \n",
    "**3)** Посчитать и добавить в таблицу:\n",
    "\n",
    "        - Цену квадратного метра;\n",
    "        - День недели, месяц и год публикации объявления;\n",
    "        - Этаж квартиры; варианты — первый, последний, другой;\n",
    "        - Соотношение жилой и общей площади, а также отношение площади кухни к общей.\n",
    "        \n",
    "**4)** Провести исследовательский анализ данных:\n",
    "\n",
    "        - Изучить следующие параметры: площадь, цена, число комнат, высота потолков. Построить гистограммы для каждого параметра.\n",
    "        - Изучить время продажи квартиры. Построить гистограмму. Посчитать среднее и медиану. Описать, сколько обычно занимает продажа. Когда можно считать, что продажи прошли очень быстро, а когда необычно долго?\n",
    "        - Убрать редкие и выбивающиеся значения. Описать, какие особенности обнаружили.\n",
    "        - Какие факторы больше всего влияют на стоимость квартиры? Изучить, зависит ли цена от площади, числа комнат, удалённости от центра. Изучить зависимость цены от того, на каком этаже расположена квартира: первом, последнем или другом. Также изучить зависимость от даты размещения: дня недели, месяца и года.\n",
    "        - Выбрать 10 населённых пунктов с наибольшим числом объявлений. Посчитать среднюю цену квадратного метра в этих населённых пунктах. Выделить населённые пункты с самой высокой и низкой стоимостью жилья. Эти данные можно найти по имени в столбце **locality_name**.\n",
    "        - Изучить предложения квартир: для каждой квартиры есть информация о расстоянии до центра. Выделить квартиры в Санкт-Петербурге (**locality_name**). Задача — выяснить, какая область входит в центр. Создать столбец с расстоянием до центра в километрах: округлить до целых значений. После этого посчитать среднюю цену для каждого километра. Построить график: он должен показывать, как цена зависит от удалённости от центра. Определить границу, где график сильно меняется, — это и будет центральная зона.\n",
    "        - Выделить сегмент квартир в центре. Проанализировать эту территорию и изучить следующие параметры: площадь, цена, число комнат, высота потолков. Также выделить факторы, которые влияют на стоимость квартиры (число комнат, этаж, удалённость от центра, дата размещения объявления). Сделать выводы. Отличаются ли они от общих выводов по всей базе?\n",
    "        \n",
    "**5)** Описание данных:\n",
    "\n",
    "        Данные содержат большое количество столбцов с различными параметрами:\n",
    "        - airports_nearest — расстояние до ближайшего аэропорта в метрах (м)\n",
    "        - balcony — число балконов\n",
    "        - ceiling_height — высота потолков (м)\n",
    "        - cityCenters_nearest — расстояние до центра города (м)\n",
    "        - days_exposition — сколько дней было размещено объявление (от публикации до снятия)\n",
    "        - first_day_exposition — дата публикации\n",
    "        - floor — этаж\n",
    "        - floors_total — всего этажей в доме\n",
    "        - is_apartment — апартаменты (булев тип)\n",
    "        - kitchen_area — площадь кухни в квадратных метрах (м²)\n",
    "        - last_price — цена на момент снятия с публикации\n",
    "        - living_area — жилая площадь в квадратных метрах (м²)\n",
    "        - locality_name — название населённого пункта\n",
    "        - open_plan — свободная планировка (булев тип)\n",
    "        - parks_around3000 — число парков в радиусе 3 км\n",
    "        - parks_nearest — расстояние до ближайшего парка (м)\n",
    "        - ponds_around3000 — число водоёмов в радиусе 3 км\n",
    "        - ponds_nearest — расстояние до ближайшего водоёма (м)\n",
    "        - rooms — число комнат\n",
    "        - studio — квартира-студия (булев тип)\n",
    "        - total_area — площадь квартиры в квадратных метрах (м²)\n",
    "        - total_images — число фотографий квартиры в объявлении\n",
    "        \n",
    "        Имеются значения NaN и значения, не приведённые к удобочитаемому виду. Далее, по пунктам изучу данные более детально."
   ]
  },
  {
   "cell_type": "markdown",
   "metadata": {
    "id": "F5HAJRCruqj6"
   },
   "source": [
    "## Изучение данных из файла"
   ]
  },
  {
   "cell_type": "code",
   "execution_count": 1,
   "metadata": {
    "id": "VlvJUJqCuqj7"
   },
   "outputs": [],
   "source": [
    "import pandas as pd\n",
    "import matplotlib.pyplot as plt"
   ]
  },
  {
   "cell_type": "code",
   "execution_count": 2,
   "metadata": {},
   "outputs": [],
   "source": [
    "df = pd.read_csv('/datasets/real_estate_data.csv', sep='\\t')"
   ]
  },
  {
   "cell_type": "code",
   "execution_count": 3,
   "metadata": {
    "scrolled": true
   },
   "outputs": [
    {
     "data": {
      "text/html": [
       "<div>\n",
       "<style scoped>\n",
       "    .dataframe tbody tr th:only-of-type {\n",
       "        vertical-align: middle;\n",
       "    }\n",
       "\n",
       "    .dataframe tbody tr th {\n",
       "        vertical-align: top;\n",
       "    }\n",
       "\n",
       "    .dataframe thead th {\n",
       "        text-align: right;\n",
       "    }\n",
       "</style>\n",
       "<table border=\"1\" class=\"dataframe\">\n",
       "  <thead>\n",
       "    <tr style=\"text-align: right;\">\n",
       "      <th></th>\n",
       "      <th>total_images</th>\n",
       "      <th>last_price</th>\n",
       "      <th>total_area</th>\n",
       "      <th>first_day_exposition</th>\n",
       "      <th>rooms</th>\n",
       "      <th>ceiling_height</th>\n",
       "      <th>floors_total</th>\n",
       "      <th>living_area</th>\n",
       "      <th>floor</th>\n",
       "      <th>is_apartment</th>\n",
       "      <th>studio</th>\n",
       "      <th>open_plan</th>\n",
       "      <th>kitchen_area</th>\n",
       "      <th>balcony</th>\n",
       "      <th>locality_name</th>\n",
       "      <th>airports_nearest</th>\n",
       "      <th>cityCenters_nearest</th>\n",
       "      <th>parks_around3000</th>\n",
       "      <th>parks_nearest</th>\n",
       "      <th>ponds_around3000</th>\n",
       "      <th>ponds_nearest</th>\n",
       "      <th>days_exposition</th>\n",
       "    </tr>\n",
       "  </thead>\n",
       "  <tbody>\n",
       "    <tr>\n",
       "      <th>0</th>\n",
       "      <td>20</td>\n",
       "      <td>13000000.0</td>\n",
       "      <td>108.00</td>\n",
       "      <td>2019-03-07T00:00:00</td>\n",
       "      <td>3</td>\n",
       "      <td>2.70</td>\n",
       "      <td>16.0</td>\n",
       "      <td>51.00</td>\n",
       "      <td>8</td>\n",
       "      <td>NaN</td>\n",
       "      <td>False</td>\n",
       "      <td>False</td>\n",
       "      <td>25.00</td>\n",
       "      <td>NaN</td>\n",
       "      <td>Санкт-Петербург</td>\n",
       "      <td>18863.0</td>\n",
       "      <td>16028.0</td>\n",
       "      <td>1.0</td>\n",
       "      <td>482.0</td>\n",
       "      <td>2.0</td>\n",
       "      <td>755.0</td>\n",
       "      <td>NaN</td>\n",
       "    </tr>\n",
       "    <tr>\n",
       "      <th>1</th>\n",
       "      <td>7</td>\n",
       "      <td>3350000.0</td>\n",
       "      <td>40.40</td>\n",
       "      <td>2018-12-04T00:00:00</td>\n",
       "      <td>1</td>\n",
       "      <td>NaN</td>\n",
       "      <td>11.0</td>\n",
       "      <td>18.60</td>\n",
       "      <td>1</td>\n",
       "      <td>NaN</td>\n",
       "      <td>False</td>\n",
       "      <td>False</td>\n",
       "      <td>11.00</td>\n",
       "      <td>2.0</td>\n",
       "      <td>посёлок Шушары</td>\n",
       "      <td>12817.0</td>\n",
       "      <td>18603.0</td>\n",
       "      <td>0.0</td>\n",
       "      <td>NaN</td>\n",
       "      <td>0.0</td>\n",
       "      <td>NaN</td>\n",
       "      <td>81.0</td>\n",
       "    </tr>\n",
       "    <tr>\n",
       "      <th>2</th>\n",
       "      <td>10</td>\n",
       "      <td>5196000.0</td>\n",
       "      <td>56.00</td>\n",
       "      <td>2015-08-20T00:00:00</td>\n",
       "      <td>2</td>\n",
       "      <td>NaN</td>\n",
       "      <td>5.0</td>\n",
       "      <td>34.30</td>\n",
       "      <td>4</td>\n",
       "      <td>NaN</td>\n",
       "      <td>False</td>\n",
       "      <td>False</td>\n",
       "      <td>8.30</td>\n",
       "      <td>0.0</td>\n",
       "      <td>Санкт-Петербург</td>\n",
       "      <td>21741.0</td>\n",
       "      <td>13933.0</td>\n",
       "      <td>1.0</td>\n",
       "      <td>90.0</td>\n",
       "      <td>2.0</td>\n",
       "      <td>574.0</td>\n",
       "      <td>558.0</td>\n",
       "    </tr>\n",
       "    <tr>\n",
       "      <th>3</th>\n",
       "      <td>0</td>\n",
       "      <td>64900000.0</td>\n",
       "      <td>159.00</td>\n",
       "      <td>2015-07-24T00:00:00</td>\n",
       "      <td>3</td>\n",
       "      <td>NaN</td>\n",
       "      <td>14.0</td>\n",
       "      <td>NaN</td>\n",
       "      <td>9</td>\n",
       "      <td>NaN</td>\n",
       "      <td>False</td>\n",
       "      <td>False</td>\n",
       "      <td>NaN</td>\n",
       "      <td>0.0</td>\n",
       "      <td>Санкт-Петербург</td>\n",
       "      <td>28098.0</td>\n",
       "      <td>6800.0</td>\n",
       "      <td>2.0</td>\n",
       "      <td>84.0</td>\n",
       "      <td>3.0</td>\n",
       "      <td>234.0</td>\n",
       "      <td>424.0</td>\n",
       "    </tr>\n",
       "    <tr>\n",
       "      <th>4</th>\n",
       "      <td>2</td>\n",
       "      <td>10000000.0</td>\n",
       "      <td>100.00</td>\n",
       "      <td>2018-06-19T00:00:00</td>\n",
       "      <td>2</td>\n",
       "      <td>3.03</td>\n",
       "      <td>14.0</td>\n",
       "      <td>32.00</td>\n",
       "      <td>13</td>\n",
       "      <td>NaN</td>\n",
       "      <td>False</td>\n",
       "      <td>False</td>\n",
       "      <td>41.00</td>\n",
       "      <td>NaN</td>\n",
       "      <td>Санкт-Петербург</td>\n",
       "      <td>31856.0</td>\n",
       "      <td>8098.0</td>\n",
       "      <td>2.0</td>\n",
       "      <td>112.0</td>\n",
       "      <td>1.0</td>\n",
       "      <td>48.0</td>\n",
       "      <td>121.0</td>\n",
       "    </tr>\n",
       "    <tr>\n",
       "      <th>5</th>\n",
       "      <td>10</td>\n",
       "      <td>2890000.0</td>\n",
       "      <td>30.40</td>\n",
       "      <td>2018-09-10T00:00:00</td>\n",
       "      <td>1</td>\n",
       "      <td>NaN</td>\n",
       "      <td>12.0</td>\n",
       "      <td>14.40</td>\n",
       "      <td>5</td>\n",
       "      <td>NaN</td>\n",
       "      <td>False</td>\n",
       "      <td>False</td>\n",
       "      <td>9.10</td>\n",
       "      <td>NaN</td>\n",
       "      <td>городской посёлок Янино-1</td>\n",
       "      <td>NaN</td>\n",
       "      <td>NaN</td>\n",
       "      <td>NaN</td>\n",
       "      <td>NaN</td>\n",
       "      <td>NaN</td>\n",
       "      <td>NaN</td>\n",
       "      <td>55.0</td>\n",
       "    </tr>\n",
       "    <tr>\n",
       "      <th>6</th>\n",
       "      <td>6</td>\n",
       "      <td>3700000.0</td>\n",
       "      <td>37.30</td>\n",
       "      <td>2017-11-02T00:00:00</td>\n",
       "      <td>1</td>\n",
       "      <td>NaN</td>\n",
       "      <td>26.0</td>\n",
       "      <td>10.60</td>\n",
       "      <td>6</td>\n",
       "      <td>NaN</td>\n",
       "      <td>False</td>\n",
       "      <td>False</td>\n",
       "      <td>14.40</td>\n",
       "      <td>1.0</td>\n",
       "      <td>посёлок Парголово</td>\n",
       "      <td>52996.0</td>\n",
       "      <td>19143.0</td>\n",
       "      <td>0.0</td>\n",
       "      <td>NaN</td>\n",
       "      <td>0.0</td>\n",
       "      <td>NaN</td>\n",
       "      <td>155.0</td>\n",
       "    </tr>\n",
       "    <tr>\n",
       "      <th>7</th>\n",
       "      <td>5</td>\n",
       "      <td>7915000.0</td>\n",
       "      <td>71.60</td>\n",
       "      <td>2019-04-18T00:00:00</td>\n",
       "      <td>2</td>\n",
       "      <td>NaN</td>\n",
       "      <td>24.0</td>\n",
       "      <td>NaN</td>\n",
       "      <td>22</td>\n",
       "      <td>NaN</td>\n",
       "      <td>False</td>\n",
       "      <td>False</td>\n",
       "      <td>18.90</td>\n",
       "      <td>2.0</td>\n",
       "      <td>Санкт-Петербург</td>\n",
       "      <td>23982.0</td>\n",
       "      <td>11634.0</td>\n",
       "      <td>0.0</td>\n",
       "      <td>NaN</td>\n",
       "      <td>0.0</td>\n",
       "      <td>NaN</td>\n",
       "      <td>NaN</td>\n",
       "    </tr>\n",
       "    <tr>\n",
       "      <th>8</th>\n",
       "      <td>20</td>\n",
       "      <td>2900000.0</td>\n",
       "      <td>33.16</td>\n",
       "      <td>2018-05-23T00:00:00</td>\n",
       "      <td>1</td>\n",
       "      <td>NaN</td>\n",
       "      <td>27.0</td>\n",
       "      <td>15.43</td>\n",
       "      <td>26</td>\n",
       "      <td>NaN</td>\n",
       "      <td>False</td>\n",
       "      <td>False</td>\n",
       "      <td>8.81</td>\n",
       "      <td>NaN</td>\n",
       "      <td>посёлок Мурино</td>\n",
       "      <td>NaN</td>\n",
       "      <td>NaN</td>\n",
       "      <td>NaN</td>\n",
       "      <td>NaN</td>\n",
       "      <td>NaN</td>\n",
       "      <td>NaN</td>\n",
       "      <td>189.0</td>\n",
       "    </tr>\n",
       "    <tr>\n",
       "      <th>9</th>\n",
       "      <td>18</td>\n",
       "      <td>5400000.0</td>\n",
       "      <td>61.00</td>\n",
       "      <td>2017-02-26T00:00:00</td>\n",
       "      <td>3</td>\n",
       "      <td>2.50</td>\n",
       "      <td>9.0</td>\n",
       "      <td>43.60</td>\n",
       "      <td>7</td>\n",
       "      <td>NaN</td>\n",
       "      <td>False</td>\n",
       "      <td>False</td>\n",
       "      <td>6.50</td>\n",
       "      <td>2.0</td>\n",
       "      <td>Санкт-Петербург</td>\n",
       "      <td>50898.0</td>\n",
       "      <td>15008.0</td>\n",
       "      <td>0.0</td>\n",
       "      <td>NaN</td>\n",
       "      <td>0.0</td>\n",
       "      <td>NaN</td>\n",
       "      <td>289.0</td>\n",
       "    </tr>\n",
       "    <tr>\n",
       "      <th>10</th>\n",
       "      <td>5</td>\n",
       "      <td>5050000.0</td>\n",
       "      <td>39.60</td>\n",
       "      <td>2017-11-16T00:00:00</td>\n",
       "      <td>1</td>\n",
       "      <td>2.67</td>\n",
       "      <td>12.0</td>\n",
       "      <td>20.30</td>\n",
       "      <td>3</td>\n",
       "      <td>NaN</td>\n",
       "      <td>False</td>\n",
       "      <td>False</td>\n",
       "      <td>8.50</td>\n",
       "      <td>NaN</td>\n",
       "      <td>Санкт-Петербург</td>\n",
       "      <td>38357.0</td>\n",
       "      <td>13878.0</td>\n",
       "      <td>1.0</td>\n",
       "      <td>310.0</td>\n",
       "      <td>2.0</td>\n",
       "      <td>553.0</td>\n",
       "      <td>137.0</td>\n",
       "    </tr>\n",
       "    <tr>\n",
       "      <th>11</th>\n",
       "      <td>9</td>\n",
       "      <td>3300000.0</td>\n",
       "      <td>44.00</td>\n",
       "      <td>2018-08-27T00:00:00</td>\n",
       "      <td>2</td>\n",
       "      <td>NaN</td>\n",
       "      <td>5.0</td>\n",
       "      <td>31.00</td>\n",
       "      <td>4</td>\n",
       "      <td>False</td>\n",
       "      <td>False</td>\n",
       "      <td>False</td>\n",
       "      <td>6.00</td>\n",
       "      <td>1.0</td>\n",
       "      <td>Ломоносов</td>\n",
       "      <td>48252.0</td>\n",
       "      <td>51677.0</td>\n",
       "      <td>0.0</td>\n",
       "      <td>NaN</td>\n",
       "      <td>0.0</td>\n",
       "      <td>NaN</td>\n",
       "      <td>7.0</td>\n",
       "    </tr>\n",
       "    <tr>\n",
       "      <th>12</th>\n",
       "      <td>10</td>\n",
       "      <td>3890000.0</td>\n",
       "      <td>54.00</td>\n",
       "      <td>2016-06-30T00:00:00</td>\n",
       "      <td>2</td>\n",
       "      <td>NaN</td>\n",
       "      <td>5.0</td>\n",
       "      <td>30.00</td>\n",
       "      <td>5</td>\n",
       "      <td>NaN</td>\n",
       "      <td>False</td>\n",
       "      <td>False</td>\n",
       "      <td>9.00</td>\n",
       "      <td>0.0</td>\n",
       "      <td>Сертолово</td>\n",
       "      <td>NaN</td>\n",
       "      <td>NaN</td>\n",
       "      <td>NaN</td>\n",
       "      <td>NaN</td>\n",
       "      <td>NaN</td>\n",
       "      <td>NaN</td>\n",
       "      <td>90.0</td>\n",
       "    </tr>\n",
       "    <tr>\n",
       "      <th>13</th>\n",
       "      <td>20</td>\n",
       "      <td>3550000.0</td>\n",
       "      <td>42.80</td>\n",
       "      <td>2017-07-01T00:00:00</td>\n",
       "      <td>2</td>\n",
       "      <td>2.56</td>\n",
       "      <td>5.0</td>\n",
       "      <td>27.00</td>\n",
       "      <td>5</td>\n",
       "      <td>NaN</td>\n",
       "      <td>False</td>\n",
       "      <td>False</td>\n",
       "      <td>5.20</td>\n",
       "      <td>1.0</td>\n",
       "      <td>Петергоф</td>\n",
       "      <td>37868.0</td>\n",
       "      <td>33058.0</td>\n",
       "      <td>1.0</td>\n",
       "      <td>294.0</td>\n",
       "      <td>3.0</td>\n",
       "      <td>298.0</td>\n",
       "      <td>366.0</td>\n",
       "    </tr>\n",
       "    <tr>\n",
       "      <th>14</th>\n",
       "      <td>1</td>\n",
       "      <td>4400000.0</td>\n",
       "      <td>36.00</td>\n",
       "      <td>2016-06-23T00:00:00</td>\n",
       "      <td>1</td>\n",
       "      <td>NaN</td>\n",
       "      <td>6.0</td>\n",
       "      <td>17.00</td>\n",
       "      <td>1</td>\n",
       "      <td>NaN</td>\n",
       "      <td>False</td>\n",
       "      <td>False</td>\n",
       "      <td>8.00</td>\n",
       "      <td>0.0</td>\n",
       "      <td>Пушкин</td>\n",
       "      <td>20782.0</td>\n",
       "      <td>30759.0</td>\n",
       "      <td>0.0</td>\n",
       "      <td>NaN</td>\n",
       "      <td>1.0</td>\n",
       "      <td>96.0</td>\n",
       "      <td>203.0</td>\n",
       "    </tr>\n",
       "  </tbody>\n",
       "</table>\n",
       "</div>"
      ],
      "text/plain": [
       "    total_images  last_price  total_area first_day_exposition  rooms  \\\n",
       "0             20  13000000.0      108.00  2019-03-07T00:00:00      3   \n",
       "1              7   3350000.0       40.40  2018-12-04T00:00:00      1   \n",
       "2             10   5196000.0       56.00  2015-08-20T00:00:00      2   \n",
       "3              0  64900000.0      159.00  2015-07-24T00:00:00      3   \n",
       "4              2  10000000.0      100.00  2018-06-19T00:00:00      2   \n",
       "5             10   2890000.0       30.40  2018-09-10T00:00:00      1   \n",
       "6              6   3700000.0       37.30  2017-11-02T00:00:00      1   \n",
       "7              5   7915000.0       71.60  2019-04-18T00:00:00      2   \n",
       "8             20   2900000.0       33.16  2018-05-23T00:00:00      1   \n",
       "9             18   5400000.0       61.00  2017-02-26T00:00:00      3   \n",
       "10             5   5050000.0       39.60  2017-11-16T00:00:00      1   \n",
       "11             9   3300000.0       44.00  2018-08-27T00:00:00      2   \n",
       "12            10   3890000.0       54.00  2016-06-30T00:00:00      2   \n",
       "13            20   3550000.0       42.80  2017-07-01T00:00:00      2   \n",
       "14             1   4400000.0       36.00  2016-06-23T00:00:00      1   \n",
       "\n",
       "    ceiling_height  floors_total  living_area  floor is_apartment  studio  \\\n",
       "0             2.70          16.0        51.00      8          NaN   False   \n",
       "1              NaN          11.0        18.60      1          NaN   False   \n",
       "2              NaN           5.0        34.30      4          NaN   False   \n",
       "3              NaN          14.0          NaN      9          NaN   False   \n",
       "4             3.03          14.0        32.00     13          NaN   False   \n",
       "5              NaN          12.0        14.40      5          NaN   False   \n",
       "6              NaN          26.0        10.60      6          NaN   False   \n",
       "7              NaN          24.0          NaN     22          NaN   False   \n",
       "8              NaN          27.0        15.43     26          NaN   False   \n",
       "9             2.50           9.0        43.60      7          NaN   False   \n",
       "10            2.67          12.0        20.30      3          NaN   False   \n",
       "11             NaN           5.0        31.00      4        False   False   \n",
       "12             NaN           5.0        30.00      5          NaN   False   \n",
       "13            2.56           5.0        27.00      5          NaN   False   \n",
       "14             NaN           6.0        17.00      1          NaN   False   \n",
       "\n",
       "    open_plan  kitchen_area  balcony              locality_name  \\\n",
       "0       False         25.00      NaN            Санкт-Петербург   \n",
       "1       False         11.00      2.0             посёлок Шушары   \n",
       "2       False          8.30      0.0            Санкт-Петербург   \n",
       "3       False           NaN      0.0            Санкт-Петербург   \n",
       "4       False         41.00      NaN            Санкт-Петербург   \n",
       "5       False          9.10      NaN  городской посёлок Янино-1   \n",
       "6       False         14.40      1.0          посёлок Парголово   \n",
       "7       False         18.90      2.0            Санкт-Петербург   \n",
       "8       False          8.81      NaN             посёлок Мурино   \n",
       "9       False          6.50      2.0            Санкт-Петербург   \n",
       "10      False          8.50      NaN            Санкт-Петербург   \n",
       "11      False          6.00      1.0                  Ломоносов   \n",
       "12      False          9.00      0.0                  Сертолово   \n",
       "13      False          5.20      1.0                   Петергоф   \n",
       "14      False          8.00      0.0                     Пушкин   \n",
       "\n",
       "    airports_nearest  cityCenters_nearest  parks_around3000  parks_nearest  \\\n",
       "0            18863.0              16028.0               1.0          482.0   \n",
       "1            12817.0              18603.0               0.0            NaN   \n",
       "2            21741.0              13933.0               1.0           90.0   \n",
       "3            28098.0               6800.0               2.0           84.0   \n",
       "4            31856.0               8098.0               2.0          112.0   \n",
       "5                NaN                  NaN               NaN            NaN   \n",
       "6            52996.0              19143.0               0.0            NaN   \n",
       "7            23982.0              11634.0               0.0            NaN   \n",
       "8                NaN                  NaN               NaN            NaN   \n",
       "9            50898.0              15008.0               0.0            NaN   \n",
       "10           38357.0              13878.0               1.0          310.0   \n",
       "11           48252.0              51677.0               0.0            NaN   \n",
       "12               NaN                  NaN               NaN            NaN   \n",
       "13           37868.0              33058.0               1.0          294.0   \n",
       "14           20782.0              30759.0               0.0            NaN   \n",
       "\n",
       "    ponds_around3000  ponds_nearest  days_exposition  \n",
       "0                2.0          755.0              NaN  \n",
       "1                0.0            NaN             81.0  \n",
       "2                2.0          574.0            558.0  \n",
       "3                3.0          234.0            424.0  \n",
       "4                1.0           48.0            121.0  \n",
       "5                NaN            NaN             55.0  \n",
       "6                0.0            NaN            155.0  \n",
       "7                0.0            NaN              NaN  \n",
       "8                NaN            NaN            189.0  \n",
       "9                0.0            NaN            289.0  \n",
       "10               2.0          553.0            137.0  \n",
       "11               0.0            NaN              7.0  \n",
       "12               NaN            NaN             90.0  \n",
       "13               3.0          298.0            366.0  \n",
       "14               1.0           96.0            203.0  "
      ]
     },
     "execution_count": 3,
     "metadata": {},
     "output_type": "execute_result"
    }
   ],
   "source": [
    "pd.set_option('display.max_columns', 50)\n",
    "df.head(15)"
   ]
  },
  {
   "cell_type": "code",
   "execution_count": 4,
   "metadata": {},
   "outputs": [
    {
     "name": "stdout",
     "output_type": "stream",
     "text": [
      "<class 'pandas.core.frame.DataFrame'>\n",
      "RangeIndex: 23699 entries, 0 to 23698\n",
      "Data columns (total 22 columns):\n",
      " #   Column                Non-Null Count  Dtype  \n",
      "---  ------                --------------  -----  \n",
      " 0   total_images          23699 non-null  int64  \n",
      " 1   last_price            23699 non-null  float64\n",
      " 2   total_area            23699 non-null  float64\n",
      " 3   first_day_exposition  23699 non-null  object \n",
      " 4   rooms                 23699 non-null  int64  \n",
      " 5   ceiling_height        14504 non-null  float64\n",
      " 6   floors_total          23613 non-null  float64\n",
      " 7   living_area           21796 non-null  float64\n",
      " 8   floor                 23699 non-null  int64  \n",
      " 9   is_apartment          2775 non-null   object \n",
      " 10  studio                23699 non-null  bool   \n",
      " 11  open_plan             23699 non-null  bool   \n",
      " 12  kitchen_area          21421 non-null  float64\n",
      " 13  balcony               12180 non-null  float64\n",
      " 14  locality_name         23650 non-null  object \n",
      " 15  airports_nearest      18157 non-null  float64\n",
      " 16  cityCenters_nearest   18180 non-null  float64\n",
      " 17  parks_around3000      18181 non-null  float64\n",
      " 18  parks_nearest         8079 non-null   float64\n",
      " 19  ponds_around3000      18181 non-null  float64\n",
      " 20  ponds_nearest         9110 non-null   float64\n",
      " 21  days_exposition       20518 non-null  float64\n",
      "dtypes: bool(2), float64(14), int64(3), object(3)\n",
      "memory usage: 3.7+ MB\n"
     ]
    }
   ],
   "source": [
    "df.info()"
   ]
  },
  {
   "cell_type": "code",
   "execution_count": 5,
   "metadata": {},
   "outputs": [
    {
     "data": {
      "text/html": [
       "<div>\n",
       "<style scoped>\n",
       "    .dataframe tbody tr th:only-of-type {\n",
       "        vertical-align: middle;\n",
       "    }\n",
       "\n",
       "    .dataframe tbody tr th {\n",
       "        vertical-align: top;\n",
       "    }\n",
       "\n",
       "    .dataframe thead th {\n",
       "        text-align: right;\n",
       "    }\n",
       "</style>\n",
       "<table border=\"1\" class=\"dataframe\">\n",
       "  <thead>\n",
       "    <tr style=\"text-align: right;\">\n",
       "      <th></th>\n",
       "      <th>count</th>\n",
       "      <th>mean</th>\n",
       "      <th>std</th>\n",
       "      <th>min</th>\n",
       "      <th>25%</th>\n",
       "      <th>50%</th>\n",
       "      <th>75%</th>\n",
       "      <th>max</th>\n",
       "    </tr>\n",
       "  </thead>\n",
       "  <tbody>\n",
       "    <tr>\n",
       "      <th>total_images</th>\n",
       "      <td>23699.0</td>\n",
       "      <td>9.858475e+00</td>\n",
       "      <td>5.682529e+00</td>\n",
       "      <td>0.0</td>\n",
       "      <td>6.00</td>\n",
       "      <td>9.00</td>\n",
       "      <td>14.0</td>\n",
       "      <td>50.0</td>\n",
       "    </tr>\n",
       "    <tr>\n",
       "      <th>last_price</th>\n",
       "      <td>23699.0</td>\n",
       "      <td>6.541549e+06</td>\n",
       "      <td>1.088701e+07</td>\n",
       "      <td>12190.0</td>\n",
       "      <td>3400000.00</td>\n",
       "      <td>4650000.00</td>\n",
       "      <td>6800000.0</td>\n",
       "      <td>763000000.0</td>\n",
       "    </tr>\n",
       "    <tr>\n",
       "      <th>total_area</th>\n",
       "      <td>23699.0</td>\n",
       "      <td>6.034865e+01</td>\n",
       "      <td>3.565408e+01</td>\n",
       "      <td>12.0</td>\n",
       "      <td>40.00</td>\n",
       "      <td>52.00</td>\n",
       "      <td>69.9</td>\n",
       "      <td>900.0</td>\n",
       "    </tr>\n",
       "    <tr>\n",
       "      <th>rooms</th>\n",
       "      <td>23699.0</td>\n",
       "      <td>2.070636e+00</td>\n",
       "      <td>1.078405e+00</td>\n",
       "      <td>0.0</td>\n",
       "      <td>1.00</td>\n",
       "      <td>2.00</td>\n",
       "      <td>3.0</td>\n",
       "      <td>19.0</td>\n",
       "    </tr>\n",
       "    <tr>\n",
       "      <th>ceiling_height</th>\n",
       "      <td>14504.0</td>\n",
       "      <td>2.771499e+00</td>\n",
       "      <td>1.261056e+00</td>\n",
       "      <td>1.0</td>\n",
       "      <td>2.52</td>\n",
       "      <td>2.65</td>\n",
       "      <td>2.8</td>\n",
       "      <td>100.0</td>\n",
       "    </tr>\n",
       "    <tr>\n",
       "      <th>floors_total</th>\n",
       "      <td>23613.0</td>\n",
       "      <td>1.067382e+01</td>\n",
       "      <td>6.597173e+00</td>\n",
       "      <td>1.0</td>\n",
       "      <td>5.00</td>\n",
       "      <td>9.00</td>\n",
       "      <td>16.0</td>\n",
       "      <td>60.0</td>\n",
       "    </tr>\n",
       "    <tr>\n",
       "      <th>living_area</th>\n",
       "      <td>21796.0</td>\n",
       "      <td>3.445785e+01</td>\n",
       "      <td>2.203045e+01</td>\n",
       "      <td>2.0</td>\n",
       "      <td>18.60</td>\n",
       "      <td>30.00</td>\n",
       "      <td>42.3</td>\n",
       "      <td>409.7</td>\n",
       "    </tr>\n",
       "    <tr>\n",
       "      <th>floor</th>\n",
       "      <td>23699.0</td>\n",
       "      <td>5.892358e+00</td>\n",
       "      <td>4.885249e+00</td>\n",
       "      <td>1.0</td>\n",
       "      <td>2.00</td>\n",
       "      <td>4.00</td>\n",
       "      <td>8.0</td>\n",
       "      <td>33.0</td>\n",
       "    </tr>\n",
       "    <tr>\n",
       "      <th>kitchen_area</th>\n",
       "      <td>21421.0</td>\n",
       "      <td>1.056981e+01</td>\n",
       "      <td>5.905438e+00</td>\n",
       "      <td>1.3</td>\n",
       "      <td>7.00</td>\n",
       "      <td>9.10</td>\n",
       "      <td>12.0</td>\n",
       "      <td>112.0</td>\n",
       "    </tr>\n",
       "    <tr>\n",
       "      <th>balcony</th>\n",
       "      <td>12180.0</td>\n",
       "      <td>1.150082e+00</td>\n",
       "      <td>1.071300e+00</td>\n",
       "      <td>0.0</td>\n",
       "      <td>0.00</td>\n",
       "      <td>1.00</td>\n",
       "      <td>2.0</td>\n",
       "      <td>5.0</td>\n",
       "    </tr>\n",
       "    <tr>\n",
       "      <th>airports_nearest</th>\n",
       "      <td>18157.0</td>\n",
       "      <td>2.879367e+04</td>\n",
       "      <td>1.263088e+04</td>\n",
       "      <td>0.0</td>\n",
       "      <td>18585.00</td>\n",
       "      <td>26726.00</td>\n",
       "      <td>37273.0</td>\n",
       "      <td>84869.0</td>\n",
       "    </tr>\n",
       "    <tr>\n",
       "      <th>cityCenters_nearest</th>\n",
       "      <td>18180.0</td>\n",
       "      <td>1.419128e+04</td>\n",
       "      <td>8.608386e+03</td>\n",
       "      <td>181.0</td>\n",
       "      <td>9238.00</td>\n",
       "      <td>13098.50</td>\n",
       "      <td>16293.0</td>\n",
       "      <td>65968.0</td>\n",
       "    </tr>\n",
       "    <tr>\n",
       "      <th>parks_around3000</th>\n",
       "      <td>18181.0</td>\n",
       "      <td>6.114075e-01</td>\n",
       "      <td>8.020736e-01</td>\n",
       "      <td>0.0</td>\n",
       "      <td>0.00</td>\n",
       "      <td>0.00</td>\n",
       "      <td>1.0</td>\n",
       "      <td>3.0</td>\n",
       "    </tr>\n",
       "    <tr>\n",
       "      <th>parks_nearest</th>\n",
       "      <td>8079.0</td>\n",
       "      <td>4.908046e+02</td>\n",
       "      <td>3.423180e+02</td>\n",
       "      <td>1.0</td>\n",
       "      <td>288.00</td>\n",
       "      <td>455.00</td>\n",
       "      <td>612.0</td>\n",
       "      <td>3190.0</td>\n",
       "    </tr>\n",
       "    <tr>\n",
       "      <th>ponds_around3000</th>\n",
       "      <td>18181.0</td>\n",
       "      <td>7.702547e-01</td>\n",
       "      <td>9.383456e-01</td>\n",
       "      <td>0.0</td>\n",
       "      <td>0.00</td>\n",
       "      <td>1.00</td>\n",
       "      <td>1.0</td>\n",
       "      <td>3.0</td>\n",
       "    </tr>\n",
       "    <tr>\n",
       "      <th>ponds_nearest</th>\n",
       "      <td>9110.0</td>\n",
       "      <td>5.179809e+02</td>\n",
       "      <td>2.777206e+02</td>\n",
       "      <td>13.0</td>\n",
       "      <td>294.00</td>\n",
       "      <td>502.00</td>\n",
       "      <td>729.0</td>\n",
       "      <td>1344.0</td>\n",
       "    </tr>\n",
       "    <tr>\n",
       "      <th>days_exposition</th>\n",
       "      <td>20518.0</td>\n",
       "      <td>1.808886e+02</td>\n",
       "      <td>2.197280e+02</td>\n",
       "      <td>1.0</td>\n",
       "      <td>45.00</td>\n",
       "      <td>95.00</td>\n",
       "      <td>232.0</td>\n",
       "      <td>1580.0</td>\n",
       "    </tr>\n",
       "  </tbody>\n",
       "</table>\n",
       "</div>"
      ],
      "text/plain": [
       "                       count          mean           std      min         25%  \\\n",
       "total_images         23699.0  9.858475e+00  5.682529e+00      0.0        6.00   \n",
       "last_price           23699.0  6.541549e+06  1.088701e+07  12190.0  3400000.00   \n",
       "total_area           23699.0  6.034865e+01  3.565408e+01     12.0       40.00   \n",
       "rooms                23699.0  2.070636e+00  1.078405e+00      0.0        1.00   \n",
       "ceiling_height       14504.0  2.771499e+00  1.261056e+00      1.0        2.52   \n",
       "floors_total         23613.0  1.067382e+01  6.597173e+00      1.0        5.00   \n",
       "living_area          21796.0  3.445785e+01  2.203045e+01      2.0       18.60   \n",
       "floor                23699.0  5.892358e+00  4.885249e+00      1.0        2.00   \n",
       "kitchen_area         21421.0  1.056981e+01  5.905438e+00      1.3        7.00   \n",
       "balcony              12180.0  1.150082e+00  1.071300e+00      0.0        0.00   \n",
       "airports_nearest     18157.0  2.879367e+04  1.263088e+04      0.0    18585.00   \n",
       "cityCenters_nearest  18180.0  1.419128e+04  8.608386e+03    181.0     9238.00   \n",
       "parks_around3000     18181.0  6.114075e-01  8.020736e-01      0.0        0.00   \n",
       "parks_nearest         8079.0  4.908046e+02  3.423180e+02      1.0      288.00   \n",
       "ponds_around3000     18181.0  7.702547e-01  9.383456e-01      0.0        0.00   \n",
       "ponds_nearest         9110.0  5.179809e+02  2.777206e+02     13.0      294.00   \n",
       "days_exposition      20518.0  1.808886e+02  2.197280e+02      1.0       45.00   \n",
       "\n",
       "                            50%        75%          max  \n",
       "total_images               9.00       14.0         50.0  \n",
       "last_price           4650000.00  6800000.0  763000000.0  \n",
       "total_area                52.00       69.9        900.0  \n",
       "rooms                      2.00        3.0         19.0  \n",
       "ceiling_height             2.65        2.8        100.0  \n",
       "floors_total               9.00       16.0         60.0  \n",
       "living_area               30.00       42.3        409.7  \n",
       "floor                      4.00        8.0         33.0  \n",
       "kitchen_area               9.10       12.0        112.0  \n",
       "balcony                    1.00        2.0          5.0  \n",
       "airports_nearest       26726.00    37273.0      84869.0  \n",
       "cityCenters_nearest    13098.50    16293.0      65968.0  \n",
       "parks_around3000           0.00        1.0          3.0  \n",
       "parks_nearest            455.00      612.0       3190.0  \n",
       "ponds_around3000           1.00        1.0          3.0  \n",
       "ponds_nearest            502.00      729.0       1344.0  \n",
       "days_exposition           95.00      232.0       1580.0  "
      ]
     },
     "execution_count": 5,
     "metadata": {},
     "output_type": "execute_result"
    }
   ],
   "source": [
    "df.describe().T"
   ]
  },
  {
   "cell_type": "code",
   "execution_count": 6,
   "metadata": {},
   "outputs": [
    {
     "data": {
      "text/html": [
       "<div>\n",
       "<style scoped>\n",
       "    .dataframe tbody tr th:only-of-type {\n",
       "        vertical-align: middle;\n",
       "    }\n",
       "\n",
       "    .dataframe tbody tr th {\n",
       "        vertical-align: top;\n",
       "    }\n",
       "\n",
       "    .dataframe thead th {\n",
       "        text-align: right;\n",
       "    }\n",
       "</style>\n",
       "<table border=\"1\" class=\"dataframe\">\n",
       "  <thead>\n",
       "    <tr style=\"text-align: right;\">\n",
       "      <th></th>\n",
       "      <th>total_images</th>\n",
       "      <th>last_price</th>\n",
       "      <th>total_area</th>\n",
       "      <th>first_day_exposition</th>\n",
       "      <th>rooms</th>\n",
       "      <th>ceiling_height</th>\n",
       "      <th>floors_total</th>\n",
       "      <th>living_area</th>\n",
       "      <th>floor</th>\n",
       "      <th>is_apartment</th>\n",
       "      <th>studio</th>\n",
       "      <th>open_plan</th>\n",
       "      <th>kitchen_area</th>\n",
       "      <th>balcony</th>\n",
       "      <th>locality_name</th>\n",
       "      <th>airports_nearest</th>\n",
       "      <th>cityCenters_nearest</th>\n",
       "      <th>parks_around3000</th>\n",
       "      <th>parks_nearest</th>\n",
       "      <th>ponds_around3000</th>\n",
       "      <th>ponds_nearest</th>\n",
       "      <th>days_exposition</th>\n",
       "    </tr>\n",
       "  </thead>\n",
       "  <tbody>\n",
       "    <tr>\n",
       "      <th>23369</th>\n",
       "      <td>19</td>\n",
       "      <td>20900000.0</td>\n",
       "      <td>129.0</td>\n",
       "      <td>2016-05-13T00:00:00</td>\n",
       "      <td>3</td>\n",
       "      <td>3.02</td>\n",
       "      <td>8.0</td>\n",
       "      <td>81.0</td>\n",
       "      <td>7</td>\n",
       "      <td>NaN</td>\n",
       "      <td>False</td>\n",
       "      <td>False</td>\n",
       "      <td>19.0</td>\n",
       "      <td>1.0</td>\n",
       "      <td>Санкт-Петербург</td>\n",
       "      <td>22913.0</td>\n",
       "      <td>2454.0</td>\n",
       "      <td>0.0</td>\n",
       "      <td>NaN</td>\n",
       "      <td>0.0</td>\n",
       "      <td>NaN</td>\n",
       "      <td>188.0</td>\n",
       "    </tr>\n",
       "    <tr>\n",
       "      <th>19965</th>\n",
       "      <td>2</td>\n",
       "      <td>2874906.0</td>\n",
       "      <td>55.0</td>\n",
       "      <td>2017-01-24T00:00:00</td>\n",
       "      <td>2</td>\n",
       "      <td>NaN</td>\n",
       "      <td>15.0</td>\n",
       "      <td>25.0</td>\n",
       "      <td>5</td>\n",
       "      <td>NaN</td>\n",
       "      <td>False</td>\n",
       "      <td>False</td>\n",
       "      <td>11.0</td>\n",
       "      <td>0.0</td>\n",
       "      <td>Никольское</td>\n",
       "      <td>NaN</td>\n",
       "      <td>NaN</td>\n",
       "      <td>NaN</td>\n",
       "      <td>NaN</td>\n",
       "      <td>NaN</td>\n",
       "      <td>NaN</td>\n",
       "      <td>45.0</td>\n",
       "    </tr>\n",
       "    <tr>\n",
       "      <th>4843</th>\n",
       "      <td>9</td>\n",
       "      <td>5500000.0</td>\n",
       "      <td>52.0</td>\n",
       "      <td>2016-06-21T00:00:00</td>\n",
       "      <td>2</td>\n",
       "      <td>NaN</td>\n",
       "      <td>12.0</td>\n",
       "      <td>30.0</td>\n",
       "      <td>9</td>\n",
       "      <td>NaN</td>\n",
       "      <td>False</td>\n",
       "      <td>False</td>\n",
       "      <td>10.0</td>\n",
       "      <td>1.0</td>\n",
       "      <td>Санкт-Петербург</td>\n",
       "      <td>35717.0</td>\n",
       "      <td>12306.0</td>\n",
       "      <td>1.0</td>\n",
       "      <td>397.0</td>\n",
       "      <td>1.0</td>\n",
       "      <td>477.0</td>\n",
       "      <td>83.0</td>\n",
       "    </tr>\n",
       "    <tr>\n",
       "      <th>18932</th>\n",
       "      <td>8</td>\n",
       "      <td>5000000.0</td>\n",
       "      <td>55.0</td>\n",
       "      <td>2016-04-28T00:00:00</td>\n",
       "      <td>3</td>\n",
       "      <td>NaN</td>\n",
       "      <td>5.0</td>\n",
       "      <td>40.0</td>\n",
       "      <td>5</td>\n",
       "      <td>False</td>\n",
       "      <td>False</td>\n",
       "      <td>False</td>\n",
       "      <td>6.0</td>\n",
       "      <td>0.0</td>\n",
       "      <td>Санкт-Петербург</td>\n",
       "      <td>39812.0</td>\n",
       "      <td>9072.0</td>\n",
       "      <td>2.0</td>\n",
       "      <td>378.0</td>\n",
       "      <td>0.0</td>\n",
       "      <td>NaN</td>\n",
       "      <td>60.0</td>\n",
       "    </tr>\n",
       "    <tr>\n",
       "      <th>14738</th>\n",
       "      <td>7</td>\n",
       "      <td>2750000.0</td>\n",
       "      <td>34.0</td>\n",
       "      <td>2017-10-17T00:00:00</td>\n",
       "      <td>1</td>\n",
       "      <td>NaN</td>\n",
       "      <td>26.0</td>\n",
       "      <td>15.0</td>\n",
       "      <td>23</td>\n",
       "      <td>NaN</td>\n",
       "      <td>False</td>\n",
       "      <td>False</td>\n",
       "      <td>9.0</td>\n",
       "      <td>NaN</td>\n",
       "      <td>посёлок Мурино</td>\n",
       "      <td>NaN</td>\n",
       "      <td>NaN</td>\n",
       "      <td>NaN</td>\n",
       "      <td>NaN</td>\n",
       "      <td>NaN</td>\n",
       "      <td>NaN</td>\n",
       "      <td>107.0</td>\n",
       "    </tr>\n",
       "    <tr>\n",
       "      <th>217</th>\n",
       "      <td>19</td>\n",
       "      <td>6550000.0</td>\n",
       "      <td>79.0</td>\n",
       "      <td>2018-04-05T00:00:00</td>\n",
       "      <td>4</td>\n",
       "      <td>2.60</td>\n",
       "      <td>9.0</td>\n",
       "      <td>55.3</td>\n",
       "      <td>6</td>\n",
       "      <td>NaN</td>\n",
       "      <td>False</td>\n",
       "      <td>False</td>\n",
       "      <td>10.0</td>\n",
       "      <td>1.0</td>\n",
       "      <td>Санкт-Петербург</td>\n",
       "      <td>49666.0</td>\n",
       "      <td>16010.0</td>\n",
       "      <td>0.0</td>\n",
       "      <td>NaN</td>\n",
       "      <td>0.0</td>\n",
       "      <td>NaN</td>\n",
       "      <td>122.0</td>\n",
       "    </tr>\n",
       "    <tr>\n",
       "      <th>1911</th>\n",
       "      <td>3</td>\n",
       "      <td>3900000.0</td>\n",
       "      <td>42.5</td>\n",
       "      <td>2019-04-26T00:00:00</td>\n",
       "      <td>1</td>\n",
       "      <td>2.78</td>\n",
       "      <td>25.0</td>\n",
       "      <td>19.5</td>\n",
       "      <td>19</td>\n",
       "      <td>False</td>\n",
       "      <td>False</td>\n",
       "      <td>False</td>\n",
       "      <td>12.5</td>\n",
       "      <td>2.0</td>\n",
       "      <td>Санкт-Петербург</td>\n",
       "      <td>15839.0</td>\n",
       "      <td>14635.0</td>\n",
       "      <td>0.0</td>\n",
       "      <td>NaN</td>\n",
       "      <td>1.0</td>\n",
       "      <td>1036.0</td>\n",
       "      <td>NaN</td>\n",
       "    </tr>\n",
       "    <tr>\n",
       "      <th>1605</th>\n",
       "      <td>18</td>\n",
       "      <td>5200000.0</td>\n",
       "      <td>49.0</td>\n",
       "      <td>2019-03-17T00:00:00</td>\n",
       "      <td>2</td>\n",
       "      <td>2.50</td>\n",
       "      <td>9.0</td>\n",
       "      <td>30.8</td>\n",
       "      <td>3</td>\n",
       "      <td>NaN</td>\n",
       "      <td>False</td>\n",
       "      <td>False</td>\n",
       "      <td>6.6</td>\n",
       "      <td>1.0</td>\n",
       "      <td>Санкт-Петербург</td>\n",
       "      <td>23226.0</td>\n",
       "      <td>15840.0</td>\n",
       "      <td>0.0</td>\n",
       "      <td>NaN</td>\n",
       "      <td>0.0</td>\n",
       "      <td>NaN</td>\n",
       "      <td>NaN</td>\n",
       "    </tr>\n",
       "    <tr>\n",
       "      <th>11455</th>\n",
       "      <td>7</td>\n",
       "      <td>4600000.0</td>\n",
       "      <td>41.0</td>\n",
       "      <td>2019-04-22T00:00:00</td>\n",
       "      <td>1</td>\n",
       "      <td>2.70</td>\n",
       "      <td>12.0</td>\n",
       "      <td>20.0</td>\n",
       "      <td>4</td>\n",
       "      <td>NaN</td>\n",
       "      <td>False</td>\n",
       "      <td>False</td>\n",
       "      <td>10.0</td>\n",
       "      <td>NaN</td>\n",
       "      <td>Санкт-Петербург</td>\n",
       "      <td>34781.0</td>\n",
       "      <td>12851.0</td>\n",
       "      <td>1.0</td>\n",
       "      <td>650.0</td>\n",
       "      <td>1.0</td>\n",
       "      <td>682.0</td>\n",
       "      <td>NaN</td>\n",
       "    </tr>\n",
       "    <tr>\n",
       "      <th>5937</th>\n",
       "      <td>11</td>\n",
       "      <td>4550000.0</td>\n",
       "      <td>43.0</td>\n",
       "      <td>2017-09-07T00:00:00</td>\n",
       "      <td>1</td>\n",
       "      <td>NaN</td>\n",
       "      <td>16.0</td>\n",
       "      <td>19.8</td>\n",
       "      <td>15</td>\n",
       "      <td>NaN</td>\n",
       "      <td>False</td>\n",
       "      <td>False</td>\n",
       "      <td>9.5</td>\n",
       "      <td>0.0</td>\n",
       "      <td>Санкт-Петербург</td>\n",
       "      <td>32672.0</td>\n",
       "      <td>13836.0</td>\n",
       "      <td>0.0</td>\n",
       "      <td>NaN</td>\n",
       "      <td>0.0</td>\n",
       "      <td>NaN</td>\n",
       "      <td>35.0</td>\n",
       "    </tr>\n",
       "    <tr>\n",
       "      <th>17753</th>\n",
       "      <td>12</td>\n",
       "      <td>1800000.0</td>\n",
       "      <td>117.3</td>\n",
       "      <td>2016-02-18T00:00:00</td>\n",
       "      <td>5</td>\n",
       "      <td>NaN</td>\n",
       "      <td>4.0</td>\n",
       "      <td>23.6</td>\n",
       "      <td>2</td>\n",
       "      <td>False</td>\n",
       "      <td>False</td>\n",
       "      <td>False</td>\n",
       "      <td>12.9</td>\n",
       "      <td>0.0</td>\n",
       "      <td>Санкт-Петербург</td>\n",
       "      <td>24670.0</td>\n",
       "      <td>5238.0</td>\n",
       "      <td>0.0</td>\n",
       "      <td>NaN</td>\n",
       "      <td>0.0</td>\n",
       "      <td>NaN</td>\n",
       "      <td>139.0</td>\n",
       "    </tr>\n",
       "    <tr>\n",
       "      <th>15041</th>\n",
       "      <td>9</td>\n",
       "      <td>4500000.0</td>\n",
       "      <td>57.6</td>\n",
       "      <td>2019-04-17T00:00:00</td>\n",
       "      <td>3</td>\n",
       "      <td>2.50</td>\n",
       "      <td>9.0</td>\n",
       "      <td>38.9</td>\n",
       "      <td>3</td>\n",
       "      <td>NaN</td>\n",
       "      <td>False</td>\n",
       "      <td>False</td>\n",
       "      <td>6.5</td>\n",
       "      <td>3.0</td>\n",
       "      <td>Колпино</td>\n",
       "      <td>25228.0</td>\n",
       "      <td>31015.0</td>\n",
       "      <td>0.0</td>\n",
       "      <td>NaN</td>\n",
       "      <td>1.0</td>\n",
       "      <td>703.0</td>\n",
       "      <td>9.0</td>\n",
       "    </tr>\n",
       "    <tr>\n",
       "      <th>12353</th>\n",
       "      <td>1</td>\n",
       "      <td>12500000.0</td>\n",
       "      <td>47.0</td>\n",
       "      <td>2019-02-14T00:00:00</td>\n",
       "      <td>1</td>\n",
       "      <td>2.70</td>\n",
       "      <td>10.0</td>\n",
       "      <td>22.0</td>\n",
       "      <td>5</td>\n",
       "      <td>NaN</td>\n",
       "      <td>False</td>\n",
       "      <td>False</td>\n",
       "      <td>16.0</td>\n",
       "      <td>1.0</td>\n",
       "      <td>Санкт-Петербург</td>\n",
       "      <td>35276.0</td>\n",
       "      <td>15577.0</td>\n",
       "      <td>2.0</td>\n",
       "      <td>570.0</td>\n",
       "      <td>3.0</td>\n",
       "      <td>291.0</td>\n",
       "      <td>NaN</td>\n",
       "    </tr>\n",
       "    <tr>\n",
       "      <th>18939</th>\n",
       "      <td>9</td>\n",
       "      <td>10300000.0</td>\n",
       "      <td>135.0</td>\n",
       "      <td>2018-03-24T00:00:00</td>\n",
       "      <td>5</td>\n",
       "      <td>2.70</td>\n",
       "      <td>17.0</td>\n",
       "      <td>86.0</td>\n",
       "      <td>2</td>\n",
       "      <td>NaN</td>\n",
       "      <td>False</td>\n",
       "      <td>False</td>\n",
       "      <td>25.0</td>\n",
       "      <td>NaN</td>\n",
       "      <td>Санкт-Петербург</td>\n",
       "      <td>42517.0</td>\n",
       "      <td>11781.0</td>\n",
       "      <td>1.0</td>\n",
       "      <td>648.0</td>\n",
       "      <td>0.0</td>\n",
       "      <td>NaN</td>\n",
       "      <td>108.0</td>\n",
       "    </tr>\n",
       "    <tr>\n",
       "      <th>14467</th>\n",
       "      <td>5</td>\n",
       "      <td>3990000.0</td>\n",
       "      <td>45.0</td>\n",
       "      <td>2015-08-31T00:00:00</td>\n",
       "      <td>2</td>\n",
       "      <td>NaN</td>\n",
       "      <td>9.0</td>\n",
       "      <td>27.9</td>\n",
       "      <td>4</td>\n",
       "      <td>NaN</td>\n",
       "      <td>False</td>\n",
       "      <td>False</td>\n",
       "      <td>8.2</td>\n",
       "      <td>2.0</td>\n",
       "      <td>Санкт-Петербург</td>\n",
       "      <td>36771.0</td>\n",
       "      <td>11086.0</td>\n",
       "      <td>0.0</td>\n",
       "      <td>NaN</td>\n",
       "      <td>0.0</td>\n",
       "      <td>NaN</td>\n",
       "      <td>729.0</td>\n",
       "    </tr>\n",
       "  </tbody>\n",
       "</table>\n",
       "</div>"
      ],
      "text/plain": [
       "       total_images  last_price  total_area first_day_exposition  rooms  \\\n",
       "23369            19  20900000.0       129.0  2016-05-13T00:00:00      3   \n",
       "19965             2   2874906.0        55.0  2017-01-24T00:00:00      2   \n",
       "4843              9   5500000.0        52.0  2016-06-21T00:00:00      2   \n",
       "18932             8   5000000.0        55.0  2016-04-28T00:00:00      3   \n",
       "14738             7   2750000.0        34.0  2017-10-17T00:00:00      1   \n",
       "217              19   6550000.0        79.0  2018-04-05T00:00:00      4   \n",
       "1911              3   3900000.0        42.5  2019-04-26T00:00:00      1   \n",
       "1605             18   5200000.0        49.0  2019-03-17T00:00:00      2   \n",
       "11455             7   4600000.0        41.0  2019-04-22T00:00:00      1   \n",
       "5937             11   4550000.0        43.0  2017-09-07T00:00:00      1   \n",
       "17753            12   1800000.0       117.3  2016-02-18T00:00:00      5   \n",
       "15041             9   4500000.0        57.6  2019-04-17T00:00:00      3   \n",
       "12353             1  12500000.0        47.0  2019-02-14T00:00:00      1   \n",
       "18939             9  10300000.0       135.0  2018-03-24T00:00:00      5   \n",
       "14467             5   3990000.0        45.0  2015-08-31T00:00:00      2   \n",
       "\n",
       "       ceiling_height  floors_total  living_area  floor is_apartment  studio  \\\n",
       "23369            3.02           8.0         81.0      7          NaN   False   \n",
       "19965             NaN          15.0         25.0      5          NaN   False   \n",
       "4843              NaN          12.0         30.0      9          NaN   False   \n",
       "18932             NaN           5.0         40.0      5        False   False   \n",
       "14738             NaN          26.0         15.0     23          NaN   False   \n",
       "217              2.60           9.0         55.3      6          NaN   False   \n",
       "1911             2.78          25.0         19.5     19        False   False   \n",
       "1605             2.50           9.0         30.8      3          NaN   False   \n",
       "11455            2.70          12.0         20.0      4          NaN   False   \n",
       "5937              NaN          16.0         19.8     15          NaN   False   \n",
       "17753             NaN           4.0         23.6      2        False   False   \n",
       "15041            2.50           9.0         38.9      3          NaN   False   \n",
       "12353            2.70          10.0         22.0      5          NaN   False   \n",
       "18939            2.70          17.0         86.0      2          NaN   False   \n",
       "14467             NaN           9.0         27.9      4          NaN   False   \n",
       "\n",
       "       open_plan  kitchen_area  balcony    locality_name  airports_nearest  \\\n",
       "23369      False          19.0      1.0  Санкт-Петербург           22913.0   \n",
       "19965      False          11.0      0.0       Никольское               NaN   \n",
       "4843       False          10.0      1.0  Санкт-Петербург           35717.0   \n",
       "18932      False           6.0      0.0  Санкт-Петербург           39812.0   \n",
       "14738      False           9.0      NaN   посёлок Мурино               NaN   \n",
       "217        False          10.0      1.0  Санкт-Петербург           49666.0   \n",
       "1911       False          12.5      2.0  Санкт-Петербург           15839.0   \n",
       "1605       False           6.6      1.0  Санкт-Петербург           23226.0   \n",
       "11455      False          10.0      NaN  Санкт-Петербург           34781.0   \n",
       "5937       False           9.5      0.0  Санкт-Петербург           32672.0   \n",
       "17753      False          12.9      0.0  Санкт-Петербург           24670.0   \n",
       "15041      False           6.5      3.0          Колпино           25228.0   \n",
       "12353      False          16.0      1.0  Санкт-Петербург           35276.0   \n",
       "18939      False          25.0      NaN  Санкт-Петербург           42517.0   \n",
       "14467      False           8.2      2.0  Санкт-Петербург           36771.0   \n",
       "\n",
       "       cityCenters_nearest  parks_around3000  parks_nearest  ponds_around3000  \\\n",
       "23369               2454.0               0.0            NaN               0.0   \n",
       "19965                  NaN               NaN            NaN               NaN   \n",
       "4843               12306.0               1.0          397.0               1.0   \n",
       "18932               9072.0               2.0          378.0               0.0   \n",
       "14738                  NaN               NaN            NaN               NaN   \n",
       "217                16010.0               0.0            NaN               0.0   \n",
       "1911               14635.0               0.0            NaN               1.0   \n",
       "1605               15840.0               0.0            NaN               0.0   \n",
       "11455              12851.0               1.0          650.0               1.0   \n",
       "5937               13836.0               0.0            NaN               0.0   \n",
       "17753               5238.0               0.0            NaN               0.0   \n",
       "15041              31015.0               0.0            NaN               1.0   \n",
       "12353              15577.0               2.0          570.0               3.0   \n",
       "18939              11781.0               1.0          648.0               0.0   \n",
       "14467              11086.0               0.0            NaN               0.0   \n",
       "\n",
       "       ponds_nearest  days_exposition  \n",
       "23369            NaN            188.0  \n",
       "19965            NaN             45.0  \n",
       "4843           477.0             83.0  \n",
       "18932            NaN             60.0  \n",
       "14738            NaN            107.0  \n",
       "217              NaN            122.0  \n",
       "1911          1036.0              NaN  \n",
       "1605             NaN              NaN  \n",
       "11455          682.0              NaN  \n",
       "5937             NaN             35.0  \n",
       "17753            NaN            139.0  \n",
       "15041          703.0              9.0  \n",
       "12353          291.0              NaN  \n",
       "18939            NaN            108.0  \n",
       "14467            NaN            729.0  "
      ]
     },
     "execution_count": 6,
     "metadata": {},
     "output_type": "execute_result"
    }
   ],
   "source": [
    "df.sample(15)"
   ]
  },
  {
   "cell_type": "code",
   "execution_count": 7,
   "metadata": {
    "scrolled": true
   },
   "outputs": [
    {
     "data": {
      "text/html": [
       "<div>\n",
       "<style scoped>\n",
       "    .dataframe tbody tr th:only-of-type {\n",
       "        vertical-align: middle;\n",
       "    }\n",
       "\n",
       "    .dataframe tbody tr th {\n",
       "        vertical-align: top;\n",
       "    }\n",
       "\n",
       "    .dataframe thead th {\n",
       "        text-align: right;\n",
       "    }\n",
       "</style>\n",
       "<table border=\"1\" class=\"dataframe\">\n",
       "  <thead>\n",
       "    <tr style=\"text-align: right;\">\n",
       "      <th></th>\n",
       "      <th>total_images</th>\n",
       "      <th>last_price</th>\n",
       "      <th>total_area</th>\n",
       "      <th>first_day_exposition</th>\n",
       "      <th>rooms</th>\n",
       "      <th>ceiling_height</th>\n",
       "      <th>floors_total</th>\n",
       "      <th>living_area</th>\n",
       "      <th>floor</th>\n",
       "      <th>is_apartment</th>\n",
       "      <th>studio</th>\n",
       "      <th>open_plan</th>\n",
       "      <th>kitchen_area</th>\n",
       "      <th>balcony</th>\n",
       "      <th>locality_name</th>\n",
       "      <th>airports_nearest</th>\n",
       "      <th>cityCenters_nearest</th>\n",
       "      <th>parks_around3000</th>\n",
       "      <th>parks_nearest</th>\n",
       "      <th>ponds_around3000</th>\n",
       "      <th>ponds_nearest</th>\n",
       "      <th>days_exposition</th>\n",
       "    </tr>\n",
       "  </thead>\n",
       "  <tbody>\n",
       "    <tr>\n",
       "      <th>23684</th>\n",
       "      <td>20</td>\n",
       "      <td>21400000.0</td>\n",
       "      <td>145.00</td>\n",
       "      <td>2018-11-02T00:00:00</td>\n",
       "      <td>4</td>\n",
       "      <td>3.00</td>\n",
       "      <td>26.0</td>\n",
       "      <td>71.4</td>\n",
       "      <td>17</td>\n",
       "      <td>NaN</td>\n",
       "      <td>False</td>\n",
       "      <td>False</td>\n",
       "      <td>15.60</td>\n",
       "      <td>NaN</td>\n",
       "      <td>Санкт-Петербург</td>\n",
       "      <td>11827.0</td>\n",
       "      <td>11459.0</td>\n",
       "      <td>0.0</td>\n",
       "      <td>NaN</td>\n",
       "      <td>0.0</td>\n",
       "      <td>NaN</td>\n",
       "      <td>NaN</td>\n",
       "    </tr>\n",
       "    <tr>\n",
       "      <th>23685</th>\n",
       "      <td>15</td>\n",
       "      <td>2490000.0</td>\n",
       "      <td>31.00</td>\n",
       "      <td>2019-01-24T00:00:00</td>\n",
       "      <td>1</td>\n",
       "      <td>2.50</td>\n",
       "      <td>5.0</td>\n",
       "      <td>17.3</td>\n",
       "      <td>5</td>\n",
       "      <td>NaN</td>\n",
       "      <td>False</td>\n",
       "      <td>False</td>\n",
       "      <td>5.60</td>\n",
       "      <td>1.0</td>\n",
       "      <td>Ломоносов</td>\n",
       "      <td>48393.0</td>\n",
       "      <td>51818.0</td>\n",
       "      <td>0.0</td>\n",
       "      <td>NaN</td>\n",
       "      <td>0.0</td>\n",
       "      <td>NaN</td>\n",
       "      <td>NaN</td>\n",
       "    </tr>\n",
       "    <tr>\n",
       "      <th>23686</th>\n",
       "      <td>8</td>\n",
       "      <td>3300000.0</td>\n",
       "      <td>31.00</td>\n",
       "      <td>2017-04-29T00:00:00</td>\n",
       "      <td>1</td>\n",
       "      <td>2.55</td>\n",
       "      <td>9.0</td>\n",
       "      <td>18.0</td>\n",
       "      <td>6</td>\n",
       "      <td>NaN</td>\n",
       "      <td>False</td>\n",
       "      <td>False</td>\n",
       "      <td>6.50</td>\n",
       "      <td>0.0</td>\n",
       "      <td>Санкт-Петербург</td>\n",
       "      <td>11751.0</td>\n",
       "      <td>11602.0</td>\n",
       "      <td>1.0</td>\n",
       "      <td>140.0</td>\n",
       "      <td>1.0</td>\n",
       "      <td>317.0</td>\n",
       "      <td>193.0</td>\n",
       "    </tr>\n",
       "    <tr>\n",
       "      <th>23687</th>\n",
       "      <td>6</td>\n",
       "      <td>3200000.0</td>\n",
       "      <td>39.00</td>\n",
       "      <td>2017-12-16T00:00:00</td>\n",
       "      <td>1</td>\n",
       "      <td>NaN</td>\n",
       "      <td>9.0</td>\n",
       "      <td>20.0</td>\n",
       "      <td>6</td>\n",
       "      <td>NaN</td>\n",
       "      <td>False</td>\n",
       "      <td>False</td>\n",
       "      <td>11.00</td>\n",
       "      <td>2.0</td>\n",
       "      <td>Санкт-Петербург</td>\n",
       "      <td>40837.0</td>\n",
       "      <td>16704.0</td>\n",
       "      <td>0.0</td>\n",
       "      <td>NaN</td>\n",
       "      <td>0.0</td>\n",
       "      <td>NaN</td>\n",
       "      <td>38.0</td>\n",
       "    </tr>\n",
       "    <tr>\n",
       "      <th>23688</th>\n",
       "      <td>19</td>\n",
       "      <td>9200000.0</td>\n",
       "      <td>101.00</td>\n",
       "      <td>2019-04-01T00:00:00</td>\n",
       "      <td>3</td>\n",
       "      <td>3.05</td>\n",
       "      <td>15.0</td>\n",
       "      <td>63.0</td>\n",
       "      <td>12</td>\n",
       "      <td>NaN</td>\n",
       "      <td>False</td>\n",
       "      <td>False</td>\n",
       "      <td>15.00</td>\n",
       "      <td>NaN</td>\n",
       "      <td>Санкт-Петербург</td>\n",
       "      <td>15632.0</td>\n",
       "      <td>14428.0</td>\n",
       "      <td>0.0</td>\n",
       "      <td>NaN</td>\n",
       "      <td>0.0</td>\n",
       "      <td>NaN</td>\n",
       "      <td>23.0</td>\n",
       "    </tr>\n",
       "    <tr>\n",
       "      <th>23689</th>\n",
       "      <td>13</td>\n",
       "      <td>3550000.0</td>\n",
       "      <td>35.30</td>\n",
       "      <td>2018-02-28T00:00:00</td>\n",
       "      <td>1</td>\n",
       "      <td>2.86</td>\n",
       "      <td>15.0</td>\n",
       "      <td>16.3</td>\n",
       "      <td>4</td>\n",
       "      <td>NaN</td>\n",
       "      <td>False</td>\n",
       "      <td>False</td>\n",
       "      <td>9.10</td>\n",
       "      <td>2.0</td>\n",
       "      <td>Санкт-Петербург</td>\n",
       "      <td>17284.0</td>\n",
       "      <td>16081.0</td>\n",
       "      <td>1.0</td>\n",
       "      <td>353.0</td>\n",
       "      <td>2.0</td>\n",
       "      <td>652.0</td>\n",
       "      <td>29.0</td>\n",
       "    </tr>\n",
       "    <tr>\n",
       "      <th>23690</th>\n",
       "      <td>3</td>\n",
       "      <td>5500000.0</td>\n",
       "      <td>52.00</td>\n",
       "      <td>2018-07-19T00:00:00</td>\n",
       "      <td>2</td>\n",
       "      <td>NaN</td>\n",
       "      <td>5.0</td>\n",
       "      <td>31.0</td>\n",
       "      <td>2</td>\n",
       "      <td>NaN</td>\n",
       "      <td>False</td>\n",
       "      <td>False</td>\n",
       "      <td>6.00</td>\n",
       "      <td>NaN</td>\n",
       "      <td>Санкт-Петербург</td>\n",
       "      <td>20151.0</td>\n",
       "      <td>6263.0</td>\n",
       "      <td>1.0</td>\n",
       "      <td>300.0</td>\n",
       "      <td>0.0</td>\n",
       "      <td>NaN</td>\n",
       "      <td>15.0</td>\n",
       "    </tr>\n",
       "    <tr>\n",
       "      <th>23691</th>\n",
       "      <td>11</td>\n",
       "      <td>9470000.0</td>\n",
       "      <td>72.90</td>\n",
       "      <td>2016-10-13T00:00:00</td>\n",
       "      <td>2</td>\n",
       "      <td>2.75</td>\n",
       "      <td>25.0</td>\n",
       "      <td>40.3</td>\n",
       "      <td>7</td>\n",
       "      <td>NaN</td>\n",
       "      <td>False</td>\n",
       "      <td>False</td>\n",
       "      <td>10.60</td>\n",
       "      <td>1.0</td>\n",
       "      <td>Санкт-Петербург</td>\n",
       "      <td>19424.0</td>\n",
       "      <td>4489.0</td>\n",
       "      <td>0.0</td>\n",
       "      <td>NaN</td>\n",
       "      <td>1.0</td>\n",
       "      <td>806.0</td>\n",
       "      <td>519.0</td>\n",
       "    </tr>\n",
       "    <tr>\n",
       "      <th>23692</th>\n",
       "      <td>2</td>\n",
       "      <td>1350000.0</td>\n",
       "      <td>30.00</td>\n",
       "      <td>2017-07-07T00:00:00</td>\n",
       "      <td>1</td>\n",
       "      <td>NaN</td>\n",
       "      <td>5.0</td>\n",
       "      <td>17.5</td>\n",
       "      <td>4</td>\n",
       "      <td>NaN</td>\n",
       "      <td>False</td>\n",
       "      <td>False</td>\n",
       "      <td>6.00</td>\n",
       "      <td>NaN</td>\n",
       "      <td>Тихвин</td>\n",
       "      <td>NaN</td>\n",
       "      <td>NaN</td>\n",
       "      <td>NaN</td>\n",
       "      <td>NaN</td>\n",
       "      <td>NaN</td>\n",
       "      <td>NaN</td>\n",
       "      <td>413.0</td>\n",
       "    </tr>\n",
       "    <tr>\n",
       "      <th>23693</th>\n",
       "      <td>9</td>\n",
       "      <td>4600000.0</td>\n",
       "      <td>62.40</td>\n",
       "      <td>2016-08-05T00:00:00</td>\n",
       "      <td>3</td>\n",
       "      <td>2.60</td>\n",
       "      <td>9.0</td>\n",
       "      <td>40.0</td>\n",
       "      <td>8</td>\n",
       "      <td>NaN</td>\n",
       "      <td>False</td>\n",
       "      <td>False</td>\n",
       "      <td>8.00</td>\n",
       "      <td>0.0</td>\n",
       "      <td>Петергоф</td>\n",
       "      <td>45602.0</td>\n",
       "      <td>34104.0</td>\n",
       "      <td>1.0</td>\n",
       "      <td>352.0</td>\n",
       "      <td>1.0</td>\n",
       "      <td>675.0</td>\n",
       "      <td>239.0</td>\n",
       "    </tr>\n",
       "    <tr>\n",
       "      <th>23694</th>\n",
       "      <td>9</td>\n",
       "      <td>9700000.0</td>\n",
       "      <td>133.81</td>\n",
       "      <td>2017-03-21T00:00:00</td>\n",
       "      <td>3</td>\n",
       "      <td>3.70</td>\n",
       "      <td>5.0</td>\n",
       "      <td>73.3</td>\n",
       "      <td>3</td>\n",
       "      <td>NaN</td>\n",
       "      <td>False</td>\n",
       "      <td>False</td>\n",
       "      <td>13.83</td>\n",
       "      <td>NaN</td>\n",
       "      <td>Санкт-Петербург</td>\n",
       "      <td>24665.0</td>\n",
       "      <td>4232.0</td>\n",
       "      <td>1.0</td>\n",
       "      <td>796.0</td>\n",
       "      <td>3.0</td>\n",
       "      <td>381.0</td>\n",
       "      <td>NaN</td>\n",
       "    </tr>\n",
       "    <tr>\n",
       "      <th>23695</th>\n",
       "      <td>14</td>\n",
       "      <td>3100000.0</td>\n",
       "      <td>59.00</td>\n",
       "      <td>2018-01-15T00:00:00</td>\n",
       "      <td>3</td>\n",
       "      <td>NaN</td>\n",
       "      <td>5.0</td>\n",
       "      <td>38.0</td>\n",
       "      <td>4</td>\n",
       "      <td>NaN</td>\n",
       "      <td>False</td>\n",
       "      <td>False</td>\n",
       "      <td>8.50</td>\n",
       "      <td>NaN</td>\n",
       "      <td>Тосно</td>\n",
       "      <td>NaN</td>\n",
       "      <td>NaN</td>\n",
       "      <td>NaN</td>\n",
       "      <td>NaN</td>\n",
       "      <td>NaN</td>\n",
       "      <td>NaN</td>\n",
       "      <td>45.0</td>\n",
       "    </tr>\n",
       "    <tr>\n",
       "      <th>23696</th>\n",
       "      <td>18</td>\n",
       "      <td>2500000.0</td>\n",
       "      <td>56.70</td>\n",
       "      <td>2018-02-11T00:00:00</td>\n",
       "      <td>2</td>\n",
       "      <td>NaN</td>\n",
       "      <td>3.0</td>\n",
       "      <td>29.7</td>\n",
       "      <td>1</td>\n",
       "      <td>NaN</td>\n",
       "      <td>False</td>\n",
       "      <td>False</td>\n",
       "      <td>NaN</td>\n",
       "      <td>NaN</td>\n",
       "      <td>село Рождествено</td>\n",
       "      <td>NaN</td>\n",
       "      <td>NaN</td>\n",
       "      <td>NaN</td>\n",
       "      <td>NaN</td>\n",
       "      <td>NaN</td>\n",
       "      <td>NaN</td>\n",
       "      <td>NaN</td>\n",
       "    </tr>\n",
       "    <tr>\n",
       "      <th>23697</th>\n",
       "      <td>13</td>\n",
       "      <td>11475000.0</td>\n",
       "      <td>76.75</td>\n",
       "      <td>2017-03-28T00:00:00</td>\n",
       "      <td>2</td>\n",
       "      <td>3.00</td>\n",
       "      <td>17.0</td>\n",
       "      <td>NaN</td>\n",
       "      <td>12</td>\n",
       "      <td>NaN</td>\n",
       "      <td>False</td>\n",
       "      <td>False</td>\n",
       "      <td>23.30</td>\n",
       "      <td>2.0</td>\n",
       "      <td>Санкт-Петербург</td>\n",
       "      <td>39140.0</td>\n",
       "      <td>10364.0</td>\n",
       "      <td>2.0</td>\n",
       "      <td>173.0</td>\n",
       "      <td>3.0</td>\n",
       "      <td>196.0</td>\n",
       "      <td>602.0</td>\n",
       "    </tr>\n",
       "    <tr>\n",
       "      <th>23698</th>\n",
       "      <td>4</td>\n",
       "      <td>1350000.0</td>\n",
       "      <td>32.30</td>\n",
       "      <td>2017-07-21T00:00:00</td>\n",
       "      <td>1</td>\n",
       "      <td>2.50</td>\n",
       "      <td>5.0</td>\n",
       "      <td>12.3</td>\n",
       "      <td>1</td>\n",
       "      <td>NaN</td>\n",
       "      <td>False</td>\n",
       "      <td>False</td>\n",
       "      <td>9.00</td>\n",
       "      <td>NaN</td>\n",
       "      <td>поселок Новый Учхоз</td>\n",
       "      <td>NaN</td>\n",
       "      <td>NaN</td>\n",
       "      <td>NaN</td>\n",
       "      <td>NaN</td>\n",
       "      <td>NaN</td>\n",
       "      <td>NaN</td>\n",
       "      <td>NaN</td>\n",
       "    </tr>\n",
       "  </tbody>\n",
       "</table>\n",
       "</div>"
      ],
      "text/plain": [
       "       total_images  last_price  total_area first_day_exposition  rooms  \\\n",
       "23684            20  21400000.0      145.00  2018-11-02T00:00:00      4   \n",
       "23685            15   2490000.0       31.00  2019-01-24T00:00:00      1   \n",
       "23686             8   3300000.0       31.00  2017-04-29T00:00:00      1   \n",
       "23687             6   3200000.0       39.00  2017-12-16T00:00:00      1   \n",
       "23688            19   9200000.0      101.00  2019-04-01T00:00:00      3   \n",
       "23689            13   3550000.0       35.30  2018-02-28T00:00:00      1   \n",
       "23690             3   5500000.0       52.00  2018-07-19T00:00:00      2   \n",
       "23691            11   9470000.0       72.90  2016-10-13T00:00:00      2   \n",
       "23692             2   1350000.0       30.00  2017-07-07T00:00:00      1   \n",
       "23693             9   4600000.0       62.40  2016-08-05T00:00:00      3   \n",
       "23694             9   9700000.0      133.81  2017-03-21T00:00:00      3   \n",
       "23695            14   3100000.0       59.00  2018-01-15T00:00:00      3   \n",
       "23696            18   2500000.0       56.70  2018-02-11T00:00:00      2   \n",
       "23697            13  11475000.0       76.75  2017-03-28T00:00:00      2   \n",
       "23698             4   1350000.0       32.30  2017-07-21T00:00:00      1   \n",
       "\n",
       "       ceiling_height  floors_total  living_area  floor is_apartment  studio  \\\n",
       "23684            3.00          26.0         71.4     17          NaN   False   \n",
       "23685            2.50           5.0         17.3      5          NaN   False   \n",
       "23686            2.55           9.0         18.0      6          NaN   False   \n",
       "23687             NaN           9.0         20.0      6          NaN   False   \n",
       "23688            3.05          15.0         63.0     12          NaN   False   \n",
       "23689            2.86          15.0         16.3      4          NaN   False   \n",
       "23690             NaN           5.0         31.0      2          NaN   False   \n",
       "23691            2.75          25.0         40.3      7          NaN   False   \n",
       "23692             NaN           5.0         17.5      4          NaN   False   \n",
       "23693            2.60           9.0         40.0      8          NaN   False   \n",
       "23694            3.70           5.0         73.3      3          NaN   False   \n",
       "23695             NaN           5.0         38.0      4          NaN   False   \n",
       "23696             NaN           3.0         29.7      1          NaN   False   \n",
       "23697            3.00          17.0          NaN     12          NaN   False   \n",
       "23698            2.50           5.0         12.3      1          NaN   False   \n",
       "\n",
       "       open_plan  kitchen_area  balcony        locality_name  \\\n",
       "23684      False         15.60      NaN      Санкт-Петербург   \n",
       "23685      False          5.60      1.0            Ломоносов   \n",
       "23686      False          6.50      0.0      Санкт-Петербург   \n",
       "23687      False         11.00      2.0      Санкт-Петербург   \n",
       "23688      False         15.00      NaN      Санкт-Петербург   \n",
       "23689      False          9.10      2.0      Санкт-Петербург   \n",
       "23690      False          6.00      NaN      Санкт-Петербург   \n",
       "23691      False         10.60      1.0      Санкт-Петербург   \n",
       "23692      False          6.00      NaN               Тихвин   \n",
       "23693      False          8.00      0.0             Петергоф   \n",
       "23694      False         13.83      NaN      Санкт-Петербург   \n",
       "23695      False          8.50      NaN                Тосно   \n",
       "23696      False           NaN      NaN     село Рождествено   \n",
       "23697      False         23.30      2.0      Санкт-Петербург   \n",
       "23698      False          9.00      NaN  поселок Новый Учхоз   \n",
       "\n",
       "       airports_nearest  cityCenters_nearest  parks_around3000  parks_nearest  \\\n",
       "23684           11827.0              11459.0               0.0            NaN   \n",
       "23685           48393.0              51818.0               0.0            NaN   \n",
       "23686           11751.0              11602.0               1.0          140.0   \n",
       "23687           40837.0              16704.0               0.0            NaN   \n",
       "23688           15632.0              14428.0               0.0            NaN   \n",
       "23689           17284.0              16081.0               1.0          353.0   \n",
       "23690           20151.0               6263.0               1.0          300.0   \n",
       "23691           19424.0               4489.0               0.0            NaN   \n",
       "23692               NaN                  NaN               NaN            NaN   \n",
       "23693           45602.0              34104.0               1.0          352.0   \n",
       "23694           24665.0               4232.0               1.0          796.0   \n",
       "23695               NaN                  NaN               NaN            NaN   \n",
       "23696               NaN                  NaN               NaN            NaN   \n",
       "23697           39140.0              10364.0               2.0          173.0   \n",
       "23698               NaN                  NaN               NaN            NaN   \n",
       "\n",
       "       ponds_around3000  ponds_nearest  days_exposition  \n",
       "23684               0.0            NaN              NaN  \n",
       "23685               0.0            NaN              NaN  \n",
       "23686               1.0          317.0            193.0  \n",
       "23687               0.0            NaN             38.0  \n",
       "23688               0.0            NaN             23.0  \n",
       "23689               2.0          652.0             29.0  \n",
       "23690               0.0            NaN             15.0  \n",
       "23691               1.0          806.0            519.0  \n",
       "23692               NaN            NaN            413.0  \n",
       "23693               1.0          675.0            239.0  \n",
       "23694               3.0          381.0              NaN  \n",
       "23695               NaN            NaN             45.0  \n",
       "23696               NaN            NaN              NaN  \n",
       "23697               3.0          196.0            602.0  \n",
       "23698               NaN            NaN              NaN  "
      ]
     },
     "execution_count": 7,
     "metadata": {},
     "output_type": "execute_result"
    }
   ],
   "source": [
    "df.tail(15)"
   ]
  },
  {
   "cell_type": "markdown",
   "metadata": {
    "id": "9L3e0rs2uqj7"
   },
   "source": [
    "**Вывод**"
   ]
  },
  {
   "cell_type": "markdown",
   "metadata": {
    "id": "xL2blF_Euqj8"
   },
   "source": [
    "1) Дата не записана в удобочитаемом формате, стоит её преобразовать в соответствующий формат - datetime;\n",
    "\n",
    "2) Большое количество пропусков в столбце с высотой потолков **ceiling_height**, стоит заполнить пропуски медианным значением (предположительно);\n",
    "\n",
    "3) Значения в столбце **floors_total** заменю целочисленным типом;\n",
    "\n",
    "4) Значения в столбце **living_area** пропущены, скорее всего, по причине того, что не была посчитана жил.площадь, а известна только площадь всей квартиры;\n",
    "\n",
    "5) Большое число пропусков в столбце **is_apartment** предположительно можно охарактеризовать тем, что апартаменты - жилое или не жилое помещение, а квартира - полностью жил.площадь с несколькими комнатами."
   ]
  },
  {
   "cell_type": "markdown",
   "metadata": {
    "id": "r6n1CZDuuqj8"
   },
   "source": [
    "## Предобработка данных"
   ]
  },
  {
   "cell_type": "code",
   "execution_count": 8,
   "metadata": {
    "id": "qWGaSUbGuqj9"
   },
   "outputs": [
    {
     "data": {
      "text/plain": [
       "10    1798\n",
       "9     1725\n",
       "20    1694\n",
       "8     1585\n",
       "7     1521\n",
       "6     1482\n",
       "11    1362\n",
       "5     1301\n",
       "12    1225\n",
       "0     1059\n",
       "13    1015\n",
       "4      986\n",
       "14     986\n",
       "15     948\n",
       "1      872\n",
       "3      769\n",
       "16     761\n",
       "17     650\n",
       "18     642\n",
       "2      640\n",
       "19     603\n",
       "23      16\n",
       "21      12\n",
       "24       8\n",
       "22       8\n",
       "26       5\n",
       "28       4\n",
       "32       4\n",
       "29       3\n",
       "50       3\n",
       "27       2\n",
       "35       2\n",
       "30       2\n",
       "31       2\n",
       "39       1\n",
       "25       1\n",
       "42       1\n",
       "37       1\n",
       "Name: total_images, dtype: int64"
      ]
     },
     "execution_count": 8,
     "metadata": {},
     "output_type": "execute_result"
    }
   ],
   "source": [
    "df['total_images'].value_counts()"
   ]
  },
  {
   "cell_type": "code",
   "execution_count": 9,
   "metadata": {
    "id": "F9Pk0zxGuqj8"
   },
   "outputs": [
    {
     "data": {
      "text/plain": [
       "Index(['total_images', 'last_price', 'total_area', 'first_day_exposition',\n",
       "       'rooms', 'ceiling_height', 'floors_total', 'living_area', 'floor',\n",
       "       'is_apartment', 'studio', 'open_plan', 'kitchen_area', 'balcony',\n",
       "       'locality_name', 'airports_nearest', 'cityCenters_nearest',\n",
       "       'parks_around3000', 'parks_nearest', 'ponds_around3000',\n",
       "       'ponds_nearest', 'days_exposition'],\n",
       "      dtype='object')"
      ]
     },
     "execution_count": 9,
     "metadata": {},
     "output_type": "execute_result"
    }
   ],
   "source": [
    "df.columns"
   ]
  },
  {
   "cell_type": "code",
   "execution_count": 10,
   "metadata": {},
   "outputs": [
    {
     "data": {
      "text/html": [
       "<div>\n",
       "<style scoped>\n",
       "    .dataframe tbody tr th:only-of-type {\n",
       "        vertical-align: middle;\n",
       "    }\n",
       "\n",
       "    .dataframe tbody tr th {\n",
       "        vertical-align: top;\n",
       "    }\n",
       "\n",
       "    .dataframe thead th {\n",
       "        text-align: right;\n",
       "    }\n",
       "</style>\n",
       "<table border=\"1\" class=\"dataframe\">\n",
       "  <thead>\n",
       "    <tr style=\"text-align: right;\">\n",
       "      <th></th>\n",
       "      <th>total_images</th>\n",
       "      <th>last_price</th>\n",
       "      <th>total_area</th>\n",
       "      <th>first_day_exposition</th>\n",
       "      <th>rooms</th>\n",
       "      <th>ceiling_height</th>\n",
       "      <th>floors_total</th>\n",
       "      <th>living_area</th>\n",
       "      <th>floor</th>\n",
       "      <th>is_apartment</th>\n",
       "      <th>studio</th>\n",
       "      <th>open_plan</th>\n",
       "      <th>kitchen_area</th>\n",
       "      <th>balcony</th>\n",
       "      <th>locality_name</th>\n",
       "      <th>airports_nearest</th>\n",
       "      <th>cityCenters_nearest</th>\n",
       "      <th>parks_around3000</th>\n",
       "      <th>parks_nearest</th>\n",
       "      <th>ponds_around3000</th>\n",
       "      <th>ponds_nearest</th>\n",
       "      <th>days_exposition</th>\n",
       "    </tr>\n",
       "  </thead>\n",
       "  <tbody>\n",
       "    <tr>\n",
       "      <th>9778</th>\n",
       "      <td>50</td>\n",
       "      <td>11000000.0</td>\n",
       "      <td>87.0</td>\n",
       "      <td>2017-10-25T00:00:00</td>\n",
       "      <td>2</td>\n",
       "      <td>NaN</td>\n",
       "      <td>25.0</td>\n",
       "      <td>32.5</td>\n",
       "      <td>11</td>\n",
       "      <td>NaN</td>\n",
       "      <td>False</td>\n",
       "      <td>False</td>\n",
       "      <td>31.0</td>\n",
       "      <td>5.0</td>\n",
       "      <td>Санкт-Петербург</td>\n",
       "      <td>9586.0</td>\n",
       "      <td>11649.0</td>\n",
       "      <td>0.0</td>\n",
       "      <td>NaN</td>\n",
       "      <td>0.0</td>\n",
       "      <td>NaN</td>\n",
       "      <td>3.0</td>\n",
       "    </tr>\n",
       "    <tr>\n",
       "      <th>12667</th>\n",
       "      <td>50</td>\n",
       "      <td>20500000.0</td>\n",
       "      <td>76.0</td>\n",
       "      <td>2017-12-10T00:00:00</td>\n",
       "      <td>3</td>\n",
       "      <td>NaN</td>\n",
       "      <td>20.0</td>\n",
       "      <td>47.0</td>\n",
       "      <td>16</td>\n",
       "      <td>NaN</td>\n",
       "      <td>False</td>\n",
       "      <td>False</td>\n",
       "      <td>29.0</td>\n",
       "      <td>NaN</td>\n",
       "      <td>Санкт-Петербург</td>\n",
       "      <td>50812.0</td>\n",
       "      <td>16141.0</td>\n",
       "      <td>0.0</td>\n",
       "      <td>NaN</td>\n",
       "      <td>0.0</td>\n",
       "      <td>NaN</td>\n",
       "      <td>5.0</td>\n",
       "    </tr>\n",
       "    <tr>\n",
       "      <th>17396</th>\n",
       "      <td>50</td>\n",
       "      <td>14500000.0</td>\n",
       "      <td>119.7</td>\n",
       "      <td>2017-12-02T00:00:00</td>\n",
       "      <td>4</td>\n",
       "      <td>4.0</td>\n",
       "      <td>4.0</td>\n",
       "      <td>87.5</td>\n",
       "      <td>3</td>\n",
       "      <td>NaN</td>\n",
       "      <td>False</td>\n",
       "      <td>False</td>\n",
       "      <td>13.5</td>\n",
       "      <td>NaN</td>\n",
       "      <td>Санкт-Петербург</td>\n",
       "      <td>24375.0</td>\n",
       "      <td>2410.0</td>\n",
       "      <td>1.0</td>\n",
       "      <td>551.0</td>\n",
       "      <td>2.0</td>\n",
       "      <td>617.0</td>\n",
       "      <td>106.0</td>\n",
       "    </tr>\n",
       "  </tbody>\n",
       "</table>\n",
       "</div>"
      ],
      "text/plain": [
       "       total_images  last_price  total_area first_day_exposition  rooms  \\\n",
       "9778             50  11000000.0        87.0  2017-10-25T00:00:00      2   \n",
       "12667            50  20500000.0        76.0  2017-12-10T00:00:00      3   \n",
       "17396            50  14500000.0       119.7  2017-12-02T00:00:00      4   \n",
       "\n",
       "       ceiling_height  floors_total  living_area  floor is_apartment  studio  \\\n",
       "9778              NaN          25.0         32.5     11          NaN   False   \n",
       "12667             NaN          20.0         47.0     16          NaN   False   \n",
       "17396             4.0           4.0         87.5      3          NaN   False   \n",
       "\n",
       "       open_plan  kitchen_area  balcony    locality_name  airports_nearest  \\\n",
       "9778       False          31.0      5.0  Санкт-Петербург            9586.0   \n",
       "12667      False          29.0      NaN  Санкт-Петербург           50812.0   \n",
       "17396      False          13.5      NaN  Санкт-Петербург           24375.0   \n",
       "\n",
       "       cityCenters_nearest  parks_around3000  parks_nearest  ponds_around3000  \\\n",
       "9778               11649.0               0.0            NaN               0.0   \n",
       "12667              16141.0               0.0            NaN               0.0   \n",
       "17396               2410.0               1.0          551.0               2.0   \n",
       "\n",
       "       ponds_nearest  days_exposition  \n",
       "9778             NaN              3.0  \n",
       "12667            NaN              5.0  \n",
       "17396          617.0            106.0  "
      ]
     },
     "execution_count": 10,
     "metadata": {},
     "output_type": "execute_result"
    }
   ],
   "source": [
    "df[df['total_images'] == 50]"
   ]
  },
  {
   "cell_type": "markdown",
   "metadata": {},
   "source": [
    "50 фотографий квартиры выглядят не особо убедительно. Едва ли человек стал бы делать такое количество фотографий одной квартиры, но всё может быть, не исключаю. Площади этих квартир вполне стандартные (нет значений больше 150)."
   ]
  },
  {
   "cell_type": "markdown",
   "metadata": {},
   "source": [
    "Для удобства поменяю значения на целочисленные в столбце **last_price**"
   ]
  },
  {
   "cell_type": "code",
   "execution_count": 11,
   "metadata": {},
   "outputs": [],
   "source": [
    "df['last_price'] = df['last_price'].astype('int')"
   ]
  },
  {
   "cell_type": "markdown",
   "metadata": {},
   "source": [
    "В столбце **first_day_exposition** поменяю значения на datetime"
   ]
  },
  {
   "cell_type": "code",
   "execution_count": 12,
   "metadata": {},
   "outputs": [],
   "source": [
    "df['first_day_exposition'] = pd.to_datetime(df['first_day_exposition'], format='%Y-%m-%d')"
   ]
  },
  {
   "cell_type": "code",
   "execution_count": 13,
   "metadata": {},
   "outputs": [
    {
     "data": {
      "text/plain": [
       "1     8047\n",
       "2     7940\n",
       "3     5814\n",
       "4     1180\n",
       "5      326\n",
       "0      197\n",
       "6      105\n",
       "7       59\n",
       "8       12\n",
       "9        8\n",
       "10       3\n",
       "11       2\n",
       "14       2\n",
       "19       1\n",
       "16       1\n",
       "12       1\n",
       "15       1\n",
       "Name: rooms, dtype: int64"
      ]
     },
     "execution_count": 13,
     "metadata": {},
     "output_type": "execute_result"
    }
   ],
   "source": [
    "df['rooms'].value_counts()"
   ]
  },
  {
   "cell_type": "code",
   "execution_count": 14,
   "metadata": {},
   "outputs": [
    {
     "data": {
      "text/plain": [
       "Санкт-Петербург                        15721\n",
       "посёлок Мурино                           522\n",
       "посёлок Шушары                           440\n",
       "Всеволожск                               398\n",
       "Пушкин                                   369\n",
       "                                       ...  \n",
       "посёлок Высокоключевой                     1\n",
       "поселок городского типа Кондратьево        1\n",
       "коттеджный посёлок Лесное                  1\n",
       "деревня Снегирёвка                         1\n",
       "городской посёлок Свирьстрой               1\n",
       "Name: locality_name, Length: 364, dtype: int64"
      ]
     },
     "execution_count": 14,
     "metadata": {},
     "output_type": "execute_result"
    }
   ],
   "source": [
    "df['locality_name'].value_counts()"
   ]
  },
  {
   "cell_type": "code",
   "execution_count": 15,
   "metadata": {},
   "outputs": [
    {
     "data": {
      "text/plain": [
       "3181"
      ]
     },
     "execution_count": 15,
     "metadata": {},
     "output_type": "execute_result"
    }
   ],
   "source": [
    "df['days_exposition'].isna().sum()"
   ]
  },
  {
   "cell_type": "code",
   "execution_count": 16,
   "metadata": {},
   "outputs": [],
   "source": [
    "df['days_exposition'] = df['days_exposition'].fillna(0).astype('int')"
   ]
  },
  {
   "cell_type": "code",
   "execution_count": 17,
   "metadata": {},
   "outputs": [
    {
     "data": {
      "text/plain": [
       "1.0    4195\n",
       "0.0    3758\n",
       "2.0    3659\n",
       "5.0     304\n",
       "4.0     183\n",
       "3.0      81\n",
       "Name: balcony, dtype: int64"
      ]
     },
     "execution_count": 17,
     "metadata": {},
     "output_type": "execute_result"
    }
   ],
   "source": [
    "df['balcony'].value_counts()"
   ]
  },
  {
   "cell_type": "code",
   "execution_count": 18,
   "metadata": {},
   "outputs": [
    {
     "data": {
      "text/plain": [
       "11519"
      ]
     },
     "execution_count": 18,
     "metadata": {},
     "output_type": "execute_result"
    }
   ],
   "source": [
    "df['balcony'].isna().sum()"
   ]
  },
  {
   "cell_type": "code",
   "execution_count": 19,
   "metadata": {},
   "outputs": [],
   "source": [
    "df['balcony'] = df['balcony'].fillna(0).astype('int')"
   ]
  },
  {
   "cell_type": "code",
   "execution_count": 20,
   "metadata": {},
   "outputs": [
    {
     "data": {
      "text/plain": [
       "count    14504.000000\n",
       "mean         2.771499\n",
       "std          1.261056\n",
       "min          1.000000\n",
       "25%          2.520000\n",
       "50%          2.650000\n",
       "75%          2.800000\n",
       "max        100.000000\n",
       "Name: ceiling_height, dtype: float64"
      ]
     },
     "execution_count": 20,
     "metadata": {},
     "output_type": "execute_result"
    }
   ],
   "source": [
    "df['ceiling_height'].describe().T"
   ]
  },
  {
   "cell_type": "code",
   "execution_count": 21,
   "metadata": {},
   "outputs": [
    {
     "data": {
      "text/plain": [
       "2.77149889685604"
      ]
     },
     "execution_count": 21,
     "metadata": {},
     "output_type": "execute_result"
    }
   ],
   "source": [
    "df['ceiling_height'].mean()"
   ]
  },
  {
   "cell_type": "code",
   "execution_count": 22,
   "metadata": {},
   "outputs": [
    {
     "data": {
      "text/plain": [
       "2.65"
      ]
     },
     "execution_count": 22,
     "metadata": {},
     "output_type": "execute_result"
    }
   ],
   "source": [
    "df['ceiling_height'].median()"
   ]
  },
  {
   "cell_type": "code",
   "execution_count": 23,
   "metadata": {},
   "outputs": [
    {
     "data": {
      "text/plain": [
       "<AxesSubplot:ylabel='Frequency'>"
      ]
     },
     "execution_count": 23,
     "metadata": {},
     "output_type": "execute_result"
    },
    {
     "data": {
      "image/png": "[encoded data removed]",
      "text/plain": [
       "<Figure size 432x288 with 1 Axes>"
      ]
     },
     "metadata": {
      "needs_background": "light"
     },
     "output_type": "display_data"
    }
   ],
   "source": [
    "df['ceiling_height'].sort_values().plot(y='ceiling_height', kind='hist', bins=30, range=(2, 5))"
   ]
  },
  {
   "cell_type": "markdown",
   "metadata": {},
   "source": [
    "Решил пока что оставить большие значения, на гистограмме заметен большой скачок. Медиана и среднее не сильно отличаются из-за выбросов по всей выборке."
   ]
  },
  {
   "cell_type": "code",
   "execution_count": 24,
   "metadata": {},
   "outputs": [
    {
     "data": {
      "text/plain": [
       "0        NaN\n",
       "1        NaN\n",
       "2        NaN\n",
       "3        NaN\n",
       "4        NaN\n",
       "        ... \n",
       "23694    NaN\n",
       "23695    NaN\n",
       "23696    NaN\n",
       "23697    NaN\n",
       "23698    NaN\n",
       "Name: is_apartment, Length: 23699, dtype: object"
      ]
     },
     "execution_count": 24,
     "metadata": {},
     "output_type": "execute_result"
    }
   ],
   "source": [
    "df['is_apartment']"
   ]
  },
  {
   "cell_type": "markdown",
   "metadata": {},
   "source": [
    "Столбец **is_apartment**, скорее всего, появился относительно недавно. Поэтому там имеются пропуски, заменю значения на булев тип: False."
   ]
  },
  {
   "cell_type": "code",
   "execution_count": 25,
   "metadata": {},
   "outputs": [],
   "source": [
    "df['is_apartment'] = df['is_apartment'].fillna(False)"
   ]
  },
  {
   "cell_type": "markdown",
   "metadata": {},
   "source": [
    "**Вывод**"
   ]
  },
  {
   "cell_type": "markdown",
   "metadata": {},
   "source": [
    "Данные предобработал, сделал замену типов и прошелся по дубликатам."
   ]
  },
  {
   "cell_type": "markdown",
   "metadata": {
    "id": "NDkb4wRMuqj9"
   },
   "source": [
    "## Расчёты и добавление результатов в таблицу"
   ]
  },
  {
   "cell_type": "markdown",
   "metadata": {},
   "source": [
    "Цена квадратного метра"
   ]
  },
  {
   "cell_type": "code",
   "execution_count": 26,
   "metadata": {},
   "outputs": [],
   "source": [
    "df['price_per_square_meter'] = df['last_price'] / df['total_area']\n",
    "df['price_per_square_meter'] = df['price_per_square_meter'].astype('int')"
   ]
  },
  {
   "cell_type": "markdown",
   "metadata": {},
   "source": [
    "Дни недели"
   ]
  },
  {
   "cell_type": "code",
   "execution_count": 27,
   "metadata": {},
   "outputs": [],
   "source": [
    "df['weekday_publication'] = df['first_day_exposition'].dt.weekday"
   ]
  },
  {
   "cell_type": "markdown",
   "metadata": {},
   "source": [
    "Месяц"
   ]
  },
  {
   "cell_type": "code",
   "execution_count": 28,
   "metadata": {},
   "outputs": [],
   "source": [
    "df['month_publication'] = df['first_day_exposition'].dt.month"
   ]
  },
  {
   "cell_type": "markdown",
   "metadata": {},
   "source": [
    "Год"
   ]
  },
  {
   "cell_type": "code",
   "execution_count": 29,
   "metadata": {},
   "outputs": [],
   "source": [
    "df['year_public'] = df['first_day_exposition'].dt.year"
   ]
  },
  {
   "cell_type": "code",
   "execution_count": 30,
   "metadata": {},
   "outputs": [],
   "source": [
    "def categorization(row):\n",
    "    total_floors = row['floors_total']\n",
    "    floor = row['floor']\n",
    "    if floor == 1:\n",
    "        return 'Первый этаж'\n",
    "    elif floor == total_floors:\n",
    "        return 'Последний этаж'\n",
    "    elif 1 < floor < total_floors:\n",
    "        return 'Другой этаж'"
   ]
  },
  {
   "cell_type": "code",
   "execution_count": 31,
   "metadata": {},
   "outputs": [],
   "source": [
    "df['floor_category'] = df.apply(categorization, axis=1)"
   ]
  },
  {
   "cell_type": "code",
   "execution_count": 32,
   "metadata": {},
   "outputs": [],
   "source": [
    "df['useful_area_ratio'] = df['living_area'] / df['total_area']"
   ]
  },
  {
   "cell_type": "code",
   "execution_count": 33,
   "metadata": {},
   "outputs": [],
   "source": [
    "df['kitchen_area_ratio'] = df['kitchen_area'] / df['total_area']"
   ]
  },
  {
   "cell_type": "code",
   "execution_count": 34,
   "metadata": {},
   "outputs": [
    {
     "data": {
      "text/html": [
       "<div>\n",
       "<style scoped>\n",
       "    .dataframe tbody tr th:only-of-type {\n",
       "        vertical-align: middle;\n",
       "    }\n",
       "\n",
       "    .dataframe tbody tr th {\n",
       "        vertical-align: top;\n",
       "    }\n",
       "\n",
       "    .dataframe thead th {\n",
       "        text-align: right;\n",
       "    }\n",
       "</style>\n",
       "<table border=\"1\" class=\"dataframe\">\n",
       "  <thead>\n",
       "    <tr style=\"text-align: right;\">\n",
       "      <th></th>\n",
       "      <th>total_images</th>\n",
       "      <th>last_price</th>\n",
       "      <th>total_area</th>\n",
       "      <th>first_day_exposition</th>\n",
       "      <th>rooms</th>\n",
       "      <th>ceiling_height</th>\n",
       "      <th>floors_total</th>\n",
       "      <th>living_area</th>\n",
       "      <th>floor</th>\n",
       "      <th>is_apartment</th>\n",
       "      <th>studio</th>\n",
       "      <th>open_plan</th>\n",
       "      <th>kitchen_area</th>\n",
       "      <th>balcony</th>\n",
       "      <th>locality_name</th>\n",
       "      <th>airports_nearest</th>\n",
       "      <th>cityCenters_nearest</th>\n",
       "      <th>parks_around3000</th>\n",
       "      <th>parks_nearest</th>\n",
       "      <th>ponds_around3000</th>\n",
       "      <th>ponds_nearest</th>\n",
       "      <th>days_exposition</th>\n",
       "      <th>price_per_square_meter</th>\n",
       "      <th>weekday_publication</th>\n",
       "      <th>month_publication</th>\n",
       "      <th>year_public</th>\n",
       "      <th>floor_category</th>\n",
       "      <th>useful_area_ratio</th>\n",
       "      <th>kitchen_area_ratio</th>\n",
       "    </tr>\n",
       "  </thead>\n",
       "  <tbody>\n",
       "    <tr>\n",
       "      <th>0</th>\n",
       "      <td>20</td>\n",
       "      <td>13000000</td>\n",
       "      <td>108.00</td>\n",
       "      <td>2019-03-07</td>\n",
       "      <td>3</td>\n",
       "      <td>2.70</td>\n",
       "      <td>16.0</td>\n",
       "      <td>51.00</td>\n",
       "      <td>8</td>\n",
       "      <td>False</td>\n",
       "      <td>False</td>\n",
       "      <td>False</td>\n",
       "      <td>25.00</td>\n",
       "      <td>0</td>\n",
       "      <td>Санкт-Петербург</td>\n",
       "      <td>18863.0</td>\n",
       "      <td>16028.0</td>\n",
       "      <td>1.0</td>\n",
       "      <td>482.0</td>\n",
       "      <td>2.0</td>\n",
       "      <td>755.0</td>\n",
       "      <td>0</td>\n",
       "      <td>120370</td>\n",
       "      <td>3</td>\n",
       "      <td>3</td>\n",
       "      <td>2019</td>\n",
       "      <td>Другой этаж</td>\n",
       "      <td>0.472222</td>\n",
       "      <td>0.231481</td>\n",
       "    </tr>\n",
       "    <tr>\n",
       "      <th>1</th>\n",
       "      <td>7</td>\n",
       "      <td>3350000</td>\n",
       "      <td>40.40</td>\n",
       "      <td>2018-12-04</td>\n",
       "      <td>1</td>\n",
       "      <td>NaN</td>\n",
       "      <td>11.0</td>\n",
       "      <td>18.60</td>\n",
       "      <td>1</td>\n",
       "      <td>False</td>\n",
       "      <td>False</td>\n",
       "      <td>False</td>\n",
       "      <td>11.00</td>\n",
       "      <td>2</td>\n",
       "      <td>посёлок Шушары</td>\n",
       "      <td>12817.0</td>\n",
       "      <td>18603.0</td>\n",
       "      <td>0.0</td>\n",
       "      <td>NaN</td>\n",
       "      <td>0.0</td>\n",
       "      <td>NaN</td>\n",
       "      <td>81</td>\n",
       "      <td>82920</td>\n",
       "      <td>1</td>\n",
       "      <td>12</td>\n",
       "      <td>2018</td>\n",
       "      <td>Первый этаж</td>\n",
       "      <td>0.460396</td>\n",
       "      <td>0.272277</td>\n",
       "    </tr>\n",
       "    <tr>\n",
       "      <th>2</th>\n",
       "      <td>10</td>\n",
       "      <td>5196000</td>\n",
       "      <td>56.00</td>\n",
       "      <td>2015-08-20</td>\n",
       "      <td>2</td>\n",
       "      <td>NaN</td>\n",
       "      <td>5.0</td>\n",
       "      <td>34.30</td>\n",
       "      <td>4</td>\n",
       "      <td>False</td>\n",
       "      <td>False</td>\n",
       "      <td>False</td>\n",
       "      <td>8.30</td>\n",
       "      <td>0</td>\n",
       "      <td>Санкт-Петербург</td>\n",
       "      <td>21741.0</td>\n",
       "      <td>13933.0</td>\n",
       "      <td>1.0</td>\n",
       "      <td>90.0</td>\n",
       "      <td>2.0</td>\n",
       "      <td>574.0</td>\n",
       "      <td>558</td>\n",
       "      <td>92785</td>\n",
       "      <td>3</td>\n",
       "      <td>8</td>\n",
       "      <td>2015</td>\n",
       "      <td>Другой этаж</td>\n",
       "      <td>0.612500</td>\n",
       "      <td>0.148214</td>\n",
       "    </tr>\n",
       "    <tr>\n",
       "      <th>3</th>\n",
       "      <td>0</td>\n",
       "      <td>64900000</td>\n",
       "      <td>159.00</td>\n",
       "      <td>2015-07-24</td>\n",
       "      <td>3</td>\n",
       "      <td>NaN</td>\n",
       "      <td>14.0</td>\n",
       "      <td>NaN</td>\n",
       "      <td>9</td>\n",
       "      <td>False</td>\n",
       "      <td>False</td>\n",
       "      <td>False</td>\n",
       "      <td>NaN</td>\n",
       "      <td>0</td>\n",
       "      <td>Санкт-Петербург</td>\n",
       "      <td>28098.0</td>\n",
       "      <td>6800.0</td>\n",
       "      <td>2.0</td>\n",
       "      <td>84.0</td>\n",
       "      <td>3.0</td>\n",
       "      <td>234.0</td>\n",
       "      <td>424</td>\n",
       "      <td>408176</td>\n",
       "      <td>4</td>\n",
       "      <td>7</td>\n",
       "      <td>2015</td>\n",
       "      <td>Другой этаж</td>\n",
       "      <td>NaN</td>\n",
       "      <td>NaN</td>\n",
       "    </tr>\n",
       "    <tr>\n",
       "      <th>4</th>\n",
       "      <td>2</td>\n",
       "      <td>10000000</td>\n",
       "      <td>100.00</td>\n",
       "      <td>2018-06-19</td>\n",
       "      <td>2</td>\n",
       "      <td>3.03</td>\n",
       "      <td>14.0</td>\n",
       "      <td>32.00</td>\n",
       "      <td>13</td>\n",
       "      <td>False</td>\n",
       "      <td>False</td>\n",
       "      <td>False</td>\n",
       "      <td>41.00</td>\n",
       "      <td>0</td>\n",
       "      <td>Санкт-Петербург</td>\n",
       "      <td>31856.0</td>\n",
       "      <td>8098.0</td>\n",
       "      <td>2.0</td>\n",
       "      <td>112.0</td>\n",
       "      <td>1.0</td>\n",
       "      <td>48.0</td>\n",
       "      <td>121</td>\n",
       "      <td>100000</td>\n",
       "      <td>1</td>\n",
       "      <td>6</td>\n",
       "      <td>2018</td>\n",
       "      <td>Другой этаж</td>\n",
       "      <td>0.320000</td>\n",
       "      <td>0.410000</td>\n",
       "    </tr>\n",
       "    <tr>\n",
       "      <th>5</th>\n",
       "      <td>10</td>\n",
       "      <td>2890000</td>\n",
       "      <td>30.40</td>\n",
       "      <td>2018-09-10</td>\n",
       "      <td>1</td>\n",
       "      <td>NaN</td>\n",
       "      <td>12.0</td>\n",
       "      <td>14.40</td>\n",
       "      <td>5</td>\n",
       "      <td>False</td>\n",
       "      <td>False</td>\n",
       "      <td>False</td>\n",
       "      <td>9.10</td>\n",
       "      <td>0</td>\n",
       "      <td>городской посёлок Янино-1</td>\n",
       "      <td>NaN</td>\n",
       "      <td>NaN</td>\n",
       "      <td>NaN</td>\n",
       "      <td>NaN</td>\n",
       "      <td>NaN</td>\n",
       "      <td>NaN</td>\n",
       "      <td>55</td>\n",
       "      <td>95065</td>\n",
       "      <td>0</td>\n",
       "      <td>9</td>\n",
       "      <td>2018</td>\n",
       "      <td>Другой этаж</td>\n",
       "      <td>0.473684</td>\n",
       "      <td>0.299342</td>\n",
       "    </tr>\n",
       "    <tr>\n",
       "      <th>6</th>\n",
       "      <td>6</td>\n",
       "      <td>3700000</td>\n",
       "      <td>37.30</td>\n",
       "      <td>2017-11-02</td>\n",
       "      <td>1</td>\n",
       "      <td>NaN</td>\n",
       "      <td>26.0</td>\n",
       "      <td>10.60</td>\n",
       "      <td>6</td>\n",
       "      <td>False</td>\n",
       "      <td>False</td>\n",
       "      <td>False</td>\n",
       "      <td>14.40</td>\n",
       "      <td>1</td>\n",
       "      <td>посёлок Парголово</td>\n",
       "      <td>52996.0</td>\n",
       "      <td>19143.0</td>\n",
       "      <td>0.0</td>\n",
       "      <td>NaN</td>\n",
       "      <td>0.0</td>\n",
       "      <td>NaN</td>\n",
       "      <td>155</td>\n",
       "      <td>99195</td>\n",
       "      <td>3</td>\n",
       "      <td>11</td>\n",
       "      <td>2017</td>\n",
       "      <td>Другой этаж</td>\n",
       "      <td>0.284182</td>\n",
       "      <td>0.386059</td>\n",
       "    </tr>\n",
       "    <tr>\n",
       "      <th>7</th>\n",
       "      <td>5</td>\n",
       "      <td>7915000</td>\n",
       "      <td>71.60</td>\n",
       "      <td>2019-04-18</td>\n",
       "      <td>2</td>\n",
       "      <td>NaN</td>\n",
       "      <td>24.0</td>\n",
       "      <td>NaN</td>\n",
       "      <td>22</td>\n",
       "      <td>False</td>\n",
       "      <td>False</td>\n",
       "      <td>False</td>\n",
       "      <td>18.90</td>\n",
       "      <td>2</td>\n",
       "      <td>Санкт-Петербург</td>\n",
       "      <td>23982.0</td>\n",
       "      <td>11634.0</td>\n",
       "      <td>0.0</td>\n",
       "      <td>NaN</td>\n",
       "      <td>0.0</td>\n",
       "      <td>NaN</td>\n",
       "      <td>0</td>\n",
       "      <td>110544</td>\n",
       "      <td>3</td>\n",
       "      <td>4</td>\n",
       "      <td>2019</td>\n",
       "      <td>Другой этаж</td>\n",
       "      <td>NaN</td>\n",
       "      <td>0.263966</td>\n",
       "    </tr>\n",
       "    <tr>\n",
       "      <th>8</th>\n",
       "      <td>20</td>\n",
       "      <td>2900000</td>\n",
       "      <td>33.16</td>\n",
       "      <td>2018-05-23</td>\n",
       "      <td>1</td>\n",
       "      <td>NaN</td>\n",
       "      <td>27.0</td>\n",
       "      <td>15.43</td>\n",
       "      <td>26</td>\n",
       "      <td>False</td>\n",
       "      <td>False</td>\n",
       "      <td>False</td>\n",
       "      <td>8.81</td>\n",
       "      <td>0</td>\n",
       "      <td>посёлок Мурино</td>\n",
       "      <td>NaN</td>\n",
       "      <td>NaN</td>\n",
       "      <td>NaN</td>\n",
       "      <td>NaN</td>\n",
       "      <td>NaN</td>\n",
       "      <td>NaN</td>\n",
       "      <td>189</td>\n",
       "      <td>87454</td>\n",
       "      <td>2</td>\n",
       "      <td>5</td>\n",
       "      <td>2018</td>\n",
       "      <td>Другой этаж</td>\n",
       "      <td>0.465320</td>\n",
       "      <td>0.265682</td>\n",
       "    </tr>\n",
       "    <tr>\n",
       "      <th>9</th>\n",
       "      <td>18</td>\n",
       "      <td>5400000</td>\n",
       "      <td>61.00</td>\n",
       "      <td>2017-02-26</td>\n",
       "      <td>3</td>\n",
       "      <td>2.50</td>\n",
       "      <td>9.0</td>\n",
       "      <td>43.60</td>\n",
       "      <td>7</td>\n",
       "      <td>False</td>\n",
       "      <td>False</td>\n",
       "      <td>False</td>\n",
       "      <td>6.50</td>\n",
       "      <td>2</td>\n",
       "      <td>Санкт-Петербург</td>\n",
       "      <td>50898.0</td>\n",
       "      <td>15008.0</td>\n",
       "      <td>0.0</td>\n",
       "      <td>NaN</td>\n",
       "      <td>0.0</td>\n",
       "      <td>NaN</td>\n",
       "      <td>289</td>\n",
       "      <td>88524</td>\n",
       "      <td>6</td>\n",
       "      <td>2</td>\n",
       "      <td>2017</td>\n",
       "      <td>Другой этаж</td>\n",
       "      <td>0.714754</td>\n",
       "      <td>0.106557</td>\n",
       "    </tr>\n",
       "    <tr>\n",
       "      <th>10</th>\n",
       "      <td>5</td>\n",
       "      <td>5050000</td>\n",
       "      <td>39.60</td>\n",
       "      <td>2017-11-16</td>\n",
       "      <td>1</td>\n",
       "      <td>2.67</td>\n",
       "      <td>12.0</td>\n",
       "      <td>20.30</td>\n",
       "      <td>3</td>\n",
       "      <td>False</td>\n",
       "      <td>False</td>\n",
       "      <td>False</td>\n",
       "      <td>8.50</td>\n",
       "      <td>0</td>\n",
       "      <td>Санкт-Петербург</td>\n",
       "      <td>38357.0</td>\n",
       "      <td>13878.0</td>\n",
       "      <td>1.0</td>\n",
       "      <td>310.0</td>\n",
       "      <td>2.0</td>\n",
       "      <td>553.0</td>\n",
       "      <td>137</td>\n",
       "      <td>127525</td>\n",
       "      <td>3</td>\n",
       "      <td>11</td>\n",
       "      <td>2017</td>\n",
       "      <td>Другой этаж</td>\n",
       "      <td>0.512626</td>\n",
       "      <td>0.214646</td>\n",
       "    </tr>\n",
       "    <tr>\n",
       "      <th>11</th>\n",
       "      <td>9</td>\n",
       "      <td>3300000</td>\n",
       "      <td>44.00</td>\n",
       "      <td>2018-08-27</td>\n",
       "      <td>2</td>\n",
       "      <td>NaN</td>\n",
       "      <td>5.0</td>\n",
       "      <td>31.00</td>\n",
       "      <td>4</td>\n",
       "      <td>False</td>\n",
       "      <td>False</td>\n",
       "      <td>False</td>\n",
       "      <td>6.00</td>\n",
       "      <td>1</td>\n",
       "      <td>Ломоносов</td>\n",
       "      <td>48252.0</td>\n",
       "      <td>51677.0</td>\n",
       "      <td>0.0</td>\n",
       "      <td>NaN</td>\n",
       "      <td>0.0</td>\n",
       "      <td>NaN</td>\n",
       "      <td>7</td>\n",
       "      <td>75000</td>\n",
       "      <td>0</td>\n",
       "      <td>8</td>\n",
       "      <td>2018</td>\n",
       "      <td>Другой этаж</td>\n",
       "      <td>0.704545</td>\n",
       "      <td>0.136364</td>\n",
       "    </tr>\n",
       "    <tr>\n",
       "      <th>12</th>\n",
       "      <td>10</td>\n",
       "      <td>3890000</td>\n",
       "      <td>54.00</td>\n",
       "      <td>2016-06-30</td>\n",
       "      <td>2</td>\n",
       "      <td>NaN</td>\n",
       "      <td>5.0</td>\n",
       "      <td>30.00</td>\n",
       "      <td>5</td>\n",
       "      <td>False</td>\n",
       "      <td>False</td>\n",
       "      <td>False</td>\n",
       "      <td>9.00</td>\n",
       "      <td>0</td>\n",
       "      <td>Сертолово</td>\n",
       "      <td>NaN</td>\n",
       "      <td>NaN</td>\n",
       "      <td>NaN</td>\n",
       "      <td>NaN</td>\n",
       "      <td>NaN</td>\n",
       "      <td>NaN</td>\n",
       "      <td>90</td>\n",
       "      <td>72037</td>\n",
       "      <td>3</td>\n",
       "      <td>6</td>\n",
       "      <td>2016</td>\n",
       "      <td>Последний этаж</td>\n",
       "      <td>0.555556</td>\n",
       "      <td>0.166667</td>\n",
       "    </tr>\n",
       "    <tr>\n",
       "      <th>13</th>\n",
       "      <td>20</td>\n",
       "      <td>3550000</td>\n",
       "      <td>42.80</td>\n",
       "      <td>2017-07-01</td>\n",
       "      <td>2</td>\n",
       "      <td>2.56</td>\n",
       "      <td>5.0</td>\n",
       "      <td>27.00</td>\n",
       "      <td>5</td>\n",
       "      <td>False</td>\n",
       "      <td>False</td>\n",
       "      <td>False</td>\n",
       "      <td>5.20</td>\n",
       "      <td>1</td>\n",
       "      <td>Петергоф</td>\n",
       "      <td>37868.0</td>\n",
       "      <td>33058.0</td>\n",
       "      <td>1.0</td>\n",
       "      <td>294.0</td>\n",
       "      <td>3.0</td>\n",
       "      <td>298.0</td>\n",
       "      <td>366</td>\n",
       "      <td>82943</td>\n",
       "      <td>5</td>\n",
       "      <td>7</td>\n",
       "      <td>2017</td>\n",
       "      <td>Последний этаж</td>\n",
       "      <td>0.630841</td>\n",
       "      <td>0.121495</td>\n",
       "    </tr>\n",
       "    <tr>\n",
       "      <th>14</th>\n",
       "      <td>1</td>\n",
       "      <td>4400000</td>\n",
       "      <td>36.00</td>\n",
       "      <td>2016-06-23</td>\n",
       "      <td>1</td>\n",
       "      <td>NaN</td>\n",
       "      <td>6.0</td>\n",
       "      <td>17.00</td>\n",
       "      <td>1</td>\n",
       "      <td>False</td>\n",
       "      <td>False</td>\n",
       "      <td>False</td>\n",
       "      <td>8.00</td>\n",
       "      <td>0</td>\n",
       "      <td>Пушкин</td>\n",
       "      <td>20782.0</td>\n",
       "      <td>30759.0</td>\n",
       "      <td>0.0</td>\n",
       "      <td>NaN</td>\n",
       "      <td>1.0</td>\n",
       "      <td>96.0</td>\n",
       "      <td>203</td>\n",
       "      <td>122222</td>\n",
       "      <td>3</td>\n",
       "      <td>6</td>\n",
       "      <td>2016</td>\n",
       "      <td>Первый этаж</td>\n",
       "      <td>0.472222</td>\n",
       "      <td>0.222222</td>\n",
       "    </tr>\n",
       "  </tbody>\n",
       "</table>\n",
       "</div>"
      ],
      "text/plain": [
       "    total_images  last_price  total_area first_day_exposition  rooms  \\\n",
       "0             20    13000000      108.00           2019-03-07      3   \n",
       "1              7     3350000       40.40           2018-12-04      1   \n",
       "2             10     5196000       56.00           2015-08-20      2   \n",
       "3              0    64900000      159.00           2015-07-24      3   \n",
       "4              2    10000000      100.00           2018-06-19      2   \n",
       "5             10     2890000       30.40           2018-09-10      1   \n",
       "6              6     3700000       37.30           2017-11-02      1   \n",
       "7              5     7915000       71.60           2019-04-18      2   \n",
       "8             20     2900000       33.16           2018-05-23      1   \n",
       "9             18     5400000       61.00           2017-02-26      3   \n",
       "10             5     5050000       39.60           2017-11-16      1   \n",
       "11             9     3300000       44.00           2018-08-27      2   \n",
       "12            10     3890000       54.00           2016-06-30      2   \n",
       "13            20     3550000       42.80           2017-07-01      2   \n",
       "14             1     4400000       36.00           2016-06-23      1   \n",
       "\n",
       "    ceiling_height  floors_total  living_area  floor  is_apartment  studio  \\\n",
       "0             2.70          16.0        51.00      8         False   False   \n",
       "1              NaN          11.0        18.60      1         False   False   \n",
       "2              NaN           5.0        34.30      4         False   False   \n",
       "3              NaN          14.0          NaN      9         False   False   \n",
       "4             3.03          14.0        32.00     13         False   False   \n",
       "5              NaN          12.0        14.40      5         False   False   \n",
       "6              NaN          26.0        10.60      6         False   False   \n",
       "7              NaN          24.0          NaN     22         False   False   \n",
       "8              NaN          27.0        15.43     26         False   False   \n",
       "9             2.50           9.0        43.60      7         False   False   \n",
       "10            2.67          12.0        20.30      3         False   False   \n",
       "11             NaN           5.0        31.00      4         False   False   \n",
       "12             NaN           5.0        30.00      5         False   False   \n",
       "13            2.56           5.0        27.00      5         False   False   \n",
       "14             NaN           6.0        17.00      1         False   False   \n",
       "\n",
       "    open_plan  kitchen_area  balcony              locality_name  \\\n",
       "0       False         25.00        0            Санкт-Петербург   \n",
       "1       False         11.00        2             посёлок Шушары   \n",
       "2       False          8.30        0            Санкт-Петербург   \n",
       "3       False           NaN        0            Санкт-Петербург   \n",
       "4       False         41.00        0            Санкт-Петербург   \n",
       "5       False          9.10        0  городской посёлок Янино-1   \n",
       "6       False         14.40        1          посёлок Парголово   \n",
       "7       False         18.90        2            Санкт-Петербург   \n",
       "8       False          8.81        0             посёлок Мурино   \n",
       "9       False          6.50        2            Санкт-Петербург   \n",
       "10      False          8.50        0            Санкт-Петербург   \n",
       "11      False          6.00        1                  Ломоносов   \n",
       "12      False          9.00        0                  Сертолово   \n",
       "13      False          5.20        1                   Петергоф   \n",
       "14      False          8.00        0                     Пушкин   \n",
       "\n",
       "    airports_nearest  cityCenters_nearest  parks_around3000  parks_nearest  \\\n",
       "0            18863.0              16028.0               1.0          482.0   \n",
       "1            12817.0              18603.0               0.0            NaN   \n",
       "2            21741.0              13933.0               1.0           90.0   \n",
       "3            28098.0               6800.0               2.0           84.0   \n",
       "4            31856.0               8098.0               2.0          112.0   \n",
       "5                NaN                  NaN               NaN            NaN   \n",
       "6            52996.0              19143.0               0.0            NaN   \n",
       "7            23982.0              11634.0               0.0            NaN   \n",
       "8                NaN                  NaN               NaN            NaN   \n",
       "9            50898.0              15008.0               0.0            NaN   \n",
       "10           38357.0              13878.0               1.0          310.0   \n",
       "11           48252.0              51677.0               0.0            NaN   \n",
       "12               NaN                  NaN               NaN            NaN   \n",
       "13           37868.0              33058.0               1.0          294.0   \n",
       "14           20782.0              30759.0               0.0            NaN   \n",
       "\n",
       "    ponds_around3000  ponds_nearest  days_exposition  price_per_square_meter  \\\n",
       "0                2.0          755.0                0                  120370   \n",
       "1                0.0            NaN               81                   82920   \n",
       "2                2.0          574.0              558                   92785   \n",
       "3                3.0          234.0              424                  408176   \n",
       "4                1.0           48.0              121                  100000   \n",
       "5                NaN            NaN               55                   95065   \n",
       "6                0.0            NaN              155                   99195   \n",
       "7                0.0            NaN                0                  110544   \n",
       "8                NaN            NaN              189                   87454   \n",
       "9                0.0            NaN              289                   88524   \n",
       "10               2.0          553.0              137                  127525   \n",
       "11               0.0            NaN                7                   75000   \n",
       "12               NaN            NaN               90                   72037   \n",
       "13               3.0          298.0              366                   82943   \n",
       "14               1.0           96.0              203                  122222   \n",
       "\n",
       "    weekday_publication  month_publication  year_public  floor_category  \\\n",
       "0                     3                  3         2019     Другой этаж   \n",
       "1                     1                 12         2018     Первый этаж   \n",
       "2                     3                  8         2015     Другой этаж   \n",
       "3                     4                  7         2015     Другой этаж   \n",
       "4                     1                  6         2018     Другой этаж   \n",
       "5                     0                  9         2018     Другой этаж   \n",
       "6                     3                 11         2017     Другой этаж   \n",
       "7                     3                  4         2019     Другой этаж   \n",
       "8                     2                  5         2018     Другой этаж   \n",
       "9                     6                  2         2017     Другой этаж   \n",
       "10                    3                 11         2017     Другой этаж   \n",
       "11                    0                  8         2018     Другой этаж   \n",
       "12                    3                  6         2016  Последний этаж   \n",
       "13                    5                  7         2017  Последний этаж   \n",
       "14                    3                  6         2016     Первый этаж   \n",
       "\n",
       "    useful_area_ratio  kitchen_area_ratio  \n",
       "0            0.472222            0.231481  \n",
       "1            0.460396            0.272277  \n",
       "2            0.612500            0.148214  \n",
       "3                 NaN                 NaN  \n",
       "4            0.320000            0.410000  \n",
       "5            0.473684            0.299342  \n",
       "6            0.284182            0.386059  \n",
       "7                 NaN            0.263966  \n",
       "8            0.465320            0.265682  \n",
       "9            0.714754            0.106557  \n",
       "10           0.512626            0.214646  \n",
       "11           0.704545            0.136364  \n",
       "12           0.555556            0.166667  \n",
       "13           0.630841            0.121495  \n",
       "14           0.472222            0.222222  "
      ]
     },
     "execution_count": 34,
     "metadata": {},
     "output_type": "execute_result"
    }
   ],
   "source": [
    "df.head(15)"
   ]
  },
  {
   "cell_type": "markdown",
   "metadata": {
    "id": "bbkJiMpRuqj9"
   },
   "source": [
    "## Исследовательский анализ данных"
   ]
  },
  {
   "cell_type": "markdown",
   "metadata": {},
   "source": [
    "Изучим следующие парметры: площадь, цену, число комнат, высоту потолков и построим гистограммы."
   ]
  },
  {
   "cell_type": "code",
   "execution_count": 35,
   "metadata": {},
   "outputs": [
    {
     "data": {
      "text/plain": [
       "<AxesSubplot:ylabel='Frequency'>"
      ]
     },
     "execution_count": 35,
     "metadata": {},
     "output_type": "execute_result"
    },
    {
     "data": {
      "image/png": "[encoded data removed]",
      "text/plain": [
       "<Figure size 360x216 with 1 Axes>"
      ]
     },
     "metadata": {
      "needs_background": "light"
     },
     "output_type": "display_data"
    }
   ],
   "source": [
    "df.plot(y='total_area', kind='hist', bins=100, grid=True, figsize=(5, 3), range=(0, 500))"
   ]
  },
  {
   "cell_type": "code",
   "execution_count": 36,
   "metadata": {},
   "outputs": [
    {
     "data": {
      "text/plain": [
       "<AxesSubplot:ylabel='Frequency'>"
      ]
     },
     "execution_count": 36,
     "metadata": {},
     "output_type": "execute_result"
    },
    {
     "data": {
      "image/png": "[encoded data removed]",
      "text/plain": [
       "<Figure size 360x216 with 1 Axes>"
      ]
     },
     "metadata": {
      "needs_background": "light"
     },
     "output_type": "display_data"
    }
   ],
   "source": [
    "df.plot(y='last_price', kind='hist', bins=100, grid=True, figsize=(5, 3), range=(0, 15000000))"
   ]
  },
  {
   "cell_type": "code",
   "execution_count": 37,
   "metadata": {},
   "outputs": [
    {
     "data": {
      "text/plain": [
       "<AxesSubplot:ylabel='Frequency'>"
      ]
     },
     "execution_count": 37,
     "metadata": {},
     "output_type": "execute_result"
    },
    {
     "data": {
      "image/png": "[encoded data removed]",
      "text/plain": [
       "<Figure size 360x216 with 1 Axes>"
      ]
     },
     "metadata": {
      "needs_background": "light"
     },
     "output_type": "display_data"
    }
   ],
   "source": [
    "df.plot(y='rooms', kind='hist', bins=20, figsize=(5, 3))"
   ]
  },
  {
   "cell_type": "code",
   "execution_count": 38,
   "metadata": {},
   "outputs": [
    {
     "data": {
      "text/plain": [
       "<AxesSubplot:ylabel='Frequency'>"
      ]
     },
     "execution_count": 38,
     "metadata": {},
     "output_type": "execute_result"
    },
    {
     "data": {
      "image/png": "[encoded data removed]",
      "text/plain": [
       "<Figure size 360x216 with 1 Axes>"
      ]
     },
     "metadata": {
      "needs_background": "light"
     },
     "output_type": "display_data"
    }
   ],
   "source": [
    "df.plot(y='ceiling_height', kind='hist', bins=20, figsize=(5,3), range=(2, 5))"
   ]
  },
  {
   "cell_type": "markdown",
   "metadata": {
    "id": "evjMydACuqj9"
   },
   "source": [
    "Изучим время продажи квартиры. Построим гистограмму. Посчитаем среднее и медиану. Опишем, сколько обычно занимает продажа и когда можно считать, что продажи прошли очень долго или очень быстро."
   ]
  },
  {
   "cell_type": "code",
   "execution_count": 39,
   "metadata": {
    "scrolled": true
   },
   "outputs": [
    {
     "data": {
      "text/plain": [
       "(1.0, 1000.0)"
      ]
     },
     "execution_count": 39,
     "metadata": {},
     "output_type": "execute_result"
    },
    {
     "data": {
      "image/png": "[encoded data removed]",
      "text/plain": [
       "<Figure size 432x288 with 1 Axes>"
      ]
     },
     "metadata": {
      "needs_background": "light"
     },
     "output_type": "display_data"
    }
   ],
   "source": [
    "plt.boxplot(df[df['days_exposition'] != 0]['days_exposition'])\n",
    "plt.ylim(1, 1000)"
   ]
  },
  {
   "cell_type": "code",
   "execution_count": 40,
   "metadata": {},
   "outputs": [
    {
     "data": {
      "text/plain": [
       "<AxesSubplot:ylabel='Frequency'>"
      ]
     },
     "execution_count": 40,
     "metadata": {},
     "output_type": "execute_result"
    },
    {
     "data": {
      "image/png": "[encoded data removed]",
      "text/plain": [
       "<Figure size 432x288 with 1 Axes>"
      ]
     },
     "metadata": {
      "needs_background": "light"
     },
     "output_type": "display_data"
    }
   ],
   "source": [
    "df.plot(y = 'days_exposition', kind = 'hist', bins = 100, grid = True, range = (1,300))"
   ]
  },
  {
   "cell_type": "code",
   "execution_count": 41,
   "metadata": {},
   "outputs": [
    {
     "data": {
      "text/plain": [
       "45      880\n",
       "60      538\n",
       "7       234\n",
       "30      208\n",
       "90      204\n",
       "       ... \n",
       "1112      1\n",
       "1080      1\n",
       "1064      1\n",
       "1032      1\n",
       "1391      1\n",
       "Name: days_exposition, Length: 1141, dtype: int64"
      ]
     },
     "execution_count": 41,
     "metadata": {},
     "output_type": "execute_result"
    }
   ],
   "source": [
    "df[df['days_exposition']!=0]['days_exposition'].value_counts()"
   ]
  },
  {
   "cell_type": "code",
   "execution_count": 42,
   "metadata": {},
   "outputs": [
    {
     "data": {
      "text/plain": [
       "count    20518.000000\n",
       "mean       180.888634\n",
       "std        219.727988\n",
       "min          1.000000\n",
       "25%         45.000000\n",
       "50%         95.000000\n",
       "75%        232.000000\n",
       "max       1580.000000\n",
       "Name: days_exposition, dtype: float64"
      ]
     },
     "execution_count": 42,
     "metadata": {},
     "output_type": "execute_result"
    }
   ],
   "source": [
    "df[df['days_exposition']!=0]['days_exposition'].describe().T"
   ]
  },
  {
   "cell_type": "code",
   "execution_count": 43,
   "metadata": {},
   "outputs": [
    {
     "data": {
      "text/plain": [
       "95.0"
      ]
     },
     "execution_count": 43,
     "metadata": {},
     "output_type": "execute_result"
    }
   ],
   "source": [
    "df[df['days_exposition']!=0]['days_exposition'].median()"
   ]
  },
  {
   "cell_type": "code",
   "execution_count": 44,
   "metadata": {
    "scrolled": true
   },
   "outputs": [
    {
     "data": {
      "text/plain": [
       "45      880\n",
       "60      538\n",
       "7       234\n",
       "30      208\n",
       "90      204\n",
       "       ... \n",
       "1112      1\n",
       "1080      1\n",
       "1064      1\n",
       "1032      1\n",
       "1391      1\n",
       "Name: days_exposition, Length: 1141, dtype: int64"
      ]
     },
     "execution_count": 44,
     "metadata": {},
     "output_type": "execute_result"
    }
   ],
   "source": [
    "df[df['days_exposition']!=0]['days_exposition'].value_counts()"
   ]
  },
  {
   "cell_type": "markdown",
   "metadata": {},
   "source": [
    "**Вывод:** распределение похоже на распределение Пуассона. Среднее: 180, медиана: 95. Наиболее популярное количество дней: 7, 30, 45, 60, 90 до снятия объявления. Особенностей и связи в этих данных я не увидел, поэтому резонно убрать их для более точного анализа. Попробую построить гистограмму и диаграмму размаха после очистки и посмотреть, как изменится медиана и среднее значение."
   ]
  },
  {
   "cell_type": "markdown",
   "metadata": {},
   "source": [
    "Уберём редкие и выбивающиеся значения. Опишем обнаруженные особенности."
   ]
  },
  {
   "cell_type": "code",
   "execution_count": 45,
   "metadata": {},
   "outputs": [],
   "source": [
    "clear_dataset = df.query('days_exposition != 45 and days_exposition != 30 and days_exposition != 60 and days_exposition != 90 and days_exposition != 7 and days_exposition != 0')"
   ]
  },
  {
   "cell_type": "code",
   "execution_count": 46,
   "metadata": {},
   "outputs": [
    {
     "data": {
      "text/plain": [
       "22.131735516266502"
      ]
     },
     "execution_count": 46,
     "metadata": {},
     "output_type": "execute_result"
    }
   ],
   "source": [
    "percent_of_remaining = (len(clear_dataset) * 100) / len(df)\n",
    "lost_percent = 100 - percent_of_remaining\n",
    "lost_percent"
   ]
  },
  {
   "cell_type": "code",
   "execution_count": 47,
   "metadata": {},
   "outputs": [
    {
     "name": "stdout",
     "output_type": "stream",
     "text": [
      "Нижняя граница last_price 1000000.0\n",
      "Нижняя граница last_price 36000000.0\n",
      "Процент отброшенных значений =  1.95 %\n"
     ]
    }
   ],
   "source": [
    "# Код ревьюера\n",
    "\n",
    "low_percentele = 0.01\n",
    "hihg_percentele = 0.99\n",
    "\n",
    "last_price_low = df['last_price'].quantile(low_percentele)\n",
    "last_price_high = df['last_price'].quantile(hihg_percentele)\n",
    "\n",
    "print(f'Нижняя граница last_price {last_price_low}')\n",
    "print(f'Нижняя граница last_price {last_price_high}')\n",
    "\n",
    "print(\n",
    "    'Процент отброшенных значений = ',\n",
    "    round(\n",
    "        100 - len(df.query('@last_price_low <= last_price <= @last_price_high'))\n",
    "        / len(df['last_price']) * 100,\n",
    "        2\n",
    "    ),\n",
    "    '%'\n",
    ")"
   ]
  },
  {
   "cell_type": "code",
   "execution_count": 48,
   "metadata": {},
   "outputs": [
    {
     "data": {
      "text/plain": [
       "(1.0, 1000.0)"
      ]
     },
     "execution_count": 48,
     "metadata": {},
     "output_type": "execute_result"
    },
    {
     "data": {
      "image/png": "[encoded data removed]",
      "text/plain": [
       "<Figure size 432x288 with 1 Axes>"
      ]
     },
     "metadata": {
      "needs_background": "light"
     },
     "output_type": "display_data"
    }
   ],
   "source": [
    "plt.boxplot(clear_dataset['days_exposition'])\n",
    "plt.ylim(1,1000)"
   ]
  },
  {
   "cell_type": "code",
   "execution_count": 49,
   "metadata": {},
   "outputs": [
    {
     "data": {
      "text/plain": [
       "<AxesSubplot:ylabel='Frequency'>"
      ]
     },
     "execution_count": 49,
     "metadata": {},
     "output_type": "execute_result"
    },
    {
     "data": {
      "image/png": "[encoded data removed]",
      "text/plain": [
       "<Figure size 432x288 with 1 Axes>"
      ]
     },
     "metadata": {
      "needs_background": "light"
     },
     "output_type": "display_data"
    }
   ],
   "source": [
    "clear_dataset.plot(y = 'days_exposition', kind = 'hist', bins = 100, grid = True, range = (1,200))"
   ]
  },
  {
   "cell_type": "code",
   "execution_count": 50,
   "metadata": {},
   "outputs": [
    {
     "data": {
      "text/plain": [
       "4       176\n",
       "3       158\n",
       "5       152\n",
       "14      148\n",
       "9       143\n",
       "       ... \n",
       "1112      1\n",
       "1080      1\n",
       "1064      1\n",
       "1032      1\n",
       "1391      1\n",
       "Name: days_exposition, Length: 1136, dtype: int64"
      ]
     },
     "execution_count": 50,
     "metadata": {},
     "output_type": "execute_result"
    }
   ],
   "source": [
    "clear_dataset['days_exposition'].value_counts()"
   ]
  },
  {
   "cell_type": "code",
   "execution_count": 51,
   "metadata": {},
   "outputs": [
    {
     "data": {
      "text/plain": [
       "195.80334886745422"
      ]
     },
     "execution_count": 51,
     "metadata": {},
     "output_type": "execute_result"
    }
   ],
   "source": [
    "clear_dataset['days_exposition'].mean()"
   ]
  },
  {
   "cell_type": "code",
   "execution_count": 52,
   "metadata": {},
   "outputs": [
    {
     "data": {
      "text/plain": [
       "114.0"
      ]
     },
     "execution_count": 52,
     "metadata": {},
     "output_type": "execute_result"
    }
   ],
   "source": [
    "clear_dataset['days_exposition'].median()"
   ]
  },
  {
   "cell_type": "markdown",
   "metadata": {},
   "source": [
    "**Вывод:** после очистки данных заметно, что медиана и средние стали больше."
   ]
  },
  {
   "cell_type": "markdown",
   "metadata": {},
   "source": [
    "Посмотрим на зависимость цены квадратного метра от общей площади квартиры."
   ]
  },
  {
   "cell_type": "code",
   "execution_count": 53,
   "metadata": {},
   "outputs": [
    {
     "data": {
      "text/html": [
       "<div>\n",
       "<style scoped>\n",
       "    .dataframe tbody tr th:only-of-type {\n",
       "        vertical-align: middle;\n",
       "    }\n",
       "\n",
       "    .dataframe tbody tr th {\n",
       "        vertical-align: top;\n",
       "    }\n",
       "\n",
       "    .dataframe thead th {\n",
       "        text-align: right;\n",
       "    }\n",
       "</style>\n",
       "<table border=\"1\" class=\"dataframe\">\n",
       "  <thead>\n",
       "    <tr style=\"text-align: right;\">\n",
       "      <th></th>\n",
       "      <th>mean</th>\n",
       "      <th>count</th>\n",
       "      <th>median</th>\n",
       "    </tr>\n",
       "    <tr>\n",
       "      <th>total_area</th>\n",
       "      <th></th>\n",
       "      <th></th>\n",
       "      <th></th>\n",
       "    </tr>\n",
       "  </thead>\n",
       "  <tbody>\n",
       "    <tr>\n",
       "      <th>401.00</th>\n",
       "      <td>1000748.0</td>\n",
       "      <td>1</td>\n",
       "      <td>1000748.0</td>\n",
       "    </tr>\n",
       "    <tr>\n",
       "      <th>187.50</th>\n",
       "      <td>927302.0</td>\n",
       "      <td>2</td>\n",
       "      <td>927302.0</td>\n",
       "    </tr>\n",
       "    <tr>\n",
       "      <th>285.70</th>\n",
       "      <td>857542.0</td>\n",
       "      <td>1</td>\n",
       "      <td>857542.0</td>\n",
       "    </tr>\n",
       "    <tr>\n",
       "      <th>268.00</th>\n",
       "      <td>712201.0</td>\n",
       "      <td>1</td>\n",
       "      <td>712201.0</td>\n",
       "    </tr>\n",
       "    <tr>\n",
       "      <th>242.40</th>\n",
       "      <td>660000.0</td>\n",
       "      <td>1</td>\n",
       "      <td>660000.0</td>\n",
       "    </tr>\n",
       "    <tr>\n",
       "      <th>...</th>\n",
       "      <td>...</td>\n",
       "      <td>...</td>\n",
       "      <td>...</td>\n",
       "    </tr>\n",
       "    <tr>\n",
       "      <th>60.96</th>\n",
       "      <td>30347.0</td>\n",
       "      <td>1</td>\n",
       "      <td>30347.0</td>\n",
       "    </tr>\n",
       "    <tr>\n",
       "      <th>151.80</th>\n",
       "      <td>28919.0</td>\n",
       "      <td>1</td>\n",
       "      <td>28919.0</td>\n",
       "    </tr>\n",
       "    <tr>\n",
       "      <th>28.66</th>\n",
       "      <td>24075.0</td>\n",
       "      <td>1</td>\n",
       "      <td>24075.0</td>\n",
       "    </tr>\n",
       "    <tr>\n",
       "      <th>54.33</th>\n",
       "      <td>23927.0</td>\n",
       "      <td>1</td>\n",
       "      <td>23927.0</td>\n",
       "    </tr>\n",
       "    <tr>\n",
       "      <th>138.70</th>\n",
       "      <td>15861.0</td>\n",
       "      <td>1</td>\n",
       "      <td>15861.0</td>\n",
       "    </tr>\n",
       "  </tbody>\n",
       "</table>\n",
       "<p>2182 rows × 3 columns</p>\n",
       "</div>"
      ],
      "text/plain": [
       "                 mean  count     median\n",
       "total_area                             \n",
       "401.00      1000748.0      1  1000748.0\n",
       "187.50       927302.0      2   927302.0\n",
       "285.70       857542.0      1   857542.0\n",
       "268.00       712201.0      1   712201.0\n",
       "242.40       660000.0      1   660000.0\n",
       "...               ...    ...        ...\n",
       "60.96         30347.0      1    30347.0\n",
       "151.80        28919.0      1    28919.0\n",
       "28.66         24075.0      1    24075.0\n",
       "54.33         23927.0      1    23927.0\n",
       "138.70        15861.0      1    15861.0\n",
       "\n",
       "[2182 rows x 3 columns]"
      ]
     },
     "execution_count": 53,
     "metadata": {},
     "output_type": "execute_result"
    }
   ],
   "source": [
    "total_area_table = df.pivot_table(index = 'total_area', values = 'price_per_square_meter', aggfunc = ['mean', 'count', 'median'])\n",
    "total_area_table.columns = ['mean', 'count', 'median']\n",
    "total_area_table.sort_values('median', ascending = False)"
   ]
  },
  {
   "cell_type": "code",
   "execution_count": 54,
   "metadata": {
    "scrolled": true
   },
   "outputs": [
    {
     "data": {
      "text/plain": [
       "<AxesSubplot:xlabel='total_area'>"
      ]
     },
     "execution_count": 54,
     "metadata": {},
     "output_type": "execute_result"
    },
    {
     "data": {
      "image/png": "[encoded data removed]",
      "text/plain": [
       "<Figure size 432x288 with 1 Axes>"
      ]
     },
     "metadata": {
      "needs_background": "light"
     },
     "output_type": "display_data"
    }
   ],
   "source": [
    "total_area_table.plot(y = 'median', style = 'o', alpha=0.08)"
   ]
  },
  {
   "cell_type": "markdown",
   "metadata": {},
   "source": [
    "Посмострим на корреляцию с помощью критерия Пирсона"
   ]
  },
  {
   "cell_type": "code",
   "execution_count": 55,
   "metadata": {
    "scrolled": true
   },
   "outputs": [
    {
     "data": {
      "text/plain": [
       "0.3019601438779257"
      ]
     },
     "execution_count": 55,
     "metadata": {},
     "output_type": "execute_result"
    }
   ],
   "source": [
    "df['total_area'].corr(df['price_per_square_meter'])"
   ]
  },
  {
   "cell_type": "markdown",
   "metadata": {},
   "source": [
    "**Вывод:** зависимость, как видно по графику, не особо высокая."
   ]
  },
  {
   "cell_type": "markdown",
   "metadata": {},
   "source": [
    "Посмотрим на зависимость квадратного метра от числа комнат."
   ]
  },
  {
   "cell_type": "code",
   "execution_count": 56,
   "metadata": {},
   "outputs": [
    {
     "data": {
      "text/html": [
       "<div>\n",
       "<style scoped>\n",
       "    .dataframe tbody tr th:only-of-type {\n",
       "        vertical-align: middle;\n",
       "    }\n",
       "\n",
       "    .dataframe tbody tr th {\n",
       "        vertical-align: top;\n",
       "    }\n",
       "\n",
       "    .dataframe thead th {\n",
       "        text-align: right;\n",
       "    }\n",
       "</style>\n",
       "<table border=\"1\" class=\"dataframe\">\n",
       "  <thead>\n",
       "    <tr style=\"text-align: right;\">\n",
       "      <th></th>\n",
       "      <th>mean</th>\n",
       "      <th>count</th>\n",
       "      <th>median</th>\n",
       "    </tr>\n",
       "    <tr>\n",
       "      <th>rooms</th>\n",
       "      <th></th>\n",
       "      <th></th>\n",
       "      <th></th>\n",
       "    </tr>\n",
       "  </thead>\n",
       "  <tbody>\n",
       "    <tr>\n",
       "      <th>7</th>\n",
       "      <td>163569.491525</td>\n",
       "      <td>59</td>\n",
       "      <td>108827.0</td>\n",
       "    </tr>\n",
       "    <tr>\n",
       "      <th>0</th>\n",
       "      <td>108512.730964</td>\n",
       "      <td>197</td>\n",
       "      <td>105555.0</td>\n",
       "    </tr>\n",
       "    <tr>\n",
       "      <th>1</th>\n",
       "      <td>100817.830993</td>\n",
       "      <td>8047</td>\n",
       "      <td>100000.0</td>\n",
       "    </tr>\n",
       "    <tr>\n",
       "      <th>6</th>\n",
       "      <td>140718.342857</td>\n",
       "      <td>105</td>\n",
       "      <td>99411.0</td>\n",
       "    </tr>\n",
       "    <tr>\n",
       "      <th>5</th>\n",
       "      <td>126749.889571</td>\n",
       "      <td>326</td>\n",
       "      <td>96516.5</td>\n",
       "    </tr>\n",
       "    <tr>\n",
       "      <th>2</th>\n",
       "      <td>95489.207557</td>\n",
       "      <td>7940</td>\n",
       "      <td>92796.0</td>\n",
       "    </tr>\n",
       "    <tr>\n",
       "      <th>4</th>\n",
       "      <td>110331.160169</td>\n",
       "      <td>1180</td>\n",
       "      <td>92666.0</td>\n",
       "    </tr>\n",
       "    <tr>\n",
       "      <th>3</th>\n",
       "      <td>97150.694358</td>\n",
       "      <td>5814</td>\n",
       "      <td>88983.0</td>\n",
       "    </tr>\n",
       "  </tbody>\n",
       "</table>\n",
       "</div>"
      ],
      "text/plain": [
       "                mean  count    median\n",
       "rooms                                \n",
       "7      163569.491525     59  108827.0\n",
       "0      108512.730964    197  105555.0\n",
       "1      100817.830993   8047  100000.0\n",
       "6      140718.342857    105   99411.0\n",
       "5      126749.889571    326   96516.5\n",
       "2       95489.207557   7940   92796.0\n",
       "4      110331.160169   1180   92666.0\n",
       "3       97150.694358   5814   88983.0"
      ]
     },
     "execution_count": 56,
     "metadata": {},
     "output_type": "execute_result"
    }
   ],
   "source": [
    "rooms_table = df.pivot_table(index = 'rooms', values = 'price_per_square_meter', aggfunc = ['mean', 'count', 'median'])\n",
    "rooms_table.columns = ['mean', 'count', 'median']\n",
    "rooms_table.query('count > 50').sort_values('median', ascending = False)"
   ]
  },
  {
   "cell_type": "code",
   "execution_count": 57,
   "metadata": {},
   "outputs": [
    {
     "data": {
      "text/plain": [
       "<AxesSubplot:xlabel='rooms'>"
      ]
     },
     "execution_count": 57,
     "metadata": {},
     "output_type": "execute_result"
    },
    {
     "data": {
      "image/png": "[encoded data removed]",
      "text/plain": [
       "<Figure size 432x288 with 1 Axes>"
      ]
     },
     "metadata": {
      "needs_background": "light"
     },
     "output_type": "display_data"
    }
   ],
   "source": [
    "rooms_table.query('count > 50').plot(y = 'median')"
   ]
  },
  {
   "cell_type": "markdown",
   "metadata": {},
   "source": [
    "**Вывод:** заметно снижение стоимости по мере приближения к трем комнатам."
   ]
  },
  {
   "cell_type": "markdown",
   "metadata": {},
   "source": [
    "Посмотрим на зависимость цены квадратного метра от этажа (первого или последнего)."
   ]
  },
  {
   "cell_type": "code",
   "execution_count": 58,
   "metadata": {},
   "outputs": [],
   "source": [
    "category_floor_table = df.query('floor_category != \"Другой этаж\"').pivot_table(index = 'floor_category', values = 'price_per_square_meter', aggfunc = ['mean', 'count', 'median'])\n",
    "category_floor_table.columns = ['mean', 'count', 'median']"
   ]
  },
  {
   "cell_type": "code",
   "execution_count": 59,
   "metadata": {},
   "outputs": [
    {
     "data": {
      "text/plain": [
       "<AxesSubplot:xlabel='floor_category'>"
      ]
     },
     "execution_count": 59,
     "metadata": {},
     "output_type": "execute_result"
    },
    {
     "data": {
      "image/png": "[encoded data removed]",
      "text/plain": [
       "<Figure size 432x288 with 1 Axes>"
      ]
     },
     "metadata": {
      "needs_background": "light"
     },
     "output_type": "display_data"
    }
   ],
   "source": [
    "category_floor_table.plot(y = 'median')"
   ]
  },
  {
   "cell_type": "markdown",
   "metadata": {},
   "source": [
    "**Вывод:** чем выше этаж, тем дороже квартира."
   ]
  },
  {
   "cell_type": "markdown",
   "metadata": {},
   "source": [
    "Посмотрим зависимость цены квадратного метра от удалённости центра"
   ]
  },
  {
   "cell_type": "code",
   "execution_count": 60,
   "metadata": {},
   "outputs": [
    {
     "data": {
      "text/plain": [
       "<AxesSubplot:xlabel='cityCenters_nearest', ylabel='price_per_square_meter'>"
      ]
     },
     "execution_count": 60,
     "metadata": {},
     "output_type": "execute_result"
    },
    {
     "data": {
      "image/png": "[encoded data removed]",
      "text/plain": [
       "<Figure size 432x288 with 1 Axes>"
      ]
     },
     "metadata": {
      "needs_background": "light"
     },
     "output_type": "display_data"
    }
   ],
   "source": [
    "df.plot(kind = 'scatter', y = 'price_per_square_meter', x = 'cityCenters_nearest', alpha = 0.3)"
   ]
  },
  {
   "cell_type": "code",
   "execution_count": 61,
   "metadata": {},
   "outputs": [
    {
     "data": {
      "text/plain": [
       "-0.31795073682864694"
      ]
     },
     "execution_count": 61,
     "metadata": {},
     "output_type": "execute_result"
    }
   ],
   "source": [
    "df['cityCenters_nearest'].corr(df['price_per_square_meter'])"
   ]
  },
  {
   "cell_type": "markdown",
   "metadata": {},
   "source": [
    "**Вывод:** чем ближе к центру, тем выше стоимость."
   ]
  },
  {
   "cell_type": "markdown",
   "metadata": {},
   "source": [
    "Зависимость цены квадратного метра от даты размещения: дня недели, месяца и года."
   ]
  },
  {
   "cell_type": "code",
   "execution_count": 62,
   "metadata": {},
   "outputs": [],
   "source": [
    "table_week = df.pivot_table(index = 'weekday_publication', values = 'price_per_square_meter', aggfunc = ['mean', 'count', 'median'])\n",
    "table_week.columns = ['mean', 'count', 'median']"
   ]
  },
  {
   "cell_type": "code",
   "execution_count": 63,
   "metadata": {},
   "outputs": [
    {
     "data": {
      "text/html": [
       "<div>\n",
       "<style scoped>\n",
       "    .dataframe tbody tr th:only-of-type {\n",
       "        vertical-align: middle;\n",
       "    }\n",
       "\n",
       "    .dataframe tbody tr th {\n",
       "        vertical-align: top;\n",
       "    }\n",
       "\n",
       "    .dataframe thead th {\n",
       "        text-align: right;\n",
       "    }\n",
       "</style>\n",
       "<table border=\"1\" class=\"dataframe\">\n",
       "  <thead>\n",
       "    <tr style=\"text-align: right;\">\n",
       "      <th></th>\n",
       "      <th>mean</th>\n",
       "      <th>count</th>\n",
       "      <th>median</th>\n",
       "    </tr>\n",
       "    <tr>\n",
       "      <th>weekday_publication</th>\n",
       "      <th></th>\n",
       "      <th></th>\n",
       "      <th></th>\n",
       "    </tr>\n",
       "  </thead>\n",
       "  <tbody>\n",
       "    <tr>\n",
       "      <th>1</th>\n",
       "      <td>99734.089410</td>\n",
       "      <td>4183</td>\n",
       "      <td>95634.0</td>\n",
       "    </tr>\n",
       "    <tr>\n",
       "      <th>2</th>\n",
       "      <td>99616.731002</td>\n",
       "      <td>3974</td>\n",
       "      <td>95473.0</td>\n",
       "    </tr>\n",
       "    <tr>\n",
       "      <th>3</th>\n",
       "      <td>100162.466356</td>\n",
       "      <td>4295</td>\n",
       "      <td>95143.0</td>\n",
       "    </tr>\n",
       "    <tr>\n",
       "      <th>0</th>\n",
       "      <td>99437.994463</td>\n",
       "      <td>3612</td>\n",
       "      <td>94688.0</td>\n",
       "    </tr>\n",
       "    <tr>\n",
       "      <th>4</th>\n",
       "      <td>99011.697000</td>\n",
       "      <td>4000</td>\n",
       "      <td>94616.0</td>\n",
       "    </tr>\n",
       "    <tr>\n",
       "      <th>6</th>\n",
       "      <td>97707.917010</td>\n",
       "      <td>1699</td>\n",
       "      <td>94501.0</td>\n",
       "    </tr>\n",
       "    <tr>\n",
       "      <th>5</th>\n",
       "      <td>99017.722107</td>\n",
       "      <td>1936</td>\n",
       "      <td>93545.5</td>\n",
       "    </tr>\n",
       "  </tbody>\n",
       "</table>\n",
       "</div>"
      ],
      "text/plain": [
       "                              mean  count   median\n",
       "weekday_publication                               \n",
       "1                     99734.089410   4183  95634.0\n",
       "2                     99616.731002   3974  95473.0\n",
       "3                    100162.466356   4295  95143.0\n",
       "0                     99437.994463   3612  94688.0\n",
       "4                     99011.697000   4000  94616.0\n",
       "6                     97707.917010   1699  94501.0\n",
       "5                     99017.722107   1936  93545.5"
      ]
     },
     "execution_count": 63,
     "metadata": {},
     "output_type": "execute_result"
    }
   ],
   "source": [
    "table_week.sort_values('median', ascending = False)"
   ]
  },
  {
   "cell_type": "code",
   "execution_count": 64,
   "metadata": {},
   "outputs": [
    {
     "data": {
      "text/plain": [
       "<AxesSubplot:xlabel='weekday_publication'>"
      ]
     },
     "execution_count": 64,
     "metadata": {},
     "output_type": "execute_result"
    },
    {
     "data": {
      "image/png": "[encoded data removed]",
      "text/plain": [
       "<Figure size 432x288 with 1 Axes>"
      ]
     },
     "metadata": {
      "needs_background": "light"
     },
     "output_type": "display_data"
    }
   ],
   "source": [
    "table_week.plot(y = 'median')"
   ]
  },
  {
   "cell_type": "markdown",
   "metadata": {},
   "source": [
    "**Вывод:** в субботу стоимость самая низкая"
   ]
  },
  {
   "cell_type": "code",
   "execution_count": 65,
   "metadata": {},
   "outputs": [],
   "source": [
    "table_month = df.pivot_table(index = 'month_publication', values = 'price_per_square_meter', aggfunc = ['mean', 'count', 'median'])\n",
    "table_month.columns = ['mean', 'count', 'median']"
   ]
  },
  {
   "cell_type": "code",
   "execution_count": 66,
   "metadata": {},
   "outputs": [
    {
     "data": {
      "text/html": [
       "<div>\n",
       "<style scoped>\n",
       "    .dataframe tbody tr th:only-of-type {\n",
       "        vertical-align: middle;\n",
       "    }\n",
       "\n",
       "    .dataframe tbody tr th {\n",
       "        vertical-align: top;\n",
       "    }\n",
       "\n",
       "    .dataframe thead th {\n",
       "        text-align: right;\n",
       "    }\n",
       "</style>\n",
       "<table border=\"1\" class=\"dataframe\">\n",
       "  <thead>\n",
       "    <tr style=\"text-align: right;\">\n",
       "      <th></th>\n",
       "      <th>mean</th>\n",
       "      <th>count</th>\n",
       "      <th>median</th>\n",
       "    </tr>\n",
       "    <tr>\n",
       "      <th>month_publication</th>\n",
       "      <th></th>\n",
       "      <th></th>\n",
       "      <th></th>\n",
       "    </tr>\n",
       "  </thead>\n",
       "  <tbody>\n",
       "    <tr>\n",
       "      <th>4</th>\n",
       "      <td>101948.567045</td>\n",
       "      <td>2379</td>\n",
       "      <td>96451</td>\n",
       "    </tr>\n",
       "    <tr>\n",
       "      <th>8</th>\n",
       "      <td>100110.094037</td>\n",
       "      <td>1744</td>\n",
       "      <td>96026</td>\n",
       "    </tr>\n",
       "    <tr>\n",
       "      <th>9</th>\n",
       "      <td>100463.814740</td>\n",
       "      <td>1981</td>\n",
       "      <td>95607</td>\n",
       "    </tr>\n",
       "    <tr>\n",
       "      <th>11</th>\n",
       "      <td>99230.427246</td>\n",
       "      <td>2371</td>\n",
       "      <td>95588</td>\n",
       "    </tr>\n",
       "    <tr>\n",
       "      <th>3</th>\n",
       "      <td>98972.768844</td>\n",
       "      <td>2587</td>\n",
       "      <td>95238</td>\n",
       "    </tr>\n",
       "    <tr>\n",
       "      <th>1</th>\n",
       "      <td>99862.139333</td>\n",
       "      <td>1500</td>\n",
       "      <td>95222</td>\n",
       "    </tr>\n",
       "    <tr>\n",
       "      <th>2</th>\n",
       "      <td>98768.292045</td>\n",
       "      <td>2640</td>\n",
       "      <td>95000</td>\n",
       "    </tr>\n",
       "    <tr>\n",
       "      <th>7</th>\n",
       "      <td>99625.190560</td>\n",
       "      <td>1695</td>\n",
       "      <td>95000</td>\n",
       "    </tr>\n",
       "    <tr>\n",
       "      <th>12</th>\n",
       "      <td>99574.280926</td>\n",
       "      <td>1641</td>\n",
       "      <td>94262</td>\n",
       "    </tr>\n",
       "    <tr>\n",
       "      <th>10</th>\n",
       "      <td>97933.448049</td>\n",
       "      <td>2127</td>\n",
       "      <td>94202</td>\n",
       "    </tr>\n",
       "    <tr>\n",
       "      <th>5</th>\n",
       "      <td>98543.340659</td>\n",
       "      <td>1274</td>\n",
       "      <td>92857</td>\n",
       "    </tr>\n",
       "    <tr>\n",
       "      <th>6</th>\n",
       "      <td>97762.870455</td>\n",
       "      <td>1760</td>\n",
       "      <td>92799</td>\n",
       "    </tr>\n",
       "  </tbody>\n",
       "</table>\n",
       "</div>"
      ],
      "text/plain": [
       "                            mean  count  median\n",
       "month_publication                              \n",
       "4                  101948.567045   2379   96451\n",
       "8                  100110.094037   1744   96026\n",
       "9                  100463.814740   1981   95607\n",
       "11                  99230.427246   2371   95588\n",
       "3                   98972.768844   2587   95238\n",
       "1                   99862.139333   1500   95222\n",
       "2                   98768.292045   2640   95000\n",
       "7                   99625.190560   1695   95000\n",
       "12                  99574.280926   1641   94262\n",
       "10                  97933.448049   2127   94202\n",
       "5                   98543.340659   1274   92857\n",
       "6                   97762.870455   1760   92799"
      ]
     },
     "execution_count": 66,
     "metadata": {},
     "output_type": "execute_result"
    }
   ],
   "source": [
    "table_month.sort_values('median', ascending = False)"
   ]
  },
  {
   "cell_type": "code",
   "execution_count": 67,
   "metadata": {},
   "outputs": [
    {
     "data": {
      "text/plain": [
       "<AxesSubplot:xlabel='month_publication'>"
      ]
     },
     "execution_count": 67,
     "metadata": {},
     "output_type": "execute_result"
    },
    {
     "data": {
      "image/png": "[encoded data removed]",
      "text/plain": [
       "<Figure size 432x288 with 1 Axes>"
      ]
     },
     "metadata": {
      "needs_background": "light"
     },
     "output_type": "display_data"
    }
   ],
   "source": [
    "table_month.plot(y = 'median')"
   ]
  },
  {
   "cell_type": "markdown",
   "metadata": {},
   "source": [
    "**Вывод:** высокая стоимость наблюдается в апреле и в августе."
   ]
  },
  {
   "cell_type": "code",
   "execution_count": 68,
   "metadata": {},
   "outputs": [
    {
     "data": {
      "text/html": [
       "<div>\n",
       "<style scoped>\n",
       "    .dataframe tbody tr th:only-of-type {\n",
       "        vertical-align: middle;\n",
       "    }\n",
       "\n",
       "    .dataframe tbody tr th {\n",
       "        vertical-align: top;\n",
       "    }\n",
       "\n",
       "    .dataframe thead th {\n",
       "        text-align: right;\n",
       "    }\n",
       "</style>\n",
       "<table border=\"1\" class=\"dataframe\">\n",
       "  <thead>\n",
       "    <tr style=\"text-align: right;\">\n",
       "      <th></th>\n",
       "      <th>mean</th>\n",
       "      <th>count</th>\n",
       "      <th>median</th>\n",
       "    </tr>\n",
       "    <tr>\n",
       "      <th>year_public</th>\n",
       "      <th></th>\n",
       "      <th></th>\n",
       "      <th></th>\n",
       "    </tr>\n",
       "  </thead>\n",
       "  <tbody>\n",
       "    <tr>\n",
       "      <th>2014</th>\n",
       "      <td>124830.000000</td>\n",
       "      <td>137</td>\n",
       "      <td>107000.0</td>\n",
       "    </tr>\n",
       "    <tr>\n",
       "      <th>2019</th>\n",
       "      <td>107123.332060</td>\n",
       "      <td>2879</td>\n",
       "      <td>103305.0</td>\n",
       "    </tr>\n",
       "    <tr>\n",
       "      <th>2018</th>\n",
       "      <td>97773.107290</td>\n",
       "      <td>8519</td>\n",
       "      <td>95689.0</td>\n",
       "    </tr>\n",
       "    <tr>\n",
       "      <th>2015</th>\n",
       "      <td>104613.756507</td>\n",
       "      <td>1191</td>\n",
       "      <td>93414.0</td>\n",
       "    </tr>\n",
       "    <tr>\n",
       "      <th>2017</th>\n",
       "      <td>97621.434188</td>\n",
       "      <td>8190</td>\n",
       "      <td>92564.5</td>\n",
       "    </tr>\n",
       "    <tr>\n",
       "      <th>2016</th>\n",
       "      <td>98321.900467</td>\n",
       "      <td>2783</td>\n",
       "      <td>91743.0</td>\n",
       "    </tr>\n",
       "  </tbody>\n",
       "</table>\n",
       "</div>"
      ],
      "text/plain": [
       "                      mean  count    median\n",
       "year_public                                \n",
       "2014         124830.000000    137  107000.0\n",
       "2019         107123.332060   2879  103305.0\n",
       "2018          97773.107290   8519   95689.0\n",
       "2015         104613.756507   1191   93414.0\n",
       "2017          97621.434188   8190   92564.5\n",
       "2016          98321.900467   2783   91743.0"
      ]
     },
     "execution_count": 68,
     "metadata": {},
     "output_type": "execute_result"
    }
   ],
   "source": [
    "table_year = df.pivot_table(index = 'year_public', values = 'price_per_square_meter', aggfunc = ['mean', 'count', 'median'])\n",
    "table_year.columns = ['mean', 'count', 'median']\n",
    "table_year.sort_values('median', ascending = False)"
   ]
  },
  {
   "cell_type": "code",
   "execution_count": 69,
   "metadata": {
    "scrolled": true
   },
   "outputs": [
    {
     "data": {
      "text/plain": [
       "<AxesSubplot:xlabel='year_public'>"
      ]
     },
     "execution_count": 69,
     "metadata": {},
     "output_type": "execute_result"
    },
    {
     "data": {
      "image/png": "[encoded data removed]",
      "text/plain": [
       "<Figure size 432x288 with 1 Axes>"
      ]
     },
     "metadata": {
      "needs_background": "light"
     },
     "output_type": "display_data"
    }
   ],
   "source": [
    "table_year.plot(y = 'median')"
   ]
  },
  {
   "cell_type": "markdown",
   "metadata": {},
   "source": [
    "**Вывод:** на графике заметно, что цена с 2014-го года начала снижаться, а с 2016 возрастать."
   ]
  },
  {
   "cell_type": "markdown",
   "metadata": {},
   "source": [
    "Выделим населённые пункты с самой высокой и низкой стоимостью жилья."
   ]
  },
  {
   "cell_type": "code",
   "execution_count": 70,
   "metadata": {},
   "outputs": [],
   "source": [
    "higher_price = df.pivot_table(index = 'locality_name', values = 'price_per_square_meter', aggfunc=['count', 'mean'])\n",
    "higher_price.columns = ['count', 'mean']\n",
    "higher_price = higher_price.sort_values('count', ascending = False).head(10)"
   ]
  },
  {
   "cell_type": "code",
   "execution_count": 71,
   "metadata": {},
   "outputs": [
    {
     "data": {
      "text/html": [
       "<div>\n",
       "<style scoped>\n",
       "    .dataframe tbody tr th:only-of-type {\n",
       "        vertical-align: middle;\n",
       "    }\n",
       "\n",
       "    .dataframe tbody tr th {\n",
       "        vertical-align: top;\n",
       "    }\n",
       "\n",
       "    .dataframe thead th {\n",
       "        text-align: right;\n",
       "    }\n",
       "</style>\n",
       "<table border=\"1\" class=\"dataframe\">\n",
       "  <thead>\n",
       "    <tr style=\"text-align: right;\">\n",
       "      <th></th>\n",
       "      <th>count</th>\n",
       "      <th>mean</th>\n",
       "    </tr>\n",
       "    <tr>\n",
       "      <th>locality_name</th>\n",
       "      <th></th>\n",
       "      <th></th>\n",
       "    </tr>\n",
       "  </thead>\n",
       "  <tbody>\n",
       "    <tr>\n",
       "      <th>Санкт-Петербург</th>\n",
       "      <td>15721</td>\n",
       "      <td>114848.565231</td>\n",
       "    </tr>\n",
       "    <tr>\n",
       "      <th>посёлок Мурино</th>\n",
       "      <td>522</td>\n",
       "      <td>85751.733716</td>\n",
       "    </tr>\n",
       "    <tr>\n",
       "      <th>посёлок Шушары</th>\n",
       "      <td>440</td>\n",
       "      <td>78676.904545</td>\n",
       "    </tr>\n",
       "    <tr>\n",
       "      <th>Всеволожск</th>\n",
       "      <td>398</td>\n",
       "      <td>68654.007538</td>\n",
       "    </tr>\n",
       "    <tr>\n",
       "      <th>Пушкин</th>\n",
       "      <td>369</td>\n",
       "      <td>103125.373984</td>\n",
       "    </tr>\n",
       "    <tr>\n",
       "      <th>Колпино</th>\n",
       "      <td>338</td>\n",
       "      <td>75424.150888</td>\n",
       "    </tr>\n",
       "    <tr>\n",
       "      <th>посёлок Парголово</th>\n",
       "      <td>327</td>\n",
       "      <td>90175.489297</td>\n",
       "    </tr>\n",
       "    <tr>\n",
       "      <th>Гатчина</th>\n",
       "      <td>307</td>\n",
       "      <td>68745.693811</td>\n",
       "    </tr>\n",
       "    <tr>\n",
       "      <th>деревня Кудрово</th>\n",
       "      <td>299</td>\n",
       "      <td>92473.086957</td>\n",
       "    </tr>\n",
       "    <tr>\n",
       "      <th>Выборг</th>\n",
       "      <td>237</td>\n",
       "      <td>58141.489451</td>\n",
       "    </tr>\n",
       "  </tbody>\n",
       "</table>\n",
       "</div>"
      ],
      "text/plain": [
       "                   count           mean\n",
       "locality_name                          \n",
       "Санкт-Петербург    15721  114848.565231\n",
       "посёлок Мурино       522   85751.733716\n",
       "посёлок Шушары       440   78676.904545\n",
       "Всеволожск           398   68654.007538\n",
       "Пушкин               369  103125.373984\n",
       "Колпино              338   75424.150888\n",
       "посёлок Парголово    327   90175.489297\n",
       "Гатчина              307   68745.693811\n",
       "деревня Кудрово      299   92473.086957\n",
       "Выборг               237   58141.489451"
      ]
     },
     "execution_count": 71,
     "metadata": {},
     "output_type": "execute_result"
    }
   ],
   "source": [
    "higher_price"
   ]
  },
  {
   "cell_type": "code",
   "execution_count": 72,
   "metadata": {
    "scrolled": true
   },
   "outputs": [
    {
     "data": {
      "text/plain": [
       "<AxesSubplot:xlabel='locality_name'>"
      ]
     },
     "execution_count": 72,
     "metadata": {},
     "output_type": "execute_result"
    },
    {
     "data": {
      "image/png": "[encoded data removed]",
      "text/plain": [
       "<Figure size 432x288 with 1 Axes>"
      ]
     },
     "metadata": {
      "needs_background": "light"
     },
     "output_type": "display_data"
    }
   ],
   "source": [
    "higher_price = df.pivot_table(index = 'locality_name', values = 'price_per_square_meter', aggfunc=['count', 'mean', 'median'])\n",
    "higher_price.columns = ['count', 'mean', 'median']\n",
    "higher_price = higher_price.sort_values('count', ascending=False).head(10)\n",
    "higher_price.plot(y='median', kind='bar')"
   ]
  },
  {
   "cell_type": "code",
   "execution_count": 73,
   "metadata": {},
   "outputs": [
    {
     "data": {
      "text/plain": [
       "(0.0, 200000.0)"
      ]
     },
     "execution_count": 73,
     "metadata": {},
     "output_type": "execute_result"
    },
    {
     "data": {
      "image/png": "[encoded data removed]",
      "text/plain": [
       "<Figure size 1440x720 with 1 Axes>"
      ]
     },
     "metadata": {
      "needs_background": "light"
     },
     "output_type": "display_data"
    }
   ],
   "source": [
    "# Код ревьюера\n",
    "\n",
    "ax = (df\n",
    "    .query('locality_name in @higher_price.index')\n",
    "    .boxplot('price_per_square_meter', by='locality_name', figsize=(20, 10))\n",
    ")\n",
    "ax.set_ylim(0, 200000)"
   ]
  },
  {
   "cell_type": "code",
   "execution_count": 74,
   "metadata": {},
   "outputs": [
    {
     "data": {
      "text/html": [
       "<div>\n",
       "<style scoped>\n",
       "    .dataframe tbody tr th:only-of-type {\n",
       "        vertical-align: middle;\n",
       "    }\n",
       "\n",
       "    .dataframe tbody tr th {\n",
       "        vertical-align: top;\n",
       "    }\n",
       "\n",
       "    .dataframe thead th {\n",
       "        text-align: right;\n",
       "    }\n",
       "</style>\n",
       "<table border=\"1\" class=\"dataframe\">\n",
       "  <thead>\n",
       "    <tr style=\"text-align: right;\">\n",
       "      <th></th>\n",
       "      <th>count</th>\n",
       "      <th>mean</th>\n",
       "      <th>median</th>\n",
       "    </tr>\n",
       "    <tr>\n",
       "      <th>locality_name</th>\n",
       "      <th></th>\n",
       "      <th></th>\n",
       "      <th></th>\n",
       "    </tr>\n",
       "  </thead>\n",
       "  <tbody>\n",
       "    <tr>\n",
       "      <th>Санкт-Петербург</th>\n",
       "      <td>15721</td>\n",
       "      <td>114848.565231</td>\n",
       "      <td>104761.0</td>\n",
       "    </tr>\n",
       "  </tbody>\n",
       "</table>\n",
       "</div>"
      ],
      "text/plain": [
       "                 count           mean    median\n",
       "locality_name                                  \n",
       "Санкт-Петербург  15721  114848.565231  104761.0"
      ]
     },
     "execution_count": 74,
     "metadata": {},
     "output_type": "execute_result"
    }
   ],
   "source": [
    "higher_price[higher_price['mean'] == higher_price['mean'].max()]"
   ]
  },
  {
   "cell_type": "code",
   "execution_count": 75,
   "metadata": {},
   "outputs": [
    {
     "data": {
      "text/html": [
       "<div>\n",
       "<style scoped>\n",
       "    .dataframe tbody tr th:only-of-type {\n",
       "        vertical-align: middle;\n",
       "    }\n",
       "\n",
       "    .dataframe tbody tr th {\n",
       "        vertical-align: top;\n",
       "    }\n",
       "\n",
       "    .dataframe thead th {\n",
       "        text-align: right;\n",
       "    }\n",
       "</style>\n",
       "<table border=\"1\" class=\"dataframe\">\n",
       "  <thead>\n",
       "    <tr style=\"text-align: right;\">\n",
       "      <th></th>\n",
       "      <th>count</th>\n",
       "      <th>mean</th>\n",
       "      <th>median</th>\n",
       "    </tr>\n",
       "    <tr>\n",
       "      <th>locality_name</th>\n",
       "      <th></th>\n",
       "      <th></th>\n",
       "      <th></th>\n",
       "    </tr>\n",
       "  </thead>\n",
       "  <tbody>\n",
       "    <tr>\n",
       "      <th>Выборг</th>\n",
       "      <td>237</td>\n",
       "      <td>58141.489451</td>\n",
       "      <td>58158.0</td>\n",
       "    </tr>\n",
       "  </tbody>\n",
       "</table>\n",
       "</div>"
      ],
      "text/plain": [
       "               count          mean   median\n",
       "locality_name                              \n",
       "Выборг           237  58141.489451  58158.0"
      ]
     },
     "execution_count": 75,
     "metadata": {},
     "output_type": "execute_result"
    }
   ],
   "source": [
    "higher_price[higher_price['mean'] == higher_price['mean'].min()]"
   ]
  },
  {
   "cell_type": "markdown",
   "metadata": {},
   "source": [
    "**Вывод:** наиболее высокая стоимость в Санкт-Петербурге, а ниболее маленькая в деревне Выборг"
   ]
  },
  {
   "cell_type": "markdown",
   "metadata": {},
   "source": [
    "Выясняем, какая область входит в центр."
   ]
  },
  {
   "cell_type": "code",
   "execution_count": 76,
   "metadata": {},
   "outputs": [
    {
     "data": {
      "text/plain": [
       "<AxesSubplot:xlabel='cityCenters_nearest_km'>"
      ]
     },
     "execution_count": 76,
     "metadata": {},
     "output_type": "execute_result"
    },
    {
     "data": {
      "image/png": "[encoded data removed]",
      "text/plain": [
       "<Figure size 432x288 with 1 Axes>"
      ]
     },
     "metadata": {
      "needs_background": "light"
     },
     "output_type": "display_data"
    }
   ],
   "source": [
    "df['cityCenters_nearest_km'] = df['cityCenters_nearest']/1000\n",
    "df['cityCenters_nearest_km'] = df['cityCenters_nearest_km'].fillna(999999)\n",
    "df['cityCenters_nearest_km'] = df['cityCenters_nearest_km'].astype('int')\n",
    "kilometers_table = df.query('locality_name == \"Санкт-Петербург\" and cityCenters_nearest_km !=999999').pivot_table(index = 'cityCenters_nearest_km', values = 'price_per_square_meter', aggfunc = 'mean')\n",
    "kilometers_table.plot()"
   ]
  },
  {
   "cell_type": "markdown",
   "metadata": {},
   "source": [
    "**Вывод:** 3 км очень мало для центра крупного города. Дальше видно по графику, что цена падает. В качестве подстраховки возьму 5 км."
   ]
  },
  {
   "cell_type": "markdown",
   "metadata": {},
   "source": [
    "Выделим сегмент квартир в центре."
   ]
  },
  {
   "cell_type": "code",
   "execution_count": 77,
   "metadata": {},
   "outputs": [],
   "source": [
    "center = df.query('cityCenters_nearest_km <= 5 and locality_name == \"Санкт-Петербург\"')"
   ]
  },
  {
   "cell_type": "code",
   "execution_count": 78,
   "metadata": {},
   "outputs": [
    {
     "data": {
      "text/html": [
       "<div>\n",
       "<style scoped>\n",
       "    .dataframe tbody tr th:only-of-type {\n",
       "        vertical-align: middle;\n",
       "    }\n",
       "\n",
       "    .dataframe tbody tr th {\n",
       "        vertical-align: top;\n",
       "    }\n",
       "\n",
       "    .dataframe thead th {\n",
       "        text-align: right;\n",
       "    }\n",
       "</style>\n",
       "<table border=\"1\" class=\"dataframe\">\n",
       "  <thead>\n",
       "    <tr style=\"text-align: right;\">\n",
       "      <th></th>\n",
       "      <th>total_images</th>\n",
       "      <th>last_price</th>\n",
       "      <th>total_area</th>\n",
       "      <th>first_day_exposition</th>\n",
       "      <th>rooms</th>\n",
       "      <th>ceiling_height</th>\n",
       "      <th>floors_total</th>\n",
       "      <th>living_area</th>\n",
       "      <th>floor</th>\n",
       "      <th>is_apartment</th>\n",
       "      <th>studio</th>\n",
       "      <th>open_plan</th>\n",
       "      <th>kitchen_area</th>\n",
       "      <th>balcony</th>\n",
       "      <th>locality_name</th>\n",
       "      <th>airports_nearest</th>\n",
       "      <th>cityCenters_nearest</th>\n",
       "      <th>parks_around3000</th>\n",
       "      <th>parks_nearest</th>\n",
       "      <th>ponds_around3000</th>\n",
       "      <th>ponds_nearest</th>\n",
       "      <th>days_exposition</th>\n",
       "      <th>price_per_square_meter</th>\n",
       "      <th>weekday_publication</th>\n",
       "      <th>month_publication</th>\n",
       "      <th>year_public</th>\n",
       "      <th>floor_category</th>\n",
       "      <th>useful_area_ratio</th>\n",
       "      <th>kitchen_area_ratio</th>\n",
       "      <th>cityCenters_nearest_km</th>\n",
       "    </tr>\n",
       "  </thead>\n",
       "  <tbody>\n",
       "    <tr>\n",
       "      <th>24</th>\n",
       "      <td>8</td>\n",
       "      <td>6500000</td>\n",
       "      <td>97.20</td>\n",
       "      <td>2015-10-31</td>\n",
       "      <td>2</td>\n",
       "      <td>NaN</td>\n",
       "      <td>3.0</td>\n",
       "      <td>46.5</td>\n",
       "      <td>1</td>\n",
       "      <td>False</td>\n",
       "      <td>False</td>\n",
       "      <td>False</td>\n",
       "      <td>19.60</td>\n",
       "      <td>0</td>\n",
       "      <td>Санкт-Петербург</td>\n",
       "      <td>20052.0</td>\n",
       "      <td>2336.0</td>\n",
       "      <td>3.0</td>\n",
       "      <td>411.0</td>\n",
       "      <td>3.0</td>\n",
       "      <td>124.0</td>\n",
       "      <td>265</td>\n",
       "      <td>66872</td>\n",
       "      <td>5</td>\n",
       "      <td>10</td>\n",
       "      <td>2015</td>\n",
       "      <td>Первый этаж</td>\n",
       "      <td>0.478395</td>\n",
       "      <td>0.201646</td>\n",
       "      <td>2</td>\n",
       "    </tr>\n",
       "    <tr>\n",
       "      <th>35</th>\n",
       "      <td>6</td>\n",
       "      <td>15500000</td>\n",
       "      <td>149.00</td>\n",
       "      <td>2017-06-26</td>\n",
       "      <td>5</td>\n",
       "      <td>NaN</td>\n",
       "      <td>5.0</td>\n",
       "      <td>104.0</td>\n",
       "      <td>4</td>\n",
       "      <td>False</td>\n",
       "      <td>False</td>\n",
       "      <td>False</td>\n",
       "      <td>17.00</td>\n",
       "      <td>0</td>\n",
       "      <td>Санкт-Петербург</td>\n",
       "      <td>23670.0</td>\n",
       "      <td>3502.0</td>\n",
       "      <td>0.0</td>\n",
       "      <td>NaN</td>\n",
       "      <td>1.0</td>\n",
       "      <td>779.0</td>\n",
       "      <td>644</td>\n",
       "      <td>104026</td>\n",
       "      <td>0</td>\n",
       "      <td>6</td>\n",
       "      <td>2017</td>\n",
       "      <td>Другой этаж</td>\n",
       "      <td>0.697987</td>\n",
       "      <td>0.114094</td>\n",
       "      <td>3</td>\n",
       "    </tr>\n",
       "    <tr>\n",
       "      <th>61</th>\n",
       "      <td>18</td>\n",
       "      <td>7990000</td>\n",
       "      <td>74.00</td>\n",
       "      <td>2017-08-24</td>\n",
       "      <td>2</td>\n",
       "      <td>NaN</td>\n",
       "      <td>4.0</td>\n",
       "      <td>43.0</td>\n",
       "      <td>4</td>\n",
       "      <td>False</td>\n",
       "      <td>False</td>\n",
       "      <td>False</td>\n",
       "      <td>20.00</td>\n",
       "      <td>0</td>\n",
       "      <td>Санкт-Петербург</td>\n",
       "      <td>22568.0</td>\n",
       "      <td>4288.0</td>\n",
       "      <td>1.0</td>\n",
       "      <td>363.0</td>\n",
       "      <td>0.0</td>\n",
       "      <td>NaN</td>\n",
       "      <td>609</td>\n",
       "      <td>107972</td>\n",
       "      <td>3</td>\n",
       "      <td>8</td>\n",
       "      <td>2017</td>\n",
       "      <td>Последний этаж</td>\n",
       "      <td>0.581081</td>\n",
       "      <td>0.270270</td>\n",
       "      <td>4</td>\n",
       "    </tr>\n",
       "    <tr>\n",
       "      <th>63</th>\n",
       "      <td>2</td>\n",
       "      <td>20000000</td>\n",
       "      <td>118.00</td>\n",
       "      <td>2018-09-11</td>\n",
       "      <td>3</td>\n",
       "      <td>3.00</td>\n",
       "      <td>9.0</td>\n",
       "      <td>68.0</td>\n",
       "      <td>7</td>\n",
       "      <td>False</td>\n",
       "      <td>False</td>\n",
       "      <td>False</td>\n",
       "      <td>16.00</td>\n",
       "      <td>0</td>\n",
       "      <td>Санкт-Петербург</td>\n",
       "      <td>26055.0</td>\n",
       "      <td>4800.0</td>\n",
       "      <td>1.0</td>\n",
       "      <td>648.0</td>\n",
       "      <td>1.0</td>\n",
       "      <td>779.0</td>\n",
       "      <td>37</td>\n",
       "      <td>169491</td>\n",
       "      <td>1</td>\n",
       "      <td>9</td>\n",
       "      <td>2018</td>\n",
       "      <td>Другой этаж</td>\n",
       "      <td>0.576271</td>\n",
       "      <td>0.135593</td>\n",
       "      <td>4</td>\n",
       "    </tr>\n",
       "    <tr>\n",
       "      <th>99</th>\n",
       "      <td>32</td>\n",
       "      <td>9600000</td>\n",
       "      <td>90.00</td>\n",
       "      <td>2017-09-26</td>\n",
       "      <td>4</td>\n",
       "      <td>NaN</td>\n",
       "      <td>5.0</td>\n",
       "      <td>67.0</td>\n",
       "      <td>2</td>\n",
       "      <td>False</td>\n",
       "      <td>False</td>\n",
       "      <td>False</td>\n",
       "      <td>8.00</td>\n",
       "      <td>0</td>\n",
       "      <td>Санкт-Петербург</td>\n",
       "      <td>23277.0</td>\n",
       "      <td>2818.0</td>\n",
       "      <td>0.0</td>\n",
       "      <td>NaN</td>\n",
       "      <td>0.0</td>\n",
       "      <td>NaN</td>\n",
       "      <td>104</td>\n",
       "      <td>106666</td>\n",
       "      <td>1</td>\n",
       "      <td>9</td>\n",
       "      <td>2017</td>\n",
       "      <td>Другой этаж</td>\n",
       "      <td>0.744444</td>\n",
       "      <td>0.088889</td>\n",
       "      <td>2</td>\n",
       "    </tr>\n",
       "    <tr>\n",
       "      <th>...</th>\n",
       "      <td>...</td>\n",
       "      <td>...</td>\n",
       "      <td>...</td>\n",
       "      <td>...</td>\n",
       "      <td>...</td>\n",
       "      <td>...</td>\n",
       "      <td>...</td>\n",
       "      <td>...</td>\n",
       "      <td>...</td>\n",
       "      <td>...</td>\n",
       "      <td>...</td>\n",
       "      <td>...</td>\n",
       "      <td>...</td>\n",
       "      <td>...</td>\n",
       "      <td>...</td>\n",
       "      <td>...</td>\n",
       "      <td>...</td>\n",
       "      <td>...</td>\n",
       "      <td>...</td>\n",
       "      <td>...</td>\n",
       "      <td>...</td>\n",
       "      <td>...</td>\n",
       "      <td>...</td>\n",
       "      <td>...</td>\n",
       "      <td>...</td>\n",
       "      <td>...</td>\n",
       "      <td>...</td>\n",
       "      <td>...</td>\n",
       "      <td>...</td>\n",
       "      <td>...</td>\n",
       "    </tr>\n",
       "    <tr>\n",
       "      <th>23648</th>\n",
       "      <td>14</td>\n",
       "      <td>10100000</td>\n",
       "      <td>78.00</td>\n",
       "      <td>2017-05-12</td>\n",
       "      <td>3</td>\n",
       "      <td>3.27</td>\n",
       "      <td>5.0</td>\n",
       "      <td>48.6</td>\n",
       "      <td>5</td>\n",
       "      <td>False</td>\n",
       "      <td>False</td>\n",
       "      <td>False</td>\n",
       "      <td>8.20</td>\n",
       "      <td>0</td>\n",
       "      <td>Санкт-Петербург</td>\n",
       "      <td>20933.0</td>\n",
       "      <td>1113.0</td>\n",
       "      <td>1.0</td>\n",
       "      <td>621.0</td>\n",
       "      <td>2.0</td>\n",
       "      <td>117.0</td>\n",
       "      <td>621</td>\n",
       "      <td>129487</td>\n",
       "      <td>4</td>\n",
       "      <td>5</td>\n",
       "      <td>2017</td>\n",
       "      <td>Последний этаж</td>\n",
       "      <td>0.623077</td>\n",
       "      <td>0.105128</td>\n",
       "      <td>1</td>\n",
       "    </tr>\n",
       "    <tr>\n",
       "      <th>23664</th>\n",
       "      <td>5</td>\n",
       "      <td>9000000</td>\n",
       "      <td>110.00</td>\n",
       "      <td>2015-12-10</td>\n",
       "      <td>4</td>\n",
       "      <td>3.36</td>\n",
       "      <td>7.0</td>\n",
       "      <td>64.6</td>\n",
       "      <td>5</td>\n",
       "      <td>False</td>\n",
       "      <td>False</td>\n",
       "      <td>False</td>\n",
       "      <td>15.80</td>\n",
       "      <td>0</td>\n",
       "      <td>Санкт-Петербург</td>\n",
       "      <td>26313.0</td>\n",
       "      <td>5016.0</td>\n",
       "      <td>3.0</td>\n",
       "      <td>417.0</td>\n",
       "      <td>1.0</td>\n",
       "      <td>118.0</td>\n",
       "      <td>816</td>\n",
       "      <td>81818</td>\n",
       "      <td>3</td>\n",
       "      <td>12</td>\n",
       "      <td>2015</td>\n",
       "      <td>Другой этаж</td>\n",
       "      <td>0.587273</td>\n",
       "      <td>0.143636</td>\n",
       "      <td>5</td>\n",
       "    </tr>\n",
       "    <tr>\n",
       "      <th>23665</th>\n",
       "      <td>11</td>\n",
       "      <td>4250000</td>\n",
       "      <td>47.00</td>\n",
       "      <td>2016-05-20</td>\n",
       "      <td>1</td>\n",
       "      <td>NaN</td>\n",
       "      <td>6.0</td>\n",
       "      <td>18.2</td>\n",
       "      <td>1</td>\n",
       "      <td>False</td>\n",
       "      <td>False</td>\n",
       "      <td>False</td>\n",
       "      <td>14.60</td>\n",
       "      <td>0</td>\n",
       "      <td>Санкт-Петербург</td>\n",
       "      <td>20503.0</td>\n",
       "      <td>4946.0</td>\n",
       "      <td>2.0</td>\n",
       "      <td>624.0</td>\n",
       "      <td>1.0</td>\n",
       "      <td>519.0</td>\n",
       "      <td>131</td>\n",
       "      <td>90425</td>\n",
       "      <td>4</td>\n",
       "      <td>5</td>\n",
       "      <td>2016</td>\n",
       "      <td>Первый этаж</td>\n",
       "      <td>0.387234</td>\n",
       "      <td>0.310638</td>\n",
       "      <td>4</td>\n",
       "    </tr>\n",
       "    <tr>\n",
       "      <th>23691</th>\n",
       "      <td>11</td>\n",
       "      <td>9470000</td>\n",
       "      <td>72.90</td>\n",
       "      <td>2016-10-13</td>\n",
       "      <td>2</td>\n",
       "      <td>2.75</td>\n",
       "      <td>25.0</td>\n",
       "      <td>40.3</td>\n",
       "      <td>7</td>\n",
       "      <td>False</td>\n",
       "      <td>False</td>\n",
       "      <td>False</td>\n",
       "      <td>10.60</td>\n",
       "      <td>1</td>\n",
       "      <td>Санкт-Петербург</td>\n",
       "      <td>19424.0</td>\n",
       "      <td>4489.0</td>\n",
       "      <td>0.0</td>\n",
       "      <td>NaN</td>\n",
       "      <td>1.0</td>\n",
       "      <td>806.0</td>\n",
       "      <td>519</td>\n",
       "      <td>129903</td>\n",
       "      <td>3</td>\n",
       "      <td>10</td>\n",
       "      <td>2016</td>\n",
       "      <td>Другой этаж</td>\n",
       "      <td>0.552812</td>\n",
       "      <td>0.145405</td>\n",
       "      <td>4</td>\n",
       "    </tr>\n",
       "    <tr>\n",
       "      <th>23694</th>\n",
       "      <td>9</td>\n",
       "      <td>9700000</td>\n",
       "      <td>133.81</td>\n",
       "      <td>2017-03-21</td>\n",
       "      <td>3</td>\n",
       "      <td>3.70</td>\n",
       "      <td>5.0</td>\n",
       "      <td>73.3</td>\n",
       "      <td>3</td>\n",
       "      <td>False</td>\n",
       "      <td>False</td>\n",
       "      <td>False</td>\n",
       "      <td>13.83</td>\n",
       "      <td>0</td>\n",
       "      <td>Санкт-Петербург</td>\n",
       "      <td>24665.0</td>\n",
       "      <td>4232.0</td>\n",
       "      <td>1.0</td>\n",
       "      <td>796.0</td>\n",
       "      <td>3.0</td>\n",
       "      <td>381.0</td>\n",
       "      <td>0</td>\n",
       "      <td>72490</td>\n",
       "      <td>1</td>\n",
       "      <td>3</td>\n",
       "      <td>2017</td>\n",
       "      <td>Другой этаж</td>\n",
       "      <td>0.547792</td>\n",
       "      <td>0.103356</td>\n",
       "      <td>4</td>\n",
       "    </tr>\n",
       "  </tbody>\n",
       "</table>\n",
       "<p>2835 rows × 30 columns</p>\n",
       "</div>"
      ],
      "text/plain": [
       "       total_images  last_price  total_area first_day_exposition  rooms  \\\n",
       "24                8     6500000       97.20           2015-10-31      2   \n",
       "35                6    15500000      149.00           2017-06-26      5   \n",
       "61               18     7990000       74.00           2017-08-24      2   \n",
       "63                2    20000000      118.00           2018-09-11      3   \n",
       "99               32     9600000       90.00           2017-09-26      4   \n",
       "...             ...         ...         ...                  ...    ...   \n",
       "23648            14    10100000       78.00           2017-05-12      3   \n",
       "23664             5     9000000      110.00           2015-12-10      4   \n",
       "23665            11     4250000       47.00           2016-05-20      1   \n",
       "23691            11     9470000       72.90           2016-10-13      2   \n",
       "23694             9     9700000      133.81           2017-03-21      3   \n",
       "\n",
       "       ceiling_height  floors_total  living_area  floor  is_apartment  studio  \\\n",
       "24                NaN           3.0         46.5      1         False   False   \n",
       "35                NaN           5.0        104.0      4         False   False   \n",
       "61                NaN           4.0         43.0      4         False   False   \n",
       "63               3.00           9.0         68.0      7         False   False   \n",
       "99                NaN           5.0         67.0      2         False   False   \n",
       "...               ...           ...          ...    ...           ...     ...   \n",
       "23648            3.27           5.0         48.6      5         False   False   \n",
       "23664            3.36           7.0         64.6      5         False   False   \n",
       "23665             NaN           6.0         18.2      1         False   False   \n",
       "23691            2.75          25.0         40.3      7         False   False   \n",
       "23694            3.70           5.0         73.3      3         False   False   \n",
       "\n",
       "       open_plan  kitchen_area  balcony    locality_name  airports_nearest  \\\n",
       "24         False         19.60        0  Санкт-Петербург           20052.0   \n",
       "35         False         17.00        0  Санкт-Петербург           23670.0   \n",
       "61         False         20.00        0  Санкт-Петербург           22568.0   \n",
       "63         False         16.00        0  Санкт-Петербург           26055.0   \n",
       "99         False          8.00        0  Санкт-Петербург           23277.0   \n",
       "...          ...           ...      ...              ...               ...   \n",
       "23648      False          8.20        0  Санкт-Петербург           20933.0   \n",
       "23664      False         15.80        0  Санкт-Петербург           26313.0   \n",
       "23665      False         14.60        0  Санкт-Петербург           20503.0   \n",
       "23691      False         10.60        1  Санкт-Петербург           19424.0   \n",
       "23694      False         13.83        0  Санкт-Петербург           24665.0   \n",
       "\n",
       "       cityCenters_nearest  parks_around3000  parks_nearest  ponds_around3000  \\\n",
       "24                  2336.0               3.0          411.0               3.0   \n",
       "35                  3502.0               0.0            NaN               1.0   \n",
       "61                  4288.0               1.0          363.0               0.0   \n",
       "63                  4800.0               1.0          648.0               1.0   \n",
       "99                  2818.0               0.0            NaN               0.0   \n",
       "...                    ...               ...            ...               ...   \n",
       "23648               1113.0               1.0          621.0               2.0   \n",
       "23664               5016.0               3.0          417.0               1.0   \n",
       "23665               4946.0               2.0          624.0               1.0   \n",
       "23691               4489.0               0.0            NaN               1.0   \n",
       "23694               4232.0               1.0          796.0               3.0   \n",
       "\n",
       "       ponds_nearest  days_exposition  price_per_square_meter  \\\n",
       "24             124.0              265                   66872   \n",
       "35             779.0              644                  104026   \n",
       "61               NaN              609                  107972   \n",
       "63             779.0               37                  169491   \n",
       "99               NaN              104                  106666   \n",
       "...              ...              ...                     ...   \n",
       "23648          117.0              621                  129487   \n",
       "23664          118.0              816                   81818   \n",
       "23665          519.0              131                   90425   \n",
       "23691          806.0              519                  129903   \n",
       "23694          381.0                0                   72490   \n",
       "\n",
       "       weekday_publication  month_publication  year_public  floor_category  \\\n",
       "24                       5                 10         2015     Первый этаж   \n",
       "35                       0                  6         2017     Другой этаж   \n",
       "61                       3                  8         2017  Последний этаж   \n",
       "63                       1                  9         2018     Другой этаж   \n",
       "99                       1                  9         2017     Другой этаж   \n",
       "...                    ...                ...          ...             ...   \n",
       "23648                    4                  5         2017  Последний этаж   \n",
       "23664                    3                 12         2015     Другой этаж   \n",
       "23665                    4                  5         2016     Первый этаж   \n",
       "23691                    3                 10         2016     Другой этаж   \n",
       "23694                    1                  3         2017     Другой этаж   \n",
       "\n",
       "       useful_area_ratio  kitchen_area_ratio  cityCenters_nearest_km  \n",
       "24              0.478395            0.201646                       2  \n",
       "35              0.697987            0.114094                       3  \n",
       "61              0.581081            0.270270                       4  \n",
       "63              0.576271            0.135593                       4  \n",
       "99              0.744444            0.088889                       2  \n",
       "...                  ...                 ...                     ...  \n",
       "23648           0.623077            0.105128                       1  \n",
       "23664           0.587273            0.143636                       5  \n",
       "23665           0.387234            0.310638                       4  \n",
       "23691           0.552812            0.145405                       4  \n",
       "23694           0.547792            0.103356                       4  \n",
       "\n",
       "[2835 rows x 30 columns]"
      ]
     },
     "execution_count": 78,
     "metadata": {},
     "output_type": "execute_result"
    }
   ],
   "source": [
    "center"
   ]
  },
  {
   "cell_type": "markdown",
   "metadata": {},
   "source": [
    "Стоимость квадратного метра в зависимости от количества комнат."
   ]
  },
  {
   "cell_type": "code",
   "execution_count": 79,
   "metadata": {},
   "outputs": [
    {
     "data": {
      "text/html": [
       "<div>\n",
       "<style scoped>\n",
       "    .dataframe tbody tr th:only-of-type {\n",
       "        vertical-align: middle;\n",
       "    }\n",
       "\n",
       "    .dataframe tbody tr th {\n",
       "        vertical-align: top;\n",
       "    }\n",
       "\n",
       "    .dataframe thead th {\n",
       "        text-align: right;\n",
       "    }\n",
       "</style>\n",
       "<table border=\"1\" class=\"dataframe\">\n",
       "  <thead>\n",
       "    <tr style=\"text-align: right;\">\n",
       "      <th></th>\n",
       "      <th>mean</th>\n",
       "      <th>count</th>\n",
       "      <th>median</th>\n",
       "    </tr>\n",
       "    <tr>\n",
       "      <th>rooms</th>\n",
       "      <th></th>\n",
       "      <th></th>\n",
       "      <th></th>\n",
       "    </tr>\n",
       "  </thead>\n",
       "  <tbody>\n",
       "    <tr>\n",
       "      <th>1</th>\n",
       "      <td>155503.955145</td>\n",
       "      <td>379</td>\n",
       "      <td>142307.0</td>\n",
       "    </tr>\n",
       "    <tr>\n",
       "      <th>2</th>\n",
       "      <td>144525.480916</td>\n",
       "      <td>786</td>\n",
       "      <td>127719.5</td>\n",
       "    </tr>\n",
       "    <tr>\n",
       "      <th>3</th>\n",
       "      <td>141663.006897</td>\n",
       "      <td>870</td>\n",
       "      <td>117267.5</td>\n",
       "    </tr>\n",
       "    <tr>\n",
       "      <th>7</th>\n",
       "      <td>167473.411765</td>\n",
       "      <td>51</td>\n",
       "      <td>108827.0</td>\n",
       "    </tr>\n",
       "    <tr>\n",
       "      <th>4</th>\n",
       "      <td>132580.255760</td>\n",
       "      <td>434</td>\n",
       "      <td>106860.5</td>\n",
       "    </tr>\n",
       "    <tr>\n",
       "      <th>5</th>\n",
       "      <td>143231.782609</td>\n",
       "      <td>207</td>\n",
       "      <td>104026.0</td>\n",
       "    </tr>\n",
       "    <tr>\n",
       "      <th>6</th>\n",
       "      <td>140477.815789</td>\n",
       "      <td>76</td>\n",
       "      <td>101580.0</td>\n",
       "    </tr>\n",
       "  </tbody>\n",
       "</table>\n",
       "</div>"
      ],
      "text/plain": [
       "                mean  count    median\n",
       "rooms                                \n",
       "1      155503.955145    379  142307.0\n",
       "2      144525.480916    786  127719.5\n",
       "3      141663.006897    870  117267.5\n",
       "7      167473.411765     51  108827.0\n",
       "4      132580.255760    434  106860.5\n",
       "5      143231.782609    207  104026.0\n",
       "6      140477.815789     76  101580.0"
      ]
     },
     "execution_count": 79,
     "metadata": {},
     "output_type": "execute_result"
    }
   ],
   "source": [
    "center = df.query('cityCenters_nearest_km <= 5 and locality_name == \"Санкт-Петербург\"')\n",
    "center = center.pivot_table(index = 'rooms', values = 'price_per_square_meter', aggfunc = ['mean', 'count', 'median'])\n",
    "center.columns = ['mean', 'count', 'median']\n",
    "center.query('count > 50').sort_values('median', ascending = False)"
   ]
  },
  {
   "cell_type": "code",
   "execution_count": 80,
   "metadata": {},
   "outputs": [
    {
     "data": {
      "text/plain": [
       "<AxesSubplot:xlabel='rooms'>"
      ]
     },
     "execution_count": 80,
     "metadata": {},
     "output_type": "execute_result"
    },
    {
     "data": {
      "image/png": "[encoded data removed]",
      "text/plain": [
       "<Figure size 432x288 with 1 Axes>"
      ]
     },
     "metadata": {
      "needs_background": "light"
     },
     "output_type": "display_data"
    }
   ],
   "source": [
    "center.query('count > 50').plot(y = 'median')"
   ]
  },
  {
   "cell_type": "markdown",
   "metadata": {},
   "source": [
    "**Вывод:** обратим внимание на то, что в центре Питера, чем меньше комнат, тем дороже стоимость квадратного метра."
   ]
  },
  {
   "cell_type": "markdown",
   "metadata": {},
   "source": [
    "Посмотрим на зависимость стоимости квадратного метра от этажа."
   ]
  },
  {
   "cell_type": "code",
   "execution_count": 81,
   "metadata": {
    "scrolled": false
   },
   "outputs": [
    {
     "data": {
      "text/plain": [
       "<AxesSubplot:xlabel='floor_category'>"
      ]
     },
     "execution_count": 81,
     "metadata": {},
     "output_type": "execute_result"
    },
    {
     "data": {
      "image/png": "[encoded data removed]",
      "text/plain": [
       "<Figure size 432x288 with 1 Axes>"
      ]
     },
     "metadata": {
      "needs_background": "light"
     },
     "output_type": "display_data"
    }
   ],
   "source": [
    "center = df.query('cityCenters_nearest_km <= 5 and locality_name == \"Санкт-Петербург\"')\n",
    "floor_depend = center.query('floor_category != \"Другой этаж\"').pivot_table(index = 'floor_category', values = 'price_per_square_meter', aggfunc = ['mean', 'count', 'median'])\n",
    "floor_depend.columns = ['mean', 'count', 'median']\n",
    "floor_depend.plot(y = 'median')"
   ]
  },
  {
   "cell_type": "markdown",
   "metadata": {},
   "source": [
    "**Вывод:** квартиры на первом этаже в срденем стоят дешевле, чем на последнем."
   ]
  },
  {
   "cell_type": "markdown",
   "metadata": {},
   "source": [
    "Посмотрим на зависимость стоимости квадратного метра от удаленности от центра."
   ]
  },
  {
   "cell_type": "code",
   "execution_count": 82,
   "metadata": {
    "scrolled": true
   },
   "outputs": [
    {
     "data": {
      "text/plain": [
       "<AxesSubplot:xlabel='cityCenters_nearest', ylabel='price_per_square_meter'>"
      ]
     },
     "execution_count": 82,
     "metadata": {},
     "output_type": "execute_result"
    },
    {
     "data": {
      "image/png": "[encoded data removed]",
      "text/plain": [
       "<Figure size 432x288 with 1 Axes>"
      ]
     },
     "metadata": {
      "needs_background": "light"
     },
     "output_type": "display_data"
    }
   ],
   "source": [
    "center.plot(kind = 'scatter', y = 'price_per_square_meter', x = 'cityCenters_nearest', alpha = 0.3)"
   ]
  },
  {
   "cell_type": "code",
   "execution_count": 83,
   "metadata": {},
   "outputs": [
    {
     "data": {
      "text/plain": [
       "-0.06230044184658704"
      ]
     },
     "execution_count": 83,
     "metadata": {},
     "output_type": "execute_result"
    }
   ],
   "source": [
    "center['cityCenters_nearest'].corr(center['price_per_square_meter'])"
   ]
  },
  {
   "cell_type": "markdown",
   "metadata": {},
   "source": [
    "**Вывод:** зависимости особой не наблюдается. Коэффициент корреляции Пирсона низкий и показывет слабую корреляцию величин."
   ]
  },
  {
   "cell_type": "markdown",
   "metadata": {},
   "source": [
    "Проверим зависимость стоимости квадратного метра от дня недели размещения объявления."
   ]
  },
  {
   "cell_type": "code",
   "execution_count": 84,
   "metadata": {},
   "outputs": [
    {
     "data": {
      "text/plain": [
       "<AxesSubplot:xlabel='weekday_publication'>"
      ]
     },
     "execution_count": 84,
     "metadata": {},
     "output_type": "execute_result"
    },
    {
     "data": {
      "image/png": "[encoded data removed]",
      "text/plain": [
       "<Figure size 432x288 with 1 Axes>"
      ]
     },
     "metadata": {
      "needs_background": "light"
     },
     "output_type": "display_data"
    }
   ],
   "source": [
    "closing_week = center.pivot_table(index = 'weekday_publication', values = 'price_per_square_meter', aggfunc = ['mean', 'count', 'median'])\n",
    "closing_week.columns = ['mean', 'count', 'median']\n",
    "closing_week.plot(y = 'median')"
   ]
  },
  {
   "cell_type": "markdown",
   "metadata": {},
   "source": [
    "**Вывод:** минимальные цены во вторник и четверг, а максимальные в понедельник и воскресенье."
   ]
  },
  {
   "cell_type": "markdown",
   "metadata": {},
   "source": [
    "Проверим зависимость стоимости квадратного метра от месяца размещения объявления."
   ]
  },
  {
   "cell_type": "code",
   "execution_count": 85,
   "metadata": {},
   "outputs": [
    {
     "data": {
      "text/plain": [
       "<AxesSubplot:xlabel='month_publication'>"
      ]
     },
     "execution_count": 85,
     "metadata": {},
     "output_type": "execute_result"
    },
    {
     "data": {
      "image/png": "[encoded data removed]",
      "text/plain": [
       "<Figure size 432x288 with 1 Axes>"
      ]
     },
     "metadata": {
      "needs_background": "light"
     },
     "output_type": "display_data"
    }
   ],
   "source": [
    "closing_month = center.pivot_table(index = 'month_publication', values = 'price_per_square_meter', aggfunc = ['mean', 'count', 'median'])\n",
    "closing_month.columns = ['mean', 'count', 'median']\n",
    "closing_month.plot(y = 'median')"
   ]
  },
  {
   "cell_type": "markdown",
   "metadata": {},
   "source": [
    "**Вывод:** март, август имеют самые высокие показатели, меньше всего июль и май."
   ]
  },
  {
   "cell_type": "markdown",
   "metadata": {},
   "source": [
    "Посмотрим на зависимость стоимости квадратного метра от года размещения объявления."
   ]
  },
  {
   "cell_type": "code",
   "execution_count": 86,
   "metadata": {},
   "outputs": [
    {
     "data": {
      "text/plain": [
       "<AxesSubplot:xlabel='year_public'>"
      ]
     },
     "execution_count": 86,
     "metadata": {},
     "output_type": "execute_result"
    },
    {
     "data": {
      "image/png": "[encoded data removed]",
      "text/plain": [
       "<Figure size 432x288 with 1 Axes>"
      ]
     },
     "metadata": {
      "needs_background": "light"
     },
     "output_type": "display_data"
    }
   ],
   "source": [
    "closing_year = center.pivot_table(index = 'year_public', values = 'price_per_square_meter', aggfunc = ['mean', 'count', 'median'])\n",
    "closing_year.columns = ['mean', 'count', 'median']\n",
    "closing_year.query('count > 50').plot(y = 'median')"
   ]
  },
  {
   "cell_type": "markdown",
   "metadata": {},
   "source": [
    "**Вывод:** с 2016-2017 год цены возрастали."
   ]
  },
  {
   "cell_type": "markdown",
   "metadata": {
    "id": "hNQPMhQ5uqj-"
   },
   "source": [
    "## Общий вывод"
   ]
  },
  {
   "cell_type": "markdown",
   "metadata": {
    "id": "TBk94gYfuqj-"
   },
   "source": [
    "1) В ходе исследования были изучены данные, провёл первичное ознакомление с датасетом.\n",
    "\n",
    "2) Были выведены приблизительные гипотезы о пропусках данных, заполненны соответствующие пропуски и изменены типы на соответствующие удобочитаемые форматы для последующего анализа и построения графиков. В ходе предобработки данных были выявлены следующие факты: столбец \n",
    "**locality_name** имеет пропуски, причина которых не была ясна изначально. Столбец **is_apartment** появился относительно недавно в сравнении с другими столбцами. Параметр **ceiling_height** имел необоснованно большие значения.\n",
    "\n",
    "3) Далее я подсчитал такие параметры, как: цена квадратного метра, день недели, месяц и год публикации объявления, этаж квартиры (первый, последний и другой), соотношение жилой и общей площади, а также отношение площади кухни к общей. Написал функцию категоризации по этажам, добавил в таблицу.\n",
    "\n",
    "4) Дальше я провел исследовательский анализ, в ходе которого были выявлены основные факты: площадь, цена, число комнат и высота потолков имели неадекватные значения (0 комнат, высота комнат 1 или 100 метров, а также цена квартиры в 12190 рублей), что говорит нам о том, что нужно уточнить данные у сотрудников, которые предоставили нам данные. Время продажи квартиры имеет распределение Пуассона, аномальные значения: 30, 45, 60, 7, 90. Так как не было найдено значимых особенностей в этих значениях, то было принято решение убрать эти значения и работать с очищенным датасетом. Стоит ещё раз уточник у сотрудников о датах снятия объявления с квартирами, чтобы убедиться в том, что можно исключить из всей генеральной совокупности. Далее изучил зависимости одного параметра от другого и было выявлено, что на стоимость квадратного метра квартиры влияют больше всего количество комнат в квартире, этаж и удаленность от центра. Меньшую значимость в стоимость квартиры вносят такие параметры, как: день, месяц, год и общая площадь квартиры. Также нужно учитывать, что в 2016-2017 годах стоимость квартир в среднем по рынку была ниже на 10-20%, тогда как в центре Санкт-Петербурга данной зависимости от года не обнаружено. В данном случае имело место постоянное удорожание стоимости, начиная с 2015 года по текущий момент. Судя, по резкости изменения цен в зависимости от удаления от центра Санкт-Петербурга, мы выявили центр города в радиусе 5 километров (оптимально для крупного города). Стоит также учитывать, что сегментацию рынка мы не делали, а следовательно, аналогичные квартиры в других городах могли иметь другую ценовую зависимость, о чём нам и говорит проведённый исследовательский анализ."
   ]
  },
  {
   "cell_type": "markdown",
   "metadata": {
    "id": "8j_BxJubuqj-"
   },
   "source": [
    "## Чек-лист готовности проекта\n",
    "\n",
    "Поставьте 'x' в выполненных пунктах. Далее нажмите Shift+Enter."
   ]
  },
  {
   "cell_type": "markdown",
   "metadata": {
    "id": "Ff1Nx3nouqj-"
   },
   "source": [
    "- [x]  открыт файл\n",
    "- [x]  файлы изучены (выведены первые строки, метод `info()`)\n",
    "- [x]  определены пропущенные значения\n",
    "- [x]  заполнены пропущенные значения\n",
    "- [x]  есть пояснение, какие пропущенные значения обнаружены\n",
    "- [x]  изменены типы данных\n",
    "- [x]  есть пояснение, в каких столбцах изменены типы и почему\n",
    "- [x]  посчитано и добавлено в таблицу: цена квадратного метра\n",
    "- [x]  посчитано и добавлено в таблицу: день недели, месяц и год публикации объявления\n",
    "- [x]  посчитано и добавлено в таблицу: этаж квартиры; варианты — первый, последний, другой\n",
    "- [x]  посчитано и добавлено в таблицу: соотношение жилой и общей площади, а также отношение площади кухни к общей\n",
    "- [x]  изучены следующие параметры: площадь, цена, число комнат, высота потолков\n",
    "- [x]  построены гистограммы для каждого параметра\n",
    "- [x]  выполнено задание: «Изучите время продажи квартиры. Постройте гистограмму. Посчитайте среднее и медиану. Опишите, сколько обычно занимает продажа. Когда можно считать, что продажи прошли очень быстро, а когда необычно долго?»\n",
    "- [x]  выполнено задание: «Уберите редкие и выбивающиеся значения. Опишите, какие особенности обнаружили».\n",
    "- [x]  выполнено задание: «Какие факторы больше всего влияют на стоимость квартиры? Изучите, зависит ли цена от площади, числа комнат, удалённости от центра. Изучите зависимость цены от того, на каком этаже расположена квартира: первом, последнем или другом. Также изучите зависимость от даты размещения: дня недели, месяца и года». \n",
    "- [x]  выполнено задание: «Выберите 10 населённых пунктов с наибольшим числом объявлений. Посчитайте среднюю цену квадратного метра в этих населённых пунктах. Выделите населённые пункты с самой высокой и низкой стоимостью жилья. Эти данные можно найти по имени в столбце `locality_name`».\n",
    "- [x]  выполнено задание: «Изучите предложения квартир: для каждой квартиры есть информация о расстоянии до центра. Выделите квартиры в Санкт-Петербурге (`locality_name`). Ваша задача — выяснить, какая область входит в центр. Создайте столбец с расстоянием до центра в километрах: округлите до целых значений. После этого посчитайте среднюю цену для каждого километра. Постройте график: он должен показывать, как цена зависит от удалённости от центра. Определите границу, где график сильно меняется — это и будет центральная зона».\n",
    "- [x]  выполнено задание: «Выделите сегмент квартир в центре. Проанализируйте эту территорию и изучите следующие параметры: площадь, цена, число комнат, высота потолков. Также выделите факторы, которые влияют на стоимость квартиры (число комнат, этаж, удалённость от центра, дата размещения объявления). Сделайте выводы. Отличаются ли они от общих выводов по всей базе?»\n",
    "- [x]  в каждом этапе есть выводы\n",
    "- [x]  есть общий вывод"
   ]
  }
 ],
 "metadata": {
  "ExecuteTimeLog": [
   {
    "duration": 376,
    "start_time": "2022-08-15T12:19:00.658Z"
   },
   {
    "duration": 87,
    "start_time": "2022-08-15T12:19:41.279Z"
   },
   {
    "duration": 342,
    "start_time": "2022-08-15T12:20:17.161Z"
   },
   {
    "duration": 9,
    "start_time": "2022-08-15T12:20:32.763Z"
   },
   {
    "duration": 14,
    "start_time": "2022-08-15T12:20:37.044Z"
   },
   {
    "duration": 7,
    "start_time": "2022-08-15T12:20:42.803Z"
   },
   {
    "duration": 8,
    "start_time": "2022-08-15T13:08:52.760Z"
   },
   {
    "duration": 10,
    "start_time": "2022-08-15T13:09:02.314Z"
   },
   {
    "duration": 90,
    "start_time": "2022-08-15T13:10:36.838Z"
   },
   {
    "duration": 9,
    "start_time": "2022-08-15T13:10:37.472Z"
   },
   {
    "duration": 2580,
    "start_time": "2022-08-15T13:10:45.690Z"
   },
   {
    "duration": 0,
    "start_time": "2022-08-15T13:10:48.272Z"
   },
   {
    "duration": 106,
    "start_time": "2022-08-15T13:10:54.583Z"
   },
   {
    "duration": 14,
    "start_time": "2022-08-15T13:10:55.027Z"
   },
   {
    "duration": 129,
    "start_time": "2022-08-15T13:11:10.052Z"
   },
   {
    "duration": 10,
    "start_time": "2022-08-15T13:11:10.452Z"
   },
   {
    "duration": 100,
    "start_time": "2022-08-15T13:11:17.737Z"
   },
   {
    "duration": 8,
    "start_time": "2022-08-15T13:11:18.272Z"
   },
   {
    "duration": 7,
    "start_time": "2022-08-15T13:49:06.372Z"
   },
   {
    "duration": 10,
    "start_time": "2022-08-15T13:49:06.675Z"
   },
   {
    "duration": 133,
    "start_time": "2022-08-15T13:49:16.008Z"
   },
   {
    "duration": 17,
    "start_time": "2022-08-15T13:49:16.607Z"
   },
   {
    "duration": 108,
    "start_time": "2022-08-15T13:49:59.686Z"
   },
   {
    "duration": 8,
    "start_time": "2022-08-15T13:50:00.071Z"
   },
   {
    "duration": 105,
    "start_time": "2022-08-15T13:50:10.194Z"
   },
   {
    "duration": 9,
    "start_time": "2022-08-15T13:50:10.461Z"
   },
   {
    "duration": 113,
    "start_time": "2022-08-15T13:51:01.030Z"
   },
   {
    "duration": 37,
    "start_time": "2022-08-15T13:51:01.763Z"
   },
   {
    "duration": 148,
    "start_time": "2022-08-15T13:51:09.371Z"
   },
   {
    "duration": 30,
    "start_time": "2022-08-15T13:51:09.746Z"
   },
   {
    "duration": 102,
    "start_time": "2022-08-15T13:51:19.145Z"
   },
   {
    "duration": 57,
    "start_time": "2022-08-15T13:51:19.575Z"
   },
   {
    "duration": 409,
    "start_time": "2022-08-15T21:43:23.979Z"
   },
   {
    "duration": 138,
    "start_time": "2022-08-15T21:43:24.390Z"
   },
   {
    "duration": 34,
    "start_time": "2022-08-15T21:43:24.682Z"
   },
   {
    "duration": 38,
    "start_time": "2022-08-15T21:54:45.987Z"
   },
   {
    "duration": 58,
    "start_time": "2022-08-15T21:54:57.732Z"
   },
   {
    "duration": 32,
    "start_time": "2022-08-15T21:55:07.415Z"
   },
   {
    "duration": 406,
    "start_time": "2022-08-16T08:19:53.865Z"
   },
   {
    "duration": 371,
    "start_time": "2022-08-16T08:19:54.273Z"
   },
   {
    "duration": 45,
    "start_time": "2022-08-16T08:19:54.925Z"
   },
   {
    "duration": 33,
    "start_time": "2022-08-16T08:19:58.955Z"
   },
   {
    "duration": 19,
    "start_time": "2022-08-16T08:20:22.561Z"
   },
   {
    "duration": 32,
    "start_time": "2022-08-16T08:20:28.378Z"
   },
   {
    "duration": 18,
    "start_time": "2022-08-16T08:26:32.718Z"
   },
   {
    "duration": 73,
    "start_time": "2022-08-16T08:26:49.081Z"
   },
   {
    "duration": 69,
    "start_time": "2022-08-16T08:26:54.438Z"
   },
   {
    "duration": 8,
    "start_time": "2022-08-16T08:26:59.676Z"
   },
   {
    "duration": 3,
    "start_time": "2022-08-16T08:35:08.774Z"
   },
   {
    "duration": 89,
    "start_time": "2022-08-16T08:35:09.156Z"
   },
   {
    "duration": 32,
    "start_time": "2022-08-16T08:35:09.699Z"
   },
   {
    "duration": 20,
    "start_time": "2022-08-16T08:35:12.080Z"
   },
   {
    "duration": 10,
    "start_time": "2022-08-16T08:35:14.033Z"
   },
   {
    "duration": 67,
    "start_time": "2022-08-16T08:35:22.347Z"
   },
   {
    "duration": 67,
    "start_time": "2022-08-16T08:37:31.128Z"
   },
   {
    "duration": 409,
    "start_time": "2022-08-16T10:31:12.886Z"
   },
   {
    "duration": 366,
    "start_time": "2022-08-16T10:31:13.296Z"
   },
   {
    "duration": 39,
    "start_time": "2022-08-16T10:31:13.737Z"
   },
   {
    "duration": 15,
    "start_time": "2022-08-16T10:31:14.230Z"
   },
   {
    "duration": 70,
    "start_time": "2022-08-16T10:31:15.136Z"
   },
   {
    "duration": 39,
    "start_time": "2022-08-16T10:31:15.979Z"
   },
   {
    "duration": 30,
    "start_time": "2022-08-16T10:31:18.569Z"
   },
   {
    "duration": 64,
    "start_time": "2022-08-16T12:00:14.255Z"
   },
   {
    "duration": 5,
    "start_time": "2022-08-16T12:00:17.557Z"
   },
   {
    "duration": 9,
    "start_time": "2022-08-16T12:07:37.673Z"
   },
   {
    "duration": 7,
    "start_time": "2022-08-16T12:07:42.372Z"
   },
   {
    "duration": 25,
    "start_time": "2022-08-16T12:09:25.177Z"
   },
   {
    "duration": 517,
    "start_time": "2022-08-18T00:25:05.060Z"
   },
   {
    "duration": 228,
    "start_time": "2022-08-18T00:25:05.580Z"
   },
   {
    "duration": 73,
    "start_time": "2022-08-18T00:25:05.810Z"
   },
   {
    "duration": 26,
    "start_time": "2022-08-18T00:25:05.886Z"
   },
   {
    "duration": 117,
    "start_time": "2022-08-18T00:25:06.517Z"
   },
   {
    "duration": 38,
    "start_time": "2022-08-18T00:25:07.447Z"
   },
   {
    "duration": 38,
    "start_time": "2022-08-18T00:25:08.135Z"
   },
   {
    "duration": 8,
    "start_time": "2022-08-18T00:25:24.637Z"
   },
   {
    "duration": 5,
    "start_time": "2022-08-18T00:25:34.986Z"
   },
   {
    "duration": 43,
    "start_time": "2022-08-18T00:25:37.159Z"
   },
   {
    "duration": 10,
    "start_time": "2022-08-18T00:27:22.325Z"
   },
   {
    "duration": 7,
    "start_time": "2022-08-18T00:28:33.443Z"
   },
   {
    "duration": 6,
    "start_time": "2022-08-18T00:29:31.434Z"
   },
   {
    "duration": 9,
    "start_time": "2022-08-18T00:29:40.310Z"
   },
   {
    "duration": 72,
    "start_time": "2022-08-18T00:33:45.409Z"
   },
   {
    "duration": 11,
    "start_time": "2022-08-18T00:35:01.344Z"
   },
   {
    "duration": 14,
    "start_time": "2022-08-18T00:36:25.657Z"
   },
   {
    "duration": 9,
    "start_time": "2022-08-18T00:36:34.471Z"
   },
   {
    "duration": 12,
    "start_time": "2022-08-18T00:36:50.255Z"
   },
   {
    "duration": 7,
    "start_time": "2022-08-18T00:49:18.934Z"
   },
   {
    "duration": 6,
    "start_time": "2022-08-18T00:49:25.242Z"
   },
   {
    "duration": 423,
    "start_time": "2022-08-20T10:39:41.805Z"
   },
   {
    "duration": 160,
    "start_time": "2022-08-20T10:39:42.713Z"
   },
   {
    "duration": 43,
    "start_time": "2022-08-20T10:39:43.209Z"
   },
   {
    "duration": 16,
    "start_time": "2022-08-20T10:39:45.512Z"
   },
   {
    "duration": 74,
    "start_time": "2022-08-20T10:39:47.313Z"
   },
   {
    "duration": 35,
    "start_time": "2022-08-20T10:39:48.908Z"
   },
   {
    "duration": 36,
    "start_time": "2022-08-20T10:39:50.950Z"
   },
   {
    "duration": 6,
    "start_time": "2022-08-20T10:42:44.208Z"
   },
   {
    "duration": 5,
    "start_time": "2022-08-20T10:42:46.461Z"
   },
   {
    "duration": 24,
    "start_time": "2022-08-20T10:42:46.941Z"
   },
   {
    "duration": 68,
    "start_time": "2022-08-20T10:42:49.005Z"
   },
   {
    "duration": 4,
    "start_time": "2022-08-20T10:42:58.797Z"
   },
   {
    "duration": 8,
    "start_time": "2022-08-20T10:43:00.831Z"
   },
   {
    "duration": 5,
    "start_time": "2022-08-20T10:43:03.150Z"
   },
   {
    "duration": 12,
    "start_time": "2022-08-20T11:01:11.304Z"
   },
   {
    "duration": 389,
    "start_time": "2022-08-20T16:47:41.263Z"
   },
   {
    "duration": 318,
    "start_time": "2022-08-20T16:47:42.172Z"
   },
   {
    "duration": 38,
    "start_time": "2022-08-20T16:47:42.492Z"
   },
   {
    "duration": 13,
    "start_time": "2022-08-20T16:47:42.732Z"
   },
   {
    "duration": 70,
    "start_time": "2022-08-20T16:47:43.366Z"
   },
   {
    "duration": 35,
    "start_time": "2022-08-20T16:47:45.052Z"
   },
   {
    "duration": 43,
    "start_time": "2022-08-20T16:47:45.452Z"
   },
   {
    "duration": 5,
    "start_time": "2022-08-20T16:47:49.652Z"
   },
   {
    "duration": 4,
    "start_time": "2022-08-20T16:47:52.493Z"
   },
   {
    "duration": 26,
    "start_time": "2022-08-20T16:47:53.094Z"
   },
   {
    "duration": 4,
    "start_time": "2022-08-20T16:47:54.741Z"
   },
   {
    "duration": 7,
    "start_time": "2022-08-20T16:47:57.085Z"
   },
   {
    "duration": 5,
    "start_time": "2022-08-20T16:47:57.484Z"
   },
   {
    "duration": 18,
    "start_time": "2022-08-20T16:47:59.532Z"
   },
   {
    "duration": 8,
    "start_time": "2022-08-20T16:49:58.924Z"
   },
   {
    "duration": 63,
    "start_time": "2022-08-20T16:50:48.930Z"
   },
   {
    "duration": 6,
    "start_time": "2022-08-20T16:51:45.008Z"
   },
   {
    "duration": 4,
    "start_time": "2022-08-20T16:51:49.363Z"
   },
   {
    "duration": 7,
    "start_time": "2022-08-20T16:52:00.370Z"
   },
   {
    "duration": 4,
    "start_time": "2022-08-20T17:16:00.397Z"
   },
   {
    "duration": 3,
    "start_time": "2022-08-20T17:16:03.245Z"
   },
   {
    "duration": 13,
    "start_time": "2022-08-20T17:16:04.089Z"
   },
   {
    "duration": 5,
    "start_time": "2022-08-20T17:16:04.510Z"
   },
   {
    "duration": 8,
    "start_time": "2022-08-20T17:16:07.260Z"
   },
   {
    "duration": 5,
    "start_time": "2022-08-20T17:16:09.705Z"
   },
   {
    "duration": 4,
    "start_time": "2022-08-20T17:16:10.190Z"
   },
   {
    "duration": 6,
    "start_time": "2022-08-20T17:18:04.639Z"
   },
   {
    "duration": 4,
    "start_time": "2022-08-20T17:18:33.906Z"
   },
   {
    "duration": 5,
    "start_time": "2022-08-20T17:19:32.530Z"
   },
   {
    "duration": 7,
    "start_time": "2022-08-20T17:21:37.861Z"
   },
   {
    "duration": 5,
    "start_time": "2022-08-20T17:21:48.253Z"
   },
   {
    "duration": 6,
    "start_time": "2022-08-20T17:21:56.773Z"
   },
   {
    "duration": 472,
    "start_time": "2022-08-20T17:27:44.558Z"
   },
   {
    "duration": 345,
    "start_time": "2022-08-21T12:24:17.899Z"
   },
   {
    "duration": 283,
    "start_time": "2022-08-21T12:24:18.246Z"
   },
   {
    "duration": 39,
    "start_time": "2022-08-21T12:24:18.531Z"
   },
   {
    "duration": 14,
    "start_time": "2022-08-21T12:24:20.592Z"
   },
   {
    "duration": 67,
    "start_time": "2022-08-21T12:24:20.990Z"
   },
   {
    "duration": 32,
    "start_time": "2022-08-21T12:24:22.415Z"
   },
   {
    "duration": 31,
    "start_time": "2022-08-21T12:24:22.746Z"
   },
   {
    "duration": 4,
    "start_time": "2022-08-21T12:24:25.931Z"
   },
   {
    "duration": 3,
    "start_time": "2022-08-21T12:24:28.412Z"
   },
   {
    "duration": 24,
    "start_time": "2022-08-21T12:24:28.637Z"
   },
   {
    "duration": 4,
    "start_time": "2022-08-21T12:24:32.912Z"
   },
   {
    "duration": 6,
    "start_time": "2022-08-21T12:24:34.893Z"
   },
   {
    "duration": 7,
    "start_time": "2022-08-21T12:24:35.278Z"
   },
   {
    "duration": 7,
    "start_time": "2022-08-21T12:24:37.320Z"
   },
   {
    "duration": 4,
    "start_time": "2022-08-21T12:24:37.826Z"
   },
   {
    "duration": 8,
    "start_time": "2022-08-21T12:24:38.451Z"
   },
   {
    "duration": 6,
    "start_time": "2022-08-21T12:24:40.378Z"
   },
   {
    "duration": 5,
    "start_time": "2022-08-21T12:24:42.217Z"
   },
   {
    "duration": 5,
    "start_time": "2022-08-21T12:24:42.457Z"
   },
   {
    "duration": 546,
    "start_time": "2022-08-21T12:24:42.771Z"
   },
   {
    "duration": 5,
    "start_time": "2022-08-21T12:28:37.590Z"
   },
   {
    "duration": 4,
    "start_time": "2022-08-21T12:28:49.997Z"
   },
   {
    "duration": 6,
    "start_time": "2022-08-21T12:29:06.981Z"
   },
   {
    "duration": 9,
    "start_time": "2022-08-21T12:30:37.970Z"
   },
   {
    "duration": 5,
    "start_time": "2022-08-21T12:35:05.659Z"
   },
   {
    "duration": 6,
    "start_time": "2022-08-21T12:35:05.973Z"
   },
   {
    "duration": 151,
    "start_time": "2022-08-21T12:35:06.619Z"
   },
   {
    "duration": 5,
    "start_time": "2022-08-21T13:02:49.618Z"
   },
   {
    "duration": 5,
    "start_time": "2022-08-21T13:06:21.766Z"
   },
   {
    "duration": 538,
    "start_time": "2022-08-21T19:15:08.172Z"
   },
   {
    "duration": 178,
    "start_time": "2022-08-21T19:15:08.712Z"
   },
   {
    "duration": 54,
    "start_time": "2022-08-21T19:15:08.892Z"
   },
   {
    "duration": 17,
    "start_time": "2022-08-21T19:15:08.949Z"
   },
   {
    "duration": 125,
    "start_time": "2022-08-21T19:15:08.968Z"
   },
   {
    "duration": 41,
    "start_time": "2022-08-21T19:15:09.095Z"
   },
   {
    "duration": 46,
    "start_time": "2022-08-21T19:15:09.343Z"
   },
   {
    "duration": 9,
    "start_time": "2022-08-21T19:15:10.258Z"
   },
   {
    "duration": 20,
    "start_time": "2022-08-21T19:15:10.270Z"
   },
   {
    "duration": 41,
    "start_time": "2022-08-21T19:15:10.471Z"
   },
   {
    "duration": 6,
    "start_time": "2022-08-21T19:15:12.695Z"
   },
   {
    "duration": 10,
    "start_time": "2022-08-21T19:15:13.083Z"
   },
   {
    "duration": 8,
    "start_time": "2022-08-21T19:15:13.290Z"
   },
   {
    "duration": 9,
    "start_time": "2022-08-21T19:15:15.463Z"
   },
   {
    "duration": 6,
    "start_time": "2022-08-21T19:15:15.733Z"
   },
   {
    "duration": 7,
    "start_time": "2022-08-21T19:15:15.853Z"
   },
   {
    "duration": 9,
    "start_time": "2022-08-21T19:15:16.029Z"
   },
   {
    "duration": 7,
    "start_time": "2022-08-21T19:15:16.212Z"
   },
   {
    "duration": 8,
    "start_time": "2022-08-21T19:15:17.729Z"
   },
   {
    "duration": 15,
    "start_time": "2022-08-21T19:15:17.936Z"
   },
   {
    "duration": 5,
    "start_time": "2022-08-21T19:15:18.128Z"
   },
   {
    "duration": 7,
    "start_time": "2022-08-21T19:15:18.322Z"
   },
   {
    "duration": 835,
    "start_time": "2022-08-21T19:15:19.884Z"
   },
   {
    "duration": 9,
    "start_time": "2022-08-21T19:15:23.463Z"
   },
   {
    "duration": 9,
    "start_time": "2022-08-21T19:15:26.361Z"
   },
   {
    "duration": 119,
    "start_time": "2022-08-21T19:16:06.491Z"
   },
   {
    "duration": 24,
    "start_time": "2022-08-21T19:16:38.782Z"
   },
   {
    "duration": 37,
    "start_time": "2022-08-21T19:31:15.296Z"
   },
   {
    "duration": 43,
    "start_time": "2022-08-21T19:31:20.784Z"
   },
   {
    "duration": 41,
    "start_time": "2022-08-21T19:31:51.828Z"
   },
   {
    "duration": 4,
    "start_time": "2022-08-21T19:33:13.288Z"
   },
   {
    "duration": 3,
    "start_time": "2022-08-21T19:39:02.305Z"
   },
   {
    "duration": 335,
    "start_time": "2022-08-22T06:06:11.940Z"
   },
   {
    "duration": 294,
    "start_time": "2022-08-22T06:06:12.735Z"
   },
   {
    "duration": 38,
    "start_time": "2022-08-22T06:06:13.176Z"
   },
   {
    "duration": 13,
    "start_time": "2022-08-22T06:06:13.702Z"
   },
   {
    "duration": 71,
    "start_time": "2022-08-22T06:06:14.070Z"
   },
   {
    "duration": 33,
    "start_time": "2022-08-22T06:06:14.296Z"
   },
   {
    "duration": 45,
    "start_time": "2022-08-22T06:06:14.513Z"
   },
   {
    "duration": 6,
    "start_time": "2022-08-22T06:06:15.289Z"
   },
   {
    "duration": 4,
    "start_time": "2022-08-22T06:06:15.479Z"
   },
   {
    "duration": 24,
    "start_time": "2022-08-22T06:06:15.720Z"
   },
   {
    "duration": 4,
    "start_time": "2022-08-22T06:06:16.893Z"
   },
   {
    "duration": 8,
    "start_time": "2022-08-22T06:06:17.598Z"
   },
   {
    "duration": 5,
    "start_time": "2022-08-22T06:06:17.930Z"
   },
   {
    "duration": 7,
    "start_time": "2022-08-22T06:06:20.054Z"
   },
   {
    "duration": 5,
    "start_time": "2022-08-22T06:06:20.548Z"
   },
   {
    "duration": 6,
    "start_time": "2022-08-22T06:06:20.966Z"
   },
   {
    "duration": 5,
    "start_time": "2022-08-22T06:06:21.392Z"
   },
   {
    "duration": 4,
    "start_time": "2022-08-22T06:06:23.440Z"
   },
   {
    "duration": 4,
    "start_time": "2022-08-22T06:06:23.852Z"
   },
   {
    "duration": 9,
    "start_time": "2022-08-22T06:06:24.351Z"
   },
   {
    "duration": 4,
    "start_time": "2022-08-22T06:06:25.003Z"
   },
   {
    "duration": 5,
    "start_time": "2022-08-22T06:06:25.467Z"
   },
   {
    "duration": 547,
    "start_time": "2022-08-22T06:06:26.180Z"
   },
   {
    "duration": 6,
    "start_time": "2022-08-22T06:06:28.730Z"
   },
   {
    "duration": 5,
    "start_time": "2022-08-22T06:06:29.618Z"
   },
   {
    "duration": 4,
    "start_time": "2022-08-22T06:07:03.875Z"
   },
   {
    "duration": 5,
    "start_time": "2022-08-22T06:07:18.479Z"
   },
   {
    "duration": 6,
    "start_time": "2022-08-22T06:08:21.030Z"
   },
   {
    "duration": 5,
    "start_time": "2022-08-22T06:08:41.418Z"
   },
   {
    "duration": 5,
    "start_time": "2022-08-22T06:55:20.492Z"
   },
   {
    "duration": 7,
    "start_time": "2022-08-22T06:56:29.171Z"
   },
   {
    "duration": 6,
    "start_time": "2022-08-22T06:57:12.292Z"
   },
   {
    "duration": 6,
    "start_time": "2022-08-22T06:57:55.377Z"
   },
   {
    "duration": 62,
    "start_time": "2022-08-22T07:23:05.479Z"
   },
   {
    "duration": 3,
    "start_time": "2022-08-22T07:23:16.719Z"
   },
   {
    "duration": 143,
    "start_time": "2022-08-22T07:35:27.353Z"
   },
   {
    "duration": 3,
    "start_time": "2022-08-22T07:36:28.237Z"
   },
   {
    "duration": 252,
    "start_time": "2022-08-22T07:36:28.654Z"
   },
   {
    "duration": 4,
    "start_time": "2022-08-22T07:36:58.855Z"
   },
   {
    "duration": 79,
    "start_time": "2022-08-22T07:37:02.119Z"
   },
   {
    "duration": 3,
    "start_time": "2022-08-22T07:37:53.708Z"
   },
   {
    "duration": 284,
    "start_time": "2022-08-22T07:37:54.165Z"
   },
   {
    "duration": 4,
    "start_time": "2022-08-22T07:42:12.702Z"
   },
   {
    "duration": 4,
    "start_time": "2022-08-22T07:42:41.484Z"
   },
   {
    "duration": 26,
    "start_time": "2022-08-22T07:42:52.373Z"
   },
   {
    "duration": 294,
    "start_time": "2022-08-22T09:39:32.703Z"
   },
   {
    "duration": 273,
    "start_time": "2022-08-22T09:46:59.955Z"
   },
   {
    "duration": 356,
    "start_time": "2022-08-22T10:19:11.210Z"
   },
   {
    "duration": 159,
    "start_time": "2022-08-22T10:31:54.302Z"
   },
   {
    "duration": 2,
    "start_time": "2022-08-22T12:55:06.877Z"
   },
   {
    "duration": 97,
    "start_time": "2022-08-22T13:04:17.862Z"
   },
   {
    "duration": 167,
    "start_time": "2022-08-22T13:08:59.049Z"
   },
   {
    "duration": 300,
    "start_time": "2022-08-22T13:09:01.172Z"
   },
   {
    "duration": 273,
    "start_time": "2022-08-22T13:09:08.566Z"
   },
   {
    "duration": 310,
    "start_time": "2022-08-22T13:09:13.732Z"
   },
   {
    "duration": 315,
    "start_time": "2022-08-22T13:14:30.425Z"
   },
   {
    "duration": 297,
    "start_time": "2022-08-22T13:14:46.750Z"
   },
   {
    "duration": 10,
    "start_time": "2022-08-22T14:03:25.571Z"
   },
   {
    "duration": 92,
    "start_time": "2022-08-22T14:04:59.648Z"
   },
   {
    "duration": 83,
    "start_time": "2022-08-22T14:05:07.496Z"
   },
   {
    "duration": 56,
    "start_time": "2022-08-22T14:05:36.841Z"
   },
   {
    "duration": 10,
    "start_time": "2022-08-22T14:05:42.273Z"
   },
   {
    "duration": 19,
    "start_time": "2022-08-22T14:06:01.975Z"
   },
   {
    "duration": 9,
    "start_time": "2022-08-22T14:06:25.960Z"
   },
   {
    "duration": 9,
    "start_time": "2022-08-22T14:06:48.399Z"
   },
   {
    "duration": 775,
    "start_time": "2022-08-22T21:28:59.077Z"
   },
   {
    "duration": 141,
    "start_time": "2022-08-22T21:28:59.854Z"
   },
   {
    "duration": 35,
    "start_time": "2022-08-22T21:28:59.996Z"
   },
   {
    "duration": 16,
    "start_time": "2022-08-22T21:29:00.033Z"
   },
   {
    "duration": 75,
    "start_time": "2022-08-22T21:29:00.050Z"
   },
   {
    "duration": 30,
    "start_time": "2022-08-22T21:29:00.127Z"
   },
   {
    "duration": 47,
    "start_time": "2022-08-22T21:29:00.159Z"
   },
   {
    "duration": 6,
    "start_time": "2022-08-22T21:29:00.877Z"
   },
   {
    "duration": 4,
    "start_time": "2022-08-22T21:29:01.065Z"
   },
   {
    "duration": 22,
    "start_time": "2022-08-22T21:29:01.236Z"
   },
   {
    "duration": 5,
    "start_time": "2022-08-22T21:29:01.825Z"
   },
   {
    "duration": 7,
    "start_time": "2022-08-22T21:29:02.317Z"
   },
   {
    "duration": 4,
    "start_time": "2022-08-22T21:29:02.488Z"
   },
   {
    "duration": 7,
    "start_time": "2022-08-22T21:29:02.684Z"
   },
   {
    "duration": 5,
    "start_time": "2022-08-22T21:29:02.765Z"
   },
   {
    "duration": 5,
    "start_time": "2022-08-22T21:29:02.956Z"
   },
   {
    "duration": 6,
    "start_time": "2022-08-22T21:29:03.136Z"
   },
   {
    "duration": 5,
    "start_time": "2022-08-22T21:29:03.327Z"
   },
   {
    "duration": 5,
    "start_time": "2022-08-22T21:29:03.505Z"
   },
   {
    "duration": 8,
    "start_time": "2022-08-22T21:29:03.706Z"
   },
   {
    "duration": 4,
    "start_time": "2022-08-22T21:29:03.888Z"
   },
   {
    "duration": 6,
    "start_time": "2022-08-22T21:29:04.085Z"
   },
   {
    "duration": 151,
    "start_time": "2022-08-22T21:29:04.295Z"
   },
   {
    "duration": 5,
    "start_time": "2022-08-22T21:29:04.658Z"
   },
   {
    "duration": 5,
    "start_time": "2022-08-22T21:29:05.105Z"
   },
   {
    "duration": 6,
    "start_time": "2022-08-22T21:29:06.175Z"
   },
   {
    "duration": 6,
    "start_time": "2022-08-22T21:29:06.626Z"
   },
   {
    "duration": 5,
    "start_time": "2022-08-22T21:29:07.076Z"
   },
   {
    "duration": 5,
    "start_time": "2022-08-22T21:29:07.456Z"
   },
   {
    "duration": 3,
    "start_time": "2022-08-22T21:29:07.676Z"
   },
   {
    "duration": 268,
    "start_time": "2022-08-22T21:29:07.924Z"
   },
   {
    "duration": 4,
    "start_time": "2022-08-22T21:29:08.194Z"
   },
   {
    "duration": 5,
    "start_time": "2022-08-22T21:29:08.365Z"
   },
   {
    "duration": 24,
    "start_time": "2022-08-22T21:29:08.657Z"
   },
   {
    "duration": 313,
    "start_time": "2022-08-22T21:29:10.116Z"
   },
   {
    "duration": 251,
    "start_time": "2022-08-22T21:29:10.431Z"
   },
   {
    "duration": 138,
    "start_time": "2022-08-22T21:29:10.916Z"
   },
   {
    "duration": 142,
    "start_time": "2022-08-22T21:29:11.476Z"
   },
   {
    "duration": 87,
    "start_time": "2022-08-22T21:29:12.465Z"
   },
   {
    "duration": 246,
    "start_time": "2022-08-22T21:29:12.985Z"
   },
   {
    "duration": 8,
    "start_time": "2022-08-22T21:29:13.520Z"
   },
   {
    "duration": 11,
    "start_time": "2022-08-22T21:29:14.563Z"
   },
   {
    "duration": 8,
    "start_time": "2022-08-22T21:29:17.035Z"
   },
   {
    "duration": 9,
    "start_time": "2022-08-22T21:29:17.354Z"
   },
   {
    "duration": 63,
    "start_time": "2022-08-22T21:30:30.943Z"
   },
   {
    "duration": 10,
    "start_time": "2022-08-22T21:30:41.794Z"
   },
   {
    "duration": 7,
    "start_time": "2022-08-22T21:31:39.859Z"
   },
   {
    "duration": 76,
    "start_time": "2022-08-22T21:31:48.862Z"
   },
   {
    "duration": 269,
    "start_time": "2022-08-22T21:33:51.202Z"
   },
   {
    "duration": 7,
    "start_time": "2022-08-22T21:34:14.049Z"
   },
   {
    "duration": 744,
    "start_time": "2022-08-23T07:42:16.629Z"
   },
   {
    "duration": 687,
    "start_time": "2022-08-23T07:42:17.375Z"
   },
   {
    "duration": 32,
    "start_time": "2022-08-23T07:42:18.063Z"
   },
   {
    "duration": 15,
    "start_time": "2022-08-23T07:42:18.097Z"
   },
   {
    "duration": 65,
    "start_time": "2022-08-23T07:42:18.113Z"
   },
   {
    "duration": 39,
    "start_time": "2022-08-23T07:42:18.180Z"
   },
   {
    "duration": 29,
    "start_time": "2022-08-23T07:42:18.220Z"
   },
   {
    "duration": 5,
    "start_time": "2022-08-23T07:42:18.250Z"
   },
   {
    "duration": 6,
    "start_time": "2022-08-23T07:42:18.256Z"
   },
   {
    "duration": 40,
    "start_time": "2022-08-23T07:42:18.265Z"
   },
   {
    "duration": 4,
    "start_time": "2022-08-23T07:42:18.306Z"
   },
   {
    "duration": 8,
    "start_time": "2022-08-23T07:42:18.311Z"
   },
   {
    "duration": 6,
    "start_time": "2022-08-23T07:42:18.320Z"
   },
   {
    "duration": 6,
    "start_time": "2022-08-23T07:42:18.327Z"
   },
   {
    "duration": 6,
    "start_time": "2022-08-23T07:42:18.334Z"
   },
   {
    "duration": 5,
    "start_time": "2022-08-23T07:42:18.341Z"
   },
   {
    "duration": 5,
    "start_time": "2022-08-23T07:42:18.348Z"
   },
   {
    "duration": 6,
    "start_time": "2022-08-23T07:42:18.354Z"
   },
   {
    "duration": 38,
    "start_time": "2022-08-23T07:42:18.362Z"
   },
   {
    "duration": 12,
    "start_time": "2022-08-23T07:42:18.402Z"
   },
   {
    "duration": 3,
    "start_time": "2022-08-23T07:42:18.415Z"
   },
   {
    "duration": 5,
    "start_time": "2022-08-23T07:42:18.419Z"
   },
   {
    "duration": 161,
    "start_time": "2022-08-23T07:42:18.425Z"
   },
   {
    "duration": 13,
    "start_time": "2022-08-23T07:42:18.587Z"
   },
   {
    "duration": 12,
    "start_time": "2022-08-23T07:42:18.601Z"
   },
   {
    "duration": 8,
    "start_time": "2022-08-23T07:42:18.614Z"
   },
   {
    "duration": 8,
    "start_time": "2022-08-23T07:42:18.623Z"
   },
   {
    "duration": 5,
    "start_time": "2022-08-23T07:42:18.636Z"
   },
   {
    "duration": 4,
    "start_time": "2022-08-23T07:42:18.642Z"
   },
   {
    "duration": 4,
    "start_time": "2022-08-23T07:42:18.647Z"
   },
   {
    "duration": 294,
    "start_time": "2022-08-23T07:42:18.652Z"
   },
   {
    "duration": 4,
    "start_time": "2022-08-23T07:42:18.947Z"
   },
   {
    "duration": 5,
    "start_time": "2022-08-23T07:42:18.952Z"
   },
   {
    "duration": 24,
    "start_time": "2022-08-23T07:42:18.958Z"
   },
   {
    "duration": 281,
    "start_time": "2022-08-23T07:42:18.984Z"
   },
   {
    "duration": 244,
    "start_time": "2022-08-23T07:42:19.267Z"
   },
   {
    "duration": 150,
    "start_time": "2022-08-23T07:42:19.513Z"
   },
   {
    "duration": 137,
    "start_time": "2022-08-23T07:42:19.665Z"
   },
   {
    "duration": 79,
    "start_time": "2022-08-23T07:42:19.803Z"
   },
   {
    "duration": 258,
    "start_time": "2022-08-23T07:42:19.884Z"
   },
   {
    "duration": 8,
    "start_time": "2022-08-23T07:42:20.143Z"
   },
   {
    "duration": 15,
    "start_time": "2022-08-23T07:42:20.152Z"
   },
   {
    "duration": 6,
    "start_time": "2022-08-23T07:42:20.168Z"
   },
   {
    "duration": 24,
    "start_time": "2022-08-23T07:42:20.175Z"
   },
   {
    "duration": 9,
    "start_time": "2022-08-23T07:42:20.200Z"
   },
   {
    "duration": 80,
    "start_time": "2022-08-23T07:42:20.210Z"
   },
   {
    "duration": 300,
    "start_time": "2022-08-23T07:42:20.298Z"
   },
   {
    "duration": 251,
    "start_time": "2022-08-23T07:42:23.626Z"
   },
   {
    "duration": 6,
    "start_time": "2022-08-23T07:42:25.567Z"
   },
   {
    "duration": 5,
    "start_time": "2022-08-23T08:12:31.932Z"
   },
   {
    "duration": 5,
    "start_time": "2022-08-23T09:30:48.119Z"
   },
   {
    "duration": 5,
    "start_time": "2022-08-23T09:31:00.870Z"
   },
   {
    "duration": 137,
    "start_time": "2022-08-23T09:40:48.229Z"
   },
   {
    "duration": 147,
    "start_time": "2022-08-23T09:41:21.153Z"
   },
   {
    "duration": 30,
    "start_time": "2022-08-23T09:41:56.353Z"
   },
   {
    "duration": 118,
    "start_time": "2022-08-23T09:41:59.198Z"
   },
   {
    "duration": 6,
    "start_time": "2022-08-23T09:42:29.940Z"
   },
   {
    "duration": 76,
    "start_time": "2022-08-23T10:08:59.659Z"
   },
   {
    "duration": 27,
    "start_time": "2022-08-23T10:09:31.435Z"
   },
   {
    "duration": 8,
    "start_time": "2022-08-23T10:09:43.427Z"
   },
   {
    "duration": 128,
    "start_time": "2022-08-23T10:09:50.337Z"
   },
   {
    "duration": 9,
    "start_time": "2022-08-23T12:28:36.343Z"
   },
   {
    "duration": 151,
    "start_time": "2022-08-23T12:28:44.882Z"
   },
   {
    "duration": 133,
    "start_time": "2022-08-23T12:31:51.504Z"
   },
   {
    "duration": 130,
    "start_time": "2022-08-23T12:32:10.241Z"
   },
   {
    "duration": 22,
    "start_time": "2022-08-23T13:14:33.369Z"
   },
   {
    "duration": 123,
    "start_time": "2022-08-23T13:14:35.697Z"
   },
   {
    "duration": 173,
    "start_time": "2022-08-23T13:18:33.440Z"
   },
   {
    "duration": 172,
    "start_time": "2022-08-23T13:20:43.654Z"
   },
   {
    "duration": 5,
    "start_time": "2022-08-23T13:20:48.064Z"
   },
   {
    "duration": 15,
    "start_time": "2022-08-23T13:51:33.020Z"
   },
   {
    "duration": 18,
    "start_time": "2022-08-23T13:52:17.506Z"
   },
   {
    "duration": 9,
    "start_time": "2022-08-23T13:52:38.652Z"
   },
   {
    "duration": 121,
    "start_time": "2022-08-23T13:53:01.500Z"
   },
   {
    "duration": 20,
    "start_time": "2022-08-23T13:58:04.895Z"
   },
   {
    "duration": 9,
    "start_time": "2022-08-23T13:58:05.186Z"
   },
   {
    "duration": 112,
    "start_time": "2022-08-23T13:58:05.680Z"
   },
   {
    "duration": 7,
    "start_time": "2022-08-23T13:58:57.635Z"
   },
   {
    "duration": 18,
    "start_time": "2022-08-23T13:59:00.947Z"
   },
   {
    "duration": 8,
    "start_time": "2022-08-23T13:59:21.138Z"
   },
   {
    "duration": 121,
    "start_time": "2022-08-23T13:59:45.754Z"
   },
   {
    "duration": 14,
    "start_time": "2022-08-23T14:02:37.976Z"
   },
   {
    "duration": 13,
    "start_time": "2022-08-23T14:02:48.770Z"
   },
   {
    "duration": 19,
    "start_time": "2022-08-23T14:04:13.994Z"
   },
   {
    "duration": 31,
    "start_time": "2022-08-23T14:04:45.111Z"
   },
   {
    "duration": 132,
    "start_time": "2022-08-23T14:54:35.839Z"
   },
   {
    "duration": 22,
    "start_time": "2022-08-23T14:59:10.850Z"
   },
   {
    "duration": 18,
    "start_time": "2022-08-23T14:59:21.018Z"
   },
   {
    "duration": 9,
    "start_time": "2022-08-23T14:59:33.259Z"
   },
   {
    "duration": 8,
    "start_time": "2022-08-23T14:59:38.976Z"
   },
   {
    "duration": 10,
    "start_time": "2022-08-23T14:59:42.010Z"
   },
   {
    "duration": 1141,
    "start_time": "2022-08-23T15:00:34.159Z"
   },
   {
    "duration": 11,
    "start_time": "2022-08-23T15:00:51.009Z"
   },
   {
    "duration": 7,
    "start_time": "2022-08-23T15:01:02.352Z"
   },
   {
    "duration": 10,
    "start_time": "2022-08-23T15:01:24.405Z"
   },
   {
    "duration": 2,
    "start_time": "2022-08-23T15:02:44.366Z"
   },
   {
    "duration": 4,
    "start_time": "2022-08-23T15:02:51.839Z"
   },
   {
    "duration": 7,
    "start_time": "2022-08-23T15:23:23.754Z"
   },
   {
    "duration": 10,
    "start_time": "2022-08-23T15:23:23.965Z"
   },
   {
    "duration": 642,
    "start_time": "2022-08-23T15:23:49.186Z"
   },
   {
    "duration": 92,
    "start_time": "2022-08-23T15:23:49.829Z"
   },
   {
    "duration": 35,
    "start_time": "2022-08-23T15:23:49.922Z"
   },
   {
    "duration": 19,
    "start_time": "2022-08-23T15:23:49.959Z"
   },
   {
    "duration": 98,
    "start_time": "2022-08-23T15:23:49.981Z"
   },
   {
    "duration": 35,
    "start_time": "2022-08-23T15:23:50.081Z"
   },
   {
    "duration": 29,
    "start_time": "2022-08-23T15:23:50.118Z"
   },
   {
    "duration": 5,
    "start_time": "2022-08-23T15:23:50.148Z"
   },
   {
    "duration": 6,
    "start_time": "2022-08-23T15:23:50.154Z"
   },
   {
    "duration": 47,
    "start_time": "2022-08-23T15:23:50.161Z"
   },
   {
    "duration": 3,
    "start_time": "2022-08-23T15:23:50.210Z"
   },
   {
    "duration": 9,
    "start_time": "2022-08-23T15:23:50.214Z"
   },
   {
    "duration": 9,
    "start_time": "2022-08-23T15:23:50.224Z"
   },
   {
    "duration": 7,
    "start_time": "2022-08-23T15:23:50.235Z"
   },
   {
    "duration": 7,
    "start_time": "2022-08-23T15:23:50.243Z"
   },
   {
    "duration": 7,
    "start_time": "2022-08-23T15:23:50.252Z"
   },
   {
    "duration": 4,
    "start_time": "2022-08-23T15:23:50.261Z"
   },
   {
    "duration": 7,
    "start_time": "2022-08-23T15:23:50.266Z"
   },
   {
    "duration": 4,
    "start_time": "2022-08-23T15:23:50.298Z"
   },
   {
    "duration": 14,
    "start_time": "2022-08-23T15:23:50.304Z"
   },
   {
    "duration": 5,
    "start_time": "2022-08-23T15:23:50.319Z"
   },
   {
    "duration": 6,
    "start_time": "2022-08-23T15:23:50.325Z"
   },
   {
    "duration": 184,
    "start_time": "2022-08-23T15:23:50.333Z"
   },
   {
    "duration": 6,
    "start_time": "2022-08-23T15:23:50.518Z"
   },
   {
    "duration": 7,
    "start_time": "2022-08-23T15:23:50.525Z"
   },
   {
    "duration": 5,
    "start_time": "2022-08-23T15:23:50.533Z"
   },
   {
    "duration": 5,
    "start_time": "2022-08-23T15:23:50.540Z"
   },
   {
    "duration": 5,
    "start_time": "2022-08-23T15:23:50.546Z"
   },
   {
    "duration": 7,
    "start_time": "2022-08-23T15:23:50.552Z"
   },
   {
    "duration": 5,
    "start_time": "2022-08-23T15:23:50.560Z"
   },
   {
    "duration": 311,
    "start_time": "2022-08-23T15:23:50.566Z"
   },
   {
    "duration": 5,
    "start_time": "2022-08-23T15:23:50.878Z"
   },
   {
    "duration": 16,
    "start_time": "2022-08-23T15:23:50.884Z"
   },
   {
    "duration": 24,
    "start_time": "2022-08-23T15:23:50.901Z"
   },
   {
    "duration": 284,
    "start_time": "2022-08-23T15:23:50.927Z"
   },
   {
    "duration": 255,
    "start_time": "2022-08-23T15:23:51.213Z"
   },
   {
    "duration": 144,
    "start_time": "2022-08-23T15:23:51.470Z"
   },
   {
    "duration": 142,
    "start_time": "2022-08-23T15:23:51.616Z"
   },
   {
    "duration": 85,
    "start_time": "2022-08-23T15:23:51.759Z"
   },
   {
    "duration": 261,
    "start_time": "2022-08-23T15:23:51.846Z"
   },
   {
    "duration": 8,
    "start_time": "2022-08-23T15:23:52.111Z"
   },
   {
    "duration": 9,
    "start_time": "2022-08-23T15:23:52.120Z"
   },
   {
    "duration": 6,
    "start_time": "2022-08-23T15:23:52.131Z"
   },
   {
    "duration": 8,
    "start_time": "2022-08-23T15:23:52.138Z"
   },
   {
    "duration": 9,
    "start_time": "2022-08-23T15:23:52.147Z"
   },
   {
    "duration": 112,
    "start_time": "2022-08-23T15:23:52.157Z"
   },
   {
    "duration": 311,
    "start_time": "2022-08-23T15:23:52.271Z"
   },
   {
    "duration": 17,
    "start_time": "2022-08-23T15:23:52.584Z"
   },
   {
    "duration": 4,
    "start_time": "2022-08-23T15:23:52.602Z"
   },
   {
    "duration": 6,
    "start_time": "2022-08-23T15:23:52.607Z"
   },
   {
    "duration": 33,
    "start_time": "2022-08-23T15:23:52.614Z"
   },
   {
    "duration": 139,
    "start_time": "2022-08-23T15:23:52.648Z"
   },
   {
    "duration": 13,
    "start_time": "2022-08-23T15:23:52.788Z"
   },
   {
    "duration": 34,
    "start_time": "2022-08-23T15:23:52.803Z"
   },
   {
    "duration": 150,
    "start_time": "2022-08-23T15:23:52.838Z"
   },
   {
    "duration": 29,
    "start_time": "2022-08-23T15:23:52.989Z"
   },
   {
    "duration": 128,
    "start_time": "2022-08-23T15:23:53.019Z"
   },
   {
    "duration": 185,
    "start_time": "2022-08-23T15:23:53.149Z"
   },
   {
    "duration": 4,
    "start_time": "2022-08-23T15:23:53.336Z"
   },
   {
    "duration": 20,
    "start_time": "2022-08-23T15:23:53.342Z"
   },
   {
    "duration": 7,
    "start_time": "2022-08-23T15:23:53.363Z"
   },
   {
    "duration": 146,
    "start_time": "2022-08-23T15:23:53.372Z"
   },
   {
    "duration": 19,
    "start_time": "2022-08-23T15:23:53.519Z"
   },
   {
    "duration": 11,
    "start_time": "2022-08-23T15:23:53.539Z"
   },
   {
    "duration": 151,
    "start_time": "2022-08-23T15:23:53.551Z"
   },
   {
    "duration": 24,
    "start_time": "2022-08-23T15:23:53.703Z"
   },
   {
    "duration": 146,
    "start_time": "2022-08-23T15:23:53.728Z"
   },
   {
    "duration": 30,
    "start_time": "2022-08-23T15:23:53.875Z"
   },
   {
    "duration": 7,
    "start_time": "2022-08-23T15:23:53.907Z"
   },
   {
    "duration": 11,
    "start_time": "2022-08-23T15:23:53.915Z"
   },
   {
    "duration": 11,
    "start_time": "2022-08-23T15:23:53.927Z"
   },
   {
    "duration": 7,
    "start_time": "2022-08-23T15:26:30.996Z"
   },
   {
    "duration": 7,
    "start_time": "2022-08-23T15:26:32.287Z"
   },
   {
    "duration": 8,
    "start_time": "2022-08-23T15:26:33.943Z"
   },
   {
    "duration": 22,
    "start_time": "2022-08-23T15:26:54.434Z"
   },
   {
    "duration": 7,
    "start_time": "2022-08-23T15:27:00.133Z"
   },
   {
    "duration": 8,
    "start_time": "2022-08-23T15:27:06.347Z"
   },
   {
    "duration": 7,
    "start_time": "2022-08-23T15:27:08.191Z"
   },
   {
    "duration": 141,
    "start_time": "2022-08-23T15:34:58.217Z"
   },
   {
    "duration": 757,
    "start_time": "2022-08-23T22:04:13.426Z"
   },
   {
    "duration": 351,
    "start_time": "2022-08-23T22:04:14.187Z"
   },
   {
    "duration": 38,
    "start_time": "2022-08-23T22:04:15.125Z"
   },
   {
    "duration": 21,
    "start_time": "2022-08-23T22:04:17.674Z"
   },
   {
    "duration": 3,
    "start_time": "2022-08-23T22:04:28.547Z"
   },
   {
    "duration": 105,
    "start_time": "2022-08-23T22:04:28.552Z"
   },
   {
    "duration": 50,
    "start_time": "2022-08-23T22:04:28.659Z"
   },
   {
    "duration": 18,
    "start_time": "2022-08-23T22:04:28.710Z"
   },
   {
    "duration": 90,
    "start_time": "2022-08-23T22:04:28.730Z"
   },
   {
    "duration": 34,
    "start_time": "2022-08-23T22:04:28.821Z"
   },
   {
    "duration": 49,
    "start_time": "2022-08-23T22:04:28.857Z"
   },
   {
    "duration": 14,
    "start_time": "2022-08-23T22:04:28.908Z"
   },
   {
    "duration": 8,
    "start_time": "2022-08-23T22:04:28.924Z"
   },
   {
    "duration": 46,
    "start_time": "2022-08-23T22:04:28.934Z"
   },
   {
    "duration": 4,
    "start_time": "2022-08-23T22:04:28.986Z"
   },
   {
    "duration": 33,
    "start_time": "2022-08-23T22:04:28.992Z"
   },
   {
    "duration": 39,
    "start_time": "2022-08-23T22:04:29.027Z"
   },
   {
    "duration": 19,
    "start_time": "2022-08-23T22:04:29.070Z"
   },
   {
    "duration": 9,
    "start_time": "2022-08-23T22:04:29.091Z"
   },
   {
    "duration": 16,
    "start_time": "2022-08-23T22:04:29.101Z"
   },
   {
    "duration": 7,
    "start_time": "2022-08-23T22:04:29.119Z"
   },
   {
    "duration": 18,
    "start_time": "2022-08-23T22:04:29.127Z"
   },
   {
    "duration": 17,
    "start_time": "2022-08-23T22:04:29.146Z"
   },
   {
    "duration": 27,
    "start_time": "2022-08-23T22:04:29.165Z"
   },
   {
    "duration": 21,
    "start_time": "2022-08-23T22:04:29.194Z"
   },
   {
    "duration": 35,
    "start_time": "2022-08-23T22:04:29.217Z"
   },
   {
    "duration": 189,
    "start_time": "2022-08-23T22:04:29.254Z"
   },
   {
    "duration": 5,
    "start_time": "2022-08-23T22:04:29.445Z"
   },
   {
    "duration": 36,
    "start_time": "2022-08-23T22:04:29.452Z"
   },
   {
    "duration": 33,
    "start_time": "2022-08-23T22:04:29.491Z"
   },
   {
    "duration": 43,
    "start_time": "2022-08-23T22:04:29.525Z"
   },
   {
    "duration": 22,
    "start_time": "2022-08-23T22:04:29.570Z"
   },
   {
    "duration": 24,
    "start_time": "2022-08-23T22:04:29.594Z"
   },
   {
    "duration": 29,
    "start_time": "2022-08-23T22:04:29.621Z"
   },
   {
    "duration": 287,
    "start_time": "2022-08-23T22:04:29.653Z"
   },
   {
    "duration": 4,
    "start_time": "2022-08-23T22:04:29.942Z"
   },
   {
    "duration": 21,
    "start_time": "2022-08-23T22:04:29.948Z"
   },
   {
    "duration": 50,
    "start_time": "2022-08-23T22:04:29.970Z"
   },
   {
    "duration": 354,
    "start_time": "2022-08-23T22:04:30.022Z"
   },
   {
    "duration": 296,
    "start_time": "2022-08-23T22:04:30.378Z"
   },
   {
    "duration": 171,
    "start_time": "2022-08-23T22:04:30.676Z"
   },
   {
    "duration": 220,
    "start_time": "2022-08-23T22:04:30.849Z"
   },
   {
    "duration": 101,
    "start_time": "2022-08-23T22:04:31.071Z"
   },
   {
    "duration": 297,
    "start_time": "2022-08-23T22:04:31.173Z"
   },
   {
    "duration": 15,
    "start_time": "2022-08-23T22:04:31.474Z"
   },
   {
    "duration": 29,
    "start_time": "2022-08-23T22:04:31.491Z"
   },
   {
    "duration": 10,
    "start_time": "2022-08-23T22:04:31.522Z"
   },
   {
    "duration": 9,
    "start_time": "2022-08-23T22:04:31.533Z"
   },
   {
    "duration": 17,
    "start_time": "2022-08-23T22:04:31.543Z"
   },
   {
    "duration": 111,
    "start_time": "2022-08-23T22:04:31.563Z"
   },
   {
    "duration": 375,
    "start_time": "2022-08-23T22:04:31.676Z"
   },
   {
    "duration": 8,
    "start_time": "2022-08-23T22:04:32.053Z"
   },
   {
    "duration": 10,
    "start_time": "2022-08-23T22:04:32.063Z"
   },
   {
    "duration": 5,
    "start_time": "2022-08-23T22:04:32.087Z"
   },
   {
    "duration": 35,
    "start_time": "2022-08-23T22:04:32.094Z"
   },
   {
    "duration": 156,
    "start_time": "2022-08-23T22:04:32.131Z"
   },
   {
    "duration": 5,
    "start_time": "2022-08-23T22:04:32.288Z"
   },
   {
    "duration": 35,
    "start_time": "2022-08-23T22:04:32.295Z"
   },
   {
    "duration": 158,
    "start_time": "2022-08-23T22:04:32.331Z"
   },
   {
    "duration": 25,
    "start_time": "2022-08-23T22:04:32.491Z"
   },
   {
    "duration": 148,
    "start_time": "2022-08-23T22:04:32.520Z"
   },
   {
    "duration": 200,
    "start_time": "2022-08-23T22:04:32.669Z"
   },
   {
    "duration": 6,
    "start_time": "2022-08-23T22:04:32.872Z"
   },
   {
    "duration": 23,
    "start_time": "2022-08-23T22:04:32.887Z"
   },
   {
    "duration": 9,
    "start_time": "2022-08-23T22:04:32.912Z"
   },
   {
    "duration": 152,
    "start_time": "2022-08-23T22:04:32.922Z"
   },
   {
    "duration": 25,
    "start_time": "2022-08-23T22:04:33.077Z"
   },
   {
    "duration": 9,
    "start_time": "2022-08-23T22:04:33.104Z"
   },
   {
    "duration": 161,
    "start_time": "2022-08-23T22:04:33.115Z"
   },
   {
    "duration": 26,
    "start_time": "2022-08-23T22:04:33.287Z"
   },
   {
    "duration": 155,
    "start_time": "2022-08-23T22:04:33.315Z"
   },
   {
    "duration": 26,
    "start_time": "2022-08-23T22:04:33.472Z"
   },
   {
    "duration": 7,
    "start_time": "2022-08-23T22:04:33.500Z"
   },
   {
    "duration": 12,
    "start_time": "2022-08-23T22:04:33.509Z"
   },
   {
    "duration": 11,
    "start_time": "2022-08-23T22:04:33.523Z"
   },
   {
    "duration": 186,
    "start_time": "2022-08-23T22:04:33.536Z"
   },
   {
    "duration": 153,
    "start_time": "2022-08-23T22:04:59.283Z"
   },
   {
    "duration": 7,
    "start_time": "2022-08-23T22:14:20.089Z"
   },
   {
    "duration": 145,
    "start_time": "2022-08-23T22:17:02.311Z"
   },
   {
    "duration": 66,
    "start_time": "2022-08-23T22:18:40.878Z"
   },
   {
    "duration": 10,
    "start_time": "2022-08-23T22:18:46.162Z"
   },
   {
    "duration": 759,
    "start_time": "2022-08-23T22:18:51.212Z"
   },
   {
    "duration": 910,
    "start_time": "2022-08-23T22:18:57.437Z"
   },
   {
    "duration": 7,
    "start_time": "2022-08-23T22:19:41.410Z"
   },
   {
    "duration": 178,
    "start_time": "2022-08-23T22:19:42.308Z"
   },
   {
    "duration": 10,
    "start_time": "2022-08-23T22:19:43.098Z"
   },
   {
    "duration": 754,
    "start_time": "2022-08-23T22:19:43.818Z"
   },
   {
    "duration": 12,
    "start_time": "2022-08-23T22:20:57.183Z"
   },
   {
    "duration": 11,
    "start_time": "2022-08-23T22:21:12.578Z"
   },
   {
    "duration": 928,
    "start_time": "2022-08-23T22:21:13.101Z"
   },
   {
    "duration": 10,
    "start_time": "2022-08-23T22:25:14.636Z"
   },
   {
    "duration": 576,
    "start_time": "2022-08-23T22:25:47.903Z"
   },
   {
    "duration": 90,
    "start_time": "2022-08-23T22:25:48.480Z"
   },
   {
    "duration": 34,
    "start_time": "2022-08-23T22:25:48.571Z"
   },
   {
    "duration": 14,
    "start_time": "2022-08-23T22:25:48.606Z"
   },
   {
    "duration": 78,
    "start_time": "2022-08-23T22:25:48.623Z"
   },
   {
    "duration": 30,
    "start_time": "2022-08-23T22:25:48.703Z"
   },
   {
    "duration": 29,
    "start_time": "2022-08-23T22:25:48.735Z"
   },
   {
    "duration": 24,
    "start_time": "2022-08-23T22:25:48.766Z"
   },
   {
    "duration": 9,
    "start_time": "2022-08-23T22:25:48.792Z"
   },
   {
    "duration": 22,
    "start_time": "2022-08-23T22:25:48.803Z"
   },
   {
    "duration": 3,
    "start_time": "2022-08-23T22:25:48.827Z"
   },
   {
    "duration": 9,
    "start_time": "2022-08-23T22:25:48.832Z"
   },
   {
    "duration": 8,
    "start_time": "2022-08-23T22:25:48.843Z"
   },
   {
    "duration": 13,
    "start_time": "2022-08-23T22:25:48.853Z"
   },
   {
    "duration": 20,
    "start_time": "2022-08-23T22:25:48.868Z"
   },
   {
    "duration": 9,
    "start_time": "2022-08-23T22:25:48.889Z"
   },
   {
    "duration": 6,
    "start_time": "2022-08-23T22:25:48.900Z"
   },
   {
    "duration": 7,
    "start_time": "2022-08-23T22:25:48.907Z"
   },
   {
    "duration": 7,
    "start_time": "2022-08-23T22:25:48.915Z"
   },
   {
    "duration": 8,
    "start_time": "2022-08-23T22:25:48.924Z"
   },
   {
    "duration": 4,
    "start_time": "2022-08-23T22:25:48.933Z"
   },
   {
    "duration": 7,
    "start_time": "2022-08-23T22:25:48.938Z"
   },
   {
    "duration": 176,
    "start_time": "2022-08-23T22:25:48.946Z"
   },
   {
    "duration": 5,
    "start_time": "2022-08-23T22:25:49.123Z"
   },
   {
    "duration": 10,
    "start_time": "2022-08-23T22:25:49.130Z"
   },
   {
    "duration": 7,
    "start_time": "2022-08-23T22:25:49.142Z"
   },
   {
    "duration": 10,
    "start_time": "2022-08-23T22:25:49.150Z"
   },
   {
    "duration": 5,
    "start_time": "2022-08-23T22:25:49.162Z"
   },
   {
    "duration": 18,
    "start_time": "2022-08-23T22:25:49.168Z"
   },
   {
    "duration": 3,
    "start_time": "2022-08-23T22:25:49.188Z"
   },
   {
    "duration": 256,
    "start_time": "2022-08-23T22:25:49.192Z"
   },
   {
    "duration": 3,
    "start_time": "2022-08-23T22:25:49.450Z"
   },
   {
    "duration": 7,
    "start_time": "2022-08-23T22:25:49.455Z"
   },
   {
    "duration": 32,
    "start_time": "2022-08-23T22:25:49.463Z"
   },
   {
    "duration": 299,
    "start_time": "2022-08-23T22:25:49.496Z"
   },
   {
    "duration": 256,
    "start_time": "2022-08-23T22:25:49.797Z"
   },
   {
    "duration": 152,
    "start_time": "2022-08-23T22:25:50.054Z"
   },
   {
    "duration": 156,
    "start_time": "2022-08-23T22:25:50.207Z"
   },
   {
    "duration": 90,
    "start_time": "2022-08-23T22:25:50.365Z"
   },
   {
    "duration": 275,
    "start_time": "2022-08-23T22:25:50.457Z"
   },
   {
    "duration": 10,
    "start_time": "2022-08-23T22:25:50.737Z"
   },
   {
    "duration": 11,
    "start_time": "2022-08-23T22:25:50.749Z"
   },
   {
    "duration": 30,
    "start_time": "2022-08-23T22:25:50.762Z"
   },
   {
    "duration": 8,
    "start_time": "2022-08-23T22:25:50.794Z"
   },
   {
    "duration": 14,
    "start_time": "2022-08-23T22:25:50.804Z"
   },
   {
    "duration": 90,
    "start_time": "2022-08-23T22:25:50.820Z"
   },
   {
    "duration": 340,
    "start_time": "2022-08-23T22:25:50.912Z"
   },
   {
    "duration": 6,
    "start_time": "2022-08-23T22:25:51.253Z"
   },
   {
    "duration": 5,
    "start_time": "2022-08-23T22:25:51.260Z"
   },
   {
    "duration": 20,
    "start_time": "2022-08-23T22:25:51.266Z"
   },
   {
    "duration": 31,
    "start_time": "2022-08-23T22:25:51.287Z"
   },
   {
    "duration": 136,
    "start_time": "2022-08-23T22:25:51.319Z"
   },
   {
    "duration": 5,
    "start_time": "2022-08-23T22:25:51.456Z"
   },
   {
    "duration": 35,
    "start_time": "2022-08-23T22:25:51.463Z"
   },
   {
    "duration": 150,
    "start_time": "2022-08-23T22:25:51.500Z"
   },
   {
    "duration": 23,
    "start_time": "2022-08-23T22:25:51.652Z"
   },
   {
    "duration": 127,
    "start_time": "2022-08-23T22:25:51.676Z"
   },
   {
    "duration": 184,
    "start_time": "2022-08-23T22:25:51.805Z"
   },
   {
    "duration": 7,
    "start_time": "2022-08-23T22:25:51.991Z"
   },
   {
    "duration": 26,
    "start_time": "2022-08-23T22:25:52.000Z"
   },
   {
    "duration": 11,
    "start_time": "2022-08-23T22:25:52.027Z"
   },
   {
    "duration": 148,
    "start_time": "2022-08-23T22:25:52.040Z"
   },
   {
    "duration": 19,
    "start_time": "2022-08-23T22:25:52.189Z"
   },
   {
    "duration": 7,
    "start_time": "2022-08-23T22:25:52.209Z"
   },
   {
    "duration": 148,
    "start_time": "2022-08-23T22:25:52.218Z"
   },
   {
    "duration": 31,
    "start_time": "2022-08-23T22:25:52.368Z"
   },
   {
    "duration": 145,
    "start_time": "2022-08-23T22:25:52.401Z"
   },
   {
    "duration": 33,
    "start_time": "2022-08-23T22:25:52.547Z"
   },
   {
    "duration": 9,
    "start_time": "2022-08-23T22:25:52.582Z"
   },
   {
    "duration": 13,
    "start_time": "2022-08-23T22:25:52.592Z"
   },
   {
    "duration": 9,
    "start_time": "2022-08-23T22:25:52.607Z"
   },
   {
    "duration": 166,
    "start_time": "2022-08-23T22:25:52.617Z"
   },
   {
    "duration": 9,
    "start_time": "2022-08-23T22:25:52.787Z"
   },
   {
    "duration": 929,
    "start_time": "2022-08-23T22:25:52.799Z"
   },
   {
    "duration": 11,
    "start_time": "2022-08-23T22:27:45.096Z"
   },
   {
    "duration": 11,
    "start_time": "2022-08-23T22:27:53.227Z"
   },
   {
    "duration": 11,
    "start_time": "2022-08-23T22:28:01.637Z"
   },
   {
    "duration": 8,
    "start_time": "2022-08-23T22:28:08.840Z"
   },
   {
    "duration": 921,
    "start_time": "2022-08-23T22:28:09.475Z"
   },
   {
    "duration": 13,
    "start_time": "2022-08-23T22:30:09.035Z"
   },
   {
    "duration": 621,
    "start_time": "2022-08-23T22:30:22.221Z"
   },
   {
    "duration": 99,
    "start_time": "2022-08-23T22:30:22.844Z"
   },
   {
    "duration": 45,
    "start_time": "2022-08-23T22:30:22.945Z"
   },
   {
    "duration": 15,
    "start_time": "2022-08-23T22:30:22.992Z"
   },
   {
    "duration": 82,
    "start_time": "2022-08-23T22:30:23.009Z"
   },
   {
    "duration": 37,
    "start_time": "2022-08-23T22:30:23.093Z"
   },
   {
    "duration": 31,
    "start_time": "2022-08-23T22:30:23.132Z"
   },
   {
    "duration": 29,
    "start_time": "2022-08-23T22:30:23.164Z"
   },
   {
    "duration": 8,
    "start_time": "2022-08-23T22:30:23.195Z"
   },
   {
    "duration": 26,
    "start_time": "2022-08-23T22:30:23.207Z"
   },
   {
    "duration": 4,
    "start_time": "2022-08-23T22:30:23.235Z"
   },
   {
    "duration": 11,
    "start_time": "2022-08-23T22:30:23.241Z"
   },
   {
    "duration": 10,
    "start_time": "2022-08-23T22:30:23.254Z"
   },
   {
    "duration": 8,
    "start_time": "2022-08-23T22:30:23.286Z"
   },
   {
    "duration": 8,
    "start_time": "2022-08-23T22:30:23.295Z"
   },
   {
    "duration": 8,
    "start_time": "2022-08-23T22:30:23.304Z"
   },
   {
    "duration": 7,
    "start_time": "2022-08-23T22:30:23.314Z"
   },
   {
    "duration": 5,
    "start_time": "2022-08-23T22:30:23.322Z"
   },
   {
    "duration": 8,
    "start_time": "2022-08-23T22:30:23.328Z"
   },
   {
    "duration": 14,
    "start_time": "2022-08-23T22:30:23.337Z"
   },
   {
    "duration": 4,
    "start_time": "2022-08-23T22:30:23.353Z"
   },
   {
    "duration": 32,
    "start_time": "2022-08-23T22:30:23.358Z"
   },
   {
    "duration": 173,
    "start_time": "2022-08-23T22:30:23.391Z"
   },
   {
    "duration": 6,
    "start_time": "2022-08-23T22:30:23.566Z"
   },
   {
    "duration": 20,
    "start_time": "2022-08-23T22:30:23.573Z"
   },
   {
    "duration": 5,
    "start_time": "2022-08-23T22:30:23.595Z"
   },
   {
    "duration": 8,
    "start_time": "2022-08-23T22:30:23.602Z"
   },
   {
    "duration": 4,
    "start_time": "2022-08-23T22:30:23.615Z"
   },
   {
    "duration": 7,
    "start_time": "2022-08-23T22:30:23.621Z"
   },
   {
    "duration": 6,
    "start_time": "2022-08-23T22:30:23.630Z"
   },
   {
    "duration": 291,
    "start_time": "2022-08-23T22:30:23.638Z"
   },
   {
    "duration": 5,
    "start_time": "2022-08-23T22:30:23.931Z"
   },
   {
    "duration": 11,
    "start_time": "2022-08-23T22:30:23.937Z"
   },
   {
    "duration": 27,
    "start_time": "2022-08-23T22:30:23.950Z"
   },
   {
    "duration": 340,
    "start_time": "2022-08-23T22:30:23.978Z"
   },
   {
    "duration": 276,
    "start_time": "2022-08-23T22:30:24.320Z"
   },
   {
    "duration": 159,
    "start_time": "2022-08-23T22:30:24.597Z"
   },
   {
    "duration": 157,
    "start_time": "2022-08-23T22:30:24.757Z"
   },
   {
    "duration": 93,
    "start_time": "2022-08-23T22:30:24.916Z"
   },
   {
    "duration": 291,
    "start_time": "2022-08-23T22:30:25.011Z"
   },
   {
    "duration": 9,
    "start_time": "2022-08-23T22:30:25.303Z"
   },
   {
    "duration": 14,
    "start_time": "2022-08-23T22:30:25.314Z"
   },
   {
    "duration": 7,
    "start_time": "2022-08-23T22:30:25.329Z"
   },
   {
    "duration": 8,
    "start_time": "2022-08-23T22:30:25.337Z"
   },
   {
    "duration": 9,
    "start_time": "2022-08-23T22:30:25.347Z"
   },
   {
    "duration": 100,
    "start_time": "2022-08-23T22:30:25.358Z"
   },
   {
    "duration": 390,
    "start_time": "2022-08-23T22:30:25.459Z"
   },
   {
    "duration": 6,
    "start_time": "2022-08-23T22:30:25.851Z"
   },
   {
    "duration": 7,
    "start_time": "2022-08-23T22:30:25.859Z"
   },
   {
    "duration": 20,
    "start_time": "2022-08-23T22:30:25.867Z"
   },
   {
    "duration": 31,
    "start_time": "2022-08-23T22:30:25.889Z"
   },
   {
    "duration": 149,
    "start_time": "2022-08-23T22:30:25.922Z"
   },
   {
    "duration": 5,
    "start_time": "2022-08-23T22:30:26.073Z"
   },
   {
    "duration": 28,
    "start_time": "2022-08-23T22:30:26.087Z"
   },
   {
    "duration": 190,
    "start_time": "2022-08-23T22:30:26.117Z"
   },
   {
    "duration": 29,
    "start_time": "2022-08-23T22:30:26.309Z"
   },
   {
    "duration": 154,
    "start_time": "2022-08-23T22:30:26.341Z"
   },
   {
    "duration": 203,
    "start_time": "2022-08-23T22:30:26.496Z"
   },
   {
    "duration": 6,
    "start_time": "2022-08-23T22:30:26.701Z"
   },
   {
    "duration": 22,
    "start_time": "2022-08-23T22:30:26.708Z"
   },
   {
    "duration": 9,
    "start_time": "2022-08-23T22:30:26.731Z"
   },
   {
    "duration": 150,
    "start_time": "2022-08-23T22:30:26.742Z"
   },
   {
    "duration": 19,
    "start_time": "2022-08-23T22:30:26.894Z"
   },
   {
    "duration": 9,
    "start_time": "2022-08-23T22:30:26.915Z"
   },
   {
    "duration": 163,
    "start_time": "2022-08-23T22:30:26.925Z"
   },
   {
    "duration": 27,
    "start_time": "2022-08-23T22:30:27.090Z"
   },
   {
    "duration": 146,
    "start_time": "2022-08-23T22:30:27.118Z"
   },
   {
    "duration": 27,
    "start_time": "2022-08-23T22:30:27.266Z"
   },
   {
    "duration": 6,
    "start_time": "2022-08-23T22:30:27.295Z"
   },
   {
    "duration": 9,
    "start_time": "2022-08-23T22:30:27.303Z"
   },
   {
    "duration": 11,
    "start_time": "2022-08-23T22:30:27.313Z"
   },
   {
    "duration": 155,
    "start_time": "2022-08-23T22:30:27.325Z"
   },
   {
    "duration": 8,
    "start_time": "2022-08-23T22:30:27.486Z"
   },
   {
    "duration": 1053,
    "start_time": "2022-08-23T22:30:27.496Z"
   },
   {
    "duration": 9,
    "start_time": "2022-08-23T22:34:31.997Z"
   },
   {
    "duration": 867,
    "start_time": "2022-08-23T22:34:32.652Z"
   },
   {
    "duration": 8,
    "start_time": "2022-08-23T22:34:41.450Z"
   },
   {
    "duration": 871,
    "start_time": "2022-08-23T22:34:42.072Z"
   },
   {
    "duration": 805,
    "start_time": "2022-08-24T06:25:20.027Z"
   },
   {
    "duration": 158,
    "start_time": "2022-08-24T06:25:20.834Z"
   },
   {
    "duration": 38,
    "start_time": "2022-08-24T06:25:20.994Z"
   },
   {
    "duration": 26,
    "start_time": "2022-08-24T06:25:21.034Z"
   },
   {
    "duration": 75,
    "start_time": "2022-08-24T06:25:21.062Z"
   },
   {
    "duration": 49,
    "start_time": "2022-08-24T06:25:21.139Z"
   },
   {
    "duration": 42,
    "start_time": "2022-08-24T06:25:21.189Z"
   },
   {
    "duration": 33,
    "start_time": "2022-08-24T06:25:21.233Z"
   },
   {
    "duration": 19,
    "start_time": "2022-08-24T06:25:21.268Z"
   },
   {
    "duration": 40,
    "start_time": "2022-08-24T06:25:21.289Z"
   },
   {
    "duration": 8,
    "start_time": "2022-08-24T06:25:21.330Z"
   },
   {
    "duration": 18,
    "start_time": "2022-08-24T06:25:21.339Z"
   },
   {
    "duration": 43,
    "start_time": "2022-08-24T06:25:21.359Z"
   },
   {
    "duration": 22,
    "start_time": "2022-08-24T06:25:21.405Z"
   },
   {
    "duration": 20,
    "start_time": "2022-08-24T06:25:21.429Z"
   },
   {
    "duration": 15,
    "start_time": "2022-08-24T06:25:21.450Z"
   },
   {
    "duration": 26,
    "start_time": "2022-08-24T06:25:21.467Z"
   },
   {
    "duration": 16,
    "start_time": "2022-08-24T06:25:21.495Z"
   },
   {
    "duration": 32,
    "start_time": "2022-08-24T06:25:21.512Z"
   },
   {
    "duration": 14,
    "start_time": "2022-08-24T06:25:21.546Z"
   },
   {
    "duration": 43,
    "start_time": "2022-08-24T06:25:21.562Z"
   },
   {
    "duration": 19,
    "start_time": "2022-08-24T06:25:21.606Z"
   },
   {
    "duration": 199,
    "start_time": "2022-08-24T06:25:21.626Z"
   },
   {
    "duration": 6,
    "start_time": "2022-08-24T06:25:21.827Z"
   },
   {
    "duration": 24,
    "start_time": "2022-08-24T06:25:21.835Z"
   },
   {
    "duration": 37,
    "start_time": "2022-08-24T06:25:21.861Z"
   },
   {
    "duration": 24,
    "start_time": "2022-08-24T06:25:21.900Z"
   },
   {
    "duration": 26,
    "start_time": "2022-08-24T06:25:21.926Z"
   },
   {
    "duration": 22,
    "start_time": "2022-08-24T06:25:21.954Z"
   },
   {
    "duration": 29,
    "start_time": "2022-08-24T06:25:21.979Z"
   },
   {
    "duration": 358,
    "start_time": "2022-08-24T06:25:22.010Z"
   },
   {
    "duration": 9,
    "start_time": "2022-08-24T06:25:22.372Z"
   },
   {
    "duration": 31,
    "start_time": "2022-08-24T06:25:22.384Z"
   },
   {
    "duration": 50,
    "start_time": "2022-08-24T06:25:22.417Z"
   },
   {
    "duration": 398,
    "start_time": "2022-08-24T06:25:22.470Z"
   },
   {
    "duration": 309,
    "start_time": "2022-08-24T06:25:22.869Z"
   },
   {
    "duration": 170,
    "start_time": "2022-08-24T06:25:23.180Z"
   },
   {
    "duration": 195,
    "start_time": "2022-08-24T06:25:23.351Z"
   },
   {
    "duration": 100,
    "start_time": "2022-08-24T06:25:23.548Z"
   },
   {
    "duration": 314,
    "start_time": "2022-08-24T06:25:23.650Z"
   },
   {
    "duration": 9,
    "start_time": "2022-08-24T06:25:23.969Z"
   },
   {
    "duration": 18,
    "start_time": "2022-08-24T06:25:23.980Z"
   },
   {
    "duration": 10,
    "start_time": "2022-08-24T06:25:23.999Z"
   },
   {
    "duration": 8,
    "start_time": "2022-08-24T06:25:24.010Z"
   },
   {
    "duration": 10,
    "start_time": "2022-08-24T06:25:24.019Z"
   },
   {
    "duration": 113,
    "start_time": "2022-08-24T06:25:24.030Z"
   },
   {
    "duration": 395,
    "start_time": "2022-08-24T06:25:24.145Z"
   },
   {
    "duration": 6,
    "start_time": "2022-08-24T06:25:24.541Z"
   },
   {
    "duration": 14,
    "start_time": "2022-08-24T06:25:24.549Z"
   },
   {
    "duration": 6,
    "start_time": "2022-08-24T06:25:24.568Z"
   },
   {
    "duration": 42,
    "start_time": "2022-08-24T06:25:24.576Z"
   },
   {
    "duration": 140,
    "start_time": "2022-08-24T06:25:24.619Z"
   },
   {
    "duration": 14,
    "start_time": "2022-08-24T06:25:24.761Z"
   },
   {
    "duration": 33,
    "start_time": "2022-08-24T06:25:24.777Z"
   },
   {
    "duration": 164,
    "start_time": "2022-08-24T06:25:24.812Z"
   },
   {
    "duration": 25,
    "start_time": "2022-08-24T06:25:24.978Z"
   },
   {
    "duration": 154,
    "start_time": "2022-08-24T06:25:25.005Z"
   },
   {
    "duration": 195,
    "start_time": "2022-08-24T06:25:25.161Z"
   },
   {
    "duration": 13,
    "start_time": "2022-08-24T06:25:25.358Z"
   },
   {
    "duration": 30,
    "start_time": "2022-08-24T06:25:25.373Z"
   },
   {
    "duration": 8,
    "start_time": "2022-08-24T06:25:25.405Z"
   },
   {
    "duration": 165,
    "start_time": "2022-08-24T06:25:25.415Z"
   },
   {
    "duration": 21,
    "start_time": "2022-08-24T06:25:25.582Z"
   },
   {
    "duration": 9,
    "start_time": "2022-08-24T06:25:25.604Z"
   },
   {
    "duration": 178,
    "start_time": "2022-08-24T06:25:25.615Z"
   },
   {
    "duration": 27,
    "start_time": "2022-08-24T06:25:25.795Z"
   },
   {
    "duration": 170,
    "start_time": "2022-08-24T06:25:25.824Z"
   },
   {
    "duration": 32,
    "start_time": "2022-08-24T06:25:25.996Z"
   },
   {
    "duration": 8,
    "start_time": "2022-08-24T06:25:26.030Z"
   },
   {
    "duration": 29,
    "start_time": "2022-08-24T06:25:26.039Z"
   },
   {
    "duration": 9,
    "start_time": "2022-08-24T06:25:26.070Z"
   },
   {
    "duration": 176,
    "start_time": "2022-08-24T06:25:26.081Z"
   },
   {
    "duration": 12,
    "start_time": "2022-08-24T06:25:26.259Z"
   },
   {
    "duration": 2224,
    "start_time": "2022-08-24T06:25:31.129Z"
   },
   {
    "duration": 13,
    "start_time": "2022-08-24T06:26:02.968Z"
   },
   {
    "duration": 13,
    "start_time": "2022-08-24T06:26:25.738Z"
   },
   {
    "duration": 9,
    "start_time": "2022-08-24T06:26:45.581Z"
   },
   {
    "duration": 3,
    "start_time": "2022-08-24T06:40:46.288Z"
   },
   {
    "duration": 114,
    "start_time": "2022-08-24T06:40:46.568Z"
   },
   {
    "duration": 37,
    "start_time": "2022-08-24T06:40:46.842Z"
   },
   {
    "duration": 18,
    "start_time": "2022-08-24T06:40:47.501Z"
   },
   {
    "duration": 73,
    "start_time": "2022-08-24T06:40:48.205Z"
   },
   {
    "duration": 34,
    "start_time": "2022-08-24T06:40:48.761Z"
   },
   {
    "duration": 36,
    "start_time": "2022-08-24T06:40:49.304Z"
   },
   {
    "duration": 5,
    "start_time": "2022-08-24T06:40:51.209Z"
   },
   {
    "duration": 4,
    "start_time": "2022-08-24T06:40:51.768Z"
   },
   {
    "duration": 27,
    "start_time": "2022-08-24T06:40:52.449Z"
   },
   {
    "duration": 4,
    "start_time": "2022-08-24T06:40:53.852Z"
   },
   {
    "duration": 8,
    "start_time": "2022-08-24T06:40:56.364Z"
   },
   {
    "duration": 6,
    "start_time": "2022-08-24T06:40:56.825Z"
   },
   {
    "duration": 9,
    "start_time": "2022-08-24T06:40:57.424Z"
   },
   {
    "duration": 5,
    "start_time": "2022-08-24T06:40:58.280Z"
   },
   {
    "duration": 5,
    "start_time": "2022-08-24T06:40:58.862Z"
   },
   {
    "duration": 7,
    "start_time": "2022-08-24T06:40:59.559Z"
   },
   {
    "duration": 5,
    "start_time": "2022-08-24T06:41:00.269Z"
   },
   {
    "duration": 5,
    "start_time": "2022-08-24T06:41:01.038Z"
   },
   {
    "duration": 10,
    "start_time": "2022-08-24T06:41:01.409Z"
   },
   {
    "duration": 4,
    "start_time": "2022-08-24T06:41:01.829Z"
   },
   {
    "duration": 5,
    "start_time": "2022-08-24T06:41:02.383Z"
   },
   {
    "duration": 172,
    "start_time": "2022-08-24T06:41:03.103Z"
   },
   {
    "duration": 5,
    "start_time": "2022-08-24T06:41:04.941Z"
   },
   {
    "duration": 6,
    "start_time": "2022-08-24T06:41:06.232Z"
   },
   {
    "duration": 5,
    "start_time": "2022-08-24T06:41:09.134Z"
   },
   {
    "duration": 6,
    "start_time": "2022-08-24T06:41:17.238Z"
   },
   {
    "duration": 8,
    "start_time": "2022-08-24T06:41:17.866Z"
   },
   {
    "duration": 6,
    "start_time": "2022-08-24T06:41:18.513Z"
   },
   {
    "duration": 4,
    "start_time": "2022-08-24T06:41:18.810Z"
   },
   {
    "duration": 379,
    "start_time": "2022-08-24T06:41:19.090Z"
   },
   {
    "duration": 4,
    "start_time": "2022-08-24T06:41:19.542Z"
   },
   {
    "duration": 4,
    "start_time": "2022-08-24T06:41:19.854Z"
   },
   {
    "duration": 30,
    "start_time": "2022-08-24T06:41:20.157Z"
   },
   {
    "duration": 296,
    "start_time": "2022-08-24T06:41:21.118Z"
   },
   {
    "duration": 316,
    "start_time": "2022-08-24T06:41:21.432Z"
   },
   {
    "duration": 166,
    "start_time": "2022-08-24T06:41:21.808Z"
   },
   {
    "duration": 181,
    "start_time": "2022-08-24T06:41:22.648Z"
   },
   {
    "duration": 86,
    "start_time": "2022-08-24T06:41:23.539Z"
   },
   {
    "duration": 282,
    "start_time": "2022-08-24T06:41:24.051Z"
   },
   {
    "duration": 10,
    "start_time": "2022-08-24T06:41:24.500Z"
   },
   {
    "duration": 12,
    "start_time": "2022-08-24T06:41:25.033Z"
   },
   {
    "duration": 9,
    "start_time": "2022-08-24T06:41:25.544Z"
   },
   {
    "duration": 9,
    "start_time": "2022-08-24T06:41:26.345Z"
   },
   {
    "duration": 12,
    "start_time": "2022-08-24T06:41:28.138Z"
   },
   {
    "duration": 195,
    "start_time": "2022-08-24T06:41:29.898Z"
   },
   {
    "duration": 324,
    "start_time": "2022-08-24T06:41:30.524Z"
   },
   {
    "duration": 6,
    "start_time": "2022-08-24T06:41:31.048Z"
   },
   {
    "duration": 4,
    "start_time": "2022-08-24T06:41:31.755Z"
   },
   {
    "duration": 5,
    "start_time": "2022-08-24T06:41:32.811Z"
   },
   {
    "duration": 39,
    "start_time": "2022-08-24T06:41:35.965Z"
   },
   {
    "duration": 151,
    "start_time": "2022-08-24T06:41:40.019Z"
   },
   {
    "duration": 7,
    "start_time": "2022-08-24T06:41:41.277Z"
   },
   {
    "duration": 31,
    "start_time": "2022-08-24T06:41:47.911Z"
   },
   {
    "duration": 158,
    "start_time": "2022-08-24T06:41:48.328Z"
   },
   {
    "duration": 27,
    "start_time": "2022-08-24T06:41:49.794Z"
   },
   {
    "duration": 145,
    "start_time": "2022-08-24T06:41:50.132Z"
   },
   {
    "duration": 221,
    "start_time": "2022-08-24T06:41:51.468Z"
   },
   {
    "duration": 7,
    "start_time": "2022-08-24T06:41:51.876Z"
   },
   {
    "duration": 24,
    "start_time": "2022-08-24T06:41:53.126Z"
   },
   {
    "duration": 13,
    "start_time": "2022-08-24T06:41:53.502Z"
   },
   {
    "duration": 149,
    "start_time": "2022-08-24T06:41:53.897Z"
   },
   {
    "duration": 19,
    "start_time": "2022-08-24T06:41:54.795Z"
   },
   {
    "duration": 9,
    "start_time": "2022-08-24T06:41:55.256Z"
   },
   {
    "duration": 162,
    "start_time": "2022-08-24T06:41:55.671Z"
   },
   {
    "duration": 33,
    "start_time": "2022-08-24T06:41:57.481Z"
   },
   {
    "duration": 149,
    "start_time": "2022-08-24T06:41:58.221Z"
   },
   {
    "duration": 20,
    "start_time": "2022-08-24T06:42:03.050Z"
   },
   {
    "duration": 9,
    "start_time": "2022-08-24T06:42:03.601Z"
   },
   {
    "duration": 11,
    "start_time": "2022-08-24T06:42:06.302Z"
   },
   {
    "duration": 11,
    "start_time": "2022-08-24T06:42:06.484Z"
   },
   {
    "duration": 163,
    "start_time": "2022-08-24T06:42:07.712Z"
   },
   {
    "duration": 9,
    "start_time": "2022-08-24T06:42:10.044Z"
   },
   {
    "duration": 31,
    "start_time": "2022-08-24T06:42:10.876Z"
   },
   {
    "duration": 21,
    "start_time": "2022-08-24T06:42:12.785Z"
   },
   {
    "duration": 12,
    "start_time": "2022-08-24T06:42:17.340Z"
   },
   {
    "duration": 1614,
    "start_time": "2022-08-24T06:42:33.982Z"
   },
   {
    "duration": 12,
    "start_time": "2022-08-24T06:43:49.406Z"
   },
   {
    "duration": 1546,
    "start_time": "2022-08-24T06:43:49.821Z"
   },
   {
    "duration": 10,
    "start_time": "2022-08-24T06:43:55.950Z"
   },
   {
    "duration": 19,
    "start_time": "2022-08-24T06:44:00.362Z"
   },
   {
    "duration": 10,
    "start_time": "2022-08-24T06:44:08.401Z"
   },
   {
    "duration": 9,
    "start_time": "2022-08-24T06:44:19.717Z"
   },
   {
    "duration": 705,
    "start_time": "2022-08-24T06:44:36.721Z"
   },
   {
    "duration": 91,
    "start_time": "2022-08-24T06:44:37.428Z"
   },
   {
    "duration": 47,
    "start_time": "2022-08-24T06:44:37.522Z"
   },
   {
    "duration": 16,
    "start_time": "2022-08-24T06:44:37.571Z"
   },
   {
    "duration": 87,
    "start_time": "2022-08-24T06:44:37.588Z"
   },
   {
    "duration": 37,
    "start_time": "2022-08-24T06:44:37.676Z"
   },
   {
    "duration": 61,
    "start_time": "2022-08-24T06:44:37.715Z"
   },
   {
    "duration": 7,
    "start_time": "2022-08-24T06:44:37.778Z"
   },
   {
    "duration": 5,
    "start_time": "2022-08-24T06:44:37.787Z"
   },
   {
    "duration": 27,
    "start_time": "2022-08-24T06:44:37.795Z"
   },
   {
    "duration": 5,
    "start_time": "2022-08-24T06:44:37.824Z"
   },
   {
    "duration": 39,
    "start_time": "2022-08-24T06:44:37.830Z"
   },
   {
    "duration": 8,
    "start_time": "2022-08-24T06:44:37.871Z"
   },
   {
    "duration": 9,
    "start_time": "2022-08-24T06:44:37.881Z"
   },
   {
    "duration": 7,
    "start_time": "2022-08-24T06:44:37.892Z"
   },
   {
    "duration": 7,
    "start_time": "2022-08-24T06:44:37.901Z"
   },
   {
    "duration": 8,
    "start_time": "2022-08-24T06:44:37.910Z"
   },
   {
    "duration": 7,
    "start_time": "2022-08-24T06:44:37.919Z"
   },
   {
    "duration": 43,
    "start_time": "2022-08-24T06:44:37.928Z"
   },
   {
    "duration": 14,
    "start_time": "2022-08-24T06:44:37.973Z"
   },
   {
    "duration": 5,
    "start_time": "2022-08-24T06:44:37.989Z"
   },
   {
    "duration": 7,
    "start_time": "2022-08-24T06:44:37.996Z"
   },
   {
    "duration": 221,
    "start_time": "2022-08-24T06:44:38.004Z"
   },
   {
    "duration": 6,
    "start_time": "2022-08-24T06:44:38.227Z"
   },
   {
    "duration": 9,
    "start_time": "2022-08-24T06:44:38.234Z"
   },
   {
    "duration": 24,
    "start_time": "2022-08-24T06:44:38.244Z"
   },
   {
    "duration": 7,
    "start_time": "2022-08-24T06:44:38.269Z"
   },
   {
    "duration": 10,
    "start_time": "2022-08-24T06:44:38.280Z"
   },
   {
    "duration": 7,
    "start_time": "2022-08-24T06:44:38.293Z"
   },
   {
    "duration": 5,
    "start_time": "2022-08-24T06:44:38.302Z"
   },
   {
    "duration": 315,
    "start_time": "2022-08-24T06:44:38.309Z"
   },
   {
    "duration": 5,
    "start_time": "2022-08-24T06:44:38.626Z"
   },
   {
    "duration": 7,
    "start_time": "2022-08-24T06:44:38.633Z"
   },
   {
    "duration": 42,
    "start_time": "2022-08-24T06:44:38.642Z"
   },
   {
    "duration": 357,
    "start_time": "2022-08-24T06:44:38.686Z"
   },
   {
    "duration": 324,
    "start_time": "2022-08-24T06:44:39.045Z"
   },
   {
    "duration": 194,
    "start_time": "2022-08-24T06:44:39.371Z"
   },
   {
    "duration": 190,
    "start_time": "2022-08-24T06:44:39.568Z"
   },
   {
    "duration": 97,
    "start_time": "2022-08-24T06:44:39.760Z"
   },
   {
    "duration": 306,
    "start_time": "2022-08-24T06:44:39.868Z"
   },
   {
    "duration": 9,
    "start_time": "2022-08-24T06:44:40.176Z"
   },
   {
    "duration": 43,
    "start_time": "2022-08-24T06:44:40.187Z"
   },
   {
    "duration": 16,
    "start_time": "2022-08-24T06:44:40.232Z"
   },
   {
    "duration": 44,
    "start_time": "2022-08-24T06:44:40.250Z"
   },
   {
    "duration": 27,
    "start_time": "2022-08-24T06:44:40.296Z"
   },
   {
    "duration": 150,
    "start_time": "2022-08-24T06:44:40.325Z"
   },
   {
    "duration": 406,
    "start_time": "2022-08-24T06:44:40.477Z"
   },
   {
    "duration": 8,
    "start_time": "2022-08-24T06:44:40.885Z"
   },
   {
    "duration": 9,
    "start_time": "2022-08-24T06:44:40.895Z"
   },
   {
    "duration": 9,
    "start_time": "2022-08-24T06:44:40.906Z"
   },
   {
    "duration": 63,
    "start_time": "2022-08-24T06:44:40.917Z"
   },
   {
    "duration": 162,
    "start_time": "2022-08-24T06:44:40.982Z"
   },
   {
    "duration": 6,
    "start_time": "2022-08-24T06:44:41.147Z"
   },
   {
    "duration": 43,
    "start_time": "2022-08-24T06:44:41.155Z"
   },
   {
    "duration": 182,
    "start_time": "2022-08-24T06:44:41.201Z"
   },
   {
    "duration": 27,
    "start_time": "2022-08-24T06:44:41.385Z"
   },
   {
    "duration": 171,
    "start_time": "2022-08-24T06:44:41.413Z"
   },
   {
    "duration": 220,
    "start_time": "2022-08-24T06:44:41.587Z"
   },
   {
    "duration": 8,
    "start_time": "2022-08-24T06:44:41.810Z"
   },
   {
    "duration": 57,
    "start_time": "2022-08-24T06:44:41.820Z"
   },
   {
    "duration": 10,
    "start_time": "2022-08-24T06:44:41.878Z"
   },
   {
    "duration": 174,
    "start_time": "2022-08-24T06:44:41.890Z"
   },
   {
    "duration": 37,
    "start_time": "2022-08-24T06:44:42.068Z"
   },
   {
    "duration": 14,
    "start_time": "2022-08-24T06:44:42.108Z"
   },
   {
    "duration": 200,
    "start_time": "2022-08-24T06:44:42.125Z"
   },
   {
    "duration": 42,
    "start_time": "2022-08-24T06:44:42.328Z"
   },
   {
    "duration": 223,
    "start_time": "2022-08-24T06:44:42.372Z"
   },
   {
    "duration": 20,
    "start_time": "2022-08-24T06:44:42.596Z"
   },
   {
    "duration": 8,
    "start_time": "2022-08-24T06:44:42.617Z"
   },
   {
    "duration": 13,
    "start_time": "2022-08-24T06:44:42.628Z"
   },
   {
    "duration": 32,
    "start_time": "2022-08-24T06:44:42.643Z"
   },
   {
    "duration": 187,
    "start_time": "2022-08-24T06:44:42.677Z"
   },
   {
    "duration": 10,
    "start_time": "2022-08-24T06:44:42.866Z"
   },
   {
    "duration": 36,
    "start_time": "2022-08-24T06:44:42.877Z"
   },
   {
    "duration": 99,
    "start_time": "2022-08-24T06:44:42.915Z"
   },
   {
    "duration": 0,
    "start_time": "2022-08-24T06:44:43.016Z"
   },
   {
    "duration": 23,
    "start_time": "2022-08-24T06:45:00.605Z"
   },
   {
    "duration": 2112,
    "start_time": "2022-08-24T06:45:06.151Z"
   },
   {
    "duration": 1429,
    "start_time": "2022-08-24T06:45:12.524Z"
   },
   {
    "duration": 9,
    "start_time": "2022-08-24T06:45:24.236Z"
   },
   {
    "duration": 8,
    "start_time": "2022-08-24T06:45:27.885Z"
   },
   {
    "duration": 36,
    "start_time": "2022-08-24T06:45:28.832Z"
   },
   {
    "duration": 23,
    "start_time": "2022-08-24T06:45:31.119Z"
   },
   {
    "duration": 1491,
    "start_time": "2022-08-24T06:45:31.704Z"
   },
   {
    "duration": 1528,
    "start_time": "2022-08-24T06:46:45.219Z"
   },
   {
    "duration": 14,
    "start_time": "2022-08-24T06:47:01.029Z"
   },
   {
    "duration": 1172,
    "start_time": "2022-08-24T06:47:32.249Z"
   },
   {
    "duration": 9,
    "start_time": "2022-08-24T06:47:36.156Z"
   },
   {
    "duration": 5,
    "start_time": "2022-08-24T06:47:37.128Z"
   },
   {
    "duration": 23,
    "start_time": "2022-08-24T06:48:01.004Z"
   },
   {
    "duration": 1220,
    "start_time": "2022-08-24T06:48:01.831Z"
   },
   {
    "duration": 13,
    "start_time": "2022-08-24T07:04:52.923Z"
   },
   {
    "duration": 10,
    "start_time": "2022-08-24T07:05:27.775Z"
   },
   {
    "duration": 11,
    "start_time": "2022-08-24T07:06:18.472Z"
   },
   {
    "duration": 8,
    "start_time": "2022-08-24T07:06:22.593Z"
   },
   {
    "duration": 27,
    "start_time": "2022-08-24T07:06:23.477Z"
   },
   {
    "duration": 1354,
    "start_time": "2022-08-24T07:06:28.116Z"
   },
   {
    "duration": 16,
    "start_time": "2022-08-24T07:06:52.730Z"
   },
   {
    "duration": 10,
    "start_time": "2022-08-24T07:07:24.183Z"
   },
   {
    "duration": 8,
    "start_time": "2022-08-24T07:07:27.339Z"
   },
   {
    "duration": 14,
    "start_time": "2022-08-24T07:07:28.049Z"
   },
   {
    "duration": 20,
    "start_time": "2022-08-24T07:08:01.106Z"
   },
   {
    "duration": 1383,
    "start_time": "2022-08-24T07:08:07.466Z"
   },
   {
    "duration": 8,
    "start_time": "2022-08-24T07:08:57.556Z"
   },
   {
    "duration": 22,
    "start_time": "2022-08-24T07:08:58.352Z"
   },
   {
    "duration": 1542,
    "start_time": "2022-08-24T07:08:58.781Z"
   },
   {
    "duration": 188,
    "start_time": "2022-08-24T07:10:38.895Z"
   },
   {
    "duration": 33,
    "start_time": "2022-08-24T07:11:27.793Z"
   },
   {
    "duration": 156,
    "start_time": "2022-08-24T07:11:30.913Z"
   },
   {
    "duration": 30,
    "start_time": "2022-08-24T07:57:05.567Z"
   },
   {
    "duration": 333,
    "start_time": "2022-08-24T09:58:39.045Z"
   },
   {
    "duration": 36,
    "start_time": "2022-08-24T09:58:54.476Z"
   },
   {
    "duration": 755,
    "start_time": "2022-08-24T09:59:22.183Z"
   },
   {
    "duration": 146,
    "start_time": "2022-08-24T09:59:22.941Z"
   },
   {
    "duration": 48,
    "start_time": "2022-08-24T09:59:23.090Z"
   },
   {
    "duration": 38,
    "start_time": "2022-08-24T09:59:23.141Z"
   },
   {
    "duration": 107,
    "start_time": "2022-08-24T09:59:23.181Z"
   },
   {
    "duration": 50,
    "start_time": "2022-08-24T09:59:23.290Z"
   },
   {
    "duration": 61,
    "start_time": "2022-08-24T09:59:23.342Z"
   },
   {
    "duration": 8,
    "start_time": "2022-08-24T09:59:23.405Z"
   },
   {
    "duration": 8,
    "start_time": "2022-08-24T09:59:23.415Z"
   },
   {
    "duration": 61,
    "start_time": "2022-08-24T09:59:23.428Z"
   },
   {
    "duration": 5,
    "start_time": "2022-08-24T09:59:23.492Z"
   },
   {
    "duration": 29,
    "start_time": "2022-08-24T09:59:23.500Z"
   },
   {
    "duration": 12,
    "start_time": "2022-08-24T09:59:23.531Z"
   },
   {
    "duration": 18,
    "start_time": "2022-08-24T09:59:23.545Z"
   },
   {
    "duration": 41,
    "start_time": "2022-08-24T09:59:23.564Z"
   },
   {
    "duration": 11,
    "start_time": "2022-08-24T09:59:23.607Z"
   },
   {
    "duration": 9,
    "start_time": "2022-08-24T09:59:23.620Z"
   },
   {
    "duration": 6,
    "start_time": "2022-08-24T09:59:23.631Z"
   },
   {
    "duration": 15,
    "start_time": "2022-08-24T09:59:23.638Z"
   },
   {
    "duration": 10,
    "start_time": "2022-08-24T09:59:23.655Z"
   },
   {
    "duration": 9,
    "start_time": "2022-08-24T09:59:23.667Z"
   },
   {
    "duration": 18,
    "start_time": "2022-08-24T09:59:23.680Z"
   },
   {
    "duration": 204,
    "start_time": "2022-08-24T09:59:23.700Z"
   },
   {
    "duration": 7,
    "start_time": "2022-08-24T09:59:23.906Z"
   },
   {
    "duration": 9,
    "start_time": "2022-08-24T09:59:23.915Z"
   },
   {
    "duration": 8,
    "start_time": "2022-08-24T09:59:23.926Z"
   },
   {
    "duration": 10,
    "start_time": "2022-08-24T09:59:23.936Z"
   },
   {
    "duration": 12,
    "start_time": "2022-08-24T09:59:23.969Z"
   },
   {
    "duration": 11,
    "start_time": "2022-08-24T09:59:23.983Z"
   },
   {
    "duration": 5,
    "start_time": "2022-08-24T09:59:23.996Z"
   },
   {
    "duration": 397,
    "start_time": "2022-08-24T09:59:24.003Z"
   },
   {
    "duration": 5,
    "start_time": "2022-08-24T09:59:24.402Z"
   },
   {
    "duration": 10,
    "start_time": "2022-08-24T09:59:24.409Z"
   },
   {
    "duration": 65,
    "start_time": "2022-08-24T09:59:24.421Z"
   },
   {
    "duration": 454,
    "start_time": "2022-08-24T09:59:24.489Z"
   },
   {
    "duration": 377,
    "start_time": "2022-08-24T09:59:24.945Z"
   },
   {
    "duration": 239,
    "start_time": "2022-08-24T09:59:25.325Z"
   },
   {
    "duration": 247,
    "start_time": "2022-08-24T09:59:25.568Z"
   },
   {
    "duration": 134,
    "start_time": "2022-08-24T09:59:25.818Z"
   },
   {
    "duration": 339,
    "start_time": "2022-08-24T09:59:25.954Z"
   },
   {
    "duration": 11,
    "start_time": "2022-08-24T09:59:26.295Z"
   },
   {
    "duration": 17,
    "start_time": "2022-08-24T09:59:26.308Z"
   },
   {
    "duration": 13,
    "start_time": "2022-08-24T09:59:26.327Z"
   },
   {
    "duration": 43,
    "start_time": "2022-08-24T09:59:26.342Z"
   },
   {
    "duration": 12,
    "start_time": "2022-08-24T09:59:26.387Z"
   },
   {
    "duration": 135,
    "start_time": "2022-08-24T09:59:26.401Z"
   },
   {
    "duration": 514,
    "start_time": "2022-08-24T09:59:26.538Z"
   },
   {
    "duration": 24,
    "start_time": "2022-08-24T09:59:27.054Z"
   },
   {
    "duration": 13,
    "start_time": "2022-08-24T09:59:27.080Z"
   },
   {
    "duration": 9,
    "start_time": "2022-08-24T09:59:27.095Z"
   },
   {
    "duration": 41,
    "start_time": "2022-08-24T09:59:27.105Z"
   },
   {
    "duration": 182,
    "start_time": "2022-08-24T09:59:27.147Z"
   },
   {
    "duration": 7,
    "start_time": "2022-08-24T09:59:27.332Z"
   },
   {
    "duration": 61,
    "start_time": "2022-08-24T09:59:27.341Z"
   },
   {
    "duration": 200,
    "start_time": "2022-08-24T09:59:27.404Z"
   },
   {
    "duration": 28,
    "start_time": "2022-08-24T09:59:27.606Z"
   },
   {
    "duration": 181,
    "start_time": "2022-08-24T09:59:27.636Z"
   },
   {
    "duration": 242,
    "start_time": "2022-08-24T09:59:27.819Z"
   },
   {
    "duration": 18,
    "start_time": "2022-08-24T09:59:28.063Z"
   },
   {
    "duration": 29,
    "start_time": "2022-08-24T09:59:28.083Z"
   },
   {
    "duration": 11,
    "start_time": "2022-08-24T09:59:28.113Z"
   },
   {
    "duration": 181,
    "start_time": "2022-08-24T09:59:28.125Z"
   },
   {
    "duration": 23,
    "start_time": "2022-08-24T09:59:28.308Z"
   },
   {
    "duration": 10,
    "start_time": "2022-08-24T09:59:28.333Z"
   },
   {
    "duration": 203,
    "start_time": "2022-08-24T09:59:28.344Z"
   },
   {
    "duration": 42,
    "start_time": "2022-08-24T09:59:28.549Z"
   },
   {
    "duration": 189,
    "start_time": "2022-08-24T09:59:28.593Z"
   },
   {
    "duration": 23,
    "start_time": "2022-08-24T09:59:28.783Z"
   },
   {
    "duration": 9,
    "start_time": "2022-08-24T09:59:28.808Z"
   },
   {
    "duration": 10,
    "start_time": "2022-08-24T09:59:28.819Z"
   },
   {
    "duration": 46,
    "start_time": "2022-08-24T09:59:28.831Z"
   },
   {
    "duration": 195,
    "start_time": "2022-08-24T09:59:28.881Z"
   },
   {
    "duration": 15,
    "start_time": "2022-08-24T09:59:29.078Z"
   },
   {
    "duration": 34,
    "start_time": "2022-08-24T09:59:29.095Z"
   },
   {
    "duration": 188,
    "start_time": "2022-08-24T09:59:29.131Z"
   },
   {
    "duration": 129,
    "start_time": "2022-08-24T09:59:29.321Z"
   },
   {
    "duration": 3,
    "start_time": "2022-08-24T11:29:27.057Z"
   },
   {
    "duration": 109,
    "start_time": "2022-08-24T11:29:27.062Z"
   },
   {
    "duration": 34,
    "start_time": "2022-08-24T11:29:27.173Z"
   },
   {
    "duration": 16,
    "start_time": "2022-08-24T11:29:27.209Z"
   },
   {
    "duration": 96,
    "start_time": "2022-08-24T11:29:27.227Z"
   },
   {
    "duration": 45,
    "start_time": "2022-08-24T11:29:27.324Z"
   },
   {
    "duration": 35,
    "start_time": "2022-08-24T11:29:27.370Z"
   },
   {
    "duration": 8,
    "start_time": "2022-08-24T11:29:27.406Z"
   },
   {
    "duration": 8,
    "start_time": "2022-08-24T11:29:27.415Z"
   },
   {
    "duration": 51,
    "start_time": "2022-08-24T11:29:27.426Z"
   },
   {
    "duration": 5,
    "start_time": "2022-08-24T11:29:27.479Z"
   },
   {
    "duration": 10,
    "start_time": "2022-08-24T11:29:27.486Z"
   },
   {
    "duration": 8,
    "start_time": "2022-08-24T11:29:27.498Z"
   },
   {
    "duration": 8,
    "start_time": "2022-08-24T11:29:27.508Z"
   },
   {
    "duration": 8,
    "start_time": "2022-08-24T11:29:27.518Z"
   },
   {
    "duration": 8,
    "start_time": "2022-08-24T11:29:27.527Z"
   },
   {
    "duration": 35,
    "start_time": "2022-08-24T11:29:27.537Z"
   },
   {
    "duration": 11,
    "start_time": "2022-08-24T11:29:27.574Z"
   },
   {
    "duration": 7,
    "start_time": "2022-08-24T11:29:27.586Z"
   },
   {
    "duration": 10,
    "start_time": "2022-08-24T11:29:27.595Z"
   },
   {
    "duration": 4,
    "start_time": "2022-08-24T11:29:27.607Z"
   },
   {
    "duration": 5,
    "start_time": "2022-08-24T11:29:27.613Z"
   },
   {
    "duration": 194,
    "start_time": "2022-08-24T11:29:27.620Z"
   },
   {
    "duration": 6,
    "start_time": "2022-08-24T11:29:27.815Z"
   },
   {
    "duration": 17,
    "start_time": "2022-08-24T11:29:27.822Z"
   },
   {
    "duration": 23,
    "start_time": "2022-08-24T11:29:27.840Z"
   },
   {
    "duration": 21,
    "start_time": "2022-08-24T11:29:27.865Z"
   },
   {
    "duration": 21,
    "start_time": "2022-08-24T11:29:27.891Z"
   },
   {
    "duration": 18,
    "start_time": "2022-08-24T11:29:27.914Z"
   },
   {
    "duration": 23,
    "start_time": "2022-08-24T11:29:27.934Z"
   },
   {
    "duration": 393,
    "start_time": "2022-08-24T11:29:27.959Z"
   },
   {
    "duration": 5,
    "start_time": "2022-08-24T11:29:28.354Z"
   },
   {
    "duration": 23,
    "start_time": "2022-08-24T11:29:28.360Z"
   },
   {
    "duration": 36,
    "start_time": "2022-08-24T11:29:28.385Z"
   },
   {
    "duration": 296,
    "start_time": "2022-08-24T11:29:28.423Z"
   },
   {
    "duration": 319,
    "start_time": "2022-08-24T11:29:28.721Z"
   },
   {
    "duration": 176,
    "start_time": "2022-08-24T11:29:29.041Z"
   },
   {
    "duration": 167,
    "start_time": "2022-08-24T11:29:29.218Z"
   },
   {
    "duration": 92,
    "start_time": "2022-08-24T11:29:29.387Z"
   },
   {
    "duration": 393,
    "start_time": "2022-08-24T11:29:29.481Z"
   },
   {
    "duration": 9,
    "start_time": "2022-08-24T11:29:29.875Z"
   },
   {
    "duration": 14,
    "start_time": "2022-08-24T11:29:29.888Z"
   },
   {
    "duration": 15,
    "start_time": "2022-08-24T11:29:29.903Z"
   },
   {
    "duration": 18,
    "start_time": "2022-08-24T11:29:29.919Z"
   },
   {
    "duration": 21,
    "start_time": "2022-08-24T11:29:29.938Z"
   },
   {
    "duration": 104,
    "start_time": "2022-08-24T11:29:29.961Z"
   },
   {
    "duration": 331,
    "start_time": "2022-08-24T11:29:30.067Z"
   },
   {
    "duration": 7,
    "start_time": "2022-08-24T11:29:30.399Z"
   },
   {
    "duration": 26,
    "start_time": "2022-08-24T11:29:30.408Z"
   },
   {
    "duration": 49,
    "start_time": "2022-08-24T11:29:30.435Z"
   },
   {
    "duration": 49,
    "start_time": "2022-08-24T11:29:30.486Z"
   },
   {
    "duration": 158,
    "start_time": "2022-08-24T11:29:30.537Z"
   },
   {
    "duration": 5,
    "start_time": "2022-08-24T11:29:30.697Z"
   },
   {
    "duration": 41,
    "start_time": "2022-08-24T11:29:30.704Z"
   },
   {
    "duration": 177,
    "start_time": "2022-08-24T11:29:30.747Z"
   },
   {
    "duration": 27,
    "start_time": "2022-08-24T11:29:30.926Z"
   },
   {
    "duration": 164,
    "start_time": "2022-08-24T11:29:30.955Z"
   },
   {
    "duration": 232,
    "start_time": "2022-08-24T11:29:31.120Z"
   },
   {
    "duration": 13,
    "start_time": "2022-08-24T11:29:31.354Z"
   },
   {
    "duration": 23,
    "start_time": "2022-08-24T11:29:31.370Z"
   },
   {
    "duration": 11,
    "start_time": "2022-08-24T11:29:31.395Z"
   },
   {
    "duration": 188,
    "start_time": "2022-08-24T11:29:31.408Z"
   },
   {
    "duration": 23,
    "start_time": "2022-08-24T11:29:31.599Z"
   },
   {
    "duration": 11,
    "start_time": "2022-08-24T11:29:31.624Z"
   },
   {
    "duration": 183,
    "start_time": "2022-08-24T11:29:31.637Z"
   },
   {
    "duration": 31,
    "start_time": "2022-08-24T11:29:31.821Z"
   },
   {
    "duration": 180,
    "start_time": "2022-08-24T11:29:31.854Z"
   },
   {
    "duration": 32,
    "start_time": "2022-08-24T11:29:32.036Z"
   },
   {
    "duration": 34,
    "start_time": "2022-08-24T11:29:32.070Z"
   },
   {
    "duration": 38,
    "start_time": "2022-08-24T11:29:32.106Z"
   },
   {
    "duration": 53,
    "start_time": "2022-08-24T11:29:32.146Z"
   },
   {
    "duration": 197,
    "start_time": "2022-08-24T11:29:32.202Z"
   },
   {
    "duration": 11,
    "start_time": "2022-08-24T11:29:32.400Z"
   },
   {
    "duration": 48,
    "start_time": "2022-08-24T11:29:32.413Z"
   },
   {
    "duration": 180,
    "start_time": "2022-08-24T11:29:32.467Z"
   },
   {
    "duration": 31,
    "start_time": "2022-08-24T11:29:32.649Z"
   },
   {
    "duration": 33,
    "start_time": "2022-08-24T11:30:05.949Z"
   },
   {
    "duration": 159,
    "start_time": "2022-08-24T11:30:30.308Z"
   },
   {
    "duration": 28,
    "start_time": "2022-08-24T11:30:54.625Z"
   },
   {
    "duration": 11,
    "start_time": "2022-08-24T12:09:26.894Z"
   },
   {
    "duration": 41,
    "start_time": "2022-08-24T12:09:32.308Z"
   },
   {
    "duration": 136,
    "start_time": "2022-08-24T12:09:39.782Z"
   },
   {
    "duration": 170,
    "start_time": "2022-08-24T12:18:41.152Z"
   },
   {
    "duration": 17,
    "start_time": "2022-08-24T13:05:52.733Z"
   },
   {
    "duration": 279,
    "start_time": "2022-08-24T13:06:03.273Z"
   },
   {
    "duration": 20,
    "start_time": "2022-08-24T13:30:09.452Z"
   },
   {
    "duration": 187,
    "start_time": "2022-08-24T13:30:21.374Z"
   },
   {
    "duration": 17,
    "start_time": "2022-08-24T13:34:25.430Z"
   },
   {
    "duration": 170,
    "start_time": "2022-08-24T13:34:59.576Z"
   },
   {
    "duration": 643,
    "start_time": "2022-08-24T18:11:57.665Z"
   },
   {
    "duration": 105,
    "start_time": "2022-08-24T18:11:58.310Z"
   },
   {
    "duration": 48,
    "start_time": "2022-08-24T18:11:58.418Z"
   },
   {
    "duration": 16,
    "start_time": "2022-08-24T18:11:58.502Z"
   },
   {
    "duration": 91,
    "start_time": "2022-08-24T18:11:58.520Z"
   },
   {
    "duration": 38,
    "start_time": "2022-08-24T18:11:58.613Z"
   },
   {
    "duration": 56,
    "start_time": "2022-08-24T18:11:58.652Z"
   },
   {
    "duration": 8,
    "start_time": "2022-08-24T18:11:58.709Z"
   },
   {
    "duration": 5,
    "start_time": "2022-08-24T18:11:58.718Z"
   },
   {
    "duration": 42,
    "start_time": "2022-08-24T18:11:58.727Z"
   },
   {
    "duration": 6,
    "start_time": "2022-08-24T18:11:58.771Z"
   },
   {
    "duration": 31,
    "start_time": "2022-08-24T18:11:58.778Z"
   },
   {
    "duration": 9,
    "start_time": "2022-08-24T18:11:58.811Z"
   },
   {
    "duration": 16,
    "start_time": "2022-08-24T18:11:58.821Z"
   },
   {
    "duration": 5,
    "start_time": "2022-08-24T18:11:58.839Z"
   },
   {
    "duration": 28,
    "start_time": "2022-08-24T18:11:58.846Z"
   },
   {
    "duration": 16,
    "start_time": "2022-08-24T18:11:58.876Z"
   },
   {
    "duration": 29,
    "start_time": "2022-08-24T18:11:58.894Z"
   },
   {
    "duration": 20,
    "start_time": "2022-08-24T18:11:58.926Z"
   },
   {
    "duration": 16,
    "start_time": "2022-08-24T18:11:58.948Z"
   },
   {
    "duration": 16,
    "start_time": "2022-08-24T18:11:58.966Z"
   },
   {
    "duration": 18,
    "start_time": "2022-08-24T18:11:58.985Z"
   },
   {
    "duration": 243,
    "start_time": "2022-08-24T18:11:59.005Z"
   },
   {
    "duration": 6,
    "start_time": "2022-08-24T18:11:59.250Z"
   },
   {
    "duration": 8,
    "start_time": "2022-08-24T18:11:59.257Z"
   },
   {
    "duration": 9,
    "start_time": "2022-08-24T18:11:59.267Z"
   },
   {
    "duration": 26,
    "start_time": "2022-08-24T18:11:59.278Z"
   },
   {
    "duration": 7,
    "start_time": "2022-08-24T18:11:59.308Z"
   },
   {
    "duration": 16,
    "start_time": "2022-08-24T18:11:59.316Z"
   },
   {
    "duration": 10,
    "start_time": "2022-08-24T18:11:59.334Z"
   },
   {
    "duration": 312,
    "start_time": "2022-08-24T18:11:59.346Z"
   },
   {
    "duration": 4,
    "start_time": "2022-08-24T18:11:59.660Z"
   },
   {
    "duration": 9,
    "start_time": "2022-08-24T18:11:59.666Z"
   },
   {
    "duration": 39,
    "start_time": "2022-08-24T18:11:59.677Z"
   },
   {
    "duration": 362,
    "start_time": "2022-08-24T18:11:59.718Z"
   },
   {
    "duration": 313,
    "start_time": "2022-08-24T18:12:00.082Z"
   },
   {
    "duration": 192,
    "start_time": "2022-08-24T18:12:00.397Z"
   },
   {
    "duration": 222,
    "start_time": "2022-08-24T18:12:00.590Z"
   },
   {
    "duration": 291,
    "start_time": "2022-08-24T18:12:00.815Z"
   },
   {
    "duration": 635,
    "start_time": "2022-08-24T18:12:01.108Z"
   },
   {
    "duration": 65,
    "start_time": "2022-08-24T18:12:01.745Z"
   },
   {
    "duration": 46,
    "start_time": "2022-08-24T18:12:01.812Z"
   },
   {
    "duration": 44,
    "start_time": "2022-08-24T18:12:01.860Z"
   },
   {
    "duration": 10,
    "start_time": "2022-08-24T18:12:01.906Z"
   },
   {
    "duration": 21,
    "start_time": "2022-08-24T18:12:01.918Z"
   },
   {
    "duration": 195,
    "start_time": "2022-08-24T18:12:01.941Z"
   },
   {
    "duration": 799,
    "start_time": "2022-08-24T18:12:02.138Z"
   },
   {
    "duration": 6,
    "start_time": "2022-08-24T18:12:02.939Z"
   },
   {
    "duration": 5,
    "start_time": "2022-08-24T18:12:02.947Z"
   },
   {
    "duration": 9,
    "start_time": "2022-08-24T18:12:02.953Z"
   },
   {
    "duration": 65,
    "start_time": "2022-08-24T18:12:02.965Z"
   },
   {
    "duration": 307,
    "start_time": "2022-08-24T18:12:03.032Z"
   },
   {
    "duration": 5,
    "start_time": "2022-08-24T18:12:03.341Z"
   },
   {
    "duration": 90,
    "start_time": "2022-08-24T18:12:03.348Z"
   },
   {
    "duration": 364,
    "start_time": "2022-08-24T18:12:03.439Z"
   },
   {
    "duration": 38,
    "start_time": "2022-08-24T18:12:03.805Z"
   },
   {
    "duration": 297,
    "start_time": "2022-08-24T18:12:03.846Z"
   },
   {
    "duration": 476,
    "start_time": "2022-08-24T18:12:04.145Z"
   },
   {
    "duration": 6,
    "start_time": "2022-08-24T18:12:04.622Z"
   },
   {
    "duration": 90,
    "start_time": "2022-08-24T18:12:04.630Z"
   },
   {
    "duration": 14,
    "start_time": "2022-08-24T18:12:04.722Z"
   },
   {
    "duration": 382,
    "start_time": "2022-08-24T18:12:04.738Z"
   },
   {
    "duration": 24,
    "start_time": "2022-08-24T18:12:05.123Z"
   },
   {
    "duration": 23,
    "start_time": "2022-08-24T18:12:05.149Z"
   },
   {
    "duration": 176,
    "start_time": "2022-08-24T18:12:05.174Z"
   },
   {
    "duration": 31,
    "start_time": "2022-08-24T18:12:05.351Z"
   },
   {
    "duration": 209,
    "start_time": "2022-08-24T18:12:05.384Z"
   },
   {
    "duration": 24,
    "start_time": "2022-08-24T18:12:05.595Z"
   },
   {
    "duration": 14,
    "start_time": "2022-08-24T18:12:05.620Z"
   },
   {
    "duration": 13,
    "start_time": "2022-08-24T18:12:05.636Z"
   },
   {
    "duration": 14,
    "start_time": "2022-08-24T18:12:05.651Z"
   },
   {
    "duration": 182,
    "start_time": "2022-08-24T18:12:05.666Z"
   },
   {
    "duration": 10,
    "start_time": "2022-08-24T18:12:05.850Z"
   },
   {
    "duration": 50,
    "start_time": "2022-08-24T18:12:05.861Z"
   },
   {
    "duration": 34,
    "start_time": "2022-08-24T18:12:05.913Z"
   },
   {
    "duration": 279,
    "start_time": "2022-08-24T18:12:05.949Z"
   },
   {
    "duration": 201,
    "start_time": "2022-08-24T18:12:06.229Z"
   },
   {
    "duration": 0,
    "start_time": "2022-08-24T18:12:06.432Z"
   },
   {
    "duration": 0,
    "start_time": "2022-08-24T18:12:06.433Z"
   },
   {
    "duration": 0,
    "start_time": "2022-08-24T18:12:06.434Z"
   },
   {
    "duration": 0,
    "start_time": "2022-08-24T18:12:06.435Z"
   },
   {
    "duration": 10,
    "start_time": "2022-08-24T18:19:15.389Z"
   },
   {
    "duration": 1617,
    "start_time": "2022-08-24T18:25:55.953Z"
   },
   {
    "duration": 0,
    "start_time": "2022-08-24T18:25:57.573Z"
   },
   {
    "duration": 0,
    "start_time": "2022-08-24T18:25:57.575Z"
   },
   {
    "duration": 0,
    "start_time": "2022-08-24T18:25:57.576Z"
   },
   {
    "duration": 16,
    "start_time": "2022-08-24T18:26:39.483Z"
   },
   {
    "duration": 17,
    "start_time": "2022-08-24T18:26:42.068Z"
   },
   {
    "duration": 13,
    "start_time": "2022-08-24T18:26:43.916Z"
   },
   {
    "duration": 696,
    "start_time": "2022-08-24T18:28:39.480Z"
   },
   {
    "duration": 107,
    "start_time": "2022-08-24T18:28:40.178Z"
   },
   {
    "duration": 51,
    "start_time": "2022-08-24T18:28:40.290Z"
   },
   {
    "duration": 19,
    "start_time": "2022-08-24T18:28:40.343Z"
   },
   {
    "duration": 108,
    "start_time": "2022-08-24T18:28:40.364Z"
   },
   {
    "duration": 47,
    "start_time": "2022-08-24T18:28:40.474Z"
   },
   {
    "duration": 36,
    "start_time": "2022-08-24T18:28:40.523Z"
   },
   {
    "duration": 7,
    "start_time": "2022-08-24T18:28:40.561Z"
   },
   {
    "duration": 32,
    "start_time": "2022-08-24T18:28:40.572Z"
   },
   {
    "duration": 28,
    "start_time": "2022-08-24T18:28:40.606Z"
   },
   {
    "duration": 5,
    "start_time": "2022-08-24T18:28:40.636Z"
   },
   {
    "duration": 15,
    "start_time": "2022-08-24T18:28:40.643Z"
   },
   {
    "duration": 8,
    "start_time": "2022-08-24T18:28:40.660Z"
   },
   {
    "duration": 9,
    "start_time": "2022-08-24T18:28:40.669Z"
   },
   {
    "duration": 5,
    "start_time": "2022-08-24T18:28:40.702Z"
   },
   {
    "duration": 10,
    "start_time": "2022-08-24T18:28:40.709Z"
   },
   {
    "duration": 7,
    "start_time": "2022-08-24T18:28:40.721Z"
   },
   {
    "duration": 8,
    "start_time": "2022-08-24T18:28:40.729Z"
   },
   {
    "duration": 8,
    "start_time": "2022-08-24T18:28:40.739Z"
   },
   {
    "duration": 18,
    "start_time": "2022-08-24T18:28:40.749Z"
   },
   {
    "duration": 35,
    "start_time": "2022-08-24T18:28:40.769Z"
   },
   {
    "duration": 5,
    "start_time": "2022-08-24T18:28:40.806Z"
   },
   {
    "duration": 197,
    "start_time": "2022-08-24T18:28:40.813Z"
   },
   {
    "duration": 6,
    "start_time": "2022-08-24T18:28:41.012Z"
   },
   {
    "duration": 13,
    "start_time": "2022-08-24T18:28:41.020Z"
   },
   {
    "duration": 9,
    "start_time": "2022-08-24T18:28:41.035Z"
   },
   {
    "duration": 10,
    "start_time": "2022-08-24T18:28:41.048Z"
   },
   {
    "duration": 6,
    "start_time": "2022-08-24T18:28:41.059Z"
   },
   {
    "duration": 9,
    "start_time": "2022-08-24T18:28:41.066Z"
   },
   {
    "duration": 4,
    "start_time": "2022-08-24T18:28:41.076Z"
   },
   {
    "duration": 320,
    "start_time": "2022-08-24T18:28:41.102Z"
   },
   {
    "duration": 4,
    "start_time": "2022-08-24T18:28:41.424Z"
   },
   {
    "duration": 9,
    "start_time": "2022-08-24T18:28:41.430Z"
   },
   {
    "duration": 31,
    "start_time": "2022-08-24T18:28:41.440Z"
   },
   {
    "duration": 379,
    "start_time": "2022-08-24T18:28:41.472Z"
   },
   {
    "duration": 326,
    "start_time": "2022-08-24T18:28:41.853Z"
   },
   {
    "duration": 180,
    "start_time": "2022-08-24T18:28:42.182Z"
   },
   {
    "duration": 206,
    "start_time": "2022-08-24T18:28:42.363Z"
   },
   {
    "duration": 114,
    "start_time": "2022-08-24T18:28:42.570Z"
   },
   {
    "duration": 336,
    "start_time": "2022-08-24T18:28:42.687Z"
   },
   {
    "duration": 11,
    "start_time": "2022-08-24T18:28:43.026Z"
   },
   {
    "duration": 12,
    "start_time": "2022-08-24T18:28:43.040Z"
   },
   {
    "duration": 9,
    "start_time": "2022-08-24T18:28:43.053Z"
   },
   {
    "duration": 44,
    "start_time": "2022-08-24T18:28:43.063Z"
   },
   {
    "duration": 11,
    "start_time": "2022-08-24T18:28:43.109Z"
   },
   {
    "duration": 107,
    "start_time": "2022-08-24T18:28:43.121Z"
   },
   {
    "duration": 427,
    "start_time": "2022-08-24T18:28:43.230Z"
   },
   {
    "duration": 7,
    "start_time": "2022-08-24T18:28:43.659Z"
   },
   {
    "duration": 7,
    "start_time": "2022-08-24T18:28:43.668Z"
   },
   {
    "duration": 28,
    "start_time": "2022-08-24T18:28:43.676Z"
   },
   {
    "duration": 37,
    "start_time": "2022-08-24T18:28:43.706Z"
   },
   {
    "duration": 175,
    "start_time": "2022-08-24T18:28:43.745Z"
   },
   {
    "duration": 6,
    "start_time": "2022-08-24T18:28:43.922Z"
   },
   {
    "duration": 30,
    "start_time": "2022-08-24T18:28:43.930Z"
   },
   {
    "duration": 187,
    "start_time": "2022-08-24T18:28:43.962Z"
   },
   {
    "duration": 26,
    "start_time": "2022-08-24T18:28:44.151Z"
   },
   {
    "duration": 169,
    "start_time": "2022-08-24T18:28:44.178Z"
   },
   {
    "duration": 234,
    "start_time": "2022-08-24T18:28:44.349Z"
   },
   {
    "duration": 6,
    "start_time": "2022-08-24T18:28:44.585Z"
   },
   {
    "duration": 23,
    "start_time": "2022-08-24T18:28:44.603Z"
   },
   {
    "duration": 12,
    "start_time": "2022-08-24T18:28:44.628Z"
   },
   {
    "duration": 165,
    "start_time": "2022-08-24T18:28:44.642Z"
   },
   {
    "duration": 23,
    "start_time": "2022-08-24T18:28:44.809Z"
   },
   {
    "duration": 9,
    "start_time": "2022-08-24T18:28:44.834Z"
   },
   {
    "duration": 180,
    "start_time": "2022-08-24T18:28:44.844Z"
   },
   {
    "duration": 29,
    "start_time": "2022-08-24T18:28:45.027Z"
   },
   {
    "duration": 184,
    "start_time": "2022-08-24T18:28:45.058Z"
   },
   {
    "duration": 20,
    "start_time": "2022-08-24T18:28:45.247Z"
   },
   {
    "duration": 7,
    "start_time": "2022-08-24T18:28:45.269Z"
   },
   {
    "duration": 29,
    "start_time": "2022-08-24T18:28:45.278Z"
   },
   {
    "duration": 19,
    "start_time": "2022-08-24T18:28:45.309Z"
   },
   {
    "duration": 189,
    "start_time": "2022-08-24T18:28:45.330Z"
   },
   {
    "duration": 9,
    "start_time": "2022-08-24T18:28:45.522Z"
   },
   {
    "duration": 34,
    "start_time": "2022-08-24T18:28:45.532Z"
   },
   {
    "duration": 52,
    "start_time": "2022-08-24T18:28:45.568Z"
   },
   {
    "duration": 179,
    "start_time": "2022-08-24T18:28:45.622Z"
   },
   {
    "duration": 111,
    "start_time": "2022-08-24T18:28:45.803Z"
   },
   {
    "duration": 0,
    "start_time": "2022-08-24T18:28:45.916Z"
   },
   {
    "duration": 0,
    "start_time": "2022-08-24T18:28:45.917Z"
   },
   {
    "duration": 0,
    "start_time": "2022-08-24T18:28:45.919Z"
   },
   {
    "duration": 0,
    "start_time": "2022-08-24T18:28:45.919Z"
   },
   {
    "duration": 30,
    "start_time": "2022-08-24T18:29:37.145Z"
   },
   {
    "duration": 663,
    "start_time": "2022-08-24T18:29:47.007Z"
   },
   {
    "duration": 95,
    "start_time": "2022-08-24T18:29:47.671Z"
   },
   {
    "duration": 51,
    "start_time": "2022-08-24T18:29:47.768Z"
   },
   {
    "duration": 15,
    "start_time": "2022-08-24T18:29:47.821Z"
   },
   {
    "duration": 89,
    "start_time": "2022-08-24T18:29:47.837Z"
   },
   {
    "duration": 37,
    "start_time": "2022-08-24T18:29:47.928Z"
   },
   {
    "duration": 51,
    "start_time": "2022-08-24T18:29:47.966Z"
   },
   {
    "duration": 7,
    "start_time": "2022-08-24T18:29:48.018Z"
   },
   {
    "duration": 8,
    "start_time": "2022-08-24T18:29:48.026Z"
   },
   {
    "duration": 28,
    "start_time": "2022-08-24T18:29:48.036Z"
   },
   {
    "duration": 4,
    "start_time": "2022-08-24T18:29:48.066Z"
   },
   {
    "duration": 35,
    "start_time": "2022-08-24T18:29:48.071Z"
   },
   {
    "duration": 9,
    "start_time": "2022-08-24T18:29:48.108Z"
   },
   {
    "duration": 10,
    "start_time": "2022-08-24T18:29:48.119Z"
   },
   {
    "duration": 5,
    "start_time": "2022-08-24T18:29:48.130Z"
   },
   {
    "duration": 7,
    "start_time": "2022-08-24T18:29:48.137Z"
   },
   {
    "duration": 6,
    "start_time": "2022-08-24T18:29:48.145Z"
   },
   {
    "duration": 4,
    "start_time": "2022-08-24T18:29:48.153Z"
   },
   {
    "duration": 5,
    "start_time": "2022-08-24T18:29:48.159Z"
   },
   {
    "duration": 11,
    "start_time": "2022-08-24T18:29:48.203Z"
   },
   {
    "duration": 5,
    "start_time": "2022-08-24T18:29:48.215Z"
   },
   {
    "duration": 8,
    "start_time": "2022-08-24T18:29:48.221Z"
   },
   {
    "duration": 208,
    "start_time": "2022-08-24T18:29:48.230Z"
   },
   {
    "duration": 7,
    "start_time": "2022-08-24T18:29:48.439Z"
   },
   {
    "duration": 11,
    "start_time": "2022-08-24T18:29:48.447Z"
   },
   {
    "duration": 7,
    "start_time": "2022-08-24T18:29:48.460Z"
   },
   {
    "duration": 7,
    "start_time": "2022-08-24T18:29:48.469Z"
   },
   {
    "duration": 7,
    "start_time": "2022-08-24T18:29:48.502Z"
   },
   {
    "duration": 9,
    "start_time": "2022-08-24T18:29:48.510Z"
   },
   {
    "duration": 4,
    "start_time": "2022-08-24T18:29:48.521Z"
   },
   {
    "duration": 311,
    "start_time": "2022-08-24T18:29:48.526Z"
   },
   {
    "duration": 4,
    "start_time": "2022-08-24T18:29:48.838Z"
   },
   {
    "duration": 17,
    "start_time": "2022-08-24T18:29:48.844Z"
   },
   {
    "duration": 49,
    "start_time": "2022-08-24T18:29:48.863Z"
   },
   {
    "duration": 701,
    "start_time": "2022-08-24T18:29:48.914Z"
   },
   {
    "duration": 617,
    "start_time": "2022-08-24T18:29:49.617Z"
   },
   {
    "duration": 384,
    "start_time": "2022-08-24T18:29:50.236Z"
   },
   {
    "duration": 324,
    "start_time": "2022-08-24T18:29:50.622Z"
   },
   {
    "duration": 154,
    "start_time": "2022-08-24T18:29:50.948Z"
   },
   {
    "duration": 325,
    "start_time": "2022-08-24T18:29:51.105Z"
   },
   {
    "duration": 10,
    "start_time": "2022-08-24T18:29:51.432Z"
   },
   {
    "duration": 27,
    "start_time": "2022-08-24T18:29:51.444Z"
   },
   {
    "duration": 19,
    "start_time": "2022-08-24T18:29:51.473Z"
   },
   {
    "duration": 16,
    "start_time": "2022-08-24T18:29:51.494Z"
   },
   {
    "duration": 11,
    "start_time": "2022-08-24T18:29:51.511Z"
   },
   {
    "duration": 107,
    "start_time": "2022-08-24T18:29:51.524Z"
   },
   {
    "duration": 401,
    "start_time": "2022-08-24T18:29:51.633Z"
   },
   {
    "duration": 7,
    "start_time": "2022-08-24T18:29:52.036Z"
   },
   {
    "duration": 13,
    "start_time": "2022-08-24T18:29:52.044Z"
   },
   {
    "duration": 21,
    "start_time": "2022-08-24T18:29:52.059Z"
   },
   {
    "duration": 37,
    "start_time": "2022-08-24T18:29:52.082Z"
   },
   {
    "duration": 153,
    "start_time": "2022-08-24T18:29:52.121Z"
   },
   {
    "duration": 5,
    "start_time": "2022-08-24T18:29:52.276Z"
   },
   {
    "duration": 44,
    "start_time": "2022-08-24T18:29:52.283Z"
   },
   {
    "duration": 177,
    "start_time": "2022-08-24T18:29:52.328Z"
   },
   {
    "duration": 27,
    "start_time": "2022-08-24T18:29:52.507Z"
   },
   {
    "duration": 154,
    "start_time": "2022-08-24T18:29:52.536Z"
   },
   {
    "duration": 228,
    "start_time": "2022-08-24T18:29:52.692Z"
   },
   {
    "duration": 6,
    "start_time": "2022-08-24T18:29:52.921Z"
   },
   {
    "duration": 36,
    "start_time": "2022-08-24T18:29:52.928Z"
   },
   {
    "duration": 10,
    "start_time": "2022-08-24T18:29:52.966Z"
   },
   {
    "duration": 171,
    "start_time": "2022-08-24T18:29:52.977Z"
   },
   {
    "duration": 21,
    "start_time": "2022-08-24T18:29:53.149Z"
   },
   {
    "duration": 23,
    "start_time": "2022-08-24T18:29:53.172Z"
   },
   {
    "duration": 171,
    "start_time": "2022-08-24T18:29:53.196Z"
   },
   {
    "duration": 34,
    "start_time": "2022-08-24T18:29:53.369Z"
   },
   {
    "duration": 162,
    "start_time": "2022-08-24T18:29:53.405Z"
   },
   {
    "duration": 19,
    "start_time": "2022-08-24T18:29:53.569Z"
   },
   {
    "duration": 12,
    "start_time": "2022-08-24T18:29:53.602Z"
   },
   {
    "duration": 16,
    "start_time": "2022-08-24T18:29:53.616Z"
   },
   {
    "duration": 28,
    "start_time": "2022-08-24T18:29:53.634Z"
   },
   {
    "duration": 181,
    "start_time": "2022-08-24T18:29:53.664Z"
   },
   {
    "duration": 9,
    "start_time": "2022-08-24T18:29:53.847Z"
   },
   {
    "duration": 58,
    "start_time": "2022-08-24T18:29:53.858Z"
   },
   {
    "duration": 32,
    "start_time": "2022-08-24T18:29:53.918Z"
   },
   {
    "duration": 174,
    "start_time": "2022-08-24T18:29:53.952Z"
   },
   {
    "duration": 102,
    "start_time": "2022-08-24T18:29:54.128Z"
   },
   {
    "duration": 0,
    "start_time": "2022-08-24T18:29:54.232Z"
   },
   {
    "duration": 0,
    "start_time": "2022-08-24T18:29:54.234Z"
   },
   {
    "duration": 0,
    "start_time": "2022-08-24T18:29:54.235Z"
   },
   {
    "duration": 0,
    "start_time": "2022-08-24T18:29:54.236Z"
   },
   {
    "duration": 62,
    "start_time": "2022-08-25T10:26:11.236Z"
   },
   {
    "duration": 810,
    "start_time": "2022-08-25T12:08:01.734Z"
   },
   {
    "duration": 313,
    "start_time": "2022-08-25T12:08:08.203Z"
   },
   {
    "duration": 41,
    "start_time": "2022-08-25T12:08:09.691Z"
   },
   {
    "duration": 34,
    "start_time": "2022-08-25T12:08:33.262Z"
   },
   {
    "duration": 8,
    "start_time": "2022-08-25T12:16:27.152Z"
   },
   {
    "duration": 29,
    "start_time": "2022-08-25T12:25:31.511Z"
   },
   {
    "duration": 6,
    "start_time": "2022-08-25T12:25:41.699Z"
   },
   {
    "duration": 10,
    "start_time": "2022-08-25T12:25:47.443Z"
   },
   {
    "duration": 446,
    "start_time": "2022-08-25T12:30:06.295Z"
   },
   {
    "duration": 294,
    "start_time": "2022-08-25T12:30:23.195Z"
   },
   {
    "duration": 14,
    "start_time": "2022-08-25T12:31:09.783Z"
   },
   {
    "duration": 5,
    "start_time": "2022-08-25T12:31:33.171Z"
   },
   {
    "duration": 12,
    "start_time": "2022-08-25T12:31:39.618Z"
   },
   {
    "duration": 8,
    "start_time": "2022-08-25T12:31:48.837Z"
   },
   {
    "duration": 8,
    "start_time": "2022-08-25T12:32:11.797Z"
   },
   {
    "duration": 9,
    "start_time": "2022-08-25T12:32:25.964Z"
   },
   {
    "duration": 7,
    "start_time": "2022-08-25T12:32:26.531Z"
   },
   {
    "duration": 8,
    "start_time": "2022-08-25T12:32:27.064Z"
   },
   {
    "duration": 5,
    "start_time": "2022-08-25T12:32:27.468Z"
   },
   {
    "duration": 7,
    "start_time": "2022-08-25T12:32:27.733Z"
   },
   {
    "duration": 7,
    "start_time": "2022-08-25T12:32:27.885Z"
   },
   {
    "duration": 5,
    "start_time": "2022-08-25T12:32:28.079Z"
   },
   {
    "duration": 6,
    "start_time": "2022-08-25T12:32:28.257Z"
   },
   {
    "duration": 12,
    "start_time": "2022-08-25T12:32:28.634Z"
   },
   {
    "duration": 6,
    "start_time": "2022-08-25T12:32:28.817Z"
   },
   {
    "duration": 7,
    "start_time": "2022-08-25T12:32:29.008Z"
   },
   {
    "duration": 215,
    "start_time": "2022-08-25T12:32:29.202Z"
   },
   {
    "duration": 6,
    "start_time": "2022-08-25T12:32:29.572Z"
   },
   {
    "duration": 8,
    "start_time": "2022-08-25T12:32:30.115Z"
   },
   {
    "duration": 5,
    "start_time": "2022-08-25T12:32:31.607Z"
   },
   {
    "duration": 6,
    "start_time": "2022-08-25T12:32:31.991Z"
   },
   {
    "duration": 7,
    "start_time": "2022-08-25T12:32:32.579Z"
   },
   {
    "duration": 6,
    "start_time": "2022-08-25T12:32:33.441Z"
   },
   {
    "duration": 4,
    "start_time": "2022-08-25T12:32:33.660Z"
   },
   {
    "duration": 288,
    "start_time": "2022-08-25T12:32:33.837Z"
   },
   {
    "duration": 4,
    "start_time": "2022-08-25T12:32:34.127Z"
   },
   {
    "duration": 4,
    "start_time": "2022-08-25T12:32:34.212Z"
   },
   {
    "duration": 35,
    "start_time": "2022-08-25T12:32:35.086Z"
   },
   {
    "duration": 299,
    "start_time": "2022-08-25T12:33:30.361Z"
   },
   {
    "duration": 299,
    "start_time": "2022-08-25T12:33:33.262Z"
   },
   {
    "duration": 166,
    "start_time": "2022-08-25T12:33:34.033Z"
   },
   {
    "duration": 291,
    "start_time": "2022-08-25T12:33:34.397Z"
   },
   {
    "duration": 97,
    "start_time": "2022-08-25T12:33:36.498Z"
   },
   {
    "duration": 313,
    "start_time": "2022-08-25T12:33:39.749Z"
   },
   {
    "duration": 9,
    "start_time": "2022-08-25T12:33:40.065Z"
   },
   {
    "duration": 12,
    "start_time": "2022-08-25T12:33:40.117Z"
   },
   {
    "duration": 9,
    "start_time": "2022-08-25T12:33:40.511Z"
   },
   {
    "duration": 9,
    "start_time": "2022-08-25T12:33:40.774Z"
   },
   {
    "duration": 11,
    "start_time": "2022-08-25T12:33:42.645Z"
   },
   {
    "duration": 40,
    "start_time": "2022-08-25T12:33:43.038Z"
   },
   {
    "duration": 5,
    "start_time": "2022-08-25T12:33:59.522Z"
   },
   {
    "duration": 4,
    "start_time": "2022-08-25T12:34:16.689Z"
   },
   {
    "duration": 5,
    "start_time": "2022-08-25T12:34:21.068Z"
   },
   {
    "duration": 3,
    "start_time": "2022-08-25T12:36:36.280Z"
   },
   {
    "duration": 4,
    "start_time": "2022-08-25T12:36:40.894Z"
   },
   {
    "duration": 4,
    "start_time": "2022-08-25T12:37:59.113Z"
   },
   {
    "duration": 5,
    "start_time": "2022-08-25T12:38:04.266Z"
   },
   {
    "duration": 4,
    "start_time": "2022-08-25T12:38:24.994Z"
   },
   {
    "duration": 5,
    "start_time": "2022-08-25T12:38:43.992Z"
   },
   {
    "duration": 4,
    "start_time": "2022-08-25T12:40:41.076Z"
   },
   {
    "duration": 4,
    "start_time": "2022-08-25T12:40:47.145Z"
   },
   {
    "duration": 4,
    "start_time": "2022-08-25T12:40:53.702Z"
   },
   {
    "duration": 4,
    "start_time": "2022-08-25T12:41:35.531Z"
   },
   {
    "duration": 4,
    "start_time": "2022-08-25T12:41:41.445Z"
   },
   {
    "duration": 10,
    "start_time": "2022-08-25T12:41:44.708Z"
   },
   {
    "duration": 4,
    "start_time": "2022-08-25T12:41:47.803Z"
   },
   {
    "duration": 8,
    "start_time": "2022-08-25T12:41:58.220Z"
   },
   {
    "duration": 6,
    "start_time": "2022-08-25T12:42:01.327Z"
   },
   {
    "duration": 4,
    "start_time": "2022-08-25T12:42:21.881Z"
   },
   {
    "duration": 92,
    "start_time": "2022-08-25T12:48:10.627Z"
   },
   {
    "duration": 321,
    "start_time": "2022-08-25T12:48:12.036Z"
   },
   {
    "duration": 6,
    "start_time": "2022-08-25T12:48:16.974Z"
   },
   {
    "duration": 4,
    "start_time": "2022-08-25T12:48:17.647Z"
   },
   {
    "duration": 5,
    "start_time": "2022-08-25T12:48:19.283Z"
   },
   {
    "duration": 38,
    "start_time": "2022-08-25T12:48:20.476Z"
   },
   {
    "duration": 134,
    "start_time": "2022-08-25T12:48:22.665Z"
   },
   {
    "duration": 143,
    "start_time": "2022-08-25T12:49:20.505Z"
   },
   {
    "duration": 139,
    "start_time": "2022-08-25T12:49:25.252Z"
   },
   {
    "duration": 146,
    "start_time": "2022-08-25T12:49:28.130Z"
   },
   {
    "duration": 148,
    "start_time": "2022-08-25T12:49:55.004Z"
   },
   {
    "duration": 256,
    "start_time": "2022-08-25T12:50:00.421Z"
   },
   {
    "duration": 141,
    "start_time": "2022-08-25T12:50:04.663Z"
   },
   {
    "duration": 143,
    "start_time": "2022-08-25T12:50:08.708Z"
   },
   {
    "duration": 6,
    "start_time": "2022-08-25T12:51:28.431Z"
   },
   {
    "duration": 30,
    "start_time": "2022-08-25T12:51:30.272Z"
   },
   {
    "duration": 153,
    "start_time": "2022-08-25T12:51:32.057Z"
   },
   {
    "duration": 28,
    "start_time": "2022-08-25T12:51:48.811Z"
   },
   {
    "duration": 154,
    "start_time": "2022-08-25T12:51:50.766Z"
   },
   {
    "duration": 25,
    "start_time": "2022-08-25T12:51:53.261Z"
   },
   {
    "duration": 131,
    "start_time": "2022-08-25T12:51:53.733Z"
   },
   {
    "duration": 202,
    "start_time": "2022-08-25T12:51:57.543Z"
   },
   {
    "duration": 7,
    "start_time": "2022-08-25T12:51:59.488Z"
   },
   {
    "duration": 21,
    "start_time": "2022-08-25T12:52:03.214Z"
   },
   {
    "duration": 9,
    "start_time": "2022-08-25T12:52:03.389Z"
   },
   {
    "duration": 134,
    "start_time": "2022-08-25T12:52:05.244Z"
   },
   {
    "duration": 20,
    "start_time": "2022-08-25T12:52:07.786Z"
   },
   {
    "duration": 9,
    "start_time": "2022-08-25T12:52:08.283Z"
   },
   {
    "duration": 145,
    "start_time": "2022-08-25T12:52:10.513Z"
   },
   {
    "duration": 28,
    "start_time": "2022-08-25T12:52:12.717Z"
   },
   {
    "duration": 172,
    "start_time": "2022-08-25T12:52:13.210Z"
   },
   {
    "duration": 19,
    "start_time": "2022-08-25T12:52:16.880Z"
   },
   {
    "duration": 7,
    "start_time": "2022-08-25T12:52:18.830Z"
   },
   {
    "duration": 1508,
    "start_time": "2022-08-25T12:53:44.395Z"
   },
   {
    "duration": 19,
    "start_time": "2022-08-25T12:53:54.245Z"
   },
   {
    "duration": 1396,
    "start_time": "2022-08-25T12:53:54.966Z"
   },
   {
    "duration": 10,
    "start_time": "2022-08-25T12:54:08.935Z"
   },
   {
    "duration": 1052,
    "start_time": "2022-08-25T12:55:15.311Z"
   },
   {
    "duration": 97,
    "start_time": "2022-08-25T12:55:31.710Z"
   },
   {
    "duration": 97,
    "start_time": "2022-08-25T12:55:40.517Z"
   },
   {
    "duration": 80,
    "start_time": "2022-08-25T12:55:45.304Z"
   },
   {
    "duration": 99,
    "start_time": "2022-08-25T12:55:54.943Z"
   },
   {
    "duration": 99,
    "start_time": "2022-08-25T12:56:00.810Z"
   },
   {
    "duration": 82,
    "start_time": "2022-08-25T12:56:06.340Z"
   },
   {
    "duration": 89,
    "start_time": "2022-08-25T12:56:12.023Z"
   },
   {
    "duration": 102,
    "start_time": "2022-08-25T12:56:18.661Z"
   },
   {
    "duration": 93,
    "start_time": "2022-08-25T12:58:56.620Z"
   },
   {
    "duration": 720,
    "start_time": "2022-08-26T09:28:52.362Z"
   },
   {
    "duration": 307,
    "start_time": "2022-08-26T09:28:53.084Z"
   },
   {
    "duration": 31,
    "start_time": "2022-08-26T09:28:53.393Z"
   },
   {
    "duration": 15,
    "start_time": "2022-08-26T09:28:53.426Z"
   },
   {
    "duration": 82,
    "start_time": "2022-08-26T09:28:53.442Z"
   },
   {
    "duration": 28,
    "start_time": "2022-08-26T09:28:53.526Z"
   },
   {
    "duration": 25,
    "start_time": "2022-08-26T09:28:53.555Z"
   },
   {
    "duration": 7,
    "start_time": "2022-08-26T09:28:53.599Z"
   },
   {
    "duration": 5,
    "start_time": "2022-08-26T09:28:53.607Z"
   },
   {
    "duration": 19,
    "start_time": "2022-08-26T09:28:53.615Z"
   },
   {
    "duration": 4,
    "start_time": "2022-08-26T09:28:53.635Z"
   },
   {
    "duration": 10,
    "start_time": "2022-08-26T09:28:53.641Z"
   },
   {
    "duration": 6,
    "start_time": "2022-08-26T09:28:53.652Z"
   },
   {
    "duration": 43,
    "start_time": "2022-08-26T09:28:53.659Z"
   },
   {
    "duration": 5,
    "start_time": "2022-08-26T09:28:53.703Z"
   },
   {
    "duration": 5,
    "start_time": "2022-08-26T09:28:53.710Z"
   },
   {
    "duration": 6,
    "start_time": "2022-08-26T09:28:53.717Z"
   },
   {
    "duration": 4,
    "start_time": "2022-08-26T09:28:53.724Z"
   },
   {
    "duration": 4,
    "start_time": "2022-08-26T09:28:53.730Z"
   },
   {
    "duration": 9,
    "start_time": "2022-08-26T09:28:53.736Z"
   },
   {
    "duration": 4,
    "start_time": "2022-08-26T09:28:53.746Z"
   },
   {
    "duration": 49,
    "start_time": "2022-08-26T09:28:53.752Z"
   },
   {
    "duration": 163,
    "start_time": "2022-08-26T09:28:53.803Z"
   },
   {
    "duration": 5,
    "start_time": "2022-08-26T09:28:53.968Z"
   },
   {
    "duration": 9,
    "start_time": "2022-08-26T09:28:53.974Z"
   },
   {
    "duration": 14,
    "start_time": "2022-08-26T09:28:53.984Z"
   },
   {
    "duration": 7,
    "start_time": "2022-08-26T09:28:54.000Z"
   },
   {
    "duration": 5,
    "start_time": "2022-08-26T09:28:54.010Z"
   },
   {
    "duration": 6,
    "start_time": "2022-08-26T09:28:54.016Z"
   },
   {
    "duration": 4,
    "start_time": "2022-08-26T09:28:54.023Z"
   },
   {
    "duration": 292,
    "start_time": "2022-08-26T09:28:54.028Z"
   },
   {
    "duration": 3,
    "start_time": "2022-08-26T09:28:54.322Z"
   },
   {
    "duration": 8,
    "start_time": "2022-08-26T09:28:54.327Z"
   },
   {
    "duration": 31,
    "start_time": "2022-08-26T09:28:54.336Z"
   },
   {
    "duration": 326,
    "start_time": "2022-08-26T09:28:54.368Z"
   },
   {
    "duration": 259,
    "start_time": "2022-08-26T09:28:54.695Z"
   },
   {
    "duration": 136,
    "start_time": "2022-08-26T09:28:54.955Z"
   },
   {
    "duration": 143,
    "start_time": "2022-08-26T09:28:55.093Z"
   },
   {
    "duration": 97,
    "start_time": "2022-08-26T09:28:55.237Z"
   },
   {
    "duration": 242,
    "start_time": "2022-08-26T09:28:55.335Z"
   },
   {
    "duration": 8,
    "start_time": "2022-08-26T09:28:55.578Z"
   },
   {
    "duration": 18,
    "start_time": "2022-08-26T09:28:55.588Z"
   },
   {
    "duration": 6,
    "start_time": "2022-08-26T09:28:55.607Z"
   },
   {
    "duration": 9,
    "start_time": "2022-08-26T09:28:55.614Z"
   },
   {
    "duration": 12,
    "start_time": "2022-08-26T09:28:55.624Z"
   },
   {
    "duration": 4,
    "start_time": "2022-08-26T09:28:55.637Z"
   },
   {
    "duration": 96,
    "start_time": "2022-08-26T09:28:55.642Z"
   },
   {
    "duration": 309,
    "start_time": "2022-08-26T09:28:55.740Z"
   },
   {
    "duration": 6,
    "start_time": "2022-08-26T09:28:56.050Z"
   },
   {
    "duration": 7,
    "start_time": "2022-08-26T09:28:56.057Z"
   },
   {
    "duration": 8,
    "start_time": "2022-08-26T09:28:56.066Z"
   },
   {
    "duration": 48,
    "start_time": "2022-08-26T09:28:56.075Z"
   },
   {
    "duration": 133,
    "start_time": "2022-08-26T09:28:56.125Z"
   },
   {
    "duration": 5,
    "start_time": "2022-08-26T09:28:56.259Z"
   },
   {
    "duration": 41,
    "start_time": "2022-08-26T09:28:56.265Z"
   },
   {
    "duration": 150,
    "start_time": "2022-08-26T09:28:56.308Z"
   },
   {
    "duration": 25,
    "start_time": "2022-08-26T09:28:56.460Z"
   },
   {
    "duration": 139,
    "start_time": "2022-08-26T09:28:56.487Z"
   },
   {
    "duration": 176,
    "start_time": "2022-08-26T09:28:56.627Z"
   },
   {
    "duration": 5,
    "start_time": "2022-08-26T09:28:56.805Z"
   },
   {
    "duration": 25,
    "start_time": "2022-08-26T09:28:56.811Z"
   },
   {
    "duration": 8,
    "start_time": "2022-08-26T09:28:56.837Z"
   },
   {
    "duration": 135,
    "start_time": "2022-08-26T09:28:56.846Z"
   },
   {
    "duration": 31,
    "start_time": "2022-08-26T09:28:56.982Z"
   },
   {
    "duration": 9,
    "start_time": "2022-08-26T09:28:57.014Z"
   },
   {
    "duration": 140,
    "start_time": "2022-08-26T09:28:57.024Z"
   },
   {
    "duration": 33,
    "start_time": "2022-08-26T09:28:57.165Z"
   },
   {
    "duration": 135,
    "start_time": "2022-08-26T09:28:57.200Z"
   },
   {
    "duration": 17,
    "start_time": "2022-08-26T09:28:57.337Z"
   },
   {
    "duration": 6,
    "start_time": "2022-08-26T09:28:57.356Z"
   },
   {
    "duration": 90,
    "start_time": "2022-08-26T09:28:57.364Z"
   },
   {
    "duration": 132,
    "start_time": "2022-08-26T09:28:57.455Z"
   },
   {
    "duration": 3,
    "start_time": "2022-08-26T15:29:52.810Z"
   },
   {
    "duration": 110,
    "start_time": "2022-08-26T15:29:52.815Z"
   },
   {
    "duration": 29,
    "start_time": "2022-08-26T15:29:52.927Z"
   },
   {
    "duration": 41,
    "start_time": "2022-08-26T15:29:52.957Z"
   },
   {
    "duration": 68,
    "start_time": "2022-08-26T15:29:53.001Z"
   },
   {
    "duration": 43,
    "start_time": "2022-08-26T15:29:53.071Z"
   },
   {
    "duration": 27,
    "start_time": "2022-08-26T15:29:53.116Z"
   },
   {
    "duration": 29,
    "start_time": "2022-08-26T15:29:53.145Z"
   },
   {
    "duration": 22,
    "start_time": "2022-08-26T15:29:53.176Z"
   },
   {
    "duration": 33,
    "start_time": "2022-08-26T15:29:53.199Z"
   },
   {
    "duration": 8,
    "start_time": "2022-08-26T15:29:53.235Z"
   },
   {
    "duration": 47,
    "start_time": "2022-08-26T15:29:53.245Z"
   },
   {
    "duration": 49,
    "start_time": "2022-08-26T15:29:53.295Z"
   },
   {
    "duration": 11,
    "start_time": "2022-08-26T15:29:53.346Z"
   },
   {
    "duration": 54,
    "start_time": "2022-08-26T15:29:53.359Z"
   },
   {
    "duration": 16,
    "start_time": "2022-08-26T15:29:53.415Z"
   },
   {
    "duration": 6,
    "start_time": "2022-08-26T15:29:53.433Z"
   },
   {
    "duration": 5,
    "start_time": "2022-08-26T15:29:53.441Z"
   },
   {
    "duration": 8,
    "start_time": "2022-08-26T15:29:53.448Z"
   },
   {
    "duration": 16,
    "start_time": "2022-08-26T15:29:53.457Z"
   },
   {
    "duration": 6,
    "start_time": "2022-08-26T15:29:53.474Z"
   },
   {
    "duration": 11,
    "start_time": "2022-08-26T15:29:53.481Z"
   },
   {
    "duration": 135,
    "start_time": "2022-08-26T15:29:53.493Z"
   },
   {
    "duration": 5,
    "start_time": "2022-08-26T15:29:53.630Z"
   },
   {
    "duration": 35,
    "start_time": "2022-08-26T15:29:53.636Z"
   },
   {
    "duration": 32,
    "start_time": "2022-08-26T15:29:53.672Z"
   },
   {
    "duration": 20,
    "start_time": "2022-08-26T15:29:53.705Z"
   },
   {
    "duration": 7,
    "start_time": "2022-08-26T15:29:53.726Z"
   },
   {
    "duration": 3,
    "start_time": "2022-08-26T15:29:53.737Z"
   },
   {
    "duration": 5,
    "start_time": "2022-08-26T15:29:53.741Z"
   },
   {
    "duration": 373,
    "start_time": "2022-08-26T15:29:53.747Z"
   },
   {
    "duration": 3,
    "start_time": "2022-08-26T15:29:54.122Z"
   },
   {
    "duration": 9,
    "start_time": "2022-08-26T15:29:54.126Z"
   },
   {
    "duration": 30,
    "start_time": "2022-08-26T15:29:54.136Z"
   },
   {
    "duration": 264,
    "start_time": "2022-08-26T15:29:54.167Z"
   },
   {
    "duration": 289,
    "start_time": "2022-08-26T15:29:54.433Z"
   },
   {
    "duration": 145,
    "start_time": "2022-08-26T15:29:54.724Z"
   },
   {
    "duration": 152,
    "start_time": "2022-08-26T15:29:54.870Z"
   },
   {
    "duration": 94,
    "start_time": "2022-08-26T15:29:55.024Z"
   },
   {
    "duration": 254,
    "start_time": "2022-08-26T15:29:55.120Z"
   },
   {
    "duration": 9,
    "start_time": "2022-08-26T15:29:55.376Z"
   },
   {
    "duration": 20,
    "start_time": "2022-08-26T15:29:55.386Z"
   },
   {
    "duration": 8,
    "start_time": "2022-08-26T15:29:55.407Z"
   },
   {
    "duration": 10,
    "start_time": "2022-08-26T15:29:55.417Z"
   },
   {
    "duration": 11,
    "start_time": "2022-08-26T15:29:55.429Z"
   },
   {
    "duration": 20,
    "start_time": "2022-08-26T15:29:55.442Z"
   },
   {
    "duration": 154,
    "start_time": "2022-08-26T15:29:55.464Z"
   },
   {
    "duration": 259,
    "start_time": "2022-08-26T15:29:55.619Z"
   },
   {
    "duration": 6,
    "start_time": "2022-08-26T15:29:55.879Z"
   },
   {
    "duration": 14,
    "start_time": "2022-08-26T15:29:55.886Z"
   },
   {
    "duration": 12,
    "start_time": "2022-08-26T15:29:55.901Z"
   },
   {
    "duration": 33,
    "start_time": "2022-08-26T15:29:55.914Z"
   },
   {
    "duration": 140,
    "start_time": "2022-08-26T15:29:55.949Z"
   },
   {
    "duration": 10,
    "start_time": "2022-08-26T15:29:56.091Z"
   },
   {
    "duration": 26,
    "start_time": "2022-08-26T15:29:56.102Z"
   },
   {
    "duration": 152,
    "start_time": "2022-08-26T15:29:56.130Z"
   },
   {
    "duration": 32,
    "start_time": "2022-08-26T15:29:56.283Z"
   },
   {
    "duration": 124,
    "start_time": "2022-08-26T15:29:56.316Z"
   },
   {
    "duration": 184,
    "start_time": "2022-08-26T15:29:56.442Z"
   },
   {
    "duration": 5,
    "start_time": "2022-08-26T15:29:56.627Z"
   },
   {
    "duration": 25,
    "start_time": "2022-08-26T15:29:56.633Z"
   },
   {
    "duration": 7,
    "start_time": "2022-08-26T15:29:56.660Z"
   },
   {
    "duration": 135,
    "start_time": "2022-08-26T15:29:56.668Z"
   },
   {
    "duration": 19,
    "start_time": "2022-08-26T15:29:56.804Z"
   },
   {
    "duration": 8,
    "start_time": "2022-08-26T15:29:56.824Z"
   },
   {
    "duration": 155,
    "start_time": "2022-08-26T15:29:56.833Z"
   },
   {
    "duration": 29,
    "start_time": "2022-08-26T15:29:56.989Z"
   },
   {
    "duration": 136,
    "start_time": "2022-08-26T15:29:57.020Z"
   },
   {
    "duration": 17,
    "start_time": "2022-08-26T15:29:57.157Z"
   },
   {
    "duration": 6,
    "start_time": "2022-08-26T15:29:57.176Z"
   },
   {
    "duration": 6,
    "start_time": "2022-08-26T15:30:03.658Z"
   },
   {
    "duration": 75,
    "start_time": "2022-08-26T15:30:47.042Z"
   },
   {
    "duration": 76,
    "start_time": "2022-08-26T15:31:21.189Z"
   },
   {
    "duration": 8,
    "start_time": "2022-08-26T15:32:06.168Z"
   },
   {
    "duration": 7,
    "start_time": "2022-08-26T15:32:07.437Z"
   },
   {
    "duration": 140,
    "start_time": "2022-08-26T15:32:12.383Z"
   },
   {
    "duration": 10,
    "start_time": "2022-08-26T15:32:16.396Z"
   },
   {
    "duration": 31,
    "start_time": "2022-08-26T15:32:16.836Z"
   },
   {
    "duration": 27,
    "start_time": "2022-08-26T15:32:20.010Z"
   },
   {
    "duration": 129,
    "start_time": "2022-08-26T15:32:22.413Z"
   },
   {
    "duration": 98,
    "start_time": "2022-08-26T15:32:25.685Z"
   },
   {
    "duration": 10,
    "start_time": "2022-08-26T15:33:03.697Z"
   },
   {
    "duration": 134,
    "start_time": "2022-08-26T15:33:50.842Z"
   },
   {
    "duration": 138,
    "start_time": "2022-08-26T15:35:20.811Z"
   },
   {
    "duration": 5,
    "start_time": "2022-08-26T15:36:32.317Z"
   },
   {
    "duration": 710,
    "start_time": "2022-08-28T01:32:38.627Z"
   },
   {
    "duration": 289,
    "start_time": "2022-08-28T01:32:39.338Z"
   },
   {
    "duration": 32,
    "start_time": "2022-08-28T01:32:39.629Z"
   },
   {
    "duration": 14,
    "start_time": "2022-08-28T01:32:39.663Z"
   },
   {
    "duration": 67,
    "start_time": "2022-08-28T01:32:39.741Z"
   },
   {
    "duration": 28,
    "start_time": "2022-08-28T01:32:39.889Z"
   },
   {
    "duration": 28,
    "start_time": "2022-08-28T01:32:40.034Z"
   },
   {
    "duration": 7,
    "start_time": "2022-08-28T01:32:40.631Z"
   },
   {
    "duration": 5,
    "start_time": "2022-08-28T01:32:40.781Z"
   },
   {
    "duration": 21,
    "start_time": "2022-08-28T01:32:40.944Z"
   },
   {
    "duration": 4,
    "start_time": "2022-08-28T01:32:41.443Z"
   },
   {
    "duration": 9,
    "start_time": "2022-08-28T01:32:42.109Z"
   },
   {
    "duration": 6,
    "start_time": "2022-08-28T01:32:42.286Z"
   },
   {
    "duration": 8,
    "start_time": "2022-08-28T01:32:42.449Z"
   },
   {
    "duration": 5,
    "start_time": "2022-08-28T01:32:42.622Z"
   },
   {
    "duration": 7,
    "start_time": "2022-08-28T01:32:42.798Z"
   },
   {
    "duration": 6,
    "start_time": "2022-08-28T01:32:42.984Z"
   },
   {
    "duration": 5,
    "start_time": "2022-08-28T01:32:43.150Z"
   },
   {
    "duration": 6,
    "start_time": "2022-08-28T01:32:43.328Z"
   },
   {
    "duration": 11,
    "start_time": "2022-08-28T01:32:43.711Z"
   },
   {
    "duration": 5,
    "start_time": "2022-08-28T01:32:43.893Z"
   },
   {
    "duration": 6,
    "start_time": "2022-08-28T01:32:44.073Z"
   },
   {
    "duration": 200,
    "start_time": "2022-08-28T01:32:44.245Z"
   },
   {
    "duration": 6,
    "start_time": "2022-08-28T01:32:44.612Z"
   },
   {
    "duration": 6,
    "start_time": "2022-08-28T01:32:44.976Z"
   },
   {
    "duration": 6,
    "start_time": "2022-08-28T01:32:45.850Z"
   },
   {
    "duration": 6,
    "start_time": "2022-08-28T01:32:46.194Z"
   },
   {
    "duration": 6,
    "start_time": "2022-08-28T01:32:47.526Z"
   },
   {
    "duration": 6,
    "start_time": "2022-08-28T01:32:47.901Z"
   },
   {
    "duration": 3,
    "start_time": "2022-08-28T01:32:48.083Z"
   },
   {
    "duration": 268,
    "start_time": "2022-08-28T01:32:48.441Z"
   },
   {
    "duration": 4,
    "start_time": "2022-08-28T01:32:48.711Z"
   },
   {
    "duration": 4,
    "start_time": "2022-08-28T01:32:48.827Z"
   },
   {
    "duration": 30,
    "start_time": "2022-08-28T01:32:49.186Z"
   },
   {
    "duration": 292,
    "start_time": "2022-08-28T01:32:49.758Z"
   },
   {
    "duration": 297,
    "start_time": "2022-08-28T01:32:50.126Z"
   },
   {
    "duration": 162,
    "start_time": "2022-08-28T01:32:50.425Z"
   },
   {
    "duration": 162,
    "start_time": "2022-08-28T01:32:50.589Z"
   },
   {
    "duration": 88,
    "start_time": "2022-08-28T01:32:50.921Z"
   },
   {
    "duration": 276,
    "start_time": "2022-08-28T01:32:51.570Z"
   },
   {
    "duration": 8,
    "start_time": "2022-08-28T01:32:51.848Z"
   },
   {
    "duration": 10,
    "start_time": "2022-08-28T01:32:52.078Z"
   },
   {
    "duration": 10,
    "start_time": "2022-08-28T01:32:52.590Z"
   },
   {
    "duration": 10,
    "start_time": "2022-08-28T01:32:53.040Z"
   },
   {
    "duration": 11,
    "start_time": "2022-08-28T01:32:54.238Z"
   },
   {
    "duration": 6,
    "start_time": "2022-08-28T01:32:54.439Z"
   },
   {
    "duration": 102,
    "start_time": "2022-08-28T01:32:55.532Z"
   },
   {
    "duration": 382,
    "start_time": "2022-08-28T01:32:55.894Z"
   },
   {
    "duration": 7,
    "start_time": "2022-08-28T01:32:56.287Z"
   },
   {
    "duration": 5,
    "start_time": "2022-08-28T01:32:56.625Z"
   },
   {
    "duration": 6,
    "start_time": "2022-08-28T01:32:56.968Z"
   },
   {
    "duration": 33,
    "start_time": "2022-08-28T01:32:57.946Z"
   },
   {
    "duration": 127,
    "start_time": "2022-08-28T01:32:58.424Z"
   },
   {
    "duration": 6,
    "start_time": "2022-08-28T01:33:00.061Z"
   },
   {
    "duration": 36,
    "start_time": "2022-08-28T01:33:02.126Z"
   },
   {
    "duration": 157,
    "start_time": "2022-08-28T01:33:02.455Z"
   },
   {
    "duration": 23,
    "start_time": "2022-08-28T01:33:03.382Z"
   },
   {
    "duration": 120,
    "start_time": "2022-08-28T01:33:03.575Z"
   },
   {
    "duration": 189,
    "start_time": "2022-08-28T01:33:04.195Z"
   },
   {
    "duration": 7,
    "start_time": "2022-08-28T01:33:04.387Z"
   },
   {
    "duration": 20,
    "start_time": "2022-08-28T01:33:07.128Z"
   },
   {
    "duration": 11,
    "start_time": "2022-08-28T01:33:07.335Z"
   },
   {
    "duration": 141,
    "start_time": "2022-08-28T01:33:07.579Z"
   },
   {
    "duration": 19,
    "start_time": "2022-08-28T01:33:08.017Z"
   },
   {
    "duration": 10,
    "start_time": "2022-08-28T01:33:08.242Z"
   },
   {
    "duration": 150,
    "start_time": "2022-08-28T01:33:08.596Z"
   },
   {
    "duration": 25,
    "start_time": "2022-08-28T01:33:09.425Z"
   },
   {
    "duration": 146,
    "start_time": "2022-08-28T01:33:09.882Z"
   },
   {
    "duration": 19,
    "start_time": "2022-08-28T01:33:11.992Z"
   },
   {
    "duration": 7,
    "start_time": "2022-08-28T01:33:12.321Z"
   },
   {
    "duration": 109,
    "start_time": "2022-08-28T01:33:12.836Z"
   },
   {
    "duration": 7,
    "start_time": "2022-08-28T01:33:16.037Z"
   },
   {
    "duration": 7,
    "start_time": "2022-08-28T01:33:22.623Z"
   },
   {
    "duration": 143,
    "start_time": "2022-08-28T01:33:23.643Z"
   },
   {
    "duration": 9,
    "start_time": "2022-08-28T01:33:26.761Z"
   },
   {
    "duration": 38,
    "start_time": "2022-08-28T01:33:27.148Z"
   },
   {
    "duration": 46,
    "start_time": "2022-08-28T01:33:27.827Z"
   },
   {
    "duration": 154,
    "start_time": "2022-08-28T01:33:28.216Z"
   },
   {
    "duration": 124,
    "start_time": "2022-08-28T01:33:29.341Z"
   },
   {
    "duration": 254,
    "start_time": "2022-08-28T01:33:36.808Z"
   },
   {
    "duration": 5,
    "start_time": "2022-08-28T01:33:38.428Z"
   },
   {
    "duration": 153,
    "start_time": "2022-08-28T02:38:47.379Z"
   },
   {
    "duration": 151,
    "start_time": "2022-08-28T02:38:51.191Z"
   },
   {
    "duration": 166,
    "start_time": "2022-08-28T02:38:53.874Z"
   },
   {
    "duration": 775,
    "start_time": "2022-08-28T09:21:27.197Z"
   },
   {
    "duration": 147,
    "start_time": "2022-08-28T09:21:27.974Z"
   },
   {
    "duration": 31,
    "start_time": "2022-08-28T09:21:28.122Z"
   },
   {
    "duration": 13,
    "start_time": "2022-08-28T09:21:28.154Z"
   },
   {
    "duration": 64,
    "start_time": "2022-08-28T09:21:28.169Z"
   },
   {
    "duration": 26,
    "start_time": "2022-08-28T09:21:28.234Z"
   },
   {
    "duration": 27,
    "start_time": "2022-08-28T09:21:28.262Z"
   },
   {
    "duration": 6,
    "start_time": "2022-08-28T09:21:28.305Z"
   },
   {
    "duration": 5,
    "start_time": "2022-08-28T09:21:28.313Z"
   },
   {
    "duration": 20,
    "start_time": "2022-08-28T09:21:28.320Z"
   },
   {
    "duration": 4,
    "start_time": "2022-08-28T09:21:28.341Z"
   },
   {
    "duration": 7,
    "start_time": "2022-08-28T09:21:28.347Z"
   },
   {
    "duration": 6,
    "start_time": "2022-08-28T09:21:28.356Z"
   },
   {
    "duration": 43,
    "start_time": "2022-08-28T09:21:28.364Z"
   },
   {
    "duration": 5,
    "start_time": "2022-08-28T09:21:28.408Z"
   },
   {
    "duration": 6,
    "start_time": "2022-08-28T09:21:28.415Z"
   },
   {
    "duration": 5,
    "start_time": "2022-08-28T09:21:28.423Z"
   },
   {
    "duration": 4,
    "start_time": "2022-08-28T09:21:28.430Z"
   },
   {
    "duration": 4,
    "start_time": "2022-08-28T09:21:28.436Z"
   },
   {
    "duration": 9,
    "start_time": "2022-08-28T09:21:28.441Z"
   },
   {
    "duration": 3,
    "start_time": "2022-08-28T09:21:28.452Z"
   },
   {
    "duration": 5,
    "start_time": "2022-08-28T09:21:28.456Z"
   },
   {
    "duration": 195,
    "start_time": "2022-08-28T09:21:28.463Z"
   },
   {
    "duration": 6,
    "start_time": "2022-08-28T09:21:28.659Z"
   },
   {
    "duration": 7,
    "start_time": "2022-08-28T09:21:28.666Z"
   },
   {
    "duration": 7,
    "start_time": "2022-08-28T09:21:28.674Z"
   },
   {
    "duration": 23,
    "start_time": "2022-08-28T09:21:28.682Z"
   },
   {
    "duration": 5,
    "start_time": "2022-08-28T09:21:28.709Z"
   },
   {
    "duration": 5,
    "start_time": "2022-08-28T09:21:28.715Z"
   },
   {
    "duration": 3,
    "start_time": "2022-08-28T09:21:28.721Z"
   },
   {
    "duration": 259,
    "start_time": "2022-08-28T09:21:28.725Z"
   },
   {
    "duration": 4,
    "start_time": "2022-08-28T09:21:28.986Z"
   },
   {
    "duration": 6,
    "start_time": "2022-08-28T09:21:28.991Z"
   },
   {
    "duration": 33,
    "start_time": "2022-08-28T09:21:28.998Z"
   },
   {
    "duration": 293,
    "start_time": "2022-08-28T09:21:29.032Z"
   },
   {
    "duration": 265,
    "start_time": "2022-08-28T09:21:29.326Z"
   },
   {
    "duration": 154,
    "start_time": "2022-08-28T09:21:29.593Z"
   },
   {
    "duration": 180,
    "start_time": "2022-08-28T09:21:29.749Z"
   },
   {
    "duration": 98,
    "start_time": "2022-08-28T09:21:29.930Z"
   },
   {
    "duration": 297,
    "start_time": "2022-08-28T09:21:30.030Z"
   },
   {
    "duration": 10,
    "start_time": "2022-08-28T09:21:30.329Z"
   },
   {
    "duration": 15,
    "start_time": "2022-08-28T09:21:30.340Z"
   },
   {
    "duration": 10,
    "start_time": "2022-08-28T09:21:30.356Z"
   },
   {
    "duration": 9,
    "start_time": "2022-08-28T09:21:30.368Z"
   },
   {
    "duration": 10,
    "start_time": "2022-08-28T09:21:30.407Z"
   },
   {
    "duration": 4,
    "start_time": "2022-08-28T09:21:30.419Z"
   },
   {
    "duration": 19,
    "start_time": "2022-08-28T09:21:30.424Z"
   },
   {
    "duration": 111,
    "start_time": "2022-08-28T09:21:30.444Z"
   },
   {
    "duration": 372,
    "start_time": "2022-08-28T09:21:30.557Z"
   },
   {
    "duration": 6,
    "start_time": "2022-08-28T09:21:30.930Z"
   },
   {
    "duration": 24,
    "start_time": "2022-08-28T09:21:30.938Z"
   },
   {
    "duration": 16,
    "start_time": "2022-08-28T09:21:30.964Z"
   },
   {
    "duration": 39,
    "start_time": "2022-08-28T09:21:30.981Z"
   },
   {
    "duration": 133,
    "start_time": "2022-08-28T09:21:31.022Z"
   },
   {
    "duration": 5,
    "start_time": "2022-08-28T09:21:31.157Z"
   },
   {
    "duration": 33,
    "start_time": "2022-08-28T09:21:31.164Z"
   },
   {
    "duration": 153,
    "start_time": "2022-08-28T09:21:31.206Z"
   },
   {
    "duration": 23,
    "start_time": "2022-08-28T09:21:31.361Z"
   },
   {
    "duration": 138,
    "start_time": "2022-08-28T09:21:31.385Z"
   },
   {
    "duration": 198,
    "start_time": "2022-08-28T09:21:31.524Z"
   },
   {
    "duration": 5,
    "start_time": "2022-08-28T09:21:31.723Z"
   },
   {
    "duration": 23,
    "start_time": "2022-08-28T09:21:31.730Z"
   },
   {
    "duration": 19,
    "start_time": "2022-08-28T09:21:31.755Z"
   },
   {
    "duration": 130,
    "start_time": "2022-08-28T09:21:31.776Z"
   },
   {
    "duration": 19,
    "start_time": "2022-08-28T09:21:31.908Z"
   },
   {
    "duration": 8,
    "start_time": "2022-08-28T09:21:31.928Z"
   },
   {
    "duration": 157,
    "start_time": "2022-08-28T09:21:31.938Z"
   },
   {
    "duration": 32,
    "start_time": "2022-08-28T09:21:32.097Z"
   },
   {
    "duration": 146,
    "start_time": "2022-08-28T09:21:32.130Z"
   },
   {
    "duration": 29,
    "start_time": "2022-08-28T09:21:32.278Z"
   },
   {
    "duration": 7,
    "start_time": "2022-08-28T09:21:32.308Z"
   },
   {
    "duration": 97,
    "start_time": "2022-08-28T09:21:32.316Z"
   },
   {
    "duration": 8,
    "start_time": "2022-08-28T09:21:32.414Z"
   },
   {
    "duration": 10,
    "start_time": "2022-08-28T09:21:32.423Z"
   },
   {
    "duration": 166,
    "start_time": "2022-08-28T09:21:32.434Z"
   },
   {
    "duration": 8,
    "start_time": "2022-08-28T09:21:32.605Z"
   },
   {
    "duration": 39,
    "start_time": "2022-08-28T09:21:32.615Z"
   },
   {
    "duration": 38,
    "start_time": "2022-08-28T09:21:32.656Z"
   },
   {
    "duration": 167,
    "start_time": "2022-08-28T09:21:32.696Z"
   },
   {
    "duration": 151,
    "start_time": "2022-08-28T09:21:32.865Z"
   },
   {
    "duration": 254,
    "start_time": "2022-08-28T09:21:33.018Z"
   },
   {
    "duration": 5,
    "start_time": "2022-08-28T09:21:33.277Z"
   },
   {
    "duration": 167,
    "start_time": "2022-08-28T09:21:33.284Z"
   },
   {
    "duration": 164,
    "start_time": "2022-08-28T09:21:33.453Z"
   },
   {
    "duration": 157,
    "start_time": "2022-08-28T09:21:33.619Z"
   },
   {
    "duration": 846,
    "start_time": "2022-08-28T12:42:32.215Z"
   },
   {
    "duration": 349,
    "start_time": "2022-08-28T12:42:33.063Z"
   },
   {
    "duration": 36,
    "start_time": "2022-08-28T12:42:33.415Z"
   },
   {
    "duration": 17,
    "start_time": "2022-08-28T12:42:33.453Z"
   },
   {
    "duration": 93,
    "start_time": "2022-08-28T12:42:33.473Z"
   },
   {
    "duration": 42,
    "start_time": "2022-08-28T12:42:33.568Z"
   },
   {
    "duration": 29,
    "start_time": "2022-08-28T12:42:33.613Z"
   },
   {
    "duration": 14,
    "start_time": "2022-08-28T12:42:33.644Z"
   },
   {
    "duration": 12,
    "start_time": "2022-08-28T12:42:33.659Z"
   },
   {
    "duration": 41,
    "start_time": "2022-08-28T12:42:33.672Z"
   },
   {
    "duration": 4,
    "start_time": "2022-08-28T12:42:33.715Z"
   },
   {
    "duration": 17,
    "start_time": "2022-08-28T12:42:33.721Z"
   },
   {
    "duration": 9,
    "start_time": "2022-08-28T12:42:33.739Z"
   },
   {
    "duration": 8,
    "start_time": "2022-08-28T12:42:33.752Z"
   },
   {
    "duration": 10,
    "start_time": "2022-08-28T12:42:33.762Z"
   },
   {
    "duration": 7,
    "start_time": "2022-08-28T12:42:33.774Z"
   },
   {
    "duration": 28,
    "start_time": "2022-08-28T12:42:33.783Z"
   },
   {
    "duration": 6,
    "start_time": "2022-08-28T12:42:33.812Z"
   },
   {
    "duration": 10,
    "start_time": "2022-08-28T12:42:33.819Z"
   },
   {
    "duration": 10,
    "start_time": "2022-08-28T12:42:33.830Z"
   },
   {
    "duration": 5,
    "start_time": "2022-08-28T12:42:33.842Z"
   },
   {
    "duration": 10,
    "start_time": "2022-08-28T12:42:33.848Z"
   },
   {
    "duration": 206,
    "start_time": "2022-08-28T12:42:33.860Z"
   },
   {
    "duration": 5,
    "start_time": "2022-08-28T12:42:34.068Z"
   },
   {
    "duration": 12,
    "start_time": "2022-08-28T12:42:34.075Z"
   },
   {
    "duration": 13,
    "start_time": "2022-08-28T12:42:34.089Z"
   },
   {
    "duration": 14,
    "start_time": "2022-08-28T12:42:34.103Z"
   },
   {
    "duration": 7,
    "start_time": "2022-08-28T12:42:34.119Z"
   },
   {
    "duration": 12,
    "start_time": "2022-08-28T12:42:34.128Z"
   },
   {
    "duration": 5,
    "start_time": "2022-08-28T12:42:34.142Z"
   },
   {
    "duration": 351,
    "start_time": "2022-08-28T12:42:34.149Z"
   },
   {
    "duration": 8,
    "start_time": "2022-08-28T12:42:34.502Z"
   },
   {
    "duration": 12,
    "start_time": "2022-08-28T12:42:34.512Z"
   },
   {
    "duration": 38,
    "start_time": "2022-08-28T12:42:34.526Z"
   },
   {
    "duration": 384,
    "start_time": "2022-08-28T12:42:34.567Z"
   },
   {
    "duration": 337,
    "start_time": "2022-08-28T12:42:34.953Z"
   },
   {
    "duration": 183,
    "start_time": "2022-08-28T12:42:35.291Z"
   },
   {
    "duration": 184,
    "start_time": "2022-08-28T12:42:35.475Z"
   },
   {
    "duration": 111,
    "start_time": "2022-08-28T12:42:35.662Z"
   },
   {
    "duration": 369,
    "start_time": "2022-08-28T12:42:35.775Z"
   },
   {
    "duration": 11,
    "start_time": "2022-08-28T12:42:36.150Z"
   },
   {
    "duration": 11,
    "start_time": "2022-08-28T12:42:36.163Z"
   },
   {
    "duration": 7,
    "start_time": "2022-08-28T12:42:36.175Z"
   },
   {
    "duration": 33,
    "start_time": "2022-08-28T12:42:36.183Z"
   },
   {
    "duration": 14,
    "start_time": "2022-08-28T12:42:36.218Z"
   },
   {
    "duration": 6,
    "start_time": "2022-08-28T12:42:36.233Z"
   },
   {
    "duration": 19,
    "start_time": "2022-08-28T12:42:36.241Z"
   },
   {
    "duration": 116,
    "start_time": "2022-08-28T12:42:36.262Z"
   },
   {
    "duration": 382,
    "start_time": "2022-08-28T12:42:36.380Z"
   },
   {
    "duration": 7,
    "start_time": "2022-08-28T12:42:36.764Z"
   },
   {
    "duration": 14,
    "start_time": "2022-08-28T12:42:36.772Z"
   },
   {
    "duration": 12,
    "start_time": "2022-08-28T12:42:36.787Z"
   },
   {
    "duration": 37,
    "start_time": "2022-08-28T12:42:36.809Z"
   },
   {
    "duration": 160,
    "start_time": "2022-08-28T12:42:36.849Z"
   },
   {
    "duration": 6,
    "start_time": "2022-08-28T12:42:37.011Z"
   },
   {
    "duration": 37,
    "start_time": "2022-08-28T12:42:37.020Z"
   },
   {
    "duration": 192,
    "start_time": "2022-08-28T12:42:37.059Z"
   },
   {
    "duration": 31,
    "start_time": "2022-08-28T12:42:37.254Z"
   },
   {
    "duration": 191,
    "start_time": "2022-08-28T12:42:37.287Z"
   },
   {
    "duration": 215,
    "start_time": "2022-08-28T12:42:37.479Z"
   },
   {
    "duration": 8,
    "start_time": "2022-08-28T12:42:37.706Z"
   },
   {
    "duration": 48,
    "start_time": "2022-08-28T12:42:37.716Z"
   },
   {
    "duration": 10,
    "start_time": "2022-08-28T12:42:37.766Z"
   },
   {
    "duration": 144,
    "start_time": "2022-08-28T12:42:37.777Z"
   },
   {
    "duration": 31,
    "start_time": "2022-08-28T12:42:37.922Z"
   },
   {
    "duration": 22,
    "start_time": "2022-08-28T12:42:37.955Z"
   },
   {
    "duration": 171,
    "start_time": "2022-08-28T12:42:37.978Z"
   },
   {
    "duration": 28,
    "start_time": "2022-08-28T12:42:38.151Z"
   },
   {
    "duration": 180,
    "start_time": "2022-08-28T12:42:38.181Z"
   },
   {
    "duration": 21,
    "start_time": "2022-08-28T12:42:38.363Z"
   },
   {
    "duration": 7,
    "start_time": "2022-08-28T12:42:38.386Z"
   },
   {
    "duration": 110,
    "start_time": "2022-08-28T12:42:38.410Z"
   },
   {
    "duration": 80,
    "start_time": "2022-08-28T12:45:47.250Z"
   },
   {
    "duration": 31,
    "start_time": "2022-08-28T12:46:35.667Z"
   },
   {
    "duration": 35,
    "start_time": "2022-08-28T12:46:48.765Z"
   },
   {
    "duration": 39,
    "start_time": "2022-08-28T12:46:58.894Z"
   },
   {
    "duration": 28,
    "start_time": "2022-08-28T12:47:40.080Z"
   },
   {
    "duration": 36,
    "start_time": "2022-08-28T12:47:47.647Z"
   },
   {
    "duration": 208,
    "start_time": "2022-08-28T12:48:30.595Z"
   },
   {
    "duration": 253,
    "start_time": "2022-08-28T12:48:56.642Z"
   },
   {
    "duration": 284,
    "start_time": "2022-08-28T12:49:09.299Z"
   },
   {
    "duration": 225,
    "start_time": "2022-08-28T12:49:19.670Z"
   },
   {
    "duration": 612,
    "start_time": "2022-08-28T14:07:37.841Z"
   },
   {
    "duration": 84,
    "start_time": "2022-08-28T14:07:38.455Z"
   },
   {
    "duration": 29,
    "start_time": "2022-08-28T14:07:38.540Z"
   },
   {
    "duration": 25,
    "start_time": "2022-08-28T14:07:38.571Z"
   },
   {
    "duration": 64,
    "start_time": "2022-08-28T14:07:38.600Z"
   },
   {
    "duration": 25,
    "start_time": "2022-08-28T14:07:38.666Z"
   },
   {
    "duration": 49,
    "start_time": "2022-08-28T14:07:38.693Z"
   },
   {
    "duration": 8,
    "start_time": "2022-08-28T14:07:38.744Z"
   },
   {
    "duration": 5,
    "start_time": "2022-08-28T14:07:38.754Z"
   },
   {
    "duration": 21,
    "start_time": "2022-08-28T14:07:38.761Z"
   },
   {
    "duration": 25,
    "start_time": "2022-08-28T14:07:38.783Z"
   },
   {
    "duration": 9,
    "start_time": "2022-08-28T14:07:38.809Z"
   },
   {
    "duration": 7,
    "start_time": "2022-08-28T14:07:38.819Z"
   },
   {
    "duration": 7,
    "start_time": "2022-08-28T14:07:38.828Z"
   },
   {
    "duration": 9,
    "start_time": "2022-08-28T14:07:38.836Z"
   },
   {
    "duration": 7,
    "start_time": "2022-08-28T14:07:38.847Z"
   },
   {
    "duration": 7,
    "start_time": "2022-08-28T14:07:38.855Z"
   },
   {
    "duration": 5,
    "start_time": "2022-08-28T14:07:38.863Z"
   },
   {
    "duration": 41,
    "start_time": "2022-08-28T14:07:38.869Z"
   },
   {
    "duration": 15,
    "start_time": "2022-08-28T14:07:38.912Z"
   },
   {
    "duration": 4,
    "start_time": "2022-08-28T14:07:38.929Z"
   },
   {
    "duration": 12,
    "start_time": "2022-08-28T14:07:38.934Z"
   },
   {
    "duration": 150,
    "start_time": "2022-08-28T14:07:38.947Z"
   },
   {
    "duration": 12,
    "start_time": "2022-08-28T14:07:39.098Z"
   },
   {
    "duration": 8,
    "start_time": "2022-08-28T14:07:39.111Z"
   },
   {
    "duration": 15,
    "start_time": "2022-08-28T14:07:39.121Z"
   },
   {
    "duration": 7,
    "start_time": "2022-08-28T14:07:39.137Z"
   },
   {
    "duration": 5,
    "start_time": "2022-08-28T14:07:39.148Z"
   },
   {
    "duration": 6,
    "start_time": "2022-08-28T14:07:39.154Z"
   },
   {
    "duration": 4,
    "start_time": "2022-08-28T14:07:39.162Z"
   },
   {
    "duration": 278,
    "start_time": "2022-08-28T14:07:39.167Z"
   },
   {
    "duration": 4,
    "start_time": "2022-08-28T14:07:39.447Z"
   },
   {
    "duration": 10,
    "start_time": "2022-08-28T14:07:39.452Z"
   },
   {
    "duration": 32,
    "start_time": "2022-08-28T14:07:39.463Z"
   },
   {
    "duration": 321,
    "start_time": "2022-08-28T14:07:39.496Z"
   },
   {
    "duration": 266,
    "start_time": "2022-08-28T14:07:39.819Z"
   },
   {
    "duration": 166,
    "start_time": "2022-08-28T14:07:40.087Z"
   },
   {
    "duration": 175,
    "start_time": "2022-08-28T14:07:40.254Z"
   },
   {
    "duration": 94,
    "start_time": "2022-08-28T14:07:40.430Z"
   },
   {
    "duration": 260,
    "start_time": "2022-08-28T14:07:40.526Z"
   },
   {
    "duration": 7,
    "start_time": "2022-08-28T14:07:40.788Z"
   },
   {
    "duration": 9,
    "start_time": "2022-08-28T14:07:40.807Z"
   },
   {
    "duration": 6,
    "start_time": "2022-08-28T14:07:40.818Z"
   },
   {
    "duration": 9,
    "start_time": "2022-08-28T14:07:40.825Z"
   },
   {
    "duration": 9,
    "start_time": "2022-08-28T14:07:40.835Z"
   },
   {
    "duration": 4,
    "start_time": "2022-08-28T14:07:40.846Z"
   },
   {
    "duration": 22,
    "start_time": "2022-08-28T14:07:40.851Z"
   },
   {
    "duration": 118,
    "start_time": "2022-08-28T14:07:40.874Z"
   },
   {
    "duration": 342,
    "start_time": "2022-08-28T14:07:40.993Z"
   },
   {
    "duration": 6,
    "start_time": "2022-08-28T14:07:41.337Z"
   },
   {
    "duration": 10,
    "start_time": "2022-08-28T14:07:41.344Z"
   },
   {
    "duration": 17,
    "start_time": "2022-08-28T14:07:41.355Z"
   },
   {
    "duration": 39,
    "start_time": "2022-08-28T14:07:41.373Z"
   },
   {
    "duration": 133,
    "start_time": "2022-08-28T14:07:41.414Z"
   },
   {
    "duration": 5,
    "start_time": "2022-08-28T14:07:41.548Z"
   },
   {
    "duration": 32,
    "start_time": "2022-08-28T14:07:41.555Z"
   },
   {
    "duration": 148,
    "start_time": "2022-08-28T14:07:41.588Z"
   },
   {
    "duration": 21,
    "start_time": "2022-08-28T14:07:41.738Z"
   },
   {
    "duration": 134,
    "start_time": "2022-08-28T14:07:41.761Z"
   },
   {
    "duration": 200,
    "start_time": "2022-08-28T14:07:41.897Z"
   },
   {
    "duration": 8,
    "start_time": "2022-08-28T14:07:42.098Z"
   },
   {
    "duration": 25,
    "start_time": "2022-08-28T14:07:42.108Z"
   },
   {
    "duration": 14,
    "start_time": "2022-08-28T14:07:42.134Z"
   },
   {
    "duration": 128,
    "start_time": "2022-08-28T14:07:42.150Z"
   },
   {
    "duration": 26,
    "start_time": "2022-08-28T14:07:42.280Z"
   },
   {
    "duration": 9,
    "start_time": "2022-08-28T14:07:42.307Z"
   },
   {
    "duration": 140,
    "start_time": "2022-08-28T14:07:42.318Z"
   },
   {
    "duration": 25,
    "start_time": "2022-08-28T14:07:42.460Z"
   },
   {
    "duration": 152,
    "start_time": "2022-08-28T14:07:42.487Z"
   },
   {
    "duration": 18,
    "start_time": "2022-08-28T14:07:42.640Z"
   },
   {
    "duration": 7,
    "start_time": "2022-08-28T14:07:42.660Z"
   },
   {
    "duration": 191,
    "start_time": "2022-08-28T14:07:42.669Z"
   },
   {
    "duration": 311,
    "start_time": "2022-08-28T14:07:42.862Z"
   },
   {
    "duration": 9,
    "start_time": "2022-08-28T14:07:43.174Z"
   },
   {
    "duration": 10,
    "start_time": "2022-08-28T14:07:43.184Z"
   },
   {
    "duration": 224,
    "start_time": "2022-08-28T14:07:43.206Z"
   },
   {
    "duration": 9,
    "start_time": "2022-08-28T14:07:43.431Z"
   },
   {
    "duration": 35,
    "start_time": "2022-08-28T14:07:43.442Z"
   },
   {
    "duration": 47,
    "start_time": "2022-08-28T14:07:43.479Z"
   },
   {
    "duration": 153,
    "start_time": "2022-08-28T14:07:43.528Z"
   },
   {
    "duration": 126,
    "start_time": "2022-08-28T14:07:43.683Z"
   },
   {
    "duration": 148,
    "start_time": "2022-08-28T14:07:43.814Z"
   },
   {
    "duration": 4,
    "start_time": "2022-08-28T14:07:43.964Z"
   },
   {
    "duration": 173,
    "start_time": "2022-08-28T14:07:43.969Z"
   },
   {
    "duration": 150,
    "start_time": "2022-08-28T14:07:44.144Z"
   },
   {
    "duration": 150,
    "start_time": "2022-08-28T14:07:44.305Z"
   }
  ],
  "colab": {
   "name": "final_project_4.ipynb",
   "provenance": []
  },
  "kernelspec": {
   "display_name": "Python 3 (ipykernel)",
   "language": "python",
   "name": "python3"
  },
  "language_info": {
   "codemirror_mode": {
    "name": "ipython",
    "version": 3
   },
   "file_extension": ".py",
   "mimetype": "text/x-python",
   "name": "python",
   "nbconvert_exporter": "python",
   "pygments_lexer": "ipython3",
   "version": "3.10.0"
  },
  "toc": {
   "base_numbering": 1,
   "nav_menu": {},
   "number_sections": true,
   "sideBar": true,
   "skip_h1_title": true,
   "title_cell": "Содержание",
   "title_sidebar": "Contents",
   "toc_cell": true,
   "toc_position": {
    "height": "calc(100% - 180px)",
    "left": "10px",
    "top": "150px",
    "width": "318.391px"
   },
   "toc_section_display": true,
   "toc_window_display": true
  }
 },
 "nbformat": 4,
 "nbformat_minor": 1
}
