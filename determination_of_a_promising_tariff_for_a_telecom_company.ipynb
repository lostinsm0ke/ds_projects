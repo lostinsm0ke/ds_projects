{
 "cells": [
  {
   "cell_type": "markdown",
   "metadata": {},
   "source": [
    "# Определение перспективного тарифа для телеком-компании"
   ]
  },
  {
   "cell_type": "markdown",
   "metadata": {},
   "source": [
    "### Описание проекта"
   ]
  },
  {
   "cell_type": "markdown",
   "metadata": {},
   "source": [
    "Вам предстоит сделать предварительный анализ тарифов на небольшой выборке клиентов. В вашем распоряжении данные 500 пользователей «Мегалайна»: кто они, откуда, каким тарифом пользуются, сколько звонков и сообщений каждый отправил за 2018 год. Нужно проанализировать поведение клиентов и сделать вывод — какой тариф лучше."
   ]
  },
  {
   "cell_type": "markdown",
   "metadata": {},
   "source": [
    "**План**\n",
    "\n",
    "1) **Изучить общую информацию.** Ознакомиться с данными.\n",
    "\n",
    "2) **Подготовка данных.**\n",
    "\n",
    "    - Приведите данные к нужным типам;\n",
    "    - Найдите и исправьте ошибки в данных, если они есть.\n",
    "    - Поясните, какие ошибки вы нашли и как их исправили. В данных вы найдёте звонки с нулевой продолжительностью. Это не ошибка: нулями обозначены пропущенные звонки, поэтому их не нужно удалять.\n",
    "    - Посчитайте для каждого пользователя:\n",
    "        1. Количество сделанных звонков и израсходованных минут разговора по месяцам;\n",
    "        2. Количество отправленных сообщений по месяцам;\n",
    "        3. Объем израсходованного интернет-трафика по месяцам;\n",
    "        4. Помесячную выручку с каждого пользователя (вычтите бесплатный лимит из суммарного количества звонков, сообщений и интернет-трафика; остаток умножьте на значение из тарифного плана; прибавьте абонентскую плату, соответствующую тарифному плану).\n",
    "    \n",
    "3) **Проанализировать данные.**\n",
    "\n",
    "    - Опишите поведение клиентов оператора, исходя из выборки. Сколько минут разговора, сколько сообщений и какой объём интернет-трафика требуется пользователям каждого тарифа в месяц? Посчитайте среднее количество, дисперсию и стандартное отклонение. Постройте гистограммы. Опишите распределения.\n",
    "    \n",
    "4) **Проверить гипотезы.**\n",
    "\n",
    "    - Средняя выручка пользователей тарифов «Ультра» и «Смарт» различаются;\n",
    "    - Средняя выручка пользователей из Москвы отличается от выручки пользователей из других регионов.\n",
    "    - Пороговое значение alpha задайте самостоятельно.\n",
    "    Поясните:\n",
    "    как вы формулировали нулевую и альтернативную гипотезы;\n",
    "    какой критерий использовали для проверки гипотез и почему.\n",
    "    \n",
    "5) **Сделать общий вывод.**"
   ]
  },
  {
   "cell_type": "markdown",
   "metadata": {},
   "source": [
    "### Изучаем общую информацию"
   ]
  },
  {
   "cell_type": "code",
   "execution_count": 1,
   "metadata": {},
   "outputs": [],
   "source": [
    "import pandas as pd\n",
    "import matplotlib.pyplot as plt\n",
    "from scipy import stats as st\n",
    "import numpy as np\n",
    "import datetime\n",
    "import math"
   ]
  },
  {
   "cell_type": "markdown",
   "metadata": {},
   "source": [
    "Откроем файлы и изучим их"
   ]
  },
  {
   "cell_type": "code",
   "execution_count": 2,
   "metadata": {},
   "outputs": [],
   "source": [
    "data_calls = pd.read_csv(\"/datasets/calls.csv\")\n",
    "data_internet = pd.read_csv(\"/datasets/internet.csv\", index_col=[0])\n",
    "data_messages = pd.read_csv(\"/datasets/messages.csv\")\n",
    "data_tariffs = pd.read_csv(\"/datasets/tariffs.csv\")\n",
    "data_users = pd.read_csv(\"/datasets/users.csv\")"
   ]
  },
  {
   "cell_type": "code",
   "execution_count": 3,
   "metadata": {},
   "outputs": [],
   "source": [
    "dictionary_with_frames ={\n",
    "    'calls': data_calls,\n",
    "    'internet': data_internet,\n",
    "    'messages': data_messages,\n",
    "    'tariffs': data_tariffs,\n",
    "    'users': data_users \n",
    "}"
   ]
  },
  {
   "cell_type": "code",
   "execution_count": 4,
   "metadata": {},
   "outputs": [],
   "source": [
    "def get_stat(dict_of_frames):\n",
    "    \"\"\"Функция для агрегации данных о нескольких загруженных таблицах.\n",
    "    Собирает следующею информацию: количество объектов(строк) в данных,\n",
    "    количество null-значений и тип каждого столбца\n",
    "    \"\"\"\n",
    "    def table(dataframe, name):\n",
    "        \"\"\"Функция отвечающая за создание промежуточных таблиц,\n",
    "        собирая данные из конкретного переданного фрейма\n",
    "        \"\"\"\n",
    "        columns = dataframe.columns\n",
    "        count_of_rows = len(columns)\n",
    "        total = dataframe.shape[0]\n",
    "        \n",
    "        part_total_table = pd.DataFrame(data =[[0] * 5] * count_of_rows, \n",
    "                                        columns = ['total',\n",
    "                                                   'frame',\n",
    "                                                   \"columns\",\n",
    "                                                   \"null_values\",\n",
    "                                                   \"type\"])\n",
    "    \n",
    "        part_total_table['total'] = [total] * count_of_rows\n",
    "        part_total_table['frame'] = [name] * count_of_rows\n",
    "        part_total_table['columns'] = columns\n",
    "        \n",
    "        for column in columns:\n",
    "            curent_type = str(dataframe[column].dtype)\n",
    "            count_of_null = dataframe[column].isnull().sum()\n",
    "            part_total_table.loc[part_total_table['columns'] == column,'null_values'] = count_of_null\n",
    "            part_total_table.loc[part_total_table['columns'] == column,'type'] = curent_type\n",
    "        return part_total_table\n",
    "        \n",
    "    final_frame = pd.DataFrame(columns = ['total','frame',\"columns\",\"null_values\",\"type\"])\n",
    "    \n",
    "    for name,frame in dict_of_frames.items():\n",
    "        part_of_table = table(frame,name)\n",
    "        final_frame = final_frame.append(part_of_table)\n",
    "        \n",
    "    final_frame = final_frame.reset_index(drop = True)\n",
    "    final_frame_grouped = final_frame.groupby(['total','frame',\"columns\"]).sum()\n",
    "    \n",
    "    return final_frame_grouped"
   ]
  },
  {
   "cell_type": "code",
   "execution_count": 5,
   "metadata": {},
   "outputs": [
    {
     "data": {
      "text/html": [
       "<div>\n",
       "<style scoped>\n",
       "    .dataframe tbody tr th:only-of-type {\n",
       "        vertical-align: middle;\n",
       "    }\n",
       "\n",
       "    .dataframe tbody tr th {\n",
       "        vertical-align: top;\n",
       "    }\n",
       "\n",
       "    .dataframe thead th {\n",
       "        text-align: right;\n",
       "    }\n",
       "</style>\n",
       "<table border=\"1\" class=\"dataframe\">\n",
       "  <thead>\n",
       "    <tr style=\"text-align: right;\">\n",
       "      <th></th>\n",
       "      <th></th>\n",
       "      <th></th>\n",
       "      <th>null_values</th>\n",
       "      <th>type</th>\n",
       "    </tr>\n",
       "    <tr>\n",
       "      <th>total</th>\n",
       "      <th>frame</th>\n",
       "      <th>columns</th>\n",
       "      <th></th>\n",
       "      <th></th>\n",
       "    </tr>\n",
       "  </thead>\n",
       "  <tbody>\n",
       "    <tr>\n",
       "      <th rowspan=\"8\" valign=\"top\">2</th>\n",
       "      <th rowspan=\"8\" valign=\"top\">tariffs</th>\n",
       "      <th>mb_per_month_included</th>\n",
       "      <td>0</td>\n",
       "      <td>int64</td>\n",
       "    </tr>\n",
       "    <tr>\n",
       "      <th>messages_included</th>\n",
       "      <td>0</td>\n",
       "      <td>int64</td>\n",
       "    </tr>\n",
       "    <tr>\n",
       "      <th>minutes_included</th>\n",
       "      <td>0</td>\n",
       "      <td>int64</td>\n",
       "    </tr>\n",
       "    <tr>\n",
       "      <th>rub_monthly_fee</th>\n",
       "      <td>0</td>\n",
       "      <td>int64</td>\n",
       "    </tr>\n",
       "    <tr>\n",
       "      <th>rub_per_gb</th>\n",
       "      <td>0</td>\n",
       "      <td>int64</td>\n",
       "    </tr>\n",
       "    <tr>\n",
       "      <th>rub_per_message</th>\n",
       "      <td>0</td>\n",
       "      <td>int64</td>\n",
       "    </tr>\n",
       "    <tr>\n",
       "      <th>rub_per_minute</th>\n",
       "      <td>0</td>\n",
       "      <td>int64</td>\n",
       "    </tr>\n",
       "    <tr>\n",
       "      <th>tariff_name</th>\n",
       "      <td>0</td>\n",
       "      <td>object</td>\n",
       "    </tr>\n",
       "    <tr>\n",
       "      <th rowspan=\"8\" valign=\"top\">500</th>\n",
       "      <th rowspan=\"8\" valign=\"top\">users</th>\n",
       "      <th>age</th>\n",
       "      <td>0</td>\n",
       "      <td>int64</td>\n",
       "    </tr>\n",
       "    <tr>\n",
       "      <th>churn_date</th>\n",
       "      <td>462</td>\n",
       "      <td>object</td>\n",
       "    </tr>\n",
       "    <tr>\n",
       "      <th>city</th>\n",
       "      <td>0</td>\n",
       "      <td>object</td>\n",
       "    </tr>\n",
       "    <tr>\n",
       "      <th>first_name</th>\n",
       "      <td>0</td>\n",
       "      <td>object</td>\n",
       "    </tr>\n",
       "    <tr>\n",
       "      <th>last_name</th>\n",
       "      <td>0</td>\n",
       "      <td>object</td>\n",
       "    </tr>\n",
       "    <tr>\n",
       "      <th>reg_date</th>\n",
       "      <td>0</td>\n",
       "      <td>object</td>\n",
       "    </tr>\n",
       "    <tr>\n",
       "      <th>tariff</th>\n",
       "      <td>0</td>\n",
       "      <td>object</td>\n",
       "    </tr>\n",
       "    <tr>\n",
       "      <th>user_id</th>\n",
       "      <td>0</td>\n",
       "      <td>int64</td>\n",
       "    </tr>\n",
       "    <tr>\n",
       "      <th rowspan=\"3\" valign=\"top\">123036</th>\n",
       "      <th rowspan=\"3\" valign=\"top\">messages</th>\n",
       "      <th>id</th>\n",
       "      <td>0</td>\n",
       "      <td>object</td>\n",
       "    </tr>\n",
       "    <tr>\n",
       "      <th>message_date</th>\n",
       "      <td>0</td>\n",
       "      <td>object</td>\n",
       "    </tr>\n",
       "    <tr>\n",
       "      <th>user_id</th>\n",
       "      <td>0</td>\n",
       "      <td>int64</td>\n",
       "    </tr>\n",
       "    <tr>\n",
       "      <th rowspan=\"4\" valign=\"top\">149396</th>\n",
       "      <th rowspan=\"4\" valign=\"top\">internet</th>\n",
       "      <th>id</th>\n",
       "      <td>0</td>\n",
       "      <td>object</td>\n",
       "    </tr>\n",
       "    <tr>\n",
       "      <th>mb_used</th>\n",
       "      <td>0</td>\n",
       "      <td>float64</td>\n",
       "    </tr>\n",
       "    <tr>\n",
       "      <th>session_date</th>\n",
       "      <td>0</td>\n",
       "      <td>object</td>\n",
       "    </tr>\n",
       "    <tr>\n",
       "      <th>user_id</th>\n",
       "      <td>0</td>\n",
       "      <td>int64</td>\n",
       "    </tr>\n",
       "    <tr>\n",
       "      <th rowspan=\"4\" valign=\"top\">202607</th>\n",
       "      <th rowspan=\"4\" valign=\"top\">calls</th>\n",
       "      <th>call_date</th>\n",
       "      <td>0</td>\n",
       "      <td>object</td>\n",
       "    </tr>\n",
       "    <tr>\n",
       "      <th>duration</th>\n",
       "      <td>0</td>\n",
       "      <td>float64</td>\n",
       "    </tr>\n",
       "    <tr>\n",
       "      <th>id</th>\n",
       "      <td>0</td>\n",
       "      <td>object</td>\n",
       "    </tr>\n",
       "    <tr>\n",
       "      <th>user_id</th>\n",
       "      <td>0</td>\n",
       "      <td>int64</td>\n",
       "    </tr>\n",
       "  </tbody>\n",
       "</table>\n",
       "</div>"
      ],
      "text/plain": [
       "                                       null_values     type\n",
       "total  frame    columns                                    \n",
       "2      tariffs  mb_per_month_included            0    int64\n",
       "                messages_included                0    int64\n",
       "                minutes_included                 0    int64\n",
       "                rub_monthly_fee                  0    int64\n",
       "                rub_per_gb                       0    int64\n",
       "                rub_per_message                  0    int64\n",
       "                rub_per_minute                   0    int64\n",
       "                tariff_name                      0   object\n",
       "500    users    age                              0    int64\n",
       "                churn_date                     462   object\n",
       "                city                             0   object\n",
       "                first_name                       0   object\n",
       "                last_name                        0   object\n",
       "                reg_date                         0   object\n",
       "                tariff                           0   object\n",
       "                user_id                          0    int64\n",
       "123036 messages id                               0   object\n",
       "                message_date                     0   object\n",
       "                user_id                          0    int64\n",
       "149396 internet id                               0   object\n",
       "                mb_used                          0  float64\n",
       "                session_date                     0   object\n",
       "                user_id                          0    int64\n",
       "202607 calls    call_date                        0   object\n",
       "                duration                         0  float64\n",
       "                id                               0   object\n",
       "                user_id                          0    int64"
      ]
     },
     "execution_count": 5,
     "metadata": {},
     "output_type": "execute_result"
    }
   ],
   "source": [
    "get_stat(dictionary_with_frames)"
   ]
  },
  {
   "cell_type": "markdown",
   "metadata": {},
   "source": [
    "### Подготовка данных и предобработка данных"
   ]
  },
  {
   "cell_type": "markdown",
   "metadata": {},
   "source": [
    "**Предобработка информации о звонках**"
   ]
  },
  {
   "cell_type": "code",
   "execution_count": 6,
   "metadata": {},
   "outputs": [],
   "source": [
    "data_calls['call_date'] = pd.to_datetime(data_calls['call_date'], format='%Y-%m-%dT%H:%M:%S')\n",
    "data_calls['month'] = data_calls['call_date'].dt.month"
   ]
  },
  {
   "cell_type": "code",
   "execution_count": 7,
   "metadata": {},
   "outputs": [],
   "source": [
    "data_calls['duration'] = np.ceil(data_calls['duration'])"
   ]
  },
  {
   "cell_type": "code",
   "execution_count": 8,
   "metadata": {},
   "outputs": [
    {
     "data": {
      "text/plain": [
       "0.00      19598\n",
       "335.91        9\n",
       "447.30        9\n",
       "197.56        9\n",
       "199.11        8\n",
       "          ...  \n",
       "182.69        1\n",
       "726.03        1\n",
       "315.12        1\n",
       "898.99        1\n",
       "677.66        1\n",
       "Name: mb_used, Length: 70003, dtype: int64"
      ]
     },
     "execution_count": 8,
     "metadata": {},
     "output_type": "execute_result"
    }
   ],
   "source": [
    "data_internet['mb_used'].value_counts()"
   ]
  },
  {
   "cell_type": "markdown",
   "metadata": {},
   "source": [
    "Нашел нулевые значения в *mb_used*. 19598 из 149396 значений оказались нулевыми, возможно, что пользователи действительно не выходили в интернет."
   ]
  },
  {
   "cell_type": "code",
   "execution_count": 9,
   "metadata": {},
   "outputs": [
    {
     "data": {
      "text/plain": [
       "19598"
      ]
     },
     "execution_count": 9,
     "metadata": {},
     "output_type": "execute_result"
    }
   ],
   "source": [
    "zeros_count = data_internet[data_internet['mb_used'] == 0]\n",
    "len(zeros_count)"
   ]
  },
  {
   "cell_type": "code",
   "execution_count": 10,
   "metadata": {},
   "outputs": [
    {
     "data": {
      "text/plain": [
       "1724.83"
      ]
     },
     "execution_count": 10,
     "metadata": {},
     "output_type": "execute_result"
    }
   ],
   "source": [
    "data_internet['mb_used'].max()"
   ]
  },
  {
   "cell_type": "code",
   "execution_count": 11,
   "metadata": {},
   "outputs": [],
   "source": [
    "# np.ceil(data_internet['mb_used'] / 1024).value_counts()"
   ]
  },
  {
   "cell_type": "code",
   "execution_count": 12,
   "metadata": {},
   "outputs": [],
   "source": [
    "# data_internet['mb_used'] = np.ceil((data_internet['mb_used'] * 10) / 1024)"
   ]
  },
  {
   "cell_type": "markdown",
   "metadata": {},
   "source": [
    "Вот тут как раз то, о чём я говорил (домножил на 10 и стало больше похоже на правду)."
   ]
  },
  {
   "cell_type": "code",
   "execution_count": 13,
   "metadata": {},
   "outputs": [
    {
     "data": {
      "text/html": [
       "<div>\n",
       "<style scoped>\n",
       "    .dataframe tbody tr th:only-of-type {\n",
       "        vertical-align: middle;\n",
       "    }\n",
       "\n",
       "    .dataframe tbody tr th {\n",
       "        vertical-align: top;\n",
       "    }\n",
       "\n",
       "    .dataframe thead th {\n",
       "        text-align: right;\n",
       "    }\n",
       "</style>\n",
       "<table border=\"1\" class=\"dataframe\">\n",
       "  <thead>\n",
       "    <tr style=\"text-align: right;\">\n",
       "      <th></th>\n",
       "      <th>id</th>\n",
       "      <th>mb_used</th>\n",
       "      <th>session_date</th>\n",
       "      <th>user_id</th>\n",
       "    </tr>\n",
       "  </thead>\n",
       "  <tbody>\n",
       "    <tr>\n",
       "      <th>0</th>\n",
       "      <td>1000_0</td>\n",
       "      <td>112.95</td>\n",
       "      <td>2018-11-25</td>\n",
       "      <td>1000</td>\n",
       "    </tr>\n",
       "    <tr>\n",
       "      <th>1</th>\n",
       "      <td>1000_1</td>\n",
       "      <td>1052.81</td>\n",
       "      <td>2018-09-07</td>\n",
       "      <td>1000</td>\n",
       "    </tr>\n",
       "    <tr>\n",
       "      <th>2</th>\n",
       "      <td>1000_2</td>\n",
       "      <td>1197.26</td>\n",
       "      <td>2018-06-25</td>\n",
       "      <td>1000</td>\n",
       "    </tr>\n",
       "    <tr>\n",
       "      <th>3</th>\n",
       "      <td>1000_3</td>\n",
       "      <td>550.27</td>\n",
       "      <td>2018-08-22</td>\n",
       "      <td>1000</td>\n",
       "    </tr>\n",
       "    <tr>\n",
       "      <th>4</th>\n",
       "      <td>1000_4</td>\n",
       "      <td>302.56</td>\n",
       "      <td>2018-09-24</td>\n",
       "      <td>1000</td>\n",
       "    </tr>\n",
       "    <tr>\n",
       "      <th>...</th>\n",
       "      <td>...</td>\n",
       "      <td>...</td>\n",
       "      <td>...</td>\n",
       "      <td>...</td>\n",
       "    </tr>\n",
       "    <tr>\n",
       "      <th>149391</th>\n",
       "      <td>1499_152</td>\n",
       "      <td>318.90</td>\n",
       "      <td>2018-10-03</td>\n",
       "      <td>1499</td>\n",
       "    </tr>\n",
       "    <tr>\n",
       "      <th>149392</th>\n",
       "      <td>1499_153</td>\n",
       "      <td>490.13</td>\n",
       "      <td>2018-12-14</td>\n",
       "      <td>1499</td>\n",
       "    </tr>\n",
       "    <tr>\n",
       "      <th>149393</th>\n",
       "      <td>1499_154</td>\n",
       "      <td>0.00</td>\n",
       "      <td>2018-10-27</td>\n",
       "      <td>1499</td>\n",
       "    </tr>\n",
       "    <tr>\n",
       "      <th>149394</th>\n",
       "      <td>1499_155</td>\n",
       "      <td>1246.32</td>\n",
       "      <td>2018-11-26</td>\n",
       "      <td>1499</td>\n",
       "    </tr>\n",
       "    <tr>\n",
       "      <th>149395</th>\n",
       "      <td>1499_156</td>\n",
       "      <td>544.37</td>\n",
       "      <td>2018-10-26</td>\n",
       "      <td>1499</td>\n",
       "    </tr>\n",
       "  </tbody>\n",
       "</table>\n",
       "<p>149396 rows × 4 columns</p>\n",
       "</div>"
      ],
      "text/plain": [
       "              id  mb_used session_date  user_id\n",
       "0         1000_0   112.95   2018-11-25     1000\n",
       "1         1000_1  1052.81   2018-09-07     1000\n",
       "2         1000_2  1197.26   2018-06-25     1000\n",
       "3         1000_3   550.27   2018-08-22     1000\n",
       "4         1000_4   302.56   2018-09-24     1000\n",
       "...          ...      ...          ...      ...\n",
       "149391  1499_152   318.90   2018-10-03     1499\n",
       "149392  1499_153   490.13   2018-12-14     1499\n",
       "149393  1499_154     0.00   2018-10-27     1499\n",
       "149394  1499_155  1246.32   2018-11-26     1499\n",
       "149395  1499_156   544.37   2018-10-26     1499\n",
       "\n",
       "[149396 rows x 4 columns]"
      ]
     },
     "execution_count": 13,
     "metadata": {},
     "output_type": "execute_result"
    }
   ],
   "source": [
    "# Комментарий ревьюера 2\n",
    "data_internet"
   ]
  },
  {
   "cell_type": "code",
   "execution_count": 14,
   "metadata": {},
   "outputs": [
    {
     "data": {
      "text/html": [
       "<div>\n",
       "<style scoped>\n",
       "    .dataframe tbody tr th:only-of-type {\n",
       "        vertical-align: middle;\n",
       "    }\n",
       "\n",
       "    .dataframe tbody tr th {\n",
       "        vertical-align: top;\n",
       "    }\n",
       "\n",
       "    .dataframe thead th {\n",
       "        text-align: right;\n",
       "    }\n",
       "</style>\n",
       "<table border=\"1\" class=\"dataframe\">\n",
       "  <thead>\n",
       "    <tr style=\"text-align: right;\">\n",
       "      <th></th>\n",
       "      <th>id</th>\n",
       "      <th>call_date</th>\n",
       "      <th>duration</th>\n",
       "      <th>user_id</th>\n",
       "      <th>month</th>\n",
       "    </tr>\n",
       "  </thead>\n",
       "  <tbody>\n",
       "    <tr>\n",
       "      <th>0</th>\n",
       "      <td>1000_0</td>\n",
       "      <td>2018-07-25</td>\n",
       "      <td>0.0</td>\n",
       "      <td>1000</td>\n",
       "      <td>7</td>\n",
       "    </tr>\n",
       "    <tr>\n",
       "      <th>1</th>\n",
       "      <td>1000_1</td>\n",
       "      <td>2018-08-17</td>\n",
       "      <td>0.0</td>\n",
       "      <td>1000</td>\n",
       "      <td>8</td>\n",
       "    </tr>\n",
       "    <tr>\n",
       "      <th>2</th>\n",
       "      <td>1000_2</td>\n",
       "      <td>2018-06-11</td>\n",
       "      <td>3.0</td>\n",
       "      <td>1000</td>\n",
       "      <td>6</td>\n",
       "    </tr>\n",
       "    <tr>\n",
       "      <th>3</th>\n",
       "      <td>1000_3</td>\n",
       "      <td>2018-09-21</td>\n",
       "      <td>14.0</td>\n",
       "      <td>1000</td>\n",
       "      <td>9</td>\n",
       "    </tr>\n",
       "    <tr>\n",
       "      <th>4</th>\n",
       "      <td>1000_4</td>\n",
       "      <td>2018-12-15</td>\n",
       "      <td>6.0</td>\n",
       "      <td>1000</td>\n",
       "      <td>12</td>\n",
       "    </tr>\n",
       "    <tr>\n",
       "      <th>5</th>\n",
       "      <td>1000_5</td>\n",
       "      <td>2018-11-02</td>\n",
       "      <td>0.0</td>\n",
       "      <td>1000</td>\n",
       "      <td>11</td>\n",
       "    </tr>\n",
       "    <tr>\n",
       "      <th>6</th>\n",
       "      <td>1000_6</td>\n",
       "      <td>2018-10-18</td>\n",
       "      <td>0.0</td>\n",
       "      <td>1000</td>\n",
       "      <td>10</td>\n",
       "    </tr>\n",
       "    <tr>\n",
       "      <th>7</th>\n",
       "      <td>1000_7</td>\n",
       "      <td>2018-08-22</td>\n",
       "      <td>19.0</td>\n",
       "      <td>1000</td>\n",
       "      <td>8</td>\n",
       "    </tr>\n",
       "    <tr>\n",
       "      <th>8</th>\n",
       "      <td>1000_8</td>\n",
       "      <td>2018-09-15</td>\n",
       "      <td>19.0</td>\n",
       "      <td>1000</td>\n",
       "      <td>9</td>\n",
       "    </tr>\n",
       "    <tr>\n",
       "      <th>9</th>\n",
       "      <td>1000_9</td>\n",
       "      <td>2018-08-15</td>\n",
       "      <td>0.0</td>\n",
       "      <td>1000</td>\n",
       "      <td>8</td>\n",
       "    </tr>\n",
       "    <tr>\n",
       "      <th>10</th>\n",
       "      <td>1000_10</td>\n",
       "      <td>2018-08-22</td>\n",
       "      <td>6.0</td>\n",
       "      <td>1000</td>\n",
       "      <td>8</td>\n",
       "    </tr>\n",
       "    <tr>\n",
       "      <th>11</th>\n",
       "      <td>1000_11</td>\n",
       "      <td>2018-05-28</td>\n",
       "      <td>19.0</td>\n",
       "      <td>1000</td>\n",
       "      <td>5</td>\n",
       "    </tr>\n",
       "    <tr>\n",
       "      <th>12</th>\n",
       "      <td>1000_12</td>\n",
       "      <td>2018-07-05</td>\n",
       "      <td>3.0</td>\n",
       "      <td>1000</td>\n",
       "      <td>7</td>\n",
       "    </tr>\n",
       "    <tr>\n",
       "      <th>13</th>\n",
       "      <td>1000_13</td>\n",
       "      <td>2018-09-29</td>\n",
       "      <td>8.0</td>\n",
       "      <td>1000</td>\n",
       "      <td>9</td>\n",
       "    </tr>\n",
       "    <tr>\n",
       "      <th>14</th>\n",
       "      <td>1000_14</td>\n",
       "      <td>2018-12-11</td>\n",
       "      <td>10.0</td>\n",
       "      <td>1000</td>\n",
       "      <td>12</td>\n",
       "    </tr>\n",
       "  </tbody>\n",
       "</table>\n",
       "</div>"
      ],
      "text/plain": [
       "         id  call_date  duration  user_id  month\n",
       "0    1000_0 2018-07-25       0.0     1000      7\n",
       "1    1000_1 2018-08-17       0.0     1000      8\n",
       "2    1000_2 2018-06-11       3.0     1000      6\n",
       "3    1000_3 2018-09-21      14.0     1000      9\n",
       "4    1000_4 2018-12-15       6.0     1000     12\n",
       "5    1000_5 2018-11-02       0.0     1000     11\n",
       "6    1000_6 2018-10-18       0.0     1000     10\n",
       "7    1000_7 2018-08-22      19.0     1000      8\n",
       "8    1000_8 2018-09-15      19.0     1000      9\n",
       "9    1000_9 2018-08-15       0.0     1000      8\n",
       "10  1000_10 2018-08-22       6.0     1000      8\n",
       "11  1000_11 2018-05-28      19.0     1000      5\n",
       "12  1000_12 2018-07-05       3.0     1000      7\n",
       "13  1000_13 2018-09-29       8.0     1000      9\n",
       "14  1000_14 2018-12-11      10.0     1000     12"
      ]
     },
     "execution_count": 14,
     "metadata": {},
     "output_type": "execute_result"
    }
   ],
   "source": [
    "data_calls.head(15)"
   ]
  },
  {
   "cell_type": "markdown",
   "metadata": {},
   "source": [
    "Заменил нулевые значения в столбце **duration** на 1. Поменял тип данных на datetime, добавил отдельный столбец с месяцем для удобного просмотра данных. Окурглил значения в столбце **duration** до целых для удобства анализа."
   ]
  },
  {
   "cell_type": "markdown",
   "metadata": {},
   "source": [
    "**Предобработка информации о пользователях**"
   ]
  },
  {
   "cell_type": "code",
   "execution_count": 15,
   "metadata": {},
   "outputs": [],
   "source": [
    "data_users['churn_date'] = pd.to_datetime(data_users['churn_date'], format='%Y-%m-%dT%H:%M:%S')\n",
    "data_users['reg_date'] = pd.to_datetime(data_users['reg_date'], format='%Y-%m-%dT%H:%M:%S')\n",
    "data_users['churn_date'] = data_users['churn_date'].fillna(value = datetime.datetime.now())"
   ]
  },
  {
   "cell_type": "code",
   "execution_count": 16,
   "metadata": {},
   "outputs": [
    {
     "data": {
      "text/html": [
       "<div>\n",
       "<style scoped>\n",
       "    .dataframe tbody tr th:only-of-type {\n",
       "        vertical-align: middle;\n",
       "    }\n",
       "\n",
       "    .dataframe tbody tr th {\n",
       "        vertical-align: top;\n",
       "    }\n",
       "\n",
       "    .dataframe thead th {\n",
       "        text-align: right;\n",
       "    }\n",
       "</style>\n",
       "<table border=\"1\" class=\"dataframe\">\n",
       "  <thead>\n",
       "    <tr style=\"text-align: right;\">\n",
       "      <th></th>\n",
       "      <th>user_id</th>\n",
       "      <th>age</th>\n",
       "      <th>churn_date</th>\n",
       "      <th>city</th>\n",
       "      <th>first_name</th>\n",
       "      <th>last_name</th>\n",
       "      <th>reg_date</th>\n",
       "      <th>tariff</th>\n",
       "    </tr>\n",
       "  </thead>\n",
       "  <tbody>\n",
       "    <tr>\n",
       "      <th>171</th>\n",
       "      <td>1171</td>\n",
       "      <td>47</td>\n",
       "      <td>2022-10-23 13:10:59.457444</td>\n",
       "      <td>Москва</td>\n",
       "      <td>Каролина</td>\n",
       "      <td>Иванова</td>\n",
       "      <td>2018-03-20</td>\n",
       "      <td>smart</td>\n",
       "    </tr>\n",
       "    <tr>\n",
       "      <th>259</th>\n",
       "      <td>1259</td>\n",
       "      <td>33</td>\n",
       "      <td>2022-10-23 13:10:59.457444</td>\n",
       "      <td>Санкт-Петербург</td>\n",
       "      <td>Эмилия</td>\n",
       "      <td>Третьякова</td>\n",
       "      <td>2018-11-04</td>\n",
       "      <td>ultra</td>\n",
       "    </tr>\n",
       "    <tr>\n",
       "      <th>122</th>\n",
       "      <td>1122</td>\n",
       "      <td>60</td>\n",
       "      <td>2022-10-23 13:10:59.457444</td>\n",
       "      <td>Воронеж</td>\n",
       "      <td>Иулиан</td>\n",
       "      <td>Булгаков</td>\n",
       "      <td>2018-11-07</td>\n",
       "      <td>ultra</td>\n",
       "    </tr>\n",
       "    <tr>\n",
       "      <th>194</th>\n",
       "      <td>1194</td>\n",
       "      <td>70</td>\n",
       "      <td>2022-10-23 13:10:59.457444</td>\n",
       "      <td>Москва</td>\n",
       "      <td>Егор</td>\n",
       "      <td>Наумов</td>\n",
       "      <td>2018-12-03</td>\n",
       "      <td>smart</td>\n",
       "    </tr>\n",
       "    <tr>\n",
       "      <th>141</th>\n",
       "      <td>1141</td>\n",
       "      <td>52</td>\n",
       "      <td>2022-10-23 13:10:59.457444</td>\n",
       "      <td>Москва</td>\n",
       "      <td>Клариса</td>\n",
       "      <td>Короткова</td>\n",
       "      <td>2018-12-02</td>\n",
       "      <td>smart</td>\n",
       "    </tr>\n",
       "    <tr>\n",
       "      <th>188</th>\n",
       "      <td>1188</td>\n",
       "      <td>41</td>\n",
       "      <td>2022-10-23 13:10:59.457444</td>\n",
       "      <td>Санкт-Петербург</td>\n",
       "      <td>Габриэль</td>\n",
       "      <td>Соколов</td>\n",
       "      <td>2018-02-04</td>\n",
       "      <td>smart</td>\n",
       "    </tr>\n",
       "    <tr>\n",
       "      <th>300</th>\n",
       "      <td>1300</td>\n",
       "      <td>40</td>\n",
       "      <td>2022-10-23 13:10:59.457444</td>\n",
       "      <td>Москва</td>\n",
       "      <td>Тихон</td>\n",
       "      <td>Азерников</td>\n",
       "      <td>2018-07-26</td>\n",
       "      <td>ultra</td>\n",
       "    </tr>\n",
       "    <tr>\n",
       "      <th>419</th>\n",
       "      <td>1419</td>\n",
       "      <td>19</td>\n",
       "      <td>2022-10-23 13:10:59.457444</td>\n",
       "      <td>Новороссийск</td>\n",
       "      <td>Эльмира</td>\n",
       "      <td>Яшина</td>\n",
       "      <td>2018-07-19</td>\n",
       "      <td>smart</td>\n",
       "    </tr>\n",
       "    <tr>\n",
       "      <th>298</th>\n",
       "      <td>1298</td>\n",
       "      <td>29</td>\n",
       "      <td>2022-10-23 13:10:59.457444</td>\n",
       "      <td>Новосибирск</td>\n",
       "      <td>Надежда</td>\n",
       "      <td>Чеснокова</td>\n",
       "      <td>2018-07-26</td>\n",
       "      <td>smart</td>\n",
       "    </tr>\n",
       "    <tr>\n",
       "      <th>245</th>\n",
       "      <td>1245</td>\n",
       "      <td>32</td>\n",
       "      <td>2022-10-23 13:10:59.457444</td>\n",
       "      <td>Москва</td>\n",
       "      <td>Маргарита</td>\n",
       "      <td>Коновалова</td>\n",
       "      <td>2018-09-10</td>\n",
       "      <td>ultra</td>\n",
       "    </tr>\n",
       "    <tr>\n",
       "      <th>73</th>\n",
       "      <td>1073</td>\n",
       "      <td>63</td>\n",
       "      <td>2022-10-23 13:10:59.457444</td>\n",
       "      <td>Владикавказ</td>\n",
       "      <td>Гордей</td>\n",
       "      <td>Павловский</td>\n",
       "      <td>2018-10-04</td>\n",
       "      <td>smart</td>\n",
       "    </tr>\n",
       "    <tr>\n",
       "      <th>285</th>\n",
       "      <td>1285</td>\n",
       "      <td>44</td>\n",
       "      <td>2022-10-23 13:10:59.457444</td>\n",
       "      <td>Краснодар</td>\n",
       "      <td>Ефим</td>\n",
       "      <td>Амельченко</td>\n",
       "      <td>2018-02-20</td>\n",
       "      <td>smart</td>\n",
       "    </tr>\n",
       "    <tr>\n",
       "      <th>100</th>\n",
       "      <td>1100</td>\n",
       "      <td>58</td>\n",
       "      <td>2022-10-23 13:10:59.457444</td>\n",
       "      <td>Санкт-Петербург</td>\n",
       "      <td>Руслан</td>\n",
       "      <td>Красильников</td>\n",
       "      <td>2018-07-02</td>\n",
       "      <td>smart</td>\n",
       "    </tr>\n",
       "    <tr>\n",
       "      <th>220</th>\n",
       "      <td>1220</td>\n",
       "      <td>59</td>\n",
       "      <td>2022-10-23 13:10:59.457444</td>\n",
       "      <td>Ростов-на-Дону</td>\n",
       "      <td>Рубен</td>\n",
       "      <td>Астапов</td>\n",
       "      <td>2018-11-22</td>\n",
       "      <td>smart</td>\n",
       "    </tr>\n",
       "    <tr>\n",
       "      <th>169</th>\n",
       "      <td>1169</td>\n",
       "      <td>52</td>\n",
       "      <td>2022-10-23 13:10:59.457444</td>\n",
       "      <td>Сочи</td>\n",
       "      <td>Георгина</td>\n",
       "      <td>Карташова</td>\n",
       "      <td>2018-06-25</td>\n",
       "      <td>smart</td>\n",
       "    </tr>\n",
       "  </tbody>\n",
       "</table>\n",
       "</div>"
      ],
      "text/plain": [
       "     user_id  age                 churn_date             city first_name  \\\n",
       "171     1171   47 2022-10-23 13:10:59.457444           Москва   Каролина   \n",
       "259     1259   33 2022-10-23 13:10:59.457444  Санкт-Петербург     Эмилия   \n",
       "122     1122   60 2022-10-23 13:10:59.457444          Воронеж     Иулиан   \n",
       "194     1194   70 2022-10-23 13:10:59.457444           Москва       Егор   \n",
       "141     1141   52 2022-10-23 13:10:59.457444           Москва    Клариса   \n",
       "188     1188   41 2022-10-23 13:10:59.457444  Санкт-Петербург   Габриэль   \n",
       "300     1300   40 2022-10-23 13:10:59.457444           Москва      Тихон   \n",
       "419     1419   19 2022-10-23 13:10:59.457444     Новороссийск    Эльмира   \n",
       "298     1298   29 2022-10-23 13:10:59.457444      Новосибирск    Надежда   \n",
       "245     1245   32 2022-10-23 13:10:59.457444           Москва  Маргарита   \n",
       "73      1073   63 2022-10-23 13:10:59.457444      Владикавказ     Гордей   \n",
       "285     1285   44 2022-10-23 13:10:59.457444        Краснодар       Ефим   \n",
       "100     1100   58 2022-10-23 13:10:59.457444  Санкт-Петербург     Руслан   \n",
       "220     1220   59 2022-10-23 13:10:59.457444   Ростов-на-Дону      Рубен   \n",
       "169     1169   52 2022-10-23 13:10:59.457444             Сочи   Георгина   \n",
       "\n",
       "        last_name   reg_date tariff  \n",
       "171       Иванова 2018-03-20  smart  \n",
       "259    Третьякова 2018-11-04  ultra  \n",
       "122      Булгаков 2018-11-07  ultra  \n",
       "194        Наумов 2018-12-03  smart  \n",
       "141     Короткова 2018-12-02  smart  \n",
       "188       Соколов 2018-02-04  smart  \n",
       "300     Азерников 2018-07-26  ultra  \n",
       "419         Яшина 2018-07-19  smart  \n",
       "298     Чеснокова 2018-07-26  smart  \n",
       "245    Коновалова 2018-09-10  ultra  \n",
       "73     Павловский 2018-10-04  smart  \n",
       "285    Амельченко 2018-02-20  smart  \n",
       "100  Красильников 2018-07-02  smart  \n",
       "220       Астапов 2018-11-22  smart  \n",
       "169     Карташова 2018-06-25  smart  "
      ]
     },
     "execution_count": 16,
     "metadata": {},
     "output_type": "execute_result"
    }
   ],
   "source": [
    "data_users.sample(15)"
   ]
  },
  {
   "cell_type": "markdown",
   "metadata": {},
   "source": [
    "Заменил значения даты на datetime, выделил столбец с месяцем и добавил в таблицу."
   ]
  },
  {
   "cell_type": "markdown",
   "metadata": {},
   "source": [
    "**Предобработка информации о сообщениях**"
   ]
  },
  {
   "cell_type": "code",
   "execution_count": 17,
   "metadata": {},
   "outputs": [],
   "source": [
    "data_messages['message_date'] = pd.to_datetime(data_messages['message_date'], format='%Y-%m-%dT%H:%M:%S')\n",
    "data_messages['month'] = data_messages['message_date'].dt.month"
   ]
  },
  {
   "cell_type": "markdown",
   "metadata": {},
   "source": [
    "Заменил значения даты на datetime, выделил столбец с месяцем и добавил в таблицу."
   ]
  },
  {
   "cell_type": "markdown",
   "metadata": {},
   "source": [
    "**Предобработка информации об интернет-сессиях**"
   ]
  },
  {
   "cell_type": "code",
   "execution_count": 18,
   "metadata": {},
   "outputs": [],
   "source": [
    "data_internet['session_date'] = pd.to_datetime(data_internet['session_date'], format='%Y-%m-%dT%H:%M:%S')\n",
    "data_internet['month'] = data_internet['session_date'].dt.month"
   ]
  },
  {
   "cell_type": "code",
   "execution_count": 19,
   "metadata": {},
   "outputs": [
    {
     "data": {
      "text/plain": [
       "array([[<AxesSubplot:title={'center':'mb_used'}>,\n",
       "        <AxesSubplot:title={'center':'session_date'}>],\n",
       "       [<AxesSubplot:title={'center':'user_id'}>,\n",
       "        <AxesSubplot:title={'center':'month'}>]], dtype=object)"
      ]
     },
     "execution_count": 19,
     "metadata": {},
     "output_type": "execute_result"
    },
    {
     "data": {
      "image/png": "[encoded data removed]",
      "text/plain": [
       "<Figure size 432x288 with 4 Axes>"
      ]
     },
     "metadata": {
      "needs_background": "light"
     },
     "output_type": "display_data"
    }
   ],
   "source": [
    "data_internet.hist(bins=30)"
   ]
  },
  {
   "cell_type": "markdown",
   "metadata": {},
   "source": [
    "Здесь хочу заполнить пропуски в столбце *churn_date*"
   ]
  },
  {
   "cell_type": "code",
   "execution_count": 20,
   "metadata": {},
   "outputs": [],
   "source": [
    "def fillna_churn_date(row):\n",
    "    \"\"\"Функция для генерации значений необходимых для\n",
    "    заполнения пропущенных данных в столбце churn_date\n",
    "    \"\"\"\n",
    "    if pd.isnull(row[\"churn_date\"]):\n",
    "        MAX_YEARS = 100\n",
    "        delta = MAX_YEARS - row['age'] \n",
    "        date = str(2020 + delta)+'-08-26'\n",
    "        row[\"churn_date\"] = pd.to_datetime(date,format = '%Y-%m-%d')\n",
    "    return row"
   ]
  },
  {
   "cell_type": "code",
   "execution_count": 21,
   "metadata": {},
   "outputs": [],
   "source": [
    "data_users = data_users.apply(fillna_churn_date, axis = 1)"
   ]
  },
  {
   "cell_type": "code",
   "execution_count": 22,
   "metadata": {},
   "outputs": [],
   "source": [
    "statistic_frame = pd.DataFrame(columns= ['user_id',\n",
    "                                    \"month\",\n",
    "                                    \"count_calls\",\n",
    "                                    'calls_total_duration',\n",
    "                                    'count_messages',\n",
    "                                    'total_mb_used'\n",
    "                                   ])\n",
    "for idx in data_users['user_id']:\n",
    "    for month_x in range(1,13):\n",
    "        if ((month_x in data_calls.query('user_id == @idx')['month'].to_numpy()) or\n",
    "            (month_x in data_messages.query('user_id == @idx')['month'].to_numpy())):\n",
    "            \n",
    "            count_calls = data_calls.query('user_id == @idx and month == @month_x').shape[0]\n",
    "            total_duration_calls = data_calls.query('user_id == @idx and month == @month_x')['duration'].sum()\n",
    "            count_messages = data_messages.query('user_id == @idx and month == @month_x').shape[0]\n",
    "            total_used = data_internet.query('user_id == @idx and month == @month_x')['mb_used'].sum()\n",
    "            \n",
    "            statistic_frame = statistic_frame.append({'user_id':idx,\n",
    "                               'month':month_x,             \n",
    "                               \"count_calls\":count_calls,\n",
    "                               'calls_total_duration':total_duration_calls,\n",
    "                               'count_messages':count_messages,\n",
    "                               'total_mb_used':total_used             \n",
    "                                           }, ignore_index=True)"
   ]
  },
  {
   "cell_type": "code",
   "execution_count": 23,
   "metadata": {},
   "outputs": [],
   "source": [
    "statistic_frame['user_id'] = statistic_frame['user_id'].astype('int')"
   ]
  },
  {
   "cell_type": "code",
   "execution_count": 24,
   "metadata": {},
   "outputs": [],
   "source": [
    "statistic_frame = statistic_frame.merge(data_users[['user_id','tariff']], on = 'user_id')\n",
    "statistic_frame = statistic_frame.merge(data_users[['user_id','city']], on = 'user_id')"
   ]
  },
  {
   "cell_type": "code",
   "execution_count": 25,
   "metadata": {},
   "outputs": [],
   "source": [
    "def get_income(row):\n",
    "    \"\"\"Функция рассчитывающая доход копании с конкретного абонента\n",
    "    \"\"\"\n",
    "    def get_extra(dict_of_param):\n",
    "        \"\"\" Функция рассчитывающая минуты, потраченные абонентом сверх\n",
    "        базового пакета\n",
    "        \"\"\"\n",
    "        local_extra_min = 0\n",
    "        local_extra_sms = 0\n",
    "        local_extra_gb = 0\n",
    "        if row['calls_total_duration'] > dict_of_param['calls_total_duration']: \n",
    "            local_extra_min = row['calls_total_duration'] - dict_of_param['calls_total_duration']\n",
    "        if row['count_messages'] > dict_of_param['count_messages']:\n",
    "            local_extra_sms = row['count_messages'] - dict_of_param['count_messages']\n",
    "        if row['total_mb_used'] > dict_of_param['total_mb_used']:\n",
    "            local_extra_gb = (row['total_mb_used'] - dict_of_param['total_mb_used'])/1024\n",
    "        return local_extra_min, local_extra_sms, local_extra_gb   \n",
    "    \n",
    "    ultra_param = {\n",
    "        'calls_total_duration':3000,\n",
    "        'count_messages': 1000,\n",
    "        'total_mb_used': 30 * 1024\n",
    "    }\n",
    "    smart_param = {\n",
    "        'calls_total_duration':500,\n",
    "        'count_messages': 50,\n",
    "        'total_mb_used': 15 * 1024\n",
    "    }\n",
    "            \n",
    "    if row['tariff'] == 'ultra':\n",
    "        income = 1950\n",
    "        extra_min, extra_sms, extra_gb = get_extra(ultra_param)\n",
    "        income += extra_min + extra_sms + extra_gb * 150     \n",
    "    elif row['tariff'] == 'smart':\n",
    "        income = 550\n",
    "        extra_min, extra_sms, extra_gb = get_extra(smart_param)\n",
    "        income += 3 * extra_min + 3* extra_sms + extra_gb * 200 \n",
    "    return income"
   ]
  },
  {
   "cell_type": "code",
   "execution_count": 26,
   "metadata": {},
   "outputs": [],
   "source": [
    "statistic_frame['income'] = statistic_frame.apply(get_income, axis = 1)"
   ]
  },
  {
   "cell_type": "code",
   "execution_count": 27,
   "metadata": {},
   "outputs": [
    {
     "data": {
      "text/html": [
       "<div>\n",
       "<style scoped>\n",
       "    .dataframe tbody tr th:only-of-type {\n",
       "        vertical-align: middle;\n",
       "    }\n",
       "\n",
       "    .dataframe tbody tr th {\n",
       "        vertical-align: top;\n",
       "    }\n",
       "\n",
       "    .dataframe thead th {\n",
       "        text-align: right;\n",
       "    }\n",
       "</style>\n",
       "<table border=\"1\" class=\"dataframe\">\n",
       "  <thead>\n",
       "    <tr style=\"text-align: right;\">\n",
       "      <th></th>\n",
       "      <th>user_id</th>\n",
       "      <th>month</th>\n",
       "      <th>count_calls</th>\n",
       "      <th>calls_total_duration</th>\n",
       "      <th>count_messages</th>\n",
       "      <th>total_mb_used</th>\n",
       "      <th>tariff</th>\n",
       "      <th>city</th>\n",
       "      <th>income</th>\n",
       "    </tr>\n",
       "  </thead>\n",
       "  <tbody>\n",
       "    <tr>\n",
       "      <th>0</th>\n",
       "      <td>1000</td>\n",
       "      <td>5.0</td>\n",
       "      <td>22.0</td>\n",
       "      <td>159.0</td>\n",
       "      <td>22.0</td>\n",
       "      <td>2253.49</td>\n",
       "      <td>ultra</td>\n",
       "      <td>Краснодар</td>\n",
       "      <td>1950.000000</td>\n",
       "    </tr>\n",
       "    <tr>\n",
       "      <th>1</th>\n",
       "      <td>1000</td>\n",
       "      <td>6.0</td>\n",
       "      <td>43.0</td>\n",
       "      <td>172.0</td>\n",
       "      <td>60.0</td>\n",
       "      <td>23233.77</td>\n",
       "      <td>ultra</td>\n",
       "      <td>Краснодар</td>\n",
       "      <td>1950.000000</td>\n",
       "    </tr>\n",
       "    <tr>\n",
       "      <th>2</th>\n",
       "      <td>1000</td>\n",
       "      <td>7.0</td>\n",
       "      <td>47.0</td>\n",
       "      <td>340.0</td>\n",
       "      <td>75.0</td>\n",
       "      <td>14003.64</td>\n",
       "      <td>ultra</td>\n",
       "      <td>Краснодар</td>\n",
       "      <td>1950.000000</td>\n",
       "    </tr>\n",
       "    <tr>\n",
       "      <th>3</th>\n",
       "      <td>1000</td>\n",
       "      <td>8.0</td>\n",
       "      <td>52.0</td>\n",
       "      <td>408.0</td>\n",
       "      <td>81.0</td>\n",
       "      <td>14055.93</td>\n",
       "      <td>ultra</td>\n",
       "      <td>Краснодар</td>\n",
       "      <td>1950.000000</td>\n",
       "    </tr>\n",
       "    <tr>\n",
       "      <th>4</th>\n",
       "      <td>1000</td>\n",
       "      <td>9.0</td>\n",
       "      <td>58.0</td>\n",
       "      <td>466.0</td>\n",
       "      <td>57.0</td>\n",
       "      <td>14568.91</td>\n",
       "      <td>ultra</td>\n",
       "      <td>Краснодар</td>\n",
       "      <td>1950.000000</td>\n",
       "    </tr>\n",
       "    <tr>\n",
       "      <th>...</th>\n",
       "      <td>...</td>\n",
       "      <td>...</td>\n",
       "      <td>...</td>\n",
       "      <td>...</td>\n",
       "      <td>...</td>\n",
       "      <td>...</td>\n",
       "      <td>...</td>\n",
       "      <td>...</td>\n",
       "      <td>...</td>\n",
       "    </tr>\n",
       "    <tr>\n",
       "      <th>3208</th>\n",
       "      <td>1498</td>\n",
       "      <td>10.0</td>\n",
       "      <td>41.0</td>\n",
       "      <td>247.0</td>\n",
       "      <td>42.0</td>\n",
       "      <td>20579.36</td>\n",
       "      <td>smart</td>\n",
       "      <td>Владикавказ</td>\n",
       "      <td>1569.406250</td>\n",
       "    </tr>\n",
       "    <tr>\n",
       "      <th>3209</th>\n",
       "      <td>1499</td>\n",
       "      <td>9.0</td>\n",
       "      <td>9.0</td>\n",
       "      <td>70.0</td>\n",
       "      <td>11.0</td>\n",
       "      <td>1845.75</td>\n",
       "      <td>smart</td>\n",
       "      <td>Пермь</td>\n",
       "      <td>550.000000</td>\n",
       "    </tr>\n",
       "    <tr>\n",
       "      <th>3210</th>\n",
       "      <td>1499</td>\n",
       "      <td>10.0</td>\n",
       "      <td>68.0</td>\n",
       "      <td>449.0</td>\n",
       "      <td>48.0</td>\n",
       "      <td>17788.51</td>\n",
       "      <td>smart</td>\n",
       "      <td>Пермь</td>\n",
       "      <td>1024.318359</td>\n",
       "    </tr>\n",
       "    <tr>\n",
       "      <th>3211</th>\n",
       "      <td>1499</td>\n",
       "      <td>11.0</td>\n",
       "      <td>74.0</td>\n",
       "      <td>612.0</td>\n",
       "      <td>59.0</td>\n",
       "      <td>17963.31</td>\n",
       "      <td>smart</td>\n",
       "      <td>Пермь</td>\n",
       "      <td>1421.458984</td>\n",
       "    </tr>\n",
       "    <tr>\n",
       "      <th>3212</th>\n",
       "      <td>1499</td>\n",
       "      <td>12.0</td>\n",
       "      <td>69.0</td>\n",
       "      <td>492.0</td>\n",
       "      <td>66.0</td>\n",
       "      <td>13055.58</td>\n",
       "      <td>smart</td>\n",
       "      <td>Пермь</td>\n",
       "      <td>598.000000</td>\n",
       "    </tr>\n",
       "  </tbody>\n",
       "</table>\n",
       "<p>3213 rows × 9 columns</p>\n",
       "</div>"
      ],
      "text/plain": [
       "      user_id  month  count_calls  calls_total_duration  count_messages  \\\n",
       "0        1000    5.0         22.0                 159.0            22.0   \n",
       "1        1000    6.0         43.0                 172.0            60.0   \n",
       "2        1000    7.0         47.0                 340.0            75.0   \n",
       "3        1000    8.0         52.0                 408.0            81.0   \n",
       "4        1000    9.0         58.0                 466.0            57.0   \n",
       "...       ...    ...          ...                   ...             ...   \n",
       "3208     1498   10.0         41.0                 247.0            42.0   \n",
       "3209     1499    9.0          9.0                  70.0            11.0   \n",
       "3210     1499   10.0         68.0                 449.0            48.0   \n",
       "3211     1499   11.0         74.0                 612.0            59.0   \n",
       "3212     1499   12.0         69.0                 492.0            66.0   \n",
       "\n",
       "      total_mb_used tariff         city       income  \n",
       "0           2253.49  ultra    Краснодар  1950.000000  \n",
       "1          23233.77  ultra    Краснодар  1950.000000  \n",
       "2          14003.64  ultra    Краснодар  1950.000000  \n",
       "3          14055.93  ultra    Краснодар  1950.000000  \n",
       "4          14568.91  ultra    Краснодар  1950.000000  \n",
       "...             ...    ...          ...          ...  \n",
       "3208       20579.36  smart  Владикавказ  1569.406250  \n",
       "3209        1845.75  smart        Пермь   550.000000  \n",
       "3210       17788.51  smart        Пермь  1024.318359  \n",
       "3211       17963.31  smart        Пермь  1421.458984  \n",
       "3212       13055.58  smart        Пермь   598.000000  \n",
       "\n",
       "[3213 rows x 9 columns]"
      ]
     },
     "execution_count": 27,
     "metadata": {},
     "output_type": "execute_result"
    }
   ],
   "source": [
    "statistic_frame"
   ]
  },
  {
   "cell_type": "markdown",
   "metadata": {},
   "source": [
    "Составим итоговую сводную таблицу"
   ]
  },
  {
   "cell_type": "code",
   "execution_count": 28,
   "metadata": {},
   "outputs": [
    {
     "data": {
      "text/html": [
       "<div>\n",
       "<style scoped>\n",
       "    .dataframe tbody tr th:only-of-type {\n",
       "        vertical-align: middle;\n",
       "    }\n",
       "\n",
       "    .dataframe tbody tr th {\n",
       "        vertical-align: top;\n",
       "    }\n",
       "\n",
       "    .dataframe thead tr th {\n",
       "        text-align: left;\n",
       "    }\n",
       "\n",
       "    .dataframe thead tr:last-of-type th {\n",
       "        text-align: right;\n",
       "    }\n",
       "</style>\n",
       "<table border=\"1\" class=\"dataframe\">\n",
       "  <thead>\n",
       "    <tr>\n",
       "      <th></th>\n",
       "      <th colspan=\"4\" halign=\"left\">median</th>\n",
       "      <th colspan=\"4\" halign=\"left\">mean</th>\n",
       "      <th colspan=\"4\" halign=\"left\">var</th>\n",
       "      <th colspan=\"4\" halign=\"left\">std</th>\n",
       "    </tr>\n",
       "    <tr>\n",
       "      <th></th>\n",
       "      <th>calls_total_duration</th>\n",
       "      <th>count_messages</th>\n",
       "      <th>income</th>\n",
       "      <th>total_mb_used</th>\n",
       "      <th>calls_total_duration</th>\n",
       "      <th>count_messages</th>\n",
       "      <th>income</th>\n",
       "      <th>total_mb_used</th>\n",
       "      <th>calls_total_duration</th>\n",
       "      <th>count_messages</th>\n",
       "      <th>income</th>\n",
       "      <th>total_mb_used</th>\n",
       "      <th>calls_total_duration</th>\n",
       "      <th>count_messages</th>\n",
       "      <th>income</th>\n",
       "      <th>total_mb_used</th>\n",
       "    </tr>\n",
       "    <tr>\n",
       "      <th>tariff</th>\n",
       "      <th></th>\n",
       "      <th></th>\n",
       "      <th></th>\n",
       "      <th></th>\n",
       "      <th></th>\n",
       "      <th></th>\n",
       "      <th></th>\n",
       "      <th></th>\n",
       "      <th></th>\n",
       "      <th></th>\n",
       "      <th></th>\n",
       "      <th></th>\n",
       "      <th></th>\n",
       "      <th></th>\n",
       "      <th></th>\n",
       "      <th></th>\n",
       "    </tr>\n",
       "  </thead>\n",
       "  <tbody>\n",
       "    <tr>\n",
       "      <th>smart</th>\n",
       "      <td>422.0</td>\n",
       "      <td>28.0</td>\n",
       "      <td>957.978516</td>\n",
       "      <td>16506.84</td>\n",
       "      <td>417.934948</td>\n",
       "      <td>33.384029</td>\n",
       "      <td>1230.442346</td>\n",
       "      <td>16208.386990</td>\n",
       "      <td>36219.315784</td>\n",
       "      <td>796.812958</td>\n",
       "      <td>617357.200499</td>\n",
       "      <td>3.446250e+07</td>\n",
       "      <td>190.313730</td>\n",
       "      <td>28.227876</td>\n",
       "      <td>785.720816</td>\n",
       "      <td>5870.476681</td>\n",
       "    </tr>\n",
       "    <tr>\n",
       "      <th>ultra</th>\n",
       "      <td>518.5</td>\n",
       "      <td>38.0</td>\n",
       "      <td>1950.000000</td>\n",
       "      <td>19311.93</td>\n",
       "      <td>527.158537</td>\n",
       "      <td>49.413618</td>\n",
       "      <td>2059.980573</td>\n",
       "      <td>19488.051169</td>\n",
       "      <td>100693.836489</td>\n",
       "      <td>2285.109519</td>\n",
       "      <td>126056.200780</td>\n",
       "      <td>1.014893e+08</td>\n",
       "      <td>317.322921</td>\n",
       "      <td>47.802819</td>\n",
       "      <td>355.043942</td>\n",
       "      <td>10074.189914</td>\n",
       "    </tr>\n",
       "  </tbody>\n",
       "</table>\n",
       "</div>"
      ],
      "text/plain": [
       "                     median                                            \\\n",
       "       calls_total_duration count_messages       income total_mb_used   \n",
       "tariff                                                                  \n",
       "smart                 422.0           28.0   957.978516      16506.84   \n",
       "ultra                 518.5           38.0  1950.000000      19311.93   \n",
       "\n",
       "                       mean                                            \\\n",
       "       calls_total_duration count_messages       income total_mb_used   \n",
       "tariff                                                                  \n",
       "smart            417.934948      33.384029  1230.442346  16208.386990   \n",
       "ultra            527.158537      49.413618  2059.980573  19488.051169   \n",
       "\n",
       "                        var                                              \\\n",
       "       calls_total_duration count_messages         income total_mb_used   \n",
       "tariff                                                                    \n",
       "smart          36219.315784     796.812958  617357.200499  3.446250e+07   \n",
       "ultra         100693.836489    2285.109519  126056.200780  1.014893e+08   \n",
       "\n",
       "                        std                                           \n",
       "       calls_total_duration count_messages      income total_mb_used  \n",
       "tariff                                                                \n",
       "smart            190.313730      28.227876  785.720816   5870.476681  \n",
       "ultra            317.322921      47.802819  355.043942  10074.189914  "
      ]
     },
     "execution_count": 28,
     "metadata": {},
     "output_type": "execute_result"
    }
   ],
   "source": [
    "statistic_frame.pivot_table(index = 'tariff', values = ['calls_total_duration',\n",
    "                                                        'count_messages',\n",
    "                                                        'total_mb_used','income'], aggfunc = [\"median\",\n",
    "                                                                                     \"mean\",\n",
    "                                                                                     'var',\n",
    "                                                                                     'std'])"
   ]
  },
  {
   "cell_type": "markdown",
   "metadata": {},
   "source": [
    "Здесь я поравил вывод всей итоговой сводной таблицы"
   ]
  },
  {
   "cell_type": "code",
   "execution_count": 34,
   "metadata": {},
   "outputs": [
    {
     "data": {
      "text/html": [
       "<div>\n",
       "<style scoped>\n",
       "    .dataframe tbody tr th:only-of-type {\n",
       "        vertical-align: middle;\n",
       "    }\n",
       "\n",
       "    .dataframe tbody tr th {\n",
       "        vertical-align: top;\n",
       "    }\n",
       "\n",
       "    .dataframe thead th {\n",
       "        text-align: right;\n",
       "    }\n",
       "</style>\n",
       "<table border=\"1\" class=\"dataframe\">\n",
       "  <thead>\n",
       "    <tr style=\"text-align: right;\">\n",
       "      <th></th>\n",
       "      <th>user_id</th>\n",
       "      <th>month</th>\n",
       "      <th>count_calls</th>\n",
       "      <th>calls_total_duration</th>\n",
       "      <th>count_messages</th>\n",
       "      <th>total_mb_used</th>\n",
       "      <th>tariff</th>\n",
       "      <th>city</th>\n",
       "      <th>income</th>\n",
       "    </tr>\n",
       "  </thead>\n",
       "  <tbody>\n",
       "    <tr>\n",
       "      <th>0</th>\n",
       "      <td>1000</td>\n",
       "      <td>5.0</td>\n",
       "      <td>22.0</td>\n",
       "      <td>159.0</td>\n",
       "      <td>22.0</td>\n",
       "      <td>2253.49</td>\n",
       "      <td>ultra</td>\n",
       "      <td>Краснодар</td>\n",
       "      <td>1950.000000</td>\n",
       "    </tr>\n",
       "    <tr>\n",
       "      <th>1</th>\n",
       "      <td>1000</td>\n",
       "      <td>6.0</td>\n",
       "      <td>43.0</td>\n",
       "      <td>172.0</td>\n",
       "      <td>60.0</td>\n",
       "      <td>23233.77</td>\n",
       "      <td>ultra</td>\n",
       "      <td>Краснодар</td>\n",
       "      <td>1950.000000</td>\n",
       "    </tr>\n",
       "    <tr>\n",
       "      <th>2</th>\n",
       "      <td>1000</td>\n",
       "      <td>7.0</td>\n",
       "      <td>47.0</td>\n",
       "      <td>340.0</td>\n",
       "      <td>75.0</td>\n",
       "      <td>14003.64</td>\n",
       "      <td>ultra</td>\n",
       "      <td>Краснодар</td>\n",
       "      <td>1950.000000</td>\n",
       "    </tr>\n",
       "    <tr>\n",
       "      <th>3</th>\n",
       "      <td>1000</td>\n",
       "      <td>8.0</td>\n",
       "      <td>52.0</td>\n",
       "      <td>408.0</td>\n",
       "      <td>81.0</td>\n",
       "      <td>14055.93</td>\n",
       "      <td>ultra</td>\n",
       "      <td>Краснодар</td>\n",
       "      <td>1950.000000</td>\n",
       "    </tr>\n",
       "    <tr>\n",
       "      <th>4</th>\n",
       "      <td>1000</td>\n",
       "      <td>9.0</td>\n",
       "      <td>58.0</td>\n",
       "      <td>466.0</td>\n",
       "      <td>57.0</td>\n",
       "      <td>14568.91</td>\n",
       "      <td>ultra</td>\n",
       "      <td>Краснодар</td>\n",
       "      <td>1950.000000</td>\n",
       "    </tr>\n",
       "    <tr>\n",
       "      <th>...</th>\n",
       "      <td>...</td>\n",
       "      <td>...</td>\n",
       "      <td>...</td>\n",
       "      <td>...</td>\n",
       "      <td>...</td>\n",
       "      <td>...</td>\n",
       "      <td>...</td>\n",
       "      <td>...</td>\n",
       "      <td>...</td>\n",
       "    </tr>\n",
       "    <tr>\n",
       "      <th>3208</th>\n",
       "      <td>1498</td>\n",
       "      <td>10.0</td>\n",
       "      <td>41.0</td>\n",
       "      <td>247.0</td>\n",
       "      <td>42.0</td>\n",
       "      <td>20579.36</td>\n",
       "      <td>smart</td>\n",
       "      <td>Владикавказ</td>\n",
       "      <td>1569.406250</td>\n",
       "    </tr>\n",
       "    <tr>\n",
       "      <th>3209</th>\n",
       "      <td>1499</td>\n",
       "      <td>9.0</td>\n",
       "      <td>9.0</td>\n",
       "      <td>70.0</td>\n",
       "      <td>11.0</td>\n",
       "      <td>1845.75</td>\n",
       "      <td>smart</td>\n",
       "      <td>Пермь</td>\n",
       "      <td>550.000000</td>\n",
       "    </tr>\n",
       "    <tr>\n",
       "      <th>3210</th>\n",
       "      <td>1499</td>\n",
       "      <td>10.0</td>\n",
       "      <td>68.0</td>\n",
       "      <td>449.0</td>\n",
       "      <td>48.0</td>\n",
       "      <td>17788.51</td>\n",
       "      <td>smart</td>\n",
       "      <td>Пермь</td>\n",
       "      <td>1024.318359</td>\n",
       "    </tr>\n",
       "    <tr>\n",
       "      <th>3211</th>\n",
       "      <td>1499</td>\n",
       "      <td>11.0</td>\n",
       "      <td>74.0</td>\n",
       "      <td>612.0</td>\n",
       "      <td>59.0</td>\n",
       "      <td>17963.31</td>\n",
       "      <td>smart</td>\n",
       "      <td>Пермь</td>\n",
       "      <td>1421.458984</td>\n",
       "    </tr>\n",
       "    <tr>\n",
       "      <th>3212</th>\n",
       "      <td>1499</td>\n",
       "      <td>12.0</td>\n",
       "      <td>69.0</td>\n",
       "      <td>492.0</td>\n",
       "      <td>66.0</td>\n",
       "      <td>13055.58</td>\n",
       "      <td>smart</td>\n",
       "      <td>Пермь</td>\n",
       "      <td>598.000000</td>\n",
       "    </tr>\n",
       "  </tbody>\n",
       "</table>\n",
       "<p>3213 rows × 9 columns</p>\n",
       "</div>"
      ],
      "text/plain": [
       "      user_id  month  count_calls  calls_total_duration  count_messages  \\\n",
       "0        1000    5.0         22.0                 159.0            22.0   \n",
       "1        1000    6.0         43.0                 172.0            60.0   \n",
       "2        1000    7.0         47.0                 340.0            75.0   \n",
       "3        1000    8.0         52.0                 408.0            81.0   \n",
       "4        1000    9.0         58.0                 466.0            57.0   \n",
       "...       ...    ...          ...                   ...             ...   \n",
       "3208     1498   10.0         41.0                 247.0            42.0   \n",
       "3209     1499    9.0          9.0                  70.0            11.0   \n",
       "3210     1499   10.0         68.0                 449.0            48.0   \n",
       "3211     1499   11.0         74.0                 612.0            59.0   \n",
       "3212     1499   12.0         69.0                 492.0            66.0   \n",
       "\n",
       "      total_mb_used tariff         city       income  \n",
       "0           2253.49  ultra    Краснодар  1950.000000  \n",
       "1          23233.77  ultra    Краснодар  1950.000000  \n",
       "2          14003.64  ultra    Краснодар  1950.000000  \n",
       "3          14055.93  ultra    Краснодар  1950.000000  \n",
       "4          14568.91  ultra    Краснодар  1950.000000  \n",
       "...             ...    ...          ...          ...  \n",
       "3208       20579.36  smart  Владикавказ  1569.406250  \n",
       "3209        1845.75  smart        Пермь   550.000000  \n",
       "3210       17788.51  smart        Пермь  1024.318359  \n",
       "3211       17963.31  smart        Пермь  1421.458984  \n",
       "3212       13055.58  smart        Пермь   598.000000  \n",
       "\n",
       "[3213 rows x 9 columns]"
      ]
     },
     "execution_count": 34,
     "metadata": {},
     "output_type": "execute_result"
    }
   ],
   "source": [
    "statistic_frame"
   ]
  },
  {
   "cell_type": "code",
   "execution_count": 35,
   "metadata": {},
   "outputs": [],
   "source": [
    "statistic_frame['total_mb_used'] = np.ceil(statistic_frame['total_mb_used'] / 1024)"
   ]
  },
  {
   "cell_type": "markdown",
   "metadata": {},
   "source": [
    "**Вывод:** как видно из таблицы *statistic_frame*:\n",
    "\n",
    "- Наибольший общий доход приносит тариф smart (общий и дополнительный);\n",
    "- По столбцу **income** видим, что больше всего прибыльность имеет этот столбец."
   ]
  },
  {
   "cell_type": "markdown",
   "metadata": {},
   "source": [
    "### Построим гистограммы для пользователей *Smart* и *Ultra* тарифа"
   ]
  },
  {
   "cell_type": "markdown",
   "metadata": {},
   "source": [
    "Гистрограмма для количества минут (добавил сюда же Ultra тариф, чтобы было более информативно)."
   ]
  },
  {
   "cell_type": "code",
   "execution_count": 38,
   "metadata": {},
   "outputs": [
    {
     "data": {
      "image/png": "[encoded data removed]",
      "text/plain": [
       "<Figure size 720x360 with 1 Axes>"
      ]
     },
     "metadata": {
      "needs_background": "light"
     },
     "output_type": "display_data"
    }
   ],
   "source": [
    "statistic_frame.loc[statistic_frame.loc[:,'tariff'] == 'smart']['calls_total_duration'].plot(\n",
    "                                                                            kind = 'hist',\n",
    "                                                                            bins = 30,\n",
    "                                                                            label = 'smart', figsize = (10,5)\n",
    "                                                                           )\n",
    "statistic_frame.loc[statistic_frame.loc[:,'tariff'] == \"ultra\"]['calls_total_duration'].plot(\n",
    "                                                                            kind = 'hist',\n",
    "                                                                            bins = 30,\n",
    "                                                                            alpha =0.7,\n",
    "                                                                            label = 'ultra',figsize = (10,5)\n",
    "                                                                           )\n",
    "plt.title('call_total_duration')\n",
    "plt.legend()\n",
    "plt.show()"
   ]
  },
  {
   "cell_type": "markdown",
   "metadata": {},
   "source": [
    "Исходя из графика, сделаем вывод, что основной пик приходится на интервал между 250 и 750. Достаточно большое количество людей переходят за рубеж 500 минут, видно, что данная тенденция свойственна как для пользователей Smart тарифа, так и для пользователей Ultra тарифа."
   ]
  },
  {
   "cell_type": "markdown",
   "metadata": {},
   "source": [
    "Гистрограмма для количества сообщений"
   ]
  },
  {
   "cell_type": "code",
   "execution_count": 39,
   "metadata": {},
   "outputs": [
    {
     "data": {
      "image/png": "[encoded data removed]",
      "text/plain": [
       "<Figure size 720x360 with 1 Axes>"
      ]
     },
     "metadata": {
      "needs_background": "light"
     },
     "output_type": "display_data"
    }
   ],
   "source": [
    "statistic_frame.loc[statistic_frame.loc[:,'tariff'] == 'smart']['count_messages'].plot(\n",
    "                                                                            kind = 'hist',\n",
    "                                                                            bins = 30,\n",
    "                                                                            label = 'smart', figsize = (10,5)\n",
    "                                                                           )\n",
    "statistic_frame.loc[statistic_frame.loc[:,'tariff'] == \"ultra\"]['count_messages'].plot(\n",
    "                                                                            kind = 'hist',\n",
    "                                                                            bins = 30,\n",
    "                                                                            alpha =0.7,\n",
    "                                                                            label = 'ultra',figsize = (10,5)\n",
    "                                                                           )\n",
    "plt.title('count_messages')\n",
    "plt.legend()\n",
    "plt.show()"
   ]
  },
  {
   "cell_type": "markdown",
   "metadata": {},
   "source": [
    "Исходя из графика, сделаем вывод, что достаточно большое количество людей не отправляют сообщения. Несмотря на лимит в 50 сообщений, достаточное количество людей превышают данный лимит. Число отправлявших сообщение пользоватейлей тарифа Ultra больше, чем пользователей тарифа Smart"
   ]
  },
  {
   "cell_type": "markdown",
   "metadata": {},
   "source": [
    "Гистрограмма для количества потраченного трафика интернета"
   ]
  },
  {
   "cell_type": "code",
   "execution_count": 40,
   "metadata": {},
   "outputs": [
    {
     "data": {
      "image/png": "[encoded data removed]",
      "text/plain": [
       "<Figure size 720x360 with 1 Axes>"
      ]
     },
     "metadata": {
      "needs_background": "light"
     },
     "output_type": "display_data"
    }
   ],
   "source": [
    "statistic_frame.loc[statistic_frame.loc[:,'tariff'] == 'smart']['total_mb_used'].plot(\n",
    "                                                                            kind = 'hist',\n",
    "                                                                            bins = 30,\n",
    "                                                                            label = 'smart', figsize = (10,5)\n",
    "                                                                           )\n",
    "statistic_frame.loc[statistic_frame.loc[:,'tariff'] == \"ultra\"]['total_mb_used'].plot(\n",
    "                                                                            kind = 'hist',\n",
    "                                                                            bins = 30,\n",
    "                                                                            alpha =0.7,\n",
    "                                                                            label = 'ultra',figsize = (10,5)\n",
    "                                                                           )\n",
    "plt.title('total_mb_used')\n",
    "plt.legend()\n",
    "plt.show()"
   ]
  },
  {
   "cell_type": "markdown",
   "metadata": {},
   "source": [
    "Исходя из графика, сделаем вывод, что подавляющая часть людей приходится на пик в 15Гб, полный трафик интернета тратит малое количество людей (тенденция к снижению ближе к 40Гб) и лишь небольшая часть людей не превышает границу в 5Гб. Пик использования интернет трафика у пользователей смарт приходится на 20Гб."
   ]
  },
  {
   "cell_type": "markdown",
   "metadata": {},
   "source": [
    "Построим графики по выручке"
   ]
  },
  {
   "cell_type": "code",
   "execution_count": 41,
   "metadata": {},
   "outputs": [
    {
     "data": {
      "image/png": "[encoded data removed]",
      "text/plain": [
       "<Figure size 720x360 with 1 Axes>"
      ]
     },
     "metadata": {
      "needs_background": "light"
     },
     "output_type": "display_data"
    }
   ],
   "source": [
    "statistic_frame.loc[statistic_frame.loc[:,'tariff'] == 'smart']['income'].plot(\n",
    "                                                                            kind = 'hist',\n",
    "                                                                            bins = 30,\n",
    "                                                                            label = 'smart', figsize = (10,5)\n",
    "                                                                           )\n",
    "statistic_frame.loc[statistic_frame.loc[:,'tariff'] == \"ultra\"]['income'].plot(\n",
    "                                                                            kind = 'hist',\n",
    "                                                                            bins = 30,\n",
    "                                                                            alpha =0.7,\n",
    "                                                                            label = 'ultra',figsize = (10,5)\n",
    "                                                                           )\n",
    "plt.title('income')\n",
    "plt.legend()\n",
    "plt.show()"
   ]
  },
  {
   "cell_type": "markdown",
   "metadata": {},
   "source": [
    "Пользователи тарифа Ultra не тратят весь базовый пакет в отличие от пользователей тарифа Smart"
   ]
  },
  {
   "cell_type": "code",
   "execution_count": 49,
   "metadata": {},
   "outputs": [
    {
     "data": {
      "text/html": [
       "<div>\n",
       "<style scoped>\n",
       "    .dataframe tbody tr th:only-of-type {\n",
       "        vertical-align: middle;\n",
       "    }\n",
       "\n",
       "    .dataframe tbody tr th {\n",
       "        vertical-align: top;\n",
       "    }\n",
       "\n",
       "    .dataframe thead th {\n",
       "        text-align: right;\n",
       "    }\n",
       "</style>\n",
       "<table border=\"1\" class=\"dataframe\">\n",
       "  <thead>\n",
       "    <tr style=\"text-align: right;\">\n",
       "      <th></th>\n",
       "      <th>calls_total_duration</th>\n",
       "      <th>count_messages</th>\n",
       "      <th>income</th>\n",
       "      <th>total_mb_used</th>\n",
       "    </tr>\n",
       "    <tr>\n",
       "      <th>tariff</th>\n",
       "      <th></th>\n",
       "      <th></th>\n",
       "      <th></th>\n",
       "      <th></th>\n",
       "    </tr>\n",
       "  </thead>\n",
       "  <tbody>\n",
       "    <tr>\n",
       "      <th>smart</th>\n",
       "      <td>417.934948</td>\n",
       "      <td>33.384029</td>\n",
       "      <td>1230.442346</td>\n",
       "      <td>16.328847</td>\n",
       "    </tr>\n",
       "    <tr>\n",
       "      <th>ultra</th>\n",
       "      <td>527.158537</td>\n",
       "      <td>49.413618</td>\n",
       "      <td>2059.980573</td>\n",
       "      <td>19.513211</td>\n",
       "    </tr>\n",
       "  </tbody>\n",
       "</table>\n",
       "</div>"
      ],
      "text/plain": [
       "        calls_total_duration  count_messages       income  total_mb_used\n",
       "tariff                                                                  \n",
       "smart             417.934948       33.384029  1230.442346      16.328847\n",
       "ultra             527.158537       49.413618  2059.980573      19.513211"
      ]
     },
     "execution_count": 49,
     "metadata": {},
     "output_type": "execute_result"
    }
   ],
   "source": [
    "statistic_frame.pivot_table(index = 'tariff', values = ['calls_total_duration', 'count_messages', 'total_mb_used', 'income'], aggfunc = \"mean\")"
   ]
  },
  {
   "cell_type": "markdown",
   "metadata": {},
   "source": [
    "**Вывод:** как видим из распределений:\n",
    "\n",
    "- Поведение пользователей *Smart* и *Ultra* различаются: одни не укладываются в лимит (по разговорным минутам и мегабайтам), а вторые зачастую выходят за рамки лимита (по мегабайтам);\n",
    "- Распределения имеют схожие параметры (особенно колиечство потраченного трафика интернета). Количество сообщений отправляет мало людей, что в одном тарифе, что в другом, по лимитам минут звонков в тарифе ультра пользователи зачастую не укладываются."
   ]
  },
  {
   "cell_type": "markdown",
   "metadata": {},
   "source": [
    "### Проверим гипотезы"
   ]
  },
  {
   "cell_type": "markdown",
   "metadata": {},
   "source": [
    "**Средняя выручка пользователей тарифов «Ультра» и «Смарт» различаются**\n",
    "\n",
    "В данном случае нулевая гипотеза H₀ - средняя выручка пользователей тарифов «Ультра» и «Смарт» не различается (то есть сохраняем равенство). В случае, если средняя выручка различается, формулируется альтернативная гипотеза H₁. Уровень критической значимости выставим равным 0.05"
   ]
  },
  {
   "cell_type": "code",
   "execution_count": 50,
   "metadata": {},
   "outputs": [
    {
     "name": "stdout",
     "output_type": "stream",
     "text": [
      "cреднее Smart:  1230.4423455725662\n",
      "cреднее Ultra:  2059.9805729563645\n",
      "p-value: 2.682085848388443e-192\n",
      "Нулевую гипотезу можно отвергнуть\n"
     ]
    }
   ],
   "source": [
    "income_ultra = statistic_frame.loc[statistic_frame.loc[:,'tariff'] == 'ultra']['income']\n",
    "income_smart = statistic_frame.loc[statistic_frame.loc[:,'tariff'] == 'smart']['income']\n",
    "\n",
    "print('cреднее Smart: ',pd.Series(income_smart).mean())\n",
    "print('cреднее Ultra: ',pd.Series(income_ultra).mean())\n",
    "alpha = .05\n",
    "\n",
    "results = st.ttest_ind(\n",
    "    income_smart, \n",
    "    income_ultra)\n",
    "\n",
    "print('p-value:', results.pvalue)\n",
    "\n",
    "if (results.pvalue < alpha):\n",
    "    print(\"Нулевую гипотезу можно отвергнуть\")\n",
    "else:\n",
    "    print(\"Нулевую гипотезу можно не отвергать\")"
   ]
  },
  {
   "cell_type": "markdown",
   "metadata": {},
   "source": [
    "p-value = 2.6, следовательно, гипотезу можно отвергнуть. По подсчётам видно, что в среднем пользователи тарифа *Ultra* приносят выручку больше, чем пользователи тарифа *Smart*. Но стоит также учесть, что гипотезу мы выдвинули одностороннюю."
   ]
  },
  {
   "cell_type": "markdown",
   "metadata": {},
   "source": [
    "**Средняя выручка пользователей из Москвы отличается от выручки пользователей из других регионов**"
   ]
  },
  {
   "cell_type": "code",
   "execution_count": 51,
   "metadata": {},
   "outputs": [],
   "source": [
    "city_moscow = statistic_frame.loc[statistic_frame.loc[:,'city'] == 'Москва']['income']\n",
    "city_other = statistic_frame.loc[statistic_frame.loc[:,'city'] != 'Москва']['income']"
   ]
  },
  {
   "cell_type": "code",
   "execution_count": 52,
   "metadata": {},
   "outputs": [
    {
     "name": "stdout",
     "output_type": "stream",
     "text": [
      "cреднее по Москве:  1504.5133500896516\n",
      "cреднее по другим городам:  1479.801662894977\n",
      "p-value: 0.48300460613857454\n",
      "Нулевую гипотезу можно не отвергать\n"
     ]
    }
   ],
   "source": [
    "print('cреднее по Москве: ',pd.Series(city_moscow).mean())\n",
    "print('cреднее по другим городам: ',pd.Series(city_other).mean())\n",
    "alpha = .05\n",
    "\n",
    "results = st.ttest_ind(\n",
    "    city_moscow, \n",
    "    city_other)\n",
    "\n",
    "print('p-value:', results.pvalue)\n",
    "\n",
    "if (results.pvalue < alpha):\n",
    "    print(\"Нулевую гипотезу можно отвергнуть\")\n",
    "else:\n",
    "    print(\"Нулевую гипотезу можно не отвергать\")"
   ]
  },
  {
   "cell_type": "markdown",
   "metadata": {},
   "source": [
    "Видим, что средняя выручка по Москве и другим городам не сильно отличается. p-value = 0.4 (то бишь входит в диапазон статистической значимости), следовательно, мы можем не отвергать нулевую гипотезу."
   ]
  },
  {
   "cell_type": "markdown",
   "metadata": {},
   "source": [
    "### Общий вывод"
   ]
  },
  {
   "cell_type": "markdown",
   "metadata": {},
   "source": [
    "Кратко по основам:\n",
    "- Провёл первичное исследование данных;\n",
    "- Провёл предобработку данных, заполнил пропуски. Заменил данные на более удобный формат для дальнейшего анализа, заменил нулевые значения.\n",
    "- Провёл исследовательский анализ и, построив диаграммы, заметил несколько особенностей:\n",
    "    1) Поведение пользователей Smart и Ultra различаются: одни не укладываются в лимит (по разговорным минутам и мегабайтам), а вторые зачастую выходят за рамки лимита (по мегабайтам);\n",
    "    2) Распределения имеют схожие параметры (особенно колиечство потраченного трафика интернета). Количество сообщений отправляет мало людей, что в одном тарифе, что в другом, по лимитам минут звонков в тарифе ультра пользователи зачастую не укладываются.\n",
    "- После проведения тестов сделал выводы о том, что:\n",
    "  различие в средней выручке между Москвой и регионами незначительная, средняя выручка у тарифа Ultra выше, но больше прибыли приносит тариф Smart."
   ]
  }
 ],
 "metadata": {
  "ExecuteTimeLog": [
   {
    "duration": 389,
    "start_time": "2022-08-29T08:28:31.022Z"
   },
   {
    "duration": 64,
    "start_time": "2022-08-29T08:28:58.374Z"
   },
   {
    "duration": 95,
    "start_time": "2022-08-29T08:30:48.937Z"
   },
   {
    "duration": 497,
    "start_time": "2022-08-29T08:30:58.632Z"
   },
   {
    "duration": 551,
    "start_time": "2022-08-29T08:31:32.857Z"
   },
   {
    "duration": 494,
    "start_time": "2022-08-29T08:33:02.323Z"
   },
   {
    "duration": 3,
    "start_time": "2022-08-29T09:33:02.870Z"
   },
   {
    "duration": 383,
    "start_time": "2022-08-29T09:33:04.148Z"
   },
   {
    "duration": 2,
    "start_time": "2022-08-29T11:41:04.142Z"
   },
   {
    "duration": 388,
    "start_time": "2022-08-29T11:41:04.880Z"
   },
   {
    "duration": 22,
    "start_time": "2022-08-29T11:43:30.656Z"
   },
   {
    "duration": 16,
    "start_time": "2022-08-29T11:43:52.432Z"
   },
   {
    "duration": 10,
    "start_time": "2022-08-29T11:44:01.734Z"
   },
   {
    "duration": 17,
    "start_time": "2022-08-29T11:45:58.238Z"
   },
   {
    "duration": 10,
    "start_time": "2022-08-29T11:49:30.708Z"
   },
   {
    "duration": 17,
    "start_time": "2022-08-29T11:49:46.482Z"
   },
   {
    "duration": 8,
    "start_time": "2022-08-29T11:50:04.571Z"
   },
   {
    "duration": 10,
    "start_time": "2022-08-29T11:50:31.492Z"
   },
   {
    "duration": 7,
    "start_time": "2022-08-29T11:50:49.714Z"
   },
   {
    "duration": 8,
    "start_time": "2022-08-29T11:51:04.957Z"
   },
   {
    "duration": 8,
    "start_time": "2022-08-29T11:51:07.393Z"
   },
   {
    "duration": 13,
    "start_time": "2022-08-29T11:51:27.382Z"
   },
   {
    "duration": 12,
    "start_time": "2022-08-29T11:51:43.537Z"
   },
   {
    "duration": 18,
    "start_time": "2022-08-29T13:06:47.436Z"
   },
   {
    "duration": 11,
    "start_time": "2022-08-29T13:06:47.833Z"
   },
   {
    "duration": 19,
    "start_time": "2022-08-29T13:07:17.656Z"
   },
   {
    "duration": 9,
    "start_time": "2022-08-29T13:07:18.053Z"
   },
   {
    "duration": 5,
    "start_time": "2022-08-29T15:05:23.899Z"
   },
   {
    "duration": 6,
    "start_time": "2022-08-29T15:14:11.521Z"
   },
   {
    "duration": 10,
    "start_time": "2022-08-29T15:14:24.604Z"
   },
   {
    "duration": 9,
    "start_time": "2022-08-29T15:16:59.239Z"
   },
   {
    "duration": 10,
    "start_time": "2022-08-29T15:19:33.390Z"
   },
   {
    "duration": 30,
    "start_time": "2022-08-29T15:19:39.683Z"
   },
   {
    "duration": 9,
    "start_time": "2022-08-29T15:19:41.564Z"
   },
   {
    "duration": 70,
    "start_time": "2022-08-29T15:20:37.663Z"
   },
   {
    "duration": 11,
    "start_time": "2022-08-29T15:20:38.936Z"
   },
   {
    "duration": 11,
    "start_time": "2022-08-29T15:23:50.765Z"
   },
   {
    "duration": 17,
    "start_time": "2022-08-29T15:26:26.623Z"
   },
   {
    "duration": 6,
    "start_time": "2022-08-29T15:27:34.755Z"
   },
   {
    "duration": 13,
    "start_time": "2022-08-29T15:27:37.024Z"
   },
   {
    "duration": 3,
    "start_time": "2022-08-29T15:28:18.553Z"
   },
   {
    "duration": 13,
    "start_time": "2022-08-29T15:28:47.573Z"
   },
   {
    "duration": 10,
    "start_time": "2022-08-29T15:28:53.038Z"
   },
   {
    "duration": 13,
    "start_time": "2022-08-29T15:28:53.814Z"
   },
   {
    "duration": 415,
    "start_time": "2022-08-29T21:01:25.921Z"
   },
   {
    "duration": 967,
    "start_time": "2022-08-29T21:01:27.860Z"
   },
   {
    "duration": 23,
    "start_time": "2022-08-29T21:01:29.439Z"
   },
   {
    "duration": 16,
    "start_time": "2022-08-29T21:01:30.226Z"
   },
   {
    "duration": 23,
    "start_time": "2022-08-29T21:01:30.567Z"
   },
   {
    "duration": 14,
    "start_time": "2022-08-29T21:01:30.756Z"
   },
   {
    "duration": 18,
    "start_time": "2022-08-29T21:01:31.131Z"
   },
   {
    "duration": 9,
    "start_time": "2022-08-29T21:01:31.315Z"
   },
   {
    "duration": 15,
    "start_time": "2022-08-29T21:01:31.685Z"
   },
   {
    "duration": 7,
    "start_time": "2022-08-29T21:01:31.859Z"
   },
   {
    "duration": 12,
    "start_time": "2022-08-29T21:01:32.223Z"
   },
   {
    "duration": 11,
    "start_time": "2022-08-29T21:01:32.406Z"
   },
   {
    "duration": 99,
    "start_time": "2022-08-29T21:01:33.185Z"
   },
   {
    "duration": 13,
    "start_time": "2022-08-29T21:01:33.375Z"
   },
   {
    "duration": 44,
    "start_time": "2022-08-29T21:01:34.728Z"
   },
   {
    "duration": 12,
    "start_time": "2022-08-29T21:01:35.227Z"
   },
   {
    "duration": 12,
    "start_time": "2022-08-29T21:02:57.196Z"
   },
   {
    "duration": 60,
    "start_time": "2022-08-29T21:04:38.832Z"
   },
   {
    "duration": 27,
    "start_time": "2022-08-29T21:04:51.529Z"
   },
   {
    "duration": 9,
    "start_time": "2022-08-29T21:04:53.682Z"
   },
   {
    "duration": 50,
    "start_time": "2022-08-29T21:10:03.319Z"
   },
   {
    "duration": 16,
    "start_time": "2022-08-29T21:10:04.220Z"
   },
   {
    "duration": 485,
    "start_time": "2022-08-29T21:11:54.573Z"
   },
   {
    "duration": 406,
    "start_time": "2022-08-29T21:11:57.471Z"
   },
   {
    "duration": 22,
    "start_time": "2022-08-29T21:11:59.955Z"
   },
   {
    "duration": 15,
    "start_time": "2022-08-29T21:12:02.696Z"
   },
   {
    "duration": 20,
    "start_time": "2022-08-29T21:12:03.793Z"
   },
   {
    "duration": 11,
    "start_time": "2022-08-29T21:12:04.011Z"
   },
   {
    "duration": 18,
    "start_time": "2022-08-29T21:12:04.404Z"
   },
   {
    "duration": 11,
    "start_time": "2022-08-29T21:12:04.586Z"
   },
   {
    "duration": 17,
    "start_time": "2022-08-29T21:12:05.132Z"
   },
   {
    "duration": 8,
    "start_time": "2022-08-29T21:12:05.505Z"
   },
   {
    "duration": 11,
    "start_time": "2022-08-29T21:12:06.207Z"
   },
   {
    "duration": 20,
    "start_time": "2022-08-29T21:12:06.735Z"
   },
   {
    "duration": 89,
    "start_time": "2022-08-29T21:12:10.925Z"
   },
   {
    "duration": 18,
    "start_time": "2022-08-29T21:12:11.503Z"
   },
   {
    "duration": 12,
    "start_time": "2022-08-29T21:12:15.106Z"
   },
   {
    "duration": 12,
    "start_time": "2022-08-29T21:12:15.544Z"
   },
   {
    "duration": 34,
    "start_time": "2022-08-29T21:13:05.528Z"
   },
   {
    "duration": 12,
    "start_time": "2022-08-29T21:13:07.525Z"
   },
   {
    "duration": 27,
    "start_time": "2022-08-29T21:14:37.431Z"
   },
   {
    "duration": 10,
    "start_time": "2022-08-29T21:14:38.746Z"
   },
   {
    "duration": 10,
    "start_time": "2022-08-29T21:16:54.034Z"
   },
   {
    "duration": 41,
    "start_time": "2022-08-29T21:17:53.886Z"
   },
   {
    "duration": 40,
    "start_time": "2022-08-29T21:18:02.080Z"
   },
   {
    "duration": 27,
    "start_time": "2022-08-29T21:18:11.442Z"
   },
   {
    "duration": 3,
    "start_time": "2022-08-29T21:39:08.848Z"
   },
   {
    "duration": 498,
    "start_time": "2022-08-29T21:39:09.153Z"
   },
   {
    "duration": 25,
    "start_time": "2022-08-29T21:39:09.653Z"
   },
   {
    "duration": 12,
    "start_time": "2022-08-29T21:39:09.680Z"
   },
   {
    "duration": 22,
    "start_time": "2022-08-29T21:39:10.071Z"
   },
   {
    "duration": 20,
    "start_time": "2022-08-29T21:39:10.199Z"
   },
   {
    "duration": 18,
    "start_time": "2022-08-29T21:39:10.582Z"
   },
   {
    "duration": 9,
    "start_time": "2022-08-29T21:39:10.751Z"
   },
   {
    "duration": 15,
    "start_time": "2022-08-29T21:39:11.120Z"
   },
   {
    "duration": 7,
    "start_time": "2022-08-29T21:39:11.289Z"
   },
   {
    "duration": 16,
    "start_time": "2022-08-29T21:39:11.642Z"
   },
   {
    "duration": 17,
    "start_time": "2022-08-29T21:39:11.827Z"
   },
   {
    "duration": 77,
    "start_time": "2022-08-29T21:39:12.538Z"
   },
   {
    "duration": 14,
    "start_time": "2022-08-29T21:39:12.721Z"
   },
   {
    "duration": 10,
    "start_time": "2022-08-29T21:39:13.444Z"
   },
   {
    "duration": 29,
    "start_time": "2022-08-29T21:39:13.457Z"
   },
   {
    "duration": 37,
    "start_time": "2022-08-29T21:39:14.219Z"
   },
   {
    "duration": 9,
    "start_time": "2022-08-29T21:39:14.359Z"
   },
   {
    "duration": 24,
    "start_time": "2022-08-29T21:39:14.950Z"
   },
   {
    "duration": 11,
    "start_time": "2022-08-29T21:39:15.149Z"
   },
   {
    "duration": 16,
    "start_time": "2022-08-29T21:39:15.316Z"
   },
   {
    "duration": 16,
    "start_time": "2022-08-29T21:39:15.513Z"
   },
   {
    "duration": 3,
    "start_time": "2022-08-29T21:42:24.324Z"
   },
   {
    "duration": 6,
    "start_time": "2022-08-29T21:42:56.308Z"
   },
   {
    "duration": 81,
    "start_time": "2022-08-29T21:43:36.592Z"
   },
   {
    "duration": 79,
    "start_time": "2022-08-29T21:44:04.767Z"
   },
   {
    "duration": 8,
    "start_time": "2022-08-29T21:44:06.467Z"
   },
   {
    "duration": 44,
    "start_time": "2022-08-29T21:46:54.907Z"
   },
   {
    "duration": 20,
    "start_time": "2022-08-29T21:46:55.397Z"
   },
   {
    "duration": 509,
    "start_time": "2022-09-07T21:00:14.735Z"
   },
   {
    "duration": 1492,
    "start_time": "2022-09-07T21:00:15.452Z"
   },
   {
    "duration": 46,
    "start_time": "2022-09-07T21:00:16.947Z"
   },
   {
    "duration": 20,
    "start_time": "2022-09-07T21:00:16.994Z"
   },
   {
    "duration": 24,
    "start_time": "2022-09-07T21:00:17.017Z"
   },
   {
    "duration": 10,
    "start_time": "2022-09-07T21:00:17.104Z"
   },
   {
    "duration": 26,
    "start_time": "2022-09-07T21:00:17.541Z"
   },
   {
    "duration": 13,
    "start_time": "2022-09-07T21:00:17.756Z"
   },
   {
    "duration": 11,
    "start_time": "2022-09-07T21:00:18.188Z"
   },
   {
    "duration": 8,
    "start_time": "2022-09-07T21:00:18.500Z"
   },
   {
    "duration": 18,
    "start_time": "2022-09-07T21:00:19.118Z"
   },
   {
    "duration": 20,
    "start_time": "2022-09-07T21:00:19.329Z"
   },
   {
    "duration": 83,
    "start_time": "2022-09-07T21:00:20.654Z"
   },
   {
    "duration": 86,
    "start_time": "2022-09-07T21:00:20.943Z"
   },
   {
    "duration": 10,
    "start_time": "2022-09-07T21:00:21.199Z"
   },
   {
    "duration": 9,
    "start_time": "2022-09-07T21:00:22.230Z"
   },
   {
    "duration": 12,
    "start_time": "2022-09-07T21:00:22.470Z"
   },
   {
    "duration": 32,
    "start_time": "2022-09-07T21:00:23.047Z"
   },
   {
    "duration": 9,
    "start_time": "2022-09-07T21:00:23.259Z"
   },
   {
    "duration": 39,
    "start_time": "2022-09-07T21:00:24.309Z"
   },
   {
    "duration": 11,
    "start_time": "2022-09-07T21:00:24.351Z"
   },
   {
    "duration": 36,
    "start_time": "2022-09-07T21:19:08.372Z"
   },
   {
    "duration": 391,
    "start_time": "2022-09-08T09:14:03.753Z"
   },
   {
    "duration": 1155,
    "start_time": "2022-09-08T09:14:04.191Z"
   },
   {
    "duration": 21,
    "start_time": "2022-09-08T09:14:05.347Z"
   },
   {
    "duration": 16,
    "start_time": "2022-09-08T09:14:05.369Z"
   },
   {
    "duration": 17,
    "start_time": "2022-09-08T09:14:05.799Z"
   },
   {
    "duration": 11,
    "start_time": "2022-09-08T09:14:06.110Z"
   },
   {
    "duration": 17,
    "start_time": "2022-09-08T09:14:06.895Z"
   },
   {
    "duration": 7,
    "start_time": "2022-09-08T09:14:07.138Z"
   },
   {
    "duration": 10,
    "start_time": "2022-09-08T09:14:07.897Z"
   },
   {
    "duration": 7,
    "start_time": "2022-09-08T09:14:08.283Z"
   },
   {
    "duration": 10,
    "start_time": "2022-09-08T09:14:09.103Z"
   },
   {
    "duration": 10,
    "start_time": "2022-09-08T09:14:09.444Z"
   },
   {
    "duration": 63,
    "start_time": "2022-09-08T09:14:10.418Z"
   },
   {
    "duration": 83,
    "start_time": "2022-09-08T09:14:10.637Z"
   },
   {
    "duration": 11,
    "start_time": "2022-09-08T09:14:11.152Z"
   },
   {
    "duration": 6,
    "start_time": "2022-09-08T09:14:33.445Z"
   },
   {
    "duration": 10,
    "start_time": "2022-09-08T09:14:34.457Z"
   },
   {
    "duration": 32,
    "start_time": "2022-09-08T09:14:35.083Z"
   },
   {
    "duration": 7,
    "start_time": "2022-09-08T09:14:35.281Z"
   },
   {
    "duration": 36,
    "start_time": "2022-09-08T09:14:35.882Z"
   },
   {
    "duration": 13,
    "start_time": "2022-09-08T09:14:36.061Z"
   },
   {
    "duration": 3,
    "start_time": "2022-09-08T09:39:02.842Z"
   },
   {
    "duration": 432,
    "start_time": "2022-09-08T09:39:02.846Z"
   },
   {
    "duration": 18,
    "start_time": "2022-09-08T09:39:03.280Z"
   },
   {
    "duration": 10,
    "start_time": "2022-09-08T09:39:03.300Z"
   },
   {
    "duration": 30,
    "start_time": "2022-09-08T09:39:03.312Z"
   },
   {
    "duration": 8,
    "start_time": "2022-09-08T09:39:03.343Z"
   },
   {
    "duration": 15,
    "start_time": "2022-09-08T09:39:03.352Z"
   },
   {
    "duration": 7,
    "start_time": "2022-09-08T09:39:03.369Z"
   },
   {
    "duration": 9,
    "start_time": "2022-09-08T09:39:03.378Z"
   },
   {
    "duration": 18,
    "start_time": "2022-09-08T09:39:03.389Z"
   },
   {
    "duration": 11,
    "start_time": "2022-09-08T09:39:03.409Z"
   },
   {
    "duration": 14,
    "start_time": "2022-09-08T09:39:03.421Z"
   },
   {
    "duration": 48,
    "start_time": "2022-09-08T09:39:03.436Z"
   },
   {
    "duration": 90,
    "start_time": "2022-09-08T09:39:03.486Z"
   },
   {
    "duration": 8,
    "start_time": "2022-09-08T09:39:03.577Z"
   },
   {
    "duration": 20,
    "start_time": "2022-09-08T09:39:03.586Z"
   },
   {
    "duration": 15,
    "start_time": "2022-09-08T09:39:03.608Z"
   },
   {
    "duration": 40,
    "start_time": "2022-09-08T09:39:03.624Z"
   },
   {
    "duration": 7,
    "start_time": "2022-09-08T09:39:03.665Z"
   },
   {
    "duration": 46,
    "start_time": "2022-09-08T09:39:03.673Z"
   },
   {
    "duration": 12,
    "start_time": "2022-09-08T09:39:03.721Z"
   },
   {
    "duration": 9,
    "start_time": "2022-09-08T09:39:03.734Z"
   },
   {
    "duration": 76,
    "start_time": "2022-09-08T12:16:10.965Z"
   },
   {
    "duration": 12,
    "start_time": "2022-09-08T12:16:20.855Z"
   },
   {
    "duration": 11,
    "start_time": "2022-09-08T12:17:26.782Z"
   },
   {
    "duration": 454,
    "start_time": "2022-09-08T12:17:40.386Z"
   },
   {
    "duration": 386,
    "start_time": "2022-09-08T12:17:40.842Z"
   },
   {
    "duration": 24,
    "start_time": "2022-09-08T12:17:41.230Z"
   },
   {
    "duration": 16,
    "start_time": "2022-09-08T12:17:41.255Z"
   },
   {
    "duration": 19,
    "start_time": "2022-09-08T12:17:41.272Z"
   },
   {
    "duration": 8,
    "start_time": "2022-09-08T12:17:41.293Z"
   },
   {
    "duration": 21,
    "start_time": "2022-09-08T12:17:41.303Z"
   },
   {
    "duration": 8,
    "start_time": "2022-09-08T12:17:41.326Z"
   },
   {
    "duration": 14,
    "start_time": "2022-09-08T12:17:41.335Z"
   },
   {
    "duration": 7,
    "start_time": "2022-09-08T12:17:41.351Z"
   },
   {
    "duration": 62,
    "start_time": "2022-09-08T12:17:41.359Z"
   },
   {
    "duration": 14,
    "start_time": "2022-09-08T12:17:41.423Z"
   },
   {
    "duration": 71,
    "start_time": "2022-09-08T12:17:41.439Z"
   },
   {
    "duration": 83,
    "start_time": "2022-09-08T12:17:41.513Z"
   },
   {
    "duration": 14,
    "start_time": "2022-09-08T12:17:41.597Z"
   },
   {
    "duration": 16,
    "start_time": "2022-09-08T12:17:41.613Z"
   },
   {
    "duration": 11,
    "start_time": "2022-09-08T12:17:41.631Z"
   },
   {
    "duration": 34,
    "start_time": "2022-09-08T12:17:41.643Z"
   },
   {
    "duration": 8,
    "start_time": "2022-09-08T12:17:41.679Z"
   },
   {
    "duration": 46,
    "start_time": "2022-09-08T12:17:41.707Z"
   },
   {
    "duration": 11,
    "start_time": "2022-09-08T12:17:41.755Z"
   },
   {
    "duration": 11,
    "start_time": "2022-09-08T12:17:41.767Z"
   },
   {
    "duration": 95,
    "start_time": "2022-09-08T12:17:41.780Z"
   },
   {
    "duration": 11,
    "start_time": "2022-09-08T12:19:21.139Z"
   },
   {
    "duration": 9,
    "start_time": "2022-09-08T12:19:45.408Z"
   },
   {
    "duration": 11,
    "start_time": "2022-09-08T12:19:54.885Z"
   },
   {
    "duration": 3,
    "start_time": "2022-09-08T12:32:57.110Z"
   },
   {
    "duration": 11,
    "start_time": "2022-09-08T12:32:58.931Z"
   },
   {
    "duration": 3,
    "start_time": "2022-09-08T13:02:33.144Z"
   },
   {
    "duration": 7,
    "start_time": "2022-09-08T13:02:34.964Z"
   },
   {
    "duration": 19,
    "start_time": "2022-09-08T13:02:49.109Z"
   },
   {
    "duration": 28,
    "start_time": "2022-09-08T13:18:18.804Z"
   },
   {
    "duration": 6,
    "start_time": "2022-09-08T13:19:02.824Z"
   },
   {
    "duration": 3,
    "start_time": "2022-09-08T13:19:10.449Z"
   },
   {
    "duration": 77,
    "start_time": "2022-09-08T13:28:20.257Z"
   },
   {
    "duration": 24,
    "start_time": "2022-09-08T13:28:42.263Z"
   },
   {
    "duration": 52,
    "start_time": "2022-09-08T13:29:04.097Z"
   },
   {
    "duration": 24,
    "start_time": "2022-09-08T13:29:12.151Z"
   },
   {
    "duration": 45,
    "start_time": "2022-09-08T13:29:26.753Z"
   },
   {
    "duration": 14,
    "start_time": "2022-09-08T13:29:34.654Z"
   },
   {
    "duration": 20,
    "start_time": "2022-09-08T13:29:43.098Z"
   },
   {
    "duration": 14,
    "start_time": "2022-09-08T13:29:47.378Z"
   },
   {
    "duration": 20,
    "start_time": "2022-09-08T13:29:52.406Z"
   },
   {
    "duration": 23,
    "start_time": "2022-09-08T13:29:59.032Z"
   },
   {
    "duration": 13,
    "start_time": "2022-09-08T13:30:08.261Z"
   },
   {
    "duration": 20,
    "start_time": "2022-09-08T13:30:23.595Z"
   },
   {
    "duration": 17,
    "start_time": "2022-09-08T13:31:14.761Z"
   },
   {
    "duration": 12,
    "start_time": "2022-09-08T13:32:10.095Z"
   },
   {
    "duration": 22,
    "start_time": "2022-09-08T13:32:18.082Z"
   },
   {
    "duration": 56708,
    "start_time": "2022-09-08T13:33:53.404Z"
   },
   {
    "duration": 149,
    "start_time": "2022-09-08T13:34:56.658Z"
   },
   {
    "duration": 23,
    "start_time": "2022-09-08T13:35:14.651Z"
   },
   {
    "duration": 25,
    "start_time": "2022-09-08T14:11:01.153Z"
   },
   {
    "duration": 15,
    "start_time": "2022-09-08T14:14:18.233Z"
   },
   {
    "duration": 26,
    "start_time": "2022-09-08T14:14:25.540Z"
   },
   {
    "duration": 31,
    "start_time": "2022-09-08T14:14:43.554Z"
   },
   {
    "duration": 16,
    "start_time": "2022-09-08T14:14:50.273Z"
   },
   {
    "duration": 11,
    "start_time": "2022-09-08T14:15:02.944Z"
   },
   {
    "duration": 7,
    "start_time": "2022-09-08T14:21:37.150Z"
   },
   {
    "duration": 19,
    "start_time": "2022-09-08T14:21:37.874Z"
   },
   {
    "duration": 50,
    "start_time": "2022-09-08T14:29:21.747Z"
   },
   {
    "duration": 23,
    "start_time": "2022-09-08T14:29:22.186Z"
   },
   {
    "duration": 14,
    "start_time": "2022-09-08T14:31:31.515Z"
   },
   {
    "duration": 31,
    "start_time": "2022-09-08T14:32:04.440Z"
   },
   {
    "duration": 40,
    "start_time": "2022-09-08T14:43:23.383Z"
   },
   {
    "duration": 36,
    "start_time": "2022-09-08T14:43:34.098Z"
   },
   {
    "duration": 36,
    "start_time": "2022-09-08T14:43:41.804Z"
   },
   {
    "duration": 33,
    "start_time": "2022-09-08T14:43:53.556Z"
   },
   {
    "duration": 481,
    "start_time": "2022-09-08T14:48:06.805Z"
   },
   {
    "duration": 1141,
    "start_time": "2022-09-08T14:48:07.288Z"
   },
   {
    "duration": 23,
    "start_time": "2022-09-08T14:48:08.430Z"
   },
   {
    "duration": 14,
    "start_time": "2022-09-08T14:48:08.455Z"
   },
   {
    "duration": 19,
    "start_time": "2022-09-08T14:48:08.470Z"
   },
   {
    "duration": 8,
    "start_time": "2022-09-08T14:48:08.490Z"
   },
   {
    "duration": 24,
    "start_time": "2022-09-08T14:48:08.500Z"
   },
   {
    "duration": 7,
    "start_time": "2022-09-08T14:48:08.525Z"
   },
   {
    "duration": 12,
    "start_time": "2022-09-08T14:48:08.533Z"
   },
   {
    "duration": 41,
    "start_time": "2022-09-08T14:48:08.547Z"
   },
   {
    "duration": 21,
    "start_time": "2022-09-08T14:48:08.590Z"
   },
   {
    "duration": 10,
    "start_time": "2022-09-08T14:48:08.613Z"
   },
   {
    "duration": 58,
    "start_time": "2022-09-08T14:48:08.624Z"
   },
   {
    "duration": 83,
    "start_time": "2022-09-08T14:48:08.684Z"
   },
   {
    "duration": 9,
    "start_time": "2022-09-08T14:48:08.768Z"
   },
   {
    "duration": 7,
    "start_time": "2022-09-08T14:48:08.779Z"
   },
   {
    "duration": 27,
    "start_time": "2022-09-08T14:48:08.788Z"
   },
   {
    "duration": 34,
    "start_time": "2022-09-08T14:48:08.816Z"
   },
   {
    "duration": 9,
    "start_time": "2022-09-08T14:48:08.851Z"
   },
   {
    "duration": 57,
    "start_time": "2022-09-08T14:48:08.861Z"
   },
   {
    "duration": 10,
    "start_time": "2022-09-08T14:48:08.919Z"
   },
   {
    "duration": 11,
    "start_time": "2022-09-08T14:48:08.930Z"
   },
   {
    "duration": 9,
    "start_time": "2022-09-08T14:48:08.942Z"
   },
   {
    "duration": 19,
    "start_time": "2022-09-08T14:48:08.952Z"
   },
   {
    "duration": 9,
    "start_time": "2022-09-08T14:48:08.972Z"
   },
   {
    "duration": 26,
    "start_time": "2022-09-08T14:48:08.982Z"
   },
   {
    "duration": 84,
    "start_time": "2022-09-08T14:48:09.009Z"
   },
   {
    "duration": 22,
    "start_time": "2022-09-08T14:48:09.106Z"
   },
   {
    "duration": 77,
    "start_time": "2022-09-08T14:48:09.129Z"
   },
   {
    "duration": 10,
    "start_time": "2022-09-08T14:48:09.207Z"
   },
   {
    "duration": 36,
    "start_time": "2022-09-08T14:48:09.218Z"
   },
   {
    "duration": 42,
    "start_time": "2022-09-08T14:48:47.392Z"
   },
   {
    "duration": 482,
    "start_time": "2022-09-08T14:48:56.499Z"
   },
   {
    "duration": 1180,
    "start_time": "2022-09-08T14:48:56.982Z"
   },
   {
    "duration": 23,
    "start_time": "2022-09-08T14:48:58.164Z"
   },
   {
    "duration": 16,
    "start_time": "2022-09-08T14:48:58.189Z"
   },
   {
    "duration": 20,
    "start_time": "2022-09-08T14:48:58.206Z"
   },
   {
    "duration": 9,
    "start_time": "2022-09-08T14:48:58.227Z"
   },
   {
    "duration": 23,
    "start_time": "2022-09-08T14:48:58.238Z"
   },
   {
    "duration": 7,
    "start_time": "2022-09-08T14:48:58.263Z"
   },
   {
    "duration": 18,
    "start_time": "2022-09-08T14:48:58.271Z"
   },
   {
    "duration": 46,
    "start_time": "2022-09-08T14:48:58.307Z"
   },
   {
    "duration": 17,
    "start_time": "2022-09-08T14:48:58.355Z"
   },
   {
    "duration": 14,
    "start_time": "2022-09-08T14:48:58.374Z"
   },
   {
    "duration": 64,
    "start_time": "2022-09-08T14:48:58.406Z"
   },
   {
    "duration": 90,
    "start_time": "2022-09-08T14:48:58.471Z"
   },
   {
    "duration": 10,
    "start_time": "2022-09-08T14:48:58.563Z"
   },
   {
    "duration": 8,
    "start_time": "2022-09-08T14:48:58.575Z"
   },
   {
    "duration": 29,
    "start_time": "2022-09-08T14:48:58.584Z"
   },
   {
    "duration": 35,
    "start_time": "2022-09-08T14:48:58.615Z"
   },
   {
    "duration": 9,
    "start_time": "2022-09-08T14:48:58.651Z"
   },
   {
    "duration": 62,
    "start_time": "2022-09-08T14:48:58.661Z"
   },
   {
    "duration": 10,
    "start_time": "2022-09-08T14:48:58.725Z"
   },
   {
    "duration": 12,
    "start_time": "2022-09-08T14:48:58.737Z"
   },
   {
    "duration": 12,
    "start_time": "2022-09-08T14:48:58.751Z"
   },
   {
    "duration": 24,
    "start_time": "2022-09-08T14:48:58.764Z"
   },
   {
    "duration": 10,
    "start_time": "2022-09-08T14:48:58.806Z"
   },
   {
    "duration": 4,
    "start_time": "2022-09-08T14:48:58.818Z"
   },
   {
    "duration": 109,
    "start_time": "2022-09-08T14:48:58.824Z"
   },
   {
    "duration": 28,
    "start_time": "2022-09-08T14:48:58.936Z"
   },
   {
    "duration": 87,
    "start_time": "2022-09-08T14:48:58.966Z"
   },
   {
    "duration": 10,
    "start_time": "2022-09-08T14:48:59.054Z"
   },
   {
    "duration": 46,
    "start_time": "2022-09-08T14:48:59.066Z"
   },
   {
    "duration": 145,
    "start_time": "2022-09-08T14:48:59.113Z"
   },
   {
    "duration": 178,
    "start_time": "2022-09-08T14:49:13.593Z"
   },
   {
    "duration": 62,
    "start_time": "2022-09-08T14:54:52.108Z"
   },
   {
    "duration": 60,
    "start_time": "2022-09-08T14:55:15.087Z"
   },
   {
    "duration": 29,
    "start_time": "2022-09-08T14:56:14.886Z"
   },
   {
    "duration": 137,
    "start_time": "2022-09-08T14:56:34.118Z"
   },
   {
    "duration": 26,
    "start_time": "2022-09-08T14:56:42.593Z"
   },
   {
    "duration": 25,
    "start_time": "2022-09-08T15:14:50.960Z"
   },
   {
    "duration": 35,
    "start_time": "2022-09-08T15:17:13.959Z"
   },
   {
    "duration": 32,
    "start_time": "2022-09-08T15:17:39.103Z"
   },
   {
    "duration": 14,
    "start_time": "2022-09-08T15:17:51.926Z"
   },
   {
    "duration": 18,
    "start_time": "2022-09-08T15:21:45.203Z"
   },
   {
    "duration": 29,
    "start_time": "2022-09-08T15:21:50.184Z"
   },
   {
    "duration": 46,
    "start_time": "2022-09-08T15:31:04.231Z"
   },
   {
    "duration": 59,
    "start_time": "2022-09-08T15:31:57.662Z"
   },
   {
    "duration": 17,
    "start_time": "2022-09-08T15:33:22.352Z"
   },
   {
    "duration": 183,
    "start_time": "2022-09-08T15:33:31.563Z"
   },
   {
    "duration": 5,
    "start_time": "2022-09-08T15:33:56.148Z"
   },
   {
    "duration": 33,
    "start_time": "2022-09-08T15:33:59.433Z"
   },
   {
    "duration": 15,
    "start_time": "2022-09-08T15:34:17.056Z"
   },
   {
    "duration": 525,
    "start_time": "2022-09-08T19:43:07.862Z"
   },
   {
    "duration": 935,
    "start_time": "2022-09-08T19:43:08.389Z"
   },
   {
    "duration": 25,
    "start_time": "2022-09-08T19:43:09.326Z"
   },
   {
    "duration": 14,
    "start_time": "2022-09-08T19:43:09.353Z"
   },
   {
    "duration": 21,
    "start_time": "2022-09-08T19:43:09.368Z"
   },
   {
    "duration": 8,
    "start_time": "2022-09-08T19:43:09.390Z"
   },
   {
    "duration": 37,
    "start_time": "2022-09-08T19:43:09.400Z"
   },
   {
    "duration": 7,
    "start_time": "2022-09-08T19:43:09.439Z"
   },
   {
    "duration": 11,
    "start_time": "2022-09-08T19:43:09.447Z"
   },
   {
    "duration": 12,
    "start_time": "2022-09-08T19:43:09.460Z"
   },
   {
    "duration": 64,
    "start_time": "2022-09-08T19:43:09.473Z"
   },
   {
    "duration": 10,
    "start_time": "2022-09-08T19:43:09.538Z"
   },
   {
    "duration": 56,
    "start_time": "2022-09-08T19:43:09.550Z"
   },
   {
    "duration": 83,
    "start_time": "2022-09-08T19:43:09.609Z"
   },
   {
    "duration": 9,
    "start_time": "2022-09-08T19:43:09.694Z"
   },
   {
    "duration": 18,
    "start_time": "2022-09-08T19:43:09.705Z"
   },
   {
    "duration": 14,
    "start_time": "2022-09-08T19:43:09.725Z"
   },
   {
    "duration": 33,
    "start_time": "2022-09-08T19:43:09.740Z"
   },
   {
    "duration": 7,
    "start_time": "2022-09-08T19:43:09.775Z"
   },
   {
    "duration": 55,
    "start_time": "2022-09-08T19:43:09.784Z"
   },
   {
    "duration": 9,
    "start_time": "2022-09-08T19:43:09.841Z"
   },
   {
    "duration": 11,
    "start_time": "2022-09-08T19:43:09.852Z"
   },
   {
    "duration": 9,
    "start_time": "2022-09-08T19:43:09.865Z"
   },
   {
    "duration": 19,
    "start_time": "2022-09-08T19:43:09.875Z"
   },
   {
    "duration": 8,
    "start_time": "2022-09-08T19:43:09.895Z"
   },
   {
    "duration": 10,
    "start_time": "2022-09-08T19:43:09.921Z"
   },
   {
    "duration": 83,
    "start_time": "2022-09-08T19:43:09.932Z"
   },
   {
    "duration": 24,
    "start_time": "2022-09-08T19:43:10.017Z"
   },
   {
    "duration": 82,
    "start_time": "2022-09-08T19:43:10.043Z"
   },
   {
    "duration": 10,
    "start_time": "2022-09-08T19:43:10.126Z"
   },
   {
    "duration": 36,
    "start_time": "2022-09-08T19:43:10.138Z"
   },
   {
    "duration": 154,
    "start_time": "2022-09-08T19:43:10.176Z"
   },
   {
    "duration": 33,
    "start_time": "2022-09-08T19:43:10.332Z"
   },
   {
    "duration": 170,
    "start_time": "2022-09-08T19:43:10.367Z"
   },
   {
    "duration": 28,
    "start_time": "2022-09-08T19:43:10.539Z"
   },
   {
    "duration": 36,
    "start_time": "2022-09-08T19:43:10.569Z"
   },
   {
    "duration": 50,
    "start_time": "2022-09-08T19:43:10.606Z"
   },
   {
    "duration": 14,
    "start_time": "2022-09-08T19:43:10.657Z"
   },
   {
    "duration": 22,
    "start_time": "2022-09-08T19:43:10.673Z"
   },
   {
    "duration": 44,
    "start_time": "2022-09-08T19:43:10.697Z"
   },
   {
    "duration": 47,
    "start_time": "2022-09-08T19:43:10.745Z"
   },
   {
    "duration": 50,
    "start_time": "2022-09-08T19:43:10.794Z"
   },
   {
    "duration": 12,
    "start_time": "2022-09-08T19:43:10.846Z"
   },
   {
    "duration": 3,
    "start_time": "2022-09-08T19:43:10.859Z"
   },
   {
    "duration": 21,
    "start_time": "2022-09-08T19:43:10.863Z"
   },
   {
    "duration": 6,
    "start_time": "2022-09-08T19:44:00.686Z"
   },
   {
    "duration": 487,
    "start_time": "2022-09-09T09:21:26.586Z"
   },
   {
    "duration": 898,
    "start_time": "2022-09-09T09:21:27.074Z"
   },
   {
    "duration": 24,
    "start_time": "2022-09-09T09:21:27.973Z"
   },
   {
    "duration": 14,
    "start_time": "2022-09-09T09:21:27.999Z"
   },
   {
    "duration": 24,
    "start_time": "2022-09-09T09:21:28.015Z"
   },
   {
    "duration": 9,
    "start_time": "2022-09-09T09:21:28.040Z"
   },
   {
    "duration": 20,
    "start_time": "2022-09-09T09:21:28.051Z"
   },
   {
    "duration": 7,
    "start_time": "2022-09-09T09:21:28.072Z"
   },
   {
    "duration": 28,
    "start_time": "2022-09-09T09:21:28.081Z"
   },
   {
    "duration": 38,
    "start_time": "2022-09-09T09:21:28.112Z"
   },
   {
    "duration": 11,
    "start_time": "2022-09-09T09:21:28.152Z"
   },
   {
    "duration": 13,
    "start_time": "2022-09-09T09:21:28.165Z"
   },
   {
    "duration": 70,
    "start_time": "2022-09-09T09:21:28.179Z"
   },
   {
    "duration": 72,
    "start_time": "2022-09-09T09:21:28.250Z"
   },
   {
    "duration": 9,
    "start_time": "2022-09-09T09:21:28.323Z"
   },
   {
    "duration": 10,
    "start_time": "2022-09-09T09:21:28.333Z"
   },
   {
    "duration": 13,
    "start_time": "2022-09-09T09:21:28.344Z"
   },
   {
    "duration": 27,
    "start_time": "2022-09-09T09:21:28.358Z"
   },
   {
    "duration": 27,
    "start_time": "2022-09-09T09:21:28.387Z"
   },
   {
    "duration": 36,
    "start_time": "2022-09-09T09:21:28.416Z"
   },
   {
    "duration": 9,
    "start_time": "2022-09-09T09:21:28.454Z"
   },
   {
    "duration": 14,
    "start_time": "2022-09-09T09:21:28.465Z"
   },
   {
    "duration": 11,
    "start_time": "2022-09-09T09:21:28.480Z"
   },
   {
    "duration": 29,
    "start_time": "2022-09-09T09:21:28.493Z"
   },
   {
    "duration": 8,
    "start_time": "2022-09-09T09:21:28.523Z"
   },
   {
    "duration": 5,
    "start_time": "2022-09-09T09:21:28.533Z"
   },
   {
    "duration": 93,
    "start_time": "2022-09-09T09:21:28.540Z"
   },
   {
    "duration": 21,
    "start_time": "2022-09-09T09:21:28.637Z"
   },
   {
    "duration": 76,
    "start_time": "2022-09-09T09:21:28.659Z"
   },
   {
    "duration": 9,
    "start_time": "2022-09-09T09:21:28.737Z"
   },
   {
    "duration": 35,
    "start_time": "2022-09-09T09:21:28.748Z"
   },
   {
    "duration": 143,
    "start_time": "2022-09-09T09:21:28.785Z"
   },
   {
    "duration": 27,
    "start_time": "2022-09-09T09:21:28.929Z"
   },
   {
    "duration": 176,
    "start_time": "2022-09-09T09:21:28.958Z"
   },
   {
    "duration": 25,
    "start_time": "2022-09-09T09:21:29.136Z"
   },
   {
    "duration": 50,
    "start_time": "2022-09-09T09:21:29.163Z"
   },
   {
    "duration": 31,
    "start_time": "2022-09-09T09:21:29.214Z"
   },
   {
    "duration": 13,
    "start_time": "2022-09-09T09:21:29.246Z"
   },
   {
    "duration": 22,
    "start_time": "2022-09-09T09:21:29.261Z"
   },
   {
    "duration": 43,
    "start_time": "2022-09-09T09:21:29.286Z"
   },
   {
    "duration": 46,
    "start_time": "2022-09-09T09:21:29.330Z"
   },
   {
    "duration": 51,
    "start_time": "2022-09-09T09:21:29.377Z"
   },
   {
    "duration": 11,
    "start_time": "2022-09-09T09:21:29.430Z"
   },
   {
    "duration": 9,
    "start_time": "2022-09-09T09:21:29.442Z"
   },
   {
    "duration": 16,
    "start_time": "2022-09-09T09:21:29.452Z"
   },
   {
    "duration": 6,
    "start_time": "2022-09-09T09:21:29.470Z"
   },
   {
    "duration": 5,
    "start_time": "2022-09-09T09:37:54.215Z"
   },
   {
    "duration": 28,
    "start_time": "2022-09-09T09:40:22.768Z"
   },
   {
    "duration": 8,
    "start_time": "2022-09-09T09:40:36.683Z"
   },
   {
    "duration": 5,
    "start_time": "2022-09-09T09:40:56.730Z"
   },
   {
    "duration": 80,
    "start_time": "2022-09-09T11:16:27.007Z"
   },
   {
    "duration": 4,
    "start_time": "2022-09-09T11:16:57.666Z"
   },
   {
    "duration": 5,
    "start_time": "2022-09-09T11:17:37.282Z"
   },
   {
    "duration": 874,
    "start_time": "2022-09-09T11:18:06.973Z"
   },
   {
    "duration": 4,
    "start_time": "2022-09-09T11:18:29.214Z"
   },
   {
    "duration": 22,
    "start_time": "2022-09-09T11:20:33.318Z"
   },
   {
    "duration": 3,
    "start_time": "2022-09-09T11:25:46.212Z"
   },
   {
    "duration": 373,
    "start_time": "2022-09-09T11:25:46.217Z"
   },
   {
    "duration": 24,
    "start_time": "2022-09-09T11:25:46.592Z"
   },
   {
    "duration": 9,
    "start_time": "2022-09-09T11:25:46.619Z"
   },
   {
    "duration": 38,
    "start_time": "2022-09-09T11:25:46.630Z"
   },
   {
    "duration": 9,
    "start_time": "2022-09-09T11:25:46.669Z"
   },
   {
    "duration": 19,
    "start_time": "2022-09-09T11:25:46.680Z"
   },
   {
    "duration": 11,
    "start_time": "2022-09-09T11:25:46.700Z"
   },
   {
    "duration": 44,
    "start_time": "2022-09-09T11:25:46.712Z"
   },
   {
    "duration": 10,
    "start_time": "2022-09-09T11:25:46.758Z"
   },
   {
    "duration": 12,
    "start_time": "2022-09-09T11:25:46.769Z"
   },
   {
    "duration": 17,
    "start_time": "2022-09-09T11:25:46.782Z"
   },
   {
    "duration": 65,
    "start_time": "2022-09-09T11:25:46.800Z"
   },
   {
    "duration": 65,
    "start_time": "2022-09-09T11:25:46.869Z"
   },
   {
    "duration": 9,
    "start_time": "2022-09-09T11:25:46.936Z"
   },
   {
    "duration": 44,
    "start_time": "2022-09-09T11:25:46.947Z"
   },
   {
    "duration": 55,
    "start_time": "2022-09-09T11:25:46.993Z"
   },
   {
    "duration": 47,
    "start_time": "2022-09-09T11:25:47.050Z"
   },
   {
    "duration": 21,
    "start_time": "2022-09-09T11:25:47.099Z"
   },
   {
    "duration": 50,
    "start_time": "2022-09-09T11:25:47.122Z"
   },
   {
    "duration": 11,
    "start_time": "2022-09-09T11:25:47.173Z"
   },
   {
    "duration": 26,
    "start_time": "2022-09-09T11:25:47.186Z"
   },
   {
    "duration": 13,
    "start_time": "2022-09-09T11:25:47.213Z"
   },
   {
    "duration": 27,
    "start_time": "2022-09-09T11:25:47.228Z"
   },
   {
    "duration": 12,
    "start_time": "2022-09-09T11:25:47.256Z"
   },
   {
    "duration": 10,
    "start_time": "2022-09-09T11:25:47.270Z"
   },
   {
    "duration": 70,
    "start_time": "2022-09-09T11:25:47.282Z"
   },
   {
    "duration": 23,
    "start_time": "2022-09-09T11:25:47.354Z"
   },
   {
    "duration": 84,
    "start_time": "2022-09-09T11:25:47.379Z"
   },
   {
    "duration": 10,
    "start_time": "2022-09-09T11:25:47.465Z"
   },
   {
    "duration": 41,
    "start_time": "2022-09-09T11:25:47.477Z"
   },
   {
    "duration": 138,
    "start_time": "2022-09-09T11:25:47.519Z"
   },
   {
    "duration": 25,
    "start_time": "2022-09-09T11:25:47.659Z"
   },
   {
    "duration": 165,
    "start_time": "2022-09-09T11:25:47.685Z"
   },
   {
    "duration": 27,
    "start_time": "2022-09-09T11:25:47.851Z"
   },
   {
    "duration": 54,
    "start_time": "2022-09-09T11:25:47.879Z"
   },
   {
    "duration": 32,
    "start_time": "2022-09-09T11:25:47.934Z"
   },
   {
    "duration": 13,
    "start_time": "2022-09-09T11:25:47.967Z"
   },
   {
    "duration": 28,
    "start_time": "2022-09-09T11:25:47.981Z"
   },
   {
    "duration": 26,
    "start_time": "2022-09-09T11:25:48.011Z"
   },
   {
    "duration": 46,
    "start_time": "2022-09-09T11:25:48.040Z"
   },
   {
    "duration": 56,
    "start_time": "2022-09-09T11:25:48.087Z"
   },
   {
    "duration": 11,
    "start_time": "2022-09-09T11:25:48.145Z"
   },
   {
    "duration": 7,
    "start_time": "2022-09-09T11:25:48.158Z"
   },
   {
    "duration": 20,
    "start_time": "2022-09-09T11:25:48.166Z"
   },
   {
    "duration": 5,
    "start_time": "2022-09-09T11:25:48.187Z"
   },
   {
    "duration": 21,
    "start_time": "2022-09-09T11:25:48.193Z"
   },
   {
    "duration": 5,
    "start_time": "2022-09-09T11:25:48.216Z"
   },
   {
    "duration": 7,
    "start_time": "2022-09-09T11:25:48.222Z"
   },
   {
    "duration": 12,
    "start_time": "2022-09-09T11:25:48.231Z"
   },
   {
    "duration": 12,
    "start_time": "2022-09-09T11:25:48.245Z"
   },
   {
    "duration": 7,
    "start_time": "2022-09-09T12:34:30.929Z"
   },
   {
    "duration": 5,
    "start_time": "2022-09-09T12:36:31.384Z"
   },
   {
    "duration": 473,
    "start_time": "2022-09-11T18:17:31.881Z"
   },
   {
    "duration": 1301,
    "start_time": "2022-09-11T18:17:32.356Z"
   },
   {
    "duration": 22,
    "start_time": "2022-09-11T18:17:33.659Z"
   },
   {
    "duration": 14,
    "start_time": "2022-09-11T18:17:33.683Z"
   },
   {
    "duration": 36,
    "start_time": "2022-09-11T18:17:33.698Z"
   },
   {
    "duration": 12,
    "start_time": "2022-09-11T18:17:33.736Z"
   },
   {
    "duration": 19,
    "start_time": "2022-09-11T18:17:33.749Z"
   },
   {
    "duration": 7,
    "start_time": "2022-09-11T18:17:33.769Z"
   },
   {
    "duration": 11,
    "start_time": "2022-09-11T18:17:33.777Z"
   },
   {
    "duration": 60,
    "start_time": "2022-09-11T18:17:33.791Z"
   },
   {
    "duration": 15,
    "start_time": "2022-09-11T18:17:33.852Z"
   },
   {
    "duration": 12,
    "start_time": "2022-09-11T18:17:33.868Z"
   },
   {
    "duration": 83,
    "start_time": "2022-09-11T18:17:33.882Z"
   },
   {
    "duration": 94,
    "start_time": "2022-09-11T18:17:33.967Z"
   },
   {
    "duration": 10,
    "start_time": "2022-09-11T18:17:34.063Z"
   },
   {
    "duration": 9,
    "start_time": "2022-09-11T18:17:34.074Z"
   },
   {
    "duration": 13,
    "start_time": "2022-09-11T18:17:34.085Z"
   },
   {
    "duration": 45,
    "start_time": "2022-09-11T18:17:34.099Z"
   },
   {
    "duration": 9,
    "start_time": "2022-09-11T18:17:34.146Z"
   },
   {
    "duration": 61,
    "start_time": "2022-09-11T18:17:34.157Z"
   },
   {
    "duration": 17,
    "start_time": "2022-09-11T18:17:34.220Z"
   },
   {
    "duration": 15,
    "start_time": "2022-09-11T18:17:34.239Z"
   },
   {
    "duration": 9,
    "start_time": "2022-09-11T18:17:34.255Z"
   },
   {
    "duration": 23,
    "start_time": "2022-09-11T18:17:34.265Z"
   },
   {
    "duration": 30,
    "start_time": "2022-09-11T18:17:34.289Z"
   },
   {
    "duration": 22,
    "start_time": "2022-09-11T18:17:34.324Z"
   },
   {
    "duration": 90,
    "start_time": "2022-09-11T18:17:34.348Z"
   },
   {
    "duration": 23,
    "start_time": "2022-09-11T18:17:34.441Z"
   },
   {
    "duration": 84,
    "start_time": "2022-09-11T18:17:34.465Z"
   },
   {
    "duration": 10,
    "start_time": "2022-09-11T18:17:34.550Z"
   },
   {
    "duration": 36,
    "start_time": "2022-09-11T18:17:34.561Z"
   },
   {
    "duration": 153,
    "start_time": "2022-09-11T18:17:34.614Z"
   },
   {
    "duration": 42,
    "start_time": "2022-09-11T18:17:34.769Z"
   },
   {
    "duration": 177,
    "start_time": "2022-09-11T18:17:34.813Z"
   },
   {
    "duration": 43,
    "start_time": "2022-09-11T18:17:34.992Z"
   },
   {
    "duration": 33,
    "start_time": "2022-09-11T18:17:35.037Z"
   },
   {
    "duration": 51,
    "start_time": "2022-09-11T18:17:35.071Z"
   },
   {
    "duration": 16,
    "start_time": "2022-09-11T18:17:35.125Z"
   },
   {
    "duration": 14,
    "start_time": "2022-09-11T18:17:35.142Z"
   },
   {
    "duration": 27,
    "start_time": "2022-09-11T18:17:35.157Z"
   },
   {
    "duration": 63,
    "start_time": "2022-09-11T18:17:35.186Z"
   },
   {
    "duration": 36,
    "start_time": "2022-09-11T18:17:35.251Z"
   },
   {
    "duration": 42,
    "start_time": "2022-09-11T18:17:35.289Z"
   },
   {
    "duration": 3,
    "start_time": "2022-09-11T18:17:35.335Z"
   },
   {
    "duration": 25,
    "start_time": "2022-09-11T18:17:35.339Z"
   },
   {
    "duration": 25,
    "start_time": "2022-09-11T18:17:35.366Z"
   },
   {
    "duration": 23,
    "start_time": "2022-09-11T18:17:35.392Z"
   },
   {
    "duration": 20,
    "start_time": "2022-09-11T18:17:35.416Z"
   },
   {
    "duration": 6,
    "start_time": "2022-09-11T18:17:35.438Z"
   },
   {
    "duration": 13,
    "start_time": "2022-09-11T18:17:35.445Z"
   },
   {
    "duration": 8,
    "start_time": "2022-09-11T18:17:35.460Z"
   },
   {
    "duration": 6,
    "start_time": "2022-09-11T18:17:35.470Z"
   },
   {
    "duration": 6,
    "start_time": "2022-09-11T18:17:35.477Z"
   },
   {
    "duration": 4,
    "start_time": "2022-09-11T18:21:17.532Z"
   },
   {
    "duration": 11,
    "start_time": "2022-09-11T18:26:26.477Z"
   },
   {
    "duration": 4,
    "start_time": "2022-09-11T18:29:45.386Z"
   },
   {
    "duration": 28,
    "start_time": "2022-09-11T18:29:48.723Z"
   },
   {
    "duration": 4,
    "start_time": "2022-09-11T18:29:55.069Z"
   },
   {
    "duration": 32,
    "start_time": "2022-09-11T18:29:55.905Z"
   },
   {
    "duration": 27,
    "start_time": "2022-09-11T18:33:14.208Z"
   },
   {
    "duration": 5,
    "start_time": "2022-09-11T18:33:50.797Z"
   },
   {
    "duration": 16,
    "start_time": "2022-09-11T18:34:03.848Z"
   },
   {
    "duration": 7,
    "start_time": "2022-09-11T18:40:50.570Z"
   },
   {
    "duration": 463,
    "start_time": "2022-09-12T08:58:39.647Z"
   },
   {
    "duration": 1232,
    "start_time": "2022-09-12T08:58:40.112Z"
   },
   {
    "duration": 34,
    "start_time": "2022-09-12T08:58:41.346Z"
   },
   {
    "duration": 37,
    "start_time": "2022-09-12T08:58:41.381Z"
   },
   {
    "duration": 24,
    "start_time": "2022-09-12T08:58:41.421Z"
   },
   {
    "duration": 10,
    "start_time": "2022-09-12T08:58:41.447Z"
   },
   {
    "duration": 21,
    "start_time": "2022-09-12T08:58:41.458Z"
   },
   {
    "duration": 8,
    "start_time": "2022-09-12T08:58:41.489Z"
   },
   {
    "duration": 14,
    "start_time": "2022-09-12T08:58:41.498Z"
   },
   {
    "duration": 25,
    "start_time": "2022-09-12T08:58:41.514Z"
   },
   {
    "duration": 79,
    "start_time": "2022-09-12T08:58:41.541Z"
   },
   {
    "duration": 29,
    "start_time": "2022-09-12T08:58:41.622Z"
   },
   {
    "duration": 76,
    "start_time": "2022-09-12T08:58:41.653Z"
   },
   {
    "duration": 103,
    "start_time": "2022-09-12T08:58:41.733Z"
   },
   {
    "duration": 12,
    "start_time": "2022-09-12T08:58:41.838Z"
   },
   {
    "duration": 13,
    "start_time": "2022-09-12T08:58:41.852Z"
   },
   {
    "duration": 39,
    "start_time": "2022-09-12T08:58:41.868Z"
   },
   {
    "duration": 42,
    "start_time": "2022-09-12T08:58:41.909Z"
   },
   {
    "duration": 12,
    "start_time": "2022-09-12T08:58:41.953Z"
   },
   {
    "duration": 65,
    "start_time": "2022-09-12T08:58:41.968Z"
   },
   {
    "duration": 13,
    "start_time": "2022-09-12T08:58:42.036Z"
   },
   {
    "duration": 19,
    "start_time": "2022-09-12T08:58:42.050Z"
   },
   {
    "duration": 25,
    "start_time": "2022-09-12T08:58:42.071Z"
   },
   {
    "duration": 28,
    "start_time": "2022-09-12T08:58:42.097Z"
   },
   {
    "duration": 12,
    "start_time": "2022-09-12T08:58:42.127Z"
   },
   {
    "duration": 7,
    "start_time": "2022-09-12T08:58:42.141Z"
   },
   {
    "duration": 107,
    "start_time": "2022-09-12T08:58:42.150Z"
   },
   {
    "duration": 36,
    "start_time": "2022-09-12T08:58:42.259Z"
   },
   {
    "duration": 104,
    "start_time": "2022-09-12T08:58:42.298Z"
   },
   {
    "duration": 12,
    "start_time": "2022-09-12T08:58:42.404Z"
   },
   {
    "duration": 49,
    "start_time": "2022-09-12T08:58:42.418Z"
   },
   {
    "duration": 164,
    "start_time": "2022-09-12T08:58:42.469Z"
   },
   {
    "duration": 31,
    "start_time": "2022-09-12T08:58:42.635Z"
   },
   {
    "duration": 213,
    "start_time": "2022-09-12T08:58:42.667Z"
   },
   {
    "duration": 33,
    "start_time": "2022-09-12T08:58:42.881Z"
   },
   {
    "duration": 37,
    "start_time": "2022-09-12T08:58:42.916Z"
   },
   {
    "duration": 63,
    "start_time": "2022-09-12T08:58:42.955Z"
   },
   {
    "duration": 18,
    "start_time": "2022-09-12T08:58:43.020Z"
   },
   {
    "duration": 15,
    "start_time": "2022-09-12T08:58:43.039Z"
   },
   {
    "duration": 48,
    "start_time": "2022-09-12T08:58:43.056Z"
   },
   {
    "duration": 59,
    "start_time": "2022-09-12T08:58:43.108Z"
   },
   {
    "duration": 63,
    "start_time": "2022-09-12T08:58:43.169Z"
   },
   {
    "duration": 12,
    "start_time": "2022-09-12T08:58:43.234Z"
   },
   {
    "duration": 10,
    "start_time": "2022-09-12T08:58:43.248Z"
   },
   {
    "duration": 41,
    "start_time": "2022-09-12T08:58:43.259Z"
   },
   {
    "duration": 37,
    "start_time": "2022-09-12T08:58:43.301Z"
   },
   {
    "duration": 35,
    "start_time": "2022-09-12T08:58:43.340Z"
   },
   {
    "duration": 14,
    "start_time": "2022-09-12T08:58:43.377Z"
   },
   {
    "duration": 15,
    "start_time": "2022-09-12T08:58:43.393Z"
   },
   {
    "duration": 9,
    "start_time": "2022-09-12T08:58:43.410Z"
   },
   {
    "duration": 26,
    "start_time": "2022-09-12T08:58:43.421Z"
   },
   {
    "duration": 45,
    "start_time": "2022-09-12T08:58:43.450Z"
   },
   {
    "duration": 23,
    "start_time": "2022-09-12T08:58:43.497Z"
   },
   {
    "duration": 8,
    "start_time": "2022-09-12T08:58:43.521Z"
   },
   {
    "duration": 34,
    "start_time": "2022-09-12T08:58:43.531Z"
   },
   {
    "duration": 8,
    "start_time": "2022-09-12T08:58:43.567Z"
   },
   {
    "duration": 25,
    "start_time": "2022-09-12T08:58:43.577Z"
   },
   {
    "duration": 11,
    "start_time": "2022-09-12T08:58:43.604Z"
   },
   {
    "duration": 22,
    "start_time": "2022-09-12T08:58:43.617Z"
   },
   {
    "duration": 12,
    "start_time": "2022-09-12T08:58:43.641Z"
   },
   {
    "duration": 577,
    "start_time": "2022-09-12T10:39:26.262Z"
   },
   {
    "duration": 199,
    "start_time": "2022-09-12T10:39:32.012Z"
   },
   {
    "duration": 188,
    "start_time": "2022-09-12T10:39:36.993Z"
   },
   {
    "duration": 182,
    "start_time": "2022-09-12T10:39:43.475Z"
   },
   {
    "duration": 204,
    "start_time": "2022-09-12T10:41:33.197Z"
   },
   {
    "duration": 302,
    "start_time": "2022-09-12T11:40:27.167Z"
   },
   {
    "duration": 184,
    "start_time": "2022-09-12T11:41:10.349Z"
   },
   {
    "duration": 180,
    "start_time": "2022-09-12T11:41:37.366Z"
   },
   {
    "duration": 196,
    "start_time": "2022-09-12T11:41:44.113Z"
   },
   {
    "duration": 173,
    "start_time": "2022-09-12T11:41:55.943Z"
   },
   {
    "duration": 172,
    "start_time": "2022-09-12T11:42:00.367Z"
   },
   {
    "duration": 171,
    "start_time": "2022-09-12T11:45:45.365Z"
   },
   {
    "duration": 167,
    "start_time": "2022-09-12T11:46:14.754Z"
   },
   {
    "duration": 199,
    "start_time": "2022-09-12T11:46:20.057Z"
   },
   {
    "duration": 161,
    "start_time": "2022-09-12T11:46:34.238Z"
   },
   {
    "duration": 286,
    "start_time": "2022-09-12T11:46:38.927Z"
   },
   {
    "duration": 176,
    "start_time": "2022-09-12T11:46:47.020Z"
   },
   {
    "duration": 160,
    "start_time": "2022-09-12T11:46:57.621Z"
   },
   {
    "duration": 3,
    "start_time": "2022-09-12T12:23:11.447Z"
   },
   {
    "duration": 502,
    "start_time": "2022-09-12T12:23:11.452Z"
   },
   {
    "duration": 33,
    "start_time": "2022-09-12T12:23:11.956Z"
   },
   {
    "duration": 22,
    "start_time": "2022-09-12T12:23:11.992Z"
   },
   {
    "duration": 38,
    "start_time": "2022-09-12T12:23:12.017Z"
   },
   {
    "duration": 12,
    "start_time": "2022-09-12T12:23:12.058Z"
   },
   {
    "duration": 49,
    "start_time": "2022-09-12T12:23:12.072Z"
   },
   {
    "duration": 16,
    "start_time": "2022-09-12T12:23:12.123Z"
   },
   {
    "duration": 25,
    "start_time": "2022-09-12T12:23:12.141Z"
   },
   {
    "duration": 27,
    "start_time": "2022-09-12T12:23:12.168Z"
   },
   {
    "duration": 30,
    "start_time": "2022-09-12T12:23:12.197Z"
   },
   {
    "duration": 36,
    "start_time": "2022-09-12T12:23:12.229Z"
   },
   {
    "duration": 75,
    "start_time": "2022-09-12T12:23:12.267Z"
   },
   {
    "duration": 72,
    "start_time": "2022-09-12T12:23:12.345Z"
   },
   {
    "duration": 9,
    "start_time": "2022-09-12T12:23:12.419Z"
   },
   {
    "duration": 17,
    "start_time": "2022-09-12T12:23:12.430Z"
   },
   {
    "duration": 26,
    "start_time": "2022-09-12T12:23:12.449Z"
   },
   {
    "duration": 43,
    "start_time": "2022-09-12T12:23:12.477Z"
   },
   {
    "duration": 10,
    "start_time": "2022-09-12T12:23:12.521Z"
   },
   {
    "duration": 71,
    "start_time": "2022-09-12T12:23:12.532Z"
   },
   {
    "duration": 11,
    "start_time": "2022-09-12T12:23:12.605Z"
   },
   {
    "duration": 28,
    "start_time": "2022-09-12T12:23:12.618Z"
   },
   {
    "duration": 21,
    "start_time": "2022-09-12T12:23:12.648Z"
   },
   {
    "duration": 29,
    "start_time": "2022-09-12T12:23:12.671Z"
   },
   {
    "duration": 29,
    "start_time": "2022-09-12T12:23:12.702Z"
   },
   {
    "duration": 31,
    "start_time": "2022-09-12T12:23:12.732Z"
   },
   {
    "duration": 81,
    "start_time": "2022-09-12T12:23:12.766Z"
   },
   {
    "duration": 27,
    "start_time": "2022-09-12T12:23:12.849Z"
   },
   {
    "duration": 85,
    "start_time": "2022-09-12T12:23:12.878Z"
   },
   {
    "duration": 12,
    "start_time": "2022-09-12T12:23:12.965Z"
   },
   {
    "duration": 36,
    "start_time": "2022-09-12T12:23:12.990Z"
   },
   {
    "duration": 150,
    "start_time": "2022-09-12T12:23:13.027Z"
   },
   {
    "duration": 40,
    "start_time": "2022-09-12T12:23:13.178Z"
   },
   {
    "duration": 211,
    "start_time": "2022-09-12T12:23:13.220Z"
   },
   {
    "duration": 33,
    "start_time": "2022-09-12T12:23:13.433Z"
   },
   {
    "duration": 58,
    "start_time": "2022-09-12T12:23:13.467Z"
   },
   {
    "duration": 37,
    "start_time": "2022-09-12T12:23:13.526Z"
   },
   {
    "duration": 34,
    "start_time": "2022-09-12T12:23:13.565Z"
   },
   {
    "duration": 17,
    "start_time": "2022-09-12T12:23:13.601Z"
   },
   {
    "duration": 33,
    "start_time": "2022-09-12T12:23:13.620Z"
   },
   {
    "duration": 75,
    "start_time": "2022-09-12T12:23:13.657Z"
   },
   {
    "duration": 41,
    "start_time": "2022-09-12T12:23:13.734Z"
   },
   {
    "duration": 30,
    "start_time": "2022-09-12T12:23:13.777Z"
   },
   {
    "duration": 6,
    "start_time": "2022-09-12T12:23:13.809Z"
   },
   {
    "duration": 51,
    "start_time": "2022-09-12T12:23:13.817Z"
   },
   {
    "duration": 37,
    "start_time": "2022-09-12T12:23:13.870Z"
   },
   {
    "duration": 43,
    "start_time": "2022-09-12T12:23:13.909Z"
   },
   {
    "duration": 13,
    "start_time": "2022-09-12T12:23:13.954Z"
   },
   {
    "duration": 32,
    "start_time": "2022-09-12T12:23:13.969Z"
   },
   {
    "duration": 23,
    "start_time": "2022-09-12T12:23:14.003Z"
   },
   {
    "duration": 33,
    "start_time": "2022-09-12T12:23:14.028Z"
   },
   {
    "duration": 27,
    "start_time": "2022-09-12T12:23:14.063Z"
   },
   {
    "duration": 22,
    "start_time": "2022-09-12T12:23:14.092Z"
   },
   {
    "duration": 30,
    "start_time": "2022-09-12T12:23:14.116Z"
   },
   {
    "duration": 37,
    "start_time": "2022-09-12T12:23:14.148Z"
   },
   {
    "duration": 5,
    "start_time": "2022-09-12T12:23:14.187Z"
   },
   {
    "duration": 59,
    "start_time": "2022-09-12T12:23:14.194Z"
   },
   {
    "duration": 24,
    "start_time": "2022-09-12T12:23:14.255Z"
   },
   {
    "duration": 35,
    "start_time": "2022-09-12T12:23:14.281Z"
   },
   {
    "duration": 38,
    "start_time": "2022-09-12T12:23:14.318Z"
   },
   {
    "duration": 217,
    "start_time": "2022-09-12T12:23:14.359Z"
   },
   {
    "duration": 186,
    "start_time": "2022-09-12T12:23:14.578Z"
   },
   {
    "duration": 171,
    "start_time": "2022-09-12T12:23:14.766Z"
   },
   {
    "duration": 182,
    "start_time": "2022-09-12T12:29:19.507Z"
   },
   {
    "duration": 164,
    "start_time": "2022-09-12T12:37:14.964Z"
   },
   {
    "duration": 179,
    "start_time": "2022-09-12T12:37:29.501Z"
   },
   {
    "duration": 178,
    "start_time": "2022-09-12T12:43:57.083Z"
   },
   {
    "duration": 28,
    "start_time": "2022-09-12T12:48:40.472Z"
   },
   {
    "duration": 15,
    "start_time": "2022-09-12T12:48:45.636Z"
   },
   {
    "duration": 84,
    "start_time": "2022-09-12T12:48:59.170Z"
   },
   {
    "duration": 56,
    "start_time": "2022-09-12T12:49:04.908Z"
   },
   {
    "duration": 32,
    "start_time": "2022-09-12T12:52:09.721Z"
   },
   {
    "duration": 69,
    "start_time": "2022-09-12T12:52:22.190Z"
   },
   {
    "duration": 52,
    "start_time": "2022-09-12T12:53:01.087Z"
   },
   {
    "duration": 10,
    "start_time": "2022-09-12T12:53:13.647Z"
   },
   {
    "duration": 4,
    "start_time": "2022-09-12T12:54:04.519Z"
   },
   {
    "duration": 28,
    "start_time": "2022-09-12T12:59:29.698Z"
   },
   {
    "duration": 13,
    "start_time": "2022-09-12T12:59:29.945Z"
   },
   {
    "duration": 457,
    "start_time": "2022-09-12T15:32:00.049Z"
   },
   {
    "duration": 37,
    "start_time": "2022-09-12T15:32:20.960Z"
   },
   {
    "duration": 1411,
    "start_time": "2022-09-12T15:32:48.653Z"
   },
   {
    "duration": 7,
    "start_time": "2022-09-12T15:33:04.662Z"
   },
   {
    "duration": 7,
    "start_time": "2022-09-12T15:33:47.908Z"
   },
   {
    "duration": 7,
    "start_time": "2022-09-12T15:34:24.106Z"
   },
   {
    "duration": 6,
    "start_time": "2022-09-12T15:37:22.720Z"
   },
   {
    "duration": 1004,
    "start_time": "2022-09-13T10:16:49.158Z"
   },
   {
    "duration": 986,
    "start_time": "2022-09-13T10:16:50.164Z"
   },
   {
    "duration": 29,
    "start_time": "2022-09-13T10:16:51.152Z"
   },
   {
    "duration": 24,
    "start_time": "2022-09-13T10:16:51.184Z"
   },
   {
    "duration": 24,
    "start_time": "2022-09-13T10:16:51.210Z"
   },
   {
    "duration": 13,
    "start_time": "2022-09-13T10:16:51.236Z"
   },
   {
    "duration": 39,
    "start_time": "2022-09-13T10:16:51.251Z"
   },
   {
    "duration": 11,
    "start_time": "2022-09-13T10:16:51.292Z"
   },
   {
    "duration": 57,
    "start_time": "2022-09-13T10:16:51.304Z"
   },
   {
    "duration": 26,
    "start_time": "2022-09-13T10:16:51.364Z"
   },
   {
    "duration": 27,
    "start_time": "2022-09-13T10:16:51.392Z"
   },
   {
    "duration": 50,
    "start_time": "2022-09-13T10:16:51.421Z"
   },
   {
    "duration": 87,
    "start_time": "2022-09-13T10:16:51.473Z"
   },
   {
    "duration": 87,
    "start_time": "2022-09-13T10:16:51.563Z"
   },
   {
    "duration": 11,
    "start_time": "2022-09-13T10:16:51.652Z"
   },
   {
    "duration": 37,
    "start_time": "2022-09-13T10:16:51.666Z"
   },
   {
    "duration": 41,
    "start_time": "2022-09-13T10:16:51.706Z"
   },
   {
    "duration": 57,
    "start_time": "2022-09-13T10:16:51.750Z"
   },
   {
    "duration": 11,
    "start_time": "2022-09-13T10:16:51.810Z"
   },
   {
    "duration": 72,
    "start_time": "2022-09-13T10:16:51.823Z"
   },
   {
    "duration": 12,
    "start_time": "2022-09-13T10:16:51.896Z"
   },
   {
    "duration": 19,
    "start_time": "2022-09-13T10:16:51.910Z"
   },
   {
    "duration": 17,
    "start_time": "2022-09-13T10:16:51.931Z"
   },
   {
    "duration": 40,
    "start_time": "2022-09-13T10:16:51.951Z"
   },
   {
    "duration": 18,
    "start_time": "2022-09-13T10:16:51.994Z"
   },
   {
    "duration": 4,
    "start_time": "2022-09-13T10:16:52.014Z"
   },
   {
    "duration": 115,
    "start_time": "2022-09-13T10:16:52.020Z"
   },
   {
    "duration": 41,
    "start_time": "2022-09-13T10:16:52.141Z"
   },
   {
    "duration": 100,
    "start_time": "2022-09-13T10:16:52.185Z"
   },
   {
    "duration": 13,
    "start_time": "2022-09-13T10:16:52.287Z"
   },
   {
    "duration": 54,
    "start_time": "2022-09-13T10:16:52.301Z"
   },
   {
    "duration": 162,
    "start_time": "2022-09-13T10:16:52.357Z"
   },
   {
    "duration": 33,
    "start_time": "2022-09-13T10:16:52.521Z"
   },
   {
    "duration": 209,
    "start_time": "2022-09-13T10:16:52.556Z"
   },
   {
    "duration": 31,
    "start_time": "2022-09-13T10:16:52.767Z"
   },
   {
    "duration": 58,
    "start_time": "2022-09-13T10:16:52.799Z"
   },
   {
    "duration": 65,
    "start_time": "2022-09-13T10:16:52.859Z"
   },
   {
    "duration": 21,
    "start_time": "2022-09-13T10:16:52.926Z"
   },
   {
    "duration": 37,
    "start_time": "2022-09-13T10:16:52.949Z"
   },
   {
    "duration": 44,
    "start_time": "2022-09-13T10:16:52.988Z"
   },
   {
    "duration": 55,
    "start_time": "2022-09-13T10:16:53.034Z"
   },
   {
    "duration": 58,
    "start_time": "2022-09-13T10:16:53.091Z"
   },
   {
    "duration": 16,
    "start_time": "2022-09-13T10:16:53.151Z"
   },
   {
    "duration": 5,
    "start_time": "2022-09-13T10:16:53.169Z"
   },
   {
    "duration": 21,
    "start_time": "2022-09-13T10:16:53.176Z"
   },
   {
    "duration": 26,
    "start_time": "2022-09-13T10:16:53.199Z"
   },
   {
    "duration": 13,
    "start_time": "2022-09-13T10:16:53.227Z"
   },
   {
    "duration": 7,
    "start_time": "2022-09-13T10:16:53.242Z"
   },
   {
    "duration": 7,
    "start_time": "2022-09-13T10:16:53.251Z"
   },
   {
    "duration": 14,
    "start_time": "2022-09-13T10:16:53.260Z"
   },
   {
    "duration": 14,
    "start_time": "2022-09-13T10:16:53.276Z"
   },
   {
    "duration": 29,
    "start_time": "2022-09-13T10:16:53.292Z"
   },
   {
    "duration": 17,
    "start_time": "2022-09-13T10:16:53.323Z"
   },
   {
    "duration": 8,
    "start_time": "2022-09-13T10:16:53.341Z"
   },
   {
    "duration": 18,
    "start_time": "2022-09-13T10:16:53.351Z"
   },
   {
    "duration": 6,
    "start_time": "2022-09-13T10:16:53.371Z"
   },
   {
    "duration": 21,
    "start_time": "2022-09-13T10:16:53.379Z"
   },
   {
    "duration": 19,
    "start_time": "2022-09-13T10:16:53.402Z"
   },
   {
    "duration": 25,
    "start_time": "2022-09-13T10:16:53.422Z"
   },
   {
    "duration": 13,
    "start_time": "2022-09-13T10:16:53.450Z"
   },
   {
    "duration": 606,
    "start_time": "2022-09-13T10:16:53.465Z"
   },
   {
    "duration": 200,
    "start_time": "2022-09-13T10:16:54.073Z"
   },
   {
    "duration": 242,
    "start_time": "2022-09-13T10:16:54.275Z"
   },
   {
    "duration": 222,
    "start_time": "2022-09-13T10:16:54.521Z"
   },
   {
    "duration": 212,
    "start_time": "2022-09-13T10:16:54.745Z"
   },
   {
    "duration": 206,
    "start_time": "2022-09-13T10:16:54.959Z"
   },
   {
    "duration": 32,
    "start_time": "2022-09-13T10:16:55.167Z"
   },
   {
    "duration": 33,
    "start_time": "2022-09-13T10:16:55.201Z"
   },
   {
    "duration": 14,
    "start_time": "2022-09-13T10:16:55.236Z"
   },
   {
    "duration": 4,
    "start_time": "2022-09-13T10:18:52.082Z"
   },
   {
    "duration": 5,
    "start_time": "2022-09-13T10:18:57.070Z"
   },
   {
    "duration": 9,
    "start_time": "2022-09-13T10:19:03.980Z"
   },
   {
    "duration": 10,
    "start_time": "2022-09-13T10:19:10.206Z"
   },
   {
    "duration": 22,
    "start_time": "2022-09-13T10:19:49.586Z"
   },
   {
    "duration": 5,
    "start_time": "2022-09-13T10:19:57.497Z"
   },
   {
    "duration": 34,
    "start_time": "2022-09-13T10:20:06.209Z"
   },
   {
    "duration": 6,
    "start_time": "2022-09-13T10:20:14.866Z"
   },
   {
    "duration": 35,
    "start_time": "2022-09-13T10:20:22.556Z"
   },
   {
    "duration": 20,
    "start_time": "2022-09-13T10:20:30.794Z"
   },
   {
    "duration": 20,
    "start_time": "2022-09-13T10:20:39.385Z"
   },
   {
    "duration": 20,
    "start_time": "2022-09-13T10:23:02.718Z"
   },
   {
    "duration": 9,
    "start_time": "2022-09-13T10:23:54.539Z"
   },
   {
    "duration": 12,
    "start_time": "2022-09-13T11:58:02.673Z"
   },
   {
    "duration": 34,
    "start_time": "2022-09-13T11:58:03.116Z"
   },
   {
    "duration": 19,
    "start_time": "2022-09-13T11:58:03.572Z"
   },
   {
    "duration": 8,
    "start_time": "2022-09-13T11:58:04.075Z"
   },
   {
    "duration": 130,
    "start_time": "2022-09-13T11:58:24.572Z"
   },
   {
    "duration": 11,
    "start_time": "2022-09-13T11:58:29.409Z"
   },
   {
    "duration": 6,
    "start_time": "2022-09-13T11:58:34.179Z"
   },
   {
    "duration": 8,
    "start_time": "2022-09-13T12:06:49.374Z"
   },
   {
    "duration": 8,
    "start_time": "2022-09-13T12:09:37.248Z"
   },
   {
    "duration": 7,
    "start_time": "2022-09-13T12:09:50.259Z"
   },
   {
    "duration": 8,
    "start_time": "2022-09-13T12:10:15.348Z"
   },
   {
    "duration": 7,
    "start_time": "2022-09-13T12:10:15.773Z"
   },
   {
    "duration": 6,
    "start_time": "2022-09-13T12:11:59.765Z"
   },
   {
    "duration": 8,
    "start_time": "2022-09-13T12:12:52.047Z"
   },
   {
    "duration": 945,
    "start_time": "2022-09-13T13:37:10.673Z"
   },
   {
    "duration": 1101,
    "start_time": "2022-09-13T13:37:11.620Z"
   },
   {
    "duration": 25,
    "start_time": "2022-09-13T13:37:12.722Z"
   },
   {
    "duration": 18,
    "start_time": "2022-09-13T13:37:12.749Z"
   },
   {
    "duration": 21,
    "start_time": "2022-09-13T13:37:12.768Z"
   },
   {
    "duration": 9,
    "start_time": "2022-09-13T13:37:12.790Z"
   },
   {
    "duration": 20,
    "start_time": "2022-09-13T13:37:12.801Z"
   },
   {
    "duration": 9,
    "start_time": "2022-09-13T13:37:12.823Z"
   },
   {
    "duration": 23,
    "start_time": "2022-09-13T13:37:12.834Z"
   },
   {
    "duration": 9,
    "start_time": "2022-09-13T13:37:12.861Z"
   },
   {
    "duration": 14,
    "start_time": "2022-09-13T13:37:12.896Z"
   },
   {
    "duration": 18,
    "start_time": "2022-09-13T13:37:12.911Z"
   },
   {
    "duration": 75,
    "start_time": "2022-09-13T13:37:12.931Z"
   },
   {
    "duration": 87,
    "start_time": "2022-09-13T13:37:13.008Z"
   },
   {
    "duration": 11,
    "start_time": "2022-09-13T13:37:13.097Z"
   },
   {
    "duration": 8,
    "start_time": "2022-09-13T13:37:13.110Z"
   },
   {
    "duration": 16,
    "start_time": "2022-09-13T13:37:13.120Z"
   },
   {
    "duration": 60,
    "start_time": "2022-09-13T13:37:13.138Z"
   },
   {
    "duration": 10,
    "start_time": "2022-09-13T13:37:13.200Z"
   },
   {
    "duration": 46,
    "start_time": "2022-09-13T13:37:13.212Z"
   },
   {
    "duration": 35,
    "start_time": "2022-09-13T13:37:13.260Z"
   },
   {
    "duration": 11,
    "start_time": "2022-09-13T13:37:13.297Z"
   },
   {
    "duration": 9,
    "start_time": "2022-09-13T13:37:13.310Z"
   },
   {
    "duration": 21,
    "start_time": "2022-09-13T13:37:13.321Z"
   },
   {
    "duration": 10,
    "start_time": "2022-09-13T13:37:13.344Z"
   },
   {
    "duration": 4,
    "start_time": "2022-09-13T13:37:13.356Z"
   },
   {
    "duration": 101,
    "start_time": "2022-09-13T13:37:13.394Z"
   },
   {
    "duration": 28,
    "start_time": "2022-09-13T13:37:13.499Z"
   },
   {
    "duration": 95,
    "start_time": "2022-09-13T13:37:13.529Z"
   },
   {
    "duration": 12,
    "start_time": "2022-09-13T13:37:13.625Z"
   },
   {
    "duration": 39,
    "start_time": "2022-09-13T13:37:13.638Z"
   },
   {
    "duration": 172,
    "start_time": "2022-09-13T13:37:13.678Z"
   },
   {
    "duration": 43,
    "start_time": "2022-09-13T13:37:13.852Z"
   },
   {
    "duration": 189,
    "start_time": "2022-09-13T13:37:13.897Z"
   },
   {
    "duration": 31,
    "start_time": "2022-09-13T13:37:14.088Z"
   },
   {
    "duration": 38,
    "start_time": "2022-09-13T13:37:14.121Z"
   },
   {
    "duration": 58,
    "start_time": "2022-09-13T13:37:14.161Z"
   },
   {
    "duration": 16,
    "start_time": "2022-09-13T13:37:14.221Z"
   },
   {
    "duration": 18,
    "start_time": "2022-09-13T13:37:14.239Z"
   },
   {
    "duration": 57,
    "start_time": "2022-09-13T13:37:14.258Z"
   },
   {
    "duration": 55,
    "start_time": "2022-09-13T13:37:14.317Z"
   },
   {
    "duration": 59,
    "start_time": "2022-09-13T13:37:14.374Z"
   },
   {
    "duration": 14,
    "start_time": "2022-09-13T13:37:14.435Z"
   },
   {
    "duration": 3,
    "start_time": "2022-09-13T13:37:14.451Z"
   },
   {
    "duration": 22,
    "start_time": "2022-09-13T13:37:14.456Z"
   },
   {
    "duration": 6,
    "start_time": "2022-09-13T13:37:14.496Z"
   },
   {
    "duration": 12,
    "start_time": "2022-09-13T13:37:14.504Z"
   },
   {
    "duration": 4,
    "start_time": "2022-09-13T13:37:14.518Z"
   },
   {
    "duration": 6,
    "start_time": "2022-09-13T13:37:14.524Z"
   },
   {
    "duration": 6,
    "start_time": "2022-09-13T13:37:14.532Z"
   },
   {
    "duration": 9,
    "start_time": "2022-09-13T13:37:14.539Z"
   },
   {
    "duration": 5,
    "start_time": "2022-09-13T13:37:14.550Z"
   },
   {
    "duration": 38,
    "start_time": "2022-09-13T13:37:14.557Z"
   },
   {
    "duration": 5,
    "start_time": "2022-09-13T13:37:14.597Z"
   },
   {
    "duration": 20,
    "start_time": "2022-09-13T13:37:14.603Z"
   },
   {
    "duration": 5,
    "start_time": "2022-09-13T13:37:14.625Z"
   },
   {
    "duration": 18,
    "start_time": "2022-09-13T13:37:14.632Z"
   },
   {
    "duration": 5,
    "start_time": "2022-09-13T13:37:14.652Z"
   },
   {
    "duration": 36,
    "start_time": "2022-09-13T13:37:14.659Z"
   },
   {
    "duration": 9,
    "start_time": "2022-09-13T13:37:14.697Z"
   },
   {
    "duration": 396,
    "start_time": "2022-09-13T13:37:14.707Z"
   },
   {
    "duration": 172,
    "start_time": "2022-09-13T13:37:15.105Z"
   },
   {
    "duration": 169,
    "start_time": "2022-09-13T13:37:15.279Z"
   },
   {
    "duration": 189,
    "start_time": "2022-09-13T13:37:15.449Z"
   },
   {
    "duration": 183,
    "start_time": "2022-09-13T13:37:15.639Z"
   },
   {
    "duration": 175,
    "start_time": "2022-09-13T13:37:15.823Z"
   },
   {
    "duration": 27,
    "start_time": "2022-09-13T13:37:16.000Z"
   },
   {
    "duration": 15,
    "start_time": "2022-09-13T13:37:16.029Z"
   },
   {
    "duration": 9,
    "start_time": "2022-09-13T13:37:16.046Z"
   },
   {
    "duration": 7,
    "start_time": "2022-09-13T13:37:16.057Z"
   },
   {
    "duration": 53,
    "start_time": "2022-09-13T13:37:16.065Z"
   },
   {
    "duration": 102,
    "start_time": "2022-09-13T13:37:16.120Z"
   },
   {
    "duration": 14,
    "start_time": "2022-09-13T13:37:16.224Z"
   },
   {
    "duration": 7,
    "start_time": "2022-09-13T13:37:16.241Z"
   },
   {
    "duration": 8,
    "start_time": "2022-09-13T13:37:16.249Z"
   },
   {
    "duration": 8,
    "start_time": "2022-09-13T13:37:16.259Z"
   },
   {
    "duration": 9,
    "start_time": "2022-09-13T13:37:16.295Z"
   },
   {
    "duration": 1145,
    "start_time": "2022-09-13T14:23:37.628Z"
   },
   {
    "duration": 412,
    "start_time": "2022-09-13T14:23:38.775Z"
   },
   {
    "duration": 24,
    "start_time": "2022-09-13T14:23:39.188Z"
   },
   {
    "duration": 16,
    "start_time": "2022-09-13T14:23:39.214Z"
   },
   {
    "duration": 19,
    "start_time": "2022-09-13T14:23:39.232Z"
   },
   {
    "duration": 10,
    "start_time": "2022-09-13T14:23:39.253Z"
   },
   {
    "duration": 44,
    "start_time": "2022-09-13T14:23:39.264Z"
   },
   {
    "duration": 8,
    "start_time": "2022-09-13T14:23:39.310Z"
   },
   {
    "duration": 12,
    "start_time": "2022-09-13T14:23:39.320Z"
   },
   {
    "duration": 10,
    "start_time": "2022-09-13T14:23:39.335Z"
   },
   {
    "duration": 13,
    "start_time": "2022-09-13T14:23:39.346Z"
   },
   {
    "duration": 38,
    "start_time": "2022-09-13T14:23:39.361Z"
   },
   {
    "duration": 63,
    "start_time": "2022-09-13T14:23:39.401Z"
   },
   {
    "duration": 91,
    "start_time": "2022-09-13T14:23:39.466Z"
   },
   {
    "duration": 10,
    "start_time": "2022-09-13T14:23:39.558Z"
   },
   {
    "duration": 9,
    "start_time": "2022-09-13T14:23:39.569Z"
   },
   {
    "duration": 22,
    "start_time": "2022-09-13T14:23:39.579Z"
   },
   {
    "duration": 36,
    "start_time": "2022-09-13T14:23:39.603Z"
   },
   {
    "duration": 8,
    "start_time": "2022-09-13T14:23:39.641Z"
   },
   {
    "duration": 65,
    "start_time": "2022-09-13T14:23:39.651Z"
   },
   {
    "duration": 11,
    "start_time": "2022-09-13T14:23:39.717Z"
   },
   {
    "duration": 24,
    "start_time": "2022-09-13T14:23:39.730Z"
   },
   {
    "duration": 12,
    "start_time": "2022-09-13T14:23:39.756Z"
   },
   {
    "duration": 26,
    "start_time": "2022-09-13T14:23:39.770Z"
   },
   {
    "duration": 16,
    "start_time": "2022-09-13T14:23:39.797Z"
   },
   {
    "duration": 4,
    "start_time": "2022-09-13T14:23:39.814Z"
   },
   {
    "duration": 98,
    "start_time": "2022-09-13T14:23:39.819Z"
   },
   {
    "duration": 26,
    "start_time": "2022-09-13T14:23:39.921Z"
   },
   {
    "duration": 94,
    "start_time": "2022-09-13T14:23:39.949Z"
   },
   {
    "duration": 12,
    "start_time": "2022-09-13T14:23:40.045Z"
   },
   {
    "duration": 49,
    "start_time": "2022-09-13T14:23:40.059Z"
   },
   {
    "duration": 156,
    "start_time": "2022-09-13T14:23:40.110Z"
   },
   {
    "duration": 41,
    "start_time": "2022-09-13T14:23:40.268Z"
   },
   {
    "duration": 188,
    "start_time": "2022-09-13T14:23:40.310Z"
   },
   {
    "duration": 28,
    "start_time": "2022-09-13T14:23:40.500Z"
   },
   {
    "duration": 37,
    "start_time": "2022-09-13T14:23:40.530Z"
   },
   {
    "duration": 55,
    "start_time": "2022-09-13T14:23:40.569Z"
   },
   {
    "duration": 14,
    "start_time": "2022-09-13T14:23:40.626Z"
   },
   {
    "duration": 14,
    "start_time": "2022-09-13T14:23:40.642Z"
   },
   {
    "duration": 53,
    "start_time": "2022-09-13T14:23:40.657Z"
   },
   {
    "duration": 52,
    "start_time": "2022-09-13T14:23:40.711Z"
   },
   {
    "duration": 61,
    "start_time": "2022-09-13T14:23:40.765Z"
   },
   {
    "duration": 15,
    "start_time": "2022-09-13T14:23:40.828Z"
   },
   {
    "duration": 4,
    "start_time": "2022-09-13T14:23:40.845Z"
   },
   {
    "duration": 20,
    "start_time": "2022-09-13T14:23:40.851Z"
   },
   {
    "duration": 26,
    "start_time": "2022-09-13T14:23:40.873Z"
   },
   {
    "duration": 10,
    "start_time": "2022-09-13T14:23:40.901Z"
   },
   {
    "duration": 5,
    "start_time": "2022-09-13T14:23:40.912Z"
   },
   {
    "duration": 8,
    "start_time": "2022-09-13T14:23:40.918Z"
   },
   {
    "duration": 7,
    "start_time": "2022-09-13T14:23:40.928Z"
   },
   {
    "duration": 10,
    "start_time": "2022-09-13T14:23:40.936Z"
   },
   {
    "duration": 6,
    "start_time": "2022-09-13T14:23:40.948Z"
   },
   {
    "duration": 39,
    "start_time": "2022-09-13T14:23:40.956Z"
   },
   {
    "duration": 7,
    "start_time": "2022-09-13T14:23:40.997Z"
   },
   {
    "duration": 15,
    "start_time": "2022-09-13T14:23:41.005Z"
   },
   {
    "duration": 3,
    "start_time": "2022-09-13T14:23:41.022Z"
   },
   {
    "duration": 19,
    "start_time": "2022-09-13T14:23:41.027Z"
   },
   {
    "duration": 6,
    "start_time": "2022-09-13T14:23:41.047Z"
   },
   {
    "duration": 18,
    "start_time": "2022-09-13T14:23:41.055Z"
   },
   {
    "duration": 27,
    "start_time": "2022-09-13T14:23:41.075Z"
   },
   {
    "duration": 385,
    "start_time": "2022-09-13T14:23:41.103Z"
   },
   {
    "duration": 192,
    "start_time": "2022-09-13T14:23:41.490Z"
   },
   {
    "duration": 183,
    "start_time": "2022-09-13T14:23:41.684Z"
   },
   {
    "duration": 191,
    "start_time": "2022-09-13T14:23:41.869Z"
   },
   {
    "duration": 186,
    "start_time": "2022-09-13T14:23:42.062Z"
   },
   {
    "duration": 175,
    "start_time": "2022-09-13T14:23:42.249Z"
   },
   {
    "duration": 26,
    "start_time": "2022-09-13T14:23:42.425Z"
   },
   {
    "duration": 14,
    "start_time": "2022-09-13T14:23:42.453Z"
   },
   {
    "duration": 27,
    "start_time": "2022-09-13T14:23:42.469Z"
   },
   {
    "duration": 10,
    "start_time": "2022-09-13T14:23:42.498Z"
   },
   {
    "duration": 33,
    "start_time": "2022-09-13T14:23:42.510Z"
   },
   {
    "duration": 94,
    "start_time": "2022-09-13T14:23:42.545Z"
   },
   {
    "duration": 19,
    "start_time": "2022-09-13T14:23:42.641Z"
   },
   {
    "duration": 10,
    "start_time": "2022-09-13T14:23:42.662Z"
   },
   {
    "duration": 15,
    "start_time": "2022-09-13T14:23:42.673Z"
   },
   {
    "duration": 13,
    "start_time": "2022-09-13T14:23:42.690Z"
   },
   {
    "duration": 24,
    "start_time": "2022-09-13T14:23:42.705Z"
   },
   {
    "duration": 86,
    "start_time": "2022-09-13T14:39:58.654Z"
   },
   {
    "duration": 92,
    "start_time": "2022-09-13T14:40:16.997Z"
   },
   {
    "duration": 5,
    "start_time": "2022-09-13T14:41:44.109Z"
   },
   {
    "duration": 921,
    "start_time": "2022-09-14T06:22:34.989Z"
   },
   {
    "duration": 4,
    "start_time": "2022-09-14T06:23:59.550Z"
   },
   {
    "duration": 1242,
    "start_time": "2022-09-14T06:24:00.116Z"
   },
   {
    "duration": 33,
    "start_time": "2022-09-14T06:24:01.360Z"
   },
   {
    "duration": 17,
    "start_time": "2022-09-14T06:24:02.391Z"
   },
   {
    "duration": 27,
    "start_time": "2022-09-14T06:24:06.045Z"
   },
   {
    "duration": 10,
    "start_time": "2022-09-14T06:24:06.564Z"
   },
   {
    "duration": 19,
    "start_time": "2022-09-14T06:24:09.917Z"
   },
   {
    "duration": 9,
    "start_time": "2022-09-14T06:24:11.377Z"
   },
   {
    "duration": 11,
    "start_time": "2022-09-14T06:24:15.608Z"
   },
   {
    "duration": 8,
    "start_time": "2022-09-14T06:24:15.847Z"
   },
   {
    "duration": 11,
    "start_time": "2022-09-14T06:24:18.319Z"
   },
   {
    "duration": 11,
    "start_time": "2022-09-14T06:24:20.557Z"
   },
   {
    "duration": 120,
    "start_time": "2022-09-14T06:28:25.120Z"
   },
   {
    "duration": 123,
    "start_time": "2022-09-14T06:28:30.341Z"
   },
   {
    "duration": 349,
    "start_time": "2022-09-14T06:28:52.670Z"
   },
   {
    "duration": 268,
    "start_time": "2022-09-14T06:28:57.914Z"
   },
   {
    "duration": 65,
    "start_time": "2022-09-14T06:29:32.722Z"
   },
   {
    "duration": 205,
    "start_time": "2022-09-14T06:29:49.786Z"
   },
   {
    "duration": 218,
    "start_time": "2022-09-14T06:29:57.770Z"
   },
   {
    "duration": 216,
    "start_time": "2022-09-14T06:38:45.319Z"
   },
   {
    "duration": 158,
    "start_time": "2022-09-14T06:39:08.171Z"
   },
   {
    "duration": 79,
    "start_time": "2022-09-14T06:39:21.107Z"
   },
   {
    "duration": 61,
    "start_time": "2022-09-14T06:40:04.735Z"
   },
   {
    "duration": 137,
    "start_time": "2022-09-14T06:40:17.023Z"
   },
   {
    "duration": 7,
    "start_time": "2022-09-14T06:40:49.583Z"
   },
   {
    "duration": 7,
    "start_time": "2022-09-14T06:41:06.744Z"
   },
   {
    "duration": 4,
    "start_time": "2022-09-14T09:01:06.807Z"
   },
   {
    "duration": 1159,
    "start_time": "2022-09-14T09:01:07.186Z"
   },
   {
    "duration": 28,
    "start_time": "2022-09-14T09:01:08.348Z"
   },
   {
    "duration": 12,
    "start_time": "2022-09-14T09:01:08.378Z"
   },
   {
    "duration": 41,
    "start_time": "2022-09-14T09:01:08.405Z"
   },
   {
    "duration": 10,
    "start_time": "2022-09-14T09:01:08.449Z"
   },
   {
    "duration": 21,
    "start_time": "2022-09-14T09:01:08.668Z"
   },
   {
    "duration": 9,
    "start_time": "2022-09-14T09:01:08.858Z"
   },
   {
    "duration": 26,
    "start_time": "2022-09-14T09:01:09.882Z"
   },
   {
    "duration": 7,
    "start_time": "2022-09-14T09:01:10.124Z"
   },
   {
    "duration": 11,
    "start_time": "2022-09-14T09:01:36.125Z"
   },
   {
    "duration": 12,
    "start_time": "2022-09-14T09:01:36.330Z"
   },
   {
    "duration": 276,
    "start_time": "2022-09-14T09:01:36.523Z"
   },
   {
    "duration": 196,
    "start_time": "2022-09-14T09:01:37.518Z"
   },
   {
    "duration": 146,
    "start_time": "2022-09-14T09:01:37.967Z"
   },
   {
    "duration": 7,
    "start_time": "2022-09-14T09:01:38.721Z"
   },
   {
    "duration": 47,
    "start_time": "2022-09-14T09:01:49.563Z"
   },
   {
    "duration": 109,
    "start_time": "2022-09-14T09:01:58.047Z"
   },
   {
    "duration": 68,
    "start_time": "2022-09-14T09:01:58.373Z"
   },
   {
    "duration": 45,
    "start_time": "2022-09-14T09:01:59.948Z"
   },
   {
    "duration": 9,
    "start_time": "2022-09-14T09:02:00.298Z"
   },
   {
    "duration": 5,
    "start_time": "2022-09-14T09:02:00.531Z"
   },
   {
    "duration": 1066,
    "start_time": "2022-09-14T11:54:36.410Z"
   },
   {
    "duration": 465,
    "start_time": "2022-09-14T11:54:37.478Z"
   },
   {
    "duration": 26,
    "start_time": "2022-09-14T11:54:37.944Z"
   },
   {
    "duration": 15,
    "start_time": "2022-09-14T11:54:37.972Z"
   },
   {
    "duration": 24,
    "start_time": "2022-09-14T11:54:37.997Z"
   },
   {
    "duration": 10,
    "start_time": "2022-09-14T11:54:38.023Z"
   },
   {
    "duration": 21,
    "start_time": "2022-09-14T11:54:38.035Z"
   },
   {
    "duration": 7,
    "start_time": "2022-09-14T11:54:38.058Z"
   },
   {
    "duration": 32,
    "start_time": "2022-09-14T11:54:38.067Z"
   },
   {
    "duration": 12,
    "start_time": "2022-09-14T11:54:38.102Z"
   },
   {
    "duration": 11,
    "start_time": "2022-09-14T11:54:38.116Z"
   },
   {
    "duration": 13,
    "start_time": "2022-09-14T11:54:38.129Z"
   },
   {
    "duration": 164,
    "start_time": "2022-09-14T11:54:38.144Z"
   },
   {
    "duration": 83,
    "start_time": "2022-09-14T11:54:38.312Z"
   },
   {
    "duration": 52,
    "start_time": "2022-09-14T11:54:38.397Z"
   },
   {
    "duration": 7,
    "start_time": "2022-09-14T11:54:38.451Z"
   },
   {
    "duration": 6,
    "start_time": "2022-09-14T11:54:38.459Z"
   },
   {
    "duration": 76,
    "start_time": "2022-09-14T11:54:38.466Z"
   },
   {
    "duration": 3,
    "start_time": "2022-09-14T12:55:15.129Z"
   },
   {
    "duration": 5,
    "start_time": "2022-09-14T12:56:55.505Z"
   },
   {
    "duration": 11,
    "start_time": "2022-09-14T12:57:11.036Z"
   },
   {
    "duration": 12,
    "start_time": "2022-09-14T12:58:14.734Z"
   },
   {
    "duration": 7,
    "start_time": "2022-09-14T12:58:20.131Z"
   },
   {
    "duration": 117,
    "start_time": "2022-09-14T12:58:55.313Z"
   },
   {
    "duration": 12,
    "start_time": "2022-09-14T12:58:56.673Z"
   },
   {
    "duration": 13,
    "start_time": "2022-09-14T12:59:15.869Z"
   },
   {
    "duration": 977,
    "start_time": "2022-09-14T12:59:31.734Z"
   },
   {
    "duration": 910,
    "start_time": "2022-09-14T12:59:32.713Z"
   },
   {
    "duration": 27,
    "start_time": "2022-09-14T12:59:33.625Z"
   },
   {
    "duration": 16,
    "start_time": "2022-09-14T12:59:33.655Z"
   },
   {
    "duration": 32,
    "start_time": "2022-09-14T12:59:33.672Z"
   },
   {
    "duration": 13,
    "start_time": "2022-09-14T12:59:33.706Z"
   },
   {
    "duration": 28,
    "start_time": "2022-09-14T12:59:33.721Z"
   },
   {
    "duration": 17,
    "start_time": "2022-09-14T12:59:33.750Z"
   },
   {
    "duration": 45,
    "start_time": "2022-09-14T12:59:33.769Z"
   },
   {
    "duration": 24,
    "start_time": "2022-09-14T12:59:33.816Z"
   },
   {
    "duration": 30,
    "start_time": "2022-09-14T12:59:33.841Z"
   },
   {
    "duration": 41,
    "start_time": "2022-09-14T12:59:33.873Z"
   },
   {
    "duration": 123,
    "start_time": "2022-09-14T12:59:33.916Z"
   },
   {
    "duration": 88,
    "start_time": "2022-09-14T12:59:34.041Z"
   },
   {
    "duration": 47,
    "start_time": "2022-09-14T12:59:34.131Z"
   },
   {
    "duration": 15,
    "start_time": "2022-09-14T12:59:34.189Z"
   },
   {
    "duration": 34,
    "start_time": "2022-09-14T12:59:34.206Z"
   },
   {
    "duration": 88,
    "start_time": "2022-09-14T12:59:34.242Z"
   },
   {
    "duration": 4,
    "start_time": "2022-09-14T12:59:34.331Z"
   },
   {
    "duration": 104,
    "start_time": "2022-09-14T12:59:34.337Z"
   },
   {
    "duration": 9,
    "start_time": "2022-09-14T12:59:34.443Z"
   },
   {
    "duration": 1054,
    "start_time": "2022-09-14T13:00:08.145Z"
   },
   {
    "duration": 474,
    "start_time": "2022-09-14T13:00:09.201Z"
   },
   {
    "duration": 38,
    "start_time": "2022-09-14T13:00:09.676Z"
   },
   {
    "duration": 17,
    "start_time": "2022-09-14T13:00:09.717Z"
   },
   {
    "duration": 31,
    "start_time": "2022-09-14T13:00:09.736Z"
   },
   {
    "duration": 32,
    "start_time": "2022-09-14T13:00:09.769Z"
   },
   {
    "duration": 24,
    "start_time": "2022-09-14T13:00:09.804Z"
   },
   {
    "duration": 13,
    "start_time": "2022-09-14T13:00:09.829Z"
   },
   {
    "duration": 31,
    "start_time": "2022-09-14T13:00:09.844Z"
   },
   {
    "duration": 26,
    "start_time": "2022-09-14T13:00:09.877Z"
   },
   {
    "duration": 30,
    "start_time": "2022-09-14T13:00:09.906Z"
   },
   {
    "duration": 26,
    "start_time": "2022-09-14T13:00:09.938Z"
   },
   {
    "duration": 142,
    "start_time": "2022-09-14T13:00:09.966Z"
   },
   {
    "duration": 101,
    "start_time": "2022-09-14T13:00:10.110Z"
   },
   {
    "duration": 56,
    "start_time": "2022-09-14T13:00:10.213Z"
   },
   {
    "duration": 25,
    "start_time": "2022-09-14T13:00:10.270Z"
   },
   {
    "duration": 11,
    "start_time": "2022-09-14T13:00:10.297Z"
   },
   {
    "duration": 63,
    "start_time": "2022-09-14T13:00:10.309Z"
   },
   {
    "duration": 5,
    "start_time": "2022-09-14T13:00:14.827Z"
   },
   {
    "duration": 12,
    "start_time": "2022-09-14T13:00:16.245Z"
   },
   {
    "duration": 5,
    "start_time": "2022-09-14T13:00:20.508Z"
   },
   {
    "duration": 12,
    "start_time": "2022-09-14T13:00:23.003Z"
   },
   {
    "duration": 20,
    "start_time": "2022-09-14T13:01:47.384Z"
   },
   {
    "duration": 15,
    "start_time": "2022-09-14T13:01:48.584Z"
   },
   {
    "duration": 32,
    "start_time": "2022-09-14T13:01:54.823Z"
   },
   {
    "duration": 9,
    "start_time": "2022-09-14T13:01:55.336Z"
   },
   {
    "duration": 39,
    "start_time": "2022-09-14T13:01:57.924Z"
   },
   {
    "duration": 11,
    "start_time": "2022-09-14T13:01:58.409Z"
   },
   {
    "duration": 1320,
    "start_time": "2022-09-14T13:02:36.359Z"
   },
   {
    "duration": 54,
    "start_time": "2022-09-14T13:06:38.210Z"
   },
   {
    "duration": 925,
    "start_time": "2022-09-14T13:06:43.687Z"
   },
   {
    "duration": 436,
    "start_time": "2022-09-14T13:06:44.614Z"
   },
   {
    "duration": 28,
    "start_time": "2022-09-14T13:06:45.052Z"
   },
   {
    "duration": 24,
    "start_time": "2022-09-14T13:06:45.082Z"
   },
   {
    "duration": 21,
    "start_time": "2022-09-14T13:06:45.108Z"
   },
   {
    "duration": 10,
    "start_time": "2022-09-14T13:06:45.131Z"
   },
   {
    "duration": 21,
    "start_time": "2022-09-14T13:06:45.143Z"
   },
   {
    "duration": 35,
    "start_time": "2022-09-14T13:06:45.166Z"
   },
   {
    "duration": 19,
    "start_time": "2022-09-14T13:06:45.203Z"
   },
   {
    "duration": 13,
    "start_time": "2022-09-14T13:06:45.225Z"
   },
   {
    "duration": 13,
    "start_time": "2022-09-14T13:06:45.239Z"
   },
   {
    "duration": 16,
    "start_time": "2022-09-14T13:06:45.253Z"
   },
   {
    "duration": 146,
    "start_time": "2022-09-14T13:06:45.271Z"
   },
   {
    "duration": 89,
    "start_time": "2022-09-14T13:06:45.420Z"
   },
   {
    "duration": 49,
    "start_time": "2022-09-14T13:06:45.512Z"
   },
   {
    "duration": 5,
    "start_time": "2022-09-14T13:06:45.563Z"
   },
   {
    "duration": 31,
    "start_time": "2022-09-14T13:06:45.570Z"
   },
   {
    "duration": 60,
    "start_time": "2022-09-14T13:06:45.603Z"
   },
   {
    "duration": 4,
    "start_time": "2022-09-14T13:06:45.665Z"
   },
   {
    "duration": 10,
    "start_time": "2022-09-14T13:06:45.671Z"
   },
   {
    "duration": 17,
    "start_time": "2022-09-14T13:06:45.682Z"
   },
   {
    "duration": 20,
    "start_time": "2022-09-14T13:06:45.702Z"
   },
   {
    "duration": 34,
    "start_time": "2022-09-14T13:06:45.724Z"
   },
   {
    "duration": 8,
    "start_time": "2022-09-14T13:06:45.760Z"
   },
   {
    "duration": 62,
    "start_time": "2022-09-14T13:06:48.264Z"
   },
   {
    "duration": 11,
    "start_time": "2022-09-14T13:06:49.266Z"
   },
   {
    "duration": 4,
    "start_time": "2022-09-14T13:08:36.538Z"
   },
   {
    "duration": 18,
    "start_time": "2022-09-14T13:08:50.714Z"
   },
   {
    "duration": 13,
    "start_time": "2022-09-14T13:09:10.930Z"
   },
   {
    "duration": 2134,
    "start_time": "2022-09-14T13:09:13.079Z"
   },
   {
    "duration": 0,
    "start_time": "2022-09-14T13:09:15.215Z"
   },
   {
    "duration": 33,
    "start_time": "2022-09-14T13:09:25.401Z"
   },
   {
    "duration": 13,
    "start_time": "2022-09-14T13:09:27.167Z"
   },
   {
    "duration": 893,
    "start_time": "2022-09-14T13:09:35.270Z"
   },
   {
    "duration": 1027,
    "start_time": "2022-09-14T13:09:51.492Z"
   },
   {
    "duration": 463,
    "start_time": "2022-09-14T13:09:52.521Z"
   },
   {
    "duration": 31,
    "start_time": "2022-09-14T13:09:52.986Z"
   },
   {
    "duration": 16,
    "start_time": "2022-09-14T13:09:53.019Z"
   },
   {
    "duration": 22,
    "start_time": "2022-09-14T13:09:53.037Z"
   },
   {
    "duration": 37,
    "start_time": "2022-09-14T13:09:53.060Z"
   },
   {
    "duration": 28,
    "start_time": "2022-09-14T13:09:53.100Z"
   },
   {
    "duration": 7,
    "start_time": "2022-09-14T13:09:53.130Z"
   },
   {
    "duration": 13,
    "start_time": "2022-09-14T13:09:53.139Z"
   },
   {
    "duration": 12,
    "start_time": "2022-09-14T13:09:53.154Z"
   },
   {
    "duration": 25,
    "start_time": "2022-09-14T13:09:53.167Z"
   },
   {
    "duration": 14,
    "start_time": "2022-09-14T13:09:53.194Z"
   },
   {
    "duration": 141,
    "start_time": "2022-09-14T13:09:53.210Z"
   },
   {
    "duration": 93,
    "start_time": "2022-09-14T13:09:53.354Z"
   },
   {
    "duration": 72,
    "start_time": "2022-09-14T13:09:53.449Z"
   },
   {
    "duration": 6,
    "start_time": "2022-09-14T13:09:53.522Z"
   },
   {
    "duration": 8,
    "start_time": "2022-09-14T13:09:53.530Z"
   },
   {
    "duration": 77,
    "start_time": "2022-09-14T13:09:53.540Z"
   },
   {
    "duration": 4,
    "start_time": "2022-09-14T13:09:53.619Z"
   },
   {
    "duration": 18,
    "start_time": "2022-09-14T13:09:53.625Z"
   },
   {
    "duration": 10,
    "start_time": "2022-09-14T13:09:53.644Z"
   },
   {
    "duration": 22,
    "start_time": "2022-09-14T13:09:53.656Z"
   },
   {
    "duration": 47,
    "start_time": "2022-09-14T13:09:53.679Z"
   },
   {
    "duration": 9,
    "start_time": "2022-09-14T13:09:53.727Z"
   },
   {
    "duration": 53,
    "start_time": "2022-09-14T13:09:53.737Z"
   },
   {
    "duration": 23,
    "start_time": "2022-09-14T13:09:53.793Z"
   },
   {
    "duration": 1006,
    "start_time": "2022-09-14T13:09:53.817Z"
   },
   {
    "duration": 3,
    "start_time": "2022-09-14T13:10:05.862Z"
   },
   {
    "duration": 534,
    "start_time": "2022-09-14T13:10:06.702Z"
   },
   {
    "duration": 13,
    "start_time": "2022-09-14T13:12:10.936Z"
   },
   {
    "duration": 515,
    "start_time": "2022-09-14T13:20:14.398Z"
   },
   {
    "duration": 881,
    "start_time": "2022-09-16T10:12:51.134Z"
   },
   {
    "duration": 1021,
    "start_time": "2022-09-16T10:12:54.633Z"
   },
   {
    "duration": 27,
    "start_time": "2022-09-16T10:12:55.657Z"
   },
   {
    "duration": 16,
    "start_time": "2022-09-16T10:12:56.204Z"
   },
   {
    "duration": 20,
    "start_time": "2022-09-16T10:12:56.942Z"
   },
   {
    "duration": 10,
    "start_time": "2022-09-16T10:12:57.383Z"
   },
   {
    "duration": 19,
    "start_time": "2022-09-16T10:12:58.301Z"
   },
   {
    "duration": 14,
    "start_time": "2022-09-16T10:12:58.723Z"
   },
   {
    "duration": 10,
    "start_time": "2022-09-16T10:12:59.742Z"
   },
   {
    "duration": 8,
    "start_time": "2022-09-16T10:13:00.142Z"
   },
   {
    "duration": 11,
    "start_time": "2022-09-16T10:13:01.034Z"
   },
   {
    "duration": 12,
    "start_time": "2022-09-16T10:13:01.502Z"
   },
   {
    "duration": 114,
    "start_time": "2022-09-16T10:13:01.912Z"
   },
   {
    "duration": 79,
    "start_time": "2022-09-16T10:13:02.404Z"
   },
   {
    "duration": 48,
    "start_time": "2022-09-16T10:13:02.666Z"
   },
   {
    "duration": 6,
    "start_time": "2022-09-16T10:13:02.910Z"
   },
   {
    "duration": 15,
    "start_time": "2022-09-16T10:13:03.120Z"
   },
   {
    "duration": 51,
    "start_time": "2022-09-16T10:13:06.334Z"
   },
   {
    "duration": 4,
    "start_time": "2022-09-16T10:13:07.252Z"
   },
   {
    "duration": 14,
    "start_time": "2022-09-16T10:13:10.493Z"
   },
   {
    "duration": 7,
    "start_time": "2022-09-16T10:13:19.172Z"
   },
   {
    "duration": 13,
    "start_time": "2022-09-16T10:13:20.682Z"
   },
   {
    "duration": 30,
    "start_time": "2022-09-16T10:13:22.942Z"
   },
   {
    "duration": 8,
    "start_time": "2022-09-16T10:13:24.046Z"
   },
   {
    "duration": 39,
    "start_time": "2022-09-16T10:13:24.750Z"
   },
   {
    "duration": 4,
    "start_time": "2022-09-16T10:13:24.943Z"
   },
   {
    "duration": 17,
    "start_time": "2022-09-16T10:13:25.181Z"
   },
   {
    "duration": 913,
    "start_time": "2022-09-16T10:13:25.954Z"
   },
   {
    "duration": 9,
    "start_time": "2022-09-16T10:14:23.246Z"
   },
   {
    "duration": 97,
    "start_time": "2022-09-16T10:14:26.036Z"
   },
   {
    "duration": 8,
    "start_time": "2022-09-16T10:14:47.098Z"
   },
   {
    "duration": 20,
    "start_time": "2022-09-16T10:14:49.296Z"
   },
   {
    "duration": 9,
    "start_time": "2022-09-16T10:14:55.385Z"
   },
   {
    "duration": 5,
    "start_time": "2022-09-16T10:14:55.783Z"
   },
   {
    "duration": 105,
    "start_time": "2022-09-16T10:15:08.996Z"
   },
   {
    "duration": 25,
    "start_time": "2022-09-16T10:15:16.277Z"
   },
   {
    "duration": 71,
    "start_time": "2022-09-16T10:15:19.533Z"
   },
   {
    "duration": 10,
    "start_time": "2022-09-16T10:15:20.057Z"
   },
   {
    "duration": 35,
    "start_time": "2022-09-16T10:15:23.137Z"
   },
   {
    "duration": 138,
    "start_time": "2022-09-16T10:15:25.931Z"
   },
   {
    "duration": 29,
    "start_time": "2022-09-16T10:15:28.567Z"
   },
   {
    "duration": 173,
    "start_time": "2022-09-16T10:15:31.977Z"
   },
   {
    "duration": 29,
    "start_time": "2022-09-16T10:15:33.844Z"
   },
   {
    "duration": 49,
    "start_time": "2022-09-16T10:15:36.510Z"
   },
   {
    "duration": 35,
    "start_time": "2022-09-16T10:15:36.668Z"
   },
   {
    "duration": 14,
    "start_time": "2022-09-16T10:15:37.237Z"
   },
   {
    "duration": 12,
    "start_time": "2022-09-16T10:15:38.247Z"
   },
   {
    "duration": 32,
    "start_time": "2022-09-16T10:15:38.605Z"
   },
   {
    "duration": 48,
    "start_time": "2022-09-16T10:15:38.947Z"
   },
   {
    "duration": 43,
    "start_time": "2022-09-16T10:15:39.474Z"
   },
   {
    "duration": 12,
    "start_time": "2022-09-16T10:15:39.977Z"
   },
   {
    "duration": 3,
    "start_time": "2022-09-16T10:15:40.295Z"
   },
   {
    "duration": 16,
    "start_time": "2022-09-16T10:15:40.555Z"
   },
   {
    "duration": 11,
    "start_time": "2022-09-16T10:16:27.205Z"
   },
   {
    "duration": 9,
    "start_time": "2022-09-16T10:16:48.591Z"
   },
   {
    "duration": 867,
    "start_time": "2022-09-17T19:30:13.326Z"
   },
   {
    "duration": 1031,
    "start_time": "2022-09-17T19:30:14.194Z"
   },
   {
    "duration": 26,
    "start_time": "2022-09-17T19:30:15.226Z"
   },
   {
    "duration": 31,
    "start_time": "2022-09-17T19:30:15.253Z"
   },
   {
    "duration": 44,
    "start_time": "2022-09-17T19:30:15.287Z"
   },
   {
    "duration": 11,
    "start_time": "2022-09-17T19:30:15.333Z"
   },
   {
    "duration": 29,
    "start_time": "2022-09-17T19:30:15.345Z"
   },
   {
    "duration": 8,
    "start_time": "2022-09-17T19:30:15.376Z"
   },
   {
    "duration": 38,
    "start_time": "2022-09-17T19:30:15.385Z"
   },
   {
    "duration": 21,
    "start_time": "2022-09-17T19:30:15.424Z"
   },
   {
    "duration": 22,
    "start_time": "2022-09-17T19:30:15.447Z"
   },
   {
    "duration": 17,
    "start_time": "2022-09-17T19:30:15.471Z"
   },
   {
    "duration": 111,
    "start_time": "2022-09-17T19:30:15.490Z"
   },
   {
    "duration": 69,
    "start_time": "2022-09-17T19:30:15.606Z"
   },
   {
    "duration": 63,
    "start_time": "2022-09-17T19:30:15.677Z"
   },
   {
    "duration": 6,
    "start_time": "2022-09-17T19:30:15.742Z"
   },
   {
    "duration": 12,
    "start_time": "2022-09-17T19:30:15.749Z"
   },
   {
    "duration": 65,
    "start_time": "2022-09-17T19:30:15.762Z"
   },
   {
    "duration": 4,
    "start_time": "2022-09-17T19:30:15.828Z"
   },
   {
    "duration": 19,
    "start_time": "2022-09-17T19:30:15.833Z"
   },
   {
    "duration": 16,
    "start_time": "2022-09-17T19:30:15.854Z"
   },
   {
    "duration": 46,
    "start_time": "2022-09-17T19:30:15.872Z"
   },
   {
    "duration": 48,
    "start_time": "2022-09-17T19:30:15.920Z"
   },
   {
    "duration": 9,
    "start_time": "2022-09-17T19:30:15.970Z"
   },
   {
    "duration": 51,
    "start_time": "2022-09-17T19:30:15.981Z"
   },
   {
    "duration": 4,
    "start_time": "2022-09-17T19:30:16.033Z"
   },
   {
    "duration": 18,
    "start_time": "2022-09-17T19:30:16.038Z"
   },
   {
    "duration": 927,
    "start_time": "2022-09-17T19:30:16.057Z"
   },
   {
    "duration": 11,
    "start_time": "2022-09-17T19:30:16.986Z"
   },
   {
    "duration": 30,
    "start_time": "2022-09-17T19:30:16.998Z"
   },
   {
    "duration": 30,
    "start_time": "2022-09-17T19:30:17.030Z"
   },
   {
    "duration": 12,
    "start_time": "2022-09-17T19:30:17.062Z"
   },
   {
    "duration": 4,
    "start_time": "2022-09-17T19:30:17.075Z"
   },
   {
    "duration": 92,
    "start_time": "2022-09-17T19:30:17.081Z"
   },
   {
    "duration": 25,
    "start_time": "2022-09-17T19:30:17.174Z"
   },
   {
    "duration": 75,
    "start_time": "2022-09-17T19:30:17.209Z"
   },
   {
    "duration": 11,
    "start_time": "2022-09-17T19:30:17.286Z"
   },
   {
    "duration": 50,
    "start_time": "2022-09-17T19:30:17.308Z"
   },
   {
    "duration": 134,
    "start_time": "2022-09-17T19:30:17.359Z"
   },
   {
    "duration": 30,
    "start_time": "2022-09-17T19:30:17.495Z"
   },
   {
    "duration": 199,
    "start_time": "2022-09-17T19:30:17.529Z"
   },
   {
    "duration": 40,
    "start_time": "2022-09-17T19:30:17.729Z"
   },
   {
    "duration": 61,
    "start_time": "2022-09-17T19:30:17.771Z"
   },
   {
    "duration": 38,
    "start_time": "2022-09-17T19:30:17.834Z"
   },
   {
    "duration": 14,
    "start_time": "2022-09-17T19:30:17.873Z"
   },
   {
    "duration": 39,
    "start_time": "2022-09-17T19:30:17.889Z"
   },
   {
    "duration": 31,
    "start_time": "2022-09-17T19:30:17.930Z"
   },
   {
    "duration": 62,
    "start_time": "2022-09-17T19:30:17.962Z"
   },
   {
    "duration": 34,
    "start_time": "2022-09-17T19:30:18.026Z"
   },
   {
    "duration": 12,
    "start_time": "2022-09-17T19:30:18.062Z"
   },
   {
    "duration": 5,
    "start_time": "2022-09-17T19:30:18.075Z"
   },
   {
    "duration": 58,
    "start_time": "2022-09-17T19:30:18.082Z"
   },
   {
    "duration": 106,
    "start_time": "2022-09-17T19:30:52.800Z"
   },
   {
    "duration": 18,
    "start_time": "2022-09-17T19:30:59.023Z"
   },
   {
    "duration": 11,
    "start_time": "2022-09-17T19:31:01.978Z"
   },
   {
    "duration": 4,
    "start_time": "2022-09-17T19:46:47.038Z"
   },
   {
    "duration": 146,
    "start_time": "2022-09-17T19:55:06.360Z"
   },
   {
    "duration": 366,
    "start_time": "2022-09-17T19:56:27.892Z"
   },
   {
    "duration": 8,
    "start_time": "2022-09-17T19:56:35.302Z"
   },
   {
    "duration": 4,
    "start_time": "2022-09-17T19:56:40.722Z"
   },
   {
    "duration": 377,
    "start_time": "2022-09-17T19:56:54.584Z"
   },
   {
    "duration": 9,
    "start_time": "2022-09-17T19:56:59.493Z"
   },
   {
    "duration": 4,
    "start_time": "2022-09-17T19:57:01.905Z"
   },
   {
    "duration": 379,
    "start_time": "2022-09-17T19:57:15.009Z"
   },
   {
    "duration": 9,
    "start_time": "2022-09-17T19:57:37.839Z"
   },
   {
    "duration": 4,
    "start_time": "2022-09-17T19:57:39.681Z"
   },
   {
    "duration": 913,
    "start_time": "2022-09-17T20:00:26.786Z"
   },
   {
    "duration": 374,
    "start_time": "2022-09-17T20:00:27.701Z"
   },
   {
    "duration": 21,
    "start_time": "2022-09-17T20:00:28.076Z"
   },
   {
    "duration": 19,
    "start_time": "2022-09-17T20:00:28.099Z"
   },
   {
    "duration": 17,
    "start_time": "2022-09-17T20:00:28.119Z"
   },
   {
    "duration": 8,
    "start_time": "2022-09-17T20:00:28.137Z"
   },
   {
    "duration": 4,
    "start_time": "2022-09-17T20:00:28.146Z"
   },
   {
    "duration": 20,
    "start_time": "2022-09-17T20:00:28.151Z"
   },
   {
    "duration": 8,
    "start_time": "2022-09-17T20:00:28.172Z"
   },
   {
    "duration": 27,
    "start_time": "2022-09-17T20:00:28.183Z"
   },
   {
    "duration": 6,
    "start_time": "2022-09-17T20:00:28.212Z"
   },
   {
    "duration": 10,
    "start_time": "2022-09-17T20:00:28.220Z"
   },
   {
    "duration": 16,
    "start_time": "2022-09-17T20:00:28.232Z"
   },
   {
    "duration": 105,
    "start_time": "2022-09-17T20:00:28.249Z"
   },
   {
    "duration": 40,
    "start_time": "2022-09-17T20:00:28.356Z"
   },
   {
    "duration": 50,
    "start_time": "2022-09-17T20:00:28.398Z"
   },
   {
    "duration": 6,
    "start_time": "2022-09-17T20:00:28.449Z"
   },
   {
    "duration": 6,
    "start_time": "2022-09-17T20:00:28.456Z"
   },
   {
    "duration": 60,
    "start_time": "2022-09-17T20:00:28.463Z"
   },
   {
    "duration": 4,
    "start_time": "2022-09-17T20:00:28.525Z"
   },
   {
    "duration": 11,
    "start_time": "2022-09-17T20:00:28.530Z"
   },
   {
    "duration": 7,
    "start_time": "2022-09-17T20:00:28.543Z"
   },
   {
    "duration": 14,
    "start_time": "2022-09-17T20:00:28.552Z"
   },
   {
    "duration": 42,
    "start_time": "2022-09-17T20:00:28.567Z"
   },
   {
    "duration": 8,
    "start_time": "2022-09-17T20:00:28.610Z"
   },
   {
    "duration": 33,
    "start_time": "2022-09-17T20:00:28.619Z"
   },
   {
    "duration": 1161,
    "start_time": "2022-09-17T20:00:28.653Z"
   },
   {
    "duration": 0,
    "start_time": "2022-09-17T20:00:29.817Z"
   },
   {
    "duration": 0,
    "start_time": "2022-09-17T20:00:29.819Z"
   },
   {
    "duration": 0,
    "start_time": "2022-09-17T20:00:29.820Z"
   },
   {
    "duration": 0,
    "start_time": "2022-09-17T20:00:29.821Z"
   },
   {
    "duration": 0,
    "start_time": "2022-09-17T20:00:29.822Z"
   },
   {
    "duration": 0,
    "start_time": "2022-09-17T20:00:29.824Z"
   },
   {
    "duration": 0,
    "start_time": "2022-09-17T20:00:29.825Z"
   },
   {
    "duration": 0,
    "start_time": "2022-09-17T20:00:29.827Z"
   },
   {
    "duration": 0,
    "start_time": "2022-09-17T20:00:29.828Z"
   },
   {
    "duration": 0,
    "start_time": "2022-09-17T20:00:29.829Z"
   },
   {
    "duration": 0,
    "start_time": "2022-09-17T20:00:29.830Z"
   },
   {
    "duration": 0,
    "start_time": "2022-09-17T20:00:29.831Z"
   },
   {
    "duration": 0,
    "start_time": "2022-09-17T20:00:29.832Z"
   },
   {
    "duration": 0,
    "start_time": "2022-09-17T20:00:29.833Z"
   },
   {
    "duration": 0,
    "start_time": "2022-09-17T20:00:29.834Z"
   },
   {
    "duration": 0,
    "start_time": "2022-09-17T20:00:29.835Z"
   },
   {
    "duration": 0,
    "start_time": "2022-09-17T20:00:29.836Z"
   },
   {
    "duration": 0,
    "start_time": "2022-09-17T20:00:29.837Z"
   },
   {
    "duration": 0,
    "start_time": "2022-09-17T20:00:29.838Z"
   },
   {
    "duration": 0,
    "start_time": "2022-09-17T20:00:29.838Z"
   },
   {
    "duration": 0,
    "start_time": "2022-09-17T20:00:29.839Z"
   },
   {
    "duration": 0,
    "start_time": "2022-09-17T20:00:29.840Z"
   },
   {
    "duration": 0,
    "start_time": "2022-09-17T20:00:29.841Z"
   },
   {
    "duration": 0,
    "start_time": "2022-09-17T20:00:29.841Z"
   },
   {
    "duration": 0,
    "start_time": "2022-09-17T20:00:29.842Z"
   },
   {
    "duration": 0,
    "start_time": "2022-09-17T20:00:29.843Z"
   },
   {
    "duration": 2,
    "start_time": "2022-09-17T20:00:52.846Z"
   },
   {
    "duration": 383,
    "start_time": "2022-09-17T20:00:52.850Z"
   },
   {
    "duration": 26,
    "start_time": "2022-09-17T20:00:53.234Z"
   },
   {
    "duration": 23,
    "start_time": "2022-09-17T20:00:53.262Z"
   },
   {
    "duration": 24,
    "start_time": "2022-09-17T20:00:53.287Z"
   },
   {
    "duration": 23,
    "start_time": "2022-09-17T20:00:53.313Z"
   },
   {
    "duration": 13,
    "start_time": "2022-09-17T20:00:53.337Z"
   },
   {
    "duration": 28,
    "start_time": "2022-09-17T20:00:53.352Z"
   },
   {
    "duration": 8,
    "start_time": "2022-09-17T20:00:53.383Z"
   },
   {
    "duration": 17,
    "start_time": "2022-09-17T20:00:53.392Z"
   },
   {
    "duration": 18,
    "start_time": "2022-09-17T20:00:53.411Z"
   },
   {
    "duration": 11,
    "start_time": "2022-09-17T20:00:53.431Z"
   },
   {
    "duration": 10,
    "start_time": "2022-09-17T20:00:53.444Z"
   },
   {
    "duration": 90,
    "start_time": "2022-09-17T20:00:53.457Z"
   },
   {
    "duration": 39,
    "start_time": "2022-09-17T20:00:53.549Z"
   },
   {
    "duration": 54,
    "start_time": "2022-09-17T20:00:53.590Z"
   },
   {
    "duration": 7,
    "start_time": "2022-09-17T20:00:53.646Z"
   },
   {
    "duration": 7,
    "start_time": "2022-09-17T20:00:53.654Z"
   },
   {
    "duration": 67,
    "start_time": "2022-09-17T20:00:53.662Z"
   },
   {
    "duration": 4,
    "start_time": "2022-09-17T20:00:53.731Z"
   },
   {
    "duration": 13,
    "start_time": "2022-09-17T20:00:53.736Z"
   },
   {
    "duration": 10,
    "start_time": "2022-09-17T20:00:53.751Z"
   },
   {
    "duration": 17,
    "start_time": "2022-09-17T20:00:53.762Z"
   },
   {
    "duration": 34,
    "start_time": "2022-09-17T20:00:53.781Z"
   },
   {
    "duration": 9,
    "start_time": "2022-09-17T20:00:53.817Z"
   },
   {
    "duration": 37,
    "start_time": "2022-09-17T20:00:53.827Z"
   },
   {
    "duration": 16,
    "start_time": "2022-09-17T20:00:53.865Z"
   },
   {
    "duration": 761,
    "start_time": "2022-09-17T20:00:53.883Z"
   },
   {
    "duration": 12,
    "start_time": "2022-09-17T20:00:54.646Z"
   },
   {
    "duration": 21,
    "start_time": "2022-09-17T20:00:54.659Z"
   },
   {
    "duration": 36,
    "start_time": "2022-09-17T20:00:54.682Z"
   },
   {
    "duration": 17,
    "start_time": "2022-09-17T20:00:54.720Z"
   },
   {
    "duration": 3,
    "start_time": "2022-09-17T20:00:54.739Z"
   },
   {
    "duration": 82,
    "start_time": "2022-09-17T20:00:54.744Z"
   },
   {
    "duration": 23,
    "start_time": "2022-09-17T20:00:54.828Z"
   },
   {
    "duration": 81,
    "start_time": "2022-09-17T20:00:54.853Z"
   },
   {
    "duration": 10,
    "start_time": "2022-09-17T20:00:54.936Z"
   },
   {
    "duration": 38,
    "start_time": "2022-09-17T20:00:54.948Z"
   },
   {
    "duration": 138,
    "start_time": "2022-09-17T20:00:54.987Z"
   },
   {
    "duration": 29,
    "start_time": "2022-09-17T20:00:55.127Z"
   },
   {
    "duration": 196,
    "start_time": "2022-09-17T20:00:55.159Z"
   },
   {
    "duration": 28,
    "start_time": "2022-09-17T20:00:55.357Z"
   },
   {
    "duration": 53,
    "start_time": "2022-09-17T20:00:55.387Z"
   },
   {
    "duration": 36,
    "start_time": "2022-09-17T20:00:55.442Z"
   },
   {
    "duration": 30,
    "start_time": "2022-09-17T20:00:55.480Z"
   },
   {
    "duration": 15,
    "start_time": "2022-09-17T20:00:55.512Z"
   },
   {
    "duration": 26,
    "start_time": "2022-09-17T20:00:55.528Z"
   },
   {
    "duration": 66,
    "start_time": "2022-09-17T20:00:55.556Z"
   },
   {
    "duration": 39,
    "start_time": "2022-09-17T20:00:55.623Z"
   },
   {
    "duration": 12,
    "start_time": "2022-09-17T20:00:55.664Z"
   },
   {
    "duration": 7,
    "start_time": "2022-09-17T20:00:55.677Z"
   },
   {
    "duration": 33,
    "start_time": "2022-09-17T20:00:55.686Z"
   },
   {
    "duration": 19,
    "start_time": "2022-09-17T20:01:01.198Z"
   },
   {
    "duration": 885,
    "start_time": "2022-09-19T22:10:15.531Z"
   },
   {
    "duration": 939,
    "start_time": "2022-09-19T22:10:16.417Z"
   },
   {
    "duration": 24,
    "start_time": "2022-09-19T22:10:17.358Z"
   },
   {
    "duration": 15,
    "start_time": "2022-09-19T22:10:17.383Z"
   },
   {
    "duration": 17,
    "start_time": "2022-09-19T22:10:17.399Z"
   },
   {
    "duration": 9,
    "start_time": "2022-09-19T22:10:17.417Z"
   },
   {
    "duration": 5,
    "start_time": "2022-09-19T22:10:17.427Z"
   },
   {
    "duration": 17,
    "start_time": "2022-09-19T22:10:20.761Z"
   },
   {
    "duration": 7,
    "start_time": "2022-09-19T22:10:20.864Z"
   },
   {
    "duration": 9,
    "start_time": "2022-09-19T22:10:21.399Z"
   },
   {
    "duration": 7,
    "start_time": "2022-09-19T22:10:21.706Z"
   },
   {
    "duration": 9,
    "start_time": "2022-09-19T22:10:22.196Z"
   },
   {
    "duration": 11,
    "start_time": "2022-09-19T22:10:22.451Z"
   },
   {
    "duration": 92,
    "start_time": "2022-09-19T22:10:22.981Z"
   },
   {
    "duration": 44,
    "start_time": "2022-09-19T22:10:23.141Z"
   },
   {
    "duration": 38,
    "start_time": "2022-09-19T22:10:23.431Z"
   },
   {
    "duration": 5,
    "start_time": "2022-09-19T22:10:23.702Z"
   },
   {
    "duration": 5,
    "start_time": "2022-09-19T22:10:23.946Z"
   },
   {
    "duration": 45,
    "start_time": "2022-09-19T22:10:25.273Z"
   },
   {
    "duration": 4,
    "start_time": "2022-09-19T22:10:25.974Z"
   },
   {
    "duration": 9,
    "start_time": "2022-09-19T22:10:28.036Z"
   },
   {
    "duration": 7,
    "start_time": "2022-09-19T22:10:29.172Z"
   },
   {
    "duration": 12,
    "start_time": "2022-09-19T22:10:30.268Z"
   },
   {
    "duration": 27,
    "start_time": "2022-09-19T22:10:31.131Z"
   },
   {
    "duration": 9,
    "start_time": "2022-09-19T22:10:32.097Z"
   },
   {
    "duration": 33,
    "start_time": "2022-09-19T22:10:33.197Z"
   },
   {
    "duration": 14,
    "start_time": "2022-09-19T22:10:33.443Z"
   },
   {
    "duration": 871,
    "start_time": "2022-09-19T22:10:34.484Z"
   },
   {
    "duration": 10,
    "start_time": "2022-09-19T22:10:39.476Z"
   },
   {
    "duration": 7,
    "start_time": "2022-09-19T22:10:43.497Z"
   },
   {
    "duration": 20,
    "start_time": "2022-09-19T22:13:42.342Z"
   },
   {
    "duration": 10,
    "start_time": "2022-09-19T22:13:45.720Z"
   },
   {
    "duration": 4,
    "start_time": "2022-09-19T22:13:45.732Z"
   },
   {
    "duration": 85,
    "start_time": "2022-09-19T22:13:51.487Z"
   },
   {
    "duration": 23,
    "start_time": "2022-09-19T22:13:59.684Z"
   },
   {
    "duration": 70,
    "start_time": "2022-09-19T22:14:02.496Z"
   },
   {
    "duration": 10,
    "start_time": "2022-09-19T22:14:03.994Z"
   },
   {
    "duration": 31,
    "start_time": "2022-09-19T22:14:05.274Z"
   },
   {
    "duration": 136,
    "start_time": "2022-09-19T22:14:05.765Z"
   },
   {
    "duration": 27,
    "start_time": "2022-09-19T22:14:06.569Z"
   },
   {
    "duration": 171,
    "start_time": "2022-09-19T22:14:09.754Z"
   },
   {
    "duration": 24,
    "start_time": "2022-09-19T22:14:09.927Z"
   },
   {
    "duration": 40,
    "start_time": "2022-09-19T22:14:13.069Z"
   },
   {
    "duration": 33,
    "start_time": "2022-09-19T22:14:14.262Z"
   },
   {
    "duration": 13,
    "start_time": "2022-09-19T22:14:14.794Z"
   },
   {
    "duration": 13,
    "start_time": "2022-09-19T22:14:17.435Z"
   },
   {
    "duration": 32,
    "start_time": "2022-09-19T22:14:17.636Z"
   },
   {
    "duration": 48,
    "start_time": "2022-09-19T22:14:19.937Z"
   },
   {
    "duration": 43,
    "start_time": "2022-09-19T22:14:20.185Z"
   },
   {
    "duration": 12,
    "start_time": "2022-09-19T22:14:20.392Z"
   },
   {
    "duration": 3,
    "start_time": "2022-09-19T22:14:20.643Z"
   },
   {
    "duration": 15,
    "start_time": "2022-09-19T22:14:21.098Z"
   },
   {
    "duration": 2,
    "start_time": "2022-09-19T22:17:06.415Z"
   },
   {
    "duration": 5,
    "start_time": "2022-09-19T22:17:07.362Z"
   },
   {
    "duration": 9,
    "start_time": "2022-09-19T22:17:09.069Z"
   },
   {
    "duration": 5,
    "start_time": "2022-09-19T22:17:11.784Z"
   },
   {
    "duration": 5,
    "start_time": "2022-09-19T22:17:12.355Z"
   },
   {
    "duration": 5,
    "start_time": "2022-09-19T22:17:12.963Z"
   },
   {
    "duration": 26,
    "start_time": "2022-09-19T22:25:27.038Z"
   },
   {
    "duration": 13,
    "start_time": "2022-09-19T22:25:30.356Z"
   },
   {
    "duration": 127,
    "start_time": "2022-09-19T22:28:09.986Z"
   },
   {
    "duration": 12,
    "start_time": "2022-09-19T22:28:11.337Z"
   },
   {
    "duration": 13,
    "start_time": "2022-09-19T22:28:16.612Z"
   },
   {
    "duration": 3,
    "start_time": "2022-09-19T22:42:20.535Z"
   },
   {
    "duration": 396,
    "start_time": "2022-09-19T22:42:20.540Z"
   },
   {
    "duration": 23,
    "start_time": "2022-09-19T22:42:20.938Z"
   },
   {
    "duration": 15,
    "start_time": "2022-09-19T22:42:20.962Z"
   },
   {
    "duration": 35,
    "start_time": "2022-09-19T22:42:20.978Z"
   },
   {
    "duration": 11,
    "start_time": "2022-09-19T22:42:21.014Z"
   },
   {
    "duration": 10,
    "start_time": "2022-09-19T22:42:21.027Z"
   },
   {
    "duration": 27,
    "start_time": "2022-09-19T22:42:21.038Z"
   },
   {
    "duration": 7,
    "start_time": "2022-09-19T22:42:21.067Z"
   },
   {
    "duration": 14,
    "start_time": "2022-09-19T22:42:21.075Z"
   },
   {
    "duration": 19,
    "start_time": "2022-09-19T22:42:21.090Z"
   },
   {
    "duration": 18,
    "start_time": "2022-09-19T22:42:21.110Z"
   },
   {
    "duration": 20,
    "start_time": "2022-09-19T22:42:21.129Z"
   },
   {
    "duration": 86,
    "start_time": "2022-09-19T22:42:21.152Z"
   },
   {
    "duration": 40,
    "start_time": "2022-09-19T22:42:21.239Z"
   },
   {
    "duration": 48,
    "start_time": "2022-09-19T22:42:21.280Z"
   },
   {
    "duration": 6,
    "start_time": "2022-09-19T22:42:21.329Z"
   },
   {
    "duration": 7,
    "start_time": "2022-09-19T22:42:21.337Z"
   },
   {
    "duration": 64,
    "start_time": "2022-09-19T22:42:21.345Z"
   },
   {
    "duration": 4,
    "start_time": "2022-09-19T22:42:21.410Z"
   },
   {
    "duration": 14,
    "start_time": "2022-09-19T22:42:21.415Z"
   },
   {
    "duration": 23,
    "start_time": "2022-09-19T22:42:21.430Z"
   },
   {
    "duration": 26,
    "start_time": "2022-09-19T22:42:21.454Z"
   },
   {
    "duration": 26,
    "start_time": "2022-09-19T22:42:21.482Z"
   },
   {
    "duration": 7,
    "start_time": "2022-09-19T22:42:21.510Z"
   },
   {
    "duration": 39,
    "start_time": "2022-09-19T22:42:21.519Z"
   },
   {
    "duration": 12,
    "start_time": "2022-09-19T22:42:21.559Z"
   },
   {
    "duration": 430,
    "start_time": "2022-09-19T22:42:21.572Z"
   },
   {
    "duration": 12,
    "start_time": "2022-09-19T22:42:22.003Z"
   },
   {
    "duration": 11,
    "start_time": "2022-09-19T22:42:22.016Z"
   },
   {
    "duration": 17,
    "start_time": "2022-09-19T22:42:22.029Z"
   },
   {
    "duration": 7,
    "start_time": "2022-09-19T22:42:22.048Z"
   },
   {
    "duration": 9,
    "start_time": "2022-09-19T22:42:22.056Z"
   },
   {
    "duration": 75,
    "start_time": "2022-09-19T22:42:22.075Z"
   },
   {
    "duration": 23,
    "start_time": "2022-09-19T22:42:22.152Z"
   },
   {
    "duration": 87,
    "start_time": "2022-09-19T22:42:22.176Z"
   },
   {
    "duration": 11,
    "start_time": "2022-09-19T22:42:22.265Z"
   },
   {
    "duration": 41,
    "start_time": "2022-09-19T22:42:22.278Z"
   },
   {
    "duration": 137,
    "start_time": "2022-09-19T22:42:22.320Z"
   },
   {
    "duration": 26,
    "start_time": "2022-09-19T22:42:22.459Z"
   },
   {
    "duration": 171,
    "start_time": "2022-09-19T22:42:22.489Z"
   },
   {
    "duration": 27,
    "start_time": "2022-09-19T22:42:22.661Z"
   },
   {
    "duration": 55,
    "start_time": "2022-09-19T22:42:22.689Z"
   },
   {
    "duration": 31,
    "start_time": "2022-09-19T22:42:22.745Z"
   },
   {
    "duration": 12,
    "start_time": "2022-09-19T22:42:22.778Z"
   },
   {
    "duration": 27,
    "start_time": "2022-09-19T22:42:22.791Z"
   },
   {
    "duration": 27,
    "start_time": "2022-09-19T22:42:22.820Z"
   },
   {
    "duration": 61,
    "start_time": "2022-09-19T22:42:22.848Z"
   },
   {
    "duration": 32,
    "start_time": "2022-09-19T22:42:22.910Z"
   },
   {
    "duration": 11,
    "start_time": "2022-09-19T22:42:22.943Z"
   },
   {
    "duration": 2,
    "start_time": "2022-09-19T22:42:22.956Z"
   },
   {
    "duration": 31,
    "start_time": "2022-09-19T22:42:22.959Z"
   },
   {
    "duration": 8,
    "start_time": "2022-09-19T22:42:22.992Z"
   },
   {
    "duration": 13,
    "start_time": "2022-09-19T22:42:23.001Z"
   },
   {
    "duration": 14,
    "start_time": "2022-09-19T22:42:23.015Z"
   },
   {
    "duration": 11,
    "start_time": "2022-09-19T22:42:23.030Z"
   },
   {
    "duration": 21,
    "start_time": "2022-09-19T22:42:23.043Z"
   },
   {
    "duration": 14,
    "start_time": "2022-09-19T22:42:23.065Z"
   },
   {
    "duration": 7,
    "start_time": "2022-09-19T22:42:27.550Z"
   },
   {
    "duration": 6,
    "start_time": "2022-09-19T22:42:30.604Z"
   },
   {
    "duration": 8,
    "start_time": "2022-09-19T22:43:07.989Z"
   },
   {
    "duration": 6,
    "start_time": "2022-09-19T22:43:13.446Z"
   },
   {
    "duration": 6,
    "start_time": "2022-09-19T22:43:14.363Z"
   },
   {
    "duration": 4,
    "start_time": "2022-09-19T22:43:23.714Z"
   },
   {
    "duration": 10,
    "start_time": "2022-09-19T22:43:24.668Z"
   },
   {
    "duration": 4,
    "start_time": "2022-09-19T22:43:25.126Z"
   },
   {
    "duration": 14,
    "start_time": "2022-09-19T22:43:25.803Z"
   },
   {
    "duration": 4,
    "start_time": "2022-09-19T22:43:28.616Z"
   },
   {
    "duration": 16,
    "start_time": "2022-09-19T22:43:30.347Z"
   },
   {
    "duration": 8,
    "start_time": "2022-09-19T22:43:38.290Z"
   },
   {
    "duration": 144,
    "start_time": "2022-09-19T22:43:48.371Z"
   },
   {
    "duration": 139,
    "start_time": "2022-09-19T22:43:51.648Z"
   },
   {
    "duration": 126,
    "start_time": "2022-09-19T22:43:55.035Z"
   },
   {
    "duration": 139,
    "start_time": "2022-09-19T22:44:01.366Z"
   },
   {
    "duration": 138,
    "start_time": "2022-09-19T22:44:13.828Z"
   },
   {
    "duration": 156,
    "start_time": "2022-09-19T22:44:19.803Z"
   },
   {
    "duration": 136,
    "start_time": "2022-09-19T22:44:39.428Z"
   },
   {
    "duration": 142,
    "start_time": "2022-09-19T22:44:44.249Z"
   },
   {
    "duration": 292,
    "start_time": "2022-09-19T22:44:48.032Z"
   },
   {
    "duration": 144,
    "start_time": "2022-09-19T22:45:52.794Z"
   },
   {
    "duration": 5,
    "start_time": "2022-09-19T22:46:41.107Z"
   },
   {
    "duration": 5,
    "start_time": "2022-09-19T22:46:51.335Z"
   },
   {
    "duration": 13,
    "start_time": "2022-09-19T23:07:34.527Z"
   },
   {
    "duration": 840,
    "start_time": "2022-09-19T23:07:53.063Z"
   },
   {
    "duration": 429,
    "start_time": "2022-09-19T23:07:55.528Z"
   },
   {
    "duration": 22,
    "start_time": "2022-09-19T23:07:56.031Z"
   },
   {
    "duration": 14,
    "start_time": "2022-09-19T23:07:58.256Z"
   },
   {
    "duration": 18,
    "start_time": "2022-09-19T23:08:00.731Z"
   },
   {
    "duration": 11,
    "start_time": "2022-09-19T23:08:01.194Z"
   },
   {
    "duration": 11,
    "start_time": "2022-09-19T23:08:18.063Z"
   },
   {
    "duration": 3,
    "start_time": "2022-09-19T23:22:12.826Z"
   },
   {
    "duration": 421,
    "start_time": "2022-09-19T23:22:12.831Z"
   },
   {
    "duration": 21,
    "start_time": "2022-09-19T23:22:13.254Z"
   },
   {
    "duration": 22,
    "start_time": "2022-09-19T23:22:13.276Z"
   },
   {
    "duration": 32,
    "start_time": "2022-09-19T23:22:13.300Z"
   },
   {
    "duration": 16,
    "start_time": "2022-09-19T23:22:13.334Z"
   },
   {
    "duration": 6,
    "start_time": "2022-09-19T23:22:13.351Z"
   },
   {
    "duration": 21,
    "start_time": "2022-09-19T23:22:13.358Z"
   },
   {
    "duration": 13,
    "start_time": "2022-09-19T23:22:13.380Z"
   },
   {
    "duration": 11,
    "start_time": "2022-09-19T23:22:13.394Z"
   },
   {
    "duration": 18,
    "start_time": "2022-09-19T23:22:13.406Z"
   },
   {
    "duration": 14,
    "start_time": "2022-09-19T23:22:13.425Z"
   },
   {
    "duration": 11,
    "start_time": "2022-09-19T23:22:13.441Z"
   },
   {
    "duration": 91,
    "start_time": "2022-09-19T23:22:13.454Z"
   },
   {
    "duration": 38,
    "start_time": "2022-09-19T23:22:13.547Z"
   },
   {
    "duration": 54,
    "start_time": "2022-09-19T23:22:13.586Z"
   },
   {
    "duration": 5,
    "start_time": "2022-09-19T23:22:13.642Z"
   },
   {
    "duration": 8,
    "start_time": "2022-09-19T23:22:13.648Z"
   },
   {
    "duration": 62,
    "start_time": "2022-09-19T23:22:13.657Z"
   },
   {
    "duration": 4,
    "start_time": "2022-09-19T23:22:13.721Z"
   },
   {
    "duration": 32,
    "start_time": "2022-09-19T23:22:13.726Z"
   },
   {
    "duration": 7,
    "start_time": "2022-09-19T23:22:13.760Z"
   },
   {
    "duration": 13,
    "start_time": "2022-09-19T23:22:13.769Z"
   },
   {
    "duration": 38,
    "start_time": "2022-09-19T23:22:13.783Z"
   },
   {
    "duration": 8,
    "start_time": "2022-09-19T23:22:13.822Z"
   },
   {
    "duration": 36,
    "start_time": "2022-09-19T23:22:13.831Z"
   },
   {
    "duration": 14,
    "start_time": "2022-09-19T23:22:13.868Z"
   },
   {
    "duration": 746,
    "start_time": "2022-09-19T23:22:13.883Z"
   },
   {
    "duration": 14,
    "start_time": "2022-09-19T23:22:14.631Z"
   },
   {
    "duration": 11,
    "start_time": "2022-09-19T23:22:14.646Z"
   },
   {
    "duration": 27,
    "start_time": "2022-09-19T23:22:14.659Z"
   },
   {
    "duration": 32,
    "start_time": "2022-09-19T23:22:14.688Z"
   },
   {
    "duration": 5,
    "start_time": "2022-09-19T23:22:14.721Z"
   },
   {
    "duration": 77,
    "start_time": "2022-09-19T23:22:14.728Z"
   },
   {
    "duration": 35,
    "start_time": "2022-09-19T23:22:14.809Z"
   },
   {
    "duration": 75,
    "start_time": "2022-09-19T23:22:14.845Z"
   },
   {
    "duration": 11,
    "start_time": "2022-09-19T23:22:14.921Z"
   },
   {
    "duration": 30,
    "start_time": "2022-09-19T23:22:14.933Z"
   },
   {
    "duration": 154,
    "start_time": "2022-09-19T23:22:14.965Z"
   },
   {
    "duration": 27,
    "start_time": "2022-09-19T23:22:15.124Z"
   },
   {
    "duration": 184,
    "start_time": "2022-09-19T23:22:15.154Z"
   },
   {
    "duration": 25,
    "start_time": "2022-09-19T23:22:15.340Z"
   },
   {
    "duration": 55,
    "start_time": "2022-09-19T23:22:15.367Z"
   },
   {
    "duration": 33,
    "start_time": "2022-09-19T23:22:15.424Z"
   },
   {
    "duration": 13,
    "start_time": "2022-09-19T23:22:15.459Z"
   },
   {
    "duration": 11,
    "start_time": "2022-09-19T23:22:15.473Z"
   },
   {
    "duration": 58,
    "start_time": "2022-09-19T23:22:15.486Z"
   },
   {
    "duration": 44,
    "start_time": "2022-09-19T23:22:15.545Z"
   },
   {
    "duration": 54,
    "start_time": "2022-09-19T23:22:15.590Z"
   },
   {
    "duration": 12,
    "start_time": "2022-09-19T23:22:15.646Z"
   },
   {
    "duration": 3,
    "start_time": "2022-09-19T23:22:15.660Z"
   },
   {
    "duration": 3,
    "start_time": "2022-09-19T23:22:22.134Z"
   },
   {
    "duration": 16,
    "start_time": "2022-09-19T23:22:22.663Z"
   },
   {
    "duration": 23,
    "start_time": "2022-09-19T23:26:51.296Z"
   },
   {
    "duration": 10,
    "start_time": "2022-09-19T23:26:51.929Z"
   },
   {
    "duration": 3,
    "start_time": "2022-09-19T23:26:52.902Z"
   },
   {
    "duration": 15,
    "start_time": "2022-09-19T23:26:53.524Z"
   },
   {
    "duration": 22,
    "start_time": "2022-09-19T23:27:33.297Z"
   },
   {
    "duration": 11,
    "start_time": "2022-09-19T23:27:34.239Z"
   },
   {
    "duration": 3,
    "start_time": "2022-09-19T23:27:34.874Z"
   },
   {
    "duration": 15,
    "start_time": "2022-09-19T23:27:35.321Z"
   },
   {
    "duration": 15,
    "start_time": "2022-09-19T23:49:56.644Z"
   },
   {
    "duration": 9,
    "start_time": "2022-09-19T23:49:56.932Z"
   },
   {
    "duration": 3,
    "start_time": "2022-09-19T23:49:57.422Z"
   },
   {
    "duration": 14,
    "start_time": "2022-09-19T23:49:57.875Z"
   },
   {
    "duration": 16,
    "start_time": "2022-09-19T23:50:11.040Z"
   },
   {
    "duration": 11,
    "start_time": "2022-09-19T23:50:11.427Z"
   },
   {
    "duration": 3,
    "start_time": "2022-09-19T23:50:11.790Z"
   },
   {
    "duration": 16,
    "start_time": "2022-09-19T23:50:12.169Z"
   },
   {
    "duration": 24,
    "start_time": "2022-09-19T23:51:02.828Z"
   },
   {
    "duration": 821,
    "start_time": "2022-09-19T23:52:52.137Z"
   },
   {
    "duration": 418,
    "start_time": "2022-09-19T23:52:52.960Z"
   },
   {
    "duration": 22,
    "start_time": "2022-09-19T23:52:53.380Z"
   },
   {
    "duration": 19,
    "start_time": "2022-09-19T23:52:53.404Z"
   },
   {
    "duration": 22,
    "start_time": "2022-09-19T23:52:53.425Z"
   },
   {
    "duration": 12,
    "start_time": "2022-09-19T23:52:53.449Z"
   },
   {
    "duration": 5,
    "start_time": "2022-09-19T23:52:53.462Z"
   },
   {
    "duration": 15,
    "start_time": "2022-09-19T23:52:53.469Z"
   },
   {
    "duration": 38,
    "start_time": "2022-09-19T23:52:53.485Z"
   },
   {
    "duration": 13,
    "start_time": "2022-09-19T23:52:53.525Z"
   },
   {
    "duration": 10,
    "start_time": "2022-09-19T23:52:53.539Z"
   },
   {
    "duration": 12,
    "start_time": "2022-09-19T23:52:53.550Z"
   },
   {
    "duration": 16,
    "start_time": "2022-09-19T23:52:53.563Z"
   },
   {
    "duration": 106,
    "start_time": "2022-09-19T23:52:53.582Z"
   },
   {
    "duration": 47,
    "start_time": "2022-09-19T23:52:53.689Z"
   },
   {
    "duration": 42,
    "start_time": "2022-09-19T23:52:53.738Z"
   },
   {
    "duration": 6,
    "start_time": "2022-09-19T23:52:53.781Z"
   },
   {
    "duration": 31,
    "start_time": "2022-09-19T23:52:53.789Z"
   },
   {
    "duration": 48,
    "start_time": "2022-09-19T23:52:53.821Z"
   },
   {
    "duration": 4,
    "start_time": "2022-09-19T23:52:53.870Z"
   },
   {
    "duration": 12,
    "start_time": "2022-09-19T23:52:53.876Z"
   },
   {
    "duration": 7,
    "start_time": "2022-09-19T23:52:53.889Z"
   },
   {
    "duration": 27,
    "start_time": "2022-09-19T23:52:53.897Z"
   },
   {
    "duration": 31,
    "start_time": "2022-09-19T23:52:53.926Z"
   },
   {
    "duration": 8,
    "start_time": "2022-09-19T23:52:53.958Z"
   },
   {
    "duration": 54,
    "start_time": "2022-09-19T23:52:53.967Z"
   },
   {
    "duration": 14,
    "start_time": "2022-09-19T23:52:54.023Z"
   },
   {
    "duration": 754,
    "start_time": "2022-09-19T23:52:54.038Z"
   },
   {
    "duration": 10,
    "start_time": "2022-09-19T23:52:54.793Z"
   },
   {
    "duration": 11,
    "start_time": "2022-09-19T23:52:54.815Z"
   },
   {
    "duration": 41,
    "start_time": "2022-09-19T23:52:54.827Z"
   },
   {
    "duration": 8,
    "start_time": "2022-09-19T23:52:54.870Z"
   },
   {
    "duration": 5,
    "start_time": "2022-09-19T23:52:54.879Z"
   },
   {
    "duration": 79,
    "start_time": "2022-09-19T23:52:54.885Z"
   },
   {
    "duration": 24,
    "start_time": "2022-09-19T23:52:54.965Z"
   },
   {
    "duration": 78,
    "start_time": "2022-09-19T23:52:54.991Z"
   },
   {
    "duration": 13,
    "start_time": "2022-09-19T23:52:55.071Z"
   },
   {
    "duration": 50,
    "start_time": "2022-09-19T23:52:55.086Z"
   },
   {
    "duration": 139,
    "start_time": "2022-09-19T23:52:55.138Z"
   },
   {
    "duration": 40,
    "start_time": "2022-09-19T23:52:55.279Z"
   },
   {
    "duration": 164,
    "start_time": "2022-09-19T23:52:55.323Z"
   },
   {
    "duration": 41,
    "start_time": "2022-09-19T23:52:55.488Z"
   },
   {
    "duration": 34,
    "start_time": "2022-09-19T23:52:55.531Z"
   },
   {
    "duration": 30,
    "start_time": "2022-09-19T23:52:55.567Z"
   },
   {
    "duration": 25,
    "start_time": "2022-09-19T23:52:55.599Z"
   },
   {
    "duration": 14,
    "start_time": "2022-09-19T23:52:55.625Z"
   },
   {
    "duration": 24,
    "start_time": "2022-09-19T23:52:55.640Z"
   },
   {
    "duration": 61,
    "start_time": "2022-09-19T23:52:55.666Z"
   },
   {
    "duration": 40,
    "start_time": "2022-09-19T23:52:55.729Z"
   },
   {
    "duration": 16,
    "start_time": "2022-09-19T23:53:05.490Z"
   },
   {
    "duration": 11,
    "start_time": "2022-09-19T23:53:06.073Z"
   },
   {
    "duration": 3,
    "start_time": "2022-09-19T23:53:06.621Z"
   },
   {
    "duration": 16,
    "start_time": "2022-09-19T23:53:07.171Z"
   },
   {
    "duration": 2,
    "start_time": "2022-09-19T23:53:15.750Z"
   },
   {
    "duration": 6,
    "start_time": "2022-09-19T23:53:16.153Z"
   },
   {
    "duration": 9,
    "start_time": "2022-09-19T23:53:18.833Z"
   },
   {
    "duration": 4,
    "start_time": "2022-09-19T23:53:21.293Z"
   },
   {
    "duration": 4,
    "start_time": "2022-09-19T23:53:21.551Z"
   },
   {
    "duration": 4,
    "start_time": "2022-09-19T23:53:21.825Z"
   },
   {
    "duration": 10,
    "start_time": "2022-09-19T23:53:24.391Z"
   },
   {
    "duration": 6,
    "start_time": "2022-09-19T23:53:26.578Z"
   },
   {
    "duration": 6,
    "start_time": "2022-09-19T23:53:27.563Z"
   },
   {
    "duration": 4,
    "start_time": "2022-09-19T23:53:28.778Z"
   },
   {
    "duration": 10,
    "start_time": "2022-09-19T23:53:29.421Z"
   },
   {
    "duration": 4,
    "start_time": "2022-09-19T23:53:31.232Z"
   },
   {
    "duration": 14,
    "start_time": "2022-09-19T23:53:31.531Z"
   },
   {
    "duration": 5,
    "start_time": "2022-09-19T23:53:40.988Z"
   },
   {
    "duration": 15,
    "start_time": "2022-09-19T23:53:41.256Z"
   },
   {
    "duration": 8,
    "start_time": "2022-09-19T23:53:43.596Z"
   },
   {
    "duration": 144,
    "start_time": "2022-09-19T23:53:45.440Z"
   },
   {
    "duration": 149,
    "start_time": "2022-09-19T23:53:48.427Z"
   },
   {
    "duration": 7,
    "start_time": "2022-09-19T23:53:51.321Z"
   },
   {
    "duration": 129,
    "start_time": "2022-09-19T23:53:53.193Z"
   },
   {
    "duration": 135,
    "start_time": "2022-09-19T23:53:57.747Z"
   },
   {
    "duration": 212,
    "start_time": "2022-09-19T23:54:01.065Z"
   },
   {
    "duration": 130,
    "start_time": "2022-09-19T23:54:04.829Z"
   },
   {
    "duration": 135,
    "start_time": "2022-09-19T23:54:08.942Z"
   },
   {
    "duration": 9,
    "start_time": "2022-09-19T23:55:08.282Z"
   },
   {
    "duration": 4,
    "start_time": "2022-09-19T23:55:40.077Z"
   },
   {
    "duration": 5,
    "start_time": "2022-09-19T23:55:44.571Z"
   },
   {
    "duration": 5,
    "start_time": "2022-09-19T23:55:53.886Z"
   },
   {
    "duration": 868,
    "start_time": "2022-09-25T12:10:12.196Z"
   },
   {
    "duration": 921,
    "start_time": "2022-09-25T12:10:13.066Z"
   },
   {
    "duration": 22,
    "start_time": "2022-09-25T12:10:16.003Z"
   },
   {
    "duration": 14,
    "start_time": "2022-09-25T12:10:16.169Z"
   },
   {
    "duration": 28,
    "start_time": "2022-09-25T12:10:17.028Z"
   },
   {
    "duration": 16,
    "start_time": "2022-09-25T12:10:17.528Z"
   },
   {
    "duration": 3,
    "start_time": "2022-09-25T12:10:17.879Z"
   },
   {
    "duration": 17,
    "start_time": "2022-09-25T12:10:18.800Z"
   },
   {
    "duration": 8,
    "start_time": "2022-09-25T12:10:19.382Z"
   },
   {
    "duration": 10,
    "start_time": "2022-09-25T12:10:20.271Z"
   },
   {
    "duration": 9,
    "start_time": "2022-09-25T12:10:20.944Z"
   },
   {
    "duration": 12,
    "start_time": "2022-09-25T12:10:23.387Z"
   },
   {
    "duration": 16,
    "start_time": "2022-09-25T12:10:23.562Z"
   },
   {
    "duration": 106,
    "start_time": "2022-09-25T12:10:23.810Z"
   },
   {
    "duration": 47,
    "start_time": "2022-09-25T12:10:25.891Z"
   },
   {
    "duration": 43,
    "start_time": "2022-09-25T12:10:26.100Z"
   },
   {
    "duration": 6,
    "start_time": "2022-09-25T12:10:26.342Z"
   },
   {
    "duration": 5,
    "start_time": "2022-09-25T12:10:27.282Z"
   },
   {
    "duration": 95,
    "start_time": "2022-09-25T12:12:17.999Z"
   },
   {
    "duration": 7,
    "start_time": "2022-09-25T12:13:24.283Z"
   },
   {
    "duration": 10,
    "start_time": "2022-09-25T12:21:17.432Z"
   },
   {
    "duration": 44,
    "start_time": "2022-09-25T12:26:20.799Z"
   },
   {
    "duration": 4,
    "start_time": "2022-09-25T12:26:31.230Z"
   },
   {
    "duration": 6,
    "start_time": "2022-09-25T12:26:49.594Z"
   },
   {
    "duration": 5,
    "start_time": "2022-09-25T12:26:56.189Z"
   },
   {
    "duration": 15,
    "start_time": "2022-09-25T12:27:39.179Z"
   },
   {
    "duration": 12,
    "start_time": "2022-09-25T12:27:46.969Z"
   },
   {
    "duration": 121,
    "start_time": "2022-09-25T12:27:53.817Z"
   },
   {
    "duration": 14,
    "start_time": "2022-09-25T12:34:05.015Z"
   },
   {
    "duration": 7,
    "start_time": "2022-09-25T12:34:37.624Z"
   },
   {
    "duration": 895,
    "start_time": "2022-09-27T16:38:02.284Z"
   },
   {
    "duration": 906,
    "start_time": "2022-09-27T16:38:03.181Z"
   },
   {
    "duration": 23,
    "start_time": "2022-09-27T16:38:04.089Z"
   },
   {
    "duration": 3,
    "start_time": "2022-09-27T16:38:15.410Z"
   },
   {
    "duration": 391,
    "start_time": "2022-09-27T16:38:15.415Z"
   },
   {
    "duration": 21,
    "start_time": "2022-09-27T16:38:15.808Z"
   },
   {
    "duration": 16,
    "start_time": "2022-09-27T16:38:15.831Z"
   },
   {
    "duration": 18,
    "start_time": "2022-09-27T16:38:15.849Z"
   },
   {
    "duration": 14,
    "start_time": "2022-09-27T16:38:15.869Z"
   },
   {
    "duration": 7,
    "start_time": "2022-09-27T16:38:15.885Z"
   },
   {
    "duration": 21,
    "start_time": "2022-09-27T16:38:15.893Z"
   },
   {
    "duration": 9,
    "start_time": "2022-09-27T16:38:15.916Z"
   },
   {
    "duration": 11,
    "start_time": "2022-09-27T16:38:15.927Z"
   },
   {
    "duration": 9,
    "start_time": "2022-09-27T16:38:15.940Z"
   },
   {
    "duration": 35,
    "start_time": "2022-09-27T16:38:15.951Z"
   },
   {
    "duration": 10,
    "start_time": "2022-09-27T16:38:15.988Z"
   },
   {
    "duration": 118,
    "start_time": "2022-09-27T16:38:16.000Z"
   },
   {
    "duration": 42,
    "start_time": "2022-09-27T16:38:16.120Z"
   },
   {
    "duration": 51,
    "start_time": "2022-09-27T16:38:16.163Z"
   },
   {
    "duration": 5,
    "start_time": "2022-09-27T16:38:16.216Z"
   },
   {
    "duration": 7,
    "start_time": "2022-09-27T16:38:16.223Z"
   },
   {
    "duration": 47,
    "start_time": "2022-09-27T16:38:42.282Z"
   },
   {
    "duration": 5,
    "start_time": "2022-09-27T16:39:03.919Z"
   },
   {
    "duration": 5,
    "start_time": "2022-09-27T16:39:26.772Z"
   },
   {
    "duration": 3,
    "start_time": "2022-09-27T16:50:04.126Z"
   },
   {
    "duration": 383,
    "start_time": "2022-09-27T16:50:04.131Z"
   },
   {
    "duration": 21,
    "start_time": "2022-09-27T16:50:04.516Z"
   },
   {
    "duration": 9,
    "start_time": "2022-09-27T16:50:04.539Z"
   },
   {
    "duration": 28,
    "start_time": "2022-09-27T16:50:04.550Z"
   },
   {
    "duration": 13,
    "start_time": "2022-09-27T16:50:04.580Z"
   },
   {
    "duration": 9,
    "start_time": "2022-09-27T16:50:04.595Z"
   },
   {
    "duration": 20,
    "start_time": "2022-09-27T16:50:04.605Z"
   },
   {
    "duration": 7,
    "start_time": "2022-09-27T16:50:04.626Z"
   },
   {
    "duration": 10,
    "start_time": "2022-09-27T16:50:04.636Z"
   },
   {
    "duration": 30,
    "start_time": "2022-09-27T16:50:04.647Z"
   },
   {
    "duration": 11,
    "start_time": "2022-09-27T16:50:04.679Z"
   },
   {
    "duration": 13,
    "start_time": "2022-09-27T16:50:04.691Z"
   },
   {
    "duration": 129,
    "start_time": "2022-09-27T16:50:04.706Z"
   },
   {
    "duration": 49,
    "start_time": "2022-09-27T16:50:04.836Z"
   },
   {
    "duration": 48,
    "start_time": "2022-09-27T16:50:04.886Z"
   },
   {
    "duration": 6,
    "start_time": "2022-09-27T16:50:04.936Z"
   },
   {
    "duration": 16,
    "start_time": "2022-09-27T16:50:04.943Z"
   },
   {
    "duration": 67,
    "start_time": "2022-09-27T16:50:04.961Z"
   },
   {
    "duration": 4,
    "start_time": "2022-09-27T16:50:05.030Z"
   },
   {
    "duration": 4,
    "start_time": "2022-09-27T16:57:13.440Z"
   },
   {
    "duration": 29,
    "start_time": "2022-09-27T16:57:14.638Z"
   },
   {
    "duration": 120,
    "start_time": "2022-09-27T16:57:20.787Z"
   },
   {
    "duration": 11,
    "start_time": "2022-09-27T16:57:28.189Z"
   },
   {
    "duration": 20,
    "start_time": "2022-09-27T16:57:34.980Z"
   },
   {
    "duration": 14,
    "start_time": "2022-09-27T16:58:20.334Z"
   },
   {
    "duration": 15,
    "start_time": "2022-09-27T16:58:26.450Z"
   },
   {
    "duration": 6,
    "start_time": "2022-09-27T16:58:39.052Z"
   },
   {
    "duration": 7,
    "start_time": "2022-09-27T16:58:43.780Z"
   },
   {
    "duration": 8,
    "start_time": "2022-09-27T16:58:52.559Z"
   },
   {
    "duration": 128,
    "start_time": "2022-09-27T16:59:05.060Z"
   },
   {
    "duration": 13,
    "start_time": "2022-09-27T16:59:12.579Z"
   },
   {
    "duration": 14,
    "start_time": "2022-09-27T16:59:18.459Z"
   },
   {
    "duration": 503,
    "start_time": "2022-09-27T17:01:22.287Z"
   },
   {
    "duration": 566,
    "start_time": "2022-09-27T17:01:33.291Z"
   },
   {
    "duration": 226,
    "start_time": "2022-09-27T17:01:46.241Z"
   },
   {
    "duration": 17,
    "start_time": "2022-09-27T17:01:51.030Z"
   },
   {
    "duration": 28,
    "start_time": "2022-09-27T17:02:40.520Z"
   },
   {
    "duration": 16,
    "start_time": "2022-09-27T17:03:05.099Z"
   },
   {
    "duration": 10,
    "start_time": "2022-09-27T17:03:11.349Z"
   },
   {
    "duration": 512,
    "start_time": "2022-09-27T17:03:36.941Z"
   },
   {
    "duration": 422,
    "start_time": "2022-09-27T17:04:57.048Z"
   },
   {
    "duration": 1319,
    "start_time": "2022-09-27T17:05:01.438Z"
   },
   {
    "duration": 527,
    "start_time": "2022-09-27T17:05:33.787Z"
   },
   {
    "duration": 6,
    "start_time": "2022-09-27T17:05:46.929Z"
   },
   {
    "duration": 6,
    "start_time": "2022-09-27T17:05:59.539Z"
   },
   {
    "duration": 6,
    "start_time": "2022-09-27T17:06:12.499Z"
   },
   {
    "duration": 5,
    "start_time": "2022-09-27T17:06:25.560Z"
   },
   {
    "duration": 5,
    "start_time": "2022-09-27T17:06:32.390Z"
   },
   {
    "duration": 18,
    "start_time": "2022-09-27T17:08:08.580Z"
   },
   {
    "duration": 19,
    "start_time": "2022-09-27T17:21:38.469Z"
   },
   {
    "duration": 926,
    "start_time": "2022-09-30T15:47:53.831Z"
   },
   {
    "duration": 970,
    "start_time": "2022-09-30T15:47:54.759Z"
   },
   {
    "duration": 23,
    "start_time": "2022-09-30T15:47:55.731Z"
   },
   {
    "duration": 36,
    "start_time": "2022-09-30T15:47:55.756Z"
   },
   {
    "duration": 49,
    "start_time": "2022-09-30T15:47:55.794Z"
   },
   {
    "duration": 45,
    "start_time": "2022-09-30T15:47:55.846Z"
   },
   {
    "duration": 29,
    "start_time": "2022-09-30T15:47:55.893Z"
   },
   {
    "duration": 48,
    "start_time": "2022-09-30T15:47:55.924Z"
   },
   {
    "duration": 26,
    "start_time": "2022-09-30T15:47:55.973Z"
   },
   {
    "duration": 27,
    "start_time": "2022-09-30T15:47:56.001Z"
   },
   {
    "duration": 39,
    "start_time": "2022-09-30T15:47:56.030Z"
   },
   {
    "duration": 32,
    "start_time": "2022-09-30T15:47:56.071Z"
   },
   {
    "duration": 29,
    "start_time": "2022-09-30T15:47:56.106Z"
   },
   {
    "duration": 138,
    "start_time": "2022-09-30T15:47:56.138Z"
   },
   {
    "duration": 65,
    "start_time": "2022-09-30T15:47:56.278Z"
   },
   {
    "duration": 51,
    "start_time": "2022-09-30T15:47:56.346Z"
   },
   {
    "duration": 23,
    "start_time": "2022-09-30T15:47:56.399Z"
   },
   {
    "duration": 7,
    "start_time": "2022-09-30T15:47:56.423Z"
   },
   {
    "duration": 81,
    "start_time": "2022-09-30T15:47:56.431Z"
   },
   {
    "duration": 4,
    "start_time": "2022-09-30T15:47:56.513Z"
   },
   {
    "duration": 34,
    "start_time": "2022-09-30T15:47:56.520Z"
   },
   {
    "duration": 8,
    "start_time": "2022-09-30T15:47:56.556Z"
   },
   {
    "duration": 7,
    "start_time": "2022-09-30T15:48:15.941Z"
   },
   {
    "duration": 5,
    "start_time": "2022-09-30T15:49:51.548Z"
   },
   {
    "duration": 6,
    "start_time": "2022-09-30T15:50:37.016Z"
   },
   {
    "duration": 3,
    "start_time": "2022-09-30T15:51:37.892Z"
   },
   {
    "duration": 6,
    "start_time": "2022-09-30T16:46:55.966Z"
   },
   {
    "duration": 9,
    "start_time": "2022-09-30T16:47:09.626Z"
   },
   {
    "duration": 920,
    "start_time": "2022-09-30T16:51:20.212Z"
   },
   {
    "duration": 436,
    "start_time": "2022-09-30T16:51:21.134Z"
   },
   {
    "duration": 26,
    "start_time": "2022-09-30T16:51:21.571Z"
   },
   {
    "duration": 28,
    "start_time": "2022-09-30T16:51:21.599Z"
   },
   {
    "duration": 27,
    "start_time": "2022-09-30T16:51:21.628Z"
   },
   {
    "duration": 29,
    "start_time": "2022-09-30T16:51:21.656Z"
   },
   {
    "duration": 15,
    "start_time": "2022-09-30T16:51:21.686Z"
   },
   {
    "duration": 69,
    "start_time": "2022-09-30T16:51:21.703Z"
   },
   {
    "duration": 29,
    "start_time": "2022-09-30T16:51:21.774Z"
   },
   {
    "duration": 22,
    "start_time": "2022-09-30T16:51:21.806Z"
   },
   {
    "duration": 38,
    "start_time": "2022-09-30T16:51:21.830Z"
   },
   {
    "duration": 36,
    "start_time": "2022-09-30T16:51:21.870Z"
   },
   {
    "duration": 57,
    "start_time": "2022-09-30T16:51:21.907Z"
   },
   {
    "duration": 142,
    "start_time": "2022-09-30T16:51:21.966Z"
   },
   {
    "duration": 59,
    "start_time": "2022-09-30T16:51:22.110Z"
   },
   {
    "duration": 64,
    "start_time": "2022-09-30T16:51:22.171Z"
   },
   {
    "duration": 7,
    "start_time": "2022-09-30T16:51:22.237Z"
   },
   {
    "duration": 17,
    "start_time": "2022-09-30T16:51:22.246Z"
   },
   {
    "duration": 66,
    "start_time": "2022-09-30T16:51:22.264Z"
   },
   {
    "duration": 4,
    "start_time": "2022-09-30T16:51:22.332Z"
   },
   {
    "duration": 28,
    "start_time": "2022-09-30T16:51:22.338Z"
   },
   {
    "duration": 8,
    "start_time": "2022-09-30T16:51:22.368Z"
   },
   {
    "duration": 7,
    "start_time": "2022-09-30T16:51:29.305Z"
   },
   {
    "duration": 6,
    "start_time": "2022-09-30T16:51:48.013Z"
   },
   {
    "duration": 6,
    "start_time": "2022-09-30T16:52:26.993Z"
   },
   {
    "duration": 17,
    "start_time": "2022-09-30T16:52:55.318Z"
   },
   {
    "duration": 5,
    "start_time": "2022-09-30T16:53:05.114Z"
   },
   {
    "duration": 909,
    "start_time": "2022-09-30T16:55:45.923Z"
   },
   {
    "duration": 448,
    "start_time": "2022-09-30T16:55:46.835Z"
   },
   {
    "duration": 28,
    "start_time": "2022-09-30T16:55:47.285Z"
   },
   {
    "duration": 33,
    "start_time": "2022-09-30T16:55:47.314Z"
   },
   {
    "duration": 25,
    "start_time": "2022-09-30T16:55:47.349Z"
   },
   {
    "duration": 15,
    "start_time": "2022-09-30T16:55:47.376Z"
   },
   {
    "duration": 16,
    "start_time": "2022-09-30T16:55:47.393Z"
   },
   {
    "duration": 20,
    "start_time": "2022-09-30T16:55:47.412Z"
   },
   {
    "duration": 14,
    "start_time": "2022-09-30T16:55:47.434Z"
   },
   {
    "duration": 16,
    "start_time": "2022-09-30T16:55:47.450Z"
   },
   {
    "duration": 14,
    "start_time": "2022-09-30T16:55:47.468Z"
   },
   {
    "duration": 20,
    "start_time": "2022-09-30T16:55:47.484Z"
   },
   {
    "duration": 31,
    "start_time": "2022-09-30T16:55:47.506Z"
   },
   {
    "duration": 139,
    "start_time": "2022-09-30T16:55:47.540Z"
   },
   {
    "duration": 62,
    "start_time": "2022-09-30T16:55:47.681Z"
   },
   {
    "duration": 54,
    "start_time": "2022-09-30T16:55:47.745Z"
   },
   {
    "duration": 24,
    "start_time": "2022-09-30T16:55:47.801Z"
   },
   {
    "duration": 12,
    "start_time": "2022-09-30T16:55:47.827Z"
   },
   {
    "duration": 68,
    "start_time": "2022-09-30T16:55:47.840Z"
   },
   {
    "duration": 5,
    "start_time": "2022-09-30T16:55:47.910Z"
   },
   {
    "duration": 22,
    "start_time": "2022-09-30T16:55:47.916Z"
   },
   {
    "duration": 8,
    "start_time": "2022-09-30T16:55:47.940Z"
   },
   {
    "duration": 996,
    "start_time": "2022-10-06T15:24:11.474Z"
   },
   {
    "duration": 991,
    "start_time": "2022-10-06T15:24:12.473Z"
   },
   {
    "duration": 27,
    "start_time": "2022-10-06T15:24:13.466Z"
   },
   {
    "duration": 17,
    "start_time": "2022-10-06T15:24:13.496Z"
   },
   {
    "duration": 20,
    "start_time": "2022-10-06T15:24:13.514Z"
   },
   {
    "duration": 26,
    "start_time": "2022-10-06T15:24:13.536Z"
   },
   {
    "duration": 7,
    "start_time": "2022-10-06T15:24:13.563Z"
   },
   {
    "duration": 20,
    "start_time": "2022-10-06T15:24:13.571Z"
   },
   {
    "duration": 9,
    "start_time": "2022-10-06T15:24:13.593Z"
   },
   {
    "duration": 15,
    "start_time": "2022-10-06T15:24:13.605Z"
   },
   {
    "duration": 35,
    "start_time": "2022-10-06T15:24:13.621Z"
   },
   {
    "duration": 12,
    "start_time": "2022-10-06T15:24:13.658Z"
   },
   {
    "duration": 20,
    "start_time": "2022-10-06T15:24:13.671Z"
   },
   {
    "duration": 239,
    "start_time": "2022-10-06T15:24:13.693Z"
   },
   {
    "duration": 71,
    "start_time": "2022-10-06T15:24:13.934Z"
   },
   {
    "duration": 69,
    "start_time": "2022-10-06T15:24:14.006Z"
   },
   {
    "duration": 6,
    "start_time": "2022-10-06T15:24:14.077Z"
   },
   {
    "duration": 8,
    "start_time": "2022-10-06T15:24:14.085Z"
   },
   {
    "duration": 63,
    "start_time": "2022-10-06T15:24:14.094Z"
   },
   {
    "duration": 4,
    "start_time": "2022-10-06T15:24:14.159Z"
   },
   {
    "duration": 30,
    "start_time": "2022-10-06T15:24:14.165Z"
   },
   {
    "duration": 9,
    "start_time": "2022-10-06T15:24:14.197Z"
   },
   {
    "duration": 8,
    "start_time": "2022-10-06T15:24:23.843Z"
   },
   {
    "duration": 5,
    "start_time": "2022-10-06T15:24:46.646Z"
   },
   {
    "duration": 5,
    "start_time": "2022-10-06T15:24:57.893Z"
   },
   {
    "duration": 95,
    "start_time": "2022-10-06T15:28:39.773Z"
   },
   {
    "duration": 15,
    "start_time": "2022-10-06T15:28:56.854Z"
   },
   {
    "duration": 18,
    "start_time": "2022-10-06T15:29:32.953Z"
   },
   {
    "duration": 15,
    "start_time": "2022-10-06T15:29:59.703Z"
   },
   {
    "duration": 6,
    "start_time": "2022-10-06T15:30:37.005Z"
   },
   {
    "duration": 8,
    "start_time": "2022-10-06T15:30:59.423Z"
   },
   {
    "duration": 11,
    "start_time": "2022-10-06T15:31:22.465Z"
   },
   {
    "duration": 3,
    "start_time": "2022-10-06T15:31:57.454Z"
   },
   {
    "duration": 10,
    "start_time": "2022-10-06T15:32:24.872Z"
   },
   {
    "duration": 11,
    "start_time": "2022-10-06T15:33:38.265Z"
   },
   {
    "duration": 9,
    "start_time": "2022-10-06T15:33:41.436Z"
   },
   {
    "duration": 14,
    "start_time": "2022-10-06T15:33:43.631Z"
   },
   {
    "duration": 32,
    "start_time": "2022-10-06T15:33:46.543Z"
   },
   {
    "duration": 10,
    "start_time": "2022-10-06T15:33:50.704Z"
   },
   {
    "duration": 46,
    "start_time": "2022-10-06T15:33:53.183Z"
   },
   {
    "duration": 18,
    "start_time": "2022-10-06T15:33:53.635Z"
   },
   {
    "duration": 1272,
    "start_time": "2022-10-06T15:33:56.033Z"
   },
   {
    "duration": 12,
    "start_time": "2022-10-06T15:35:01.155Z"
   },
   {
    "duration": 11,
    "start_time": "2022-10-06T15:35:09.924Z"
   },
   {
    "duration": 23,
    "start_time": "2022-10-06T15:35:12.033Z"
   },
   {
    "duration": 10,
    "start_time": "2022-10-06T15:35:20.238Z"
   },
   {
    "duration": 3,
    "start_time": "2022-10-06T15:35:20.476Z"
   },
   {
    "duration": 19,
    "start_time": "2022-10-06T15:36:11.835Z"
   },
   {
    "duration": 9,
    "start_time": "2022-10-06T15:36:25.610Z"
   },
   {
    "duration": 115,
    "start_time": "2022-10-06T15:36:40.115Z"
   },
   {
    "duration": 103,
    "start_time": "2022-10-06T15:36:55.166Z"
   },
   {
    "duration": 22,
    "start_time": "2022-10-06T15:42:46.103Z"
   },
   {
    "duration": 81,
    "start_time": "2022-10-06T15:42:56.775Z"
   },
   {
    "duration": 29,
    "start_time": "2022-10-06T15:43:01.003Z"
   },
   {
    "duration": 89,
    "start_time": "2022-10-06T15:43:47.323Z"
   },
   {
    "duration": 13,
    "start_time": "2022-10-06T15:43:56.165Z"
   },
   {
    "duration": 38,
    "start_time": "2022-10-06T15:44:04.784Z"
   },
   {
    "duration": 161,
    "start_time": "2022-10-06T15:52:36.883Z"
   },
   {
    "duration": 31,
    "start_time": "2022-10-06T15:52:44.735Z"
   },
   {
    "duration": 193,
    "start_time": "2022-10-06T15:52:56.596Z"
   },
   {
    "duration": 32,
    "start_time": "2022-10-06T15:52:57.116Z"
   },
   {
    "duration": 34,
    "start_time": "2022-10-06T15:53:10.653Z"
   },
   {
    "duration": 147,
    "start_time": "2022-10-06T15:53:13.373Z"
   },
   {
    "duration": 29,
    "start_time": "2022-10-06T15:53:13.653Z"
   },
   {
    "duration": 51,
    "start_time": "2022-10-06T15:54:11.826Z"
   },
   {
    "duration": 907,
    "start_time": "2022-10-06T15:54:19.364Z"
   },
   {
    "duration": 1013,
    "start_time": "2022-10-06T15:54:20.273Z"
   },
   {
    "duration": 25,
    "start_time": "2022-10-06T15:54:21.288Z"
   },
   {
    "duration": 19,
    "start_time": "2022-10-06T15:54:21.314Z"
   },
   {
    "duration": 32,
    "start_time": "2022-10-06T15:54:21.336Z"
   },
   {
    "duration": 14,
    "start_time": "2022-10-06T15:54:21.370Z"
   },
   {
    "duration": 12,
    "start_time": "2022-10-06T15:54:21.386Z"
   },
   {
    "duration": 27,
    "start_time": "2022-10-06T15:54:21.400Z"
   },
   {
    "duration": 27,
    "start_time": "2022-10-06T15:54:21.429Z"
   },
   {
    "duration": 21,
    "start_time": "2022-10-06T15:54:21.458Z"
   },
   {
    "duration": 21,
    "start_time": "2022-10-06T15:54:21.481Z"
   },
   {
    "duration": 19,
    "start_time": "2022-10-06T15:54:21.504Z"
   },
   {
    "duration": 29,
    "start_time": "2022-10-06T15:54:21.525Z"
   },
   {
    "duration": 152,
    "start_time": "2022-10-06T15:54:21.560Z"
   },
   {
    "duration": 73,
    "start_time": "2022-10-06T15:54:21.714Z"
   },
   {
    "duration": 55,
    "start_time": "2022-10-06T15:54:21.789Z"
   },
   {
    "duration": 8,
    "start_time": "2022-10-06T15:54:21.854Z"
   },
   {
    "duration": 10,
    "start_time": "2022-10-06T15:54:21.864Z"
   },
   {
    "duration": 59,
    "start_time": "2022-10-06T15:54:21.876Z"
   },
   {
    "duration": 20,
    "start_time": "2022-10-06T15:54:21.936Z"
   },
   {
    "duration": 25,
    "start_time": "2022-10-06T15:54:21.957Z"
   },
   {
    "duration": 9,
    "start_time": "2022-10-06T15:54:21.983Z"
   },
   {
    "duration": 4,
    "start_time": "2022-10-06T15:54:21.994Z"
   },
   {
    "duration": 3,
    "start_time": "2022-10-06T15:54:22.000Z"
   },
   {
    "duration": 13,
    "start_time": "2022-10-06T15:54:22.005Z"
   },
   {
    "duration": 37,
    "start_time": "2022-10-06T15:54:22.020Z"
   },
   {
    "duration": 16,
    "start_time": "2022-10-06T15:54:22.059Z"
   },
   {
    "duration": 15,
    "start_time": "2022-10-06T15:54:22.077Z"
   },
   {
    "duration": 35,
    "start_time": "2022-10-06T15:54:22.094Z"
   },
   {
    "duration": 9,
    "start_time": "2022-10-06T15:54:22.130Z"
   },
   {
    "duration": 43,
    "start_time": "2022-10-06T15:54:22.154Z"
   },
   {
    "duration": 16,
    "start_time": "2022-10-06T15:54:22.199Z"
   },
   {
    "duration": 814,
    "start_time": "2022-10-06T15:54:22.217Z"
   },
   {
    "duration": 11,
    "start_time": "2022-10-06T15:54:23.032Z"
   },
   {
    "duration": 8,
    "start_time": "2022-10-06T15:54:23.054Z"
   },
   {
    "duration": 25,
    "start_time": "2022-10-06T15:54:23.064Z"
   },
   {
    "duration": 10,
    "start_time": "2022-10-06T15:54:23.090Z"
   },
   {
    "duration": 7,
    "start_time": "2022-10-06T15:54:23.102Z"
   },
   {
    "duration": 105,
    "start_time": "2022-10-06T15:54:23.110Z"
   },
   {
    "duration": 26,
    "start_time": "2022-10-06T15:54:23.217Z"
   },
   {
    "duration": 82,
    "start_time": "2022-10-06T15:54:23.256Z"
   },
   {
    "duration": 19,
    "start_time": "2022-10-06T15:54:23.340Z"
   },
   {
    "duration": 38,
    "start_time": "2022-10-06T15:54:23.361Z"
   },
   {
    "duration": 182,
    "start_time": "2022-10-06T15:54:23.400Z"
   },
   {
    "duration": 38,
    "start_time": "2022-10-06T15:54:23.584Z"
   },
   {
    "duration": 205,
    "start_time": "2022-10-06T15:54:23.624Z"
   },
   {
    "duration": 35,
    "start_time": "2022-10-06T15:54:23.831Z"
   },
   {
    "duration": 48,
    "start_time": "2022-10-06T15:54:45.996Z"
   },
   {
    "duration": 989,
    "start_time": "2022-10-06T15:54:50.735Z"
   },
   {
    "duration": 1021,
    "start_time": "2022-10-06T15:54:51.726Z"
   },
   {
    "duration": 26,
    "start_time": "2022-10-06T15:54:52.749Z"
   },
   {
    "duration": 16,
    "start_time": "2022-10-06T15:54:52.778Z"
   },
   {
    "duration": 20,
    "start_time": "2022-10-06T15:54:52.795Z"
   },
   {
    "duration": 13,
    "start_time": "2022-10-06T15:54:52.816Z"
   },
   {
    "duration": 10,
    "start_time": "2022-10-06T15:54:52.854Z"
   },
   {
    "duration": 21,
    "start_time": "2022-10-06T15:54:52.866Z"
   },
   {
    "duration": 8,
    "start_time": "2022-10-06T15:54:52.889Z"
   },
   {
    "duration": 13,
    "start_time": "2022-10-06T15:54:52.899Z"
   },
   {
    "duration": 10,
    "start_time": "2022-10-06T15:54:52.914Z"
   },
   {
    "duration": 33,
    "start_time": "2022-10-06T15:54:52.925Z"
   },
   {
    "duration": 17,
    "start_time": "2022-10-06T15:54:52.960Z"
   },
   {
    "duration": 150,
    "start_time": "2022-10-06T15:54:52.979Z"
   },
   {
    "duration": 66,
    "start_time": "2022-10-06T15:54:53.131Z"
   },
   {
    "duration": 69,
    "start_time": "2022-10-06T15:54:53.199Z"
   },
   {
    "duration": 5,
    "start_time": "2022-10-06T15:54:53.270Z"
   },
   {
    "duration": 23,
    "start_time": "2022-10-06T15:54:53.277Z"
   },
   {
    "duration": 74,
    "start_time": "2022-10-06T15:54:53.302Z"
   },
   {
    "duration": 5,
    "start_time": "2022-10-06T15:54:53.378Z"
   },
   {
    "duration": 24,
    "start_time": "2022-10-06T15:54:53.384Z"
   },
   {
    "duration": 13,
    "start_time": "2022-10-06T15:54:53.410Z"
   },
   {
    "duration": 5,
    "start_time": "2022-10-06T15:54:53.425Z"
   },
   {
    "duration": 18,
    "start_time": "2022-10-06T15:54:53.431Z"
   },
   {
    "duration": 24,
    "start_time": "2022-10-06T15:54:53.451Z"
   },
   {
    "duration": 18,
    "start_time": "2022-10-06T15:54:53.477Z"
   },
   {
    "duration": 10,
    "start_time": "2022-10-06T15:54:53.497Z"
   },
   {
    "duration": 18,
    "start_time": "2022-10-06T15:54:53.511Z"
   },
   {
    "duration": 40,
    "start_time": "2022-10-06T15:54:53.531Z"
   },
   {
    "duration": 10,
    "start_time": "2022-10-06T15:54:53.573Z"
   },
   {
    "duration": 54,
    "start_time": "2022-10-06T15:54:53.584Z"
   },
   {
    "duration": 23,
    "start_time": "2022-10-06T15:54:53.639Z"
   },
   {
    "duration": 798,
    "start_time": "2022-10-06T15:54:53.664Z"
   },
   {
    "duration": 13,
    "start_time": "2022-10-06T15:54:54.465Z"
   },
   {
    "duration": 20,
    "start_time": "2022-10-06T15:54:54.481Z"
   },
   {
    "duration": 38,
    "start_time": "2022-10-06T15:54:54.503Z"
   },
   {
    "duration": 23,
    "start_time": "2022-10-06T15:54:54.543Z"
   },
   {
    "duration": 33,
    "start_time": "2022-10-06T15:54:54.568Z"
   },
   {
    "duration": 103,
    "start_time": "2022-10-06T15:54:54.603Z"
   },
   {
    "duration": 27,
    "start_time": "2022-10-06T15:54:54.708Z"
   },
   {
    "duration": 103,
    "start_time": "2022-10-06T15:54:54.737Z"
   },
   {
    "duration": 15,
    "start_time": "2022-10-06T15:54:54.842Z"
   },
   {
    "duration": 52,
    "start_time": "2022-10-06T15:54:54.859Z"
   },
   {
    "duration": 175,
    "start_time": "2022-10-06T15:54:54.913Z"
   },
   {
    "duration": 33,
    "start_time": "2022-10-06T15:54:55.090Z"
   },
   {
    "duration": 211,
    "start_time": "2022-10-06T15:54:55.125Z"
   },
   {
    "duration": 36,
    "start_time": "2022-10-06T15:54:55.338Z"
   },
   {
    "duration": 884,
    "start_time": "2022-10-06T15:56:19.485Z"
   },
   {
    "duration": 998,
    "start_time": "2022-10-06T15:56:20.371Z"
   },
   {
    "duration": 27,
    "start_time": "2022-10-06T15:56:21.371Z"
   },
   {
    "duration": 17,
    "start_time": "2022-10-06T15:56:21.400Z"
   },
   {
    "duration": 38,
    "start_time": "2022-10-06T15:56:21.419Z"
   },
   {
    "duration": 18,
    "start_time": "2022-10-06T15:56:21.460Z"
   },
   {
    "duration": 24,
    "start_time": "2022-10-06T15:56:21.480Z"
   },
   {
    "duration": 30,
    "start_time": "2022-10-06T15:56:21.507Z"
   },
   {
    "duration": 17,
    "start_time": "2022-10-06T15:56:21.540Z"
   },
   {
    "duration": 19,
    "start_time": "2022-10-06T15:56:21.561Z"
   },
   {
    "duration": 17,
    "start_time": "2022-10-06T15:56:21.582Z"
   },
   {
    "duration": 20,
    "start_time": "2022-10-06T15:56:21.601Z"
   },
   {
    "duration": 38,
    "start_time": "2022-10-06T15:56:21.623Z"
   },
   {
    "duration": 143,
    "start_time": "2022-10-06T15:56:21.664Z"
   },
   {
    "duration": 65,
    "start_time": "2022-10-06T15:56:21.808Z"
   },
   {
    "duration": 54,
    "start_time": "2022-10-06T15:56:21.875Z"
   },
   {
    "duration": 7,
    "start_time": "2022-10-06T15:56:21.930Z"
   },
   {
    "duration": 7,
    "start_time": "2022-10-06T15:56:21.954Z"
   },
   {
    "duration": 67,
    "start_time": "2022-10-06T15:56:21.963Z"
   },
   {
    "duration": 24,
    "start_time": "2022-10-06T15:56:22.032Z"
   },
   {
    "duration": 19,
    "start_time": "2022-10-06T15:56:22.058Z"
   },
   {
    "duration": 9,
    "start_time": "2022-10-06T15:56:22.079Z"
   },
   {
    "duration": 7,
    "start_time": "2022-10-06T15:56:22.090Z"
   },
   {
    "duration": 5,
    "start_time": "2022-10-06T15:56:22.098Z"
   },
   {
    "duration": 15,
    "start_time": "2022-10-06T15:56:22.104Z"
   },
   {
    "duration": 34,
    "start_time": "2022-10-06T15:56:22.121Z"
   },
   {
    "duration": 10,
    "start_time": "2022-10-06T15:56:22.157Z"
   },
   {
    "duration": 13,
    "start_time": "2022-10-06T15:56:22.171Z"
   },
   {
    "duration": 40,
    "start_time": "2022-10-06T15:56:22.185Z"
   },
   {
    "duration": 9,
    "start_time": "2022-10-06T15:56:22.226Z"
   },
   {
    "duration": 42,
    "start_time": "2022-10-06T15:56:22.254Z"
   },
   {
    "duration": 17,
    "start_time": "2022-10-06T15:56:22.298Z"
   },
   {
    "duration": 813,
    "start_time": "2022-10-06T15:56:22.316Z"
   },
   {
    "duration": 12,
    "start_time": "2022-10-06T15:56:23.131Z"
   },
   {
    "duration": 9,
    "start_time": "2022-10-06T15:56:23.154Z"
   },
   {
    "duration": 35,
    "start_time": "2022-10-06T15:56:23.164Z"
   },
   {
    "duration": 11,
    "start_time": "2022-10-06T15:56:23.201Z"
   },
   {
    "duration": 7,
    "start_time": "2022-10-06T15:56:23.214Z"
   },
   {
    "duration": 98,
    "start_time": "2022-10-06T15:56:23.223Z"
   },
   {
    "duration": 33,
    "start_time": "2022-10-06T15:56:23.323Z"
   },
   {
    "duration": 98,
    "start_time": "2022-10-06T15:56:23.358Z"
   },
   {
    "duration": 11,
    "start_time": "2022-10-06T15:56:23.458Z"
   },
   {
    "duration": 54,
    "start_time": "2022-10-06T15:56:23.471Z"
   },
   {
    "duration": 169,
    "start_time": "2022-10-06T15:56:23.527Z"
   },
   {
    "duration": 31,
    "start_time": "2022-10-06T15:56:23.698Z"
   },
   {
    "duration": 209,
    "start_time": "2022-10-06T15:56:23.731Z"
   },
   {
    "duration": 30,
    "start_time": "2022-10-06T15:56:23.942Z"
   },
   {
    "duration": 34,
    "start_time": "2022-10-06T15:56:31.010Z"
   },
   {
    "duration": 919,
    "start_time": "2022-10-06T15:59:32.666Z"
   },
   {
    "duration": 1021,
    "start_time": "2022-10-06T15:59:33.587Z"
   },
   {
    "duration": 26,
    "start_time": "2022-10-06T15:59:34.610Z"
   },
   {
    "duration": 19,
    "start_time": "2022-10-06T15:59:34.638Z"
   },
   {
    "duration": 25,
    "start_time": "2022-10-06T15:59:34.659Z"
   },
   {
    "duration": 19,
    "start_time": "2022-10-06T15:59:34.686Z"
   },
   {
    "duration": 7,
    "start_time": "2022-10-06T15:59:34.706Z"
   },
   {
    "duration": 40,
    "start_time": "2022-10-06T15:59:34.714Z"
   },
   {
    "duration": 8,
    "start_time": "2022-10-06T15:59:34.756Z"
   },
   {
    "duration": 14,
    "start_time": "2022-10-06T15:59:34.766Z"
   },
   {
    "duration": 26,
    "start_time": "2022-10-06T15:59:34.782Z"
   },
   {
    "duration": 19,
    "start_time": "2022-10-06T15:59:34.810Z"
   },
   {
    "duration": 15,
    "start_time": "2022-10-06T15:59:34.830Z"
   },
   {
    "duration": 130,
    "start_time": "2022-10-06T15:59:34.849Z"
   },
   {
    "duration": 75,
    "start_time": "2022-10-06T15:59:34.981Z"
   },
   {
    "duration": 62,
    "start_time": "2022-10-06T15:59:35.058Z"
   },
   {
    "duration": 7,
    "start_time": "2022-10-06T15:59:35.123Z"
   },
   {
    "duration": 51,
    "start_time": "2022-10-06T15:59:35.131Z"
   },
   {
    "duration": 59,
    "start_time": "2022-10-06T15:59:35.184Z"
   },
   {
    "duration": 4,
    "start_time": "2022-10-06T15:59:35.245Z"
   },
   {
    "duration": 26,
    "start_time": "2022-10-06T15:59:35.250Z"
   },
   {
    "duration": 9,
    "start_time": "2022-10-06T15:59:35.278Z"
   },
   {
    "duration": 6,
    "start_time": "2022-10-06T15:59:35.288Z"
   },
   {
    "duration": 5,
    "start_time": "2022-10-06T15:59:35.296Z"
   },
   {
    "duration": 20,
    "start_time": "2022-10-06T15:59:35.302Z"
   },
   {
    "duration": 11,
    "start_time": "2022-10-06T15:59:35.325Z"
   },
   {
    "duration": 8,
    "start_time": "2022-10-06T15:59:35.355Z"
   },
   {
    "duration": 51,
    "start_time": "2022-10-06T15:59:35.365Z"
   },
   {
    "duration": 48,
    "start_time": "2022-10-06T15:59:35.418Z"
   },
   {
    "duration": 10,
    "start_time": "2022-10-06T15:59:35.467Z"
   },
   {
    "duration": 52,
    "start_time": "2022-10-06T15:59:35.479Z"
   },
   {
    "duration": 25,
    "start_time": "2022-10-06T15:59:35.533Z"
   },
   {
    "duration": 818,
    "start_time": "2022-10-06T15:59:35.560Z"
   },
   {
    "duration": 12,
    "start_time": "2022-10-06T15:59:36.379Z"
   },
   {
    "duration": 11,
    "start_time": "2022-10-06T15:59:36.392Z"
   },
   {
    "duration": 25,
    "start_time": "2022-10-06T15:59:36.405Z"
   },
   {
    "duration": 10,
    "start_time": "2022-10-06T15:59:36.453Z"
   },
   {
    "duration": 6,
    "start_time": "2022-10-06T15:59:36.465Z"
   },
   {
    "duration": 98,
    "start_time": "2022-10-06T15:59:36.473Z"
   },
   {
    "duration": 28,
    "start_time": "2022-10-06T15:59:36.573Z"
   },
   {
    "duration": 103,
    "start_time": "2022-10-06T15:59:36.606Z"
   },
   {
    "duration": 13,
    "start_time": "2022-10-06T15:59:36.711Z"
   },
   {
    "duration": 49,
    "start_time": "2022-10-06T15:59:36.726Z"
   },
   {
    "duration": 173,
    "start_time": "2022-10-06T15:59:36.777Z"
   },
   {
    "duration": 31,
    "start_time": "2022-10-06T15:59:36.955Z"
   },
   {
    "duration": 213,
    "start_time": "2022-10-06T15:59:36.988Z"
   },
   {
    "duration": 29,
    "start_time": "2022-10-06T15:59:37.203Z"
   },
   {
    "duration": 42,
    "start_time": "2022-10-06T15:59:37.234Z"
   },
   {
    "duration": 127,
    "start_time": "2022-10-06T16:01:01.063Z"
   },
   {
    "duration": 2310,
    "start_time": "2022-10-06T16:02:48.452Z"
   },
   {
    "duration": 2320,
    "start_time": "2022-10-06T16:03:14.835Z"
   },
   {
    "duration": 42,
    "start_time": "2022-10-06T16:04:25.154Z"
   },
   {
    "duration": 25,
    "start_time": "2022-10-06T16:05:27.245Z"
   },
   {
    "duration": 913,
    "start_time": "2022-10-06T16:07:23.184Z"
   },
   {
    "duration": 983,
    "start_time": "2022-10-06T16:07:24.099Z"
   },
   {
    "duration": 27,
    "start_time": "2022-10-06T16:07:25.084Z"
   },
   {
    "duration": 32,
    "start_time": "2022-10-06T16:07:25.114Z"
   },
   {
    "duration": 27,
    "start_time": "2022-10-06T16:07:25.148Z"
   },
   {
    "duration": 19,
    "start_time": "2022-10-06T16:07:25.177Z"
   },
   {
    "duration": 13,
    "start_time": "2022-10-06T16:07:25.197Z"
   },
   {
    "duration": 31,
    "start_time": "2022-10-06T16:07:25.212Z"
   },
   {
    "duration": 9,
    "start_time": "2022-10-06T16:07:25.245Z"
   },
   {
    "duration": 28,
    "start_time": "2022-10-06T16:07:25.257Z"
   },
   {
    "duration": 25,
    "start_time": "2022-10-06T16:07:25.287Z"
   },
   {
    "duration": 20,
    "start_time": "2022-10-06T16:07:25.314Z"
   },
   {
    "duration": 78,
    "start_time": "2022-10-06T16:07:25.336Z"
   },
   {
    "duration": 254,
    "start_time": "2022-10-06T16:07:25.416Z"
   },
   {
    "duration": 64,
    "start_time": "2022-10-06T16:07:25.672Z"
   },
   {
    "duration": 75,
    "start_time": "2022-10-06T16:07:25.737Z"
   },
   {
    "duration": 7,
    "start_time": "2022-10-06T16:07:25.814Z"
   },
   {
    "duration": 20,
    "start_time": "2022-10-06T16:07:25.823Z"
   },
   {
    "duration": 71,
    "start_time": "2022-10-06T16:07:25.855Z"
   },
   {
    "duration": 5,
    "start_time": "2022-10-06T16:07:25.928Z"
   },
   {
    "duration": 50,
    "start_time": "2022-10-06T16:07:25.934Z"
   },
   {
    "duration": 21,
    "start_time": "2022-10-06T16:07:25.987Z"
   },
   {
    "duration": 39,
    "start_time": "2022-10-06T16:07:26.010Z"
   },
   {
    "duration": 9,
    "start_time": "2022-10-06T16:07:26.051Z"
   },
   {
    "duration": 16,
    "start_time": "2022-10-06T16:07:26.062Z"
   },
   {
    "duration": 19,
    "start_time": "2022-10-06T16:07:26.080Z"
   },
   {
    "duration": 14,
    "start_time": "2022-10-06T16:07:26.101Z"
   },
   {
    "duration": 31,
    "start_time": "2022-10-06T16:07:26.119Z"
   },
   {
    "duration": 39,
    "start_time": "2022-10-06T16:07:26.152Z"
   },
   {
    "duration": 9,
    "start_time": "2022-10-06T16:07:26.193Z"
   },
   {
    "duration": 152,
    "start_time": "2022-10-06T16:07:26.204Z"
   },
   {
    "duration": 124,
    "start_time": "2022-10-06T16:07:26.358Z"
   },
   {
    "duration": 1079,
    "start_time": "2022-10-06T16:07:26.485Z"
   },
   {
    "duration": 13,
    "start_time": "2022-10-06T16:07:27.566Z"
   },
   {
    "duration": 50,
    "start_time": "2022-10-06T16:07:27.581Z"
   },
   {
    "duration": 86,
    "start_time": "2022-10-06T16:07:27.633Z"
   },
   {
    "duration": 50,
    "start_time": "2022-10-06T16:07:27.721Z"
   },
   {
    "duration": 37,
    "start_time": "2022-10-06T16:07:27.773Z"
   },
   {
    "duration": 138,
    "start_time": "2022-10-06T16:07:27.812Z"
   },
   {
    "duration": 28,
    "start_time": "2022-10-06T16:07:27.953Z"
   },
   {
    "duration": 106,
    "start_time": "2022-10-06T16:07:27.983Z"
   },
   {
    "duration": 12,
    "start_time": "2022-10-06T16:07:28.091Z"
   },
   {
    "duration": 55,
    "start_time": "2022-10-06T16:07:28.104Z"
   },
   {
    "duration": 185,
    "start_time": "2022-10-06T16:07:28.161Z"
   },
   {
    "duration": 37,
    "start_time": "2022-10-06T16:07:28.348Z"
   },
   {
    "duration": 233,
    "start_time": "2022-10-06T16:07:28.386Z"
   },
   {
    "duration": 47,
    "start_time": "2022-10-06T16:07:28.621Z"
   },
   {
    "duration": 27,
    "start_time": "2022-10-06T16:07:28.670Z"
   },
   {
    "duration": 50,
    "start_time": "2022-10-06T16:14:14.345Z"
   },
   {
    "duration": 860,
    "start_time": "2022-10-06T16:14:19.304Z"
   },
   {
    "duration": 994,
    "start_time": "2022-10-06T16:14:20.167Z"
   },
   {
    "duration": 27,
    "start_time": "2022-10-06T16:14:21.162Z"
   },
   {
    "duration": 18,
    "start_time": "2022-10-06T16:14:21.192Z"
   },
   {
    "duration": 21,
    "start_time": "2022-10-06T16:14:21.212Z"
   },
   {
    "duration": 29,
    "start_time": "2022-10-06T16:14:21.235Z"
   },
   {
    "duration": 7,
    "start_time": "2022-10-06T16:14:21.266Z"
   },
   {
    "duration": 31,
    "start_time": "2022-10-06T16:14:21.275Z"
   },
   {
    "duration": 16,
    "start_time": "2022-10-06T16:14:21.307Z"
   },
   {
    "duration": 43,
    "start_time": "2022-10-06T16:14:21.326Z"
   },
   {
    "duration": 10,
    "start_time": "2022-10-06T16:14:21.371Z"
   },
   {
    "duration": 15,
    "start_time": "2022-10-06T16:14:21.383Z"
   },
   {
    "duration": 21,
    "start_time": "2022-10-06T16:14:21.400Z"
   },
   {
    "duration": 163,
    "start_time": "2022-10-06T16:14:21.424Z"
   },
   {
    "duration": 69,
    "start_time": "2022-10-06T16:14:21.591Z"
   },
   {
    "duration": 61,
    "start_time": "2022-10-06T16:14:21.661Z"
   },
   {
    "duration": 7,
    "start_time": "2022-10-06T16:14:21.724Z"
   },
   {
    "duration": 29,
    "start_time": "2022-10-06T16:14:21.732Z"
   },
   {
    "duration": 61,
    "start_time": "2022-10-06T16:14:21.763Z"
   },
   {
    "duration": 5,
    "start_time": "2022-10-06T16:14:21.826Z"
   },
   {
    "duration": 33,
    "start_time": "2022-10-06T16:14:21.833Z"
   },
   {
    "duration": 9,
    "start_time": "2022-10-06T16:14:21.868Z"
   },
   {
    "duration": 5,
    "start_time": "2022-10-06T16:14:21.878Z"
   },
   {
    "duration": 7,
    "start_time": "2022-10-06T16:14:21.885Z"
   },
   {
    "duration": 19,
    "start_time": "2022-10-06T16:14:21.894Z"
   },
   {
    "duration": 12,
    "start_time": "2022-10-06T16:14:21.915Z"
   },
   {
    "duration": 8,
    "start_time": "2022-10-06T16:14:21.955Z"
   },
   {
    "duration": 20,
    "start_time": "2022-10-06T16:14:21.966Z"
   },
   {
    "duration": 39,
    "start_time": "2022-10-06T16:14:21.988Z"
   },
   {
    "duration": 26,
    "start_time": "2022-10-06T16:14:22.028Z"
   },
   {
    "duration": 43,
    "start_time": "2022-10-06T16:14:22.056Z"
   },
   {
    "duration": 16,
    "start_time": "2022-10-06T16:14:22.101Z"
   },
   {
    "duration": 828,
    "start_time": "2022-10-06T16:14:22.119Z"
   },
   {
    "duration": 14,
    "start_time": "2022-10-06T16:14:22.948Z"
   },
   {
    "duration": 11,
    "start_time": "2022-10-06T16:14:22.963Z"
   },
   {
    "duration": 25,
    "start_time": "2022-10-06T16:14:22.975Z"
   },
   {
    "duration": 9,
    "start_time": "2022-10-06T16:14:23.002Z"
   },
   {
    "duration": 8,
    "start_time": "2022-10-06T16:14:23.013Z"
   },
   {
    "duration": 106,
    "start_time": "2022-10-06T16:14:23.022Z"
   },
   {
    "duration": 36,
    "start_time": "2022-10-06T16:14:23.130Z"
   },
   {
    "duration": 89,
    "start_time": "2022-10-06T16:14:23.168Z"
   },
   {
    "duration": 12,
    "start_time": "2022-10-06T16:14:23.259Z"
   },
   {
    "duration": 41,
    "start_time": "2022-10-06T16:14:23.272Z"
   },
   {
    "duration": 171,
    "start_time": "2022-10-06T16:14:23.315Z"
   },
   {
    "duration": 31,
    "start_time": "2022-10-06T16:14:23.488Z"
   },
   {
    "duration": 209,
    "start_time": "2022-10-06T16:14:23.520Z"
   },
   {
    "duration": 38,
    "start_time": "2022-10-06T16:14:23.731Z"
   },
   {
    "duration": 25,
    "start_time": "2022-10-06T16:14:23.770Z"
   },
   {
    "duration": 78,
    "start_time": "2022-10-06T16:14:33.774Z"
   },
   {
    "duration": 16,
    "start_time": "2022-10-06T16:15:16.164Z"
   },
   {
    "duration": 47,
    "start_time": "2022-10-06T16:15:34.444Z"
   },
   {
    "duration": 39,
    "start_time": "2022-10-06T16:17:52.352Z"
   },
   {
    "duration": 3,
    "start_time": "2022-10-06T16:17:55.373Z"
   },
   {
    "duration": 24,
    "start_time": "2022-10-06T16:17:55.842Z"
   },
   {
    "duration": 6,
    "start_time": "2022-10-06T16:18:28.454Z"
   },
   {
    "duration": 17,
    "start_time": "2022-10-06T16:18:39.671Z"
   },
   {
    "duration": 52,
    "start_time": "2022-10-06T16:18:43.338Z"
   },
   {
    "duration": 3,
    "start_time": "2022-10-06T16:18:43.512Z"
   },
   {
    "duration": 26,
    "start_time": "2022-10-06T16:18:43.954Z"
   },
   {
    "duration": 106,
    "start_time": "2022-10-06T16:19:11.583Z"
   },
   {
    "duration": 9,
    "start_time": "2022-10-06T16:19:14.194Z"
   },
   {
    "duration": 12,
    "start_time": "2022-10-06T16:20:00.854Z"
   },
   {
    "duration": 54,
    "start_time": "2022-10-06T16:20:31.143Z"
   },
   {
    "duration": 31,
    "start_time": "2022-10-06T16:21:13.814Z"
   },
   {
    "duration": 16,
    "start_time": "2022-10-06T16:21:14.790Z"
   },
   {
    "duration": 18,
    "start_time": "2022-10-06T16:21:31.102Z"
   },
   {
    "duration": 13,
    "start_time": "2022-10-06T16:23:40.452Z"
   },
   {
    "duration": 10,
    "start_time": "2022-10-06T16:23:59.884Z"
   },
   {
    "duration": 31,
    "start_time": "2022-10-06T16:24:07.853Z"
   },
   {
    "duration": 4,
    "start_time": "2022-10-06T16:27:12.242Z"
   },
   {
    "duration": 432,
    "start_time": "2022-10-06T16:27:12.251Z"
   },
   {
    "duration": 26,
    "start_time": "2022-10-06T16:27:12.686Z"
   },
   {
    "duration": 12,
    "start_time": "2022-10-06T16:27:12.714Z"
   },
   {
    "duration": 52,
    "start_time": "2022-10-06T16:27:12.727Z"
   },
   {
    "duration": 13,
    "start_time": "2022-10-06T16:27:12.782Z"
   },
   {
    "duration": 7,
    "start_time": "2022-10-06T16:27:12.796Z"
   },
   {
    "duration": 22,
    "start_time": "2022-10-06T16:27:12.804Z"
   },
   {
    "duration": 27,
    "start_time": "2022-10-06T16:27:12.828Z"
   },
   {
    "duration": 13,
    "start_time": "2022-10-06T16:27:12.857Z"
   },
   {
    "duration": 14,
    "start_time": "2022-10-06T16:27:12.872Z"
   },
   {
    "duration": 15,
    "start_time": "2022-10-06T16:27:12.888Z"
   },
   {
    "duration": 272,
    "start_time": "2022-10-06T16:27:12.905Z"
   },
   {
    "duration": 110,
    "start_time": "2022-10-06T16:27:13.179Z"
   },
   {
    "duration": 51,
    "start_time": "2022-10-06T16:27:13.292Z"
   },
   {
    "duration": 49,
    "start_time": "2022-10-06T16:27:13.355Z"
   },
   {
    "duration": 8,
    "start_time": "2022-10-06T16:27:13.406Z"
   },
   {
    "duration": 6,
    "start_time": "2022-10-06T16:27:13.416Z"
   },
   {
    "duration": 76,
    "start_time": "2022-10-06T16:27:13.424Z"
   },
   {
    "duration": 4,
    "start_time": "2022-10-06T16:27:13.502Z"
   },
   {
    "duration": 17,
    "start_time": "2022-10-06T16:27:13.508Z"
   },
   {
    "duration": 33,
    "start_time": "2022-10-06T16:27:13.527Z"
   },
   {
    "duration": 6,
    "start_time": "2022-10-06T16:27:13.562Z"
   },
   {
    "duration": 8,
    "start_time": "2022-10-06T16:27:13.569Z"
   },
   {
    "duration": 17,
    "start_time": "2022-10-06T16:27:13.579Z"
   },
   {
    "duration": 12,
    "start_time": "2022-10-06T16:27:13.598Z"
   },
   {
    "duration": 9,
    "start_time": "2022-10-06T16:27:13.612Z"
   },
   {
    "duration": 40,
    "start_time": "2022-10-06T16:27:13.623Z"
   },
   {
    "duration": 36,
    "start_time": "2022-10-06T16:27:13.665Z"
   },
   {
    "duration": 9,
    "start_time": "2022-10-06T16:27:13.702Z"
   },
   {
    "duration": 58,
    "start_time": "2022-10-06T16:27:13.713Z"
   },
   {
    "duration": 17,
    "start_time": "2022-10-06T16:27:13.772Z"
   },
   {
    "duration": 536,
    "start_time": "2022-10-06T16:27:13.791Z"
   },
   {
    "duration": 11,
    "start_time": "2022-10-06T16:27:14.329Z"
   },
   {
    "duration": 27,
    "start_time": "2022-10-06T16:27:14.342Z"
   },
   {
    "duration": 26,
    "start_time": "2022-10-06T16:27:14.371Z"
   },
   {
    "duration": 10,
    "start_time": "2022-10-06T16:27:14.398Z"
   },
   {
    "duration": 9,
    "start_time": "2022-10-06T16:27:14.410Z"
   },
   {
    "duration": 100,
    "start_time": "2022-10-06T16:27:14.421Z"
   },
   {
    "duration": 33,
    "start_time": "2022-10-06T16:27:14.522Z"
   },
   {
    "duration": 88,
    "start_time": "2022-10-06T16:27:14.556Z"
   },
   {
    "duration": 15,
    "start_time": "2022-10-06T16:27:14.658Z"
   },
   {
    "duration": 43,
    "start_time": "2022-10-06T16:27:14.676Z"
   },
   {
    "duration": 166,
    "start_time": "2022-10-06T16:27:14.721Z"
   },
   {
    "duration": 30,
    "start_time": "2022-10-06T16:27:14.889Z"
   },
   {
    "duration": 207,
    "start_time": "2022-10-06T16:27:14.921Z"
   },
   {
    "duration": 37,
    "start_time": "2022-10-06T16:27:15.130Z"
   },
   {
    "duration": 24,
    "start_time": "2022-10-06T16:27:15.169Z"
   },
   {
    "duration": 64,
    "start_time": "2022-10-06T16:27:15.195Z"
   },
   {
    "duration": 14,
    "start_time": "2022-10-06T16:27:15.261Z"
   },
   {
    "duration": 46,
    "start_time": "2022-10-06T16:27:15.277Z"
   },
   {
    "duration": 29,
    "start_time": "2022-10-06T16:27:15.325Z"
   },
   {
    "duration": 62,
    "start_time": "2022-10-06T16:27:15.356Z"
   },
   {
    "duration": 79,
    "start_time": "2022-10-06T16:27:15.420Z"
   },
   {
    "duration": 20,
    "start_time": "2022-10-06T16:27:15.501Z"
   },
   {
    "duration": 44,
    "start_time": "2022-10-06T16:27:15.523Z"
   },
   {
    "duration": 31,
    "start_time": "2022-10-06T16:27:20.964Z"
   },
   {
    "duration": 13,
    "start_time": "2022-10-06T16:28:04.783Z"
   },
   {
    "duration": 13,
    "start_time": "2022-10-06T16:28:21.741Z"
   },
   {
    "duration": 31,
    "start_time": "2022-10-06T16:34:00.103Z"
   },
   {
    "duration": 14,
    "start_time": "2022-10-06T16:34:57.292Z"
   },
   {
    "duration": 13,
    "start_time": "2022-10-06T16:35:13.468Z"
   },
   {
    "duration": 14,
    "start_time": "2022-10-06T16:36:21.124Z"
   },
   {
    "duration": 35,
    "start_time": "2022-10-06T16:46:21.682Z"
   },
   {
    "duration": 364,
    "start_time": "2022-10-06T16:46:38.801Z"
   },
   {
    "duration": 13,
    "start_time": "2022-10-06T16:46:41.509Z"
   },
   {
    "duration": 14,
    "start_time": "2022-10-06T16:46:59.802Z"
   },
   {
    "duration": 17,
    "start_time": "2022-10-06T16:48:33.945Z"
   },
   {
    "duration": 13,
    "start_time": "2022-10-06T16:57:20.139Z"
   },
   {
    "duration": 14,
    "start_time": "2022-10-06T16:57:37.864Z"
   },
   {
    "duration": 15,
    "start_time": "2022-10-06T16:57:48.738Z"
   },
   {
    "duration": 21,
    "start_time": "2022-10-06T16:58:07.141Z"
   },
   {
    "duration": 28,
    "start_time": "2022-10-06T17:04:03.542Z"
   },
   {
    "duration": 8,
    "start_time": "2022-10-06T17:04:04.798Z"
   },
   {
    "duration": 20,
    "start_time": "2022-10-06T17:04:09.323Z"
   },
   {
    "duration": 25,
    "start_time": "2022-10-06T17:04:13.406Z"
   },
   {
    "duration": 44,
    "start_time": "2022-10-06T17:04:23.483Z"
   },
   {
    "duration": 969,
    "start_time": "2022-10-06T17:09:12.486Z"
   },
   {
    "duration": 1007,
    "start_time": "2022-10-06T17:09:13.457Z"
   },
   {
    "duration": 29,
    "start_time": "2022-10-06T17:09:14.466Z"
   },
   {
    "duration": 18,
    "start_time": "2022-10-06T17:09:14.498Z"
   },
   {
    "duration": 37,
    "start_time": "2022-10-06T17:09:14.518Z"
   },
   {
    "duration": 15,
    "start_time": "2022-10-06T17:09:14.557Z"
   },
   {
    "duration": 6,
    "start_time": "2022-10-06T17:09:14.574Z"
   },
   {
    "duration": 20,
    "start_time": "2022-10-06T17:09:14.582Z"
   },
   {
    "duration": 12,
    "start_time": "2022-10-06T17:09:14.604Z"
   },
   {
    "duration": 48,
    "start_time": "2022-10-06T17:09:14.620Z"
   },
   {
    "duration": 23,
    "start_time": "2022-10-06T17:09:14.670Z"
   },
   {
    "duration": 21,
    "start_time": "2022-10-06T17:09:14.696Z"
   },
   {
    "duration": 18,
    "start_time": "2022-10-06T17:09:14.719Z"
   },
   {
    "duration": 146,
    "start_time": "2022-10-06T17:09:14.739Z"
   },
   {
    "duration": 68,
    "start_time": "2022-10-06T17:09:14.888Z"
   },
   {
    "duration": 59,
    "start_time": "2022-10-06T17:09:14.957Z"
   },
   {
    "duration": 6,
    "start_time": "2022-10-06T17:09:15.018Z"
   },
   {
    "duration": 29,
    "start_time": "2022-10-06T17:09:15.025Z"
   },
   {
    "duration": 56,
    "start_time": "2022-10-06T17:09:15.056Z"
   },
   {
    "duration": 5,
    "start_time": "2022-10-06T17:09:15.114Z"
   },
   {
    "duration": 40,
    "start_time": "2022-10-06T17:09:15.120Z"
   },
   {
    "duration": 9,
    "start_time": "2022-10-06T17:09:15.161Z"
   },
   {
    "duration": 5,
    "start_time": "2022-10-06T17:09:15.172Z"
   },
   {
    "duration": 2,
    "start_time": "2022-10-06T17:09:15.179Z"
   },
   {
    "duration": 13,
    "start_time": "2022-10-06T17:09:15.183Z"
   },
   {
    "duration": 10,
    "start_time": "2022-10-06T17:09:15.198Z"
   },
   {
    "duration": 9,
    "start_time": "2022-10-06T17:09:15.210Z"
   },
   {
    "duration": 15,
    "start_time": "2022-10-06T17:09:15.254Z"
   },
   {
    "duration": 36,
    "start_time": "2022-10-06T17:09:15.271Z"
   },
   {
    "duration": 9,
    "start_time": "2022-10-06T17:09:15.309Z"
   },
   {
    "duration": 65,
    "start_time": "2022-10-06T17:09:15.319Z"
   },
   {
    "duration": 17,
    "start_time": "2022-10-06T17:09:15.386Z"
   },
   {
    "duration": 835,
    "start_time": "2022-10-06T17:09:15.405Z"
   },
   {
    "duration": 13,
    "start_time": "2022-10-06T17:09:16.242Z"
   },
   {
    "duration": 15,
    "start_time": "2022-10-06T17:09:16.257Z"
   },
   {
    "duration": 23,
    "start_time": "2022-10-06T17:09:16.274Z"
   },
   {
    "duration": 9,
    "start_time": "2022-10-06T17:09:16.299Z"
   },
   {
    "duration": 10,
    "start_time": "2022-10-06T17:09:16.310Z"
   },
   {
    "duration": 110,
    "start_time": "2022-10-06T17:09:16.322Z"
   },
   {
    "duration": 40,
    "start_time": "2022-10-06T17:09:16.434Z"
   },
   {
    "duration": 109,
    "start_time": "2022-10-06T17:09:16.476Z"
   },
   {
    "duration": 12,
    "start_time": "2022-10-06T17:09:16.588Z"
   },
   {
    "duration": 55,
    "start_time": "2022-10-06T17:09:16.602Z"
   },
   {
    "duration": 187,
    "start_time": "2022-10-06T17:09:16.658Z"
   },
   {
    "duration": 37,
    "start_time": "2022-10-06T17:09:16.847Z"
   },
   {
    "duration": 231,
    "start_time": "2022-10-06T17:09:16.886Z"
   },
   {
    "duration": 43,
    "start_time": "2022-10-06T17:09:17.119Z"
   },
   {
    "duration": 44,
    "start_time": "2022-10-06T17:09:17.164Z"
   },
   {
    "duration": 2,
    "start_time": "2022-10-06T17:09:17.210Z"
   },
   {
    "duration": 78,
    "start_time": "2022-10-06T17:09:17.214Z"
   },
   {
    "duration": 99,
    "start_time": "2022-10-06T17:09:17.294Z"
   },
   {
    "duration": 9,
    "start_time": "2022-10-06T17:09:17.394Z"
   },
   {
    "duration": 21,
    "start_time": "2022-10-06T17:09:17.405Z"
   },
   {
    "duration": 48,
    "start_time": "2022-10-06T17:09:17.428Z"
   },
   {
    "duration": 1009,
    "start_time": "2022-10-06T17:09:26.848Z"
   },
   {
    "duration": 1025,
    "start_time": "2022-10-06T17:09:27.860Z"
   },
   {
    "duration": 26,
    "start_time": "2022-10-06T17:09:28.887Z"
   },
   {
    "duration": 17,
    "start_time": "2022-10-06T17:09:28.914Z"
   },
   {
    "duration": 20,
    "start_time": "2022-10-06T17:09:28.933Z"
   },
   {
    "duration": 22,
    "start_time": "2022-10-06T17:09:28.954Z"
   },
   {
    "duration": 13,
    "start_time": "2022-10-06T17:09:28.977Z"
   },
   {
    "duration": 37,
    "start_time": "2022-10-06T17:09:28.992Z"
   },
   {
    "duration": 11,
    "start_time": "2022-10-06T17:09:29.031Z"
   },
   {
    "duration": 12,
    "start_time": "2022-10-06T17:09:29.054Z"
   },
   {
    "duration": 18,
    "start_time": "2022-10-06T17:09:29.068Z"
   },
   {
    "duration": 18,
    "start_time": "2022-10-06T17:09:29.088Z"
   },
   {
    "duration": 22,
    "start_time": "2022-10-06T17:09:29.108Z"
   },
   {
    "duration": 134,
    "start_time": "2022-10-06T17:09:29.135Z"
   },
   {
    "duration": 73,
    "start_time": "2022-10-06T17:09:29.272Z"
   },
   {
    "duration": 54,
    "start_time": "2022-10-06T17:09:29.355Z"
   },
   {
    "duration": 7,
    "start_time": "2022-10-06T17:09:29.411Z"
   },
   {
    "duration": 7,
    "start_time": "2022-10-06T17:09:29.419Z"
   },
   {
    "duration": 80,
    "start_time": "2022-10-06T17:09:29.427Z"
   },
   {
    "duration": 4,
    "start_time": "2022-10-06T17:09:29.509Z"
   },
   {
    "duration": 21,
    "start_time": "2022-10-06T17:09:29.515Z"
   },
   {
    "duration": 24,
    "start_time": "2022-10-06T17:09:29.538Z"
   },
   {
    "duration": 11,
    "start_time": "2022-10-06T17:09:29.563Z"
   },
   {
    "duration": 18,
    "start_time": "2022-10-06T17:09:29.576Z"
   },
   {
    "duration": 17,
    "start_time": "2022-10-06T17:09:29.595Z"
   },
   {
    "duration": 11,
    "start_time": "2022-10-06T17:09:29.614Z"
   },
   {
    "duration": 13,
    "start_time": "2022-10-06T17:09:29.627Z"
   },
   {
    "duration": 23,
    "start_time": "2022-10-06T17:09:29.642Z"
   },
   {
    "duration": 36,
    "start_time": "2022-10-06T17:09:29.667Z"
   },
   {
    "duration": 9,
    "start_time": "2022-10-06T17:09:29.705Z"
   },
   {
    "duration": 60,
    "start_time": "2022-10-06T17:09:29.716Z"
   },
   {
    "duration": 16,
    "start_time": "2022-10-06T17:09:29.778Z"
   },
   {
    "duration": 859,
    "start_time": "2022-10-06T17:09:29.796Z"
   },
   {
    "duration": 13,
    "start_time": "2022-10-06T17:09:30.657Z"
   },
   {
    "duration": 23,
    "start_time": "2022-10-06T17:09:30.672Z"
   },
   {
    "duration": 42,
    "start_time": "2022-10-06T17:09:30.697Z"
   },
   {
    "duration": 30,
    "start_time": "2022-10-06T17:09:30.742Z"
   },
   {
    "duration": 47,
    "start_time": "2022-10-06T17:09:30.774Z"
   },
   {
    "duration": 118,
    "start_time": "2022-10-06T17:09:30.823Z"
   },
   {
    "duration": 30,
    "start_time": "2022-10-06T17:09:30.943Z"
   },
   {
    "duration": 103,
    "start_time": "2022-10-06T17:09:30.977Z"
   },
   {
    "duration": 13,
    "start_time": "2022-10-06T17:09:31.082Z"
   },
   {
    "duration": 59,
    "start_time": "2022-10-06T17:09:31.096Z"
   },
   {
    "duration": 169,
    "start_time": "2022-10-06T17:09:31.157Z"
   },
   {
    "duration": 42,
    "start_time": "2022-10-06T17:09:31.329Z"
   },
   {
    "duration": 246,
    "start_time": "2022-10-06T17:09:31.374Z"
   },
   {
    "duration": 36,
    "start_time": "2022-10-06T17:09:31.622Z"
   },
   {
    "duration": 47,
    "start_time": "2022-10-06T17:09:31.660Z"
   },
   {
    "duration": 4,
    "start_time": "2022-10-06T17:09:31.709Z"
   },
   {
    "duration": 116,
    "start_time": "2022-10-06T17:09:31.715Z"
   },
   {
    "duration": 101,
    "start_time": "2022-10-06T17:09:31.834Z"
   },
   {
    "duration": 17,
    "start_time": "2022-10-06T17:09:31.937Z"
   },
   {
    "duration": 17,
    "start_time": "2022-10-06T17:09:31.956Z"
   },
   {
    "duration": 58,
    "start_time": "2022-10-06T17:09:31.976Z"
   },
   {
    "duration": 123,
    "start_time": "2022-10-06T17:09:43.832Z"
   },
   {
    "duration": 57,
    "start_time": "2022-10-06T17:10:02.962Z"
   },
   {
    "duration": 83,
    "start_time": "2022-10-06T17:10:11.982Z"
   },
   {
    "duration": 5,
    "start_time": "2022-10-06T17:10:15.465Z"
   },
   {
    "duration": 22,
    "start_time": "2022-10-06T17:10:32.995Z"
   },
   {
    "duration": 6,
    "start_time": "2022-10-06T17:10:34.043Z"
   },
   {
    "duration": 46,
    "start_time": "2022-10-06T17:10:49.790Z"
   },
   {
    "duration": 24,
    "start_time": "2022-10-06T17:11:30.833Z"
   },
   {
    "duration": 16,
    "start_time": "2022-10-06T17:11:39.254Z"
   },
   {
    "duration": 2,
    "start_time": "2022-10-06T17:16:25.861Z"
   },
   {
    "duration": 42,
    "start_time": "2022-10-06T17:16:26.161Z"
   },
   {
    "duration": 36,
    "start_time": "2022-10-06T17:16:29.112Z"
   },
   {
    "duration": 61,
    "start_time": "2022-10-06T17:17:43.221Z"
   },
   {
    "duration": 14,
    "start_time": "2022-10-06T17:17:43.592Z"
   },
   {
    "duration": 5,
    "start_time": "2022-10-06T17:17:47.959Z"
   },
   {
    "duration": 6,
    "start_time": "2022-10-06T17:21:19.212Z"
   },
   {
    "duration": 25,
    "start_time": "2022-10-06T17:21:42.711Z"
   },
   {
    "duration": 1026,
    "start_time": "2022-10-06T17:22:40.628Z"
   },
   {
    "duration": 472,
    "start_time": "2022-10-06T17:22:41.657Z"
   },
   {
    "duration": 26,
    "start_time": "2022-10-06T17:22:42.131Z"
   },
   {
    "duration": 17,
    "start_time": "2022-10-06T17:22:42.159Z"
   },
   {
    "duration": 26,
    "start_time": "2022-10-06T17:22:42.177Z"
   },
   {
    "duration": 14,
    "start_time": "2022-10-06T17:22:42.205Z"
   },
   {
    "duration": 11,
    "start_time": "2022-10-06T17:22:42.221Z"
   },
   {
    "duration": 37,
    "start_time": "2022-10-06T17:22:42.233Z"
   },
   {
    "duration": 11,
    "start_time": "2022-10-06T17:22:42.273Z"
   },
   {
    "duration": 14,
    "start_time": "2022-10-06T17:22:42.287Z"
   },
   {
    "duration": 13,
    "start_time": "2022-10-06T17:22:42.303Z"
   },
   {
    "duration": 36,
    "start_time": "2022-10-06T17:22:42.318Z"
   },
   {
    "duration": 14,
    "start_time": "2022-10-06T17:22:42.356Z"
   },
   {
    "duration": 134,
    "start_time": "2022-10-06T17:22:42.371Z"
   },
   {
    "duration": 66,
    "start_time": "2022-10-06T17:22:42.507Z"
   },
   {
    "duration": 51,
    "start_time": "2022-10-06T17:22:42.575Z"
   },
   {
    "duration": 6,
    "start_time": "2022-10-06T17:22:42.627Z"
   },
   {
    "duration": 8,
    "start_time": "2022-10-06T17:22:42.653Z"
   },
   {
    "duration": 59,
    "start_time": "2022-10-06T17:22:42.663Z"
   },
   {
    "duration": 5,
    "start_time": "2022-10-06T17:22:42.723Z"
   },
   {
    "duration": 29,
    "start_time": "2022-10-06T17:22:42.730Z"
   },
   {
    "duration": 10,
    "start_time": "2022-10-06T17:22:42.760Z"
   },
   {
    "duration": 5,
    "start_time": "2022-10-06T17:22:42.771Z"
   },
   {
    "duration": 6,
    "start_time": "2022-10-06T17:22:42.778Z"
   },
   {
    "duration": 29,
    "start_time": "2022-10-06T17:22:42.786Z"
   },
   {
    "duration": 11,
    "start_time": "2022-10-06T17:22:42.817Z"
   },
   {
    "duration": 8,
    "start_time": "2022-10-06T17:22:42.854Z"
   },
   {
    "duration": 20,
    "start_time": "2022-10-06T17:22:42.865Z"
   },
   {
    "duration": 37,
    "start_time": "2022-10-06T17:22:42.886Z"
   },
   {
    "duration": 10,
    "start_time": "2022-10-06T17:22:42.924Z"
   },
   {
    "duration": 57,
    "start_time": "2022-10-06T17:22:42.935Z"
   },
   {
    "duration": 16,
    "start_time": "2022-10-06T17:22:42.994Z"
   },
   {
    "duration": 829,
    "start_time": "2022-10-06T17:22:43.012Z"
   },
   {
    "duration": 12,
    "start_time": "2022-10-06T17:22:43.843Z"
   },
   {
    "duration": 10,
    "start_time": "2022-10-06T17:22:43.856Z"
   },
   {
    "duration": 31,
    "start_time": "2022-10-06T17:22:43.868Z"
   },
   {
    "duration": 16,
    "start_time": "2022-10-06T17:22:43.900Z"
   },
   {
    "duration": 7,
    "start_time": "2022-10-06T17:22:43.918Z"
   },
   {
    "duration": 106,
    "start_time": "2022-10-06T17:22:43.927Z"
   },
   {
    "duration": 31,
    "start_time": "2022-10-06T17:22:44.035Z"
   },
   {
    "duration": 91,
    "start_time": "2022-10-06T17:22:44.068Z"
   },
   {
    "duration": 11,
    "start_time": "2022-10-06T17:22:44.161Z"
   },
   {
    "duration": 39,
    "start_time": "2022-10-06T17:22:44.173Z"
   },
   {
    "duration": 177,
    "start_time": "2022-10-06T17:22:44.214Z"
   },
   {
    "duration": 30,
    "start_time": "2022-10-06T17:22:44.392Z"
   },
   {
    "duration": 203,
    "start_time": "2022-10-06T17:22:44.424Z"
   },
   {
    "duration": 39,
    "start_time": "2022-10-06T17:22:44.629Z"
   },
   {
    "duration": 40,
    "start_time": "2022-10-06T17:22:44.669Z"
   },
   {
    "duration": 2,
    "start_time": "2022-10-06T17:22:44.711Z"
   },
   {
    "duration": 109,
    "start_time": "2022-10-06T17:22:44.715Z"
   },
   {
    "duration": 91,
    "start_time": "2022-10-06T17:22:44.825Z"
   },
   {
    "duration": 10,
    "start_time": "2022-10-06T17:22:44.918Z"
   },
   {
    "duration": 27,
    "start_time": "2022-10-06T17:22:44.930Z"
   },
   {
    "duration": 44,
    "start_time": "2022-10-06T17:22:44.959Z"
   },
   {
    "duration": 2,
    "start_time": "2022-10-06T17:22:45.005Z"
   },
   {
    "duration": 3,
    "start_time": "2022-10-06T17:22:50.777Z"
   },
   {
    "duration": 42,
    "start_time": "2022-10-06T17:22:52.888Z"
   },
   {
    "duration": 33,
    "start_time": "2022-10-06T17:22:53.980Z"
   },
   {
    "duration": 74,
    "start_time": "2022-10-06T17:23:08.218Z"
   },
   {
    "duration": 6,
    "start_time": "2022-10-06T17:23:08.777Z"
   },
   {
    "duration": 7,
    "start_time": "2022-10-06T17:23:41.938Z"
   },
   {
    "duration": 8,
    "start_time": "2022-10-06T17:24:03.817Z"
   },
   {
    "duration": 6,
    "start_time": "2022-10-06T17:25:07.817Z"
   },
   {
    "duration": 924,
    "start_time": "2022-10-06T17:25:25.631Z"
   },
   {
    "duration": 434,
    "start_time": "2022-10-06T17:25:26.558Z"
   },
   {
    "duration": 26,
    "start_time": "2022-10-06T17:25:26.993Z"
   },
   {
    "duration": 17,
    "start_time": "2022-10-06T17:25:27.021Z"
   },
   {
    "duration": 21,
    "start_time": "2022-10-06T17:25:27.039Z"
   },
   {
    "duration": 13,
    "start_time": "2022-10-06T17:25:27.062Z"
   },
   {
    "duration": 6,
    "start_time": "2022-10-06T17:25:27.077Z"
   },
   {
    "duration": 21,
    "start_time": "2022-10-06T17:25:27.085Z"
   },
   {
    "duration": 8,
    "start_time": "2022-10-06T17:25:27.108Z"
   },
   {
    "duration": 11,
    "start_time": "2022-10-06T17:25:27.118Z"
   },
   {
    "duration": 31,
    "start_time": "2022-10-06T17:25:27.131Z"
   },
   {
    "duration": 13,
    "start_time": "2022-10-06T17:25:27.164Z"
   },
   {
    "duration": 13,
    "start_time": "2022-10-06T17:25:27.179Z"
   },
   {
    "duration": 140,
    "start_time": "2022-10-06T17:25:27.194Z"
   },
   {
    "duration": 58,
    "start_time": "2022-10-06T17:25:27.335Z"
   },
   {
    "duration": 70,
    "start_time": "2022-10-06T17:25:27.394Z"
   },
   {
    "duration": 8,
    "start_time": "2022-10-06T17:25:27.465Z"
   },
   {
    "duration": 5,
    "start_time": "2022-10-06T17:25:27.475Z"
   },
   {
    "duration": 75,
    "start_time": "2022-10-06T17:25:27.482Z"
   },
   {
    "duration": 5,
    "start_time": "2022-10-06T17:25:27.559Z"
   },
   {
    "duration": 17,
    "start_time": "2022-10-06T17:25:27.566Z"
   },
   {
    "duration": 9,
    "start_time": "2022-10-06T17:25:27.585Z"
   },
   {
    "duration": 5,
    "start_time": "2022-10-06T17:25:27.596Z"
   },
   {
    "duration": 4,
    "start_time": "2022-10-06T17:25:27.602Z"
   },
   {
    "duration": 7,
    "start_time": "2022-10-06T17:25:27.608Z"
   },
   {
    "duration": 41,
    "start_time": "2022-10-06T17:25:27.616Z"
   },
   {
    "duration": 8,
    "start_time": "2022-10-06T17:25:27.658Z"
   },
   {
    "duration": 14,
    "start_time": "2022-10-06T17:25:27.670Z"
   },
   {
    "duration": 35,
    "start_time": "2022-10-06T17:25:27.686Z"
   },
   {
    "duration": 9,
    "start_time": "2022-10-06T17:25:27.723Z"
   },
   {
    "duration": 60,
    "start_time": "2022-10-06T17:25:27.733Z"
   },
   {
    "duration": 16,
    "start_time": "2022-10-06T17:25:27.795Z"
   },
   {
    "duration": 786,
    "start_time": "2022-10-06T17:25:27.813Z"
   },
   {
    "duration": 11,
    "start_time": "2022-10-06T17:25:28.600Z"
   },
   {
    "duration": 10,
    "start_time": "2022-10-06T17:25:28.612Z"
   },
   {
    "duration": 33,
    "start_time": "2022-10-06T17:25:28.624Z"
   },
   {
    "duration": 9,
    "start_time": "2022-10-06T17:25:28.659Z"
   },
   {
    "duration": 7,
    "start_time": "2022-10-06T17:25:28.670Z"
   },
   {
    "duration": 103,
    "start_time": "2022-10-06T17:25:28.678Z"
   },
   {
    "duration": 25,
    "start_time": "2022-10-06T17:25:28.784Z"
   },
   {
    "duration": 97,
    "start_time": "2022-10-06T17:25:28.811Z"
   },
   {
    "duration": 11,
    "start_time": "2022-10-06T17:25:28.910Z"
   },
   {
    "duration": 47,
    "start_time": "2022-10-06T17:25:28.922Z"
   },
   {
    "duration": 167,
    "start_time": "2022-10-06T17:25:28.971Z"
   },
   {
    "duration": 37,
    "start_time": "2022-10-06T17:25:29.139Z"
   },
   {
    "duration": 199,
    "start_time": "2022-10-06T17:25:29.177Z"
   },
   {
    "duration": 28,
    "start_time": "2022-10-06T17:25:29.378Z"
   },
   {
    "duration": 54,
    "start_time": "2022-10-06T17:25:29.408Z"
   },
   {
    "duration": 2,
    "start_time": "2022-10-06T17:25:29.464Z"
   },
   {
    "duration": 56,
    "start_time": "2022-10-06T17:25:29.467Z"
   },
   {
    "duration": 101,
    "start_time": "2022-10-06T17:25:29.525Z"
   },
   {
    "duration": 8,
    "start_time": "2022-10-06T17:25:29.628Z"
   },
   {
    "duration": 24,
    "start_time": "2022-10-06T17:25:29.638Z"
   },
   {
    "duration": 28,
    "start_time": "2022-10-06T17:25:29.664Z"
   },
   {
    "duration": 2,
    "start_time": "2022-10-06T17:25:29.694Z"
   },
   {
    "duration": 3,
    "start_time": "2022-10-06T17:25:38.579Z"
   },
   {
    "duration": 54,
    "start_time": "2022-10-06T17:25:41.410Z"
   },
   {
    "duration": 10,
    "start_time": "2022-10-06T17:25:43.940Z"
   },
   {
    "duration": 32,
    "start_time": "2022-10-06T17:25:46.518Z"
   },
   {
    "duration": 32,
    "start_time": "2022-10-06T17:26:04.357Z"
   },
   {
    "duration": 72,
    "start_time": "2022-10-06T17:26:09.865Z"
   },
   {
    "duration": 16,
    "start_time": "2022-10-06T17:26:10.548Z"
   },
   {
    "duration": 6,
    "start_time": "2022-10-06T17:26:15.888Z"
   },
   {
    "duration": 129,
    "start_time": "2022-10-06T17:27:08.814Z"
   },
   {
    "duration": 15,
    "start_time": "2022-10-06T17:29:13.859Z"
   },
   {
    "duration": 21,
    "start_time": "2022-10-06T17:36:54.698Z"
   },
   {
    "duration": 886,
    "start_time": "2022-10-06T17:36:56.091Z"
   },
   {
    "duration": 14,
    "start_time": "2022-10-06T17:37:03.830Z"
   },
   {
    "duration": 17,
    "start_time": "2022-10-06T17:37:28.028Z"
   },
   {
    "duration": 14,
    "start_time": "2022-10-06T17:37:50.180Z"
   },
   {
    "duration": 945,
    "start_time": "2022-10-06T17:38:03.721Z"
   },
   {
    "duration": 444,
    "start_time": "2022-10-06T17:38:04.669Z"
   },
   {
    "duration": 24,
    "start_time": "2022-10-06T17:38:05.114Z"
   },
   {
    "duration": 18,
    "start_time": "2022-10-06T17:38:05.141Z"
   },
   {
    "duration": 24,
    "start_time": "2022-10-06T17:38:05.161Z"
   },
   {
    "duration": 14,
    "start_time": "2022-10-06T17:38:05.187Z"
   },
   {
    "duration": 9,
    "start_time": "2022-10-06T17:38:05.202Z"
   },
   {
    "duration": 21,
    "start_time": "2022-10-06T17:38:05.213Z"
   },
   {
    "duration": 22,
    "start_time": "2022-10-06T17:38:05.237Z"
   },
   {
    "duration": 13,
    "start_time": "2022-10-06T17:38:05.263Z"
   },
   {
    "duration": 11,
    "start_time": "2022-10-06T17:38:05.278Z"
   },
   {
    "duration": 23,
    "start_time": "2022-10-06T17:38:05.291Z"
   },
   {
    "duration": 12,
    "start_time": "2022-10-06T17:38:05.316Z"
   },
   {
    "duration": 141,
    "start_time": "2022-10-06T17:38:05.331Z"
   },
   {
    "duration": 61,
    "start_time": "2022-10-06T17:38:05.474Z"
   },
   {
    "duration": 71,
    "start_time": "2022-10-06T17:38:05.537Z"
   },
   {
    "duration": 9,
    "start_time": "2022-10-06T17:38:05.610Z"
   },
   {
    "duration": 6,
    "start_time": "2022-10-06T17:38:05.620Z"
   },
   {
    "duration": 75,
    "start_time": "2022-10-06T17:38:05.627Z"
   },
   {
    "duration": 4,
    "start_time": "2022-10-06T17:38:05.704Z"
   },
   {
    "duration": 22,
    "start_time": "2022-10-06T17:38:05.709Z"
   },
   {
    "duration": 24,
    "start_time": "2022-10-06T17:38:05.733Z"
   },
   {
    "duration": 5,
    "start_time": "2022-10-06T17:38:05.759Z"
   },
   {
    "duration": 5,
    "start_time": "2022-10-06T17:38:05.766Z"
   },
   {
    "duration": 8,
    "start_time": "2022-10-06T17:38:05.773Z"
   },
   {
    "duration": 15,
    "start_time": "2022-10-06T17:38:05.783Z"
   },
   {
    "duration": 13,
    "start_time": "2022-10-06T17:38:05.799Z"
   },
   {
    "duration": 16,
    "start_time": "2022-10-06T17:38:05.815Z"
   },
   {
    "duration": 52,
    "start_time": "2022-10-06T17:38:05.832Z"
   },
   {
    "duration": 10,
    "start_time": "2022-10-06T17:38:05.886Z"
   },
   {
    "duration": 66,
    "start_time": "2022-10-06T17:38:05.898Z"
   },
   {
    "duration": 20,
    "start_time": "2022-10-06T17:38:05.965Z"
   },
   {
    "duration": 829,
    "start_time": "2022-10-06T17:38:05.987Z"
   },
   {
    "duration": 12,
    "start_time": "2022-10-06T17:38:06.818Z"
   },
   {
    "duration": 32,
    "start_time": "2022-10-06T17:38:06.832Z"
   },
   {
    "duration": 48,
    "start_time": "2022-10-06T17:38:06.867Z"
   },
   {
    "duration": 12,
    "start_time": "2022-10-06T17:38:06.917Z"
   },
   {
    "duration": 24,
    "start_time": "2022-10-06T17:38:06.931Z"
   },
   {
    "duration": 110,
    "start_time": "2022-10-06T17:38:06.957Z"
   },
   {
    "duration": 32,
    "start_time": "2022-10-06T17:38:07.069Z"
   },
   {
    "duration": 104,
    "start_time": "2022-10-06T17:38:07.103Z"
   },
   {
    "duration": 12,
    "start_time": "2022-10-06T17:38:07.209Z"
   },
   {
    "duration": 58,
    "start_time": "2022-10-06T17:38:07.222Z"
   },
   {
    "duration": 179,
    "start_time": "2022-10-06T17:38:07.283Z"
   },
   {
    "duration": 30,
    "start_time": "2022-10-06T17:38:07.464Z"
   },
   {
    "duration": 201,
    "start_time": "2022-10-06T17:38:07.496Z"
   },
   {
    "duration": 30,
    "start_time": "2022-10-06T17:38:07.699Z"
   },
   {
    "duration": 58,
    "start_time": "2022-10-06T17:38:07.731Z"
   },
   {
    "duration": 2,
    "start_time": "2022-10-06T17:38:07.791Z"
   },
   {
    "duration": 107,
    "start_time": "2022-10-06T17:38:07.795Z"
   },
   {
    "duration": 8,
    "start_time": "2022-10-06T17:38:07.904Z"
   },
   {
    "duration": 27,
    "start_time": "2022-10-06T17:38:07.913Z"
   },
   {
    "duration": 34,
    "start_time": "2022-10-06T17:38:07.942Z"
   },
   {
    "duration": 58,
    "start_time": "2022-10-06T17:38:07.978Z"
   },
   {
    "duration": 78,
    "start_time": "2022-10-06T17:38:08.038Z"
   },
   {
    "duration": 16,
    "start_time": "2022-10-06T17:38:08.117Z"
   },
   {
    "duration": 105,
    "start_time": "2022-10-06T17:38:10.961Z"
   },
   {
    "duration": 20,
    "start_time": "2022-10-06T17:39:11.191Z"
   },
   {
    "duration": 12,
    "start_time": "2022-10-06T17:39:12.144Z"
   },
   {
    "duration": 12,
    "start_time": "2022-10-06T17:39:25.322Z"
   },
   {
    "duration": 3,
    "start_time": "2022-10-06T17:39:30.451Z"
   },
   {
    "duration": 17,
    "start_time": "2022-10-06T17:39:31.081Z"
   },
   {
    "duration": 3,
    "start_time": "2022-10-06T17:39:40.008Z"
   },
   {
    "duration": 8,
    "start_time": "2022-10-06T17:39:41.271Z"
   },
   {
    "duration": 8,
    "start_time": "2022-10-06T17:39:56.683Z"
   },
   {
    "duration": 272,
    "start_time": "2022-10-06T17:42:52.432Z"
   },
   {
    "duration": 18,
    "start_time": "2022-10-06T17:42:52.800Z"
   },
   {
    "duration": 5,
    "start_time": "2022-10-06T17:43:11.502Z"
   },
   {
    "duration": 18,
    "start_time": "2022-10-06T17:43:12.550Z"
   },
   {
    "duration": 18,
    "start_time": "2022-10-06T17:43:23.662Z"
   },
   {
    "duration": 11,
    "start_time": "2022-10-06T17:43:45.141Z"
   },
   {
    "duration": 2,
    "start_time": "2022-10-06T17:43:50.311Z"
   },
   {
    "duration": 13,
    "start_time": "2022-10-06T17:44:17.151Z"
   },
   {
    "duration": 10,
    "start_time": "2022-10-06T17:44:28.850Z"
   },
   {
    "duration": 14,
    "start_time": "2022-10-06T17:44:35.879Z"
   },
   {
    "duration": 10,
    "start_time": "2022-10-06T17:44:46.993Z"
   },
   {
    "duration": 7,
    "start_time": "2022-10-06T17:45:15.971Z"
   },
   {
    "duration": 14,
    "start_time": "2022-10-06T17:45:28.820Z"
   },
   {
    "duration": 29,
    "start_time": "2022-10-06T17:45:37.850Z"
   },
   {
    "duration": 2,
    "start_time": "2022-10-06T17:47:35.250Z"
   },
   {
    "duration": 32,
    "start_time": "2022-10-06T17:47:35.520Z"
   },
   {
    "duration": 909,
    "start_time": "2022-10-06T17:47:50.182Z"
   },
   {
    "duration": 476,
    "start_time": "2022-10-06T17:47:51.093Z"
   },
   {
    "duration": 33,
    "start_time": "2022-10-06T17:47:51.571Z"
   },
   {
    "duration": 50,
    "start_time": "2022-10-06T17:47:51.606Z"
   },
   {
    "duration": 45,
    "start_time": "2022-10-06T17:47:51.658Z"
   },
   {
    "duration": 13,
    "start_time": "2022-10-06T17:47:51.705Z"
   },
   {
    "duration": 10,
    "start_time": "2022-10-06T17:47:51.720Z"
   },
   {
    "duration": 34,
    "start_time": "2022-10-06T17:47:51.732Z"
   },
   {
    "duration": 16,
    "start_time": "2022-10-06T17:47:51.768Z"
   },
   {
    "duration": 27,
    "start_time": "2022-10-06T17:47:51.785Z"
   },
   {
    "duration": 20,
    "start_time": "2022-10-06T17:47:51.813Z"
   },
   {
    "duration": 15,
    "start_time": "2022-10-06T17:47:51.834Z"
   },
   {
    "duration": 23,
    "start_time": "2022-10-06T17:47:51.851Z"
   },
   {
    "duration": 114,
    "start_time": "2022-10-06T17:47:51.878Z"
   },
   {
    "duration": 66,
    "start_time": "2022-10-06T17:47:51.993Z"
   },
   {
    "duration": 53,
    "start_time": "2022-10-06T17:47:52.060Z"
   },
   {
    "duration": 6,
    "start_time": "2022-10-06T17:47:52.114Z"
   },
   {
    "duration": 15,
    "start_time": "2022-10-06T17:47:52.121Z"
   },
   {
    "duration": 62,
    "start_time": "2022-10-06T17:47:52.137Z"
   },
   {
    "duration": 4,
    "start_time": "2022-10-06T17:47:52.201Z"
   },
   {
    "duration": 22,
    "start_time": "2022-10-06T17:47:52.207Z"
   },
   {
    "duration": 23,
    "start_time": "2022-10-06T17:47:52.231Z"
   },
   {
    "duration": 4,
    "start_time": "2022-10-06T17:47:52.256Z"
   },
   {
    "duration": 20,
    "start_time": "2022-10-06T17:47:52.261Z"
   },
   {
    "duration": 12,
    "start_time": "2022-10-06T17:47:52.283Z"
   },
   {
    "duration": 16,
    "start_time": "2022-10-06T17:47:52.296Z"
   },
   {
    "duration": 38,
    "start_time": "2022-10-06T17:47:52.314Z"
   },
   {
    "duration": 18,
    "start_time": "2022-10-06T17:47:52.354Z"
   },
   {
    "duration": 33,
    "start_time": "2022-10-06T17:47:52.374Z"
   },
   {
    "duration": 9,
    "start_time": "2022-10-06T17:47:52.409Z"
   },
   {
    "duration": 57,
    "start_time": "2022-10-06T17:47:52.419Z"
   },
   {
    "duration": 18,
    "start_time": "2022-10-06T17:47:52.477Z"
   },
   {
    "duration": 788,
    "start_time": "2022-10-06T17:47:52.496Z"
   },
   {
    "duration": 11,
    "start_time": "2022-10-06T17:47:53.286Z"
   },
   {
    "duration": 30,
    "start_time": "2022-10-06T17:47:53.299Z"
   },
   {
    "duration": 21,
    "start_time": "2022-10-06T17:47:53.331Z"
   },
   {
    "duration": 10,
    "start_time": "2022-10-06T17:47:53.354Z"
   },
   {
    "duration": 9,
    "start_time": "2022-10-06T17:47:53.365Z"
   },
   {
    "duration": 104,
    "start_time": "2022-10-06T17:47:53.376Z"
   },
   {
    "duration": 29,
    "start_time": "2022-10-06T17:47:53.483Z"
   },
   {
    "duration": 107,
    "start_time": "2022-10-06T17:47:53.516Z"
   },
   {
    "duration": 12,
    "start_time": "2022-10-06T17:47:53.625Z"
   },
   {
    "duration": 49,
    "start_time": "2022-10-06T17:47:53.639Z"
   },
   {
    "duration": 166,
    "start_time": "2022-10-06T17:47:53.690Z"
   },
   {
    "duration": 30,
    "start_time": "2022-10-06T17:47:53.858Z"
   },
   {
    "duration": 205,
    "start_time": "2022-10-06T17:47:53.889Z"
   },
   {
    "duration": 30,
    "start_time": "2022-10-06T17:47:54.096Z"
   },
   {
    "duration": 56,
    "start_time": "2022-10-06T17:47:54.128Z"
   },
   {
    "duration": 2,
    "start_time": "2022-10-06T17:47:54.186Z"
   },
   {
    "duration": 100,
    "start_time": "2022-10-06T17:47:54.190Z"
   },
   {
    "duration": 8,
    "start_time": "2022-10-06T17:47:54.292Z"
   },
   {
    "duration": 19,
    "start_time": "2022-10-06T17:47:54.301Z"
   },
   {
    "duration": 43,
    "start_time": "2022-10-06T17:47:54.322Z"
   },
   {
    "duration": 41,
    "start_time": "2022-10-06T17:47:54.367Z"
   },
   {
    "duration": 85,
    "start_time": "2022-10-06T17:47:54.410Z"
   },
   {
    "duration": 10,
    "start_time": "2022-10-06T17:47:54.497Z"
   },
   {
    "duration": 13,
    "start_time": "2022-10-06T17:47:54.509Z"
   },
   {
    "duration": 9,
    "start_time": "2022-10-06T17:48:00.254Z"
   },
   {
    "duration": 3,
    "start_time": "2022-10-06T17:48:01.313Z"
   },
   {
    "duration": 39,
    "start_time": "2022-10-06T17:48:01.703Z"
   },
   {
    "duration": 4,
    "start_time": "2022-10-06T17:48:25.521Z"
   },
   {
    "duration": 29,
    "start_time": "2022-10-06T17:48:25.933Z"
   },
   {
    "duration": 921,
    "start_time": "2022-10-07T12:03:07.788Z"
   },
   {
    "duration": 955,
    "start_time": "2022-10-07T12:03:08.710Z"
   },
   {
    "duration": 25,
    "start_time": "2022-10-07T12:03:09.666Z"
   },
   {
    "duration": 15,
    "start_time": "2022-10-07T12:03:09.693Z"
   },
   {
    "duration": 21,
    "start_time": "2022-10-07T12:03:09.710Z"
   },
   {
    "duration": 13,
    "start_time": "2022-10-07T12:03:09.733Z"
   },
   {
    "duration": 8,
    "start_time": "2022-10-07T12:03:09.747Z"
   },
   {
    "duration": 21,
    "start_time": "2022-10-07T12:03:09.756Z"
   },
   {
    "duration": 7,
    "start_time": "2022-10-07T12:03:09.779Z"
   },
   {
    "duration": 29,
    "start_time": "2022-10-07T12:03:09.788Z"
   },
   {
    "duration": 7,
    "start_time": "2022-10-07T12:03:09.819Z"
   },
   {
    "duration": 56,
    "start_time": "2022-10-07T12:03:09.827Z"
   },
   {
    "duration": 24,
    "start_time": "2022-10-07T12:03:09.885Z"
   },
   {
    "duration": 94,
    "start_time": "2022-10-07T12:03:09.911Z"
   },
   {
    "duration": 51,
    "start_time": "2022-10-07T12:03:10.009Z"
   },
   {
    "duration": 59,
    "start_time": "2022-10-07T12:03:10.061Z"
   },
   {
    "duration": 6,
    "start_time": "2022-10-07T12:03:10.121Z"
   },
   {
    "duration": 7,
    "start_time": "2022-10-07T12:03:10.128Z"
   },
   {
    "duration": 77,
    "start_time": "2022-10-07T12:03:10.137Z"
   },
   {
    "duration": 5,
    "start_time": "2022-10-07T12:03:10.216Z"
   },
   {
    "duration": 19,
    "start_time": "2022-10-07T12:03:10.223Z"
   },
   {
    "duration": 8,
    "start_time": "2022-10-07T12:03:10.244Z"
   },
   {
    "duration": 10,
    "start_time": "2022-10-07T12:03:10.254Z"
   },
   {
    "duration": 4,
    "start_time": "2022-10-07T12:03:10.265Z"
   },
   {
    "duration": 6,
    "start_time": "2022-10-07T12:03:10.270Z"
   },
   {
    "duration": 34,
    "start_time": "2022-10-07T12:03:10.278Z"
   },
   {
    "duration": 9,
    "start_time": "2022-10-07T12:03:10.314Z"
   },
   {
    "duration": 14,
    "start_time": "2022-10-07T12:03:10.326Z"
   },
   {
    "duration": 46,
    "start_time": "2022-10-07T12:03:10.342Z"
   },
   {
    "duration": 8,
    "start_time": "2022-10-07T12:03:10.390Z"
   },
   {
    "duration": 38,
    "start_time": "2022-10-07T12:03:10.399Z"
   },
   {
    "duration": 15,
    "start_time": "2022-10-07T12:03:10.439Z"
   },
   {
    "duration": 903,
    "start_time": "2022-10-07T12:03:10.455Z"
   },
   {
    "duration": 9,
    "start_time": "2022-10-07T12:03:11.360Z"
   },
   {
    "duration": 8,
    "start_time": "2022-10-07T12:03:11.371Z"
   },
   {
    "duration": 33,
    "start_time": "2022-10-07T12:03:11.380Z"
   },
   {
    "duration": 8,
    "start_time": "2022-10-07T12:03:11.414Z"
   },
   {
    "duration": 5,
    "start_time": "2022-10-07T12:03:11.423Z"
   },
   {
    "duration": 94,
    "start_time": "2022-10-07T12:03:11.429Z"
   },
   {
    "duration": 23,
    "start_time": "2022-10-07T12:03:11.525Z"
   },
   {
    "duration": 89,
    "start_time": "2022-10-07T12:03:11.550Z"
   },
   {
    "duration": 11,
    "start_time": "2022-10-07T12:03:11.640Z"
   },
   {
    "duration": 39,
    "start_time": "2022-10-07T12:03:11.653Z"
   },
   {
    "duration": 153,
    "start_time": "2022-10-07T12:03:11.694Z"
   },
   {
    "duration": 28,
    "start_time": "2022-10-07T12:03:11.849Z"
   },
   {
    "duration": 193,
    "start_time": "2022-10-07T12:03:11.879Z"
   },
   {
    "duration": 26,
    "start_time": "2022-10-07T12:03:12.073Z"
   },
   {
    "duration": 40,
    "start_time": "2022-10-07T12:03:12.109Z"
   },
   {
    "duration": 2,
    "start_time": "2022-10-07T12:03:12.151Z"
   },
   {
    "duration": 97,
    "start_time": "2022-10-07T12:03:12.155Z"
   },
   {
    "duration": 7,
    "start_time": "2022-10-07T12:03:12.253Z"
   },
   {
    "duration": 14,
    "start_time": "2022-10-07T12:03:12.261Z"
   },
   {
    "duration": 41,
    "start_time": "2022-10-07T12:03:12.276Z"
   },
   {
    "duration": 35,
    "start_time": "2022-10-07T12:03:12.318Z"
   },
   {
    "duration": 72,
    "start_time": "2022-10-07T12:03:12.354Z"
   },
   {
    "duration": 9,
    "start_time": "2022-10-07T12:03:12.428Z"
   },
   {
    "duration": 20,
    "start_time": "2022-10-07T12:03:12.438Z"
   },
   {
    "duration": 2,
    "start_time": "2022-10-07T12:03:12.460Z"
   },
   {
    "duration": 2,
    "start_time": "2022-10-07T12:03:38.069Z"
   },
   {
    "duration": 33,
    "start_time": "2022-10-07T12:03:38.500Z"
   },
   {
    "duration": 1082,
    "start_time": "2022-10-07T12:08:09.621Z"
   },
   {
    "duration": 418,
    "start_time": "2022-10-07T12:08:10.705Z"
   },
   {
    "duration": 28,
    "start_time": "2022-10-07T12:08:11.125Z"
   },
   {
    "duration": 15,
    "start_time": "2022-10-07T12:08:11.154Z"
   },
   {
    "duration": 19,
    "start_time": "2022-10-07T12:08:11.171Z"
   },
   {
    "duration": 21,
    "start_time": "2022-10-07T12:08:11.191Z"
   },
   {
    "duration": 4,
    "start_time": "2022-10-07T12:08:11.214Z"
   },
   {
    "duration": 31,
    "start_time": "2022-10-07T12:08:11.220Z"
   },
   {
    "duration": 7,
    "start_time": "2022-10-07T12:08:11.253Z"
   },
   {
    "duration": 18,
    "start_time": "2022-10-07T12:08:11.262Z"
   },
   {
    "duration": 13,
    "start_time": "2022-10-07T12:08:11.282Z"
   },
   {
    "duration": 21,
    "start_time": "2022-10-07T12:08:11.296Z"
   },
   {
    "duration": 15,
    "start_time": "2022-10-07T12:08:11.318Z"
   },
   {
    "duration": 101,
    "start_time": "2022-10-07T12:08:11.334Z"
   },
   {
    "duration": 51,
    "start_time": "2022-10-07T12:08:11.436Z"
   },
   {
    "duration": 63,
    "start_time": "2022-10-07T12:08:11.489Z"
   },
   {
    "duration": 7,
    "start_time": "2022-10-07T12:08:11.554Z"
   },
   {
    "duration": 33,
    "start_time": "2022-10-07T12:08:11.562Z"
   },
   {
    "duration": 53,
    "start_time": "2022-10-07T12:08:11.597Z"
   },
   {
    "duration": 4,
    "start_time": "2022-10-07T12:08:11.652Z"
   },
   {
    "duration": 25,
    "start_time": "2022-10-07T12:08:11.657Z"
   },
   {
    "duration": 8,
    "start_time": "2022-10-07T12:08:11.684Z"
   },
   {
    "duration": 15,
    "start_time": "2022-10-07T12:08:11.694Z"
   },
   {
    "duration": 9,
    "start_time": "2022-10-07T12:08:11.711Z"
   },
   {
    "duration": 19,
    "start_time": "2022-10-07T12:08:11.722Z"
   },
   {
    "duration": 16,
    "start_time": "2022-10-07T12:08:11.743Z"
   },
   {
    "duration": 24,
    "start_time": "2022-10-07T12:08:11.761Z"
   },
   {
    "duration": 16,
    "start_time": "2022-10-07T12:08:11.788Z"
   },
   {
    "duration": 34,
    "start_time": "2022-10-07T12:08:11.806Z"
   },
   {
    "duration": 8,
    "start_time": "2022-10-07T12:08:11.842Z"
   },
   {
    "duration": 51,
    "start_time": "2022-10-07T12:08:11.851Z"
   },
   {
    "duration": 16,
    "start_time": "2022-10-07T12:08:11.904Z"
   },
   {
    "duration": 758,
    "start_time": "2022-10-07T12:08:11.921Z"
   },
   {
    "duration": 12,
    "start_time": "2022-10-07T12:08:12.681Z"
   },
   {
    "duration": 15,
    "start_time": "2022-10-07T12:08:27.067Z"
   },
   {
    "duration": 883,
    "start_time": "2022-10-07T23:13:04.180Z"
   },
   {
    "duration": 1011,
    "start_time": "2022-10-07T23:13:05.065Z"
   },
   {
    "duration": 25,
    "start_time": "2022-10-07T23:13:06.077Z"
   },
   {
    "duration": 17,
    "start_time": "2022-10-07T23:13:06.104Z"
   },
   {
    "duration": 24,
    "start_time": "2022-10-07T23:13:06.123Z"
   },
   {
    "duration": 14,
    "start_time": "2022-10-07T23:13:06.148Z"
   },
   {
    "duration": 8,
    "start_time": "2022-10-07T23:13:06.164Z"
   },
   {
    "duration": 21,
    "start_time": "2022-10-07T23:13:06.174Z"
   },
   {
    "duration": 9,
    "start_time": "2022-10-07T23:13:06.196Z"
   },
   {
    "duration": 13,
    "start_time": "2022-10-07T23:13:06.208Z"
   },
   {
    "duration": 32,
    "start_time": "2022-10-07T23:13:06.223Z"
   },
   {
    "duration": 13,
    "start_time": "2022-10-07T23:13:06.257Z"
   },
   {
    "duration": 14,
    "start_time": "2022-10-07T23:13:06.271Z"
   },
   {
    "duration": 133,
    "start_time": "2022-10-07T23:13:06.286Z"
   },
   {
    "duration": 68,
    "start_time": "2022-10-07T23:13:06.421Z"
   },
   {
    "duration": 64,
    "start_time": "2022-10-07T23:13:06.491Z"
   },
   {
    "duration": 7,
    "start_time": "2022-10-07T23:13:06.556Z"
   },
   {
    "duration": 9,
    "start_time": "2022-10-07T23:13:06.564Z"
   },
   {
    "duration": 53,
    "start_time": "2022-10-07T23:13:06.575Z"
   },
   {
    "duration": 4,
    "start_time": "2022-10-07T23:13:06.630Z"
   },
   {
    "duration": 18,
    "start_time": "2022-10-07T23:13:06.654Z"
   },
   {
    "duration": 8,
    "start_time": "2022-10-07T23:13:06.674Z"
   },
   {
    "duration": 5,
    "start_time": "2022-10-07T23:13:06.683Z"
   },
   {
    "duration": 7,
    "start_time": "2022-10-07T23:13:06.689Z"
   },
   {
    "duration": 8,
    "start_time": "2022-10-07T23:13:06.697Z"
   },
   {
    "duration": 11,
    "start_time": "2022-10-07T23:13:06.706Z"
   },
   {
    "duration": 39,
    "start_time": "2022-10-07T23:13:06.718Z"
   },
   {
    "duration": 18,
    "start_time": "2022-10-07T23:13:06.760Z"
   },
   {
    "duration": 35,
    "start_time": "2022-10-07T23:13:06.780Z"
   },
   {
    "duration": 9,
    "start_time": "2022-10-07T23:13:06.817Z"
   },
   {
    "duration": 63,
    "start_time": "2022-10-07T23:13:06.828Z"
   },
   {
    "duration": 17,
    "start_time": "2022-10-07T23:13:06.893Z"
   },
   {
    "duration": 1008,
    "start_time": "2022-10-07T23:13:06.911Z"
   },
   {
    "duration": 97,
    "start_time": "2022-10-07T23:14:17.304Z"
   },
   {
    "duration": 9,
    "start_time": "2022-10-07T23:14:33.472Z"
   },
   {
    "duration": 21,
    "start_time": "2022-10-07T23:15:22.846Z"
   },
   {
    "duration": 16,
    "start_time": "2022-10-07T23:15:38.981Z"
   },
   {
    "duration": 10,
    "start_time": "2022-10-07T23:16:21.479Z"
   },
   {
    "duration": 3,
    "start_time": "2022-10-07T23:16:33.136Z"
   },
   {
    "duration": 10,
    "start_time": "2022-10-07T23:16:51.857Z"
   },
   {
    "duration": 87,
    "start_time": "2022-10-07T23:17:55.769Z"
   },
   {
    "duration": 28,
    "start_time": "2022-10-07T23:18:26.954Z"
   },
   {
    "duration": 81,
    "start_time": "2022-10-07T23:19:24.068Z"
   },
   {
    "duration": 11,
    "start_time": "2022-10-07T23:19:32.264Z"
   },
   {
    "duration": 36,
    "start_time": "2022-10-07T23:19:47.622Z"
   },
   {
    "duration": 158,
    "start_time": "2022-10-07T23:20:55.402Z"
   },
   {
    "duration": 30,
    "start_time": "2022-10-07T23:21:17.891Z"
   },
   {
    "duration": 198,
    "start_time": "2022-10-07T23:21:54.108Z"
   },
   {
    "duration": 31,
    "start_time": "2022-10-07T23:21:56.154Z"
   },
   {
    "duration": 56,
    "start_time": "2022-10-07T23:23:27.766Z"
   },
   {
    "duration": 38,
    "start_time": "2022-10-07T23:23:52.301Z"
   },
   {
    "duration": 16,
    "start_time": "2022-10-07T23:23:58.250Z"
   },
   {
    "duration": 11,
    "start_time": "2022-10-07T23:24:13.739Z"
   },
   {
    "duration": 14,
    "start_time": "2022-10-07T23:35:48.225Z"
   },
   {
    "duration": 28,
    "start_time": "2022-10-07T23:35:53.216Z"
   },
   {
    "duration": 58,
    "start_time": "2022-10-07T23:36:48.823Z"
   },
   {
    "duration": 50,
    "start_time": "2022-10-07T23:55:01.848Z"
   },
   {
    "duration": 18,
    "start_time": "2022-10-07T23:55:11.732Z"
   },
   {
    "duration": 12,
    "start_time": "2022-10-07T23:55:20.668Z"
   },
   {
    "duration": 817,
    "start_time": "2022-10-07T23:56:09.026Z"
   },
   {
    "duration": 8,
    "start_time": "2022-10-07T23:56:15.527Z"
   },
   {
    "duration": 34,
    "start_time": "2022-10-07T23:58:47.432Z"
   },
   {
    "duration": 12,
    "start_time": "2022-10-07T23:58:47.569Z"
   },
   {
    "duration": 19,
    "start_time": "2022-10-07T23:58:56.849Z"
   },
   {
    "duration": 11,
    "start_time": "2022-10-07T23:58:57.244Z"
   },
   {
    "duration": 696,
    "start_time": "2022-10-07T23:59:33.617Z"
   },
   {
    "duration": 12,
    "start_time": "2022-10-07T23:59:45.098Z"
   },
   {
    "duration": 16,
    "start_time": "2022-10-07T23:59:56.022Z"
   },
   {
    "duration": 10,
    "start_time": "2022-10-08T00:00:03.029Z"
   },
   {
    "duration": 17,
    "start_time": "2022-10-08T00:00:10.378Z"
   },
   {
    "duration": 8,
    "start_time": "2022-10-08T00:00:16.243Z"
   },
   {
    "duration": 6,
    "start_time": "2022-10-08T00:00:30.442Z"
   },
   {
    "duration": 12,
    "start_time": "2022-10-08T00:00:56.842Z"
   },
   {
    "duration": 4,
    "start_time": "2022-10-08T00:01:05.194Z"
   },
   {
    "duration": 15,
    "start_time": "2022-10-08T00:01:49.162Z"
   },
   {
    "duration": 3,
    "start_time": "2022-10-08T00:01:59.817Z"
   },
   {
    "duration": 10,
    "start_time": "2022-10-08T00:02:01.744Z"
   },
   {
    "duration": 18,
    "start_time": "2022-10-08T00:02:10.896Z"
   },
   {
    "duration": 3,
    "start_time": "2022-10-08T00:02:26.319Z"
   },
   {
    "duration": 10,
    "start_time": "2022-10-08T00:02:29.238Z"
   },
   {
    "duration": 7,
    "start_time": "2022-10-08T00:02:33.626Z"
   },
   {
    "duration": 10,
    "start_time": "2022-10-08T00:02:57.679Z"
   },
   {
    "duration": 5,
    "start_time": "2022-10-08T00:03:27.462Z"
   },
   {
    "duration": 4,
    "start_time": "2022-10-08T00:04:06.222Z"
   },
   {
    "duration": 4,
    "start_time": "2022-10-08T00:04:06.579Z"
   },
   {
    "duration": 5,
    "start_time": "2022-10-08T00:04:07.011Z"
   },
   {
    "duration": 9,
    "start_time": "2022-10-08T00:04:15.446Z"
   },
   {
    "duration": 7,
    "start_time": "2022-10-08T00:04:40.141Z"
   },
   {
    "duration": 7,
    "start_time": "2022-10-08T00:05:03.436Z"
   },
   {
    "duration": 5,
    "start_time": "2022-10-08T00:05:27.112Z"
   },
   {
    "duration": 11,
    "start_time": "2022-10-08T00:05:35.857Z"
   },
   {
    "duration": 9,
    "start_time": "2022-10-08T00:06:13.063Z"
   },
   {
    "duration": 5,
    "start_time": "2022-10-08T00:06:22.690Z"
   },
   {
    "duration": 16,
    "start_time": "2022-10-08T00:06:25.023Z"
   },
   {
    "duration": 5,
    "start_time": "2022-10-08T00:06:33.058Z"
   },
   {
    "duration": 16,
    "start_time": "2022-10-08T00:06:33.523Z"
   },
   {
    "duration": 11,
    "start_time": "2022-10-08T00:06:35.574Z"
   },
   {
    "duration": 179,
    "start_time": "2022-10-08T00:06:46.529Z"
   },
   {
    "duration": 157,
    "start_time": "2022-10-08T00:06:52.679Z"
   },
   {
    "duration": 7,
    "start_time": "2022-10-08T00:06:57.382Z"
   },
   {
    "duration": 157,
    "start_time": "2022-10-08T00:07:02.012Z"
   },
   {
    "duration": 172,
    "start_time": "2022-10-08T00:07:10.241Z"
   },
   {
    "duration": 177,
    "start_time": "2022-10-08T00:07:13.560Z"
   },
   {
    "duration": 176,
    "start_time": "2022-10-08T00:07:16.574Z"
   },
   {
    "duration": 216,
    "start_time": "2022-10-08T00:07:19.985Z"
   },
   {
    "duration": 178,
    "start_time": "2022-10-08T00:07:28.050Z"
   },
   {
    "duration": 157,
    "start_time": "2022-10-08T00:07:32.869Z"
   },
   {
    "duration": 175,
    "start_time": "2022-10-08T00:07:37.454Z"
   },
   {
    "duration": 418,
    "start_time": "2022-10-08T00:07:41.755Z"
   },
   {
    "duration": 175,
    "start_time": "2022-10-08T00:07:49.412Z"
   },
   {
    "duration": 179,
    "start_time": "2022-10-08T00:08:01.153Z"
   },
   {
    "duration": 154,
    "start_time": "2022-10-08T00:08:09.195Z"
   },
   {
    "duration": 198,
    "start_time": "2022-10-08T00:08:54.216Z"
   },
   {
    "duration": 195,
    "start_time": "2022-10-08T00:09:04.150Z"
   },
   {
    "duration": 177,
    "start_time": "2022-10-08T00:09:06.598Z"
   },
   {
    "duration": 152,
    "start_time": "2022-10-08T00:09:08.808Z"
   },
   {
    "duration": 160,
    "start_time": "2022-10-08T00:09:12.447Z"
   },
   {
    "duration": 162,
    "start_time": "2022-10-08T00:09:17.518Z"
   },
   {
    "duration": 163,
    "start_time": "2022-10-08T00:09:23.362Z"
   },
   {
    "duration": 154,
    "start_time": "2022-10-08T00:09:26.832Z"
   },
   {
    "duration": 214,
    "start_time": "2022-10-08T00:09:31.314Z"
   },
   {
    "duration": 141,
    "start_time": "2022-10-08T00:09:36.380Z"
   },
   {
    "duration": 153,
    "start_time": "2022-10-08T00:09:48.226Z"
   },
   {
    "duration": 165,
    "start_time": "2022-10-08T00:10:07.334Z"
   },
   {
    "duration": 26,
    "start_time": "2022-10-08T00:10:43.216Z"
   },
   {
    "duration": 13,
    "start_time": "2022-10-08T00:10:44.200Z"
   },
   {
    "duration": 8,
    "start_time": "2022-10-08T00:11:19.686Z"
   },
   {
    "duration": 11,
    "start_time": "2022-10-08T00:12:15.168Z"
   },
   {
    "duration": 9,
    "start_time": "2022-10-08T00:12:23.054Z"
   },
   {
    "duration": 10,
    "start_time": "2022-10-08T00:12:26.854Z"
   },
   {
    "duration": 7,
    "start_time": "2022-10-08T00:12:32.718Z"
   },
   {
    "duration": 20,
    "start_time": "2022-10-08T00:12:33.435Z"
   },
   {
    "duration": 18,
    "start_time": "2022-10-08T00:12:35.290Z"
   },
   {
    "duration": 9,
    "start_time": "2022-10-08T00:12:38.731Z"
   },
   {
    "duration": 7,
    "start_time": "2022-10-08T00:13:09.276Z"
   },
   {
    "duration": 7,
    "start_time": "2022-10-08T00:13:10.594Z"
   },
   {
    "duration": 7,
    "start_time": "2022-10-08T00:13:31.119Z"
   },
   {
    "duration": 8,
    "start_time": "2022-10-08T00:13:32.461Z"
   },
   {
    "duration": 991,
    "start_time": "2022-10-08T12:18:12.442Z"
   },
   {
    "duration": 1030,
    "start_time": "2022-10-08T12:18:13.435Z"
   },
   {
    "duration": 27,
    "start_time": "2022-10-08T12:18:14.466Z"
   },
   {
    "duration": 15,
    "start_time": "2022-10-08T12:18:14.495Z"
   },
   {
    "duration": 20,
    "start_time": "2022-10-08T12:18:14.511Z"
   },
   {
    "duration": 20,
    "start_time": "2022-10-08T12:18:14.533Z"
   },
   {
    "duration": 7,
    "start_time": "2022-10-08T12:18:14.554Z"
   },
   {
    "duration": 21,
    "start_time": "2022-10-08T12:18:14.563Z"
   },
   {
    "duration": 8,
    "start_time": "2022-10-08T12:18:14.585Z"
   },
   {
    "duration": 9,
    "start_time": "2022-10-08T12:18:14.595Z"
   },
   {
    "duration": 35,
    "start_time": "2022-10-08T12:18:14.606Z"
   },
   {
    "duration": 15,
    "start_time": "2022-10-08T12:18:14.644Z"
   },
   {
    "duration": 15,
    "start_time": "2022-10-08T12:18:14.661Z"
   },
   {
    "duration": 114,
    "start_time": "2022-10-08T12:18:14.677Z"
   },
   {
    "duration": 58,
    "start_time": "2022-10-08T12:18:14.793Z"
   },
   {
    "duration": 42,
    "start_time": "2022-10-08T12:18:14.852Z"
   },
   {
    "duration": 5,
    "start_time": "2022-10-08T12:18:14.895Z"
   },
   {
    "duration": 8,
    "start_time": "2022-10-08T12:18:14.902Z"
   },
   {
    "duration": 74,
    "start_time": "2022-10-08T12:18:14.911Z"
   },
   {
    "duration": 4,
    "start_time": "2022-10-08T12:18:14.987Z"
   },
   {
    "duration": 17,
    "start_time": "2022-10-08T12:18:14.992Z"
   },
   {
    "duration": 26,
    "start_time": "2022-10-08T12:18:15.010Z"
   },
   {
    "duration": 13,
    "start_time": "2022-10-08T12:18:15.041Z"
   },
   {
    "duration": 4,
    "start_time": "2022-10-08T12:18:15.056Z"
   },
   {
    "duration": 10,
    "start_time": "2022-10-08T12:18:15.061Z"
   },
   {
    "duration": 16,
    "start_time": "2022-10-08T12:18:15.073Z"
   },
   {
    "duration": 15,
    "start_time": "2022-10-08T12:18:15.090Z"
   },
   {
    "duration": 14,
    "start_time": "2022-10-08T12:18:15.109Z"
   },
   {
    "duration": 42,
    "start_time": "2022-10-08T12:18:15.124Z"
   },
   {
    "duration": 8,
    "start_time": "2022-10-08T12:18:15.168Z"
   },
   {
    "duration": 39,
    "start_time": "2022-10-08T12:18:15.178Z"
   },
   {
    "duration": 32,
    "start_time": "2022-10-08T12:18:15.219Z"
   },
   {
    "duration": 941,
    "start_time": "2022-10-08T12:18:15.253Z"
   },
   {
    "duration": 8,
    "start_time": "2022-10-08T12:18:16.196Z"
   },
   {
    "duration": 29,
    "start_time": "2022-10-08T12:18:16.206Z"
   },
   {
    "duration": 26,
    "start_time": "2022-10-08T12:18:16.238Z"
   },
   {
    "duration": 23,
    "start_time": "2022-10-08T12:18:16.266Z"
   },
   {
    "duration": 99,
    "start_time": "2022-10-08T12:18:16.292Z"
   },
   {
    "duration": 30,
    "start_time": "2022-10-08T12:18:16.393Z"
   },
   {
    "duration": 81,
    "start_time": "2022-10-08T12:18:16.433Z"
   },
   {
    "duration": 24,
    "start_time": "2022-10-08T12:18:16.517Z"
   },
   {
    "duration": 62,
    "start_time": "2022-10-08T12:18:16.543Z"
   },
   {
    "duration": 147,
    "start_time": "2022-10-08T12:18:16.607Z"
   },
   {
    "duration": 27,
    "start_time": "2022-10-08T12:18:16.756Z"
   },
   {
    "duration": 189,
    "start_time": "2022-10-08T12:18:16.785Z"
   },
   {
    "duration": 26,
    "start_time": "2022-10-08T12:18:16.976Z"
   },
   {
    "duration": 54,
    "start_time": "2022-10-08T12:18:17.003Z"
   },
   {
    "duration": 34,
    "start_time": "2022-10-08T12:18:17.059Z"
   },
   {
    "duration": 9,
    "start_time": "2022-10-08T12:18:17.095Z"
   },
   {
    "duration": 29,
    "start_time": "2022-10-08T12:18:17.105Z"
   },
   {
    "duration": 32,
    "start_time": "2022-10-08T12:18:17.137Z"
   },
   {
    "duration": 42,
    "start_time": "2022-10-08T12:18:17.170Z"
   },
   {
    "duration": 62,
    "start_time": "2022-10-08T12:18:17.214Z"
   },
   {
    "duration": 10,
    "start_time": "2022-10-08T12:18:17.278Z"
   },
   {
    "duration": 13,
    "start_time": "2022-10-08T12:18:17.290Z"
   },
   {
    "duration": 19,
    "start_time": "2022-10-08T12:18:17.305Z"
   },
   {
    "duration": 9,
    "start_time": "2022-10-08T12:18:17.334Z"
   },
   {
    "duration": 20,
    "start_time": "2022-10-08T12:18:17.346Z"
   },
   {
    "duration": 6,
    "start_time": "2022-10-08T12:18:17.367Z"
   },
   {
    "duration": 9,
    "start_time": "2022-10-08T12:18:17.374Z"
   },
   {
    "duration": 10,
    "start_time": "2022-10-08T12:18:17.385Z"
   },
   {
    "duration": 7,
    "start_time": "2022-10-08T12:18:17.397Z"
   },
   {
    "duration": 11,
    "start_time": "2022-10-08T12:18:17.405Z"
   },
   {
    "duration": 12,
    "start_time": "2022-10-08T12:18:17.417Z"
   },
   {
    "duration": 21,
    "start_time": "2022-10-08T12:18:17.433Z"
   },
   {
    "duration": 6,
    "start_time": "2022-10-08T12:18:17.456Z"
   },
   {
    "duration": 7,
    "start_time": "2022-10-08T12:18:17.463Z"
   },
   {
    "duration": 4,
    "start_time": "2022-10-08T12:18:17.472Z"
   },
   {
    "duration": 25,
    "start_time": "2022-10-08T12:18:17.478Z"
   },
   {
    "duration": 3,
    "start_time": "2022-10-08T12:18:17.505Z"
   },
   {
    "duration": 17,
    "start_time": "2022-10-08T12:18:17.509Z"
   },
   {
    "duration": 6,
    "start_time": "2022-10-08T12:18:17.528Z"
   },
   {
    "duration": 32,
    "start_time": "2022-10-08T12:18:17.537Z"
   },
   {
    "duration": 11,
    "start_time": "2022-10-08T12:18:17.571Z"
   },
   {
    "duration": 197,
    "start_time": "2022-10-08T12:18:17.584Z"
   },
   {
    "duration": 168,
    "start_time": "2022-10-08T12:18:17.782Z"
   },
   {
    "duration": 6,
    "start_time": "2022-10-08T12:18:17.951Z"
   },
   {
    "duration": 232,
    "start_time": "2022-10-08T12:18:17.959Z"
   },
   {
    "duration": 192,
    "start_time": "2022-10-08T12:18:18.193Z"
   },
   {
    "duration": 186,
    "start_time": "2022-10-08T12:18:18.387Z"
   },
   {
    "duration": 179,
    "start_time": "2022-10-08T12:18:18.574Z"
   },
   {
    "duration": 24,
    "start_time": "2022-10-08T12:18:18.759Z"
   },
   {
    "duration": 14,
    "start_time": "2022-10-08T12:18:18.786Z"
   },
   {
    "duration": 12,
    "start_time": "2022-10-08T12:18:18.802Z"
   },
   {
    "duration": 8,
    "start_time": "2022-10-08T12:18:18.835Z"
   },
   {
    "duration": 24,
    "start_time": "2022-10-08T12:18:18.846Z"
   },
   {
    "duration": 18,
    "start_time": "2022-10-08T12:18:18.872Z"
   },
   {
    "duration": 7,
    "start_time": "2022-10-08T12:18:18.893Z"
   },
   {
    "duration": 9,
    "start_time": "2022-10-08T12:18:18.901Z"
   },
   {
    "duration": 29,
    "start_time": "2022-10-08T12:18:18.912Z"
   },
   {
    "duration": 14,
    "start_time": "2022-10-08T12:18:18.943Z"
   },
   {
    "duration": 7,
    "start_time": "2022-10-08T12:18:18.959Z"
   },
   {
    "duration": 13,
    "start_time": "2022-10-08T12:27:05.940Z"
   },
   {
    "duration": 4,
    "start_time": "2022-10-08T12:53:30.626Z"
   },
   {
    "duration": 20,
    "start_time": "2022-10-08T13:14:25.968Z"
   },
   {
    "duration": 93,
    "start_time": "2022-10-08T13:14:57.875Z"
   },
   {
    "duration": 799,
    "start_time": "2022-10-08T13:15:22.662Z"
   },
   {
    "duration": 224,
    "start_time": "2022-10-08T13:15:49.892Z"
   },
   {
    "duration": 6,
    "start_time": "2022-10-08T13:34:56.317Z"
   },
   {
    "duration": 10,
    "start_time": "2022-10-08T13:35:18.845Z"
   },
   {
    "duration": 51,
    "start_time": "2022-10-08T13:36:14.942Z"
   },
   {
    "duration": 5,
    "start_time": "2022-10-08T13:36:22.249Z"
   },
   {
    "duration": 7,
    "start_time": "2022-10-08T13:37:04.848Z"
   },
   {
    "duration": 7,
    "start_time": "2022-10-08T13:37:31.473Z"
   },
   {
    "duration": 6,
    "start_time": "2022-10-08T13:39:54.501Z"
   },
   {
    "duration": 851,
    "start_time": "2022-10-11T20:39:49.637Z"
   },
   {
    "duration": 1109,
    "start_time": "2022-10-11T20:39:53.875Z"
   },
   {
    "duration": 30,
    "start_time": "2022-10-11T20:39:54.987Z"
   },
   {
    "duration": 14,
    "start_time": "2022-10-11T20:39:57.232Z"
   },
   {
    "duration": 18,
    "start_time": "2022-10-11T20:40:00.405Z"
   },
   {
    "duration": 12,
    "start_time": "2022-10-11T20:40:04.117Z"
   },
   {
    "duration": 3,
    "start_time": "2022-10-11T20:40:07.075Z"
   },
   {
    "duration": 15,
    "start_time": "2022-10-11T20:40:07.875Z"
   },
   {
    "duration": 8,
    "start_time": "2022-10-11T20:40:09.863Z"
   },
   {
    "duration": 9,
    "start_time": "2022-10-11T20:40:10.532Z"
   },
   {
    "duration": 7,
    "start_time": "2022-10-11T20:40:11.048Z"
   },
   {
    "duration": 9,
    "start_time": "2022-10-11T20:40:12.955Z"
   },
   {
    "duration": 11,
    "start_time": "2022-10-11T20:40:13.141Z"
   },
   {
    "duration": 101,
    "start_time": "2022-10-11T20:40:14.954Z"
   },
   {
    "duration": 47,
    "start_time": "2022-10-11T20:40:15.370Z"
   },
   {
    "duration": 44,
    "start_time": "2022-10-11T20:40:16.905Z"
   },
   {
    "duration": 6,
    "start_time": "2022-10-11T20:40:17.152Z"
   },
   {
    "duration": 6,
    "start_time": "2022-10-11T20:40:17.438Z"
   },
   {
    "duration": 44,
    "start_time": "2022-10-11T20:40:32.929Z"
   },
   {
    "duration": 4,
    "start_time": "2022-10-11T20:40:36.084Z"
   },
   {
    "duration": 14,
    "start_time": "2022-10-11T20:40:37.805Z"
   },
   {
    "duration": 9,
    "start_time": "2022-10-11T20:40:40.238Z"
   },
   {
    "duration": 5,
    "start_time": "2022-10-11T20:40:40.763Z"
   },
   {
    "duration": 4,
    "start_time": "2022-10-11T20:40:45.319Z"
   },
   {
    "duration": 5,
    "start_time": "2022-10-11T20:40:46.824Z"
   },
   {
    "duration": 874,
    "start_time": "2022-10-11T20:44:54.316Z"
   },
   {
    "duration": 404,
    "start_time": "2022-10-11T20:44:55.192Z"
   },
   {
    "duration": 20,
    "start_time": "2022-10-11T20:44:55.598Z"
   },
   {
    "duration": 14,
    "start_time": "2022-10-11T20:44:55.620Z"
   },
   {
    "duration": 17,
    "start_time": "2022-10-11T20:44:55.636Z"
   },
   {
    "duration": 12,
    "start_time": "2022-10-11T20:44:55.654Z"
   },
   {
    "duration": 3,
    "start_time": "2022-10-11T20:44:55.668Z"
   },
   {
    "duration": 43,
    "start_time": "2022-10-11T20:44:55.673Z"
   },
   {
    "duration": 8,
    "start_time": "2022-10-11T20:44:55.718Z"
   },
   {
    "duration": 12,
    "start_time": "2022-10-11T20:44:55.727Z"
   },
   {
    "duration": 14,
    "start_time": "2022-10-11T20:44:55.741Z"
   },
   {
    "duration": 12,
    "start_time": "2022-10-11T20:44:55.756Z"
   },
   {
    "duration": 33,
    "start_time": "2022-10-11T20:44:55.769Z"
   },
   {
    "duration": 100,
    "start_time": "2022-10-11T20:44:55.805Z"
   },
   {
    "duration": 45,
    "start_time": "2022-10-11T20:44:55.907Z"
   },
   {
    "duration": 60,
    "start_time": "2022-10-11T20:44:55.954Z"
   },
   {
    "duration": 6,
    "start_time": "2022-10-11T20:44:56.016Z"
   },
   {
    "duration": 6,
    "start_time": "2022-10-11T20:44:56.023Z"
   },
   {
    "duration": 50,
    "start_time": "2022-10-11T20:44:56.031Z"
   },
   {
    "duration": 17,
    "start_time": "2022-10-11T20:44:56.083Z"
   },
   {
    "duration": 15,
    "start_time": "2022-10-11T20:44:56.102Z"
   },
   {
    "duration": 7,
    "start_time": "2022-10-11T20:44:56.118Z"
   },
   {
    "duration": 6,
    "start_time": "2022-10-11T20:44:56.126Z"
   },
   {
    "duration": 5,
    "start_time": "2022-10-11T20:44:56.133Z"
   },
   {
    "duration": 7,
    "start_time": "2022-10-11T20:44:56.140Z"
   },
   {
    "duration": 14,
    "start_time": "2022-10-11T20:44:56.149Z"
   },
   {
    "duration": 12,
    "start_time": "2022-10-11T20:44:56.164Z"
   },
   {
    "duration": 7,
    "start_time": "2022-10-11T20:44:56.201Z"
   },
   {
    "duration": 15,
    "start_time": "2022-10-11T20:44:56.209Z"
   },
   {
    "duration": 30,
    "start_time": "2022-10-11T20:44:56.226Z"
   },
   {
    "duration": 7,
    "start_time": "2022-10-11T20:44:56.258Z"
   },
   {
    "duration": 56,
    "start_time": "2022-10-11T20:44:56.266Z"
   },
   {
    "duration": 14,
    "start_time": "2022-10-11T20:44:56.323Z"
   },
   {
    "duration": 869,
    "start_time": "2022-10-11T20:44:56.339Z"
   },
   {
    "duration": 8,
    "start_time": "2022-10-11T20:44:57.209Z"
   },
   {
    "duration": 26,
    "start_time": "2022-10-11T20:44:57.218Z"
   },
   {
    "duration": 8,
    "start_time": "2022-10-11T20:44:57.246Z"
   },
   {
    "duration": 7,
    "start_time": "2022-10-11T20:44:57.255Z"
   },
   {
    "duration": 88,
    "start_time": "2022-10-11T20:44:57.264Z"
   },
   {
    "duration": 23,
    "start_time": "2022-10-11T20:44:57.354Z"
   },
   {
    "duration": 88,
    "start_time": "2022-10-11T20:44:57.382Z"
   },
   {
    "duration": 10,
    "start_time": "2022-10-11T20:44:57.472Z"
   },
   {
    "duration": 39,
    "start_time": "2022-10-11T20:44:57.483Z"
   },
   {
    "duration": 131,
    "start_time": "2022-10-11T20:44:57.523Z"
   },
   {
    "duration": 27,
    "start_time": "2022-10-11T20:44:57.655Z"
   },
   {
    "duration": 180,
    "start_time": "2022-10-11T20:44:57.684Z"
   },
   {
    "duration": 26,
    "start_time": "2022-10-11T20:44:57.865Z"
   },
   {
    "duration": 35,
    "start_time": "2022-10-11T20:44:57.899Z"
   },
   {
    "duration": 32,
    "start_time": "2022-10-11T20:44:57.936Z"
   },
   {
    "duration": 9,
    "start_time": "2022-10-11T20:44:57.970Z"
   },
   {
    "duration": 12,
    "start_time": "2022-10-11T20:44:58.001Z"
   },
   {
    "duration": 31,
    "start_time": "2022-10-11T20:44:58.014Z"
   },
   {
    "duration": 69,
    "start_time": "2022-10-11T20:44:58.047Z"
   },
   {
    "duration": 36,
    "start_time": "2022-10-11T20:44:58.117Z"
   },
   {
    "duration": 9,
    "start_time": "2022-10-11T20:44:58.155Z"
   },
   {
    "duration": 8,
    "start_time": "2022-10-11T20:44:58.166Z"
   },
   {
    "duration": 28,
    "start_time": "2022-10-11T20:44:58.176Z"
   },
   {
    "duration": 3,
    "start_time": "2022-10-11T20:44:58.206Z"
   },
   {
    "duration": 21,
    "start_time": "2022-10-11T20:44:58.210Z"
   },
   {
    "duration": 103,
    "start_time": "2022-10-11T20:44:58.232Z"
   },
   {
    "duration": 0,
    "start_time": "2022-10-11T20:44:58.336Z"
   },
   {
    "duration": 0,
    "start_time": "2022-10-11T20:44:58.338Z"
   },
   {
    "duration": 0,
    "start_time": "2022-10-11T20:44:58.338Z"
   },
   {
    "duration": 0,
    "start_time": "2022-10-11T20:44:58.340Z"
   },
   {
    "duration": 0,
    "start_time": "2022-10-11T20:44:58.341Z"
   },
   {
    "duration": 0,
    "start_time": "2022-10-11T20:44:58.341Z"
   },
   {
    "duration": 0,
    "start_time": "2022-10-11T20:44:58.342Z"
   },
   {
    "duration": 0,
    "start_time": "2022-10-11T20:44:58.344Z"
   },
   {
    "duration": 0,
    "start_time": "2022-10-11T20:44:58.345Z"
   },
   {
    "duration": 0,
    "start_time": "2022-10-11T20:44:58.346Z"
   },
   {
    "duration": 0,
    "start_time": "2022-10-11T20:44:58.347Z"
   },
   {
    "duration": 0,
    "start_time": "2022-10-11T20:44:58.348Z"
   },
   {
    "duration": 0,
    "start_time": "2022-10-11T20:44:58.348Z"
   },
   {
    "duration": 0,
    "start_time": "2022-10-11T20:44:58.349Z"
   },
   {
    "duration": 1,
    "start_time": "2022-10-11T20:44:58.350Z"
   },
   {
    "duration": 0,
    "start_time": "2022-10-11T20:44:58.352Z"
   },
   {
    "duration": 0,
    "start_time": "2022-10-11T20:44:58.353Z"
   },
   {
    "duration": 0,
    "start_time": "2022-10-11T20:44:58.354Z"
   },
   {
    "duration": 0,
    "start_time": "2022-10-11T20:44:58.355Z"
   },
   {
    "duration": 0,
    "start_time": "2022-10-11T20:44:58.356Z"
   },
   {
    "duration": 0,
    "start_time": "2022-10-11T20:44:58.357Z"
   },
   {
    "duration": 0,
    "start_time": "2022-10-11T20:44:58.358Z"
   },
   {
    "duration": 0,
    "start_time": "2022-10-11T20:44:58.401Z"
   },
   {
    "duration": 0,
    "start_time": "2022-10-11T20:44:58.402Z"
   },
   {
    "duration": 0,
    "start_time": "2022-10-11T20:44:58.403Z"
   },
   {
    "duration": 0,
    "start_time": "2022-10-11T20:44:58.404Z"
   },
   {
    "duration": 0,
    "start_time": "2022-10-11T20:44:58.405Z"
   },
   {
    "duration": 0,
    "start_time": "2022-10-11T20:44:58.406Z"
   },
   {
    "duration": 0,
    "start_time": "2022-10-11T20:44:58.407Z"
   },
   {
    "duration": 0,
    "start_time": "2022-10-11T20:44:58.408Z"
   },
   {
    "duration": 0,
    "start_time": "2022-10-11T20:44:58.409Z"
   },
   {
    "duration": 0,
    "start_time": "2022-10-11T20:44:58.410Z"
   },
   {
    "duration": 0,
    "start_time": "2022-10-11T20:44:58.411Z"
   },
   {
    "duration": 0,
    "start_time": "2022-10-11T20:44:58.412Z"
   },
   {
    "duration": 0,
    "start_time": "2022-10-11T20:44:58.413Z"
   },
   {
    "duration": 0,
    "start_time": "2022-10-11T20:44:58.414Z"
   },
   {
    "duration": 0,
    "start_time": "2022-10-11T20:44:58.415Z"
   },
   {
    "duration": 0,
    "start_time": "2022-10-11T20:44:58.416Z"
   },
   {
    "duration": 8,
    "start_time": "2022-10-11T20:58:29.591Z"
   },
   {
    "duration": 5,
    "start_time": "2022-10-11T21:21:52.755Z"
   },
   {
    "duration": 6,
    "start_time": "2022-10-11T21:21:57.356Z"
   },
   {
    "duration": 5,
    "start_time": "2022-10-11T21:22:54.716Z"
   },
   {
    "duration": 6,
    "start_time": "2022-10-11T21:23:22.915Z"
   },
   {
    "duration": 4,
    "start_time": "2022-10-11T21:27:59.040Z"
   },
   {
    "duration": 9,
    "start_time": "2022-10-11T21:28:08.035Z"
   },
   {
    "duration": 5,
    "start_time": "2022-10-11T21:28:12.595Z"
   },
   {
    "duration": 5,
    "start_time": "2022-10-11T21:28:20.399Z"
   },
   {
    "duration": 1031,
    "start_time": "2022-10-12T15:44:01.847Z"
   },
   {
    "duration": 1606,
    "start_time": "2022-10-12T15:44:02.880Z"
   },
   {
    "duration": 30,
    "start_time": "2022-10-12T15:44:04.488Z"
   },
   {
    "duration": 20,
    "start_time": "2022-10-12T15:44:04.521Z"
   },
   {
    "duration": 19,
    "start_time": "2022-10-12T15:44:04.542Z"
   },
   {
    "duration": 52,
    "start_time": "2022-10-12T15:44:04.562Z"
   },
   {
    "duration": 22,
    "start_time": "2022-10-12T15:44:04.615Z"
   },
   {
    "duration": 27,
    "start_time": "2022-10-12T15:44:04.639Z"
   },
   {
    "duration": 14,
    "start_time": "2022-10-12T15:44:04.669Z"
   },
   {
    "duration": 21,
    "start_time": "2022-10-12T15:44:04.710Z"
   },
   {
    "duration": 8,
    "start_time": "2022-10-12T15:44:04.958Z"
   },
   {
    "duration": 6,
    "start_time": "2022-10-12T15:44:05.538Z"
   },
   {
    "duration": 11,
    "start_time": "2022-10-12T15:44:06.255Z"
   },
   {
    "duration": 8,
    "start_time": "2022-10-12T15:44:06.672Z"
   },
   {
    "duration": 11,
    "start_time": "2022-10-12T15:44:08.729Z"
   },
   {
    "duration": 12,
    "start_time": "2022-10-12T15:44:09.306Z"
   },
   {
    "duration": 134,
    "start_time": "2022-10-12T15:44:11.741Z"
   },
   {
    "duration": 58,
    "start_time": "2022-10-12T15:44:12.220Z"
   },
   {
    "duration": 55,
    "start_time": "2022-10-12T15:44:12.528Z"
   },
   {
    "duration": 7,
    "start_time": "2022-10-12T15:44:12.826Z"
   },
   {
    "duration": 6,
    "start_time": "2022-10-12T15:44:15.533Z"
   },
   {
    "duration": 105,
    "start_time": "2022-10-12T15:44:36.310Z"
   },
   {
    "duration": 5,
    "start_time": "2022-10-12T15:44:45.175Z"
   },
   {
    "duration": 7,
    "start_time": "2022-10-12T15:44:49.245Z"
   },
   {
    "duration": 74,
    "start_time": "2022-10-12T15:46:46.957Z"
   },
   {
    "duration": 61,
    "start_time": "2022-10-12T15:50:52.092Z"
   },
   {
    "duration": 5,
    "start_time": "2022-10-12T15:50:57.610Z"
   },
   {
    "duration": 16,
    "start_time": "2022-10-12T15:50:59.806Z"
   },
   {
    "duration": 9,
    "start_time": "2022-10-12T15:51:00.550Z"
   },
   {
    "duration": 6,
    "start_time": "2022-10-12T15:51:02.098Z"
   },
   {
    "duration": 1061,
    "start_time": "2022-10-17T21:03:46.170Z"
   },
   {
    "duration": 1440,
    "start_time": "2022-10-17T21:03:47.233Z"
   },
   {
    "duration": 27,
    "start_time": "2022-10-17T21:03:48.675Z"
   },
   {
    "duration": 90,
    "start_time": "2022-10-17T21:21:43.915Z"
   },
   {
    "duration": 2,
    "start_time": "2022-10-17T21:21:49.171Z"
   },
   {
    "duration": 473,
    "start_time": "2022-10-17T21:21:49.175Z"
   },
   {
    "duration": 27,
    "start_time": "2022-10-17T21:21:49.649Z"
   },
   {
    "duration": 25,
    "start_time": "2022-10-17T21:21:49.678Z"
   },
   {
    "duration": 6,
    "start_time": "2022-10-17T21:21:49.706Z"
   },
   {
    "duration": 42,
    "start_time": "2022-10-17T21:21:49.713Z"
   },
   {
    "duration": 12,
    "start_time": "2022-10-17T21:21:49.757Z"
   },
   {
    "duration": 9,
    "start_time": "2022-10-17T21:21:49.771Z"
   },
   {
    "duration": 16,
    "start_time": "2022-10-17T21:21:49.781Z"
   },
   {
    "duration": 31,
    "start_time": "2022-10-17T21:21:49.798Z"
   },
   {
    "duration": 22,
    "start_time": "2022-10-17T21:21:49.831Z"
   },
   {
    "duration": 21,
    "start_time": "2022-10-17T21:21:49.854Z"
   },
   {
    "duration": 27,
    "start_time": "2022-10-17T21:21:49.877Z"
   },
   {
    "duration": 19,
    "start_time": "2022-10-17T21:21:49.909Z"
   },
   {
    "duration": 31,
    "start_time": "2022-10-17T21:21:49.930Z"
   },
   {
    "duration": 41,
    "start_time": "2022-10-17T21:21:49.963Z"
   },
   {
    "duration": 62,
    "start_time": "2022-10-17T21:21:50.006Z"
   },
   {
    "duration": 5,
    "start_time": "2022-10-17T21:21:50.070Z"
   },
   {
    "duration": 27,
    "start_time": "2022-10-17T21:21:50.077Z"
   },
   {
    "duration": 12,
    "start_time": "2022-10-17T21:21:50.105Z"
   },
   {
    "duration": 12,
    "start_time": "2022-10-17T21:21:50.118Z"
   },
   {
    "duration": 8,
    "start_time": "2022-10-17T21:21:50.131Z"
   },
   {
    "duration": 18,
    "start_time": "2022-10-17T21:21:50.141Z"
   },
   {
    "duration": 23,
    "start_time": "2022-10-17T21:21:50.161Z"
   },
   {
    "duration": 26,
    "start_time": "2022-10-17T21:21:50.185Z"
   },
   {
    "duration": 25,
    "start_time": "2022-10-17T21:21:50.213Z"
   },
   {
    "duration": 43,
    "start_time": "2022-10-17T21:21:50.240Z"
   },
   {
    "duration": 61,
    "start_time": "2022-10-17T21:21:50.285Z"
   },
   {
    "duration": 9,
    "start_time": "2022-10-17T21:21:50.348Z"
   },
   {
    "duration": 72,
    "start_time": "2022-10-17T21:21:50.358Z"
   },
   {
    "duration": 18,
    "start_time": "2022-10-17T21:21:50.432Z"
   },
   {
    "duration": 1004,
    "start_time": "2022-10-17T21:21:50.451Z"
   },
   {
    "duration": 9,
    "start_time": "2022-10-17T21:21:51.456Z"
   },
   {
    "duration": 44,
    "start_time": "2022-10-17T21:21:51.466Z"
   },
   {
    "duration": 17,
    "start_time": "2022-10-17T21:21:51.511Z"
   },
   {
    "duration": 23,
    "start_time": "2022-10-17T21:21:51.530Z"
   },
   {
    "duration": 109,
    "start_time": "2022-10-17T21:21:51.554Z"
   },
   {
    "duration": 28,
    "start_time": "2022-10-17T21:21:51.665Z"
   },
   {
    "duration": 96,
    "start_time": "2022-10-17T21:21:51.696Z"
   },
   {
    "duration": 13,
    "start_time": "2022-10-17T21:21:51.794Z"
   },
   {
    "duration": 53,
    "start_time": "2022-10-17T21:21:51.812Z"
   },
   {
    "duration": 202,
    "start_time": "2022-10-17T21:21:51.867Z"
   },
   {
    "duration": 42,
    "start_time": "2022-10-17T21:21:52.072Z"
   },
   {
    "duration": 198,
    "start_time": "2022-10-17T21:21:52.116Z"
   },
   {
    "duration": 29,
    "start_time": "2022-10-17T21:21:52.316Z"
   },
   {
    "duration": 62,
    "start_time": "2022-10-17T21:21:52.347Z"
   },
   {
    "duration": 39,
    "start_time": "2022-10-17T21:21:52.411Z"
   },
   {
    "duration": 11,
    "start_time": "2022-10-17T21:21:52.451Z"
   },
   {
    "duration": 35,
    "start_time": "2022-10-17T21:21:52.464Z"
   },
   {
    "duration": 34,
    "start_time": "2022-10-17T21:21:52.501Z"
   },
   {
    "duration": 65,
    "start_time": "2022-10-17T21:21:52.537Z"
   },
   {
    "duration": 44,
    "start_time": "2022-10-17T21:21:52.604Z"
   },
   {
    "duration": 10,
    "start_time": "2022-10-17T21:21:52.650Z"
   },
   {
    "duration": 13,
    "start_time": "2022-10-17T21:21:52.662Z"
   },
   {
    "duration": 15,
    "start_time": "2022-10-17T21:21:52.690Z"
   },
   {
    "duration": 11,
    "start_time": "2022-10-17T21:21:52.706Z"
   },
   {
    "duration": 24,
    "start_time": "2022-10-17T21:21:52.719Z"
   },
   {
    "duration": 2,
    "start_time": "2022-10-17T21:21:52.745Z"
   },
   {
    "duration": 22,
    "start_time": "2022-10-17T21:21:52.749Z"
   },
   {
    "duration": 19,
    "start_time": "2022-10-17T21:21:52.773Z"
   },
   {
    "duration": 18,
    "start_time": "2022-10-17T21:21:52.794Z"
   },
   {
    "duration": 4,
    "start_time": "2022-10-17T21:21:52.814Z"
   },
   {
    "duration": 11,
    "start_time": "2022-10-17T21:21:52.820Z"
   },
   {
    "duration": 15,
    "start_time": "2022-10-17T21:21:52.833Z"
   },
   {
    "duration": 11,
    "start_time": "2022-10-17T21:21:52.850Z"
   },
   {
    "duration": 17,
    "start_time": "2022-10-17T21:21:52.863Z"
   },
   {
    "duration": 15,
    "start_time": "2022-10-17T21:21:52.881Z"
   },
   {
    "duration": 13,
    "start_time": "2022-10-17T21:21:52.898Z"
   },
   {
    "duration": 34,
    "start_time": "2022-10-17T21:21:52.912Z"
   },
   {
    "duration": 11,
    "start_time": "2022-10-17T21:21:52.948Z"
   },
   {
    "duration": 29,
    "start_time": "2022-10-17T21:21:52.961Z"
   },
   {
    "duration": 24,
    "start_time": "2022-10-17T21:21:52.992Z"
   },
   {
    "duration": 20,
    "start_time": "2022-10-17T21:21:53.018Z"
   },
   {
    "duration": 8,
    "start_time": "2022-10-17T21:22:04.904Z"
   },
   {
    "duration": 985,
    "start_time": "2022-10-20T14:24:04.570Z"
   },
   {
    "duration": 88,
    "start_time": "2022-10-20T14:24:40.288Z"
   },
   {
    "duration": 3,
    "start_time": "2022-10-20T14:24:55.209Z"
   },
   {
    "duration": 695,
    "start_time": "2022-10-20T14:24:55.849Z"
   },
   {
    "duration": 3,
    "start_time": "2022-10-20T14:24:57.288Z"
   },
   {
    "duration": 7,
    "start_time": "2022-10-20T14:25:05.569Z"
   },
   {
    "duration": 102,
    "start_time": "2022-10-20T14:25:34.809Z"
   },
   {
    "duration": 1034,
    "start_time": "2022-10-21T14:55:26.110Z"
   },
   {
    "duration": 1890,
    "start_time": "2022-10-21T14:55:27.146Z"
   },
   {
    "duration": 3,
    "start_time": "2022-10-21T14:55:29.038Z"
   },
   {
    "duration": 8,
    "start_time": "2022-10-21T14:55:29.042Z"
   },
   {
    "duration": 135,
    "start_time": "2022-10-21T14:55:30.260Z"
   },
   {
    "duration": 71,
    "start_time": "2022-10-21T14:56:09.316Z"
   },
   {
    "duration": 6,
    "start_time": "2022-10-21T14:56:13.896Z"
   },
   {
    "duration": 19,
    "start_time": "2022-10-21T14:56:26.936Z"
   },
   {
    "duration": 10,
    "start_time": "2022-10-21T14:56:29.187Z"
   },
   {
    "duration": 15,
    "start_time": "2022-10-21T14:56:29.420Z"
   },
   {
    "duration": 2,
    "start_time": "2022-10-21T14:56:58.347Z"
   },
   {
    "duration": 2,
    "start_time": "2022-10-21T14:56:58.539Z"
   },
   {
    "duration": 14,
    "start_time": "2022-10-21T14:56:59.407Z"
   },
   {
    "duration": 12,
    "start_time": "2022-10-21T14:57:00.453Z"
   },
   {
    "duration": 8,
    "start_time": "2022-10-21T14:57:03.572Z"
   },
   {
    "duration": 14,
    "start_time": "2022-10-21T14:57:04.587Z"
   },
   {
    "duration": 38,
    "start_time": "2022-10-21T14:58:30.559Z"
   },
   {
    "duration": 12,
    "start_time": "2022-10-21T14:58:30.976Z"
   },
   {
    "duration": 72,
    "start_time": "2022-10-21T14:58:34.514Z"
   },
   {
    "duration": 21,
    "start_time": "2022-10-21T14:58:35.050Z"
   },
   {
    "duration": 1211,
    "start_time": "2022-10-21T14:58:39.587Z"
   },
   {
    "duration": 4,
    "start_time": "2022-10-21T15:03:34.756Z"
   },
   {
    "duration": 114,
    "start_time": "2022-10-21T15:03:52.436Z"
   },
   {
    "duration": 36,
    "start_time": "2022-10-21T15:04:13.936Z"
   },
   {
    "duration": 1016,
    "start_time": "2022-10-21T15:12:13.439Z"
   },
   {
    "duration": 534,
    "start_time": "2022-10-21T15:12:14.457Z"
   },
   {
    "duration": 3,
    "start_time": "2022-10-21T15:12:14.993Z"
   },
   {
    "duration": 8,
    "start_time": "2022-10-21T15:12:14.998Z"
   },
   {
    "duration": 177,
    "start_time": "2022-10-21T15:12:15.008Z"
   },
   {
    "duration": 75,
    "start_time": "2022-10-21T15:12:15.186Z"
   },
   {
    "duration": 6,
    "start_time": "2022-10-21T15:12:15.263Z"
   },
   {
    "duration": 22,
    "start_time": "2022-10-21T15:12:15.271Z"
   },
   {
    "duration": 9,
    "start_time": "2022-10-21T15:12:15.295Z"
   },
   {
    "duration": 11,
    "start_time": "2022-10-21T15:12:15.327Z"
   },
   {
    "duration": 4,
    "start_time": "2022-10-21T15:12:15.340Z"
   },
   {
    "duration": 5,
    "start_time": "2022-10-21T15:12:15.345Z"
   },
   {
    "duration": 23,
    "start_time": "2022-10-21T15:12:15.352Z"
   },
   {
    "duration": 13,
    "start_time": "2022-10-21T15:12:15.378Z"
   },
   {
    "duration": 28,
    "start_time": "2022-10-21T15:12:15.400Z"
   },
   {
    "duration": 18,
    "start_time": "2022-10-21T15:12:15.430Z"
   },
   {
    "duration": 43,
    "start_time": "2022-10-21T15:12:15.451Z"
   },
   {
    "duration": 77,
    "start_time": "2022-10-21T15:12:15.496Z"
   },
   {
    "duration": 34,
    "start_time": "2022-10-21T15:13:12.344Z"
   },
   {
    "duration": 875,
    "start_time": "2022-10-21T15:13:13.034Z"
   },
   {
    "duration": 9,
    "start_time": "2022-10-21T15:13:19.021Z"
   },
   {
    "duration": 44,
    "start_time": "2022-10-21T15:13:20.193Z"
   },
   {
    "duration": 110,
    "start_time": "2022-10-21T15:14:12.536Z"
   },
   {
    "duration": 14,
    "start_time": "2022-10-21T15:14:43.647Z"
   },
   {
    "duration": 14,
    "start_time": "2022-10-21T15:15:06.883Z"
   },
   {
    "duration": 1386,
    "start_time": "2022-10-21T15:15:24.876Z"
   },
   {
    "duration": 33,
    "start_time": "2022-10-21T15:16:12.475Z"
   },
   {
    "duration": 34,
    "start_time": "2022-10-21T15:16:18.424Z"
   },
   {
    "duration": 67895,
    "start_time": "2022-10-21T15:16:36.341Z"
   },
   {
    "duration": 4,
    "start_time": "2022-10-21T15:17:44.238Z"
   },
   {
    "duration": 12,
    "start_time": "2022-10-21T15:20:29.952Z"
   },
   {
    "duration": 19,
    "start_time": "2022-10-21T15:20:37.886Z"
   },
   {
    "duration": 7,
    "start_time": "2022-10-21T15:21:10.534Z"
   },
   {
    "duration": 84,
    "start_time": "2022-10-21T15:21:22.754Z"
   },
   {
    "duration": 25,
    "start_time": "2022-10-21T15:21:39.439Z"
   },
   {
    "duration": 55,
    "start_time": "2022-10-21T15:24:55.432Z"
   },
   {
    "duration": 3,
    "start_time": "2022-10-21T15:25:38.040Z"
   },
   {
    "duration": 2,
    "start_time": "2022-10-21T15:30:02.472Z"
   },
   {
    "duration": 192,
    "start_time": "2022-10-21T15:37:08.579Z"
   },
   {
    "duration": 239,
    "start_time": "2022-10-21T15:39:34.638Z"
   },
   {
    "duration": 253,
    "start_time": "2022-10-21T15:40:06.021Z"
   },
   {
    "duration": 247,
    "start_time": "2022-10-21T15:41:27.660Z"
   },
   {
    "duration": 3,
    "start_time": "2022-10-21T15:41:59.305Z"
   },
   {
    "duration": 302,
    "start_time": "2022-10-21T15:42:07.118Z"
   },
   {
    "duration": 301,
    "start_time": "2022-10-21T15:48:16.056Z"
   },
   {
    "duration": 1219,
    "start_time": "2022-10-21T16:01:27.526Z"
   },
   {
    "duration": 506,
    "start_time": "2022-10-21T16:01:28.747Z"
   },
   {
    "duration": 3,
    "start_time": "2022-10-21T16:01:29.255Z"
   },
   {
    "duration": 9,
    "start_time": "2022-10-21T16:01:29.260Z"
   },
   {
    "duration": 133,
    "start_time": "2022-10-21T16:01:29.271Z"
   },
   {
    "duration": 74,
    "start_time": "2022-10-21T16:01:29.406Z"
   },
   {
    "duration": 6,
    "start_time": "2022-10-21T16:01:29.482Z"
   },
   {
    "duration": 20,
    "start_time": "2022-10-21T16:01:29.490Z"
   },
   {
    "duration": 25,
    "start_time": "2022-10-21T16:01:29.512Z"
   },
   {
    "duration": 5,
    "start_time": "2022-10-21T16:01:29.540Z"
   },
   {
    "duration": 3,
    "start_time": "2022-10-21T16:01:29.546Z"
   },
   {
    "duration": 3,
    "start_time": "2022-10-21T16:01:29.551Z"
   },
   {
    "duration": 17,
    "start_time": "2022-10-21T16:01:29.556Z"
   },
   {
    "duration": 15,
    "start_time": "2022-10-21T16:01:29.574Z"
   },
   {
    "duration": 45,
    "start_time": "2022-10-21T16:01:29.591Z"
   },
   {
    "duration": 15,
    "start_time": "2022-10-21T16:01:29.640Z"
   },
   {
    "duration": 39,
    "start_time": "2022-10-21T16:01:29.657Z"
   },
   {
    "duration": 60,
    "start_time": "2022-10-21T16:01:29.698Z"
   },
   {
    "duration": 697,
    "start_time": "2022-10-21T16:01:29.760Z"
   },
   {
    "duration": 4,
    "start_time": "2022-10-21T16:01:30.459Z"
   },
   {
    "duration": 49,
    "start_time": "2022-10-21T16:01:30.466Z"
   },
   {
    "duration": 68317,
    "start_time": "2022-10-21T16:01:30.517Z"
   },
   {
    "duration": 4,
    "start_time": "2022-10-21T16:02:38.838Z"
   },
   {
    "duration": 7,
    "start_time": "2022-10-21T16:02:38.844Z"
   },
   {
    "duration": 1454,
    "start_time": "2022-10-21T16:02:38.853Z"
   },
   {
    "duration": 0,
    "start_time": "2022-10-21T16:02:40.309Z"
   },
   {
    "duration": 0,
    "start_time": "2022-10-21T16:02:40.311Z"
   },
   {
    "duration": 0,
    "start_time": "2022-10-21T16:02:40.313Z"
   },
   {
    "duration": 0,
    "start_time": "2022-10-21T16:02:40.315Z"
   },
   {
    "duration": 0,
    "start_time": "2022-10-21T16:02:40.316Z"
   },
   {
    "duration": 0,
    "start_time": "2022-10-21T16:02:40.318Z"
   },
   {
    "duration": 0,
    "start_time": "2022-10-21T16:02:40.319Z"
   },
   {
    "duration": 0,
    "start_time": "2022-10-21T16:02:40.321Z"
   },
   {
    "duration": 0,
    "start_time": "2022-10-21T16:02:40.322Z"
   },
   {
    "duration": 0,
    "start_time": "2022-10-21T16:02:40.323Z"
   },
   {
    "duration": 1206,
    "start_time": "2022-10-21T16:03:19.496Z"
   },
   {
    "duration": 506,
    "start_time": "2022-10-21T16:03:20.704Z"
   },
   {
    "duration": 3,
    "start_time": "2022-10-21T16:03:21.212Z"
   },
   {
    "duration": 14,
    "start_time": "2022-10-21T16:03:21.217Z"
   },
   {
    "duration": 116,
    "start_time": "2022-10-21T16:03:21.235Z"
   },
   {
    "duration": 60,
    "start_time": "2022-10-21T16:03:21.353Z"
   },
   {
    "duration": 16,
    "start_time": "2022-10-21T16:03:21.415Z"
   },
   {
    "duration": 19,
    "start_time": "2022-10-21T16:03:21.437Z"
   },
   {
    "duration": 9,
    "start_time": "2022-10-21T16:03:21.458Z"
   },
   {
    "duration": 4,
    "start_time": "2022-10-21T16:03:21.469Z"
   },
   {
    "duration": 5,
    "start_time": "2022-10-21T16:03:21.475Z"
   },
   {
    "duration": 6,
    "start_time": "2022-10-21T16:03:21.481Z"
   },
   {
    "duration": 48,
    "start_time": "2022-10-21T16:03:21.488Z"
   },
   {
    "duration": 19,
    "start_time": "2022-10-21T16:03:21.546Z"
   },
   {
    "duration": 9,
    "start_time": "2022-10-21T16:03:21.567Z"
   },
   {
    "duration": 16,
    "start_time": "2022-10-21T16:03:21.578Z"
   },
   {
    "duration": 65,
    "start_time": "2022-10-21T16:03:21.596Z"
   },
   {
    "duration": 47,
    "start_time": "2022-10-21T16:03:21.662Z"
   },
   {
    "duration": 729,
    "start_time": "2022-10-21T16:03:21.711Z"
   },
   {
    "duration": 4,
    "start_time": "2022-10-21T16:03:22.442Z"
   },
   {
    "duration": 33,
    "start_time": "2022-10-21T16:03:22.448Z"
   },
   {
    "duration": 66757,
    "start_time": "2022-10-21T16:03:22.483Z"
   },
   {
    "duration": 4,
    "start_time": "2022-10-21T16:04:29.242Z"
   },
   {
    "duration": 5,
    "start_time": "2022-10-21T16:04:54.357Z"
   },
   {
    "duration": 6,
    "start_time": "2022-10-21T16:04:57.696Z"
   },
   {
    "duration": 1909,
    "start_time": "2022-10-21T16:05:02.321Z"
   },
   {
    "duration": 35,
    "start_time": "2022-10-21T16:05:31.014Z"
   },
   {
    "duration": 1257,
    "start_time": "2022-10-21T16:06:11.740Z"
   },
   {
    "duration": 11,
    "start_time": "2022-10-21T16:08:33.344Z"
   },
   {
    "duration": 12,
    "start_time": "2022-10-21T16:08:45.047Z"
   },
   {
    "duration": 5,
    "start_time": "2022-10-21T16:08:56.686Z"
   },
   {
    "duration": 12,
    "start_time": "2022-10-21T16:08:57.354Z"
   },
   {
    "duration": 6,
    "start_time": "2022-10-21T16:08:58.164Z"
   },
   {
    "duration": 1290,
    "start_time": "2022-10-21T16:09:05.075Z"
   },
   {
    "duration": 1197,
    "start_time": "2022-10-21T16:09:25.924Z"
   },
   {
    "duration": 527,
    "start_time": "2022-10-21T16:09:27.126Z"
   },
   {
    "duration": 3,
    "start_time": "2022-10-21T16:09:27.655Z"
   },
   {
    "duration": 39,
    "start_time": "2022-10-21T16:09:27.661Z"
   },
   {
    "duration": 163,
    "start_time": "2022-10-21T16:09:27.701Z"
   },
   {
    "duration": 64,
    "start_time": "2022-10-21T16:09:27.867Z"
   },
   {
    "duration": 6,
    "start_time": "2022-10-21T16:09:27.937Z"
   },
   {
    "duration": 30,
    "start_time": "2022-10-21T16:09:27.945Z"
   },
   {
    "duration": 15,
    "start_time": "2022-10-21T16:09:27.978Z"
   },
   {
    "duration": 27,
    "start_time": "2022-10-21T16:09:27.995Z"
   },
   {
    "duration": 23,
    "start_time": "2022-10-21T16:09:28.026Z"
   },
   {
    "duration": 21,
    "start_time": "2022-10-21T16:09:28.051Z"
   },
   {
    "duration": 38,
    "start_time": "2022-10-21T16:09:28.074Z"
   },
   {
    "duration": 26,
    "start_time": "2022-10-21T16:09:28.114Z"
   },
   {
    "duration": 45,
    "start_time": "2022-10-21T16:09:28.142Z"
   },
   {
    "duration": 56,
    "start_time": "2022-10-21T16:09:28.190Z"
   },
   {
    "duration": 69,
    "start_time": "2022-10-21T16:09:28.248Z"
   },
   {
    "duration": 60,
    "start_time": "2022-10-21T16:09:28.319Z"
   },
   {
    "duration": 707,
    "start_time": "2022-10-21T16:09:28.381Z"
   },
   {
    "duration": 5,
    "start_time": "2022-10-21T16:09:29.090Z"
   },
   {
    "duration": 57,
    "start_time": "2022-10-21T16:09:29.096Z"
   },
   {
    "duration": 68164,
    "start_time": "2022-10-21T16:09:29.155Z"
   },
   {
    "duration": 11,
    "start_time": "2022-10-21T16:10:37.321Z"
   },
   {
    "duration": 4,
    "start_time": "2022-10-21T16:10:43.001Z"
   },
   {
    "duration": 13,
    "start_time": "2022-10-21T16:10:44.640Z"
   },
   {
    "duration": 6,
    "start_time": "2022-10-21T16:10:45.267Z"
   },
   {
    "duration": 95,
    "start_time": "2022-10-21T16:10:45.998Z"
   },
   {
    "duration": 21,
    "start_time": "2022-10-21T16:10:48.482Z"
   },
   {
    "duration": 47,
    "start_time": "2022-10-21T16:10:52.712Z"
   },
   {
    "duration": 3,
    "start_time": "2022-10-21T16:11:03.258Z"
   },
   {
    "duration": 3,
    "start_time": "2022-10-21T16:11:05.174Z"
   },
   {
    "duration": 9,
    "start_time": "2022-10-21T16:11:05.729Z"
   },
   {
    "duration": 3,
    "start_time": "2022-10-21T16:11:06.162Z"
   },
   {
    "duration": 3,
    "start_time": "2022-10-21T16:11:08.738Z"
   },
   {
    "duration": 354,
    "start_time": "2022-10-21T16:11:11.640Z"
   },
   {
    "duration": 316,
    "start_time": "2022-10-21T16:11:13.563Z"
   },
   {
    "duration": 295,
    "start_time": "2022-10-21T16:11:15.593Z"
   },
   {
    "duration": 280,
    "start_time": "2022-10-21T16:13:11.108Z"
   },
   {
    "duration": 3,
    "start_time": "2022-10-21T16:14:10.552Z"
   },
   {
    "duration": 3,
    "start_time": "2022-10-21T16:14:11.046Z"
   },
   {
    "duration": 3,
    "start_time": "2022-10-21T16:14:11.638Z"
   },
   {
    "duration": 3,
    "start_time": "2022-10-21T16:14:13.785Z"
   },
   {
    "duration": 2,
    "start_time": "2022-10-21T16:14:15.356Z"
   },
   {
    "duration": 2,
    "start_time": "2022-10-21T16:14:16.037Z"
   },
   {
    "duration": 3,
    "start_time": "2022-10-21T16:14:16.267Z"
   },
   {
    "duration": 147,
    "start_time": "2022-10-21T16:14:42.024Z"
   },
   {
    "duration": 15,
    "start_time": "2022-10-21T16:15:05.705Z"
   },
   {
    "duration": 10,
    "start_time": "2022-10-21T16:15:55.365Z"
   },
   {
    "duration": 6,
    "start_time": "2022-10-21T16:16:13.696Z"
   },
   {
    "duration": 14,
    "start_time": "2022-10-21T16:17:18.305Z"
   },
   {
    "duration": 8,
    "start_time": "2022-10-21T16:17:56.593Z"
   },
   {
    "duration": 1080,
    "start_time": "2022-10-21T16:17:57.566Z"
   },
   {
    "duration": 12,
    "start_time": "2022-10-21T16:18:39.482Z"
   },
   {
    "duration": 8,
    "start_time": "2022-10-21T16:18:45.708Z"
   },
   {
    "duration": 10,
    "start_time": "2022-10-21T16:20:29.105Z"
   },
   {
    "duration": 8,
    "start_time": "2022-10-21T16:20:34.056Z"
   },
   {
    "duration": 1200,
    "start_time": "2022-10-21T16:22:30.171Z"
   },
   {
    "duration": 536,
    "start_time": "2022-10-21T16:22:31.374Z"
   },
   {
    "duration": 3,
    "start_time": "2022-10-21T16:22:31.912Z"
   },
   {
    "duration": 9,
    "start_time": "2022-10-21T16:22:31.918Z"
   },
   {
    "duration": 163,
    "start_time": "2022-10-21T16:22:31.930Z"
   },
   {
    "duration": 85,
    "start_time": "2022-10-21T16:22:32.096Z"
   },
   {
    "duration": 7,
    "start_time": "2022-10-21T16:22:32.183Z"
   },
   {
    "duration": 21,
    "start_time": "2022-10-21T16:22:32.192Z"
   },
   {
    "duration": 15,
    "start_time": "2022-10-21T16:22:32.226Z"
   },
   {
    "duration": 5,
    "start_time": "2022-10-21T16:22:32.243Z"
   },
   {
    "duration": 2,
    "start_time": "2022-10-21T16:22:32.250Z"
   },
   {
    "duration": 4,
    "start_time": "2022-10-21T16:22:32.254Z"
   },
   {
    "duration": 17,
    "start_time": "2022-10-21T16:22:32.259Z"
   },
   {
    "duration": 13,
    "start_time": "2022-10-21T16:22:32.277Z"
   },
   {
    "duration": 44,
    "start_time": "2022-10-21T16:22:32.292Z"
   },
   {
    "duration": 15,
    "start_time": "2022-10-21T16:22:32.338Z"
   },
   {
    "duration": 37,
    "start_time": "2022-10-21T16:22:32.355Z"
   },
   {
    "duration": 69,
    "start_time": "2022-10-21T16:22:32.395Z"
   },
   {
    "duration": 700,
    "start_time": "2022-10-21T16:22:32.466Z"
   },
   {
    "duration": 3,
    "start_time": "2022-10-21T16:22:33.168Z"
   },
   {
    "duration": 35,
    "start_time": "2022-10-21T16:22:33.173Z"
   },
   {
    "duration": 67996,
    "start_time": "2022-10-21T16:22:33.210Z"
   },
   {
    "duration": 4,
    "start_time": "2022-10-21T16:23:41.208Z"
   },
   {
    "duration": 30,
    "start_time": "2022-10-21T16:23:41.214Z"
   },
   {
    "duration": 8,
    "start_time": "2022-10-21T16:23:41.246Z"
   },
   {
    "duration": 112,
    "start_time": "2022-10-21T16:23:41.255Z"
   },
   {
    "duration": 30,
    "start_time": "2022-10-21T16:23:41.369Z"
   },
   {
    "duration": 63,
    "start_time": "2022-10-21T16:23:41.401Z"
   },
   {
    "duration": 3,
    "start_time": "2022-10-21T16:23:41.466Z"
   },
   {
    "duration": 12,
    "start_time": "2022-10-21T16:23:41.471Z"
   },
   {
    "duration": 27,
    "start_time": "2022-10-21T16:23:41.485Z"
   },
   {
    "duration": 13,
    "start_time": "2022-10-21T16:23:41.514Z"
   },
   {
    "duration": 31,
    "start_time": "2022-10-21T16:23:41.529Z"
   },
   {
    "duration": 379,
    "start_time": "2022-10-21T16:23:41.563Z"
   },
   {
    "duration": 358,
    "start_time": "2022-10-21T16:23:41.944Z"
   },
   {
    "duration": 286,
    "start_time": "2022-10-21T16:23:42.304Z"
   },
   {
    "duration": 340,
    "start_time": "2022-10-21T16:23:42.592Z"
   },
   {
    "duration": 3,
    "start_time": "2022-10-21T16:23:42.938Z"
   },
   {
    "duration": 5,
    "start_time": "2022-10-21T16:23:42.942Z"
   },
   {
    "duration": 6,
    "start_time": "2022-10-21T16:23:42.948Z"
   },
   {
    "duration": 3,
    "start_time": "2022-10-21T16:23:42.956Z"
   },
   {
    "duration": 4,
    "start_time": "2022-10-21T16:23:42.961Z"
   },
   {
    "duration": 3,
    "start_time": "2022-10-21T16:23:42.967Z"
   },
   {
    "duration": 4,
    "start_time": "2022-10-21T16:23:42.972Z"
   },
   {
    "duration": 13,
    "start_time": "2022-10-21T16:23:42.977Z"
   },
   {
    "duration": 6,
    "start_time": "2022-10-21T16:23:42.992Z"
   },
   {
    "duration": 14,
    "start_time": "2022-10-21T16:23:43.026Z"
   },
   {
    "duration": 9,
    "start_time": "2022-10-21T16:23:43.042Z"
   },
   {
    "duration": 1291,
    "start_time": "2022-10-22T11:53:20.780Z"
   },
   {
    "duration": 710,
    "start_time": "2022-10-22T11:53:22.073Z"
   },
   {
    "duration": 3,
    "start_time": "2022-10-22T11:53:22.785Z"
   },
   {
    "duration": 25,
    "start_time": "2022-10-22T11:53:22.790Z"
   },
   {
    "duration": 138,
    "start_time": "2022-10-22T11:53:22.818Z"
   },
   {
    "duration": 56,
    "start_time": "2022-10-22T11:53:22.958Z"
   },
   {
    "duration": 5,
    "start_time": "2022-10-22T11:53:23.015Z"
   },
   {
    "duration": 43,
    "start_time": "2022-10-22T11:53:23.021Z"
   },
   {
    "duration": 13,
    "start_time": "2022-10-22T11:53:23.066Z"
   },
   {
    "duration": 32,
    "start_time": "2022-10-22T11:53:23.081Z"
   },
   {
    "duration": 24,
    "start_time": "2022-10-22T11:53:23.115Z"
   },
   {
    "duration": 27,
    "start_time": "2022-10-22T11:53:23.141Z"
   },
   {
    "duration": 46,
    "start_time": "2022-10-22T11:53:23.170Z"
   },
   {
    "duration": 23,
    "start_time": "2022-10-22T11:53:23.220Z"
   },
   {
    "duration": 44,
    "start_time": "2022-10-22T11:53:23.244Z"
   },
   {
    "duration": 31,
    "start_time": "2022-10-22T11:53:23.290Z"
   },
   {
    "duration": 59,
    "start_time": "2022-10-22T11:53:23.322Z"
   },
   {
    "duration": 42,
    "start_time": "2022-10-22T11:53:23.383Z"
   },
   {
    "duration": 593,
    "start_time": "2022-10-22T11:53:23.427Z"
   },
   {
    "duration": 5,
    "start_time": "2022-10-22T11:53:24.021Z"
   },
   {
    "duration": 75,
    "start_time": "2022-10-22T11:53:24.029Z"
   },
   {
    "duration": 52080,
    "start_time": "2022-10-22T11:53:24.106Z"
   },
   {
    "duration": 4,
    "start_time": "2022-10-22T11:54:16.187Z"
   },
   {
    "duration": 35,
    "start_time": "2022-10-22T11:54:16.192Z"
   },
   {
    "duration": 13,
    "start_time": "2022-10-22T11:54:16.229Z"
   },
   {
    "duration": 106,
    "start_time": "2022-10-22T11:54:16.244Z"
   },
   {
    "duration": 20,
    "start_time": "2022-10-22T11:54:16.351Z"
   },
   {
    "duration": 48,
    "start_time": "2022-10-22T11:54:16.373Z"
   },
   {
    "duration": 2,
    "start_time": "2022-10-22T11:54:16.423Z"
   },
   {
    "duration": 32,
    "start_time": "2022-10-22T11:54:16.427Z"
   },
   {
    "duration": 43,
    "start_time": "2022-10-22T11:54:16.461Z"
   },
   {
    "duration": 25,
    "start_time": "2022-10-22T11:54:16.506Z"
   },
   {
    "duration": 5,
    "start_time": "2022-10-22T11:54:16.533Z"
   },
   {
    "duration": 232,
    "start_time": "2022-10-22T11:54:16.540Z"
   },
   {
    "duration": 253,
    "start_time": "2022-10-22T11:54:16.774Z"
   },
   {
    "duration": 239,
    "start_time": "2022-10-22T11:54:17.029Z"
   },
   {
    "duration": 239,
    "start_time": "2022-10-22T11:54:17.270Z"
   },
   {
    "duration": 3,
    "start_time": "2022-10-22T11:54:17.510Z"
   },
   {
    "duration": 7,
    "start_time": "2022-10-22T11:54:17.514Z"
   },
   {
    "duration": 7,
    "start_time": "2022-10-22T11:54:17.522Z"
   },
   {
    "duration": 5,
    "start_time": "2022-10-22T11:54:17.532Z"
   },
   {
    "duration": 9,
    "start_time": "2022-10-22T11:54:17.538Z"
   },
   {
    "duration": 4,
    "start_time": "2022-10-22T11:54:17.549Z"
   },
   {
    "duration": 5,
    "start_time": "2022-10-22T11:54:17.554Z"
   },
   {
    "duration": 9,
    "start_time": "2022-10-22T11:54:17.561Z"
   },
   {
    "duration": 38,
    "start_time": "2022-10-22T11:54:17.571Z"
   },
   {
    "duration": 6,
    "start_time": "2022-10-22T11:54:17.611Z"
   },
   {
    "duration": 8,
    "start_time": "2022-10-22T11:54:17.618Z"
   },
   {
    "duration": 1152,
    "start_time": "2022-10-22T11:56:50.703Z"
   },
   {
    "duration": 371,
    "start_time": "2022-10-22T11:56:51.857Z"
   },
   {
    "duration": 3,
    "start_time": "2022-10-22T11:56:52.230Z"
   },
   {
    "duration": 7,
    "start_time": "2022-10-22T11:56:52.234Z"
   },
   {
    "duration": 104,
    "start_time": "2022-10-22T11:56:52.243Z"
   },
   {
    "duration": 46,
    "start_time": "2022-10-22T11:56:52.348Z"
   },
   {
    "duration": 13,
    "start_time": "2022-10-22T11:56:52.396Z"
   },
   {
    "duration": 15,
    "start_time": "2022-10-22T11:56:52.411Z"
   },
   {
    "duration": 7,
    "start_time": "2022-10-22T11:56:52.428Z"
   },
   {
    "duration": 5,
    "start_time": "2022-10-22T11:56:52.438Z"
   },
   {
    "duration": 6,
    "start_time": "2022-10-22T11:56:52.444Z"
   },
   {
    "duration": 5,
    "start_time": "2022-10-22T11:56:52.452Z"
   },
   {
    "duration": 14,
    "start_time": "2022-10-22T11:56:52.459Z"
   },
   {
    "duration": 44,
    "start_time": "2022-10-22T11:56:52.476Z"
   },
   {
    "duration": 13,
    "start_time": "2022-10-22T11:56:52.522Z"
   },
   {
    "duration": 26,
    "start_time": "2022-10-22T11:56:52.537Z"
   },
   {
    "duration": 69,
    "start_time": "2022-10-22T11:56:52.565Z"
   },
   {
    "duration": 44,
    "start_time": "2022-10-22T11:56:52.636Z"
   },
   {
    "duration": 643,
    "start_time": "2022-10-22T11:56:52.682Z"
   },
   {
    "duration": 4,
    "start_time": "2022-10-22T11:56:53.327Z"
   },
   {
    "duration": 38,
    "start_time": "2022-10-22T11:56:53.332Z"
   },
   {
    "duration": 53226,
    "start_time": "2022-10-22T11:56:53.372Z"
   },
   {
    "duration": 4,
    "start_time": "2022-10-22T11:57:46.599Z"
   },
   {
    "duration": 30,
    "start_time": "2022-10-22T11:57:46.608Z"
   },
   {
    "duration": 14,
    "start_time": "2022-10-22T11:57:46.639Z"
   },
   {
    "duration": 81,
    "start_time": "2022-10-22T11:57:46.654Z"
   },
   {
    "duration": 18,
    "start_time": "2022-10-22T11:57:46.737Z"
   },
   {
    "duration": 37,
    "start_time": "2022-10-22T11:57:46.758Z"
   },
   {
    "duration": 12,
    "start_time": "2022-10-22T11:57:46.797Z"
   },
   {
    "duration": 4,
    "start_time": "2022-10-22T11:57:46.811Z"
   },
   {
    "duration": 5,
    "start_time": "2022-10-22T11:57:46.817Z"
   },
   {
    "duration": 5,
    "start_time": "2022-10-22T11:57:46.823Z"
   },
   {
    "duration": 6,
    "start_time": "2022-10-22T11:57:46.838Z"
   },
   {
    "duration": 246,
    "start_time": "2022-10-22T11:57:46.846Z"
   },
   {
    "duration": 244,
    "start_time": "2022-10-22T11:57:47.093Z"
   },
   {
    "duration": 230,
    "start_time": "2022-10-22T11:57:47.338Z"
   },
   {
    "duration": 234,
    "start_time": "2022-10-22T11:57:47.569Z"
   },
   {
    "duration": 2,
    "start_time": "2022-10-22T11:57:47.808Z"
   },
   {
    "duration": 6,
    "start_time": "2022-10-22T11:57:47.813Z"
   },
   {
    "duration": 10,
    "start_time": "2022-10-22T11:57:47.821Z"
   },
   {
    "duration": 5,
    "start_time": "2022-10-22T11:57:47.833Z"
   },
   {
    "duration": 12,
    "start_time": "2022-10-22T11:57:47.840Z"
   },
   {
    "duration": 10,
    "start_time": "2022-10-22T11:57:47.854Z"
   },
   {
    "duration": 6,
    "start_time": "2022-10-22T11:57:47.866Z"
   },
   {
    "duration": 13,
    "start_time": "2022-10-22T11:57:47.874Z"
   },
   {
    "duration": 9,
    "start_time": "2022-10-22T11:57:47.889Z"
   },
   {
    "duration": 13,
    "start_time": "2022-10-22T11:57:47.900Z"
   },
   {
    "duration": 11,
    "start_time": "2022-10-22T11:57:47.915Z"
   },
   {
    "duration": 17,
    "start_time": "2022-10-22T12:02:44.530Z"
   },
   {
    "duration": 4,
    "start_time": "2022-10-22T12:06:04.362Z"
   },
   {
    "duration": 4,
    "start_time": "2022-10-22T12:06:15.542Z"
   },
   {
    "duration": 1077,
    "start_time": "2022-10-22T13:50:14.175Z"
   },
   {
    "duration": 1346,
    "start_time": "2022-10-22T13:50:15.253Z"
   },
   {
    "duration": 2,
    "start_time": "2022-10-22T13:50:16.601Z"
   },
   {
    "duration": 7,
    "start_time": "2022-10-22T13:50:16.605Z"
   },
   {
    "duration": 89,
    "start_time": "2022-10-22T13:50:16.613Z"
   },
   {
    "duration": 48,
    "start_time": "2022-10-22T13:50:16.704Z"
   },
   {
    "duration": 4,
    "start_time": "2022-10-22T13:50:16.754Z"
   },
   {
    "duration": 60,
    "start_time": "2022-10-22T13:50:16.760Z"
   },
   {
    "duration": 51,
    "start_time": "2022-10-22T13:50:16.821Z"
   },
   {
    "duration": 31,
    "start_time": "2022-10-22T13:50:16.874Z"
   },
   {
    "duration": 33,
    "start_time": "2022-10-22T13:50:16.906Z"
   },
   {
    "duration": 38,
    "start_time": "2022-10-22T13:50:16.940Z"
   },
   {
    "duration": 33,
    "start_time": "2022-10-22T13:50:16.979Z"
   },
   {
    "duration": 32,
    "start_time": "2022-10-22T13:50:17.013Z"
   },
   {
    "duration": 24,
    "start_time": "2022-10-22T13:50:17.046Z"
   },
   {
    "duration": 32,
    "start_time": "2022-10-22T13:50:17.071Z"
   },
   {
    "duration": 44,
    "start_time": "2022-10-22T13:50:17.104Z"
   },
   {
    "duration": 36,
    "start_time": "2022-10-22T13:50:17.150Z"
   },
   {
    "duration": 513,
    "start_time": "2022-10-22T13:50:17.187Z"
   },
   {
    "duration": 3,
    "start_time": "2022-10-22T13:50:17.701Z"
   },
   {
    "duration": 54,
    "start_time": "2022-10-22T13:50:17.706Z"
   },
   {
    "duration": 49714,
    "start_time": "2022-10-22T13:50:17.762Z"
   },
   {
    "duration": 3,
    "start_time": "2022-10-22T13:51:07.478Z"
   },
   {
    "duration": 12,
    "start_time": "2022-10-22T13:51:07.483Z"
   },
   {
    "duration": 5,
    "start_time": "2022-10-22T13:51:07.497Z"
   },
   {
    "duration": 74,
    "start_time": "2022-10-22T13:51:07.503Z"
   },
   {
    "duration": 17,
    "start_time": "2022-10-22T13:51:07.578Z"
   },
   {
    "duration": 48,
    "start_time": "2022-10-22T13:51:07.597Z"
   },
   {
    "duration": 2,
    "start_time": "2022-10-22T13:51:07.647Z"
   },
   {
    "duration": 5,
    "start_time": "2022-10-22T13:51:07.651Z"
   },
   {
    "duration": 7,
    "start_time": "2022-10-22T13:51:07.657Z"
   },
   {
    "duration": 4,
    "start_time": "2022-10-22T13:51:07.666Z"
   },
   {
    "duration": 4,
    "start_time": "2022-10-22T13:51:07.671Z"
   },
   {
    "duration": 17,
    "start_time": "2022-10-22T13:53:09.433Z"
   },
   {
    "duration": 6,
    "start_time": "2022-10-22T13:54:33.585Z"
   },
   {
    "duration": 16,
    "start_time": "2022-10-22T13:54:44.484Z"
   },
   {
    "duration": 3,
    "start_time": "2022-10-22T13:54:59.045Z"
   },
   {
    "duration": 17,
    "start_time": "2022-10-22T13:55:00.367Z"
   },
   {
    "duration": 16,
    "start_time": "2022-10-22T13:55:06.405Z"
   },
   {
    "duration": 18,
    "start_time": "2022-10-22T13:56:03.965Z"
   },
   {
    "duration": 4,
    "start_time": "2022-10-22T14:11:17.553Z"
   },
   {
    "duration": 1124,
    "start_time": "2022-10-22T16:48:49.419Z"
   },
   {
    "duration": 1357,
    "start_time": "2022-10-22T16:48:50.545Z"
   },
   {
    "duration": 2,
    "start_time": "2022-10-22T16:48:51.904Z"
   },
   {
    "duration": 7,
    "start_time": "2022-10-22T16:48:51.908Z"
   },
   {
    "duration": 94,
    "start_time": "2022-10-22T16:48:51.916Z"
   },
   {
    "duration": 46,
    "start_time": "2022-10-22T16:48:52.012Z"
   },
   {
    "duration": 5,
    "start_time": "2022-10-22T16:48:52.059Z"
   },
   {
    "duration": 17,
    "start_time": "2022-10-22T16:48:52.065Z"
   },
   {
    "duration": 27,
    "start_time": "2022-10-22T16:48:52.084Z"
   },
   {
    "duration": 4,
    "start_time": "2022-10-22T16:48:52.112Z"
   },
   {
    "duration": 6,
    "start_time": "2022-10-22T16:48:52.117Z"
   },
   {
    "duration": 5,
    "start_time": "2022-10-22T16:48:52.124Z"
   },
   {
    "duration": 12,
    "start_time": "2022-10-22T16:48:52.130Z"
   },
   {
    "duration": 10,
    "start_time": "2022-10-22T16:48:52.145Z"
   },
   {
    "duration": 9,
    "start_time": "2022-10-22T16:48:52.156Z"
   },
   {
    "duration": 14,
    "start_time": "2022-10-22T16:48:52.166Z"
   },
   {
    "duration": 52,
    "start_time": "2022-10-22T16:48:52.181Z"
   },
   {
    "duration": 39,
    "start_time": "2022-10-22T16:48:52.235Z"
   },
   {
    "duration": 531,
    "start_time": "2022-10-22T16:48:52.276Z"
   },
   {
    "duration": 3,
    "start_time": "2022-10-22T16:48:52.808Z"
   },
   {
    "duration": 32,
    "start_time": "2022-10-22T16:48:52.812Z"
   },
   {
    "duration": 49020,
    "start_time": "2022-10-22T16:48:52.846Z"
   },
   {
    "duration": 4,
    "start_time": "2022-10-22T16:49:41.868Z"
   },
   {
    "duration": 11,
    "start_time": "2022-10-22T16:49:41.874Z"
   },
   {
    "duration": 4,
    "start_time": "2022-10-22T16:49:41.887Z"
   },
   {
    "duration": 65,
    "start_time": "2022-10-22T16:49:41.893Z"
   },
   {
    "duration": 17,
    "start_time": "2022-10-22T16:49:41.959Z"
   },
   {
    "duration": 50,
    "start_time": "2022-10-22T16:49:41.978Z"
   },
   {
    "duration": 3,
    "start_time": "2022-10-22T16:49:42.029Z"
   },
   {
    "duration": 6,
    "start_time": "2022-10-22T16:49:42.033Z"
   },
   {
    "duration": 4,
    "start_time": "2022-10-22T16:49:42.040Z"
   },
   {
    "duration": 4,
    "start_time": "2022-10-22T16:49:42.046Z"
   },
   {
    "duration": 7,
    "start_time": "2022-10-22T16:49:42.051Z"
   },
   {
    "duration": 18,
    "start_time": "2022-10-22T16:49:42.059Z"
   },
   {
    "duration": 6,
    "start_time": "2022-10-22T16:49:42.078Z"
   },
   {
    "duration": 34,
    "start_time": "2022-10-22T16:49:42.085Z"
   },
   {
    "duration": 9,
    "start_time": "2022-10-22T16:49:42.121Z"
   },
   {
    "duration": 236,
    "start_time": "2022-10-22T16:49:42.131Z"
   },
   {
    "duration": 231,
    "start_time": "2022-10-22T16:49:42.368Z"
   },
   {
    "duration": 230,
    "start_time": "2022-10-22T16:49:42.601Z"
   },
   {
    "duration": 234,
    "start_time": "2022-10-22T16:49:42.834Z"
   },
   {
    "duration": 2,
    "start_time": "2022-10-22T16:49:43.070Z"
   },
   {
    "duration": 5,
    "start_time": "2022-10-22T16:49:43.073Z"
   },
   {
    "duration": 5,
    "start_time": "2022-10-22T16:49:43.080Z"
   },
   {
    "duration": 4,
    "start_time": "2022-10-22T16:49:43.086Z"
   },
   {
    "duration": 15,
    "start_time": "2022-10-22T16:49:43.091Z"
   },
   {
    "duration": 5,
    "start_time": "2022-10-22T16:49:43.107Z"
   },
   {
    "duration": 4,
    "start_time": "2022-10-22T16:49:43.113Z"
   },
   {
    "duration": 5,
    "start_time": "2022-10-22T16:50:35.474Z"
   },
   {
    "duration": 27,
    "start_time": "2022-10-22T16:52:06.507Z"
   },
   {
    "duration": 13,
    "start_time": "2022-10-22T16:59:41.346Z"
   },
   {
    "duration": 18,
    "start_time": "2022-10-22T17:00:07.794Z"
   },
   {
    "duration": 15,
    "start_time": "2022-10-22T17:24:27.654Z"
   },
   {
    "duration": 15,
    "start_time": "2022-10-22T17:24:56.296Z"
   },
   {
    "duration": 1225,
    "start_time": "2022-10-23T13:10:57.276Z"
   },
   {
    "duration": 664,
    "start_time": "2022-10-23T13:10:58.503Z"
   },
   {
    "duration": 2,
    "start_time": "2022-10-23T13:10:59.169Z"
   },
   {
    "duration": 9,
    "start_time": "2022-10-23T13:10:59.173Z"
   },
   {
    "duration": 104,
    "start_time": "2022-10-23T13:10:59.184Z"
   },
   {
    "duration": 55,
    "start_time": "2022-10-23T13:10:59.290Z"
   },
   {
    "duration": 5,
    "start_time": "2022-10-23T13:10:59.347Z"
   },
   {
    "duration": 17,
    "start_time": "2022-10-23T13:10:59.353Z"
   },
   {
    "duration": 7,
    "start_time": "2022-10-23T13:10:59.372Z"
   },
   {
    "duration": 4,
    "start_time": "2022-10-23T13:10:59.381Z"
   },
   {
    "duration": 4,
    "start_time": "2022-10-23T13:10:59.386Z"
   },
   {
    "duration": 8,
    "start_time": "2022-10-23T13:10:59.392Z"
   },
   {
    "duration": 35,
    "start_time": "2022-10-23T13:10:59.402Z"
   },
   {
    "duration": 9,
    "start_time": "2022-10-23T13:10:59.440Z"
   },
   {
    "duration": 8,
    "start_time": "2022-10-23T13:10:59.451Z"
   },
   {
    "duration": 14,
    "start_time": "2022-10-23T13:10:59.460Z"
   },
   {
    "duration": 33,
    "start_time": "2022-10-23T13:10:59.475Z"
   },
   {
    "duration": 54,
    "start_time": "2022-10-23T13:10:59.510Z"
   },
   {
    "duration": 577,
    "start_time": "2022-10-23T13:10:59.566Z"
   },
   {
    "duration": 4,
    "start_time": "2022-10-23T13:11:00.144Z"
   },
   {
    "duration": 47,
    "start_time": "2022-10-23T13:11:00.149Z"
   },
   {
    "duration": 51098,
    "start_time": "2022-10-23T13:11:00.197Z"
   },
   {
    "duration": 4,
    "start_time": "2022-10-23T13:11:51.297Z"
   },
   {
    "duration": 13,
    "start_time": "2022-10-23T13:11:51.302Z"
   },
   {
    "duration": 10,
    "start_time": "2022-10-23T13:11:51.317Z"
   },
   {
    "duration": 71,
    "start_time": "2022-10-23T13:11:51.333Z"
   },
   {
    "duration": 19,
    "start_time": "2022-10-23T13:11:51.405Z"
   },
   {
    "duration": 38,
    "start_time": "2022-10-23T13:11:51.433Z"
   },
   {
    "duration": 3,
    "start_time": "2022-10-23T13:11:51.472Z"
   },
   {
    "duration": 21,
    "start_time": "2022-10-23T13:11:51.476Z"
   },
   {
    "duration": 20,
    "start_time": "2022-10-23T13:11:51.499Z"
   },
   {
    "duration": 5,
    "start_time": "2022-10-23T13:11:51.521Z"
   },
   {
    "duration": 11,
    "start_time": "2022-10-23T13:11:51.528Z"
   },
   {
    "duration": 38,
    "start_time": "2022-10-23T13:11:51.540Z"
   },
   {
    "duration": 16,
    "start_time": "2022-10-23T13:11:51.580Z"
   },
   {
    "duration": 24,
    "start_time": "2022-10-23T13:11:51.598Z"
   },
   {
    "duration": 12,
    "start_time": "2022-10-23T13:11:51.624Z"
   },
   {
    "duration": 241,
    "start_time": "2022-10-23T13:11:51.638Z"
   },
   {
    "duration": 256,
    "start_time": "2022-10-23T13:11:51.881Z"
   },
   {
    "duration": 251,
    "start_time": "2022-10-23T13:11:52.139Z"
   },
   {
    "duration": 244,
    "start_time": "2022-10-23T13:11:52.393Z"
   },
   {
    "duration": 3,
    "start_time": "2022-10-23T13:11:52.638Z"
   },
   {
    "duration": 11,
    "start_time": "2022-10-23T13:11:52.642Z"
   },
   {
    "duration": 7,
    "start_time": "2022-10-23T13:11:52.654Z"
   },
   {
    "duration": 6,
    "start_time": "2022-10-23T13:11:52.663Z"
   },
   {
    "duration": 11,
    "start_time": "2022-10-23T13:11:52.671Z"
   },
   {
    "duration": 4,
    "start_time": "2022-10-23T13:11:52.684Z"
   },
   {
    "duration": 5,
    "start_time": "2022-10-23T13:11:52.690Z"
   },
   {
    "duration": 16,
    "start_time": "2022-10-23T13:11:52.697Z"
   },
   {
    "duration": 11,
    "start_time": "2022-10-23T13:11:52.715Z"
   },
   {
    "duration": 4,
    "start_time": "2022-10-23T13:11:52.733Z"
   },
   {
    "duration": 8,
    "start_time": "2022-10-23T13:11:52.739Z"
   },
   {
    "duration": 8,
    "start_time": "2022-10-23T13:11:52.749Z"
   },
   {
    "duration": 236,
    "start_time": "2022-10-23T13:19:09.588Z"
   }
  ],
  "kernelspec": {
   "display_name": "Python 3 (ipykernel)",
   "language": "python",
   "name": "python3"
  },
  "language_info": {
   "codemirror_mode": {
    "name": "ipython",
    "version": 3
   },
   "file_extension": ".py",
   "mimetype": "text/x-python",
   "name": "python",
   "nbconvert_exporter": "python",
   "pygments_lexer": "ipython3",
   "version": "3.10.0"
  },
  "toc": {
   "base_numbering": 1,
   "nav_menu": {},
   "number_sections": true,
   "sideBar": true,
   "skip_h1_title": true,
   "title_cell": "Table of Contents",
   "title_sidebar": "Contents",
   "toc_cell": false,
   "toc_position": {
    "height": "calc(100% - 180px)",
    "left": "10px",
    "top": "150px",
    "width": "207.682px"
   },
   "toc_section_display": true,
   "toc_window_display": true
  }
 },
 "nbformat": 4,
 "nbformat_minor": 2
}
