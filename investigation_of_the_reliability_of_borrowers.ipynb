{
 "cells": [
  {
   "cell_type": "markdown",
   "metadata": {},
   "source": [
    "# Исследование надёжности заёмщиков\n",
    "\n",
    "Заказчик — кредитный отдел банка. Нужно разобраться, влияет ли семейное положение и количество детей клиента на факт погашения кредита в срок. Входные данные от банка — статистика о платёжеспособности клиентов.\n",
    "\n",
    "Результаты исследования будут учтены при построении модели **кредитного скоринга** — специальной системы, которая оценивает способность потенциального заёмщика вернуть кредит банку."
   ]
  },
  {
   "cell_type": "markdown",
   "metadata": {},
   "source": [
    "## Шаг 1. Откройте файл с данными и изучите общую информацию"
   ]
  },
  {
   "cell_type": "code",
   "execution_count": 87,
   "metadata": {},
   "outputs": [],
   "source": [
    "import pandas as pd"
   ]
  },
  {
   "cell_type": "code",
   "execution_count": 88,
   "metadata": {},
   "outputs": [],
   "source": [
    "data = pd.read_csv('/datasets/data.csv')"
   ]
  },
  {
   "cell_type": "code",
   "execution_count": 89,
   "metadata": {},
   "outputs": [
    {
     "data": {
      "text/plain": [
       "'/home/jovyan/work'"
      ]
     },
     "execution_count": 89,
     "metadata": {},
     "output_type": "execute_result"
    }
   ],
   "source": [
    "pwd"
   ]
  },
  {
   "cell_type": "code",
   "execution_count": 90,
   "metadata": {},
   "outputs": [
    {
     "data": {
      "text/html": [
       "<div>\n",
       "<style scoped>\n",
       "    .dataframe tbody tr th:only-of-type {\n",
       "        vertical-align: middle;\n",
       "    }\n",
       "\n",
       "    .dataframe tbody tr th {\n",
       "        vertical-align: top;\n",
       "    }\n",
       "\n",
       "    .dataframe thead th {\n",
       "        text-align: right;\n",
       "    }\n",
       "</style>\n",
       "<table border=\"1\" class=\"dataframe\">\n",
       "  <thead>\n",
       "    <tr style=\"text-align: right;\">\n",
       "      <th></th>\n",
       "      <th>children</th>\n",
       "      <th>days_employed</th>\n",
       "      <th>dob_years</th>\n",
       "      <th>education</th>\n",
       "      <th>education_id</th>\n",
       "      <th>family_status</th>\n",
       "      <th>family_status_id</th>\n",
       "      <th>gender</th>\n",
       "      <th>income_type</th>\n",
       "      <th>debt</th>\n",
       "      <th>total_income</th>\n",
       "      <th>purpose</th>\n",
       "    </tr>\n",
       "  </thead>\n",
       "  <tbody>\n",
       "    <tr>\n",
       "      <th>0</th>\n",
       "      <td>1</td>\n",
       "      <td>-8437.673028</td>\n",
       "      <td>42</td>\n",
       "      <td>высшее</td>\n",
       "      <td>0</td>\n",
       "      <td>женат / замужем</td>\n",
       "      <td>0</td>\n",
       "      <td>F</td>\n",
       "      <td>сотрудник</td>\n",
       "      <td>0</td>\n",
       "      <td>253875.639453</td>\n",
       "      <td>покупка жилья</td>\n",
       "    </tr>\n",
       "    <tr>\n",
       "      <th>1</th>\n",
       "      <td>1</td>\n",
       "      <td>-4024.803754</td>\n",
       "      <td>36</td>\n",
       "      <td>среднее</td>\n",
       "      <td>1</td>\n",
       "      <td>женат / замужем</td>\n",
       "      <td>0</td>\n",
       "      <td>F</td>\n",
       "      <td>сотрудник</td>\n",
       "      <td>0</td>\n",
       "      <td>112080.014102</td>\n",
       "      <td>приобретение автомобиля</td>\n",
       "    </tr>\n",
       "    <tr>\n",
       "      <th>2</th>\n",
       "      <td>0</td>\n",
       "      <td>-5623.422610</td>\n",
       "      <td>33</td>\n",
       "      <td>Среднее</td>\n",
       "      <td>1</td>\n",
       "      <td>женат / замужем</td>\n",
       "      <td>0</td>\n",
       "      <td>M</td>\n",
       "      <td>сотрудник</td>\n",
       "      <td>0</td>\n",
       "      <td>145885.952297</td>\n",
       "      <td>покупка жилья</td>\n",
       "    </tr>\n",
       "    <tr>\n",
       "      <th>3</th>\n",
       "      <td>3</td>\n",
       "      <td>-4124.747207</td>\n",
       "      <td>32</td>\n",
       "      <td>среднее</td>\n",
       "      <td>1</td>\n",
       "      <td>женат / замужем</td>\n",
       "      <td>0</td>\n",
       "      <td>M</td>\n",
       "      <td>сотрудник</td>\n",
       "      <td>0</td>\n",
       "      <td>267628.550329</td>\n",
       "      <td>дополнительное образование</td>\n",
       "    </tr>\n",
       "    <tr>\n",
       "      <th>4</th>\n",
       "      <td>0</td>\n",
       "      <td>340266.072047</td>\n",
       "      <td>53</td>\n",
       "      <td>среднее</td>\n",
       "      <td>1</td>\n",
       "      <td>гражданский брак</td>\n",
       "      <td>1</td>\n",
       "      <td>F</td>\n",
       "      <td>пенсионер</td>\n",
       "      <td>0</td>\n",
       "      <td>158616.077870</td>\n",
       "      <td>сыграть свадьбу</td>\n",
       "    </tr>\n",
       "    <tr>\n",
       "      <th>5</th>\n",
       "      <td>0</td>\n",
       "      <td>-926.185831</td>\n",
       "      <td>27</td>\n",
       "      <td>высшее</td>\n",
       "      <td>0</td>\n",
       "      <td>гражданский брак</td>\n",
       "      <td>1</td>\n",
       "      <td>M</td>\n",
       "      <td>компаньон</td>\n",
       "      <td>0</td>\n",
       "      <td>255763.565419</td>\n",
       "      <td>покупка жилья</td>\n",
       "    </tr>\n",
       "    <tr>\n",
       "      <th>6</th>\n",
       "      <td>0</td>\n",
       "      <td>-2879.202052</td>\n",
       "      <td>43</td>\n",
       "      <td>высшее</td>\n",
       "      <td>0</td>\n",
       "      <td>женат / замужем</td>\n",
       "      <td>0</td>\n",
       "      <td>F</td>\n",
       "      <td>компаньон</td>\n",
       "      <td>0</td>\n",
       "      <td>240525.971920</td>\n",
       "      <td>операции с жильем</td>\n",
       "    </tr>\n",
       "    <tr>\n",
       "      <th>7</th>\n",
       "      <td>0</td>\n",
       "      <td>-152.779569</td>\n",
       "      <td>50</td>\n",
       "      <td>СРЕДНЕЕ</td>\n",
       "      <td>1</td>\n",
       "      <td>женат / замужем</td>\n",
       "      <td>0</td>\n",
       "      <td>M</td>\n",
       "      <td>сотрудник</td>\n",
       "      <td>0</td>\n",
       "      <td>135823.934197</td>\n",
       "      <td>образование</td>\n",
       "    </tr>\n",
       "    <tr>\n",
       "      <th>8</th>\n",
       "      <td>2</td>\n",
       "      <td>-6929.865299</td>\n",
       "      <td>35</td>\n",
       "      <td>ВЫСШЕЕ</td>\n",
       "      <td>0</td>\n",
       "      <td>гражданский брак</td>\n",
       "      <td>1</td>\n",
       "      <td>F</td>\n",
       "      <td>сотрудник</td>\n",
       "      <td>0</td>\n",
       "      <td>95856.832424</td>\n",
       "      <td>на проведение свадьбы</td>\n",
       "    </tr>\n",
       "    <tr>\n",
       "      <th>9</th>\n",
       "      <td>0</td>\n",
       "      <td>-2188.756445</td>\n",
       "      <td>41</td>\n",
       "      <td>среднее</td>\n",
       "      <td>1</td>\n",
       "      <td>женат / замужем</td>\n",
       "      <td>0</td>\n",
       "      <td>M</td>\n",
       "      <td>сотрудник</td>\n",
       "      <td>0</td>\n",
       "      <td>144425.938277</td>\n",
       "      <td>покупка жилья для семьи</td>\n",
       "    </tr>\n",
       "    <tr>\n",
       "      <th>10</th>\n",
       "      <td>2</td>\n",
       "      <td>-4171.483647</td>\n",
       "      <td>36</td>\n",
       "      <td>высшее</td>\n",
       "      <td>0</td>\n",
       "      <td>женат / замужем</td>\n",
       "      <td>0</td>\n",
       "      <td>M</td>\n",
       "      <td>компаньон</td>\n",
       "      <td>0</td>\n",
       "      <td>113943.491460</td>\n",
       "      <td>покупка недвижимости</td>\n",
       "    </tr>\n",
       "    <tr>\n",
       "      <th>11</th>\n",
       "      <td>0</td>\n",
       "      <td>-792.701887</td>\n",
       "      <td>40</td>\n",
       "      <td>среднее</td>\n",
       "      <td>1</td>\n",
       "      <td>женат / замужем</td>\n",
       "      <td>0</td>\n",
       "      <td>F</td>\n",
       "      <td>сотрудник</td>\n",
       "      <td>0</td>\n",
       "      <td>77069.234271</td>\n",
       "      <td>покупка коммерческой недвижимости</td>\n",
       "    </tr>\n",
       "    <tr>\n",
       "      <th>12</th>\n",
       "      <td>0</td>\n",
       "      <td>NaN</td>\n",
       "      <td>65</td>\n",
       "      <td>среднее</td>\n",
       "      <td>1</td>\n",
       "      <td>гражданский брак</td>\n",
       "      <td>1</td>\n",
       "      <td>M</td>\n",
       "      <td>пенсионер</td>\n",
       "      <td>0</td>\n",
       "      <td>NaN</td>\n",
       "      <td>сыграть свадьбу</td>\n",
       "    </tr>\n",
       "    <tr>\n",
       "      <th>13</th>\n",
       "      <td>0</td>\n",
       "      <td>-1846.641941</td>\n",
       "      <td>54</td>\n",
       "      <td>неоконченное высшее</td>\n",
       "      <td>2</td>\n",
       "      <td>женат / замужем</td>\n",
       "      <td>0</td>\n",
       "      <td>F</td>\n",
       "      <td>сотрудник</td>\n",
       "      <td>0</td>\n",
       "      <td>130458.228857</td>\n",
       "      <td>приобретение автомобиля</td>\n",
       "    </tr>\n",
       "    <tr>\n",
       "      <th>14</th>\n",
       "      <td>0</td>\n",
       "      <td>-1844.956182</td>\n",
       "      <td>56</td>\n",
       "      <td>высшее</td>\n",
       "      <td>0</td>\n",
       "      <td>гражданский брак</td>\n",
       "      <td>1</td>\n",
       "      <td>F</td>\n",
       "      <td>компаньон</td>\n",
       "      <td>1</td>\n",
       "      <td>165127.911772</td>\n",
       "      <td>покупка жилой недвижимости</td>\n",
       "    </tr>\n",
       "  </tbody>\n",
       "</table>\n",
       "</div>"
      ],
      "text/plain": [
       "    children  days_employed  dob_years            education  education_id  \\\n",
       "0          1   -8437.673028         42               высшее             0   \n",
       "1          1   -4024.803754         36              среднее             1   \n",
       "2          0   -5623.422610         33              Среднее             1   \n",
       "3          3   -4124.747207         32              среднее             1   \n",
       "4          0  340266.072047         53              среднее             1   \n",
       "5          0    -926.185831         27               высшее             0   \n",
       "6          0   -2879.202052         43               высшее             0   \n",
       "7          0    -152.779569         50              СРЕДНЕЕ             1   \n",
       "8          2   -6929.865299         35               ВЫСШЕЕ             0   \n",
       "9          0   -2188.756445         41              среднее             1   \n",
       "10         2   -4171.483647         36               высшее             0   \n",
       "11         0    -792.701887         40              среднее             1   \n",
       "12         0            NaN         65              среднее             1   \n",
       "13         0   -1846.641941         54  неоконченное высшее             2   \n",
       "14         0   -1844.956182         56               высшее             0   \n",
       "\n",
       "       family_status  family_status_id gender income_type  debt  \\\n",
       "0    женат / замужем                 0      F   сотрудник     0   \n",
       "1    женат / замужем                 0      F   сотрудник     0   \n",
       "2    женат / замужем                 0      M   сотрудник     0   \n",
       "3    женат / замужем                 0      M   сотрудник     0   \n",
       "4   гражданский брак                 1      F   пенсионер     0   \n",
       "5   гражданский брак                 1      M   компаньон     0   \n",
       "6    женат / замужем                 0      F   компаньон     0   \n",
       "7    женат / замужем                 0      M   сотрудник     0   \n",
       "8   гражданский брак                 1      F   сотрудник     0   \n",
       "9    женат / замужем                 0      M   сотрудник     0   \n",
       "10   женат / замужем                 0      M   компаньон     0   \n",
       "11   женат / замужем                 0      F   сотрудник     0   \n",
       "12  гражданский брак                 1      M   пенсионер     0   \n",
       "13   женат / замужем                 0      F   сотрудник     0   \n",
       "14  гражданский брак                 1      F   компаньон     1   \n",
       "\n",
       "     total_income                            purpose  \n",
       "0   253875.639453                      покупка жилья  \n",
       "1   112080.014102            приобретение автомобиля  \n",
       "2   145885.952297                      покупка жилья  \n",
       "3   267628.550329         дополнительное образование  \n",
       "4   158616.077870                    сыграть свадьбу  \n",
       "5   255763.565419                      покупка жилья  \n",
       "6   240525.971920                  операции с жильем  \n",
       "7   135823.934197                        образование  \n",
       "8    95856.832424              на проведение свадьбы  \n",
       "9   144425.938277            покупка жилья для семьи  \n",
       "10  113943.491460               покупка недвижимости  \n",
       "11   77069.234271  покупка коммерческой недвижимости  \n",
       "12            NaN                    сыграть свадьбу  \n",
       "13  130458.228857            приобретение автомобиля  \n",
       "14  165127.911772         покупка жилой недвижимости  "
      ]
     },
     "execution_count": 90,
     "metadata": {},
     "output_type": "execute_result"
    }
   ],
   "source": [
    "data.head(15)"
   ]
  },
  {
   "cell_type": "code",
   "execution_count": 91,
   "metadata": {},
   "outputs": [
    {
     "data": {
      "text/html": [
       "<div>\n",
       "<style scoped>\n",
       "    .dataframe tbody tr th:only-of-type {\n",
       "        vertical-align: middle;\n",
       "    }\n",
       "\n",
       "    .dataframe tbody tr th {\n",
       "        vertical-align: top;\n",
       "    }\n",
       "\n",
       "    .dataframe thead th {\n",
       "        text-align: right;\n",
       "    }\n",
       "</style>\n",
       "<table border=\"1\" class=\"dataframe\">\n",
       "  <thead>\n",
       "    <tr style=\"text-align: right;\">\n",
       "      <th></th>\n",
       "      <th>children</th>\n",
       "      <th>days_employed</th>\n",
       "      <th>dob_years</th>\n",
       "      <th>education</th>\n",
       "      <th>education_id</th>\n",
       "      <th>family_status</th>\n",
       "      <th>family_status_id</th>\n",
       "      <th>gender</th>\n",
       "      <th>income_type</th>\n",
       "      <th>debt</th>\n",
       "      <th>total_income</th>\n",
       "      <th>purpose</th>\n",
       "    </tr>\n",
       "  </thead>\n",
       "  <tbody>\n",
       "    <tr>\n",
       "      <th>21510</th>\n",
       "      <td>2</td>\n",
       "      <td>NaN</td>\n",
       "      <td>28</td>\n",
       "      <td>среднее</td>\n",
       "      <td>1</td>\n",
       "      <td>женат / замужем</td>\n",
       "      <td>0</td>\n",
       "      <td>F</td>\n",
       "      <td>сотрудник</td>\n",
       "      <td>0</td>\n",
       "      <td>NaN</td>\n",
       "      <td>приобретение автомобиля</td>\n",
       "    </tr>\n",
       "    <tr>\n",
       "      <th>21511</th>\n",
       "      <td>0</td>\n",
       "      <td>-612.569129</td>\n",
       "      <td>29</td>\n",
       "      <td>высшее</td>\n",
       "      <td>0</td>\n",
       "      <td>гражданский брак</td>\n",
       "      <td>1</td>\n",
       "      <td>F</td>\n",
       "      <td>сотрудник</td>\n",
       "      <td>1</td>\n",
       "      <td>140068.472941</td>\n",
       "      <td>покупка жилья для сдачи</td>\n",
       "    </tr>\n",
       "    <tr>\n",
       "      <th>21512</th>\n",
       "      <td>0</td>\n",
       "      <td>-165.377752</td>\n",
       "      <td>26</td>\n",
       "      <td>высшее</td>\n",
       "      <td>0</td>\n",
       "      <td>Не женат / не замужем</td>\n",
       "      <td>4</td>\n",
       "      <td>M</td>\n",
       "      <td>компаньон</td>\n",
       "      <td>0</td>\n",
       "      <td>147301.457769</td>\n",
       "      <td>получение дополнительного образования</td>\n",
       "    </tr>\n",
       "    <tr>\n",
       "      <th>21513</th>\n",
       "      <td>0</td>\n",
       "      <td>-1166.216789</td>\n",
       "      <td>35</td>\n",
       "      <td>среднее</td>\n",
       "      <td>1</td>\n",
       "      <td>женат / замужем</td>\n",
       "      <td>0</td>\n",
       "      <td>F</td>\n",
       "      <td>сотрудник</td>\n",
       "      <td>0</td>\n",
       "      <td>250986.142309</td>\n",
       "      <td>покупка жилья</td>\n",
       "    </tr>\n",
       "    <tr>\n",
       "      <th>21514</th>\n",
       "      <td>0</td>\n",
       "      <td>-280.469996</td>\n",
       "      <td>27</td>\n",
       "      <td>неоконченное высшее</td>\n",
       "      <td>2</td>\n",
       "      <td>Не женат / не замужем</td>\n",
       "      <td>4</td>\n",
       "      <td>M</td>\n",
       "      <td>компаньон</td>\n",
       "      <td>0</td>\n",
       "      <td>355988.407188</td>\n",
       "      <td>строительство недвижимости</td>\n",
       "    </tr>\n",
       "    <tr>\n",
       "      <th>21515</th>\n",
       "      <td>1</td>\n",
       "      <td>-467.685130</td>\n",
       "      <td>28</td>\n",
       "      <td>среднее</td>\n",
       "      <td>1</td>\n",
       "      <td>женат / замужем</td>\n",
       "      <td>0</td>\n",
       "      <td>F</td>\n",
       "      <td>сотрудник</td>\n",
       "      <td>1</td>\n",
       "      <td>109486.327999</td>\n",
       "      <td>заняться образованием</td>\n",
       "    </tr>\n",
       "    <tr>\n",
       "      <th>21516</th>\n",
       "      <td>0</td>\n",
       "      <td>-914.391429</td>\n",
       "      <td>42</td>\n",
       "      <td>высшее</td>\n",
       "      <td>0</td>\n",
       "      <td>женат / замужем</td>\n",
       "      <td>0</td>\n",
       "      <td>F</td>\n",
       "      <td>компаньон</td>\n",
       "      <td>0</td>\n",
       "      <td>322807.776603</td>\n",
       "      <td>покупка своего жилья</td>\n",
       "    </tr>\n",
       "    <tr>\n",
       "      <th>21517</th>\n",
       "      <td>0</td>\n",
       "      <td>-404.679034</td>\n",
       "      <td>42</td>\n",
       "      <td>высшее</td>\n",
       "      <td>0</td>\n",
       "      <td>гражданский брак</td>\n",
       "      <td>1</td>\n",
       "      <td>F</td>\n",
       "      <td>компаньон</td>\n",
       "      <td>0</td>\n",
       "      <td>178059.553491</td>\n",
       "      <td>на покупку своего автомобиля</td>\n",
       "    </tr>\n",
       "    <tr>\n",
       "      <th>21518</th>\n",
       "      <td>0</td>\n",
       "      <td>373995.710838</td>\n",
       "      <td>59</td>\n",
       "      <td>СРЕДНЕЕ</td>\n",
       "      <td>1</td>\n",
       "      <td>женат / замужем</td>\n",
       "      <td>0</td>\n",
       "      <td>F</td>\n",
       "      <td>пенсионер</td>\n",
       "      <td>0</td>\n",
       "      <td>153864.650328</td>\n",
       "      <td>сделка с автомобилем</td>\n",
       "    </tr>\n",
       "    <tr>\n",
       "      <th>21519</th>\n",
       "      <td>1</td>\n",
       "      <td>-2351.431934</td>\n",
       "      <td>37</td>\n",
       "      <td>ученая степень</td>\n",
       "      <td>4</td>\n",
       "      <td>в разводе</td>\n",
       "      <td>3</td>\n",
       "      <td>M</td>\n",
       "      <td>сотрудник</td>\n",
       "      <td>0</td>\n",
       "      <td>115949.039788</td>\n",
       "      <td>покупка коммерческой недвижимости</td>\n",
       "    </tr>\n",
       "    <tr>\n",
       "      <th>21520</th>\n",
       "      <td>1</td>\n",
       "      <td>-4529.316663</td>\n",
       "      <td>43</td>\n",
       "      <td>среднее</td>\n",
       "      <td>1</td>\n",
       "      <td>гражданский брак</td>\n",
       "      <td>1</td>\n",
       "      <td>F</td>\n",
       "      <td>компаньон</td>\n",
       "      <td>0</td>\n",
       "      <td>224791.862382</td>\n",
       "      <td>операции с жильем</td>\n",
       "    </tr>\n",
       "    <tr>\n",
       "      <th>21521</th>\n",
       "      <td>0</td>\n",
       "      <td>343937.404131</td>\n",
       "      <td>67</td>\n",
       "      <td>среднее</td>\n",
       "      <td>1</td>\n",
       "      <td>женат / замужем</td>\n",
       "      <td>0</td>\n",
       "      <td>F</td>\n",
       "      <td>пенсионер</td>\n",
       "      <td>0</td>\n",
       "      <td>155999.806512</td>\n",
       "      <td>сделка с автомобилем</td>\n",
       "    </tr>\n",
       "    <tr>\n",
       "      <th>21522</th>\n",
       "      <td>1</td>\n",
       "      <td>-2113.346888</td>\n",
       "      <td>38</td>\n",
       "      <td>среднее</td>\n",
       "      <td>1</td>\n",
       "      <td>гражданский брак</td>\n",
       "      <td>1</td>\n",
       "      <td>M</td>\n",
       "      <td>сотрудник</td>\n",
       "      <td>1</td>\n",
       "      <td>89672.561153</td>\n",
       "      <td>недвижимость</td>\n",
       "    </tr>\n",
       "    <tr>\n",
       "      <th>21523</th>\n",
       "      <td>3</td>\n",
       "      <td>-3112.481705</td>\n",
       "      <td>38</td>\n",
       "      <td>среднее</td>\n",
       "      <td>1</td>\n",
       "      <td>женат / замужем</td>\n",
       "      <td>0</td>\n",
       "      <td>M</td>\n",
       "      <td>сотрудник</td>\n",
       "      <td>1</td>\n",
       "      <td>244093.050500</td>\n",
       "      <td>на покупку своего автомобиля</td>\n",
       "    </tr>\n",
       "    <tr>\n",
       "      <th>21524</th>\n",
       "      <td>2</td>\n",
       "      <td>-1984.507589</td>\n",
       "      <td>40</td>\n",
       "      <td>среднее</td>\n",
       "      <td>1</td>\n",
       "      <td>женат / замужем</td>\n",
       "      <td>0</td>\n",
       "      <td>F</td>\n",
       "      <td>сотрудник</td>\n",
       "      <td>0</td>\n",
       "      <td>82047.418899</td>\n",
       "      <td>на покупку автомобиля</td>\n",
       "    </tr>\n",
       "  </tbody>\n",
       "</table>\n",
       "</div>"
      ],
      "text/plain": [
       "       children  days_employed  dob_years            education  education_id  \\\n",
       "21510         2            NaN         28              среднее             1   \n",
       "21511         0    -612.569129         29               высшее             0   \n",
       "21512         0    -165.377752         26               высшее             0   \n",
       "21513         0   -1166.216789         35              среднее             1   \n",
       "21514         0    -280.469996         27  неоконченное высшее             2   \n",
       "21515         1    -467.685130         28              среднее             1   \n",
       "21516         0    -914.391429         42               высшее             0   \n",
       "21517         0    -404.679034         42               высшее             0   \n",
       "21518         0  373995.710838         59              СРЕДНЕЕ             1   \n",
       "21519         1   -2351.431934         37       ученая степень             4   \n",
       "21520         1   -4529.316663         43              среднее             1   \n",
       "21521         0  343937.404131         67              среднее             1   \n",
       "21522         1   -2113.346888         38              среднее             1   \n",
       "21523         3   -3112.481705         38              среднее             1   \n",
       "21524         2   -1984.507589         40              среднее             1   \n",
       "\n",
       "               family_status  family_status_id gender income_type  debt  \\\n",
       "21510        женат / замужем                 0      F   сотрудник     0   \n",
       "21511       гражданский брак                 1      F   сотрудник     1   \n",
       "21512  Не женат / не замужем                 4      M   компаньон     0   \n",
       "21513        женат / замужем                 0      F   сотрудник     0   \n",
       "21514  Не женат / не замужем                 4      M   компаньон     0   \n",
       "21515        женат / замужем                 0      F   сотрудник     1   \n",
       "21516        женат / замужем                 0      F   компаньон     0   \n",
       "21517       гражданский брак                 1      F   компаньон     0   \n",
       "21518        женат / замужем                 0      F   пенсионер     0   \n",
       "21519              в разводе                 3      M   сотрудник     0   \n",
       "21520       гражданский брак                 1      F   компаньон     0   \n",
       "21521        женат / замужем                 0      F   пенсионер     0   \n",
       "21522       гражданский брак                 1      M   сотрудник     1   \n",
       "21523        женат / замужем                 0      M   сотрудник     1   \n",
       "21524        женат / замужем                 0      F   сотрудник     0   \n",
       "\n",
       "        total_income                                purpose  \n",
       "21510            NaN                приобретение автомобиля  \n",
       "21511  140068.472941                покупка жилья для сдачи  \n",
       "21512  147301.457769  получение дополнительного образования  \n",
       "21513  250986.142309                          покупка жилья  \n",
       "21514  355988.407188             строительство недвижимости  \n",
       "21515  109486.327999                  заняться образованием  \n",
       "21516  322807.776603                   покупка своего жилья  \n",
       "21517  178059.553491           на покупку своего автомобиля  \n",
       "21518  153864.650328                   сделка с автомобилем  \n",
       "21519  115949.039788      покупка коммерческой недвижимости  \n",
       "21520  224791.862382                      операции с жильем  \n",
       "21521  155999.806512                   сделка с автомобилем  \n",
       "21522   89672.561153                           недвижимость  \n",
       "21523  244093.050500           на покупку своего автомобиля  \n",
       "21524   82047.418899                  на покупку автомобиля  "
      ]
     },
     "execution_count": 91,
     "metadata": {},
     "output_type": "execute_result"
    }
   ],
   "source": [
    "data.tail(15)"
   ]
  },
  {
   "cell_type": "markdown",
   "metadata": {},
   "source": [
    "Добавил метод **tail**"
   ]
  },
  {
   "cell_type": "code",
   "execution_count": 92,
   "metadata": {},
   "outputs": [
    {
     "data": {
      "text/html": [
       "<div>\n",
       "<style scoped>\n",
       "    .dataframe tbody tr th:only-of-type {\n",
       "        vertical-align: middle;\n",
       "    }\n",
       "\n",
       "    .dataframe tbody tr th {\n",
       "        vertical-align: top;\n",
       "    }\n",
       "\n",
       "    .dataframe thead th {\n",
       "        text-align: right;\n",
       "    }\n",
       "</style>\n",
       "<table border=\"1\" class=\"dataframe\">\n",
       "  <thead>\n",
       "    <tr style=\"text-align: right;\">\n",
       "      <th></th>\n",
       "      <th>count</th>\n",
       "      <th>mean</th>\n",
       "      <th>std</th>\n",
       "      <th>min</th>\n",
       "      <th>25%</th>\n",
       "      <th>50%</th>\n",
       "      <th>75%</th>\n",
       "      <th>max</th>\n",
       "    </tr>\n",
       "  </thead>\n",
       "  <tbody>\n",
       "    <tr>\n",
       "      <th>children</th>\n",
       "      <td>21525.0</td>\n",
       "      <td>0.538908</td>\n",
       "      <td>1.381587</td>\n",
       "      <td>-1.000000</td>\n",
       "      <td>0.000000</td>\n",
       "      <td>0.000000</td>\n",
       "      <td>1.000000</td>\n",
       "      <td>2.000000e+01</td>\n",
       "    </tr>\n",
       "    <tr>\n",
       "      <th>days_employed</th>\n",
       "      <td>19351.0</td>\n",
       "      <td>63046.497661</td>\n",
       "      <td>140827.311974</td>\n",
       "      <td>-18388.949901</td>\n",
       "      <td>-2747.423625</td>\n",
       "      <td>-1203.369529</td>\n",
       "      <td>-291.095954</td>\n",
       "      <td>4.017554e+05</td>\n",
       "    </tr>\n",
       "    <tr>\n",
       "      <th>dob_years</th>\n",
       "      <td>21525.0</td>\n",
       "      <td>43.293380</td>\n",
       "      <td>12.574584</td>\n",
       "      <td>0.000000</td>\n",
       "      <td>33.000000</td>\n",
       "      <td>42.000000</td>\n",
       "      <td>53.000000</td>\n",
       "      <td>7.500000e+01</td>\n",
       "    </tr>\n",
       "    <tr>\n",
       "      <th>education_id</th>\n",
       "      <td>21525.0</td>\n",
       "      <td>0.817236</td>\n",
       "      <td>0.548138</td>\n",
       "      <td>0.000000</td>\n",
       "      <td>1.000000</td>\n",
       "      <td>1.000000</td>\n",
       "      <td>1.000000</td>\n",
       "      <td>4.000000e+00</td>\n",
       "    </tr>\n",
       "    <tr>\n",
       "      <th>family_status_id</th>\n",
       "      <td>21525.0</td>\n",
       "      <td>0.972544</td>\n",
       "      <td>1.420324</td>\n",
       "      <td>0.000000</td>\n",
       "      <td>0.000000</td>\n",
       "      <td>0.000000</td>\n",
       "      <td>1.000000</td>\n",
       "      <td>4.000000e+00</td>\n",
       "    </tr>\n",
       "    <tr>\n",
       "      <th>debt</th>\n",
       "      <td>21525.0</td>\n",
       "      <td>0.080883</td>\n",
       "      <td>0.272661</td>\n",
       "      <td>0.000000</td>\n",
       "      <td>0.000000</td>\n",
       "      <td>0.000000</td>\n",
       "      <td>0.000000</td>\n",
       "      <td>1.000000e+00</td>\n",
       "    </tr>\n",
       "    <tr>\n",
       "      <th>total_income</th>\n",
       "      <td>19351.0</td>\n",
       "      <td>167422.302208</td>\n",
       "      <td>102971.566448</td>\n",
       "      <td>20667.263793</td>\n",
       "      <td>103053.152913</td>\n",
       "      <td>145017.937533</td>\n",
       "      <td>203435.067663</td>\n",
       "      <td>2.265604e+06</td>\n",
       "    </tr>\n",
       "  </tbody>\n",
       "</table>\n",
       "</div>"
      ],
      "text/plain": [
       "                    count           mean            std           min  \\\n",
       "children          21525.0       0.538908       1.381587     -1.000000   \n",
       "days_employed     19351.0   63046.497661  140827.311974 -18388.949901   \n",
       "dob_years         21525.0      43.293380      12.574584      0.000000   \n",
       "education_id      21525.0       0.817236       0.548138      0.000000   \n",
       "family_status_id  21525.0       0.972544       1.420324      0.000000   \n",
       "debt              21525.0       0.080883       0.272661      0.000000   \n",
       "total_income      19351.0  167422.302208  102971.566448  20667.263793   \n",
       "\n",
       "                            25%            50%            75%           max  \n",
       "children               0.000000       0.000000       1.000000  2.000000e+01  \n",
       "days_employed      -2747.423625   -1203.369529    -291.095954  4.017554e+05  \n",
       "dob_years             33.000000      42.000000      53.000000  7.500000e+01  \n",
       "education_id           1.000000       1.000000       1.000000  4.000000e+00  \n",
       "family_status_id       0.000000       0.000000       1.000000  4.000000e+00  \n",
       "debt                   0.000000       0.000000       0.000000  1.000000e+00  \n",
       "total_income      103053.152913  145017.937533  203435.067663  2.265604e+06  "
      ]
     },
     "execution_count": 92,
     "metadata": {},
     "output_type": "execute_result"
    }
   ],
   "source": [
    "data.describe().T"
   ]
  },
  {
   "cell_type": "markdown",
   "metadata": {},
   "source": [
    "Добавил метод **describe**"
   ]
  },
  {
   "cell_type": "code",
   "execution_count": 93,
   "metadata": {},
   "outputs": [
    {
     "data": {
      "text/plain": [
       "children               0\n",
       "days_employed       2174\n",
       "dob_years              0\n",
       "education              0\n",
       "education_id           0\n",
       "family_status          0\n",
       "family_status_id       0\n",
       "gender                 0\n",
       "income_type            0\n",
       "debt                   0\n",
       "total_income        2174\n",
       "purpose                0\n",
       "dtype: int64"
      ]
     },
     "execution_count": 93,
     "metadata": {},
     "output_type": "execute_result"
    }
   ],
   "source": [
    "data.isna().sum()"
   ]
  },
  {
   "cell_type": "markdown",
   "metadata": {},
   "source": [
    "**Промежуточный вывод:** столбцы **days_employed** и **total_income** действительно содержат пропуски (NaN). Количество трдуового стажа в днях коррелирует с ежемесячным доходом. Т.е. данные из двух столбцов зависят друг от друга. Также я заметил, что тип занятости (в основном) тех, у кого в столбцах с пропусками - пенсионер. Возможные причины: пенсионный возраст, человеческий фактор при сборе датасета. **Медианным значением** резонно заполнить пропуски, т.к. требуются характерные значения, чтобы оценить состояние всей выборки."
   ]
  },
  {
   "cell_type": "markdown",
   "metadata": {},
   "source": [
    "**Вывод**\n",
    "\n",
    "Таблица содержит пропуски, зависимость между пропусками прослеживается. Скорее всего, пропуски в столбце **total_income** отчасти сделаны неспроста, т.к. некоторые люди имеют тип занятости - пенсионер. Соответственно столбец **days_employed**, в свою очередь, тоже имеет пропуски, которые так же зависят от значенией столбца **total_income** и **income_type**."
   ]
  },
  {
   "cell_type": "markdown",
   "metadata": {},
   "source": [
    "## Шаг 2. Предобработка данных"
   ]
  },
  {
   "cell_type": "markdown",
   "metadata": {},
   "source": [
    "### Обработка пропусков"
   ]
  },
  {
   "cell_type": "markdown",
   "metadata": {},
   "source": [
    "Посчитаем доли пропущенных значений каждого столбца"
   ]
  },
  {
   "cell_type": "code",
   "execution_count": 94,
   "metadata": {},
   "outputs": [],
   "source": [
    "days_employed_empty = data['days_employed'].isna().sum()"
   ]
  },
  {
   "cell_type": "code",
   "execution_count": 95,
   "metadata": {},
   "outputs": [],
   "source": [
    "empty_values_proportion_days_employed = days_employed_empty / data.loc[:, 'days_employed'].count()"
   ]
  },
  {
   "cell_type": "code",
   "execution_count": 96,
   "metadata": {},
   "outputs": [
    {
     "name": "stdout",
     "output_type": "stream",
     "text": [
      "Доля пропущенных значений в столбце 'days_employed' составляет:, 11.23%\n"
     ]
    }
   ],
   "source": [
    "print(\"Доля пропущенных значений в столбце 'days_employed' составляет:, {:.2%}\".format(empty_values_proportion_days_employed))"
   ]
  },
  {
   "cell_type": "code",
   "execution_count": 97,
   "metadata": {},
   "outputs": [
    {
     "name": "stdout",
     "output_type": "stream",
     "text": [
      "days_employed\n",
      "total_income\n"
     ]
    }
   ],
   "source": [
    "ser = data.isna().sum()\n",
    "index = ser.index\n",
    "for index, value in ser.items():\n",
    "    if value != 0:\n",
    "        print(index)"
   ]
  },
  {
   "cell_type": "code",
   "execution_count": 98,
   "metadata": {},
   "outputs": [
    {
     "data": {
      "text/plain": [
       "'purpose'"
      ]
     },
     "execution_count": 98,
     "metadata": {},
     "output_type": "execute_result"
    }
   ],
   "source": [
    "index"
   ]
  },
  {
   "cell_type": "code",
   "execution_count": 99,
   "metadata": {},
   "outputs": [
    {
     "data": {
      "text/plain": [
       "21525"
      ]
     },
     "execution_count": 99,
     "metadata": {},
     "output_type": "execute_result"
    }
   ],
   "source": [
    "data.shape[0]"
   ]
  },
  {
   "cell_type": "code",
   "execution_count": 100,
   "metadata": {},
   "outputs": [
    {
     "name": "stdout",
     "output_type": "stream",
     "text": [
      "<class 'pandas.core.frame.DataFrame'>\n",
      "RangeIndex: 21525 entries, 0 to 21524\n",
      "Data columns (total 12 columns):\n",
      " #   Column            Non-Null Count  Dtype  \n",
      "---  ------            --------------  -----  \n",
      " 0   children          21525 non-null  int64  \n",
      " 1   days_employed     19351 non-null  float64\n",
      " 2   dob_years         21525 non-null  int64  \n",
      " 3   education         21525 non-null  object \n",
      " 4   education_id      21525 non-null  int64  \n",
      " 5   family_status     21525 non-null  object \n",
      " 6   family_status_id  21525 non-null  int64  \n",
      " 7   gender            21525 non-null  object \n",
      " 8   income_type       21525 non-null  object \n",
      " 9   debt              21525 non-null  int64  \n",
      " 10  total_income      19351 non-null  float64\n",
      " 11  purpose           21525 non-null  object \n",
      "dtypes: float64(2), int64(5), object(5)\n",
      "memory usage: 2.0+ MB\n"
     ]
    }
   ],
   "source": [
    "data.info()"
   ]
  },
  {
   "cell_type": "code",
   "execution_count": 101,
   "metadata": {},
   "outputs": [],
   "source": [
    "def empty_values_counter(dataset):\n",
    "    empty_values = dataset.isna().sum()\n",
    "    index = empty_values.index\n",
    "    for index, empty_value in empty_values.items():\n",
    "        if empty_value != 0:\n",
    "            empty_percent = empty_value / dataset.shape[0]\n",
    "            print(\"Количество пропусков в столбце {} составляет: {:.2%}\".format(index, empty_percent))"
   ]
  },
  {
   "cell_type": "code",
   "execution_count": 102,
   "metadata": {},
   "outputs": [
    {
     "name": "stdout",
     "output_type": "stream",
     "text": [
      "Количество пропусков в столбце days_employed составляет: 10.10%\n",
      "Количество пропусков в столбце total_income составляет: 10.10%\n"
     ]
    }
   ],
   "source": [
    "empty_values_counter(data)"
   ]
  },
  {
   "cell_type": "markdown",
   "metadata": {},
   "source": [
    "Пока писал функцию, нашел ошибку по подсчету процентов пропусков в каждом столбце (метод **data.loc[:, 'days_employed'].count()**, выводил количество строк без пропусков, т.е 19351). Поэтому в функции поправил, добавив **dataset.shape[0]**"
   ]
  },
  {
   "cell_type": "code",
   "execution_count": 103,
   "metadata": {},
   "outputs": [],
   "source": [
    "total_income = data['total_income'].isna().sum()"
   ]
  },
  {
   "cell_type": "code",
   "execution_count": 104,
   "metadata": {},
   "outputs": [],
   "source": [
    "empty_values_proportion_total_income = total_income / data.loc[:, 'days_employed'].count()"
   ]
  },
  {
   "cell_type": "code",
   "execution_count": 105,
   "metadata": {},
   "outputs": [
    {
     "name": "stdout",
     "output_type": "stream",
     "text": [
      "Доля пропущенных значений в столбце 'days_employed' составляет: 11.23%\n"
     ]
    }
   ],
   "source": [
    "print(\"Доля пропущенных значений в столбце 'days_employed' составляет: {:.2%}\".format(empty_values_proportion_total_income))"
   ]
  },
  {
   "cell_type": "code",
   "execution_count": 106,
   "metadata": {},
   "outputs": [],
   "source": [
    "# В столбце total_income заполним пропуски медианным значением.\n",
    "median_values_total_income = data['total_income'].median()"
   ]
  },
  {
   "cell_type": "code",
   "execution_count": 107,
   "metadata": {},
   "outputs": [],
   "source": [
    "data['total_income'] = data['total_income'].fillna(median_values_total_income)"
   ]
  },
  {
   "cell_type": "code",
   "execution_count": 108,
   "metadata": {},
   "outputs": [
    {
     "data": {
      "text/html": [
       "<div>\n",
       "<style scoped>\n",
       "    .dataframe tbody tr th:only-of-type {\n",
       "        vertical-align: middle;\n",
       "    }\n",
       "\n",
       "    .dataframe tbody tr th {\n",
       "        vertical-align: top;\n",
       "    }\n",
       "\n",
       "    .dataframe thead th {\n",
       "        text-align: right;\n",
       "    }\n",
       "</style>\n",
       "<table border=\"1\" class=\"dataframe\">\n",
       "  <thead>\n",
       "    <tr style=\"text-align: right;\">\n",
       "      <th></th>\n",
       "      <th>children</th>\n",
       "      <th>days_employed</th>\n",
       "      <th>dob_years</th>\n",
       "      <th>education</th>\n",
       "      <th>education_id</th>\n",
       "      <th>family_status</th>\n",
       "      <th>family_status_id</th>\n",
       "      <th>gender</th>\n",
       "      <th>income_type</th>\n",
       "      <th>debt</th>\n",
       "      <th>total_income</th>\n",
       "      <th>purpose</th>\n",
       "    </tr>\n",
       "  </thead>\n",
       "  <tbody>\n",
       "    <tr>\n",
       "      <th>0</th>\n",
       "      <td>1</td>\n",
       "      <td>-8437.673028</td>\n",
       "      <td>42</td>\n",
       "      <td>высшее</td>\n",
       "      <td>0</td>\n",
       "      <td>женат / замужем</td>\n",
       "      <td>0</td>\n",
       "      <td>F</td>\n",
       "      <td>сотрудник</td>\n",
       "      <td>0</td>\n",
       "      <td>253875.639453</td>\n",
       "      <td>покупка жилья</td>\n",
       "    </tr>\n",
       "    <tr>\n",
       "      <th>1</th>\n",
       "      <td>1</td>\n",
       "      <td>-4024.803754</td>\n",
       "      <td>36</td>\n",
       "      <td>среднее</td>\n",
       "      <td>1</td>\n",
       "      <td>женат / замужем</td>\n",
       "      <td>0</td>\n",
       "      <td>F</td>\n",
       "      <td>сотрудник</td>\n",
       "      <td>0</td>\n",
       "      <td>112080.014102</td>\n",
       "      <td>приобретение автомобиля</td>\n",
       "    </tr>\n",
       "    <tr>\n",
       "      <th>2</th>\n",
       "      <td>0</td>\n",
       "      <td>-5623.422610</td>\n",
       "      <td>33</td>\n",
       "      <td>Среднее</td>\n",
       "      <td>1</td>\n",
       "      <td>женат / замужем</td>\n",
       "      <td>0</td>\n",
       "      <td>M</td>\n",
       "      <td>сотрудник</td>\n",
       "      <td>0</td>\n",
       "      <td>145885.952297</td>\n",
       "      <td>покупка жилья</td>\n",
       "    </tr>\n",
       "    <tr>\n",
       "      <th>3</th>\n",
       "      <td>3</td>\n",
       "      <td>-4124.747207</td>\n",
       "      <td>32</td>\n",
       "      <td>среднее</td>\n",
       "      <td>1</td>\n",
       "      <td>женат / замужем</td>\n",
       "      <td>0</td>\n",
       "      <td>M</td>\n",
       "      <td>сотрудник</td>\n",
       "      <td>0</td>\n",
       "      <td>267628.550329</td>\n",
       "      <td>дополнительное образование</td>\n",
       "    </tr>\n",
       "    <tr>\n",
       "      <th>4</th>\n",
       "      <td>0</td>\n",
       "      <td>340266.072047</td>\n",
       "      <td>53</td>\n",
       "      <td>среднее</td>\n",
       "      <td>1</td>\n",
       "      <td>гражданский брак</td>\n",
       "      <td>1</td>\n",
       "      <td>F</td>\n",
       "      <td>пенсионер</td>\n",
       "      <td>0</td>\n",
       "      <td>158616.077870</td>\n",
       "      <td>сыграть свадьбу</td>\n",
       "    </tr>\n",
       "    <tr>\n",
       "      <th>5</th>\n",
       "      <td>0</td>\n",
       "      <td>-926.185831</td>\n",
       "      <td>27</td>\n",
       "      <td>высшее</td>\n",
       "      <td>0</td>\n",
       "      <td>гражданский брак</td>\n",
       "      <td>1</td>\n",
       "      <td>M</td>\n",
       "      <td>компаньон</td>\n",
       "      <td>0</td>\n",
       "      <td>255763.565419</td>\n",
       "      <td>покупка жилья</td>\n",
       "    </tr>\n",
       "    <tr>\n",
       "      <th>6</th>\n",
       "      <td>0</td>\n",
       "      <td>-2879.202052</td>\n",
       "      <td>43</td>\n",
       "      <td>высшее</td>\n",
       "      <td>0</td>\n",
       "      <td>женат / замужем</td>\n",
       "      <td>0</td>\n",
       "      <td>F</td>\n",
       "      <td>компаньон</td>\n",
       "      <td>0</td>\n",
       "      <td>240525.971920</td>\n",
       "      <td>операции с жильем</td>\n",
       "    </tr>\n",
       "    <tr>\n",
       "      <th>7</th>\n",
       "      <td>0</td>\n",
       "      <td>-152.779569</td>\n",
       "      <td>50</td>\n",
       "      <td>СРЕДНЕЕ</td>\n",
       "      <td>1</td>\n",
       "      <td>женат / замужем</td>\n",
       "      <td>0</td>\n",
       "      <td>M</td>\n",
       "      <td>сотрудник</td>\n",
       "      <td>0</td>\n",
       "      <td>135823.934197</td>\n",
       "      <td>образование</td>\n",
       "    </tr>\n",
       "    <tr>\n",
       "      <th>8</th>\n",
       "      <td>2</td>\n",
       "      <td>-6929.865299</td>\n",
       "      <td>35</td>\n",
       "      <td>ВЫСШЕЕ</td>\n",
       "      <td>0</td>\n",
       "      <td>гражданский брак</td>\n",
       "      <td>1</td>\n",
       "      <td>F</td>\n",
       "      <td>сотрудник</td>\n",
       "      <td>0</td>\n",
       "      <td>95856.832424</td>\n",
       "      <td>на проведение свадьбы</td>\n",
       "    </tr>\n",
       "    <tr>\n",
       "      <th>9</th>\n",
       "      <td>0</td>\n",
       "      <td>-2188.756445</td>\n",
       "      <td>41</td>\n",
       "      <td>среднее</td>\n",
       "      <td>1</td>\n",
       "      <td>женат / замужем</td>\n",
       "      <td>0</td>\n",
       "      <td>M</td>\n",
       "      <td>сотрудник</td>\n",
       "      <td>0</td>\n",
       "      <td>144425.938277</td>\n",
       "      <td>покупка жилья для семьи</td>\n",
       "    </tr>\n",
       "    <tr>\n",
       "      <th>10</th>\n",
       "      <td>2</td>\n",
       "      <td>-4171.483647</td>\n",
       "      <td>36</td>\n",
       "      <td>высшее</td>\n",
       "      <td>0</td>\n",
       "      <td>женат / замужем</td>\n",
       "      <td>0</td>\n",
       "      <td>M</td>\n",
       "      <td>компаньон</td>\n",
       "      <td>0</td>\n",
       "      <td>113943.491460</td>\n",
       "      <td>покупка недвижимости</td>\n",
       "    </tr>\n",
       "    <tr>\n",
       "      <th>11</th>\n",
       "      <td>0</td>\n",
       "      <td>-792.701887</td>\n",
       "      <td>40</td>\n",
       "      <td>среднее</td>\n",
       "      <td>1</td>\n",
       "      <td>женат / замужем</td>\n",
       "      <td>0</td>\n",
       "      <td>F</td>\n",
       "      <td>сотрудник</td>\n",
       "      <td>0</td>\n",
       "      <td>77069.234271</td>\n",
       "      <td>покупка коммерческой недвижимости</td>\n",
       "    </tr>\n",
       "    <tr>\n",
       "      <th>12</th>\n",
       "      <td>0</td>\n",
       "      <td>NaN</td>\n",
       "      <td>65</td>\n",
       "      <td>среднее</td>\n",
       "      <td>1</td>\n",
       "      <td>гражданский брак</td>\n",
       "      <td>1</td>\n",
       "      <td>M</td>\n",
       "      <td>пенсионер</td>\n",
       "      <td>0</td>\n",
       "      <td>145017.937533</td>\n",
       "      <td>сыграть свадьбу</td>\n",
       "    </tr>\n",
       "    <tr>\n",
       "      <th>13</th>\n",
       "      <td>0</td>\n",
       "      <td>-1846.641941</td>\n",
       "      <td>54</td>\n",
       "      <td>неоконченное высшее</td>\n",
       "      <td>2</td>\n",
       "      <td>женат / замужем</td>\n",
       "      <td>0</td>\n",
       "      <td>F</td>\n",
       "      <td>сотрудник</td>\n",
       "      <td>0</td>\n",
       "      <td>130458.228857</td>\n",
       "      <td>приобретение автомобиля</td>\n",
       "    </tr>\n",
       "    <tr>\n",
       "      <th>14</th>\n",
       "      <td>0</td>\n",
       "      <td>-1844.956182</td>\n",
       "      <td>56</td>\n",
       "      <td>высшее</td>\n",
       "      <td>0</td>\n",
       "      <td>гражданский брак</td>\n",
       "      <td>1</td>\n",
       "      <td>F</td>\n",
       "      <td>компаньон</td>\n",
       "      <td>1</td>\n",
       "      <td>165127.911772</td>\n",
       "      <td>покупка жилой недвижимости</td>\n",
       "    </tr>\n",
       "    <tr>\n",
       "      <th>15</th>\n",
       "      <td>1</td>\n",
       "      <td>-972.364419</td>\n",
       "      <td>26</td>\n",
       "      <td>среднее</td>\n",
       "      <td>1</td>\n",
       "      <td>женат / замужем</td>\n",
       "      <td>0</td>\n",
       "      <td>F</td>\n",
       "      <td>сотрудник</td>\n",
       "      <td>0</td>\n",
       "      <td>116820.904450</td>\n",
       "      <td>строительство собственной недвижимости</td>\n",
       "    </tr>\n",
       "    <tr>\n",
       "      <th>16</th>\n",
       "      <td>0</td>\n",
       "      <td>-1719.934226</td>\n",
       "      <td>35</td>\n",
       "      <td>среднее</td>\n",
       "      <td>1</td>\n",
       "      <td>женат / замужем</td>\n",
       "      <td>0</td>\n",
       "      <td>F</td>\n",
       "      <td>сотрудник</td>\n",
       "      <td>0</td>\n",
       "      <td>289202.704229</td>\n",
       "      <td>недвижимость</td>\n",
       "    </tr>\n",
       "    <tr>\n",
       "      <th>17</th>\n",
       "      <td>0</td>\n",
       "      <td>-2369.999720</td>\n",
       "      <td>33</td>\n",
       "      <td>высшее</td>\n",
       "      <td>0</td>\n",
       "      <td>гражданский брак</td>\n",
       "      <td>1</td>\n",
       "      <td>M</td>\n",
       "      <td>сотрудник</td>\n",
       "      <td>0</td>\n",
       "      <td>90410.586745</td>\n",
       "      <td>строительство недвижимости</td>\n",
       "    </tr>\n",
       "    <tr>\n",
       "      <th>18</th>\n",
       "      <td>0</td>\n",
       "      <td>400281.136913</td>\n",
       "      <td>53</td>\n",
       "      <td>среднее</td>\n",
       "      <td>1</td>\n",
       "      <td>вдовец / вдова</td>\n",
       "      <td>2</td>\n",
       "      <td>F</td>\n",
       "      <td>пенсионер</td>\n",
       "      <td>0</td>\n",
       "      <td>56823.777243</td>\n",
       "      <td>на покупку подержанного автомобиля</td>\n",
       "    </tr>\n",
       "    <tr>\n",
       "      <th>19</th>\n",
       "      <td>0</td>\n",
       "      <td>-10038.818549</td>\n",
       "      <td>48</td>\n",
       "      <td>СРЕДНЕЕ</td>\n",
       "      <td>1</td>\n",
       "      <td>в разводе</td>\n",
       "      <td>3</td>\n",
       "      <td>F</td>\n",
       "      <td>сотрудник</td>\n",
       "      <td>0</td>\n",
       "      <td>242831.107982</td>\n",
       "      <td>на покупку своего автомобиля</td>\n",
       "    </tr>\n",
       "    <tr>\n",
       "      <th>20</th>\n",
       "      <td>1</td>\n",
       "      <td>-1311.604166</td>\n",
       "      <td>36</td>\n",
       "      <td>среднее</td>\n",
       "      <td>1</td>\n",
       "      <td>женат / замужем</td>\n",
       "      <td>0</td>\n",
       "      <td>M</td>\n",
       "      <td>сотрудник</td>\n",
       "      <td>0</td>\n",
       "      <td>209552.644578</td>\n",
       "      <td>недвижимость</td>\n",
       "    </tr>\n",
       "    <tr>\n",
       "      <th>21</th>\n",
       "      <td>1</td>\n",
       "      <td>-253.685166</td>\n",
       "      <td>33</td>\n",
       "      <td>среднее</td>\n",
       "      <td>1</td>\n",
       "      <td>гражданский брак</td>\n",
       "      <td>1</td>\n",
       "      <td>F</td>\n",
       "      <td>сотрудник</td>\n",
       "      <td>0</td>\n",
       "      <td>131812.203909</td>\n",
       "      <td>приобретение автомобиля</td>\n",
       "    </tr>\n",
       "    <tr>\n",
       "      <th>22</th>\n",
       "      <td>1</td>\n",
       "      <td>-1766.644138</td>\n",
       "      <td>24</td>\n",
       "      <td>среднее</td>\n",
       "      <td>1</td>\n",
       "      <td>гражданский брак</td>\n",
       "      <td>1</td>\n",
       "      <td>F</td>\n",
       "      <td>сотрудник</td>\n",
       "      <td>0</td>\n",
       "      <td>149681.140731</td>\n",
       "      <td>на покупку подержанного автомобиля</td>\n",
       "    </tr>\n",
       "    <tr>\n",
       "      <th>23</th>\n",
       "      <td>0</td>\n",
       "      <td>-272.981385</td>\n",
       "      <td>21</td>\n",
       "      <td>высшее</td>\n",
       "      <td>0</td>\n",
       "      <td>гражданский брак</td>\n",
       "      <td>1</td>\n",
       "      <td>M</td>\n",
       "      <td>сотрудник</td>\n",
       "      <td>0</td>\n",
       "      <td>128265.720871</td>\n",
       "      <td>сыграть свадьбу</td>\n",
       "    </tr>\n",
       "    <tr>\n",
       "      <th>24</th>\n",
       "      <td>1</td>\n",
       "      <td>338551.952911</td>\n",
       "      <td>57</td>\n",
       "      <td>среднее</td>\n",
       "      <td>1</td>\n",
       "      <td>Не женат / не замужем</td>\n",
       "      <td>4</td>\n",
       "      <td>F</td>\n",
       "      <td>пенсионер</td>\n",
       "      <td>0</td>\n",
       "      <td>290547.235997</td>\n",
       "      <td>операции с коммерческой недвижимостью</td>\n",
       "    </tr>\n",
       "    <tr>\n",
       "      <th>25</th>\n",
       "      <td>0</td>\n",
       "      <td>363548.489348</td>\n",
       "      <td>67</td>\n",
       "      <td>среднее</td>\n",
       "      <td>1</td>\n",
       "      <td>женат / замужем</td>\n",
       "      <td>0</td>\n",
       "      <td>M</td>\n",
       "      <td>пенсионер</td>\n",
       "      <td>0</td>\n",
       "      <td>55112.757732</td>\n",
       "      <td>покупка недвижимости</td>\n",
       "    </tr>\n",
       "    <tr>\n",
       "      <th>26</th>\n",
       "      <td>0</td>\n",
       "      <td>NaN</td>\n",
       "      <td>41</td>\n",
       "      <td>среднее</td>\n",
       "      <td>1</td>\n",
       "      <td>женат / замужем</td>\n",
       "      <td>0</td>\n",
       "      <td>M</td>\n",
       "      <td>госслужащий</td>\n",
       "      <td>0</td>\n",
       "      <td>145017.937533</td>\n",
       "      <td>образование</td>\n",
       "    </tr>\n",
       "    <tr>\n",
       "      <th>27</th>\n",
       "      <td>0</td>\n",
       "      <td>-529.191635</td>\n",
       "      <td>28</td>\n",
       "      <td>высшее</td>\n",
       "      <td>0</td>\n",
       "      <td>женат / замужем</td>\n",
       "      <td>0</td>\n",
       "      <td>M</td>\n",
       "      <td>сотрудник</td>\n",
       "      <td>0</td>\n",
       "      <td>308848.983691</td>\n",
       "      <td>строительство собственной недвижимости</td>\n",
       "    </tr>\n",
       "    <tr>\n",
       "      <th>28</th>\n",
       "      <td>1</td>\n",
       "      <td>-717.274324</td>\n",
       "      <td>26</td>\n",
       "      <td>высшее</td>\n",
       "      <td>0</td>\n",
       "      <td>женат / замужем</td>\n",
       "      <td>0</td>\n",
       "      <td>F</td>\n",
       "      <td>сотрудник</td>\n",
       "      <td>0</td>\n",
       "      <td>187863.237306</td>\n",
       "      <td>строительство собственной недвижимости</td>\n",
       "    </tr>\n",
       "    <tr>\n",
       "      <th>29</th>\n",
       "      <td>0</td>\n",
       "      <td>NaN</td>\n",
       "      <td>63</td>\n",
       "      <td>среднее</td>\n",
       "      <td>1</td>\n",
       "      <td>Не женат / не замужем</td>\n",
       "      <td>4</td>\n",
       "      <td>F</td>\n",
       "      <td>пенсионер</td>\n",
       "      <td>0</td>\n",
       "      <td>145017.937533</td>\n",
       "      <td>строительство жилой недвижимости</td>\n",
       "    </tr>\n",
       "    <tr>\n",
       "      <th>30</th>\n",
       "      <td>1</td>\n",
       "      <td>335581.668515</td>\n",
       "      <td>62</td>\n",
       "      <td>среднее</td>\n",
       "      <td>1</td>\n",
       "      <td>женат / замужем</td>\n",
       "      <td>0</td>\n",
       "      <td>F</td>\n",
       "      <td>пенсионер</td>\n",
       "      <td>0</td>\n",
       "      <td>171456.067993</td>\n",
       "      <td>операции с коммерческой недвижимостью</td>\n",
       "    </tr>\n",
       "    <tr>\n",
       "      <th>31</th>\n",
       "      <td>0</td>\n",
       "      <td>-1682.083438</td>\n",
       "      <td>47</td>\n",
       "      <td>начальное</td>\n",
       "      <td>3</td>\n",
       "      <td>женат / замужем</td>\n",
       "      <td>0</td>\n",
       "      <td>F</td>\n",
       "      <td>сотрудник</td>\n",
       "      <td>0</td>\n",
       "      <td>275485.684538</td>\n",
       "      <td>жилье</td>\n",
       "    </tr>\n",
       "    <tr>\n",
       "      <th>32</th>\n",
       "      <td>0</td>\n",
       "      <td>-4649.910832</td>\n",
       "      <td>34</td>\n",
       "      <td>СРЕДНЕЕ</td>\n",
       "      <td>1</td>\n",
       "      <td>гражданский брак</td>\n",
       "      <td>1</td>\n",
       "      <td>F</td>\n",
       "      <td>сотрудник</td>\n",
       "      <td>1</td>\n",
       "      <td>139057.464207</td>\n",
       "      <td>на проведение свадьбы</td>\n",
       "    </tr>\n",
       "    <tr>\n",
       "      <th>33</th>\n",
       "      <td>0</td>\n",
       "      <td>-1548.637544</td>\n",
       "      <td>48</td>\n",
       "      <td>среднее</td>\n",
       "      <td>1</td>\n",
       "      <td>женат / замужем</td>\n",
       "      <td>0</td>\n",
       "      <td>F</td>\n",
       "      <td>компаньон</td>\n",
       "      <td>0</td>\n",
       "      <td>157245.786233</td>\n",
       "      <td>покупка жилья</td>\n",
       "    </tr>\n",
       "    <tr>\n",
       "      <th>34</th>\n",
       "      <td>0</td>\n",
       "      <td>-4488.067031</td>\n",
       "      <td>35</td>\n",
       "      <td>среднее</td>\n",
       "      <td>1</td>\n",
       "      <td>женат / замужем</td>\n",
       "      <td>0</td>\n",
       "      <td>F</td>\n",
       "      <td>сотрудник</td>\n",
       "      <td>0</td>\n",
       "      <td>104660.449203</td>\n",
       "      <td>операции со своей недвижимостью</td>\n",
       "    </tr>\n",
       "    <tr>\n",
       "      <th>35</th>\n",
       "      <td>0</td>\n",
       "      <td>394021.072184</td>\n",
       "      <td>68</td>\n",
       "      <td>среднее</td>\n",
       "      <td>1</td>\n",
       "      <td>гражданский брак</td>\n",
       "      <td>1</td>\n",
       "      <td>M</td>\n",
       "      <td>пенсионер</td>\n",
       "      <td>0</td>\n",
       "      <td>77805.677436</td>\n",
       "      <td>на проведение свадьбы</td>\n",
       "    </tr>\n",
       "    <tr>\n",
       "      <th>36</th>\n",
       "      <td>0</td>\n",
       "      <td>-176.216688</td>\n",
       "      <td>33</td>\n",
       "      <td>среднее</td>\n",
       "      <td>1</td>\n",
       "      <td>Не женат / не замужем</td>\n",
       "      <td>4</td>\n",
       "      <td>M</td>\n",
       "      <td>сотрудник</td>\n",
       "      <td>0</td>\n",
       "      <td>138830.650734</td>\n",
       "      <td>автомобили</td>\n",
       "    </tr>\n",
       "    <tr>\n",
       "      <th>37</th>\n",
       "      <td>0</td>\n",
       "      <td>-6448.810860</td>\n",
       "      <td>43</td>\n",
       "      <td>ВЫСШЕЕ</td>\n",
       "      <td>0</td>\n",
       "      <td>гражданский брак</td>\n",
       "      <td>1</td>\n",
       "      <td>F</td>\n",
       "      <td>компаньон</td>\n",
       "      <td>0</td>\n",
       "      <td>154128.878672</td>\n",
       "      <td>приобретение автомобиля</td>\n",
       "    </tr>\n",
       "    <tr>\n",
       "      <th>38</th>\n",
       "      <td>0</td>\n",
       "      <td>-597.881827</td>\n",
       "      <td>25</td>\n",
       "      <td>высшее</td>\n",
       "      <td>0</td>\n",
       "      <td>Не женат / не замужем</td>\n",
       "      <td>4</td>\n",
       "      <td>M</td>\n",
       "      <td>сотрудник</td>\n",
       "      <td>1</td>\n",
       "      <td>192247.298639</td>\n",
       "      <td>образование</td>\n",
       "    </tr>\n",
       "    <tr>\n",
       "      <th>39</th>\n",
       "      <td>0</td>\n",
       "      <td>-650.587796</td>\n",
       "      <td>31</td>\n",
       "      <td>высшее</td>\n",
       "      <td>0</td>\n",
       "      <td>гражданский брак</td>\n",
       "      <td>1</td>\n",
       "      <td>F</td>\n",
       "      <td>компаньон</td>\n",
       "      <td>0</td>\n",
       "      <td>754240.797248</td>\n",
       "      <td>заняться образованием</td>\n",
       "    </tr>\n",
       "    <tr>\n",
       "      <th>40</th>\n",
       "      <td>0</td>\n",
       "      <td>-1030.362606</td>\n",
       "      <td>30</td>\n",
       "      <td>среднее</td>\n",
       "      <td>1</td>\n",
       "      <td>Не женат / не замужем</td>\n",
       "      <td>4</td>\n",
       "      <td>M</td>\n",
       "      <td>компаньон</td>\n",
       "      <td>0</td>\n",
       "      <td>142865.579146</td>\n",
       "      <td>покупка недвижимости</td>\n",
       "    </tr>\n",
       "    <tr>\n",
       "      <th>41</th>\n",
       "      <td>0</td>\n",
       "      <td>NaN</td>\n",
       "      <td>50</td>\n",
       "      <td>среднее</td>\n",
       "      <td>1</td>\n",
       "      <td>женат / замужем</td>\n",
       "      <td>0</td>\n",
       "      <td>F</td>\n",
       "      <td>госслужащий</td>\n",
       "      <td>0</td>\n",
       "      <td>145017.937533</td>\n",
       "      <td>сделка с подержанным автомобилем</td>\n",
       "    </tr>\n",
       "    <tr>\n",
       "      <th>42</th>\n",
       "      <td>0</td>\n",
       "      <td>-1257.496190</td>\n",
       "      <td>20</td>\n",
       "      <td>неоконченное высшее</td>\n",
       "      <td>2</td>\n",
       "      <td>Не женат / не замужем</td>\n",
       "      <td>4</td>\n",
       "      <td>F</td>\n",
       "      <td>сотрудник</td>\n",
       "      <td>0</td>\n",
       "      <td>82065.089021</td>\n",
       "      <td>получение образования</td>\n",
       "    </tr>\n",
       "    <tr>\n",
       "      <th>43</th>\n",
       "      <td>0</td>\n",
       "      <td>-4375.681384</td>\n",
       "      <td>43</td>\n",
       "      <td>неоконченное высшее</td>\n",
       "      <td>2</td>\n",
       "      <td>в разводе</td>\n",
       "      <td>3</td>\n",
       "      <td>F</td>\n",
       "      <td>компаньон</td>\n",
       "      <td>0</td>\n",
       "      <td>272957.133509</td>\n",
       "      <td>приобретение автомобиля</td>\n",
       "    </tr>\n",
       "    <tr>\n",
       "      <th>44</th>\n",
       "      <td>1</td>\n",
       "      <td>-1362.041728</td>\n",
       "      <td>26</td>\n",
       "      <td>СРЕДНЕЕ</td>\n",
       "      <td>1</td>\n",
       "      <td>женат / замужем</td>\n",
       "      <td>0</td>\n",
       "      <td>F</td>\n",
       "      <td>сотрудник</td>\n",
       "      <td>0</td>\n",
       "      <td>100780.496749</td>\n",
       "      <td>на покупку своего автомобиля</td>\n",
       "    </tr>\n",
       "    <tr>\n",
       "      <th>45</th>\n",
       "      <td>1</td>\n",
       "      <td>-1039.451741</td>\n",
       "      <td>49</td>\n",
       "      <td>среднее</td>\n",
       "      <td>1</td>\n",
       "      <td>Не женат / не замужем</td>\n",
       "      <td>4</td>\n",
       "      <td>F</td>\n",
       "      <td>сотрудник</td>\n",
       "      <td>0</td>\n",
       "      <td>106385.919724</td>\n",
       "      <td>заняться образованием</td>\n",
       "    </tr>\n",
       "    <tr>\n",
       "      <th>46</th>\n",
       "      <td>2</td>\n",
       "      <td>-2262.712304</td>\n",
       "      <td>37</td>\n",
       "      <td>среднее</td>\n",
       "      <td>1</td>\n",
       "      <td>женат / замужем</td>\n",
       "      <td>0</td>\n",
       "      <td>F</td>\n",
       "      <td>компаньон</td>\n",
       "      <td>0</td>\n",
       "      <td>182682.459898</td>\n",
       "      <td>сделка с подержанным автомобилем</td>\n",
       "    </tr>\n",
       "    <tr>\n",
       "      <th>47</th>\n",
       "      <td>1</td>\n",
       "      <td>-2689.137274</td>\n",
       "      <td>33</td>\n",
       "      <td>высшее</td>\n",
       "      <td>0</td>\n",
       "      <td>гражданский брак</td>\n",
       "      <td>1</td>\n",
       "      <td>M</td>\n",
       "      <td>госслужащий</td>\n",
       "      <td>0</td>\n",
       "      <td>356277.909345</td>\n",
       "      <td>на проведение свадьбы</td>\n",
       "    </tr>\n",
       "    <tr>\n",
       "      <th>48</th>\n",
       "      <td>0</td>\n",
       "      <td>-3341.067886</td>\n",
       "      <td>45</td>\n",
       "      <td>среднее</td>\n",
       "      <td>1</td>\n",
       "      <td>женат / замужем</td>\n",
       "      <td>0</td>\n",
       "      <td>F</td>\n",
       "      <td>сотрудник</td>\n",
       "      <td>0</td>\n",
       "      <td>162065.516450</td>\n",
       "      <td>строительство собственной недвижимости</td>\n",
       "    </tr>\n",
       "    <tr>\n",
       "      <th>49</th>\n",
       "      <td>0</td>\n",
       "      <td>-1181.443228</td>\n",
       "      <td>54</td>\n",
       "      <td>среднее</td>\n",
       "      <td>1</td>\n",
       "      <td>женат / замужем</td>\n",
       "      <td>0</td>\n",
       "      <td>F</td>\n",
       "      <td>сотрудник</td>\n",
       "      <td>0</td>\n",
       "      <td>44591.806888</td>\n",
       "      <td>автомобиль</td>\n",
       "    </tr>\n",
       "    <tr>\n",
       "      <th>50</th>\n",
       "      <td>0</td>\n",
       "      <td>353731.432338</td>\n",
       "      <td>63</td>\n",
       "      <td>среднее</td>\n",
       "      <td>1</td>\n",
       "      <td>женат / замужем</td>\n",
       "      <td>0</td>\n",
       "      <td>F</td>\n",
       "      <td>пенсионер</td>\n",
       "      <td>0</td>\n",
       "      <td>92342.730612</td>\n",
       "      <td>автомобили</td>\n",
       "    </tr>\n",
       "    <tr>\n",
       "      <th>51</th>\n",
       "      <td>1</td>\n",
       "      <td>-6953.631655</td>\n",
       "      <td>50</td>\n",
       "      <td>высшее</td>\n",
       "      <td>0</td>\n",
       "      <td>гражданский брак</td>\n",
       "      <td>1</td>\n",
       "      <td>F</td>\n",
       "      <td>сотрудник</td>\n",
       "      <td>0</td>\n",
       "      <td>203199.683569</td>\n",
       "      <td>свадьба</td>\n",
       "    </tr>\n",
       "    <tr>\n",
       "      <th>52</th>\n",
       "      <td>1</td>\n",
       "      <td>-3554.671526</td>\n",
       "      <td>28</td>\n",
       "      <td>среднее</td>\n",
       "      <td>1</td>\n",
       "      <td>женат / замужем</td>\n",
       "      <td>0</td>\n",
       "      <td>F</td>\n",
       "      <td>сотрудник</td>\n",
       "      <td>0</td>\n",
       "      <td>52746.422324</td>\n",
       "      <td>получение дополнительного образования</td>\n",
       "    </tr>\n",
       "    <tr>\n",
       "      <th>53</th>\n",
       "      <td>0</td>\n",
       "      <td>-4219.883386</td>\n",
       "      <td>61</td>\n",
       "      <td>СРЕДНЕЕ</td>\n",
       "      <td>1</td>\n",
       "      <td>в разводе</td>\n",
       "      <td>3</td>\n",
       "      <td>F</td>\n",
       "      <td>компаньон</td>\n",
       "      <td>0</td>\n",
       "      <td>311453.599530</td>\n",
       "      <td>покупка своего жилья</td>\n",
       "    </tr>\n",
       "    <tr>\n",
       "      <th>54</th>\n",
       "      <td>0</td>\n",
       "      <td>-3480.072793</td>\n",
       "      <td>27</td>\n",
       "      <td>высшее</td>\n",
       "      <td>0</td>\n",
       "      <td>гражданский брак</td>\n",
       "      <td>1</td>\n",
       "      <td>F</td>\n",
       "      <td>сотрудник</td>\n",
       "      <td>0</td>\n",
       "      <td>92238.813111</td>\n",
       "      <td>автомобили</td>\n",
       "    </tr>\n",
       "    <tr>\n",
       "      <th>55</th>\n",
       "      <td>0</td>\n",
       "      <td>NaN</td>\n",
       "      <td>54</td>\n",
       "      <td>среднее</td>\n",
       "      <td>1</td>\n",
       "      <td>гражданский брак</td>\n",
       "      <td>1</td>\n",
       "      <td>F</td>\n",
       "      <td>пенсионер</td>\n",
       "      <td>1</td>\n",
       "      <td>145017.937533</td>\n",
       "      <td>сыграть свадьбу</td>\n",
       "    </tr>\n",
       "    <tr>\n",
       "      <th>56</th>\n",
       "      <td>0</td>\n",
       "      <td>370145.087237</td>\n",
       "      <td>64</td>\n",
       "      <td>среднее</td>\n",
       "      <td>1</td>\n",
       "      <td>вдовец / вдова</td>\n",
       "      <td>2</td>\n",
       "      <td>F</td>\n",
       "      <td>пенсионер</td>\n",
       "      <td>0</td>\n",
       "      <td>149141.043533</td>\n",
       "      <td>образование</td>\n",
       "    </tr>\n",
       "    <tr>\n",
       "      <th>57</th>\n",
       "      <td>0</td>\n",
       "      <td>-2424.809749</td>\n",
       "      <td>44</td>\n",
       "      <td>среднее</td>\n",
       "      <td>1</td>\n",
       "      <td>вдовец / вдова</td>\n",
       "      <td>2</td>\n",
       "      <td>F</td>\n",
       "      <td>сотрудник</td>\n",
       "      <td>0</td>\n",
       "      <td>58616.405960</td>\n",
       "      <td>образование</td>\n",
       "    </tr>\n",
       "    <tr>\n",
       "      <th>58</th>\n",
       "      <td>0</td>\n",
       "      <td>-335.318630</td>\n",
       "      <td>36</td>\n",
       "      <td>высшее</td>\n",
       "      <td>0</td>\n",
       "      <td>женат / замужем</td>\n",
       "      <td>0</td>\n",
       "      <td>M</td>\n",
       "      <td>сотрудник</td>\n",
       "      <td>0</td>\n",
       "      <td>414404.202897</td>\n",
       "      <td>недвижимость</td>\n",
       "    </tr>\n",
       "    <tr>\n",
       "      <th>59</th>\n",
       "      <td>0</td>\n",
       "      <td>-4341.786775</td>\n",
       "      <td>53</td>\n",
       "      <td>среднее</td>\n",
       "      <td>1</td>\n",
       "      <td>гражданский брак</td>\n",
       "      <td>1</td>\n",
       "      <td>F</td>\n",
       "      <td>компаньон</td>\n",
       "      <td>0</td>\n",
       "      <td>261369.506485</td>\n",
       "      <td>операции с недвижимостью</td>\n",
       "    </tr>\n",
       "  </tbody>\n",
       "</table>\n",
       "</div>"
      ],
      "text/plain": [
       "    children  days_employed  dob_years            education  education_id  \\\n",
       "0          1   -8437.673028         42               высшее             0   \n",
       "1          1   -4024.803754         36              среднее             1   \n",
       "2          0   -5623.422610         33              Среднее             1   \n",
       "3          3   -4124.747207         32              среднее             1   \n",
       "4          0  340266.072047         53              среднее             1   \n",
       "5          0    -926.185831         27               высшее             0   \n",
       "6          0   -2879.202052         43               высшее             0   \n",
       "7          0    -152.779569         50              СРЕДНЕЕ             1   \n",
       "8          2   -6929.865299         35               ВЫСШЕЕ             0   \n",
       "9          0   -2188.756445         41              среднее             1   \n",
       "10         2   -4171.483647         36               высшее             0   \n",
       "11         0    -792.701887         40              среднее             1   \n",
       "12         0            NaN         65              среднее             1   \n",
       "13         0   -1846.641941         54  неоконченное высшее             2   \n",
       "14         0   -1844.956182         56               высшее             0   \n",
       "15         1    -972.364419         26              среднее             1   \n",
       "16         0   -1719.934226         35              среднее             1   \n",
       "17         0   -2369.999720         33               высшее             0   \n",
       "18         0  400281.136913         53              среднее             1   \n",
       "19         0  -10038.818549         48              СРЕДНЕЕ             1   \n",
       "20         1   -1311.604166         36              среднее             1   \n",
       "21         1    -253.685166         33              среднее             1   \n",
       "22         1   -1766.644138         24              среднее             1   \n",
       "23         0    -272.981385         21               высшее             0   \n",
       "24         1  338551.952911         57              среднее             1   \n",
       "25         0  363548.489348         67              среднее             1   \n",
       "26         0            NaN         41              среднее             1   \n",
       "27         0    -529.191635         28               высшее             0   \n",
       "28         1    -717.274324         26               высшее             0   \n",
       "29         0            NaN         63              среднее             1   \n",
       "30         1  335581.668515         62              среднее             1   \n",
       "31         0   -1682.083438         47            начальное             3   \n",
       "32         0   -4649.910832         34              СРЕДНЕЕ             1   \n",
       "33         0   -1548.637544         48              среднее             1   \n",
       "34         0   -4488.067031         35              среднее             1   \n",
       "35         0  394021.072184         68              среднее             1   \n",
       "36         0    -176.216688         33              среднее             1   \n",
       "37         0   -6448.810860         43               ВЫСШЕЕ             0   \n",
       "38         0    -597.881827         25               высшее             0   \n",
       "39         0    -650.587796         31               высшее             0   \n",
       "40         0   -1030.362606         30              среднее             1   \n",
       "41         0            NaN         50              среднее             1   \n",
       "42         0   -1257.496190         20  неоконченное высшее             2   \n",
       "43         0   -4375.681384         43  неоконченное высшее             2   \n",
       "44         1   -1362.041728         26              СРЕДНЕЕ             1   \n",
       "45         1   -1039.451741         49              среднее             1   \n",
       "46         2   -2262.712304         37              среднее             1   \n",
       "47         1   -2689.137274         33               высшее             0   \n",
       "48         0   -3341.067886         45              среднее             1   \n",
       "49         0   -1181.443228         54              среднее             1   \n",
       "50         0  353731.432338         63              среднее             1   \n",
       "51         1   -6953.631655         50               высшее             0   \n",
       "52         1   -3554.671526         28              среднее             1   \n",
       "53         0   -4219.883386         61              СРЕДНЕЕ             1   \n",
       "54         0   -3480.072793         27               высшее             0   \n",
       "55         0            NaN         54              среднее             1   \n",
       "56         0  370145.087237         64              среднее             1   \n",
       "57         0   -2424.809749         44              среднее             1   \n",
       "58         0    -335.318630         36               высшее             0   \n",
       "59         0   -4341.786775         53              среднее             1   \n",
       "\n",
       "            family_status  family_status_id gender  income_type  debt  \\\n",
       "0         женат / замужем                 0      F    сотрудник     0   \n",
       "1         женат / замужем                 0      F    сотрудник     0   \n",
       "2         женат / замужем                 0      M    сотрудник     0   \n",
       "3         женат / замужем                 0      M    сотрудник     0   \n",
       "4        гражданский брак                 1      F    пенсионер     0   \n",
       "5        гражданский брак                 1      M    компаньон     0   \n",
       "6         женат / замужем                 0      F    компаньон     0   \n",
       "7         женат / замужем                 0      M    сотрудник     0   \n",
       "8        гражданский брак                 1      F    сотрудник     0   \n",
       "9         женат / замужем                 0      M    сотрудник     0   \n",
       "10        женат / замужем                 0      M    компаньон     0   \n",
       "11        женат / замужем                 0      F    сотрудник     0   \n",
       "12       гражданский брак                 1      M    пенсионер     0   \n",
       "13        женат / замужем                 0      F    сотрудник     0   \n",
       "14       гражданский брак                 1      F    компаньон     1   \n",
       "15        женат / замужем                 0      F    сотрудник     0   \n",
       "16        женат / замужем                 0      F    сотрудник     0   \n",
       "17       гражданский брак                 1      M    сотрудник     0   \n",
       "18         вдовец / вдова                 2      F    пенсионер     0   \n",
       "19              в разводе                 3      F    сотрудник     0   \n",
       "20        женат / замужем                 0      M    сотрудник     0   \n",
       "21       гражданский брак                 1      F    сотрудник     0   \n",
       "22       гражданский брак                 1      F    сотрудник     0   \n",
       "23       гражданский брак                 1      M    сотрудник     0   \n",
       "24  Не женат / не замужем                 4      F    пенсионер     0   \n",
       "25        женат / замужем                 0      M    пенсионер     0   \n",
       "26        женат / замужем                 0      M  госслужащий     0   \n",
       "27        женат / замужем                 0      M    сотрудник     0   \n",
       "28        женат / замужем                 0      F    сотрудник     0   \n",
       "29  Не женат / не замужем                 4      F    пенсионер     0   \n",
       "30        женат / замужем                 0      F    пенсионер     0   \n",
       "31        женат / замужем                 0      F    сотрудник     0   \n",
       "32       гражданский брак                 1      F    сотрудник     1   \n",
       "33        женат / замужем                 0      F    компаньон     0   \n",
       "34        женат / замужем                 0      F    сотрудник     0   \n",
       "35       гражданский брак                 1      M    пенсионер     0   \n",
       "36  Не женат / не замужем                 4      M    сотрудник     0   \n",
       "37       гражданский брак                 1      F    компаньон     0   \n",
       "38  Не женат / не замужем                 4      M    сотрудник     1   \n",
       "39       гражданский брак                 1      F    компаньон     0   \n",
       "40  Не женат / не замужем                 4      M    компаньон     0   \n",
       "41        женат / замужем                 0      F  госслужащий     0   \n",
       "42  Не женат / не замужем                 4      F    сотрудник     0   \n",
       "43              в разводе                 3      F    компаньон     0   \n",
       "44        женат / замужем                 0      F    сотрудник     0   \n",
       "45  Не женат / не замужем                 4      F    сотрудник     0   \n",
       "46        женат / замужем                 0      F    компаньон     0   \n",
       "47       гражданский брак                 1      M  госслужащий     0   \n",
       "48        женат / замужем                 0      F    сотрудник     0   \n",
       "49        женат / замужем                 0      F    сотрудник     0   \n",
       "50        женат / замужем                 0      F    пенсионер     0   \n",
       "51       гражданский брак                 1      F    сотрудник     0   \n",
       "52        женат / замужем                 0      F    сотрудник     0   \n",
       "53              в разводе                 3      F    компаньон     0   \n",
       "54       гражданский брак                 1      F    сотрудник     0   \n",
       "55       гражданский брак                 1      F    пенсионер     1   \n",
       "56         вдовец / вдова                 2      F    пенсионер     0   \n",
       "57         вдовец / вдова                 2      F    сотрудник     0   \n",
       "58        женат / замужем                 0      M    сотрудник     0   \n",
       "59       гражданский брак                 1      F    компаньон     0   \n",
       "\n",
       "     total_income                                 purpose  \n",
       "0   253875.639453                           покупка жилья  \n",
       "1   112080.014102                 приобретение автомобиля  \n",
       "2   145885.952297                           покупка жилья  \n",
       "3   267628.550329              дополнительное образование  \n",
       "4   158616.077870                         сыграть свадьбу  \n",
       "5   255763.565419                           покупка жилья  \n",
       "6   240525.971920                       операции с жильем  \n",
       "7   135823.934197                             образование  \n",
       "8    95856.832424                   на проведение свадьбы  \n",
       "9   144425.938277                 покупка жилья для семьи  \n",
       "10  113943.491460                    покупка недвижимости  \n",
       "11   77069.234271       покупка коммерческой недвижимости  \n",
       "12  145017.937533                         сыграть свадьбу  \n",
       "13  130458.228857                 приобретение автомобиля  \n",
       "14  165127.911772              покупка жилой недвижимости  \n",
       "15  116820.904450  строительство собственной недвижимости  \n",
       "16  289202.704229                            недвижимость  \n",
       "17   90410.586745              строительство недвижимости  \n",
       "18   56823.777243      на покупку подержанного автомобиля  \n",
       "19  242831.107982            на покупку своего автомобиля  \n",
       "20  209552.644578                            недвижимость  \n",
       "21  131812.203909                 приобретение автомобиля  \n",
       "22  149681.140731      на покупку подержанного автомобиля  \n",
       "23  128265.720871                         сыграть свадьбу  \n",
       "24  290547.235997   операции с коммерческой недвижимостью  \n",
       "25   55112.757732                    покупка недвижимости  \n",
       "26  145017.937533                             образование  \n",
       "27  308848.983691  строительство собственной недвижимости  \n",
       "28  187863.237306  строительство собственной недвижимости  \n",
       "29  145017.937533        строительство жилой недвижимости  \n",
       "30  171456.067993   операции с коммерческой недвижимостью  \n",
       "31  275485.684538                                   жилье  \n",
       "32  139057.464207                   на проведение свадьбы  \n",
       "33  157245.786233                           покупка жилья  \n",
       "34  104660.449203         операции со своей недвижимостью  \n",
       "35   77805.677436                   на проведение свадьбы  \n",
       "36  138830.650734                              автомобили  \n",
       "37  154128.878672                 приобретение автомобиля  \n",
       "38  192247.298639                             образование  \n",
       "39  754240.797248                   заняться образованием  \n",
       "40  142865.579146                    покупка недвижимости  \n",
       "41  145017.937533        сделка с подержанным автомобилем  \n",
       "42   82065.089021                   получение образования  \n",
       "43  272957.133509                 приобретение автомобиля  \n",
       "44  100780.496749            на покупку своего автомобиля  \n",
       "45  106385.919724                   заняться образованием  \n",
       "46  182682.459898        сделка с подержанным автомобилем  \n",
       "47  356277.909345                   на проведение свадьбы  \n",
       "48  162065.516450  строительство собственной недвижимости  \n",
       "49   44591.806888                              автомобиль  \n",
       "50   92342.730612                              автомобили  \n",
       "51  203199.683569                                 свадьба  \n",
       "52   52746.422324   получение дополнительного образования  \n",
       "53  311453.599530                    покупка своего жилья  \n",
       "54   92238.813111                              автомобили  \n",
       "55  145017.937533                         сыграть свадьбу  \n",
       "56  149141.043533                             образование  \n",
       "57   58616.405960                             образование  \n",
       "58  414404.202897                            недвижимость  \n",
       "59  261369.506485                операции с недвижимостью  "
      ]
     },
     "execution_count": 108,
     "metadata": {},
     "output_type": "execute_result"
    }
   ],
   "source": [
    "data.head(60)"
   ]
  },
  {
   "cell_type": "markdown",
   "metadata": {},
   "source": [
    "**Вывод**\n",
    "\n",
    "В столбце days_employed остались отрицательные значения, которые нужно отфильтровать. После заполнения пропусков в столбце **total_income** данные приняли понятный облик. Далее заполню пропуски в столбце **days_employed** медианным значением и отфильтрую отрицательные значения."
   ]
  },
  {
   "cell_type": "markdown",
   "metadata": {},
   "source": [
    "### Замена типа данных"
   ]
  },
  {
   "cell_type": "code",
   "execution_count": 109,
   "metadata": {},
   "outputs": [
    {
     "data": {
      "text/plain": [
       "range(0, 21525)"
      ]
     },
     "execution_count": 109,
     "metadata": {},
     "output_type": "execute_result"
    }
   ],
   "source": [
    "range(len(data['days_employed']))"
   ]
  },
  {
   "cell_type": "code",
   "execution_count": 110,
   "metadata": {},
   "outputs": [
    {
     "name": "stderr",
     "output_type": "stream",
     "text": [
      "/tmp/ipykernel_31/1998947720.py:3: SettingWithCopyWarning: \n",
      "A value is trying to be set on a copy of a slice from a DataFrame\n",
      "\n",
      "See the caveats in the documentation: https://pandas.pydata.org/pandas-docs/stable/user_guide/indexing.html#returning-a-view-versus-a-copy\n",
      "  data['days_employed'][i] *= -1\n"
     ]
    },
    {
     "name": "stdout",
     "output_type": "stream",
     "text": [
      "0          8437.673028\n",
      "1          4024.803754\n",
      "2          5623.422610\n",
      "3          4124.747207\n",
      "4        340266.072047\n",
      "             ...      \n",
      "21520      4529.316663\n",
      "21521    343937.404131\n",
      "21522      2113.346888\n",
      "21523      3112.481705\n",
      "21524      1984.507589\n",
      "Name: days_employed, Length: 21525, dtype: float64\n"
     ]
    }
   ],
   "source": [
    "for i in range(len(data['days_employed'])):\n",
    "    if data['days_employed'][i] < 0:\n",
    "        data['days_employed'][i] *= -1\n",
    "print(data['days_employed'])"
   ]
  },
  {
   "cell_type": "markdown",
   "metadata": {},
   "source": [
    "Добавил цикл с функцией **abs()**"
   ]
  },
  {
   "cell_type": "code",
   "execution_count": 111,
   "metadata": {},
   "outputs": [
    {
     "name": "stderr",
     "output_type": "stream",
     "text": [
      "/tmp/ipykernel_31/337837835.py:2: SettingWithCopyWarning: \n",
      "A value is trying to be set on a copy of a slice from a DataFrame\n",
      "\n",
      "See the caveats in the documentation: https://pandas.pydata.org/pandas-docs/stable/user_guide/indexing.html#returning-a-view-versus-a-copy\n",
      "  data['days_employed'][i] = abs(data['days_employed'][i])\n"
     ]
    },
    {
     "name": "stdout",
     "output_type": "stream",
     "text": [
      "0          8437.673028\n",
      "1          4024.803754\n",
      "2          5623.422610\n",
      "3          4124.747207\n",
      "4        340266.072047\n",
      "             ...      \n",
      "21520      4529.316663\n",
      "21521    343937.404131\n",
      "21522      2113.346888\n",
      "21523      3112.481705\n",
      "21524      1984.507589\n",
      "Name: days_employed, Length: 21525, dtype: float64\n"
     ]
    }
   ],
   "source": [
    "for i in range(len(data['days_employed'])):\n",
    "    data['days_employed'][i] = abs(data['days_employed'][i])\n",
    "print(data['days_employed'])"
   ]
  },
  {
   "cell_type": "markdown",
   "metadata": {},
   "source": [
    "Исправил, сделал abs в apply()"
   ]
  },
  {
   "cell_type": "code",
   "execution_count": 112,
   "metadata": {},
   "outputs": [
    {
     "data": {
      "text/plain": [
       "0          8437.673028\n",
       "1          4024.803754\n",
       "2          5623.422610\n",
       "3          4124.747207\n",
       "4        340266.072047\n",
       "             ...      \n",
       "21520      4529.316663\n",
       "21521    343937.404131\n",
       "21522      2113.346888\n",
       "21523      3112.481705\n",
       "21524      1984.507589\n",
       "Name: days_employed, Length: 21525, dtype: float64"
      ]
     },
     "execution_count": 112,
     "metadata": {},
     "output_type": "execute_result"
    }
   ],
   "source": [
    "data['days_employed'].apply(abs)"
   ]
  },
  {
   "cell_type": "code",
   "execution_count": 113,
   "metadata": {},
   "outputs": [
    {
     "data": {
      "text/html": [
       "<div>\n",
       "<style scoped>\n",
       "    .dataframe tbody tr th:only-of-type {\n",
       "        vertical-align: middle;\n",
       "    }\n",
       "\n",
       "    .dataframe tbody tr th {\n",
       "        vertical-align: top;\n",
       "    }\n",
       "\n",
       "    .dataframe thead th {\n",
       "        text-align: right;\n",
       "    }\n",
       "</style>\n",
       "<table border=\"1\" class=\"dataframe\">\n",
       "  <thead>\n",
       "    <tr style=\"text-align: right;\">\n",
       "      <th></th>\n",
       "      <th>children</th>\n",
       "      <th>days_employed</th>\n",
       "      <th>dob_years</th>\n",
       "      <th>education</th>\n",
       "      <th>education_id</th>\n",
       "      <th>family_status</th>\n",
       "      <th>family_status_id</th>\n",
       "      <th>gender</th>\n",
       "      <th>income_type</th>\n",
       "      <th>debt</th>\n",
       "      <th>total_income</th>\n",
       "      <th>purpose</th>\n",
       "    </tr>\n",
       "  </thead>\n",
       "  <tbody>\n",
       "    <tr>\n",
       "      <th>0</th>\n",
       "      <td>1</td>\n",
       "      <td>8437.673028</td>\n",
       "      <td>42</td>\n",
       "      <td>высшее</td>\n",
       "      <td>0</td>\n",
       "      <td>женат / замужем</td>\n",
       "      <td>0</td>\n",
       "      <td>F</td>\n",
       "      <td>сотрудник</td>\n",
       "      <td>0</td>\n",
       "      <td>253875.639453</td>\n",
       "      <td>покупка жилья</td>\n",
       "    </tr>\n",
       "    <tr>\n",
       "      <th>1</th>\n",
       "      <td>1</td>\n",
       "      <td>4024.803754</td>\n",
       "      <td>36</td>\n",
       "      <td>среднее</td>\n",
       "      <td>1</td>\n",
       "      <td>женат / замужем</td>\n",
       "      <td>0</td>\n",
       "      <td>F</td>\n",
       "      <td>сотрудник</td>\n",
       "      <td>0</td>\n",
       "      <td>112080.014102</td>\n",
       "      <td>приобретение автомобиля</td>\n",
       "    </tr>\n",
       "    <tr>\n",
       "      <th>2</th>\n",
       "      <td>0</td>\n",
       "      <td>5623.422610</td>\n",
       "      <td>33</td>\n",
       "      <td>Среднее</td>\n",
       "      <td>1</td>\n",
       "      <td>женат / замужем</td>\n",
       "      <td>0</td>\n",
       "      <td>M</td>\n",
       "      <td>сотрудник</td>\n",
       "      <td>0</td>\n",
       "      <td>145885.952297</td>\n",
       "      <td>покупка жилья</td>\n",
       "    </tr>\n",
       "    <tr>\n",
       "      <th>3</th>\n",
       "      <td>3</td>\n",
       "      <td>4124.747207</td>\n",
       "      <td>32</td>\n",
       "      <td>среднее</td>\n",
       "      <td>1</td>\n",
       "      <td>женат / замужем</td>\n",
       "      <td>0</td>\n",
       "      <td>M</td>\n",
       "      <td>сотрудник</td>\n",
       "      <td>0</td>\n",
       "      <td>267628.550329</td>\n",
       "      <td>дополнительное образование</td>\n",
       "    </tr>\n",
       "    <tr>\n",
       "      <th>4</th>\n",
       "      <td>0</td>\n",
       "      <td>340266.072047</td>\n",
       "      <td>53</td>\n",
       "      <td>среднее</td>\n",
       "      <td>1</td>\n",
       "      <td>гражданский брак</td>\n",
       "      <td>1</td>\n",
       "      <td>F</td>\n",
       "      <td>пенсионер</td>\n",
       "      <td>0</td>\n",
       "      <td>158616.077870</td>\n",
       "      <td>сыграть свадьбу</td>\n",
       "    </tr>\n",
       "    <tr>\n",
       "      <th>5</th>\n",
       "      <td>0</td>\n",
       "      <td>926.185831</td>\n",
       "      <td>27</td>\n",
       "      <td>высшее</td>\n",
       "      <td>0</td>\n",
       "      <td>гражданский брак</td>\n",
       "      <td>1</td>\n",
       "      <td>M</td>\n",
       "      <td>компаньон</td>\n",
       "      <td>0</td>\n",
       "      <td>255763.565419</td>\n",
       "      <td>покупка жилья</td>\n",
       "    </tr>\n",
       "    <tr>\n",
       "      <th>6</th>\n",
       "      <td>0</td>\n",
       "      <td>2879.202052</td>\n",
       "      <td>43</td>\n",
       "      <td>высшее</td>\n",
       "      <td>0</td>\n",
       "      <td>женат / замужем</td>\n",
       "      <td>0</td>\n",
       "      <td>F</td>\n",
       "      <td>компаньон</td>\n",
       "      <td>0</td>\n",
       "      <td>240525.971920</td>\n",
       "      <td>операции с жильем</td>\n",
       "    </tr>\n",
       "    <tr>\n",
       "      <th>7</th>\n",
       "      <td>0</td>\n",
       "      <td>152.779569</td>\n",
       "      <td>50</td>\n",
       "      <td>СРЕДНЕЕ</td>\n",
       "      <td>1</td>\n",
       "      <td>женат / замужем</td>\n",
       "      <td>0</td>\n",
       "      <td>M</td>\n",
       "      <td>сотрудник</td>\n",
       "      <td>0</td>\n",
       "      <td>135823.934197</td>\n",
       "      <td>образование</td>\n",
       "    </tr>\n",
       "    <tr>\n",
       "      <th>8</th>\n",
       "      <td>2</td>\n",
       "      <td>6929.865299</td>\n",
       "      <td>35</td>\n",
       "      <td>ВЫСШЕЕ</td>\n",
       "      <td>0</td>\n",
       "      <td>гражданский брак</td>\n",
       "      <td>1</td>\n",
       "      <td>F</td>\n",
       "      <td>сотрудник</td>\n",
       "      <td>0</td>\n",
       "      <td>95856.832424</td>\n",
       "      <td>на проведение свадьбы</td>\n",
       "    </tr>\n",
       "    <tr>\n",
       "      <th>9</th>\n",
       "      <td>0</td>\n",
       "      <td>2188.756445</td>\n",
       "      <td>41</td>\n",
       "      <td>среднее</td>\n",
       "      <td>1</td>\n",
       "      <td>женат / замужем</td>\n",
       "      <td>0</td>\n",
       "      <td>M</td>\n",
       "      <td>сотрудник</td>\n",
       "      <td>0</td>\n",
       "      <td>144425.938277</td>\n",
       "      <td>покупка жилья для семьи</td>\n",
       "    </tr>\n",
       "    <tr>\n",
       "      <th>10</th>\n",
       "      <td>2</td>\n",
       "      <td>4171.483647</td>\n",
       "      <td>36</td>\n",
       "      <td>высшее</td>\n",
       "      <td>0</td>\n",
       "      <td>женат / замужем</td>\n",
       "      <td>0</td>\n",
       "      <td>M</td>\n",
       "      <td>компаньон</td>\n",
       "      <td>0</td>\n",
       "      <td>113943.491460</td>\n",
       "      <td>покупка недвижимости</td>\n",
       "    </tr>\n",
       "    <tr>\n",
       "      <th>11</th>\n",
       "      <td>0</td>\n",
       "      <td>792.701887</td>\n",
       "      <td>40</td>\n",
       "      <td>среднее</td>\n",
       "      <td>1</td>\n",
       "      <td>женат / замужем</td>\n",
       "      <td>0</td>\n",
       "      <td>F</td>\n",
       "      <td>сотрудник</td>\n",
       "      <td>0</td>\n",
       "      <td>77069.234271</td>\n",
       "      <td>покупка коммерческой недвижимости</td>\n",
       "    </tr>\n",
       "    <tr>\n",
       "      <th>12</th>\n",
       "      <td>0</td>\n",
       "      <td>NaN</td>\n",
       "      <td>65</td>\n",
       "      <td>среднее</td>\n",
       "      <td>1</td>\n",
       "      <td>гражданский брак</td>\n",
       "      <td>1</td>\n",
       "      <td>M</td>\n",
       "      <td>пенсионер</td>\n",
       "      <td>0</td>\n",
       "      <td>145017.937533</td>\n",
       "      <td>сыграть свадьбу</td>\n",
       "    </tr>\n",
       "    <tr>\n",
       "      <th>13</th>\n",
       "      <td>0</td>\n",
       "      <td>1846.641941</td>\n",
       "      <td>54</td>\n",
       "      <td>неоконченное высшее</td>\n",
       "      <td>2</td>\n",
       "      <td>женат / замужем</td>\n",
       "      <td>0</td>\n",
       "      <td>F</td>\n",
       "      <td>сотрудник</td>\n",
       "      <td>0</td>\n",
       "      <td>130458.228857</td>\n",
       "      <td>приобретение автомобиля</td>\n",
       "    </tr>\n",
       "    <tr>\n",
       "      <th>14</th>\n",
       "      <td>0</td>\n",
       "      <td>1844.956182</td>\n",
       "      <td>56</td>\n",
       "      <td>высшее</td>\n",
       "      <td>0</td>\n",
       "      <td>гражданский брак</td>\n",
       "      <td>1</td>\n",
       "      <td>F</td>\n",
       "      <td>компаньон</td>\n",
       "      <td>1</td>\n",
       "      <td>165127.911772</td>\n",
       "      <td>покупка жилой недвижимости</td>\n",
       "    </tr>\n",
       "  </tbody>\n",
       "</table>\n",
       "</div>"
      ],
      "text/plain": [
       "    children  days_employed  dob_years            education  education_id  \\\n",
       "0          1    8437.673028         42               высшее             0   \n",
       "1          1    4024.803754         36              среднее             1   \n",
       "2          0    5623.422610         33              Среднее             1   \n",
       "3          3    4124.747207         32              среднее             1   \n",
       "4          0  340266.072047         53              среднее             1   \n",
       "5          0     926.185831         27               высшее             0   \n",
       "6          0    2879.202052         43               высшее             0   \n",
       "7          0     152.779569         50              СРЕДНЕЕ             1   \n",
       "8          2    6929.865299         35               ВЫСШЕЕ             0   \n",
       "9          0    2188.756445         41              среднее             1   \n",
       "10         2    4171.483647         36               высшее             0   \n",
       "11         0     792.701887         40              среднее             1   \n",
       "12         0            NaN         65              среднее             1   \n",
       "13         0    1846.641941         54  неоконченное высшее             2   \n",
       "14         0    1844.956182         56               высшее             0   \n",
       "\n",
       "       family_status  family_status_id gender income_type  debt  \\\n",
       "0    женат / замужем                 0      F   сотрудник     0   \n",
       "1    женат / замужем                 0      F   сотрудник     0   \n",
       "2    женат / замужем                 0      M   сотрудник     0   \n",
       "3    женат / замужем                 0      M   сотрудник     0   \n",
       "4   гражданский брак                 1      F   пенсионер     0   \n",
       "5   гражданский брак                 1      M   компаньон     0   \n",
       "6    женат / замужем                 0      F   компаньон     0   \n",
       "7    женат / замужем                 0      M   сотрудник     0   \n",
       "8   гражданский брак                 1      F   сотрудник     0   \n",
       "9    женат / замужем                 0      M   сотрудник     0   \n",
       "10   женат / замужем                 0      M   компаньон     0   \n",
       "11   женат / замужем                 0      F   сотрудник     0   \n",
       "12  гражданский брак                 1      M   пенсионер     0   \n",
       "13   женат / замужем                 0      F   сотрудник     0   \n",
       "14  гражданский брак                 1      F   компаньон     1   \n",
       "\n",
       "     total_income                            purpose  \n",
       "0   253875.639453                      покупка жилья  \n",
       "1   112080.014102            приобретение автомобиля  \n",
       "2   145885.952297                      покупка жилья  \n",
       "3   267628.550329         дополнительное образование  \n",
       "4   158616.077870                    сыграть свадьбу  \n",
       "5   255763.565419                      покупка жилья  \n",
       "6   240525.971920                  операции с жильем  \n",
       "7   135823.934197                        образование  \n",
       "8    95856.832424              на проведение свадьбы  \n",
       "9   144425.938277            покупка жилья для семьи  \n",
       "10  113943.491460               покупка недвижимости  \n",
       "11   77069.234271  покупка коммерческой недвижимости  \n",
       "12  145017.937533                    сыграть свадьбу  \n",
       "13  130458.228857            приобретение автомобиля  \n",
       "14  165127.911772         покупка жилой недвижимости  "
      ]
     },
     "execution_count": 113,
     "metadata": {},
     "output_type": "execute_result"
    }
   ],
   "source": [
    "data.head(15)"
   ]
  },
  {
   "cell_type": "markdown",
   "metadata": {},
   "source": [
    "Добавил медианное значение в столбец **days_employed**"
   ]
  },
  {
   "cell_type": "code",
   "execution_count": 114,
   "metadata": {},
   "outputs": [],
   "source": [
    "median_values_days_employed = data['days_employed'].median()"
   ]
  },
  {
   "cell_type": "code",
   "execution_count": 115,
   "metadata": {},
   "outputs": [],
   "source": [
    "data['days_employed'] = data['days_employed'].fillna(median_values_days_employed)"
   ]
  },
  {
   "cell_type": "code",
   "execution_count": 116,
   "metadata": {},
   "outputs": [
    {
     "data": {
      "text/html": [
       "<div>\n",
       "<style scoped>\n",
       "    .dataframe tbody tr th:only-of-type {\n",
       "        vertical-align: middle;\n",
       "    }\n",
       "\n",
       "    .dataframe tbody tr th {\n",
       "        vertical-align: top;\n",
       "    }\n",
       "\n",
       "    .dataframe thead th {\n",
       "        text-align: right;\n",
       "    }\n",
       "</style>\n",
       "<table border=\"1\" class=\"dataframe\">\n",
       "  <thead>\n",
       "    <tr style=\"text-align: right;\">\n",
       "      <th></th>\n",
       "      <th>children</th>\n",
       "      <th>days_employed</th>\n",
       "      <th>dob_years</th>\n",
       "      <th>education</th>\n",
       "      <th>education_id</th>\n",
       "      <th>family_status</th>\n",
       "      <th>family_status_id</th>\n",
       "      <th>gender</th>\n",
       "      <th>income_type</th>\n",
       "      <th>debt</th>\n",
       "      <th>total_income</th>\n",
       "      <th>purpose</th>\n",
       "    </tr>\n",
       "  </thead>\n",
       "  <tbody>\n",
       "    <tr>\n",
       "      <th>0</th>\n",
       "      <td>1</td>\n",
       "      <td>8437.673028</td>\n",
       "      <td>42</td>\n",
       "      <td>высшее</td>\n",
       "      <td>0</td>\n",
       "      <td>женат / замужем</td>\n",
       "      <td>0</td>\n",
       "      <td>F</td>\n",
       "      <td>сотрудник</td>\n",
       "      <td>0</td>\n",
       "      <td>253875.639453</td>\n",
       "      <td>покупка жилья</td>\n",
       "    </tr>\n",
       "    <tr>\n",
       "      <th>1</th>\n",
       "      <td>1</td>\n",
       "      <td>4024.803754</td>\n",
       "      <td>36</td>\n",
       "      <td>среднее</td>\n",
       "      <td>1</td>\n",
       "      <td>женат / замужем</td>\n",
       "      <td>0</td>\n",
       "      <td>F</td>\n",
       "      <td>сотрудник</td>\n",
       "      <td>0</td>\n",
       "      <td>112080.014102</td>\n",
       "      <td>приобретение автомобиля</td>\n",
       "    </tr>\n",
       "    <tr>\n",
       "      <th>2</th>\n",
       "      <td>0</td>\n",
       "      <td>5623.422610</td>\n",
       "      <td>33</td>\n",
       "      <td>Среднее</td>\n",
       "      <td>1</td>\n",
       "      <td>женат / замужем</td>\n",
       "      <td>0</td>\n",
       "      <td>M</td>\n",
       "      <td>сотрудник</td>\n",
       "      <td>0</td>\n",
       "      <td>145885.952297</td>\n",
       "      <td>покупка жилья</td>\n",
       "    </tr>\n",
       "    <tr>\n",
       "      <th>3</th>\n",
       "      <td>3</td>\n",
       "      <td>4124.747207</td>\n",
       "      <td>32</td>\n",
       "      <td>среднее</td>\n",
       "      <td>1</td>\n",
       "      <td>женат / замужем</td>\n",
       "      <td>0</td>\n",
       "      <td>M</td>\n",
       "      <td>сотрудник</td>\n",
       "      <td>0</td>\n",
       "      <td>267628.550329</td>\n",
       "      <td>дополнительное образование</td>\n",
       "    </tr>\n",
       "    <tr>\n",
       "      <th>4</th>\n",
       "      <td>0</td>\n",
       "      <td>340266.072047</td>\n",
       "      <td>53</td>\n",
       "      <td>среднее</td>\n",
       "      <td>1</td>\n",
       "      <td>гражданский брак</td>\n",
       "      <td>1</td>\n",
       "      <td>F</td>\n",
       "      <td>пенсионер</td>\n",
       "      <td>0</td>\n",
       "      <td>158616.077870</td>\n",
       "      <td>сыграть свадьбу</td>\n",
       "    </tr>\n",
       "    <tr>\n",
       "      <th>5</th>\n",
       "      <td>0</td>\n",
       "      <td>926.185831</td>\n",
       "      <td>27</td>\n",
       "      <td>высшее</td>\n",
       "      <td>0</td>\n",
       "      <td>гражданский брак</td>\n",
       "      <td>1</td>\n",
       "      <td>M</td>\n",
       "      <td>компаньон</td>\n",
       "      <td>0</td>\n",
       "      <td>255763.565419</td>\n",
       "      <td>покупка жилья</td>\n",
       "    </tr>\n",
       "    <tr>\n",
       "      <th>6</th>\n",
       "      <td>0</td>\n",
       "      <td>2879.202052</td>\n",
       "      <td>43</td>\n",
       "      <td>высшее</td>\n",
       "      <td>0</td>\n",
       "      <td>женат / замужем</td>\n",
       "      <td>0</td>\n",
       "      <td>F</td>\n",
       "      <td>компаньон</td>\n",
       "      <td>0</td>\n",
       "      <td>240525.971920</td>\n",
       "      <td>операции с жильем</td>\n",
       "    </tr>\n",
       "    <tr>\n",
       "      <th>7</th>\n",
       "      <td>0</td>\n",
       "      <td>152.779569</td>\n",
       "      <td>50</td>\n",
       "      <td>СРЕДНЕЕ</td>\n",
       "      <td>1</td>\n",
       "      <td>женат / замужем</td>\n",
       "      <td>0</td>\n",
       "      <td>M</td>\n",
       "      <td>сотрудник</td>\n",
       "      <td>0</td>\n",
       "      <td>135823.934197</td>\n",
       "      <td>образование</td>\n",
       "    </tr>\n",
       "    <tr>\n",
       "      <th>8</th>\n",
       "      <td>2</td>\n",
       "      <td>6929.865299</td>\n",
       "      <td>35</td>\n",
       "      <td>ВЫСШЕЕ</td>\n",
       "      <td>0</td>\n",
       "      <td>гражданский брак</td>\n",
       "      <td>1</td>\n",
       "      <td>F</td>\n",
       "      <td>сотрудник</td>\n",
       "      <td>0</td>\n",
       "      <td>95856.832424</td>\n",
       "      <td>на проведение свадьбы</td>\n",
       "    </tr>\n",
       "    <tr>\n",
       "      <th>9</th>\n",
       "      <td>0</td>\n",
       "      <td>2188.756445</td>\n",
       "      <td>41</td>\n",
       "      <td>среднее</td>\n",
       "      <td>1</td>\n",
       "      <td>женат / замужем</td>\n",
       "      <td>0</td>\n",
       "      <td>M</td>\n",
       "      <td>сотрудник</td>\n",
       "      <td>0</td>\n",
       "      <td>144425.938277</td>\n",
       "      <td>покупка жилья для семьи</td>\n",
       "    </tr>\n",
       "    <tr>\n",
       "      <th>10</th>\n",
       "      <td>2</td>\n",
       "      <td>4171.483647</td>\n",
       "      <td>36</td>\n",
       "      <td>высшее</td>\n",
       "      <td>0</td>\n",
       "      <td>женат / замужем</td>\n",
       "      <td>0</td>\n",
       "      <td>M</td>\n",
       "      <td>компаньон</td>\n",
       "      <td>0</td>\n",
       "      <td>113943.491460</td>\n",
       "      <td>покупка недвижимости</td>\n",
       "    </tr>\n",
       "    <tr>\n",
       "      <th>11</th>\n",
       "      <td>0</td>\n",
       "      <td>792.701887</td>\n",
       "      <td>40</td>\n",
       "      <td>среднее</td>\n",
       "      <td>1</td>\n",
       "      <td>женат / замужем</td>\n",
       "      <td>0</td>\n",
       "      <td>F</td>\n",
       "      <td>сотрудник</td>\n",
       "      <td>0</td>\n",
       "      <td>77069.234271</td>\n",
       "      <td>покупка коммерческой недвижимости</td>\n",
       "    </tr>\n",
       "    <tr>\n",
       "      <th>12</th>\n",
       "      <td>0</td>\n",
       "      <td>2194.220567</td>\n",
       "      <td>65</td>\n",
       "      <td>среднее</td>\n",
       "      <td>1</td>\n",
       "      <td>гражданский брак</td>\n",
       "      <td>1</td>\n",
       "      <td>M</td>\n",
       "      <td>пенсионер</td>\n",
       "      <td>0</td>\n",
       "      <td>145017.937533</td>\n",
       "      <td>сыграть свадьбу</td>\n",
       "    </tr>\n",
       "    <tr>\n",
       "      <th>13</th>\n",
       "      <td>0</td>\n",
       "      <td>1846.641941</td>\n",
       "      <td>54</td>\n",
       "      <td>неоконченное высшее</td>\n",
       "      <td>2</td>\n",
       "      <td>женат / замужем</td>\n",
       "      <td>0</td>\n",
       "      <td>F</td>\n",
       "      <td>сотрудник</td>\n",
       "      <td>0</td>\n",
       "      <td>130458.228857</td>\n",
       "      <td>приобретение автомобиля</td>\n",
       "    </tr>\n",
       "    <tr>\n",
       "      <th>14</th>\n",
       "      <td>0</td>\n",
       "      <td>1844.956182</td>\n",
       "      <td>56</td>\n",
       "      <td>высшее</td>\n",
       "      <td>0</td>\n",
       "      <td>гражданский брак</td>\n",
       "      <td>1</td>\n",
       "      <td>F</td>\n",
       "      <td>компаньон</td>\n",
       "      <td>1</td>\n",
       "      <td>165127.911772</td>\n",
       "      <td>покупка жилой недвижимости</td>\n",
       "    </tr>\n",
       "  </tbody>\n",
       "</table>\n",
       "</div>"
      ],
      "text/plain": [
       "    children  days_employed  dob_years            education  education_id  \\\n",
       "0          1    8437.673028         42               высшее             0   \n",
       "1          1    4024.803754         36              среднее             1   \n",
       "2          0    5623.422610         33              Среднее             1   \n",
       "3          3    4124.747207         32              среднее             1   \n",
       "4          0  340266.072047         53              среднее             1   \n",
       "5          0     926.185831         27               высшее             0   \n",
       "6          0    2879.202052         43               высшее             0   \n",
       "7          0     152.779569         50              СРЕДНЕЕ             1   \n",
       "8          2    6929.865299         35               ВЫСШЕЕ             0   \n",
       "9          0    2188.756445         41              среднее             1   \n",
       "10         2    4171.483647         36               высшее             0   \n",
       "11         0     792.701887         40              среднее             1   \n",
       "12         0    2194.220567         65              среднее             1   \n",
       "13         0    1846.641941         54  неоконченное высшее             2   \n",
       "14         0    1844.956182         56               высшее             0   \n",
       "\n",
       "       family_status  family_status_id gender income_type  debt  \\\n",
       "0    женат / замужем                 0      F   сотрудник     0   \n",
       "1    женат / замужем                 0      F   сотрудник     0   \n",
       "2    женат / замужем                 0      M   сотрудник     0   \n",
       "3    женат / замужем                 0      M   сотрудник     0   \n",
       "4   гражданский брак                 1      F   пенсионер     0   \n",
       "5   гражданский брак                 1      M   компаньон     0   \n",
       "6    женат / замужем                 0      F   компаньон     0   \n",
       "7    женат / замужем                 0      M   сотрудник     0   \n",
       "8   гражданский брак                 1      F   сотрудник     0   \n",
       "9    женат / замужем                 0      M   сотрудник     0   \n",
       "10   женат / замужем                 0      M   компаньон     0   \n",
       "11   женат / замужем                 0      F   сотрудник     0   \n",
       "12  гражданский брак                 1      M   пенсионер     0   \n",
       "13   женат / замужем                 0      F   сотрудник     0   \n",
       "14  гражданский брак                 1      F   компаньон     1   \n",
       "\n",
       "     total_income                            purpose  \n",
       "0   253875.639453                      покупка жилья  \n",
       "1   112080.014102            приобретение автомобиля  \n",
       "2   145885.952297                      покупка жилья  \n",
       "3   267628.550329         дополнительное образование  \n",
       "4   158616.077870                    сыграть свадьбу  \n",
       "5   255763.565419                      покупка жилья  \n",
       "6   240525.971920                  операции с жильем  \n",
       "7   135823.934197                        образование  \n",
       "8    95856.832424              на проведение свадьбы  \n",
       "9   144425.938277            покупка жилья для семьи  \n",
       "10  113943.491460               покупка недвижимости  \n",
       "11   77069.234271  покупка коммерческой недвижимости  \n",
       "12  145017.937533                    сыграть свадьбу  \n",
       "13  130458.228857            приобретение автомобиля  \n",
       "14  165127.911772         покупка жилой недвижимости  "
      ]
     },
     "execution_count": 116,
     "metadata": {},
     "output_type": "execute_result"
    }
   ],
   "source": [
    "data.head(15)"
   ]
  },
  {
   "cell_type": "code",
   "execution_count": 117,
   "metadata": {},
   "outputs": [],
   "source": [
    "data.loc[data['days_employed'] > 10000, 'days_employed'] = data['days_employed'] / 100"
   ]
  },
  {
   "cell_type": "code",
   "execution_count": 118,
   "metadata": {},
   "outputs": [],
   "source": [
    "data['days_employed'] = data['days_employed'].astype('int')"
   ]
  },
  {
   "cell_type": "code",
   "execution_count": 119,
   "metadata": {},
   "outputs": [
    {
     "data": {
      "text/html": [
       "<div>\n",
       "<style scoped>\n",
       "    .dataframe tbody tr th:only-of-type {\n",
       "        vertical-align: middle;\n",
       "    }\n",
       "\n",
       "    .dataframe tbody tr th {\n",
       "        vertical-align: top;\n",
       "    }\n",
       "\n",
       "    .dataframe thead th {\n",
       "        text-align: right;\n",
       "    }\n",
       "</style>\n",
       "<table border=\"1\" class=\"dataframe\">\n",
       "  <thead>\n",
       "    <tr style=\"text-align: right;\">\n",
       "      <th></th>\n",
       "      <th>children</th>\n",
       "      <th>days_employed</th>\n",
       "      <th>dob_years</th>\n",
       "      <th>education</th>\n",
       "      <th>education_id</th>\n",
       "      <th>family_status</th>\n",
       "      <th>family_status_id</th>\n",
       "      <th>gender</th>\n",
       "      <th>income_type</th>\n",
       "      <th>debt</th>\n",
       "      <th>total_income</th>\n",
       "      <th>purpose</th>\n",
       "    </tr>\n",
       "  </thead>\n",
       "  <tbody>\n",
       "    <tr>\n",
       "      <th>0</th>\n",
       "      <td>1</td>\n",
       "      <td>8437</td>\n",
       "      <td>42</td>\n",
       "      <td>высшее</td>\n",
       "      <td>0</td>\n",
       "      <td>женат / замужем</td>\n",
       "      <td>0</td>\n",
       "      <td>F</td>\n",
       "      <td>сотрудник</td>\n",
       "      <td>0</td>\n",
       "      <td>253875.639453</td>\n",
       "      <td>покупка жилья</td>\n",
       "    </tr>\n",
       "    <tr>\n",
       "      <th>1</th>\n",
       "      <td>1</td>\n",
       "      <td>4024</td>\n",
       "      <td>36</td>\n",
       "      <td>среднее</td>\n",
       "      <td>1</td>\n",
       "      <td>женат / замужем</td>\n",
       "      <td>0</td>\n",
       "      <td>F</td>\n",
       "      <td>сотрудник</td>\n",
       "      <td>0</td>\n",
       "      <td>112080.014102</td>\n",
       "      <td>приобретение автомобиля</td>\n",
       "    </tr>\n",
       "    <tr>\n",
       "      <th>2</th>\n",
       "      <td>0</td>\n",
       "      <td>5623</td>\n",
       "      <td>33</td>\n",
       "      <td>Среднее</td>\n",
       "      <td>1</td>\n",
       "      <td>женат / замужем</td>\n",
       "      <td>0</td>\n",
       "      <td>M</td>\n",
       "      <td>сотрудник</td>\n",
       "      <td>0</td>\n",
       "      <td>145885.952297</td>\n",
       "      <td>покупка жилья</td>\n",
       "    </tr>\n",
       "    <tr>\n",
       "      <th>3</th>\n",
       "      <td>3</td>\n",
       "      <td>4124</td>\n",
       "      <td>32</td>\n",
       "      <td>среднее</td>\n",
       "      <td>1</td>\n",
       "      <td>женат / замужем</td>\n",
       "      <td>0</td>\n",
       "      <td>M</td>\n",
       "      <td>сотрудник</td>\n",
       "      <td>0</td>\n",
       "      <td>267628.550329</td>\n",
       "      <td>дополнительное образование</td>\n",
       "    </tr>\n",
       "    <tr>\n",
       "      <th>4</th>\n",
       "      <td>0</td>\n",
       "      <td>3402</td>\n",
       "      <td>53</td>\n",
       "      <td>среднее</td>\n",
       "      <td>1</td>\n",
       "      <td>гражданский брак</td>\n",
       "      <td>1</td>\n",
       "      <td>F</td>\n",
       "      <td>пенсионер</td>\n",
       "      <td>0</td>\n",
       "      <td>158616.077870</td>\n",
       "      <td>сыграть свадьбу</td>\n",
       "    </tr>\n",
       "    <tr>\n",
       "      <th>5</th>\n",
       "      <td>0</td>\n",
       "      <td>926</td>\n",
       "      <td>27</td>\n",
       "      <td>высшее</td>\n",
       "      <td>0</td>\n",
       "      <td>гражданский брак</td>\n",
       "      <td>1</td>\n",
       "      <td>M</td>\n",
       "      <td>компаньон</td>\n",
       "      <td>0</td>\n",
       "      <td>255763.565419</td>\n",
       "      <td>покупка жилья</td>\n",
       "    </tr>\n",
       "    <tr>\n",
       "      <th>6</th>\n",
       "      <td>0</td>\n",
       "      <td>2879</td>\n",
       "      <td>43</td>\n",
       "      <td>высшее</td>\n",
       "      <td>0</td>\n",
       "      <td>женат / замужем</td>\n",
       "      <td>0</td>\n",
       "      <td>F</td>\n",
       "      <td>компаньон</td>\n",
       "      <td>0</td>\n",
       "      <td>240525.971920</td>\n",
       "      <td>операции с жильем</td>\n",
       "    </tr>\n",
       "    <tr>\n",
       "      <th>7</th>\n",
       "      <td>0</td>\n",
       "      <td>152</td>\n",
       "      <td>50</td>\n",
       "      <td>СРЕДНЕЕ</td>\n",
       "      <td>1</td>\n",
       "      <td>женат / замужем</td>\n",
       "      <td>0</td>\n",
       "      <td>M</td>\n",
       "      <td>сотрудник</td>\n",
       "      <td>0</td>\n",
       "      <td>135823.934197</td>\n",
       "      <td>образование</td>\n",
       "    </tr>\n",
       "    <tr>\n",
       "      <th>8</th>\n",
       "      <td>2</td>\n",
       "      <td>6929</td>\n",
       "      <td>35</td>\n",
       "      <td>ВЫСШЕЕ</td>\n",
       "      <td>0</td>\n",
       "      <td>гражданский брак</td>\n",
       "      <td>1</td>\n",
       "      <td>F</td>\n",
       "      <td>сотрудник</td>\n",
       "      <td>0</td>\n",
       "      <td>95856.832424</td>\n",
       "      <td>на проведение свадьбы</td>\n",
       "    </tr>\n",
       "    <tr>\n",
       "      <th>9</th>\n",
       "      <td>0</td>\n",
       "      <td>2188</td>\n",
       "      <td>41</td>\n",
       "      <td>среднее</td>\n",
       "      <td>1</td>\n",
       "      <td>женат / замужем</td>\n",
       "      <td>0</td>\n",
       "      <td>M</td>\n",
       "      <td>сотрудник</td>\n",
       "      <td>0</td>\n",
       "      <td>144425.938277</td>\n",
       "      <td>покупка жилья для семьи</td>\n",
       "    </tr>\n",
       "    <tr>\n",
       "      <th>10</th>\n",
       "      <td>2</td>\n",
       "      <td>4171</td>\n",
       "      <td>36</td>\n",
       "      <td>высшее</td>\n",
       "      <td>0</td>\n",
       "      <td>женат / замужем</td>\n",
       "      <td>0</td>\n",
       "      <td>M</td>\n",
       "      <td>компаньон</td>\n",
       "      <td>0</td>\n",
       "      <td>113943.491460</td>\n",
       "      <td>покупка недвижимости</td>\n",
       "    </tr>\n",
       "    <tr>\n",
       "      <th>11</th>\n",
       "      <td>0</td>\n",
       "      <td>792</td>\n",
       "      <td>40</td>\n",
       "      <td>среднее</td>\n",
       "      <td>1</td>\n",
       "      <td>женат / замужем</td>\n",
       "      <td>0</td>\n",
       "      <td>F</td>\n",
       "      <td>сотрудник</td>\n",
       "      <td>0</td>\n",
       "      <td>77069.234271</td>\n",
       "      <td>покупка коммерческой недвижимости</td>\n",
       "    </tr>\n",
       "    <tr>\n",
       "      <th>12</th>\n",
       "      <td>0</td>\n",
       "      <td>2194</td>\n",
       "      <td>65</td>\n",
       "      <td>среднее</td>\n",
       "      <td>1</td>\n",
       "      <td>гражданский брак</td>\n",
       "      <td>1</td>\n",
       "      <td>M</td>\n",
       "      <td>пенсионер</td>\n",
       "      <td>0</td>\n",
       "      <td>145017.937533</td>\n",
       "      <td>сыграть свадьбу</td>\n",
       "    </tr>\n",
       "    <tr>\n",
       "      <th>13</th>\n",
       "      <td>0</td>\n",
       "      <td>1846</td>\n",
       "      <td>54</td>\n",
       "      <td>неоконченное высшее</td>\n",
       "      <td>2</td>\n",
       "      <td>женат / замужем</td>\n",
       "      <td>0</td>\n",
       "      <td>F</td>\n",
       "      <td>сотрудник</td>\n",
       "      <td>0</td>\n",
       "      <td>130458.228857</td>\n",
       "      <td>приобретение автомобиля</td>\n",
       "    </tr>\n",
       "    <tr>\n",
       "      <th>14</th>\n",
       "      <td>0</td>\n",
       "      <td>1844</td>\n",
       "      <td>56</td>\n",
       "      <td>высшее</td>\n",
       "      <td>0</td>\n",
       "      <td>гражданский брак</td>\n",
       "      <td>1</td>\n",
       "      <td>F</td>\n",
       "      <td>компаньон</td>\n",
       "      <td>1</td>\n",
       "      <td>165127.911772</td>\n",
       "      <td>покупка жилой недвижимости</td>\n",
       "    </tr>\n",
       "  </tbody>\n",
       "</table>\n",
       "</div>"
      ],
      "text/plain": [
       "    children  days_employed  dob_years            education  education_id  \\\n",
       "0          1           8437         42               высшее             0   \n",
       "1          1           4024         36              среднее             1   \n",
       "2          0           5623         33              Среднее             1   \n",
       "3          3           4124         32              среднее             1   \n",
       "4          0           3402         53              среднее             1   \n",
       "5          0            926         27               высшее             0   \n",
       "6          0           2879         43               высшее             0   \n",
       "7          0            152         50              СРЕДНЕЕ             1   \n",
       "8          2           6929         35               ВЫСШЕЕ             0   \n",
       "9          0           2188         41              среднее             1   \n",
       "10         2           4171         36               высшее             0   \n",
       "11         0            792         40              среднее             1   \n",
       "12         0           2194         65              среднее             1   \n",
       "13         0           1846         54  неоконченное высшее             2   \n",
       "14         0           1844         56               высшее             0   \n",
       "\n",
       "       family_status  family_status_id gender income_type  debt  \\\n",
       "0    женат / замужем                 0      F   сотрудник     0   \n",
       "1    женат / замужем                 0      F   сотрудник     0   \n",
       "2    женат / замужем                 0      M   сотрудник     0   \n",
       "3    женат / замужем                 0      M   сотрудник     0   \n",
       "4   гражданский брак                 1      F   пенсионер     0   \n",
       "5   гражданский брак                 1      M   компаньон     0   \n",
       "6    женат / замужем                 0      F   компаньон     0   \n",
       "7    женат / замужем                 0      M   сотрудник     0   \n",
       "8   гражданский брак                 1      F   сотрудник     0   \n",
       "9    женат / замужем                 0      M   сотрудник     0   \n",
       "10   женат / замужем                 0      M   компаньон     0   \n",
       "11   женат / замужем                 0      F   сотрудник     0   \n",
       "12  гражданский брак                 1      M   пенсионер     0   \n",
       "13   женат / замужем                 0      F   сотрудник     0   \n",
       "14  гражданский брак                 1      F   компаньон     1   \n",
       "\n",
       "     total_income                            purpose  \n",
       "0   253875.639453                      покупка жилья  \n",
       "1   112080.014102            приобретение автомобиля  \n",
       "2   145885.952297                      покупка жилья  \n",
       "3   267628.550329         дополнительное образование  \n",
       "4   158616.077870                    сыграть свадьбу  \n",
       "5   255763.565419                      покупка жилья  \n",
       "6   240525.971920                  операции с жильем  \n",
       "7   135823.934197                        образование  \n",
       "8    95856.832424              на проведение свадьбы  \n",
       "9   144425.938277            покупка жилья для семьи  \n",
       "10  113943.491460               покупка недвижимости  \n",
       "11   77069.234271  покупка коммерческой недвижимости  \n",
       "12  145017.937533                    сыграть свадьбу  \n",
       "13  130458.228857            приобретение автомобиля  \n",
       "14  165127.911772         покупка жилой недвижимости  "
      ]
     },
     "execution_count": 119,
     "metadata": {},
     "output_type": "execute_result"
    }
   ],
   "source": [
    "data.head(15)"
   ]
  },
  {
   "cell_type": "markdown",
   "metadata": {},
   "source": [
    "**Вывод**\n",
    "\n",
    "Заменил данные с вещественного типа на целочисленный."
   ]
  },
  {
   "cell_type": "markdown",
   "metadata": {},
   "source": [
    "### Обработка дубликатов"
   ]
  },
  {
   "cell_type": "code",
   "execution_count": 120,
   "metadata": {},
   "outputs": [
    {
     "data": {
      "text/plain": [
       "среднее                13750\n",
       "высшее                  4718\n",
       "СРЕДНЕЕ                  772\n",
       "Среднее                  711\n",
       "неоконченное высшее      668\n",
       "ВЫСШЕЕ                   274\n",
       "Высшее                   268\n",
       "начальное                250\n",
       "Неоконченное высшее       47\n",
       "НЕОКОНЧЕННОЕ ВЫСШЕЕ       29\n",
       "НАЧАЛЬНОЕ                 17\n",
       "Начальное                 15\n",
       "ученая степень             4\n",
       "УЧЕНАЯ СТЕПЕНЬ             1\n",
       "Ученая степень             1\n",
       "Name: education, dtype: int64"
      ]
     },
     "execution_count": 120,
     "metadata": {},
     "output_type": "execute_result"
    }
   ],
   "source": [
    "data['education'].value_counts()"
   ]
  },
  {
   "cell_type": "code",
   "execution_count": 121,
   "metadata": {},
   "outputs": [
    {
     "data": {
      "text/plain": [
       "54"
      ]
     },
     "execution_count": 121,
     "metadata": {},
     "output_type": "execute_result"
    }
   ],
   "source": [
    "data.duplicated().sum()"
   ]
  },
  {
   "cell_type": "code",
   "execution_count": 122,
   "metadata": {},
   "outputs": [
    {
     "data": {
      "text/html": [
       "<div>\n",
       "<style scoped>\n",
       "    .dataframe tbody tr th:only-of-type {\n",
       "        vertical-align: middle;\n",
       "    }\n",
       "\n",
       "    .dataframe tbody tr th {\n",
       "        vertical-align: top;\n",
       "    }\n",
       "\n",
       "    .dataframe thead th {\n",
       "        text-align: right;\n",
       "    }\n",
       "</style>\n",
       "<table border=\"1\" class=\"dataframe\">\n",
       "  <thead>\n",
       "    <tr style=\"text-align: right;\">\n",
       "      <th></th>\n",
       "      <th>children</th>\n",
       "      <th>days_employed</th>\n",
       "      <th>dob_years</th>\n",
       "      <th>education</th>\n",
       "      <th>education_id</th>\n",
       "      <th>family_status</th>\n",
       "      <th>family_status_id</th>\n",
       "      <th>gender</th>\n",
       "      <th>income_type</th>\n",
       "      <th>debt</th>\n",
       "      <th>total_income</th>\n",
       "      <th>purpose</th>\n",
       "    </tr>\n",
       "  </thead>\n",
       "  <tbody>\n",
       "    <tr>\n",
       "      <th>0</th>\n",
       "      <td>1</td>\n",
       "      <td>8437</td>\n",
       "      <td>42</td>\n",
       "      <td>высшее</td>\n",
       "      <td>0</td>\n",
       "      <td>женат / замужем</td>\n",
       "      <td>0</td>\n",
       "      <td>F</td>\n",
       "      <td>сотрудник</td>\n",
       "      <td>0</td>\n",
       "      <td>253875.639453</td>\n",
       "      <td>покупка жилья</td>\n",
       "    </tr>\n",
       "    <tr>\n",
       "      <th>1</th>\n",
       "      <td>1</td>\n",
       "      <td>4024</td>\n",
       "      <td>36</td>\n",
       "      <td>среднее</td>\n",
       "      <td>1</td>\n",
       "      <td>женат / замужем</td>\n",
       "      <td>0</td>\n",
       "      <td>F</td>\n",
       "      <td>сотрудник</td>\n",
       "      <td>0</td>\n",
       "      <td>112080.014102</td>\n",
       "      <td>приобретение автомобиля</td>\n",
       "    </tr>\n",
       "    <tr>\n",
       "      <th>2</th>\n",
       "      <td>0</td>\n",
       "      <td>5623</td>\n",
       "      <td>33</td>\n",
       "      <td>Среднее</td>\n",
       "      <td>1</td>\n",
       "      <td>женат / замужем</td>\n",
       "      <td>0</td>\n",
       "      <td>M</td>\n",
       "      <td>сотрудник</td>\n",
       "      <td>0</td>\n",
       "      <td>145885.952297</td>\n",
       "      <td>покупка жилья</td>\n",
       "    </tr>\n",
       "    <tr>\n",
       "      <th>3</th>\n",
       "      <td>3</td>\n",
       "      <td>4124</td>\n",
       "      <td>32</td>\n",
       "      <td>среднее</td>\n",
       "      <td>1</td>\n",
       "      <td>женат / замужем</td>\n",
       "      <td>0</td>\n",
       "      <td>M</td>\n",
       "      <td>сотрудник</td>\n",
       "      <td>0</td>\n",
       "      <td>267628.550329</td>\n",
       "      <td>дополнительное образование</td>\n",
       "    </tr>\n",
       "    <tr>\n",
       "      <th>4</th>\n",
       "      <td>0</td>\n",
       "      <td>3402</td>\n",
       "      <td>53</td>\n",
       "      <td>среднее</td>\n",
       "      <td>1</td>\n",
       "      <td>гражданский брак</td>\n",
       "      <td>1</td>\n",
       "      <td>F</td>\n",
       "      <td>пенсионер</td>\n",
       "      <td>0</td>\n",
       "      <td>158616.077870</td>\n",
       "      <td>сыграть свадьбу</td>\n",
       "    </tr>\n",
       "    <tr>\n",
       "      <th>...</th>\n",
       "      <td>...</td>\n",
       "      <td>...</td>\n",
       "      <td>...</td>\n",
       "      <td>...</td>\n",
       "      <td>...</td>\n",
       "      <td>...</td>\n",
       "      <td>...</td>\n",
       "      <td>...</td>\n",
       "      <td>...</td>\n",
       "      <td>...</td>\n",
       "      <td>...</td>\n",
       "      <td>...</td>\n",
       "    </tr>\n",
       "    <tr>\n",
       "      <th>21466</th>\n",
       "      <td>1</td>\n",
       "      <td>4529</td>\n",
       "      <td>43</td>\n",
       "      <td>среднее</td>\n",
       "      <td>1</td>\n",
       "      <td>гражданский брак</td>\n",
       "      <td>1</td>\n",
       "      <td>F</td>\n",
       "      <td>компаньон</td>\n",
       "      <td>0</td>\n",
       "      <td>224791.862382</td>\n",
       "      <td>операции с жильем</td>\n",
       "    </tr>\n",
       "    <tr>\n",
       "      <th>21467</th>\n",
       "      <td>0</td>\n",
       "      <td>3439</td>\n",
       "      <td>67</td>\n",
       "      <td>среднее</td>\n",
       "      <td>1</td>\n",
       "      <td>женат / замужем</td>\n",
       "      <td>0</td>\n",
       "      <td>F</td>\n",
       "      <td>пенсионер</td>\n",
       "      <td>0</td>\n",
       "      <td>155999.806512</td>\n",
       "      <td>сделка с автомобилем</td>\n",
       "    </tr>\n",
       "    <tr>\n",
       "      <th>21468</th>\n",
       "      <td>1</td>\n",
       "      <td>2113</td>\n",
       "      <td>38</td>\n",
       "      <td>среднее</td>\n",
       "      <td>1</td>\n",
       "      <td>гражданский брак</td>\n",
       "      <td>1</td>\n",
       "      <td>M</td>\n",
       "      <td>сотрудник</td>\n",
       "      <td>1</td>\n",
       "      <td>89672.561153</td>\n",
       "      <td>недвижимость</td>\n",
       "    </tr>\n",
       "    <tr>\n",
       "      <th>21469</th>\n",
       "      <td>3</td>\n",
       "      <td>3112</td>\n",
       "      <td>38</td>\n",
       "      <td>среднее</td>\n",
       "      <td>1</td>\n",
       "      <td>женат / замужем</td>\n",
       "      <td>0</td>\n",
       "      <td>M</td>\n",
       "      <td>сотрудник</td>\n",
       "      <td>1</td>\n",
       "      <td>244093.050500</td>\n",
       "      <td>на покупку своего автомобиля</td>\n",
       "    </tr>\n",
       "    <tr>\n",
       "      <th>21470</th>\n",
       "      <td>2</td>\n",
       "      <td>1984</td>\n",
       "      <td>40</td>\n",
       "      <td>среднее</td>\n",
       "      <td>1</td>\n",
       "      <td>женат / замужем</td>\n",
       "      <td>0</td>\n",
       "      <td>F</td>\n",
       "      <td>сотрудник</td>\n",
       "      <td>0</td>\n",
       "      <td>82047.418899</td>\n",
       "      <td>на покупку автомобиля</td>\n",
       "    </tr>\n",
       "  </tbody>\n",
       "</table>\n",
       "<p>21471 rows × 12 columns</p>\n",
       "</div>"
      ],
      "text/plain": [
       "       children  days_employed  dob_years education  education_id  \\\n",
       "0             1           8437         42    высшее             0   \n",
       "1             1           4024         36   среднее             1   \n",
       "2             0           5623         33   Среднее             1   \n",
       "3             3           4124         32   среднее             1   \n",
       "4             0           3402         53   среднее             1   \n",
       "...         ...            ...        ...       ...           ...   \n",
       "21466         1           4529         43   среднее             1   \n",
       "21467         0           3439         67   среднее             1   \n",
       "21468         1           2113         38   среднее             1   \n",
       "21469         3           3112         38   среднее             1   \n",
       "21470         2           1984         40   среднее             1   \n",
       "\n",
       "          family_status  family_status_id gender income_type  debt  \\\n",
       "0       женат / замужем                 0      F   сотрудник     0   \n",
       "1       женат / замужем                 0      F   сотрудник     0   \n",
       "2       женат / замужем                 0      M   сотрудник     0   \n",
       "3       женат / замужем                 0      M   сотрудник     0   \n",
       "4      гражданский брак                 1      F   пенсионер     0   \n",
       "...                 ...               ...    ...         ...   ...   \n",
       "21466  гражданский брак                 1      F   компаньон     0   \n",
       "21467   женат / замужем                 0      F   пенсионер     0   \n",
       "21468  гражданский брак                 1      M   сотрудник     1   \n",
       "21469   женат / замужем                 0      M   сотрудник     1   \n",
       "21470   женат / замужем                 0      F   сотрудник     0   \n",
       "\n",
       "        total_income                       purpose  \n",
       "0      253875.639453                 покупка жилья  \n",
       "1      112080.014102       приобретение автомобиля  \n",
       "2      145885.952297                 покупка жилья  \n",
       "3      267628.550329    дополнительное образование  \n",
       "4      158616.077870               сыграть свадьбу  \n",
       "...              ...                           ...  \n",
       "21466  224791.862382             операции с жильем  \n",
       "21467  155999.806512          сделка с автомобилем  \n",
       "21468   89672.561153                  недвижимость  \n",
       "21469  244093.050500  на покупку своего автомобиля  \n",
       "21470   82047.418899         на покупку автомобиля  \n",
       "\n",
       "[21471 rows x 12 columns]"
      ]
     },
     "execution_count": 122,
     "metadata": {},
     "output_type": "execute_result"
    }
   ],
   "source": [
    "data.drop_duplicates().reset_index(drop=True)"
   ]
  },
  {
   "cell_type": "code",
   "execution_count": 123,
   "metadata": {},
   "outputs": [
    {
     "data": {
      "text/plain": [
       "21510"
      ]
     },
     "execution_count": 123,
     "metadata": {},
     "output_type": "execute_result"
    }
   ],
   "source": [
    "data['education'].duplicated().sum()"
   ]
  },
  {
   "cell_type": "code",
   "execution_count": 124,
   "metadata": {},
   "outputs": [
    {
     "data": {
      "text/plain": [
       "array(['высшее', 'среднее', 'Среднее', 'СРЕДНЕЕ', 'ВЫСШЕЕ',\n",
       "       'неоконченное высшее', 'начальное', 'Высшее',\n",
       "       'НЕОКОНЧЕННОЕ ВЫСШЕЕ', 'Неоконченное высшее', 'НАЧАЛЬНОЕ',\n",
       "       'Начальное', 'Ученая степень', 'УЧЕНАЯ СТЕПЕНЬ', 'ученая степень'],\n",
       "      dtype=object)"
      ]
     },
     "execution_count": 124,
     "metadata": {},
     "output_type": "execute_result"
    }
   ],
   "source": [
    "data['education'].unique()"
   ]
  },
  {
   "cell_type": "code",
   "execution_count": 125,
   "metadata": {},
   "outputs": [
    {
     "data": {
      "text/plain": [
       "array(['F', 'M', 'XNA'], dtype=object)"
      ]
     },
     "execution_count": 125,
     "metadata": {},
     "output_type": "execute_result"
    }
   ],
   "source": [
    "data['gender'].unique()"
   ]
  },
  {
   "cell_type": "code",
   "execution_count": 126,
   "metadata": {},
   "outputs": [
    {
     "data": {
      "text/plain": [
       " 0     14149\n",
       " 1      4818\n",
       " 2      2055\n",
       " 3       330\n",
       " 20       76\n",
       "-1        47\n",
       " 4        41\n",
       " 5         9\n",
       "Name: children, dtype: int64"
      ]
     },
     "execution_count": 126,
     "metadata": {},
     "output_type": "execute_result"
    }
   ],
   "source": [
    "data['children'].value_counts()"
   ]
  },
  {
   "cell_type": "code",
   "execution_count": 127,
   "metadata": {},
   "outputs": [],
   "source": [
    "childrens_bad = [-1, 20]\n",
    "childrens_good = [0, 5]"
   ]
  },
  {
   "cell_type": "code",
   "execution_count": 128,
   "metadata": {},
   "outputs": [],
   "source": [
    "data['children'] = data['children'].replace(childrens_bad, childrens_good)"
   ]
  },
  {
   "cell_type": "code",
   "execution_count": 129,
   "metadata": {},
   "outputs": [
    {
     "data": {
      "text/plain": [
       "0    14196\n",
       "1     4818\n",
       "2     2055\n",
       "3      330\n",
       "5       85\n",
       "4       41\n",
       "Name: children, dtype: int64"
      ]
     },
     "execution_count": 129,
     "metadata": {},
     "output_type": "execute_result"
    }
   ],
   "source": [
    "data['children'].value_counts()"
   ]
  },
  {
   "cell_type": "code",
   "execution_count": 130,
   "metadata": {},
   "outputs": [
    {
     "data": {
      "text/plain": [
       "array(['женат / замужем', 'гражданский брак', 'вдовец / вдова',\n",
       "       'в разводе', 'Не женат / не замужем'], dtype=object)"
      ]
     },
     "execution_count": 130,
     "metadata": {},
     "output_type": "execute_result"
    }
   ],
   "source": [
    "data['family_status'].unique()"
   ]
  },
  {
   "cell_type": "code",
   "execution_count": 131,
   "metadata": {},
   "outputs": [],
   "source": [
    "data['family_status'] = data['family_status'].replace('Не женат / не замужем', 'не женат / не замужем')"
   ]
  },
  {
   "cell_type": "code",
   "execution_count": 132,
   "metadata": {},
   "outputs": [
    {
     "data": {
      "text/plain": [
       "array(['женат / замужем', 'гражданский брак', 'вдовец / вдова',\n",
       "       'в разводе', 'не женат / не замужем'], dtype=object)"
      ]
     },
     "execution_count": 132,
     "metadata": {},
     "output_type": "execute_result"
    }
   ],
   "source": [
    "data['family_status'].unique()"
   ]
  },
  {
   "cell_type": "code",
   "execution_count": 134,
   "metadata": {},
   "outputs": [
    {
     "data": {
      "text/html": [
       "<div>\n",
       "<style scoped>\n",
       "    .dataframe tbody tr th:only-of-type {\n",
       "        vertical-align: middle;\n",
       "    }\n",
       "\n",
       "    .dataframe tbody tr th {\n",
       "        vertical-align: top;\n",
       "    }\n",
       "\n",
       "    .dataframe thead th {\n",
       "        text-align: right;\n",
       "    }\n",
       "</style>\n",
       "<table border=\"1\" class=\"dataframe\">\n",
       "  <thead>\n",
       "    <tr style=\"text-align: right;\">\n",
       "      <th></th>\n",
       "      <th>children</th>\n",
       "      <th>days_employed</th>\n",
       "      <th>dob_years</th>\n",
       "      <th>education</th>\n",
       "      <th>education_id</th>\n",
       "      <th>family_status</th>\n",
       "      <th>family_status_id</th>\n",
       "      <th>gender</th>\n",
       "      <th>income_type</th>\n",
       "      <th>debt</th>\n",
       "      <th>total_income</th>\n",
       "      <th>purpose</th>\n",
       "    </tr>\n",
       "  </thead>\n",
       "  <tbody>\n",
       "    <tr>\n",
       "      <th>10701</th>\n",
       "      <td>0</td>\n",
       "      <td>2358</td>\n",
       "      <td>24</td>\n",
       "      <td>неоконченное высшее</td>\n",
       "      <td>2</td>\n",
       "      <td>гражданский брак</td>\n",
       "      <td>1</td>\n",
       "      <td>XNA</td>\n",
       "      <td>компаньон</td>\n",
       "      <td>0</td>\n",
       "      <td>203905.157261</td>\n",
       "      <td>покупка недвижимости</td>\n",
       "    </tr>\n",
       "  </tbody>\n",
       "</table>\n",
       "</div>"
      ],
      "text/plain": [
       "       children  days_employed  dob_years            education  education_id  \\\n",
       "10701         0           2358         24  неоконченное высшее             2   \n",
       "\n",
       "          family_status  family_status_id gender income_type  debt  \\\n",
       "10701  гражданский брак                 1    XNA   компаньон     0   \n",
       "\n",
       "        total_income               purpose  \n",
       "10701  203905.157261  покупка недвижимости  "
      ]
     },
     "execution_count": 134,
     "metadata": {},
     "output_type": "execute_result"
    }
   ],
   "source": [
    "data[data['gender'] == 'XNA']"
   ]
  },
  {
   "cell_type": "code",
   "execution_count": 135,
   "metadata": {},
   "outputs": [],
   "source": [
    "data.drop(index=[10701], axis=0, inplace=True)"
   ]
  },
  {
   "cell_type": "code",
   "execution_count": 136,
   "metadata": {},
   "outputs": [
    {
     "data": {
      "text/html": [
       "<div>\n",
       "<style scoped>\n",
       "    .dataframe tbody tr th:only-of-type {\n",
       "        vertical-align: middle;\n",
       "    }\n",
       "\n",
       "    .dataframe tbody tr th {\n",
       "        vertical-align: top;\n",
       "    }\n",
       "\n",
       "    .dataframe thead th {\n",
       "        text-align: right;\n",
       "    }\n",
       "</style>\n",
       "<table border=\"1\" class=\"dataframe\">\n",
       "  <thead>\n",
       "    <tr style=\"text-align: right;\">\n",
       "      <th></th>\n",
       "      <th>children</th>\n",
       "      <th>days_employed</th>\n",
       "      <th>dob_years</th>\n",
       "      <th>education</th>\n",
       "      <th>education_id</th>\n",
       "      <th>family_status</th>\n",
       "      <th>family_status_id</th>\n",
       "      <th>gender</th>\n",
       "      <th>income_type</th>\n",
       "      <th>debt</th>\n",
       "      <th>total_income</th>\n",
       "      <th>purpose</th>\n",
       "    </tr>\n",
       "  </thead>\n",
       "  <tbody>\n",
       "    <tr>\n",
       "      <th>10699</th>\n",
       "      <td>0</td>\n",
       "      <td>5777</td>\n",
       "      <td>53</td>\n",
       "      <td>среднее</td>\n",
       "      <td>1</td>\n",
       "      <td>не женат / не замужем</td>\n",
       "      <td>4</td>\n",
       "      <td>F</td>\n",
       "      <td>сотрудник</td>\n",
       "      <td>0</td>\n",
       "      <td>153948.641711</td>\n",
       "      <td>покупка недвижимости</td>\n",
       "    </tr>\n",
       "    <tr>\n",
       "      <th>10700</th>\n",
       "      <td>1</td>\n",
       "      <td>512</td>\n",
       "      <td>37</td>\n",
       "      <td>высшее</td>\n",
       "      <td>0</td>\n",
       "      <td>женат / замужем</td>\n",
       "      <td>0</td>\n",
       "      <td>F</td>\n",
       "      <td>компаньон</td>\n",
       "      <td>0</td>\n",
       "      <td>174396.822139</td>\n",
       "      <td>ремонт жилью</td>\n",
       "    </tr>\n",
       "    <tr>\n",
       "      <th>10702</th>\n",
       "      <td>0</td>\n",
       "      <td>3886</td>\n",
       "      <td>60</td>\n",
       "      <td>среднее</td>\n",
       "      <td>1</td>\n",
       "      <td>гражданский брак</td>\n",
       "      <td>1</td>\n",
       "      <td>F</td>\n",
       "      <td>пенсионер</td>\n",
       "      <td>0</td>\n",
       "      <td>108125.202905</td>\n",
       "      <td>свадьба</td>\n",
       "    </tr>\n",
       "    <tr>\n",
       "      <th>10703</th>\n",
       "      <td>0</td>\n",
       "      <td>3619</td>\n",
       "      <td>35</td>\n",
       "      <td>среднее</td>\n",
       "      <td>1</td>\n",
       "      <td>женат / замужем</td>\n",
       "      <td>0</td>\n",
       "      <td>F</td>\n",
       "      <td>сотрудник</td>\n",
       "      <td>0</td>\n",
       "      <td>89817.943638</td>\n",
       "      <td>получение образования</td>\n",
       "    </tr>\n",
       "  </tbody>\n",
       "</table>\n",
       "</div>"
      ],
      "text/plain": [
       "       children  days_employed  dob_years education  education_id  \\\n",
       "10699         0           5777         53   среднее             1   \n",
       "10700         1            512         37    высшее             0   \n",
       "10702         0           3886         60   среднее             1   \n",
       "10703         0           3619         35   среднее             1   \n",
       "\n",
       "               family_status  family_status_id gender income_type  debt  \\\n",
       "10699  не женат / не замужем                 4      F   сотрудник     0   \n",
       "10700        женат / замужем                 0      F   компаньон     0   \n",
       "10702       гражданский брак                 1      F   пенсионер     0   \n",
       "10703        женат / замужем                 0      F   сотрудник     0   \n",
       "\n",
       "        total_income                purpose  \n",
       "10699  153948.641711   покупка недвижимости  \n",
       "10700  174396.822139           ремонт жилью  \n",
       "10702  108125.202905                свадьба  \n",
       "10703   89817.943638  получение образования  "
      ]
     },
     "execution_count": 136,
     "metadata": {},
     "output_type": "execute_result"
    }
   ],
   "source": [
    "data.loc[10699:10703]"
   ]
  },
  {
   "cell_type": "code",
   "execution_count": 137,
   "metadata": {},
   "outputs": [],
   "source": [
    "duplicates_medium = ['Среднее', 'СРЕДНЕЕ', 'Неоконченное высшее']"
   ]
  },
  {
   "cell_type": "code",
   "execution_count": 138,
   "metadata": {},
   "outputs": [],
   "source": [
    "duplicates_beginner = ['НАЧАЛЬНОЕ', 'Начальное']"
   ]
  },
  {
   "cell_type": "code",
   "execution_count": 139,
   "metadata": {},
   "outputs": [],
   "source": [
    "duplicates_qual_high = ['ВЫСШЕЕ', 'Высшее']"
   ]
  },
  {
   "cell_type": "code",
   "execution_count": 140,
   "metadata": {},
   "outputs": [],
   "source": [
    "duplicates_high = ['НЕОКОНЧЕННОЕ ВЫСШЕЕ']"
   ]
  },
  {
   "cell_type": "code",
   "execution_count": 141,
   "metadata": {},
   "outputs": [],
   "source": [
    "duplicates_science = ['Ученая степень', 'УЧЕНАЯ СТЕПЕНЬ']"
   ]
  },
  {
   "cell_type": "code",
   "execution_count": 142,
   "metadata": {},
   "outputs": [],
   "source": [
    "name_medium = 'среднее'"
   ]
  },
  {
   "cell_type": "code",
   "execution_count": 143,
   "metadata": {},
   "outputs": [],
   "source": [
    "name_qual_higher = 'высшее'"
   ]
  },
  {
   "cell_type": "code",
   "execution_count": 144,
   "metadata": {},
   "outputs": [],
   "source": [
    "name_higher = 'неоконченное высшее'"
   ]
  },
  {
   "cell_type": "code",
   "execution_count": 145,
   "metadata": {},
   "outputs": [],
   "source": [
    "name_beginner = 'начальное'"
   ]
  },
  {
   "cell_type": "code",
   "execution_count": 146,
   "metadata": {},
   "outputs": [],
   "source": [
    "name_science = 'ученая степень'"
   ]
  },
  {
   "cell_type": "code",
   "execution_count": 147,
   "metadata": {},
   "outputs": [],
   "source": [
    " data['education'] = data['education'].replace(duplicates_medium, name_medium)"
   ]
  },
  {
   "cell_type": "code",
   "execution_count": 148,
   "metadata": {},
   "outputs": [],
   "source": [
    " data['education'] = data['education'].replace(duplicates_qual_high, name_qual_higher)"
   ]
  },
  {
   "cell_type": "code",
   "execution_count": 149,
   "metadata": {},
   "outputs": [],
   "source": [
    " data['education'] = data['education'].replace(duplicates_high, name_higher)"
   ]
  },
  {
   "cell_type": "code",
   "execution_count": 150,
   "metadata": {},
   "outputs": [],
   "source": [
    " data['education'] = data['education'].replace(duplicates_beginner, name_beginner)"
   ]
  },
  {
   "cell_type": "code",
   "execution_count": 151,
   "metadata": {},
   "outputs": [],
   "source": [
    " data['education'] = data['education'].replace(duplicates_science, name_science)"
   ]
  },
  {
   "cell_type": "code",
   "execution_count": 152,
   "metadata": {},
   "outputs": [
    {
     "data": {
      "text/html": [
       "<div>\n",
       "<style scoped>\n",
       "    .dataframe tbody tr th:only-of-type {\n",
       "        vertical-align: middle;\n",
       "    }\n",
       "\n",
       "    .dataframe tbody tr th {\n",
       "        vertical-align: top;\n",
       "    }\n",
       "\n",
       "    .dataframe thead th {\n",
       "        text-align: right;\n",
       "    }\n",
       "</style>\n",
       "<table border=\"1\" class=\"dataframe\">\n",
       "  <thead>\n",
       "    <tr style=\"text-align: right;\">\n",
       "      <th></th>\n",
       "      <th>children</th>\n",
       "      <th>days_employed</th>\n",
       "      <th>dob_years</th>\n",
       "      <th>education</th>\n",
       "      <th>education_id</th>\n",
       "      <th>family_status</th>\n",
       "      <th>family_status_id</th>\n",
       "      <th>gender</th>\n",
       "      <th>income_type</th>\n",
       "      <th>debt</th>\n",
       "      <th>total_income</th>\n",
       "      <th>purpose</th>\n",
       "    </tr>\n",
       "  </thead>\n",
       "  <tbody>\n",
       "    <tr>\n",
       "      <th>0</th>\n",
       "      <td>1</td>\n",
       "      <td>8437</td>\n",
       "      <td>42</td>\n",
       "      <td>высшее</td>\n",
       "      <td>0</td>\n",
       "      <td>женат / замужем</td>\n",
       "      <td>0</td>\n",
       "      <td>F</td>\n",
       "      <td>сотрудник</td>\n",
       "      <td>0</td>\n",
       "      <td>253875.639453</td>\n",
       "      <td>покупка жилья</td>\n",
       "    </tr>\n",
       "    <tr>\n",
       "      <th>1</th>\n",
       "      <td>1</td>\n",
       "      <td>4024</td>\n",
       "      <td>36</td>\n",
       "      <td>среднее</td>\n",
       "      <td>1</td>\n",
       "      <td>женат / замужем</td>\n",
       "      <td>0</td>\n",
       "      <td>F</td>\n",
       "      <td>сотрудник</td>\n",
       "      <td>0</td>\n",
       "      <td>112080.014102</td>\n",
       "      <td>приобретение автомобиля</td>\n",
       "    </tr>\n",
       "    <tr>\n",
       "      <th>2</th>\n",
       "      <td>0</td>\n",
       "      <td>5623</td>\n",
       "      <td>33</td>\n",
       "      <td>среднее</td>\n",
       "      <td>1</td>\n",
       "      <td>женат / замужем</td>\n",
       "      <td>0</td>\n",
       "      <td>M</td>\n",
       "      <td>сотрудник</td>\n",
       "      <td>0</td>\n",
       "      <td>145885.952297</td>\n",
       "      <td>покупка жилья</td>\n",
       "    </tr>\n",
       "    <tr>\n",
       "      <th>3</th>\n",
       "      <td>3</td>\n",
       "      <td>4124</td>\n",
       "      <td>32</td>\n",
       "      <td>среднее</td>\n",
       "      <td>1</td>\n",
       "      <td>женат / замужем</td>\n",
       "      <td>0</td>\n",
       "      <td>M</td>\n",
       "      <td>сотрудник</td>\n",
       "      <td>0</td>\n",
       "      <td>267628.550329</td>\n",
       "      <td>дополнительное образование</td>\n",
       "    </tr>\n",
       "    <tr>\n",
       "      <th>4</th>\n",
       "      <td>0</td>\n",
       "      <td>3402</td>\n",
       "      <td>53</td>\n",
       "      <td>среднее</td>\n",
       "      <td>1</td>\n",
       "      <td>гражданский брак</td>\n",
       "      <td>1</td>\n",
       "      <td>F</td>\n",
       "      <td>пенсионер</td>\n",
       "      <td>0</td>\n",
       "      <td>158616.077870</td>\n",
       "      <td>сыграть свадьбу</td>\n",
       "    </tr>\n",
       "    <tr>\n",
       "      <th>5</th>\n",
       "      <td>0</td>\n",
       "      <td>926</td>\n",
       "      <td>27</td>\n",
       "      <td>высшее</td>\n",
       "      <td>0</td>\n",
       "      <td>гражданский брак</td>\n",
       "      <td>1</td>\n",
       "      <td>M</td>\n",
       "      <td>компаньон</td>\n",
       "      <td>0</td>\n",
       "      <td>255763.565419</td>\n",
       "      <td>покупка жилья</td>\n",
       "    </tr>\n",
       "    <tr>\n",
       "      <th>6</th>\n",
       "      <td>0</td>\n",
       "      <td>2879</td>\n",
       "      <td>43</td>\n",
       "      <td>высшее</td>\n",
       "      <td>0</td>\n",
       "      <td>женат / замужем</td>\n",
       "      <td>0</td>\n",
       "      <td>F</td>\n",
       "      <td>компаньон</td>\n",
       "      <td>0</td>\n",
       "      <td>240525.971920</td>\n",
       "      <td>операции с жильем</td>\n",
       "    </tr>\n",
       "    <tr>\n",
       "      <th>7</th>\n",
       "      <td>0</td>\n",
       "      <td>152</td>\n",
       "      <td>50</td>\n",
       "      <td>среднее</td>\n",
       "      <td>1</td>\n",
       "      <td>женат / замужем</td>\n",
       "      <td>0</td>\n",
       "      <td>M</td>\n",
       "      <td>сотрудник</td>\n",
       "      <td>0</td>\n",
       "      <td>135823.934197</td>\n",
       "      <td>образование</td>\n",
       "    </tr>\n",
       "    <tr>\n",
       "      <th>8</th>\n",
       "      <td>2</td>\n",
       "      <td>6929</td>\n",
       "      <td>35</td>\n",
       "      <td>высшее</td>\n",
       "      <td>0</td>\n",
       "      <td>гражданский брак</td>\n",
       "      <td>1</td>\n",
       "      <td>F</td>\n",
       "      <td>сотрудник</td>\n",
       "      <td>0</td>\n",
       "      <td>95856.832424</td>\n",
       "      <td>на проведение свадьбы</td>\n",
       "    </tr>\n",
       "    <tr>\n",
       "      <th>9</th>\n",
       "      <td>0</td>\n",
       "      <td>2188</td>\n",
       "      <td>41</td>\n",
       "      <td>среднее</td>\n",
       "      <td>1</td>\n",
       "      <td>женат / замужем</td>\n",
       "      <td>0</td>\n",
       "      <td>M</td>\n",
       "      <td>сотрудник</td>\n",
       "      <td>0</td>\n",
       "      <td>144425.938277</td>\n",
       "      <td>покупка жилья для семьи</td>\n",
       "    </tr>\n",
       "    <tr>\n",
       "      <th>10</th>\n",
       "      <td>2</td>\n",
       "      <td>4171</td>\n",
       "      <td>36</td>\n",
       "      <td>высшее</td>\n",
       "      <td>0</td>\n",
       "      <td>женат / замужем</td>\n",
       "      <td>0</td>\n",
       "      <td>M</td>\n",
       "      <td>компаньон</td>\n",
       "      <td>0</td>\n",
       "      <td>113943.491460</td>\n",
       "      <td>покупка недвижимости</td>\n",
       "    </tr>\n",
       "    <tr>\n",
       "      <th>11</th>\n",
       "      <td>0</td>\n",
       "      <td>792</td>\n",
       "      <td>40</td>\n",
       "      <td>среднее</td>\n",
       "      <td>1</td>\n",
       "      <td>женат / замужем</td>\n",
       "      <td>0</td>\n",
       "      <td>F</td>\n",
       "      <td>сотрудник</td>\n",
       "      <td>0</td>\n",
       "      <td>77069.234271</td>\n",
       "      <td>покупка коммерческой недвижимости</td>\n",
       "    </tr>\n",
       "    <tr>\n",
       "      <th>12</th>\n",
       "      <td>0</td>\n",
       "      <td>2194</td>\n",
       "      <td>65</td>\n",
       "      <td>среднее</td>\n",
       "      <td>1</td>\n",
       "      <td>гражданский брак</td>\n",
       "      <td>1</td>\n",
       "      <td>M</td>\n",
       "      <td>пенсионер</td>\n",
       "      <td>0</td>\n",
       "      <td>145017.937533</td>\n",
       "      <td>сыграть свадьбу</td>\n",
       "    </tr>\n",
       "    <tr>\n",
       "      <th>13</th>\n",
       "      <td>0</td>\n",
       "      <td>1846</td>\n",
       "      <td>54</td>\n",
       "      <td>неоконченное высшее</td>\n",
       "      <td>2</td>\n",
       "      <td>женат / замужем</td>\n",
       "      <td>0</td>\n",
       "      <td>F</td>\n",
       "      <td>сотрудник</td>\n",
       "      <td>0</td>\n",
       "      <td>130458.228857</td>\n",
       "      <td>приобретение автомобиля</td>\n",
       "    </tr>\n",
       "    <tr>\n",
       "      <th>14</th>\n",
       "      <td>0</td>\n",
       "      <td>1844</td>\n",
       "      <td>56</td>\n",
       "      <td>высшее</td>\n",
       "      <td>0</td>\n",
       "      <td>гражданский брак</td>\n",
       "      <td>1</td>\n",
       "      <td>F</td>\n",
       "      <td>компаньон</td>\n",
       "      <td>1</td>\n",
       "      <td>165127.911772</td>\n",
       "      <td>покупка жилой недвижимости</td>\n",
       "    </tr>\n",
       "  </tbody>\n",
       "</table>\n",
       "</div>"
      ],
      "text/plain": [
       "    children  days_employed  dob_years            education  education_id  \\\n",
       "0          1           8437         42               высшее             0   \n",
       "1          1           4024         36              среднее             1   \n",
       "2          0           5623         33              среднее             1   \n",
       "3          3           4124         32              среднее             1   \n",
       "4          0           3402         53              среднее             1   \n",
       "5          0            926         27               высшее             0   \n",
       "6          0           2879         43               высшее             0   \n",
       "7          0            152         50              среднее             1   \n",
       "8          2           6929         35               высшее             0   \n",
       "9          0           2188         41              среднее             1   \n",
       "10         2           4171         36               высшее             0   \n",
       "11         0            792         40              среднее             1   \n",
       "12         0           2194         65              среднее             1   \n",
       "13         0           1846         54  неоконченное высшее             2   \n",
       "14         0           1844         56               высшее             0   \n",
       "\n",
       "       family_status  family_status_id gender income_type  debt  \\\n",
       "0    женат / замужем                 0      F   сотрудник     0   \n",
       "1    женат / замужем                 0      F   сотрудник     0   \n",
       "2    женат / замужем                 0      M   сотрудник     0   \n",
       "3    женат / замужем                 0      M   сотрудник     0   \n",
       "4   гражданский брак                 1      F   пенсионер     0   \n",
       "5   гражданский брак                 1      M   компаньон     0   \n",
       "6    женат / замужем                 0      F   компаньон     0   \n",
       "7    женат / замужем                 0      M   сотрудник     0   \n",
       "8   гражданский брак                 1      F   сотрудник     0   \n",
       "9    женат / замужем                 0      M   сотрудник     0   \n",
       "10   женат / замужем                 0      M   компаньон     0   \n",
       "11   женат / замужем                 0      F   сотрудник     0   \n",
       "12  гражданский брак                 1      M   пенсионер     0   \n",
       "13   женат / замужем                 0      F   сотрудник     0   \n",
       "14  гражданский брак                 1      F   компаньон     1   \n",
       "\n",
       "     total_income                            purpose  \n",
       "0   253875.639453                      покупка жилья  \n",
       "1   112080.014102            приобретение автомобиля  \n",
       "2   145885.952297                      покупка жилья  \n",
       "3   267628.550329         дополнительное образование  \n",
       "4   158616.077870                    сыграть свадьбу  \n",
       "5   255763.565419                      покупка жилья  \n",
       "6   240525.971920                  операции с жильем  \n",
       "7   135823.934197                        образование  \n",
       "8    95856.832424              на проведение свадьбы  \n",
       "9   144425.938277            покупка жилья для семьи  \n",
       "10  113943.491460               покупка недвижимости  \n",
       "11   77069.234271  покупка коммерческой недвижимости  \n",
       "12  145017.937533                    сыграть свадьбу  \n",
       "13  130458.228857            приобретение автомобиля  \n",
       "14  165127.911772         покупка жилой недвижимости  "
      ]
     },
     "execution_count": 152,
     "metadata": {},
     "output_type": "execute_result"
    }
   ],
   "source": [
    "data.head(15)"
   ]
  },
  {
   "cell_type": "code",
   "execution_count": 153,
   "metadata": {},
   "outputs": [
    {
     "data": {
      "text/plain": [
       "array(['высшее', 'среднее', 'неоконченное высшее', 'начальное',\n",
       "       'ученая степень'], dtype=object)"
      ]
     },
     "execution_count": 153,
     "metadata": {},
     "output_type": "execute_result"
    }
   ],
   "source": [
    "data['education'].unique()"
   ]
  },
  {
   "cell_type": "markdown",
   "metadata": {},
   "source": [
    "**Вывод**\n",
    "\n",
    "Дубликаты удалены. Использовал методы **unique()** и **drop_duplicates()** для проверки и удаления дубликатов. Дубликаты появились, скорее всего, в следствие человеческого фактора."
   ]
  },
  {
   "cell_type": "markdown",
   "metadata": {},
   "source": [
    "### Лемматизация"
   ]
  },
  {
   "cell_type": "code",
   "execution_count": 154,
   "metadata": {},
   "outputs": [
    {
     "data": {
      "text/plain": [
       "pandas.core.frame.DataFrame"
      ]
     },
     "execution_count": 154,
     "metadata": {},
     "output_type": "execute_result"
    }
   ],
   "source": [
    "family_status = data[['family_status_id', 'family_status']]\n",
    "type(family_status)"
   ]
  },
  {
   "cell_type": "code",
   "execution_count": 155,
   "metadata": {},
   "outputs": [
    {
     "data": {
      "text/plain": [
       "pandas.core.frame.DataFrame"
      ]
     },
     "execution_count": 155,
     "metadata": {},
     "output_type": "execute_result"
    }
   ],
   "source": [
    "educations = data[['education_id', 'education']]\n",
    "type(educations)"
   ]
  },
  {
   "cell_type": "markdown",
   "metadata": {},
   "source": [
    "Поправил вывод: ошибся в функции **type()** - использовал не то название переменной."
   ]
  },
  {
   "cell_type": "markdown",
   "metadata": {},
   "source": [
    "**Вывод**\n",
    "\n",
    "Создал два датафрейма с идентификаторами, по которым можно обращаться к значениям."
   ]
  },
  {
   "cell_type": "markdown",
   "metadata": {},
   "source": [
    "### Категоризация данных"
   ]
  },
  {
   "cell_type": "code",
   "execution_count": 156,
   "metadata": {},
   "outputs": [],
   "source": [
    "def total_income_group(num):\n",
    "    if num >= 0 and num <= 30000:\n",
    "        return 'E'\n",
    "    if num >=30001 and num <= 50000:\n",
    "        return 'D'\n",
    "    if num >= 50001 and num <= 200000:\n",
    "        return 'C'\n",
    "    if num >= 200001 and num <= 1000000:\n",
    "        return 'B'\n",
    "    if num >= 1000001:\n",
    "        return 'A'"
   ]
  },
  {
   "cell_type": "code",
   "execution_count": 157,
   "metadata": {},
   "outputs": [
    {
     "data": {
      "text/plain": [
       "'C'"
      ]
     },
     "execution_count": 157,
     "metadata": {},
     "output_type": "execute_result"
    }
   ],
   "source": [
    "total_income_group(100000)"
   ]
  },
  {
   "cell_type": "code",
   "execution_count": 158,
   "metadata": {},
   "outputs": [],
   "source": [
    "data['total_income_group'] = data['total_income'].apply(total_income_group)"
   ]
  },
  {
   "cell_type": "code",
   "execution_count": 159,
   "metadata": {},
   "outputs": [
    {
     "data": {
      "text/html": [
       "<div>\n",
       "<style scoped>\n",
       "    .dataframe tbody tr th:only-of-type {\n",
       "        vertical-align: middle;\n",
       "    }\n",
       "\n",
       "    .dataframe tbody tr th {\n",
       "        vertical-align: top;\n",
       "    }\n",
       "\n",
       "    .dataframe thead th {\n",
       "        text-align: right;\n",
       "    }\n",
       "</style>\n",
       "<table border=\"1\" class=\"dataframe\">\n",
       "  <thead>\n",
       "    <tr style=\"text-align: right;\">\n",
       "      <th></th>\n",
       "      <th>children</th>\n",
       "      <th>days_employed</th>\n",
       "      <th>dob_years</th>\n",
       "      <th>education</th>\n",
       "      <th>education_id</th>\n",
       "      <th>family_status</th>\n",
       "      <th>family_status_id</th>\n",
       "      <th>gender</th>\n",
       "      <th>income_type</th>\n",
       "      <th>debt</th>\n",
       "      <th>total_income</th>\n",
       "      <th>purpose</th>\n",
       "      <th>total_income_group</th>\n",
       "    </tr>\n",
       "  </thead>\n",
       "  <tbody>\n",
       "    <tr>\n",
       "      <th>0</th>\n",
       "      <td>1</td>\n",
       "      <td>8437</td>\n",
       "      <td>42</td>\n",
       "      <td>высшее</td>\n",
       "      <td>0</td>\n",
       "      <td>женат / замужем</td>\n",
       "      <td>0</td>\n",
       "      <td>F</td>\n",
       "      <td>сотрудник</td>\n",
       "      <td>0</td>\n",
       "      <td>253875.639453</td>\n",
       "      <td>покупка жилья</td>\n",
       "      <td>B</td>\n",
       "    </tr>\n",
       "    <tr>\n",
       "      <th>1</th>\n",
       "      <td>1</td>\n",
       "      <td>4024</td>\n",
       "      <td>36</td>\n",
       "      <td>среднее</td>\n",
       "      <td>1</td>\n",
       "      <td>женат / замужем</td>\n",
       "      <td>0</td>\n",
       "      <td>F</td>\n",
       "      <td>сотрудник</td>\n",
       "      <td>0</td>\n",
       "      <td>112080.014102</td>\n",
       "      <td>приобретение автомобиля</td>\n",
       "      <td>C</td>\n",
       "    </tr>\n",
       "    <tr>\n",
       "      <th>2</th>\n",
       "      <td>0</td>\n",
       "      <td>5623</td>\n",
       "      <td>33</td>\n",
       "      <td>среднее</td>\n",
       "      <td>1</td>\n",
       "      <td>женат / замужем</td>\n",
       "      <td>0</td>\n",
       "      <td>M</td>\n",
       "      <td>сотрудник</td>\n",
       "      <td>0</td>\n",
       "      <td>145885.952297</td>\n",
       "      <td>покупка жилья</td>\n",
       "      <td>C</td>\n",
       "    </tr>\n",
       "    <tr>\n",
       "      <th>3</th>\n",
       "      <td>3</td>\n",
       "      <td>4124</td>\n",
       "      <td>32</td>\n",
       "      <td>среднее</td>\n",
       "      <td>1</td>\n",
       "      <td>женат / замужем</td>\n",
       "      <td>0</td>\n",
       "      <td>M</td>\n",
       "      <td>сотрудник</td>\n",
       "      <td>0</td>\n",
       "      <td>267628.550329</td>\n",
       "      <td>дополнительное образование</td>\n",
       "      <td>B</td>\n",
       "    </tr>\n",
       "    <tr>\n",
       "      <th>4</th>\n",
       "      <td>0</td>\n",
       "      <td>3402</td>\n",
       "      <td>53</td>\n",
       "      <td>среднее</td>\n",
       "      <td>1</td>\n",
       "      <td>гражданский брак</td>\n",
       "      <td>1</td>\n",
       "      <td>F</td>\n",
       "      <td>пенсионер</td>\n",
       "      <td>0</td>\n",
       "      <td>158616.077870</td>\n",
       "      <td>сыграть свадьбу</td>\n",
       "      <td>C</td>\n",
       "    </tr>\n",
       "    <tr>\n",
       "      <th>5</th>\n",
       "      <td>0</td>\n",
       "      <td>926</td>\n",
       "      <td>27</td>\n",
       "      <td>высшее</td>\n",
       "      <td>0</td>\n",
       "      <td>гражданский брак</td>\n",
       "      <td>1</td>\n",
       "      <td>M</td>\n",
       "      <td>компаньон</td>\n",
       "      <td>0</td>\n",
       "      <td>255763.565419</td>\n",
       "      <td>покупка жилья</td>\n",
       "      <td>B</td>\n",
       "    </tr>\n",
       "    <tr>\n",
       "      <th>6</th>\n",
       "      <td>0</td>\n",
       "      <td>2879</td>\n",
       "      <td>43</td>\n",
       "      <td>высшее</td>\n",
       "      <td>0</td>\n",
       "      <td>женат / замужем</td>\n",
       "      <td>0</td>\n",
       "      <td>F</td>\n",
       "      <td>компаньон</td>\n",
       "      <td>0</td>\n",
       "      <td>240525.971920</td>\n",
       "      <td>операции с жильем</td>\n",
       "      <td>B</td>\n",
       "    </tr>\n",
       "    <tr>\n",
       "      <th>7</th>\n",
       "      <td>0</td>\n",
       "      <td>152</td>\n",
       "      <td>50</td>\n",
       "      <td>среднее</td>\n",
       "      <td>1</td>\n",
       "      <td>женат / замужем</td>\n",
       "      <td>0</td>\n",
       "      <td>M</td>\n",
       "      <td>сотрудник</td>\n",
       "      <td>0</td>\n",
       "      <td>135823.934197</td>\n",
       "      <td>образование</td>\n",
       "      <td>C</td>\n",
       "    </tr>\n",
       "    <tr>\n",
       "      <th>8</th>\n",
       "      <td>2</td>\n",
       "      <td>6929</td>\n",
       "      <td>35</td>\n",
       "      <td>высшее</td>\n",
       "      <td>0</td>\n",
       "      <td>гражданский брак</td>\n",
       "      <td>1</td>\n",
       "      <td>F</td>\n",
       "      <td>сотрудник</td>\n",
       "      <td>0</td>\n",
       "      <td>95856.832424</td>\n",
       "      <td>на проведение свадьбы</td>\n",
       "      <td>C</td>\n",
       "    </tr>\n",
       "    <tr>\n",
       "      <th>9</th>\n",
       "      <td>0</td>\n",
       "      <td>2188</td>\n",
       "      <td>41</td>\n",
       "      <td>среднее</td>\n",
       "      <td>1</td>\n",
       "      <td>женат / замужем</td>\n",
       "      <td>0</td>\n",
       "      <td>M</td>\n",
       "      <td>сотрудник</td>\n",
       "      <td>0</td>\n",
       "      <td>144425.938277</td>\n",
       "      <td>покупка жилья для семьи</td>\n",
       "      <td>C</td>\n",
       "    </tr>\n",
       "    <tr>\n",
       "      <th>10</th>\n",
       "      <td>2</td>\n",
       "      <td>4171</td>\n",
       "      <td>36</td>\n",
       "      <td>высшее</td>\n",
       "      <td>0</td>\n",
       "      <td>женат / замужем</td>\n",
       "      <td>0</td>\n",
       "      <td>M</td>\n",
       "      <td>компаньон</td>\n",
       "      <td>0</td>\n",
       "      <td>113943.491460</td>\n",
       "      <td>покупка недвижимости</td>\n",
       "      <td>C</td>\n",
       "    </tr>\n",
       "    <tr>\n",
       "      <th>11</th>\n",
       "      <td>0</td>\n",
       "      <td>792</td>\n",
       "      <td>40</td>\n",
       "      <td>среднее</td>\n",
       "      <td>1</td>\n",
       "      <td>женат / замужем</td>\n",
       "      <td>0</td>\n",
       "      <td>F</td>\n",
       "      <td>сотрудник</td>\n",
       "      <td>0</td>\n",
       "      <td>77069.234271</td>\n",
       "      <td>покупка коммерческой недвижимости</td>\n",
       "      <td>C</td>\n",
       "    </tr>\n",
       "    <tr>\n",
       "      <th>12</th>\n",
       "      <td>0</td>\n",
       "      <td>2194</td>\n",
       "      <td>65</td>\n",
       "      <td>среднее</td>\n",
       "      <td>1</td>\n",
       "      <td>гражданский брак</td>\n",
       "      <td>1</td>\n",
       "      <td>M</td>\n",
       "      <td>пенсионер</td>\n",
       "      <td>0</td>\n",
       "      <td>145017.937533</td>\n",
       "      <td>сыграть свадьбу</td>\n",
       "      <td>C</td>\n",
       "    </tr>\n",
       "    <tr>\n",
       "      <th>13</th>\n",
       "      <td>0</td>\n",
       "      <td>1846</td>\n",
       "      <td>54</td>\n",
       "      <td>неоконченное высшее</td>\n",
       "      <td>2</td>\n",
       "      <td>женат / замужем</td>\n",
       "      <td>0</td>\n",
       "      <td>F</td>\n",
       "      <td>сотрудник</td>\n",
       "      <td>0</td>\n",
       "      <td>130458.228857</td>\n",
       "      <td>приобретение автомобиля</td>\n",
       "      <td>C</td>\n",
       "    </tr>\n",
       "    <tr>\n",
       "      <th>14</th>\n",
       "      <td>0</td>\n",
       "      <td>1844</td>\n",
       "      <td>56</td>\n",
       "      <td>высшее</td>\n",
       "      <td>0</td>\n",
       "      <td>гражданский брак</td>\n",
       "      <td>1</td>\n",
       "      <td>F</td>\n",
       "      <td>компаньон</td>\n",
       "      <td>1</td>\n",
       "      <td>165127.911772</td>\n",
       "      <td>покупка жилой недвижимости</td>\n",
       "      <td>C</td>\n",
       "    </tr>\n",
       "  </tbody>\n",
       "</table>\n",
       "</div>"
      ],
      "text/plain": [
       "    children  days_employed  dob_years            education  education_id  \\\n",
       "0          1           8437         42               высшее             0   \n",
       "1          1           4024         36              среднее             1   \n",
       "2          0           5623         33              среднее             1   \n",
       "3          3           4124         32              среднее             1   \n",
       "4          0           3402         53              среднее             1   \n",
       "5          0            926         27               высшее             0   \n",
       "6          0           2879         43               высшее             0   \n",
       "7          0            152         50              среднее             1   \n",
       "8          2           6929         35               высшее             0   \n",
       "9          0           2188         41              среднее             1   \n",
       "10         2           4171         36               высшее             0   \n",
       "11         0            792         40              среднее             1   \n",
       "12         0           2194         65              среднее             1   \n",
       "13         0           1846         54  неоконченное высшее             2   \n",
       "14         0           1844         56               высшее             0   \n",
       "\n",
       "       family_status  family_status_id gender income_type  debt  \\\n",
       "0    женат / замужем                 0      F   сотрудник     0   \n",
       "1    женат / замужем                 0      F   сотрудник     0   \n",
       "2    женат / замужем                 0      M   сотрудник     0   \n",
       "3    женат / замужем                 0      M   сотрудник     0   \n",
       "4   гражданский брак                 1      F   пенсионер     0   \n",
       "5   гражданский брак                 1      M   компаньон     0   \n",
       "6    женат / замужем                 0      F   компаньон     0   \n",
       "7    женат / замужем                 0      M   сотрудник     0   \n",
       "8   гражданский брак                 1      F   сотрудник     0   \n",
       "9    женат / замужем                 0      M   сотрудник     0   \n",
       "10   женат / замужем                 0      M   компаньон     0   \n",
       "11   женат / замужем                 0      F   сотрудник     0   \n",
       "12  гражданский брак                 1      M   пенсионер     0   \n",
       "13   женат / замужем                 0      F   сотрудник     0   \n",
       "14  гражданский брак                 1      F   компаньон     1   \n",
       "\n",
       "     total_income                            purpose total_income_group  \n",
       "0   253875.639453                      покупка жилья                  B  \n",
       "1   112080.014102            приобретение автомобиля                  C  \n",
       "2   145885.952297                      покупка жилья                  C  \n",
       "3   267628.550329         дополнительное образование                  B  \n",
       "4   158616.077870                    сыграть свадьбу                  C  \n",
       "5   255763.565419                      покупка жилья                  B  \n",
       "6   240525.971920                  операции с жильем                  B  \n",
       "7   135823.934197                        образование                  C  \n",
       "8    95856.832424              на проведение свадьбы                  C  \n",
       "9   144425.938277            покупка жилья для семьи                  C  \n",
       "10  113943.491460               покупка недвижимости                  C  \n",
       "11   77069.234271  покупка коммерческой недвижимости                  C  \n",
       "12  145017.937533                    сыграть свадьбу                  C  \n",
       "13  130458.228857            приобретение автомобиля                  C  \n",
       "14  165127.911772         покупка жилой недвижимости                  C  "
      ]
     },
     "execution_count": 159,
     "metadata": {},
     "output_type": "execute_result"
    }
   ],
   "source": [
    "data.head(15)"
   ]
  },
  {
   "cell_type": "code",
   "execution_count": 160,
   "metadata": {},
   "outputs": [],
   "source": [
    "def purpose(word):\n",
    "    try:\n",
    "        if 'свадьбы' in word:\n",
    "            return 'проведение свадьбы'\n",
    "        if 'свадьбу' in word:\n",
    "            return 'проведение свадьбы'\n",
    "        if 'недвижимости' in word:\n",
    "            return 'операции с недвижимостью'\n",
    "        if 'жилья' in word:\n",
    "            return 'операции с недвижимостью'\n",
    "        if 'жильем' in word:\n",
    "            return 'операции с недвижимостью'\n",
    "        if 'образование' in word:\n",
    "            return 'получение образования'\n",
    "        if 'автомобиля' in word:\n",
    "            return 'операции с автомобилем'\n",
    "    except:\n",
    "        print('Слово не опрделено, проверьте правильность написания.')"
   ]
  },
  {
   "cell_type": "markdown",
   "metadata": {},
   "source": [
    "Добавил блок **try...except**"
   ]
  },
  {
   "cell_type": "code",
   "execution_count": 161,
   "metadata": {},
   "outputs": [
    {
     "data": {
      "text/plain": [
       "'проведение свадьбы'"
      ]
     },
     "execution_count": 161,
     "metadata": {},
     "output_type": "execute_result"
    }
   ],
   "source": [
    "purpose('свадьбы')"
   ]
  },
  {
   "cell_type": "code",
   "execution_count": 162,
   "metadata": {},
   "outputs": [],
   "source": [
    "data['purpose_category'] = data['purpose'].apply(purpose)"
   ]
  },
  {
   "cell_type": "code",
   "execution_count": 163,
   "metadata": {},
   "outputs": [
    {
     "data": {
      "text/html": [
       "<div>\n",
       "<style scoped>\n",
       "    .dataframe tbody tr th:only-of-type {\n",
       "        vertical-align: middle;\n",
       "    }\n",
       "\n",
       "    .dataframe tbody tr th {\n",
       "        vertical-align: top;\n",
       "    }\n",
       "\n",
       "    .dataframe thead th {\n",
       "        text-align: right;\n",
       "    }\n",
       "</style>\n",
       "<table border=\"1\" class=\"dataframe\">\n",
       "  <thead>\n",
       "    <tr style=\"text-align: right;\">\n",
       "      <th></th>\n",
       "      <th>children</th>\n",
       "      <th>days_employed</th>\n",
       "      <th>dob_years</th>\n",
       "      <th>education</th>\n",
       "      <th>education_id</th>\n",
       "      <th>family_status</th>\n",
       "      <th>family_status_id</th>\n",
       "      <th>gender</th>\n",
       "      <th>income_type</th>\n",
       "      <th>debt</th>\n",
       "      <th>total_income</th>\n",
       "      <th>purpose</th>\n",
       "      <th>total_income_group</th>\n",
       "      <th>purpose_category</th>\n",
       "    </tr>\n",
       "  </thead>\n",
       "  <tbody>\n",
       "    <tr>\n",
       "      <th>0</th>\n",
       "      <td>1</td>\n",
       "      <td>8437</td>\n",
       "      <td>42</td>\n",
       "      <td>высшее</td>\n",
       "      <td>0</td>\n",
       "      <td>женат / замужем</td>\n",
       "      <td>0</td>\n",
       "      <td>F</td>\n",
       "      <td>сотрудник</td>\n",
       "      <td>0</td>\n",
       "      <td>253875.639453</td>\n",
       "      <td>покупка жилья</td>\n",
       "      <td>B</td>\n",
       "      <td>операции с недвижимостью</td>\n",
       "    </tr>\n",
       "    <tr>\n",
       "      <th>1</th>\n",
       "      <td>1</td>\n",
       "      <td>4024</td>\n",
       "      <td>36</td>\n",
       "      <td>среднее</td>\n",
       "      <td>1</td>\n",
       "      <td>женат / замужем</td>\n",
       "      <td>0</td>\n",
       "      <td>F</td>\n",
       "      <td>сотрудник</td>\n",
       "      <td>0</td>\n",
       "      <td>112080.014102</td>\n",
       "      <td>приобретение автомобиля</td>\n",
       "      <td>C</td>\n",
       "      <td>операции с автомобилем</td>\n",
       "    </tr>\n",
       "    <tr>\n",
       "      <th>2</th>\n",
       "      <td>0</td>\n",
       "      <td>5623</td>\n",
       "      <td>33</td>\n",
       "      <td>среднее</td>\n",
       "      <td>1</td>\n",
       "      <td>женат / замужем</td>\n",
       "      <td>0</td>\n",
       "      <td>M</td>\n",
       "      <td>сотрудник</td>\n",
       "      <td>0</td>\n",
       "      <td>145885.952297</td>\n",
       "      <td>покупка жилья</td>\n",
       "      <td>C</td>\n",
       "      <td>операции с недвижимостью</td>\n",
       "    </tr>\n",
       "    <tr>\n",
       "      <th>3</th>\n",
       "      <td>3</td>\n",
       "      <td>4124</td>\n",
       "      <td>32</td>\n",
       "      <td>среднее</td>\n",
       "      <td>1</td>\n",
       "      <td>женат / замужем</td>\n",
       "      <td>0</td>\n",
       "      <td>M</td>\n",
       "      <td>сотрудник</td>\n",
       "      <td>0</td>\n",
       "      <td>267628.550329</td>\n",
       "      <td>дополнительное образование</td>\n",
       "      <td>B</td>\n",
       "      <td>получение образования</td>\n",
       "    </tr>\n",
       "    <tr>\n",
       "      <th>4</th>\n",
       "      <td>0</td>\n",
       "      <td>3402</td>\n",
       "      <td>53</td>\n",
       "      <td>среднее</td>\n",
       "      <td>1</td>\n",
       "      <td>гражданский брак</td>\n",
       "      <td>1</td>\n",
       "      <td>F</td>\n",
       "      <td>пенсионер</td>\n",
       "      <td>0</td>\n",
       "      <td>158616.077870</td>\n",
       "      <td>сыграть свадьбу</td>\n",
       "      <td>C</td>\n",
       "      <td>проведение свадьбы</td>\n",
       "    </tr>\n",
       "    <tr>\n",
       "      <th>5</th>\n",
       "      <td>0</td>\n",
       "      <td>926</td>\n",
       "      <td>27</td>\n",
       "      <td>высшее</td>\n",
       "      <td>0</td>\n",
       "      <td>гражданский брак</td>\n",
       "      <td>1</td>\n",
       "      <td>M</td>\n",
       "      <td>компаньон</td>\n",
       "      <td>0</td>\n",
       "      <td>255763.565419</td>\n",
       "      <td>покупка жилья</td>\n",
       "      <td>B</td>\n",
       "      <td>операции с недвижимостью</td>\n",
       "    </tr>\n",
       "    <tr>\n",
       "      <th>6</th>\n",
       "      <td>0</td>\n",
       "      <td>2879</td>\n",
       "      <td>43</td>\n",
       "      <td>высшее</td>\n",
       "      <td>0</td>\n",
       "      <td>женат / замужем</td>\n",
       "      <td>0</td>\n",
       "      <td>F</td>\n",
       "      <td>компаньон</td>\n",
       "      <td>0</td>\n",
       "      <td>240525.971920</td>\n",
       "      <td>операции с жильем</td>\n",
       "      <td>B</td>\n",
       "      <td>операции с недвижимостью</td>\n",
       "    </tr>\n",
       "    <tr>\n",
       "      <th>7</th>\n",
       "      <td>0</td>\n",
       "      <td>152</td>\n",
       "      <td>50</td>\n",
       "      <td>среднее</td>\n",
       "      <td>1</td>\n",
       "      <td>женат / замужем</td>\n",
       "      <td>0</td>\n",
       "      <td>M</td>\n",
       "      <td>сотрудник</td>\n",
       "      <td>0</td>\n",
       "      <td>135823.934197</td>\n",
       "      <td>образование</td>\n",
       "      <td>C</td>\n",
       "      <td>получение образования</td>\n",
       "    </tr>\n",
       "    <tr>\n",
       "      <th>8</th>\n",
       "      <td>2</td>\n",
       "      <td>6929</td>\n",
       "      <td>35</td>\n",
       "      <td>высшее</td>\n",
       "      <td>0</td>\n",
       "      <td>гражданский брак</td>\n",
       "      <td>1</td>\n",
       "      <td>F</td>\n",
       "      <td>сотрудник</td>\n",
       "      <td>0</td>\n",
       "      <td>95856.832424</td>\n",
       "      <td>на проведение свадьбы</td>\n",
       "      <td>C</td>\n",
       "      <td>проведение свадьбы</td>\n",
       "    </tr>\n",
       "    <tr>\n",
       "      <th>9</th>\n",
       "      <td>0</td>\n",
       "      <td>2188</td>\n",
       "      <td>41</td>\n",
       "      <td>среднее</td>\n",
       "      <td>1</td>\n",
       "      <td>женат / замужем</td>\n",
       "      <td>0</td>\n",
       "      <td>M</td>\n",
       "      <td>сотрудник</td>\n",
       "      <td>0</td>\n",
       "      <td>144425.938277</td>\n",
       "      <td>покупка жилья для семьи</td>\n",
       "      <td>C</td>\n",
       "      <td>операции с недвижимостью</td>\n",
       "    </tr>\n",
       "    <tr>\n",
       "      <th>10</th>\n",
       "      <td>2</td>\n",
       "      <td>4171</td>\n",
       "      <td>36</td>\n",
       "      <td>высшее</td>\n",
       "      <td>0</td>\n",
       "      <td>женат / замужем</td>\n",
       "      <td>0</td>\n",
       "      <td>M</td>\n",
       "      <td>компаньон</td>\n",
       "      <td>0</td>\n",
       "      <td>113943.491460</td>\n",
       "      <td>покупка недвижимости</td>\n",
       "      <td>C</td>\n",
       "      <td>операции с недвижимостью</td>\n",
       "    </tr>\n",
       "    <tr>\n",
       "      <th>11</th>\n",
       "      <td>0</td>\n",
       "      <td>792</td>\n",
       "      <td>40</td>\n",
       "      <td>среднее</td>\n",
       "      <td>1</td>\n",
       "      <td>женат / замужем</td>\n",
       "      <td>0</td>\n",
       "      <td>F</td>\n",
       "      <td>сотрудник</td>\n",
       "      <td>0</td>\n",
       "      <td>77069.234271</td>\n",
       "      <td>покупка коммерческой недвижимости</td>\n",
       "      <td>C</td>\n",
       "      <td>операции с недвижимостью</td>\n",
       "    </tr>\n",
       "    <tr>\n",
       "      <th>12</th>\n",
       "      <td>0</td>\n",
       "      <td>2194</td>\n",
       "      <td>65</td>\n",
       "      <td>среднее</td>\n",
       "      <td>1</td>\n",
       "      <td>гражданский брак</td>\n",
       "      <td>1</td>\n",
       "      <td>M</td>\n",
       "      <td>пенсионер</td>\n",
       "      <td>0</td>\n",
       "      <td>145017.937533</td>\n",
       "      <td>сыграть свадьбу</td>\n",
       "      <td>C</td>\n",
       "      <td>проведение свадьбы</td>\n",
       "    </tr>\n",
       "    <tr>\n",
       "      <th>13</th>\n",
       "      <td>0</td>\n",
       "      <td>1846</td>\n",
       "      <td>54</td>\n",
       "      <td>неоконченное высшее</td>\n",
       "      <td>2</td>\n",
       "      <td>женат / замужем</td>\n",
       "      <td>0</td>\n",
       "      <td>F</td>\n",
       "      <td>сотрудник</td>\n",
       "      <td>0</td>\n",
       "      <td>130458.228857</td>\n",
       "      <td>приобретение автомобиля</td>\n",
       "      <td>C</td>\n",
       "      <td>операции с автомобилем</td>\n",
       "    </tr>\n",
       "    <tr>\n",
       "      <th>14</th>\n",
       "      <td>0</td>\n",
       "      <td>1844</td>\n",
       "      <td>56</td>\n",
       "      <td>высшее</td>\n",
       "      <td>0</td>\n",
       "      <td>гражданский брак</td>\n",
       "      <td>1</td>\n",
       "      <td>F</td>\n",
       "      <td>компаньон</td>\n",
       "      <td>1</td>\n",
       "      <td>165127.911772</td>\n",
       "      <td>покупка жилой недвижимости</td>\n",
       "      <td>C</td>\n",
       "      <td>операции с недвижимостью</td>\n",
       "    </tr>\n",
       "  </tbody>\n",
       "</table>\n",
       "</div>"
      ],
      "text/plain": [
       "    children  days_employed  dob_years            education  education_id  \\\n",
       "0          1           8437         42               высшее             0   \n",
       "1          1           4024         36              среднее             1   \n",
       "2          0           5623         33              среднее             1   \n",
       "3          3           4124         32              среднее             1   \n",
       "4          0           3402         53              среднее             1   \n",
       "5          0            926         27               высшее             0   \n",
       "6          0           2879         43               высшее             0   \n",
       "7          0            152         50              среднее             1   \n",
       "8          2           6929         35               высшее             0   \n",
       "9          0           2188         41              среднее             1   \n",
       "10         2           4171         36               высшее             0   \n",
       "11         0            792         40              среднее             1   \n",
       "12         0           2194         65              среднее             1   \n",
       "13         0           1846         54  неоконченное высшее             2   \n",
       "14         0           1844         56               высшее             0   \n",
       "\n",
       "       family_status  family_status_id gender income_type  debt  \\\n",
       "0    женат / замужем                 0      F   сотрудник     0   \n",
       "1    женат / замужем                 0      F   сотрудник     0   \n",
       "2    женат / замужем                 0      M   сотрудник     0   \n",
       "3    женат / замужем                 0      M   сотрудник     0   \n",
       "4   гражданский брак                 1      F   пенсионер     0   \n",
       "5   гражданский брак                 1      M   компаньон     0   \n",
       "6    женат / замужем                 0      F   компаньон     0   \n",
       "7    женат / замужем                 0      M   сотрудник     0   \n",
       "8   гражданский брак                 1      F   сотрудник     0   \n",
       "9    женат / замужем                 0      M   сотрудник     0   \n",
       "10   женат / замужем                 0      M   компаньон     0   \n",
       "11   женат / замужем                 0      F   сотрудник     0   \n",
       "12  гражданский брак                 1      M   пенсионер     0   \n",
       "13   женат / замужем                 0      F   сотрудник     0   \n",
       "14  гражданский брак                 1      F   компаньон     1   \n",
       "\n",
       "     total_income                            purpose total_income_group  \\\n",
       "0   253875.639453                      покупка жилья                  B   \n",
       "1   112080.014102            приобретение автомобиля                  C   \n",
       "2   145885.952297                      покупка жилья                  C   \n",
       "3   267628.550329         дополнительное образование                  B   \n",
       "4   158616.077870                    сыграть свадьбу                  C   \n",
       "5   255763.565419                      покупка жилья                  B   \n",
       "6   240525.971920                  операции с жильем                  B   \n",
       "7   135823.934197                        образование                  C   \n",
       "8    95856.832424              на проведение свадьбы                  C   \n",
       "9   144425.938277            покупка жилья для семьи                  C   \n",
       "10  113943.491460               покупка недвижимости                  C   \n",
       "11   77069.234271  покупка коммерческой недвижимости                  C   \n",
       "12  145017.937533                    сыграть свадьбу                  C   \n",
       "13  130458.228857            приобретение автомобиля                  C   \n",
       "14  165127.911772         покупка жилой недвижимости                  C   \n",
       "\n",
       "            purpose_category  \n",
       "0   операции с недвижимостью  \n",
       "1     операции с автомобилем  \n",
       "2   операции с недвижимостью  \n",
       "3      получение образования  \n",
       "4         проведение свадьбы  \n",
       "5   операции с недвижимостью  \n",
       "6   операции с недвижимостью  \n",
       "7      получение образования  \n",
       "8         проведение свадьбы  \n",
       "9   операции с недвижимостью  \n",
       "10  операции с недвижимостью  \n",
       "11  операции с недвижимостью  \n",
       "12        проведение свадьбы  \n",
       "13    операции с автомобилем  \n",
       "14  операции с недвижимостью  "
      ]
     },
     "execution_count": 163,
     "metadata": {},
     "output_type": "execute_result"
    }
   ],
   "source": [
    "data.head(15)"
   ]
  },
  {
   "cell_type": "markdown",
   "metadata": {},
   "source": [
    "**Вывод**\n",
    "\n",
    "Провел категоризацию данных, разделили на различные группы по признакам."
   ]
  },
  {
   "cell_type": "markdown",
   "metadata": {},
   "source": [
    "## Шаг 3. Ответьте на вопросы"
   ]
  },
  {
   "cell_type": "markdown",
   "metadata": {},
   "source": [
    "- Есть ли зависимость между наличием детей и возвратом кредита в срок?"
   ]
  },
  {
   "cell_type": "code",
   "execution_count": 164,
   "metadata": {},
   "outputs": [
    {
     "data": {
      "text/html": [
       "<div>\n",
       "<style scoped>\n",
       "    .dataframe tbody tr th:only-of-type {\n",
       "        vertical-align: middle;\n",
       "    }\n",
       "\n",
       "    .dataframe tbody tr th {\n",
       "        vertical-align: top;\n",
       "    }\n",
       "\n",
       "    .dataframe thead th {\n",
       "        text-align: right;\n",
       "    }\n",
       "</style>\n",
       "<table border=\"1\" class=\"dataframe\">\n",
       "  <thead>\n",
       "    <tr style=\"text-align: right;\">\n",
       "      <th></th>\n",
       "      <th>count_children</th>\n",
       "      <th>sum_children</th>\n",
       "      <th>result_children</th>\n",
       "    </tr>\n",
       "    <tr>\n",
       "      <th>children</th>\n",
       "      <th></th>\n",
       "      <th></th>\n",
       "      <th></th>\n",
       "    </tr>\n",
       "  </thead>\n",
       "  <tbody>\n",
       "    <tr>\n",
       "      <th>4</th>\n",
       "      <td>41</td>\n",
       "      <td>4</td>\n",
       "      <td>0.097561</td>\n",
       "    </tr>\n",
       "    <tr>\n",
       "      <th>2</th>\n",
       "      <td>2055</td>\n",
       "      <td>194</td>\n",
       "      <td>0.094404</td>\n",
       "    </tr>\n",
       "    <tr>\n",
       "      <th>5</th>\n",
       "      <td>85</td>\n",
       "      <td>8</td>\n",
       "      <td>0.094118</td>\n",
       "    </tr>\n",
       "    <tr>\n",
       "      <th>1</th>\n",
       "      <td>4818</td>\n",
       "      <td>444</td>\n",
       "      <td>0.092154</td>\n",
       "    </tr>\n",
       "    <tr>\n",
       "      <th>3</th>\n",
       "      <td>330</td>\n",
       "      <td>27</td>\n",
       "      <td>0.081818</td>\n",
       "    </tr>\n",
       "    <tr>\n",
       "      <th>0</th>\n",
       "      <td>14195</td>\n",
       "      <td>1064</td>\n",
       "      <td>0.074956</td>\n",
       "    </tr>\n",
       "  </tbody>\n",
       "</table>\n",
       "</div>"
      ],
      "text/plain": [
       "          count_children  sum_children  result_children\n",
       "children                                               \n",
       "4                     41             4         0.097561\n",
       "2                   2055           194         0.094404\n",
       "5                     85             8         0.094118\n",
       "1                   4818           444         0.092154\n",
       "3                    330            27         0.081818\n",
       "0                  14195          1064         0.074956"
      ]
     },
     "execution_count": 164,
     "metadata": {},
     "output_type": "execute_result"
    }
   ],
   "source": [
    "children = pd.DataFrame()\n",
    "children['count_children'] = data.groupby('children')['debt'].count()\n",
    "children['sum_children'] = data.groupby('children')['debt'].sum()\n",
    "children['result_children'] = children['sum_children'] / children['count_children'] \n",
    "children.sort_values('result_children', ascending = False)"
   ]
  },
  {
   "cell_type": "markdown",
   "metadata": {},
   "source": [
    "**Вывод**\n",
    "\n",
    "Чем больше количество детей, тем больше количество просроченных задолженностей. Люди с тремя детьми выплачивают чаще, чем люди с одним ребенком."
   ]
  },
  {
   "cell_type": "markdown",
   "metadata": {},
   "source": []
  },
  {
   "cell_type": "markdown",
   "metadata": {},
   "source": [
    "- Есть ли зависимость между семейным положением и возвратом кредита в срок?"
   ]
  },
  {
   "cell_type": "code",
   "execution_count": 165,
   "metadata": {},
   "outputs": [
    {
     "data": {
      "text/html": [
       "<div>\n",
       "<style scoped>\n",
       "    .dataframe tbody tr th:only-of-type {\n",
       "        vertical-align: middle;\n",
       "    }\n",
       "\n",
       "    .dataframe tbody tr th {\n",
       "        vertical-align: top;\n",
       "    }\n",
       "\n",
       "    .dataframe thead th {\n",
       "        text-align: right;\n",
       "    }\n",
       "</style>\n",
       "<table border=\"1\" class=\"dataframe\">\n",
       "  <thead>\n",
       "    <tr style=\"text-align: right;\">\n",
       "      <th></th>\n",
       "      <th>sum_family_status</th>\n",
       "      <th>count_family_status</th>\n",
       "      <th>result_family_status</th>\n",
       "    </tr>\n",
       "    <tr>\n",
       "      <th>family_status</th>\n",
       "      <th></th>\n",
       "      <th></th>\n",
       "      <th></th>\n",
       "    </tr>\n",
       "  </thead>\n",
       "  <tbody>\n",
       "    <tr>\n",
       "      <th>не женат / не замужем</th>\n",
       "      <td>274</td>\n",
       "      <td>2813</td>\n",
       "      <td>0.097405</td>\n",
       "    </tr>\n",
       "    <tr>\n",
       "      <th>гражданский брак</th>\n",
       "      <td>388</td>\n",
       "      <td>4176</td>\n",
       "      <td>0.092912</td>\n",
       "    </tr>\n",
       "    <tr>\n",
       "      <th>женат / замужем</th>\n",
       "      <td>931</td>\n",
       "      <td>12380</td>\n",
       "      <td>0.075202</td>\n",
       "    </tr>\n",
       "    <tr>\n",
       "      <th>в разводе</th>\n",
       "      <td>85</td>\n",
       "      <td>1195</td>\n",
       "      <td>0.071130</td>\n",
       "    </tr>\n",
       "    <tr>\n",
       "      <th>вдовец / вдова</th>\n",
       "      <td>63</td>\n",
       "      <td>960</td>\n",
       "      <td>0.065625</td>\n",
       "    </tr>\n",
       "  </tbody>\n",
       "</table>\n",
       "</div>"
      ],
      "text/plain": [
       "                       sum_family_status  count_family_status  \\\n",
       "family_status                                                   \n",
       "не женат / не замужем                274                 2813   \n",
       "гражданский брак                     388                 4176   \n",
       "женат / замужем                      931                12380   \n",
       "в разводе                             85                 1195   \n",
       "вдовец / вдова                        63                  960   \n",
       "\n",
       "                       result_family_status  \n",
       "family_status                                \n",
       "не женат / не замужем              0.097405  \n",
       "гражданский брак                   0.092912  \n",
       "женат / замужем                    0.075202  \n",
       "в разводе                          0.071130  \n",
       "вдовец / вдова                     0.065625  "
      ]
     },
     "execution_count": 165,
     "metadata": {},
     "output_type": "execute_result"
    }
   ],
   "source": [
    "family_status = pd.DataFrame()\n",
    "family_status['sum_family_status'] = data.groupby('family_status')['debt'].sum()\n",
    "family_status['count_family_status'] = data.groupby('family_status')['debt'].count()\n",
    "family_status['result_family_status'] = family_status['sum_family_status'] / family_status['count_family_status'] \n",
    "family_status.sort_values('result_family_status', ascending = False)"
   ]
  },
  {
   "cell_type": "markdown",
   "metadata": {},
   "source": [
    "**Вывод**\n",
    "\n",
    "Люди, которые не были в браке чаще имеют задолженность по кредитам."
   ]
  },
  {
   "cell_type": "markdown",
   "metadata": {},
   "source": [
    "- Есть ли зависимость между уровнем дохода и возвратом кредита в срок?"
   ]
  },
  {
   "cell_type": "code",
   "execution_count": 166,
   "metadata": {},
   "outputs": [
    {
     "data": {
      "text/html": [
       "<div>\n",
       "<style scoped>\n",
       "    .dataframe tbody tr th:only-of-type {\n",
       "        vertical-align: middle;\n",
       "    }\n",
       "\n",
       "    .dataframe tbody tr th {\n",
       "        vertical-align: top;\n",
       "    }\n",
       "\n",
       "    .dataframe thead th {\n",
       "        text-align: right;\n",
       "    }\n",
       "</style>\n",
       "<table border=\"1\" class=\"dataframe\">\n",
       "  <thead>\n",
       "    <tr style=\"text-align: right;\">\n",
       "      <th></th>\n",
       "      <th>sum</th>\n",
       "      <th>count</th>\n",
       "      <th>conversion</th>\n",
       "    </tr>\n",
       "    <tr>\n",
       "      <th>total_income_id</th>\n",
       "      <th></th>\n",
       "      <th></th>\n",
       "      <th></th>\n",
       "    </tr>\n",
       "  </thead>\n",
       "  <tbody>\n",
       "    <tr>\n",
       "      <th>3.0</th>\n",
       "      <td>368</td>\n",
       "      <td>4118</td>\n",
       "      <td>0.089364</td>\n",
       "    </tr>\n",
       "    <tr>\n",
       "      <th>2.0</th>\n",
       "      <td>661</td>\n",
       "      <td>7878</td>\n",
       "      <td>0.083905</td>\n",
       "    </tr>\n",
       "    <tr>\n",
       "      <th>6.0</th>\n",
       "      <td>51</td>\n",
       "      <td>624</td>\n",
       "      <td>0.081731</td>\n",
       "    </tr>\n",
       "    <tr>\n",
       "      <th>1.0</th>\n",
       "      <td>331</td>\n",
       "      <td>4091</td>\n",
       "      <td>0.080909</td>\n",
       "    </tr>\n",
       "    <tr>\n",
       "      <th>4.0</th>\n",
       "      <td>164</td>\n",
       "      <td>2253</td>\n",
       "      <td>0.072792</td>\n",
       "    </tr>\n",
       "    <tr>\n",
       "      <th>7.0</th>\n",
       "      <td>24</td>\n",
       "      <td>330</td>\n",
       "      <td>0.072727</td>\n",
       "    </tr>\n",
       "    <tr>\n",
       "      <th>8.0</th>\n",
       "      <td>13</td>\n",
       "      <td>196</td>\n",
       "      <td>0.066327</td>\n",
       "    </tr>\n",
       "    <tr>\n",
       "      <th>5.0</th>\n",
       "      <td>88</td>\n",
       "      <td>1330</td>\n",
       "      <td>0.066165</td>\n",
       "    </tr>\n",
       "    <tr>\n",
       "      <th>10.0</th>\n",
       "      <td>14</td>\n",
       "      <td>222</td>\n",
       "      <td>0.063063</td>\n",
       "    </tr>\n",
       "    <tr>\n",
       "      <th>0.0</th>\n",
       "      <td>23</td>\n",
       "      <td>372</td>\n",
       "      <td>0.061828</td>\n",
       "    </tr>\n",
       "    <tr>\n",
       "      <th>9.0</th>\n",
       "      <td>4</td>\n",
       "      <td>110</td>\n",
       "      <td>0.036364</td>\n",
       "    </tr>\n",
       "  </tbody>\n",
       "</table>\n",
       "</div>"
      ],
      "text/plain": [
       "                 sum  count  conversion\n",
       "total_income_id                        \n",
       "3.0              368   4118    0.089364\n",
       "2.0              661   7878    0.083905\n",
       "6.0               51    624    0.081731\n",
       "1.0              331   4091    0.080909\n",
       "4.0              164   2253    0.072792\n",
       "7.0               24    330    0.072727\n",
       "8.0               13    196    0.066327\n",
       "5.0               88   1330    0.066165\n",
       "10.0              14    222    0.063063\n",
       "0.0               23    372    0.061828\n",
       "9.0                4    110    0.036364"
      ]
     },
     "execution_count": 166,
     "metadata": {},
     "output_type": "execute_result"
    }
   ],
   "source": [
    "def total_income_category(value):\n",
    "    if value >= 500000:\n",
    "        return 10\n",
    "    else:\n",
    "        value = value // 50000\n",
    "        return value\n",
    "data['total_income_id'] = data['total_income'].apply(total_income_category)\n",
    "data['total_income_id'].value_counts()\n",
    "total_income = pd.DataFrame()\n",
    "total_income['sum'] = data.groupby('total_income_id')['debt'].sum()\n",
    "total_income['count'] = data.groupby('total_income_id')['debt'].count()\n",
    "total_income['conversion'] = total_income['sum'] / total_income['count']\n",
    "total_income.sort_values('conversion', ascending = False)"
   ]
  },
  {
   "cell_type": "markdown",
   "metadata": {},
   "source": [
    " **Вывод**\n",
    " \n",
    " В данном случае зависимости не наблюдается."
   ]
  },
  {
   "cell_type": "markdown",
   "metadata": {},
   "source": [
    "- Как разные цели кредита влияют на его возврат в срок?"
   ]
  },
  {
   "cell_type": "code",
   "execution_count": 167,
   "metadata": {},
   "outputs": [
    {
     "data": {
      "text/html": [
       "<div>\n",
       "<style scoped>\n",
       "    .dataframe tbody tr th:only-of-type {\n",
       "        vertical-align: middle;\n",
       "    }\n",
       "\n",
       "    .dataframe tbody tr th {\n",
       "        vertical-align: top;\n",
       "    }\n",
       "\n",
       "    .dataframe thead th {\n",
       "        text-align: right;\n",
       "    }\n",
       "</style>\n",
       "<table border=\"1\" class=\"dataframe\">\n",
       "  <thead>\n",
       "    <tr style=\"text-align: right;\">\n",
       "      <th></th>\n",
       "      <th>sum_purpose_category</th>\n",
       "      <th>count_purpose_category</th>\n",
       "      <th>result_purpose_category</th>\n",
       "    </tr>\n",
       "    <tr>\n",
       "      <th>purpose_category</th>\n",
       "      <th></th>\n",
       "      <th></th>\n",
       "      <th></th>\n",
       "    </tr>\n",
       "  </thead>\n",
       "  <tbody>\n",
       "    <tr>\n",
       "      <th>операции с автомобилем</th>\n",
       "      <td>168</td>\n",
       "      <td>1918</td>\n",
       "      <td>0.087591</td>\n",
       "    </tr>\n",
       "    <tr>\n",
       "      <th>получение образования</th>\n",
       "      <td>236</td>\n",
       "      <td>2706</td>\n",
       "      <td>0.087214</td>\n",
       "    </tr>\n",
       "    <tr>\n",
       "      <th>проведение свадьбы</th>\n",
       "      <td>122</td>\n",
       "      <td>1551</td>\n",
       "      <td>0.078659</td>\n",
       "    </tr>\n",
       "    <tr>\n",
       "      <th>операции с недвижимостью</th>\n",
       "      <td>502</td>\n",
       "      <td>6989</td>\n",
       "      <td>0.071827</td>\n",
       "    </tr>\n",
       "  </tbody>\n",
       "</table>\n",
       "</div>"
      ],
      "text/plain": [
       "                          sum_purpose_category  count_purpose_category  \\\n",
       "purpose_category                                                         \n",
       "операции с автомобилем                     168                    1918   \n",
       "получение образования                      236                    2706   \n",
       "проведение свадьбы                         122                    1551   \n",
       "операции с недвижимостью                   502                    6989   \n",
       "\n",
       "                          result_purpose_category  \n",
       "purpose_category                                   \n",
       "операции с автомобилем                   0.087591  \n",
       "получение образования                    0.087214  \n",
       "проведение свадьбы                       0.078659  \n",
       "операции с недвижимостью                 0.071827  "
      ]
     },
     "execution_count": 167,
     "metadata": {},
     "output_type": "execute_result"
    }
   ],
   "source": [
    "purpose_category = pd.DataFrame()\n",
    "purpose_category['sum_purpose_category'] = data.groupby('purpose_category')['debt'].sum()\n",
    "purpose_category['count_purpose_category'] = data.groupby('purpose_category')['debt'].count()\n",
    "purpose_category['result_purpose_category'] = purpose_category['sum_purpose_category'] / purpose_category['count_purpose_category'] \n",
    "purpose_category.sort_values('result_purpose_category', ascending = False)"
   ]
  },
  {
   "cell_type": "markdown",
   "metadata": {},
   "source": [
    "**Вывод**\n",
    "\n",
    "Автомобиль и образование имеют наивысший риск просрачивания. Наименьшее - операция с недвижимостью."
   ]
  },
  {
   "cell_type": "markdown",
   "metadata": {},
   "source": []
  },
  {
   "cell_type": "markdown",
   "metadata": {},
   "source": [
    "## Шаг 4. Общий вывод"
   ]
  },
  {
   "cell_type": "markdown",
   "metadata": {},
   "source": [
    "Общий вывод: семейный статус действительно влияет на вероятность платежей по кредиту в срок - люди, которые были в браке чаще плятят в срок чем те, кто не бывали в браке, причем разведенные и овдовевшие платят в срок чаще, чем люди в браке. Чем больше детей, тем чаще платят не в срок, люди, не имеющие детей, реже просрачивают оплату."
   ]
  },
  {
   "cell_type": "markdown",
   "metadata": {},
   "source": [
    "## Чек-лист готовности проекта\n",
    "\n",
    "Поставьте 'x' в выполненных пунктах. Далее нажмите Shift+Enter."
   ]
  },
  {
   "cell_type": "markdown",
   "metadata": {},
   "source": [
    "- [x]  открыт файл;\n",
    "- [x]  файл изучен;\n",
    "- [x]  определены пропущенные значения;\n",
    "- [x]  заполнены пропущенные значения;\n",
    "- [x]  есть пояснение, какие пропущенные значения обнаружены;\n",
    "- [x]  описаны возможные причины появления пропусков в данных;\n",
    "- [x]  объяснено, по какому принципу заполнены пропуски;\n",
    "- [x]  заменен вещественный тип данных на целочисленный;\n",
    "- [x]  есть пояснение, какой метод используется для изменения типа данных и почему;\n",
    "- [x]  удалены дубликаты;\n",
    "- [x]  есть пояснение, какой метод используется для поиска и удаления дубликатов;\n",
    "- [x]  описаны возможные причины появления дубликатов в данных;\n",
    "- [x]  выделены леммы в значениях столбца с целями получения кредита;\n",
    "- [x]  описан процесс лемматизации;\n",
    "- [x]  данные категоризированы;\n",
    "- [x]  есть объяснение принципа категоризации данных;\n",
    "- [x]  есть ответ на вопрос: \"Есть ли зависимость между наличием детей и возвратом кредита в срок?\";\n",
    "- [x]  есть ответ на вопрос: \"Есть ли зависимость между семейным положением и возвратом кредита в срок?\";\n",
    "- [x]  есть ответ на вопрос: \"Есть ли зависимость между уровнем дохода и возвратом кредита в срок?\";\n",
    "- [x]  есть ответ на вопрос: \"Как разные цели кредита влияют на его возврат в срок?\";\n",
    "- [x]  в каждом этапе есть выводы;\n",
    "- [x]  есть общий вывод."
   ]
  }
 ],
 "metadata": {
  "ExecuteTimeLog": [
   {
    "duration": 447,
    "start_time": "2022-07-27T11:05:12.212Z"
   },
   {
    "duration": 79,
    "start_time": "2022-07-27T11:05:59.522Z"
   },
   {
    "duration": 433,
    "start_time": "2022-07-27T11:06:18.994Z"
   },
   {
    "duration": 475,
    "start_time": "2022-07-27T11:07:16.389Z"
   },
   {
    "duration": 823,
    "start_time": "2022-07-27T11:11:27.938Z"
   },
   {
    "duration": 11,
    "start_time": "2022-07-27T11:11:38.339Z"
   },
   {
    "duration": 4,
    "start_time": "2022-07-27T11:11:41.228Z"
   },
   {
    "duration": 12,
    "start_time": "2022-07-27T11:42:49.143Z"
   },
   {
    "duration": 20,
    "start_time": "2022-07-27T11:42:53.236Z"
   },
   {
    "duration": 21,
    "start_time": "2022-07-27T11:44:18.524Z"
   },
   {
    "duration": 11,
    "start_time": "2022-07-27T11:44:29.296Z"
   },
   {
    "duration": 42,
    "start_time": "2022-07-27T11:45:25.278Z"
   },
   {
    "duration": 5,
    "start_time": "2022-07-27T11:46:15.676Z"
   },
   {
    "duration": 10,
    "start_time": "2022-07-27T11:47:26.842Z"
   },
   {
    "duration": 13,
    "start_time": "2022-07-27T11:47:33.371Z"
   },
   {
    "duration": 9,
    "start_time": "2022-07-27T11:48:27.434Z"
   },
   {
    "duration": 11,
    "start_time": "2022-07-27T11:53:10.069Z"
   },
   {
    "duration": 24,
    "start_time": "2022-07-27T12:50:23.810Z"
   },
   {
    "duration": 500,
    "start_time": "2022-07-27T13:14:57.899Z"
   },
   {
    "duration": 3,
    "start_time": "2022-07-27T13:15:24.471Z"
   },
   {
    "duration": 6,
    "start_time": "2022-07-27T13:15:41.076Z"
   },
   {
    "duration": 23,
    "start_time": "2022-07-27T13:19:23.091Z"
   },
   {
    "duration": 6,
    "start_time": "2022-07-27T13:19:24.631Z"
   },
   {
    "duration": 8,
    "start_time": "2022-07-27T13:20:15.701Z"
   },
   {
    "duration": 9,
    "start_time": "2022-07-27T13:20:20.104Z"
   },
   {
    "duration": 4,
    "start_time": "2022-07-27T13:20:26.837Z"
   },
   {
    "duration": 6,
    "start_time": "2022-07-27T13:20:27.200Z"
   },
   {
    "duration": 4,
    "start_time": "2022-07-27T13:20:47.875Z"
   },
   {
    "duration": 3,
    "start_time": "2022-07-27T13:20:48.166Z"
   },
   {
    "duration": 405,
    "start_time": "2022-07-28T10:08:57.050Z"
   },
   {
    "duration": 185,
    "start_time": "2022-07-28T10:08:57.457Z"
   },
   {
    "duration": 12,
    "start_time": "2022-07-28T10:08:57.665Z"
   },
   {
    "duration": 23,
    "start_time": "2022-07-28T10:08:58.675Z"
   },
   {
    "duration": 10,
    "start_time": "2022-07-28T10:09:01.004Z"
   },
   {
    "duration": 4,
    "start_time": "2022-07-28T10:09:02.544Z"
   },
   {
    "duration": 5,
    "start_time": "2022-07-28T10:09:03.126Z"
   },
   {
    "duration": 5,
    "start_time": "2022-07-28T10:13:05.212Z"
   },
   {
    "duration": 4,
    "start_time": "2022-07-28T10:13:13.989Z"
   },
   {
    "duration": 8,
    "start_time": "2022-07-28T10:13:29.621Z"
   },
   {
    "duration": 3,
    "start_time": "2022-07-28T10:13:40.591Z"
   },
   {
    "duration": 4,
    "start_time": "2022-07-28T10:13:40.906Z"
   },
   {
    "duration": 4,
    "start_time": "2022-07-28T10:13:58.730Z"
   },
   {
    "duration": 4,
    "start_time": "2022-07-28T10:13:59.317Z"
   },
   {
    "duration": 97,
    "start_time": "2022-07-28T11:55:16.774Z"
   },
   {
    "duration": 3,
    "start_time": "2022-07-28T11:55:19.932Z"
   },
   {
    "duration": 3,
    "start_time": "2022-07-28T11:56:12.396Z"
   },
   {
    "duration": 86,
    "start_time": "2022-07-28T12:23:31.973Z"
   },
   {
    "duration": 3,
    "start_time": "2022-07-28T12:23:50.971Z"
   },
   {
    "duration": 6,
    "start_time": "2022-07-28T12:24:33.484Z"
   },
   {
    "duration": 3,
    "start_time": "2022-07-28T12:24:43.630Z"
   },
   {
    "duration": 3,
    "start_time": "2022-07-28T12:24:49.473Z"
   },
   {
    "duration": 3,
    "start_time": "2022-07-28T12:24:56.765Z"
   },
   {
    "duration": 3,
    "start_time": "2022-07-28T12:25:05.775Z"
   },
   {
    "duration": 3,
    "start_time": "2022-07-28T12:25:06.222Z"
   },
   {
    "duration": 4,
    "start_time": "2022-07-28T12:25:27.562Z"
   },
   {
    "duration": 3,
    "start_time": "2022-07-28T12:25:40.275Z"
   },
   {
    "duration": 4,
    "start_time": "2022-07-28T12:29:03.394Z"
   },
   {
    "duration": 4,
    "start_time": "2022-07-28T12:29:39.169Z"
   },
   {
    "duration": 14,
    "start_time": "2022-07-28T12:29:44.585Z"
   },
   {
    "duration": 4,
    "start_time": "2022-07-28T12:30:14.688Z"
   },
   {
    "duration": 3,
    "start_time": "2022-07-28T12:30:38.472Z"
   },
   {
    "duration": 3,
    "start_time": "2022-07-28T12:31:38.535Z"
   },
   {
    "duration": 4,
    "start_time": "2022-07-28T12:31:39.042Z"
   },
   {
    "duration": 3,
    "start_time": "2022-07-28T12:31:52.533Z"
   },
   {
    "duration": 4,
    "start_time": "2022-07-28T12:41:06.246Z"
   },
   {
    "duration": 3,
    "start_time": "2022-07-28T12:41:06.452Z"
   },
   {
    "duration": 3,
    "start_time": "2022-07-28T12:41:06.681Z"
   },
   {
    "duration": 4,
    "start_time": "2022-07-28T12:41:07.257Z"
   },
   {
    "duration": 5,
    "start_time": "2022-07-28T12:41:07.459Z"
   },
   {
    "duration": 3,
    "start_time": "2022-07-28T12:41:07.654Z"
   },
   {
    "duration": 23,
    "start_time": "2022-07-28T12:53:36.470Z"
   },
   {
    "duration": 19,
    "start_time": "2022-07-28T12:55:57.197Z"
   },
   {
    "duration": 21,
    "start_time": "2022-07-28T12:56:19.619Z"
   },
   {
    "duration": 19,
    "start_time": "2022-07-28T13:18:29.560Z"
   },
   {
    "duration": 4,
    "start_time": "2022-07-28T13:25:34.681Z"
   },
   {
    "duration": 4,
    "start_time": "2022-07-28T13:25:46.327Z"
   },
   {
    "duration": 3,
    "start_time": "2022-07-28T13:26:21.286Z"
   },
   {
    "duration": 5,
    "start_time": "2022-07-28T13:26:31.264Z"
   },
   {
    "duration": 10,
    "start_time": "2022-07-28T13:27:00.086Z"
   },
   {
    "duration": 5,
    "start_time": "2022-07-28T13:27:00.319Z"
   },
   {
    "duration": 5,
    "start_time": "2022-07-28T13:27:12.164Z"
   },
   {
    "duration": 9,
    "start_time": "2022-07-28T13:27:28.956Z"
   },
   {
    "duration": 8,
    "start_time": "2022-07-28T13:28:51.748Z"
   },
   {
    "duration": 19,
    "start_time": "2022-07-28T13:28:59.299Z"
   },
   {
    "duration": 11,
    "start_time": "2022-07-28T13:29:17.313Z"
   },
   {
    "duration": 8,
    "start_time": "2022-07-28T13:29:28.324Z"
   },
   {
    "duration": 2,
    "start_time": "2022-07-28T13:29:41.390Z"
   },
   {
    "duration": 86,
    "start_time": "2022-07-28T13:29:41.761Z"
   },
   {
    "duration": 3,
    "start_time": "2022-07-28T13:29:42.274Z"
   },
   {
    "duration": 20,
    "start_time": "2022-07-28T13:29:42.767Z"
   },
   {
    "duration": 9,
    "start_time": "2022-07-28T13:29:45.065Z"
   },
   {
    "duration": 3,
    "start_time": "2022-07-28T13:29:46.162Z"
   },
   {
    "duration": 3,
    "start_time": "2022-07-28T13:29:46.934Z"
   },
   {
    "duration": 4,
    "start_time": "2022-07-28T13:29:47.563Z"
   },
   {
    "duration": 3,
    "start_time": "2022-07-28T13:29:48.164Z"
   },
   {
    "duration": 3,
    "start_time": "2022-07-28T13:29:48.586Z"
   },
   {
    "duration": 3,
    "start_time": "2022-07-28T13:29:49.072Z"
   },
   {
    "duration": 4,
    "start_time": "2022-07-28T13:29:51.535Z"
   },
   {
    "duration": 5,
    "start_time": "2022-07-28T13:29:59.756Z"
   },
   {
    "duration": 25,
    "start_time": "2022-07-28T13:30:07.360Z"
   },
   {
    "duration": 22,
    "start_time": "2022-07-28T13:30:15.626Z"
   },
   {
    "duration": 2,
    "start_time": "2022-07-28T13:30:42.024Z"
   },
   {
    "duration": 5,
    "start_time": "2022-07-28T13:30:42.970Z"
   },
   {
    "duration": 5,
    "start_time": "2022-07-28T13:31:23.167Z"
   },
   {
    "duration": 406,
    "start_time": "2022-07-28T13:31:59.584Z"
   },
   {
    "duration": 77,
    "start_time": "2022-07-28T13:31:59.992Z"
   },
   {
    "duration": 8,
    "start_time": "2022-07-28T13:32:00.126Z"
   },
   {
    "duration": 23,
    "start_time": "2022-07-28T13:32:00.624Z"
   },
   {
    "duration": 9,
    "start_time": "2022-07-28T13:32:00.989Z"
   },
   {
    "duration": 4,
    "start_time": "2022-07-28T13:32:04.286Z"
   },
   {
    "duration": 3,
    "start_time": "2022-07-28T13:32:04.525Z"
   },
   {
    "duration": 3,
    "start_time": "2022-07-28T13:32:04.760Z"
   },
   {
    "duration": 4,
    "start_time": "2022-07-28T13:32:05.166Z"
   },
   {
    "duration": 3,
    "start_time": "2022-07-28T13:32:05.631Z"
   },
   {
    "duration": 4,
    "start_time": "2022-07-28T13:32:06.024Z"
   },
   {
    "duration": 4,
    "start_time": "2022-07-28T13:32:06.426Z"
   },
   {
    "duration": 6,
    "start_time": "2022-07-28T13:32:08.179Z"
   },
   {
    "duration": 22,
    "start_time": "2022-07-28T13:32:16.846Z"
   },
   {
    "duration": 374,
    "start_time": "2022-07-28T13:52:02.413Z"
   },
   {
    "duration": 76,
    "start_time": "2022-07-28T13:52:03.054Z"
   },
   {
    "duration": 8,
    "start_time": "2022-07-28T13:52:03.413Z"
   },
   {
    "duration": 31,
    "start_time": "2022-07-28T13:52:03.886Z"
   },
   {
    "duration": 18,
    "start_time": "2022-07-28T13:52:05.995Z"
   },
   {
    "duration": 3,
    "start_time": "2022-07-28T13:52:08.869Z"
   },
   {
    "duration": 4,
    "start_time": "2022-07-28T13:52:09.254Z"
   },
   {
    "duration": 4,
    "start_time": "2022-07-28T13:52:09.516Z"
   },
   {
    "duration": 4,
    "start_time": "2022-07-28T13:52:11.261Z"
   },
   {
    "duration": 3,
    "start_time": "2022-07-28T13:52:11.457Z"
   },
   {
    "duration": 3,
    "start_time": "2022-07-28T13:52:11.681Z"
   },
   {
    "duration": 4,
    "start_time": "2022-07-28T13:52:12.513Z"
   },
   {
    "duration": 4,
    "start_time": "2022-07-28T13:52:40.567Z"
   },
   {
    "duration": 22,
    "start_time": "2022-07-28T13:52:41.524Z"
   },
   {
    "duration": 455,
    "start_time": "2022-07-29T13:18:14.401Z"
   },
   {
    "duration": 166,
    "start_time": "2022-07-29T13:18:14.858Z"
   },
   {
    "duration": 23,
    "start_time": "2022-07-29T13:18:15.103Z"
   },
   {
    "duration": 40,
    "start_time": "2022-07-29T13:18:15.541Z"
   },
   {
    "duration": 18,
    "start_time": "2022-07-29T13:18:17.735Z"
   },
   {
    "duration": 4,
    "start_time": "2022-07-29T13:38:40.721Z"
   },
   {
    "duration": 4,
    "start_time": "2022-07-29T13:38:41.147Z"
   },
   {
    "duration": 3,
    "start_time": "2022-07-29T13:38:41.564Z"
   },
   {
    "duration": 4,
    "start_time": "2022-07-29T13:38:42.259Z"
   },
   {
    "duration": 3,
    "start_time": "2022-07-29T13:38:42.680Z"
   },
   {
    "duration": 3,
    "start_time": "2022-07-29T13:38:43.252Z"
   },
   {
    "duration": 5,
    "start_time": "2022-07-29T13:38:46.533Z"
   },
   {
    "duration": 6,
    "start_time": "2022-07-29T13:38:46.862Z"
   },
   {
    "duration": 30,
    "start_time": "2022-07-29T13:39:13.691Z"
   },
   {
    "duration": 409,
    "start_time": "2022-08-02T14:32:34.077Z"
   },
   {
    "duration": 194,
    "start_time": "2022-08-02T14:32:34.494Z"
   },
   {
    "duration": 9,
    "start_time": "2022-08-02T14:32:34.876Z"
   },
   {
    "duration": 36,
    "start_time": "2022-08-02T14:32:35.323Z"
   },
   {
    "duration": 10,
    "start_time": "2022-08-02T14:32:38.442Z"
   },
   {
    "duration": 5,
    "start_time": "2022-08-02T14:32:48.143Z"
   },
   {
    "duration": 4,
    "start_time": "2022-08-02T14:32:48.630Z"
   },
   {
    "duration": 3,
    "start_time": "2022-08-02T14:32:49.074Z"
   },
   {
    "duration": 4,
    "start_time": "2022-08-02T14:32:51.874Z"
   },
   {
    "duration": 3,
    "start_time": "2022-08-02T14:32:52.275Z"
   },
   {
    "duration": 3,
    "start_time": "2022-08-02T14:32:52.556Z"
   },
   {
    "duration": 6,
    "start_time": "2022-08-02T14:32:56.767Z"
   },
   {
    "duration": 4,
    "start_time": "2022-08-02T14:32:57.134Z"
   },
   {
    "duration": 26,
    "start_time": "2022-08-02T14:32:57.446Z"
   },
   {
    "duration": 439,
    "start_time": "2022-08-04T11:26:47.142Z"
   },
   {
    "duration": 137,
    "start_time": "2022-08-04T11:26:47.583Z"
   },
   {
    "duration": 8,
    "start_time": "2022-08-04T11:26:47.722Z"
   },
   {
    "duration": 21,
    "start_time": "2022-08-04T11:26:48.369Z"
   },
   {
    "duration": 8,
    "start_time": "2022-08-04T11:26:51.960Z"
   },
   {
    "duration": 4,
    "start_time": "2022-08-04T11:26:56.815Z"
   },
   {
    "duration": 3,
    "start_time": "2022-08-04T11:26:57.161Z"
   },
   {
    "duration": 3,
    "start_time": "2022-08-04T11:26:57.598Z"
   },
   {
    "duration": 3,
    "start_time": "2022-08-04T11:26:58.090Z"
   },
   {
    "duration": 3,
    "start_time": "2022-08-04T11:26:58.625Z"
   },
   {
    "duration": 2,
    "start_time": "2022-08-04T11:26:59.154Z"
   },
   {
    "duration": 4,
    "start_time": "2022-08-04T11:27:01.596Z"
   },
   {
    "duration": 3,
    "start_time": "2022-08-04T11:27:01.865Z"
   },
   {
    "duration": 21,
    "start_time": "2022-08-04T11:27:02.517Z"
   },
   {
    "duration": 3,
    "start_time": "2022-08-04T12:43:18.493Z"
   },
   {
    "duration": 68,
    "start_time": "2022-08-04T12:43:19.219Z"
   },
   {
    "duration": 4,
    "start_time": "2022-08-04T12:43:19.770Z"
   },
   {
    "duration": 21,
    "start_time": "2022-08-04T12:43:20.724Z"
   },
   {
    "duration": 14,
    "start_time": "2022-08-04T12:43:25.045Z"
   },
   {
    "duration": 4,
    "start_time": "2022-08-04T12:43:31.943Z"
   },
   {
    "duration": 3,
    "start_time": "2022-08-04T12:43:33.821Z"
   },
   {
    "duration": 3,
    "start_time": "2022-08-04T12:43:34.083Z"
   },
   {
    "duration": 3,
    "start_time": "2022-08-04T12:43:34.492Z"
   },
   {
    "duration": 4,
    "start_time": "2022-08-04T12:43:34.704Z"
   },
   {
    "duration": 3,
    "start_time": "2022-08-04T12:43:34.904Z"
   },
   {
    "duration": 4,
    "start_time": "2022-08-04T12:43:35.182Z"
   },
   {
    "duration": 4,
    "start_time": "2022-08-04T12:43:35.726Z"
   },
   {
    "duration": 22,
    "start_time": "2022-08-04T12:43:36.124Z"
   },
   {
    "duration": 377,
    "start_time": "2022-08-06T13:46:10.432Z"
   },
   {
    "duration": 281,
    "start_time": "2022-08-06T13:46:10.811Z"
   },
   {
    "duration": 8,
    "start_time": "2022-08-06T13:46:11.269Z"
   },
   {
    "duration": 23,
    "start_time": "2022-08-06T13:46:11.860Z"
   },
   {
    "duration": 10,
    "start_time": "2022-08-06T13:46:12.489Z"
   },
   {
    "duration": 3,
    "start_time": "2022-08-06T13:46:18.159Z"
   },
   {
    "duration": 3,
    "start_time": "2022-08-06T13:46:18.610Z"
   },
   {
    "duration": 3,
    "start_time": "2022-08-06T13:46:19.081Z"
   },
   {
    "duration": 4,
    "start_time": "2022-08-06T13:46:19.512Z"
   },
   {
    "duration": 3,
    "start_time": "2022-08-06T13:46:20.010Z"
   },
   {
    "duration": 3,
    "start_time": "2022-08-06T13:46:20.525Z"
   },
   {
    "duration": 5,
    "start_time": "2022-08-06T13:46:22.849Z"
   },
   {
    "duration": 4,
    "start_time": "2022-08-06T13:46:23.317Z"
   },
   {
    "duration": 22,
    "start_time": "2022-08-06T13:46:23.986Z"
   },
   {
    "duration": 435,
    "start_time": "2022-08-06T15:56:13.060Z"
   },
   {
    "duration": 290,
    "start_time": "2022-08-06T15:56:14.418Z"
   },
   {
    "duration": 8,
    "start_time": "2022-08-06T15:56:15.077Z"
   },
   {
    "duration": 23,
    "start_time": "2022-08-06T15:56:15.628Z"
   },
   {
    "duration": 15,
    "start_time": "2022-08-06T15:56:16.210Z"
   },
   {
    "duration": 4,
    "start_time": "2022-08-06T15:56:17.609Z"
   },
   {
    "duration": 3,
    "start_time": "2022-08-06T15:56:17.811Z"
   },
   {
    "duration": 3,
    "start_time": "2022-08-06T15:56:17.994Z"
   },
   {
    "duration": 3,
    "start_time": "2022-08-06T15:56:18.184Z"
   },
   {
    "duration": 3,
    "start_time": "2022-08-06T15:56:18.365Z"
   },
   {
    "duration": 3,
    "start_time": "2022-08-06T15:56:18.535Z"
   },
   {
    "duration": 4,
    "start_time": "2022-08-06T15:56:18.715Z"
   },
   {
    "duration": 5,
    "start_time": "2022-08-06T15:56:18.892Z"
   },
   {
    "duration": 21,
    "start_time": "2022-08-06T15:56:19.079Z"
   },
   {
    "duration": 79,
    "start_time": "2022-08-06T16:07:24.659Z"
   },
   {
    "duration": 11,
    "start_time": "2022-08-06T16:07:32.835Z"
   },
   {
    "duration": 6,
    "start_time": "2022-08-06T16:08:16.961Z"
   },
   {
    "duration": 81,
    "start_time": "2022-08-06T16:08:22.258Z"
   },
   {
    "duration": 11,
    "start_time": "2022-08-06T16:08:23.825Z"
   },
   {
    "duration": 5,
    "start_time": "2022-08-06T16:08:36.034Z"
   },
   {
    "duration": 63,
    "start_time": "2022-08-06T16:09:22.185Z"
   },
   {
    "duration": 6,
    "start_time": "2022-08-06T16:10:02.289Z"
   },
   {
    "duration": 6,
    "start_time": "2022-08-06T16:10:03.820Z"
   },
   {
    "duration": 6,
    "start_time": "2022-08-06T16:10:17.013Z"
   },
   {
    "duration": 5,
    "start_time": "2022-08-06T16:10:18.380Z"
   },
   {
    "duration": 1891,
    "start_time": "2022-08-06T16:10:59.028Z"
   },
   {
    "duration": 366,
    "start_time": "2022-08-06T16:11:54.226Z"
   },
   {
    "duration": 6,
    "start_time": "2022-08-06T16:12:26.832Z"
   },
   {
    "duration": 3,
    "start_time": "2022-08-06T16:12:32.886Z"
   },
   {
    "duration": 2511,
    "start_time": "2022-08-06T16:12:45.019Z"
   },
   {
    "duration": 9,
    "start_time": "2022-08-06T16:13:19.124Z"
   },
   {
    "duration": 490,
    "start_time": "2022-08-06T16:13:28.507Z"
   },
   {
    "duration": 574,
    "start_time": "2022-08-06T16:13:44.957Z"
   },
   {
    "duration": 568,
    "start_time": "2022-08-06T16:14:06.033Z"
   },
   {
    "duration": 9722,
    "start_time": "2022-08-06T16:14:37.712Z"
   },
   {
    "duration": 93,
    "start_time": "2022-08-06T16:15:06.983Z"
   },
   {
    "duration": 6,
    "start_time": "2022-08-06T16:15:09.926Z"
   },
   {
    "duration": 93,
    "start_time": "2022-08-06T16:15:21.937Z"
   },
   {
    "duration": 12,
    "start_time": "2022-08-06T16:15:34.049Z"
   },
   {
    "duration": 14,
    "start_time": "2022-08-06T16:15:40.673Z"
   },
   {
    "duration": 9,
    "start_time": "2022-08-06T16:54:29.224Z"
   },
   {
    "duration": 17,
    "start_time": "2022-08-06T16:55:37.763Z"
   },
   {
    "duration": 5,
    "start_time": "2022-08-06T16:56:01.265Z"
   },
   {
    "duration": 7,
    "start_time": "2022-08-06T16:56:16.369Z"
   },
   {
    "duration": 9,
    "start_time": "2022-08-06T16:56:21.606Z"
   },
   {
    "duration": 5,
    "start_time": "2022-08-06T16:56:33.560Z"
   },
   {
    "duration": 4,
    "start_time": "2022-08-06T17:07:09.130Z"
   },
   {
    "duration": 4,
    "start_time": "2022-08-06T17:07:58.443Z"
   },
   {
    "duration": 4,
    "start_time": "2022-08-06T17:07:58.983Z"
   },
   {
    "duration": 13,
    "start_time": "2022-08-06T17:08:08.781Z"
   },
   {
    "duration": 375,
    "start_time": "2022-08-06T20:30:38.238Z"
   },
   {
    "duration": 302,
    "start_time": "2022-08-06T20:30:38.615Z"
   },
   {
    "duration": 9,
    "start_time": "2022-08-06T20:30:38.919Z"
   },
   {
    "duration": 24,
    "start_time": "2022-08-06T20:30:41.227Z"
   },
   {
    "duration": 11,
    "start_time": "2022-08-06T20:30:41.763Z"
   },
   {
    "duration": 4,
    "start_time": "2022-08-06T20:30:44.702Z"
   },
   {
    "duration": 4,
    "start_time": "2022-08-06T20:30:45.019Z"
   },
   {
    "duration": 4,
    "start_time": "2022-08-06T20:30:45.314Z"
   },
   {
    "duration": 3,
    "start_time": "2022-08-06T20:30:45.731Z"
   },
   {
    "duration": 3,
    "start_time": "2022-08-06T20:30:46.032Z"
   },
   {
    "duration": 3,
    "start_time": "2022-08-06T20:30:46.281Z"
   },
   {
    "duration": 5,
    "start_time": "2022-08-06T20:30:46.610Z"
   },
   {
    "duration": 5,
    "start_time": "2022-08-06T20:30:46.927Z"
   },
   {
    "duration": 39,
    "start_time": "2022-08-06T20:30:47.389Z"
   },
   {
    "duration": 5,
    "start_time": "2022-08-06T20:30:48.926Z"
   },
   {
    "duration": 4547,
    "start_time": "2022-08-06T20:30:49.353Z"
   },
   {
    "duration": 14,
    "start_time": "2022-08-06T20:30:53.902Z"
   },
   {
    "duration": 6,
    "start_time": "2022-08-06T20:30:58.604Z"
   },
   {
    "duration": 4,
    "start_time": "2022-08-06T20:31:00.930Z"
   },
   {
    "duration": 4,
    "start_time": "2022-08-06T20:31:01.115Z"
   },
   {
    "duration": 19,
    "start_time": "2022-08-06T20:31:01.289Z"
   },
   {
    "duration": 4,
    "start_time": "2022-08-06T20:31:10.027Z"
   },
   {
    "duration": 4,
    "start_time": "2022-08-06T20:31:10.224Z"
   },
   {
    "duration": 20,
    "start_time": "2022-08-06T20:31:10.431Z"
   },
   {
    "duration": 4,
    "start_time": "2022-08-06T21:23:52.164Z"
   },
   {
    "duration": 13,
    "start_time": "2022-08-06T21:23:59.835Z"
   },
   {
    "duration": 7,
    "start_time": "2022-08-06T21:25:53.887Z"
   },
   {
    "duration": 11,
    "start_time": "2022-08-06T21:26:23.786Z"
   },
   {
    "duration": 6,
    "start_time": "2022-08-06T21:26:57.438Z"
   },
   {
    "duration": 6,
    "start_time": "2022-08-06T21:27:24.034Z"
   },
   {
    "duration": 6,
    "start_time": "2022-08-06T21:27:38.439Z"
   },
   {
    "duration": 5,
    "start_time": "2022-08-06T21:27:42.543Z"
   },
   {
    "duration": 18,
    "start_time": "2022-08-06T21:28:05.724Z"
   },
   {
    "duration": 18,
    "start_time": "2022-08-06T21:28:09.883Z"
   },
   {
    "duration": 6,
    "start_time": "2022-08-06T21:28:20.730Z"
   },
   {
    "duration": 7,
    "start_time": "2022-08-06T21:52:27.460Z"
   },
   {
    "duration": 5,
    "start_time": "2022-08-06T21:52:44.538Z"
   },
   {
    "duration": 7,
    "start_time": "2022-08-06T21:53:17.743Z"
   },
   {
    "duration": 4,
    "start_time": "2022-08-06T21:53:19.246Z"
   },
   {
    "duration": 5,
    "start_time": "2022-08-06T21:53:25.448Z"
   },
   {
    "duration": 5,
    "start_time": "2022-08-06T21:53:43.615Z"
   },
   {
    "duration": 6,
    "start_time": "2022-08-06T21:53:44.475Z"
   },
   {
    "duration": 5,
    "start_time": "2022-08-06T21:53:53.236Z"
   },
   {
    "duration": 378,
    "start_time": "2022-08-06T21:54:14.843Z"
   },
   {
    "duration": 75,
    "start_time": "2022-08-06T21:54:15.223Z"
   },
   {
    "duration": 8,
    "start_time": "2022-08-06T21:54:15.806Z"
   },
   {
    "duration": 22,
    "start_time": "2022-08-06T21:54:16.099Z"
   },
   {
    "duration": 11,
    "start_time": "2022-08-06T21:54:16.599Z"
   },
   {
    "duration": 3,
    "start_time": "2022-08-06T21:54:19.070Z"
   },
   {
    "duration": 3,
    "start_time": "2022-08-06T21:54:19.439Z"
   },
   {
    "duration": 3,
    "start_time": "2022-08-06T21:54:20.088Z"
   },
   {
    "duration": 3,
    "start_time": "2022-08-06T21:54:20.134Z"
   },
   {
    "duration": 3,
    "start_time": "2022-08-06T21:54:20.349Z"
   },
   {
    "duration": 3,
    "start_time": "2022-08-06T21:54:20.723Z"
   },
   {
    "duration": 4,
    "start_time": "2022-08-06T21:54:20.759Z"
   },
   {
    "duration": 4,
    "start_time": "2022-08-06T21:54:21.030Z"
   },
   {
    "duration": 24,
    "start_time": "2022-08-06T21:54:21.330Z"
   },
   {
    "duration": 3,
    "start_time": "2022-08-06T21:54:22.997Z"
   },
   {
    "duration": 4521,
    "start_time": "2022-08-06T21:54:53.474Z"
   },
   {
    "duration": 15,
    "start_time": "2022-08-06T21:54:57.997Z"
   },
   {
    "duration": 3,
    "start_time": "2022-08-06T21:55:02.436Z"
   },
   {
    "duration": 4,
    "start_time": "2022-08-06T21:55:03.007Z"
   },
   {
    "duration": 16,
    "start_time": "2022-08-06T21:55:04.383Z"
   },
   {
    "duration": 3,
    "start_time": "2022-08-06T21:55:08.182Z"
   },
   {
    "duration": 13,
    "start_time": "2022-08-06T21:55:08.633Z"
   },
   {
    "duration": 5,
    "start_time": "2022-08-06T21:55:11.579Z"
   },
   {
    "duration": 8,
    "start_time": "2022-08-06T21:56:24.381Z"
   },
   {
    "duration": 5,
    "start_time": "2022-08-06T21:56:27.321Z"
   },
   {
    "duration": 23,
    "start_time": "2022-08-06T21:59:32.299Z"
   },
   {
    "duration": 33,
    "start_time": "2022-08-06T21:59:43.617Z"
   },
   {
    "duration": 5,
    "start_time": "2022-08-06T22:02:51.403Z"
   },
   {
    "duration": 5,
    "start_time": "2022-08-06T22:03:33.107Z"
   },
   {
    "duration": 458,
    "start_time": "2022-08-07T03:29:40.687Z"
   },
   {
    "duration": 136,
    "start_time": "2022-08-07T03:29:41.606Z"
   },
   {
    "duration": 10,
    "start_time": "2022-08-07T03:29:42.053Z"
   },
   {
    "duration": 24,
    "start_time": "2022-08-07T03:29:42.440Z"
   },
   {
    "duration": 11,
    "start_time": "2022-08-07T03:29:42.725Z"
   },
   {
    "duration": 4,
    "start_time": "2022-08-07T03:29:45.001Z"
   },
   {
    "duration": 3,
    "start_time": "2022-08-07T03:29:45.378Z"
   },
   {
    "duration": 4,
    "start_time": "2022-08-07T03:29:45.688Z"
   },
   {
    "duration": 3,
    "start_time": "2022-08-07T03:29:45.924Z"
   },
   {
    "duration": 3,
    "start_time": "2022-08-07T03:29:46.296Z"
   },
   {
    "duration": 3,
    "start_time": "2022-08-07T03:29:46.660Z"
   },
   {
    "duration": 5,
    "start_time": "2022-08-07T03:31:28.342Z"
   },
   {
    "duration": 8,
    "start_time": "2022-08-07T03:31:28.553Z"
   },
   {
    "duration": 25,
    "start_time": "2022-08-07T03:31:28.760Z"
   },
   {
    "duration": 6,
    "start_time": "2022-08-07T03:31:32.083Z"
   },
   {
    "duration": 5933,
    "start_time": "2022-08-07T03:31:32.548Z"
   },
   {
    "duration": 28,
    "start_time": "2022-08-07T03:31:38.483Z"
   },
   {
    "duration": 11,
    "start_time": "2022-08-07T03:31:38.513Z"
   },
   {
    "duration": 17,
    "start_time": "2022-08-07T03:31:38.528Z"
   },
   {
    "duration": 32,
    "start_time": "2022-08-07T03:31:38.546Z"
   },
   {
    "duration": 8,
    "start_time": "2022-08-07T03:31:38.581Z"
   },
   {
    "duration": 25,
    "start_time": "2022-08-07T03:31:38.596Z"
   },
   {
    "duration": 7,
    "start_time": "2022-08-07T03:31:38.733Z"
   },
   {
    "duration": 8,
    "start_time": "2022-08-07T03:31:39.840Z"
   },
   {
    "duration": 20,
    "start_time": "2022-08-07T03:31:42.160Z"
   },
   {
    "duration": 35,
    "start_time": "2022-08-07T03:31:42.927Z"
   },
   {
    "duration": 5,
    "start_time": "2022-08-07T03:31:45.310Z"
   },
   {
    "duration": 7,
    "start_time": "2022-08-07T03:31:45.829Z"
   },
   {
    "duration": 3,
    "start_time": "2022-08-07T03:38:20.206Z"
   },
   {
    "duration": 3,
    "start_time": "2022-08-07T03:40:34.230Z"
   },
   {
    "duration": 3,
    "start_time": "2022-08-07T03:40:34.496Z"
   },
   {
    "duration": 2,
    "start_time": "2022-08-07T03:40:34.761Z"
   },
   {
    "duration": 3,
    "start_time": "2022-08-07T03:40:35.162Z"
   },
   {
    "duration": 3,
    "start_time": "2022-08-07T03:44:35.040Z"
   },
   {
    "duration": 3,
    "start_time": "2022-08-07T03:44:35.234Z"
   },
   {
    "duration": 2,
    "start_time": "2022-08-07T03:44:58.508Z"
   },
   {
    "duration": 3,
    "start_time": "2022-08-07T03:44:58.839Z"
   },
   {
    "duration": 3,
    "start_time": "2022-08-07T03:45:16.927Z"
   },
   {
    "duration": 3,
    "start_time": "2022-08-07T03:45:34.531Z"
   },
   {
    "duration": 2,
    "start_time": "2022-08-07T03:45:50.864Z"
   },
   {
    "duration": 7,
    "start_time": "2022-08-07T03:45:54.151Z"
   },
   {
    "duration": 8,
    "start_time": "2022-08-07T03:46:40.301Z"
   },
   {
    "duration": 6,
    "start_time": "2022-08-07T03:46:57.834Z"
   },
   {
    "duration": 6,
    "start_time": "2022-08-07T03:47:15.801Z"
   },
   {
    "duration": 8,
    "start_time": "2022-08-07T03:47:35.044Z"
   },
   {
    "duration": 16,
    "start_time": "2022-08-07T03:47:44.969Z"
   },
   {
    "duration": 6,
    "start_time": "2022-08-07T03:48:15.390Z"
   },
   {
    "duration": 11,
    "start_time": "2022-08-07T04:08:33.707Z"
   },
   {
    "duration": 6,
    "start_time": "2022-08-07T04:11:09.446Z"
   },
   {
    "duration": 82,
    "start_time": "2022-08-07T04:15:07.187Z"
   },
   {
    "duration": 13,
    "start_time": "2022-08-07T04:15:23.649Z"
   },
   {
    "duration": 50,
    "start_time": "2022-08-07T04:21:22.816Z"
   },
   {
    "duration": 10,
    "start_time": "2022-08-07T04:21:35.232Z"
   },
   {
    "duration": 21,
    "start_time": "2022-08-07T04:21:50.602Z"
   },
   {
    "duration": 117,
    "start_time": "2022-08-07T04:24:53.326Z"
   },
   {
    "duration": 15,
    "start_time": "2022-08-07T04:25:26.143Z"
   },
   {
    "duration": 11,
    "start_time": "2022-08-07T04:33:30.532Z"
   },
   {
    "duration": 8,
    "start_time": "2022-08-07T04:34:45.210Z"
   },
   {
    "duration": 16,
    "start_time": "2022-08-07T04:34:49.153Z"
   },
   {
    "duration": 4,
    "start_time": "2022-08-07T04:35:14.944Z"
   },
   {
    "duration": 14,
    "start_time": "2022-08-07T04:35:16.121Z"
   },
   {
    "duration": 4,
    "start_time": "2022-08-07T04:35:36.186Z"
   },
   {
    "duration": 17,
    "start_time": "2022-08-07T04:35:37.948Z"
   },
   {
    "duration": 5,
    "start_time": "2022-08-07T04:36:00.679Z"
   },
   {
    "duration": 13,
    "start_time": "2022-08-07T04:36:01.283Z"
   },
   {
    "duration": 5,
    "start_time": "2022-08-07T04:36:20.087Z"
   },
   {
    "duration": 14,
    "start_time": "2022-08-07T04:36:20.510Z"
   },
   {
    "duration": 436,
    "start_time": "2022-08-07T04:36:34.804Z"
   },
   {
    "duration": 80,
    "start_time": "2022-08-07T04:36:35.243Z"
   },
   {
    "duration": 10,
    "start_time": "2022-08-07T04:36:35.324Z"
   },
   {
    "duration": 29,
    "start_time": "2022-08-07T04:36:36.518Z"
   },
   {
    "duration": 12,
    "start_time": "2022-08-07T04:36:37.167Z"
   },
   {
    "duration": 4,
    "start_time": "2022-08-07T04:36:39.076Z"
   },
   {
    "duration": 3,
    "start_time": "2022-08-07T04:36:39.279Z"
   },
   {
    "duration": 4,
    "start_time": "2022-08-07T04:36:39.502Z"
   },
   {
    "duration": 4,
    "start_time": "2022-08-07T04:36:39.808Z"
   },
   {
    "duration": 4,
    "start_time": "2022-08-07T04:36:40.047Z"
   },
   {
    "duration": 4,
    "start_time": "2022-08-07T04:36:40.266Z"
   },
   {
    "duration": 4,
    "start_time": "2022-08-07T04:36:40.465Z"
   },
   {
    "duration": 5,
    "start_time": "2022-08-07T04:36:40.652Z"
   },
   {
    "duration": 27,
    "start_time": "2022-08-07T04:36:40.852Z"
   },
   {
    "duration": 5,
    "start_time": "2022-08-07T04:36:42.925Z"
   },
   {
    "duration": 5485,
    "start_time": "2022-08-07T04:36:43.443Z"
   },
   {
    "duration": 16,
    "start_time": "2022-08-07T04:36:48.930Z"
   },
   {
    "duration": 8,
    "start_time": "2022-08-07T04:36:48.948Z"
   },
   {
    "duration": 13,
    "start_time": "2022-08-07T04:36:48.958Z"
   },
   {
    "duration": 35,
    "start_time": "2022-08-07T04:36:48.972Z"
   },
   {
    "duration": 4,
    "start_time": "2022-08-07T04:36:54.119Z"
   },
   {
    "duration": 8,
    "start_time": "2022-08-07T04:36:55.216Z"
   },
   {
    "duration": 14,
    "start_time": "2022-08-07T04:36:55.676Z"
   },
   {
    "duration": 4,
    "start_time": "2022-08-07T04:37:04.963Z"
   },
   {
    "duration": 15,
    "start_time": "2022-08-07T04:37:05.465Z"
   },
   {
    "duration": 432,
    "start_time": "2022-08-07T04:37:15.407Z"
   },
   {
    "duration": 76,
    "start_time": "2022-08-07T04:37:15.841Z"
   },
   {
    "duration": 9,
    "start_time": "2022-08-07T04:37:15.919Z"
   },
   {
    "duration": 28,
    "start_time": "2022-08-07T04:37:15.930Z"
   },
   {
    "duration": 11,
    "start_time": "2022-08-07T04:37:16.078Z"
   },
   {
    "duration": 4,
    "start_time": "2022-08-07T04:37:17.396Z"
   },
   {
    "duration": 4,
    "start_time": "2022-08-07T04:37:17.626Z"
   },
   {
    "duration": 4,
    "start_time": "2022-08-07T04:37:17.836Z"
   },
   {
    "duration": 4,
    "start_time": "2022-08-07T04:37:18.062Z"
   },
   {
    "duration": 4,
    "start_time": "2022-08-07T04:37:18.299Z"
   },
   {
    "duration": 5,
    "start_time": "2022-08-07T04:37:18.498Z"
   },
   {
    "duration": 5,
    "start_time": "2022-08-07T04:37:18.663Z"
   },
   {
    "duration": 4,
    "start_time": "2022-08-07T04:37:18.861Z"
   },
   {
    "duration": 27,
    "start_time": "2022-08-07T04:37:19.029Z"
   },
   {
    "duration": 4,
    "start_time": "2022-08-07T04:37:19.739Z"
   },
   {
    "duration": 5940,
    "start_time": "2022-08-07T04:37:19.939Z"
   },
   {
    "duration": 22,
    "start_time": "2022-08-07T04:37:25.881Z"
   },
   {
    "duration": 9,
    "start_time": "2022-08-07T04:37:25.905Z"
   },
   {
    "duration": 5,
    "start_time": "2022-08-07T04:37:25.915Z"
   },
   {
    "duration": 22,
    "start_time": "2022-08-07T04:37:25.921Z"
   },
   {
    "duration": 5,
    "start_time": "2022-08-07T04:37:28.839Z"
   },
   {
    "duration": 8,
    "start_time": "2022-08-07T04:37:30.375Z"
   },
   {
    "duration": 16,
    "start_time": "2022-08-07T04:37:31.271Z"
   },
   {
    "duration": 5,
    "start_time": "2022-08-07T04:39:15.430Z"
   },
   {
    "duration": 15,
    "start_time": "2022-08-07T04:39:27.335Z"
   },
   {
    "duration": 4,
    "start_time": "2022-08-07T04:39:31.195Z"
   },
   {
    "duration": 15,
    "start_time": "2022-08-07T04:39:31.654Z"
   },
   {
    "duration": 429,
    "start_time": "2022-08-07T04:39:58.088Z"
   },
   {
    "duration": 77,
    "start_time": "2022-08-07T04:39:58.519Z"
   },
   {
    "duration": 8,
    "start_time": "2022-08-07T04:39:58.603Z"
   },
   {
    "duration": 25,
    "start_time": "2022-08-07T04:39:59.199Z"
   },
   {
    "duration": 13,
    "start_time": "2022-08-07T04:39:59.417Z"
   },
   {
    "duration": 3,
    "start_time": "2022-08-07T04:40:01.474Z"
   },
   {
    "duration": 4,
    "start_time": "2022-08-07T04:40:01.810Z"
   },
   {
    "duration": 4,
    "start_time": "2022-08-07T04:40:02.246Z"
   },
   {
    "duration": 3,
    "start_time": "2022-08-07T04:40:02.454Z"
   },
   {
    "duration": 4,
    "start_time": "2022-08-07T04:40:02.664Z"
   },
   {
    "duration": 3,
    "start_time": "2022-08-07T04:40:02.853Z"
   },
   {
    "duration": 4,
    "start_time": "2022-08-07T04:40:03.056Z"
   },
   {
    "duration": 4,
    "start_time": "2022-08-07T04:40:03.248Z"
   },
   {
    "duration": 26,
    "start_time": "2022-08-07T04:40:03.465Z"
   },
   {
    "duration": 4,
    "start_time": "2022-08-07T04:40:04.765Z"
   },
   {
    "duration": 5883,
    "start_time": "2022-08-07T04:40:04.960Z"
   },
   {
    "duration": 16,
    "start_time": "2022-08-07T04:40:10.845Z"
   },
   {
    "duration": 27,
    "start_time": "2022-08-07T04:40:10.863Z"
   },
   {
    "duration": 12,
    "start_time": "2022-08-07T04:40:10.893Z"
   },
   {
    "duration": 23,
    "start_time": "2022-08-07T04:40:10.907Z"
   },
   {
    "duration": 11,
    "start_time": "2022-08-07T04:40:10.932Z"
   },
   {
    "duration": 7,
    "start_time": "2022-08-07T04:40:23.128Z"
   },
   {
    "duration": 15,
    "start_time": "2022-08-07T04:40:24.252Z"
   },
   {
    "duration": 5,
    "start_time": "2022-08-07T04:40:32.792Z"
   },
   {
    "duration": 15,
    "start_time": "2022-08-07T04:40:33.221Z"
   },
   {
    "duration": 441,
    "start_time": "2022-08-07T04:40:40.760Z"
   },
   {
    "duration": 80,
    "start_time": "2022-08-07T04:40:41.203Z"
   },
   {
    "duration": 10,
    "start_time": "2022-08-07T04:40:41.284Z"
   },
   {
    "duration": 32,
    "start_time": "2022-08-07T04:40:41.875Z"
   },
   {
    "duration": 11,
    "start_time": "2022-08-07T04:40:42.462Z"
   },
   {
    "duration": 3,
    "start_time": "2022-08-07T04:40:43.860Z"
   },
   {
    "duration": 3,
    "start_time": "2022-08-07T04:40:44.076Z"
   },
   {
    "duration": 3,
    "start_time": "2022-08-07T04:40:44.283Z"
   },
   {
    "duration": 4,
    "start_time": "2022-08-07T04:40:44.659Z"
   },
   {
    "duration": 3,
    "start_time": "2022-08-07T04:40:44.920Z"
   },
   {
    "duration": 3,
    "start_time": "2022-08-07T04:40:45.091Z"
   },
   {
    "duration": 4,
    "start_time": "2022-08-07T04:40:45.292Z"
   },
   {
    "duration": 4,
    "start_time": "2022-08-07T04:40:45.479Z"
   },
   {
    "duration": 24,
    "start_time": "2022-08-07T04:40:45.742Z"
   },
   {
    "duration": 5,
    "start_time": "2022-08-07T04:40:46.708Z"
   },
   {
    "duration": 5614,
    "start_time": "2022-08-07T04:40:46.949Z"
   },
   {
    "duration": 14,
    "start_time": "2022-08-07T04:40:52.565Z"
   },
   {
    "duration": 21,
    "start_time": "2022-08-07T04:40:52.581Z"
   },
   {
    "duration": 14,
    "start_time": "2022-08-07T04:40:52.604Z"
   },
   {
    "duration": 21,
    "start_time": "2022-08-07T04:40:52.620Z"
   },
   {
    "duration": 9,
    "start_time": "2022-08-07T04:40:52.643Z"
   },
   {
    "duration": 7,
    "start_time": "2022-08-07T04:40:57.025Z"
   },
   {
    "duration": 17,
    "start_time": "2022-08-07T04:40:57.486Z"
   },
   {
    "duration": 5,
    "start_time": "2022-08-07T04:41:23.703Z"
   },
   {
    "duration": 4,
    "start_time": "2022-08-07T04:41:23.995Z"
   },
   {
    "duration": 14,
    "start_time": "2022-08-07T04:41:24.472Z"
   },
   {
    "duration": 2,
    "start_time": "2022-08-07T12:39:03.759Z"
   },
   {
    "duration": 77,
    "start_time": "2022-08-07T12:39:04.240Z"
   },
   {
    "duration": 4,
    "start_time": "2022-08-07T12:39:04.642Z"
   },
   {
    "duration": 21,
    "start_time": "2022-08-07T12:39:04.840Z"
   },
   {
    "duration": 11,
    "start_time": "2022-08-07T12:39:05.091Z"
   },
   {
    "duration": 3,
    "start_time": "2022-08-07T12:39:07.445Z"
   },
   {
    "duration": 3,
    "start_time": "2022-08-07T12:39:07.836Z"
   },
   {
    "duration": 4,
    "start_time": "2022-08-07T12:39:08.045Z"
   },
   {
    "duration": 3,
    "start_time": "2022-08-07T12:39:08.296Z"
   },
   {
    "duration": 3,
    "start_time": "2022-08-07T12:39:08.538Z"
   },
   {
    "duration": 3,
    "start_time": "2022-08-07T12:39:08.773Z"
   },
   {
    "duration": 4,
    "start_time": "2022-08-07T12:39:09.060Z"
   },
   {
    "duration": 4,
    "start_time": "2022-08-07T12:39:09.377Z"
   },
   {
    "duration": 25,
    "start_time": "2022-08-07T12:39:09.606Z"
   },
   {
    "duration": 5,
    "start_time": "2022-08-07T12:39:10.758Z"
   },
   {
    "duration": 6038,
    "start_time": "2022-08-07T12:39:11.083Z"
   },
   {
    "duration": 15,
    "start_time": "2022-08-07T12:39:17.123Z"
   },
   {
    "duration": 39,
    "start_time": "2022-08-07T12:39:17.140Z"
   },
   {
    "duration": 15,
    "start_time": "2022-08-07T12:39:17.181Z"
   },
   {
    "duration": 27,
    "start_time": "2022-08-07T12:39:17.199Z"
   },
   {
    "duration": 38,
    "start_time": "2022-08-07T12:39:17.227Z"
   },
   {
    "duration": 24,
    "start_time": "2022-08-07T12:39:17.267Z"
   },
   {
    "duration": 41,
    "start_time": "2022-08-07T12:39:17.293Z"
   },
   {
    "duration": 24,
    "start_time": "2022-08-07T12:39:17.335Z"
   },
   {
    "duration": 19,
    "start_time": "2022-08-07T12:39:18.482Z"
   },
   {
    "duration": 37,
    "start_time": "2022-08-07T12:39:19.566Z"
   },
   {
    "duration": 5,
    "start_time": "2022-08-07T12:39:22.130Z"
   },
   {
    "duration": 6,
    "start_time": "2022-08-07T12:39:22.450Z"
   },
   {
    "duration": 7,
    "start_time": "2022-08-07T12:39:22.833Z"
   },
   {
    "duration": 15,
    "start_time": "2022-08-07T12:39:23.279Z"
   },
   {
    "duration": 3,
    "start_time": "2022-08-07T12:39:23.894Z"
   },
   {
    "duration": 4,
    "start_time": "2022-08-07T12:39:25.381Z"
   },
   {
    "duration": 4,
    "start_time": "2022-08-07T12:39:25.629Z"
   },
   {
    "duration": 3,
    "start_time": "2022-08-07T12:39:25.855Z"
   },
   {
    "duration": 2,
    "start_time": "2022-08-07T12:39:26.073Z"
   },
   {
    "duration": 3,
    "start_time": "2022-08-07T12:39:26.334Z"
   },
   {
    "duration": 3,
    "start_time": "2022-08-07T12:39:26.630Z"
   },
   {
    "duration": 3,
    "start_time": "2022-08-07T12:39:26.879Z"
   },
   {
    "duration": 3,
    "start_time": "2022-08-07T12:39:27.204Z"
   },
   {
    "duration": 3,
    "start_time": "2022-08-07T12:39:27.539Z"
   },
   {
    "duration": 7,
    "start_time": "2022-08-07T12:39:27.851Z"
   },
   {
    "duration": 8,
    "start_time": "2022-08-07T12:39:28.039Z"
   },
   {
    "duration": 6,
    "start_time": "2022-08-07T12:39:28.228Z"
   },
   {
    "duration": 6,
    "start_time": "2022-08-07T12:39:28.434Z"
   },
   {
    "duration": 7,
    "start_time": "2022-08-07T12:39:28.638Z"
   },
   {
    "duration": 16,
    "start_time": "2022-08-07T12:39:29.506Z"
   },
   {
    "duration": 8,
    "start_time": "2022-08-07T12:39:41.866Z"
   },
   {
    "duration": 80,
    "start_time": "2022-08-07T12:42:06.643Z"
   },
   {
    "duration": 15,
    "start_time": "2022-08-07T12:43:47.945Z"
   },
   {
    "duration": 12,
    "start_time": "2022-08-07T12:43:59.630Z"
   },
   {
    "duration": 12,
    "start_time": "2022-08-07T12:45:08.726Z"
   },
   {
    "duration": 7,
    "start_time": "2022-08-07T12:45:34.348Z"
   },
   {
    "duration": 18,
    "start_time": "2022-08-07T12:45:35.549Z"
   },
   {
    "duration": 3,
    "start_time": "2022-08-07T12:46:32.457Z"
   },
   {
    "duration": 2,
    "start_time": "2022-08-07T12:46:32.642Z"
   },
   {
    "duration": 3,
    "start_time": "2022-08-07T12:46:32.822Z"
   },
   {
    "duration": 2,
    "start_time": "2022-08-07T12:46:33.012Z"
   },
   {
    "duration": 3,
    "start_time": "2022-08-07T12:46:33.209Z"
   },
   {
    "duration": 2,
    "start_time": "2022-08-07T12:46:33.432Z"
   },
   {
    "duration": 2,
    "start_time": "2022-08-07T12:46:33.642Z"
   },
   {
    "duration": 3,
    "start_time": "2022-08-07T12:46:33.834Z"
   },
   {
    "duration": 3,
    "start_time": "2022-08-07T12:46:34.043Z"
   },
   {
    "duration": 3,
    "start_time": "2022-08-07T12:46:34.239Z"
   },
   {
    "duration": 7,
    "start_time": "2022-08-07T12:46:34.479Z"
   },
   {
    "duration": 7,
    "start_time": "2022-08-07T12:46:34.848Z"
   },
   {
    "duration": 5,
    "start_time": "2022-08-07T12:46:35.060Z"
   },
   {
    "duration": 6,
    "start_time": "2022-08-07T12:46:35.493Z"
   },
   {
    "duration": 7,
    "start_time": "2022-08-07T12:46:35.712Z"
   },
   {
    "duration": 15,
    "start_time": "2022-08-07T12:46:36.168Z"
   },
   {
    "duration": 6,
    "start_time": "2022-08-07T12:46:39.035Z"
   },
   {
    "duration": 5,
    "start_time": "2022-08-07T15:02:10.725Z"
   },
   {
    "duration": 6,
    "start_time": "2022-08-07T15:02:34.367Z"
   },
   {
    "duration": 1305,
    "start_time": "2022-08-07T15:13:15.345Z"
   },
   {
    "duration": 11,
    "start_time": "2022-08-07T15:13:35.174Z"
   },
   {
    "duration": 5,
    "start_time": "2022-08-07T15:13:50.878Z"
   },
   {
    "duration": 11,
    "start_time": "2022-08-07T15:19:03.222Z"
   },
   {
    "duration": 6,
    "start_time": "2022-08-07T15:19:12.838Z"
   },
   {
    "duration": 4,
    "start_time": "2022-08-07T20:06:07.323Z"
   },
   {
    "duration": 4,
    "start_time": "2022-08-07T21:24:49.759Z"
   },
   {
    "duration": 4,
    "start_time": "2022-08-07T21:24:55.770Z"
   },
   {
    "duration": 4,
    "start_time": "2022-08-07T21:25:06.645Z"
   },
   {
    "duration": 12,
    "start_time": "2022-08-07T21:30:12.876Z"
   },
   {
    "duration": 16,
    "start_time": "2022-08-07T21:30:20.407Z"
   },
   {
    "duration": 3,
    "start_time": "2022-08-07T22:33:57.355Z"
   },
   {
    "duration": 4,
    "start_time": "2022-08-07T22:34:14.651Z"
   },
   {
    "duration": 4,
    "start_time": "2022-08-07T22:34:22.468Z"
   },
   {
    "duration": 8,
    "start_time": "2022-08-07T22:36:39.644Z"
   },
   {
    "duration": 16,
    "start_time": "2022-08-07T22:36:48.612Z"
   },
   {
    "duration": 4,
    "start_time": "2022-08-07T22:42:48.289Z"
   },
   {
    "duration": 4,
    "start_time": "2022-08-07T22:42:52.754Z"
   },
   {
    "duration": 11,
    "start_time": "2022-08-07T22:42:55.481Z"
   },
   {
    "duration": 16,
    "start_time": "2022-08-07T22:42:55.996Z"
   },
   {
    "duration": 9,
    "start_time": "2022-08-08T23:01:57.134Z"
   },
   {
    "duration": 3,
    "start_time": "2022-08-08T23:02:04.627Z"
   },
   {
    "duration": 76,
    "start_time": "2022-08-08T23:02:05.195Z"
   },
   {
    "duration": 4,
    "start_time": "2022-08-08T23:02:05.620Z"
   },
   {
    "duration": 24,
    "start_time": "2022-08-08T23:02:05.830Z"
   },
   {
    "duration": 11,
    "start_time": "2022-08-08T23:02:06.002Z"
   },
   {
    "duration": 4,
    "start_time": "2022-08-08T23:02:07.471Z"
   },
   {
    "duration": 3,
    "start_time": "2022-08-08T23:02:07.679Z"
   },
   {
    "duration": 3,
    "start_time": "2022-08-08T23:02:07.891Z"
   },
   {
    "duration": 3,
    "start_time": "2022-08-08T23:02:08.050Z"
   },
   {
    "duration": 4,
    "start_time": "2022-08-08T23:02:08.235Z"
   },
   {
    "duration": 4,
    "start_time": "2022-08-08T23:02:08.428Z"
   },
   {
    "duration": 4,
    "start_time": "2022-08-08T23:02:08.935Z"
   },
   {
    "duration": 4,
    "start_time": "2022-08-08T23:02:09.012Z"
   },
   {
    "duration": 25,
    "start_time": "2022-08-08T23:02:09.095Z"
   },
   {
    "duration": 5,
    "start_time": "2022-08-08T23:02:09.429Z"
   },
   {
    "duration": 5645,
    "start_time": "2022-08-08T23:02:09.512Z"
   },
   {
    "duration": 15,
    "start_time": "2022-08-08T23:02:15.159Z"
   },
   {
    "duration": 18,
    "start_time": "2022-08-08T23:02:15.176Z"
   },
   {
    "duration": 16,
    "start_time": "2022-08-08T23:02:15.196Z"
   },
   {
    "duration": 32,
    "start_time": "2022-08-08T23:02:15.214Z"
   },
   {
    "duration": 23,
    "start_time": "2022-08-08T23:02:15.248Z"
   },
   {
    "duration": 15,
    "start_time": "2022-08-08T23:02:15.273Z"
   },
   {
    "duration": 25,
    "start_time": "2022-08-08T23:02:15.290Z"
   },
   {
    "duration": 35,
    "start_time": "2022-08-08T23:02:15.317Z"
   },
   {
    "duration": 37,
    "start_time": "2022-08-08T23:02:15.356Z"
   },
   {
    "duration": 40,
    "start_time": "2022-08-08T23:02:15.395Z"
   },
   {
    "duration": 4,
    "start_time": "2022-08-08T23:02:15.437Z"
   },
   {
    "duration": 18,
    "start_time": "2022-08-08T23:02:15.443Z"
   },
   {
    "duration": 21,
    "start_time": "2022-08-08T23:02:15.463Z"
   },
   {
    "duration": 19,
    "start_time": "2022-08-08T23:02:15.486Z"
   },
   {
    "duration": 9,
    "start_time": "2022-08-08T23:02:15.507Z"
   },
   {
    "duration": 27,
    "start_time": "2022-08-08T23:02:15.518Z"
   },
   {
    "duration": 24,
    "start_time": "2022-08-08T23:02:15.547Z"
   },
   {
    "duration": 24,
    "start_time": "2022-08-08T23:02:15.573Z"
   },
   {
    "duration": 25,
    "start_time": "2022-08-08T23:02:15.599Z"
   },
   {
    "duration": 22,
    "start_time": "2022-08-08T23:02:15.626Z"
   },
   {
    "duration": 25,
    "start_time": "2022-08-08T23:02:15.650Z"
   },
   {
    "duration": 22,
    "start_time": "2022-08-08T23:02:15.677Z"
   },
   {
    "duration": 20,
    "start_time": "2022-08-08T23:02:15.701Z"
   },
   {
    "duration": 23,
    "start_time": "2022-08-08T23:02:15.723Z"
   },
   {
    "duration": 23,
    "start_time": "2022-08-08T23:02:15.748Z"
   },
   {
    "duration": 43,
    "start_time": "2022-08-08T23:02:15.772Z"
   },
   {
    "duration": 30,
    "start_time": "2022-08-08T23:02:15.819Z"
   },
   {
    "duration": 21,
    "start_time": "2022-08-08T23:02:15.851Z"
   },
   {
    "duration": 15,
    "start_time": "2022-08-08T23:02:15.874Z"
   },
   {
    "duration": 32,
    "start_time": "2022-08-08T23:02:15.891Z"
   },
   {
    "duration": 20,
    "start_time": "2022-08-08T23:02:15.924Z"
   },
   {
    "duration": 42,
    "start_time": "2022-08-08T23:02:15.946Z"
   },
   {
    "duration": 33,
    "start_time": "2022-08-08T23:02:15.990Z"
   },
   {
    "duration": 16,
    "start_time": "2022-08-08T23:02:16.025Z"
   },
   {
    "duration": 18,
    "start_time": "2022-08-08T23:02:16.044Z"
   },
   {
    "duration": 4,
    "start_time": "2022-08-08T23:02:17.544Z"
   },
   {
    "duration": 3,
    "start_time": "2022-08-08T23:02:17.800Z"
   },
   {
    "duration": 14,
    "start_time": "2022-08-08T23:02:17.995Z"
   },
   {
    "duration": 15,
    "start_time": "2022-08-08T23:02:18.174Z"
   },
   {
    "duration": 3,
    "start_time": "2022-08-08T23:02:18.366Z"
   },
   {
    "duration": 4,
    "start_time": "2022-08-08T23:02:18.568Z"
   },
   {
    "duration": 11,
    "start_time": "2022-08-08T23:02:18.759Z"
   },
   {
    "duration": 16,
    "start_time": "2022-08-08T23:02:18.979Z"
   },
   {
    "duration": 20,
    "start_time": "2022-08-08T23:02:51.284Z"
   },
   {
    "duration": 15,
    "start_time": "2022-08-08T23:10:18.476Z"
   },
   {
    "duration": 15,
    "start_time": "2022-08-08T23:10:42.618Z"
   },
   {
    "duration": 15,
    "start_time": "2022-08-08T23:10:51.644Z"
   },
   {
    "duration": 14,
    "start_time": "2022-08-08T23:10:56.940Z"
   },
   {
    "duration": 18,
    "start_time": "2022-08-08T23:11:26.728Z"
   },
   {
    "duration": 26,
    "start_time": "2022-08-08T23:15:09.137Z"
   },
   {
    "duration": 18,
    "start_time": "2022-08-08T23:16:22.240Z"
   },
   {
    "duration": 396,
    "start_time": "2022-08-09T02:08:04.094Z"
   },
   {
    "duration": 315,
    "start_time": "2022-08-09T02:08:04.492Z"
   },
   {
    "duration": 8,
    "start_time": "2022-08-09T02:08:04.809Z"
   },
   {
    "duration": 25,
    "start_time": "2022-08-09T02:08:04.819Z"
   },
   {
    "duration": 8,
    "start_time": "2022-08-09T02:08:04.845Z"
   },
   {
    "duration": 3,
    "start_time": "2022-08-09T02:08:04.854Z"
   },
   {
    "duration": 4,
    "start_time": "2022-08-09T02:08:04.858Z"
   },
   {
    "duration": 4,
    "start_time": "2022-08-09T02:08:04.864Z"
   },
   {
    "duration": 4,
    "start_time": "2022-08-09T02:08:04.870Z"
   },
   {
    "duration": 6,
    "start_time": "2022-08-09T02:08:04.876Z"
   },
   {
    "duration": 17,
    "start_time": "2022-08-09T02:08:04.884Z"
   },
   {
    "duration": 10,
    "start_time": "2022-08-09T02:08:04.902Z"
   },
   {
    "duration": 7,
    "start_time": "2022-08-09T02:08:04.914Z"
   },
   {
    "duration": 23,
    "start_time": "2022-08-09T02:08:04.923Z"
   },
   {
    "duration": 6,
    "start_time": "2022-08-09T02:08:04.947Z"
   },
   {
    "duration": 4765,
    "start_time": "2022-08-09T02:08:04.954Z"
   },
   {
    "duration": 12,
    "start_time": "2022-08-09T02:08:09.720Z"
   },
   {
    "duration": 5,
    "start_time": "2022-08-09T02:08:09.734Z"
   },
   {
    "duration": 6,
    "start_time": "2022-08-09T02:08:09.741Z"
   },
   {
    "duration": 15,
    "start_time": "2022-08-09T02:08:09.748Z"
   },
   {
    "duration": 8,
    "start_time": "2022-08-09T02:08:09.764Z"
   },
   {
    "duration": 5,
    "start_time": "2022-08-09T02:08:09.774Z"
   },
   {
    "duration": 28,
    "start_time": "2022-08-09T02:08:09.780Z"
   },
   {
    "duration": 8,
    "start_time": "2022-08-09T02:08:09.810Z"
   },
   {
    "duration": 23,
    "start_time": "2022-08-09T02:08:09.820Z"
   },
   {
    "duration": 29,
    "start_time": "2022-08-09T02:08:09.844Z"
   },
   {
    "duration": 5,
    "start_time": "2022-08-09T02:08:09.875Z"
   },
   {
    "duration": 22,
    "start_time": "2022-08-09T02:08:09.883Z"
   },
   {
    "duration": 7,
    "start_time": "2022-08-09T02:08:09.906Z"
   },
   {
    "duration": 13,
    "start_time": "2022-08-09T02:08:09.915Z"
   },
   {
    "duration": 8,
    "start_time": "2022-08-09T02:08:09.929Z"
   },
   {
    "duration": 14,
    "start_time": "2022-08-09T02:08:09.938Z"
   },
   {
    "duration": 2,
    "start_time": "2022-08-09T02:08:09.953Z"
   },
   {
    "duration": 5,
    "start_time": "2022-08-09T02:08:09.957Z"
   },
   {
    "duration": 5,
    "start_time": "2022-08-09T02:08:09.963Z"
   },
   {
    "duration": 31,
    "start_time": "2022-08-09T02:08:09.969Z"
   },
   {
    "duration": 5,
    "start_time": "2022-08-09T02:08:10.001Z"
   },
   {
    "duration": 7,
    "start_time": "2022-08-09T02:08:10.007Z"
   },
   {
    "duration": 6,
    "start_time": "2022-08-09T02:08:10.015Z"
   },
   {
    "duration": 7,
    "start_time": "2022-08-09T02:08:10.022Z"
   },
   {
    "duration": 12,
    "start_time": "2022-08-09T02:08:10.031Z"
   },
   {
    "duration": 6,
    "start_time": "2022-08-09T02:08:10.045Z"
   },
   {
    "duration": 11,
    "start_time": "2022-08-09T02:08:10.052Z"
   },
   {
    "duration": 16,
    "start_time": "2022-08-09T02:08:10.065Z"
   },
   {
    "duration": 11,
    "start_time": "2022-08-09T02:08:10.083Z"
   },
   {
    "duration": 10,
    "start_time": "2022-08-09T02:08:10.096Z"
   },
   {
    "duration": 10,
    "start_time": "2022-08-09T02:08:10.108Z"
   },
   {
    "duration": 16,
    "start_time": "2022-08-09T02:08:10.121Z"
   },
   {
    "duration": 5,
    "start_time": "2022-08-09T02:08:10.139Z"
   },
   {
    "duration": 8,
    "start_time": "2022-08-09T02:08:10.145Z"
   },
   {
    "duration": 60,
    "start_time": "2022-08-09T02:08:10.154Z"
   },
   {
    "duration": 0,
    "start_time": "2022-08-09T02:08:10.216Z"
   },
   {
    "duration": 0,
    "start_time": "2022-08-09T02:08:10.217Z"
   },
   {
    "duration": 0,
    "start_time": "2022-08-09T02:08:10.218Z"
   },
   {
    "duration": 0,
    "start_time": "2022-08-09T02:08:10.219Z"
   },
   {
    "duration": 0,
    "start_time": "2022-08-09T02:08:10.220Z"
   },
   {
    "duration": 0,
    "start_time": "2022-08-09T02:08:10.222Z"
   },
   {
    "duration": 0,
    "start_time": "2022-08-09T02:08:10.223Z"
   },
   {
    "duration": 0,
    "start_time": "2022-08-09T02:08:10.224Z"
   },
   {
    "duration": 0,
    "start_time": "2022-08-09T02:08:10.225Z"
   },
   {
    "duration": 0,
    "start_time": "2022-08-09T02:08:10.226Z"
   },
   {
    "duration": 0,
    "start_time": "2022-08-09T02:08:10.227Z"
   },
   {
    "duration": 0,
    "start_time": "2022-08-09T02:08:10.228Z"
   },
   {
    "duration": 418,
    "start_time": "2022-08-12T07:13:48.476Z"
   },
   {
    "duration": 306,
    "start_time": "2022-08-12T07:13:50.531Z"
   },
   {
    "duration": 8,
    "start_time": "2022-08-12T07:13:50.907Z"
   },
   {
    "duration": 16,
    "start_time": "2022-08-12T07:13:52.297Z"
   },
   {
    "duration": 13,
    "start_time": "2022-08-12T07:14:11.689Z"
   },
   {
    "duration": 424,
    "start_time": "2022-08-13T14:32:22.525Z"
   },
   {
    "duration": 329,
    "start_time": "2022-08-13T14:32:23.322Z"
   },
   {
    "duration": 7,
    "start_time": "2022-08-13T14:32:23.868Z"
   },
   {
    "duration": 16,
    "start_time": "2022-08-13T14:32:24.619Z"
   },
   {
    "duration": 13,
    "start_time": "2022-08-13T14:32:28.422Z"
   },
   {
    "duration": 30,
    "start_time": "2022-08-13T14:33:16.960Z"
   },
   {
    "duration": 10,
    "start_time": "2022-08-13T14:33:47.249Z"
   },
   {
    "duration": 3,
    "start_time": "2022-08-13T14:33:54.226Z"
   },
   {
    "duration": 3,
    "start_time": "2022-08-13T14:33:55.261Z"
   },
   {
    "duration": 4,
    "start_time": "2022-08-13T14:33:55.825Z"
   },
   {
    "duration": 15,
    "start_time": "2022-08-13T16:26:27.739Z"
   },
   {
    "duration": 31,
    "start_time": "2022-08-13T16:26:56.243Z"
   },
   {
    "duration": 3,
    "start_time": "2022-08-13T16:28:24.042Z"
   },
   {
    "duration": 84,
    "start_time": "2022-08-13T16:28:33.759Z"
   },
   {
    "duration": 15,
    "start_time": "2022-08-13T16:28:59.693Z"
   },
   {
    "duration": 53,
    "start_time": "2022-08-13T16:29:04.002Z"
   },
   {
    "duration": 19,
    "start_time": "2022-08-13T16:29:08.244Z"
   },
   {
    "duration": 9,
    "start_time": "2022-08-13T16:29:21.543Z"
   },
   {
    "duration": 13,
    "start_time": "2022-08-13T16:30:45.256Z"
   },
   {
    "duration": 5,
    "start_time": "2022-08-13T16:31:31.456Z"
   },
   {
    "duration": 3,
    "start_time": "2022-08-13T16:31:38.975Z"
   },
   {
    "duration": 4,
    "start_time": "2022-08-13T16:31:46.638Z"
   },
   {
    "duration": 15,
    "start_time": "2022-08-13T16:32:50.041Z"
   },
   {
    "duration": 13,
    "start_time": "2022-08-13T16:33:14.251Z"
   },
   {
    "duration": 8,
    "start_time": "2022-08-13T16:33:18.097Z"
   },
   {
    "duration": 10,
    "start_time": "2022-08-13T16:33:20.978Z"
   },
   {
    "duration": 21,
    "start_time": "2022-08-13T16:34:04.899Z"
   },
   {
    "duration": 15,
    "start_time": "2022-08-13T16:34:09.138Z"
   },
   {
    "duration": 21,
    "start_time": "2022-08-13T16:36:17.736Z"
   },
   {
    "duration": 16,
    "start_time": "2022-08-13T16:36:36.338Z"
   },
   {
    "duration": 6,
    "start_time": "2022-08-13T16:38:50.399Z"
   },
   {
    "duration": 12,
    "start_time": "2022-08-13T16:39:21.249Z"
   },
   {
    "duration": 14,
    "start_time": "2022-08-13T16:39:25.141Z"
   },
   {
    "duration": 12,
    "start_time": "2022-08-13T16:39:28.482Z"
   },
   {
    "duration": 8,
    "start_time": "2022-08-13T16:39:35.082Z"
   },
   {
    "duration": 9,
    "start_time": "2022-08-13T16:40:53.864Z"
   },
   {
    "duration": 10,
    "start_time": "2022-08-13T16:41:01.242Z"
   },
   {
    "duration": 74,
    "start_time": "2022-08-13T16:42:28.772Z"
   },
   {
    "duration": 9,
    "start_time": "2022-08-13T16:42:34.189Z"
   },
   {
    "duration": 20,
    "start_time": "2022-08-13T16:42:41.828Z"
   },
   {
    "duration": 45,
    "start_time": "2022-08-13T16:42:52.808Z"
   },
   {
    "duration": 11,
    "start_time": "2022-08-13T16:42:56.078Z"
   },
   {
    "duration": 22,
    "start_time": "2022-08-13T16:43:03.318Z"
   },
   {
    "duration": 9,
    "start_time": "2022-08-13T16:43:31.691Z"
   },
   {
    "duration": 5,
    "start_time": "2022-08-13T16:44:08.470Z"
   },
   {
    "duration": 4,
    "start_time": "2022-08-13T16:44:20.594Z"
   },
   {
    "duration": 37,
    "start_time": "2022-08-13T16:44:31.431Z"
   },
   {
    "duration": 19,
    "start_time": "2022-08-13T16:45:01.756Z"
   },
   {
    "duration": 9,
    "start_time": "2022-08-13T16:45:10.563Z"
   },
   {
    "duration": 9,
    "start_time": "2022-08-13T16:50:34.491Z"
   },
   {
    "duration": 14,
    "start_time": "2022-08-13T16:50:44.203Z"
   },
   {
    "duration": 7,
    "start_time": "2022-08-13T16:51:12.147Z"
   },
   {
    "duration": 10,
    "start_time": "2022-08-13T16:59:31.094Z"
   },
   {
    "duration": 6,
    "start_time": "2022-08-13T16:59:36.781Z"
   },
   {
    "duration": 8,
    "start_time": "2022-08-13T16:59:40.695Z"
   },
   {
    "duration": 20,
    "start_time": "2022-08-13T17:02:38.405Z"
   },
   {
    "duration": 8,
    "start_time": "2022-08-13T17:02:43.796Z"
   },
   {
    "duration": 13,
    "start_time": "2022-08-13T17:04:54.464Z"
   },
   {
    "duration": 9,
    "start_time": "2022-08-13T17:05:00.695Z"
   },
   {
    "duration": 8,
    "start_time": "2022-08-13T17:07:04.124Z"
   },
   {
    "duration": 12,
    "start_time": "2022-08-13T17:10:06.392Z"
   },
   {
    "duration": 7,
    "start_time": "2022-08-13T17:10:11.241Z"
   },
   {
    "duration": 8,
    "start_time": "2022-08-13T17:10:17.599Z"
   },
   {
    "duration": 11,
    "start_time": "2022-08-13T17:10:35.024Z"
   },
   {
    "duration": 9,
    "start_time": "2022-08-13T17:12:26.328Z"
   },
   {
    "duration": 8,
    "start_time": "2022-08-13T17:12:39.125Z"
   },
   {
    "duration": 15,
    "start_time": "2022-08-13T17:12:50.111Z"
   },
   {
    "duration": 7,
    "start_time": "2022-08-13T17:13:08.660Z"
   },
   {
    "duration": 4,
    "start_time": "2022-08-13T17:13:17.220Z"
   },
   {
    "duration": 7,
    "start_time": "2022-08-13T17:13:34.624Z"
   },
   {
    "duration": 11,
    "start_time": "2022-08-13T17:15:26.629Z"
   },
   {
    "duration": 9,
    "start_time": "2022-08-13T17:16:06.824Z"
   },
   {
    "duration": 3,
    "start_time": "2022-08-13T17:17:31.688Z"
   },
   {
    "duration": 3,
    "start_time": "2022-08-13T17:21:25.553Z"
   },
   {
    "duration": 12,
    "start_time": "2022-08-13T17:21:39.062Z"
   },
   {
    "duration": 16,
    "start_time": "2022-08-13T17:22:35.907Z"
   },
   {
    "duration": 8,
    "start_time": "2022-08-13T17:22:40.977Z"
   },
   {
    "duration": 3,
    "start_time": "2022-08-13T17:23:04.034Z"
   },
   {
    "duration": 3,
    "start_time": "2022-08-13T17:24:06.860Z"
   },
   {
    "duration": 8,
    "start_time": "2022-08-13T17:24:07.774Z"
   },
   {
    "duration": 12,
    "start_time": "2022-08-13T17:24:51.366Z"
   },
   {
    "duration": 3,
    "start_time": "2022-08-13T17:25:18.630Z"
   },
   {
    "duration": 7,
    "start_time": "2022-08-13T17:25:19.824Z"
   },
   {
    "duration": 5,
    "start_time": "2022-08-13T17:25:40.529Z"
   },
   {
    "duration": 4,
    "start_time": "2022-08-13T17:39:52.671Z"
   },
   {
    "duration": 3,
    "start_time": "2022-08-13T17:39:52.893Z"
   },
   {
    "duration": 3,
    "start_time": "2022-08-13T17:39:53.449Z"
   },
   {
    "duration": 1730,
    "start_time": "2022-08-13T22:27:07.185Z"
   },
   {
    "duration": 98,
    "start_time": "2022-08-13T22:27:21.730Z"
   },
   {
    "duration": 5842,
    "start_time": "2022-08-13T22:29:08.762Z"
   },
   {
    "duration": 22,
    "start_time": "2022-08-13T22:29:24.200Z"
   },
   {
    "duration": 5985,
    "start_time": "2022-08-14T00:34:08.671Z"
   },
   {
    "duration": 12,
    "start_time": "2022-08-14T00:34:14.658Z"
   },
   {
    "duration": 3,
    "start_time": "2022-08-14T00:38:03.346Z"
   },
   {
    "duration": 4,
    "start_time": "2022-08-14T00:38:04.024Z"
   },
   {
    "duration": 13,
    "start_time": "2022-08-14T00:38:04.546Z"
   },
   {
    "duration": 5,
    "start_time": "2022-08-14T00:38:07.064Z"
   },
   {
    "duration": 4,
    "start_time": "2022-08-14T00:38:07.442Z"
   },
   {
    "duration": 12,
    "start_time": "2022-08-14T00:38:10.724Z"
   },
   {
    "duration": 6,
    "start_time": "2022-08-14T00:38:14.552Z"
   },
   {
    "duration": 17,
    "start_time": "2022-08-14T00:38:16.724Z"
   },
   {
    "duration": 41,
    "start_time": "2022-08-14T00:38:19.780Z"
   },
   {
    "duration": 5,
    "start_time": "2022-08-14T00:38:23.040Z"
   },
   {
    "duration": 5,
    "start_time": "2022-08-14T00:38:24.464Z"
   },
   {
    "duration": 5,
    "start_time": "2022-08-14T00:38:26.561Z"
   },
   {
    "duration": 4,
    "start_time": "2022-08-14T00:38:43.524Z"
   },
   {
    "duration": 5,
    "start_time": "2022-08-14T00:39:00.305Z"
   },
   {
    "duration": 5,
    "start_time": "2022-08-14T01:20:15.229Z"
   },
   {
    "duration": 5,
    "start_time": "2022-08-14T01:20:34.596Z"
   },
   {
    "duration": 4,
    "start_time": "2022-08-14T01:20:39.724Z"
   },
   {
    "duration": 8,
    "start_time": "2022-08-14T01:20:55.417Z"
   },
   {
    "duration": 5,
    "start_time": "2022-08-14T01:21:04.951Z"
   },
   {
    "duration": 4,
    "start_time": "2022-08-14T01:22:14.552Z"
   },
   {
    "duration": 5,
    "start_time": "2022-08-14T01:22:25.083Z"
   },
   {
    "duration": 5,
    "start_time": "2022-08-14T01:22:30.025Z"
   },
   {
    "duration": 5,
    "start_time": "2022-08-14T01:22:56.369Z"
   },
   {
    "duration": 5,
    "start_time": "2022-08-14T01:22:56.778Z"
   },
   {
    "duration": 10,
    "start_time": "2022-08-14T01:23:03.733Z"
   },
   {
    "duration": 4,
    "start_time": "2022-08-14T01:23:04.175Z"
   },
   {
    "duration": 11,
    "start_time": "2022-08-14T01:23:04.571Z"
   },
   {
    "duration": 3,
    "start_time": "2022-08-14T01:23:06.977Z"
   },
   {
    "duration": 2,
    "start_time": "2022-08-14T01:23:07.158Z"
   },
   {
    "duration": 3,
    "start_time": "2022-08-14T01:23:07.327Z"
   },
   {
    "duration": 13,
    "start_time": "2022-08-14T01:23:07.510Z"
   },
   {
    "duration": 2,
    "start_time": "2022-08-14T01:23:07.680Z"
   },
   {
    "duration": 2,
    "start_time": "2022-08-14T01:23:07.845Z"
   },
   {
    "duration": 3,
    "start_time": "2022-08-14T01:23:08.025Z"
   },
   {
    "duration": 2,
    "start_time": "2022-08-14T01:23:08.224Z"
   },
   {
    "duration": 3,
    "start_time": "2022-08-14T01:23:08.424Z"
   },
   {
    "duration": 3,
    "start_time": "2022-08-14T01:23:08.829Z"
   },
   {
    "duration": 7,
    "start_time": "2022-08-14T01:23:09.223Z"
   },
   {
    "duration": 5,
    "start_time": "2022-08-14T01:23:09.552Z"
   },
   {
    "duration": 5,
    "start_time": "2022-08-14T01:23:09.828Z"
   },
   {
    "duration": 6,
    "start_time": "2022-08-14T01:23:10.290Z"
   },
   {
    "duration": 5,
    "start_time": "2022-08-14T01:23:10.497Z"
   },
   {
    "duration": 22,
    "start_time": "2022-08-14T01:23:10.706Z"
   },
   {
    "duration": 9,
    "start_time": "2022-08-14T01:23:17.015Z"
   },
   {
    "duration": 4,
    "start_time": "2022-08-14T01:23:18.780Z"
   },
   {
    "duration": 12,
    "start_time": "2022-08-14T01:23:20.909Z"
   },
   {
    "duration": 5,
    "start_time": "2022-08-14T01:24:02.868Z"
   },
   {
    "duration": 7,
    "start_time": "2022-08-14T01:24:08.542Z"
   },
   {
    "duration": 7,
    "start_time": "2022-08-14T01:24:17.059Z"
   },
   {
    "duration": 5,
    "start_time": "2022-08-14T01:24:21.654Z"
   },
   {
    "duration": 5,
    "start_time": "2022-08-14T01:24:26.139Z"
   },
   {
    "duration": 3,
    "start_time": "2022-08-14T01:25:22.003Z"
   },
   {
    "duration": 3,
    "start_time": "2022-08-14T01:25:22.183Z"
   },
   {
    "duration": 11,
    "start_time": "2022-08-14T01:25:22.365Z"
   },
   {
    "duration": 18,
    "start_time": "2022-08-14T01:25:22.545Z"
   },
   {
    "duration": 3,
    "start_time": "2022-08-14T01:25:22.746Z"
   },
   {
    "duration": 4,
    "start_time": "2022-08-14T01:25:23.466Z"
   },
   {
    "duration": 11,
    "start_time": "2022-08-14T01:25:24.166Z"
   },
   {
    "duration": 14,
    "start_time": "2022-08-14T01:25:24.585Z"
   },
   {
    "duration": 13,
    "start_time": "2022-08-14T01:25:28.078Z"
   },
   {
    "duration": 21,
    "start_time": "2022-08-14T01:25:28.803Z"
   },
   {
    "duration": 21,
    "start_time": "2022-08-14T01:25:29.485Z"
   },
   {
    "duration": 14,
    "start_time": "2022-08-14T01:25:30.385Z"
   },
   {
    "duration": 388,
    "start_time": "2022-08-14T02:32:24.846Z"
   },
   {
    "duration": 319,
    "start_time": "2022-08-14T02:32:25.235Z"
   },
   {
    "duration": 8,
    "start_time": "2022-08-14T02:32:25.555Z"
   },
   {
    "duration": 16,
    "start_time": "2022-08-14T02:32:25.565Z"
   },
   {
    "duration": 12,
    "start_time": "2022-08-14T02:32:25.582Z"
   },
   {
    "duration": 37,
    "start_time": "2022-08-14T02:32:25.595Z"
   },
   {
    "duration": 8,
    "start_time": "2022-08-14T02:32:25.634Z"
   },
   {
    "duration": 2,
    "start_time": "2022-08-14T02:32:25.644Z"
   },
   {
    "duration": 7,
    "start_time": "2022-08-14T02:32:25.648Z"
   },
   {
    "duration": 4,
    "start_time": "2022-08-14T02:32:25.657Z"
   },
   {
    "duration": 14,
    "start_time": "2022-08-14T02:32:25.663Z"
   },
   {
    "duration": 39,
    "start_time": "2022-08-14T02:32:25.678Z"
   },
   {
    "duration": 7,
    "start_time": "2022-08-14T02:32:25.723Z"
   },
   {
    "duration": 14,
    "start_time": "2022-08-14T02:32:25.732Z"
   },
   {
    "duration": 4,
    "start_time": "2022-08-14T02:32:25.748Z"
   },
   {
    "duration": 9,
    "start_time": "2022-08-14T02:32:25.753Z"
   },
   {
    "duration": 5,
    "start_time": "2022-08-14T02:32:25.763Z"
   },
   {
    "duration": 4,
    "start_time": "2022-08-14T02:32:25.769Z"
   },
   {
    "duration": 5,
    "start_time": "2022-08-14T02:32:25.775Z"
   },
   {
    "duration": 7,
    "start_time": "2022-08-14T02:32:25.782Z"
   },
   {
    "duration": 7,
    "start_time": "2022-08-14T02:32:25.816Z"
   },
   {
    "duration": 27,
    "start_time": "2022-08-14T02:32:25.825Z"
   },
   {
    "duration": 5,
    "start_time": "2022-08-14T02:32:25.854Z"
   },
   {
    "duration": 4434,
    "start_time": "2022-08-14T02:32:25.860Z"
   },
   {
    "duration": 5952,
    "start_time": "2022-08-14T02:32:30.296Z"
   },
   {
    "duration": 12,
    "start_time": "2022-08-14T02:32:36.249Z"
   },
   {
    "duration": 8,
    "start_time": "2022-08-14T02:32:36.263Z"
   },
   {
    "duration": 4,
    "start_time": "2022-08-14T02:32:36.275Z"
   },
   {
    "duration": 32,
    "start_time": "2022-08-14T02:32:36.281Z"
   },
   {
    "duration": 20,
    "start_time": "2022-08-14T02:32:36.314Z"
   },
   {
    "duration": 3,
    "start_time": "2022-08-14T02:32:36.336Z"
   },
   {
    "duration": 12,
    "start_time": "2022-08-14T02:32:36.340Z"
   },
   {
    "duration": 9,
    "start_time": "2022-08-14T02:32:36.353Z"
   },
   {
    "duration": 20,
    "start_time": "2022-08-14T02:32:36.363Z"
   },
   {
    "duration": 60,
    "start_time": "2022-08-14T02:32:36.384Z"
   },
   {
    "duration": 5,
    "start_time": "2022-08-14T02:32:36.445Z"
   },
   {
    "duration": 7,
    "start_time": "2022-08-14T02:32:36.451Z"
   },
   {
    "duration": 7,
    "start_time": "2022-08-14T02:32:36.460Z"
   },
   {
    "duration": 9,
    "start_time": "2022-08-14T02:32:36.469Z"
   },
   {
    "duration": 8,
    "start_time": "2022-08-14T02:32:36.479Z"
   },
   {
    "duration": 7,
    "start_time": "2022-08-14T02:32:36.488Z"
   },
   {
    "duration": 31,
    "start_time": "2022-08-14T02:32:36.496Z"
   },
   {
    "duration": 14,
    "start_time": "2022-08-14T02:32:36.528Z"
   },
   {
    "duration": 10,
    "start_time": "2022-08-14T02:32:36.544Z"
   },
   {
    "duration": 16,
    "start_time": "2022-08-14T02:32:36.556Z"
   },
   {
    "duration": 11,
    "start_time": "2022-08-14T02:32:36.573Z"
   },
   {
    "duration": 4,
    "start_time": "2022-08-14T02:32:36.586Z"
   },
   {
    "duration": 4,
    "start_time": "2022-08-14T02:32:36.591Z"
   },
   {
    "duration": 20,
    "start_time": "2022-08-14T02:32:36.597Z"
   },
   {
    "duration": 8,
    "start_time": "2022-08-14T02:32:36.621Z"
   },
   {
    "duration": 5,
    "start_time": "2022-08-14T02:32:36.630Z"
   },
   {
    "duration": 4,
    "start_time": "2022-08-14T02:32:36.637Z"
   },
   {
    "duration": 5,
    "start_time": "2022-08-14T02:32:36.642Z"
   },
   {
    "duration": 4,
    "start_time": "2022-08-14T02:32:36.648Z"
   },
   {
    "duration": 5,
    "start_time": "2022-08-14T02:32:36.653Z"
   },
   {
    "duration": 10,
    "start_time": "2022-08-14T02:32:36.659Z"
   },
   {
    "duration": 6,
    "start_time": "2022-08-14T02:32:36.671Z"
   },
   {
    "duration": 6,
    "start_time": "2022-08-14T02:32:36.678Z"
   },
   {
    "duration": 5,
    "start_time": "2022-08-14T02:32:36.685Z"
   },
   {
    "duration": 21,
    "start_time": "2022-08-14T02:32:36.692Z"
   },
   {
    "duration": 24,
    "start_time": "2022-08-14T02:32:36.714Z"
   },
   {
    "duration": 10,
    "start_time": "2022-08-14T02:32:36.740Z"
   },
   {
    "duration": 5,
    "start_time": "2022-08-14T02:32:36.752Z"
   },
   {
    "duration": 9,
    "start_time": "2022-08-14T02:32:36.759Z"
   },
   {
    "duration": 5,
    "start_time": "2022-08-14T02:32:36.769Z"
   },
   {
    "duration": 8,
    "start_time": "2022-08-14T02:32:36.775Z"
   },
   {
    "duration": 42,
    "start_time": "2022-08-14T02:32:36.784Z"
   },
   {
    "duration": 13,
    "start_time": "2022-08-14T02:32:36.827Z"
   },
   {
    "duration": 3,
    "start_time": "2022-08-14T02:32:36.842Z"
   },
   {
    "duration": 6,
    "start_time": "2022-08-14T02:32:36.846Z"
   },
   {
    "duration": 10,
    "start_time": "2022-08-14T02:32:36.853Z"
   },
   {
    "duration": 15,
    "start_time": "2022-08-14T02:32:36.864Z"
   },
   {
    "duration": 36,
    "start_time": "2022-08-14T02:32:36.881Z"
   },
   {
    "duration": 17,
    "start_time": "2022-08-14T02:32:36.918Z"
   },
   {
    "duration": 21,
    "start_time": "2022-08-14T02:32:36.936Z"
   },
   {
    "duration": 13,
    "start_time": "2022-08-14T02:32:36.958Z"
   },
   {
    "duration": 445,
    "start_time": "2022-08-14T17:48:19.418Z"
   },
   {
    "duration": 302,
    "start_time": "2022-08-14T17:48:19.865Z"
   },
   {
    "duration": 8,
    "start_time": "2022-08-14T17:48:20.169Z"
   },
   {
    "duration": 18,
    "start_time": "2022-08-14T17:48:20.179Z"
   },
   {
    "duration": 11,
    "start_time": "2022-08-14T17:48:20.198Z"
   },
   {
    "duration": 37,
    "start_time": "2022-08-14T17:48:20.211Z"
   },
   {
    "duration": 9,
    "start_time": "2022-08-14T17:48:20.249Z"
   },
   {
    "duration": 4,
    "start_time": "2022-08-14T17:48:20.259Z"
   },
   {
    "duration": 4,
    "start_time": "2022-08-14T17:48:20.264Z"
   },
   {
    "duration": 6,
    "start_time": "2022-08-14T17:48:20.270Z"
   },
   {
    "duration": 10,
    "start_time": "2022-08-14T17:48:20.278Z"
   },
   {
    "duration": 7,
    "start_time": "2022-08-14T17:48:20.290Z"
   },
   {
    "duration": 7,
    "start_time": "2022-08-14T17:48:20.298Z"
   },
   {
    "duration": 34,
    "start_time": "2022-08-14T17:48:20.307Z"
   },
   {
    "duration": 4,
    "start_time": "2022-08-14T17:48:20.343Z"
   },
   {
    "duration": 13,
    "start_time": "2022-08-14T17:48:20.349Z"
   },
   {
    "duration": 4,
    "start_time": "2022-08-14T17:48:20.364Z"
   },
   {
    "duration": 5,
    "start_time": "2022-08-14T17:48:20.370Z"
   },
   {
    "duration": 5,
    "start_time": "2022-08-14T17:48:20.377Z"
   },
   {
    "duration": 12,
    "start_time": "2022-08-14T17:48:20.384Z"
   },
   {
    "duration": 9,
    "start_time": "2022-08-14T17:48:20.398Z"
   },
   {
    "duration": 49,
    "start_time": "2022-08-14T17:48:20.409Z"
   },
   {
    "duration": 6,
    "start_time": "2022-08-14T17:48:20.460Z"
   },
   {
    "duration": 5057,
    "start_time": "2022-08-14T17:48:20.468Z"
   },
   {
    "duration": 6597,
    "start_time": "2022-08-14T17:48:25.526Z"
   },
   {
    "duration": 14,
    "start_time": "2022-08-14T17:48:51.761Z"
   },
   {
    "duration": 8,
    "start_time": "2022-08-14T17:49:33.864Z"
   },
   {
    "duration": 19,
    "start_time": "2022-08-14T17:49:34.218Z"
   },
   {
    "duration": 4,
    "start_time": "2022-08-14T17:54:41.344Z"
   },
   {
    "duration": 4,
    "start_time": "2022-08-14T17:54:42.649Z"
   },
   {
    "duration": 13,
    "start_time": "2022-08-14T17:54:43.097Z"
   },
   {
    "duration": 6,
    "start_time": "2022-08-14T17:54:45.706Z"
   },
   {
    "duration": 4,
    "start_time": "2022-08-14T17:54:46.160Z"
   },
   {
    "duration": 12,
    "start_time": "2022-08-14T17:54:51.486Z"
   },
   {
    "duration": 7,
    "start_time": "2022-08-14T17:54:57.002Z"
   },
   {
    "duration": 20,
    "start_time": "2022-08-14T17:55:02.121Z"
   },
   {
    "duration": 31,
    "start_time": "2022-08-14T17:55:02.727Z"
   },
   {
    "duration": 4,
    "start_time": "2022-08-14T17:55:04.662Z"
   },
   {
    "duration": 4,
    "start_time": "2022-08-14T17:55:04.848Z"
   },
   {
    "duration": 4,
    "start_time": "2022-08-14T17:55:05.076Z"
   },
   {
    "duration": 7,
    "start_time": "2022-08-14T17:55:05.472Z"
   },
   {
    "duration": 5,
    "start_time": "2022-08-14T17:55:07.206Z"
   },
   {
    "duration": 4,
    "start_time": "2022-08-14T17:55:07.426Z"
   },
   {
    "duration": 5,
    "start_time": "2022-08-14T17:55:07.610Z"
   },
   {
    "duration": 12,
    "start_time": "2022-08-14T17:55:07.815Z"
   },
   {
    "duration": 7,
    "start_time": "2022-08-14T17:55:09.673Z"
   },
   {
    "duration": 11,
    "start_time": "2022-08-14T17:55:09.870Z"
   },
   {
    "duration": 3,
    "start_time": "2022-08-14T17:55:10.160Z"
   },
   {
    "duration": 3,
    "start_time": "2022-08-14T17:55:14.748Z"
   },
   {
    "duration": 3,
    "start_time": "2022-08-14T17:55:14.922Z"
   },
   {
    "duration": 2,
    "start_time": "2022-08-14T17:55:15.107Z"
   },
   {
    "duration": 2,
    "start_time": "2022-08-14T17:55:15.302Z"
   },
   {
    "duration": 2,
    "start_time": "2022-08-14T17:55:15.485Z"
   },
   {
    "duration": 2,
    "start_time": "2022-08-14T17:55:15.667Z"
   },
   {
    "duration": 2,
    "start_time": "2022-08-14T17:55:15.842Z"
   },
   {
    "duration": 2,
    "start_time": "2022-08-14T17:55:16.031Z"
   },
   {
    "duration": 2,
    "start_time": "2022-08-14T17:55:16.207Z"
   },
   {
    "duration": 7,
    "start_time": "2022-08-14T17:55:16.394Z"
   },
   {
    "duration": 5,
    "start_time": "2022-08-14T17:55:16.586Z"
   },
   {
    "duration": 5,
    "start_time": "2022-08-14T17:55:16.788Z"
   },
   {
    "duration": 5,
    "start_time": "2022-08-14T17:55:16.978Z"
   },
   {
    "duration": 7,
    "start_time": "2022-08-14T17:55:17.182Z"
   },
   {
    "duration": 12,
    "start_time": "2022-08-14T17:55:17.383Z"
   },
   {
    "duration": 5,
    "start_time": "2022-08-14T17:55:17.574Z"
   },
   {
    "duration": 5,
    "start_time": "2022-08-14T17:55:22.796Z"
   },
   {
    "duration": 39,
    "start_time": "2022-08-14T17:55:22.802Z"
   },
   {
    "duration": 4,
    "start_time": "2022-08-14T17:55:30.728Z"
   },
   {
    "duration": 3,
    "start_time": "2022-08-14T17:55:30.916Z"
   },
   {
    "duration": 12,
    "start_time": "2022-08-14T17:55:31.092Z"
   },
   {
    "duration": 18,
    "start_time": "2022-08-14T17:55:31.284Z"
   },
   {
    "duration": 4,
    "start_time": "2022-08-14T17:56:47.668Z"
   },
   {
    "duration": 4,
    "start_time": "2022-08-14T17:57:46.634Z"
   },
   {
    "duration": 15,
    "start_time": "2022-08-14T17:57:46.883Z"
   },
   {
    "duration": 19,
    "start_time": "2022-08-14T17:57:47.167Z"
   },
   {
    "duration": 15,
    "start_time": "2022-08-14T17:57:49.259Z"
   },
   {
    "duration": 3,
    "start_time": "2022-08-14T19:45:11.638Z"
   },
   {
    "duration": 4,
    "start_time": "2022-08-14T19:45:29.616Z"
   },
   {
    "duration": 5,
    "start_time": "2022-08-14T19:45:40.053Z"
   },
   {
    "duration": 5,
    "start_time": "2022-08-14T19:45:49.785Z"
   },
   {
    "duration": 5,
    "start_time": "2022-08-14T19:45:55.125Z"
   },
   {
    "duration": 4,
    "start_time": "2022-08-14T19:45:55.472Z"
   },
   {
    "duration": 5,
    "start_time": "2022-08-14T19:45:55.952Z"
   },
   {
    "duration": 12,
    "start_time": "2022-08-14T19:45:56.266Z"
   },
   {
    "duration": 63,
    "start_time": "2022-08-14T19:45:56.483Z"
   },
   {
    "duration": 12,
    "start_time": "2022-08-14T19:46:04.907Z"
   },
   {
    "duration": 9,
    "start_time": "2022-08-14T19:46:14.766Z"
   },
   {
    "duration": 3,
    "start_time": "2022-08-14T19:46:22.462Z"
   },
   {
    "duration": 95,
    "start_time": "2022-08-14T19:46:22.467Z"
   },
   {
    "duration": 4,
    "start_time": "2022-08-14T19:46:22.564Z"
   },
   {
    "duration": 13,
    "start_time": "2022-08-14T19:46:22.570Z"
   },
   {
    "duration": 15,
    "start_time": "2022-08-14T19:46:22.585Z"
   },
   {
    "duration": 48,
    "start_time": "2022-08-14T19:46:22.601Z"
   },
   {
    "duration": 9,
    "start_time": "2022-08-14T19:46:22.650Z"
   },
   {
    "duration": 3,
    "start_time": "2022-08-14T19:46:22.660Z"
   },
   {
    "duration": 4,
    "start_time": "2022-08-14T19:46:22.665Z"
   },
   {
    "duration": 5,
    "start_time": "2022-08-14T19:46:22.670Z"
   },
   {
    "duration": 10,
    "start_time": "2022-08-14T19:46:22.676Z"
   },
   {
    "duration": 3,
    "start_time": "2022-08-14T19:46:22.687Z"
   },
   {
    "duration": 6,
    "start_time": "2022-08-14T19:46:22.691Z"
   },
   {
    "duration": 48,
    "start_time": "2022-08-14T19:46:22.698Z"
   },
   {
    "duration": 3,
    "start_time": "2022-08-14T19:46:22.748Z"
   },
   {
    "duration": 11,
    "start_time": "2022-08-14T19:46:22.752Z"
   },
   {
    "duration": 5,
    "start_time": "2022-08-14T19:46:22.764Z"
   },
   {
    "duration": 4,
    "start_time": "2022-08-14T19:46:22.770Z"
   },
   {
    "duration": 5,
    "start_time": "2022-08-14T19:46:22.776Z"
   },
   {
    "duration": 5,
    "start_time": "2022-08-14T19:46:22.782Z"
   },
   {
    "duration": 7,
    "start_time": "2022-08-14T19:46:22.788Z"
   },
   {
    "duration": 56,
    "start_time": "2022-08-14T19:46:22.796Z"
   },
   {
    "duration": 5,
    "start_time": "2022-08-14T19:46:22.853Z"
   },
   {
    "duration": 5116,
    "start_time": "2022-08-14T19:46:22.861Z"
   },
   {
    "duration": 6746,
    "start_time": "2022-08-14T19:46:27.980Z"
   },
   {
    "duration": 14,
    "start_time": "2022-08-14T19:46:34.728Z"
   },
   {
    "duration": 21,
    "start_time": "2022-08-14T19:46:34.744Z"
   },
   {
    "duration": 5,
    "start_time": "2022-08-14T19:46:34.766Z"
   },
   {
    "duration": 4,
    "start_time": "2022-08-14T19:46:34.772Z"
   },
   {
    "duration": 15,
    "start_time": "2022-08-14T19:46:34.778Z"
   },
   {
    "duration": 6,
    "start_time": "2022-08-14T19:46:34.794Z"
   },
   {
    "duration": 6,
    "start_time": "2022-08-14T19:46:34.801Z"
   },
   {
    "duration": 15,
    "start_time": "2022-08-14T19:46:34.808Z"
   },
   {
    "duration": 6,
    "start_time": "2022-08-14T19:46:34.838Z"
   },
   {
    "duration": 22,
    "start_time": "2022-08-14T19:46:34.846Z"
   },
   {
    "duration": 28,
    "start_time": "2022-08-14T19:46:34.869Z"
   },
   {
    "duration": 4,
    "start_time": "2022-08-14T19:46:34.898Z"
   },
   {
    "duration": 7,
    "start_time": "2022-08-14T19:46:34.904Z"
   },
   {
    "duration": 26,
    "start_time": "2022-08-14T19:46:34.913Z"
   },
   {
    "duration": 4,
    "start_time": "2022-08-14T19:46:34.941Z"
   },
   {
    "duration": 5,
    "start_time": "2022-08-14T19:46:34.947Z"
   },
   {
    "duration": 9,
    "start_time": "2022-08-14T19:46:34.953Z"
   },
   {
    "duration": 6,
    "start_time": "2022-08-14T19:46:34.963Z"
   },
   {
    "duration": 5,
    "start_time": "2022-08-14T19:46:34.971Z"
   },
   {
    "duration": 4,
    "start_time": "2022-08-14T19:46:34.977Z"
   },
   {
    "duration": 6,
    "start_time": "2022-08-14T19:46:34.983Z"
   },
   {
    "duration": 17,
    "start_time": "2022-08-14T19:46:34.990Z"
   },
   {
    "duration": 13,
    "start_time": "2022-08-14T19:48:34.689Z"
   },
   {
    "duration": 6,
    "start_time": "2022-08-14T19:48:35.987Z"
   },
   {
    "duration": 13,
    "start_time": "2022-08-14T19:48:36.656Z"
   },
   {
    "duration": 3,
    "start_time": "2022-08-14T19:48:38.787Z"
   },
   {
    "duration": 4,
    "start_time": "2022-08-14T19:48:39.097Z"
   },
   {
    "duration": 3,
    "start_time": "2022-08-14T19:48:39.352Z"
   },
   {
    "duration": 3,
    "start_time": "2022-08-14T19:48:39.627Z"
   },
   {
    "duration": 2,
    "start_time": "2022-08-14T19:48:39.956Z"
   },
   {
    "duration": 3,
    "start_time": "2022-08-14T19:48:40.280Z"
   },
   {
    "duration": 3,
    "start_time": "2022-08-14T19:48:40.680Z"
   },
   {
    "duration": 2,
    "start_time": "2022-08-14T19:48:41.187Z"
   },
   {
    "duration": 3,
    "start_time": "2022-08-14T19:48:41.579Z"
   },
   {
    "duration": 3,
    "start_time": "2022-08-14T19:48:41.908Z"
   },
   {
    "duration": 7,
    "start_time": "2022-08-14T19:48:42.311Z"
   },
   {
    "duration": 6,
    "start_time": "2022-08-14T19:48:42.598Z"
   },
   {
    "duration": 5,
    "start_time": "2022-08-14T19:48:42.916Z"
   },
   {
    "duration": 5,
    "start_time": "2022-08-14T19:48:43.230Z"
   },
   {
    "duration": 6,
    "start_time": "2022-08-14T19:48:43.564Z"
   },
   {
    "duration": 13,
    "start_time": "2022-08-14T19:48:44.106Z"
   },
   {
    "duration": 5,
    "start_time": "2022-08-14T19:48:44.797Z"
   },
   {
    "duration": 5,
    "start_time": "2022-08-14T21:13:34.210Z"
   },
   {
    "duration": 5,
    "start_time": "2022-08-14T21:13:34.679Z"
   },
   {
    "duration": 4,
    "start_time": "2022-08-14T21:13:37.689Z"
   },
   {
    "duration": 4,
    "start_time": "2022-08-14T21:13:39.745Z"
   },
   {
    "duration": 17,
    "start_time": "2022-08-14T21:13:39.987Z"
   },
   {
    "duration": 12,
    "start_time": "2022-08-14T21:13:40.497Z"
   },
   {
    "duration": 4,
    "start_time": "2022-08-14T21:13:41.011Z"
   },
   {
    "duration": 3,
    "start_time": "2022-08-14T21:13:44.874Z"
   },
   {
    "duration": 9,
    "start_time": "2022-08-14T21:13:45.103Z"
   },
   {
    "duration": 14,
    "start_time": "2022-08-14T21:13:45.610Z"
   },
   {
    "duration": 13,
    "start_time": "2022-08-14T21:13:47.441Z"
   },
   {
    "duration": 15,
    "start_time": "2022-08-14T21:15:39.656Z"
   },
   {
    "duration": 22,
    "start_time": "2022-08-14T21:15:42.361Z"
   },
   {
    "duration": 21,
    "start_time": "2022-08-14T21:15:52.902Z"
   }
  ],
  "kernelspec": {
   "display_name": "Python 3 (ipykernel)",
   "language": "python",
   "name": "python3"
  },
  "language_info": {
   "codemirror_mode": {
    "name": "ipython",
    "version": 3
   },
   "file_extension": ".py",
   "mimetype": "text/x-python",
   "name": "python",
   "nbconvert_exporter": "python",
   "pygments_lexer": "ipython3",
   "version": "3.10.0"
  },
  "toc": {
   "base_numbering": 1,
   "nav_menu": {},
   "number_sections": true,
   "sideBar": true,
   "skip_h1_title": true,
   "title_cell": "Table of Contents",
   "title_sidebar": "Contents",
   "toc_cell": false,
   "toc_position": {},
   "toc_section_display": true,
   "toc_window_display": false
  }
 },
 "nbformat": 4,
 "nbformat_minor": 2
}
