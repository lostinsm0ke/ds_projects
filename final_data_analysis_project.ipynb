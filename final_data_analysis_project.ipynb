{
 "cells": [
  {
   "cell_type": "markdown",
   "metadata": {},
   "source": [
    "# Описание проекта"
   ]
  },
  {
   "cell_type": "markdown",
   "metadata": {},
   "source": [
    "### Введение"
   ]
  },
  {
   "cell_type": "markdown",
   "metadata": {},
   "source": [
    "**План**\n",
    "\n",
    "\n",
    "1) Провести первичный анализ данных, ознакомиться с датафреймом, посмотреть на пропуски, дубликаты, некорректные значения;\n",
    "\n",
    "2) Провести исследовательский анализ данных:\n",
    "\n",
    "    - Количество выпусков игр в разные годы;\n",
    "    - Ознакомиться с имзенением продаж по платформам;\n",
    "    - Построить графики;\n",
    "    - Сделать выводы.\n",
    "    \n",
    "3) Построить портерт пользователя, сделать сегментацию по регионам. \n",
    "\n",
    "4) Сформулировать гипотезы и проверить гипотезы:\n",
    "\n",
    "    - Средние пользовательские рейтинги платформ Xbox One и PC одинаковые;\n",
    "    - Средние пользовательские рейтинги жанров Action и Sports разные.\n",
    "\n",
    "5) Сделать выводы."
   ]
  },
  {
   "cell_type": "markdown",
   "metadata": {},
   "source": [
    "**Основная задача:** в данном проекте требуется выявить определяющие успешность игры закономерности. Это позволит сделать ставку на потенциально популярный продукт и спланировать рекламные кампании. В распоряжении есть данные до 2016-го года."
   ]
  },
  {
   "cell_type": "markdown",
   "metadata": {},
   "source": [
    "### Подготовка данных "
   ]
  },
  {
   "cell_type": "markdown",
   "metadata": {},
   "source": [
    "Импортируем библиотеки"
   ]
  },
  {
   "cell_type": "code",
   "execution_count": 1,
   "metadata": {},
   "outputs": [],
   "source": [
    "import pandas as pd\n",
    "import matplotlib.pyplot as plt\n",
    "import numpy as np\n",
    "import scipy.stats as st\n",
    "import seaborn"
   ]
  },
  {
   "cell_type": "code",
   "execution_count": 2,
   "metadata": {},
   "outputs": [],
   "source": [
    "data = pd.read_csv('/datasets/games.csv')"
   ]
  },
  {
   "cell_type": "code",
   "execution_count": 3,
   "metadata": {},
   "outputs": [
    {
     "data": {
      "text/html": [
       "<div>\n",
       "<style scoped>\n",
       "    .dataframe tbody tr th:only-of-type {\n",
       "        vertical-align: middle;\n",
       "    }\n",
       "\n",
       "    .dataframe tbody tr th {\n",
       "        vertical-align: top;\n",
       "    }\n",
       "\n",
       "    .dataframe thead th {\n",
       "        text-align: right;\n",
       "    }\n",
       "</style>\n",
       "<table border=\"1\" class=\"dataframe\">\n",
       "  <thead>\n",
       "    <tr style=\"text-align: right;\">\n",
       "      <th></th>\n",
       "      <th>Name</th>\n",
       "      <th>Platform</th>\n",
       "      <th>Year_of_Release</th>\n",
       "      <th>Genre</th>\n",
       "      <th>NA_sales</th>\n",
       "      <th>EU_sales</th>\n",
       "      <th>JP_sales</th>\n",
       "      <th>Other_sales</th>\n",
       "      <th>Critic_Score</th>\n",
       "      <th>User_Score</th>\n",
       "      <th>Rating</th>\n",
       "    </tr>\n",
       "  </thead>\n",
       "  <tbody>\n",
       "    <tr>\n",
       "      <th>0</th>\n",
       "      <td>Wii Sports</td>\n",
       "      <td>Wii</td>\n",
       "      <td>2006.0</td>\n",
       "      <td>Sports</td>\n",
       "      <td>41.36</td>\n",
       "      <td>28.96</td>\n",
       "      <td>3.77</td>\n",
       "      <td>8.45</td>\n",
       "      <td>76.0</td>\n",
       "      <td>8</td>\n",
       "      <td>E</td>\n",
       "    </tr>\n",
       "    <tr>\n",
       "      <th>1</th>\n",
       "      <td>Super Mario Bros.</td>\n",
       "      <td>NES</td>\n",
       "      <td>1985.0</td>\n",
       "      <td>Platform</td>\n",
       "      <td>29.08</td>\n",
       "      <td>3.58</td>\n",
       "      <td>6.81</td>\n",
       "      <td>0.77</td>\n",
       "      <td>NaN</td>\n",
       "      <td>NaN</td>\n",
       "      <td>NaN</td>\n",
       "    </tr>\n",
       "    <tr>\n",
       "      <th>2</th>\n",
       "      <td>Mario Kart Wii</td>\n",
       "      <td>Wii</td>\n",
       "      <td>2008.0</td>\n",
       "      <td>Racing</td>\n",
       "      <td>15.68</td>\n",
       "      <td>12.76</td>\n",
       "      <td>3.79</td>\n",
       "      <td>3.29</td>\n",
       "      <td>82.0</td>\n",
       "      <td>8.3</td>\n",
       "      <td>E</td>\n",
       "    </tr>\n",
       "    <tr>\n",
       "      <th>3</th>\n",
       "      <td>Wii Sports Resort</td>\n",
       "      <td>Wii</td>\n",
       "      <td>2009.0</td>\n",
       "      <td>Sports</td>\n",
       "      <td>15.61</td>\n",
       "      <td>10.93</td>\n",
       "      <td>3.28</td>\n",
       "      <td>2.95</td>\n",
       "      <td>80.0</td>\n",
       "      <td>8</td>\n",
       "      <td>E</td>\n",
       "    </tr>\n",
       "    <tr>\n",
       "      <th>4</th>\n",
       "      <td>Pokemon Red/Pokemon Blue</td>\n",
       "      <td>GB</td>\n",
       "      <td>1996.0</td>\n",
       "      <td>Role-Playing</td>\n",
       "      <td>11.27</td>\n",
       "      <td>8.89</td>\n",
       "      <td>10.22</td>\n",
       "      <td>1.00</td>\n",
       "      <td>NaN</td>\n",
       "      <td>NaN</td>\n",
       "      <td>NaN</td>\n",
       "    </tr>\n",
       "    <tr>\n",
       "      <th>5</th>\n",
       "      <td>Tetris</td>\n",
       "      <td>GB</td>\n",
       "      <td>1989.0</td>\n",
       "      <td>Puzzle</td>\n",
       "      <td>23.20</td>\n",
       "      <td>2.26</td>\n",
       "      <td>4.22</td>\n",
       "      <td>0.58</td>\n",
       "      <td>NaN</td>\n",
       "      <td>NaN</td>\n",
       "      <td>NaN</td>\n",
       "    </tr>\n",
       "    <tr>\n",
       "      <th>6</th>\n",
       "      <td>New Super Mario Bros.</td>\n",
       "      <td>DS</td>\n",
       "      <td>2006.0</td>\n",
       "      <td>Platform</td>\n",
       "      <td>11.28</td>\n",
       "      <td>9.14</td>\n",
       "      <td>6.50</td>\n",
       "      <td>2.88</td>\n",
       "      <td>89.0</td>\n",
       "      <td>8.5</td>\n",
       "      <td>E</td>\n",
       "    </tr>\n",
       "    <tr>\n",
       "      <th>7</th>\n",
       "      <td>Wii Play</td>\n",
       "      <td>Wii</td>\n",
       "      <td>2006.0</td>\n",
       "      <td>Misc</td>\n",
       "      <td>13.96</td>\n",
       "      <td>9.18</td>\n",
       "      <td>2.93</td>\n",
       "      <td>2.84</td>\n",
       "      <td>58.0</td>\n",
       "      <td>6.6</td>\n",
       "      <td>E</td>\n",
       "    </tr>\n",
       "    <tr>\n",
       "      <th>8</th>\n",
       "      <td>New Super Mario Bros. Wii</td>\n",
       "      <td>Wii</td>\n",
       "      <td>2009.0</td>\n",
       "      <td>Platform</td>\n",
       "      <td>14.44</td>\n",
       "      <td>6.94</td>\n",
       "      <td>4.70</td>\n",
       "      <td>2.24</td>\n",
       "      <td>87.0</td>\n",
       "      <td>8.4</td>\n",
       "      <td>E</td>\n",
       "    </tr>\n",
       "    <tr>\n",
       "      <th>9</th>\n",
       "      <td>Duck Hunt</td>\n",
       "      <td>NES</td>\n",
       "      <td>1984.0</td>\n",
       "      <td>Shooter</td>\n",
       "      <td>26.93</td>\n",
       "      <td>0.63</td>\n",
       "      <td>0.28</td>\n",
       "      <td>0.47</td>\n",
       "      <td>NaN</td>\n",
       "      <td>NaN</td>\n",
       "      <td>NaN</td>\n",
       "    </tr>\n",
       "    <tr>\n",
       "      <th>10</th>\n",
       "      <td>Nintendogs</td>\n",
       "      <td>DS</td>\n",
       "      <td>2005.0</td>\n",
       "      <td>Simulation</td>\n",
       "      <td>9.05</td>\n",
       "      <td>10.95</td>\n",
       "      <td>1.93</td>\n",
       "      <td>2.74</td>\n",
       "      <td>NaN</td>\n",
       "      <td>NaN</td>\n",
       "      <td>NaN</td>\n",
       "    </tr>\n",
       "    <tr>\n",
       "      <th>11</th>\n",
       "      <td>Mario Kart DS</td>\n",
       "      <td>DS</td>\n",
       "      <td>2005.0</td>\n",
       "      <td>Racing</td>\n",
       "      <td>9.71</td>\n",
       "      <td>7.47</td>\n",
       "      <td>4.13</td>\n",
       "      <td>1.90</td>\n",
       "      <td>91.0</td>\n",
       "      <td>8.6</td>\n",
       "      <td>E</td>\n",
       "    </tr>\n",
       "    <tr>\n",
       "      <th>12</th>\n",
       "      <td>Pokemon Gold/Pokemon Silver</td>\n",
       "      <td>GB</td>\n",
       "      <td>1999.0</td>\n",
       "      <td>Role-Playing</td>\n",
       "      <td>9.00</td>\n",
       "      <td>6.18</td>\n",
       "      <td>7.20</td>\n",
       "      <td>0.71</td>\n",
       "      <td>NaN</td>\n",
       "      <td>NaN</td>\n",
       "      <td>NaN</td>\n",
       "    </tr>\n",
       "    <tr>\n",
       "      <th>13</th>\n",
       "      <td>Wii Fit</td>\n",
       "      <td>Wii</td>\n",
       "      <td>2007.0</td>\n",
       "      <td>Sports</td>\n",
       "      <td>8.92</td>\n",
       "      <td>8.03</td>\n",
       "      <td>3.60</td>\n",
       "      <td>2.15</td>\n",
       "      <td>80.0</td>\n",
       "      <td>7.7</td>\n",
       "      <td>E</td>\n",
       "    </tr>\n",
       "    <tr>\n",
       "      <th>14</th>\n",
       "      <td>Kinect Adventures!</td>\n",
       "      <td>X360</td>\n",
       "      <td>2010.0</td>\n",
       "      <td>Misc</td>\n",
       "      <td>15.00</td>\n",
       "      <td>4.89</td>\n",
       "      <td>0.24</td>\n",
       "      <td>1.69</td>\n",
       "      <td>61.0</td>\n",
       "      <td>6.3</td>\n",
       "      <td>E</td>\n",
       "    </tr>\n",
       "  </tbody>\n",
       "</table>\n",
       "</div>"
      ],
      "text/plain": [
       "                           Name Platform  Year_of_Release         Genre  \\\n",
       "0                    Wii Sports      Wii           2006.0        Sports   \n",
       "1             Super Mario Bros.      NES           1985.0      Platform   \n",
       "2                Mario Kart Wii      Wii           2008.0        Racing   \n",
       "3             Wii Sports Resort      Wii           2009.0        Sports   \n",
       "4      Pokemon Red/Pokemon Blue       GB           1996.0  Role-Playing   \n",
       "5                        Tetris       GB           1989.0        Puzzle   \n",
       "6         New Super Mario Bros.       DS           2006.0      Platform   \n",
       "7                      Wii Play      Wii           2006.0          Misc   \n",
       "8     New Super Mario Bros. Wii      Wii           2009.0      Platform   \n",
       "9                     Duck Hunt      NES           1984.0       Shooter   \n",
       "10                   Nintendogs       DS           2005.0    Simulation   \n",
       "11                Mario Kart DS       DS           2005.0        Racing   \n",
       "12  Pokemon Gold/Pokemon Silver       GB           1999.0  Role-Playing   \n",
       "13                      Wii Fit      Wii           2007.0        Sports   \n",
       "14           Kinect Adventures!     X360           2010.0          Misc   \n",
       "\n",
       "    NA_sales  EU_sales  JP_sales  Other_sales  Critic_Score User_Score Rating  \n",
       "0      41.36     28.96      3.77         8.45          76.0          8      E  \n",
       "1      29.08      3.58      6.81         0.77           NaN        NaN    NaN  \n",
       "2      15.68     12.76      3.79         3.29          82.0        8.3      E  \n",
       "3      15.61     10.93      3.28         2.95          80.0          8      E  \n",
       "4      11.27      8.89     10.22         1.00           NaN        NaN    NaN  \n",
       "5      23.20      2.26      4.22         0.58           NaN        NaN    NaN  \n",
       "6      11.28      9.14      6.50         2.88          89.0        8.5      E  \n",
       "7      13.96      9.18      2.93         2.84          58.0        6.6      E  \n",
       "8      14.44      6.94      4.70         2.24          87.0        8.4      E  \n",
       "9      26.93      0.63      0.28         0.47           NaN        NaN    NaN  \n",
       "10      9.05     10.95      1.93         2.74           NaN        NaN    NaN  \n",
       "11      9.71      7.47      4.13         1.90          91.0        8.6      E  \n",
       "12      9.00      6.18      7.20         0.71           NaN        NaN    NaN  \n",
       "13      8.92      8.03      3.60         2.15          80.0        7.7      E  \n",
       "14     15.00      4.89      0.24         1.69          61.0        6.3      E  "
      ]
     },
     "execution_count": 3,
     "metadata": {},
     "output_type": "execute_result"
    }
   ],
   "source": [
    "data.head(15)"
   ]
  },
  {
   "cell_type": "markdown",
   "metadata": {},
   "source": [
    "Видим, что названия колонок в датфрейме начинаются с верхнего регистра. Также приведём к нижнему регистру данные в датафрейме."
   ]
  },
  {
   "cell_type": "code",
   "execution_count": 4,
   "metadata": {},
   "outputs": [],
   "source": [
    "data.columns = data.columns.str.lower()"
   ]
  },
  {
   "cell_type": "code",
   "execution_count": 5,
   "metadata": {},
   "outputs": [],
   "source": [
    "list_of_column_names = ['name','platform','genre','rating']\n",
    "for column in list_of_column_names:\n",
    "    data[column] = data[column].str.lower()"
   ]
  },
  {
   "cell_type": "markdown",
   "metadata": {},
   "source": [
    "В столбце *user_score* есть значения  \"tbd\" - будет определено. Можно заменить на NaN."
   ]
  },
  {
   "cell_type": "code",
   "execution_count": 6,
   "metadata": {},
   "outputs": [
    {
     "data": {
      "text/plain": [
       "tbd    2424\n",
       "7.8     324\n",
       "8       290\n",
       "8.2     282\n",
       "8.3     254\n",
       "       ... \n",
       "0.7       2\n",
       "1.1       2\n",
       "0.6       2\n",
       "0         1\n",
       "9.7       1\n",
       "Name: user_score, Length: 96, dtype: int64"
      ]
     },
     "execution_count": 6,
     "metadata": {},
     "output_type": "execute_result"
    }
   ],
   "source": [
    "data['user_score'].value_counts()"
   ]
  },
  {
   "cell_type": "code",
   "execution_count": 7,
   "metadata": {},
   "outputs": [],
   "source": [
    "data.loc[data['user_score'] =='tbd','user_score'] = np.nan\n",
    "data['user_score'] = data['user_score'].astype('float')"
   ]
  },
  {
   "cell_type": "markdown",
   "metadata": {},
   "source": [
    "Проверим количество пропусков в столбце *critic_score*."
   ]
  },
  {
   "cell_type": "code",
   "execution_count": 8,
   "metadata": {},
   "outputs": [
    {
     "data": {
      "text/plain": [
       "8578"
      ]
     },
     "execution_count": 8,
     "metadata": {},
     "output_type": "execute_result"
    }
   ],
   "source": [
    "data['critic_score'].isna().sum()"
   ]
  },
  {
   "cell_type": "markdown",
   "metadata": {},
   "source": [
    "Изучем нулевые значения в столбце *name*."
   ]
  },
  {
   "cell_type": "code",
   "execution_count": 9,
   "metadata": {},
   "outputs": [
    {
     "data": {
      "text/html": [
       "<div>\n",
       "<style scoped>\n",
       "    .dataframe tbody tr th:only-of-type {\n",
       "        vertical-align: middle;\n",
       "    }\n",
       "\n",
       "    .dataframe tbody tr th {\n",
       "        vertical-align: top;\n",
       "    }\n",
       "\n",
       "    .dataframe thead th {\n",
       "        text-align: right;\n",
       "    }\n",
       "</style>\n",
       "<table border=\"1\" class=\"dataframe\">\n",
       "  <thead>\n",
       "    <tr style=\"text-align: right;\">\n",
       "      <th></th>\n",
       "      <th>name</th>\n",
       "      <th>platform</th>\n",
       "      <th>year_of_release</th>\n",
       "      <th>genre</th>\n",
       "      <th>na_sales</th>\n",
       "      <th>eu_sales</th>\n",
       "      <th>jp_sales</th>\n",
       "      <th>other_sales</th>\n",
       "      <th>critic_score</th>\n",
       "      <th>user_score</th>\n",
       "      <th>rating</th>\n",
       "    </tr>\n",
       "  </thead>\n",
       "  <tbody>\n",
       "    <tr>\n",
       "      <th>659</th>\n",
       "      <td>NaN</td>\n",
       "      <td>gen</td>\n",
       "      <td>1993.0</td>\n",
       "      <td>NaN</td>\n",
       "      <td>1.78</td>\n",
       "      <td>0.53</td>\n",
       "      <td>0.00</td>\n",
       "      <td>0.08</td>\n",
       "      <td>NaN</td>\n",
       "      <td>NaN</td>\n",
       "      <td>NaN</td>\n",
       "    </tr>\n",
       "    <tr>\n",
       "      <th>14244</th>\n",
       "      <td>NaN</td>\n",
       "      <td>gen</td>\n",
       "      <td>1993.0</td>\n",
       "      <td>NaN</td>\n",
       "      <td>0.00</td>\n",
       "      <td>0.00</td>\n",
       "      <td>0.03</td>\n",
       "      <td>0.00</td>\n",
       "      <td>NaN</td>\n",
       "      <td>NaN</td>\n",
       "      <td>NaN</td>\n",
       "    </tr>\n",
       "  </tbody>\n",
       "</table>\n",
       "</div>"
      ],
      "text/plain": [
       "      name platform  year_of_release genre  na_sales  eu_sales  jp_sales  \\\n",
       "659    NaN      gen           1993.0   NaN      1.78      0.53      0.00   \n",
       "14244  NaN      gen           1993.0   NaN      0.00      0.00      0.03   \n",
       "\n",
       "       other_sales  critic_score  user_score rating  \n",
       "659           0.08           NaN         NaN    NaN  \n",
       "14244         0.00           NaN         NaN    NaN  "
      ]
     },
     "execution_count": 9,
     "metadata": {},
     "output_type": "execute_result"
    }
   ],
   "source": [
    "data[data['name'].isnull()]"
   ]
  },
  {
   "cell_type": "markdown",
   "metadata": {},
   "source": [
    "Удалим данные строчки, так как информации в них почти нет."
   ]
  },
  {
   "cell_type": "code",
   "execution_count": 10,
   "metadata": {},
   "outputs": [],
   "source": [
    "data = data.dropna(subset = ['name'])"
   ]
  },
  {
   "cell_type": "code",
   "execution_count": 11,
   "metadata": {},
   "outputs": [
    {
     "data": {
      "text/html": [
       "<div>\n",
       "<style scoped>\n",
       "    .dataframe tbody tr th:only-of-type {\n",
       "        vertical-align: middle;\n",
       "    }\n",
       "\n",
       "    .dataframe tbody tr th {\n",
       "        vertical-align: top;\n",
       "    }\n",
       "\n",
       "    .dataframe thead th {\n",
       "        text-align: right;\n",
       "    }\n",
       "</style>\n",
       "<table border=\"1\" class=\"dataframe\">\n",
       "  <thead>\n",
       "    <tr style=\"text-align: right;\">\n",
       "      <th></th>\n",
       "      <th>name</th>\n",
       "      <th>platform</th>\n",
       "      <th>year_of_release</th>\n",
       "      <th>genre</th>\n",
       "      <th>na_sales</th>\n",
       "      <th>eu_sales</th>\n",
       "      <th>jp_sales</th>\n",
       "      <th>other_sales</th>\n",
       "      <th>critic_score</th>\n",
       "      <th>user_score</th>\n",
       "      <th>rating</th>\n",
       "    </tr>\n",
       "  </thead>\n",
       "  <tbody>\n",
       "    <tr>\n",
       "      <th>183</th>\n",
       "      <td>madden nfl 2004</td>\n",
       "      <td>ps2</td>\n",
       "      <td>NaN</td>\n",
       "      <td>sports</td>\n",
       "      <td>4.26</td>\n",
       "      <td>0.26</td>\n",
       "      <td>0.01</td>\n",
       "      <td>0.71</td>\n",
       "      <td>94.0</td>\n",
       "      <td>8.5</td>\n",
       "      <td>e</td>\n",
       "    </tr>\n",
       "    <tr>\n",
       "      <th>377</th>\n",
       "      <td>fifa soccer 2004</td>\n",
       "      <td>ps2</td>\n",
       "      <td>NaN</td>\n",
       "      <td>sports</td>\n",
       "      <td>0.59</td>\n",
       "      <td>2.36</td>\n",
       "      <td>0.04</td>\n",
       "      <td>0.51</td>\n",
       "      <td>84.0</td>\n",
       "      <td>6.4</td>\n",
       "      <td>e</td>\n",
       "    </tr>\n",
       "    <tr>\n",
       "      <th>456</th>\n",
       "      <td>lego batman: the videogame</td>\n",
       "      <td>wii</td>\n",
       "      <td>NaN</td>\n",
       "      <td>action</td>\n",
       "      <td>1.80</td>\n",
       "      <td>0.97</td>\n",
       "      <td>0.00</td>\n",
       "      <td>0.29</td>\n",
       "      <td>74.0</td>\n",
       "      <td>7.9</td>\n",
       "      <td>e10+</td>\n",
       "    </tr>\n",
       "    <tr>\n",
       "      <th>475</th>\n",
       "      <td>wwe smackdown vs. raw 2006</td>\n",
       "      <td>ps2</td>\n",
       "      <td>NaN</td>\n",
       "      <td>fighting</td>\n",
       "      <td>1.57</td>\n",
       "      <td>1.02</td>\n",
       "      <td>0.00</td>\n",
       "      <td>0.41</td>\n",
       "      <td>NaN</td>\n",
       "      <td>NaN</td>\n",
       "      <td>NaN</td>\n",
       "    </tr>\n",
       "    <tr>\n",
       "      <th>609</th>\n",
       "      <td>space invaders</td>\n",
       "      <td>2600</td>\n",
       "      <td>NaN</td>\n",
       "      <td>shooter</td>\n",
       "      <td>2.36</td>\n",
       "      <td>0.14</td>\n",
       "      <td>0.00</td>\n",
       "      <td>0.03</td>\n",
       "      <td>NaN</td>\n",
       "      <td>NaN</td>\n",
       "      <td>NaN</td>\n",
       "    </tr>\n",
       "    <tr>\n",
       "      <th>627</th>\n",
       "      <td>rock band</td>\n",
       "      <td>x360</td>\n",
       "      <td>NaN</td>\n",
       "      <td>misc</td>\n",
       "      <td>1.93</td>\n",
       "      <td>0.33</td>\n",
       "      <td>0.00</td>\n",
       "      <td>0.21</td>\n",
       "      <td>92.0</td>\n",
       "      <td>8.2</td>\n",
       "      <td>t</td>\n",
       "    </tr>\n",
       "    <tr>\n",
       "      <th>657</th>\n",
       "      <td>frogger's adventures: temple of the frog</td>\n",
       "      <td>gba</td>\n",
       "      <td>NaN</td>\n",
       "      <td>adventure</td>\n",
       "      <td>2.15</td>\n",
       "      <td>0.18</td>\n",
       "      <td>0.00</td>\n",
       "      <td>0.07</td>\n",
       "      <td>73.0</td>\n",
       "      <td>NaN</td>\n",
       "      <td>e</td>\n",
       "    </tr>\n",
       "    <tr>\n",
       "      <th>678</th>\n",
       "      <td>lego indiana jones: the original adventures</td>\n",
       "      <td>wii</td>\n",
       "      <td>NaN</td>\n",
       "      <td>action</td>\n",
       "      <td>1.51</td>\n",
       "      <td>0.61</td>\n",
       "      <td>0.00</td>\n",
       "      <td>0.21</td>\n",
       "      <td>78.0</td>\n",
       "      <td>6.6</td>\n",
       "      <td>e10+</td>\n",
       "    </tr>\n",
       "    <tr>\n",
       "      <th>719</th>\n",
       "      <td>call of duty 3</td>\n",
       "      <td>wii</td>\n",
       "      <td>NaN</td>\n",
       "      <td>shooter</td>\n",
       "      <td>1.17</td>\n",
       "      <td>0.84</td>\n",
       "      <td>0.00</td>\n",
       "      <td>0.23</td>\n",
       "      <td>69.0</td>\n",
       "      <td>6.7</td>\n",
       "      <td>t</td>\n",
       "    </tr>\n",
       "    <tr>\n",
       "      <th>805</th>\n",
       "      <td>rock band</td>\n",
       "      <td>wii</td>\n",
       "      <td>NaN</td>\n",
       "      <td>misc</td>\n",
       "      <td>1.33</td>\n",
       "      <td>0.56</td>\n",
       "      <td>0.00</td>\n",
       "      <td>0.20</td>\n",
       "      <td>80.0</td>\n",
       "      <td>6.3</td>\n",
       "      <td>t</td>\n",
       "    </tr>\n",
       "  </tbody>\n",
       "</table>\n",
       "</div>"
      ],
      "text/plain": [
       "                                            name platform  year_of_release  \\\n",
       "183                              madden nfl 2004      ps2              NaN   \n",
       "377                             fifa soccer 2004      ps2              NaN   \n",
       "456                   lego batman: the videogame      wii              NaN   \n",
       "475                   wwe smackdown vs. raw 2006      ps2              NaN   \n",
       "609                               space invaders     2600              NaN   \n",
       "627                                    rock band     x360              NaN   \n",
       "657     frogger's adventures: temple of the frog      gba              NaN   \n",
       "678  lego indiana jones: the original adventures      wii              NaN   \n",
       "719                               call of duty 3      wii              NaN   \n",
       "805                                    rock band      wii              NaN   \n",
       "\n",
       "         genre  na_sales  eu_sales  jp_sales  other_sales  critic_score  \\\n",
       "183     sports      4.26      0.26      0.01         0.71          94.0   \n",
       "377     sports      0.59      2.36      0.04         0.51          84.0   \n",
       "456     action      1.80      0.97      0.00         0.29          74.0   \n",
       "475   fighting      1.57      1.02      0.00         0.41           NaN   \n",
       "609    shooter      2.36      0.14      0.00         0.03           NaN   \n",
       "627       misc      1.93      0.33      0.00         0.21          92.0   \n",
       "657  adventure      2.15      0.18      0.00         0.07          73.0   \n",
       "678     action      1.51      0.61      0.00         0.21          78.0   \n",
       "719    shooter      1.17      0.84      0.00         0.23          69.0   \n",
       "805       misc      1.33      0.56      0.00         0.20          80.0   \n",
       "\n",
       "     user_score rating  \n",
       "183         8.5      e  \n",
       "377         6.4      e  \n",
       "456         7.9   e10+  \n",
       "475         NaN    NaN  \n",
       "609         NaN    NaN  \n",
       "627         8.2      t  \n",
       "657         NaN      e  \n",
       "678         6.6   e10+  \n",
       "719         6.7      t  \n",
       "805         6.3      t  "
      ]
     },
     "execution_count": 11,
     "metadata": {},
     "output_type": "execute_result"
    }
   ],
   "source": [
    "data[data['year_of_release'].isnull()].head(10)"
   ]
  },
  {
   "cell_type": "markdown",
   "metadata": {},
   "source": [
    "Так как количество небольшое, то смело можем проделать те же операции, что и с *user_score*."
   ]
  },
  {
   "cell_type": "code",
   "execution_count": 12,
   "metadata": {},
   "outputs": [],
   "source": [
    "data = data.dropna(subset = ['year_of_release'])"
   ]
  },
  {
   "cell_type": "code",
   "execution_count": 13,
   "metadata": {},
   "outputs": [
    {
     "data": {
      "text/html": [
       "<div>\n",
       "<style scoped>\n",
       "    .dataframe tbody tr th:only-of-type {\n",
       "        vertical-align: middle;\n",
       "    }\n",
       "\n",
       "    .dataframe tbody tr th {\n",
       "        vertical-align: top;\n",
       "    }\n",
       "\n",
       "    .dataframe thead th {\n",
       "        text-align: right;\n",
       "    }\n",
       "</style>\n",
       "<table border=\"1\" class=\"dataframe\">\n",
       "  <thead>\n",
       "    <tr style=\"text-align: right;\">\n",
       "      <th></th>\n",
       "      <th>name</th>\n",
       "      <th>platform</th>\n",
       "      <th>year_of_release</th>\n",
       "      <th>genre</th>\n",
       "      <th>na_sales</th>\n",
       "      <th>eu_sales</th>\n",
       "      <th>jp_sales</th>\n",
       "      <th>other_sales</th>\n",
       "      <th>critic_score</th>\n",
       "      <th>user_score</th>\n",
       "      <th>rating</th>\n",
       "    </tr>\n",
       "  </thead>\n",
       "  <tbody>\n",
       "    <tr>\n",
       "      <th>1</th>\n",
       "      <td>super mario bros.</td>\n",
       "      <td>nes</td>\n",
       "      <td>1985.0</td>\n",
       "      <td>platform</td>\n",
       "      <td>29.08</td>\n",
       "      <td>3.58</td>\n",
       "      <td>6.81</td>\n",
       "      <td>0.77</td>\n",
       "      <td>NaN</td>\n",
       "      <td>NaN</td>\n",
       "      <td>NaN</td>\n",
       "    </tr>\n",
       "    <tr>\n",
       "      <th>4</th>\n",
       "      <td>pokemon red/pokemon blue</td>\n",
       "      <td>gb</td>\n",
       "      <td>1996.0</td>\n",
       "      <td>role-playing</td>\n",
       "      <td>11.27</td>\n",
       "      <td>8.89</td>\n",
       "      <td>10.22</td>\n",
       "      <td>1.00</td>\n",
       "      <td>NaN</td>\n",
       "      <td>NaN</td>\n",
       "      <td>NaN</td>\n",
       "    </tr>\n",
       "    <tr>\n",
       "      <th>5</th>\n",
       "      <td>tetris</td>\n",
       "      <td>gb</td>\n",
       "      <td>1989.0</td>\n",
       "      <td>puzzle</td>\n",
       "      <td>23.20</td>\n",
       "      <td>2.26</td>\n",
       "      <td>4.22</td>\n",
       "      <td>0.58</td>\n",
       "      <td>NaN</td>\n",
       "      <td>NaN</td>\n",
       "      <td>NaN</td>\n",
       "    </tr>\n",
       "    <tr>\n",
       "      <th>9</th>\n",
       "      <td>duck hunt</td>\n",
       "      <td>nes</td>\n",
       "      <td>1984.0</td>\n",
       "      <td>shooter</td>\n",
       "      <td>26.93</td>\n",
       "      <td>0.63</td>\n",
       "      <td>0.28</td>\n",
       "      <td>0.47</td>\n",
       "      <td>NaN</td>\n",
       "      <td>NaN</td>\n",
       "      <td>NaN</td>\n",
       "    </tr>\n",
       "    <tr>\n",
       "      <th>10</th>\n",
       "      <td>nintendogs</td>\n",
       "      <td>ds</td>\n",
       "      <td>2005.0</td>\n",
       "      <td>simulation</td>\n",
       "      <td>9.05</td>\n",
       "      <td>10.95</td>\n",
       "      <td>1.93</td>\n",
       "      <td>2.74</td>\n",
       "      <td>NaN</td>\n",
       "      <td>NaN</td>\n",
       "      <td>NaN</td>\n",
       "    </tr>\n",
       "    <tr>\n",
       "      <th>12</th>\n",
       "      <td>pokemon gold/pokemon silver</td>\n",
       "      <td>gb</td>\n",
       "      <td>1999.0</td>\n",
       "      <td>role-playing</td>\n",
       "      <td>9.00</td>\n",
       "      <td>6.18</td>\n",
       "      <td>7.20</td>\n",
       "      <td>0.71</td>\n",
       "      <td>NaN</td>\n",
       "      <td>NaN</td>\n",
       "      <td>NaN</td>\n",
       "    </tr>\n",
       "    <tr>\n",
       "      <th>18</th>\n",
       "      <td>super mario world</td>\n",
       "      <td>snes</td>\n",
       "      <td>1990.0</td>\n",
       "      <td>platform</td>\n",
       "      <td>12.78</td>\n",
       "      <td>3.75</td>\n",
       "      <td>3.54</td>\n",
       "      <td>0.55</td>\n",
       "      <td>NaN</td>\n",
       "      <td>NaN</td>\n",
       "      <td>NaN</td>\n",
       "    </tr>\n",
       "    <tr>\n",
       "      <th>20</th>\n",
       "      <td>pokemon diamond/pokemon pearl</td>\n",
       "      <td>ds</td>\n",
       "      <td>2006.0</td>\n",
       "      <td>role-playing</td>\n",
       "      <td>6.38</td>\n",
       "      <td>4.46</td>\n",
       "      <td>6.04</td>\n",
       "      <td>1.36</td>\n",
       "      <td>NaN</td>\n",
       "      <td>NaN</td>\n",
       "      <td>NaN</td>\n",
       "    </tr>\n",
       "    <tr>\n",
       "      <th>21</th>\n",
       "      <td>super mario land</td>\n",
       "      <td>gb</td>\n",
       "      <td>1989.0</td>\n",
       "      <td>platform</td>\n",
       "      <td>10.83</td>\n",
       "      <td>2.71</td>\n",
       "      <td>4.18</td>\n",
       "      <td>0.42</td>\n",
       "      <td>NaN</td>\n",
       "      <td>NaN</td>\n",
       "      <td>NaN</td>\n",
       "    </tr>\n",
       "    <tr>\n",
       "      <th>22</th>\n",
       "      <td>super mario bros. 3</td>\n",
       "      <td>nes</td>\n",
       "      <td>1988.0</td>\n",
       "      <td>platform</td>\n",
       "      <td>9.54</td>\n",
       "      <td>3.44</td>\n",
       "      <td>3.84</td>\n",
       "      <td>0.46</td>\n",
       "      <td>NaN</td>\n",
       "      <td>NaN</td>\n",
       "      <td>NaN</td>\n",
       "    </tr>\n",
       "  </tbody>\n",
       "</table>\n",
       "</div>"
      ],
      "text/plain": [
       "                             name platform  year_of_release         genre  \\\n",
       "1               super mario bros.      nes           1985.0      platform   \n",
       "4        pokemon red/pokemon blue       gb           1996.0  role-playing   \n",
       "5                          tetris       gb           1989.0        puzzle   \n",
       "9                       duck hunt      nes           1984.0       shooter   \n",
       "10                     nintendogs       ds           2005.0    simulation   \n",
       "12    pokemon gold/pokemon silver       gb           1999.0  role-playing   \n",
       "18              super mario world     snes           1990.0      platform   \n",
       "20  pokemon diamond/pokemon pearl       ds           2006.0  role-playing   \n",
       "21               super mario land       gb           1989.0      platform   \n",
       "22            super mario bros. 3      nes           1988.0      platform   \n",
       "\n",
       "    na_sales  eu_sales  jp_sales  other_sales  critic_score  user_score rating  \n",
       "1      29.08      3.58      6.81         0.77           NaN         NaN    NaN  \n",
       "4      11.27      8.89     10.22         1.00           NaN         NaN    NaN  \n",
       "5      23.20      2.26      4.22         0.58           NaN         NaN    NaN  \n",
       "9      26.93      0.63      0.28         0.47           NaN         NaN    NaN  \n",
       "10      9.05     10.95      1.93         2.74           NaN         NaN    NaN  \n",
       "12      9.00      6.18      7.20         0.71           NaN         NaN    NaN  \n",
       "18     12.78      3.75      3.54         0.55           NaN         NaN    NaN  \n",
       "20      6.38      4.46      6.04         1.36           NaN         NaN    NaN  \n",
       "21     10.83      2.71      4.18         0.42           NaN         NaN    NaN  \n",
       "22      9.54      3.44      3.84         0.46           NaN         NaN    NaN  "
      ]
     },
     "execution_count": 13,
     "metadata": {},
     "output_type": "execute_result"
    }
   ],
   "source": [
    "data[data['critic_score'].isnull()].head(10)"
   ]
  },
  {
   "cell_type": "markdown",
   "metadata": {},
   "source": [
    "Создадим сводную таблицу, в которой будет указана медианная оценка пользователей и критиков по каждому жанру."
   ]
  },
  {
   "cell_type": "code",
   "execution_count": 14,
   "metadata": {},
   "outputs": [
    {
     "data": {
      "text/html": [
       "<div>\n",
       "<style scoped>\n",
       "    .dataframe tbody tr th:only-of-type {\n",
       "        vertical-align: middle;\n",
       "    }\n",
       "\n",
       "    .dataframe tbody tr th {\n",
       "        vertical-align: top;\n",
       "    }\n",
       "\n",
       "    .dataframe thead th {\n",
       "        text-align: right;\n",
       "    }\n",
       "</style>\n",
       "<table border=\"1\" class=\"dataframe\">\n",
       "  <thead>\n",
       "    <tr style=\"text-align: right;\">\n",
       "      <th></th>\n",
       "      <th>critic_score</th>\n",
       "      <th>user_score</th>\n",
       "    </tr>\n",
       "    <tr>\n",
       "      <th>genre</th>\n",
       "      <th></th>\n",
       "      <th></th>\n",
       "    </tr>\n",
       "  </thead>\n",
       "  <tbody>\n",
       "    <tr>\n",
       "      <th>action</th>\n",
       "      <td>68.0</td>\n",
       "      <td>7.4</td>\n",
       "    </tr>\n",
       "    <tr>\n",
       "      <th>adventure</th>\n",
       "      <td>66.0</td>\n",
       "      <td>7.6</td>\n",
       "    </tr>\n",
       "    <tr>\n",
       "      <th>fighting</th>\n",
       "      <td>72.0</td>\n",
       "      <td>7.6</td>\n",
       "    </tr>\n",
       "    <tr>\n",
       "      <th>misc</th>\n",
       "      <td>69.0</td>\n",
       "      <td>7.1</td>\n",
       "    </tr>\n",
       "    <tr>\n",
       "      <th>platform</th>\n",
       "      <td>69.5</td>\n",
       "      <td>7.7</td>\n",
       "    </tr>\n",
       "    <tr>\n",
       "      <th>puzzle</th>\n",
       "      <td>70.0</td>\n",
       "      <td>7.5</td>\n",
       "    </tr>\n",
       "    <tr>\n",
       "      <th>racing</th>\n",
       "      <td>69.0</td>\n",
       "      <td>7.4</td>\n",
       "    </tr>\n",
       "    <tr>\n",
       "      <th>role-playing</th>\n",
       "      <td>74.0</td>\n",
       "      <td>7.8</td>\n",
       "    </tr>\n",
       "    <tr>\n",
       "      <th>shooter</th>\n",
       "      <td>73.0</td>\n",
       "      <td>7.4</td>\n",
       "    </tr>\n",
       "    <tr>\n",
       "      <th>simulation</th>\n",
       "      <td>70.0</td>\n",
       "      <td>7.5</td>\n",
       "    </tr>\n",
       "    <tr>\n",
       "      <th>sports</th>\n",
       "      <td>75.0</td>\n",
       "      <td>7.4</td>\n",
       "    </tr>\n",
       "    <tr>\n",
       "      <th>strategy</th>\n",
       "      <td>73.0</td>\n",
       "      <td>7.8</td>\n",
       "    </tr>\n",
       "  </tbody>\n",
       "</table>\n",
       "</div>"
      ],
      "text/plain": [
       "              critic_score  user_score\n",
       "genre                                 \n",
       "action                68.0         7.4\n",
       "adventure             66.0         7.6\n",
       "fighting              72.0         7.6\n",
       "misc                  69.0         7.1\n",
       "platform              69.5         7.7\n",
       "puzzle                70.0         7.5\n",
       "racing                69.0         7.4\n",
       "role-playing          74.0         7.8\n",
       "shooter               73.0         7.4\n",
       "simulation            70.0         7.5\n",
       "sports                75.0         7.4\n",
       "strategy              73.0         7.8"
      ]
     },
     "execution_count": 14,
     "metadata": {},
     "output_type": "execute_result"
    }
   ],
   "source": [
    "genre_pivot_table = data.pivot_table(index = 'genre', values = [\"critic_score\",\"user_score\"], aggfunc = ['median'])\n",
    "genre_pivot_table.columns = ['critic_score','user_score']\n",
    "genre_pivot_table"
   ]
  },
  {
   "cell_type": "markdown",
   "metadata": {},
   "source": [
    "Также следует заменить пропуски в столбце *rating* на значение \"rp\" - рейтинг ожидается."
   ]
  },
  {
   "cell_type": "code",
   "execution_count": 15,
   "metadata": {},
   "outputs": [],
   "source": [
    "data.loc[data.loc[:,'rating'].isnull(),'rating'] = 'rp'"
   ]
  },
  {
   "cell_type": "markdown",
   "metadata": {},
   "source": [
    "Проверим весь датафрейм на наличие дубликатов."
   ]
  },
  {
   "cell_type": "code",
   "execution_count": 16,
   "metadata": {},
   "outputs": [
    {
     "data": {
      "text/plain": [
       "0"
      ]
     },
     "execution_count": 16,
     "metadata": {},
     "output_type": "execute_result"
    }
   ],
   "source": [
    "data.duplicated().sum()"
   ]
  },
  {
   "cell_type": "markdown",
   "metadata": {},
   "source": [
    "Далее требуется создать отдельный столбец с общими продажами."
   ]
  },
  {
   "cell_type": "code",
   "execution_count": 17,
   "metadata": {},
   "outputs": [],
   "source": [
    "data['total_sales'] = data.apply(lambda row: sum(row[['na_sales','eu_sales','jp_sales','other_sales']]),axis =1)"
   ]
  },
  {
   "cell_type": "code",
   "execution_count": 18,
   "metadata": {
    "scrolled": true
   },
   "outputs": [
    {
     "data": {
      "text/html": [
       "<div>\n",
       "<style scoped>\n",
       "    .dataframe tbody tr th:only-of-type {\n",
       "        vertical-align: middle;\n",
       "    }\n",
       "\n",
       "    .dataframe tbody tr th {\n",
       "        vertical-align: top;\n",
       "    }\n",
       "\n",
       "    .dataframe thead th {\n",
       "        text-align: right;\n",
       "    }\n",
       "</style>\n",
       "<table border=\"1\" class=\"dataframe\">\n",
       "  <thead>\n",
       "    <tr style=\"text-align: right;\">\n",
       "      <th></th>\n",
       "      <th>count</th>\n",
       "      <th>mean</th>\n",
       "      <th>std</th>\n",
       "      <th>min</th>\n",
       "      <th>25%</th>\n",
       "      <th>50%</th>\n",
       "      <th>75%</th>\n",
       "      <th>max</th>\n",
       "    </tr>\n",
       "  </thead>\n",
       "  <tbody>\n",
       "    <tr>\n",
       "      <th>year_of_release</th>\n",
       "      <td>16444.0</td>\n",
       "      <td>2006.486256</td>\n",
       "      <td>5.875525</td>\n",
       "      <td>1980.0</td>\n",
       "      <td>2003.00</td>\n",
       "      <td>2007.00</td>\n",
       "      <td>2010.00</td>\n",
       "      <td>2016.00</td>\n",
       "    </tr>\n",
       "    <tr>\n",
       "      <th>na_sales</th>\n",
       "      <td>16444.0</td>\n",
       "      <td>0.264012</td>\n",
       "      <td>0.818378</td>\n",
       "      <td>0.0</td>\n",
       "      <td>0.00</td>\n",
       "      <td>0.08</td>\n",
       "      <td>0.24</td>\n",
       "      <td>41.36</td>\n",
       "    </tr>\n",
       "    <tr>\n",
       "      <th>eu_sales</th>\n",
       "      <td>16444.0</td>\n",
       "      <td>0.145930</td>\n",
       "      <td>0.506716</td>\n",
       "      <td>0.0</td>\n",
       "      <td>0.00</td>\n",
       "      <td>0.02</td>\n",
       "      <td>0.11</td>\n",
       "      <td>28.96</td>\n",
       "    </tr>\n",
       "    <tr>\n",
       "      <th>jp_sales</th>\n",
       "      <td>16444.0</td>\n",
       "      <td>0.078487</td>\n",
       "      <td>0.311100</td>\n",
       "      <td>0.0</td>\n",
       "      <td>0.00</td>\n",
       "      <td>0.00</td>\n",
       "      <td>0.04</td>\n",
       "      <td>10.22</td>\n",
       "    </tr>\n",
       "    <tr>\n",
       "      <th>other_sales</th>\n",
       "      <td>16444.0</td>\n",
       "      <td>0.047594</td>\n",
       "      <td>0.188005</td>\n",
       "      <td>0.0</td>\n",
       "      <td>0.00</td>\n",
       "      <td>0.01</td>\n",
       "      <td>0.03</td>\n",
       "      <td>10.57</td>\n",
       "    </tr>\n",
       "    <tr>\n",
       "      <th>critic_score</th>\n",
       "      <td>7983.0</td>\n",
       "      <td>68.994363</td>\n",
       "      <td>13.920060</td>\n",
       "      <td>13.0</td>\n",
       "      <td>60.00</td>\n",
       "      <td>71.00</td>\n",
       "      <td>79.00</td>\n",
       "      <td>98.00</td>\n",
       "    </tr>\n",
       "    <tr>\n",
       "      <th>user_score</th>\n",
       "      <td>7463.0</td>\n",
       "      <td>7.126330</td>\n",
       "      <td>1.499447</td>\n",
       "      <td>0.0</td>\n",
       "      <td>6.40</td>\n",
       "      <td>7.50</td>\n",
       "      <td>8.20</td>\n",
       "      <td>9.70</td>\n",
       "    </tr>\n",
       "    <tr>\n",
       "      <th>total_sales</th>\n",
       "      <td>16444.0</td>\n",
       "      <td>0.536023</td>\n",
       "      <td>1.558786</td>\n",
       "      <td>0.0</td>\n",
       "      <td>0.06</td>\n",
       "      <td>0.17</td>\n",
       "      <td>0.47</td>\n",
       "      <td>82.54</td>\n",
       "    </tr>\n",
       "  </tbody>\n",
       "</table>\n",
       "</div>"
      ],
      "text/plain": [
       "                   count         mean        std     min      25%      50%  \\\n",
       "year_of_release  16444.0  2006.486256   5.875525  1980.0  2003.00  2007.00   \n",
       "na_sales         16444.0     0.264012   0.818378     0.0     0.00     0.08   \n",
       "eu_sales         16444.0     0.145930   0.506716     0.0     0.00     0.02   \n",
       "jp_sales         16444.0     0.078487   0.311100     0.0     0.00     0.00   \n",
       "other_sales      16444.0     0.047594   0.188005     0.0     0.00     0.01   \n",
       "critic_score      7983.0    68.994363  13.920060    13.0    60.00    71.00   \n",
       "user_score        7463.0     7.126330   1.499447     0.0     6.40     7.50   \n",
       "total_sales      16444.0     0.536023   1.558786     0.0     0.06     0.17   \n",
       "\n",
       "                     75%      max  \n",
       "year_of_release  2010.00  2016.00  \n",
       "na_sales            0.24    41.36  \n",
       "eu_sales            0.11    28.96  \n",
       "jp_sales            0.04    10.22  \n",
       "other_sales         0.03    10.57  \n",
       "critic_score       79.00    98.00  \n",
       "user_score          8.20     9.70  \n",
       "total_sales         0.47    82.54  "
      ]
     },
     "execution_count": 18,
     "metadata": {},
     "output_type": "execute_result"
    }
   ],
   "source": [
    "data.describe().T"
   ]
  },
  {
   "cell_type": "code",
   "execution_count": 19,
   "metadata": {},
   "outputs": [
    {
     "name": "stdout",
     "output_type": "stream",
     "text": [
      "<class 'pandas.core.frame.DataFrame'>\n",
      "Int64Index: 16444 entries, 0 to 16714\n",
      "Data columns (total 12 columns):\n",
      " #   Column           Non-Null Count  Dtype  \n",
      "---  ------           --------------  -----  \n",
      " 0   name             16444 non-null  object \n",
      " 1   platform         16444 non-null  object \n",
      " 2   year_of_release  16444 non-null  float64\n",
      " 3   genre            16444 non-null  object \n",
      " 4   na_sales         16444 non-null  float64\n",
      " 5   eu_sales         16444 non-null  float64\n",
      " 6   jp_sales         16444 non-null  float64\n",
      " 7   other_sales      16444 non-null  float64\n",
      " 8   critic_score     7983 non-null   float64\n",
      " 9   user_score       7463 non-null   float64\n",
      " 10  rating           16444 non-null  object \n",
      " 11  total_sales      16444 non-null  float64\n",
      "dtypes: float64(8), object(4)\n",
      "memory usage: 1.6+ MB\n",
      "None\n",
      "-------------------------\n",
      "name [' beyblade burst' ' fire emblem fates' \" frozen: olaf's quest\" ...\n",
      " 'zwei!!' 'zyuden sentai kyoryuger: game de gaburincho!!'\n",
      " '¡shin chan flipa en colores!']\n",
      "name : кол-во NaN 0 , процент NaN 0.0 %\n",
      "-------------------------\n",
      "platform ['2600' '3do' '3ds' 'dc' 'ds' 'gb' 'gba' 'gc' 'gen' 'gg' 'n64' 'nes' 'ng'\n",
      " 'pc' 'pcfx' 'ps' 'ps2' 'ps3' 'ps4' 'psp' 'psv' 'sat' 'scd' 'snes' 'tg16'\n",
      " 'wii' 'wiiu' 'ws' 'x360' 'xb' 'xone']\n",
      "platform : кол-во NaN 0 , процент NaN 0.0 %\n",
      "-------------------------\n",
      "year_of_release [1980. 1981. 1982. 1983. 1984. 1985. 1986. 1987. 1988. 1989. 1990. 1991.\n",
      " 1992. 1993. 1994. 1995. 1996. 1997. 1998. 1999. 2000. 2001. 2002. 2003.\n",
      " 2004. 2005. 2006. 2007. 2008. 2009. 2010. 2011. 2012. 2013. 2014. 2015.\n",
      " 2016.]\n",
      "year_of_release : кол-во NaN 0 , процент NaN 0.0 %\n",
      "-------------------------\n",
      "genre ['action' 'adventure' 'fighting' 'misc' 'platform' 'puzzle' 'racing'\n",
      " 'role-playing' 'shooter' 'simulation' 'sports' 'strategy']\n",
      "genre : кол-во NaN 0 , процент NaN 0.0 %\n",
      "-------------------------\n",
      "critic_score [13. 17. 19. 20. 21. 23. 24. 25. 26. 27. 28. 29. 30. 31. 32. 33. 34. 35.\n",
      " 36. 37. 38. 39. 40. 41. 42. 43. 44. 45. 46. 47. 48. 49. 50. 51. 52. 53.\n",
      " 54. 55. 56. 57. 58. 59. 60. 61. 62. 63. 64. 65. 66. 67. 68. 69. 70. 71.\n",
      " 72. 73. 74. 75. 76. 77. 78. 79. 80. 81. 82. 83. 84. 85. 86. 87. 88. 89.\n",
      " 90. 91. 92. 93. 94. 95. 96. 97. 98. nan]\n",
      "critic_score : кол-во NaN 8461 , процент NaN 51.45 %\n",
      "-------------------------\n",
      "user_score [0.  0.2 0.3 0.5 0.6 0.7 0.9 1.  1.1 1.2 1.3 1.4 1.5 1.6 1.7 1.8 1.9 2.\n",
      " 2.1 2.2 2.3 2.4 2.5 2.6 2.7 2.8 2.9 3.  3.1 3.2 3.3 3.4 3.5 3.6 3.7 3.8\n",
      " 3.9 4.  4.1 4.2 4.3 4.4 4.5 4.6 4.7 4.8 4.9 5.  5.1 5.2 5.3 5.4 5.5 5.6\n",
      " 5.7 5.8 5.9 6.  6.1 6.2 6.3 6.4 6.5 6.6 6.7 6.8 6.9 7.  7.1 7.2 7.3 7.4\n",
      " 7.5 7.6 7.7 7.8 7.9 8.  8.1 8.2 8.3 8.4 8.5 8.6 8.7 8.8 8.9 9.  9.1 9.2\n",
      " 9.3 9.4 9.5 9.6 9.7 nan]\n",
      "user_score : кол-во NaN 8981 , процент NaN 54.62 %\n",
      "-------------------------\n",
      "rating ['ao' 'e' 'e10+' 'ec' 'k-a' 'm' 'rp' 't']\n",
      "rating : кол-во NaN 0 , процент NaN 0.0 %\n"
     ]
    }
   ],
   "source": [
    "# Посмотрим, что у нас осталось\n",
    "temp = data.copy() \n",
    "list_c = ['name', 'platform', 'year_of_release', 'genre', 'critic_score', 'user_score', 'rating']\n",
    "print(temp.info())\n",
    "for col_l in list_c:\n",
    "  print('-'* 25)\n",
    "  print(col_l, temp[col_l].sort_values().unique())\n",
    "  print(col_l,': кол-во NaN',temp[col_l].isna().sum(),\n",
    "        ', процент NaN', round(temp[col_l].isna().sum()/len(temp)*100, 2),'%')"
   ]
  },
  {
   "cell_type": "markdown",
   "metadata": {},
   "source": [
    "**Вывод:** большое количество пропусков в столбцах *user_score* и *critic_score*, скорее всего, это связано с тем, что люди просто не ставили оценки продуктам, поэтому, можно заменить значения tbd в столбце *user_score* на NaN, так как эквивалентно отстутствии оценки. Пропуски с рейтингом связаны с тем, что играм выпущенным до создания ESRB не всем присваивался рейтинг."
   ]
  },
  {
   "cell_type": "markdown",
   "metadata": {},
   "source": [
    "### Исследовательский анализ данных"
   ]
  },
  {
   "cell_type": "code",
   "execution_count": 20,
   "metadata": {},
   "outputs": [],
   "source": [
    "years_groupby = data.groupby('year_of_release').agg({'name':'count'})"
   ]
  },
  {
   "cell_type": "code",
   "execution_count": 21,
   "metadata": {},
   "outputs": [
    {
     "data": {
      "text/plain": [
       "Text(0, 0.5, 'Количество продаж')"
      ]
     },
     "execution_count": 21,
     "metadata": {},
     "output_type": "execute_result"
    },
    {
     "data": {
      "image/png": "[encoded data removed]",
      "text/plain": [
       "<Figure size 1440x720 with 1 Axes>"
      ]
     },
     "metadata": {
      "needs_background": "light"
     },
     "output_type": "display_data"
    }
   ],
   "source": [
    "years_groupby.loc[1992:].plot(y = 'name', kind= 'bar', figsize = (20,10))\n",
    "plt.ylabel('Количество продаж')"
   ]
  },
  {
   "cell_type": "markdown",
   "metadata": {},
   "source": [
    "Пик выпуска игр приходится на 2008 и 2009 годы. С 2005 под 2011 было выпущено наибольшее количество игр."
   ]
  },
  {
   "cell_type": "markdown",
   "metadata": {},
   "source": [
    "Выведем топ-10 популярных платформ."
   ]
  },
  {
   "cell_type": "code",
   "execution_count": 22,
   "metadata": {},
   "outputs": [],
   "source": [
    "top_ten_platforms = data.groupby('platform').agg({'total_sales':'sum'}).sort_values(by = 'total_sales', ascending = False)[:10].index"
   ]
  },
  {
   "cell_type": "code",
   "execution_count": 23,
   "metadata": {},
   "outputs": [],
   "source": [
    "platform_pivot_table_years = data.pivot_table(index=['platform','year_of_release'], values = 'total_sales', aggfunc = 'sum')"
   ]
  },
  {
   "cell_type": "code",
   "execution_count": 24,
   "metadata": {},
   "outputs": [],
   "source": [
    "platform_pivot_table_years['years'] =  platform_pivot_table_years.index\n",
    "platform_pivot_table_years['years'] = platform_pivot_table_years['years'].apply (lambda row: row[1]).astype('int')"
   ]
  },
  {
   "cell_type": "code",
   "execution_count": 25,
   "metadata": {},
   "outputs": [
    {
     "data": {
      "text/html": [
       "<div>\n",
       "<style scoped>\n",
       "    .dataframe tbody tr th:only-of-type {\n",
       "        vertical-align: middle;\n",
       "    }\n",
       "\n",
       "    .dataframe tbody tr th {\n",
       "        vertical-align: top;\n",
       "    }\n",
       "\n",
       "    .dataframe thead th {\n",
       "        text-align: right;\n",
       "    }\n",
       "</style>\n",
       "<table border=\"1\" class=\"dataframe\">\n",
       "  <thead>\n",
       "    <tr style=\"text-align: right;\">\n",
       "      <th></th>\n",
       "      <th></th>\n",
       "      <th>total_sales</th>\n",
       "      <th>years</th>\n",
       "    </tr>\n",
       "    <tr>\n",
       "      <th>platform</th>\n",
       "      <th>year_of_release</th>\n",
       "      <th></th>\n",
       "      <th></th>\n",
       "    </tr>\n",
       "  </thead>\n",
       "  <tbody>\n",
       "    <tr>\n",
       "      <th rowspan=\"5\" valign=\"top\">2600</th>\n",
       "      <th>1980.0</th>\n",
       "      <td>11.38</td>\n",
       "      <td>1980</td>\n",
       "    </tr>\n",
       "    <tr>\n",
       "      <th>1981.0</th>\n",
       "      <td>35.68</td>\n",
       "      <td>1981</td>\n",
       "    </tr>\n",
       "    <tr>\n",
       "      <th>1982.0</th>\n",
       "      <td>28.88</td>\n",
       "      <td>1982</td>\n",
       "    </tr>\n",
       "    <tr>\n",
       "      <th>1983.0</th>\n",
       "      <td>5.84</td>\n",
       "      <td>1983</td>\n",
       "    </tr>\n",
       "    <tr>\n",
       "      <th>1984.0</th>\n",
       "      <td>0.27</td>\n",
       "      <td>1984</td>\n",
       "    </tr>\n",
       "    <tr>\n",
       "      <th>...</th>\n",
       "      <th>...</th>\n",
       "      <td>...</td>\n",
       "      <td>...</td>\n",
       "    </tr>\n",
       "    <tr>\n",
       "      <th>xb</th>\n",
       "      <th>2008.0</th>\n",
       "      <td>0.18</td>\n",
       "      <td>2008</td>\n",
       "    </tr>\n",
       "    <tr>\n",
       "      <th rowspan=\"4\" valign=\"top\">xone</th>\n",
       "      <th>2013.0</th>\n",
       "      <td>18.96</td>\n",
       "      <td>2013</td>\n",
       "    </tr>\n",
       "    <tr>\n",
       "      <th>2014.0</th>\n",
       "      <td>54.07</td>\n",
       "      <td>2014</td>\n",
       "    </tr>\n",
       "    <tr>\n",
       "      <th>2015.0</th>\n",
       "      <td>60.14</td>\n",
       "      <td>2015</td>\n",
       "    </tr>\n",
       "    <tr>\n",
       "      <th>2016.0</th>\n",
       "      <td>26.15</td>\n",
       "      <td>2016</td>\n",
       "    </tr>\n",
       "  </tbody>\n",
       "</table>\n",
       "<p>238 rows × 2 columns</p>\n",
       "</div>"
      ],
      "text/plain": [
       "                          total_sales  years\n",
       "platform year_of_release                    \n",
       "2600     1980.0                 11.38   1980\n",
       "         1981.0                 35.68   1981\n",
       "         1982.0                 28.88   1982\n",
       "         1983.0                  5.84   1983\n",
       "         1984.0                  0.27   1984\n",
       "...                               ...    ...\n",
       "xb       2008.0                  0.18   2008\n",
       "xone     2013.0                 18.96   2013\n",
       "         2014.0                 54.07   2014\n",
       "         2015.0                 60.14   2015\n",
       "         2016.0                 26.15   2016\n",
       "\n",
       "[238 rows x 2 columns]"
      ]
     },
     "execution_count": 25,
     "metadata": {},
     "output_type": "execute_result"
    }
   ],
   "source": [
    "platform_pivot_table_years"
   ]
  },
  {
   "cell_type": "code",
   "execution_count": 26,
   "metadata": {},
   "outputs": [
    {
     "data": {
      "image/png": "[encoded data removed]",
      "text/plain": [
       "<Figure size 720x360 with 1 Axes>"
      ]
     },
     "metadata": {
      "needs_background": "light"
     },
     "output_type": "display_data"
    }
   ],
   "source": [
    "fig, ax = plt.subplots(figsize =(10,5))\n",
    "for platform in top_ten_platforms:\n",
    "    platform_pivot_table_years.loc[platform].plot('years','total_sales', ax=ax)\n",
    "ax.legend(top_ten_platforms, prop = {'size':10})\n",
    "ax.set_xlim([2000,2017])\n",
    "ax.set_xticks(np.arange(2000,2017))\n",
    "ax.set_xticklabels(range(2000,2017))\n",
    "plt.show()"
   ]
  },
  {
   "cell_type": "markdown",
   "metadata": {},
   "source": [
    "Самый актуальный период является период с 2013 до 2016 года. Средняя продолжительность платформы: 10-11 лет."
   ]
  },
  {
   "cell_type": "markdown",
   "metadata": {},
   "source": [
    "Выделим актуальный период."
   ]
  },
  {
   "cell_type": "code",
   "execution_count": 27,
   "metadata": {},
   "outputs": [],
   "source": [
    "period = (2013, 2016)\n",
    "actual_data = data.query('@period[0] <= year_of_release <= @period[1]') "
   ]
  },
  {
   "cell_type": "code",
   "execution_count": 28,
   "metadata": {},
   "outputs": [
    {
     "data": {
      "text/html": [
       "<div>\n",
       "<style scoped>\n",
       "    .dataframe tbody tr th:only-of-type {\n",
       "        vertical-align: middle;\n",
       "    }\n",
       "\n",
       "    .dataframe tbody tr th {\n",
       "        vertical-align: top;\n",
       "    }\n",
       "\n",
       "    .dataframe thead th {\n",
       "        text-align: right;\n",
       "    }\n",
       "</style>\n",
       "<table border=\"1\" class=\"dataframe\">\n",
       "  <thead>\n",
       "    <tr style=\"text-align: right;\">\n",
       "      <th></th>\n",
       "      <th>name</th>\n",
       "      <th>platform</th>\n",
       "      <th>year_of_release</th>\n",
       "      <th>genre</th>\n",
       "      <th>na_sales</th>\n",
       "      <th>eu_sales</th>\n",
       "      <th>jp_sales</th>\n",
       "      <th>other_sales</th>\n",
       "      <th>critic_score</th>\n",
       "      <th>user_score</th>\n",
       "      <th>rating</th>\n",
       "      <th>total_sales</th>\n",
       "    </tr>\n",
       "  </thead>\n",
       "  <tbody>\n",
       "    <tr>\n",
       "      <th>16</th>\n",
       "      <td>grand theft auto v</td>\n",
       "      <td>ps3</td>\n",
       "      <td>2013.0</td>\n",
       "      <td>action</td>\n",
       "      <td>7.02</td>\n",
       "      <td>9.09</td>\n",
       "      <td>0.98</td>\n",
       "      <td>3.96</td>\n",
       "      <td>97.0</td>\n",
       "      <td>8.2</td>\n",
       "      <td>m</td>\n",
       "      <td>21.05</td>\n",
       "    </tr>\n",
       "    <tr>\n",
       "      <th>23</th>\n",
       "      <td>grand theft auto v</td>\n",
       "      <td>x360</td>\n",
       "      <td>2013.0</td>\n",
       "      <td>action</td>\n",
       "      <td>9.66</td>\n",
       "      <td>5.14</td>\n",
       "      <td>0.06</td>\n",
       "      <td>1.41</td>\n",
       "      <td>97.0</td>\n",
       "      <td>8.1</td>\n",
       "      <td>m</td>\n",
       "      <td>16.27</td>\n",
       "    </tr>\n",
       "    <tr>\n",
       "      <th>31</th>\n",
       "      <td>call of duty: black ops 3</td>\n",
       "      <td>ps4</td>\n",
       "      <td>2015.0</td>\n",
       "      <td>shooter</td>\n",
       "      <td>6.03</td>\n",
       "      <td>5.86</td>\n",
       "      <td>0.36</td>\n",
       "      <td>2.38</td>\n",
       "      <td>NaN</td>\n",
       "      <td>NaN</td>\n",
       "      <td>rp</td>\n",
       "      <td>14.63</td>\n",
       "    </tr>\n",
       "    <tr>\n",
       "      <th>33</th>\n",
       "      <td>pokemon x/pokemon y</td>\n",
       "      <td>3ds</td>\n",
       "      <td>2013.0</td>\n",
       "      <td>role-playing</td>\n",
       "      <td>5.28</td>\n",
       "      <td>4.19</td>\n",
       "      <td>4.35</td>\n",
       "      <td>0.78</td>\n",
       "      <td>NaN</td>\n",
       "      <td>NaN</td>\n",
       "      <td>rp</td>\n",
       "      <td>14.60</td>\n",
       "    </tr>\n",
       "    <tr>\n",
       "      <th>42</th>\n",
       "      <td>grand theft auto v</td>\n",
       "      <td>ps4</td>\n",
       "      <td>2014.0</td>\n",
       "      <td>action</td>\n",
       "      <td>3.96</td>\n",
       "      <td>6.31</td>\n",
       "      <td>0.38</td>\n",
       "      <td>1.97</td>\n",
       "      <td>97.0</td>\n",
       "      <td>8.3</td>\n",
       "      <td>m</td>\n",
       "      <td>12.62</td>\n",
       "    </tr>\n",
       "    <tr>\n",
       "      <th>...</th>\n",
       "      <td>...</td>\n",
       "      <td>...</td>\n",
       "      <td>...</td>\n",
       "      <td>...</td>\n",
       "      <td>...</td>\n",
       "      <td>...</td>\n",
       "      <td>...</td>\n",
       "      <td>...</td>\n",
       "      <td>...</td>\n",
       "      <td>...</td>\n",
       "      <td>...</td>\n",
       "      <td>...</td>\n",
       "    </tr>\n",
       "    <tr>\n",
       "      <th>16703</th>\n",
       "      <td>strawberry nauts</td>\n",
       "      <td>psv</td>\n",
       "      <td>2016.0</td>\n",
       "      <td>adventure</td>\n",
       "      <td>0.00</td>\n",
       "      <td>0.00</td>\n",
       "      <td>0.01</td>\n",
       "      <td>0.00</td>\n",
       "      <td>NaN</td>\n",
       "      <td>NaN</td>\n",
       "      <td>rp</td>\n",
       "      <td>0.01</td>\n",
       "    </tr>\n",
       "    <tr>\n",
       "      <th>16707</th>\n",
       "      <td>aiyoku no eustia</td>\n",
       "      <td>psv</td>\n",
       "      <td>2014.0</td>\n",
       "      <td>misc</td>\n",
       "      <td>0.00</td>\n",
       "      <td>0.00</td>\n",
       "      <td>0.01</td>\n",
       "      <td>0.00</td>\n",
       "      <td>NaN</td>\n",
       "      <td>NaN</td>\n",
       "      <td>rp</td>\n",
       "      <td>0.01</td>\n",
       "    </tr>\n",
       "    <tr>\n",
       "      <th>16710</th>\n",
       "      <td>samurai warriors: sanada maru</td>\n",
       "      <td>ps3</td>\n",
       "      <td>2016.0</td>\n",
       "      <td>action</td>\n",
       "      <td>0.00</td>\n",
       "      <td>0.00</td>\n",
       "      <td>0.01</td>\n",
       "      <td>0.00</td>\n",
       "      <td>NaN</td>\n",
       "      <td>NaN</td>\n",
       "      <td>rp</td>\n",
       "      <td>0.01</td>\n",
       "    </tr>\n",
       "    <tr>\n",
       "      <th>16712</th>\n",
       "      <td>haitaka no psychedelica</td>\n",
       "      <td>psv</td>\n",
       "      <td>2016.0</td>\n",
       "      <td>adventure</td>\n",
       "      <td>0.00</td>\n",
       "      <td>0.00</td>\n",
       "      <td>0.01</td>\n",
       "      <td>0.00</td>\n",
       "      <td>NaN</td>\n",
       "      <td>NaN</td>\n",
       "      <td>rp</td>\n",
       "      <td>0.01</td>\n",
       "    </tr>\n",
       "    <tr>\n",
       "      <th>16714</th>\n",
       "      <td>winning post 8 2016</td>\n",
       "      <td>psv</td>\n",
       "      <td>2016.0</td>\n",
       "      <td>simulation</td>\n",
       "      <td>0.00</td>\n",
       "      <td>0.00</td>\n",
       "      <td>0.01</td>\n",
       "      <td>0.00</td>\n",
       "      <td>NaN</td>\n",
       "      <td>NaN</td>\n",
       "      <td>rp</td>\n",
       "      <td>0.01</td>\n",
       "    </tr>\n",
       "  </tbody>\n",
       "</table>\n",
       "<p>2233 rows × 12 columns</p>\n",
       "</div>"
      ],
      "text/plain": [
       "                                name platform  year_of_release         genre  \\\n",
       "16                grand theft auto v      ps3           2013.0        action   \n",
       "23                grand theft auto v     x360           2013.0        action   \n",
       "31         call of duty: black ops 3      ps4           2015.0       shooter   \n",
       "33               pokemon x/pokemon y      3ds           2013.0  role-playing   \n",
       "42                grand theft auto v      ps4           2014.0        action   \n",
       "...                              ...      ...              ...           ...   \n",
       "16703               strawberry nauts      psv           2016.0     adventure   \n",
       "16707               aiyoku no eustia      psv           2014.0          misc   \n",
       "16710  samurai warriors: sanada maru      ps3           2016.0        action   \n",
       "16712        haitaka no psychedelica      psv           2016.0     adventure   \n",
       "16714            winning post 8 2016      psv           2016.0    simulation   \n",
       "\n",
       "       na_sales  eu_sales  jp_sales  other_sales  critic_score  user_score  \\\n",
       "16         7.02      9.09      0.98         3.96          97.0         8.2   \n",
       "23         9.66      5.14      0.06         1.41          97.0         8.1   \n",
       "31         6.03      5.86      0.36         2.38           NaN         NaN   \n",
       "33         5.28      4.19      4.35         0.78           NaN         NaN   \n",
       "42         3.96      6.31      0.38         1.97          97.0         8.3   \n",
       "...         ...       ...       ...          ...           ...         ...   \n",
       "16703      0.00      0.00      0.01         0.00           NaN         NaN   \n",
       "16707      0.00      0.00      0.01         0.00           NaN         NaN   \n",
       "16710      0.00      0.00      0.01         0.00           NaN         NaN   \n",
       "16712      0.00      0.00      0.01         0.00           NaN         NaN   \n",
       "16714      0.00      0.00      0.01         0.00           NaN         NaN   \n",
       "\n",
       "      rating  total_sales  \n",
       "16         m        21.05  \n",
       "23         m        16.27  \n",
       "31        rp        14.63  \n",
       "33        rp        14.60  \n",
       "42         m        12.62  \n",
       "...      ...          ...  \n",
       "16703     rp         0.01  \n",
       "16707     rp         0.01  \n",
       "16710     rp         0.01  \n",
       "16712     rp         0.01  \n",
       "16714     rp         0.01  \n",
       "\n",
       "[2233 rows x 12 columns]"
      ]
     },
     "execution_count": 28,
     "metadata": {},
     "output_type": "execute_result"
    }
   ],
   "source": [
    "actual_data"
   ]
  },
  {
   "cell_type": "code",
   "execution_count": 29,
   "metadata": {
    "scrolled": true
   },
   "outputs": [],
   "source": [
    "pd.set_option('chained_assignment', None)\n",
    "actual_data.loc[:, 'year_of_release'] = actual_data.loc[:, 'year_of_release'].astype('int')"
   ]
  },
  {
   "cell_type": "code",
   "execution_count": 30,
   "metadata": {},
   "outputs": [
    {
     "data": {
      "text/html": [
       "<div>\n",
       "<style scoped>\n",
       "    .dataframe tbody tr th:only-of-type {\n",
       "        vertical-align: middle;\n",
       "    }\n",
       "\n",
       "    .dataframe tbody tr th {\n",
       "        vertical-align: top;\n",
       "    }\n",
       "\n",
       "    .dataframe thead th {\n",
       "        text-align: right;\n",
       "    }\n",
       "</style>\n",
       "<table border=\"1\" class=\"dataframe\">\n",
       "  <thead>\n",
       "    <tr style=\"text-align: right;\">\n",
       "      <th></th>\n",
       "      <th>name</th>\n",
       "      <th>platform</th>\n",
       "      <th>year_of_release</th>\n",
       "      <th>genre</th>\n",
       "      <th>na_sales</th>\n",
       "      <th>eu_sales</th>\n",
       "      <th>jp_sales</th>\n",
       "      <th>other_sales</th>\n",
       "      <th>critic_score</th>\n",
       "      <th>user_score</th>\n",
       "      <th>rating</th>\n",
       "      <th>total_sales</th>\n",
       "    </tr>\n",
       "  </thead>\n",
       "  <tbody>\n",
       "    <tr>\n",
       "      <th>16</th>\n",
       "      <td>grand theft auto v</td>\n",
       "      <td>ps3</td>\n",
       "      <td>2013</td>\n",
       "      <td>action</td>\n",
       "      <td>7.02</td>\n",
       "      <td>9.09</td>\n",
       "      <td>0.98</td>\n",
       "      <td>3.96</td>\n",
       "      <td>97.0</td>\n",
       "      <td>8.2</td>\n",
       "      <td>m</td>\n",
       "      <td>21.05</td>\n",
       "    </tr>\n",
       "    <tr>\n",
       "      <th>23</th>\n",
       "      <td>grand theft auto v</td>\n",
       "      <td>x360</td>\n",
       "      <td>2013</td>\n",
       "      <td>action</td>\n",
       "      <td>9.66</td>\n",
       "      <td>5.14</td>\n",
       "      <td>0.06</td>\n",
       "      <td>1.41</td>\n",
       "      <td>97.0</td>\n",
       "      <td>8.1</td>\n",
       "      <td>m</td>\n",
       "      <td>16.27</td>\n",
       "    </tr>\n",
       "    <tr>\n",
       "      <th>31</th>\n",
       "      <td>call of duty: black ops 3</td>\n",
       "      <td>ps4</td>\n",
       "      <td>2015</td>\n",
       "      <td>shooter</td>\n",
       "      <td>6.03</td>\n",
       "      <td>5.86</td>\n",
       "      <td>0.36</td>\n",
       "      <td>2.38</td>\n",
       "      <td>NaN</td>\n",
       "      <td>NaN</td>\n",
       "      <td>rp</td>\n",
       "      <td>14.63</td>\n",
       "    </tr>\n",
       "    <tr>\n",
       "      <th>33</th>\n",
       "      <td>pokemon x/pokemon y</td>\n",
       "      <td>3ds</td>\n",
       "      <td>2013</td>\n",
       "      <td>role-playing</td>\n",
       "      <td>5.28</td>\n",
       "      <td>4.19</td>\n",
       "      <td>4.35</td>\n",
       "      <td>0.78</td>\n",
       "      <td>NaN</td>\n",
       "      <td>NaN</td>\n",
       "      <td>rp</td>\n",
       "      <td>14.60</td>\n",
       "    </tr>\n",
       "    <tr>\n",
       "      <th>42</th>\n",
       "      <td>grand theft auto v</td>\n",
       "      <td>ps4</td>\n",
       "      <td>2014</td>\n",
       "      <td>action</td>\n",
       "      <td>3.96</td>\n",
       "      <td>6.31</td>\n",
       "      <td>0.38</td>\n",
       "      <td>1.97</td>\n",
       "      <td>97.0</td>\n",
       "      <td>8.3</td>\n",
       "      <td>m</td>\n",
       "      <td>12.62</td>\n",
       "    </tr>\n",
       "    <tr>\n",
       "      <th>47</th>\n",
       "      <td>pokemon omega ruby/pokemon alpha sapphire</td>\n",
       "      <td>3ds</td>\n",
       "      <td>2014</td>\n",
       "      <td>role-playing</td>\n",
       "      <td>4.35</td>\n",
       "      <td>3.49</td>\n",
       "      <td>3.10</td>\n",
       "      <td>0.74</td>\n",
       "      <td>NaN</td>\n",
       "      <td>NaN</td>\n",
       "      <td>rp</td>\n",
       "      <td>11.68</td>\n",
       "    </tr>\n",
       "    <tr>\n",
       "      <th>60</th>\n",
       "      <td>call of duty: ghosts</td>\n",
       "      <td>x360</td>\n",
       "      <td>2013</td>\n",
       "      <td>shooter</td>\n",
       "      <td>6.73</td>\n",
       "      <td>2.56</td>\n",
       "      <td>0.04</td>\n",
       "      <td>0.91</td>\n",
       "      <td>73.0</td>\n",
       "      <td>2.6</td>\n",
       "      <td>m</td>\n",
       "      <td>10.24</td>\n",
       "    </tr>\n",
       "    <tr>\n",
       "      <th>69</th>\n",
       "      <td>call of duty: ghosts</td>\n",
       "      <td>ps3</td>\n",
       "      <td>2013</td>\n",
       "      <td>shooter</td>\n",
       "      <td>4.10</td>\n",
       "      <td>3.63</td>\n",
       "      <td>0.38</td>\n",
       "      <td>1.25</td>\n",
       "      <td>71.0</td>\n",
       "      <td>2.6</td>\n",
       "      <td>m</td>\n",
       "      <td>9.36</td>\n",
       "    </tr>\n",
       "    <tr>\n",
       "      <th>72</th>\n",
       "      <td>minecraft</td>\n",
       "      <td>x360</td>\n",
       "      <td>2013</td>\n",
       "      <td>misc</td>\n",
       "      <td>5.70</td>\n",
       "      <td>2.65</td>\n",
       "      <td>0.02</td>\n",
       "      <td>0.81</td>\n",
       "      <td>NaN</td>\n",
       "      <td>NaN</td>\n",
       "      <td>rp</td>\n",
       "      <td>9.18</td>\n",
       "    </tr>\n",
       "    <tr>\n",
       "      <th>77</th>\n",
       "      <td>fifa 16</td>\n",
       "      <td>ps4</td>\n",
       "      <td>2015</td>\n",
       "      <td>sports</td>\n",
       "      <td>1.12</td>\n",
       "      <td>6.12</td>\n",
       "      <td>0.06</td>\n",
       "      <td>1.28</td>\n",
       "      <td>82.0</td>\n",
       "      <td>4.3</td>\n",
       "      <td>e</td>\n",
       "      <td>8.58</td>\n",
       "    </tr>\n",
       "  </tbody>\n",
       "</table>\n",
       "</div>"
      ],
      "text/plain": [
       "                                         name platform  year_of_release  \\\n",
       "16                         grand theft auto v      ps3             2013   \n",
       "23                         grand theft auto v     x360             2013   \n",
       "31                  call of duty: black ops 3      ps4             2015   \n",
       "33                        pokemon x/pokemon y      3ds             2013   \n",
       "42                         grand theft auto v      ps4             2014   \n",
       "47  pokemon omega ruby/pokemon alpha sapphire      3ds             2014   \n",
       "60                       call of duty: ghosts     x360             2013   \n",
       "69                       call of duty: ghosts      ps3             2013   \n",
       "72                                  minecraft     x360             2013   \n",
       "77                                    fifa 16      ps4             2015   \n",
       "\n",
       "           genre  na_sales  eu_sales  jp_sales  other_sales  critic_score  \\\n",
       "16        action      7.02      9.09      0.98         3.96          97.0   \n",
       "23        action      9.66      5.14      0.06         1.41          97.0   \n",
       "31       shooter      6.03      5.86      0.36         2.38           NaN   \n",
       "33  role-playing      5.28      4.19      4.35         0.78           NaN   \n",
       "42        action      3.96      6.31      0.38         1.97          97.0   \n",
       "47  role-playing      4.35      3.49      3.10         0.74           NaN   \n",
       "60       shooter      6.73      2.56      0.04         0.91          73.0   \n",
       "69       shooter      4.10      3.63      0.38         1.25          71.0   \n",
       "72          misc      5.70      2.65      0.02         0.81           NaN   \n",
       "77        sports      1.12      6.12      0.06         1.28          82.0   \n",
       "\n",
       "    user_score rating  total_sales  \n",
       "16         8.2      m        21.05  \n",
       "23         8.1      m        16.27  \n",
       "31         NaN     rp        14.63  \n",
       "33         NaN     rp        14.60  \n",
       "42         8.3      m        12.62  \n",
       "47         NaN     rp        11.68  \n",
       "60         2.6      m        10.24  \n",
       "69         2.6      m         9.36  \n",
       "72         NaN     rp         9.18  \n",
       "77         4.3      e         8.58  "
      ]
     },
     "execution_count": 30,
     "metadata": {},
     "output_type": "execute_result"
    }
   ],
   "source": [
    "actual_data.head(10)"
   ]
  },
  {
   "cell_type": "code",
   "execution_count": 31,
   "metadata": {},
   "outputs": [],
   "source": [
    "actual_data_pivot_table = actual_data.pivot_table(index = ['year_of_release','platform'], \n",
    "                                                    values = 'total_sales',\n",
    "                                                    aggfunc = 'sum')"
   ]
  },
  {
   "cell_type": "code",
   "execution_count": 32,
   "metadata": {},
   "outputs": [],
   "source": [
    "pivot_table_index = actual_data_pivot_table.index.to_list()"
   ]
  },
  {
   "cell_type": "code",
   "execution_count": 33,
   "metadata": {},
   "outputs": [],
   "source": [
    "actual_data_pivot_table[\"years\"] = [year for year, platform in pivot_table_index]"
   ]
  },
  {
   "cell_type": "code",
   "execution_count": 34,
   "metadata": {},
   "outputs": [],
   "source": [
    "actual_data_pivot_table.index = [platform for year, platform in pivot_table_index]"
   ]
  },
  {
   "cell_type": "code",
   "execution_count": 35,
   "metadata": {},
   "outputs": [
    {
     "data": {
      "text/html": [
       "<div>\n",
       "<style scoped>\n",
       "    .dataframe tbody tr th:only-of-type {\n",
       "        vertical-align: middle;\n",
       "    }\n",
       "\n",
       "    .dataframe tbody tr th {\n",
       "        vertical-align: top;\n",
       "    }\n",
       "\n",
       "    .dataframe thead th {\n",
       "        text-align: right;\n",
       "    }\n",
       "</style>\n",
       "<table border=\"1\" class=\"dataframe\">\n",
       "  <thead>\n",
       "    <tr style=\"text-align: right;\">\n",
       "      <th></th>\n",
       "      <th>total_sales</th>\n",
       "      <th>years</th>\n",
       "    </tr>\n",
       "  </thead>\n",
       "  <tbody>\n",
       "    <tr>\n",
       "      <th>3ds</th>\n",
       "      <td>56.57</td>\n",
       "      <td>2013</td>\n",
       "    </tr>\n",
       "    <tr>\n",
       "      <th>ds</th>\n",
       "      <td>1.54</td>\n",
       "      <td>2013</td>\n",
       "    </tr>\n",
       "    <tr>\n",
       "      <th>pc</th>\n",
       "      <td>12.38</td>\n",
       "      <td>2013</td>\n",
       "    </tr>\n",
       "    <tr>\n",
       "      <th>ps3</th>\n",
       "      <td>113.25</td>\n",
       "      <td>2013</td>\n",
       "    </tr>\n",
       "    <tr>\n",
       "      <th>ps4</th>\n",
       "      <td>25.99</td>\n",
       "      <td>2013</td>\n",
       "    </tr>\n",
       "    <tr>\n",
       "      <th>psp</th>\n",
       "      <td>3.14</td>\n",
       "      <td>2013</td>\n",
       "    </tr>\n",
       "    <tr>\n",
       "      <th>psv</th>\n",
       "      <td>10.59</td>\n",
       "      <td>2013</td>\n",
       "    </tr>\n",
       "    <tr>\n",
       "      <th>wii</th>\n",
       "      <td>8.59</td>\n",
       "      <td>2013</td>\n",
       "    </tr>\n",
       "    <tr>\n",
       "      <th>wiiu</th>\n",
       "      <td>21.65</td>\n",
       "      <td>2013</td>\n",
       "    </tr>\n",
       "    <tr>\n",
       "      <th>x360</th>\n",
       "      <td>88.58</td>\n",
       "      <td>2013</td>\n",
       "    </tr>\n",
       "    <tr>\n",
       "      <th>xone</th>\n",
       "      <td>18.96</td>\n",
       "      <td>2013</td>\n",
       "    </tr>\n",
       "    <tr>\n",
       "      <th>3ds</th>\n",
       "      <td>43.76</td>\n",
       "      <td>2014</td>\n",
       "    </tr>\n",
       "    <tr>\n",
       "      <th>pc</th>\n",
       "      <td>13.28</td>\n",
       "      <td>2014</td>\n",
       "    </tr>\n",
       "    <tr>\n",
       "      <th>ps3</th>\n",
       "      <td>47.76</td>\n",
       "      <td>2014</td>\n",
       "    </tr>\n",
       "    <tr>\n",
       "      <th>ps4</th>\n",
       "      <td>100.00</td>\n",
       "      <td>2014</td>\n",
       "    </tr>\n",
       "    <tr>\n",
       "      <th>psp</th>\n",
       "      <td>0.24</td>\n",
       "      <td>2014</td>\n",
       "    </tr>\n",
       "    <tr>\n",
       "      <th>psv</th>\n",
       "      <td>11.90</td>\n",
       "      <td>2014</td>\n",
       "    </tr>\n",
       "    <tr>\n",
       "      <th>wii</th>\n",
       "      <td>3.75</td>\n",
       "      <td>2014</td>\n",
       "    </tr>\n",
       "    <tr>\n",
       "      <th>wiiu</th>\n",
       "      <td>22.03</td>\n",
       "      <td>2014</td>\n",
       "    </tr>\n",
       "    <tr>\n",
       "      <th>x360</th>\n",
       "      <td>34.74</td>\n",
       "      <td>2014</td>\n",
       "    </tr>\n",
       "    <tr>\n",
       "      <th>xone</th>\n",
       "      <td>54.07</td>\n",
       "      <td>2014</td>\n",
       "    </tr>\n",
       "    <tr>\n",
       "      <th>3ds</th>\n",
       "      <td>27.78</td>\n",
       "      <td>2015</td>\n",
       "    </tr>\n",
       "    <tr>\n",
       "      <th>pc</th>\n",
       "      <td>8.52</td>\n",
       "      <td>2015</td>\n",
       "    </tr>\n",
       "    <tr>\n",
       "      <th>ps3</th>\n",
       "      <td>16.82</td>\n",
       "      <td>2015</td>\n",
       "    </tr>\n",
       "    <tr>\n",
       "      <th>ps4</th>\n",
       "      <td>118.90</td>\n",
       "      <td>2015</td>\n",
       "    </tr>\n",
       "    <tr>\n",
       "      <th>psp</th>\n",
       "      <td>0.12</td>\n",
       "      <td>2015</td>\n",
       "    </tr>\n",
       "    <tr>\n",
       "      <th>psv</th>\n",
       "      <td>6.25</td>\n",
       "      <td>2015</td>\n",
       "    </tr>\n",
       "    <tr>\n",
       "      <th>wii</th>\n",
       "      <td>1.14</td>\n",
       "      <td>2015</td>\n",
       "    </tr>\n",
       "    <tr>\n",
       "      <th>wiiu</th>\n",
       "      <td>16.35</td>\n",
       "      <td>2015</td>\n",
       "    </tr>\n",
       "    <tr>\n",
       "      <th>x360</th>\n",
       "      <td>11.96</td>\n",
       "      <td>2015</td>\n",
       "    </tr>\n",
       "    <tr>\n",
       "      <th>xone</th>\n",
       "      <td>60.14</td>\n",
       "      <td>2015</td>\n",
       "    </tr>\n",
       "    <tr>\n",
       "      <th>3ds</th>\n",
       "      <td>15.14</td>\n",
       "      <td>2016</td>\n",
       "    </tr>\n",
       "    <tr>\n",
       "      <th>pc</th>\n",
       "      <td>5.25</td>\n",
       "      <td>2016</td>\n",
       "    </tr>\n",
       "    <tr>\n",
       "      <th>ps3</th>\n",
       "      <td>3.60</td>\n",
       "      <td>2016</td>\n",
       "    </tr>\n",
       "    <tr>\n",
       "      <th>ps4</th>\n",
       "      <td>69.25</td>\n",
       "      <td>2016</td>\n",
       "    </tr>\n",
       "    <tr>\n",
       "      <th>psv</th>\n",
       "      <td>4.25</td>\n",
       "      <td>2016</td>\n",
       "    </tr>\n",
       "    <tr>\n",
       "      <th>wii</th>\n",
       "      <td>0.18</td>\n",
       "      <td>2016</td>\n",
       "    </tr>\n",
       "    <tr>\n",
       "      <th>wiiu</th>\n",
       "      <td>4.60</td>\n",
       "      <td>2016</td>\n",
       "    </tr>\n",
       "    <tr>\n",
       "      <th>x360</th>\n",
       "      <td>1.52</td>\n",
       "      <td>2016</td>\n",
       "    </tr>\n",
       "    <tr>\n",
       "      <th>xone</th>\n",
       "      <td>26.15</td>\n",
       "      <td>2016</td>\n",
       "    </tr>\n",
       "  </tbody>\n",
       "</table>\n",
       "</div>"
      ],
      "text/plain": [
       "      total_sales  years\n",
       "3ds         56.57   2013\n",
       "ds           1.54   2013\n",
       "pc          12.38   2013\n",
       "ps3        113.25   2013\n",
       "ps4         25.99   2013\n",
       "psp          3.14   2013\n",
       "psv         10.59   2013\n",
       "wii          8.59   2013\n",
       "wiiu        21.65   2013\n",
       "x360        88.58   2013\n",
       "xone        18.96   2013\n",
       "3ds         43.76   2014\n",
       "pc          13.28   2014\n",
       "ps3         47.76   2014\n",
       "ps4        100.00   2014\n",
       "psp          0.24   2014\n",
       "psv         11.90   2014\n",
       "wii          3.75   2014\n",
       "wiiu        22.03   2014\n",
       "x360        34.74   2014\n",
       "xone        54.07   2014\n",
       "3ds         27.78   2015\n",
       "pc           8.52   2015\n",
       "ps3         16.82   2015\n",
       "ps4        118.90   2015\n",
       "psp          0.12   2015\n",
       "psv          6.25   2015\n",
       "wii          1.14   2015\n",
       "wiiu        16.35   2015\n",
       "x360        11.96   2015\n",
       "xone        60.14   2015\n",
       "3ds         15.14   2016\n",
       "pc           5.25   2016\n",
       "ps3          3.60   2016\n",
       "ps4         69.25   2016\n",
       "psv          4.25   2016\n",
       "wii          0.18   2016\n",
       "wiiu         4.60   2016\n",
       "x360         1.52   2016\n",
       "xone        26.15   2016"
      ]
     },
     "execution_count": 35,
     "metadata": {},
     "output_type": "execute_result"
    }
   ],
   "source": [
    "actual_data_pivot_table"
   ]
  },
  {
   "cell_type": "code",
   "execution_count": 36,
   "metadata": {},
   "outputs": [
    {
     "data": {
      "image/png": "[encoded data removed]",
      "text/plain": [
       "<Figure size 720x360 with 1 Axes>"
      ]
     },
     "metadata": {
      "needs_background": "light"
     },
     "output_type": "display_data"
    }
   ],
   "source": [
    "fig, ax = plt.subplots(figsize =(10,5))\n",
    "for platform in actual_data_pivot_table.index:\n",
    "    ax.plot(actual_data_pivot_table.loc[platform]['years'],\n",
    "            actual_data_pivot_table.loc[platform]['total_sales'])\n",
    "ax.legend(actual_data_pivot_table.index.unique(),prop = {'size':10})\n",
    "plt.show()"
   ]
  },
  {
   "cell_type": "markdown",
   "metadata": {},
   "source": [
    "По данным графика видим тенденцию к снижению по показателю продаж. PS3 и PS4, в отличие от остальных на первой половине периода растут, но затем снижаются. Скорее всего, это связано с выходом консоли PS4 PRO версии. Прибыльными могут стать продукты: wiiu, pc, xone."
   ]
  },
  {
   "cell_type": "markdown",
   "metadata": {},
   "source": [
    "Постройте график «ящик с усами» по глобальным продажам игр в разбивке по платформам. Опишите результат."
   ]
  },
  {
   "cell_type": "code",
   "execution_count": 37,
   "metadata": {},
   "outputs": [],
   "source": [
    "def boxplot_draw(title=None, query_condition = None, ylims=None):\n",
    "    %matplotlib inline\n",
    "    if query_condition == None:\n",
    "        ax = actual_data.boxplot(column='total_sales', fontsize=25, figsize=(25,10))\n",
    "    else:\n",
    "        df_query = actual_data.query(query_condition)\n",
    "        by_column = query_condition.split()[0]\n",
    "        ax = df_query.boxplot(column='total_sales', by=by_column, fontsize=25, figsize=(25,10))\n",
    "        ax.set_xlabel('')\n",
    "        ax.set_title('')\n",
    "    if ylims != None:\n",
    "        ax.set_ylim(ylims)\n",
    "    if title != None:\n",
    "        plt.suptitle(title, y=0.94, fontsize=25, fontweight='bold')"
   ]
  },
  {
   "cell_type": "code",
   "execution_count": 38,
   "metadata": {},
   "outputs": [
    {
     "data": {
      "image/png": "[encoded data removed]",
      "text/plain": [
       "<Figure size 1800x720 with 1 Axes>"
      ]
     },
     "metadata": {
      "needs_background": "light"
     },
     "output_type": "display_data"
    }
   ],
   "source": [
    "platforms = ['ps4', 'psv', 'ps3', '3ds', 'xone', 'pc', 'x360', 'wiiu', 'psp', 'wii', 'ds']\n",
    "boxplot_draw(query_condition='platform in @platforms')"
   ]
  },
  {
   "cell_type": "code",
   "execution_count": 39,
   "metadata": {},
   "outputs": [
    {
     "data": {
      "image/png": "[encoded data removed]",
      "text/plain": [
       "<Figure size 1800x720 with 1 Axes>"
      ]
     },
     "metadata": {
      "needs_background": "light"
     },
     "output_type": "display_data"
    }
   ],
   "source": [
    "boxplot_draw(query_condition='platform in @platforms', ylims=[0, 3])"
   ]
  },
  {
   "cell_type": "markdown",
   "metadata": {},
   "source": [
    "**Результат:** построил диаграммы размаха (по глобальныи продажам - по заданию) и по актуальному периоду (для справки). Что мы имеем: продажи за акутальный период имеют край верхней границы меньше, чем в глобальном - 0.9 млн. долларов. Медиана 0.2-0.25 млн. долларов. "
   ]
  },
  {
   "cell_type": "code",
   "execution_count": 41,
   "metadata": {},
   "outputs": [
    {
     "data": {
      "text/plain": [
       "<matplotlib.collections.PathCollection at 0x7f0f44abfdc0>"
      ]
     },
     "execution_count": 41,
     "metadata": {},
     "output_type": "execute_result"
    },
    {
     "data": {
      "image/png": "[encoded data removed]",
      "text/plain": [
       "<Figure size 1440x504 with 2 Axes>"
      ]
     },
     "metadata": {
      "needs_background": "light"
     },
     "output_type": "display_data"
    }
   ],
   "source": [
    "fig_scatter, (ax,ax2) = plt.subplots(2,1, figsize = (20,7))\n",
    "ax.scatter(y= 'critic_score', x = 'total_sales',data=actual_data.query('platform == \"ps4\"').dropna())\n",
    "ax2.scatter(y= 'user_score', x = 'total_sales',data=actual_data.query('platform == \"ps4\"').dropna())"
   ]
  },
  {
   "cell_type": "code",
   "execution_count": 42,
   "metadata": {},
   "outputs": [
    {
     "data": {
      "text/plain": [
       "<matplotlib.collections.PathCollection at 0x7f0f42f70ca0>"
      ]
     },
     "execution_count": 42,
     "metadata": {},
     "output_type": "execute_result"
    },
    {
     "data": {
      "image/png": "[encoded data removed]",
      "text/plain": [
       "<Figure size 1440x504 with 2 Axes>"
      ]
     },
     "metadata": {
      "needs_background": "light"
     },
     "output_type": "display_data"
    }
   ],
   "source": [
    "fig_scatter, (ax3,ax4) = plt.subplots(2,1, figsize = (20,7))\n",
    "ax3.scatter(y= 'critic_score', x = 'total_sales',data=actual_data.query('platform == \"ps3\"').dropna())\n",
    "ax4.scatter(y= 'user_score', x = 'total_sales',data=actual_data.query('platform == \"ps3\"').dropna())"
   ]
  },
  {
   "cell_type": "code",
   "execution_count": 43,
   "metadata": {},
   "outputs": [
    {
     "data": {
      "text/plain": [
       "<matplotlib.collections.PathCollection at 0x7f0f42e88df0>"
      ]
     },
     "execution_count": 43,
     "metadata": {},
     "output_type": "execute_result"
    },
    {
     "data": {
      "image/png": "[encoded data removed]",
      "text/plain": [
       "<Figure size 1440x504 with 2 Axes>"
      ]
     },
     "metadata": {
      "needs_background": "light"
     },
     "output_type": "display_data"
    }
   ],
   "source": [
    "fig_scatter, (ax5,ax6) = plt.subplots(2,1, figsize = (20,7))\n",
    "ax5.scatter(y= 'critic_score', x = 'total_sales',data=actual_data.query('platform == \"wiiu\"').dropna())\n",
    "ax6.scatter(y= 'user_score', x = 'total_sales',data=actual_data.query('platform == \"wiiu\"').dropna())"
   ]
  },
  {
   "cell_type": "code",
   "execution_count": 44,
   "metadata": {},
   "outputs": [],
   "source": [
    "ps4_critic_score = actual_data.query('platform == \"ps4\"')['critic_score']\n",
    "ps4_user_score = actual_data.query('platform == \"ps4\"')['user_score']\n",
    "ps4_total_sales = actual_data.query('platform == \"ps4\"')['total_sales']"
   ]
  },
  {
   "cell_type": "code",
   "execution_count": 45,
   "metadata": {},
   "outputs": [
    {
     "data": {
      "text/plain": [
       "0.40656790206178095"
      ]
     },
     "execution_count": 45,
     "metadata": {},
     "output_type": "execute_result"
    }
   ],
   "source": [
    "ps4_critic_score.corr(ps4_total_sales)"
   ]
  },
  {
   "cell_type": "code",
   "execution_count": 46,
   "metadata": {},
   "outputs": [
    {
     "data": {
      "text/plain": [
       "-0.031957110204556376"
      ]
     },
     "execution_count": 46,
     "metadata": {},
     "output_type": "execute_result"
    }
   ],
   "source": [
    "ps4_user_score.corr(ps4_total_sales)"
   ]
  },
  {
   "cell_type": "code",
   "execution_count": 47,
   "metadata": {},
   "outputs": [],
   "source": [
    "ps3_critic_score =actual_data.query('platform == \"ps3\"')['critic_score']\n",
    "ps3_user_score = actual_data.query('platform == \"ps3\"')['user_score']\n",
    "ps3_total_sales = actual_data.query('platform == \"ps3\"')['total_sales']"
   ]
  },
  {
   "cell_type": "code",
   "execution_count": 48,
   "metadata": {},
   "outputs": [
    {
     "data": {
      "text/plain": [
       "0.3342853393371919"
      ]
     },
     "execution_count": 48,
     "metadata": {},
     "output_type": "execute_result"
    }
   ],
   "source": [
    "ps3_critic_score.corr(ps3_total_sales)"
   ]
  },
  {
   "cell_type": "code",
   "execution_count": 49,
   "metadata": {},
   "outputs": [
    {
     "data": {
      "text/plain": [
       "0.0023944027357566925"
      ]
     },
     "execution_count": 49,
     "metadata": {},
     "output_type": "execute_result"
    }
   ],
   "source": [
    "ps3_user_score.corr(ps3_total_sales)"
   ]
  },
  {
   "cell_type": "code",
   "execution_count": 50,
   "metadata": {},
   "outputs": [],
   "source": [
    "wiiu_critic_score =actual_data.query('platform == \"wiiu\"')['critic_score']\n",
    "wiiu_user_score = actual_data.query('platform == \"wiiu\"')['user_score']\n",
    "wiiu_total_sales = actual_data.query('platform == \"wiiu\"')['total_sales']"
   ]
  },
  {
   "cell_type": "code",
   "execution_count": 51,
   "metadata": {},
   "outputs": [
    {
     "data": {
      "text/plain": [
       "0.3764149065423912"
      ]
     },
     "execution_count": 51,
     "metadata": {},
     "output_type": "execute_result"
    }
   ],
   "source": [
    "wiiu_critic_score.corr(wiiu_total_sales)"
   ]
  },
  {
   "cell_type": "code",
   "execution_count": 52,
   "metadata": {},
   "outputs": [
    {
     "data": {
      "text/plain": [
       "0.4193304819266187"
      ]
     },
     "execution_count": 52,
     "metadata": {},
     "output_type": "execute_result"
    }
   ],
   "source": [
    "wiiu_user_score.corr(wiiu_total_sales)"
   ]
  },
  {
   "cell_type": "markdown",
   "metadata": {},
   "source": [
    "Как и было сказано, что между продажами и оценками критиков есть зависимость. Видно, что в основном пользоватлеи ориентируются на отзывы критиков, нежели на отзывы других пользователей."
   ]
  },
  {
   "cell_type": "code",
   "execution_count": 59,
   "metadata": {},
   "outputs": [
    {
     "data": {
      "text/html": [
       "<div>\n",
       "<style scoped>\n",
       "    .dataframe tbody tr th:only-of-type {\n",
       "        vertical-align: middle;\n",
       "    }\n",
       "\n",
       "    .dataframe tbody tr th {\n",
       "        vertical-align: top;\n",
       "    }\n",
       "\n",
       "    .dataframe thead th {\n",
       "        text-align: right;\n",
       "    }\n",
       "</style>\n",
       "<table border=\"1\" class=\"dataframe\">\n",
       "  <thead>\n",
       "    <tr style=\"text-align: right;\">\n",
       "      <th></th>\n",
       "      <th>name</th>\n",
       "      <th>platform</th>\n",
       "      <th>year_of_release</th>\n",
       "      <th>genre</th>\n",
       "      <th>na_sales</th>\n",
       "      <th>eu_sales</th>\n",
       "      <th>jp_sales</th>\n",
       "      <th>other_sales</th>\n",
       "      <th>critic_score</th>\n",
       "      <th>user_score</th>\n",
       "      <th>rating</th>\n",
       "      <th>total_sales</th>\n",
       "    </tr>\n",
       "  </thead>\n",
       "  <tbody>\n",
       "    <tr>\n",
       "      <th>0</th>\n",
       "      <td>wii sports</td>\n",
       "      <td>wii</td>\n",
       "      <td>2006.0</td>\n",
       "      <td>sports</td>\n",
       "      <td>41.36</td>\n",
       "      <td>28.96</td>\n",
       "      <td>3.77</td>\n",
       "      <td>8.45</td>\n",
       "      <td>76.0</td>\n",
       "      <td>8.0</td>\n",
       "      <td>e</td>\n",
       "      <td>82.54</td>\n",
       "    </tr>\n",
       "    <tr>\n",
       "      <th>1</th>\n",
       "      <td>super mario bros.</td>\n",
       "      <td>nes</td>\n",
       "      <td>1985.0</td>\n",
       "      <td>platform</td>\n",
       "      <td>29.08</td>\n",
       "      <td>3.58</td>\n",
       "      <td>6.81</td>\n",
       "      <td>0.77</td>\n",
       "      <td>NaN</td>\n",
       "      <td>NaN</td>\n",
       "      <td>rp</td>\n",
       "      <td>40.24</td>\n",
       "    </tr>\n",
       "    <tr>\n",
       "      <th>2</th>\n",
       "      <td>mario kart wii</td>\n",
       "      <td>wii</td>\n",
       "      <td>2008.0</td>\n",
       "      <td>racing</td>\n",
       "      <td>15.68</td>\n",
       "      <td>12.76</td>\n",
       "      <td>3.79</td>\n",
       "      <td>3.29</td>\n",
       "      <td>82.0</td>\n",
       "      <td>8.3</td>\n",
       "      <td>e</td>\n",
       "      <td>35.52</td>\n",
       "    </tr>\n",
       "    <tr>\n",
       "      <th>3</th>\n",
       "      <td>wii sports resort</td>\n",
       "      <td>wii</td>\n",
       "      <td>2009.0</td>\n",
       "      <td>sports</td>\n",
       "      <td>15.61</td>\n",
       "      <td>10.93</td>\n",
       "      <td>3.28</td>\n",
       "      <td>2.95</td>\n",
       "      <td>80.0</td>\n",
       "      <td>8.0</td>\n",
       "      <td>e</td>\n",
       "      <td>32.77</td>\n",
       "    </tr>\n",
       "    <tr>\n",
       "      <th>4</th>\n",
       "      <td>pokemon red/pokemon blue</td>\n",
       "      <td>gb</td>\n",
       "      <td>1996.0</td>\n",
       "      <td>role-playing</td>\n",
       "      <td>11.27</td>\n",
       "      <td>8.89</td>\n",
       "      <td>10.22</td>\n",
       "      <td>1.00</td>\n",
       "      <td>NaN</td>\n",
       "      <td>NaN</td>\n",
       "      <td>rp</td>\n",
       "      <td>31.38</td>\n",
       "    </tr>\n",
       "    <tr>\n",
       "      <th>...</th>\n",
       "      <td>...</td>\n",
       "      <td>...</td>\n",
       "      <td>...</td>\n",
       "      <td>...</td>\n",
       "      <td>...</td>\n",
       "      <td>...</td>\n",
       "      <td>...</td>\n",
       "      <td>...</td>\n",
       "      <td>...</td>\n",
       "      <td>...</td>\n",
       "      <td>...</td>\n",
       "      <td>...</td>\n",
       "    </tr>\n",
       "    <tr>\n",
       "      <th>16710</th>\n",
       "      <td>samurai warriors: sanada maru</td>\n",
       "      <td>ps3</td>\n",
       "      <td>2016.0</td>\n",
       "      <td>action</td>\n",
       "      <td>0.00</td>\n",
       "      <td>0.00</td>\n",
       "      <td>0.01</td>\n",
       "      <td>0.00</td>\n",
       "      <td>NaN</td>\n",
       "      <td>NaN</td>\n",
       "      <td>rp</td>\n",
       "      <td>0.01</td>\n",
       "    </tr>\n",
       "    <tr>\n",
       "      <th>16711</th>\n",
       "      <td>lma manager 2007</td>\n",
       "      <td>x360</td>\n",
       "      <td>2006.0</td>\n",
       "      <td>sports</td>\n",
       "      <td>0.00</td>\n",
       "      <td>0.01</td>\n",
       "      <td>0.00</td>\n",
       "      <td>0.00</td>\n",
       "      <td>NaN</td>\n",
       "      <td>NaN</td>\n",
       "      <td>rp</td>\n",
       "      <td>0.01</td>\n",
       "    </tr>\n",
       "    <tr>\n",
       "      <th>16712</th>\n",
       "      <td>haitaka no psychedelica</td>\n",
       "      <td>psv</td>\n",
       "      <td>2016.0</td>\n",
       "      <td>adventure</td>\n",
       "      <td>0.00</td>\n",
       "      <td>0.00</td>\n",
       "      <td>0.01</td>\n",
       "      <td>0.00</td>\n",
       "      <td>NaN</td>\n",
       "      <td>NaN</td>\n",
       "      <td>rp</td>\n",
       "      <td>0.01</td>\n",
       "    </tr>\n",
       "    <tr>\n",
       "      <th>16713</th>\n",
       "      <td>spirits &amp; spells</td>\n",
       "      <td>gba</td>\n",
       "      <td>2003.0</td>\n",
       "      <td>platform</td>\n",
       "      <td>0.01</td>\n",
       "      <td>0.00</td>\n",
       "      <td>0.00</td>\n",
       "      <td>0.00</td>\n",
       "      <td>NaN</td>\n",
       "      <td>NaN</td>\n",
       "      <td>rp</td>\n",
       "      <td>0.01</td>\n",
       "    </tr>\n",
       "    <tr>\n",
       "      <th>16714</th>\n",
       "      <td>winning post 8 2016</td>\n",
       "      <td>psv</td>\n",
       "      <td>2016.0</td>\n",
       "      <td>simulation</td>\n",
       "      <td>0.00</td>\n",
       "      <td>0.00</td>\n",
       "      <td>0.01</td>\n",
       "      <td>0.00</td>\n",
       "      <td>NaN</td>\n",
       "      <td>NaN</td>\n",
       "      <td>rp</td>\n",
       "      <td>0.01</td>\n",
       "    </tr>\n",
       "  </tbody>\n",
       "</table>\n",
       "<p>16444 rows × 12 columns</p>\n",
       "</div>"
      ],
      "text/plain": [
       "                                name platform  year_of_release         genre  \\\n",
       "0                         wii sports      wii           2006.0        sports   \n",
       "1                  super mario bros.      nes           1985.0      platform   \n",
       "2                     mario kart wii      wii           2008.0        racing   \n",
       "3                  wii sports resort      wii           2009.0        sports   \n",
       "4           pokemon red/pokemon blue       gb           1996.0  role-playing   \n",
       "...                              ...      ...              ...           ...   \n",
       "16710  samurai warriors: sanada maru      ps3           2016.0        action   \n",
       "16711               lma manager 2007     x360           2006.0        sports   \n",
       "16712        haitaka no psychedelica      psv           2016.0     adventure   \n",
       "16713               spirits & spells      gba           2003.0      platform   \n",
       "16714            winning post 8 2016      psv           2016.0    simulation   \n",
       "\n",
       "       na_sales  eu_sales  jp_sales  other_sales  critic_score  user_score  \\\n",
       "0         41.36     28.96      3.77         8.45          76.0         8.0   \n",
       "1         29.08      3.58      6.81         0.77           NaN         NaN   \n",
       "2         15.68     12.76      3.79         3.29          82.0         8.3   \n",
       "3         15.61     10.93      3.28         2.95          80.0         8.0   \n",
       "4         11.27      8.89     10.22         1.00           NaN         NaN   \n",
       "...         ...       ...       ...          ...           ...         ...   \n",
       "16710      0.00      0.00      0.01         0.00           NaN         NaN   \n",
       "16711      0.00      0.01      0.00         0.00           NaN         NaN   \n",
       "16712      0.00      0.00      0.01         0.00           NaN         NaN   \n",
       "16713      0.01      0.00      0.00         0.00           NaN         NaN   \n",
       "16714      0.00      0.00      0.01         0.00           NaN         NaN   \n",
       "\n",
       "      rating  total_sales  \n",
       "0          e        82.54  \n",
       "1         rp        40.24  \n",
       "2          e        35.52  \n",
       "3          e        32.77  \n",
       "4         rp        31.38  \n",
       "...      ...          ...  \n",
       "16710     rp         0.01  \n",
       "16711     rp         0.01  \n",
       "16712     rp         0.01  \n",
       "16713     rp         0.01  \n",
       "16714     rp         0.01  \n",
       "\n",
       "[16444 rows x 12 columns]"
      ]
     },
     "execution_count": 59,
     "metadata": {},
     "output_type": "execute_result"
    }
   ],
   "source": [
    "data"
   ]
  },
  {
   "cell_type": "code",
   "execution_count": 60,
   "metadata": {},
   "outputs": [
    {
     "data": {
      "text/plain": [
       "<matplotlib.legend.Legend at 0x7f0f42e7b2b0>"
      ]
     },
     "execution_count": 60,
     "metadata": {},
     "output_type": "execute_result"
    },
    {
     "data": {
      "image/png": "[encoded data removed]",
      "text/plain": [
       "<Figure size 1080x360 with 1 Axes>"
      ]
     },
     "metadata": {
      "needs_background": "light"
     },
     "output_type": "display_data"
    }
   ],
   "source": [
    "ax = plt.gca()\n",
    "pivot = actual_data.groupby('genre').agg({'name': 'count', 'total_sales': 'sum'}).sort_values(by='name', ascending=False)\n",
    "plot1 = pivot['name']\n",
    "plot1.plot(kind='bar', figsize=(15,5), ax=ax, width=0.2, position=1)\n",
    "plot2 = pivot['total_sales']\n",
    "plot2.plot(kind='bar', figsize=(15,5), ax=ax, width=0.2, position=0)\n",
    "ax.legend(['Количество продаж', 'Общая сумма продаж'])"
   ]
  },
  {
   "cell_type": "code",
   "execution_count": 61,
   "metadata": {},
   "outputs": [],
   "source": [
    "def boxplot_genre_draw(title=None, query_condition = None, ylims=None):\n",
    "    %matplotlib inline\n",
    "    if query_condition == None:\n",
    "        ax = actual_data.boxplot(column='total_sales', fontsize=25, figsize=(25,10))\n",
    "    else:\n",
    "        df_query = actual_data.query(query_condition)\n",
    "        by_column = query_condition.split()[0]\n",
    "        ax = df_query.boxplot(column='total_sales', by=by_column, fontsize=25, figsize=(25,10))\n",
    "        ax.set_xlabel('')\n",
    "        ax.set_title('')\n",
    "    if ylims != None:\n",
    "        ax.set_ylim(ylims)\n",
    "    if title != None:\n",
    "        plt.suptitle(title, y=0.94, fontsize=25, fontweight='bold')"
   ]
  },
  {
   "cell_type": "code",
   "execution_count": 62,
   "metadata": {},
   "outputs": [
    {
     "data": {
      "image/png": "[encoded data removed]",
      "text/plain": [
       "<Figure size 1800x720 with 1 Axes>"
      ]
     },
     "metadata": {
      "needs_background": "light"
     },
     "output_type": "display_data"
    }
   ],
   "source": [
    "genres = ['action', 'role-playing', 'adventure', 'sprots', 'shooter', 'misc', 'racing', 'fighting', 'platform', 'simulation', 'strategy', 'puzzle']\n",
    "boxplot_genre_draw(query_condition='genre in @genres')"
   ]
  },
  {
   "cell_type": "code",
   "execution_count": 63,
   "metadata": {},
   "outputs": [
    {
     "data": {
      "image/png": "[encoded data removed]",
      "text/plain": [
       "<Figure size 1800x720 with 1 Axes>"
      ]
     },
     "metadata": {
      "needs_background": "light"
     },
     "output_type": "display_data"
    }
   ],
   "source": [
    "genres = ['action', 'role-playing', 'adventure', 'sprots', 'shooter', 'misc', 'racing', 'fighting', 'platform', 'simulation', 'strategy', 'puzzle']\n",
    "boxplot_genre_draw(query_condition='genre in @genres', ylims=[0, 3])"
   ]
  },
  {
   "cell_type": "markdown",
   "metadata": {},
   "source": [
    "**Общий вывод:** \n",
    "1) Количество игр, которые разрабатывались для консолей и ПК стали расти с 90-х годов. С момента выхода мобильных игр, количество платформенных стало уменьшаться.\n",
    "\n",
    "2) Популярные платформы за период: ps2, x360, ps3, wii, ds, ps;\n",
    "\n",
    "3) Средняя жизнь платформы составляет 8-10 лет. Пик приходится спустя 5 лет после выхода приставки;\n",
    "\n",
    "4) Больше всего игр продано на ps и x360;\n",
    "\n",
    "5) Продажи связаны с отзывами критиков и пользователей;\n",
    "\n",
    "6) Самый популярный жанр за последние 10 лет - action."
   ]
  },
  {
   "cell_type": "markdown",
   "metadata": {},
   "source": [
    "Заполним пропуски для дальнейшего анализа."
   ]
  },
  {
   "cell_type": "code",
   "execution_count": 65,
   "metadata": {},
   "outputs": [],
   "source": [
    "actual_data['critic_score'] = actual_data['critic_score'].fillna(-1)"
   ]
  },
  {
   "cell_type": "code",
   "execution_count": 66,
   "metadata": {},
   "outputs": [],
   "source": [
    "actual_data['user_score'] = actual_data['user_score'].fillna(-1)"
   ]
  },
  {
   "cell_type": "code",
   "execution_count": 67,
   "metadata": {},
   "outputs": [
    {
     "data": {
      "text/html": [
       "<div>\n",
       "<style scoped>\n",
       "    .dataframe tbody tr th:only-of-type {\n",
       "        vertical-align: middle;\n",
       "    }\n",
       "\n",
       "    .dataframe tbody tr th {\n",
       "        vertical-align: top;\n",
       "    }\n",
       "\n",
       "    .dataframe thead th {\n",
       "        text-align: right;\n",
       "    }\n",
       "</style>\n",
       "<table border=\"1\" class=\"dataframe\">\n",
       "  <thead>\n",
       "    <tr style=\"text-align: right;\">\n",
       "      <th></th>\n",
       "      <th>name</th>\n",
       "      <th>platform</th>\n",
       "      <th>year_of_release</th>\n",
       "      <th>genre</th>\n",
       "      <th>na_sales</th>\n",
       "      <th>eu_sales</th>\n",
       "      <th>jp_sales</th>\n",
       "      <th>other_sales</th>\n",
       "      <th>critic_score</th>\n",
       "      <th>user_score</th>\n",
       "      <th>rating</th>\n",
       "      <th>total_sales</th>\n",
       "    </tr>\n",
       "  </thead>\n",
       "  <tbody>\n",
       "    <tr>\n",
       "      <th>16</th>\n",
       "      <td>grand theft auto v</td>\n",
       "      <td>ps3</td>\n",
       "      <td>2013</td>\n",
       "      <td>action</td>\n",
       "      <td>7.02</td>\n",
       "      <td>9.09</td>\n",
       "      <td>0.98</td>\n",
       "      <td>3.96</td>\n",
       "      <td>97.0</td>\n",
       "      <td>8.2</td>\n",
       "      <td>m</td>\n",
       "      <td>21.05</td>\n",
       "    </tr>\n",
       "    <tr>\n",
       "      <th>23</th>\n",
       "      <td>grand theft auto v</td>\n",
       "      <td>x360</td>\n",
       "      <td>2013</td>\n",
       "      <td>action</td>\n",
       "      <td>9.66</td>\n",
       "      <td>5.14</td>\n",
       "      <td>0.06</td>\n",
       "      <td>1.41</td>\n",
       "      <td>97.0</td>\n",
       "      <td>8.1</td>\n",
       "      <td>m</td>\n",
       "      <td>16.27</td>\n",
       "    </tr>\n",
       "    <tr>\n",
       "      <th>31</th>\n",
       "      <td>call of duty: black ops 3</td>\n",
       "      <td>ps4</td>\n",
       "      <td>2015</td>\n",
       "      <td>shooter</td>\n",
       "      <td>6.03</td>\n",
       "      <td>5.86</td>\n",
       "      <td>0.36</td>\n",
       "      <td>2.38</td>\n",
       "      <td>-1.0</td>\n",
       "      <td>-1.0</td>\n",
       "      <td>rp</td>\n",
       "      <td>14.63</td>\n",
       "    </tr>\n",
       "    <tr>\n",
       "      <th>33</th>\n",
       "      <td>pokemon x/pokemon y</td>\n",
       "      <td>3ds</td>\n",
       "      <td>2013</td>\n",
       "      <td>role-playing</td>\n",
       "      <td>5.28</td>\n",
       "      <td>4.19</td>\n",
       "      <td>4.35</td>\n",
       "      <td>0.78</td>\n",
       "      <td>-1.0</td>\n",
       "      <td>-1.0</td>\n",
       "      <td>rp</td>\n",
       "      <td>14.60</td>\n",
       "    </tr>\n",
       "    <tr>\n",
       "      <th>42</th>\n",
       "      <td>grand theft auto v</td>\n",
       "      <td>ps4</td>\n",
       "      <td>2014</td>\n",
       "      <td>action</td>\n",
       "      <td>3.96</td>\n",
       "      <td>6.31</td>\n",
       "      <td>0.38</td>\n",
       "      <td>1.97</td>\n",
       "      <td>97.0</td>\n",
       "      <td>8.3</td>\n",
       "      <td>m</td>\n",
       "      <td>12.62</td>\n",
       "    </tr>\n",
       "    <tr>\n",
       "      <th>...</th>\n",
       "      <td>...</td>\n",
       "      <td>...</td>\n",
       "      <td>...</td>\n",
       "      <td>...</td>\n",
       "      <td>...</td>\n",
       "      <td>...</td>\n",
       "      <td>...</td>\n",
       "      <td>...</td>\n",
       "      <td>...</td>\n",
       "      <td>...</td>\n",
       "      <td>...</td>\n",
       "      <td>...</td>\n",
       "    </tr>\n",
       "    <tr>\n",
       "      <th>16703</th>\n",
       "      <td>strawberry nauts</td>\n",
       "      <td>psv</td>\n",
       "      <td>2016</td>\n",
       "      <td>adventure</td>\n",
       "      <td>0.00</td>\n",
       "      <td>0.00</td>\n",
       "      <td>0.01</td>\n",
       "      <td>0.00</td>\n",
       "      <td>-1.0</td>\n",
       "      <td>-1.0</td>\n",
       "      <td>rp</td>\n",
       "      <td>0.01</td>\n",
       "    </tr>\n",
       "    <tr>\n",
       "      <th>16707</th>\n",
       "      <td>aiyoku no eustia</td>\n",
       "      <td>psv</td>\n",
       "      <td>2014</td>\n",
       "      <td>misc</td>\n",
       "      <td>0.00</td>\n",
       "      <td>0.00</td>\n",
       "      <td>0.01</td>\n",
       "      <td>0.00</td>\n",
       "      <td>-1.0</td>\n",
       "      <td>-1.0</td>\n",
       "      <td>rp</td>\n",
       "      <td>0.01</td>\n",
       "    </tr>\n",
       "    <tr>\n",
       "      <th>16710</th>\n",
       "      <td>samurai warriors: sanada maru</td>\n",
       "      <td>ps3</td>\n",
       "      <td>2016</td>\n",
       "      <td>action</td>\n",
       "      <td>0.00</td>\n",
       "      <td>0.00</td>\n",
       "      <td>0.01</td>\n",
       "      <td>0.00</td>\n",
       "      <td>-1.0</td>\n",
       "      <td>-1.0</td>\n",
       "      <td>rp</td>\n",
       "      <td>0.01</td>\n",
       "    </tr>\n",
       "    <tr>\n",
       "      <th>16712</th>\n",
       "      <td>haitaka no psychedelica</td>\n",
       "      <td>psv</td>\n",
       "      <td>2016</td>\n",
       "      <td>adventure</td>\n",
       "      <td>0.00</td>\n",
       "      <td>0.00</td>\n",
       "      <td>0.01</td>\n",
       "      <td>0.00</td>\n",
       "      <td>-1.0</td>\n",
       "      <td>-1.0</td>\n",
       "      <td>rp</td>\n",
       "      <td>0.01</td>\n",
       "    </tr>\n",
       "    <tr>\n",
       "      <th>16714</th>\n",
       "      <td>winning post 8 2016</td>\n",
       "      <td>psv</td>\n",
       "      <td>2016</td>\n",
       "      <td>simulation</td>\n",
       "      <td>0.00</td>\n",
       "      <td>0.00</td>\n",
       "      <td>0.01</td>\n",
       "      <td>0.00</td>\n",
       "      <td>-1.0</td>\n",
       "      <td>-1.0</td>\n",
       "      <td>rp</td>\n",
       "      <td>0.01</td>\n",
       "    </tr>\n",
       "  </tbody>\n",
       "</table>\n",
       "<p>2233 rows × 12 columns</p>\n",
       "</div>"
      ],
      "text/plain": [
       "                                name platform  year_of_release         genre  \\\n",
       "16                grand theft auto v      ps3             2013        action   \n",
       "23                grand theft auto v     x360             2013        action   \n",
       "31         call of duty: black ops 3      ps4             2015       shooter   \n",
       "33               pokemon x/pokemon y      3ds             2013  role-playing   \n",
       "42                grand theft auto v      ps4             2014        action   \n",
       "...                              ...      ...              ...           ...   \n",
       "16703               strawberry nauts      psv             2016     adventure   \n",
       "16707               aiyoku no eustia      psv             2014          misc   \n",
       "16710  samurai warriors: sanada maru      ps3             2016        action   \n",
       "16712        haitaka no psychedelica      psv             2016     adventure   \n",
       "16714            winning post 8 2016      psv             2016    simulation   \n",
       "\n",
       "       na_sales  eu_sales  jp_sales  other_sales  critic_score  user_score  \\\n",
       "16         7.02      9.09      0.98         3.96          97.0         8.2   \n",
       "23         9.66      5.14      0.06         1.41          97.0         8.1   \n",
       "31         6.03      5.86      0.36         2.38          -1.0        -1.0   \n",
       "33         5.28      4.19      4.35         0.78          -1.0        -1.0   \n",
       "42         3.96      6.31      0.38         1.97          97.0         8.3   \n",
       "...         ...       ...       ...          ...           ...         ...   \n",
       "16703      0.00      0.00      0.01         0.00          -1.0        -1.0   \n",
       "16707      0.00      0.00      0.01         0.00          -1.0        -1.0   \n",
       "16710      0.00      0.00      0.01         0.00          -1.0        -1.0   \n",
       "16712      0.00      0.00      0.01         0.00          -1.0        -1.0   \n",
       "16714      0.00      0.00      0.01         0.00          -1.0        -1.0   \n",
       "\n",
       "      rating  total_sales  \n",
       "16         m        21.05  \n",
       "23         m        16.27  \n",
       "31        rp        14.63  \n",
       "33        rp        14.60  \n",
       "42         m        12.62  \n",
       "...      ...          ...  \n",
       "16703     rp         0.01  \n",
       "16707     rp         0.01  \n",
       "16710     rp         0.01  \n",
       "16712     rp         0.01  \n",
       "16714     rp         0.01  \n",
       "\n",
       "[2233 rows x 12 columns]"
      ]
     },
     "execution_count": 67,
     "metadata": {},
     "output_type": "execute_result"
    }
   ],
   "source": [
    "actual_data"
   ]
  },
  {
   "cell_type": "markdown",
   "metadata": {},
   "source": [
    "### Составим портрет пользователя"
   ]
  },
  {
   "cell_type": "code",
   "execution_count": 68,
   "metadata": {},
   "outputs": [],
   "source": [
    "rating_pivot_table = actual_data.pivot_table(index = 'platform', values = ['na_sales','jp_sales','eu_sales'], aggfunc = ['sum'])"
   ]
  },
  {
   "cell_type": "code",
   "execution_count": 69,
   "metadata": {},
   "outputs": [],
   "source": [
    "rating_pivot_table.columns = ['na_sales','jp_sales','eu_sales']"
   ]
  },
  {
   "cell_type": "code",
   "execution_count": 70,
   "metadata": {},
   "outputs": [],
   "source": [
    "top5_eu = rating_pivot_table.sort_values(by = 'eu_sales', ascending = False).index[:5]\n",
    "top5_jp = rating_pivot_table.sort_values(by = 'jp_sales', ascending = False).index[:5]\n",
    "top5_na = rating_pivot_table.sort_values(by = 'na_sales', ascending = False).index[:5]"
   ]
  },
  {
   "cell_type": "code",
   "execution_count": 71,
   "metadata": {},
   "outputs": [
    {
     "name": "stdout",
     "output_type": "stream",
     "text": [
      "Топ платформ для европейского региона: ps4 xone x360 ps3 3ds \t\n",
      "\n",
      "Платформа:  ps4 Доля продаж:  0.40911998194062954\n",
      "Платформа:  xone Доля продаж:  0.6419855222337125\n",
      "Платформа:  x360 Доля продаж:  0.6549041623225601\n",
      "Платформа:  ps3 Доля продаж:  0.4105780421569894\n",
      "Платформа:  3ds Доля продаж:  0.27889318828940624\n",
      "\n",
      "Топ платформ для японского региона: 3ds ps3 psv ps4 wiiu \t\n",
      "\n",
      "Платформа:  3ds Доля продаж:  0.4950719135577135\n",
      "Платформа:  ps3 Доля продаж:  0.15097633518686143\n",
      "Платформа:  psv Доля продаж:  0.6252943155062242\n",
      "Платформа:  ps4 Доля продаж:  0.06004740584672089\n",
      "Платформа:  wiiu Доля продаж:  0.18151484818151464\n",
      "\n",
      "Топ платформ для североамериканского региона: ps4 ps3 xone x360 3ds \t\n",
      "\n",
      "Платформа:  ps4 Доля продаж:  0.5308326122126494\n",
      "Платформа:  ps3 Доля продаж:  0.43844562265614906\n",
      "Платформа:  xone Доля продаж:  0.355670458462599\n",
      "Платформа:  x360 Доля продаж:  0.3410056941214211\n",
      "Платформа:  3ds Доля продаж:  0.22603489815288028\n",
      "\n"
     ]
    }
   ],
   "source": [
    "list_of_top = [top5_eu,top5_jp,top5_na]\n",
    "for count,top in enumerate(list_of_top):\n",
    "    if count == 0: \n",
    "        print('Топ платформ для европейского региона:',*top, \"\\t\")\n",
    "    elif count == 1:\n",
    "        print('Топ платформ для японского региона:',*top, \"\\t\")\n",
    "    elif count == 2:\n",
    "        print('Топ платформ для североамериканского региона:',*top, \"\\t\")\n",
    "    print()\n",
    "    for platform in top:\n",
    "        data = rating_pivot_table.loc[platform,['na_sales','jp_sales','eu_sales']]\n",
    "        if count == 0: \n",
    "            part = data['eu_sales']\n",
    "        elif count == 1:\n",
    "            part = data['jp_sales']\n",
    "        elif count == 2:\n",
    "            part = data['na_sales']\n",
    "        ratio = part / sum(data)\n",
    "        print('Платформа: ',platform, 'Доля продаж: ', ratio)\n",
    "    print( )"
   ]
  },
  {
   "cell_type": "markdown",
   "metadata": {},
   "source": [
    "В большинстве случаев лидирует европейский регион."
   ]
  },
  {
   "cell_type": "markdown",
   "metadata": {},
   "source": [
    "Теперь проверим лидирующий жанр."
   ]
  },
  {
   "cell_type": "code",
   "execution_count": 72,
   "metadata": {},
   "outputs": [],
   "source": [
    "top_genre_pivot_table = actual_data.pivot_table(index = ['genre'], values = ['na_sales','jp_sales','eu_sales'], aggfunc = ['sum'])"
   ]
  },
  {
   "cell_type": "code",
   "execution_count": 73,
   "metadata": {},
   "outputs": [],
   "source": [
    "top_genre_pivot_table.columns = ['na_sales','jp_sales','eu_sales']\n",
    "top5_genres_eu = top_genre_pivot_table.sort_values(by = 'eu_sales', ascending = False).index[:5]\n",
    "top5_genres_jp = top_genre_pivot_table.sort_values(by = 'jp_sales', ascending = False).index[:5]\n",
    "top5_genres_na = top_genre_pivot_table.sort_values(by = 'na_sales', ascending = False).index[:5]"
   ]
  },
  {
   "cell_type": "code",
   "execution_count": 74,
   "metadata": {},
   "outputs": [
    {
     "name": "stdout",
     "output_type": "stream",
     "text": [
      "Топ 5 жанров в европейском регионе: action shooter sports role-playing misc\n",
      "Топ 5 жанров в японском регионе: role-playing action misc fighting shooter\n",
      "Топ 5 жанров в североамериканском регионе: action shooter sports role-playing racing\n"
     ]
    }
   ],
   "source": [
    "print('Топ 5 жанров в европейском регионе:',*top5_genres_eu)\n",
    "print('Топ 5 жанров в японском регионе:',*top5_genres_jp)\n",
    "print('Топ 5 жанров в североамериканском регионе:',*top5_genres_na)"
   ]
  },
  {
   "cell_type": "code",
   "execution_count": 75,
   "metadata": {},
   "outputs": [],
   "source": [
    "sales_pivot_table = actual_data.pivot_table(index = ['rating'], values = ['na_sales','jp_sales','eu_sales'], aggfunc = ['sum'])"
   ]
  },
  {
   "cell_type": "code",
   "execution_count": 76,
   "metadata": {},
   "outputs": [
    {
     "data": {
      "text/html": [
       "<div>\n",
       "<style scoped>\n",
       "    .dataframe tbody tr th:only-of-type {\n",
       "        vertical-align: middle;\n",
       "    }\n",
       "\n",
       "    .dataframe tbody tr th {\n",
       "        vertical-align: top;\n",
       "    }\n",
       "\n",
       "    .dataframe thead tr th {\n",
       "        text-align: left;\n",
       "    }\n",
       "\n",
       "    .dataframe thead tr:last-of-type th {\n",
       "        text-align: right;\n",
       "    }\n",
       "</style>\n",
       "<table border=\"1\" class=\"dataframe\">\n",
       "  <thead>\n",
       "    <tr>\n",
       "      <th></th>\n",
       "      <th colspan=\"3\" halign=\"left\">sum</th>\n",
       "    </tr>\n",
       "    <tr>\n",
       "      <th></th>\n",
       "      <th>eu_sales</th>\n",
       "      <th>jp_sales</th>\n",
       "      <th>na_sales</th>\n",
       "    </tr>\n",
       "    <tr>\n",
       "      <th>rating</th>\n",
       "      <th></th>\n",
       "      <th></th>\n",
       "      <th></th>\n",
       "    </tr>\n",
       "  </thead>\n",
       "  <tbody>\n",
       "    <tr>\n",
       "      <th>e</th>\n",
       "      <td>83.36</td>\n",
       "      <td>15.14</td>\n",
       "      <td>79.05</td>\n",
       "    </tr>\n",
       "    <tr>\n",
       "      <th>e10+</th>\n",
       "      <td>42.69</td>\n",
       "      <td>5.89</td>\n",
       "      <td>54.24</td>\n",
       "    </tr>\n",
       "    <tr>\n",
       "      <th>m</th>\n",
       "      <td>145.32</td>\n",
       "      <td>14.11</td>\n",
       "      <td>165.21</td>\n",
       "    </tr>\n",
       "    <tr>\n",
       "      <th>rp</th>\n",
       "      <td>78.91</td>\n",
       "      <td>85.05</td>\n",
       "      <td>89.42</td>\n",
       "    </tr>\n",
       "    <tr>\n",
       "      <th>t</th>\n",
       "      <td>41.95</td>\n",
       "      <td>20.59</td>\n",
       "      <td>49.79</td>\n",
       "    </tr>\n",
       "  </tbody>\n",
       "</table>\n",
       "</div>"
      ],
      "text/plain": [
       "            sum                  \n",
       "       eu_sales jp_sales na_sales\n",
       "rating                           \n",
       "e         83.36    15.14    79.05\n",
       "e10+      42.69     5.89    54.24\n",
       "m        145.32    14.11   165.21\n",
       "rp        78.91    85.05    89.42\n",
       "t         41.95    20.59    49.79"
      ]
     },
     "execution_count": 76,
     "metadata": {},
     "output_type": "execute_result"
    }
   ],
   "source": [
    "sales_pivot_table"
   ]
  },
  {
   "cell_type": "markdown",
   "metadata": {},
   "source": [
    "Рейтинг *e* имеет самую высокую долю продаж в европейском регионе, а рейтинг *e10+* в североамериканском регионе."
   ]
  },
  {
   "cell_type": "markdown",
   "metadata": {},
   "source": [
    "### Проверка гипотез"
   ]
  },
  {
   "cell_type": "markdown",
   "metadata": {},
   "source": [
    "**Средние пользовательские рейтинги платформ Xbox One и PC одинаковые**"
   ]
  },
  {
   "cell_type": "markdown",
   "metadata": {},
   "source": [
    "Нулевая гипотеза всегда составляется исходя из равенства, следовательно, звучать она будет так: \"Средние пользовательские рейтинги платформ Xbox One и PC одинаковые\". Альтернативная гипотеза: \"Средние пользовательские рейтинги платформ Xbox One и PC разные\"."
   ]
  },
  {
   "cell_type": "code",
   "execution_count": 77,
   "metadata": {},
   "outputs": [
    {
     "data": {
      "text/html": [
       "<div>\n",
       "<style scoped>\n",
       "    .dataframe tbody tr th:only-of-type {\n",
       "        vertical-align: middle;\n",
       "    }\n",
       "\n",
       "    .dataframe tbody tr th {\n",
       "        vertical-align: top;\n",
       "    }\n",
       "\n",
       "    .dataframe thead th {\n",
       "        text-align: right;\n",
       "    }\n",
       "</style>\n",
       "<table border=\"1\" class=\"dataframe\">\n",
       "  <thead>\n",
       "    <tr style=\"text-align: right;\">\n",
       "      <th></th>\n",
       "      <th>name</th>\n",
       "      <th>platform</th>\n",
       "      <th>year_of_release</th>\n",
       "      <th>genre</th>\n",
       "      <th>na_sales</th>\n",
       "      <th>eu_sales</th>\n",
       "      <th>jp_sales</th>\n",
       "      <th>other_sales</th>\n",
       "      <th>critic_score</th>\n",
       "      <th>user_score</th>\n",
       "      <th>rating</th>\n",
       "      <th>total_sales</th>\n",
       "    </tr>\n",
       "  </thead>\n",
       "  <tbody>\n",
       "    <tr>\n",
       "      <th>16</th>\n",
       "      <td>grand theft auto v</td>\n",
       "      <td>ps3</td>\n",
       "      <td>2013</td>\n",
       "      <td>action</td>\n",
       "      <td>7.02</td>\n",
       "      <td>9.09</td>\n",
       "      <td>0.98</td>\n",
       "      <td>3.96</td>\n",
       "      <td>97.0</td>\n",
       "      <td>8.2</td>\n",
       "      <td>m</td>\n",
       "      <td>21.05</td>\n",
       "    </tr>\n",
       "    <tr>\n",
       "      <th>23</th>\n",
       "      <td>grand theft auto v</td>\n",
       "      <td>x360</td>\n",
       "      <td>2013</td>\n",
       "      <td>action</td>\n",
       "      <td>9.66</td>\n",
       "      <td>5.14</td>\n",
       "      <td>0.06</td>\n",
       "      <td>1.41</td>\n",
       "      <td>97.0</td>\n",
       "      <td>8.1</td>\n",
       "      <td>m</td>\n",
       "      <td>16.27</td>\n",
       "    </tr>\n",
       "    <tr>\n",
       "      <th>31</th>\n",
       "      <td>call of duty: black ops 3</td>\n",
       "      <td>ps4</td>\n",
       "      <td>2015</td>\n",
       "      <td>shooter</td>\n",
       "      <td>6.03</td>\n",
       "      <td>5.86</td>\n",
       "      <td>0.36</td>\n",
       "      <td>2.38</td>\n",
       "      <td>-1.0</td>\n",
       "      <td>-1.0</td>\n",
       "      <td>rp</td>\n",
       "      <td>14.63</td>\n",
       "    </tr>\n",
       "    <tr>\n",
       "      <th>33</th>\n",
       "      <td>pokemon x/pokemon y</td>\n",
       "      <td>3ds</td>\n",
       "      <td>2013</td>\n",
       "      <td>role-playing</td>\n",
       "      <td>5.28</td>\n",
       "      <td>4.19</td>\n",
       "      <td>4.35</td>\n",
       "      <td>0.78</td>\n",
       "      <td>-1.0</td>\n",
       "      <td>-1.0</td>\n",
       "      <td>rp</td>\n",
       "      <td>14.60</td>\n",
       "    </tr>\n",
       "    <tr>\n",
       "      <th>42</th>\n",
       "      <td>grand theft auto v</td>\n",
       "      <td>ps4</td>\n",
       "      <td>2014</td>\n",
       "      <td>action</td>\n",
       "      <td>3.96</td>\n",
       "      <td>6.31</td>\n",
       "      <td>0.38</td>\n",
       "      <td>1.97</td>\n",
       "      <td>97.0</td>\n",
       "      <td>8.3</td>\n",
       "      <td>m</td>\n",
       "      <td>12.62</td>\n",
       "    </tr>\n",
       "    <tr>\n",
       "      <th>...</th>\n",
       "      <td>...</td>\n",
       "      <td>...</td>\n",
       "      <td>...</td>\n",
       "      <td>...</td>\n",
       "      <td>...</td>\n",
       "      <td>...</td>\n",
       "      <td>...</td>\n",
       "      <td>...</td>\n",
       "      <td>...</td>\n",
       "      <td>...</td>\n",
       "      <td>...</td>\n",
       "      <td>...</td>\n",
       "    </tr>\n",
       "    <tr>\n",
       "      <th>16703</th>\n",
       "      <td>strawberry nauts</td>\n",
       "      <td>psv</td>\n",
       "      <td>2016</td>\n",
       "      <td>adventure</td>\n",
       "      <td>0.00</td>\n",
       "      <td>0.00</td>\n",
       "      <td>0.01</td>\n",
       "      <td>0.00</td>\n",
       "      <td>-1.0</td>\n",
       "      <td>-1.0</td>\n",
       "      <td>rp</td>\n",
       "      <td>0.01</td>\n",
       "    </tr>\n",
       "    <tr>\n",
       "      <th>16707</th>\n",
       "      <td>aiyoku no eustia</td>\n",
       "      <td>psv</td>\n",
       "      <td>2014</td>\n",
       "      <td>misc</td>\n",
       "      <td>0.00</td>\n",
       "      <td>0.00</td>\n",
       "      <td>0.01</td>\n",
       "      <td>0.00</td>\n",
       "      <td>-1.0</td>\n",
       "      <td>-1.0</td>\n",
       "      <td>rp</td>\n",
       "      <td>0.01</td>\n",
       "    </tr>\n",
       "    <tr>\n",
       "      <th>16710</th>\n",
       "      <td>samurai warriors: sanada maru</td>\n",
       "      <td>ps3</td>\n",
       "      <td>2016</td>\n",
       "      <td>action</td>\n",
       "      <td>0.00</td>\n",
       "      <td>0.00</td>\n",
       "      <td>0.01</td>\n",
       "      <td>0.00</td>\n",
       "      <td>-1.0</td>\n",
       "      <td>-1.0</td>\n",
       "      <td>rp</td>\n",
       "      <td>0.01</td>\n",
       "    </tr>\n",
       "    <tr>\n",
       "      <th>16712</th>\n",
       "      <td>haitaka no psychedelica</td>\n",
       "      <td>psv</td>\n",
       "      <td>2016</td>\n",
       "      <td>adventure</td>\n",
       "      <td>0.00</td>\n",
       "      <td>0.00</td>\n",
       "      <td>0.01</td>\n",
       "      <td>0.00</td>\n",
       "      <td>-1.0</td>\n",
       "      <td>-1.0</td>\n",
       "      <td>rp</td>\n",
       "      <td>0.01</td>\n",
       "    </tr>\n",
       "    <tr>\n",
       "      <th>16714</th>\n",
       "      <td>winning post 8 2016</td>\n",
       "      <td>psv</td>\n",
       "      <td>2016</td>\n",
       "      <td>simulation</td>\n",
       "      <td>0.00</td>\n",
       "      <td>0.00</td>\n",
       "      <td>0.01</td>\n",
       "      <td>0.00</td>\n",
       "      <td>-1.0</td>\n",
       "      <td>-1.0</td>\n",
       "      <td>rp</td>\n",
       "      <td>0.01</td>\n",
       "    </tr>\n",
       "  </tbody>\n",
       "</table>\n",
       "<p>2233 rows × 12 columns</p>\n",
       "</div>"
      ],
      "text/plain": [
       "                                name platform  year_of_release         genre  \\\n",
       "16                grand theft auto v      ps3             2013        action   \n",
       "23                grand theft auto v     x360             2013        action   \n",
       "31         call of duty: black ops 3      ps4             2015       shooter   \n",
       "33               pokemon x/pokemon y      3ds             2013  role-playing   \n",
       "42                grand theft auto v      ps4             2014        action   \n",
       "...                              ...      ...              ...           ...   \n",
       "16703               strawberry nauts      psv             2016     adventure   \n",
       "16707               aiyoku no eustia      psv             2014          misc   \n",
       "16710  samurai warriors: sanada maru      ps3             2016        action   \n",
       "16712        haitaka no psychedelica      psv             2016     adventure   \n",
       "16714            winning post 8 2016      psv             2016    simulation   \n",
       "\n",
       "       na_sales  eu_sales  jp_sales  other_sales  critic_score  user_score  \\\n",
       "16         7.02      9.09      0.98         3.96          97.0         8.2   \n",
       "23         9.66      5.14      0.06         1.41          97.0         8.1   \n",
       "31         6.03      5.86      0.36         2.38          -1.0        -1.0   \n",
       "33         5.28      4.19      4.35         0.78          -1.0        -1.0   \n",
       "42         3.96      6.31      0.38         1.97          97.0         8.3   \n",
       "...         ...       ...       ...          ...           ...         ...   \n",
       "16703      0.00      0.00      0.01         0.00          -1.0        -1.0   \n",
       "16707      0.00      0.00      0.01         0.00          -1.0        -1.0   \n",
       "16710      0.00      0.00      0.01         0.00          -1.0        -1.0   \n",
       "16712      0.00      0.00      0.01         0.00          -1.0        -1.0   \n",
       "16714      0.00      0.00      0.01         0.00          -1.0        -1.0   \n",
       "\n",
       "      rating  total_sales  \n",
       "16         m        21.05  \n",
       "23         m        16.27  \n",
       "31        rp        14.63  \n",
       "33        rp        14.60  \n",
       "42         m        12.62  \n",
       "...      ...          ...  \n",
       "16703     rp         0.01  \n",
       "16707     rp         0.01  \n",
       "16710     rp         0.01  \n",
       "16712     rp         0.01  \n",
       "16714     rp         0.01  \n",
       "\n",
       "[2233 rows x 12 columns]"
      ]
     },
     "execution_count": 77,
     "metadata": {},
     "output_type": "execute_result"
    }
   ],
   "source": [
    "actual_data"
   ]
  },
  {
   "cell_type": "code",
   "execution_count": 79,
   "metadata": {},
   "outputs": [
    {
     "data": {
      "text/plain": [
       "ps4     392\n",
       "psv     358\n",
       "ps3     345\n",
       "3ds     303\n",
       "xone    247\n",
       "pc      189\n",
       "x360    186\n",
       "wiiu    115\n",
       "psp      67\n",
       "wii      23\n",
       "ds        8\n",
       "Name: platform, dtype: int64"
      ]
     },
     "execution_count": 79,
     "metadata": {},
     "output_type": "execute_result"
    }
   ],
   "source": [
    "actual_data['platform'].value_counts()"
   ]
  },
  {
   "cell_type": "code",
   "execution_count": 80,
   "metadata": {},
   "outputs": [
    {
     "name": "stdout",
     "output_type": "stream",
     "text": [
      "p-value: 0.14012658403611647\n",
      "Можем не отвергать нулевую гипотезу\n"
     ]
    }
   ],
   "source": [
    "alpha = .05\n",
    "\n",
    "result_first = st.ttest_ind(actual_data[(actual_data['platform'] == 'xone') & (actual_data['user_score'] > 0)]['user_score'],\n",
    "                            actual_data[(actual_data['platform'] == 'pc') & (actual_data['user_score'] > 0)]['user_score'])\n",
    "\n",
    "print('p-value:', result_first.pvalue)\n",
    "\n",
    "\n",
    "if (result_first.pvalue < alpha):\n",
    "    print(\"Можем отвергнуть нулевую гипотезу\")\n",
    "else:\n",
    "    print(\"Можем не отвергать нулевую гипотезу\")"
   ]
  },
  {
   "cell_type": "markdown",
   "metadata": {},
   "source": [
    "**Вывод:** средние пользовательские рейтинги платформ Xbox One и PC различаются."
   ]
  },
  {
   "cell_type": "markdown",
   "metadata": {},
   "source": [
    "**Средние пользовательские рейтинги жанров Action (англ. «действие», экшен-игры) и Sports (англ. «спортивные соревнования») разные**"
   ]
  },
  {
   "cell_type": "markdown",
   "metadata": {},
   "source": [
    "Нулевая гипотеза всегда составляется исходя из равенства, следовательно, звучать она будет так: \"Средние пользовательские рейтинги жанров Action и Sports одинаковые\". Альтернативная гипотеза: \"Средние пользовательские рейтинги жанров Action и Sports разные\"."
   ]
  },
  {
   "cell_type": "code",
   "execution_count": 82,
   "metadata": {},
   "outputs": [
    {
     "name": "stdout",
     "output_type": "stream",
     "text": [
      "6.837532133676092\n",
      "5.238124999999999\n"
     ]
    }
   ],
   "source": [
    "genre_action = actual_data[(actual_data['genre']=='action') & (actual_data['user_score'] > 0)]['user_score']\n",
    "genre_sports = actual_data[(actual_data['genre']=='sports') & (actual_data['user_score'] > 0)]['user_score']\n",
    "print(genre_action.mean())\n",
    "print(genre_sports.mean())"
   ]
  },
  {
   "cell_type": "code",
   "execution_count": 83,
   "metadata": {},
   "outputs": [
    {
     "name": "stdout",
     "output_type": "stream",
     "text": [
      "p-value: 1.4460039700704315e-20\n",
      "Можем отвергнуть нулевую гипотезу\n"
     ]
    }
   ],
   "source": [
    "alpha = .05\n",
    "\n",
    "results = st.ttest_ind(genre_action,\n",
    "                       genre_sports,\n",
    "                       equal_var=False)\n",
    "\n",
    "print('p-value:', results.pvalue)\n",
    "\n",
    "\n",
    "if (results.pvalue < alpha):\n",
    "    print(\"Можем отвергнуть нулевую гипотезу\")\n",
    "else:\n",
    "    print(\"Можем не отвергать нулевую гипотезу\")"
   ]
  },
  {
   "cell_type": "markdown",
   "metadata": {},
   "source": [
    "**Вывод:** средние пользовательские рейтинги жанров Action и Sports одинаоквые, о чём нам и говорит окно предупреждения."
   ]
  },
  {
   "cell_type": "markdown",
   "metadata": {},
   "source": [
    "**Общий вывод по разделу:**\n",
    "Были сформулированы две гипотезы:\n",
    "1) Нулевая: Средние пользовательские рейтинги платформ Xbox One и PC одинаковые;\n",
    "   Альтернативная: Средние пользовательские рейтинги платформ Xbox One и PC разные.\n",
    "   Тест показал, что нулевая гипотеза не подтвердилась, был выбран критерий Стьюдента - проверка равенств средних значений в      двух выборках.\n",
    "\n",
    "2) Нулевая: Средние пользовательские рейтинги жанров Action и Sports одинаковые;\n",
    "   Альтернативная: Средние пользовательские рейтинги жанров Action и Sports разные.\n",
    "   Тест показал, что нулевая гипотеза не подтвердилась, был выбран критерий Стьюдента = проверка равенств средних значений в      двух выборках."
   ]
  },
  {
   "cell_type": "markdown",
   "metadata": {},
   "source": [
    "### Вывод"
   ]
  },
  {
   "cell_type": "markdown",
   "metadata": {},
   "source": [
    "Исходя из проведённого анализа, мы пришли к выводу, что самые перспективные плтаформы: xone, wiiu, pc. Также можно сделать вывод, что оценка критиков играет большую роль в продажах, нежели оценка пользователей. Самые популярные жанры в европейском регионе: action, sports, misc, racing, shooter. Самые популярные жанры в японском регионе: action, adventure, role-playing, misc, fighting.\n",
    "Самые популярные жанры в североамериканском регионе: action, sports, racing, misc, shooter.\n",
    "\n",
    "Также мы выяснили, что самые популярные платформы в европейском регионе: ds, wii, x360, ps2, xb. Самые популярные платформы в японском регионе: psp, ds, ps2, psv, ps3. Самые популярные платформы в североамериканском регионе: ps2, ps, pc, x360, ps3.\n",
    "\n",
    "Далее мы провели t-test'ы и выяснили, что рейтинг влияет на продажи и:\n",
    "1) Средние пользовательские рейтинги платформ Xbox One и PC разные;  \n",
    "2) Средние пользовательские рейтинги жанров Action и Sports разные.\n",
    "\n",
    "Таким образом, можно сделать вывод, если игра выходит на Xbox One, PS4, PS4 PRO и PC в жанре action, то она имеет больше перспектив на успешную продажу."
   ]
  }
 ],
 "metadata": {
  "ExecuteTimeLog": [
   {
    "duration": 470,
    "start_time": "2022-10-26T23:04:28.352Z"
   },
   {
    "duration": 770,
    "start_time": "2022-10-26T23:05:44.195Z"
   },
   {
    "duration": 1614,
    "start_time": "2022-10-30T13:23:47.915Z"
   },
   {
    "duration": 199,
    "start_time": "2022-10-30T13:24:14.774Z"
   },
   {
    "duration": 24,
    "start_time": "2022-10-30T13:24:20.764Z"
   },
   {
    "duration": 5,
    "start_time": "2022-10-30T13:24:52.052Z"
   },
   {
    "duration": 5,
    "start_time": "2022-10-30T13:26:59.380Z"
   },
   {
    "duration": 5,
    "start_time": "2022-10-30T13:27:08.022Z"
   },
   {
    "duration": 5,
    "start_time": "2022-10-30T13:27:24.792Z"
   },
   {
    "duration": 19,
    "start_time": "2022-10-30T13:27:52.147Z"
   },
   {
    "duration": 5,
    "start_time": "2022-10-30T13:29:12.473Z"
   },
   {
    "duration": 15,
    "start_time": "2022-10-30T13:29:40.546Z"
   },
   {
    "duration": 5,
    "start_time": "2022-10-30T13:29:58.029Z"
   },
   {
    "duration": 4,
    "start_time": "2022-10-30T13:30:30.012Z"
   },
   {
    "duration": 15,
    "start_time": "2022-10-30T13:30:31.573Z"
   },
   {
    "duration": 7,
    "start_time": "2022-10-30T13:30:43.335Z"
   },
   {
    "duration": 115,
    "start_time": "2022-10-30T13:33:02.132Z"
   },
   {
    "duration": 4,
    "start_time": "2022-10-30T13:33:20.590Z"
   },
   {
    "duration": 8,
    "start_time": "2022-10-30T13:33:28.427Z"
   },
   {
    "duration": 15,
    "start_time": "2022-10-30T13:33:37.025Z"
   },
   {
    "duration": 5,
    "start_time": "2022-10-30T13:36:22.989Z"
   },
   {
    "duration": 1383,
    "start_time": "2022-10-31T13:52:27.756Z"
   },
   {
    "duration": 405,
    "start_time": "2022-10-31T13:52:30.667Z"
   },
   {
    "duration": 24,
    "start_time": "2022-10-31T13:52:31.074Z"
   },
   {
    "duration": 3,
    "start_time": "2022-10-31T13:53:40.309Z"
   },
   {
    "duration": 29,
    "start_time": "2022-10-31T13:54:17.293Z"
   },
   {
    "duration": 14,
    "start_time": "2022-10-31T13:54:25.342Z"
   },
   {
    "duration": 45,
    "start_time": "2022-10-31T13:55:44.832Z"
   },
   {
    "duration": 3,
    "start_time": "2022-10-31T13:57:44.764Z"
   },
   {
    "duration": 94,
    "start_time": "2022-10-31T13:57:55.416Z"
   },
   {
    "duration": 3,
    "start_time": "2022-10-31T13:58:05.870Z"
   },
   {
    "duration": 3,
    "start_time": "2022-10-31T13:58:07.157Z"
   },
   {
    "duration": 2,
    "start_time": "2022-10-31T13:58:25.654Z"
   },
   {
    "duration": 5,
    "start_time": "2022-10-31T13:58:26.507Z"
   },
   {
    "duration": 1273,
    "start_time": "2022-10-31T13:58:54.364Z"
   },
   {
    "duration": 21,
    "start_time": "2022-10-31T13:59:03.560Z"
   },
   {
    "duration": 10,
    "start_time": "2022-10-31T13:59:19.885Z"
   },
   {
    "duration": 4,
    "start_time": "2022-10-31T13:59:24.067Z"
   },
   {
    "duration": 1414,
    "start_time": "2022-11-01T17:19:01.241Z"
   },
   {
    "duration": 105,
    "start_time": "2022-11-01T17:19:02.657Z"
   },
   {
    "duration": 32,
    "start_time": "2022-11-01T17:19:02.764Z"
   },
   {
    "duration": 3,
    "start_time": "2022-11-01T17:19:02.798Z"
   },
   {
    "duration": 38,
    "start_time": "2022-11-01T17:19:02.803Z"
   },
   {
    "duration": 4,
    "start_time": "2022-11-01T17:19:02.843Z"
   },
   {
    "duration": 7,
    "start_time": "2022-11-01T17:19:47.397Z"
   },
   {
    "duration": 7,
    "start_time": "2022-11-01T17:20:08.495Z"
   },
   {
    "duration": 7,
    "start_time": "2022-11-01T17:26:12.717Z"
   },
   {
    "duration": 8,
    "start_time": "2022-11-01T17:33:38.357Z"
   },
   {
    "duration": 16,
    "start_time": "2022-11-01T17:37:58.477Z"
   },
   {
    "duration": 14,
    "start_time": "2022-11-01T17:41:34.037Z"
   },
   {
    "duration": 11,
    "start_time": "2022-11-01T17:42:18.277Z"
   },
   {
    "duration": 30,
    "start_time": "2022-11-01T17:42:40.317Z"
   },
   {
    "duration": 20,
    "start_time": "2022-11-01T17:42:49.117Z"
   },
   {
    "duration": 16,
    "start_time": "2022-11-01T17:42:57.646Z"
   },
   {
    "duration": 21,
    "start_time": "2022-11-01T17:43:10.917Z"
   },
   {
    "duration": 15,
    "start_time": "2022-11-01T17:43:35.597Z"
   },
   {
    "duration": 21,
    "start_time": "2022-11-01T17:43:44.661Z"
   },
   {
    "duration": 19,
    "start_time": "2022-11-01T17:43:48.197Z"
   },
   {
    "duration": 8,
    "start_time": "2022-11-01T17:46:13.597Z"
   },
   {
    "duration": 102,
    "start_time": "2022-11-01T17:46:25.117Z"
   },
   {
    "duration": 17,
    "start_time": "2022-11-01T17:46:31.260Z"
   },
   {
    "duration": 12,
    "start_time": "2022-11-01T17:48:02.845Z"
   },
   {
    "duration": 18,
    "start_time": "2022-11-01T17:48:27.196Z"
   },
   {
    "duration": 6,
    "start_time": "2022-11-01T17:54:15.917Z"
   },
   {
    "duration": 22,
    "start_time": "2022-11-01T17:54:56.477Z"
   },
   {
    "duration": 14,
    "start_time": "2022-11-01T17:55:26.997Z"
   },
   {
    "duration": 4550,
    "start_time": "2022-11-01T17:56:19.772Z"
   },
   {
    "duration": 39,
    "start_time": "2022-11-01T17:56:39.779Z"
   },
   {
    "duration": 12,
    "start_time": "2022-11-01T17:58:30.931Z"
   },
   {
    "duration": 150,
    "start_time": "2022-11-01T17:58:51.033Z"
   },
   {
    "duration": 126,
    "start_time": "2022-11-01T18:00:19.697Z"
   },
   {
    "duration": 125,
    "start_time": "2022-11-01T18:01:38.397Z"
   },
   {
    "duration": 4,
    "start_time": "2022-11-01T18:01:42.107Z"
   },
   {
    "duration": 119,
    "start_time": "2022-11-01T18:02:49.437Z"
   },
   {
    "duration": 19,
    "start_time": "2022-11-01T18:03:29.037Z"
   },
   {
    "duration": 2943,
    "start_time": "2022-11-01T18:03:58.758Z"
   },
   {
    "duration": 123,
    "start_time": "2022-11-01T18:04:09.917Z"
   },
   {
    "duration": 115,
    "start_time": "2022-11-01T18:04:19.677Z"
   },
   {
    "duration": 108,
    "start_time": "2022-11-01T18:06:38.037Z"
   },
   {
    "duration": 126,
    "start_time": "2022-11-01T18:07:50.917Z"
   },
   {
    "duration": 100,
    "start_time": "2022-11-01T18:07:55.922Z"
   },
   {
    "duration": 112,
    "start_time": "2022-11-01T18:08:07.837Z"
   },
   {
    "duration": 95,
    "start_time": "2022-11-01T18:08:19.357Z"
   },
   {
    "duration": 116,
    "start_time": "2022-11-01T18:08:30.155Z"
   },
   {
    "duration": 111,
    "start_time": "2022-11-01T18:08:37.065Z"
   },
   {
    "duration": 129,
    "start_time": "2022-11-01T18:08:43.677Z"
   },
   {
    "duration": 100,
    "start_time": "2022-11-01T18:08:48.313Z"
   },
   {
    "duration": 113,
    "start_time": "2022-11-01T18:08:54.757Z"
   },
   {
    "duration": 106,
    "start_time": "2022-11-01T18:08:58.357Z"
   },
   {
    "duration": 7,
    "start_time": "2022-11-01T18:46:00.784Z"
   },
   {
    "duration": 325,
    "start_time": "2022-11-01T18:47:41.737Z"
   },
   {
    "duration": 11,
    "start_time": "2022-11-01T18:47:49.797Z"
   },
   {
    "duration": 344,
    "start_time": "2022-11-01T18:47:58.285Z"
   },
   {
    "duration": 274,
    "start_time": "2022-11-01T18:54:24.277Z"
   },
   {
    "duration": 271,
    "start_time": "2022-11-01T18:54:31.848Z"
   },
   {
    "duration": 331,
    "start_time": "2022-11-01T18:54:38.598Z"
   },
   {
    "duration": 8,
    "start_time": "2022-11-01T19:29:13.640Z"
   },
   {
    "duration": 12,
    "start_time": "2022-11-01T19:30:40.000Z"
   },
   {
    "duration": 6,
    "start_time": "2022-11-01T19:30:55.441Z"
   },
   {
    "duration": 20,
    "start_time": "2022-11-01T19:31:02.921Z"
   },
   {
    "duration": 142,
    "start_time": "2022-11-01T19:33:52.121Z"
   },
   {
    "duration": 109,
    "start_time": "2022-11-01T19:34:02.680Z"
   },
   {
    "duration": 111,
    "start_time": "2022-11-01T19:34:06.489Z"
   },
   {
    "duration": 345,
    "start_time": "2022-11-01T19:34:21.200Z"
   },
   {
    "duration": 726,
    "start_time": "2022-11-01T19:41:31.760Z"
   },
   {
    "duration": 1295,
    "start_time": "2022-11-01T21:03:55.173Z"
   },
   {
    "duration": 104,
    "start_time": "2022-11-01T21:03:56.469Z"
   },
   {
    "duration": 22,
    "start_time": "2022-11-01T21:03:56.575Z"
   },
   {
    "duration": 3,
    "start_time": "2022-11-01T21:03:56.599Z"
   },
   {
    "duration": 32,
    "start_time": "2022-11-01T21:03:58.886Z"
   },
   {
    "duration": 9,
    "start_time": "2022-11-01T21:03:59.476Z"
   },
   {
    "duration": 9,
    "start_time": "2022-11-01T21:04:01.659Z"
   },
   {
    "duration": 16,
    "start_time": "2022-11-01T21:04:01.957Z"
   },
   {
    "duration": 14,
    "start_time": "2022-11-01T21:04:02.328Z"
   },
   {
    "duration": 28,
    "start_time": "2022-11-01T21:04:02.628Z"
   },
   {
    "duration": 7,
    "start_time": "2022-11-01T21:04:03.107Z"
   },
   {
    "duration": 17,
    "start_time": "2022-11-01T21:04:03.428Z"
   },
   {
    "duration": 17,
    "start_time": "2022-11-01T21:04:03.879Z"
   },
   {
    "duration": 19,
    "start_time": "2022-11-01T21:04:04.331Z"
   },
   {
    "duration": 17,
    "start_time": "2022-11-01T21:04:04.929Z"
   },
   {
    "duration": 5026,
    "start_time": "2022-11-01T21:04:05.440Z"
   },
   {
    "duration": 37,
    "start_time": "2022-11-01T21:04:10.468Z"
   },
   {
    "duration": 6,
    "start_time": "2022-11-01T21:04:10.507Z"
   },
   {
    "duration": 379,
    "start_time": "2022-11-01T21:04:10.516Z"
   },
   {
    "duration": 7,
    "start_time": "2022-11-01T21:04:10.896Z"
   },
   {
    "duration": 11,
    "start_time": "2022-11-01T21:04:10.905Z"
   },
   {
    "duration": 5,
    "start_time": "2022-11-01T21:04:10.917Z"
   },
   {
    "duration": 23,
    "start_time": "2022-11-01T21:04:10.939Z"
   },
   {
    "duration": 408,
    "start_time": "2022-11-01T21:04:11.048Z"
   },
   {
    "duration": 119,
    "start_time": "2022-11-01T21:35:50.288Z"
   },
   {
    "duration": 5,
    "start_time": "2022-11-01T21:36:36.058Z"
   },
   {
    "duration": 704,
    "start_time": "2022-11-01T21:36:54.649Z"
   },
   {
    "duration": 780,
    "start_time": "2022-11-01T21:37:07.976Z"
   },
   {
    "duration": 4,
    "start_time": "2022-11-01T21:37:17.888Z"
   },
   {
    "duration": 17,
    "start_time": "2022-11-01T21:38:11.197Z"
   },
   {
    "duration": 9,
    "start_time": "2022-11-01T21:39:48.117Z"
   },
   {
    "duration": 10,
    "start_time": "2022-11-01T21:39:58.368Z"
   },
   {
    "duration": 3,
    "start_time": "2022-11-01T21:40:24.517Z"
   },
   {
    "duration": 10,
    "start_time": "2022-11-01T21:40:44.712Z"
   },
   {
    "duration": 10,
    "start_time": "2022-11-01T21:40:45.185Z"
   },
   {
    "duration": 14,
    "start_time": "2022-11-01T21:40:54.037Z"
   },
   {
    "duration": 6,
    "start_time": "2022-11-01T21:41:03.667Z"
   },
   {
    "duration": 4,
    "start_time": "2022-11-01T21:42:25.599Z"
   },
   {
    "duration": 6,
    "start_time": "2022-11-01T21:50:05.517Z"
   },
   {
    "duration": 5,
    "start_time": "2022-11-01T21:50:20.176Z"
   },
   {
    "duration": 4,
    "start_time": "2022-11-01T21:50:57.087Z"
   },
   {
    "duration": 4,
    "start_time": "2022-11-01T21:53:44.596Z"
   },
   {
    "duration": 11,
    "start_time": "2022-11-01T21:54:09.307Z"
   },
   {
    "duration": 1158,
    "start_time": "2022-11-01T21:57:11.088Z"
   },
   {
    "duration": 55,
    "start_time": "2022-11-01T21:57:12.248Z"
   },
   {
    "duration": 20,
    "start_time": "2022-11-01T21:57:12.304Z"
   },
   {
    "duration": 7,
    "start_time": "2022-11-01T21:57:12.326Z"
   },
   {
    "duration": 28,
    "start_time": "2022-11-01T21:57:12.335Z"
   },
   {
    "duration": 7,
    "start_time": "2022-11-01T21:57:12.364Z"
   },
   {
    "duration": 11,
    "start_time": "2022-11-01T21:57:12.373Z"
   },
   {
    "duration": 16,
    "start_time": "2022-11-01T21:57:12.385Z"
   },
   {
    "duration": 9,
    "start_time": "2022-11-01T21:57:12.402Z"
   },
   {
    "duration": 33,
    "start_time": "2022-11-01T21:57:12.413Z"
   },
   {
    "duration": 10,
    "start_time": "2022-11-01T21:57:12.448Z"
   },
   {
    "duration": 15,
    "start_time": "2022-11-01T21:57:12.460Z"
   },
   {
    "duration": 17,
    "start_time": "2022-11-01T21:57:12.477Z"
   },
   {
    "duration": 5,
    "start_time": "2022-11-01T21:57:12.497Z"
   },
   {
    "duration": 47,
    "start_time": "2022-11-01T21:57:12.503Z"
   },
   {
    "duration": 4516,
    "start_time": "2022-11-01T21:57:12.552Z"
   },
   {
    "duration": 40,
    "start_time": "2022-11-01T21:57:17.069Z"
   },
   {
    "duration": 28,
    "start_time": "2022-11-01T21:57:17.111Z"
   },
   {
    "duration": 417,
    "start_time": "2022-11-01T21:57:17.142Z"
   },
   {
    "duration": 10,
    "start_time": "2022-11-01T21:57:17.562Z"
   },
   {
    "duration": 16,
    "start_time": "2022-11-01T21:57:17.574Z"
   },
   {
    "duration": 5,
    "start_time": "2022-11-01T21:57:17.592Z"
   },
   {
    "duration": 16,
    "start_time": "2022-11-01T21:57:17.598Z"
   },
   {
    "duration": 460,
    "start_time": "2022-11-01T21:57:17.615Z"
   },
   {
    "duration": 130,
    "start_time": "2022-11-01T21:57:18.077Z"
   },
   {
    "duration": 4,
    "start_time": "2022-11-01T21:57:18.208Z"
   },
   {
    "duration": 42,
    "start_time": "2022-11-01T21:57:18.214Z"
   },
   {
    "duration": 26,
    "start_time": "2022-11-01T21:57:18.259Z"
   },
   {
    "duration": 3,
    "start_time": "2022-11-01T21:57:18.287Z"
   },
   {
    "duration": 10,
    "start_time": "2022-11-01T21:57:18.292Z"
   },
   {
    "duration": 5,
    "start_time": "2022-11-01T21:57:18.303Z"
   },
   {
    "duration": 12,
    "start_time": "2022-11-01T21:57:18.309Z"
   },
   {
    "duration": 364,
    "start_time": "2022-11-01T21:59:29.537Z"
   },
   {
    "duration": 11,
    "start_time": "2022-11-01T22:07:45.480Z"
   },
   {
    "duration": 116,
    "start_time": "2022-11-01T22:07:56.671Z"
   },
   {
    "duration": 317,
    "start_time": "2022-11-01T22:09:31.032Z"
   },
   {
    "duration": 8,
    "start_time": "2022-11-01T22:11:19.992Z"
   },
   {
    "duration": 9,
    "start_time": "2022-11-01T22:11:41.272Z"
   },
   {
    "duration": 8,
    "start_time": "2022-11-01T22:11:47.898Z"
   },
   {
    "duration": 232,
    "start_time": "2022-11-01T22:17:21.897Z"
   },
   {
    "duration": 234,
    "start_time": "2022-11-01T22:17:46.792Z"
   },
   {
    "duration": 241,
    "start_time": "2022-11-01T22:18:12.312Z"
   },
   {
    "duration": 14,
    "start_time": "2022-11-01T22:20:32.833Z"
   },
   {
    "duration": 10,
    "start_time": "2022-11-01T22:20:40.552Z"
   },
   {
    "duration": 6,
    "start_time": "2022-11-01T22:20:42.673Z"
   },
   {
    "duration": 10,
    "start_time": "2022-11-01T22:21:05.036Z"
   },
   {
    "duration": 6,
    "start_time": "2022-11-01T22:21:06.153Z"
   },
   {
    "duration": 5,
    "start_time": "2022-11-01T22:21:21.438Z"
   },
   {
    "duration": 5,
    "start_time": "2022-11-01T22:21:23.152Z"
   },
   {
    "duration": 10,
    "start_time": "2022-11-01T22:37:46.716Z"
   },
   {
    "duration": 3,
    "start_time": "2022-11-01T22:37:54.657Z"
   },
   {
    "duration": 5,
    "start_time": "2022-11-01T22:38:06.951Z"
   },
   {
    "duration": 119,
    "start_time": "2022-11-01T22:40:42.031Z"
   },
   {
    "duration": 28,
    "start_time": "2022-11-01T22:40:57.272Z"
   },
   {
    "duration": 25,
    "start_time": "2022-11-01T22:41:04.311Z"
   },
   {
    "duration": 29,
    "start_time": "2022-11-01T22:41:17.279Z"
   },
   {
    "duration": 23,
    "start_time": "2022-11-01T22:41:48.791Z"
   },
   {
    "duration": 23,
    "start_time": "2022-11-01T22:41:54.481Z"
   },
   {
    "duration": 20,
    "start_time": "2022-11-01T22:42:07.031Z"
   },
   {
    "duration": 25,
    "start_time": "2022-11-01T22:44:49.431Z"
   },
   {
    "duration": 21,
    "start_time": "2022-11-01T22:44:59.432Z"
   },
   {
    "duration": 1361,
    "start_time": "2022-11-02T17:11:55.895Z"
   },
   {
    "duration": 180,
    "start_time": "2022-11-02T17:11:57.258Z"
   },
   {
    "duration": 21,
    "start_time": "2022-11-02T17:11:57.440Z"
   },
   {
    "duration": 2,
    "start_time": "2022-11-02T17:11:57.463Z"
   },
   {
    "duration": 21,
    "start_time": "2022-11-02T17:11:57.467Z"
   },
   {
    "duration": 7,
    "start_time": "2022-11-02T17:11:57.489Z"
   },
   {
    "duration": 8,
    "start_time": "2022-11-02T17:11:57.497Z"
   },
   {
    "duration": 13,
    "start_time": "2022-11-02T17:11:57.507Z"
   },
   {
    "duration": 7,
    "start_time": "2022-11-02T17:11:57.522Z"
   },
   {
    "duration": 16,
    "start_time": "2022-11-02T17:11:57.530Z"
   },
   {
    "duration": 9,
    "start_time": "2022-11-02T17:11:57.547Z"
   },
   {
    "duration": 47,
    "start_time": "2022-11-02T17:11:57.558Z"
   },
   {
    "duration": 16,
    "start_time": "2022-11-02T17:11:57.607Z"
   },
   {
    "duration": 5,
    "start_time": "2022-11-02T17:11:57.625Z"
   },
   {
    "duration": 16,
    "start_time": "2022-11-02T17:11:57.632Z"
   },
   {
    "duration": 4466,
    "start_time": "2022-11-02T17:11:57.650Z"
   },
   {
    "duration": 36,
    "start_time": "2022-11-02T17:12:02.118Z"
   },
   {
    "duration": 6,
    "start_time": "2022-11-02T17:12:02.156Z"
   },
   {
    "duration": 336,
    "start_time": "2022-11-02T17:12:02.163Z"
   },
   {
    "duration": 7,
    "start_time": "2022-11-02T17:12:02.501Z"
   },
   {
    "duration": 12,
    "start_time": "2022-11-02T17:12:02.509Z"
   },
   {
    "duration": 5,
    "start_time": "2022-11-02T17:12:02.522Z"
   },
   {
    "duration": 16,
    "start_time": "2022-11-02T17:12:02.528Z"
   },
   {
    "duration": 383,
    "start_time": "2022-11-02T17:12:02.545Z"
   },
   {
    "duration": 119,
    "start_time": "2022-11-02T17:12:02.930Z"
   },
   {
    "duration": 5,
    "start_time": "2022-11-02T17:12:03.050Z"
   },
   {
    "duration": 18,
    "start_time": "2022-11-02T17:12:03.056Z"
   },
   {
    "duration": 17,
    "start_time": "2022-11-02T17:12:03.075Z"
   },
   {
    "duration": 6,
    "start_time": "2022-11-02T17:12:03.094Z"
   },
   {
    "duration": 13,
    "start_time": "2022-11-02T17:12:03.102Z"
   },
   {
    "duration": 5,
    "start_time": "2022-11-02T17:12:03.117Z"
   },
   {
    "duration": 14,
    "start_time": "2022-11-02T17:12:03.123Z"
   },
   {
    "duration": 364,
    "start_time": "2022-11-02T17:12:03.139Z"
   },
   {
    "duration": 260,
    "start_time": "2022-11-02T17:12:03.505Z"
   },
   {
    "duration": 10,
    "start_time": "2022-11-02T17:12:03.766Z"
   },
   {
    "duration": 17,
    "start_time": "2022-11-02T17:12:03.778Z"
   },
   {
    "duration": 345,
    "start_time": "2022-11-02T17:12:03.797Z"
   },
   {
    "duration": 10,
    "start_time": "2022-11-02T17:12:04.143Z"
   },
   {
    "duration": 6,
    "start_time": "2022-11-02T17:12:04.155Z"
   },
   {
    "duration": 5,
    "start_time": "2022-11-02T17:12:04.162Z"
   },
   {
    "duration": 27,
    "start_time": "2022-11-02T17:12:04.170Z"
   },
   {
    "duration": 3,
    "start_time": "2022-11-02T17:12:04.199Z"
   },
   {
    "duration": 6,
    "start_time": "2022-11-02T17:12:04.203Z"
   },
   {
    "duration": 22,
    "start_time": "2022-11-02T17:12:04.211Z"
   },
   {
    "duration": 24,
    "start_time": "2022-11-02T17:12:17.948Z"
   },
   {
    "duration": 23,
    "start_time": "2022-11-02T17:12:28.895Z"
   },
   {
    "duration": 22,
    "start_time": "2022-11-02T17:12:33.334Z"
   },
   {
    "duration": 23,
    "start_time": "2022-11-02T17:12:58.253Z"
   },
   {
    "duration": 23,
    "start_time": "2022-11-02T17:13:08.003Z"
   },
   {
    "duration": 22,
    "start_time": "2022-11-02T17:14:08.288Z"
   },
   {
    "duration": 24,
    "start_time": "2022-11-02T17:14:51.308Z"
   },
   {
    "duration": 22,
    "start_time": "2022-11-02T17:16:05.965Z"
   },
   {
    "duration": 26,
    "start_time": "2022-11-02T17:16:20.896Z"
   },
   {
    "duration": 13,
    "start_time": "2022-11-02T17:20:04.488Z"
   },
   {
    "duration": 3,
    "start_time": "2022-11-02T17:20:16.993Z"
   },
   {
    "duration": 6,
    "start_time": "2022-11-02T17:20:34.515Z"
   },
   {
    "duration": 72,
    "start_time": "2022-11-02T17:20:59.066Z"
   },
   {
    "duration": 4,
    "start_time": "2022-11-02T17:21:06.895Z"
   },
   {
    "duration": 3,
    "start_time": "2022-11-02T17:21:12.562Z"
   },
   {
    "duration": 4,
    "start_time": "2022-11-02T17:21:18.023Z"
   },
   {
    "duration": 10,
    "start_time": "2022-11-02T17:26:29.644Z"
   },
   {
    "duration": 9,
    "start_time": "2022-11-02T17:26:35.673Z"
   },
   {
    "duration": 4,
    "start_time": "2022-11-02T17:27:30.236Z"
   },
   {
    "duration": 6,
    "start_time": "2022-11-02T17:27:42.328Z"
   },
   {
    "duration": 4,
    "start_time": "2022-11-02T17:27:48.094Z"
   },
   {
    "duration": 5,
    "start_time": "2022-11-02T17:28:09.760Z"
   },
   {
    "duration": 5,
    "start_time": "2022-11-02T17:51:14.181Z"
   },
   {
    "duration": 6,
    "start_time": "2022-11-02T17:52:14.897Z"
   },
   {
    "duration": 21,
    "start_time": "2022-11-02T17:52:37.255Z"
   },
   {
    "duration": 11,
    "start_time": "2022-11-02T17:52:41.525Z"
   },
   {
    "duration": 6,
    "start_time": "2022-11-02T17:52:41.724Z"
   },
   {
    "duration": 5,
    "start_time": "2022-11-02T17:52:41.947Z"
   },
   {
    "duration": 10,
    "start_time": "2022-11-02T17:53:26.838Z"
   },
   {
    "duration": 11,
    "start_time": "2022-11-02T17:53:34.800Z"
   },
   {
    "duration": 9,
    "start_time": "2022-11-02T17:58:02.394Z"
   },
   {
    "duration": 9,
    "start_time": "2022-11-02T17:58:11.918Z"
   },
   {
    "duration": 8,
    "start_time": "2022-11-02T17:58:18.060Z"
   },
   {
    "duration": 4,
    "start_time": "2022-11-02T17:58:46.954Z"
   },
   {
    "duration": 3,
    "start_time": "2022-11-02T17:58:50.523Z"
   },
   {
    "duration": 9,
    "start_time": "2022-11-02T18:01:31.347Z"
   },
   {
    "duration": 1123,
    "start_time": "2022-11-02T18:01:47.269Z"
   },
   {
    "duration": 51,
    "start_time": "2022-11-02T18:01:48.394Z"
   },
   {
    "duration": 21,
    "start_time": "2022-11-02T18:01:48.447Z"
   },
   {
    "duration": 7,
    "start_time": "2022-11-02T18:01:48.470Z"
   },
   {
    "duration": 26,
    "start_time": "2022-11-02T18:01:48.480Z"
   },
   {
    "duration": 7,
    "start_time": "2022-11-02T18:01:48.507Z"
   },
   {
    "duration": 14,
    "start_time": "2022-11-02T18:01:48.516Z"
   },
   {
    "duration": 18,
    "start_time": "2022-11-02T18:01:48.531Z"
   },
   {
    "duration": 7,
    "start_time": "2022-11-02T18:01:48.551Z"
   },
   {
    "duration": 54,
    "start_time": "2022-11-02T18:01:48.560Z"
   },
   {
    "duration": 6,
    "start_time": "2022-11-02T18:01:48.616Z"
   },
   {
    "duration": 18,
    "start_time": "2022-11-02T18:01:48.623Z"
   },
   {
    "duration": 16,
    "start_time": "2022-11-02T18:01:48.643Z"
   },
   {
    "duration": 5,
    "start_time": "2022-11-02T18:01:48.662Z"
   },
   {
    "duration": 14,
    "start_time": "2022-11-02T18:01:48.690Z"
   },
   {
    "duration": 4478,
    "start_time": "2022-11-02T18:01:48.706Z"
   },
   {
    "duration": 41,
    "start_time": "2022-11-02T18:01:53.186Z"
   },
   {
    "duration": 7,
    "start_time": "2022-11-02T18:01:53.229Z"
   },
   {
    "duration": 320,
    "start_time": "2022-11-02T18:01:53.237Z"
   },
   {
    "duration": 7,
    "start_time": "2022-11-02T18:01:53.559Z"
   },
   {
    "duration": 12,
    "start_time": "2022-11-02T18:01:53.567Z"
   },
   {
    "duration": 5,
    "start_time": "2022-11-02T18:01:53.590Z"
   },
   {
    "duration": 16,
    "start_time": "2022-11-02T18:01:53.596Z"
   },
   {
    "duration": 367,
    "start_time": "2022-11-02T18:01:53.613Z"
   },
   {
    "duration": 107,
    "start_time": "2022-11-02T18:01:53.981Z"
   },
   {
    "duration": 4,
    "start_time": "2022-11-02T18:01:54.089Z"
   },
   {
    "duration": 19,
    "start_time": "2022-11-02T18:01:54.094Z"
   },
   {
    "duration": 16,
    "start_time": "2022-11-02T18:01:54.115Z"
   },
   {
    "duration": 2,
    "start_time": "2022-11-02T18:01:54.133Z"
   },
   {
    "duration": 6,
    "start_time": "2022-11-02T18:01:54.137Z"
   },
   {
    "duration": 6,
    "start_time": "2022-11-02T18:01:54.145Z"
   },
   {
    "duration": 12,
    "start_time": "2022-11-02T18:01:54.152Z"
   },
   {
    "duration": 381,
    "start_time": "2022-11-02T18:01:54.165Z"
   },
   {
    "duration": 249,
    "start_time": "2022-11-02T18:01:54.548Z"
   },
   {
    "duration": 9,
    "start_time": "2022-11-02T18:01:54.799Z"
   },
   {
    "duration": 12,
    "start_time": "2022-11-02T18:01:54.809Z"
   },
   {
    "duration": 317,
    "start_time": "2022-11-02T18:01:54.822Z"
   },
   {
    "duration": 11,
    "start_time": "2022-11-02T18:01:55.140Z"
   },
   {
    "duration": 18,
    "start_time": "2022-11-02T18:01:55.152Z"
   },
   {
    "duration": 17,
    "start_time": "2022-11-02T18:01:55.171Z"
   },
   {
    "duration": 12,
    "start_time": "2022-11-02T18:01:55.191Z"
   },
   {
    "duration": 5,
    "start_time": "2022-11-02T18:01:55.204Z"
   },
   {
    "duration": 11,
    "start_time": "2022-11-02T18:01:55.210Z"
   },
   {
    "duration": 22,
    "start_time": "2022-11-02T18:01:55.223Z"
   },
   {
    "duration": 10,
    "start_time": "2022-11-02T18:01:55.246Z"
   },
   {
    "duration": 21,
    "start_time": "2022-11-02T18:01:55.257Z"
   },
   {
    "duration": 18,
    "start_time": "2022-11-02T18:01:55.280Z"
   },
   {
    "duration": 11,
    "start_time": "2022-11-02T18:01:55.299Z"
   },
   {
    "duration": 10,
    "start_time": "2022-11-02T18:01:55.312Z"
   },
   {
    "duration": 51,
    "start_time": "2022-11-02T18:01:55.323Z"
   },
   {
    "duration": 10,
    "start_time": "2022-11-02T18:03:48.206Z"
   },
   {
    "duration": 9,
    "start_time": "2022-11-02T18:03:56.192Z"
   },
   {
    "duration": 20,
    "start_time": "2022-11-02T18:09:17.217Z"
   },
   {
    "duration": 560,
    "start_time": "2022-11-02T18:11:13.793Z"
   },
   {
    "duration": 4,
    "start_time": "2022-11-02T18:11:25.723Z"
   },
   {
    "duration": 16,
    "start_time": "2022-11-02T18:11:28.230Z"
   },
   {
    "duration": 10,
    "start_time": "2022-11-02T18:11:31.418Z"
   },
   {
    "duration": 1122,
    "start_time": "2022-11-02T18:11:45.487Z"
   },
   {
    "duration": 61,
    "start_time": "2022-11-02T18:11:46.612Z"
   },
   {
    "duration": 31,
    "start_time": "2022-11-02T18:11:46.675Z"
   },
   {
    "duration": 9,
    "start_time": "2022-11-02T18:11:46.708Z"
   },
   {
    "duration": 177,
    "start_time": "2022-11-02T18:11:46.720Z"
   },
   {
    "duration": 9,
    "start_time": "2022-11-02T18:11:46.899Z"
   },
   {
    "duration": 11,
    "start_time": "2022-11-02T18:11:46.909Z"
   },
   {
    "duration": 19,
    "start_time": "2022-11-02T18:11:46.921Z"
   },
   {
    "duration": 7,
    "start_time": "2022-11-02T18:11:46.942Z"
   },
   {
    "duration": 41,
    "start_time": "2022-11-02T18:11:46.951Z"
   },
   {
    "duration": 7,
    "start_time": "2022-11-02T18:11:46.993Z"
   },
   {
    "duration": 17,
    "start_time": "2022-11-02T18:11:47.002Z"
   },
   {
    "duration": 16,
    "start_time": "2022-11-02T18:11:47.021Z"
   },
   {
    "duration": 5,
    "start_time": "2022-11-02T18:11:47.040Z"
   },
   {
    "duration": 50,
    "start_time": "2022-11-02T18:11:47.047Z"
   },
   {
    "duration": 4533,
    "start_time": "2022-11-02T18:11:47.099Z"
   },
   {
    "duration": 37,
    "start_time": "2022-11-02T18:11:51.633Z"
   },
   {
    "duration": 19,
    "start_time": "2022-11-02T18:11:51.672Z"
   },
   {
    "duration": 329,
    "start_time": "2022-11-02T18:11:51.692Z"
   },
   {
    "duration": 8,
    "start_time": "2022-11-02T18:11:52.022Z"
   },
   {
    "duration": 27,
    "start_time": "2022-11-02T18:11:52.031Z"
   },
   {
    "duration": 23,
    "start_time": "2022-11-02T18:11:52.059Z"
   },
   {
    "duration": 21,
    "start_time": "2022-11-02T18:11:52.084Z"
   },
   {
    "duration": 378,
    "start_time": "2022-11-02T18:11:52.106Z"
   },
   {
    "duration": 112,
    "start_time": "2022-11-02T18:11:52.486Z"
   },
   {
    "duration": 25,
    "start_time": "2022-11-02T18:11:52.600Z"
   },
   {
    "duration": 27,
    "start_time": "2022-11-02T18:11:52.627Z"
   },
   {
    "duration": 36,
    "start_time": "2022-11-02T18:11:52.656Z"
   },
   {
    "duration": 29,
    "start_time": "2022-11-02T18:11:52.694Z"
   },
   {
    "duration": 21,
    "start_time": "2022-11-02T18:11:52.724Z"
   },
   {
    "duration": 17,
    "start_time": "2022-11-02T18:11:52.747Z"
   },
   {
    "duration": 26,
    "start_time": "2022-11-02T18:11:52.766Z"
   },
   {
    "duration": 19,
    "start_time": "2022-11-02T18:11:52.794Z"
   },
   {
    "duration": 385,
    "start_time": "2022-11-02T18:11:52.815Z"
   },
   {
    "duration": 284,
    "start_time": "2022-11-02T18:11:53.201Z"
   },
   {
    "duration": 14,
    "start_time": "2022-11-02T18:11:53.486Z"
   },
   {
    "duration": 37,
    "start_time": "2022-11-02T18:11:53.502Z"
   },
   {
    "duration": 346,
    "start_time": "2022-11-02T18:11:53.541Z"
   },
   {
    "duration": 12,
    "start_time": "2022-11-02T18:11:53.889Z"
   },
   {
    "duration": 31,
    "start_time": "2022-11-02T18:11:53.903Z"
   },
   {
    "duration": 27,
    "start_time": "2022-11-02T18:11:53.938Z"
   },
   {
    "duration": 30,
    "start_time": "2022-11-02T18:11:53.967Z"
   },
   {
    "duration": 17,
    "start_time": "2022-11-02T18:11:53.999Z"
   },
   {
    "duration": 20,
    "start_time": "2022-11-02T18:11:54.018Z"
   },
   {
    "duration": 42,
    "start_time": "2022-11-02T18:11:54.040Z"
   },
   {
    "duration": 44,
    "start_time": "2022-11-02T18:11:54.084Z"
   },
   {
    "duration": 29,
    "start_time": "2022-11-02T18:11:54.130Z"
   },
   {
    "duration": 23,
    "start_time": "2022-11-02T18:11:54.160Z"
   },
   {
    "duration": 27,
    "start_time": "2022-11-02T18:11:54.185Z"
   },
   {
    "duration": 37,
    "start_time": "2022-11-02T18:11:54.214Z"
   },
   {
    "duration": 21,
    "start_time": "2022-11-02T18:11:54.252Z"
   },
   {
    "duration": 21,
    "start_time": "2022-11-02T18:12:09.519Z"
   },
   {
    "duration": 226,
    "start_time": "2022-11-02T18:13:55.771Z"
   },
   {
    "duration": 210,
    "start_time": "2022-11-02T18:14:03.416Z"
   },
   {
    "duration": 1165,
    "start_time": "2022-11-02T18:14:27.581Z"
   },
   {
    "duration": 51,
    "start_time": "2022-11-02T18:14:28.749Z"
   },
   {
    "duration": 23,
    "start_time": "2022-11-02T18:14:28.801Z"
   },
   {
    "duration": 3,
    "start_time": "2022-11-02T18:14:28.826Z"
   },
   {
    "duration": 24,
    "start_time": "2022-11-02T18:14:28.831Z"
   },
   {
    "duration": 8,
    "start_time": "2022-11-02T18:14:28.857Z"
   },
   {
    "duration": 7,
    "start_time": "2022-11-02T18:14:28.892Z"
   },
   {
    "duration": 17,
    "start_time": "2022-11-02T18:14:28.901Z"
   },
   {
    "duration": 9,
    "start_time": "2022-11-02T18:14:28.920Z"
   },
   {
    "duration": 23,
    "start_time": "2022-11-02T18:14:28.931Z"
   },
   {
    "duration": 35,
    "start_time": "2022-11-02T18:14:28.956Z"
   },
   {
    "duration": 19,
    "start_time": "2022-11-02T18:14:28.993Z"
   },
   {
    "duration": 26,
    "start_time": "2022-11-02T18:14:29.013Z"
   },
   {
    "duration": 5,
    "start_time": "2022-11-02T18:14:29.043Z"
   },
   {
    "duration": 19,
    "start_time": "2022-11-02T18:14:29.049Z"
   },
   {
    "duration": 4577,
    "start_time": "2022-11-02T18:14:29.070Z"
   },
   {
    "duration": 44,
    "start_time": "2022-11-02T18:14:33.648Z"
   },
   {
    "duration": 7,
    "start_time": "2022-11-02T18:14:33.694Z"
   },
   {
    "duration": 334,
    "start_time": "2022-11-02T18:14:33.703Z"
   },
   {
    "duration": 9,
    "start_time": "2022-11-02T18:14:34.039Z"
   },
   {
    "duration": 13,
    "start_time": "2022-11-02T18:14:34.050Z"
   },
   {
    "duration": 26,
    "start_time": "2022-11-02T18:14:34.065Z"
   },
   {
    "duration": 17,
    "start_time": "2022-11-02T18:14:34.093Z"
   },
   {
    "duration": 396,
    "start_time": "2022-11-02T18:14:34.112Z"
   },
   {
    "duration": 121,
    "start_time": "2022-11-02T18:14:34.510Z"
   },
   {
    "duration": 28,
    "start_time": "2022-11-02T18:14:34.633Z"
   },
   {
    "duration": 21,
    "start_time": "2022-11-02T18:14:34.663Z"
   },
   {
    "duration": 43,
    "start_time": "2022-11-02T18:14:34.685Z"
   },
   {
    "duration": 15,
    "start_time": "2022-11-02T18:14:34.729Z"
   },
   {
    "duration": 5,
    "start_time": "2022-11-02T18:14:34.745Z"
   },
   {
    "duration": 10,
    "start_time": "2022-11-02T18:14:34.752Z"
   },
   {
    "duration": 9,
    "start_time": "2022-11-02T18:14:34.764Z"
   },
   {
    "duration": 16,
    "start_time": "2022-11-02T18:14:34.775Z"
   },
   {
    "duration": 382,
    "start_time": "2022-11-02T18:14:34.793Z"
   },
   {
    "duration": 292,
    "start_time": "2022-11-02T18:14:35.176Z"
   },
   {
    "duration": 10,
    "start_time": "2022-11-02T18:14:35.470Z"
   },
   {
    "duration": 19,
    "start_time": "2022-11-02T18:14:35.482Z"
   },
   {
    "duration": 358,
    "start_time": "2022-11-02T18:14:35.502Z"
   },
   {
    "duration": 11,
    "start_time": "2022-11-02T18:14:35.862Z"
   },
   {
    "duration": 6,
    "start_time": "2022-11-02T18:14:35.890Z"
   },
   {
    "duration": 10,
    "start_time": "2022-11-02T18:14:35.900Z"
   },
   {
    "duration": 229,
    "start_time": "2022-11-02T18:14:35.912Z"
   },
   {
    "duration": 12,
    "start_time": "2022-11-02T18:14:36.143Z"
   },
   {
    "duration": 3,
    "start_time": "2022-11-02T18:14:36.158Z"
   },
   {
    "duration": 28,
    "start_time": "2022-11-02T18:14:36.163Z"
   },
   {
    "duration": 29,
    "start_time": "2022-11-02T18:14:36.194Z"
   },
   {
    "duration": 12,
    "start_time": "2022-11-02T18:14:36.225Z"
   },
   {
    "duration": 7,
    "start_time": "2022-11-02T18:14:36.239Z"
   },
   {
    "duration": 20,
    "start_time": "2022-11-02T18:14:36.248Z"
   },
   {
    "duration": 32,
    "start_time": "2022-11-02T18:14:36.270Z"
   },
   {
    "duration": 16,
    "start_time": "2022-11-02T18:14:36.304Z"
   },
   {
    "duration": 17,
    "start_time": "2022-11-02T18:14:36.322Z"
   },
   {
    "duration": 26,
    "start_time": "2022-11-02T18:14:36.341Z"
   },
   {
    "duration": 12,
    "start_time": "2022-11-02T18:17:14.406Z"
   },
   {
    "duration": 14,
    "start_time": "2022-11-02T18:20:09.374Z"
   },
   {
    "duration": 1108,
    "start_time": "2022-11-02T18:51:12.479Z"
   },
   {
    "duration": 50,
    "start_time": "2022-11-02T18:51:13.589Z"
   },
   {
    "duration": 20,
    "start_time": "2022-11-02T18:51:13.640Z"
   },
   {
    "duration": 3,
    "start_time": "2022-11-02T18:51:13.662Z"
   },
   {
    "duration": 42,
    "start_time": "2022-11-02T18:51:13.667Z"
   },
   {
    "duration": 7,
    "start_time": "2022-11-02T18:51:13.711Z"
   },
   {
    "duration": 27,
    "start_time": "2022-11-02T18:51:13.720Z"
   },
   {
    "duration": 41,
    "start_time": "2022-11-02T18:51:13.749Z"
   },
   {
    "duration": 11,
    "start_time": "2022-11-02T18:51:13.791Z"
   },
   {
    "duration": 42,
    "start_time": "2022-11-02T18:51:13.804Z"
   },
   {
    "duration": 8,
    "start_time": "2022-11-02T18:51:13.848Z"
   },
   {
    "duration": 43,
    "start_time": "2022-11-02T18:51:13.858Z"
   },
   {
    "duration": 22,
    "start_time": "2022-11-02T18:51:13.902Z"
   },
   {
    "duration": 5,
    "start_time": "2022-11-02T18:51:13.927Z"
   },
   {
    "duration": 28,
    "start_time": "2022-11-02T18:51:13.934Z"
   },
   {
    "duration": 4251,
    "start_time": "2022-11-02T18:51:13.964Z"
   },
   {
    "duration": 38,
    "start_time": "2022-11-02T18:51:18.216Z"
   },
   {
    "duration": 6,
    "start_time": "2022-11-02T18:51:18.255Z"
   },
   {
    "duration": 300,
    "start_time": "2022-11-02T18:51:18.263Z"
   },
   {
    "duration": 7,
    "start_time": "2022-11-02T18:51:18.565Z"
   },
   {
    "duration": 14,
    "start_time": "2022-11-02T18:51:18.573Z"
   },
   {
    "duration": 4,
    "start_time": "2022-11-02T18:51:18.589Z"
   },
   {
    "duration": 13,
    "start_time": "2022-11-02T18:51:18.604Z"
   },
   {
    "duration": 327,
    "start_time": "2022-11-02T18:51:18.619Z"
   },
   {
    "duration": 117,
    "start_time": "2022-11-02T18:51:18.948Z"
   },
   {
    "duration": 21,
    "start_time": "2022-11-02T18:51:19.067Z"
   },
   {
    "duration": 7,
    "start_time": "2022-11-02T18:51:19.089Z"
   },
   {
    "duration": 21,
    "start_time": "2022-11-02T18:51:19.104Z"
   },
   {
    "duration": 10,
    "start_time": "2022-11-02T18:51:19.127Z"
   },
   {
    "duration": 4,
    "start_time": "2022-11-02T18:51:19.139Z"
   },
   {
    "duration": 6,
    "start_time": "2022-11-02T18:51:19.144Z"
   },
   {
    "duration": 5,
    "start_time": "2022-11-02T18:51:19.152Z"
   },
   {
    "duration": 10,
    "start_time": "2022-11-02T18:51:19.159Z"
   },
   {
    "duration": 374,
    "start_time": "2022-11-02T18:51:19.171Z"
   },
   {
    "duration": 237,
    "start_time": "2022-11-02T18:51:19.547Z"
   },
   {
    "duration": 20,
    "start_time": "2022-11-02T18:51:19.785Z"
   },
   {
    "duration": 7,
    "start_time": "2022-11-02T18:51:19.807Z"
   },
   {
    "duration": 321,
    "start_time": "2022-11-02T18:51:19.816Z"
   },
   {
    "duration": 9,
    "start_time": "2022-11-02T18:51:20.139Z"
   },
   {
    "duration": 8,
    "start_time": "2022-11-02T18:51:20.150Z"
   },
   {
    "duration": 7,
    "start_time": "2022-11-02T18:51:20.162Z"
   },
   {
    "duration": 212,
    "start_time": "2022-11-02T18:51:20.171Z"
   },
   {
    "duration": 20,
    "start_time": "2022-11-02T18:51:20.385Z"
   },
   {
    "duration": 3,
    "start_time": "2022-11-02T18:51:20.407Z"
   },
   {
    "duration": 8,
    "start_time": "2022-11-02T18:51:20.411Z"
   },
   {
    "duration": 22,
    "start_time": "2022-11-02T18:51:20.420Z"
   },
   {
    "duration": 9,
    "start_time": "2022-11-02T18:51:20.444Z"
   },
   {
    "duration": 13,
    "start_time": "2022-11-02T18:51:20.455Z"
   },
   {
    "duration": 10,
    "start_time": "2022-11-02T18:51:20.470Z"
   },
   {
    "duration": 24,
    "start_time": "2022-11-02T18:51:20.482Z"
   },
   {
    "duration": 9,
    "start_time": "2022-11-02T18:51:20.508Z"
   },
   {
    "duration": 10,
    "start_time": "2022-11-02T18:51:20.519Z"
   },
   {
    "duration": 13,
    "start_time": "2022-11-02T18:51:20.531Z"
   },
   {
    "duration": 1048,
    "start_time": "2022-11-02T20:59:49.534Z"
   },
   {
    "duration": 51,
    "start_time": "2022-11-02T20:59:50.584Z"
   },
   {
    "duration": 24,
    "start_time": "2022-11-02T20:59:50.636Z"
   },
   {
    "duration": 2,
    "start_time": "2022-11-02T20:59:50.661Z"
   },
   {
    "duration": 42,
    "start_time": "2022-11-02T20:59:50.665Z"
   },
   {
    "duration": 10,
    "start_time": "2022-11-02T20:59:50.709Z"
   },
   {
    "duration": 13,
    "start_time": "2022-11-02T20:59:50.720Z"
   },
   {
    "duration": 18,
    "start_time": "2022-11-02T20:59:50.734Z"
   },
   {
    "duration": 7,
    "start_time": "2022-11-02T20:59:50.754Z"
   },
   {
    "duration": 15,
    "start_time": "2022-11-02T20:59:50.762Z"
   },
   {
    "duration": 26,
    "start_time": "2022-11-02T20:59:50.779Z"
   },
   {
    "duration": 15,
    "start_time": "2022-11-02T20:59:50.807Z"
   },
   {
    "duration": 15,
    "start_time": "2022-11-02T20:59:50.824Z"
   },
   {
    "duration": 4,
    "start_time": "2022-11-02T20:59:50.841Z"
   },
   {
    "duration": 18,
    "start_time": "2022-11-02T20:59:50.847Z"
   },
   {
    "duration": 4117,
    "start_time": "2022-11-02T20:59:50.867Z"
   },
   {
    "duration": 40,
    "start_time": "2022-11-02T20:59:54.986Z"
   },
   {
    "duration": 5,
    "start_time": "2022-11-02T20:59:55.027Z"
   },
   {
    "duration": 290,
    "start_time": "2022-11-02T20:59:55.034Z"
   },
   {
    "duration": 6,
    "start_time": "2022-11-02T20:59:55.326Z"
   },
   {
    "duration": 13,
    "start_time": "2022-11-02T20:59:55.333Z"
   },
   {
    "duration": 4,
    "start_time": "2022-11-02T20:59:55.347Z"
   },
   {
    "duration": 17,
    "start_time": "2022-11-02T20:59:55.353Z"
   },
   {
    "duration": 320,
    "start_time": "2022-11-02T20:59:55.371Z"
   },
   {
    "duration": 106,
    "start_time": "2022-11-02T20:59:55.692Z"
   },
   {
    "duration": 23,
    "start_time": "2022-11-02T20:59:55.799Z"
   },
   {
    "duration": 18,
    "start_time": "2022-11-02T20:59:55.823Z"
   },
   {
    "duration": 18,
    "start_time": "2022-11-02T20:59:55.842Z"
   },
   {
    "duration": 27,
    "start_time": "2022-11-02T20:59:55.861Z"
   },
   {
    "duration": 5,
    "start_time": "2022-11-02T20:59:55.889Z"
   },
   {
    "duration": 6,
    "start_time": "2022-11-02T20:59:55.895Z"
   },
   {
    "duration": 6,
    "start_time": "2022-11-02T20:59:55.902Z"
   },
   {
    "duration": 11,
    "start_time": "2022-11-02T20:59:55.909Z"
   },
   {
    "duration": 340,
    "start_time": "2022-11-02T20:59:55.922Z"
   },
   {
    "duration": 243,
    "start_time": "2022-11-02T20:59:56.264Z"
   },
   {
    "duration": 10,
    "start_time": "2022-11-02T20:59:56.508Z"
   },
   {
    "duration": 11,
    "start_time": "2022-11-02T20:59:56.520Z"
   },
   {
    "duration": 313,
    "start_time": "2022-11-02T20:59:56.532Z"
   },
   {
    "duration": 10,
    "start_time": "2022-11-02T20:59:56.846Z"
   },
   {
    "duration": 7,
    "start_time": "2022-11-02T20:59:56.857Z"
   },
   {
    "duration": 5,
    "start_time": "2022-11-02T20:59:56.868Z"
   },
   {
    "duration": 212,
    "start_time": "2022-11-02T20:59:56.874Z"
   },
   {
    "duration": 9,
    "start_time": "2022-11-02T20:59:57.087Z"
   },
   {
    "duration": 8,
    "start_time": "2022-11-02T20:59:57.097Z"
   },
   {
    "duration": 6,
    "start_time": "2022-11-02T20:59:57.106Z"
   },
   {
    "duration": 20,
    "start_time": "2022-11-02T20:59:57.113Z"
   },
   {
    "duration": 8,
    "start_time": "2022-11-02T20:59:57.135Z"
   },
   {
    "duration": 5,
    "start_time": "2022-11-02T20:59:57.144Z"
   },
   {
    "duration": 13,
    "start_time": "2022-11-02T20:59:57.150Z"
   },
   {
    "duration": 8,
    "start_time": "2022-11-02T20:59:57.165Z"
   },
   {
    "duration": 33,
    "start_time": "2022-11-02T20:59:57.174Z"
   },
   {
    "duration": 10,
    "start_time": "2022-11-02T20:59:57.208Z"
   },
   {
    "duration": 8,
    "start_time": "2022-11-02T20:59:57.220Z"
   },
   {
    "duration": 12,
    "start_time": "2022-11-02T21:05:23.432Z"
   },
   {
    "duration": 11,
    "start_time": "2022-11-02T21:05:51.278Z"
   },
   {
    "duration": 1119,
    "start_time": "2022-11-02T21:05:57.632Z"
   },
   {
    "duration": 50,
    "start_time": "2022-11-02T21:05:58.753Z"
   },
   {
    "duration": 20,
    "start_time": "2022-11-02T21:05:58.805Z"
   },
   {
    "duration": 3,
    "start_time": "2022-11-02T21:05:58.827Z"
   },
   {
    "duration": 21,
    "start_time": "2022-11-02T21:05:58.833Z"
   },
   {
    "duration": 7,
    "start_time": "2022-11-02T21:05:58.856Z"
   },
   {
    "duration": 10,
    "start_time": "2022-11-02T21:05:58.865Z"
   },
   {
    "duration": 35,
    "start_time": "2022-11-02T21:05:58.877Z"
   },
   {
    "duration": 8,
    "start_time": "2022-11-02T21:05:58.913Z"
   },
   {
    "duration": 17,
    "start_time": "2022-11-02T21:05:58.922Z"
   },
   {
    "duration": 8,
    "start_time": "2022-11-02T21:05:58.940Z"
   },
   {
    "duration": 15,
    "start_time": "2022-11-02T21:05:58.949Z"
   },
   {
    "duration": 46,
    "start_time": "2022-11-02T21:05:58.965Z"
   },
   {
    "duration": 4,
    "start_time": "2022-11-02T21:05:59.014Z"
   },
   {
    "duration": 18,
    "start_time": "2022-11-02T21:05:59.019Z"
   },
   {
    "duration": 4591,
    "start_time": "2022-11-02T21:05:59.039Z"
   },
   {
    "duration": 89,
    "start_time": "2022-11-02T21:06:03.631Z"
   },
   {
    "duration": 128,
    "start_time": "2022-11-02T21:06:03.721Z"
   },
   {
    "duration": 6,
    "start_time": "2022-11-02T21:06:03.905Z"
   },
   {
    "duration": 607,
    "start_time": "2022-11-02T21:06:03.913Z"
   },
   {
    "duration": 7,
    "start_time": "2022-11-02T21:06:04.522Z"
   },
   {
    "duration": 16,
    "start_time": "2022-11-02T21:06:04.530Z"
   },
   {
    "duration": 58,
    "start_time": "2022-11-02T21:06:04.548Z"
   },
   {
    "duration": 17,
    "start_time": "2022-11-02T21:06:04.607Z"
   },
   {
    "duration": 402,
    "start_time": "2022-11-02T21:06:04.625Z"
   },
   {
    "duration": 111,
    "start_time": "2022-11-02T21:06:05.028Z"
   },
   {
    "duration": 20,
    "start_time": "2022-11-02T21:06:05.141Z"
   },
   {
    "duration": 6,
    "start_time": "2022-11-02T21:06:05.163Z"
   },
   {
    "duration": 17,
    "start_time": "2022-11-02T21:06:05.170Z"
   },
   {
    "duration": 10,
    "start_time": "2022-11-02T21:06:05.205Z"
   },
   {
    "duration": 6,
    "start_time": "2022-11-02T21:06:05.217Z"
   },
   {
    "duration": 7,
    "start_time": "2022-11-02T21:06:05.225Z"
   },
   {
    "duration": 6,
    "start_time": "2022-11-02T21:06:05.233Z"
   },
   {
    "duration": 13,
    "start_time": "2022-11-02T21:06:05.240Z"
   },
   {
    "duration": 352,
    "start_time": "2022-11-02T21:06:05.255Z"
   },
   {
    "duration": 240,
    "start_time": "2022-11-02T21:06:05.608Z"
   },
   {
    "duration": 10,
    "start_time": "2022-11-02T21:06:05.849Z"
   },
   {
    "duration": 10,
    "start_time": "2022-11-02T21:06:05.861Z"
   },
   {
    "duration": 316,
    "start_time": "2022-11-02T21:06:05.873Z"
   },
   {
    "duration": 10,
    "start_time": "2022-11-02T21:06:06.190Z"
   },
   {
    "duration": 4,
    "start_time": "2022-11-02T21:06:06.208Z"
   },
   {
    "duration": 7,
    "start_time": "2022-11-02T21:06:06.214Z"
   },
   {
    "duration": 227,
    "start_time": "2022-11-02T21:06:06.222Z"
   },
   {
    "duration": 10,
    "start_time": "2022-11-02T21:06:06.451Z"
   },
   {
    "duration": 3,
    "start_time": "2022-11-02T21:06:06.462Z"
   },
   {
    "duration": 10,
    "start_time": "2022-11-02T21:06:06.467Z"
   },
   {
    "duration": 34,
    "start_time": "2022-11-02T21:06:06.478Z"
   },
   {
    "duration": 11,
    "start_time": "2022-11-02T21:06:06.514Z"
   },
   {
    "duration": 7,
    "start_time": "2022-11-02T21:06:06.527Z"
   },
   {
    "duration": 11,
    "start_time": "2022-11-02T21:06:06.535Z"
   },
   {
    "duration": 12,
    "start_time": "2022-11-02T21:06:06.547Z"
   },
   {
    "duration": 9,
    "start_time": "2022-11-02T21:06:06.560Z"
   },
   {
    "duration": 12,
    "start_time": "2022-11-02T21:06:06.570Z"
   },
   {
    "duration": 10,
    "start_time": "2022-11-02T21:06:06.605Z"
   },
   {
    "duration": 12,
    "start_time": "2022-11-02T21:26:47.981Z"
   },
   {
    "duration": 145,
    "start_time": "2022-11-02T21:30:09.061Z"
   },
   {
    "duration": 161,
    "start_time": "2022-11-02T21:30:44.020Z"
   },
   {
    "duration": 184,
    "start_time": "2022-11-02T21:32:32.455Z"
   },
   {
    "duration": 305,
    "start_time": "2022-11-02T21:35:47.223Z"
   },
   {
    "duration": 1101,
    "start_time": "2022-11-02T21:37:14.930Z"
   },
   {
    "duration": 51,
    "start_time": "2022-11-02T21:37:16.033Z"
   },
   {
    "duration": 21,
    "start_time": "2022-11-02T21:37:16.086Z"
   },
   {
    "duration": 4,
    "start_time": "2022-11-02T21:37:16.108Z"
   },
   {
    "duration": 31,
    "start_time": "2022-11-02T21:37:16.114Z"
   },
   {
    "duration": 7,
    "start_time": "2022-11-02T21:37:16.146Z"
   },
   {
    "duration": 11,
    "start_time": "2022-11-02T21:37:16.154Z"
   },
   {
    "duration": 14,
    "start_time": "2022-11-02T21:37:16.166Z"
   },
   {
    "duration": 28,
    "start_time": "2022-11-02T21:37:16.181Z"
   },
   {
    "duration": 15,
    "start_time": "2022-11-02T21:37:16.210Z"
   },
   {
    "duration": 12,
    "start_time": "2022-11-02T21:37:16.226Z"
   },
   {
    "duration": 19,
    "start_time": "2022-11-02T21:37:16.239Z"
   },
   {
    "duration": 22,
    "start_time": "2022-11-02T21:37:16.260Z"
   },
   {
    "duration": 6,
    "start_time": "2022-11-02T21:37:16.305Z"
   },
   {
    "duration": 23,
    "start_time": "2022-11-02T21:37:16.313Z"
   },
   {
    "duration": 4156,
    "start_time": "2022-11-02T21:37:16.338Z"
   },
   {
    "duration": 36,
    "start_time": "2022-11-02T21:37:20.496Z"
   },
   {
    "duration": 82,
    "start_time": "2022-11-02T21:37:20.533Z"
   },
   {
    "duration": 7,
    "start_time": "2022-11-02T21:37:20.616Z"
   },
   {
    "duration": 292,
    "start_time": "2022-11-02T21:37:20.624Z"
   },
   {
    "duration": 7,
    "start_time": "2022-11-02T21:37:20.917Z"
   },
   {
    "duration": 14,
    "start_time": "2022-11-02T21:37:20.926Z"
   },
   {
    "duration": 4,
    "start_time": "2022-11-02T21:37:20.942Z"
   },
   {
    "duration": 19,
    "start_time": "2022-11-02T21:37:20.948Z"
   },
   {
    "duration": 337,
    "start_time": "2022-11-02T21:37:20.969Z"
   },
   {
    "duration": 113,
    "start_time": "2022-11-02T21:37:21.308Z"
   },
   {
    "duration": 21,
    "start_time": "2022-11-02T21:37:21.423Z"
   },
   {
    "duration": 8,
    "start_time": "2022-11-02T21:37:21.445Z"
   },
   {
    "duration": 19,
    "start_time": "2022-11-02T21:37:21.454Z"
   },
   {
    "duration": 12,
    "start_time": "2022-11-02T21:37:21.474Z"
   },
   {
    "duration": 4,
    "start_time": "2022-11-02T21:37:21.505Z"
   },
   {
    "duration": 6,
    "start_time": "2022-11-02T21:37:21.511Z"
   },
   {
    "duration": 8,
    "start_time": "2022-11-02T21:37:21.518Z"
   },
   {
    "duration": 13,
    "start_time": "2022-11-02T21:37:21.528Z"
   },
   {
    "duration": 346,
    "start_time": "2022-11-02T21:37:21.543Z"
   },
   {
    "duration": 229,
    "start_time": "2022-11-02T21:37:21.891Z"
   },
   {
    "duration": 10,
    "start_time": "2022-11-02T21:37:22.121Z"
   },
   {
    "duration": 10,
    "start_time": "2022-11-02T21:37:22.132Z"
   },
   {
    "duration": 306,
    "start_time": "2022-11-02T21:37:22.144Z"
   },
   {
    "duration": 10,
    "start_time": "2022-11-02T21:37:22.452Z"
   },
   {
    "duration": 5,
    "start_time": "2022-11-02T21:37:22.466Z"
   },
   {
    "duration": 12,
    "start_time": "2022-11-02T21:37:22.472Z"
   },
   {
    "duration": 234,
    "start_time": "2022-11-02T21:37:22.485Z"
   },
   {
    "duration": 11,
    "start_time": "2022-11-02T21:37:22.721Z"
   },
   {
    "duration": 5,
    "start_time": "2022-11-02T21:37:22.733Z"
   },
   {
    "duration": 10,
    "start_time": "2022-11-02T21:37:22.740Z"
   },
   {
    "duration": 23,
    "start_time": "2022-11-02T21:37:22.752Z"
   },
   {
    "duration": 35,
    "start_time": "2022-11-02T21:37:22.777Z"
   },
   {
    "duration": 5,
    "start_time": "2022-11-02T21:37:22.814Z"
   },
   {
    "duration": 10,
    "start_time": "2022-11-02T21:37:22.820Z"
   },
   {
    "duration": 8,
    "start_time": "2022-11-02T21:37:22.831Z"
   },
   {
    "duration": 10,
    "start_time": "2022-11-02T21:37:22.841Z"
   },
   {
    "duration": 103,
    "start_time": "2022-11-02T21:37:22.852Z"
   },
   {
    "duration": 0,
    "start_time": "2022-11-02T21:37:22.956Z"
   },
   {
    "duration": 0,
    "start_time": "2022-11-02T21:37:22.957Z"
   },
   {
    "duration": 0,
    "start_time": "2022-11-02T21:37:22.959Z"
   },
   {
    "duration": 10,
    "start_time": "2022-11-02T21:38:02.378Z"
   },
   {
    "duration": 182,
    "start_time": "2022-11-02T21:38:05.994Z"
   },
   {
    "duration": 10,
    "start_time": "2022-11-02T21:38:08.867Z"
   },
   {
    "duration": 243,
    "start_time": "2022-11-02T21:38:09.962Z"
   },
   {
    "duration": 1061,
    "start_time": "2022-11-02T21:38:19.551Z"
   },
   {
    "duration": 50,
    "start_time": "2022-11-02T21:38:20.613Z"
   },
   {
    "duration": 20,
    "start_time": "2022-11-02T21:38:20.664Z"
   },
   {
    "duration": 3,
    "start_time": "2022-11-02T21:38:20.686Z"
   },
   {
    "duration": 28,
    "start_time": "2022-11-02T21:38:20.692Z"
   },
   {
    "duration": 7,
    "start_time": "2022-11-02T21:38:20.721Z"
   },
   {
    "duration": 15,
    "start_time": "2022-11-02T21:38:20.730Z"
   },
   {
    "duration": 18,
    "start_time": "2022-11-02T21:38:20.746Z"
   },
   {
    "duration": 18,
    "start_time": "2022-11-02T21:38:20.765Z"
   },
   {
    "duration": 24,
    "start_time": "2022-11-02T21:38:20.784Z"
   },
   {
    "duration": 16,
    "start_time": "2022-11-02T21:38:20.810Z"
   },
   {
    "duration": 22,
    "start_time": "2022-11-02T21:38:20.827Z"
   },
   {
    "duration": 15,
    "start_time": "2022-11-02T21:38:20.851Z"
   },
   {
    "duration": 5,
    "start_time": "2022-11-02T21:38:20.868Z"
   },
   {
    "duration": 22,
    "start_time": "2022-11-02T21:38:20.875Z"
   },
   {
    "duration": 4232,
    "start_time": "2022-11-02T21:38:20.905Z"
   },
   {
    "duration": 35,
    "start_time": "2022-11-02T21:38:25.139Z"
   },
   {
    "duration": 84,
    "start_time": "2022-11-02T21:38:25.176Z"
   },
   {
    "duration": 7,
    "start_time": "2022-11-02T21:38:25.262Z"
   },
   {
    "duration": 339,
    "start_time": "2022-11-02T21:38:25.271Z"
   },
   {
    "duration": 7,
    "start_time": "2022-11-02T21:38:25.611Z"
   },
   {
    "duration": 12,
    "start_time": "2022-11-02T21:38:25.620Z"
   },
   {
    "duration": 5,
    "start_time": "2022-11-02T21:38:25.633Z"
   },
   {
    "duration": 16,
    "start_time": "2022-11-02T21:38:25.639Z"
   },
   {
    "duration": 344,
    "start_time": "2022-11-02T21:38:25.657Z"
   },
   {
    "duration": 113,
    "start_time": "2022-11-02T21:38:26.005Z"
   },
   {
    "duration": 21,
    "start_time": "2022-11-02T21:38:26.120Z"
   },
   {
    "duration": 6,
    "start_time": "2022-11-02T21:38:26.143Z"
   },
   {
    "duration": 24,
    "start_time": "2022-11-02T21:38:26.151Z"
   },
   {
    "duration": 35,
    "start_time": "2022-11-02T21:38:26.177Z"
   },
   {
    "duration": 7,
    "start_time": "2022-11-02T21:38:26.214Z"
   },
   {
    "duration": 8,
    "start_time": "2022-11-02T21:38:26.223Z"
   },
   {
    "duration": 18,
    "start_time": "2022-11-02T21:38:26.233Z"
   },
   {
    "duration": 20,
    "start_time": "2022-11-02T21:38:26.254Z"
   },
   {
    "duration": 374,
    "start_time": "2022-11-02T21:38:26.276Z"
   },
   {
    "duration": 255,
    "start_time": "2022-11-02T21:38:26.651Z"
   },
   {
    "duration": 12,
    "start_time": "2022-11-02T21:38:26.907Z"
   },
   {
    "duration": 14,
    "start_time": "2022-11-02T21:38:26.921Z"
   },
   {
    "duration": 339,
    "start_time": "2022-11-02T21:38:26.937Z"
   },
   {
    "duration": 16,
    "start_time": "2022-11-02T21:38:27.278Z"
   },
   {
    "duration": 17,
    "start_time": "2022-11-02T21:38:27.308Z"
   },
   {
    "duration": 17,
    "start_time": "2022-11-02T21:38:27.327Z"
   },
   {
    "duration": 246,
    "start_time": "2022-11-02T21:38:27.345Z"
   },
   {
    "duration": 12,
    "start_time": "2022-11-02T21:38:27.593Z"
   },
   {
    "duration": 128,
    "start_time": "2022-11-02T21:38:27.607Z"
   },
   {
    "duration": 7,
    "start_time": "2022-11-02T21:38:27.737Z"
   },
   {
    "duration": 22,
    "start_time": "2022-11-02T21:38:27.746Z"
   },
   {
    "duration": 10,
    "start_time": "2022-11-02T21:38:27.769Z"
   },
   {
    "duration": 7,
    "start_time": "2022-11-02T21:38:27.781Z"
   },
   {
    "duration": 11,
    "start_time": "2022-11-02T21:38:27.789Z"
   },
   {
    "duration": 11,
    "start_time": "2022-11-02T21:38:27.801Z"
   },
   {
    "duration": 9,
    "start_time": "2022-11-02T21:38:27.813Z"
   },
   {
    "duration": 13,
    "start_time": "2022-11-02T21:38:27.824Z"
   },
   {
    "duration": 246,
    "start_time": "2022-11-02T21:38:27.838Z"
   },
   {
    "duration": 23,
    "start_time": "2022-11-02T21:38:28.086Z"
   },
   {
    "duration": 242,
    "start_time": "2022-11-02T21:38:28.112Z"
   },
   {
    "duration": 1210,
    "start_time": "2022-11-04T13:26:46.697Z"
   },
   {
    "duration": 118,
    "start_time": "2022-11-04T13:26:49.020Z"
   },
   {
    "duration": 20,
    "start_time": "2022-11-04T13:26:49.423Z"
   },
   {
    "duration": 3,
    "start_time": "2022-11-04T13:26:52.526Z"
   },
   {
    "duration": 21,
    "start_time": "2022-11-04T13:26:59.348Z"
   },
   {
    "duration": 7,
    "start_time": "2022-11-04T13:27:00.608Z"
   },
   {
    "duration": 7,
    "start_time": "2022-11-04T13:27:02.495Z"
   },
   {
    "duration": 13,
    "start_time": "2022-11-04T13:27:03.905Z"
   },
   {
    "duration": 8,
    "start_time": "2022-11-04T13:27:06.407Z"
   },
   {
    "duration": 16,
    "start_time": "2022-11-04T13:27:59.191Z"
   },
   {
    "duration": 6,
    "start_time": "2022-11-04T13:28:01.781Z"
   },
   {
    "duration": 16,
    "start_time": "2022-11-04T13:28:03.686Z"
   },
   {
    "duration": 16,
    "start_time": "2022-11-04T13:28:05.921Z"
   },
   {
    "duration": 1248,
    "start_time": "2022-11-05T13:46:40.265Z"
   },
   {
    "duration": 93,
    "start_time": "2022-11-05T13:46:41.516Z"
   },
   {
    "duration": 21,
    "start_time": "2022-11-05T13:46:41.611Z"
   },
   {
    "duration": 3,
    "start_time": "2022-11-05T13:46:41.634Z"
   },
   {
    "duration": 22,
    "start_time": "2022-11-05T13:46:41.639Z"
   },
   {
    "duration": 8,
    "start_time": "2022-11-05T13:46:41.662Z"
   },
   {
    "duration": 9,
    "start_time": "2022-11-05T13:46:41.672Z"
   },
   {
    "duration": 14,
    "start_time": "2022-11-05T13:46:41.708Z"
   },
   {
    "duration": 9,
    "start_time": "2022-11-05T13:46:41.724Z"
   },
   {
    "duration": 15,
    "start_time": "2022-11-05T13:46:41.735Z"
   },
   {
    "duration": 5,
    "start_time": "2022-11-05T13:46:41.752Z"
   },
   {
    "duration": 16,
    "start_time": "2022-11-05T13:46:41.758Z"
   },
   {
    "duration": 47,
    "start_time": "2022-11-05T13:46:41.775Z"
   },
   {
    "duration": 5,
    "start_time": "2022-11-05T13:59:08.422Z"
   },
   {
    "duration": 7,
    "start_time": "2022-11-05T13:59:31.413Z"
   },
   {
    "duration": 5,
    "start_time": "2022-11-05T13:59:35.802Z"
   },
   {
    "duration": 5,
    "start_time": "2022-11-05T13:59:56.056Z"
   },
   {
    "duration": 8,
    "start_time": "2022-11-05T14:06:23.145Z"
   },
   {
    "duration": 8,
    "start_time": "2022-11-05T14:06:29.173Z"
   },
   {
    "duration": 4,
    "start_time": "2022-11-05T14:06:54.731Z"
   },
   {
    "duration": 8,
    "start_time": "2022-11-05T14:06:55.571Z"
   },
   {
    "duration": 4,
    "start_time": "2022-11-05T14:07:08.423Z"
   },
   {
    "duration": 3,
    "start_time": "2022-11-05T14:55:53.017Z"
   },
   {
    "duration": 56,
    "start_time": "2022-11-05T14:55:53.022Z"
   },
   {
    "duration": 17,
    "start_time": "2022-11-05T14:55:53.080Z"
   },
   {
    "duration": 4,
    "start_time": "2022-11-05T14:55:53.099Z"
   },
   {
    "duration": 22,
    "start_time": "2022-11-05T14:55:53.106Z"
   },
   {
    "duration": 8,
    "start_time": "2022-11-05T14:55:53.130Z"
   },
   {
    "duration": 9,
    "start_time": "2022-11-05T14:55:53.140Z"
   },
   {
    "duration": 8,
    "start_time": "2022-11-05T14:55:53.150Z"
   },
   {
    "duration": 15,
    "start_time": "2022-11-05T14:55:53.159Z"
   },
   {
    "duration": 8,
    "start_time": "2022-11-05T14:55:53.176Z"
   },
   {
    "duration": 17,
    "start_time": "2022-11-05T14:55:53.208Z"
   },
   {
    "duration": 10,
    "start_time": "2022-11-05T14:55:53.227Z"
   },
   {
    "duration": 16,
    "start_time": "2022-11-05T14:55:53.239Z"
   },
   {
    "duration": 15,
    "start_time": "2022-11-05T14:55:53.257Z"
   },
   {
    "duration": 4,
    "start_time": "2022-11-05T14:55:53.274Z"
   },
   {
    "duration": 47,
    "start_time": "2022-11-05T14:55:53.279Z"
   },
   {
    "duration": 4480,
    "start_time": "2022-11-05T14:55:53.327Z"
   },
   {
    "duration": 32,
    "start_time": "2022-11-05T14:55:57.808Z"
   },
   {
    "duration": 88,
    "start_time": "2022-11-05T14:55:57.841Z"
   },
   {
    "duration": 8,
    "start_time": "2022-11-05T14:56:32.609Z"
   },
   {
    "duration": 314,
    "start_time": "2022-11-05T14:56:33.669Z"
   },
   {
    "duration": 1413,
    "start_time": "2022-11-05T18:41:02.985Z"
   },
   {
    "duration": 200,
    "start_time": "2022-11-05T18:41:04.401Z"
   },
   {
    "duration": 25,
    "start_time": "2022-11-05T18:41:04.603Z"
   },
   {
    "duration": 4,
    "start_time": "2022-11-05T18:41:04.630Z"
   },
   {
    "duration": 32,
    "start_time": "2022-11-05T18:41:04.635Z"
   },
   {
    "duration": 50,
    "start_time": "2022-11-05T19:06:25.158Z"
   },
   {
    "duration": 1216,
    "start_time": "2022-11-05T19:06:36.076Z"
   },
   {
    "duration": 62,
    "start_time": "2022-11-05T19:06:37.294Z"
   },
   {
    "duration": 31,
    "start_time": "2022-11-05T19:06:37.358Z"
   },
   {
    "duration": 5,
    "start_time": "2022-11-05T19:06:37.391Z"
   },
   {
    "duration": 56,
    "start_time": "2022-11-05T19:06:37.399Z"
   },
   {
    "duration": 9,
    "start_time": "2022-11-05T19:06:37.457Z"
   },
   {
    "duration": 12,
    "start_time": "2022-11-05T19:06:37.467Z"
   },
   {
    "duration": 5,
    "start_time": "2022-11-05T19:06:37.481Z"
   },
   {
    "duration": 21,
    "start_time": "2022-11-05T19:06:37.487Z"
   },
   {
    "duration": 34,
    "start_time": "2022-11-05T19:06:37.511Z"
   },
   {
    "duration": 24,
    "start_time": "2022-11-05T19:06:37.549Z"
   },
   {
    "duration": 9,
    "start_time": "2022-11-05T19:06:37.575Z"
   },
   {
    "duration": 21,
    "start_time": "2022-11-05T19:06:37.586Z"
   },
   {
    "duration": 27,
    "start_time": "2022-11-05T19:06:37.633Z"
   },
   {
    "duration": 7,
    "start_time": "2022-11-05T19:06:37.663Z"
   },
   {
    "duration": 20,
    "start_time": "2022-11-05T19:06:37.672Z"
   },
   {
    "duration": 5818,
    "start_time": "2022-11-05T19:06:37.694Z"
   },
   {
    "duration": 51,
    "start_time": "2022-11-05T19:06:43.514Z"
   },
   {
    "duration": 108,
    "start_time": "2022-11-05T19:06:43.568Z"
   },
   {
    "duration": 7,
    "start_time": "2022-11-05T19:06:43.677Z"
   },
   {
    "duration": 7,
    "start_time": "2022-11-05T19:07:12.818Z"
   },
   {
    "duration": 399,
    "start_time": "2022-11-05T19:07:13.449Z"
   },
   {
    "duration": 1374,
    "start_time": "2022-11-05T19:07:28.286Z"
   },
   {
    "duration": 2015,
    "start_time": "2022-11-05T19:07:46.659Z"
   },
   {
    "duration": 87,
    "start_time": "2022-11-05T19:09:15.482Z"
   },
   {
    "duration": 361,
    "start_time": "2022-11-05T19:09:19.797Z"
   },
   {
    "duration": 8,
    "start_time": "2022-11-05T19:09:26.570Z"
   },
   {
    "duration": 12,
    "start_time": "2022-11-05T19:09:26.946Z"
   },
   {
    "duration": 7,
    "start_time": "2022-11-05T19:09:27.393Z"
   },
   {
    "duration": 16,
    "start_time": "2022-11-05T19:09:30.390Z"
   },
   {
    "duration": 432,
    "start_time": "2022-11-05T19:09:30.690Z"
   },
   {
    "duration": 429,
    "start_time": "2022-11-05T19:12:50.243Z"
   },
   {
    "duration": 57,
    "start_time": "2022-11-05T19:12:55.527Z"
   },
   {
    "duration": 30,
    "start_time": "2022-11-05T19:12:55.980Z"
   },
   {
    "duration": 7,
    "start_time": "2022-11-05T19:12:58.334Z"
   },
   {
    "duration": 21,
    "start_time": "2022-11-05T19:12:58.690Z"
   },
   {
    "duration": 14,
    "start_time": "2022-11-05T19:13:00.568Z"
   },
   {
    "duration": 4,
    "start_time": "2022-11-05T19:13:00.849Z"
   },
   {
    "duration": 4,
    "start_time": "2022-11-05T19:13:01.090Z"
   },
   {
    "duration": 4,
    "start_time": "2022-11-05T19:13:01.300Z"
   },
   {
    "duration": 11,
    "start_time": "2022-11-05T19:13:01.517Z"
   },
   {
    "duration": 524,
    "start_time": "2022-11-05T19:13:04.424Z"
   },
   {
    "duration": 152,
    "start_time": "2022-11-05T19:18:05.316Z"
   },
   {
    "duration": 16,
    "start_time": "2022-11-05T19:28:49.234Z"
   },
   {
    "duration": 1285,
    "start_time": "2022-11-06T11:17:57.498Z"
   },
   {
    "duration": 94,
    "start_time": "2022-11-06T11:17:58.785Z"
   },
   {
    "duration": 22,
    "start_time": "2022-11-06T11:17:58.880Z"
   },
   {
    "duration": 3,
    "start_time": "2022-11-06T11:17:58.903Z"
   },
   {
    "duration": 24,
    "start_time": "2022-11-06T11:17:58.908Z"
   },
   {
    "duration": 7,
    "start_time": "2022-11-06T11:17:58.933Z"
   },
   {
    "duration": 9,
    "start_time": "2022-11-06T11:17:58.942Z"
   },
   {
    "duration": 24,
    "start_time": "2022-11-06T11:17:58.953Z"
   },
   {
    "duration": 15,
    "start_time": "2022-11-06T11:17:58.979Z"
   },
   {
    "duration": 8,
    "start_time": "2022-11-06T11:17:58.995Z"
   },
   {
    "duration": 16,
    "start_time": "2022-11-06T11:17:59.004Z"
   },
   {
    "duration": 8,
    "start_time": "2022-11-06T11:17:59.022Z"
   },
   {
    "duration": 48,
    "start_time": "2022-11-06T11:17:59.032Z"
   },
   {
    "duration": 17,
    "start_time": "2022-11-06T11:17:59.082Z"
   },
   {
    "duration": 5,
    "start_time": "2022-11-06T11:17:59.100Z"
   },
   {
    "duration": 18,
    "start_time": "2022-11-06T11:17:59.106Z"
   },
   {
    "duration": 4859,
    "start_time": "2022-11-06T11:17:59.125Z"
   },
   {
    "duration": 43,
    "start_time": "2022-11-06T11:18:03.985Z"
   },
   {
    "duration": 95,
    "start_time": "2022-11-06T11:18:04.030Z"
   },
   {
    "duration": 7,
    "start_time": "2022-11-06T11:18:04.127Z"
   },
   {
    "duration": 348,
    "start_time": "2022-11-06T11:18:04.135Z"
   },
   {
    "duration": 8,
    "start_time": "2022-11-06T11:18:04.484Z"
   },
   {
    "duration": 13,
    "start_time": "2022-11-06T11:18:04.494Z"
   },
   {
    "duration": 5,
    "start_time": "2022-11-06T11:18:04.509Z"
   },
   {
    "duration": 18,
    "start_time": "2022-11-06T11:18:04.515Z"
   },
   {
    "duration": 426,
    "start_time": "2022-11-06T11:18:04.535Z"
   },
   {
    "duration": 121,
    "start_time": "2022-11-06T11:18:04.962Z"
   },
   {
    "duration": 24,
    "start_time": "2022-11-06T11:18:05.085Z"
   },
   {
    "duration": 11,
    "start_time": "2022-11-06T11:18:05.110Z"
   },
   {
    "duration": 20,
    "start_time": "2022-11-06T11:18:05.123Z"
   },
   {
    "duration": 32,
    "start_time": "2022-11-06T11:18:05.145Z"
   },
   {
    "duration": 8,
    "start_time": "2022-11-06T11:18:05.180Z"
   },
   {
    "duration": 12,
    "start_time": "2022-11-06T11:18:05.191Z"
   },
   {
    "duration": 8,
    "start_time": "2022-11-06T11:18:05.206Z"
   },
   {
    "duration": 17,
    "start_time": "2022-11-06T11:18:05.216Z"
   },
   {
    "duration": 423,
    "start_time": "2022-11-06T11:18:05.235Z"
   },
   {
    "duration": 175,
    "start_time": "2022-11-06T11:18:57.958Z"
   },
   {
    "duration": 18,
    "start_time": "2022-11-06T11:19:36.803Z"
   },
   {
    "duration": 342,
    "start_time": "2022-11-06T11:27:49.502Z"
   },
   {
    "duration": 60,
    "start_time": "2022-11-06T11:30:42.955Z"
   },
   {
    "duration": 257,
    "start_time": "2022-11-06T11:31:53.055Z"
   },
   {
    "duration": 10,
    "start_time": "2022-11-06T11:31:58.616Z"
   },
   {
    "duration": 9,
    "start_time": "2022-11-06T11:31:58.909Z"
   },
   {
    "duration": 256,
    "start_time": "2022-11-06T11:32:04.055Z"
   },
   {
    "duration": 13,
    "start_time": "2022-11-06T11:32:27.052Z"
   },
   {
    "duration": 5,
    "start_time": "2022-11-06T11:32:27.300Z"
   },
   {
    "duration": 5,
    "start_time": "2022-11-06T11:32:28.095Z"
   },
   {
    "duration": 1398,
    "start_time": "2022-11-06T13:18:49.434Z"
   },
   {
    "duration": 119,
    "start_time": "2022-11-06T13:18:50.834Z"
   },
   {
    "duration": 22,
    "start_time": "2022-11-06T13:18:50.955Z"
   },
   {
    "duration": 3,
    "start_time": "2022-11-06T13:18:50.979Z"
   },
   {
    "duration": 24,
    "start_time": "2022-11-06T13:18:50.984Z"
   },
   {
    "duration": 8,
    "start_time": "2022-11-06T13:18:51.009Z"
   },
   {
    "duration": 20,
    "start_time": "2022-11-06T13:18:51.018Z"
   },
   {
    "duration": 9,
    "start_time": "2022-11-06T13:18:51.040Z"
   },
   {
    "duration": 26,
    "start_time": "2022-11-06T13:18:51.051Z"
   },
   {
    "duration": 9,
    "start_time": "2022-11-06T13:18:51.080Z"
   },
   {
    "duration": 17,
    "start_time": "2022-11-06T13:18:51.091Z"
   },
   {
    "duration": 34,
    "start_time": "2022-11-06T13:18:51.110Z"
   },
   {
    "duration": 18,
    "start_time": "2022-11-06T13:18:51.146Z"
   },
   {
    "duration": 20,
    "start_time": "2022-11-06T13:18:51.165Z"
   },
   {
    "duration": 7,
    "start_time": "2022-11-06T13:18:51.187Z"
   },
   {
    "duration": 51,
    "start_time": "2022-11-06T13:18:51.196Z"
   },
   {
    "duration": 4609,
    "start_time": "2022-11-06T13:18:51.249Z"
   },
   {
    "duration": 40,
    "start_time": "2022-11-06T13:18:55.860Z"
   },
   {
    "duration": 95,
    "start_time": "2022-11-06T13:18:55.902Z"
   },
   {
    "duration": 6,
    "start_time": "2022-11-06T13:18:55.998Z"
   },
   {
    "duration": 352,
    "start_time": "2022-11-06T13:18:56.006Z"
   },
   {
    "duration": 8,
    "start_time": "2022-11-06T13:18:56.360Z"
   },
   {
    "duration": 14,
    "start_time": "2022-11-06T13:18:56.369Z"
   },
   {
    "duration": 6,
    "start_time": "2022-11-06T13:18:56.385Z"
   },
   {
    "duration": 18,
    "start_time": "2022-11-06T13:18:56.392Z"
   },
   {
    "duration": 432,
    "start_time": "2022-11-06T13:18:56.412Z"
   },
   {
    "duration": 120,
    "start_time": "2022-11-06T13:18:56.846Z"
   },
   {
    "duration": 21,
    "start_time": "2022-11-06T13:18:56.969Z"
   },
   {
    "duration": 6,
    "start_time": "2022-11-06T13:18:56.991Z"
   },
   {
    "duration": 18,
    "start_time": "2022-11-06T13:18:56.998Z"
   },
   {
    "duration": 30,
    "start_time": "2022-11-06T13:18:57.017Z"
   },
   {
    "duration": 3,
    "start_time": "2022-11-06T13:18:57.049Z"
   },
   {
    "duration": 7,
    "start_time": "2022-11-06T13:18:57.053Z"
   },
   {
    "duration": 5,
    "start_time": "2022-11-06T13:18:57.062Z"
   },
   {
    "duration": 15,
    "start_time": "2022-11-06T13:18:57.068Z"
   },
   {
    "duration": 475,
    "start_time": "2022-11-06T13:18:57.084Z"
   },
   {
    "duration": 265,
    "start_time": "2022-11-06T13:18:57.561Z"
   },
   {
    "duration": 344,
    "start_time": "2022-11-06T13:18:57.828Z"
   },
   {
    "duration": 10,
    "start_time": "2022-11-06T13:18:58.174Z"
   },
   {
    "duration": 11,
    "start_time": "2022-11-06T13:18:58.186Z"
   },
   {
    "duration": 278,
    "start_time": "2022-11-06T13:18:58.199Z"
   },
   {
    "duration": 11,
    "start_time": "2022-11-06T13:18:58.479Z"
   },
   {
    "duration": 7,
    "start_time": "2022-11-06T13:18:58.492Z"
   },
   {
    "duration": 10,
    "start_time": "2022-11-06T13:18:58.501Z"
   },
   {
    "duration": 5,
    "start_time": "2022-11-06T13:19:01.432Z"
   },
   {
    "duration": 1383,
    "start_time": "2022-11-08T22:51:02.117Z"
   },
   {
    "duration": 183,
    "start_time": "2022-11-08T22:51:03.503Z"
   },
   {
    "duration": 20,
    "start_time": "2022-11-08T22:51:03.688Z"
   },
   {
    "duration": 3,
    "start_time": "2022-11-08T22:51:03.710Z"
   },
   {
    "duration": 32,
    "start_time": "2022-11-08T22:51:03.715Z"
   },
   {
    "duration": 16,
    "start_time": "2022-11-08T22:51:03.749Z"
   },
   {
    "duration": 11,
    "start_time": "2022-11-08T22:51:03.767Z"
   },
   {
    "duration": 23,
    "start_time": "2022-11-08T22:51:03.779Z"
   },
   {
    "duration": 20,
    "start_time": "2022-11-08T22:51:03.803Z"
   },
   {
    "duration": 8,
    "start_time": "2022-11-08T22:51:03.825Z"
   },
   {
    "duration": 18,
    "start_time": "2022-11-08T22:51:03.834Z"
   },
   {
    "duration": 22,
    "start_time": "2022-11-08T22:51:03.854Z"
   },
   {
    "duration": 21,
    "start_time": "2022-11-08T22:51:03.878Z"
   },
   {
    "duration": 16,
    "start_time": "2022-11-08T22:51:03.901Z"
   },
   {
    "duration": 7,
    "start_time": "2022-11-08T22:51:03.919Z"
   },
   {
    "duration": 26,
    "start_time": "2022-11-08T22:51:03.927Z"
   },
   {
    "duration": 4386,
    "start_time": "2022-11-08T22:51:03.955Z"
   },
   {
    "duration": 43,
    "start_time": "2022-11-08T22:51:08.343Z"
   },
   {
    "duration": 94,
    "start_time": "2022-11-08T22:51:08.388Z"
   },
   {
    "duration": 7,
    "start_time": "2022-11-08T22:51:08.483Z"
   },
   {
    "duration": 327,
    "start_time": "2022-11-08T22:51:08.491Z"
   },
   {
    "duration": 8,
    "start_time": "2022-11-08T22:51:08.820Z"
   },
   {
    "duration": 12,
    "start_time": "2022-11-08T22:51:08.829Z"
   },
   {
    "duration": 5,
    "start_time": "2022-11-08T22:51:08.843Z"
   },
   {
    "duration": 39,
    "start_time": "2022-11-08T22:51:08.850Z"
   },
   {
    "duration": 367,
    "start_time": "2022-11-08T22:51:08.890Z"
   },
   {
    "duration": 114,
    "start_time": "2022-11-08T22:51:09.260Z"
   },
   {
    "duration": 24,
    "start_time": "2022-11-08T22:51:09.376Z"
   },
   {
    "duration": 11,
    "start_time": "2022-11-08T22:51:09.402Z"
   },
   {
    "duration": 25,
    "start_time": "2022-11-08T22:51:09.414Z"
   },
   {
    "duration": 19,
    "start_time": "2022-11-08T22:51:09.441Z"
   },
   {
    "duration": 13,
    "start_time": "2022-11-08T22:51:09.462Z"
   },
   {
    "duration": 13,
    "start_time": "2022-11-08T22:51:09.477Z"
   },
   {
    "duration": 10,
    "start_time": "2022-11-08T22:51:09.491Z"
   },
   {
    "duration": 17,
    "start_time": "2022-11-08T22:51:09.503Z"
   },
   {
    "duration": 352,
    "start_time": "2022-11-08T22:51:09.521Z"
   },
   {
    "duration": 249,
    "start_time": "2022-11-08T22:51:09.875Z"
   },
   {
    "duration": 313,
    "start_time": "2022-11-08T22:51:10.126Z"
   },
   {
    "duration": 10,
    "start_time": "2022-11-08T22:51:10.440Z"
   },
   {
    "duration": 26,
    "start_time": "2022-11-08T22:51:10.452Z"
   },
   {
    "duration": 244,
    "start_time": "2022-11-08T22:51:10.482Z"
   },
   {
    "duration": 9,
    "start_time": "2022-11-08T22:51:10.728Z"
   },
   {
    "duration": 16,
    "start_time": "2022-11-08T22:51:10.738Z"
   },
   {
    "duration": 16,
    "start_time": "2022-11-08T22:51:10.756Z"
   },
   {
    "duration": 8,
    "start_time": "2022-11-08T22:52:39.674Z"
   },
   {
    "duration": 9,
    "start_time": "2022-11-08T22:53:14.267Z"
   },
   {
    "duration": 5,
    "start_time": "2022-11-08T22:53:36.267Z"
   },
   {
    "duration": 5,
    "start_time": "2022-11-08T22:53:58.075Z"
   },
   {
    "duration": 10,
    "start_time": "2022-11-08T22:54:31.844Z"
   },
   {
    "duration": 4,
    "start_time": "2022-11-08T22:54:49.622Z"
   },
   {
    "duration": 260,
    "start_time": "2022-11-08T22:56:05.547Z"
   },
   {
    "duration": 265,
    "start_time": "2022-11-08T22:56:27.142Z"
   },
   {
    "duration": 7,
    "start_time": "2022-11-08T22:57:15.027Z"
   },
   {
    "duration": 21,
    "start_time": "2022-11-08T22:57:43.127Z"
   },
   {
    "duration": 10,
    "start_time": "2022-11-08T22:58:28.003Z"
   },
   {
    "duration": 5,
    "start_time": "2022-11-08T22:58:28.997Z"
   },
   {
    "duration": 5,
    "start_time": "2022-11-08T22:58:29.750Z"
   },
   {
    "duration": 10,
    "start_time": "2022-11-08T22:59:18.153Z"
   },
   {
    "duration": 5,
    "start_time": "2022-11-08T22:59:18.548Z"
   },
   {
    "duration": 5,
    "start_time": "2022-11-08T22:59:19.390Z"
   },
   {
    "duration": 254,
    "start_time": "2022-11-08T23:00:13.677Z"
   },
   {
    "duration": 11,
    "start_time": "2022-11-08T23:00:55.503Z"
   },
   {
    "duration": 5,
    "start_time": "2022-11-08T23:01:08.406Z"
   },
   {
    "duration": 6,
    "start_time": "2022-11-08T23:01:18.467Z"
   },
   {
    "duration": 222,
    "start_time": "2022-11-08T23:07:47.896Z"
   },
   {
    "duration": 1080,
    "start_time": "2022-11-08T23:30:26.708Z"
   },
   {
    "duration": 51,
    "start_time": "2022-11-08T23:30:27.790Z"
   },
   {
    "duration": 22,
    "start_time": "2022-11-08T23:30:27.842Z"
   },
   {
    "duration": 3,
    "start_time": "2022-11-08T23:30:27.865Z"
   },
   {
    "duration": 28,
    "start_time": "2022-11-08T23:30:27.870Z"
   },
   {
    "duration": 7,
    "start_time": "2022-11-08T23:30:27.899Z"
   },
   {
    "duration": 28,
    "start_time": "2022-11-08T23:30:27.907Z"
   },
   {
    "duration": 6,
    "start_time": "2022-11-08T23:30:27.938Z"
   },
   {
    "duration": 25,
    "start_time": "2022-11-08T23:30:27.946Z"
   },
   {
    "duration": 9,
    "start_time": "2022-11-08T23:30:27.973Z"
   },
   {
    "duration": 22,
    "start_time": "2022-11-08T23:30:27.983Z"
   },
   {
    "duration": 10,
    "start_time": "2022-11-08T23:30:28.007Z"
   },
   {
    "duration": 19,
    "start_time": "2022-11-08T23:30:28.019Z"
   },
   {
    "duration": 17,
    "start_time": "2022-11-08T23:30:28.042Z"
   },
   {
    "duration": 22,
    "start_time": "2022-11-08T23:30:28.060Z"
   },
   {
    "duration": 20,
    "start_time": "2022-11-08T23:30:28.083Z"
   },
   {
    "duration": 4617,
    "start_time": "2022-11-08T23:30:28.105Z"
   },
   {
    "duration": 39,
    "start_time": "2022-11-08T23:30:32.724Z"
   },
   {
    "duration": 99,
    "start_time": "2022-11-08T23:30:32.765Z"
   },
   {
    "duration": 17,
    "start_time": "2022-11-08T23:30:32.865Z"
   },
   {
    "duration": 332,
    "start_time": "2022-11-08T23:30:32.883Z"
   },
   {
    "duration": 7,
    "start_time": "2022-11-08T23:30:33.217Z"
   },
   {
    "duration": 27,
    "start_time": "2022-11-08T23:30:33.225Z"
   },
   {
    "duration": 13,
    "start_time": "2022-11-08T23:30:33.253Z"
   },
   {
    "duration": 34,
    "start_time": "2022-11-08T23:30:33.268Z"
   },
   {
    "duration": 378,
    "start_time": "2022-11-08T23:30:33.304Z"
   },
   {
    "duration": 120,
    "start_time": "2022-11-08T23:30:33.684Z"
   },
   {
    "duration": 24,
    "start_time": "2022-11-08T23:30:33.806Z"
   },
   {
    "duration": 20,
    "start_time": "2022-11-08T23:30:33.832Z"
   },
   {
    "duration": 35,
    "start_time": "2022-11-08T23:30:33.854Z"
   },
   {
    "duration": 52,
    "start_time": "2022-11-08T23:30:33.891Z"
   },
   {
    "duration": 19,
    "start_time": "2022-11-08T23:30:33.945Z"
   },
   {
    "duration": 25,
    "start_time": "2022-11-08T23:30:33.965Z"
   },
   {
    "duration": 51,
    "start_time": "2022-11-08T23:30:33.992Z"
   },
   {
    "duration": 26,
    "start_time": "2022-11-08T23:30:34.045Z"
   },
   {
    "duration": 404,
    "start_time": "2022-11-08T23:30:34.072Z"
   },
   {
    "duration": 272,
    "start_time": "2022-11-08T23:30:34.478Z"
   },
   {
    "duration": 341,
    "start_time": "2022-11-08T23:30:34.752Z"
   },
   {
    "duration": 10,
    "start_time": "2022-11-08T23:30:35.094Z"
   },
   {
    "duration": 43,
    "start_time": "2022-11-08T23:30:35.105Z"
   },
   {
    "duration": 309,
    "start_time": "2022-11-08T23:30:35.152Z"
   },
   {
    "duration": 287,
    "start_time": "2022-11-08T23:30:35.463Z"
   },
   {
    "duration": 262,
    "start_time": "2022-11-08T23:30:35.753Z"
   },
   {
    "duration": 10,
    "start_time": "2022-11-08T23:30:36.017Z"
   },
   {
    "duration": 13,
    "start_time": "2022-11-08T23:30:36.029Z"
   },
   {
    "duration": 22,
    "start_time": "2022-11-08T23:30:36.043Z"
   },
   {
    "duration": 18,
    "start_time": "2022-11-08T23:30:36.067Z"
   },
   {
    "duration": 12,
    "start_time": "2022-11-08T23:30:36.086Z"
   },
   {
    "duration": 16,
    "start_time": "2022-11-08T23:30:36.100Z"
   },
   {
    "duration": 13,
    "start_time": "2022-11-08T23:30:36.117Z"
   },
   {
    "duration": 9,
    "start_time": "2022-11-08T23:30:36.132Z"
   },
   {
    "duration": 8,
    "start_time": "2022-11-08T23:30:36.143Z"
   },
   {
    "duration": 17,
    "start_time": "2022-11-08T23:30:36.154Z"
   },
   {
    "duration": 14,
    "start_time": "2022-11-08T23:30:36.173Z"
   },
   {
    "duration": 8,
    "start_time": "2022-11-08T23:30:36.188Z"
   },
   {
    "duration": 213,
    "start_time": "2022-11-08T23:30:36.198Z"
   },
   {
    "duration": 9,
    "start_time": "2022-11-08T23:30:36.413Z"
   },
   {
    "duration": 4,
    "start_time": "2022-11-08T23:30:36.424Z"
   },
   {
    "duration": 12,
    "start_time": "2022-11-08T23:30:36.429Z"
   },
   {
    "duration": 38,
    "start_time": "2022-11-08T23:30:36.442Z"
   },
   {
    "duration": 10,
    "start_time": "2022-11-08T23:30:36.483Z"
   },
   {
    "duration": 10,
    "start_time": "2022-11-08T23:30:36.495Z"
   },
   {
    "duration": 13,
    "start_time": "2022-11-08T23:30:36.507Z"
   },
   {
    "duration": 16,
    "start_time": "2022-11-08T23:30:36.522Z"
   },
   {
    "duration": 12,
    "start_time": "2022-11-08T23:30:36.540Z"
   },
   {
    "duration": 16,
    "start_time": "2022-11-08T23:30:36.553Z"
   },
   {
    "duration": 224,
    "start_time": "2022-11-08T23:30:36.570Z"
   },
   {
    "duration": 9,
    "start_time": "2022-11-08T23:30:36.796Z"
   },
   {
    "duration": 249,
    "start_time": "2022-11-08T23:30:36.807Z"
   },
   {
    "duration": 1173,
    "start_time": "2022-11-09T19:42:01.838Z"
   },
   {
    "duration": 52,
    "start_time": "2022-11-09T19:42:03.013Z"
   },
   {
    "duration": 24,
    "start_time": "2022-11-09T19:42:03.067Z"
   },
   {
    "duration": 4,
    "start_time": "2022-11-09T19:42:03.093Z"
   },
   {
    "duration": 31,
    "start_time": "2022-11-09T19:42:03.098Z"
   },
   {
    "duration": 7,
    "start_time": "2022-11-09T19:42:03.131Z"
   },
   {
    "duration": 13,
    "start_time": "2022-11-09T19:42:03.139Z"
   },
   {
    "duration": 6,
    "start_time": "2022-11-09T19:42:03.154Z"
   },
   {
    "duration": 32,
    "start_time": "2022-11-09T19:42:03.162Z"
   },
   {
    "duration": 8,
    "start_time": "2022-11-09T19:42:03.197Z"
   },
   {
    "duration": 23,
    "start_time": "2022-11-09T19:42:03.206Z"
   },
   {
    "duration": 19,
    "start_time": "2022-11-09T19:42:03.231Z"
   },
   {
    "duration": 33,
    "start_time": "2022-11-09T19:42:03.251Z"
   },
   {
    "duration": 18,
    "start_time": "2022-11-09T19:42:03.285Z"
   },
   {
    "duration": 5,
    "start_time": "2022-11-09T19:42:03.305Z"
   },
   {
    "duration": 23,
    "start_time": "2022-11-09T19:42:03.311Z"
   },
   {
    "duration": 4641,
    "start_time": "2022-11-09T19:42:03.336Z"
   },
   {
    "duration": 36,
    "start_time": "2022-11-09T19:42:07.979Z"
   },
   {
    "duration": 94,
    "start_time": "2022-11-09T19:42:08.017Z"
   },
   {
    "duration": 6,
    "start_time": "2022-11-09T19:42:08.113Z"
   },
   {
    "duration": 325,
    "start_time": "2022-11-09T19:42:08.121Z"
   },
   {
    "duration": 7,
    "start_time": "2022-11-09T19:42:08.447Z"
   },
   {
    "duration": 24,
    "start_time": "2022-11-09T19:42:08.455Z"
   },
   {
    "duration": 7,
    "start_time": "2022-11-09T19:42:08.481Z"
   },
   {
    "duration": 15,
    "start_time": "2022-11-09T19:42:08.490Z"
   },
   {
    "duration": 377,
    "start_time": "2022-11-09T19:42:08.507Z"
   },
   {
    "duration": 114,
    "start_time": "2022-11-09T19:42:08.886Z"
   },
   {
    "duration": 21,
    "start_time": "2022-11-09T19:42:09.003Z"
   },
   {
    "duration": 25,
    "start_time": "2022-11-09T19:42:09.026Z"
   },
   {
    "duration": 24,
    "start_time": "2022-11-09T19:42:09.053Z"
   },
   {
    "duration": 22,
    "start_time": "2022-11-09T19:42:09.079Z"
   },
   {
    "duration": 15,
    "start_time": "2022-11-09T19:42:09.103Z"
   },
   {
    "duration": 14,
    "start_time": "2022-11-09T19:42:09.120Z"
   },
   {
    "duration": 19,
    "start_time": "2022-11-09T19:42:09.136Z"
   },
   {
    "duration": 20,
    "start_time": "2022-11-09T19:42:09.156Z"
   },
   {
    "duration": 357,
    "start_time": "2022-11-09T19:42:09.178Z"
   },
   {
    "duration": 266,
    "start_time": "2022-11-09T19:42:09.537Z"
   },
   {
    "duration": 333,
    "start_time": "2022-11-09T19:42:09.804Z"
   },
   {
    "duration": 9,
    "start_time": "2022-11-09T19:42:10.138Z"
   },
   {
    "duration": 12,
    "start_time": "2022-11-09T19:42:10.149Z"
   },
   {
    "duration": 246,
    "start_time": "2022-11-09T19:42:10.162Z"
   },
   {
    "duration": 253,
    "start_time": "2022-11-09T19:42:10.410Z"
   },
   {
    "duration": 234,
    "start_time": "2022-11-09T19:42:10.664Z"
   },
   {
    "duration": 9,
    "start_time": "2022-11-09T19:42:10.901Z"
   },
   {
    "duration": 8,
    "start_time": "2022-11-09T19:42:10.912Z"
   },
   {
    "duration": 7,
    "start_time": "2022-11-09T19:42:10.922Z"
   },
   {
    "duration": 12,
    "start_time": "2022-11-09T19:42:10.931Z"
   },
   {
    "duration": 8,
    "start_time": "2022-11-09T19:42:10.945Z"
   },
   {
    "duration": 28,
    "start_time": "2022-11-09T19:42:10.954Z"
   },
   {
    "duration": 17,
    "start_time": "2022-11-09T19:42:10.984Z"
   },
   {
    "duration": 16,
    "start_time": "2022-11-09T19:42:11.002Z"
   },
   {
    "duration": 11,
    "start_time": "2022-11-09T19:42:11.019Z"
   },
   {
    "duration": 12,
    "start_time": "2022-11-09T19:42:11.032Z"
   },
   {
    "duration": 9,
    "start_time": "2022-11-09T19:42:11.046Z"
   },
   {
    "duration": 14,
    "start_time": "2022-11-09T19:42:11.057Z"
   },
   {
    "duration": 226,
    "start_time": "2022-11-09T19:42:11.072Z"
   },
   {
    "duration": 9,
    "start_time": "2022-11-09T19:42:11.300Z"
   },
   {
    "duration": 8,
    "start_time": "2022-11-09T19:42:11.311Z"
   },
   {
    "duration": 17,
    "start_time": "2022-11-09T19:42:11.320Z"
   },
   {
    "duration": 24,
    "start_time": "2022-11-09T19:42:11.339Z"
   },
   {
    "duration": 19,
    "start_time": "2022-11-09T19:42:11.365Z"
   },
   {
    "duration": 8,
    "start_time": "2022-11-09T19:42:11.386Z"
   },
   {
    "duration": 13,
    "start_time": "2022-11-09T19:42:11.396Z"
   },
   {
    "duration": 13,
    "start_time": "2022-11-09T19:42:11.410Z"
   },
   {
    "duration": 9,
    "start_time": "2022-11-09T19:42:11.425Z"
   },
   {
    "duration": 20,
    "start_time": "2022-11-09T19:42:11.436Z"
   },
   {
    "duration": 199,
    "start_time": "2022-11-09T19:42:11.457Z"
   },
   {
    "duration": 9,
    "start_time": "2022-11-09T19:42:11.658Z"
   },
   {
    "duration": 221,
    "start_time": "2022-11-09T19:42:11.679Z"
   },
   {
    "duration": 1407,
    "start_time": "2022-11-11T16:23:03.979Z"
   },
   {
    "duration": 221,
    "start_time": "2022-11-11T16:23:05.388Z"
   },
   {
    "duration": 27,
    "start_time": "2022-11-11T16:23:05.612Z"
   },
   {
    "duration": 3,
    "start_time": "2022-11-11T16:23:05.641Z"
   },
   {
    "duration": 30,
    "start_time": "2022-11-11T16:23:05.647Z"
   },
   {
    "duration": 10,
    "start_time": "2022-11-11T16:23:05.679Z"
   },
   {
    "duration": 15,
    "start_time": "2022-11-11T16:23:05.691Z"
   },
   {
    "duration": 14,
    "start_time": "2022-11-11T16:23:05.708Z"
   },
   {
    "duration": 34,
    "start_time": "2022-11-11T16:23:05.724Z"
   },
   {
    "duration": 10,
    "start_time": "2022-11-11T16:23:05.760Z"
   },
   {
    "duration": 19,
    "start_time": "2022-11-11T16:23:05.773Z"
   },
   {
    "duration": 9,
    "start_time": "2022-11-11T16:23:05.794Z"
   },
   {
    "duration": 44,
    "start_time": "2022-11-11T16:23:05.805Z"
   },
   {
    "duration": 24,
    "start_time": "2022-11-11T16:23:05.853Z"
   },
   {
    "duration": 6,
    "start_time": "2022-11-11T16:23:05.879Z"
   },
   {
    "duration": 21,
    "start_time": "2022-11-11T16:23:05.887Z"
   },
   {
    "duration": 4685,
    "start_time": "2022-11-11T16:23:05.910Z"
   },
   {
    "duration": 36,
    "start_time": "2022-11-11T16:23:10.596Z"
   },
   {
    "duration": 87,
    "start_time": "2022-11-11T16:23:10.633Z"
   },
   {
    "duration": 7,
    "start_time": "2022-11-11T16:23:10.722Z"
   },
   {
    "duration": 348,
    "start_time": "2022-11-11T16:23:10.745Z"
   },
   {
    "duration": 7,
    "start_time": "2022-11-11T16:23:11.096Z"
   },
   {
    "duration": 18,
    "start_time": "2022-11-11T16:23:11.105Z"
   },
   {
    "duration": 7,
    "start_time": "2022-11-11T16:23:11.125Z"
   },
   {
    "duration": 23,
    "start_time": "2022-11-11T16:23:11.133Z"
   },
   {
    "duration": 396,
    "start_time": "2022-11-11T16:23:11.157Z"
   },
   {
    "duration": 116,
    "start_time": "2022-11-11T16:23:11.555Z"
   },
   {
    "duration": 26,
    "start_time": "2022-11-11T16:23:11.673Z"
   },
   {
    "duration": 8,
    "start_time": "2022-11-11T16:23:11.701Z"
   },
   {
    "duration": 37,
    "start_time": "2022-11-11T16:23:11.711Z"
   },
   {
    "duration": 22,
    "start_time": "2022-11-11T16:23:11.750Z"
   },
   {
    "duration": 10,
    "start_time": "2022-11-11T16:23:11.774Z"
   },
   {
    "duration": 28,
    "start_time": "2022-11-11T16:23:11.786Z"
   },
   {
    "duration": 29,
    "start_time": "2022-11-11T16:23:11.816Z"
   },
   {
    "duration": 19,
    "start_time": "2022-11-11T16:23:11.847Z"
   },
   {
    "duration": 408,
    "start_time": "2022-11-11T16:23:11.868Z"
   },
   {
    "duration": 3,
    "start_time": "2022-11-11T16:24:02.851Z"
   },
   {
    "duration": 25,
    "start_time": "2022-11-11T16:25:19.941Z"
   },
   {
    "duration": 419,
    "start_time": "2022-11-11T16:26:18.974Z"
   },
   {
    "duration": 11,
    "start_time": "2022-11-11T16:27:56.944Z"
   },
   {
    "duration": 5256,
    "start_time": "2022-11-11T16:28:32.381Z"
   },
   {
    "duration": 12,
    "start_time": "2022-11-11T16:31:26.106Z"
   },
   {
    "duration": 22,
    "start_time": "2022-11-11T16:31:46.497Z"
   },
   {
    "duration": 28,
    "start_time": "2022-11-11T16:33:00.687Z"
   },
   {
    "duration": 10,
    "start_time": "2022-11-11T16:33:22.427Z"
   },
   {
    "duration": 8,
    "start_time": "2022-11-11T16:35:44.783Z"
   },
   {
    "duration": 9,
    "start_time": "2022-11-11T16:35:56.810Z"
   },
   {
    "duration": 12,
    "start_time": "2022-11-11T16:36:33.915Z"
   },
   {
    "duration": 256,
    "start_time": "2022-11-11T16:36:41.755Z"
   },
   {
    "duration": 8,
    "start_time": "2022-11-11T16:37:14.555Z"
   },
   {
    "duration": 203,
    "start_time": "2022-11-11T16:37:15.365Z"
   },
   {
    "duration": 7,
    "start_time": "2022-11-11T16:37:29.036Z"
   },
   {
    "duration": 257,
    "start_time": "2022-11-11T16:37:31.937Z"
   },
   {
    "duration": 370,
    "start_time": "2022-11-11T16:38:06.875Z"
   },
   {
    "duration": 179,
    "start_time": "2022-11-11T16:38:14.175Z"
   },
   {
    "duration": 250,
    "start_time": "2022-11-11T16:38:19.714Z"
   },
   {
    "duration": 341,
    "start_time": "2022-11-11T16:38:28.555Z"
   },
   {
    "duration": 251,
    "start_time": "2022-11-11T16:38:34.714Z"
   },
   {
    "duration": 228,
    "start_time": "2022-11-11T16:38:46.650Z"
   },
   {
    "duration": 231,
    "start_time": "2022-11-11T16:38:53.149Z"
   },
   {
    "duration": 8,
    "start_time": "2022-11-11T16:39:20.188Z"
   },
   {
    "duration": 222,
    "start_time": "2022-11-11T16:39:20.742Z"
   },
   {
    "duration": 8,
    "start_time": "2022-11-11T16:40:05.448Z"
   },
   {
    "duration": 225,
    "start_time": "2022-11-11T16:40:05.748Z"
   },
   {
    "duration": 224,
    "start_time": "2022-11-11T16:44:09.285Z"
   },
   {
    "duration": 214,
    "start_time": "2022-11-11T16:44:15.026Z"
   },
   {
    "duration": 327,
    "start_time": "2022-11-11T16:44:22.195Z"
   },
   {
    "duration": 200,
    "start_time": "2022-11-11T16:44:32.817Z"
   },
   {
    "duration": 214,
    "start_time": "2022-11-11T16:44:38.328Z"
   },
   {
    "duration": 3,
    "start_time": "2022-11-11T16:48:08.728Z"
   },
   {
    "duration": 4,
    "start_time": "2022-11-11T16:58:58.556Z"
   },
   {
    "duration": 11,
    "start_time": "2022-11-11T17:02:00.289Z"
   },
   {
    "duration": 1863,
    "start_time": "2022-11-11T17:02:12.737Z"
   },
   {
    "duration": 19,
    "start_time": "2022-11-11T17:03:37.619Z"
   },
   {
    "duration": 139,
    "start_time": "2022-11-11T17:03:54.190Z"
   },
   {
    "duration": 193,
    "start_time": "2022-11-11T17:03:59.740Z"
   },
   {
    "duration": 340,
    "start_time": "2022-11-11T17:17:30.264Z"
   },
   {
    "duration": 11,
    "start_time": "2022-11-11T17:17:43.253Z"
   },
   {
    "duration": 214,
    "start_time": "2022-11-11T17:17:44.174Z"
   },
   {
    "duration": 4,
    "start_time": "2022-11-11T20:14:21.335Z"
   },
   {
    "duration": 57,
    "start_time": "2022-11-11T20:15:46.556Z"
   },
   {
    "duration": 6,
    "start_time": "2022-11-11T20:15:46.736Z"
   },
   {
    "duration": 10,
    "start_time": "2022-11-11T20:15:46.943Z"
   },
   {
    "duration": 9,
    "start_time": "2022-11-11T20:15:47.065Z"
   },
   {
    "duration": 1309,
    "start_time": "2022-11-11T20:16:05.310Z"
   },
   {
    "duration": 199,
    "start_time": "2022-11-11T20:16:06.621Z"
   },
   {
    "duration": 27,
    "start_time": "2022-11-11T20:16:06.823Z"
   },
   {
    "duration": 4,
    "start_time": "2022-11-11T20:16:06.852Z"
   },
   {
    "duration": 52,
    "start_time": "2022-11-11T20:16:06.858Z"
   },
   {
    "duration": 15,
    "start_time": "2022-11-11T20:16:06.912Z"
   },
   {
    "duration": 19,
    "start_time": "2022-11-11T20:16:06.929Z"
   },
   {
    "duration": 19,
    "start_time": "2022-11-11T20:16:06.950Z"
   },
   {
    "duration": 45,
    "start_time": "2022-11-11T20:16:06.971Z"
   },
   {
    "duration": 10,
    "start_time": "2022-11-11T20:16:07.018Z"
   },
   {
    "duration": 22,
    "start_time": "2022-11-11T20:16:07.030Z"
   },
   {
    "duration": 22,
    "start_time": "2022-11-11T20:16:07.053Z"
   },
   {
    "duration": 39,
    "start_time": "2022-11-11T20:16:07.077Z"
   },
   {
    "duration": 17,
    "start_time": "2022-11-11T20:16:07.118Z"
   },
   {
    "duration": 8,
    "start_time": "2022-11-11T20:16:07.136Z"
   },
   {
    "duration": 31,
    "start_time": "2022-11-11T20:16:07.146Z"
   },
   {
    "duration": 4946,
    "start_time": "2022-11-11T20:16:07.179Z"
   },
   {
    "duration": 37,
    "start_time": "2022-11-11T20:16:12.127Z"
   },
   {
    "duration": 97,
    "start_time": "2022-11-11T20:16:12.166Z"
   },
   {
    "duration": 25,
    "start_time": "2022-11-11T20:16:12.264Z"
   },
   {
    "duration": 435,
    "start_time": "2022-11-11T20:16:12.291Z"
   },
   {
    "duration": 9,
    "start_time": "2022-11-11T20:16:12.728Z"
   },
   {
    "duration": 35,
    "start_time": "2022-11-11T20:16:12.738Z"
   },
   {
    "duration": 23,
    "start_time": "2022-11-11T20:16:12.775Z"
   },
   {
    "duration": 27,
    "start_time": "2022-11-11T20:16:12.799Z"
   },
   {
    "duration": 437,
    "start_time": "2022-11-11T20:16:12.828Z"
   },
   {
    "duration": 139,
    "start_time": "2022-11-11T20:16:13.267Z"
   },
   {
    "duration": 22,
    "start_time": "2022-11-11T20:16:13.407Z"
   },
   {
    "duration": 16,
    "start_time": "2022-11-11T20:16:13.431Z"
   },
   {
    "duration": 42,
    "start_time": "2022-11-11T20:16:13.449Z"
   },
   {
    "duration": 18,
    "start_time": "2022-11-11T20:16:13.493Z"
   },
   {
    "duration": 24,
    "start_time": "2022-11-11T20:16:13.513Z"
   },
   {
    "duration": 22,
    "start_time": "2022-11-11T20:16:13.539Z"
   },
   {
    "duration": 11,
    "start_time": "2022-11-11T20:16:13.563Z"
   },
   {
    "duration": 41,
    "start_time": "2022-11-11T20:16:13.576Z"
   },
   {
    "duration": 417,
    "start_time": "2022-11-11T20:16:13.619Z"
   },
   {
    "duration": 455,
    "start_time": "2022-11-11T20:16:14.038Z"
   },
   {
    "duration": 5887,
    "start_time": "2022-11-11T20:16:14.495Z"
   },
   {
    "duration": 26,
    "start_time": "2022-11-11T20:16:20.384Z"
   },
   {
    "duration": 7,
    "start_time": "2022-11-11T20:16:20.412Z"
   },
   {
    "duration": 493,
    "start_time": "2022-11-11T20:16:20.423Z"
   },
   {
    "duration": 9,
    "start_time": "2022-11-11T20:16:20.918Z"
   },
   {
    "duration": 656,
    "start_time": "2022-11-11T20:16:20.929Z"
   },
   {
    "duration": 17,
    "start_time": "2022-11-11T20:16:21.595Z"
   },
   {
    "duration": 2554,
    "start_time": "2022-11-11T20:16:21.614Z"
   },
   {
    "duration": 24,
    "start_time": "2022-11-11T20:16:24.171Z"
   },
   {
    "duration": 225,
    "start_time": "2022-11-11T20:16:24.196Z"
   },
   {
    "duration": 2,
    "start_time": "2022-11-11T20:16:24.423Z"
   },
   {
    "duration": 36,
    "start_time": "2022-11-11T20:16:24.427Z"
   },
   {
    "duration": 6,
    "start_time": "2022-11-11T20:16:24.465Z"
   },
   {
    "duration": 25,
    "start_time": "2022-11-11T20:16:24.472Z"
   },
   {
    "duration": 29,
    "start_time": "2022-11-11T20:16:24.498Z"
   },
   {
    "duration": 10,
    "start_time": "2022-11-11T20:16:24.529Z"
   },
   {
    "duration": 7,
    "start_time": "2022-11-11T20:16:24.540Z"
   },
   {
    "duration": 10,
    "start_time": "2022-11-11T20:16:24.549Z"
   },
   {
    "duration": 13,
    "start_time": "2022-11-11T20:16:24.561Z"
   },
   {
    "duration": 18,
    "start_time": "2022-11-11T20:16:24.576Z"
   },
   {
    "duration": 10,
    "start_time": "2022-11-11T20:17:14.703Z"
   },
   {
    "duration": 864,
    "start_time": "2022-11-11T20:18:30.097Z"
   },
   {
    "duration": 766,
    "start_time": "2022-11-11T20:18:39.042Z"
   },
   {
    "duration": 5,
    "start_time": "2022-11-11T20:18:59.353Z"
   },
   {
    "duration": 27,
    "start_time": "2022-11-11T20:19:06.771Z"
   },
   {
    "duration": 9,
    "start_time": "2022-11-11T20:21:31.595Z"
   },
   {
    "duration": 9,
    "start_time": "2022-11-11T20:21:59.647Z"
   },
   {
    "duration": 9,
    "start_time": "2022-11-11T20:22:12.154Z"
   },
   {
    "duration": 9,
    "start_time": "2022-11-11T20:23:33.665Z"
   },
   {
    "duration": 9,
    "start_time": "2022-11-11T20:23:40.734Z"
   },
   {
    "duration": 5,
    "start_time": "2022-11-11T20:23:44.324Z"
   },
   {
    "duration": 224,
    "start_time": "2022-11-11T20:25:23.555Z"
   },
   {
    "duration": 11,
    "start_time": "2022-11-11T20:27:11.390Z"
   },
   {
    "duration": 8,
    "start_time": "2022-11-11T20:27:58.390Z"
   },
   {
    "duration": 258,
    "start_time": "2022-11-11T20:28:10.546Z"
   },
   {
    "duration": 1091,
    "start_time": "2022-11-11T20:29:11.106Z"
   },
   {
    "duration": 51,
    "start_time": "2022-11-11T20:29:12.199Z"
   },
   {
    "duration": 21,
    "start_time": "2022-11-11T20:29:12.252Z"
   },
   {
    "duration": 14,
    "start_time": "2022-11-11T20:29:12.275Z"
   },
   {
    "duration": 49,
    "start_time": "2022-11-11T20:29:12.290Z"
   },
   {
    "duration": 7,
    "start_time": "2022-11-11T20:29:12.340Z"
   },
   {
    "duration": 13,
    "start_time": "2022-11-11T20:29:12.349Z"
   },
   {
    "duration": 9,
    "start_time": "2022-11-11T20:29:12.363Z"
   },
   {
    "duration": 32,
    "start_time": "2022-11-11T20:29:12.373Z"
   },
   {
    "duration": 11,
    "start_time": "2022-11-11T20:29:12.409Z"
   },
   {
    "duration": 28,
    "start_time": "2022-11-11T20:29:12.422Z"
   },
   {
    "duration": 9,
    "start_time": "2022-11-11T20:29:12.452Z"
   },
   {
    "duration": 34,
    "start_time": "2022-11-11T20:29:12.463Z"
   },
   {
    "duration": 19,
    "start_time": "2022-11-11T20:29:12.499Z"
   },
   {
    "duration": 11,
    "start_time": "2022-11-11T20:29:12.520Z"
   },
   {
    "duration": 32,
    "start_time": "2022-11-11T20:29:12.532Z"
   },
   {
    "duration": 4732,
    "start_time": "2022-11-11T20:29:12.566Z"
   },
   {
    "duration": 39,
    "start_time": "2022-11-11T20:29:17.300Z"
   },
   {
    "duration": 106,
    "start_time": "2022-11-11T20:29:17.341Z"
   },
   {
    "duration": 7,
    "start_time": "2022-11-11T20:29:17.450Z"
   },
   {
    "duration": 339,
    "start_time": "2022-11-11T20:29:17.470Z"
   },
   {
    "duration": 7,
    "start_time": "2022-11-11T20:29:17.811Z"
   },
   {
    "duration": 15,
    "start_time": "2022-11-11T20:29:17.819Z"
   },
   {
    "duration": 5,
    "start_time": "2022-11-11T20:29:17.836Z"
   },
   {
    "duration": 42,
    "start_time": "2022-11-11T20:29:17.842Z"
   },
   {
    "duration": 380,
    "start_time": "2022-11-11T20:29:17.885Z"
   },
   {
    "duration": 121,
    "start_time": "2022-11-11T20:29:18.267Z"
   },
   {
    "duration": 19,
    "start_time": "2022-11-11T20:29:18.396Z"
   },
   {
    "duration": 8,
    "start_time": "2022-11-11T20:29:18.417Z"
   },
   {
    "duration": 17,
    "start_time": "2022-11-11T20:29:18.426Z"
   },
   {
    "duration": 17,
    "start_time": "2022-11-11T20:29:18.445Z"
   },
   {
    "duration": 11,
    "start_time": "2022-11-11T20:29:18.463Z"
   },
   {
    "duration": 10,
    "start_time": "2022-11-11T20:29:18.476Z"
   },
   {
    "duration": 12,
    "start_time": "2022-11-11T20:29:18.488Z"
   },
   {
    "duration": 11,
    "start_time": "2022-11-11T20:29:18.502Z"
   },
   {
    "duration": 399,
    "start_time": "2022-11-11T20:29:18.515Z"
   },
   {
    "duration": 380,
    "start_time": "2022-11-11T20:29:18.916Z"
   },
   {
    "duration": 5830,
    "start_time": "2022-11-11T20:29:19.299Z"
   },
   {
    "duration": 17,
    "start_time": "2022-11-11T20:29:25.131Z"
   },
   {
    "duration": 12,
    "start_time": "2022-11-11T20:29:25.149Z"
   },
   {
    "duration": 307,
    "start_time": "2022-11-11T20:29:25.162Z"
   },
   {
    "duration": 25,
    "start_time": "2022-11-11T20:29:25.471Z"
   },
   {
    "duration": 247,
    "start_time": "2022-11-11T20:29:25.498Z"
   },
   {
    "duration": 12,
    "start_time": "2022-11-11T20:29:25.747Z"
   },
   {
    "duration": 1966,
    "start_time": "2022-11-11T20:29:25.760Z"
   },
   {
    "duration": 16,
    "start_time": "2022-11-11T20:29:27.727Z"
   },
   {
    "duration": 270,
    "start_time": "2022-11-11T20:29:27.745Z"
   },
   {
    "duration": 2,
    "start_time": "2022-11-11T20:29:28.017Z"
   },
   {
    "duration": 15,
    "start_time": "2022-11-11T20:29:28.021Z"
   },
   {
    "duration": 3,
    "start_time": "2022-11-11T20:29:28.038Z"
   },
   {
    "duration": 8,
    "start_time": "2022-11-11T20:29:28.043Z"
   },
   {
    "duration": 50,
    "start_time": "2022-11-11T20:29:28.053Z"
   },
   {
    "duration": 13,
    "start_time": "2022-11-11T20:29:28.105Z"
   },
   {
    "duration": 9,
    "start_time": "2022-11-11T20:29:28.132Z"
   },
   {
    "duration": 13,
    "start_time": "2022-11-11T20:29:28.143Z"
   },
   {
    "duration": 14,
    "start_time": "2022-11-11T20:29:28.158Z"
   },
   {
    "duration": 26,
    "start_time": "2022-11-11T20:29:28.184Z"
   },
   {
    "duration": 33,
    "start_time": "2022-11-11T20:29:28.213Z"
   },
   {
    "duration": 10,
    "start_time": "2022-11-11T20:29:28.249Z"
   },
   {
    "duration": 14,
    "start_time": "2022-11-11T20:29:28.261Z"
   },
   {
    "duration": 259,
    "start_time": "2022-11-11T20:29:28.277Z"
   },
   {
    "duration": 9,
    "start_time": "2022-11-11T20:29:28.538Z"
   },
   {
    "duration": 7,
    "start_time": "2022-11-11T20:29:28.549Z"
   },
   {
    "duration": 276,
    "start_time": "2022-11-11T20:29:28.557Z"
   },
   {
    "duration": 1133,
    "start_time": "2022-11-12T17:58:13.501Z"
   },
   {
    "duration": 50,
    "start_time": "2022-11-12T17:58:14.636Z"
   },
   {
    "duration": 19,
    "start_time": "2022-11-12T17:58:14.688Z"
   },
   {
    "duration": 4,
    "start_time": "2022-11-12T17:58:14.709Z"
   },
   {
    "duration": 23,
    "start_time": "2022-11-12T17:58:14.715Z"
   },
   {
    "duration": 6,
    "start_time": "2022-11-12T17:58:14.740Z"
   },
   {
    "duration": 8,
    "start_time": "2022-11-12T17:58:14.747Z"
   },
   {
    "duration": 6,
    "start_time": "2022-11-12T17:58:14.756Z"
   },
   {
    "duration": 19,
    "start_time": "2022-11-12T17:58:14.763Z"
   },
   {
    "duration": 7,
    "start_time": "2022-11-12T17:58:14.784Z"
   },
   {
    "duration": 17,
    "start_time": "2022-11-12T17:58:14.792Z"
   },
   {
    "duration": 22,
    "start_time": "2022-11-12T17:58:14.810Z"
   },
   {
    "duration": 15,
    "start_time": "2022-11-12T17:58:14.833Z"
   },
   {
    "duration": 15,
    "start_time": "2022-11-12T17:58:14.850Z"
   },
   {
    "duration": 4,
    "start_time": "2022-11-12T17:58:14.867Z"
   },
   {
    "duration": 17,
    "start_time": "2022-11-12T17:58:14.872Z"
   },
   {
    "duration": 4255,
    "start_time": "2022-11-12T17:58:14.891Z"
   },
   {
    "duration": 39,
    "start_time": "2022-11-12T17:58:19.148Z"
   },
   {
    "duration": 99,
    "start_time": "2022-11-12T17:58:19.188Z"
   },
   {
    "duration": 7,
    "start_time": "2022-11-12T17:58:19.289Z"
   },
   {
    "duration": 326,
    "start_time": "2022-11-12T17:58:19.297Z"
   },
   {
    "duration": 9,
    "start_time": "2022-11-12T17:58:19.625Z"
   },
   {
    "duration": 15,
    "start_time": "2022-11-12T17:58:19.636Z"
   },
   {
    "duration": 23,
    "start_time": "2022-11-12T17:58:19.652Z"
   },
   {
    "duration": 17,
    "start_time": "2022-11-12T17:58:19.677Z"
   },
   {
    "duration": 330,
    "start_time": "2022-11-12T17:58:19.695Z"
   },
   {
    "duration": 131,
    "start_time": "2022-11-12T17:58:20.029Z"
   },
   {
    "duration": 22,
    "start_time": "2022-11-12T17:58:20.164Z"
   },
   {
    "duration": 8,
    "start_time": "2022-11-12T17:58:20.188Z"
   },
   {
    "duration": 32,
    "start_time": "2022-11-12T17:58:20.198Z"
   },
   {
    "duration": 9,
    "start_time": "2022-11-12T17:58:20.231Z"
   },
   {
    "duration": 15,
    "start_time": "2022-11-12T17:58:20.242Z"
   },
   {
    "duration": 22,
    "start_time": "2022-11-12T17:58:20.258Z"
   },
   {
    "duration": 24,
    "start_time": "2022-11-12T17:58:20.282Z"
   },
   {
    "duration": 21,
    "start_time": "2022-11-12T17:58:20.307Z"
   },
   {
    "duration": 373,
    "start_time": "2022-11-12T17:58:20.329Z"
   },
   {
    "duration": 322,
    "start_time": "2022-11-12T17:58:20.703Z"
   },
   {
    "duration": 5118,
    "start_time": "2022-11-12T17:58:21.027Z"
   },
   {
    "duration": 15,
    "start_time": "2022-11-12T17:58:26.147Z"
   },
   {
    "duration": 6,
    "start_time": "2022-11-12T17:58:26.164Z"
   },
   {
    "duration": 227,
    "start_time": "2022-11-12T17:58:26.171Z"
   },
   {
    "duration": 7,
    "start_time": "2022-11-12T17:58:26.400Z"
   },
   {
    "duration": 254,
    "start_time": "2022-11-12T17:58:26.409Z"
   },
   {
    "duration": 11,
    "start_time": "2022-11-12T17:58:26.665Z"
   },
   {
    "duration": 1809,
    "start_time": "2022-11-12T17:58:26.678Z"
   },
   {
    "duration": 14,
    "start_time": "2022-11-12T17:58:28.489Z"
   },
   {
    "duration": 197,
    "start_time": "2022-11-12T17:58:28.505Z"
   },
   {
    "duration": 2,
    "start_time": "2022-11-12T17:58:28.704Z"
   },
   {
    "duration": 25,
    "start_time": "2022-11-12T17:58:28.707Z"
   },
   {
    "duration": 2,
    "start_time": "2022-11-12T17:58:28.734Z"
   },
   {
    "duration": 13,
    "start_time": "2022-11-12T17:58:28.738Z"
   },
   {
    "duration": 35,
    "start_time": "2022-11-12T17:58:28.752Z"
   },
   {
    "duration": 11,
    "start_time": "2022-11-12T17:58:28.789Z"
   },
   {
    "duration": 6,
    "start_time": "2022-11-12T17:58:28.801Z"
   },
   {
    "duration": 8,
    "start_time": "2022-11-12T17:58:28.809Z"
   },
   {
    "duration": 11,
    "start_time": "2022-11-12T17:58:28.830Z"
   },
   {
    "duration": 11,
    "start_time": "2022-11-12T17:58:28.842Z"
   },
   {
    "duration": 22,
    "start_time": "2022-11-12T17:58:28.855Z"
   },
   {
    "duration": 8,
    "start_time": "2022-11-12T17:58:28.879Z"
   },
   {
    "duration": 6,
    "start_time": "2022-11-12T17:58:28.889Z"
   },
   {
    "duration": 248,
    "start_time": "2022-11-12T17:58:28.897Z"
   },
   {
    "duration": 8,
    "start_time": "2022-11-12T17:58:29.147Z"
   },
   {
    "duration": 6,
    "start_time": "2022-11-12T17:58:29.157Z"
   },
   {
    "duration": 218,
    "start_time": "2022-11-12T17:58:29.165Z"
   },
   {
    "duration": 1307,
    "start_time": "2022-11-12T21:59:26.215Z"
   },
   {
    "duration": 86,
    "start_time": "2022-11-12T21:59:27.524Z"
   },
   {
    "duration": 21,
    "start_time": "2022-11-12T21:59:27.611Z"
   },
   {
    "duration": 7,
    "start_time": "2022-11-12T21:59:27.633Z"
   },
   {
    "duration": 23,
    "start_time": "2022-11-12T21:59:27.642Z"
   },
   {
    "duration": 7,
    "start_time": "2022-11-12T21:59:27.667Z"
   },
   {
    "duration": 12,
    "start_time": "2022-11-12T21:59:27.675Z"
   },
   {
    "duration": 7,
    "start_time": "2022-11-12T21:59:27.688Z"
   },
   {
    "duration": 31,
    "start_time": "2022-11-12T21:59:27.696Z"
   },
   {
    "duration": 8,
    "start_time": "2022-11-12T21:59:27.728Z"
   },
   {
    "duration": 16,
    "start_time": "2022-11-12T21:59:27.737Z"
   },
   {
    "duration": 8,
    "start_time": "2022-11-12T21:59:27.755Z"
   },
   {
    "duration": 18,
    "start_time": "2022-11-12T21:59:27.764Z"
   },
   {
    "duration": 40,
    "start_time": "2022-11-12T21:59:27.784Z"
   },
   {
    "duration": 6,
    "start_time": "2022-11-12T21:59:27.826Z"
   },
   {
    "duration": 22,
    "start_time": "2022-11-12T21:59:27.834Z"
   },
   {
    "duration": 4302,
    "start_time": "2022-11-12T21:59:27.858Z"
   },
   {
    "duration": 33,
    "start_time": "2022-11-12T21:59:32.162Z"
   },
   {
    "duration": 85,
    "start_time": "2022-11-12T21:59:32.197Z"
   },
   {
    "duration": 6,
    "start_time": "2022-11-12T21:59:32.283Z"
   },
   {
    "duration": 301,
    "start_time": "2022-11-12T21:59:32.290Z"
   },
   {
    "duration": 8,
    "start_time": "2022-11-12T21:59:32.593Z"
   },
   {
    "duration": 24,
    "start_time": "2022-11-12T21:59:32.602Z"
   },
   {
    "duration": 6,
    "start_time": "2022-11-12T21:59:32.627Z"
   },
   {
    "duration": 20,
    "start_time": "2022-11-12T21:59:32.634Z"
   },
   {
    "duration": 349,
    "start_time": "2022-11-12T21:59:32.655Z"
   },
   {
    "duration": 107,
    "start_time": "2022-11-12T21:59:33.005Z"
   },
   {
    "duration": 24,
    "start_time": "2022-11-12T21:59:33.114Z"
   },
   {
    "duration": 21,
    "start_time": "2022-11-12T21:59:42.957Z"
   },
   {
    "duration": 12,
    "start_time": "2022-11-12T22:00:10.857Z"
   },
   {
    "duration": 5,
    "start_time": "2022-11-12T22:00:28.337Z"
   },
   {
    "duration": 15,
    "start_time": "2022-11-12T22:00:35.929Z"
   },
   {
    "duration": 287,
    "start_time": "2022-11-13T00:32:43.328Z"
   },
   {
    "duration": 6,
    "start_time": "2022-11-13T00:33:07.670Z"
   },
   {
    "duration": 11,
    "start_time": "2022-11-13T00:33:08.048Z"
   },
   {
    "duration": 5,
    "start_time": "2022-11-13T00:33:08.398Z"
   },
   {
    "duration": 13,
    "start_time": "2022-11-13T00:33:08.848Z"
   },
   {
    "duration": 316,
    "start_time": "2022-11-13T00:33:10.622Z"
   },
   {
    "duration": 1126,
    "start_time": "2022-11-14T18:26:16.890Z"
   },
   {
    "duration": 89,
    "start_time": "2022-11-14T18:26:18.017Z"
   },
   {
    "duration": 20,
    "start_time": "2022-11-14T18:26:18.107Z"
   },
   {
    "duration": 2,
    "start_time": "2022-11-14T18:26:18.129Z"
   },
   {
    "duration": 24,
    "start_time": "2022-11-14T18:26:18.133Z"
   },
   {
    "duration": 6,
    "start_time": "2022-11-14T18:26:18.158Z"
   },
   {
    "duration": 13,
    "start_time": "2022-11-14T18:26:18.166Z"
   },
   {
    "duration": 6,
    "start_time": "2022-11-14T18:26:18.180Z"
   },
   {
    "duration": 15,
    "start_time": "2022-11-14T18:26:18.188Z"
   },
   {
    "duration": 7,
    "start_time": "2022-11-14T18:26:18.204Z"
   },
   {
    "duration": 17,
    "start_time": "2022-11-14T18:26:18.213Z"
   },
   {
    "duration": 24,
    "start_time": "2022-11-14T18:26:18.231Z"
   },
   {
    "duration": 15,
    "start_time": "2022-11-14T18:26:18.256Z"
   },
   {
    "duration": 14,
    "start_time": "2022-11-14T18:26:18.273Z"
   },
   {
    "duration": 4,
    "start_time": "2022-11-14T18:26:18.289Z"
   },
   {
    "duration": 16,
    "start_time": "2022-11-14T18:26:18.295Z"
   },
   {
    "duration": 4417,
    "start_time": "2022-11-14T18:26:18.312Z"
   },
   {
    "duration": 54,
    "start_time": "2022-11-14T18:26:22.731Z"
   },
   {
    "duration": 87,
    "start_time": "2022-11-14T18:26:22.787Z"
   },
   {
    "duration": 5,
    "start_time": "2022-11-14T18:26:22.876Z"
   },
   {
    "duration": 297,
    "start_time": "2022-11-14T18:26:22.882Z"
   },
   {
    "duration": 7,
    "start_time": "2022-11-14T18:26:23.181Z"
   },
   {
    "duration": 11,
    "start_time": "2022-11-14T18:26:23.190Z"
   },
   {
    "duration": 6,
    "start_time": "2022-11-14T18:26:23.202Z"
   },
   {
    "duration": 20,
    "start_time": "2022-11-14T18:26:23.210Z"
   },
   {
    "duration": 347,
    "start_time": "2022-11-14T18:26:23.231Z"
   },
   {
    "duration": 103,
    "start_time": "2022-11-14T18:26:23.580Z"
   },
   {
    "duration": 22,
    "start_time": "2022-11-14T18:26:23.684Z"
   },
   {
    "duration": 16,
    "start_time": "2022-11-14T18:26:23.707Z"
   },
   {
    "duration": 16,
    "start_time": "2022-11-14T18:26:23.724Z"
   },
   {
    "duration": 15,
    "start_time": "2022-11-14T18:26:23.742Z"
   },
   {
    "duration": 2,
    "start_time": "2022-11-14T18:26:23.759Z"
   },
   {
    "duration": 5,
    "start_time": "2022-11-14T18:26:23.763Z"
   },
   {
    "duration": 7,
    "start_time": "2022-11-14T18:26:23.769Z"
   },
   {
    "duration": 11,
    "start_time": "2022-11-14T18:26:23.778Z"
   },
   {
    "duration": 329,
    "start_time": "2022-11-14T18:26:23.790Z"
   },
   {
    "duration": 1033,
    "start_time": "2022-11-14T21:15:18.764Z"
   },
   {
    "duration": 44,
    "start_time": "2022-11-14T21:15:19.799Z"
   },
   {
    "duration": 20,
    "start_time": "2022-11-14T21:15:19.845Z"
   },
   {
    "duration": 6,
    "start_time": "2022-11-14T21:15:19.867Z"
   },
   {
    "duration": 23,
    "start_time": "2022-11-14T21:15:19.875Z"
   },
   {
    "duration": 6,
    "start_time": "2022-11-14T21:15:19.900Z"
   },
   {
    "duration": 8,
    "start_time": "2022-11-14T21:15:19.908Z"
   },
   {
    "duration": 4,
    "start_time": "2022-11-14T21:15:19.917Z"
   },
   {
    "duration": 15,
    "start_time": "2022-11-14T21:15:19.952Z"
   },
   {
    "duration": 8,
    "start_time": "2022-11-14T21:15:19.968Z"
   },
   {
    "duration": 14,
    "start_time": "2022-11-14T21:15:19.978Z"
   },
   {
    "duration": 6,
    "start_time": "2022-11-14T21:15:19.994Z"
   },
   {
    "duration": 17,
    "start_time": "2022-11-14T21:15:20.002Z"
   },
   {
    "duration": 37,
    "start_time": "2022-11-14T21:15:20.022Z"
   },
   {
    "duration": 5,
    "start_time": "2022-11-14T21:15:20.061Z"
   },
   {
    "duration": 16,
    "start_time": "2022-11-14T21:15:20.067Z"
   },
   {
    "duration": 4256,
    "start_time": "2022-11-14T21:15:20.085Z"
   },
   {
    "duration": 33,
    "start_time": "2022-11-14T21:15:24.342Z"
   },
   {
    "duration": 80,
    "start_time": "2022-11-14T21:15:24.377Z"
   },
   {
    "duration": 6,
    "start_time": "2022-11-14T21:15:24.459Z"
   },
   {
    "duration": 295,
    "start_time": "2022-11-14T21:15:24.467Z"
   },
   {
    "duration": 7,
    "start_time": "2022-11-14T21:15:24.764Z"
   },
   {
    "duration": 10,
    "start_time": "2022-11-14T21:15:24.773Z"
   },
   {
    "duration": 4,
    "start_time": "2022-11-14T21:15:24.784Z"
   },
   {
    "duration": 16,
    "start_time": "2022-11-14T21:15:24.789Z"
   },
   {
    "duration": 352,
    "start_time": "2022-11-14T21:15:24.807Z"
   },
   {
    "duration": 102,
    "start_time": "2022-11-14T21:15:25.160Z"
   },
   {
    "duration": 20,
    "start_time": "2022-11-14T21:15:25.263Z"
   },
   {
    "duration": 9,
    "start_time": "2022-11-14T21:15:25.284Z"
   },
   {
    "duration": 16,
    "start_time": "2022-11-14T21:15:25.295Z"
   },
   {
    "duration": 11,
    "start_time": "2022-11-14T21:15:25.312Z"
   },
   {
    "duration": 2,
    "start_time": "2022-11-14T21:15:25.324Z"
   },
   {
    "duration": 15,
    "start_time": "2022-11-14T21:15:25.327Z"
   },
   {
    "duration": 9,
    "start_time": "2022-11-14T21:15:25.343Z"
   },
   {
    "duration": 9,
    "start_time": "2022-11-14T21:15:25.353Z"
   },
   {
    "duration": 306,
    "start_time": "2022-11-14T21:15:25.363Z"
   },
   {
    "duration": 166,
    "start_time": "2022-11-14T21:15:32.275Z"
   },
   {
    "duration": 155,
    "start_time": "2022-11-14T21:15:48.895Z"
   },
   {
    "duration": 224,
    "start_time": "2022-11-14T21:16:08.675Z"
   },
   {
    "duration": 149,
    "start_time": "2022-11-14T21:16:42.990Z"
   },
   {
    "duration": 151,
    "start_time": "2022-11-14T21:16:53.638Z"
   },
   {
    "duration": 192,
    "start_time": "2022-11-14T21:17:12.364Z"
   },
   {
    "duration": 8,
    "start_time": "2022-11-14T21:20:06.535Z"
   },
   {
    "duration": 154,
    "start_time": "2022-11-14T21:22:51.158Z"
   },
   {
    "duration": 151,
    "start_time": "2022-11-14T21:23:00.475Z"
   },
   {
    "duration": 234,
    "start_time": "2022-11-14T21:23:28.415Z"
   },
   {
    "duration": 168,
    "start_time": "2022-11-14T21:23:52.452Z"
   },
   {
    "duration": 2,
    "start_time": "2022-11-14T21:37:28.375Z"
   },
   {
    "duration": 3,
    "start_time": "2022-11-14T21:37:35.516Z"
   },
   {
    "duration": 2,
    "start_time": "2022-11-14T21:37:46.838Z"
   },
   {
    "duration": 3,
    "start_time": "2022-11-14T21:37:52.572Z"
   },
   {
    "duration": 2,
    "start_time": "2022-11-14T21:38:00.248Z"
   },
   {
    "duration": 171,
    "start_time": "2022-11-14T21:45:18.775Z"
   },
   {
    "duration": 172,
    "start_time": "2022-11-14T21:45:36.858Z"
   },
   {
    "duration": 234,
    "start_time": "2022-11-14T21:45:54.093Z"
   },
   {
    "duration": 186,
    "start_time": "2022-11-14T21:46:24.316Z"
   },
   {
    "duration": 192,
    "start_time": "2022-11-14T21:46:37.014Z"
   },
   {
    "duration": 245,
    "start_time": "2022-11-14T21:47:04.118Z"
   },
   {
    "duration": 10,
    "start_time": "2022-11-14T21:48:25.442Z"
   },
   {
    "duration": 5,
    "start_time": "2022-11-14T21:48:50.665Z"
   },
   {
    "duration": 4,
    "start_time": "2022-11-14T21:48:58.561Z"
   },
   {
    "duration": 6,
    "start_time": "2022-11-14T21:49:02.023Z"
   },
   {
    "duration": 6,
    "start_time": "2022-11-14T21:49:02.925Z"
   },
   {
    "duration": 9,
    "start_time": "2022-11-14T21:49:55.023Z"
   },
   {
    "duration": 4,
    "start_time": "2022-11-14T21:50:05.740Z"
   },
   {
    "duration": 4,
    "start_time": "2022-11-14T21:50:22.597Z"
   },
   {
    "duration": 4,
    "start_time": "2022-11-14T21:50:23.177Z"
   },
   {
    "duration": 8,
    "start_time": "2022-11-14T21:51:00.196Z"
   },
   {
    "duration": 5,
    "start_time": "2022-11-14T21:51:24.314Z"
   },
   {
    "duration": 5,
    "start_time": "2022-11-14T21:51:24.899Z"
   },
   {
    "duration": 2,
    "start_time": "2022-11-14T21:55:07.337Z"
   },
   {
    "duration": 2,
    "start_time": "2022-11-14T21:55:10.627Z"
   },
   {
    "duration": 2,
    "start_time": "2022-11-14T21:55:13.391Z"
   },
   {
    "duration": 408,
    "start_time": "2022-11-14T21:58:16.472Z"
   },
   {
    "duration": 367,
    "start_time": "2022-11-14T21:58:25.287Z"
   },
   {
    "duration": 405,
    "start_time": "2022-11-14T21:59:14.903Z"
   },
   {
    "duration": 155,
    "start_time": "2022-11-14T22:04:20.852Z"
   },
   {
    "duration": 388,
    "start_time": "2022-11-14T22:05:19.315Z"
   },
   {
    "duration": 2,
    "start_time": "2022-11-14T22:10:42.008Z"
   },
   {
    "duration": 3,
    "start_time": "2022-11-14T22:11:11.187Z"
   },
   {
    "duration": 9,
    "start_time": "2022-11-14T22:11:17.108Z"
   },
   {
    "duration": 3,
    "start_time": "2022-11-14T22:11:17.288Z"
   },
   {
    "duration": 4,
    "start_time": "2022-11-14T22:11:17.763Z"
   },
   {
    "duration": 123,
    "start_time": "2022-11-14T22:11:17.968Z"
   },
   {
    "duration": 10,
    "start_time": "2022-11-14T22:11:20.272Z"
   },
   {
    "duration": 5,
    "start_time": "2022-11-14T22:11:20.508Z"
   },
   {
    "duration": 5,
    "start_time": "2022-11-14T22:11:20.767Z"
   },
   {
    "duration": 11,
    "start_time": "2022-11-14T22:11:23.373Z"
   },
   {
    "duration": 10,
    "start_time": "2022-11-14T22:11:24.751Z"
   },
   {
    "duration": 18,
    "start_time": "2022-11-14T22:11:34.870Z"
   },
   {
    "duration": 7,
    "start_time": "2022-11-14T22:11:38.357Z"
   },
   {
    "duration": 11,
    "start_time": "2022-11-14T22:20:15.246Z"
   },
   {
    "duration": 10,
    "start_time": "2022-11-14T22:20:20.771Z"
   },
   {
    "duration": 9,
    "start_time": "2022-11-14T22:20:29.648Z"
   },
   {
    "duration": 11,
    "start_time": "2022-11-14T22:20:46.888Z"
   },
   {
    "duration": 9,
    "start_time": "2022-11-14T22:20:57.577Z"
   },
   {
    "duration": 6,
    "start_time": "2022-11-14T22:22:47.397Z"
   },
   {
    "duration": 9,
    "start_time": "2022-11-14T22:22:49.438Z"
   },
   {
    "duration": 8,
    "start_time": "2022-11-14T22:31:49.116Z"
   },
   {
    "duration": 90,
    "start_time": "2022-11-14T23:40:12.791Z"
   },
   {
    "duration": 88,
    "start_time": "2022-11-14T23:40:22.750Z"
   },
   {
    "duration": 4,
    "start_time": "2022-11-14T23:40:37.110Z"
   },
   {
    "duration": 983,
    "start_time": "2022-11-14T23:40:50.713Z"
   },
   {
    "duration": 44,
    "start_time": "2022-11-14T23:40:51.697Z"
   },
   {
    "duration": 17,
    "start_time": "2022-11-14T23:40:51.743Z"
   },
   {
    "duration": 6,
    "start_time": "2022-11-14T23:40:51.762Z"
   },
   {
    "duration": 28,
    "start_time": "2022-11-14T23:40:51.769Z"
   },
   {
    "duration": 6,
    "start_time": "2022-11-14T23:40:51.799Z"
   },
   {
    "duration": 8,
    "start_time": "2022-11-14T23:40:51.806Z"
   },
   {
    "duration": 4,
    "start_time": "2022-11-14T23:40:51.815Z"
   },
   {
    "duration": 18,
    "start_time": "2022-11-14T23:40:51.820Z"
   },
   {
    "duration": 13,
    "start_time": "2022-11-14T23:40:51.839Z"
   },
   {
    "duration": 14,
    "start_time": "2022-11-14T23:40:51.853Z"
   },
   {
    "duration": 7,
    "start_time": "2022-11-14T23:40:51.868Z"
   },
   {
    "duration": 13,
    "start_time": "2022-11-14T23:40:51.877Z"
   },
   {
    "duration": 14,
    "start_time": "2022-11-14T23:40:51.893Z"
   },
   {
    "duration": 4,
    "start_time": "2022-11-14T23:40:51.908Z"
   },
   {
    "duration": 17,
    "start_time": "2022-11-14T23:40:51.913Z"
   },
   {
    "duration": 3944,
    "start_time": "2022-11-14T23:40:51.952Z"
   },
   {
    "duration": 34,
    "start_time": "2022-11-14T23:40:55.897Z"
   },
   {
    "duration": 75,
    "start_time": "2022-11-14T23:40:55.932Z"
   },
   {
    "duration": 4,
    "start_time": "2022-11-14T23:40:56.009Z"
   },
   {
    "duration": 289,
    "start_time": "2022-11-14T23:40:56.015Z"
   },
   {
    "duration": 7,
    "start_time": "2022-11-14T23:40:56.305Z"
   },
   {
    "duration": 12,
    "start_time": "2022-11-14T23:40:56.313Z"
   },
   {
    "duration": 3,
    "start_time": "2022-11-14T23:40:56.327Z"
   },
   {
    "duration": 27,
    "start_time": "2022-11-14T23:40:56.331Z"
   },
   {
    "duration": 335,
    "start_time": "2022-11-14T23:40:56.359Z"
   },
   {
    "duration": 104,
    "start_time": "2022-11-14T23:40:56.696Z"
   },
   {
    "duration": 20,
    "start_time": "2022-11-14T23:40:56.801Z"
   },
   {
    "duration": 4,
    "start_time": "2022-11-14T23:40:56.822Z"
   },
   {
    "duration": 27,
    "start_time": "2022-11-14T23:40:56.827Z"
   },
   {
    "duration": 18,
    "start_time": "2022-11-14T23:40:56.855Z"
   },
   {
    "duration": 6,
    "start_time": "2022-11-14T23:40:56.874Z"
   },
   {
    "duration": 7,
    "start_time": "2022-11-14T23:40:56.881Z"
   },
   {
    "duration": 5,
    "start_time": "2022-11-14T23:40:56.889Z"
   },
   {
    "duration": 11,
    "start_time": "2022-11-14T23:40:56.895Z"
   },
   {
    "duration": 331,
    "start_time": "2022-11-14T23:40:56.908Z"
   },
   {
    "duration": 162,
    "start_time": "2022-11-14T23:40:57.240Z"
   },
   {
    "duration": 177,
    "start_time": "2022-11-14T23:40:57.403Z"
   },
   {
    "duration": 220,
    "start_time": "2022-11-14T23:40:57.582Z"
   },
   {
    "duration": 177,
    "start_time": "2022-11-14T23:40:57.804Z"
   },
   {
    "duration": 2,
    "start_time": "2022-11-14T23:40:57.985Z"
   },
   {
    "duration": 224,
    "start_time": "2022-11-14T23:40:57.989Z"
   },
   {
    "duration": 202,
    "start_time": "2022-11-14T23:40:58.214Z"
   },
   {
    "duration": 245,
    "start_time": "2022-11-14T23:40:58.418Z"
   },
   {
    "duration": 10,
    "start_time": "2022-11-14T23:40:58.665Z"
   },
   {
    "duration": 10,
    "start_time": "2022-11-14T23:40:58.677Z"
   },
   {
    "duration": 5,
    "start_time": "2022-11-14T23:40:58.688Z"
   },
   {
    "duration": 9,
    "start_time": "2022-11-14T23:40:58.695Z"
   },
   {
    "duration": 5,
    "start_time": "2022-11-14T23:40:58.705Z"
   },
   {
    "duration": 5,
    "start_time": "2022-11-14T23:40:58.712Z"
   },
   {
    "duration": 34,
    "start_time": "2022-11-14T23:40:58.718Z"
   },
   {
    "duration": 4,
    "start_time": "2022-11-14T23:40:58.754Z"
   },
   {
    "duration": 4,
    "start_time": "2022-11-14T23:40:58.760Z"
   },
   {
    "duration": 4,
    "start_time": "2022-11-14T23:40:58.766Z"
   },
   {
    "duration": 8,
    "start_time": "2022-11-14T23:40:58.771Z"
   },
   {
    "duration": 5,
    "start_time": "2022-11-14T23:40:58.780Z"
   },
   {
    "duration": 6,
    "start_time": "2022-11-14T23:40:58.787Z"
   },
   {
    "duration": 4,
    "start_time": "2022-11-14T23:40:58.794Z"
   },
   {
    "duration": 6,
    "start_time": "2022-11-14T23:40:58.800Z"
   },
   {
    "duration": 23,
    "start_time": "2022-11-14T23:40:58.807Z"
   },
   {
    "duration": 19,
    "start_time": "2022-11-14T23:41:08.030Z"
   },
   {
    "duration": 89,
    "start_time": "2022-11-14T23:41:11.367Z"
   },
   {
    "duration": 90,
    "start_time": "2022-11-14T23:41:21.590Z"
   },
   {
    "duration": 208,
    "start_time": "2022-11-14T23:41:32.265Z"
   },
   {
    "duration": 195,
    "start_time": "2022-11-14T23:41:47.302Z"
   },
   {
    "duration": 191,
    "start_time": "2022-11-14T23:41:53.310Z"
   },
   {
    "duration": 199,
    "start_time": "2022-11-14T23:42:00.231Z"
   },
   {
    "duration": 262,
    "start_time": "2022-11-14T23:42:17.311Z"
   },
   {
    "duration": 3,
    "start_time": "2022-11-14T23:42:38.790Z"
   },
   {
    "duration": 18,
    "start_time": "2022-11-14T23:43:09.791Z"
   },
   {
    "duration": 5,
    "start_time": "2022-11-14T23:43:43.952Z"
   },
   {
    "duration": 20,
    "start_time": "2022-11-14T23:43:53.318Z"
   },
   {
    "duration": 3,
    "start_time": "2022-11-14T23:44:11.110Z"
   },
   {
    "duration": 19,
    "start_time": "2022-11-14T23:44:11.918Z"
   },
   {
    "duration": 4,
    "start_time": "2022-11-14T23:44:40.790Z"
   },
   {
    "duration": 18,
    "start_time": "2022-11-14T23:44:41.390Z"
   },
   {
    "duration": 9,
    "start_time": "2022-11-14T23:44:51.950Z"
   },
   {
    "duration": 3,
    "start_time": "2022-11-14T23:44:52.150Z"
   },
   {
    "duration": 5,
    "start_time": "2022-11-14T23:44:52.350Z"
   },
   {
    "duration": 19,
    "start_time": "2022-11-14T23:44:52.540Z"
   },
   {
    "duration": 9,
    "start_time": "2022-11-14T23:44:54.787Z"
   },
   {
    "duration": 5,
    "start_time": "2022-11-14T23:44:55.191Z"
   },
   {
    "duration": 4,
    "start_time": "2022-11-14T23:44:55.591Z"
   },
   {
    "duration": 9,
    "start_time": "2022-11-14T23:44:58.297Z"
   },
   {
    "duration": 8,
    "start_time": "2022-11-14T23:44:59.111Z"
   },
   {
    "duration": 18,
    "start_time": "2022-11-14T23:45:04.507Z"
   },
   {
    "duration": 7,
    "start_time": "2022-11-14T23:45:07.751Z"
   },
   {
    "duration": 9,
    "start_time": "2022-11-14T23:45:19.390Z"
   },
   {
    "duration": 9,
    "start_time": "2022-11-14T23:45:23.671Z"
   },
   {
    "duration": 9,
    "start_time": "2022-11-14T23:46:15.591Z"
   },
   {
    "duration": 10,
    "start_time": "2022-11-14T23:50:40.029Z"
   },
   {
    "duration": 172,
    "start_time": "2022-11-14T23:50:45.014Z"
   },
   {
    "duration": 8,
    "start_time": "2022-11-14T23:52:06.376Z"
   },
   {
    "duration": 8,
    "start_time": "2022-11-14T23:53:31.271Z"
   },
   {
    "duration": 9,
    "start_time": "2022-11-14T23:53:45.538Z"
   },
   {
    "duration": 4,
    "start_time": "2022-11-14T23:54:28.195Z"
   },
   {
    "duration": 185,
    "start_time": "2022-11-14T23:55:04.393Z"
   },
   {
    "duration": 1159,
    "start_time": "2022-11-15T20:04:11.675Z"
   },
   {
    "duration": 47,
    "start_time": "2022-11-15T20:04:12.836Z"
   },
   {
    "duration": 21,
    "start_time": "2022-11-15T20:04:12.884Z"
   },
   {
    "duration": 3,
    "start_time": "2022-11-15T20:04:12.906Z"
   },
   {
    "duration": 25,
    "start_time": "2022-11-15T20:04:12.911Z"
   },
   {
    "duration": 9,
    "start_time": "2022-11-15T20:04:12.938Z"
   },
   {
    "duration": 8,
    "start_time": "2022-11-15T20:04:12.948Z"
   },
   {
    "duration": 5,
    "start_time": "2022-11-15T20:04:12.958Z"
   },
   {
    "duration": 15,
    "start_time": "2022-11-15T20:04:12.964Z"
   },
   {
    "duration": 7,
    "start_time": "2022-11-15T20:04:12.981Z"
   },
   {
    "duration": 45,
    "start_time": "2022-11-15T20:04:12.989Z"
   },
   {
    "duration": 15,
    "start_time": "2022-11-15T20:04:13.037Z"
   },
   {
    "duration": 25,
    "start_time": "2022-11-15T20:04:13.054Z"
   },
   {
    "duration": 16,
    "start_time": "2022-11-15T20:04:13.081Z"
   },
   {
    "duration": 4,
    "start_time": "2022-11-15T20:04:13.098Z"
   },
   {
    "duration": 26,
    "start_time": "2022-11-15T20:04:13.104Z"
   },
   {
    "duration": 4729,
    "start_time": "2022-11-15T20:04:13.134Z"
   },
   {
    "duration": 35,
    "start_time": "2022-11-15T20:04:17.865Z"
   },
   {
    "duration": 91,
    "start_time": "2022-11-15T20:04:17.901Z"
   },
   {
    "duration": 5,
    "start_time": "2022-11-15T20:04:17.994Z"
   },
   {
    "duration": 341,
    "start_time": "2022-11-15T20:04:18.001Z"
   },
   {
    "duration": 6,
    "start_time": "2022-11-15T20:04:18.344Z"
   },
   {
    "duration": 12,
    "start_time": "2022-11-15T20:04:18.352Z"
   },
   {
    "duration": 4,
    "start_time": "2022-11-15T20:04:18.366Z"
   },
   {
    "duration": 20,
    "start_time": "2022-11-15T20:04:18.372Z"
   },
   {
    "duration": 374,
    "start_time": "2022-11-15T20:04:18.393Z"
   },
   {
    "duration": 125,
    "start_time": "2022-11-15T20:04:18.768Z"
   },
   {
    "duration": 28,
    "start_time": "2022-11-15T20:04:18.894Z"
   },
   {
    "duration": 6,
    "start_time": "2022-11-15T20:04:18.926Z"
   },
   {
    "duration": 23,
    "start_time": "2022-11-15T20:04:18.934Z"
   },
   {
    "duration": 12,
    "start_time": "2022-11-15T20:04:18.958Z"
   },
   {
    "duration": 3,
    "start_time": "2022-11-15T20:04:18.971Z"
   },
   {
    "duration": 5,
    "start_time": "2022-11-15T20:04:18.975Z"
   },
   {
    "duration": 7,
    "start_time": "2022-11-15T20:04:18.981Z"
   },
   {
    "duration": 16,
    "start_time": "2022-11-15T20:04:18.989Z"
   },
   {
    "duration": 404,
    "start_time": "2022-11-15T20:04:19.006Z"
   },
   {
    "duration": 187,
    "start_time": "2022-11-15T20:04:19.412Z"
   },
   {
    "duration": 191,
    "start_time": "2022-11-15T20:04:19.601Z"
   },
   {
    "duration": 235,
    "start_time": "2022-11-15T20:04:19.794Z"
   },
   {
    "duration": 195,
    "start_time": "2022-11-15T20:04:20.030Z"
   },
   {
    "duration": 3,
    "start_time": "2022-11-15T20:04:20.231Z"
   },
   {
    "duration": 264,
    "start_time": "2022-11-15T20:04:20.237Z"
   },
   {
    "duration": 244,
    "start_time": "2022-11-15T20:04:20.503Z"
   },
   {
    "duration": 284,
    "start_time": "2022-11-15T20:04:20.749Z"
   },
   {
    "duration": 11,
    "start_time": "2022-11-15T20:04:21.036Z"
   },
   {
    "duration": 7,
    "start_time": "2022-11-15T20:04:21.048Z"
   },
   {
    "duration": 6,
    "start_time": "2022-11-15T20:04:21.056Z"
   },
   {
    "duration": 14,
    "start_time": "2022-11-15T20:04:21.063Z"
   },
   {
    "duration": 6,
    "start_time": "2022-11-15T20:04:21.079Z"
   },
   {
    "duration": 6,
    "start_time": "2022-11-15T20:04:21.086Z"
   },
   {
    "duration": 11,
    "start_time": "2022-11-15T20:04:21.094Z"
   },
   {
    "duration": 27,
    "start_time": "2022-11-15T20:04:21.106Z"
   },
   {
    "duration": 9,
    "start_time": "2022-11-15T20:04:21.136Z"
   },
   {
    "duration": 3,
    "start_time": "2022-11-15T20:04:21.147Z"
   },
   {
    "duration": 8,
    "start_time": "2022-11-15T20:04:21.151Z"
   },
   {
    "duration": 5,
    "start_time": "2022-11-15T20:04:21.160Z"
   },
   {
    "duration": 6,
    "start_time": "2022-11-15T20:04:21.167Z"
   },
   {
    "duration": 9,
    "start_time": "2022-11-15T20:04:21.174Z"
   },
   {
    "duration": 9,
    "start_time": "2022-11-15T20:04:21.185Z"
   },
   {
    "duration": 36,
    "start_time": "2022-11-15T20:04:21.195Z"
   },
   {
    "duration": 237,
    "start_time": "2022-11-15T20:04:21.235Z"
   },
   {
    "duration": 3,
    "start_time": "2022-11-15T20:04:21.474Z"
   },
   {
    "duration": 8,
    "start_time": "2022-11-15T20:04:21.479Z"
   },
   {
    "duration": 6,
    "start_time": "2022-11-15T20:04:21.488Z"
   },
   {
    "duration": 34,
    "start_time": "2022-11-15T20:04:21.495Z"
   },
   {
    "duration": 16,
    "start_time": "2022-11-15T20:04:21.534Z"
   },
   {
    "duration": 2,
    "start_time": "2022-11-15T20:04:21.552Z"
   },
   {
    "duration": 6,
    "start_time": "2022-11-15T20:04:21.555Z"
   },
   {
    "duration": 25,
    "start_time": "2022-11-15T20:04:21.562Z"
   },
   {
    "duration": 11,
    "start_time": "2022-11-15T20:04:21.588Z"
   },
   {
    "duration": 22,
    "start_time": "2022-11-15T20:04:21.601Z"
   },
   {
    "duration": 21,
    "start_time": "2022-11-15T20:04:21.625Z"
   },
   {
    "duration": 12,
    "start_time": "2022-11-15T20:04:21.648Z"
   },
   {
    "duration": 10,
    "start_time": "2022-11-15T20:04:21.662Z"
   },
   {
    "duration": 22,
    "start_time": "2022-11-15T20:04:21.674Z"
   },
   {
    "duration": 9,
    "start_time": "2022-11-15T20:04:21.697Z"
   },
   {
    "duration": 21,
    "start_time": "2022-11-15T20:04:21.725Z"
   },
   {
    "duration": 232,
    "start_time": "2022-11-15T20:04:21.748Z"
   },
   {
    "duration": 8,
    "start_time": "2022-11-15T20:04:21.981Z"
   },
   {
    "duration": 13,
    "start_time": "2022-11-15T20:04:21.991Z"
   },
   {
    "duration": 240,
    "start_time": "2022-11-15T20:04:22.006Z"
   },
   {
    "duration": 1148,
    "start_time": "2022-11-15T20:05:07.816Z"
   },
   {
    "duration": 57,
    "start_time": "2022-11-15T20:05:08.966Z"
   },
   {
    "duration": 27,
    "start_time": "2022-11-15T20:05:09.029Z"
   },
   {
    "duration": 15,
    "start_time": "2022-11-15T20:05:09.058Z"
   },
   {
    "duration": 38,
    "start_time": "2022-11-15T20:05:09.074Z"
   },
   {
    "duration": 29,
    "start_time": "2022-11-15T20:05:09.114Z"
   },
   {
    "duration": 20,
    "start_time": "2022-11-15T20:05:09.144Z"
   },
   {
    "duration": 15,
    "start_time": "2022-11-15T20:05:09.166Z"
   },
   {
    "duration": 29,
    "start_time": "2022-11-15T20:05:09.182Z"
   },
   {
    "duration": 15,
    "start_time": "2022-11-15T20:05:09.213Z"
   },
   {
    "duration": 46,
    "start_time": "2022-11-15T20:05:09.230Z"
   },
   {
    "duration": 20,
    "start_time": "2022-11-15T20:05:09.277Z"
   },
   {
    "duration": 29,
    "start_time": "2022-11-15T20:05:09.299Z"
   },
   {
    "duration": 28,
    "start_time": "2022-11-15T20:05:09.330Z"
   },
   {
    "duration": 5,
    "start_time": "2022-11-15T20:05:09.360Z"
   },
   {
    "duration": 40,
    "start_time": "2022-11-15T20:05:09.367Z"
   },
   {
    "duration": 4759,
    "start_time": "2022-11-15T20:05:09.409Z"
   },
   {
    "duration": 41,
    "start_time": "2022-11-15T20:05:14.170Z"
   },
   {
    "duration": 99,
    "start_time": "2022-11-15T20:05:14.212Z"
   },
   {
    "duration": 9,
    "start_time": "2022-11-15T20:05:14.323Z"
   },
   {
    "duration": 350,
    "start_time": "2022-11-15T20:05:14.334Z"
   },
   {
    "duration": 7,
    "start_time": "2022-11-15T20:05:14.686Z"
   },
   {
    "duration": 16,
    "start_time": "2022-11-15T20:05:14.696Z"
   },
   {
    "duration": 10,
    "start_time": "2022-11-15T20:05:14.721Z"
   },
   {
    "duration": 20,
    "start_time": "2022-11-15T20:05:14.733Z"
   },
   {
    "duration": 368,
    "start_time": "2022-11-15T20:05:14.755Z"
   },
   {
    "duration": 125,
    "start_time": "2022-11-15T20:05:15.126Z"
   },
   {
    "duration": 21,
    "start_time": "2022-11-15T20:05:15.252Z"
   },
   {
    "duration": 9,
    "start_time": "2022-11-15T20:05:15.275Z"
   },
   {
    "duration": 20,
    "start_time": "2022-11-15T20:05:15.285Z"
   },
   {
    "duration": 25,
    "start_time": "2022-11-15T20:05:15.306Z"
   },
   {
    "duration": 12,
    "start_time": "2022-11-15T20:05:15.333Z"
   },
   {
    "duration": 7,
    "start_time": "2022-11-15T20:05:15.347Z"
   },
   {
    "duration": 6,
    "start_time": "2022-11-15T20:05:15.356Z"
   },
   {
    "duration": 15,
    "start_time": "2022-11-15T20:05:15.364Z"
   },
   {
    "duration": 370,
    "start_time": "2022-11-15T20:05:15.380Z"
   },
   {
    "duration": 207,
    "start_time": "2022-11-15T20:05:15.752Z"
   },
   {
    "duration": 201,
    "start_time": "2022-11-15T20:05:15.960Z"
   },
   {
    "duration": 245,
    "start_time": "2022-11-15T20:05:16.163Z"
   },
   {
    "duration": 193,
    "start_time": "2022-11-15T20:05:16.410Z"
   },
   {
    "duration": 2,
    "start_time": "2022-11-15T20:05:16.605Z"
   },
   {
    "duration": 308,
    "start_time": "2022-11-15T20:05:16.609Z"
   },
   {
    "duration": 250,
    "start_time": "2022-11-15T20:05:16.922Z"
   },
   {
    "duration": 277,
    "start_time": "2022-11-15T20:05:17.174Z"
   },
   {
    "duration": 11,
    "start_time": "2022-11-15T20:05:17.452Z"
   },
   {
    "duration": 275,
    "start_time": "2022-11-15T20:05:17.464Z"
   },
   {
    "duration": 31,
    "start_time": "2022-11-15T20:05:17.740Z"
   },
   {
    "duration": 29,
    "start_time": "2022-11-15T20:05:17.773Z"
   },
   {
    "duration": 14,
    "start_time": "2022-11-15T20:05:17.804Z"
   },
   {
    "duration": 21,
    "start_time": "2022-11-15T20:05:17.820Z"
   },
   {
    "duration": 26,
    "start_time": "2022-11-15T20:05:17.843Z"
   },
   {
    "duration": 14,
    "start_time": "2022-11-15T20:05:17.871Z"
   },
   {
    "duration": 22,
    "start_time": "2022-11-15T20:05:17.886Z"
   },
   {
    "duration": 26,
    "start_time": "2022-11-15T20:05:17.909Z"
   },
   {
    "duration": 20,
    "start_time": "2022-11-15T20:05:17.936Z"
   },
   {
    "duration": 28,
    "start_time": "2022-11-15T20:05:17.957Z"
   },
   {
    "duration": 18,
    "start_time": "2022-11-15T20:05:17.987Z"
   },
   {
    "duration": 154,
    "start_time": "2022-11-15T20:05:18.007Z"
   },
   {
    "duration": 40,
    "start_time": "2022-11-15T20:05:18.163Z"
   },
   {
    "duration": 40,
    "start_time": "2022-11-15T20:05:18.205Z"
   },
   {
    "duration": 252,
    "start_time": "2022-11-15T20:05:18.247Z"
   },
   {
    "duration": 2,
    "start_time": "2022-11-15T20:05:18.501Z"
   },
   {
    "duration": 21,
    "start_time": "2022-11-15T20:05:18.504Z"
   },
   {
    "duration": 12,
    "start_time": "2022-11-15T20:05:18.536Z"
   },
   {
    "duration": 28,
    "start_time": "2022-11-15T20:05:18.550Z"
   },
   {
    "duration": 9,
    "start_time": "2022-11-15T20:05:18.580Z"
   },
   {
    "duration": 2,
    "start_time": "2022-11-15T20:05:18.591Z"
   },
   {
    "duration": 8,
    "start_time": "2022-11-15T20:05:18.597Z"
   },
   {
    "duration": 31,
    "start_time": "2022-11-15T20:05:18.606Z"
   },
   {
    "duration": 9,
    "start_time": "2022-11-15T20:05:18.639Z"
   },
   {
    "duration": 7,
    "start_time": "2022-11-15T20:05:18.650Z"
   },
   {
    "duration": 7,
    "start_time": "2022-11-15T20:05:18.658Z"
   },
   {
    "duration": 10,
    "start_time": "2022-11-15T20:05:18.667Z"
   },
   {
    "duration": 9,
    "start_time": "2022-11-15T20:05:18.678Z"
   },
   {
    "duration": 41,
    "start_time": "2022-11-15T20:05:18.688Z"
   },
   {
    "duration": 17,
    "start_time": "2022-11-15T20:05:18.731Z"
   },
   {
    "duration": 11,
    "start_time": "2022-11-15T20:05:18.749Z"
   },
   {
    "duration": 219,
    "start_time": "2022-11-15T20:05:18.762Z"
   },
   {
    "duration": 8,
    "start_time": "2022-11-15T20:05:18.982Z"
   },
   {
    "duration": 13,
    "start_time": "2022-11-15T20:05:18.991Z"
   },
   {
    "duration": 249,
    "start_time": "2022-11-15T20:05:19.006Z"
   },
   {
    "duration": 5,
    "start_time": "2022-11-15T22:11:19.868Z"
   },
   {
    "duration": 1571,
    "start_time": "2022-11-15T23:10:47.353Z"
   },
   {
    "duration": 108,
    "start_time": "2022-11-15T23:10:48.926Z"
   },
   {
    "duration": 34,
    "start_time": "2022-11-15T23:10:49.036Z"
   },
   {
    "duration": 8,
    "start_time": "2022-11-15T23:10:49.072Z"
   },
   {
    "duration": 41,
    "start_time": "2022-11-15T23:10:49.083Z"
   },
   {
    "duration": 28,
    "start_time": "2022-11-15T23:10:49.127Z"
   },
   {
    "duration": 14,
    "start_time": "2022-11-15T23:10:49.158Z"
   },
   {
    "duration": 9,
    "start_time": "2022-11-15T23:10:49.175Z"
   },
   {
    "duration": 18,
    "start_time": "2022-11-15T23:10:49.186Z"
   },
   {
    "duration": 12,
    "start_time": "2022-11-15T23:10:49.205Z"
   },
   {
    "duration": 46,
    "start_time": "2022-11-15T23:10:49.219Z"
   },
   {
    "duration": 20,
    "start_time": "2022-11-15T23:10:49.267Z"
   },
   {
    "duration": 26,
    "start_time": "2022-11-15T23:10:49.289Z"
   },
   {
    "duration": 39,
    "start_time": "2022-11-15T23:10:49.320Z"
   },
   {
    "duration": 16,
    "start_time": "2022-11-15T23:10:49.361Z"
   },
   {
    "duration": 33,
    "start_time": "2022-11-15T23:10:49.380Z"
   },
   {
    "duration": 5907,
    "start_time": "2022-11-15T23:10:49.415Z"
   },
   {
    "duration": 52,
    "start_time": "2022-11-15T23:10:55.324Z"
   },
   {
    "duration": 131,
    "start_time": "2022-11-15T23:10:55.378Z"
   },
   {
    "duration": 15,
    "start_time": "2022-11-15T23:10:55.511Z"
   },
   {
    "duration": 461,
    "start_time": "2022-11-15T23:10:55.528Z"
   },
   {
    "duration": 8,
    "start_time": "2022-11-15T23:10:55.991Z"
   },
   {
    "duration": 14,
    "start_time": "2022-11-15T23:10:56.001Z"
   },
   {
    "duration": 5,
    "start_time": "2022-11-15T23:10:56.017Z"
   },
   {
    "duration": 43,
    "start_time": "2022-11-15T23:10:56.024Z"
   },
   {
    "duration": 460,
    "start_time": "2022-11-15T23:10:56.069Z"
   },
   {
    "duration": 143,
    "start_time": "2022-11-15T23:10:56.531Z"
   },
   {
    "duration": 26,
    "start_time": "2022-11-15T23:10:56.676Z"
   },
   {
    "duration": 5,
    "start_time": "2022-11-15T23:10:56.704Z"
   },
   {
    "duration": 51,
    "start_time": "2022-11-15T23:10:56.711Z"
   },
   {
    "duration": 20,
    "start_time": "2022-11-15T23:10:56.765Z"
   },
   {
    "duration": 3,
    "start_time": "2022-11-15T23:10:56.787Z"
   },
   {
    "duration": 7,
    "start_time": "2022-11-15T23:10:56.792Z"
   },
   {
    "duration": 6,
    "start_time": "2022-11-15T23:10:56.800Z"
   },
   {
    "duration": 15,
    "start_time": "2022-11-15T23:10:56.808Z"
   },
   {
    "duration": 446,
    "start_time": "2022-11-15T23:10:56.825Z"
   },
   {
    "duration": 237,
    "start_time": "2022-11-15T23:10:57.274Z"
   },
   {
    "duration": 308,
    "start_time": "2022-11-15T23:10:57.513Z"
   },
   {
    "duration": 220,
    "start_time": "2022-11-15T23:10:57.823Z"
   },
   {
    "duration": 243,
    "start_time": "2022-11-15T23:10:58.045Z"
   },
   {
    "duration": 3,
    "start_time": "2022-11-15T23:10:58.292Z"
   },
   {
    "duration": 311,
    "start_time": "2022-11-15T23:10:58.297Z"
   },
   {
    "duration": 287,
    "start_time": "2022-11-15T23:10:58.610Z"
   },
   {
    "duration": 385,
    "start_time": "2022-11-15T23:10:58.899Z"
   },
   {
    "duration": 11,
    "start_time": "2022-11-15T23:10:59.286Z"
   },
   {
    "duration": 14,
    "start_time": "2022-11-15T23:10:59.299Z"
   },
   {
    "duration": 7,
    "start_time": "2022-11-15T23:10:59.315Z"
   },
   {
    "duration": 38,
    "start_time": "2022-11-15T23:10:59.324Z"
   },
   {
    "duration": 15,
    "start_time": "2022-11-15T23:10:59.366Z"
   },
   {
    "duration": 9,
    "start_time": "2022-11-15T23:10:59.383Z"
   },
   {
    "duration": 15,
    "start_time": "2022-11-15T23:10:59.394Z"
   },
   {
    "duration": 5,
    "start_time": "2022-11-15T23:10:59.411Z"
   },
   {
    "duration": 7,
    "start_time": "2022-11-15T23:10:59.418Z"
   },
   {
    "duration": 26,
    "start_time": "2022-11-15T23:10:59.427Z"
   },
   {
    "duration": 12,
    "start_time": "2022-11-15T23:10:59.455Z"
   },
   {
    "duration": 7,
    "start_time": "2022-11-15T23:10:59.469Z"
   },
   {
    "duration": 9,
    "start_time": "2022-11-15T23:10:59.477Z"
   },
   {
    "duration": 4,
    "start_time": "2022-11-15T23:10:59.488Z"
   },
   {
    "duration": 5,
    "start_time": "2022-11-15T23:10:59.494Z"
   },
   {
    "duration": 26,
    "start_time": "2022-11-15T23:10:59.501Z"
   },
   {
    "duration": 390,
    "start_time": "2022-11-15T23:11:09.713Z"
   },
   {
    "duration": 300,
    "start_time": "2022-11-15T23:11:47.908Z"
   },
   {
    "duration": 1365,
    "start_time": "2022-11-20T22:49:46.512Z"
   },
   {
    "duration": 191,
    "start_time": "2022-11-20T22:49:47.880Z"
   },
   {
    "duration": 22,
    "start_time": "2022-11-20T22:49:48.073Z"
   },
   {
    "duration": 2,
    "start_time": "2022-11-20T22:49:48.097Z"
   },
   {
    "duration": 27,
    "start_time": "2022-11-20T22:49:48.101Z"
   },
   {
    "duration": 6,
    "start_time": "2022-11-20T22:49:48.130Z"
   },
   {
    "duration": 12,
    "start_time": "2022-11-20T22:49:48.138Z"
   },
   {
    "duration": 5,
    "start_time": "2022-11-20T22:49:48.153Z"
   },
   {
    "duration": 18,
    "start_time": "2022-11-20T22:49:48.160Z"
   },
   {
    "duration": 8,
    "start_time": "2022-11-20T22:49:48.180Z"
   },
   {
    "duration": 20,
    "start_time": "2022-11-20T22:49:48.190Z"
   },
   {
    "duration": 8,
    "start_time": "2022-11-20T22:49:48.212Z"
   },
   {
    "duration": 44,
    "start_time": "2022-11-20T22:49:48.221Z"
   },
   {
    "duration": 17,
    "start_time": "2022-11-20T22:49:48.268Z"
   },
   {
    "duration": 4,
    "start_time": "2022-11-20T22:49:48.287Z"
   },
   {
    "duration": 20,
    "start_time": "2022-11-20T22:49:48.293Z"
   },
   {
    "duration": 4660,
    "start_time": "2022-11-20T22:49:48.315Z"
   },
   {
    "duration": 36,
    "start_time": "2022-11-20T22:49:52.977Z"
   },
   {
    "duration": 88,
    "start_time": "2022-11-20T22:49:53.014Z"
   },
   {
    "duration": 6,
    "start_time": "2022-11-20T22:49:53.104Z"
   },
   {
    "duration": 356,
    "start_time": "2022-11-20T22:49:53.112Z"
   },
   {
    "duration": 9,
    "start_time": "2022-11-20T22:49:53.469Z"
   },
   {
    "duration": 12,
    "start_time": "2022-11-20T22:49:53.480Z"
   },
   {
    "duration": 5,
    "start_time": "2022-11-20T22:49:53.494Z"
   },
   {
    "duration": 16,
    "start_time": "2022-11-20T22:49:53.501Z"
   },
   {
    "duration": 421,
    "start_time": "2022-11-20T22:49:53.519Z"
   },
   {
    "duration": 121,
    "start_time": "2022-11-20T22:49:53.942Z"
   },
   {
    "duration": 22,
    "start_time": "2022-11-20T22:49:54.065Z"
   },
   {
    "duration": 4,
    "start_time": "2022-11-20T22:49:54.089Z"
   },
   {
    "duration": 16,
    "start_time": "2022-11-20T22:49:54.095Z"
   },
   {
    "duration": 13,
    "start_time": "2022-11-20T22:49:54.113Z"
   },
   {
    "duration": 27,
    "start_time": "2022-11-20T22:49:54.127Z"
   },
   {
    "duration": 7,
    "start_time": "2022-11-20T22:49:54.156Z"
   },
   {
    "duration": 8,
    "start_time": "2022-11-20T22:49:54.165Z"
   },
   {
    "duration": 16,
    "start_time": "2022-11-20T22:49:54.174Z"
   },
   {
    "duration": 382,
    "start_time": "2022-11-20T22:49:54.192Z"
   },
   {
    "duration": 8,
    "start_time": "2022-11-20T22:53:52.950Z"
   },
   {
    "duration": 15,
    "start_time": "2022-11-20T22:55:21.818Z"
   },
   {
    "duration": 9,
    "start_time": "2022-11-20T22:57:45.814Z"
   },
   {
    "duration": 26,
    "start_time": "2022-11-20T22:57:46.501Z"
   },
   {
    "duration": 25,
    "start_time": "2022-11-20T23:05:41.411Z"
   },
   {
    "duration": 6,
    "start_time": "2022-11-20T23:06:48.718Z"
   },
   {
    "duration": 6,
    "start_time": "2022-11-20T23:06:58.041Z"
   },
   {
    "duration": 309,
    "start_time": "2022-11-20T23:07:55.035Z"
   },
   {
    "duration": 328,
    "start_time": "2022-11-20T23:08:27.165Z"
   },
   {
    "duration": 6,
    "start_time": "2022-11-20T23:09:36.997Z"
   },
   {
    "duration": 6,
    "start_time": "2022-11-20T23:09:37.866Z"
   },
   {
    "duration": 306,
    "start_time": "2022-11-20T23:09:39.174Z"
   },
   {
    "duration": 449,
    "start_time": "2022-11-20T23:09:41.929Z"
   },
   {
    "duration": 6,
    "start_time": "2022-11-20T23:10:06.098Z"
   },
   {
    "duration": 6,
    "start_time": "2022-11-20T23:10:08.924Z"
   },
   {
    "duration": 321,
    "start_time": "2022-11-20T23:10:18.193Z"
   },
   {
    "duration": 322,
    "start_time": "2022-11-20T23:10:26.403Z"
   },
   {
    "duration": 3,
    "start_time": "2022-11-20T23:16:21.534Z"
   },
   {
    "duration": 239,
    "start_time": "2022-11-20T23:16:21.781Z"
   },
   {
    "duration": 240,
    "start_time": "2022-11-20T23:16:22.539Z"
   },
   {
    "duration": 269,
    "start_time": "2022-11-20T23:16:24.160Z"
   },
   {
    "duration": 10,
    "start_time": "2022-11-20T23:16:24.483Z"
   },
   {
    "duration": 5,
    "start_time": "2022-11-20T23:16:26.147Z"
   },
   {
    "duration": 5,
    "start_time": "2022-11-20T23:16:26.393Z"
   },
   {
    "duration": 10,
    "start_time": "2022-11-20T23:16:26.598Z"
   },
   {
    "duration": 5,
    "start_time": "2022-11-20T23:16:26.807Z"
   },
   {
    "duration": 5,
    "start_time": "2022-11-20T23:16:28.417Z"
   },
   {
    "duration": 13,
    "start_time": "2022-11-20T23:16:28.926Z"
   },
   {
    "duration": 6,
    "start_time": "2022-11-20T23:16:29.187Z"
   },
   {
    "duration": 5,
    "start_time": "2022-11-20T23:16:29.412Z"
   },
   {
    "duration": 3,
    "start_time": "2022-11-20T23:16:32.019Z"
   },
   {
    "duration": 2,
    "start_time": "2022-11-20T23:16:32.331Z"
   },
   {
    "duration": 4,
    "start_time": "2022-11-20T23:16:34.846Z"
   },
   {
    "duration": 2,
    "start_time": "2022-11-20T23:16:37.069Z"
   },
   {
    "duration": 3,
    "start_time": "2022-11-20T23:16:38.382Z"
   },
   {
    "duration": 3,
    "start_time": "2022-11-20T23:16:39.952Z"
   },
   {
    "duration": 25,
    "start_time": "2022-11-20T23:16:45.160Z"
   },
   {
    "duration": 239,
    "start_time": "2022-11-20T23:16:48.501Z"
   },
   {
    "duration": 6,
    "start_time": "2022-11-20T23:21:34.683Z"
   },
   {
    "duration": 7,
    "start_time": "2022-11-20T23:21:44.241Z"
   },
   {
    "duration": 271,
    "start_time": "2022-11-20T23:23:34.430Z"
   },
   {
    "duration": 6,
    "start_time": "2022-11-20T23:26:42.288Z"
   },
   {
    "duration": 452,
    "start_time": "2022-11-20T23:26:42.639Z"
   },
   {
    "duration": 328,
    "start_time": "2022-11-20T23:27:51.356Z"
   },
   {
    "duration": 3,
    "start_time": "2022-11-20T23:36:08.187Z"
   },
   {
    "duration": 4,
    "start_time": "2022-11-20T23:36:08.511Z"
   },
   {
    "duration": 4,
    "start_time": "2022-11-20T23:36:09.201Z"
   },
   {
    "duration": 24,
    "start_time": "2022-11-20T23:36:11.226Z"
   },
   {
    "duration": 11,
    "start_time": "2022-11-20T23:36:19.450Z"
   },
   {
    "duration": 4,
    "start_time": "2022-11-20T23:36:19.609Z"
   },
   {
    "duration": 6,
    "start_time": "2022-11-20T23:36:19.786Z"
   },
   {
    "duration": 23,
    "start_time": "2022-11-20T23:36:19.971Z"
   },
   {
    "duration": 13,
    "start_time": "2022-11-20T23:36:20.923Z"
   },
   {
    "duration": 6,
    "start_time": "2022-11-20T23:36:21.171Z"
   },
   {
    "duration": 6,
    "start_time": "2022-11-20T23:36:21.558Z"
   },
   {
    "duration": 13,
    "start_time": "2022-11-20T23:36:23.465Z"
   },
   {
    "duration": 13,
    "start_time": "2022-11-20T23:36:23.891Z"
   },
   {
    "duration": 31,
    "start_time": "2022-11-20T23:36:29.110Z"
   },
   {
    "duration": 9,
    "start_time": "2022-11-20T23:36:29.360Z"
   },
   {
    "duration": 5,
    "start_time": "2022-11-20T23:36:32.532Z"
   },
   {
    "duration": 10,
    "start_time": "2022-11-20T23:36:40.257Z"
   },
   {
    "duration": 216,
    "start_time": "2022-11-20T23:36:49.257Z"
   },
   {
    "duration": 9,
    "start_time": "2022-11-20T23:37:59.883Z"
   },
   {
    "duration": 6,
    "start_time": "2022-11-20T23:38:02.209Z"
   },
   {
    "duration": 232,
    "start_time": "2022-11-20T23:38:05.447Z"
   },
   {
    "duration": 19,
    "start_time": "2022-11-20T23:38:51.553Z"
   },
   {
    "duration": 13,
    "start_time": "2022-11-20T23:39:37.047Z"
   },
   {
    "duration": 98,
    "start_time": "2022-11-20T23:40:09.270Z"
   },
   {
    "duration": 9,
    "start_time": "2022-11-20T23:43:15.859Z"
   },
   {
    "duration": 9,
    "start_time": "2022-11-20T23:44:54.170Z"
   },
   {
    "duration": 22,
    "start_time": "2022-11-20T23:45:49.992Z"
   },
   {
    "duration": 21,
    "start_time": "2022-11-20T23:46:05.290Z"
   },
   {
    "duration": 6,
    "start_time": "2022-11-20T23:46:11.670Z"
   },
   {
    "duration": 5,
    "start_time": "2022-11-20T23:47:26.425Z"
   },
   {
    "duration": 6,
    "start_time": "2022-11-20T23:47:45.117Z"
   },
   {
    "duration": 4,
    "start_time": "2022-11-20T23:47:59.464Z"
   },
   {
    "duration": 4,
    "start_time": "2022-11-20T23:48:08.795Z"
   },
   {
    "duration": 1272,
    "start_time": "2022-11-20T23:49:35.918Z"
   },
   {
    "duration": 57,
    "start_time": "2022-11-20T23:49:37.192Z"
   },
   {
    "duration": 23,
    "start_time": "2022-11-20T23:49:37.251Z"
   },
   {
    "duration": 4,
    "start_time": "2022-11-20T23:49:37.276Z"
   },
   {
    "duration": 24,
    "start_time": "2022-11-20T23:49:37.283Z"
   },
   {
    "duration": 9,
    "start_time": "2022-11-20T23:49:37.309Z"
   },
   {
    "duration": 37,
    "start_time": "2022-11-20T23:49:37.320Z"
   },
   {
    "duration": 6,
    "start_time": "2022-11-20T23:49:37.358Z"
   },
   {
    "duration": 18,
    "start_time": "2022-11-20T23:49:37.365Z"
   },
   {
    "duration": 9,
    "start_time": "2022-11-20T23:49:37.385Z"
   },
   {
    "duration": 18,
    "start_time": "2022-11-20T23:49:37.395Z"
   },
   {
    "duration": 37,
    "start_time": "2022-11-20T23:49:37.414Z"
   },
   {
    "duration": 19,
    "start_time": "2022-11-20T23:49:37.452Z"
   },
   {
    "duration": 18,
    "start_time": "2022-11-20T23:49:37.474Z"
   },
   {
    "duration": 5,
    "start_time": "2022-11-20T23:49:37.493Z"
   },
   {
    "duration": 18,
    "start_time": "2022-11-20T23:49:37.500Z"
   },
   {
    "duration": 4595,
    "start_time": "2022-11-20T23:49:37.550Z"
   },
   {
    "duration": 40,
    "start_time": "2022-11-20T23:49:42.146Z"
   },
   {
    "duration": 100,
    "start_time": "2022-11-20T23:49:42.189Z"
   },
   {
    "duration": 8,
    "start_time": "2022-11-20T23:49:42.291Z"
   },
   {
    "duration": 339,
    "start_time": "2022-11-20T23:49:42.301Z"
   },
   {
    "duration": 12,
    "start_time": "2022-11-20T23:49:42.642Z"
   },
   {
    "duration": 13,
    "start_time": "2022-11-20T23:49:42.656Z"
   },
   {
    "duration": 6,
    "start_time": "2022-11-20T23:49:42.670Z"
   },
   {
    "duration": 18,
    "start_time": "2022-11-20T23:49:42.678Z"
   },
   {
    "duration": 414,
    "start_time": "2022-11-20T23:49:42.698Z"
   },
   {
    "duration": 117,
    "start_time": "2022-11-20T23:49:43.114Z"
   },
   {
    "duration": 24,
    "start_time": "2022-11-20T23:49:43.233Z"
   },
   {
    "duration": 6,
    "start_time": "2022-11-20T23:49:43.259Z"
   },
   {
    "duration": 20,
    "start_time": "2022-11-20T23:49:43.266Z"
   },
   {
    "duration": 12,
    "start_time": "2022-11-20T23:49:43.288Z"
   },
   {
    "duration": 3,
    "start_time": "2022-11-20T23:49:43.302Z"
   },
   {
    "duration": 6,
    "start_time": "2022-11-20T23:49:43.306Z"
   },
   {
    "duration": 5,
    "start_time": "2022-11-20T23:49:43.314Z"
   },
   {
    "duration": 42,
    "start_time": "2022-11-20T23:49:43.320Z"
   },
   {
    "duration": 420,
    "start_time": "2022-11-20T23:49:43.364Z"
   },
   {
    "duration": 7,
    "start_time": "2022-11-20T23:49:43.785Z"
   },
   {
    "duration": 13,
    "start_time": "2022-11-20T23:49:43.794Z"
   },
   {
    "duration": 413,
    "start_time": "2022-11-20T23:49:43.809Z"
   },
   {
    "duration": 342,
    "start_time": "2022-11-20T23:49:44.224Z"
   },
   {
    "duration": 2,
    "start_time": "2022-11-20T23:49:44.573Z"
   },
   {
    "duration": 297,
    "start_time": "2022-11-20T23:49:44.577Z"
   },
   {
    "duration": 257,
    "start_time": "2022-11-20T23:49:44.876Z"
   },
   {
    "duration": 291,
    "start_time": "2022-11-20T23:49:45.135Z"
   },
   {
    "duration": 11,
    "start_time": "2022-11-20T23:49:45.427Z"
   },
   {
    "duration": 23,
    "start_time": "2022-11-20T23:49:45.439Z"
   },
   {
    "duration": 6,
    "start_time": "2022-11-20T23:49:45.464Z"
   },
   {
    "duration": 15,
    "start_time": "2022-11-20T23:49:45.471Z"
   },
   {
    "duration": 27,
    "start_time": "2022-11-20T23:49:45.488Z"
   },
   {
    "duration": 9,
    "start_time": "2022-11-20T23:49:45.517Z"
   },
   {
    "duration": 11,
    "start_time": "2022-11-20T23:49:45.527Z"
   },
   {
    "duration": 18,
    "start_time": "2022-11-20T23:49:45.540Z"
   },
   {
    "duration": 22,
    "start_time": "2022-11-20T23:49:45.559Z"
   },
   {
    "duration": 15,
    "start_time": "2022-11-20T23:49:45.583Z"
   },
   {
    "duration": 22,
    "start_time": "2022-11-20T23:49:45.599Z"
   },
   {
    "duration": 14,
    "start_time": "2022-11-20T23:49:45.623Z"
   },
   {
    "duration": 16,
    "start_time": "2022-11-20T23:49:45.639Z"
   },
   {
    "duration": 10,
    "start_time": "2022-11-20T23:49:45.656Z"
   },
   {
    "duration": 9,
    "start_time": "2022-11-20T23:49:45.668Z"
   },
   {
    "duration": 26,
    "start_time": "2022-11-20T23:49:45.678Z"
   },
   {
    "duration": 261,
    "start_time": "2022-11-20T23:49:45.706Z"
   },
   {
    "duration": 6,
    "start_time": "2022-11-20T23:49:45.969Z"
   },
   {
    "duration": 333,
    "start_time": "2022-11-20T23:49:45.976Z"
   },
   {
    "duration": 423,
    "start_time": "2022-11-20T23:49:46.311Z"
   },
   {
    "duration": 3,
    "start_time": "2022-11-20T23:49:46.736Z"
   },
   {
    "duration": 15,
    "start_time": "2022-11-20T23:49:46.740Z"
   },
   {
    "duration": 5,
    "start_time": "2022-11-20T23:49:46.756Z"
   },
   {
    "duration": 23,
    "start_time": "2022-11-20T23:49:46.763Z"
   },
   {
    "duration": 10,
    "start_time": "2022-11-20T23:49:46.787Z"
   },
   {
    "duration": 3,
    "start_time": "2022-11-20T23:49:46.799Z"
   },
   {
    "duration": 5,
    "start_time": "2022-11-20T23:49:46.803Z"
   },
   {
    "duration": 52,
    "start_time": "2022-11-20T23:49:46.810Z"
   },
   {
    "duration": 10,
    "start_time": "2022-11-20T23:49:46.864Z"
   },
   {
    "duration": 5,
    "start_time": "2022-11-20T23:49:46.876Z"
   },
   {
    "duration": 8,
    "start_time": "2022-11-20T23:49:46.883Z"
   },
   {
    "duration": 11,
    "start_time": "2022-11-20T23:49:46.892Z"
   },
   {
    "duration": 10,
    "start_time": "2022-11-20T23:49:46.904Z"
   },
   {
    "duration": 52,
    "start_time": "2022-11-20T23:49:46.915Z"
   },
   {
    "duration": 9,
    "start_time": "2022-11-20T23:49:46.970Z"
   },
   {
    "duration": 5,
    "start_time": "2022-11-20T23:49:46.981Z"
   },
   {
    "duration": 6,
    "start_time": "2022-11-20T23:49:46.988Z"
   },
   {
    "duration": 6,
    "start_time": "2022-11-20T23:49:46.995Z"
   },
   {
    "duration": 11,
    "start_time": "2022-11-20T23:49:47.003Z"
   },
   {
    "duration": 6,
    "start_time": "2022-11-20T23:49:47.016Z"
   },
   {
    "duration": 5,
    "start_time": "2022-11-20T23:49:50.643Z"
   },
   {
    "duration": 9,
    "start_time": "2022-11-20T23:51:25.462Z"
   },
   {
    "duration": 6,
    "start_time": "2022-11-20T23:53:37.120Z"
   },
   {
    "duration": 5,
    "start_time": "2022-11-20T23:53:37.653Z"
   },
   {
    "duration": 5,
    "start_time": "2022-11-20T23:53:38.163Z"
   },
   {
    "duration": 6,
    "start_time": "2022-11-20T23:53:39.742Z"
   },
   {
    "duration": 6,
    "start_time": "2022-11-20T23:55:11.176Z"
   },
   {
    "duration": 6,
    "start_time": "2022-11-20T23:55:11.650Z"
   },
   {
    "duration": 4,
    "start_time": "2022-11-20T23:55:12.024Z"
   },
   {
    "duration": 9,
    "start_time": "2022-11-20T23:55:16.304Z"
   },
   {
    "duration": 69,
    "start_time": "2022-11-20T23:55:28.853Z"
   },
   {
    "duration": 68,
    "start_time": "2022-11-20T23:55:49.943Z"
   },
   {
    "duration": 4,
    "start_time": "2022-11-20T23:55:57.591Z"
   },
   {
    "duration": 10,
    "start_time": "2022-11-20T23:56:00.759Z"
   },
   {
    "duration": 9,
    "start_time": "2022-11-20T23:56:09.063Z"
   },
   {
    "duration": 5,
    "start_time": "2022-11-20T23:57:02.953Z"
   },
   {
    "duration": 5,
    "start_time": "2022-11-20T23:57:07.197Z"
   },
   {
    "duration": 10,
    "start_time": "2022-11-20T23:57:07.533Z"
   },
   {
    "duration": 5,
    "start_time": "2022-11-20T23:57:34.015Z"
   },
   {
    "duration": 6,
    "start_time": "2022-11-20T23:57:35.942Z"
   },
   {
    "duration": 5,
    "start_time": "2022-11-20T23:57:36.240Z"
   },
   {
    "duration": 3,
    "start_time": "2022-11-20T23:57:36.489Z"
   },
   {
    "duration": 1224,
    "start_time": "2022-11-21T00:02:31.241Z"
   },
   {
    "duration": 57,
    "start_time": "2022-11-21T00:02:32.467Z"
   },
   {
    "duration": 23,
    "start_time": "2022-11-21T00:02:32.525Z"
   },
   {
    "duration": 3,
    "start_time": "2022-11-21T00:02:32.549Z"
   },
   {
    "duration": 24,
    "start_time": "2022-11-21T00:02:32.554Z"
   },
   {
    "duration": 7,
    "start_time": "2022-11-21T00:02:32.580Z"
   },
   {
    "duration": 9,
    "start_time": "2022-11-21T00:02:32.589Z"
   },
   {
    "duration": 5,
    "start_time": "2022-11-21T00:02:32.600Z"
   },
   {
    "duration": 45,
    "start_time": "2022-11-21T00:02:32.607Z"
   },
   {
    "duration": 11,
    "start_time": "2022-11-21T00:02:32.654Z"
   },
   {
    "duration": 19,
    "start_time": "2022-11-21T00:02:32.666Z"
   },
   {
    "duration": 8,
    "start_time": "2022-11-21T00:02:32.687Z"
   },
   {
    "duration": 54,
    "start_time": "2022-11-21T00:02:32.697Z"
   },
   {
    "duration": 19,
    "start_time": "2022-11-21T00:02:32.755Z"
   },
   {
    "duration": 5,
    "start_time": "2022-11-21T00:02:32.776Z"
   },
   {
    "duration": 19,
    "start_time": "2022-11-21T00:02:32.782Z"
   },
   {
    "duration": 4619,
    "start_time": "2022-11-21T00:02:32.802Z"
   },
   {
    "duration": 46,
    "start_time": "2022-11-21T00:02:37.423Z"
   },
   {
    "duration": 95,
    "start_time": "2022-11-21T00:02:37.471Z"
   },
   {
    "duration": 6,
    "start_time": "2022-11-21T00:02:37.568Z"
   },
   {
    "duration": 347,
    "start_time": "2022-11-21T00:02:37.575Z"
   },
   {
    "duration": 7,
    "start_time": "2022-11-21T00:02:37.923Z"
   },
   {
    "duration": 22,
    "start_time": "2022-11-21T00:02:37.932Z"
   },
   {
    "duration": 5,
    "start_time": "2022-11-21T00:02:37.956Z"
   },
   {
    "duration": 17,
    "start_time": "2022-11-21T00:02:37.962Z"
   },
   {
    "duration": 408,
    "start_time": "2022-11-21T00:02:37.980Z"
   },
   {
    "duration": 115,
    "start_time": "2022-11-21T00:02:38.390Z"
   },
   {
    "duration": 23,
    "start_time": "2022-11-21T00:02:38.507Z"
   },
   {
    "duration": 10,
    "start_time": "2022-11-21T00:02:38.532Z"
   },
   {
    "duration": 18,
    "start_time": "2022-11-21T00:02:38.551Z"
   },
   {
    "duration": 14,
    "start_time": "2022-11-21T00:02:38.570Z"
   },
   {
    "duration": 3,
    "start_time": "2022-11-21T00:02:38.586Z"
   },
   {
    "duration": 7,
    "start_time": "2022-11-21T00:02:38.590Z"
   },
   {
    "duration": 5,
    "start_time": "2022-11-21T00:02:38.599Z"
   },
   {
    "duration": 11,
    "start_time": "2022-11-21T00:02:38.606Z"
   },
   {
    "duration": 413,
    "start_time": "2022-11-21T00:02:38.619Z"
   },
   {
    "duration": 6,
    "start_time": "2022-11-21T00:02:39.034Z"
   },
   {
    "duration": 417,
    "start_time": "2022-11-21T00:02:39.051Z"
   },
   {
    "duration": 393,
    "start_time": "2022-11-21T00:02:39.470Z"
   },
   {
    "duration": 3,
    "start_time": "2022-11-21T00:02:39.864Z"
   },
   {
    "duration": 270,
    "start_time": "2022-11-21T00:02:39.871Z"
   },
   {
    "duration": 261,
    "start_time": "2022-11-21T00:02:40.143Z"
   },
   {
    "duration": 300,
    "start_time": "2022-11-21T00:02:40.406Z"
   },
   {
    "duration": 11,
    "start_time": "2022-11-21T00:02:40.708Z"
   },
   {
    "duration": 11,
    "start_time": "2022-11-21T00:02:40.722Z"
   },
   {
    "duration": 18,
    "start_time": "2022-11-21T00:02:40.735Z"
   },
   {
    "duration": 15,
    "start_time": "2022-11-21T00:02:40.755Z"
   },
   {
    "duration": 9,
    "start_time": "2022-11-21T00:02:40.772Z"
   },
   {
    "duration": 10,
    "start_time": "2022-11-21T00:02:40.783Z"
   },
   {
    "duration": 15,
    "start_time": "2022-11-21T00:02:40.796Z"
   },
   {
    "duration": 8,
    "start_time": "2022-11-21T00:02:40.812Z"
   },
   {
    "duration": 31,
    "start_time": "2022-11-21T00:02:40.822Z"
   },
   {
    "duration": 2,
    "start_time": "2022-11-21T00:02:40.855Z"
   },
   {
    "duration": 7,
    "start_time": "2022-11-21T00:02:40.859Z"
   },
   {
    "duration": 6,
    "start_time": "2022-11-21T00:02:40.868Z"
   },
   {
    "duration": 6,
    "start_time": "2022-11-21T00:02:40.876Z"
   },
   {
    "duration": 4,
    "start_time": "2022-11-21T00:02:40.884Z"
   },
   {
    "duration": 4,
    "start_time": "2022-11-21T00:02:40.890Z"
   },
   {
    "duration": 25,
    "start_time": "2022-11-21T00:02:40.895Z"
   },
   {
    "duration": 272,
    "start_time": "2022-11-21T00:02:40.922Z"
   },
   {
    "duration": 6,
    "start_time": "2022-11-21T00:02:41.196Z"
   },
   {
    "duration": 326,
    "start_time": "2022-11-21T00:02:41.204Z"
   },
   {
    "duration": 443,
    "start_time": "2022-11-21T00:02:41.531Z"
   },
   {
    "duration": 2,
    "start_time": "2022-11-21T00:02:41.976Z"
   },
   {
    "duration": 6,
    "start_time": "2022-11-21T00:02:41.980Z"
   },
   {
    "duration": 8,
    "start_time": "2022-11-21T00:02:41.987Z"
   },
   {
    "duration": 23,
    "start_time": "2022-11-21T00:02:41.996Z"
   },
   {
    "duration": 32,
    "start_time": "2022-11-21T00:02:42.020Z"
   },
   {
    "duration": 5,
    "start_time": "2022-11-21T00:02:42.053Z"
   },
   {
    "duration": 6,
    "start_time": "2022-11-21T00:02:42.060Z"
   },
   {
    "duration": 24,
    "start_time": "2022-11-21T00:02:42.068Z"
   },
   {
    "duration": 10,
    "start_time": "2022-11-21T00:02:42.094Z"
   },
   {
    "duration": 5,
    "start_time": "2022-11-21T00:02:42.106Z"
   },
   {
    "duration": 11,
    "start_time": "2022-11-21T00:02:42.113Z"
   },
   {
    "duration": 12,
    "start_time": "2022-11-21T00:02:42.152Z"
   },
   {
    "duration": 42,
    "start_time": "2022-11-21T00:02:42.166Z"
   },
   {
    "duration": 27,
    "start_time": "2022-11-21T00:02:42.209Z"
   },
   {
    "duration": 28,
    "start_time": "2022-11-21T00:02:42.238Z"
   },
   {
    "duration": 0,
    "start_time": "2022-11-21T00:02:42.268Z"
   },
   {
    "duration": 9,
    "start_time": "2022-11-21T00:02:59.704Z"
   },
   {
    "duration": 9,
    "start_time": "2022-11-21T00:03:01.795Z"
   },
   {
    "duration": 8,
    "start_time": "2022-11-21T00:03:11.968Z"
   },
   {
    "duration": 2,
    "start_time": "2022-11-21T00:04:51.760Z"
   },
   {
    "duration": 8,
    "start_time": "2022-11-21T00:04:52.860Z"
   },
   {
    "duration": 11,
    "start_time": "2022-11-21T00:04:53.161Z"
   },
   {
    "duration": 224,
    "start_time": "2022-11-21T00:04:57.353Z"
   },
   {
    "duration": 9,
    "start_time": "2022-11-21T00:06:10.142Z"
   },
   {
    "duration": 6,
    "start_time": "2022-11-21T00:06:13.284Z"
   },
   {
    "duration": 6,
    "start_time": "2022-11-21T00:07:19.552Z"
   },
   {
    "duration": 236,
    "start_time": "2022-11-21T00:07:24.023Z"
   },
   {
    "duration": 12,
    "start_time": "2022-11-21T00:12:13.246Z"
   },
   {
    "duration": 13,
    "start_time": "2022-11-21T00:12:16.992Z"
   },
   {
    "duration": 22,
    "start_time": "2022-11-21T00:16:14.395Z"
   },
   {
    "duration": 22,
    "start_time": "2022-11-21T00:24:36.129Z"
   },
   {
    "duration": 10,
    "start_time": "2022-11-21T00:24:39.480Z"
   },
   {
    "duration": 3,
    "start_time": "2022-11-21T00:24:39.829Z"
   },
   {
    "duration": 5,
    "start_time": "2022-11-21T00:24:40.056Z"
   },
   {
    "duration": 23,
    "start_time": "2022-11-21T00:24:40.313Z"
   },
   {
    "duration": 11,
    "start_time": "2022-11-21T00:24:40.908Z"
   },
   {
    "duration": 6,
    "start_time": "2022-11-21T00:24:41.120Z"
   },
   {
    "duration": 4,
    "start_time": "2022-11-21T00:24:41.299Z"
   },
   {
    "duration": 10,
    "start_time": "2022-11-21T00:24:41.680Z"
   },
   {
    "duration": 11,
    "start_time": "2022-11-21T00:24:41.871Z"
   },
   {
    "duration": 22,
    "start_time": "2022-11-21T00:24:43.560Z"
   },
   {
    "duration": 2,
    "start_time": "2022-11-21T00:24:48.588Z"
   },
   {
    "duration": 8,
    "start_time": "2022-11-21T00:24:48.861Z"
   },
   {
    "duration": 8,
    "start_time": "2022-11-21T00:24:50.482Z"
   },
   {
    "duration": 211,
    "start_time": "2022-11-21T00:24:53.127Z"
   },
   {
    "duration": 9,
    "start_time": "2022-11-21T00:24:58.325Z"
   },
   {
    "duration": 5,
    "start_time": "2022-11-21T00:25:00.416Z"
   },
   {
    "duration": 229,
    "start_time": "2022-11-21T00:25:26.533Z"
   },
   {
    "duration": 1157,
    "start_time": "2022-11-21T21:15:27.079Z"
   },
   {
    "duration": 49,
    "start_time": "2022-11-21T21:15:28.238Z"
   },
   {
    "duration": 21,
    "start_time": "2022-11-21T21:15:28.289Z"
   },
   {
    "duration": 3,
    "start_time": "2022-11-21T21:15:28.312Z"
   },
   {
    "duration": 35,
    "start_time": "2022-11-21T21:15:28.317Z"
   },
   {
    "duration": 10,
    "start_time": "2022-11-21T21:15:28.354Z"
   },
   {
    "duration": 9,
    "start_time": "2022-11-21T21:15:28.366Z"
   },
   {
    "duration": 7,
    "start_time": "2022-11-21T21:15:28.376Z"
   },
   {
    "duration": 20,
    "start_time": "2022-11-21T21:15:28.384Z"
   },
   {
    "duration": 16,
    "start_time": "2022-11-21T21:15:28.406Z"
   },
   {
    "duration": 17,
    "start_time": "2022-11-21T21:15:28.423Z"
   },
   {
    "duration": 336,
    "start_time": "2022-11-21T21:15:28.441Z"
   },
   {
    "duration": 22,
    "start_time": "2022-11-21T21:15:28.779Z"
   },
   {
    "duration": 16,
    "start_time": "2022-11-21T21:15:28.804Z"
   },
   {
    "duration": 5,
    "start_time": "2022-11-21T21:15:28.822Z"
   },
   {
    "duration": 25,
    "start_time": "2022-11-21T21:15:28.829Z"
   },
   {
    "duration": 4489,
    "start_time": "2022-11-21T21:15:28.856Z"
   },
   {
    "duration": 38,
    "start_time": "2022-11-21T21:15:33.346Z"
   },
   {
    "duration": 92,
    "start_time": "2022-11-21T21:15:33.386Z"
   },
   {
    "duration": 6,
    "start_time": "2022-11-21T21:15:33.480Z"
   },
   {
    "duration": 340,
    "start_time": "2022-11-21T21:15:33.488Z"
   },
   {
    "duration": 8,
    "start_time": "2022-11-21T21:15:33.830Z"
   },
   {
    "duration": 18,
    "start_time": "2022-11-21T21:15:33.841Z"
   },
   {
    "duration": 6,
    "start_time": "2022-11-21T21:15:33.861Z"
   },
   {
    "duration": 25,
    "start_time": "2022-11-21T21:15:33.869Z"
   },
   {
    "duration": 441,
    "start_time": "2022-11-21T21:15:33.896Z"
   },
   {
    "duration": 119,
    "start_time": "2022-11-21T21:15:34.338Z"
   },
   {
    "duration": 22,
    "start_time": "2022-11-21T21:15:34.459Z"
   },
   {
    "duration": 20,
    "start_time": "2022-11-21T21:15:34.483Z"
   },
   {
    "duration": 23,
    "start_time": "2022-11-21T21:15:34.506Z"
   },
   {
    "duration": 27,
    "start_time": "2022-11-21T21:15:34.531Z"
   },
   {
    "duration": 15,
    "start_time": "2022-11-21T21:15:34.559Z"
   },
   {
    "duration": 22,
    "start_time": "2022-11-21T21:15:34.576Z"
   },
   {
    "duration": 16,
    "start_time": "2022-11-21T21:15:34.600Z"
   },
   {
    "duration": 18,
    "start_time": "2022-11-21T21:15:34.618Z"
   },
   {
    "duration": 390,
    "start_time": "2022-11-21T21:15:34.638Z"
   },
   {
    "duration": 6,
    "start_time": "2022-11-21T21:15:35.029Z"
   },
   {
    "duration": 392,
    "start_time": "2022-11-21T21:15:35.036Z"
   },
   {
    "duration": 319,
    "start_time": "2022-11-21T21:15:35.430Z"
   },
   {
    "duration": 3,
    "start_time": "2022-11-21T21:15:35.750Z"
   },
   {
    "duration": 308,
    "start_time": "2022-11-21T21:15:35.757Z"
   },
   {
    "duration": 226,
    "start_time": "2022-11-21T21:15:36.066Z"
   },
   {
    "duration": 274,
    "start_time": "2022-11-21T21:15:36.295Z"
   },
   {
    "duration": 10,
    "start_time": "2022-11-21T21:15:36.571Z"
   },
   {
    "duration": 11,
    "start_time": "2022-11-21T21:15:36.582Z"
   },
   {
    "duration": 9,
    "start_time": "2022-11-21T21:15:36.594Z"
   },
   {
    "duration": 24,
    "start_time": "2022-11-21T21:15:36.604Z"
   },
   {
    "duration": 9,
    "start_time": "2022-11-21T21:15:36.630Z"
   },
   {
    "duration": 8,
    "start_time": "2022-11-21T21:15:36.641Z"
   },
   {
    "duration": 19,
    "start_time": "2022-11-21T21:15:36.651Z"
   },
   {
    "duration": 12,
    "start_time": "2022-11-21T21:15:36.672Z"
   },
   {
    "duration": 13,
    "start_time": "2022-11-21T21:15:36.686Z"
   },
   {
    "duration": 19,
    "start_time": "2022-11-21T21:15:36.702Z"
   },
   {
    "duration": 6,
    "start_time": "2022-11-21T21:15:36.724Z"
   },
   {
    "duration": 11,
    "start_time": "2022-11-21T21:15:36.732Z"
   },
   {
    "duration": 9,
    "start_time": "2022-11-21T21:15:36.746Z"
   },
   {
    "duration": 5,
    "start_time": "2022-11-21T21:15:36.758Z"
   },
   {
    "duration": 7,
    "start_time": "2022-11-21T21:15:36.766Z"
   },
   {
    "duration": 26,
    "start_time": "2022-11-21T21:15:36.775Z"
   },
   {
    "duration": 259,
    "start_time": "2022-11-21T21:15:36.803Z"
   },
   {
    "duration": 7,
    "start_time": "2022-11-21T21:15:37.064Z"
   },
   {
    "duration": 321,
    "start_time": "2022-11-21T21:15:37.073Z"
   },
   {
    "duration": 479,
    "start_time": "2022-11-21T21:15:37.396Z"
   },
   {
    "duration": 2,
    "start_time": "2022-11-21T21:15:37.877Z"
   },
   {
    "duration": 36,
    "start_time": "2022-11-21T21:15:37.881Z"
   },
   {
    "duration": 30,
    "start_time": "2022-11-21T21:15:37.920Z"
   },
   {
    "duration": 45,
    "start_time": "2022-11-21T21:15:37.952Z"
   },
   {
    "duration": 27,
    "start_time": "2022-11-21T21:15:37.999Z"
   },
   {
    "duration": 16,
    "start_time": "2022-11-21T21:15:38.029Z"
   },
   {
    "duration": 39,
    "start_time": "2022-11-21T21:15:38.047Z"
   },
   {
    "duration": 74,
    "start_time": "2022-11-21T21:15:38.088Z"
   },
   {
    "duration": 12,
    "start_time": "2022-11-21T21:15:38.164Z"
   },
   {
    "duration": 39,
    "start_time": "2022-11-21T21:15:38.178Z"
   },
   {
    "duration": 32,
    "start_time": "2022-11-21T21:15:38.219Z"
   },
   {
    "duration": 32,
    "start_time": "2022-11-21T21:15:38.253Z"
   },
   {
    "duration": 43,
    "start_time": "2022-11-21T21:15:38.287Z"
   },
   {
    "duration": 44,
    "start_time": "2022-11-21T21:15:38.332Z"
   },
   {
    "duration": 35,
    "start_time": "2022-11-21T21:15:38.378Z"
   },
   {
    "duration": 30,
    "start_time": "2022-11-21T21:15:38.415Z"
   },
   {
    "duration": 17,
    "start_time": "2022-11-21T21:15:38.447Z"
   },
   {
    "duration": 251,
    "start_time": "2022-11-21T21:15:38.466Z"
   },
   {
    "duration": 10,
    "start_time": "2022-11-21T21:15:38.719Z"
   },
   {
    "duration": 29,
    "start_time": "2022-11-21T21:15:38.731Z"
   },
   {
    "duration": 234,
    "start_time": "2022-11-21T21:15:38.762Z"
   }
  ],
  "kernelspec": {
   "display_name": "Python 3 (ipykernel)",
   "language": "python",
   "name": "python3"
  },
  "language_info": {
   "codemirror_mode": {
    "name": "ipython",
    "version": 3
   },
   "file_extension": ".py",
   "mimetype": "text/x-python",
   "name": "python",
   "nbconvert_exporter": "python",
   "pygments_lexer": "ipython3",
   "version": "3.10.0"
  },
  "toc": {
   "base_numbering": 1,
   "nav_menu": {},
   "number_sections": true,
   "sideBar": true,
   "skip_h1_title": true,
   "title_cell": "Table of Contents",
   "title_sidebar": "Contents",
   "toc_cell": false,
   "toc_position": {
    "height": "calc(100% - 180px)",
    "left": "10px",
    "top": "150px",
    "width": "165px"
   },
   "toc_section_display": true,
   "toc_window_display": true
  }
 },
 "nbformat": 4,
 "nbformat_minor": 2
}
